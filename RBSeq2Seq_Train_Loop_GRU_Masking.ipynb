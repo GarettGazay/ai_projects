{
  "nbformat": 4,
  "nbformat_minor": 0,
  "metadata": {
    "colab": {
      "provenance": [],
      "mount_file_id": "1YYojrDDX66P7NNFwnoqnppI4t4qMlys8",
      "authorship_tag": "ABX9TyMPmueyPF04Lly73VHrUoeC",
      "include_colab_link": true
    },
    "kernelspec": {
      "name": "python3",
      "display_name": "Python 3"
    },
    "language_info": {
      "name": "python"
    },
    "gpuClass": "standard",
    "accelerator": "GPU"
  },
  "cells": [
    {
      "cell_type": "markdown",
      "metadata": {
        "id": "view-in-github",
        "colab_type": "text"
      },
      "source": [
        "<a href=\"https://colab.research.google.com/github/GarettGazay/ai_projects/blob/master/RBSeq2Seq_Train_Loop_GRU_Masking.ipynb\" target=\"_parent\"><img src=\"https://colab.research.google.com/assets/colab-badge.svg\" alt=\"Open In Colab\"/></a>"
      ]
    },
    {
      "cell_type": "markdown",
      "source": [
        "I will use the entire day of rides and the target asset rides to train the model on the target asset but still give provide the dimensionality to the model which will allow for variable length inputs so a model can be trained for each asset, and be able to take rides from the day of rides and output it's selection from it. This model cloned for other assets should produce a schedule where the no dispatcher needed to be involved to schedule 99% of the rides. Later, human dispatchers can alter the rides so that the model continues to learn from humans in real time, giving the model even more precision and generalization capabilities with rides it's never seen."
      ],
      "metadata": {
        "id": "mooDF4xZzBV2"
      }
    },
    {
      "cell_type": "code",
      "execution_count": 1,
      "metadata": {
        "id": "CofSU91rN0tQ"
      },
      "outputs": [],
      "source": [
        "import tensorflow as tf\n",
        "from tensorflow import keras\n",
        "from keras.models import Sequential\n",
        "from keras.layers import LSTM, Dense\n",
        "from sklearn.model_selection import train_test_split\n",
        "import numpy as np\n",
        "import pandas as pd\n",
        "import time"
      ]
    },
    {
      "cell_type": "code",
      "source": [
        "rides = pd.read_csv('/content/run_103.csv')"
      ],
      "metadata": {
        "id": "dHTOk2lyN8H6"
      },
      "execution_count": 2,
      "outputs": []
    },
    {
      "cell_type": "code",
      "source": [
        "rides = rides.drop(['Unnamed: 0',\n",
        "                    'order',\n",
        "                    'rider.first_name',\n",
        "                    'rider.last_name',\n",
        "                    'pickup.event_location.address1',\n",
        "                    'dropoff.event_location.address1',\n",
        "                    'run_name_id',\n",
        "                    'pickup_time',\n",
        "                    ], axis=1)\n"
      ],
      "metadata": {
        "id": "3E_WYqzmOmuR"
      },
      "execution_count": 3,
      "outputs": []
    },
    {
      "cell_type": "code",
      "source": [
        "rides.head()"
      ],
      "metadata": {
        "colab": {
          "base_uri": "https://localhost:8080/",
          "height": 270
        },
        "id": "r84oLFbQE_vl",
        "outputId": "34efdf20-6256-4f39-9f48-0390597071be"
      },
      "execution_count": 4,
      "outputs": [
        {
          "output_type": "execute_result",
          "data": {
            "text/plain": [
              "   space_type  billable_distance  run_name  rider.mediroutes_rider_id  \\\n",
              "0    1.000000           0.020619       0.0                   0.045455   \n",
              "1    0.333333           0.005055       0.0                   0.257576   \n",
              "2    1.000000           0.007725       0.0                   0.515151   \n",
              "3    0.333333           0.062177       0.0                   0.272727   \n",
              "4    0.333333           0.013177       0.0                   0.151515   \n",
              "\n",
              "   pickup.event_location.zip  pickup.event_location.longitude  \\\n",
              "0                   0.300000                        -0.996971   \n",
              "1                   0.600000                        -0.996493   \n",
              "2                   0.600000                        -0.996372   \n",
              "3                   0.333333                        -0.993221   \n",
              "4                   0.466667                        -0.995843   \n",
              "\n",
              "   pickup.event_location.latitude  dropoff.event_location.zip  \\\n",
              "0                        0.993242                     0.03125   \n",
              "1                        0.993262                     0.81250   \n",
              "2                        0.992653                     0.81250   \n",
              "3                        0.985946                     0.59375   \n",
              "4                        0.993297                     0.81250   \n",
              "\n",
              "   dropoff.event_location.longitude  dropoff.event_location.latitude  \\\n",
              "0                         -0.997400                         0.994884   \n",
              "1                         -0.996241                         0.993313   \n",
              "2                         -0.996193                         0.992977   \n",
              "3                         -0.994925                         0.990800   \n",
              "4                         -0.996241                         0.993314   \n",
              "\n",
              "   pickup_month  pickup_day  pickup_hour  pickup_minute  \n",
              "0           1.0         2.0     0.000000       1.000000  \n",
              "1           1.0         2.0     0.083333       0.333333  \n",
              "2           1.0         2.0     0.166667       0.000000  \n",
              "3           1.0         2.0     0.333333       0.000000  \n",
              "4           1.0         2.0     0.416667       0.000000  "
            ],
            "text/html": [
              "\n",
              "  <div id=\"df-d79faa0f-cdb7-4458-a9fe-05c4de4ffa72\">\n",
              "    <div class=\"colab-df-container\">\n",
              "      <div>\n",
              "<style scoped>\n",
              "    .dataframe tbody tr th:only-of-type {\n",
              "        vertical-align: middle;\n",
              "    }\n",
              "\n",
              "    .dataframe tbody tr th {\n",
              "        vertical-align: top;\n",
              "    }\n",
              "\n",
              "    .dataframe thead th {\n",
              "        text-align: right;\n",
              "    }\n",
              "</style>\n",
              "<table border=\"1\" class=\"dataframe\">\n",
              "  <thead>\n",
              "    <tr style=\"text-align: right;\">\n",
              "      <th></th>\n",
              "      <th>space_type</th>\n",
              "      <th>billable_distance</th>\n",
              "      <th>run_name</th>\n",
              "      <th>rider.mediroutes_rider_id</th>\n",
              "      <th>pickup.event_location.zip</th>\n",
              "      <th>pickup.event_location.longitude</th>\n",
              "      <th>pickup.event_location.latitude</th>\n",
              "      <th>dropoff.event_location.zip</th>\n",
              "      <th>dropoff.event_location.longitude</th>\n",
              "      <th>dropoff.event_location.latitude</th>\n",
              "      <th>pickup_month</th>\n",
              "      <th>pickup_day</th>\n",
              "      <th>pickup_hour</th>\n",
              "      <th>pickup_minute</th>\n",
              "    </tr>\n",
              "  </thead>\n",
              "  <tbody>\n",
              "    <tr>\n",
              "      <th>0</th>\n",
              "      <td>1.000000</td>\n",
              "      <td>0.020619</td>\n",
              "      <td>0.0</td>\n",
              "      <td>0.045455</td>\n",
              "      <td>0.300000</td>\n",
              "      <td>-0.996971</td>\n",
              "      <td>0.993242</td>\n",
              "      <td>0.03125</td>\n",
              "      <td>-0.997400</td>\n",
              "      <td>0.994884</td>\n",
              "      <td>1.0</td>\n",
              "      <td>2.0</td>\n",
              "      <td>0.000000</td>\n",
              "      <td>1.000000</td>\n",
              "    </tr>\n",
              "    <tr>\n",
              "      <th>1</th>\n",
              "      <td>0.333333</td>\n",
              "      <td>0.005055</td>\n",
              "      <td>0.0</td>\n",
              "      <td>0.257576</td>\n",
              "      <td>0.600000</td>\n",
              "      <td>-0.996493</td>\n",
              "      <td>0.993262</td>\n",
              "      <td>0.81250</td>\n",
              "      <td>-0.996241</td>\n",
              "      <td>0.993313</td>\n",
              "      <td>1.0</td>\n",
              "      <td>2.0</td>\n",
              "      <td>0.083333</td>\n",
              "      <td>0.333333</td>\n",
              "    </tr>\n",
              "    <tr>\n",
              "      <th>2</th>\n",
              "      <td>1.000000</td>\n",
              "      <td>0.007725</td>\n",
              "      <td>0.0</td>\n",
              "      <td>0.515151</td>\n",
              "      <td>0.600000</td>\n",
              "      <td>-0.996372</td>\n",
              "      <td>0.992653</td>\n",
              "      <td>0.81250</td>\n",
              "      <td>-0.996193</td>\n",
              "      <td>0.992977</td>\n",
              "      <td>1.0</td>\n",
              "      <td>2.0</td>\n",
              "      <td>0.166667</td>\n",
              "      <td>0.000000</td>\n",
              "    </tr>\n",
              "    <tr>\n",
              "      <th>3</th>\n",
              "      <td>0.333333</td>\n",
              "      <td>0.062177</td>\n",
              "      <td>0.0</td>\n",
              "      <td>0.272727</td>\n",
              "      <td>0.333333</td>\n",
              "      <td>-0.993221</td>\n",
              "      <td>0.985946</td>\n",
              "      <td>0.59375</td>\n",
              "      <td>-0.994925</td>\n",
              "      <td>0.990800</td>\n",
              "      <td>1.0</td>\n",
              "      <td>2.0</td>\n",
              "      <td>0.333333</td>\n",
              "      <td>0.000000</td>\n",
              "    </tr>\n",
              "    <tr>\n",
              "      <th>4</th>\n",
              "      <td>0.333333</td>\n",
              "      <td>0.013177</td>\n",
              "      <td>0.0</td>\n",
              "      <td>0.151515</td>\n",
              "      <td>0.466667</td>\n",
              "      <td>-0.995843</td>\n",
              "      <td>0.993297</td>\n",
              "      <td>0.81250</td>\n",
              "      <td>-0.996241</td>\n",
              "      <td>0.993314</td>\n",
              "      <td>1.0</td>\n",
              "      <td>2.0</td>\n",
              "      <td>0.416667</td>\n",
              "      <td>0.000000</td>\n",
              "    </tr>\n",
              "  </tbody>\n",
              "</table>\n",
              "</div>\n",
              "      <button class=\"colab-df-convert\" onclick=\"convertToInteractive('df-d79faa0f-cdb7-4458-a9fe-05c4de4ffa72')\"\n",
              "              title=\"Convert this dataframe to an interactive table.\"\n",
              "              style=\"display:none;\">\n",
              "        \n",
              "  <svg xmlns=\"http://www.w3.org/2000/svg\" height=\"24px\"viewBox=\"0 0 24 24\"\n",
              "       width=\"24px\">\n",
              "    <path d=\"M0 0h24v24H0V0z\" fill=\"none\"/>\n",
              "    <path d=\"M18.56 5.44l.94 2.06.94-2.06 2.06-.94-2.06-.94-.94-2.06-.94 2.06-2.06.94zm-11 1L8.5 8.5l.94-2.06 2.06-.94-2.06-.94L8.5 2.5l-.94 2.06-2.06.94zm10 10l.94 2.06.94-2.06 2.06-.94-2.06-.94-.94-2.06-.94 2.06-2.06.94z\"/><path d=\"M17.41 7.96l-1.37-1.37c-.4-.4-.92-.59-1.43-.59-.52 0-1.04.2-1.43.59L10.3 9.45l-7.72 7.72c-.78.78-.78 2.05 0 2.83L4 21.41c.39.39.9.59 1.41.59.51 0 1.02-.2 1.41-.59l7.78-7.78 2.81-2.81c.8-.78.8-2.07 0-2.86zM5.41 20L4 18.59l7.72-7.72 1.47 1.35L5.41 20z\"/>\n",
              "  </svg>\n",
              "      </button>\n",
              "      \n",
              "  <style>\n",
              "    .colab-df-container {\n",
              "      display:flex;\n",
              "      flex-wrap:wrap;\n",
              "      gap: 12px;\n",
              "    }\n",
              "\n",
              "    .colab-df-convert {\n",
              "      background-color: #E8F0FE;\n",
              "      border: none;\n",
              "      border-radius: 50%;\n",
              "      cursor: pointer;\n",
              "      display: none;\n",
              "      fill: #1967D2;\n",
              "      height: 32px;\n",
              "      padding: 0 0 0 0;\n",
              "      width: 32px;\n",
              "    }\n",
              "\n",
              "    .colab-df-convert:hover {\n",
              "      background-color: #E2EBFA;\n",
              "      box-shadow: 0px 1px 2px rgba(60, 64, 67, 0.3), 0px 1px 3px 1px rgba(60, 64, 67, 0.15);\n",
              "      fill: #174EA6;\n",
              "    }\n",
              "\n",
              "    [theme=dark] .colab-df-convert {\n",
              "      background-color: #3B4455;\n",
              "      fill: #D2E3FC;\n",
              "    }\n",
              "\n",
              "    [theme=dark] .colab-df-convert:hover {\n",
              "      background-color: #434B5C;\n",
              "      box-shadow: 0px 1px 3px 1px rgba(0, 0, 0, 0.15);\n",
              "      filter: drop-shadow(0px 1px 2px rgba(0, 0, 0, 0.3));\n",
              "      fill: #FFFFFF;\n",
              "    }\n",
              "  </style>\n",
              "\n",
              "      <script>\n",
              "        const buttonEl =\n",
              "          document.querySelector('#df-d79faa0f-cdb7-4458-a9fe-05c4de4ffa72 button.colab-df-convert');\n",
              "        buttonEl.style.display =\n",
              "          google.colab.kernel.accessAllowed ? 'block' : 'none';\n",
              "\n",
              "        async function convertToInteractive(key) {\n",
              "          const element = document.querySelector('#df-d79faa0f-cdb7-4458-a9fe-05c4de4ffa72');\n",
              "          const dataTable =\n",
              "            await google.colab.kernel.invokeFunction('convertToInteractive',\n",
              "                                                     [key], {});\n",
              "          if (!dataTable) return;\n",
              "\n",
              "          const docLinkHtml = 'Like what you see? Visit the ' +\n",
              "            '<a target=\"_blank\" href=https://colab.research.google.com/notebooks/data_table.ipynb>data table notebook</a>'\n",
              "            + ' to learn more about interactive tables.';\n",
              "          element.innerHTML = '';\n",
              "          dataTable['output_type'] = 'display_data';\n",
              "          await google.colab.output.renderOutput(dataTable, element);\n",
              "          const docLink = document.createElement('div');\n",
              "          docLink.innerHTML = docLinkHtml;\n",
              "          element.appendChild(docLink);\n",
              "        }\n",
              "      </script>\n",
              "    </div>\n",
              "  </div>\n",
              "  "
            ]
          },
          "metadata": {},
          "execution_count": 4
        }
      ]
    },
    {
      "cell_type": "code",
      "source": [
        "rides = rides.astype('float32')\n",
        "rides['run_name'] = rides['run_name'].astype(int)"
      ],
      "metadata": {
        "id": "5rDhFO1OfzGU"
      },
      "execution_count": 5,
      "outputs": []
    },
    {
      "cell_type": "code",
      "source": [
        "# Count the number of NaN values in each column\n",
        "nan_counts = rides.isna().sum()\n",
        "\n",
        "# Display the count of NaN values for each column\n",
        "print(nan_counts)"
      ],
      "metadata": {
        "colab": {
          "base_uri": "https://localhost:8080/"
        },
        "id": "xT45EYbtA8DC",
        "outputId": "eed8ad4f-8fa1-44c3-c55f-84815af1d131"
      },
      "execution_count": 6,
      "outputs": [
        {
          "output_type": "stream",
          "name": "stdout",
          "text": [
            "space_type                          0\n",
            "billable_distance                   0\n",
            "run_name                            0\n",
            "rider.mediroutes_rider_id           0\n",
            "pickup.event_location.zip           0\n",
            "pickup.event_location.longitude     0\n",
            "pickup.event_location.latitude      0\n",
            "dropoff.event_location.zip          0\n",
            "dropoff.event_location.longitude    0\n",
            "dropoff.event_location.latitude     0\n",
            "pickup_month                        0\n",
            "pickup_day                          0\n",
            "pickup_hour                         0\n",
            "pickup_minute                       0\n",
            "dtype: int64\n"
          ]
        }
      ]
    },
    {
      "cell_type": "code",
      "source": [
        "rides.fillna(0, inplace=True)"
      ],
      "metadata": {
        "id": "LIMduNzpAjSr"
      },
      "execution_count": 7,
      "outputs": []
    },
    {
      "cell_type": "code",
      "source": [
        "rides.dtypes"
      ],
      "metadata": {
        "colab": {
          "base_uri": "https://localhost:8080/"
        },
        "id": "Lr3bpD9Wf77V",
        "outputId": "66247097-5c43-4799-d8d4-f6e29b85606e"
      },
      "execution_count": 8,
      "outputs": [
        {
          "output_type": "execute_result",
          "data": {
            "text/plain": [
              "space_type                          float32\n",
              "billable_distance                   float32\n",
              "run_name                              int64\n",
              "rider.mediroutes_rider_id           float32\n",
              "pickup.event_location.zip           float32\n",
              "pickup.event_location.longitude     float32\n",
              "pickup.event_location.latitude      float32\n",
              "dropoff.event_location.zip          float32\n",
              "dropoff.event_location.longitude    float32\n",
              "dropoff.event_location.latitude     float32\n",
              "pickup_month                        float32\n",
              "pickup_day                          float32\n",
              "pickup_hour                         float32\n",
              "pickup_minute                       float32\n",
              "dtype: object"
            ]
          },
          "metadata": {},
          "execution_count": 8
        }
      ]
    },
    {
      "cell_type": "code",
      "source": [
        "rides.head()"
      ],
      "metadata": {
        "colab": {
          "base_uri": "https://localhost:8080/",
          "height": 270
        },
        "id": "l8sXH1M0gB9B",
        "outputId": "16b12d92-636a-4212-c898-51f59da44518"
      },
      "execution_count": 9,
      "outputs": [
        {
          "output_type": "execute_result",
          "data": {
            "text/plain": [
              "   space_type  billable_distance  run_name  rider.mediroutes_rider_id  \\\n",
              "0    1.000000           0.020619         0                   0.045455   \n",
              "1    0.333333           0.005055         0                   0.257576   \n",
              "2    1.000000           0.007725         0                   0.515152   \n",
              "3    0.333333           0.062177         0                   0.272727   \n",
              "4    0.333333           0.013177         0                   0.151515   \n",
              "\n",
              "   pickup.event_location.zip  pickup.event_location.longitude  \\\n",
              "0                   0.300000                        -0.996971   \n",
              "1                   0.600000                        -0.996493   \n",
              "2                   0.600000                        -0.996372   \n",
              "3                   0.333333                        -0.993221   \n",
              "4                   0.466667                        -0.995843   \n",
              "\n",
              "   pickup.event_location.latitude  dropoff.event_location.zip  \\\n",
              "0                        0.993242                     0.03125   \n",
              "1                        0.993262                     0.81250   \n",
              "2                        0.992653                     0.81250   \n",
              "3                        0.985946                     0.59375   \n",
              "4                        0.993297                     0.81250   \n",
              "\n",
              "   dropoff.event_location.longitude  dropoff.event_location.latitude  \\\n",
              "0                         -0.997400                         0.994884   \n",
              "1                         -0.996241                         0.993313   \n",
              "2                         -0.996193                         0.992977   \n",
              "3                         -0.994925                         0.990800   \n",
              "4                         -0.996241                         0.993314   \n",
              "\n",
              "   pickup_month  pickup_day  pickup_hour  pickup_minute  \n",
              "0           1.0         2.0     0.000000       1.000000  \n",
              "1           1.0         2.0     0.083333       0.333333  \n",
              "2           1.0         2.0     0.166667       0.000000  \n",
              "3           1.0         2.0     0.333333       0.000000  \n",
              "4           1.0         2.0     0.416667       0.000000  "
            ],
            "text/html": [
              "\n",
              "  <div id=\"df-70d94bf5-3376-4e27-9a47-96a0f051c615\">\n",
              "    <div class=\"colab-df-container\">\n",
              "      <div>\n",
              "<style scoped>\n",
              "    .dataframe tbody tr th:only-of-type {\n",
              "        vertical-align: middle;\n",
              "    }\n",
              "\n",
              "    .dataframe tbody tr th {\n",
              "        vertical-align: top;\n",
              "    }\n",
              "\n",
              "    .dataframe thead th {\n",
              "        text-align: right;\n",
              "    }\n",
              "</style>\n",
              "<table border=\"1\" class=\"dataframe\">\n",
              "  <thead>\n",
              "    <tr style=\"text-align: right;\">\n",
              "      <th></th>\n",
              "      <th>space_type</th>\n",
              "      <th>billable_distance</th>\n",
              "      <th>run_name</th>\n",
              "      <th>rider.mediroutes_rider_id</th>\n",
              "      <th>pickup.event_location.zip</th>\n",
              "      <th>pickup.event_location.longitude</th>\n",
              "      <th>pickup.event_location.latitude</th>\n",
              "      <th>dropoff.event_location.zip</th>\n",
              "      <th>dropoff.event_location.longitude</th>\n",
              "      <th>dropoff.event_location.latitude</th>\n",
              "      <th>pickup_month</th>\n",
              "      <th>pickup_day</th>\n",
              "      <th>pickup_hour</th>\n",
              "      <th>pickup_minute</th>\n",
              "    </tr>\n",
              "  </thead>\n",
              "  <tbody>\n",
              "    <tr>\n",
              "      <th>0</th>\n",
              "      <td>1.000000</td>\n",
              "      <td>0.020619</td>\n",
              "      <td>0</td>\n",
              "      <td>0.045455</td>\n",
              "      <td>0.300000</td>\n",
              "      <td>-0.996971</td>\n",
              "      <td>0.993242</td>\n",
              "      <td>0.03125</td>\n",
              "      <td>-0.997400</td>\n",
              "      <td>0.994884</td>\n",
              "      <td>1.0</td>\n",
              "      <td>2.0</td>\n",
              "      <td>0.000000</td>\n",
              "      <td>1.000000</td>\n",
              "    </tr>\n",
              "    <tr>\n",
              "      <th>1</th>\n",
              "      <td>0.333333</td>\n",
              "      <td>0.005055</td>\n",
              "      <td>0</td>\n",
              "      <td>0.257576</td>\n",
              "      <td>0.600000</td>\n",
              "      <td>-0.996493</td>\n",
              "      <td>0.993262</td>\n",
              "      <td>0.81250</td>\n",
              "      <td>-0.996241</td>\n",
              "      <td>0.993313</td>\n",
              "      <td>1.0</td>\n",
              "      <td>2.0</td>\n",
              "      <td>0.083333</td>\n",
              "      <td>0.333333</td>\n",
              "    </tr>\n",
              "    <tr>\n",
              "      <th>2</th>\n",
              "      <td>1.000000</td>\n",
              "      <td>0.007725</td>\n",
              "      <td>0</td>\n",
              "      <td>0.515152</td>\n",
              "      <td>0.600000</td>\n",
              "      <td>-0.996372</td>\n",
              "      <td>0.992653</td>\n",
              "      <td>0.81250</td>\n",
              "      <td>-0.996193</td>\n",
              "      <td>0.992977</td>\n",
              "      <td>1.0</td>\n",
              "      <td>2.0</td>\n",
              "      <td>0.166667</td>\n",
              "      <td>0.000000</td>\n",
              "    </tr>\n",
              "    <tr>\n",
              "      <th>3</th>\n",
              "      <td>0.333333</td>\n",
              "      <td>0.062177</td>\n",
              "      <td>0</td>\n",
              "      <td>0.272727</td>\n",
              "      <td>0.333333</td>\n",
              "      <td>-0.993221</td>\n",
              "      <td>0.985946</td>\n",
              "      <td>0.59375</td>\n",
              "      <td>-0.994925</td>\n",
              "      <td>0.990800</td>\n",
              "      <td>1.0</td>\n",
              "      <td>2.0</td>\n",
              "      <td>0.333333</td>\n",
              "      <td>0.000000</td>\n",
              "    </tr>\n",
              "    <tr>\n",
              "      <th>4</th>\n",
              "      <td>0.333333</td>\n",
              "      <td>0.013177</td>\n",
              "      <td>0</td>\n",
              "      <td>0.151515</td>\n",
              "      <td>0.466667</td>\n",
              "      <td>-0.995843</td>\n",
              "      <td>0.993297</td>\n",
              "      <td>0.81250</td>\n",
              "      <td>-0.996241</td>\n",
              "      <td>0.993314</td>\n",
              "      <td>1.0</td>\n",
              "      <td>2.0</td>\n",
              "      <td>0.416667</td>\n",
              "      <td>0.000000</td>\n",
              "    </tr>\n",
              "  </tbody>\n",
              "</table>\n",
              "</div>\n",
              "      <button class=\"colab-df-convert\" onclick=\"convertToInteractive('df-70d94bf5-3376-4e27-9a47-96a0f051c615')\"\n",
              "              title=\"Convert this dataframe to an interactive table.\"\n",
              "              style=\"display:none;\">\n",
              "        \n",
              "  <svg xmlns=\"http://www.w3.org/2000/svg\" height=\"24px\"viewBox=\"0 0 24 24\"\n",
              "       width=\"24px\">\n",
              "    <path d=\"M0 0h24v24H0V0z\" fill=\"none\"/>\n",
              "    <path d=\"M18.56 5.44l.94 2.06.94-2.06 2.06-.94-2.06-.94-.94-2.06-.94 2.06-2.06.94zm-11 1L8.5 8.5l.94-2.06 2.06-.94-2.06-.94L8.5 2.5l-.94 2.06-2.06.94zm10 10l.94 2.06.94-2.06 2.06-.94-2.06-.94-.94-2.06-.94 2.06-2.06.94z\"/><path d=\"M17.41 7.96l-1.37-1.37c-.4-.4-.92-.59-1.43-.59-.52 0-1.04.2-1.43.59L10.3 9.45l-7.72 7.72c-.78.78-.78 2.05 0 2.83L4 21.41c.39.39.9.59 1.41.59.51 0 1.02-.2 1.41-.59l7.78-7.78 2.81-2.81c.8-.78.8-2.07 0-2.86zM5.41 20L4 18.59l7.72-7.72 1.47 1.35L5.41 20z\"/>\n",
              "  </svg>\n",
              "      </button>\n",
              "      \n",
              "  <style>\n",
              "    .colab-df-container {\n",
              "      display:flex;\n",
              "      flex-wrap:wrap;\n",
              "      gap: 12px;\n",
              "    }\n",
              "\n",
              "    .colab-df-convert {\n",
              "      background-color: #E8F0FE;\n",
              "      border: none;\n",
              "      border-radius: 50%;\n",
              "      cursor: pointer;\n",
              "      display: none;\n",
              "      fill: #1967D2;\n",
              "      height: 32px;\n",
              "      padding: 0 0 0 0;\n",
              "      width: 32px;\n",
              "    }\n",
              "\n",
              "    .colab-df-convert:hover {\n",
              "      background-color: #E2EBFA;\n",
              "      box-shadow: 0px 1px 2px rgba(60, 64, 67, 0.3), 0px 1px 3px 1px rgba(60, 64, 67, 0.15);\n",
              "      fill: #174EA6;\n",
              "    }\n",
              "\n",
              "    [theme=dark] .colab-df-convert {\n",
              "      background-color: #3B4455;\n",
              "      fill: #D2E3FC;\n",
              "    }\n",
              "\n",
              "    [theme=dark] .colab-df-convert:hover {\n",
              "      background-color: #434B5C;\n",
              "      box-shadow: 0px 1px 3px 1px rgba(0, 0, 0, 0.15);\n",
              "      filter: drop-shadow(0px 1px 2px rgba(0, 0, 0, 0.3));\n",
              "      fill: #FFFFFF;\n",
              "    }\n",
              "  </style>\n",
              "\n",
              "      <script>\n",
              "        const buttonEl =\n",
              "          document.querySelector('#df-70d94bf5-3376-4e27-9a47-96a0f051c615 button.colab-df-convert');\n",
              "        buttonEl.style.display =\n",
              "          google.colab.kernel.accessAllowed ? 'block' : 'none';\n",
              "\n",
              "        async function convertToInteractive(key) {\n",
              "          const element = document.querySelector('#df-70d94bf5-3376-4e27-9a47-96a0f051c615');\n",
              "          const dataTable =\n",
              "            await google.colab.kernel.invokeFunction('convertToInteractive',\n",
              "                                                     [key], {});\n",
              "          if (!dataTable) return;\n",
              "\n",
              "          const docLinkHtml = 'Like what you see? Visit the ' +\n",
              "            '<a target=\"_blank\" href=https://colab.research.google.com/notebooks/data_table.ipynb>data table notebook</a>'\n",
              "            + ' to learn more about interactive tables.';\n",
              "          element.innerHTML = '';\n",
              "          dataTable['output_type'] = 'display_data';\n",
              "          await google.colab.output.renderOutput(dataTable, element);\n",
              "          const docLink = document.createElement('div');\n",
              "          docLink.innerHTML = docLinkHtml;\n",
              "          element.appendChild(docLink);\n",
              "        }\n",
              "      </script>\n",
              "    </div>\n",
              "  </div>\n",
              "  "
            ]
          },
          "metadata": {},
          "execution_count": 9
        }
      ]
    },
    {
      "cell_type": "code",
      "source": [
        "counts = rides.groupby(['pickup_month', 'pickup_day']).size().reset_index(name='counts')\n",
        "counts['counts'].mean()"
      ],
      "metadata": {
        "colab": {
          "base_uri": "https://localhost:8080/"
        },
        "id": "66b6OpD899K4",
        "outputId": "7ffdbbdd-184c-49ed-85f7-d542c8aa94d3"
      },
      "execution_count": 10,
      "outputs": [
        {
          "output_type": "execute_result",
          "data": {
            "text/plain": [
              "9.357142857142858"
            ]
          },
          "metadata": {},
          "execution_count": 10
        }
      ]
    },
    {
      "cell_type": "code",
      "source": [
        "import matplotlib.pyplot as plt\n",
        "\n",
        "plt.figure(figsize=(20, 7))\n",
        "\n",
        "import matplotlib.pyplot as plt\n",
        "import numpy as np\n",
        "\n",
        "# Calculate the mean and standard deviation of the counts column\n",
        "mean = counts['counts'].mean()\n",
        "std = counts['counts'].std()\n",
        "\n",
        "# Plot the histogram of the counts column\n",
        "counts['counts'].hist(bins=20)\n",
        "\n",
        "# Add vertical lines to indicate mean and standard deviation\n",
        "plt.axvline(mean, color='red', label='Mean')\n",
        "plt.axvline(mean + std, color='blue', label='+1 Standard Deviation')\n",
        "plt.axvline(mean - std, color='blue', label='-1 Standard Deviation')\n",
        "\n",
        "# Add title and labels\n",
        "plt.title('Distribution of Counts Column')\n",
        "plt.xlabel('Counts')\n",
        "plt.ylabel('Frequency')\n",
        "plt.legend()\n",
        "\n",
        "# Show plot\n",
        "plt.show()"
      ],
      "metadata": {
        "colab": {
          "base_uri": "https://localhost:8080/",
          "height": 458
        },
        "id": "of232X7n-F1M",
        "outputId": "63f7feb0-fe64-4542-bdb1-dc024727eac6"
      },
      "execution_count": 11,
      "outputs": [
        {
          "output_type": "display_data",
          "data": {
            "text/plain": [
              "<Figure size 1440x504 with 1 Axes>"
            ],
            "image/png": "[encoded data removed]"
          },
          "metadata": {
            "needs_background": "light"
          }
        }
      ]
    },
    {
      "cell_type": "code",
      "source": [
        "rides['pickup_day'] = rides['pickup_day'].fillna(0).astype(int)\n",
        "rides['pickup_month'] = rides['pickup_month'].fillna(0).astype(int)\n",
        "\n",
        "rides['pickup_day'] = rides['pickup_day'].astype(str)\n",
        "rides['pickup_month'] = rides['pickup_month'].astype(str)\n",
        "\n",
        "rides['id'] = rides['pickup_month'] + rides['pickup_day']\n",
        "\n",
        "rides = rides.drop(['pickup_month','pickup_day'], axis=1)"
      ],
      "metadata": {
        "id": "UbRWLKbMNyio"
      },
      "execution_count": 12,
      "outputs": []
    },
    {
      "cell_type": "code",
      "source": [
        "rides.head()"
      ],
      "metadata": {
        "colab": {
          "base_uri": "https://localhost:8080/",
          "height": 270
        },
        "id": "NH9k8ihZgMpm",
        "outputId": "82012a09-a540-4583-f8a0-c6f5f312c01c"
      },
      "execution_count": 13,
      "outputs": [
        {
          "output_type": "execute_result",
          "data": {
            "text/plain": [
              "   space_type  billable_distance  run_name  rider.mediroutes_rider_id  \\\n",
              "0    1.000000           0.020619         0                   0.045455   \n",
              "1    0.333333           0.005055         0                   0.257576   \n",
              "2    1.000000           0.007725         0                   0.515152   \n",
              "3    0.333333           0.062177         0                   0.272727   \n",
              "4    0.333333           0.013177         0                   0.151515   \n",
              "\n",
              "   pickup.event_location.zip  pickup.event_location.longitude  \\\n",
              "0                   0.300000                        -0.996971   \n",
              "1                   0.600000                        -0.996493   \n",
              "2                   0.600000                        -0.996372   \n",
              "3                   0.333333                        -0.993221   \n",
              "4                   0.466667                        -0.995843   \n",
              "\n",
              "   pickup.event_location.latitude  dropoff.event_location.zip  \\\n",
              "0                        0.993242                     0.03125   \n",
              "1                        0.993262                     0.81250   \n",
              "2                        0.992653                     0.81250   \n",
              "3                        0.985946                     0.59375   \n",
              "4                        0.993297                     0.81250   \n",
              "\n",
              "   dropoff.event_location.longitude  dropoff.event_location.latitude  \\\n",
              "0                         -0.997400                         0.994884   \n",
              "1                         -0.996241                         0.993313   \n",
              "2                         -0.996193                         0.992977   \n",
              "3                         -0.994925                         0.990800   \n",
              "4                         -0.996241                         0.993314   \n",
              "\n",
              "   pickup_hour  pickup_minute  id  \n",
              "0     0.000000       1.000000  12  \n",
              "1     0.083333       0.333333  12  \n",
              "2     0.166667       0.000000  12  \n",
              "3     0.333333       0.000000  12  \n",
              "4     0.416667       0.000000  12  "
            ],
            "text/html": [
              "\n",
              "  <div id=\"df-a2044359-67bc-487f-8cca-3047695600fa\">\n",
              "    <div class=\"colab-df-container\">\n",
              "      <div>\n",
              "<style scoped>\n",
              "    .dataframe tbody tr th:only-of-type {\n",
              "        vertical-align: middle;\n",
              "    }\n",
              "\n",
              "    .dataframe tbody tr th {\n",
              "        vertical-align: top;\n",
              "    }\n",
              "\n",
              "    .dataframe thead th {\n",
              "        text-align: right;\n",
              "    }\n",
              "</style>\n",
              "<table border=\"1\" class=\"dataframe\">\n",
              "  <thead>\n",
              "    <tr style=\"text-align: right;\">\n",
              "      <th></th>\n",
              "      <th>space_type</th>\n",
              "      <th>billable_distance</th>\n",
              "      <th>run_name</th>\n",
              "      <th>rider.mediroutes_rider_id</th>\n",
              "      <th>pickup.event_location.zip</th>\n",
              "      <th>pickup.event_location.longitude</th>\n",
              "      <th>pickup.event_location.latitude</th>\n",
              "      <th>dropoff.event_location.zip</th>\n",
              "      <th>dropoff.event_location.longitude</th>\n",
              "      <th>dropoff.event_location.latitude</th>\n",
              "      <th>pickup_hour</th>\n",
              "      <th>pickup_minute</th>\n",
              "      <th>id</th>\n",
              "    </tr>\n",
              "  </thead>\n",
              "  <tbody>\n",
              "    <tr>\n",
              "      <th>0</th>\n",
              "      <td>1.000000</td>\n",
              "      <td>0.020619</td>\n",
              "      <td>0</td>\n",
              "      <td>0.045455</td>\n",
              "      <td>0.300000</td>\n",
              "      <td>-0.996971</td>\n",
              "      <td>0.993242</td>\n",
              "      <td>0.03125</td>\n",
              "      <td>-0.997400</td>\n",
              "      <td>0.994884</td>\n",
              "      <td>0.000000</td>\n",
              "      <td>1.000000</td>\n",
              "      <td>12</td>\n",
              "    </tr>\n",
              "    <tr>\n",
              "      <th>1</th>\n",
              "      <td>0.333333</td>\n",
              "      <td>0.005055</td>\n",
              "      <td>0</td>\n",
              "      <td>0.257576</td>\n",
              "      <td>0.600000</td>\n",
              "      <td>-0.996493</td>\n",
              "      <td>0.993262</td>\n",
              "      <td>0.81250</td>\n",
              "      <td>-0.996241</td>\n",
              "      <td>0.993313</td>\n",
              "      <td>0.083333</td>\n",
              "      <td>0.333333</td>\n",
              "      <td>12</td>\n",
              "    </tr>\n",
              "    <tr>\n",
              "      <th>2</th>\n",
              "      <td>1.000000</td>\n",
              "      <td>0.007725</td>\n",
              "      <td>0</td>\n",
              "      <td>0.515152</td>\n",
              "      <td>0.600000</td>\n",
              "      <td>-0.996372</td>\n",
              "      <td>0.992653</td>\n",
              "      <td>0.81250</td>\n",
              "      <td>-0.996193</td>\n",
              "      <td>0.992977</td>\n",
              "      <td>0.166667</td>\n",
              "      <td>0.000000</td>\n",
              "      <td>12</td>\n",
              "    </tr>\n",
              "    <tr>\n",
              "      <th>3</th>\n",
              "      <td>0.333333</td>\n",
              "      <td>0.062177</td>\n",
              "      <td>0</td>\n",
              "      <td>0.272727</td>\n",
              "      <td>0.333333</td>\n",
              "      <td>-0.993221</td>\n",
              "      <td>0.985946</td>\n",
              "      <td>0.59375</td>\n",
              "      <td>-0.994925</td>\n",
              "      <td>0.990800</td>\n",
              "      <td>0.333333</td>\n",
              "      <td>0.000000</td>\n",
              "      <td>12</td>\n",
              "    </tr>\n",
              "    <tr>\n",
              "      <th>4</th>\n",
              "      <td>0.333333</td>\n",
              "      <td>0.013177</td>\n",
              "      <td>0</td>\n",
              "      <td>0.151515</td>\n",
              "      <td>0.466667</td>\n",
              "      <td>-0.995843</td>\n",
              "      <td>0.993297</td>\n",
              "      <td>0.81250</td>\n",
              "      <td>-0.996241</td>\n",
              "      <td>0.993314</td>\n",
              "      <td>0.416667</td>\n",
              "      <td>0.000000</td>\n",
              "      <td>12</td>\n",
              "    </tr>\n",
              "  </tbody>\n",
              "</table>\n",
              "</div>\n",
              "      <button class=\"colab-df-convert\" onclick=\"convertToInteractive('df-a2044359-67bc-487f-8cca-3047695600fa')\"\n",
              "              title=\"Convert this dataframe to an interactive table.\"\n",
              "              style=\"display:none;\">\n",
              "        \n",
              "  <svg xmlns=\"http://www.w3.org/2000/svg\" height=\"24px\"viewBox=\"0 0 24 24\"\n",
              "       width=\"24px\">\n",
              "    <path d=\"M0 0h24v24H0V0z\" fill=\"none\"/>\n",
              "    <path d=\"M18.56 5.44l.94 2.06.94-2.06 2.06-.94-2.06-.94-.94-2.06-.94 2.06-2.06.94zm-11 1L8.5 8.5l.94-2.06 2.06-.94-2.06-.94L8.5 2.5l-.94 2.06-2.06.94zm10 10l.94 2.06.94-2.06 2.06-.94-2.06-.94-.94-2.06-.94 2.06-2.06.94z\"/><path d=\"M17.41 7.96l-1.37-1.37c-.4-.4-.92-.59-1.43-.59-.52 0-1.04.2-1.43.59L10.3 9.45l-7.72 7.72c-.78.78-.78 2.05 0 2.83L4 21.41c.39.39.9.59 1.41.59.51 0 1.02-.2 1.41-.59l7.78-7.78 2.81-2.81c.8-.78.8-2.07 0-2.86zM5.41 20L4 18.59l7.72-7.72 1.47 1.35L5.41 20z\"/>\n",
              "  </svg>\n",
              "      </button>\n",
              "      \n",
              "  <style>\n",
              "    .colab-df-container {\n",
              "      display:flex;\n",
              "      flex-wrap:wrap;\n",
              "      gap: 12px;\n",
              "    }\n",
              "\n",
              "    .colab-df-convert {\n",
              "      background-color: #E8F0FE;\n",
              "      border: none;\n",
              "      border-radius: 50%;\n",
              "      cursor: pointer;\n",
              "      display: none;\n",
              "      fill: #1967D2;\n",
              "      height: 32px;\n",
              "      padding: 0 0 0 0;\n",
              "      width: 32px;\n",
              "    }\n",
              "\n",
              "    .colab-df-convert:hover {\n",
              "      background-color: #E2EBFA;\n",
              "      box-shadow: 0px 1px 2px rgba(60, 64, 67, 0.3), 0px 1px 3px 1px rgba(60, 64, 67, 0.15);\n",
              "      fill: #174EA6;\n",
              "    }\n",
              "\n",
              "    [theme=dark] .colab-df-convert {\n",
              "      background-color: #3B4455;\n",
              "      fill: #D2E3FC;\n",
              "    }\n",
              "\n",
              "    [theme=dark] .colab-df-convert:hover {\n",
              "      background-color: #434B5C;\n",
              "      box-shadow: 0px 1px 3px 1px rgba(0, 0, 0, 0.15);\n",
              "      filter: drop-shadow(0px 1px 2px rgba(0, 0, 0, 0.3));\n",
              "      fill: #FFFFFF;\n",
              "    }\n",
              "  </style>\n",
              "\n",
              "      <script>\n",
              "        const buttonEl =\n",
              "          document.querySelector('#df-a2044359-67bc-487f-8cca-3047695600fa button.colab-df-convert');\n",
              "        buttonEl.style.display =\n",
              "          google.colab.kernel.accessAllowed ? 'block' : 'none';\n",
              "\n",
              "        async function convertToInteractive(key) {\n",
              "          const element = document.querySelector('#df-a2044359-67bc-487f-8cca-3047695600fa');\n",
              "          const dataTable =\n",
              "            await google.colab.kernel.invokeFunction('convertToInteractive',\n",
              "                                                     [key], {});\n",
              "          if (!dataTable) return;\n",
              "\n",
              "          const docLinkHtml = 'Like what you see? Visit the ' +\n",
              "            '<a target=\"_blank\" href=https://colab.research.google.com/notebooks/data_table.ipynb>data table notebook</a>'\n",
              "            + ' to learn more about interactive tables.';\n",
              "          element.innerHTML = '';\n",
              "          dataTable['output_type'] = 'display_data';\n",
              "          await google.colab.output.renderOutput(dataTable, element);\n",
              "          const docLink = document.createElement('div');\n",
              "          docLink.innerHTML = docLinkHtml;\n",
              "          element.appendChild(docLink);\n",
              "        }\n",
              "      </script>\n",
              "    </div>\n",
              "  </div>\n",
              "  "
            ]
          },
          "metadata": {},
          "execution_count": 13
        }
      ]
    },
    {
      "cell_type": "code",
      "source": [
        "rides.shape"
      ],
      "metadata": {
        "colab": {
          "base_uri": "https://localhost:8080/"
        },
        "id": "FBGOjDCcPTjV",
        "outputId": "703e105d-958c-4a78-b040-197fbe1abbba"
      },
      "execution_count": 14,
      "outputs": [
        {
          "output_type": "execute_result",
          "data": {
            "text/plain": [
              "(262, 13)"
            ]
          },
          "metadata": {},
          "execution_count": 14
        }
      ]
    },
    {
      "cell_type": "code",
      "source": [
        "rides = rides.astype(str)"
      ],
      "metadata": {
        "id": "Wut5nx5c7b8b"
      },
      "execution_count": 15,
      "outputs": []
    },
    {
      "cell_type": "code",
      "source": [
        "rides.values[0].astype('float32')"
      ],
      "metadata": {
        "colab": {
          "base_uri": "https://localhost:8080/"
        },
        "id": "V_8YkxPM8VXo",
        "outputId": "34b0e6c4-8918-42e9-df6e-e1c7b3df0cc3"
      },
      "execution_count": 16,
      "outputs": [
        {
          "output_type": "execute_result",
          "data": {
            "text/plain": [
              "array([ 1.        ,  0.02061856,  0.        ,  0.04545455,  0.3       ,\n",
              "       -0.99697095,  0.9932419 ,  0.03125   , -0.9973999 ,  0.99488443,\n",
              "        0.        ,  1.        , 12.        ], dtype=float32)"
            ]
          },
          "metadata": {},
          "execution_count": 16
        }
      ]
    },
    {
      "cell_type": "markdown",
      "source": [
        "# DAY NUMBER WE ARE TRAINING - SET IT HERE FOR ALL BELOW CODE"
      ],
      "metadata": {
        "id": "4sjBm7DVudMj"
      }
    },
    {
      "cell_type": "code",
      "source": [
        "len(max(rides, key=len))"
      ],
      "metadata": {
        "colab": {
          "base_uri": "https://localhost:8080/"
        },
        "id": "7nWqmmNnogVk",
        "outputId": "0fbcf143-5176-4422-d88e-b763420cd353"
      },
      "execution_count": 17,
      "outputs": [
        {
          "output_type": "execute_result",
          "data": {
            "text/plain": [
              "32"
            ]
          },
          "metadata": {},
          "execution_count": 17
        }
      ]
    },
    {
      "cell_type": "code",
      "source": [
        "day_of_rides = 0\n",
        "sequence_len = 666"
      ],
      "metadata": {
        "id": "nvS5a0uvuei7"
      },
      "execution_count": 18,
      "outputs": []
    },
    {
      "cell_type": "markdown",
      "source": [
        "Put rides into buckets by date"
      ],
      "metadata": {
        "id": "sEJD-HUyvTh2"
      }
    },
    {
      "cell_type": "code",
      "source": [
        "# Group the rows by the 'id' column\n",
        "grouped = rides.groupby('id')\n",
        "\n",
        "# Create a list to store the grouped arrays\n",
        "day_buckets = []\n",
        "\n",
        "# Loop through each group\n",
        "for name, group in grouped:\n",
        "    # Convert the group to a numpy array\n",
        "    group_array = group.values.astype(np.float32)\n",
        "    \n",
        "    # Append the group array to the list of grouped arrays\n",
        "    day_buckets.append(group_array)\n",
        "\n",
        "# Set the display format of the numpy arrays\n",
        "np.set_printoptions(precision=6, suppress=True)\n",
        "\n",
        "# Sort the list of grouped arrays by the first column of each array\n",
        "day_buckets.sort(key=lambda x: x[0][1])\n"
      ],
      "metadata": {
        "id": "_WIOpiJqvQKv"
      },
      "execution_count": 19,
      "outputs": []
    },
    {
      "cell_type": "code",
      "source": [
        "# Do this or when you shuffle below it will shuffle both for some fucking reason, and copy doesn't work.\n",
        "day_buckets_y = [x.astype(str) for x in day_buckets[1:]]"
      ],
      "metadata": {
        "id": "EN2LBJsqw4v9"
      },
      "execution_count": 20,
      "outputs": []
    },
    {
      "cell_type": "code",
      "source": [
        "len(day_buckets_y[9])"
      ],
      "metadata": {
        "colab": {
          "base_uri": "https://localhost:8080/"
        },
        "id": "V10EeogCo3Nu",
        "outputId": "98882569-9bad-4c82-f878-375ab7077222"
      },
      "execution_count": 21,
      "outputs": [
        {
          "output_type": "execute_result",
          "data": {
            "text/plain": [
              "12"
            ]
          },
          "metadata": {},
          "execution_count": 21
        }
      ]
    },
    {
      "cell_type": "code",
      "source": [
        "# Get a look at the run's yearly unique daily schedule lengths\n",
        "unique_lengths = list(set(len(sub_array) for sub_array in day_buckets_y))"
      ],
      "metadata": {
        "id": "PeBbTAPrDmzi"
      },
      "execution_count": 22,
      "outputs": []
    },
    {
      "cell_type": "code",
      "source": [
        "max(unique_lengths)"
      ],
      "metadata": {
        "colab": {
          "base_uri": "https://localhost:8080/"
        },
        "id": "-kDilEYuDr-k",
        "outputId": "0c4d9cfd-338b-4d2e-d45a-6831c0c29f80"
      },
      "execution_count": 23,
      "outputs": [
        {
          "output_type": "execute_result",
          "data": {
            "text/plain": [
              "13"
            ]
          },
          "metadata": {},
          "execution_count": 23
        }
      ]
    },
    {
      "cell_type": "code",
      "source": [
        "day_buckets_y[0]"
      ],
      "metadata": {
        "colab": {
          "base_uri": "https://localhost:8080/"
        },
        "id": "-NS5xNNpQgzX",
        "outputId": "add57e76-cd4a-4e76-8eec-d9859356b9ec"
      },
      "execution_count": 24,
      "outputs": [
        {
          "output_type": "execute_result",
          "data": {
            "text/plain": [
              "array([['1.0', '0.020550499', '0.0', '0.045454547', '0.3', '-0.99697095',\n",
              "        '0.9932419', '0.03125', '-0.9973999', '0.99488443', '0.0', '1.0',\n",
              "        '110.0'],\n",
              "       ['0.33333334', '0.019966312', '0.0', '0.21212122', '0.26666668',\n",
              "        '-0.99644196', '0.9920201', '0.5625', '-0.9958683', '0.9912264',\n",
              "        '0.083333336', '1.0', '110.0'],\n",
              "       ['0.0', '0.050601106', '0.0', '0.10606061', '0.2', '-0.9980458',\n",
              "        '0.9966702', '0.375', '-0.9967102', '0.9936471', '0.25', '1.0',\n",
              "        '110.0'],\n",
              "       ['1.0', '0.02990315', '0.0', '0.22727273', '0.8666667',\n",
              "        '-0.99619335', '0.992977', '0.96875', '-0.99613476',\n",
              "        '0.99532086', '0.41666666', '0.6666667', '110.0'],\n",
              "       ['1.0', '0.012014573', '0.0', '0.43939394', '0.8666667',\n",
              "        '-0.99619335', '0.992977', '0.71875', '-0.9958649', '0.99306273',\n",
              "        '0.41666666', '0.6666667', '110.0'],\n",
              "       ['1.0', '0.0021703742', '0.0', '0.3030303', '0.6', '-0.9964902',\n",
              "        '0.99326324', '0.59375', '-0.99658185', '0.99327487', '0.5',\n",
              "        '0.6666667', '110.0'],\n",
              "       ['1.0', '0.01565014', '0.0', '0.57575756', '0.56666666',\n",
              "        '-0.9955298', '0.9943158', '0.625', '-0.99534154', '0.9931722',\n",
              "        '0.5833333', '0.44444445', '110.0'],\n",
              "       ['1.0', '0.012727319', '0.0', '0.030303031', '0.6666667',\n",
              "        '-0.9953415', '0.99317205', '0.5', '-0.9955119', '0.9942838',\n",
              "        '0.75', '0.33333334', '110.0']], dtype='<U32')"
            ]
          },
          "metadata": {},
          "execution_count": 24
        }
      ]
    },
    {
      "cell_type": "code",
      "source": [
        "def shuffle_np_array(np_array_list):\n",
        "    for i in range(len(np_array_list)):\n",
        "        np.random.shuffle(np_array_list[i])\n",
        "    return np_array_list\n",
        "\n",
        "day_buckets_X = shuffle_np_array(day_buckets)[1:] # create a shuffled version for X below"
      ],
      "metadata": {
        "id": "mfLy4pFVLyOO"
      },
      "execution_count": 25,
      "outputs": []
    },
    {
      "cell_type": "code",
      "source": [
        "input = []\n",
        "target = []\n",
        "for array in day_buckets_X:\n",
        "    new_array = np.delete(array, -1, axis=1)\n",
        "    input.append(new_array.astype('float32'))\n",
        "\n",
        "count = 0\n",
        "for array in day_buckets_y:\n",
        "    new_array = np.delete(array, -1, axis=1)\n",
        "    target.append(new_array.astype('float32'))\n"
      ],
      "metadata": {
        "id": "1FphjSRRPfcS"
      },
      "execution_count": 26,
      "outputs": []
    },
    {
      "cell_type": "markdown",
      "source": [
        "# Load the model for the training loop"
      ],
      "metadata": {
        "id": "vzlatvG7DfFM"
      }
    },
    {
      "cell_type": "code",
      "source": [
        "# Set early stopping\n",
        "from tensorflow.keras.callbacks import EarlyStopping\n",
        "early_stopping = EarlyStopping(monitor='val_loss', patience=5)"
      ],
      "metadata": {
        "id": "h9EMPOMMDv2Q"
      },
      "execution_count": 27,
      "outputs": []
    },
    {
      "cell_type": "code",
      "source": [
        "# # Create a TensorBoard callback\n",
        "# import datetime\n",
        "\n",
        "# logdir = \"/content/drive/MyDrive/tensorboard_logs\" + datetime.datetime.now().strftime(\"%Y%m%d-%H%M%S\")\n",
        "# tensorboard_callback = tf.keras.callbacks.TensorBoard(log_dir=logdir)"
      ],
      "metadata": {
        "id": "dRE87NtYUSdw"
      },
      "execution_count": 28,
      "outputs": []
    },
    {
      "cell_type": "code",
      "source": [
        "def pad_array(arr):\n",
        "\n",
        "    padding = np.zeros((1, 12))\n",
        "    while arr.shape[0] < sequence_len:\n",
        "        arr = np.concatenate((arr, padding), axis=0)\n",
        "    return arr.astype('float32')\n",
        "\n",
        "def create_validation_set():\n",
        "  random_validation_set = np.random.randint(0, len(day_buckets_X))\n",
        "\n",
        "  if not random_validation_set == day_of_rides:\n",
        "    print('random_validation_set: ', random_validation_set)\n",
        "    print('day_of_rides: ', day_of_rides)\n",
        "    X_val = input[-1].astype('float32')\n",
        "    X_val = pad_array(X_val)\n",
        "\n",
        "    y_val = target[-1].astype('float32')\n",
        "    y_val = pad_array(y_val)\n",
        "\n",
        "    return X_val, y_val\n",
        "  else:\n",
        "    # Recursively call the function until it lands on a random day of rides that doesn't match the training tensor.\n",
        "    create_validation_set()"
      ],
      "metadata": {
        "id": "B89VMskPaI83"
      },
      "execution_count": 29,
      "outputs": []
    },
    {
      "cell_type": "code",
      "source": [
        "# dummy = np.zeros((1,200,12))\n",
        "# dummy.shape\n",
        "# pred = model.predict([input_, dummy])\n",
        "\n",
        "# pred[0][1]"
      ],
      "metadata": {
        "id": "QmOoPUfHYTph"
      },
      "execution_count": 30,
      "outputs": []
    },
    {
      "cell_type": "code",
      "source": [
        "p_test = pad_array(input[day_of_rides])\n",
        "p_test[:15], len(p_test)"
      ],
      "metadata": {
        "colab": {
          "base_uri": "https://localhost:8080/"
        },
        "id": "8kTiIRQiBRN4",
        "outputId": "2ce157a7-9e86-4498-8270-1a56186c5ee1"
      },
      "execution_count": 31,
      "outputs": [
        {
          "output_type": "execute_result",
          "data": {
            "text/plain": [
              "(array([[ 1.      ,  0.012015,  0.      ,  0.439394,  0.866667, -0.996193,\n",
              "          0.992977,  0.71875 , -0.995865,  0.993063,  0.416667,  0.666667],\n",
              "        [ 1.      ,  0.012727,  0.      ,  0.030303,  0.666667, -0.995341,\n",
              "          0.993172,  0.5     , -0.995512,  0.994284,  0.75    ,  0.333333],\n",
              "        [ 1.      ,  0.02055 ,  0.      ,  0.045455,  0.3     , -0.996971,\n",
              "          0.993242,  0.03125 , -0.9974  ,  0.994884,  0.      ,  1.      ],\n",
              "        [ 1.      ,  0.00217 ,  0.      ,  0.30303 ,  0.6     , -0.99649 ,\n",
              "          0.993263,  0.59375 , -0.996582,  0.993275,  0.5     ,  0.666667],\n",
              "        [ 1.      ,  0.029903,  0.      ,  0.227273,  0.866667, -0.996193,\n",
              "          0.992977,  0.96875 , -0.996135,  0.995321,  0.416667,  0.666667],\n",
              "        [ 0.333333,  0.019966,  0.      ,  0.212121,  0.266667, -0.996442,\n",
              "          0.99202 ,  0.5625  , -0.995868,  0.991226,  0.083333,  1.      ],\n",
              "        [ 1.      ,  0.01565 ,  0.      ,  0.575758,  0.566667, -0.99553 ,\n",
              "          0.994316,  0.625   , -0.995342,  0.993172,  0.583333,  0.444444],\n",
              "        [ 0.      ,  0.050601,  0.      ,  0.106061,  0.2     , -0.998046,\n",
              "          0.99667 ,  0.375   , -0.99671 ,  0.993647,  0.25    ,  1.      ],\n",
              "        [ 0.      ,  0.      ,  0.      ,  0.      ,  0.      ,  0.      ,\n",
              "          0.      ,  0.      ,  0.      ,  0.      ,  0.      ,  0.      ],\n",
              "        [ 0.      ,  0.      ,  0.      ,  0.      ,  0.      ,  0.      ,\n",
              "          0.      ,  0.      ,  0.      ,  0.      ,  0.      ,  0.      ],\n",
              "        [ 0.      ,  0.      ,  0.      ,  0.      ,  0.      ,  0.      ,\n",
              "          0.      ,  0.      ,  0.      ,  0.      ,  0.      ,  0.      ],\n",
              "        [ 0.      ,  0.      ,  0.      ,  0.      ,  0.      ,  0.      ,\n",
              "          0.      ,  0.      ,  0.      ,  0.      ,  0.      ,  0.      ],\n",
              "        [ 0.      ,  0.      ,  0.      ,  0.      ,  0.      ,  0.      ,\n",
              "          0.      ,  0.      ,  0.      ,  0.      ,  0.      ,  0.      ],\n",
              "        [ 0.      ,  0.      ,  0.      ,  0.      ,  0.      ,  0.      ,\n",
              "          0.      ,  0.      ,  0.      ,  0.      ,  0.      ,  0.      ],\n",
              "        [ 0.      ,  0.      ,  0.      ,  0.      ,  0.      ,  0.      ,\n",
              "          0.      ,  0.      ,  0.      ,  0.      ,  0.      ,  0.      ]],\n",
              "       dtype=float32), 666)"
            ]
          },
          "metadata": {},
          "execution_count": 31
        }
      ]
    },
    {
      "cell_type": "code",
      "source": [
        "test = tf.equal(input[0][:, 2], 0)"
      ],
      "metadata": {
        "id": "xXkyWueF3IUn"
      },
      "execution_count": 32,
      "outputs": []
    },
    {
      "cell_type": "code",
      "source": [
        "test"
      ],
      "metadata": {
        "colab": {
          "base_uri": "https://localhost:8080/"
        },
        "id": "uaJUqt8r5IsW",
        "outputId": "a38d9064-c763-4dc1-f461-23a2aa9d4632"
      },
      "execution_count": 33,
      "outputs": [
        {
          "output_type": "execute_result",
          "data": {
            "text/plain": [
              "<tf.Tensor: shape=(8,), dtype=bool, numpy=array([ True,  True,  True,  True,  True,  True,  True,  True])>"
            ]
          },
          "metadata": {},
          "execution_count": 33
        }
      ]
    },
    {
      "cell_type": "code",
      "source": [
        "first_run = True\n",
        "\n",
        "# TRAINING LOOP\n",
        "start_at = 0\n",
        "train_until = 1\n",
        "for day_of_rides in range(start_at, train_until): # num days to be trained\n",
        "\n",
        "  if not first_run:\n",
        "    print(f'Training {day_of_rides} of {train_until}')\n",
        "    model = keras.models.load_model('/content/drive/MyDrive/Colab_Models/RBSeq2Seq')\n",
        "\n",
        "  # Pad the input\n",
        "  input[day_of_rides] = pad_array(input[day_of_rides])\n",
        "  target[day_of_rides] = pad_array(target[day_of_rides])\n",
        "\n",
        "  # Truncate input to defined sequence length\n",
        "  input[day_of_rides] = input[day_of_rides][:sequence_len]\n",
        "  target[day_of_rides] = target[day_of_rides][:sequence_len]\n",
        "\n",
        "  # Create Random Validation Set\n",
        "  X_val, y_val = create_validation_set()\n",
        "\n",
        "  # Create Input and Target Df's\n",
        "  input_df = pd.DataFrame(input[day_of_rides], columns=[\n",
        "  'input_space_type',\n",
        "  'input_billable_distance',\n",
        "  'input_run_name',\n",
        "  'input_rider.mediroutes_rider_id',\n",
        "  'input_pickup.event_location.zip',\n",
        "  'input_pickup.event_location.longitude',\n",
        "  'input_pickup.event_location.latitude',\n",
        "  'input_dropoff.event_location.zip',\n",
        "  'input_dropoff.event_location.longitude',\n",
        "  'input_dropoff.event_location.latitude',\n",
        "  'input_pickup_hour',\n",
        "  'input_pickup_minute'\n",
        "  ])\n",
        "\n",
        "  target_df = pd.DataFrame(target[day_of_rides], columns=[\n",
        "  'target_space_type',\n",
        "  'target_billable_distance',\n",
        "  'target_run_name',\n",
        "  'target_rider.mediroutes_rider_id',\n",
        "  'target_pickup.event_location.zip',\n",
        "  'target_pickup.event_location.longitude',\n",
        "  'target_pickup.event_location.latitude',\n",
        "  'target_dropoff.event_location.zip',\n",
        "  'target_dropoff.event_location.longitude',\n",
        "  'target_dropoff.event_location.latitude',\n",
        "  'target_pickup_hour',\n",
        "  'target_pickup_minute'\n",
        "  ])\n",
        "\n",
        "  # Define the input and output shape\n",
        "  input_shape = (sequence_len, 12)\n",
        "  output_shape = (sequence_len, 12)\n",
        "\n",
        "  # Set the input and target to the day of rides iteration\n",
        "  input_orig = input[day_of_rides]\n",
        "  target_orig = target[day_of_rides]\n",
        "\n",
        "  input_ = input_orig.reshape(1, *input_orig.shape)\n",
        "  target_ = target_orig.reshape(1, *target_orig.shape)\n",
        "  X_val = X_val.reshape(1, *X_val.shape)\n",
        "  y_val = y_val.reshape(1, *y_val.shape)\n",
        "\n",
        "  print(input_.shape)\n",
        "  print(input_.shape)\n",
        "  print(X_val.shape)\n",
        "  print(y_val.shape)\n",
        "\n",
        "  # Define input tensor with variable sequence length\n",
        "  inputs = keras.layers.Input(shape=(None, 12))\n",
        "\n",
        "  # Mask to filter out all elements of the input sequence that don't correspond to the target vehicle ID\n",
        "  mask = keras.layers.Lambda(lambda x: tf.not_equal(tf.reduce_sum(x, axis=-1), 0))(inputs)\n",
        "\n",
        "  masking = keras.layers.Masking(mask_value=0.0)\n",
        "  masked_inputs = masking(inputs)\n",
        "\n",
        "  encoder = keras.layers.GRU(128, return_state=True)\n",
        "  encoder_outputs, state_h = encoder(masked_inputs, mask=mask)\n",
        "\n",
        "  encoder_states = [state_h]\n",
        "\n",
        "  decoder = keras.layers.GRU(128, return_sequences=True)\n",
        "  decoder_outputs = decoder(masked_inputs, initial_state=encoder_states, mask=mask)\n",
        "\n",
        "  outputs = keras.layers.Dense(12, activation='linear')(decoder_outputs)\n",
        "\n",
        "  model = keras.models.Model(inputs=inputs, outputs=outputs)\n",
        "\n",
        "  # Compile the model\n",
        "  if first_run:\n",
        "    model.compile(optimizer=tf.keras.optimizers.Adam(learning_rate=0.0001),\n",
        "                  loss=tf.keras.losses.mse)\n",
        "\n",
        "  # Train the model\n",
        "  history = model.fit(input_, target_, epochs=400, batch_size=32, validation_data=(X_val, y_val), callbacks=[early_stopping], verbose=2)"
      ],
      "metadata": {
        "id": "9CtimNfiLsCU",
        "colab": {
          "base_uri": "https://localhost:8080/"
        },
        "outputId": "39ba6741-1fb5-4e70-ccdd-da00dac4806f"
      },
      "execution_count": 34,
      "outputs": [
        {
          "output_type": "stream",
          "name": "stdout",
          "text": [
            "random_validation_set:  12\n",
            "day_of_rides:  0\n",
            "(1, 666, 12)\n",
            "(1, 666, 12)\n",
            "(1, 666, 12)\n",
            "(1, 666, 12)\n",
            "Epoch 1/400\n",
            "1/1 - 17s - loss: 0.5822 - val_loss: 0.5684 - 17s/epoch - 17s/step\n",
            "Epoch 2/400\n",
            "1/1 - 0s - loss: 0.5705 - val_loss: 0.5563 - 64ms/epoch - 64ms/step\n",
            "Epoch 3/400\n",
            "1/1 - 0s - loss: 0.5589 - val_loss: 0.5444 - 61ms/epoch - 61ms/step\n",
            "Epoch 4/400\n",
            "1/1 - 0s - loss: 0.5475 - val_loss: 0.5326 - 66ms/epoch - 66ms/step\n",
            "Epoch 5/400\n",
            "1/1 - 0s - loss: 0.5363 - val_loss: 0.5210 - 68ms/epoch - 68ms/step\n",
            "Epoch 6/400\n",
            "1/1 - 0s - loss: 0.5252 - val_loss: 0.5096 - 67ms/epoch - 67ms/step\n",
            "Epoch 7/400\n",
            "1/1 - 0s - loss: 0.5142 - val_loss: 0.4983 - 67ms/epoch - 67ms/step\n",
            "Epoch 8/400\n",
            "1/1 - 0s - loss: 0.5035 - val_loss: 0.4872 - 57ms/epoch - 57ms/step\n",
            "Epoch 9/400\n",
            "1/1 - 0s - loss: 0.4928 - val_loss: 0.4763 - 60ms/epoch - 60ms/step\n",
            "Epoch 10/400\n",
            "1/1 - 0s - loss: 0.4824 - val_loss: 0.4656 - 38ms/epoch - 38ms/step\n",
            "Epoch 11/400\n",
            "1/1 - 0s - loss: 0.4721 - val_loss: 0.4550 - 40ms/epoch - 40ms/step\n",
            "Epoch 12/400\n",
            "1/1 - 0s - loss: 0.4619 - val_loss: 0.4445 - 37ms/epoch - 37ms/step\n",
            "Epoch 13/400\n",
            "1/1 - 0s - loss: 0.4518 - val_loss: 0.4342 - 37ms/epoch - 37ms/step\n",
            "Epoch 14/400\n",
            "1/1 - 0s - loss: 0.4420 - val_loss: 0.4241 - 37ms/epoch - 37ms/step\n",
            "Epoch 15/400\n",
            "1/1 - 0s - loss: 0.4322 - val_loss: 0.4141 - 38ms/epoch - 38ms/step\n",
            "Epoch 16/400\n",
            "1/1 - 0s - loss: 0.4226 - val_loss: 0.4042 - 42ms/epoch - 42ms/step\n",
            "Epoch 17/400\n",
            "1/1 - 0s - loss: 0.4131 - val_loss: 0.3945 - 47ms/epoch - 47ms/step\n",
            "Epoch 18/400\n",
            "1/1 - 0s - loss: 0.4037 - val_loss: 0.3850 - 37ms/epoch - 37ms/step\n",
            "Epoch 19/400\n",
            "1/1 - 0s - loss: 0.3945 - val_loss: 0.3755 - 40ms/epoch - 40ms/step\n",
            "Epoch 20/400\n",
            "1/1 - 0s - loss: 0.3854 - val_loss: 0.3663 - 38ms/epoch - 38ms/step\n",
            "Epoch 21/400\n",
            "1/1 - 0s - loss: 0.3764 - val_loss: 0.3571 - 36ms/epoch - 36ms/step\n",
            "Epoch 22/400\n",
            "1/1 - 0s - loss: 0.3675 - val_loss: 0.3480 - 37ms/epoch - 37ms/step\n",
            "Epoch 23/400\n",
            "1/1 - 0s - loss: 0.3587 - val_loss: 0.3391 - 40ms/epoch - 40ms/step\n",
            "Epoch 24/400\n",
            "1/1 - 0s - loss: 0.3501 - val_loss: 0.3303 - 37ms/epoch - 37ms/step\n",
            "Epoch 25/400\n",
            "1/1 - 0s - loss: 0.3416 - val_loss: 0.3217 - 61ms/epoch - 61ms/step\n",
            "Epoch 26/400\n",
            "1/1 - 0s - loss: 0.3331 - val_loss: 0.3131 - 36ms/epoch - 36ms/step\n",
            "Epoch 27/400\n",
            "1/1 - 0s - loss: 0.3248 - val_loss: 0.3047 - 49ms/epoch - 49ms/step\n",
            "Epoch 28/400\n",
            "1/1 - 0s - loss: 0.3166 - val_loss: 0.2963 - 38ms/epoch - 38ms/step\n",
            "Epoch 29/400\n",
            "1/1 - 0s - loss: 0.3084 - val_loss: 0.2881 - 37ms/epoch - 37ms/step\n",
            "Epoch 30/400\n",
            "1/1 - 0s - loss: 0.3004 - val_loss: 0.2800 - 40ms/epoch - 40ms/step\n",
            "Epoch 31/400\n",
            "1/1 - 0s - loss: 0.2924 - val_loss: 0.2720 - 38ms/epoch - 38ms/step\n",
            "Epoch 32/400\n",
            "1/1 - 0s - loss: 0.2846 - val_loss: 0.2641 - 39ms/epoch - 39ms/step\n",
            "Epoch 33/400\n",
            "1/1 - 0s - loss: 0.2768 - val_loss: 0.2563 - 37ms/epoch - 37ms/step\n",
            "Epoch 34/400\n",
            "1/1 - 0s - loss: 0.2692 - val_loss: 0.2486 - 37ms/epoch - 37ms/step\n",
            "Epoch 35/400\n",
            "1/1 - 0s - loss: 0.2616 - val_loss: 0.2410 - 54ms/epoch - 54ms/step\n",
            "Epoch 36/400\n",
            "1/1 - 0s - loss: 0.2541 - val_loss: 0.2335 - 54ms/epoch - 54ms/step\n",
            "Epoch 37/400\n",
            "1/1 - 0s - loss: 0.2467 - val_loss: 0.2261 - 36ms/epoch - 36ms/step\n",
            "Epoch 38/400\n",
            "1/1 - 0s - loss: 0.2394 - val_loss: 0.2188 - 38ms/epoch - 38ms/step\n",
            "Epoch 39/400\n",
            "1/1 - 0s - loss: 0.2321 - val_loss: 0.2116 - 38ms/epoch - 38ms/step\n",
            "Epoch 40/400\n",
            "1/1 - 0s - loss: 0.2250 - val_loss: 0.2045 - 37ms/epoch - 37ms/step\n",
            "Epoch 41/400\n",
            "1/1 - 0s - loss: 0.2179 - val_loss: 0.1975 - 38ms/epoch - 38ms/step\n",
            "Epoch 42/400\n",
            "1/1 - 0s - loss: 0.2109 - val_loss: 0.1906 - 38ms/epoch - 38ms/step\n",
            "Epoch 43/400\n",
            "1/1 - 0s - loss: 0.2040 - val_loss: 0.1838 - 39ms/epoch - 39ms/step\n",
            "Epoch 44/400\n",
            "1/1 - 0s - loss: 0.1972 - val_loss: 0.1771 - 39ms/epoch - 39ms/step\n",
            "Epoch 45/400\n",
            "1/1 - 0s - loss: 0.1905 - val_loss: 0.1705 - 54ms/epoch - 54ms/step\n",
            "Epoch 46/400\n",
            "1/1 - 0s - loss: 0.1838 - val_loss: 0.1640 - 38ms/epoch - 38ms/step\n",
            "Epoch 47/400\n",
            "1/1 - 0s - loss: 0.1772 - val_loss: 0.1576 - 37ms/epoch - 37ms/step\n",
            "Epoch 48/400\n",
            "1/1 - 0s - loss: 0.1708 - val_loss: 0.1513 - 47ms/epoch - 47ms/step\n",
            "Epoch 49/400\n",
            "1/1 - 0s - loss: 0.1644 - val_loss: 0.1452 - 53ms/epoch - 53ms/step\n",
            "Epoch 50/400\n",
            "1/1 - 0s - loss: 0.1581 - val_loss: 0.1391 - 37ms/epoch - 37ms/step\n",
            "Epoch 51/400\n",
            "1/1 - 0s - loss: 0.1519 - val_loss: 0.1332 - 38ms/epoch - 38ms/step\n",
            "Epoch 52/400\n",
            "1/1 - 0s - loss: 0.1458 - val_loss: 0.1274 - 38ms/epoch - 38ms/step\n",
            "Epoch 53/400\n",
            "1/1 - 0s - loss: 0.1398 - val_loss: 0.1217 - 40ms/epoch - 40ms/step\n",
            "Epoch 54/400\n",
            "1/1 - 0s - loss: 0.1339 - val_loss: 0.1161 - 50ms/epoch - 50ms/step\n",
            "Epoch 55/400\n",
            "1/1 - 0s - loss: 0.1282 - val_loss: 0.1107 - 41ms/epoch - 41ms/step\n",
            "Epoch 56/400\n",
            "1/1 - 0s - loss: 0.1225 - val_loss: 0.1054 - 50ms/epoch - 50ms/step\n",
            "Epoch 57/400\n",
            "1/1 - 0s - loss: 0.1169 - val_loss: 0.1003 - 39ms/epoch - 39ms/step\n",
            "Epoch 58/400\n",
            "1/1 - 0s - loss: 0.1115 - val_loss: 0.0953 - 40ms/epoch - 40ms/step\n",
            "Epoch 59/400\n",
            "1/1 - 0s - loss: 0.1062 - val_loss: 0.0905 - 36ms/epoch - 36ms/step\n",
            "Epoch 60/400\n",
            "1/1 - 0s - loss: 0.1010 - val_loss: 0.0858 - 37ms/epoch - 37ms/step\n",
            "Epoch 61/400\n",
            "1/1 - 0s - loss: 0.0959 - val_loss: 0.0813 - 53ms/epoch - 53ms/step\n",
            "Epoch 62/400\n",
            "1/1 - 0s - loss: 0.0910 - val_loss: 0.0769 - 37ms/epoch - 37ms/step\n",
            "Epoch 63/400\n",
            "1/1 - 0s - loss: 0.0863 - val_loss: 0.0728 - 38ms/epoch - 38ms/step\n",
            "Epoch 64/400\n",
            "1/1 - 0s - loss: 0.0816 - val_loss: 0.0688 - 40ms/epoch - 40ms/step\n",
            "Epoch 65/400\n",
            "1/1 - 0s - loss: 0.0772 - val_loss: 0.0650 - 37ms/epoch - 37ms/step\n",
            "Epoch 66/400\n",
            "1/1 - 0s - loss: 0.0729 - val_loss: 0.0614 - 37ms/epoch - 37ms/step\n",
            "Epoch 67/400\n",
            "1/1 - 0s - loss: 0.0687 - val_loss: 0.0581 - 37ms/epoch - 37ms/step\n",
            "Epoch 68/400\n",
            "1/1 - 0s - loss: 0.0648 - val_loss: 0.0549 - 52ms/epoch - 52ms/step\n",
            "Epoch 69/400\n",
            "1/1 - 0s - loss: 0.0610 - val_loss: 0.0519 - 39ms/epoch - 39ms/step\n",
            "Epoch 70/400\n",
            "1/1 - 0s - loss: 0.0574 - val_loss: 0.0492 - 50ms/epoch - 50ms/step\n",
            "Epoch 71/400\n",
            "1/1 - 0s - loss: 0.0539 - val_loss: 0.0467 - 42ms/epoch - 42ms/step\n",
            "Epoch 72/400\n",
            "1/1 - 0s - loss: 0.0507 - val_loss: 0.0444 - 43ms/epoch - 43ms/step\n",
            "Epoch 73/400\n",
            "1/1 - 0s - loss: 0.0477 - val_loss: 0.0424 - 41ms/epoch - 41ms/step\n",
            "Epoch 74/400\n",
            "1/1 - 0s - loss: 0.0448 - val_loss: 0.0405 - 58ms/epoch - 58ms/step\n",
            "Epoch 75/400\n",
            "1/1 - 0s - loss: 0.0422 - val_loss: 0.0389 - 40ms/epoch - 40ms/step\n",
            "Epoch 76/400\n",
            "1/1 - 0s - loss: 0.0397 - val_loss: 0.0376 - 40ms/epoch - 40ms/step\n",
            "Epoch 77/400\n",
            "1/1 - 0s - loss: 0.0375 - val_loss: 0.0364 - 43ms/epoch - 43ms/step\n",
            "Epoch 78/400\n",
            "1/1 - 0s - loss: 0.0354 - val_loss: 0.0355 - 40ms/epoch - 40ms/step\n",
            "Epoch 79/400\n",
            "1/1 - 0s - loss: 0.0336 - val_loss: 0.0348 - 40ms/epoch - 40ms/step\n",
            "Epoch 80/400\n",
            "1/1 - 0s - loss: 0.0319 - val_loss: 0.0343 - 43ms/epoch - 43ms/step\n",
            "Epoch 81/400\n",
            "1/1 - 0s - loss: 0.0304 - val_loss: 0.0340 - 52ms/epoch - 52ms/step\n",
            "Epoch 82/400\n",
            "1/1 - 0s - loss: 0.0291 - val_loss: 0.0339 - 39ms/epoch - 39ms/step\n",
            "Epoch 83/400\n",
            "1/1 - 0s - loss: 0.0279 - val_loss: 0.0339 - 41ms/epoch - 41ms/step\n",
            "Epoch 84/400\n",
            "1/1 - 0s - loss: 0.0269 - val_loss: 0.0341 - 40ms/epoch - 40ms/step\n",
            "Epoch 85/400\n",
            "1/1 - 0s - loss: 0.0261 - val_loss: 0.0344 - 54ms/epoch - 54ms/step\n",
            "Epoch 86/400\n",
            "1/1 - 0s - loss: 0.0253 - val_loss: 0.0348 - 42ms/epoch - 42ms/step\n",
            "Epoch 87/400\n",
            "1/1 - 0s - loss: 0.0247 - val_loss: 0.0353 - 64ms/epoch - 64ms/step\n"
          ]
        }
      ]
    },
    {
      "cell_type": "code",
      "source": [
        "pred = model.predict(input_)"
      ],
      "metadata": {
        "colab": {
          "base_uri": "https://localhost:8080/"
        },
        "id": "wX4qn259CImS",
        "outputId": "0b28a6c2-ff1e-4c46-b7d7-85b1e119a84c"
      },
      "execution_count": 143,
      "outputs": [
        {
          "output_type": "stream",
          "name": "stdout",
          "text": [
            "1/1 [==============================] - 3s 3s/step\n"
          ]
        }
      ]
    },
    {
      "cell_type": "code",
      "source": [
        "pred[0][0]"
      ],
      "metadata": {
        "colab": {
          "base_uri": "https://localhost:8080/"
        },
        "id": "Xs2g9ZfnCRX1",
        "outputId": "703d3dd7-37b8-40e0-a1bd-185a6f9b98c0"
      },
      "execution_count": 146,
      "outputs": [
        {
          "output_type": "execute_result",
          "data": {
            "text/plain": [
              "array([ 0.68646 ,  0.067943,  0.043695,  0.13955 ,  0.406723, -1.01784 ,\n",
              "        0.875451,  0.287262, -1.03062 ,  0.833187,  0.049648,  0.989101],\n",
              "      dtype=float32)"
            ]
          },
          "metadata": {},
          "execution_count": 146
        }
      ]
    },
    {
      "cell_type": "code",
      "source": [
        "target_[0][0]"
      ],
      "metadata": {
        "colab": {
          "base_uri": "https://localhost:8080/"
        },
        "id": "zPFNQgabCYQQ",
        "outputId": "8daacd07-71e1-4dba-ddc2-74ceea49df65"
      },
      "execution_count": 145,
      "outputs": [
        {
          "output_type": "execute_result",
          "data": {
            "text/plain": [
              "array([ 1.      ,  0.02055 ,  0.      ,  0.045455,  0.3     , -0.996971,\n",
              "        0.993242,  0.03125 , -0.9974  ,  0.994884,  0.      ,  1.      ],\n",
              "      dtype=float32)"
            ]
          },
          "metadata": {},
          "execution_count": 145
        }
      ]
    },
    {
      "cell_type": "code",
      "source": [
        "# Plot history (also known as a loss curve)\n",
        "import matplotlib.pyplot as plt\n",
        "pd.DataFrame(history.history).plot()\n",
        "plt.ylabel(\"loss\")\n",
        "plt.xlabel(\"epochs\");"
      ],
      "metadata": {
        "id": "zGKbJXiRHv6w",
        "colab": {
          "base_uri": "https://localhost:8080/",
          "height": 279
        },
        "outputId": "3fbaf4bf-2ae1-488e-d02f-21a62ee06bbf"
      },
      "execution_count": 147,
      "outputs": [
        {
          "output_type": "display_data",
          "data": {
            "text/plain": [
              "<Figure size 432x288 with 1 Axes>"
            ],
            "image/png": "[encoded data removed]"
          },
          "metadata": {
            "needs_background": "light"
          }
        }
      ]
    },
    {
      "cell_type": "code",
      "source": [
        "import numpy as np\n",
        "import matplotlib.pyplot as plt\n",
        "from sklearn.metrics.pairwise import cosine_similarity\n",
        "\n",
        "def plot_vectors_cosine_similarity(vector1, vector2):\n",
        "    similarity = cosine_similarity([vector1], [vector2])[0][0]\n",
        "    fig, ax = plt.subplots()\n",
        "    ax.plot(vector1, label='Prediction')\n",
        "    ax.plot(vector2, label='Target')\n",
        "    ax.set_title('Cosine Similarity: {:.2f}'.format(similarity))\n",
        "    ax.legend()\n",
        "    plt.show()\n",
        "index = 1\n",
        "plot_vectors_cosine_similarity(pred[0][index], target_[0][index])"
      ],
      "metadata": {
        "id": "7v0apwM14SLP"
      },
      "execution_count": null,
      "outputs": []
    },
    {
      "cell_type": "code",
      "source": [
        "def comparison_ordering(master, slave):\n",
        "  \"\"\" Compares and orders the inputs by the preds \"\"\"\n",
        "\n",
        "  max_finder = pd.DataFrame(columns=[\"pred\", \"original_input\", \"cos_similarity\"])\n",
        "  ordered_rides = pd.DataFrame(columns = [\n",
        "    'space_type',\n",
        "    'billable_distance',\n",
        "    'run_name',\n",
        "    'rider.mediroutes_rider_id',\n",
        "    'pickup.event_location.zip',\n",
        "    'pickup.event_location.longitude',\n",
        "    'pickup.event_location.latitude',\n",
        "    'dropoff.event_location.zip',\n",
        "    'dropoff.event_location.longitude',\n",
        "    'dropoff.event_location.latitude',\n",
        "    'pickup_hour',\n",
        "    'pickup_minute',\n",
        "    'prediction_highest_scores',\n",
        "    'similarity_high_score'\n",
        "  ])\n",
        "\n",
        "  for i in master: # order the j vector by the master\n",
        "    for j in slave:\n",
        "      cos_similarity = cosine_similarity(i.reshape(1, -1), j.reshape(1, -1))\n",
        "\n",
        "      # Add mapping to max finder\n",
        "      row = {\"pred\": i, \"original_input\": j, \"cos_similarity\": cos_similarity}\n",
        "      max_finder = max_finder.append(row, ignore_index=True)\n",
        "\n",
        "    # Find the winner\n",
        "    max_row_index = np.argmax(max_finder['cos_similarity'])\n",
        "    most_similar = max_finder.loc[max_row_index]\n",
        "\n",
        "    # Get prediction info - just a check to see if max_row_index is returning the best value every time.\n",
        "    max_finder.sort_values(by='cos_similarity', ascending=False, inplace=True)\n",
        "    scores = max_finder['cos_similarity'][:3]\n",
        "    scores = [round(x[0][0],4) for x in scores]\n",
        "\n",
        "    highest_score = np.amax(scores)\n",
        "    prediction_info = [np.sort(scores), highest_score]\n",
        "\n",
        "    # Add most similar ride to ordered rides in order of predictions against the target\n",
        "    row = {'space_type' : most_similar[1][0],\n",
        "    'billable_distance' : most_similar[1][1],\n",
        "    'run_name' : most_similar[1][2],\n",
        "    'rider.mediroutes_rider_id' : most_similar[1][3],\n",
        "    'pickup.event_location.zip' : most_similar[1][4],\n",
        "    'pickup.event_location.longitude' : most_similar[1][5],\n",
        "    'pickup.event_location.latitude' : most_similar[1][6],\n",
        "    'dropoff.event_location.zip' : most_similar[1][7],\n",
        "    'dropoff.event_location.longitude' : most_similar[1][8],\n",
        "    'dropoff.event_location.latitude' : most_similar[1][9],\n",
        "    'pickup_hour' : most_similar[1][10],\n",
        "    'pickup_minute' : most_similar[1][11],\n",
        "    'prediction_highest_scores' : prediction_info[:-1],\n",
        "    'similarity_high_score' : prediction_info[1]\n",
        "    }\n",
        "    \n",
        "    ordered_rides = ordered_rides.append(row, ignore_index=True)\n",
        "\n",
        "    # Reset max finder so it starts empty for the next iteration\n",
        "    max_finder = pd.DataFrame(columns=[\"pred\", \"original_input\", \"cos_similarity\"])\n",
        "    scores = []\n",
        "  return ordered_rides\n",
        "\n",
        "ordered_rides = comparison_ordering(pred[0], input_[0])"
      ],
      "metadata": {
        "id": "90K2lsxTPWyc"
      },
      "execution_count": null,
      "outputs": []
    },
    {
      "cell_type": "code",
      "source": [
        "ordered_rides.iloc[:10,:]"
      ],
      "metadata": {
        "id": "07H9W81ZGiPd"
      },
      "execution_count": null,
      "outputs": []
    },
    {
      "cell_type": "code",
      "source": [
        "target_df.iloc[:10,:]"
      ],
      "metadata": {
        "id": "wTnrkrIKglu4"
      },
      "execution_count": null,
      "outputs": []
    },
    {
      "cell_type": "code",
      "source": [
        "target_df = pd.DataFrame(target[0], columns=[\n",
        "  'space_type',\n",
        "  'billable_distance',\n",
        "  'run_name',\n",
        "  'rider.mediroutes_rider_id',\n",
        "  'pickup.event_location.zip',\n",
        "  'pickup.event_location.longitude',\n",
        "  'pickup.event_location.latitude',\n",
        "  'dropoff.event_location.zip',\n",
        "  'dropoff.event_location.longitude',\n",
        "  'dropoff.event_location.latitude',\n",
        "  'pickup_hour',\n",
        "  'pickup_minute'\n",
        "])"
      ],
      "metadata": {
        "id": "Ek-heE6VYMsO"
      },
      "execution_count": null,
      "outputs": []
    },
    {
      "cell_type": "code",
      "source": [
        "target_df.head(10)"
      ],
      "metadata": {
        "id": "ghCcnGZ_fUOz"
      },
      "execution_count": null,
      "outputs": []
    },
    {
      "cell_type": "code",
      "source": [],
      "metadata": {
        "id": "KV-UcZupfWid"
      },
      "execution_count": null,
      "outputs": []
    }
  ]
}