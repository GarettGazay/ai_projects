{
  "nbformat": 4,
  "nbformat_minor": 0,
  "metadata": {
    "colab": {
      "provenance": [],
      "mount_file_id": "1YYojrDDX66P7NNFwnoqnppI4t4qMlys8",
      "authorship_tag": "ABX9TyNq4M04dGkoA7AnLXyVuD3k",
      "include_colab_link": true
    },
    "kernelspec": {
      "name": "python3",
      "display_name": "Python 3"
    },
    "language_info": {
      "name": "python"
    },
    "gpuClass": "standard",
    "accelerator": "GPU"
  },
  "cells": [
    {
      "cell_type": "markdown",
      "metadata": {
        "id": "view-in-github",
        "colab_type": "text"
      },
      "source": [
        "<a href=\"https://colab.research.google.com/github/GarettGazay/ai_projects/blob/master/RBSeq2Seq_Train_Loop_GRU_Masking.ipynb\" target=\"_parent\"><img src=\"https://colab.research.google.com/assets/colab-badge.svg\" alt=\"Open In Colab\"/></a>"
      ]
    },
    {
      "cell_type": "markdown",
      "source": [
        "I will use the entire day of rides and the target asset rides to train the model on the target asset but still give provide the dimensionality to the model which will allow for variable length inputs so a model can be trained for each asset, and be able to take rides from the day of rides and output it's selection from it. This model cloned for other assets should produce a schedule where the no dispatcher needed to be involved to schedule 99% of the rides. Later, human dispatchers can alter the rides so that the model continues to learn from humans in real time, giving the model even more precision and generalization capabilities with rides it's never seen."
      ],
      "metadata": {
        "id": "mooDF4xZzBV2"
      }
    },
    {
      "cell_type": "code",
      "execution_count": 71,
      "metadata": {
        "id": "CofSU91rN0tQ"
      },
      "outputs": [],
      "source": [
        "import tensorflow as tf\n",
        "from tensorflow import keras\n",
        "from keras.models import Sequential\n",
        "from keras.layers import LSTM, Dense\n",
        "from sklearn.model_selection import train_test_split\n",
        "import numpy as np\n",
        "import pandas as pd\n",
        "import time"
      ]
    },
    {
      "cell_type": "code",
      "source": [
        "rides = pd.read_csv('/content/run_103.csv')"
      ],
      "metadata": {
        "id": "dHTOk2lyN8H6"
      },
      "execution_count": 72,
      "outputs": []
    },
    {
      "cell_type": "code",
      "source": [
        "rides = rides.drop(['Unnamed: 0',\n",
        "                    'order',\n",
        "                    'rider.first_name',\n",
        "                    'rider.last_name',\n",
        "                    'pickup.event_location.address1',\n",
        "                    'dropoff.event_location.address1',\n",
        "                    'run_name_id',\n",
        "                    'pickup_time',\n",
        "                    ], axis=1)\n"
      ],
      "metadata": {
        "id": "3E_WYqzmOmuR"
      },
      "execution_count": 73,
      "outputs": []
    },
    {
      "cell_type": "code",
      "source": [
        "rides.head()"
      ],
      "metadata": {
        "colab": {
          "base_uri": "https://localhost:8080/",
          "height": 270
        },
        "id": "r84oLFbQE_vl",
        "outputId": "d8ab51b9-e6f5-4e2c-a7a5-b39fb6bc39ed"
      },
      "execution_count": 74,
      "outputs": [
        {
          "output_type": "execute_result",
          "data": {
            "text/plain": [
              "   space_type  billable_distance  run_name  rider.mediroutes_rider_id  \\\n",
              "0    1.000000           0.020619       0.0                   0.045455   \n",
              "1    0.333333           0.005055       0.0                   0.257576   \n",
              "2    1.000000           0.007725       0.0                   0.515151   \n",
              "3    0.333333           0.062177       0.0                   0.272727   \n",
              "4    0.333333           0.013177       0.0                   0.151515   \n",
              "\n",
              "   pickup.event_location.zip  pickup.event_location.longitude  \\\n",
              "0                   0.300000                        -0.996971   \n",
              "1                   0.600000                        -0.996493   \n",
              "2                   0.600000                        -0.996372   \n",
              "3                   0.333333                        -0.993221   \n",
              "4                   0.466667                        -0.995843   \n",
              "\n",
              "   pickup.event_location.latitude  dropoff.event_location.zip  \\\n",
              "0                        0.993242                     0.03125   \n",
              "1                        0.993262                     0.81250   \n",
              "2                        0.992653                     0.81250   \n",
              "3                        0.985946                     0.59375   \n",
              "4                        0.993297                     0.81250   \n",
              "\n",
              "   dropoff.event_location.longitude  dropoff.event_location.latitude  \\\n",
              "0                         -0.997400                         0.994884   \n",
              "1                         -0.996241                         0.993313   \n",
              "2                         -0.996193                         0.992977   \n",
              "3                         -0.994925                         0.990800   \n",
              "4                         -0.996241                         0.993314   \n",
              "\n",
              "   pickup_month  pickup_day  pickup_hour  pickup_minute  \n",
              "0           1.0         2.0     0.000000       1.000000  \n",
              "1           1.0         2.0     0.083333       0.333333  \n",
              "2           1.0         2.0     0.166667       0.000000  \n",
              "3           1.0         2.0     0.333333       0.000000  \n",
              "4           1.0         2.0     0.416667       0.000000  "
            ],
            "text/html": [
              "\n",
              "  <div id=\"df-ba18d276-3f6d-44ac-bad6-e11a662ee230\">\n",
              "    <div class=\"colab-df-container\">\n",
              "      <div>\n",
              "<style scoped>\n",
              "    .dataframe tbody tr th:only-of-type {\n",
              "        vertical-align: middle;\n",
              "    }\n",
              "\n",
              "    .dataframe tbody tr th {\n",
              "        vertical-align: top;\n",
              "    }\n",
              "\n",
              "    .dataframe thead th {\n",
              "        text-align: right;\n",
              "    }\n",
              "</style>\n",
              "<table border=\"1\" class=\"dataframe\">\n",
              "  <thead>\n",
              "    <tr style=\"text-align: right;\">\n",
              "      <th></th>\n",
              "      <th>space_type</th>\n",
              "      <th>billable_distance</th>\n",
              "      <th>run_name</th>\n",
              "      <th>rider.mediroutes_rider_id</th>\n",
              "      <th>pickup.event_location.zip</th>\n",
              "      <th>pickup.event_location.longitude</th>\n",
              "      <th>pickup.event_location.latitude</th>\n",
              "      <th>dropoff.event_location.zip</th>\n",
              "      <th>dropoff.event_location.longitude</th>\n",
              "      <th>dropoff.event_location.latitude</th>\n",
              "      <th>pickup_month</th>\n",
              "      <th>pickup_day</th>\n",
              "      <th>pickup_hour</th>\n",
              "      <th>pickup_minute</th>\n",
              "    </tr>\n",
              "  </thead>\n",
              "  <tbody>\n",
              "    <tr>\n",
              "      <th>0</th>\n",
              "      <td>1.000000</td>\n",
              "      <td>0.020619</td>\n",
              "      <td>0.0</td>\n",
              "      <td>0.045455</td>\n",
              "      <td>0.300000</td>\n",
              "      <td>-0.996971</td>\n",
              "      <td>0.993242</td>\n",
              "      <td>0.03125</td>\n",
              "      <td>-0.997400</td>\n",
              "      <td>0.994884</td>\n",
              "      <td>1.0</td>\n",
              "      <td>2.0</td>\n",
              "      <td>0.000000</td>\n",
              "      <td>1.000000</td>\n",
              "    </tr>\n",
              "    <tr>\n",
              "      <th>1</th>\n",
              "      <td>0.333333</td>\n",
              "      <td>0.005055</td>\n",
              "      <td>0.0</td>\n",
              "      <td>0.257576</td>\n",
              "      <td>0.600000</td>\n",
              "      <td>-0.996493</td>\n",
              "      <td>0.993262</td>\n",
              "      <td>0.81250</td>\n",
              "      <td>-0.996241</td>\n",
              "      <td>0.993313</td>\n",
              "      <td>1.0</td>\n",
              "      <td>2.0</td>\n",
              "      <td>0.083333</td>\n",
              "      <td>0.333333</td>\n",
              "    </tr>\n",
              "    <tr>\n",
              "      <th>2</th>\n",
              "      <td>1.000000</td>\n",
              "      <td>0.007725</td>\n",
              "      <td>0.0</td>\n",
              "      <td>0.515151</td>\n",
              "      <td>0.600000</td>\n",
              "      <td>-0.996372</td>\n",
              "      <td>0.992653</td>\n",
              "      <td>0.81250</td>\n",
              "      <td>-0.996193</td>\n",
              "      <td>0.992977</td>\n",
              "      <td>1.0</td>\n",
              "      <td>2.0</td>\n",
              "      <td>0.166667</td>\n",
              "      <td>0.000000</td>\n",
              "    </tr>\n",
              "    <tr>\n",
              "      <th>3</th>\n",
              "      <td>0.333333</td>\n",
              "      <td>0.062177</td>\n",
              "      <td>0.0</td>\n",
              "      <td>0.272727</td>\n",
              "      <td>0.333333</td>\n",
              "      <td>-0.993221</td>\n",
              "      <td>0.985946</td>\n",
              "      <td>0.59375</td>\n",
              "      <td>-0.994925</td>\n",
              "      <td>0.990800</td>\n",
              "      <td>1.0</td>\n",
              "      <td>2.0</td>\n",
              "      <td>0.333333</td>\n",
              "      <td>0.000000</td>\n",
              "    </tr>\n",
              "    <tr>\n",
              "      <th>4</th>\n",
              "      <td>0.333333</td>\n",
              "      <td>0.013177</td>\n",
              "      <td>0.0</td>\n",
              "      <td>0.151515</td>\n",
              "      <td>0.466667</td>\n",
              "      <td>-0.995843</td>\n",
              "      <td>0.993297</td>\n",
              "      <td>0.81250</td>\n",
              "      <td>-0.996241</td>\n",
              "      <td>0.993314</td>\n",
              "      <td>1.0</td>\n",
              "      <td>2.0</td>\n",
              "      <td>0.416667</td>\n",
              "      <td>0.000000</td>\n",
              "    </tr>\n",
              "  </tbody>\n",
              "</table>\n",
              "</div>\n",
              "      <button class=\"colab-df-convert\" onclick=\"convertToInteractive('df-ba18d276-3f6d-44ac-bad6-e11a662ee230')\"\n",
              "              title=\"Convert this dataframe to an interactive table.\"\n",
              "              style=\"display:none;\">\n",
              "        \n",
              "  <svg xmlns=\"http://www.w3.org/2000/svg\" height=\"24px\"viewBox=\"0 0 24 24\"\n",
              "       width=\"24px\">\n",
              "    <path d=\"M0 0h24v24H0V0z\" fill=\"none\"/>\n",
              "    <path d=\"M18.56 5.44l.94 2.06.94-2.06 2.06-.94-2.06-.94-.94-2.06-.94 2.06-2.06.94zm-11 1L8.5 8.5l.94-2.06 2.06-.94-2.06-.94L8.5 2.5l-.94 2.06-2.06.94zm10 10l.94 2.06.94-2.06 2.06-.94-2.06-.94-.94-2.06-.94 2.06-2.06.94z\"/><path d=\"M17.41 7.96l-1.37-1.37c-.4-.4-.92-.59-1.43-.59-.52 0-1.04.2-1.43.59L10.3 9.45l-7.72 7.72c-.78.78-.78 2.05 0 2.83L4 21.41c.39.39.9.59 1.41.59.51 0 1.02-.2 1.41-.59l7.78-7.78 2.81-2.81c.8-.78.8-2.07 0-2.86zM5.41 20L4 18.59l7.72-7.72 1.47 1.35L5.41 20z\"/>\n",
              "  </svg>\n",
              "      </button>\n",
              "      \n",
              "  <style>\n",
              "    .colab-df-container {\n",
              "      display:flex;\n",
              "      flex-wrap:wrap;\n",
              "      gap: 12px;\n",
              "    }\n",
              "\n",
              "    .colab-df-convert {\n",
              "      background-color: #E8F0FE;\n",
              "      border: none;\n",
              "      border-radius: 50%;\n",
              "      cursor: pointer;\n",
              "      display: none;\n",
              "      fill: #1967D2;\n",
              "      height: 32px;\n",
              "      padding: 0 0 0 0;\n",
              "      width: 32px;\n",
              "    }\n",
              "\n",
              "    .colab-df-convert:hover {\n",
              "      background-color: #E2EBFA;\n",
              "      box-shadow: 0px 1px 2px rgba(60, 64, 67, 0.3), 0px 1px 3px 1px rgba(60, 64, 67, 0.15);\n",
              "      fill: #174EA6;\n",
              "    }\n",
              "\n",
              "    [theme=dark] .colab-df-convert {\n",
              "      background-color: #3B4455;\n",
              "      fill: #D2E3FC;\n",
              "    }\n",
              "\n",
              "    [theme=dark] .colab-df-convert:hover {\n",
              "      background-color: #434B5C;\n",
              "      box-shadow: 0px 1px 3px 1px rgba(0, 0, 0, 0.15);\n",
              "      filter: drop-shadow(0px 1px 2px rgba(0, 0, 0, 0.3));\n",
              "      fill: #FFFFFF;\n",
              "    }\n",
              "  </style>\n",
              "\n",
              "      <script>\n",
              "        const buttonEl =\n",
              "          document.querySelector('#df-ba18d276-3f6d-44ac-bad6-e11a662ee230 button.colab-df-convert');\n",
              "        buttonEl.style.display =\n",
              "          google.colab.kernel.accessAllowed ? 'block' : 'none';\n",
              "\n",
              "        async function convertToInteractive(key) {\n",
              "          const element = document.querySelector('#df-ba18d276-3f6d-44ac-bad6-e11a662ee230');\n",
              "          const dataTable =\n",
              "            await google.colab.kernel.invokeFunction('convertToInteractive',\n",
              "                                                     [key], {});\n",
              "          if (!dataTable) return;\n",
              "\n",
              "          const docLinkHtml = 'Like what you see? Visit the ' +\n",
              "            '<a target=\"_blank\" href=https://colab.research.google.com/notebooks/data_table.ipynb>data table notebook</a>'\n",
              "            + ' to learn more about interactive tables.';\n",
              "          element.innerHTML = '';\n",
              "          dataTable['output_type'] = 'display_data';\n",
              "          await google.colab.output.renderOutput(dataTable, element);\n",
              "          const docLink = document.createElement('div');\n",
              "          docLink.innerHTML = docLinkHtml;\n",
              "          element.appendChild(docLink);\n",
              "        }\n",
              "      </script>\n",
              "    </div>\n",
              "  </div>\n",
              "  "
            ]
          },
          "metadata": {},
          "execution_count": 74
        }
      ]
    },
    {
      "cell_type": "code",
      "source": [
        "rides = rides.astype('float32')\n",
        "rides['run_name'] = rides['run_name'].astype(int)"
      ],
      "metadata": {
        "id": "5rDhFO1OfzGU"
      },
      "execution_count": 75,
      "outputs": []
    },
    {
      "cell_type": "code",
      "source": [
        "# Count the number of NaN values in each column\n",
        "nan_counts = rides.isna().sum()\n",
        "\n",
        "# Display the count of NaN values for each column\n",
        "print(nan_counts)"
      ],
      "metadata": {
        "colab": {
          "base_uri": "https://localhost:8080/"
        },
        "id": "xT45EYbtA8DC",
        "outputId": "8dc5378b-7176-42ad-8b29-326003ec5d63"
      },
      "execution_count": 76,
      "outputs": [
        {
          "output_type": "stream",
          "name": "stdout",
          "text": [
            "space_type                          0\n",
            "billable_distance                   0\n",
            "run_name                            0\n",
            "rider.mediroutes_rider_id           0\n",
            "pickup.event_location.zip           0\n",
            "pickup.event_location.longitude     0\n",
            "pickup.event_location.latitude      0\n",
            "dropoff.event_location.zip          0\n",
            "dropoff.event_location.longitude    0\n",
            "dropoff.event_location.latitude     0\n",
            "pickup_month                        0\n",
            "pickup_day                          0\n",
            "pickup_hour                         0\n",
            "pickup_minute                       0\n",
            "dtype: int64\n"
          ]
        }
      ]
    },
    {
      "cell_type": "code",
      "source": [
        "rides.fillna(0, inplace=True)"
      ],
      "metadata": {
        "id": "LIMduNzpAjSr"
      },
      "execution_count": 77,
      "outputs": []
    },
    {
      "cell_type": "code",
      "source": [
        "rides.dtypes"
      ],
      "metadata": {
        "colab": {
          "base_uri": "https://localhost:8080/"
        },
        "id": "Lr3bpD9Wf77V",
        "outputId": "ada1980a-7be1-4c47-c911-200c9539b992"
      },
      "execution_count": 78,
      "outputs": [
        {
          "output_type": "execute_result",
          "data": {
            "text/plain": [
              "space_type                          float32\n",
              "billable_distance                   float32\n",
              "run_name                              int64\n",
              "rider.mediroutes_rider_id           float32\n",
              "pickup.event_location.zip           float32\n",
              "pickup.event_location.longitude     float32\n",
              "pickup.event_location.latitude      float32\n",
              "dropoff.event_location.zip          float32\n",
              "dropoff.event_location.longitude    float32\n",
              "dropoff.event_location.latitude     float32\n",
              "pickup_month                        float32\n",
              "pickup_day                          float32\n",
              "pickup_hour                         float32\n",
              "pickup_minute                       float32\n",
              "dtype: object"
            ]
          },
          "metadata": {},
          "execution_count": 78
        }
      ]
    },
    {
      "cell_type": "code",
      "source": [
        "rides.head()"
      ],
      "metadata": {
        "colab": {
          "base_uri": "https://localhost:8080/",
          "height": 270
        },
        "id": "l8sXH1M0gB9B",
        "outputId": "3b451658-1891-429c-a925-5ac4c3545cc6"
      },
      "execution_count": 79,
      "outputs": [
        {
          "output_type": "execute_result",
          "data": {
            "text/plain": [
              "   space_type  billable_distance  run_name  rider.mediroutes_rider_id  \\\n",
              "0    1.000000           0.020619         0                   0.045455   \n",
              "1    0.333333           0.005055         0                   0.257576   \n",
              "2    1.000000           0.007725         0                   0.515152   \n",
              "3    0.333333           0.062177         0                   0.272727   \n",
              "4    0.333333           0.013177         0                   0.151515   \n",
              "\n",
              "   pickup.event_location.zip  pickup.event_location.longitude  \\\n",
              "0                   0.300000                        -0.996971   \n",
              "1                   0.600000                        -0.996493   \n",
              "2                   0.600000                        -0.996372   \n",
              "3                   0.333333                        -0.993221   \n",
              "4                   0.466667                        -0.995843   \n",
              "\n",
              "   pickup.event_location.latitude  dropoff.event_location.zip  \\\n",
              "0                        0.993242                     0.03125   \n",
              "1                        0.993262                     0.81250   \n",
              "2                        0.992653                     0.81250   \n",
              "3                        0.985946                     0.59375   \n",
              "4                        0.993297                     0.81250   \n",
              "\n",
              "   dropoff.event_location.longitude  dropoff.event_location.latitude  \\\n",
              "0                         -0.997400                         0.994884   \n",
              "1                         -0.996241                         0.993313   \n",
              "2                         -0.996193                         0.992977   \n",
              "3                         -0.994925                         0.990800   \n",
              "4                         -0.996241                         0.993314   \n",
              "\n",
              "   pickup_month  pickup_day  pickup_hour  pickup_minute  \n",
              "0           1.0         2.0     0.000000       1.000000  \n",
              "1           1.0         2.0     0.083333       0.333333  \n",
              "2           1.0         2.0     0.166667       0.000000  \n",
              "3           1.0         2.0     0.333333       0.000000  \n",
              "4           1.0         2.0     0.416667       0.000000  "
            ],
            "text/html": [
              "\n",
              "  <div id=\"df-1a940d30-62cd-435f-898f-80c3d8622f45\">\n",
              "    <div class=\"colab-df-container\">\n",
              "      <div>\n",
              "<style scoped>\n",
              "    .dataframe tbody tr th:only-of-type {\n",
              "        vertical-align: middle;\n",
              "    }\n",
              "\n",
              "    .dataframe tbody tr th {\n",
              "        vertical-align: top;\n",
              "    }\n",
              "\n",
              "    .dataframe thead th {\n",
              "        text-align: right;\n",
              "    }\n",
              "</style>\n",
              "<table border=\"1\" class=\"dataframe\">\n",
              "  <thead>\n",
              "    <tr style=\"text-align: right;\">\n",
              "      <th></th>\n",
              "      <th>space_type</th>\n",
              "      <th>billable_distance</th>\n",
              "      <th>run_name</th>\n",
              "      <th>rider.mediroutes_rider_id</th>\n",
              "      <th>pickup.event_location.zip</th>\n",
              "      <th>pickup.event_location.longitude</th>\n",
              "      <th>pickup.event_location.latitude</th>\n",
              "      <th>dropoff.event_location.zip</th>\n",
              "      <th>dropoff.event_location.longitude</th>\n",
              "      <th>dropoff.event_location.latitude</th>\n",
              "      <th>pickup_month</th>\n",
              "      <th>pickup_day</th>\n",
              "      <th>pickup_hour</th>\n",
              "      <th>pickup_minute</th>\n",
              "    </tr>\n",
              "  </thead>\n",
              "  <tbody>\n",
              "    <tr>\n",
              "      <th>0</th>\n",
              "      <td>1.000000</td>\n",
              "      <td>0.020619</td>\n",
              "      <td>0</td>\n",
              "      <td>0.045455</td>\n",
              "      <td>0.300000</td>\n",
              "      <td>-0.996971</td>\n",
              "      <td>0.993242</td>\n",
              "      <td>0.03125</td>\n",
              "      <td>-0.997400</td>\n",
              "      <td>0.994884</td>\n",
              "      <td>1.0</td>\n",
              "      <td>2.0</td>\n",
              "      <td>0.000000</td>\n",
              "      <td>1.000000</td>\n",
              "    </tr>\n",
              "    <tr>\n",
              "      <th>1</th>\n",
              "      <td>0.333333</td>\n",
              "      <td>0.005055</td>\n",
              "      <td>0</td>\n",
              "      <td>0.257576</td>\n",
              "      <td>0.600000</td>\n",
              "      <td>-0.996493</td>\n",
              "      <td>0.993262</td>\n",
              "      <td>0.81250</td>\n",
              "      <td>-0.996241</td>\n",
              "      <td>0.993313</td>\n",
              "      <td>1.0</td>\n",
              "      <td>2.0</td>\n",
              "      <td>0.083333</td>\n",
              "      <td>0.333333</td>\n",
              "    </tr>\n",
              "    <tr>\n",
              "      <th>2</th>\n",
              "      <td>1.000000</td>\n",
              "      <td>0.007725</td>\n",
              "      <td>0</td>\n",
              "      <td>0.515152</td>\n",
              "      <td>0.600000</td>\n",
              "      <td>-0.996372</td>\n",
              "      <td>0.992653</td>\n",
              "      <td>0.81250</td>\n",
              "      <td>-0.996193</td>\n",
              "      <td>0.992977</td>\n",
              "      <td>1.0</td>\n",
              "      <td>2.0</td>\n",
              "      <td>0.166667</td>\n",
              "      <td>0.000000</td>\n",
              "    </tr>\n",
              "    <tr>\n",
              "      <th>3</th>\n",
              "      <td>0.333333</td>\n",
              "      <td>0.062177</td>\n",
              "      <td>0</td>\n",
              "      <td>0.272727</td>\n",
              "      <td>0.333333</td>\n",
              "      <td>-0.993221</td>\n",
              "      <td>0.985946</td>\n",
              "      <td>0.59375</td>\n",
              "      <td>-0.994925</td>\n",
              "      <td>0.990800</td>\n",
              "      <td>1.0</td>\n",
              "      <td>2.0</td>\n",
              "      <td>0.333333</td>\n",
              "      <td>0.000000</td>\n",
              "    </tr>\n",
              "    <tr>\n",
              "      <th>4</th>\n",
              "      <td>0.333333</td>\n",
              "      <td>0.013177</td>\n",
              "      <td>0</td>\n",
              "      <td>0.151515</td>\n",
              "      <td>0.466667</td>\n",
              "      <td>-0.995843</td>\n",
              "      <td>0.993297</td>\n",
              "      <td>0.81250</td>\n",
              "      <td>-0.996241</td>\n",
              "      <td>0.993314</td>\n",
              "      <td>1.0</td>\n",
              "      <td>2.0</td>\n",
              "      <td>0.416667</td>\n",
              "      <td>0.000000</td>\n",
              "    </tr>\n",
              "  </tbody>\n",
              "</table>\n",
              "</div>\n",
              "      <button class=\"colab-df-convert\" onclick=\"convertToInteractive('df-1a940d30-62cd-435f-898f-80c3d8622f45')\"\n",
              "              title=\"Convert this dataframe to an interactive table.\"\n",
              "              style=\"display:none;\">\n",
              "        \n",
              "  <svg xmlns=\"http://www.w3.org/2000/svg\" height=\"24px\"viewBox=\"0 0 24 24\"\n",
              "       width=\"24px\">\n",
              "    <path d=\"M0 0h24v24H0V0z\" fill=\"none\"/>\n",
              "    <path d=\"M18.56 5.44l.94 2.06.94-2.06 2.06-.94-2.06-.94-.94-2.06-.94 2.06-2.06.94zm-11 1L8.5 8.5l.94-2.06 2.06-.94-2.06-.94L8.5 2.5l-.94 2.06-2.06.94zm10 10l.94 2.06.94-2.06 2.06-.94-2.06-.94-.94-2.06-.94 2.06-2.06.94z\"/><path d=\"M17.41 7.96l-1.37-1.37c-.4-.4-.92-.59-1.43-.59-.52 0-1.04.2-1.43.59L10.3 9.45l-7.72 7.72c-.78.78-.78 2.05 0 2.83L4 21.41c.39.39.9.59 1.41.59.51 0 1.02-.2 1.41-.59l7.78-7.78 2.81-2.81c.8-.78.8-2.07 0-2.86zM5.41 20L4 18.59l7.72-7.72 1.47 1.35L5.41 20z\"/>\n",
              "  </svg>\n",
              "      </button>\n",
              "      \n",
              "  <style>\n",
              "    .colab-df-container {\n",
              "      display:flex;\n",
              "      flex-wrap:wrap;\n",
              "      gap: 12px;\n",
              "    }\n",
              "\n",
              "    .colab-df-convert {\n",
              "      background-color: #E8F0FE;\n",
              "      border: none;\n",
              "      border-radius: 50%;\n",
              "      cursor: pointer;\n",
              "      display: none;\n",
              "      fill: #1967D2;\n",
              "      height: 32px;\n",
              "      padding: 0 0 0 0;\n",
              "      width: 32px;\n",
              "    }\n",
              "\n",
              "    .colab-df-convert:hover {\n",
              "      background-color: #E2EBFA;\n",
              "      box-shadow: 0px 1px 2px rgba(60, 64, 67, 0.3), 0px 1px 3px 1px rgba(60, 64, 67, 0.15);\n",
              "      fill: #174EA6;\n",
              "    }\n",
              "\n",
              "    [theme=dark] .colab-df-convert {\n",
              "      background-color: #3B4455;\n",
              "      fill: #D2E3FC;\n",
              "    }\n",
              "\n",
              "    [theme=dark] .colab-df-convert:hover {\n",
              "      background-color: #434B5C;\n",
              "      box-shadow: 0px 1px 3px 1px rgba(0, 0, 0, 0.15);\n",
              "      filter: drop-shadow(0px 1px 2px rgba(0, 0, 0, 0.3));\n",
              "      fill: #FFFFFF;\n",
              "    }\n",
              "  </style>\n",
              "\n",
              "      <script>\n",
              "        const buttonEl =\n",
              "          document.querySelector('#df-1a940d30-62cd-435f-898f-80c3d8622f45 button.colab-df-convert');\n",
              "        buttonEl.style.display =\n",
              "          google.colab.kernel.accessAllowed ? 'block' : 'none';\n",
              "\n",
              "        async function convertToInteractive(key) {\n",
              "          const element = document.querySelector('#df-1a940d30-62cd-435f-898f-80c3d8622f45');\n",
              "          const dataTable =\n",
              "            await google.colab.kernel.invokeFunction('convertToInteractive',\n",
              "                                                     [key], {});\n",
              "          if (!dataTable) return;\n",
              "\n",
              "          const docLinkHtml = 'Like what you see? Visit the ' +\n",
              "            '<a target=\"_blank\" href=https://colab.research.google.com/notebooks/data_table.ipynb>data table notebook</a>'\n",
              "            + ' to learn more about interactive tables.';\n",
              "          element.innerHTML = '';\n",
              "          dataTable['output_type'] = 'display_data';\n",
              "          await google.colab.output.renderOutput(dataTable, element);\n",
              "          const docLink = document.createElement('div');\n",
              "          docLink.innerHTML = docLinkHtml;\n",
              "          element.appendChild(docLink);\n",
              "        }\n",
              "      </script>\n",
              "    </div>\n",
              "  </div>\n",
              "  "
            ]
          },
          "metadata": {},
          "execution_count": 79
        }
      ]
    },
    {
      "cell_type": "code",
      "source": [
        "counts = rides.groupby(['pickup_month', 'pickup_day']).size().reset_index(name='counts')\n",
        "counts['counts'].mean()"
      ],
      "metadata": {
        "colab": {
          "base_uri": "https://localhost:8080/"
        },
        "id": "66b6OpD899K4",
        "outputId": "43bedfd0-15b0-440f-dd04-2078bd505138"
      },
      "execution_count": 80,
      "outputs": [
        {
          "output_type": "execute_result",
          "data": {
            "text/plain": [
              "9.357142857142858"
            ]
          },
          "metadata": {},
          "execution_count": 80
        }
      ]
    },
    {
      "cell_type": "code",
      "source": [
        "import matplotlib.pyplot as plt\n",
        "\n",
        "plt.figure(figsize=(20, 7))\n",
        "\n",
        "import matplotlib.pyplot as plt\n",
        "import numpy as np\n",
        "\n",
        "# Calculate the mean and standard deviation of the counts column\n",
        "mean = counts['counts'].mean()\n",
        "std = counts['counts'].std()\n",
        "\n",
        "# Plot the histogram of the counts column\n",
        "counts['counts'].hist(bins=20)\n",
        "\n",
        "# Add vertical lines to indicate mean and standard deviation\n",
        "plt.axvline(mean, color='red', label='Mean')\n",
        "plt.axvline(mean + std, color='blue', label='+1 Standard Deviation')\n",
        "plt.axvline(mean - std, color='blue', label='-1 Standard Deviation')\n",
        "\n",
        "# Add title and labels\n",
        "plt.title('Distribution of Counts Column')\n",
        "plt.xlabel('Counts')\n",
        "plt.ylabel('Frequency')\n",
        "plt.legend()\n",
        "\n",
        "# Show plot\n",
        "plt.show()"
      ],
      "metadata": {
        "colab": {
          "base_uri": "https://localhost:8080/",
          "height": 458
        },
        "id": "of232X7n-F1M",
        "outputId": "26223582-e977-40e7-d51a-094f4fd8dc7a"
      },
      "execution_count": 81,
      "outputs": [
        {
          "output_type": "display_data",
          "data": {
            "text/plain": [
              "<Figure size 1440x504 with 1 Axes>"
            ],
            "image/png": "[encoded data removed]"
          },
          "metadata": {
            "needs_background": "light"
          }
        }
      ]
    },
    {
      "cell_type": "code",
      "source": [
        "rides['pickup_day'] = rides['pickup_day'].fillna(0).astype(int)\n",
        "rides['pickup_month'] = rides['pickup_month'].fillna(0).astype(int)\n",
        "\n",
        "rides['pickup_day'] = rides['pickup_day'].astype(str)\n",
        "rides['pickup_month'] = rides['pickup_month'].astype(str)\n",
        "\n",
        "rides['id'] = rides['pickup_month'] + rides['pickup_day']\n",
        "\n",
        "rides = rides.drop(['pickup_month','pickup_day'], axis=1)"
      ],
      "metadata": {
        "id": "UbRWLKbMNyio"
      },
      "execution_count": 82,
      "outputs": []
    },
    {
      "cell_type": "code",
      "source": [
        "rides.head()"
      ],
      "metadata": {
        "colab": {
          "base_uri": "https://localhost:8080/",
          "height": 270
        },
        "id": "NH9k8ihZgMpm",
        "outputId": "66d5ecb4-bcd2-4972-8d98-f6665b8778f3"
      },
      "execution_count": 83,
      "outputs": [
        {
          "output_type": "execute_result",
          "data": {
            "text/plain": [
              "   space_type  billable_distance  run_name  rider.mediroutes_rider_id  \\\n",
              "0    1.000000           0.020619         0                   0.045455   \n",
              "1    0.333333           0.005055         0                   0.257576   \n",
              "2    1.000000           0.007725         0                   0.515152   \n",
              "3    0.333333           0.062177         0                   0.272727   \n",
              "4    0.333333           0.013177         0                   0.151515   \n",
              "\n",
              "   pickup.event_location.zip  pickup.event_location.longitude  \\\n",
              "0                   0.300000                        -0.996971   \n",
              "1                   0.600000                        -0.996493   \n",
              "2                   0.600000                        -0.996372   \n",
              "3                   0.333333                        -0.993221   \n",
              "4                   0.466667                        -0.995843   \n",
              "\n",
              "   pickup.event_location.latitude  dropoff.event_location.zip  \\\n",
              "0                        0.993242                     0.03125   \n",
              "1                        0.993262                     0.81250   \n",
              "2                        0.992653                     0.81250   \n",
              "3                        0.985946                     0.59375   \n",
              "4                        0.993297                     0.81250   \n",
              "\n",
              "   dropoff.event_location.longitude  dropoff.event_location.latitude  \\\n",
              "0                         -0.997400                         0.994884   \n",
              "1                         -0.996241                         0.993313   \n",
              "2                         -0.996193                         0.992977   \n",
              "3                         -0.994925                         0.990800   \n",
              "4                         -0.996241                         0.993314   \n",
              "\n",
              "   pickup_hour  pickup_minute  id  \n",
              "0     0.000000       1.000000  12  \n",
              "1     0.083333       0.333333  12  \n",
              "2     0.166667       0.000000  12  \n",
              "3     0.333333       0.000000  12  \n",
              "4     0.416667       0.000000  12  "
            ],
            "text/html": [
              "\n",
              "  <div id=\"df-ae8cb6c2-3d40-4d64-94d7-8eb638e23292\">\n",
              "    <div class=\"colab-df-container\">\n",
              "      <div>\n",
              "<style scoped>\n",
              "    .dataframe tbody tr th:only-of-type {\n",
              "        vertical-align: middle;\n",
              "    }\n",
              "\n",
              "    .dataframe tbody tr th {\n",
              "        vertical-align: top;\n",
              "    }\n",
              "\n",
              "    .dataframe thead th {\n",
              "        text-align: right;\n",
              "    }\n",
              "</style>\n",
              "<table border=\"1\" class=\"dataframe\">\n",
              "  <thead>\n",
              "    <tr style=\"text-align: right;\">\n",
              "      <th></th>\n",
              "      <th>space_type</th>\n",
              "      <th>billable_distance</th>\n",
              "      <th>run_name</th>\n",
              "      <th>rider.mediroutes_rider_id</th>\n",
              "      <th>pickup.event_location.zip</th>\n",
              "      <th>pickup.event_location.longitude</th>\n",
              "      <th>pickup.event_location.latitude</th>\n",
              "      <th>dropoff.event_location.zip</th>\n",
              "      <th>dropoff.event_location.longitude</th>\n",
              "      <th>dropoff.event_location.latitude</th>\n",
              "      <th>pickup_hour</th>\n",
              "      <th>pickup_minute</th>\n",
              "      <th>id</th>\n",
              "    </tr>\n",
              "  </thead>\n",
              "  <tbody>\n",
              "    <tr>\n",
              "      <th>0</th>\n",
              "      <td>1.000000</td>\n",
              "      <td>0.020619</td>\n",
              "      <td>0</td>\n",
              "      <td>0.045455</td>\n",
              "      <td>0.300000</td>\n",
              "      <td>-0.996971</td>\n",
              "      <td>0.993242</td>\n",
              "      <td>0.03125</td>\n",
              "      <td>-0.997400</td>\n",
              "      <td>0.994884</td>\n",
              "      <td>0.000000</td>\n",
              "      <td>1.000000</td>\n",
              "      <td>12</td>\n",
              "    </tr>\n",
              "    <tr>\n",
              "      <th>1</th>\n",
              "      <td>0.333333</td>\n",
              "      <td>0.005055</td>\n",
              "      <td>0</td>\n",
              "      <td>0.257576</td>\n",
              "      <td>0.600000</td>\n",
              "      <td>-0.996493</td>\n",
              "      <td>0.993262</td>\n",
              "      <td>0.81250</td>\n",
              "      <td>-0.996241</td>\n",
              "      <td>0.993313</td>\n",
              "      <td>0.083333</td>\n",
              "      <td>0.333333</td>\n",
              "      <td>12</td>\n",
              "    </tr>\n",
              "    <tr>\n",
              "      <th>2</th>\n",
              "      <td>1.000000</td>\n",
              "      <td>0.007725</td>\n",
              "      <td>0</td>\n",
              "      <td>0.515152</td>\n",
              "      <td>0.600000</td>\n",
              "      <td>-0.996372</td>\n",
              "      <td>0.992653</td>\n",
              "      <td>0.81250</td>\n",
              "      <td>-0.996193</td>\n",
              "      <td>0.992977</td>\n",
              "      <td>0.166667</td>\n",
              "      <td>0.000000</td>\n",
              "      <td>12</td>\n",
              "    </tr>\n",
              "    <tr>\n",
              "      <th>3</th>\n",
              "      <td>0.333333</td>\n",
              "      <td>0.062177</td>\n",
              "      <td>0</td>\n",
              "      <td>0.272727</td>\n",
              "      <td>0.333333</td>\n",
              "      <td>-0.993221</td>\n",
              "      <td>0.985946</td>\n",
              "      <td>0.59375</td>\n",
              "      <td>-0.994925</td>\n",
              "      <td>0.990800</td>\n",
              "      <td>0.333333</td>\n",
              "      <td>0.000000</td>\n",
              "      <td>12</td>\n",
              "    </tr>\n",
              "    <tr>\n",
              "      <th>4</th>\n",
              "      <td>0.333333</td>\n",
              "      <td>0.013177</td>\n",
              "      <td>0</td>\n",
              "      <td>0.151515</td>\n",
              "      <td>0.466667</td>\n",
              "      <td>-0.995843</td>\n",
              "      <td>0.993297</td>\n",
              "      <td>0.81250</td>\n",
              "      <td>-0.996241</td>\n",
              "      <td>0.993314</td>\n",
              "      <td>0.416667</td>\n",
              "      <td>0.000000</td>\n",
              "      <td>12</td>\n",
              "    </tr>\n",
              "  </tbody>\n",
              "</table>\n",
              "</div>\n",
              "      <button class=\"colab-df-convert\" onclick=\"convertToInteractive('df-ae8cb6c2-3d40-4d64-94d7-8eb638e23292')\"\n",
              "              title=\"Convert this dataframe to an interactive table.\"\n",
              "              style=\"display:none;\">\n",
              "        \n",
              "  <svg xmlns=\"http://www.w3.org/2000/svg\" height=\"24px\"viewBox=\"0 0 24 24\"\n",
              "       width=\"24px\">\n",
              "    <path d=\"M0 0h24v24H0V0z\" fill=\"none\"/>\n",
              "    <path d=\"M18.56 5.44l.94 2.06.94-2.06 2.06-.94-2.06-.94-.94-2.06-.94 2.06-2.06.94zm-11 1L8.5 8.5l.94-2.06 2.06-.94-2.06-.94L8.5 2.5l-.94 2.06-2.06.94zm10 10l.94 2.06.94-2.06 2.06-.94-2.06-.94-.94-2.06-.94 2.06-2.06.94z\"/><path d=\"M17.41 7.96l-1.37-1.37c-.4-.4-.92-.59-1.43-.59-.52 0-1.04.2-1.43.59L10.3 9.45l-7.72 7.72c-.78.78-.78 2.05 0 2.83L4 21.41c.39.39.9.59 1.41.59.51 0 1.02-.2 1.41-.59l7.78-7.78 2.81-2.81c.8-.78.8-2.07 0-2.86zM5.41 20L4 18.59l7.72-7.72 1.47 1.35L5.41 20z\"/>\n",
              "  </svg>\n",
              "      </button>\n",
              "      \n",
              "  <style>\n",
              "    .colab-df-container {\n",
              "      display:flex;\n",
              "      flex-wrap:wrap;\n",
              "      gap: 12px;\n",
              "    }\n",
              "\n",
              "    .colab-df-convert {\n",
              "      background-color: #E8F0FE;\n",
              "      border: none;\n",
              "      border-radius: 50%;\n",
              "      cursor: pointer;\n",
              "      display: none;\n",
              "      fill: #1967D2;\n",
              "      height: 32px;\n",
              "      padding: 0 0 0 0;\n",
              "      width: 32px;\n",
              "    }\n",
              "\n",
              "    .colab-df-convert:hover {\n",
              "      background-color: #E2EBFA;\n",
              "      box-shadow: 0px 1px 2px rgba(60, 64, 67, 0.3), 0px 1px 3px 1px rgba(60, 64, 67, 0.15);\n",
              "      fill: #174EA6;\n",
              "    }\n",
              "\n",
              "    [theme=dark] .colab-df-convert {\n",
              "      background-color: #3B4455;\n",
              "      fill: #D2E3FC;\n",
              "    }\n",
              "\n",
              "    [theme=dark] .colab-df-convert:hover {\n",
              "      background-color: #434B5C;\n",
              "      box-shadow: 0px 1px 3px 1px rgba(0, 0, 0, 0.15);\n",
              "      filter: drop-shadow(0px 1px 2px rgba(0, 0, 0, 0.3));\n",
              "      fill: #FFFFFF;\n",
              "    }\n",
              "  </style>\n",
              "\n",
              "      <script>\n",
              "        const buttonEl =\n",
              "          document.querySelector('#df-ae8cb6c2-3d40-4d64-94d7-8eb638e23292 button.colab-df-convert');\n",
              "        buttonEl.style.display =\n",
              "          google.colab.kernel.accessAllowed ? 'block' : 'none';\n",
              "\n",
              "        async function convertToInteractive(key) {\n",
              "          const element = document.querySelector('#df-ae8cb6c2-3d40-4d64-94d7-8eb638e23292');\n",
              "          const dataTable =\n",
              "            await google.colab.kernel.invokeFunction('convertToInteractive',\n",
              "                                                     [key], {});\n",
              "          if (!dataTable) return;\n",
              "\n",
              "          const docLinkHtml = 'Like what you see? Visit the ' +\n",
              "            '<a target=\"_blank\" href=https://colab.research.google.com/notebooks/data_table.ipynb>data table notebook</a>'\n",
              "            + ' to learn more about interactive tables.';\n",
              "          element.innerHTML = '';\n",
              "          dataTable['output_type'] = 'display_data';\n",
              "          await google.colab.output.renderOutput(dataTable, element);\n",
              "          const docLink = document.createElement('div');\n",
              "          docLink.innerHTML = docLinkHtml;\n",
              "          element.appendChild(docLink);\n",
              "        }\n",
              "      </script>\n",
              "    </div>\n",
              "  </div>\n",
              "  "
            ]
          },
          "metadata": {},
          "execution_count": 83
        }
      ]
    },
    {
      "cell_type": "code",
      "source": [
        "rides.shape"
      ],
      "metadata": {
        "colab": {
          "base_uri": "https://localhost:8080/"
        },
        "id": "FBGOjDCcPTjV",
        "outputId": "bdb8fd36-44e2-494a-e6e4-073b1fe01be9"
      },
      "execution_count": 84,
      "outputs": [
        {
          "output_type": "execute_result",
          "data": {
            "text/plain": [
              "(262, 13)"
            ]
          },
          "metadata": {},
          "execution_count": 84
        }
      ]
    },
    {
      "cell_type": "code",
      "source": [
        "rides = rides.astype(str)"
      ],
      "metadata": {
        "id": "Wut5nx5c7b8b"
      },
      "execution_count": 85,
      "outputs": []
    },
    {
      "cell_type": "code",
      "source": [
        "rides.values[0].astype('float32')"
      ],
      "metadata": {
        "colab": {
          "base_uri": "https://localhost:8080/"
        },
        "id": "V_8YkxPM8VXo",
        "outputId": "2b0d98ee-8e6b-4a30-dcff-7e509c96eeee"
      },
      "execution_count": 86,
      "outputs": [
        {
          "output_type": "execute_result",
          "data": {
            "text/plain": [
              "array([ 1.      ,  0.020619,  0.      ,  0.045455,  0.3     , -0.996971,\n",
              "        0.993242,  0.03125 , -0.9974  ,  0.994884,  0.      ,  1.      ,\n",
              "       12.      ], dtype=float32)"
            ]
          },
          "metadata": {},
          "execution_count": 86
        }
      ]
    },
    {
      "cell_type": "markdown",
      "source": [
        "# DAY NUMBER WE ARE TRAINING - SET IT HERE FOR ALL BELOW CODE"
      ],
      "metadata": {
        "id": "4sjBm7DVudMj"
      }
    },
    {
      "cell_type": "code",
      "source": [
        "len(max(rides, key=len))"
      ],
      "metadata": {
        "colab": {
          "base_uri": "https://localhost:8080/"
        },
        "id": "7nWqmmNnogVk",
        "outputId": "b9f228f5-6a09-48b4-db05-b5fa55f368fb"
      },
      "execution_count": 87,
      "outputs": [
        {
          "output_type": "execute_result",
          "data": {
            "text/plain": [
              "32"
            ]
          },
          "metadata": {},
          "execution_count": 87
        }
      ]
    },
    {
      "cell_type": "code",
      "source": [
        "day_of_rides = 0\n",
        "sequence_len = 666"
      ],
      "metadata": {
        "id": "nvS5a0uvuei7"
      },
      "execution_count": 88,
      "outputs": []
    },
    {
      "cell_type": "markdown",
      "source": [
        "Put rides into buckets by date"
      ],
      "metadata": {
        "id": "sEJD-HUyvTh2"
      }
    },
    {
      "cell_type": "code",
      "source": [
        "# Group the rows by the 'id' column\n",
        "grouped = rides.groupby('id')\n",
        "\n",
        "# Create a list to store the grouped arrays\n",
        "day_buckets = []\n",
        "\n",
        "# Loop through each group\n",
        "for name, group in grouped:\n",
        "    # Convert the group to a numpy array\n",
        "    group_array = group.values.astype(np.float32)\n",
        "    \n",
        "    # Append the group array to the list of grouped arrays\n",
        "    day_buckets.append(group_array)\n",
        "\n",
        "# Set the display format of the numpy arrays\n",
        "np.set_printoptions(precision=6, suppress=True)\n",
        "\n",
        "# Sort the list of grouped arrays by the first column of each array\n",
        "day_buckets.sort(key=lambda x: x[0][1])\n"
      ],
      "metadata": {
        "id": "_WIOpiJqvQKv"
      },
      "execution_count": 89,
      "outputs": []
    },
    {
      "cell_type": "code",
      "source": [
        "# Do this or when you shuffle below it will shuffle both for some fucking reason, and copy doesn't work.\n",
        "day_buckets_y = [x.astype(str) for x in day_buckets[1:]]"
      ],
      "metadata": {
        "id": "EN2LBJsqw4v9"
      },
      "execution_count": 90,
      "outputs": []
    },
    {
      "cell_type": "code",
      "source": [
        "len(day_buckets_y[9])"
      ],
      "metadata": {
        "colab": {
          "base_uri": "https://localhost:8080/"
        },
        "id": "V10EeogCo3Nu",
        "outputId": "9ba92f40-4eda-4108-a8fa-0afb99189168"
      },
      "execution_count": 91,
      "outputs": [
        {
          "output_type": "execute_result",
          "data": {
            "text/plain": [
              "12"
            ]
          },
          "metadata": {},
          "execution_count": 91
        }
      ]
    },
    {
      "cell_type": "code",
      "source": [
        "# Get a look at the run's yearly unique daily schedule lengths\n",
        "unique_lengths = list(set(len(sub_array) for sub_array in day_buckets_y))"
      ],
      "metadata": {
        "id": "PeBbTAPrDmzi"
      },
      "execution_count": 92,
      "outputs": []
    },
    {
      "cell_type": "code",
      "source": [
        "max(unique_lengths)"
      ],
      "metadata": {
        "colab": {
          "base_uri": "https://localhost:8080/"
        },
        "id": "-kDilEYuDr-k",
        "outputId": "5a5ceed2-2869-4314-bb03-2fc0f516fc11"
      },
      "execution_count": 93,
      "outputs": [
        {
          "output_type": "execute_result",
          "data": {
            "text/plain": [
              "13"
            ]
          },
          "metadata": {},
          "execution_count": 93
        }
      ]
    },
    {
      "cell_type": "code",
      "source": [
        "day_buckets_y[0]"
      ],
      "metadata": {
        "colab": {
          "base_uri": "https://localhost:8080/"
        },
        "id": "-NS5xNNpQgzX",
        "outputId": "9a3ef8c8-260b-4025-c725-a4a3e69fafb6"
      },
      "execution_count": 94,
      "outputs": [
        {
          "output_type": "execute_result",
          "data": {
            "text/plain": [
              "array([['1.0', '0.020550499', '0.0', '0.045454547', '0.3', '-0.99697095',\n",
              "        '0.9932419', '0.03125', '-0.9973999', '0.99488443', '0.0', '1.0',\n",
              "        '110.0'],\n",
              "       ['0.33333334', '0.019966312', '0.0', '0.21212122', '0.26666668',\n",
              "        '-0.99644196', '0.9920201', '0.5625', '-0.9958683', '0.9912264',\n",
              "        '0.083333336', '1.0', '110.0'],\n",
              "       ['0.0', '0.050601106', '0.0', '0.10606061', '0.2', '-0.9980458',\n",
              "        '0.9966702', '0.375', '-0.9967102', '0.9936471', '0.25', '1.0',\n",
              "        '110.0'],\n",
              "       ['1.0', '0.02990315', '0.0', '0.22727273', '0.8666667',\n",
              "        '-0.99619335', '0.992977', '0.96875', '-0.99613476',\n",
              "        '0.99532086', '0.41666666', '0.6666667', '110.0'],\n",
              "       ['1.0', '0.012014573', '0.0', '0.43939394', '0.8666667',\n",
              "        '-0.99619335', '0.992977', '0.71875', '-0.9958649', '0.99306273',\n",
              "        '0.41666666', '0.6666667', '110.0'],\n",
              "       ['1.0', '0.0021703742', '0.0', '0.3030303', '0.6', '-0.9964902',\n",
              "        '0.99326324', '0.59375', '-0.99658185', '0.99327487', '0.5',\n",
              "        '0.6666667', '110.0'],\n",
              "       ['1.0', '0.01565014', '0.0', '0.57575756', '0.56666666',\n",
              "        '-0.9955298', '0.9943158', '0.625', '-0.99534154', '0.9931722',\n",
              "        '0.5833333', '0.44444445', '110.0'],\n",
              "       ['1.0', '0.012727319', '0.0', '0.030303031', '0.6666667',\n",
              "        '-0.9953415', '0.99317205', '0.5', '-0.9955119', '0.9942838',\n",
              "        '0.75', '0.33333334', '110.0']], dtype='<U32')"
            ]
          },
          "metadata": {},
          "execution_count": 94
        }
      ]
    },
    {
      "cell_type": "code",
      "source": [
        "def shuffle_np_array(np_array_list):\n",
        "    for i in range(len(np_array_list)):\n",
        "        np.random.shuffle(np_array_list[i])\n",
        "    return np_array_list\n",
        "\n",
        "day_buckets_X = shuffle_np_array(day_buckets)[1:] # create a shuffled version for X below"
      ],
      "metadata": {
        "id": "mfLy4pFVLyOO"
      },
      "execution_count": 95,
      "outputs": []
    },
    {
      "cell_type": "code",
      "source": [
        "input = []\n",
        "target = []\n",
        "for array in day_buckets_X:\n",
        "    new_array = np.delete(array, -1, axis=1)\n",
        "    input.append(new_array.astype('float32'))\n",
        "\n",
        "count = 0\n",
        "for array in day_buckets_y:\n",
        "    new_array = np.delete(array, -1, axis=1)\n",
        "    target.append(new_array.astype('float32'))\n"
      ],
      "metadata": {
        "id": "1FphjSRRPfcS"
      },
      "execution_count": 96,
      "outputs": []
    },
    {
      "cell_type": "markdown",
      "source": [
        "# Load the model for the training loop"
      ],
      "metadata": {
        "id": "vzlatvG7DfFM"
      }
    },
    {
      "cell_type": "code",
      "source": [
        "# Set early stopping\n",
        "from tensorflow.keras.callbacks import EarlyStopping\n",
        "early_stopping = EarlyStopping(monitor='val_loss', patience=5)"
      ],
      "metadata": {
        "id": "h9EMPOMMDv2Q"
      },
      "execution_count": 97,
      "outputs": []
    },
    {
      "cell_type": "code",
      "source": [
        "# # Create a TensorBoard callback\n",
        "# import datetime\n",
        "\n",
        "# logdir = \"/content/drive/MyDrive/tensorboard_logs\" + datetime.datetime.now().strftime(\"%Y%m%d-%H%M%S\")\n",
        "# tensorboard_callback = tf.keras.callbacks.TensorBoard(log_dir=logdir)"
      ],
      "metadata": {
        "id": "dRE87NtYUSdw"
      },
      "execution_count": 98,
      "outputs": []
    },
    {
      "cell_type": "code",
      "source": [
        "def pad_array(arr):\n",
        "\n",
        "    padding = np.zeros((1, 12))\n",
        "    while arr.shape[0] < sequence_len:\n",
        "        arr = np.concatenate((arr, padding), axis=0)\n",
        "    return arr.astype('float32')\n",
        "\n",
        "def create_validation_set():\n",
        "  random_validation_set = np.random.randint(0, len(day_buckets_X))\n",
        "\n",
        "  if not random_validation_set == day_of_rides:\n",
        "    print('random_validation_set: ', random_validation_set)\n",
        "    print('day_of_rides: ', day_of_rides)\n",
        "    X_val = input[-1].astype('float32')\n",
        "    X_val = pad_array(X_val)\n",
        "\n",
        "    y_val = target[-1].astype('float32')\n",
        "    y_val = pad_array(y_val)\n",
        "\n",
        "    return X_val, y_val\n",
        "  else:\n",
        "    # Recursively call the function until it lands on a random day of rides that doesn't match the training tensor.\n",
        "    create_validation_set()"
      ],
      "metadata": {
        "id": "B89VMskPaI83"
      },
      "execution_count": 99,
      "outputs": []
    },
    {
      "cell_type": "code",
      "source": [
        "# dummy = np.zeros((1,200,12))\n",
        "# dummy.shape\n",
        "# pred = model.predict([input_, dummy])\n",
        "\n",
        "# pred[0][1]"
      ],
      "metadata": {
        "id": "QmOoPUfHYTph"
      },
      "execution_count": 100,
      "outputs": []
    },
    {
      "cell_type": "code",
      "source": [
        "p_test = pad_array(input[day_of_rides])\n",
        "p_test[:15], len(p_test)"
      ],
      "metadata": {
        "colab": {
          "base_uri": "https://localhost:8080/"
        },
        "id": "8kTiIRQiBRN4",
        "outputId": "d5d942db-476b-4fe7-b0b7-479dfbd0a1cf"
      },
      "execution_count": 101,
      "outputs": [
        {
          "output_type": "execute_result",
          "data": {
            "text/plain": [
              "(array([[ 1.      ,  0.012015,  0.      ,  0.439394,  0.866667, -0.996193,\n",
              "          0.992977,  0.71875 , -0.995865,  0.993063,  0.416667,  0.666667],\n",
              "        [ 1.      ,  0.029903,  0.      ,  0.227273,  0.866667, -0.996193,\n",
              "          0.992977,  0.96875 , -0.996135,  0.995321,  0.416667,  0.666667],\n",
              "        [ 1.      ,  0.00217 ,  0.      ,  0.30303 ,  0.6     , -0.99649 ,\n",
              "          0.993263,  0.59375 , -0.996582,  0.993275,  0.5     ,  0.666667],\n",
              "        [ 1.      ,  0.02055 ,  0.      ,  0.045455,  0.3     , -0.996971,\n",
              "          0.993242,  0.03125 , -0.9974  ,  0.994884,  0.      ,  1.      ],\n",
              "        [ 0.333333,  0.019966,  0.      ,  0.212121,  0.266667, -0.996442,\n",
              "          0.99202 ,  0.5625  , -0.995868,  0.991226,  0.083333,  1.      ],\n",
              "        [ 0.      ,  0.050601,  0.      ,  0.106061,  0.2     , -0.998046,\n",
              "          0.99667 ,  0.375   , -0.99671 ,  0.993647,  0.25    ,  1.      ],\n",
              "        [ 1.      ,  0.012727,  0.      ,  0.030303,  0.666667, -0.995341,\n",
              "          0.993172,  0.5     , -0.995512,  0.994284,  0.75    ,  0.333333],\n",
              "        [ 1.      ,  0.01565 ,  0.      ,  0.575758,  0.566667, -0.99553 ,\n",
              "          0.994316,  0.625   , -0.995342,  0.993172,  0.583333,  0.444444],\n",
              "        [ 0.      ,  0.      ,  0.      ,  0.      ,  0.      ,  0.      ,\n",
              "          0.      ,  0.      ,  0.      ,  0.      ,  0.      ,  0.      ],\n",
              "        [ 0.      ,  0.      ,  0.      ,  0.      ,  0.      ,  0.      ,\n",
              "          0.      ,  0.      ,  0.      ,  0.      ,  0.      ,  0.      ],\n",
              "        [ 0.      ,  0.      ,  0.      ,  0.      ,  0.      ,  0.      ,\n",
              "          0.      ,  0.      ,  0.      ,  0.      ,  0.      ,  0.      ],\n",
              "        [ 0.      ,  0.      ,  0.      ,  0.      ,  0.      ,  0.      ,\n",
              "          0.      ,  0.      ,  0.      ,  0.      ,  0.      ,  0.      ],\n",
              "        [ 0.      ,  0.      ,  0.      ,  0.      ,  0.      ,  0.      ,\n",
              "          0.      ,  0.      ,  0.      ,  0.      ,  0.      ,  0.      ],\n",
              "        [ 0.      ,  0.      ,  0.      ,  0.      ,  0.      ,  0.      ,\n",
              "          0.      ,  0.      ,  0.      ,  0.      ,  0.      ,  0.      ],\n",
              "        [ 0.      ,  0.      ,  0.      ,  0.      ,  0.      ,  0.      ,\n",
              "          0.      ,  0.      ,  0.      ,  0.      ,  0.      ,  0.      ]],\n",
              "       dtype=float32), 666)"
            ]
          },
          "metadata": {},
          "execution_count": 101
        }
      ]
    },
    {
      "cell_type": "code",
      "source": [
        "test = tf.equal(input[0][:, 2], 0)"
      ],
      "metadata": {
        "id": "xXkyWueF3IUn"
      },
      "execution_count": 102,
      "outputs": []
    },
    {
      "cell_type": "code",
      "source": [
        "test"
      ],
      "metadata": {
        "colab": {
          "base_uri": "https://localhost:8080/"
        },
        "id": "uaJUqt8r5IsW",
        "outputId": "9c44630f-11a6-4a5c-c96d-9c90dbfeb6c3"
      },
      "execution_count": 103,
      "outputs": [
        {
          "output_type": "execute_result",
          "data": {
            "text/plain": [
              "<tf.Tensor: shape=(8,), dtype=bool, numpy=array([ True,  True,  True,  True,  True,  True,  True,  True])>"
            ]
          },
          "metadata": {},
          "execution_count": 103
        }
      ]
    },
    {
      "cell_type": "code",
      "source": [
        "first_run = False\n",
        "\n",
        "# TRAINING LOOP\n",
        "start_at = 12\n",
        "train_until = 30\n",
        "for day_of_rides in range(start_at, train_until): # num days to be trained\n",
        "\n",
        "  if not first_run:\n",
        "    print(f'Training {day_of_rides} of {train_until}')\n",
        "    model = keras.models.load_model('/content/drive/MyDrive/Colab_Models/RBSeq2Seq')\n",
        "    print('Model loaded.')\n",
        "\n",
        "  # Pad the input\n",
        "  input[day_of_rides] = pad_array(input[day_of_rides])\n",
        "  target[day_of_rides] = pad_array(target[day_of_rides])\n",
        "\n",
        "  # Truncate input to defined sequence length\n",
        "  input[day_of_rides] = input[day_of_rides][:sequence_len]\n",
        "  target[day_of_rides] = target[day_of_rides][:sequence_len]\n",
        "\n",
        "  # Create Random Validation Set\n",
        "  X_val, y_val = create_validation_set()\n",
        "\n",
        "  # Create Input and Target Df's\n",
        "  input_df = pd.DataFrame(input[day_of_rides], columns=[\n",
        "  'input_space_type',\n",
        "  'input_billable_distance',\n",
        "  'input_run_name',\n",
        "  'input_rider.mediroutes_rider_id',\n",
        "  'input_pickup.event_location.zip',\n",
        "  'input_pickup.event_location.longitude',\n",
        "  'input_pickup.event_location.latitude',\n",
        "  'input_dropoff.event_location.zip',\n",
        "  'input_dropoff.event_location.longitude',\n",
        "  'input_dropoff.event_location.latitude',\n",
        "  'input_pickup_hour',\n",
        "  'input_pickup_minute'\n",
        "  ])\n",
        "\n",
        "  target_df = pd.DataFrame(target[day_of_rides], columns=[\n",
        "  'target_space_type',\n",
        "  'target_billable_distance',\n",
        "  'target_run_name',\n",
        "  'target_rider.mediroutes_rider_id',\n",
        "  'target_pickup.event_location.zip',\n",
        "  'target_pickup.event_location.longitude',\n",
        "  'target_pickup.event_location.latitude',\n",
        "  'target_dropoff.event_location.zip',\n",
        "  'target_dropoff.event_location.longitude',\n",
        "  'target_dropoff.event_location.latitude',\n",
        "  'target_pickup_hour',\n",
        "  'target_pickup_minute'\n",
        "  ])\n",
        "\n",
        "  # Define the input and output shape\n",
        "  input_shape = (sequence_len, 12)\n",
        "  output_shape = (sequence_len, 12)\n",
        "\n",
        "  # Set the input and target to the day of rides iteration\n",
        "  input_orig = input[day_of_rides]\n",
        "  target_orig = target[day_of_rides]\n",
        "\n",
        "  input_ = input_orig.reshape(1, *input_orig.shape)\n",
        "  target_ = target_orig.reshape(1, *target_orig.shape)\n",
        "  X_val = X_val.reshape(1, *X_val.shape)\n",
        "  y_val = y_val.reshape(1, *y_val.shape)\n",
        "\n",
        "  print(input_.shape)\n",
        "  print(input_.shape)\n",
        "  print(X_val.shape)\n",
        "  print(y_val.shape)\n",
        "\n",
        "  # Define input tensor with variable sequence length\n",
        "  inputs = keras.layers.Input(shape=(None, 12))\n",
        "\n",
        "  # Mask to filter out all elements of the input sequence that don't correspond to the target vehicle ID\n",
        "  mask = keras.layers.Lambda(lambda x: tf.not_equal(tf.reduce_sum(x, axis=-1), 0))(inputs)\n",
        "\n",
        "  masking = keras.layers.Masking(mask_value=0.0)\n",
        "  masked_inputs = masking(inputs)\n",
        "\n",
        "  encoder = keras.layers.GRU(128, return_state=True)\n",
        "  encoder_outputs, state_h = encoder(masked_inputs, mask=mask)\n",
        "\n",
        "  encoder_states = [state_h]\n",
        "\n",
        "  decoder = keras.layers.GRU(128, return_sequences=True)\n",
        "  decoder_outputs = decoder(masked_inputs, initial_state=encoder_states, mask=mask)\n",
        "\n",
        "  outputs = keras.layers.Dense(12, activation='linear')(decoder_outputs)\n",
        "\n",
        "\n",
        "  # Compile the model\n",
        "  if first_run:\n",
        "    model = keras.models.Model(inputs=inputs, outputs=outputs)\n",
        "    model.compile(optimizer=tf.keras.optimizers.Adam(learning_rate=0.0001),\n",
        "                  loss=tf.keras.losses.mse)\n",
        "\n",
        "  # Train the model\n",
        "  history = model.fit(input_, target_, epochs=400, batch_size=32, validation_data=(X_val, y_val), callbacks=[early_stopping], verbose=2)\n",
        "  model.save('/content/drive/MyDrive/Colab_Models/RBSeq2Seq')\n",
        "  print('Model saved.')"
      ],
      "metadata": {
        "id": "9CtimNfiLsCU",
        "colab": {
          "base_uri": "https://localhost:8080/"
        },
        "outputId": "661be96f-7556-4979-db9c-99481f93e4a0"
      },
      "execution_count": null,
      "outputs": [
        {
          "output_type": "stream",
          "name": "stdout",
          "text": [
            "Training 12 of 30\n",
            "Model loaded.\n",
            "random_validation_set:  24\n",
            "day_of_rides:  12\n",
            "(1, 666, 12)\n",
            "(1, 666, 12)\n",
            "(1, 666, 12)\n",
            "(1, 666, 12)\n",
            "Epoch 1/400\n",
            "1/1 - 10s - loss: 0.0317 - val_loss: 0.0346 - 10s/epoch - 10s/step\n",
            "Epoch 2/400\n",
            "1/1 - 0s - loss: 0.0305 - val_loss: 0.0357 - 41ms/epoch - 41ms/step\n",
            "Epoch 3/400\n",
            "1/1 - 0s - loss: 0.0295 - val_loss: 0.0370 - 38ms/epoch - 38ms/step\n",
            "Epoch 4/400\n",
            "1/1 - 0s - loss: 0.0286 - val_loss: 0.0384 - 40ms/epoch - 40ms/step\n",
            "Epoch 5/400\n",
            "1/1 - 0s - loss: 0.0280 - val_loss: 0.0398 - 38ms/epoch - 38ms/step\n",
            "Epoch 6/400\n",
            "1/1 - 0s - loss: 0.0274 - val_loss: 0.0412 - 37ms/epoch - 37ms/step\n"
          ]
        },
        {
          "output_type": "stream",
          "name": "stderr",
          "text": [
            "WARNING:absl:Found untraced functions such as gru_cell_68_layer_call_fn, gru_cell_68_layer_call_and_return_conditional_losses, gru_cell_69_layer_call_fn, gru_cell_69_layer_call_and_return_conditional_losses while saving (showing 4 of 4). These functions will not be directly callable after loading.\n"
          ]
        },
        {
          "output_type": "stream",
          "name": "stdout",
          "text": [
            "Model saved.\n",
            "Training 13 of 30\n",
            "Model loaded.\n",
            "random_validation_set:  21\n",
            "day_of_rides:  13\n",
            "(1, 666, 12)\n",
            "(1, 666, 12)\n",
            "(1, 666, 12)\n",
            "(1, 666, 12)\n",
            "Epoch 1/400\n",
            "1/1 - 11s - loss: 0.0235 - val_loss: 0.0407 - 11s/epoch - 11s/step\n",
            "Epoch 2/400\n",
            "1/1 - 0s - loss: 0.0226 - val_loss: 0.0405 - 41ms/epoch - 41ms/step\n",
            "Epoch 3/400\n",
            "1/1 - 0s - loss: 0.0218 - val_loss: 0.0406 - 38ms/epoch - 38ms/step\n",
            "Epoch 4/400\n",
            "1/1 - 0s - loss: 0.0212 - val_loss: 0.0409 - 38ms/epoch - 38ms/step\n",
            "Epoch 5/400\n",
            "1/1 - 0s - loss: 0.0209 - val_loss: 0.0415 - 36ms/epoch - 36ms/step\n",
            "Epoch 6/400\n",
            "1/1 - 0s - loss: 0.0206 - val_loss: 0.0421 - 37ms/epoch - 37ms/step\n",
            "Epoch 7/400\n",
            "1/1 - 0s - loss: 0.0204 - val_loss: 0.0427 - 54ms/epoch - 54ms/step\n"
          ]
        },
        {
          "output_type": "stream",
          "name": "stderr",
          "text": [
            "WARNING:absl:Found untraced functions such as gru_cell_72_layer_call_fn, gru_cell_72_layer_call_and_return_conditional_losses, gru_cell_73_layer_call_fn, gru_cell_73_layer_call_and_return_conditional_losses while saving (showing 4 of 4). These functions will not be directly callable after loading.\n"
          ]
        }
      ]
    },
    {
      "cell_type": "code",
      "source": [
        "pred = model.predict(input_)"
      ],
      "metadata": {
        "colab": {
          "base_uri": "https://localhost:8080/"
        },
        "id": "wX4qn259CImS",
        "outputId": "b3ce100b-029a-4501-8800-dc79d8c6d570"
      },
      "execution_count": 112,
      "outputs": [
        {
          "output_type": "stream",
          "name": "stdout",
          "text": [
            "1/1 [==============================] - 2s 2s/step\n"
          ]
        }
      ]
    },
    {
      "cell_type": "code",
      "source": [
        "pred[0][0]"
      ],
      "metadata": {
        "colab": {
          "base_uri": "https://localhost:8080/"
        },
        "id": "Xs2g9ZfnCRX1",
        "outputId": "1a20f6fb-2764-4122-8380-2ebca654e617"
      },
      "execution_count": 113,
      "outputs": [
        {
          "output_type": "execute_result",
          "data": {
            "text/plain": [
              "array([ 0.525811, -0.003488, -0.075438,  0.169773,  0.291684, -0.988388,\n",
              "        0.944668,  0.188942, -0.827027,  0.959741,  0.038721,  0.954705],\n",
              "      dtype=float32)"
            ]
          },
          "metadata": {},
          "execution_count": 113
        }
      ]
    },
    {
      "cell_type": "code",
      "source": [
        "target_[0][0]"
      ],
      "metadata": {
        "colab": {
          "base_uri": "https://localhost:8080/"
        },
        "id": "zPFNQgabCYQQ",
        "outputId": "1c90e64a-6ddf-4bc3-b418-936ec03cb235"
      },
      "execution_count": 114,
      "outputs": [
        {
          "output_type": "execute_result",
          "data": {
            "text/plain": [
              "array([ 1.      ,  0.02055 ,  0.      ,  0.045455,  0.3     , -0.996971,\n",
              "        0.993242,  0.03125 , -0.9974  ,  0.994884,  0.      ,  1.      ],\n",
              "      dtype=float32)"
            ]
          },
          "metadata": {},
          "execution_count": 114
        }
      ]
    },
    {
      "cell_type": "code",
      "source": [
        "# Plot history (also known as a loss curve)\n",
        "import matplotlib.pyplot as plt\n",
        "pd.DataFrame(history.history).plot()\n",
        "plt.ylabel(\"loss\")\n",
        "plt.xlabel(\"epochs\");"
      ],
      "metadata": {
        "id": "zGKbJXiRHv6w",
        "colab": {
          "base_uri": "https://localhost:8080/",
          "height": 279
        },
        "outputId": "2b54a568-20ff-448b-a6b8-4f39bc3292d4"
      },
      "execution_count": 115,
      "outputs": [
        {
          "output_type": "display_data",
          "data": {
            "text/plain": [
              "<Figure size 432x288 with 1 Axes>"
            ],
            "image/png": "[encoded data removed]"
          },
          "metadata": {
            "needs_background": "light"
          }
        }
      ]
    },
    {
      "cell_type": "code",
      "source": [
        "import numpy as np\n",
        "import matplotlib.pyplot as plt\n",
        "from sklearn.metrics.pairwise import cosine_similarity\n",
        "\n",
        "def plot_vectors_cosine_similarity(vector1, vector2):\n",
        "    similarity = cosine_similarity([vector1], [vector2])[0][0]\n",
        "    fig, ax = plt.subplots()\n",
        "    ax.plot(vector1, label='Prediction')\n",
        "    ax.plot(vector2, label='Target')\n",
        "    ax.set_title('Cosine Similarity: {:.2f}'.format(similarity))\n",
        "    ax.legend()\n",
        "    plt.show()\n",
        "index = 1\n",
        "plot_vectors_cosine_similarity(pred[0][index], target_[0][index])"
      ],
      "metadata": {
        "id": "7v0apwM14SLP"
      },
      "execution_count": null,
      "outputs": []
    },
    {
      "cell_type": "code",
      "source": [
        "def comparison_ordering(master, slave):\n",
        "  \"\"\" Compares and orders the inputs by the preds \"\"\"\n",
        "\n",
        "  max_finder = pd.DataFrame(columns=[\"pred\", \"original_input\", \"cos_similarity\"])\n",
        "  ordered_rides = pd.DataFrame(columns = [\n",
        "    'space_type',\n",
        "    'billable_distance',\n",
        "    'run_name',\n",
        "    'rider.mediroutes_rider_id',\n",
        "    'pickup.event_location.zip',\n",
        "    'pickup.event_location.longitude',\n",
        "    'pickup.event_location.latitude',\n",
        "    'dropoff.event_location.zip',\n",
        "    'dropoff.event_location.longitude',\n",
        "    'dropoff.event_location.latitude',\n",
        "    'pickup_hour',\n",
        "    'pickup_minute',\n",
        "    'prediction_highest_scores',\n",
        "    'similarity_high_score'\n",
        "  ])\n",
        "\n",
        "  for i in master: # order the j vector by the master\n",
        "    for j in slave:\n",
        "      cos_similarity = cosine_similarity(i.reshape(1, -1), j.reshape(1, -1))\n",
        "\n",
        "      # Add mapping to max finder\n",
        "      row = {\"pred\": i, \"original_input\": j, \"cos_similarity\": cos_similarity}\n",
        "      max_finder = max_finder.append(row, ignore_index=True)\n",
        "\n",
        "    # Find the winner\n",
        "    max_row_index = np.argmax(max_finder['cos_similarity'])\n",
        "    most_similar = max_finder.loc[max_row_index]\n",
        "\n",
        "    # Get prediction info - just a check to see if max_row_index is returning the best value every time.\n",
        "    max_finder.sort_values(by='cos_similarity', ascending=False, inplace=True)\n",
        "    scores = max_finder['cos_similarity'][:3]\n",
        "    scores = [round(x[0][0],4) for x in scores]\n",
        "\n",
        "    highest_score = np.amax(scores)\n",
        "    prediction_info = [np.sort(scores), highest_score]\n",
        "\n",
        "    # Add most similar ride to ordered rides in order of predictions against the target\n",
        "    row = {'space_type' : most_similar[1][0],\n",
        "    'billable_distance' : most_similar[1][1],\n",
        "    'run_name' : most_similar[1][2],\n",
        "    'rider.mediroutes_rider_id' : most_similar[1][3],\n",
        "    'pickup.event_location.zip' : most_similar[1][4],\n",
        "    'pickup.event_location.longitude' : most_similar[1][5],\n",
        "    'pickup.event_location.latitude' : most_similar[1][6],\n",
        "    'dropoff.event_location.zip' : most_similar[1][7],\n",
        "    'dropoff.event_location.longitude' : most_similar[1][8],\n",
        "    'dropoff.event_location.latitude' : most_similar[1][9],\n",
        "    'pickup_hour' : most_similar[1][10],\n",
        "    'pickup_minute' : most_similar[1][11],\n",
        "    'prediction_highest_scores' : prediction_info[:-1],\n",
        "    'similarity_high_score' : prediction_info[1]\n",
        "    }\n",
        "    \n",
        "    ordered_rides = ordered_rides.append(row, ignore_index=True)\n",
        "\n",
        "    # Reset max finder so it starts empty for the next iteration\n",
        "    max_finder = pd.DataFrame(columns=[\"pred\", \"original_input\", \"cos_similarity\"])\n",
        "    scores = []\n",
        "  return ordered_rides\n",
        "\n",
        "ordered_rides = comparison_ordering(pred[0], input_[0])"
      ],
      "metadata": {
        "id": "90K2lsxTPWyc"
      },
      "execution_count": null,
      "outputs": []
    },
    {
      "cell_type": "code",
      "source": [
        "ordered_rides.iloc[:10,:]"
      ],
      "metadata": {
        "id": "07H9W81ZGiPd"
      },
      "execution_count": null,
      "outputs": []
    },
    {
      "cell_type": "code",
      "source": [
        "target_df.iloc[:10,:]"
      ],
      "metadata": {
        "id": "wTnrkrIKglu4"
      },
      "execution_count": null,
      "outputs": []
    },
    {
      "cell_type": "code",
      "source": [
        "target_df = pd.DataFrame(target[0], columns=[\n",
        "  'space_type',\n",
        "  'billable_distance',\n",
        "  'run_name',\n",
        "  'rider.mediroutes_rider_id',\n",
        "  'pickup.event_location.zip',\n",
        "  'pickup.event_location.longitude',\n",
        "  'pickup.event_location.latitude',\n",
        "  'dropoff.event_location.zip',\n",
        "  'dropoff.event_location.longitude',\n",
        "  'dropoff.event_location.latitude',\n",
        "  'pickup_hour',\n",
        "  'pickup_minute'\n",
        "])"
      ],
      "metadata": {
        "id": "Ek-heE6VYMsO"
      },
      "execution_count": null,
      "outputs": []
    },
    {
      "cell_type": "code",
      "source": [
        "target_df.head(10)"
      ],
      "metadata": {
        "id": "ghCcnGZ_fUOz"
      },
      "execution_count": null,
      "outputs": []
    },
    {
      "cell_type": "code",
      "source": [],
      "metadata": {
        "id": "KV-UcZupfWid"
      },
      "execution_count": null,
      "outputs": []
    }
  ]
}