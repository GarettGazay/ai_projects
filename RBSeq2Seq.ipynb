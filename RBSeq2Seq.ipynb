{
  "nbformat": 4,
  "nbformat_minor": 0,
  "metadata": {
    "colab": {
      "provenance": [],
      "authorship_tag": "ABX9TyOWA2AfO6aesKgokS8OgY0q",
      "include_colab_link": true
    },
    "kernelspec": {
      "name": "python3",
      "display_name": "Python 3"
    },
    "language_info": {
      "name": "python"
    },
    "accelerator": "GPU",
    "gpuClass": "standard"
  },
  "cells": [
    {
      "cell_type": "markdown",
      "metadata": {
        "id": "view-in-github",
        "colab_type": "text"
      },
      "source": [
        "<a href=\"https://colab.research.google.com/github/GarettGazay/ai_projects/blob/master/RBSeq2Seq.ipynb\" target=\"_parent\"><img src=\"https://colab.research.google.com/assets/colab-badge.svg\" alt=\"Open In Colab\"/></a>"
      ]
    },
    {
      "cell_type": "code",
      "execution_count": 1320,
      "metadata": {
        "id": "CofSU91rN0tQ"
      },
      "outputs": [],
      "source": [
        "import tensorflow as tf\n",
        "from tensorflow import keras\n",
        "from keras.models import Sequential\n",
        "from keras.layers import LSTM, Dense\n",
        "from sklearn.model_selection import train_test_split\n",
        "import numpy as np\n",
        "import pandas as pd\n",
        "import time"
      ]
    },
    {
      "cell_type": "code",
      "source": [
        "rides = pd.read_csv('/content/ordering_dataset.csv')"
      ],
      "metadata": {
        "id": "dHTOk2lyN8H6"
      },
      "execution_count": 1321,
      "outputs": []
    },
    {
      "cell_type": "code",
      "source": [
        "rides = rides.drop(['Unnamed: 0','order','rider.first_name','rider.last_name','pickup.event_location.address1','dropoff.event_location.address1'], axis=1)"
      ],
      "metadata": {
        "id": "3E_WYqzmOmuR"
      },
      "execution_count": 1322,
      "outputs": []
    },
    {
      "cell_type": "code",
      "source": [
        "rides.head()"
      ],
      "metadata": {
        "colab": {
          "base_uri": "https://localhost:8080/",
          "height": 270
        },
        "id": "r84oLFbQE_vl",
        "outputId": "c5290795-6372-448f-aa0e-eb3981531cd0"
      },
      "execution_count": 1323,
      "outputs": [
        {
          "output_type": "execute_result",
          "data": {
            "text/plain": [
              "   space_type  billable_distance  run_name  rider.mediroutes_rider_id  \\\n",
              "0    1.000000           0.012314  0.181818                   0.184127   \n",
              "1    1.000000           0.006394  0.181818                   0.198413   \n",
              "2    1.000000           0.003826  0.181818                   0.182540   \n",
              "3    0.333333           0.023389  0.136364                   0.220635   \n",
              "4    0.333333           0.018819  0.136364                   0.092063   \n",
              "\n",
              "   pickup.event_location.zip  pickup.event_location.longitude  \\\n",
              "0                   0.508772                        -0.996364   \n",
              "1                   0.350877                        -0.996461   \n",
              "2                   0.824561                        -0.996339   \n",
              "3                   0.771930                        -0.996058   \n",
              "4                   0.719298                        -0.995385   \n",
              "\n",
              "   pickup.event_location.latitude  dropoff.event_location.zip  \\\n",
              "0                        0.992340                    0.857143   \n",
              "1                        0.989864                    0.825397   \n",
              "2                        0.990125                    0.825397   \n",
              "3                        0.990114                    0.682540   \n",
              "4                        0.991005                    0.746032   \n",
              "\n",
              "   dropoff.event_location.longitude  dropoff.event_location.latitude  \\\n",
              "0                         -0.990424                         0.848616   \n",
              "1                         -0.990674                         0.847189   \n",
              "2                         -0.990674                         0.847189   \n",
              "3                         -0.989395                         0.845235   \n",
              "4                         -0.989807                         0.845745   \n",
              "\n",
              "   pickup_month  pickup_day  pickup_hour  pickup_minute  dropoff_hour  \\\n",
              "0           1.0         1.0     0.095238       0.517241      0.000000   \n",
              "1           1.0         1.0     0.142857       0.517241      0.105263   \n",
              "2           1.0         1.0     0.142857       0.517241      0.105263   \n",
              "3           1.0         1.0     0.238095       0.206897      0.210526   \n",
              "4           1.0         1.0     0.285714       0.517241      0.263158   \n",
              "\n",
              "   dropoff_minute  \n",
              "0        0.818182  \n",
              "1        0.000000  \n",
              "2        0.000000  \n",
              "3        0.000000  \n",
              "4        0.545455  "
            ],
            "text/html": [
              "\n",
              "  <div id=\"df-b89a1754-d0b9-4d29-9c83-839730d58724\">\n",
              "    <div class=\"colab-df-container\">\n",
              "      <div>\n",
              "<style scoped>\n",
              "    .dataframe tbody tr th:only-of-type {\n",
              "        vertical-align: middle;\n",
              "    }\n",
              "\n",
              "    .dataframe tbody tr th {\n",
              "        vertical-align: top;\n",
              "    }\n",
              "\n",
              "    .dataframe thead th {\n",
              "        text-align: right;\n",
              "    }\n",
              "</style>\n",
              "<table border=\"1\" class=\"dataframe\">\n",
              "  <thead>\n",
              "    <tr style=\"text-align: right;\">\n",
              "      <th></th>\n",
              "      <th>space_type</th>\n",
              "      <th>billable_distance</th>\n",
              "      <th>run_name</th>\n",
              "      <th>rider.mediroutes_rider_id</th>\n",
              "      <th>pickup.event_location.zip</th>\n",
              "      <th>pickup.event_location.longitude</th>\n",
              "      <th>pickup.event_location.latitude</th>\n",
              "      <th>dropoff.event_location.zip</th>\n",
              "      <th>dropoff.event_location.longitude</th>\n",
              "      <th>dropoff.event_location.latitude</th>\n",
              "      <th>pickup_month</th>\n",
              "      <th>pickup_day</th>\n",
              "      <th>pickup_hour</th>\n",
              "      <th>pickup_minute</th>\n",
              "      <th>dropoff_hour</th>\n",
              "      <th>dropoff_minute</th>\n",
              "    </tr>\n",
              "  </thead>\n",
              "  <tbody>\n",
              "    <tr>\n",
              "      <th>0</th>\n",
              "      <td>1.000000</td>\n",
              "      <td>0.012314</td>\n",
              "      <td>0.181818</td>\n",
              "      <td>0.184127</td>\n",
              "      <td>0.508772</td>\n",
              "      <td>-0.996364</td>\n",
              "      <td>0.992340</td>\n",
              "      <td>0.857143</td>\n",
              "      <td>-0.990424</td>\n",
              "      <td>0.848616</td>\n",
              "      <td>1.0</td>\n",
              "      <td>1.0</td>\n",
              "      <td>0.095238</td>\n",
              "      <td>0.517241</td>\n",
              "      <td>0.000000</td>\n",
              "      <td>0.818182</td>\n",
              "    </tr>\n",
              "    <tr>\n",
              "      <th>1</th>\n",
              "      <td>1.000000</td>\n",
              "      <td>0.006394</td>\n",
              "      <td>0.181818</td>\n",
              "      <td>0.198413</td>\n",
              "      <td>0.350877</td>\n",
              "      <td>-0.996461</td>\n",
              "      <td>0.989864</td>\n",
              "      <td>0.825397</td>\n",
              "      <td>-0.990674</td>\n",
              "      <td>0.847189</td>\n",
              "      <td>1.0</td>\n",
              "      <td>1.0</td>\n",
              "      <td>0.142857</td>\n",
              "      <td>0.517241</td>\n",
              "      <td>0.105263</td>\n",
              "      <td>0.000000</td>\n",
              "    </tr>\n",
              "    <tr>\n",
              "      <th>2</th>\n",
              "      <td>1.000000</td>\n",
              "      <td>0.003826</td>\n",
              "      <td>0.181818</td>\n",
              "      <td>0.182540</td>\n",
              "      <td>0.824561</td>\n",
              "      <td>-0.996339</td>\n",
              "      <td>0.990125</td>\n",
              "      <td>0.825397</td>\n",
              "      <td>-0.990674</td>\n",
              "      <td>0.847189</td>\n",
              "      <td>1.0</td>\n",
              "      <td>1.0</td>\n",
              "      <td>0.142857</td>\n",
              "      <td>0.517241</td>\n",
              "      <td>0.105263</td>\n",
              "      <td>0.000000</td>\n",
              "    </tr>\n",
              "    <tr>\n",
              "      <th>3</th>\n",
              "      <td>0.333333</td>\n",
              "      <td>0.023389</td>\n",
              "      <td>0.136364</td>\n",
              "      <td>0.220635</td>\n",
              "      <td>0.771930</td>\n",
              "      <td>-0.996058</td>\n",
              "      <td>0.990114</td>\n",
              "      <td>0.682540</td>\n",
              "      <td>-0.989395</td>\n",
              "      <td>0.845235</td>\n",
              "      <td>1.0</td>\n",
              "      <td>1.0</td>\n",
              "      <td>0.238095</td>\n",
              "      <td>0.206897</td>\n",
              "      <td>0.210526</td>\n",
              "      <td>0.000000</td>\n",
              "    </tr>\n",
              "    <tr>\n",
              "      <th>4</th>\n",
              "      <td>0.333333</td>\n",
              "      <td>0.018819</td>\n",
              "      <td>0.136364</td>\n",
              "      <td>0.092063</td>\n",
              "      <td>0.719298</td>\n",
              "      <td>-0.995385</td>\n",
              "      <td>0.991005</td>\n",
              "      <td>0.746032</td>\n",
              "      <td>-0.989807</td>\n",
              "      <td>0.845745</td>\n",
              "      <td>1.0</td>\n",
              "      <td>1.0</td>\n",
              "      <td>0.285714</td>\n",
              "      <td>0.517241</td>\n",
              "      <td>0.263158</td>\n",
              "      <td>0.545455</td>\n",
              "    </tr>\n",
              "  </tbody>\n",
              "</table>\n",
              "</div>\n",
              "      <button class=\"colab-df-convert\" onclick=\"convertToInteractive('df-b89a1754-d0b9-4d29-9c83-839730d58724')\"\n",
              "              title=\"Convert this dataframe to an interactive table.\"\n",
              "              style=\"display:none;\">\n",
              "        \n",
              "  <svg xmlns=\"http://www.w3.org/2000/svg\" height=\"24px\"viewBox=\"0 0 24 24\"\n",
              "       width=\"24px\">\n",
              "    <path d=\"M0 0h24v24H0V0z\" fill=\"none\"/>\n",
              "    <path d=\"M18.56 5.44l.94 2.06.94-2.06 2.06-.94-2.06-.94-.94-2.06-.94 2.06-2.06.94zm-11 1L8.5 8.5l.94-2.06 2.06-.94-2.06-.94L8.5 2.5l-.94 2.06-2.06.94zm10 10l.94 2.06.94-2.06 2.06-.94-2.06-.94-.94-2.06-.94 2.06-2.06.94z\"/><path d=\"M17.41 7.96l-1.37-1.37c-.4-.4-.92-.59-1.43-.59-.52 0-1.04.2-1.43.59L10.3 9.45l-7.72 7.72c-.78.78-.78 2.05 0 2.83L4 21.41c.39.39.9.59 1.41.59.51 0 1.02-.2 1.41-.59l7.78-7.78 2.81-2.81c.8-.78.8-2.07 0-2.86zM5.41 20L4 18.59l7.72-7.72 1.47 1.35L5.41 20z\"/>\n",
              "  </svg>\n",
              "      </button>\n",
              "      \n",
              "  <style>\n",
              "    .colab-df-container {\n",
              "      display:flex;\n",
              "      flex-wrap:wrap;\n",
              "      gap: 12px;\n",
              "    }\n",
              "\n",
              "    .colab-df-convert {\n",
              "      background-color: #E8F0FE;\n",
              "      border: none;\n",
              "      border-radius: 50%;\n",
              "      cursor: pointer;\n",
              "      display: none;\n",
              "      fill: #1967D2;\n",
              "      height: 32px;\n",
              "      padding: 0 0 0 0;\n",
              "      width: 32px;\n",
              "    }\n",
              "\n",
              "    .colab-df-convert:hover {\n",
              "      background-color: #E2EBFA;\n",
              "      box-shadow: 0px 1px 2px rgba(60, 64, 67, 0.3), 0px 1px 3px 1px rgba(60, 64, 67, 0.15);\n",
              "      fill: #174EA6;\n",
              "    }\n",
              "\n",
              "    [theme=dark] .colab-df-convert {\n",
              "      background-color: #3B4455;\n",
              "      fill: #D2E3FC;\n",
              "    }\n",
              "\n",
              "    [theme=dark] .colab-df-convert:hover {\n",
              "      background-color: #434B5C;\n",
              "      box-shadow: 0px 1px 3px 1px rgba(0, 0, 0, 0.15);\n",
              "      filter: drop-shadow(0px 1px 2px rgba(0, 0, 0, 0.3));\n",
              "      fill: #FFFFFF;\n",
              "    }\n",
              "  </style>\n",
              "\n",
              "      <script>\n",
              "        const buttonEl =\n",
              "          document.querySelector('#df-b89a1754-d0b9-4d29-9c83-839730d58724 button.colab-df-convert');\n",
              "        buttonEl.style.display =\n",
              "          google.colab.kernel.accessAllowed ? 'block' : 'none';\n",
              "\n",
              "        async function convertToInteractive(key) {\n",
              "          const element = document.querySelector('#df-b89a1754-d0b9-4d29-9c83-839730d58724');\n",
              "          const dataTable =\n",
              "            await google.colab.kernel.invokeFunction('convertToInteractive',\n",
              "                                                     [key], {});\n",
              "          if (!dataTable) return;\n",
              "\n",
              "          const docLinkHtml = 'Like what you see? Visit the ' +\n",
              "            '<a target=\"_blank\" href=https://colab.research.google.com/notebooks/data_table.ipynb>data table notebook</a>'\n",
              "            + ' to learn more about interactive tables.';\n",
              "          element.innerHTML = '';\n",
              "          dataTable['output_type'] = 'display_data';\n",
              "          await google.colab.output.renderOutput(dataTable, element);\n",
              "          const docLink = document.createElement('div');\n",
              "          docLink.innerHTML = docLinkHtml;\n",
              "          element.appendChild(docLink);\n",
              "        }\n",
              "      </script>\n",
              "    </div>\n",
              "  </div>\n",
              "  "
            ]
          },
          "metadata": {},
          "execution_count": 1323
        }
      ]
    },
    {
      "cell_type": "code",
      "source": [
        "rides = rides.astype('float32')"
      ],
      "metadata": {
        "id": "5rDhFO1OfzGU"
      },
      "execution_count": 1324,
      "outputs": []
    },
    {
      "cell_type": "code",
      "source": [
        "rides.dtypes"
      ],
      "metadata": {
        "colab": {
          "base_uri": "https://localhost:8080/"
        },
        "id": "Lr3bpD9Wf77V",
        "outputId": "a8093287-dd71-49cb-ccd2-7db20c299549"
      },
      "execution_count": 1325,
      "outputs": [
        {
          "output_type": "execute_result",
          "data": {
            "text/plain": [
              "space_type                          float32\n",
              "billable_distance                   float32\n",
              "run_name                            float32\n",
              "rider.mediroutes_rider_id           float32\n",
              "pickup.event_location.zip           float32\n",
              "pickup.event_location.longitude     float32\n",
              "pickup.event_location.latitude      float32\n",
              "dropoff.event_location.zip          float32\n",
              "dropoff.event_location.longitude    float32\n",
              "dropoff.event_location.latitude     float32\n",
              "pickup_month                        float32\n",
              "pickup_day                          float32\n",
              "pickup_hour                         float32\n",
              "pickup_minute                       float32\n",
              "dropoff_hour                        float32\n",
              "dropoff_minute                      float32\n",
              "dtype: object"
            ]
          },
          "metadata": {},
          "execution_count": 1325
        }
      ]
    },
    {
      "cell_type": "code",
      "source": [
        "rides.head()"
      ],
      "metadata": {
        "colab": {
          "base_uri": "https://localhost:8080/",
          "height": 270
        },
        "id": "l8sXH1M0gB9B",
        "outputId": "fc01168c-d6d7-4b94-df72-311281ec63d9"
      },
      "execution_count": 1326,
      "outputs": [
        {
          "output_type": "execute_result",
          "data": {
            "text/plain": [
              "   space_type  billable_distance  run_name  rider.mediroutes_rider_id  \\\n",
              "0    1.000000           0.012314  0.181818                   0.184127   \n",
              "1    1.000000           0.006394  0.181818                   0.198413   \n",
              "2    1.000000           0.003826  0.181818                   0.182540   \n",
              "3    0.333333           0.023389  0.136364                   0.220635   \n",
              "4    0.333333           0.018819  0.136364                   0.092063   \n",
              "\n",
              "   pickup.event_location.zip  pickup.event_location.longitude  \\\n",
              "0                   0.508772                        -0.996364   \n",
              "1                   0.350877                        -0.996461   \n",
              "2                   0.824561                        -0.996339   \n",
              "3                   0.771930                        -0.996058   \n",
              "4                   0.719298                        -0.995385   \n",
              "\n",
              "   pickup.event_location.latitude  dropoff.event_location.zip  \\\n",
              "0                        0.992340                    0.857143   \n",
              "1                        0.989864                    0.825397   \n",
              "2                        0.990125                    0.825397   \n",
              "3                        0.990114                    0.682540   \n",
              "4                        0.991005                    0.746032   \n",
              "\n",
              "   dropoff.event_location.longitude  dropoff.event_location.latitude  \\\n",
              "0                         -0.990424                         0.848616   \n",
              "1                         -0.990674                         0.847189   \n",
              "2                         -0.990674                         0.847189   \n",
              "3                         -0.989395                         0.845235   \n",
              "4                         -0.989807                         0.845745   \n",
              "\n",
              "   pickup_month  pickup_day  pickup_hour  pickup_minute  dropoff_hour  \\\n",
              "0           1.0         1.0     0.095238       0.517241      0.000000   \n",
              "1           1.0         1.0     0.142857       0.517241      0.105263   \n",
              "2           1.0         1.0     0.142857       0.517241      0.105263   \n",
              "3           1.0         1.0     0.238095       0.206897      0.210526   \n",
              "4           1.0         1.0     0.285714       0.517241      0.263158   \n",
              "\n",
              "   dropoff_minute  \n",
              "0        0.818182  \n",
              "1        0.000000  \n",
              "2        0.000000  \n",
              "3        0.000000  \n",
              "4        0.545455  "
            ],
            "text/html": [
              "\n",
              "  <div id=\"df-32dd3800-4f59-4a2b-9c06-b4219aca74d7\">\n",
              "    <div class=\"colab-df-container\">\n",
              "      <div>\n",
              "<style scoped>\n",
              "    .dataframe tbody tr th:only-of-type {\n",
              "        vertical-align: middle;\n",
              "    }\n",
              "\n",
              "    .dataframe tbody tr th {\n",
              "        vertical-align: top;\n",
              "    }\n",
              "\n",
              "    .dataframe thead th {\n",
              "        text-align: right;\n",
              "    }\n",
              "</style>\n",
              "<table border=\"1\" class=\"dataframe\">\n",
              "  <thead>\n",
              "    <tr style=\"text-align: right;\">\n",
              "      <th></th>\n",
              "      <th>space_type</th>\n",
              "      <th>billable_distance</th>\n",
              "      <th>run_name</th>\n",
              "      <th>rider.mediroutes_rider_id</th>\n",
              "      <th>pickup.event_location.zip</th>\n",
              "      <th>pickup.event_location.longitude</th>\n",
              "      <th>pickup.event_location.latitude</th>\n",
              "      <th>dropoff.event_location.zip</th>\n",
              "      <th>dropoff.event_location.longitude</th>\n",
              "      <th>dropoff.event_location.latitude</th>\n",
              "      <th>pickup_month</th>\n",
              "      <th>pickup_day</th>\n",
              "      <th>pickup_hour</th>\n",
              "      <th>pickup_minute</th>\n",
              "      <th>dropoff_hour</th>\n",
              "      <th>dropoff_minute</th>\n",
              "    </tr>\n",
              "  </thead>\n",
              "  <tbody>\n",
              "    <tr>\n",
              "      <th>0</th>\n",
              "      <td>1.000000</td>\n",
              "      <td>0.012314</td>\n",
              "      <td>0.181818</td>\n",
              "      <td>0.184127</td>\n",
              "      <td>0.508772</td>\n",
              "      <td>-0.996364</td>\n",
              "      <td>0.992340</td>\n",
              "      <td>0.857143</td>\n",
              "      <td>-0.990424</td>\n",
              "      <td>0.848616</td>\n",
              "      <td>1.0</td>\n",
              "      <td>1.0</td>\n",
              "      <td>0.095238</td>\n",
              "      <td>0.517241</td>\n",
              "      <td>0.000000</td>\n",
              "      <td>0.818182</td>\n",
              "    </tr>\n",
              "    <tr>\n",
              "      <th>1</th>\n",
              "      <td>1.000000</td>\n",
              "      <td>0.006394</td>\n",
              "      <td>0.181818</td>\n",
              "      <td>0.198413</td>\n",
              "      <td>0.350877</td>\n",
              "      <td>-0.996461</td>\n",
              "      <td>0.989864</td>\n",
              "      <td>0.825397</td>\n",
              "      <td>-0.990674</td>\n",
              "      <td>0.847189</td>\n",
              "      <td>1.0</td>\n",
              "      <td>1.0</td>\n",
              "      <td>0.142857</td>\n",
              "      <td>0.517241</td>\n",
              "      <td>0.105263</td>\n",
              "      <td>0.000000</td>\n",
              "    </tr>\n",
              "    <tr>\n",
              "      <th>2</th>\n",
              "      <td>1.000000</td>\n",
              "      <td>0.003826</td>\n",
              "      <td>0.181818</td>\n",
              "      <td>0.182540</td>\n",
              "      <td>0.824561</td>\n",
              "      <td>-0.996339</td>\n",
              "      <td>0.990125</td>\n",
              "      <td>0.825397</td>\n",
              "      <td>-0.990674</td>\n",
              "      <td>0.847189</td>\n",
              "      <td>1.0</td>\n",
              "      <td>1.0</td>\n",
              "      <td>0.142857</td>\n",
              "      <td>0.517241</td>\n",
              "      <td>0.105263</td>\n",
              "      <td>0.000000</td>\n",
              "    </tr>\n",
              "    <tr>\n",
              "      <th>3</th>\n",
              "      <td>0.333333</td>\n",
              "      <td>0.023389</td>\n",
              "      <td>0.136364</td>\n",
              "      <td>0.220635</td>\n",
              "      <td>0.771930</td>\n",
              "      <td>-0.996058</td>\n",
              "      <td>0.990114</td>\n",
              "      <td>0.682540</td>\n",
              "      <td>-0.989395</td>\n",
              "      <td>0.845235</td>\n",
              "      <td>1.0</td>\n",
              "      <td>1.0</td>\n",
              "      <td>0.238095</td>\n",
              "      <td>0.206897</td>\n",
              "      <td>0.210526</td>\n",
              "      <td>0.000000</td>\n",
              "    </tr>\n",
              "    <tr>\n",
              "      <th>4</th>\n",
              "      <td>0.333333</td>\n",
              "      <td>0.018819</td>\n",
              "      <td>0.136364</td>\n",
              "      <td>0.092063</td>\n",
              "      <td>0.719298</td>\n",
              "      <td>-0.995385</td>\n",
              "      <td>0.991005</td>\n",
              "      <td>0.746032</td>\n",
              "      <td>-0.989807</td>\n",
              "      <td>0.845745</td>\n",
              "      <td>1.0</td>\n",
              "      <td>1.0</td>\n",
              "      <td>0.285714</td>\n",
              "      <td>0.517241</td>\n",
              "      <td>0.263158</td>\n",
              "      <td>0.545455</td>\n",
              "    </tr>\n",
              "  </tbody>\n",
              "</table>\n",
              "</div>\n",
              "      <button class=\"colab-df-convert\" onclick=\"convertToInteractive('df-32dd3800-4f59-4a2b-9c06-b4219aca74d7')\"\n",
              "              title=\"Convert this dataframe to an interactive table.\"\n",
              "              style=\"display:none;\">\n",
              "        \n",
              "  <svg xmlns=\"http://www.w3.org/2000/svg\" height=\"24px\"viewBox=\"0 0 24 24\"\n",
              "       width=\"24px\">\n",
              "    <path d=\"M0 0h24v24H0V0z\" fill=\"none\"/>\n",
              "    <path d=\"M18.56 5.44l.94 2.06.94-2.06 2.06-.94-2.06-.94-.94-2.06-.94 2.06-2.06.94zm-11 1L8.5 8.5l.94-2.06 2.06-.94-2.06-.94L8.5 2.5l-.94 2.06-2.06.94zm10 10l.94 2.06.94-2.06 2.06-.94-2.06-.94-.94-2.06-.94 2.06-2.06.94z\"/><path d=\"M17.41 7.96l-1.37-1.37c-.4-.4-.92-.59-1.43-.59-.52 0-1.04.2-1.43.59L10.3 9.45l-7.72 7.72c-.78.78-.78 2.05 0 2.83L4 21.41c.39.39.9.59 1.41.59.51 0 1.02-.2 1.41-.59l7.78-7.78 2.81-2.81c.8-.78.8-2.07 0-2.86zM5.41 20L4 18.59l7.72-7.72 1.47 1.35L5.41 20z\"/>\n",
              "  </svg>\n",
              "      </button>\n",
              "      \n",
              "  <style>\n",
              "    .colab-df-container {\n",
              "      display:flex;\n",
              "      flex-wrap:wrap;\n",
              "      gap: 12px;\n",
              "    }\n",
              "\n",
              "    .colab-df-convert {\n",
              "      background-color: #E8F0FE;\n",
              "      border: none;\n",
              "      border-radius: 50%;\n",
              "      cursor: pointer;\n",
              "      display: none;\n",
              "      fill: #1967D2;\n",
              "      height: 32px;\n",
              "      padding: 0 0 0 0;\n",
              "      width: 32px;\n",
              "    }\n",
              "\n",
              "    .colab-df-convert:hover {\n",
              "      background-color: #E2EBFA;\n",
              "      box-shadow: 0px 1px 2px rgba(60, 64, 67, 0.3), 0px 1px 3px 1px rgba(60, 64, 67, 0.15);\n",
              "      fill: #174EA6;\n",
              "    }\n",
              "\n",
              "    [theme=dark] .colab-df-convert {\n",
              "      background-color: #3B4455;\n",
              "      fill: #D2E3FC;\n",
              "    }\n",
              "\n",
              "    [theme=dark] .colab-df-convert:hover {\n",
              "      background-color: #434B5C;\n",
              "      box-shadow: 0px 1px 3px 1px rgba(0, 0, 0, 0.15);\n",
              "      filter: drop-shadow(0px 1px 2px rgba(0, 0, 0, 0.3));\n",
              "      fill: #FFFFFF;\n",
              "    }\n",
              "  </style>\n",
              "\n",
              "      <script>\n",
              "        const buttonEl =\n",
              "          document.querySelector('#df-32dd3800-4f59-4a2b-9c06-b4219aca74d7 button.colab-df-convert');\n",
              "        buttonEl.style.display =\n",
              "          google.colab.kernel.accessAllowed ? 'block' : 'none';\n",
              "\n",
              "        async function convertToInteractive(key) {\n",
              "          const element = document.querySelector('#df-32dd3800-4f59-4a2b-9c06-b4219aca74d7');\n",
              "          const dataTable =\n",
              "            await google.colab.kernel.invokeFunction('convertToInteractive',\n",
              "                                                     [key], {});\n",
              "          if (!dataTable) return;\n",
              "\n",
              "          const docLinkHtml = 'Like what you see? Visit the ' +\n",
              "            '<a target=\"_blank\" href=https://colab.research.google.com/notebooks/data_table.ipynb>data table notebook</a>'\n",
              "            + ' to learn more about interactive tables.';\n",
              "          element.innerHTML = '';\n",
              "          dataTable['output_type'] = 'display_data';\n",
              "          await google.colab.output.renderOutput(dataTable, element);\n",
              "          const docLink = document.createElement('div');\n",
              "          docLink.innerHTML = docLinkHtml;\n",
              "          element.appendChild(docLink);\n",
              "        }\n",
              "      </script>\n",
              "    </div>\n",
              "  </div>\n",
              "  "
            ]
          },
          "metadata": {},
          "execution_count": 1326
        }
      ]
    },
    {
      "cell_type": "code",
      "source": [
        "rides['pickup_day'] = rides['pickup_day'].astype(int)\n",
        "rides['pickup_month'] = rides['pickup_month'].astype(int)\n",
        "\n",
        "rides['pickup_day'] = rides['pickup_day'].astype(str)\n",
        "rides['pickup_month'] = rides['pickup_month'].astype(str)\n",
        "\n",
        "rides['id'] = rides['pickup_month'] + rides['pickup_day']\n",
        "\n",
        "rides = rides.drop(['pickup_month','pickup_day'], axis=1)"
      ],
      "metadata": {
        "id": "UbRWLKbMNyio"
      },
      "execution_count": 1327,
      "outputs": []
    },
    {
      "cell_type": "code",
      "source": [
        "rides.head()"
      ],
      "metadata": {
        "colab": {
          "base_uri": "https://localhost:8080/",
          "height": 270
        },
        "id": "NH9k8ihZgMpm",
        "outputId": "9f70677a-50e6-45a4-dd75-23adc8218131"
      },
      "execution_count": 1328,
      "outputs": [
        {
          "output_type": "execute_result",
          "data": {
            "text/plain": [
              "   space_type  billable_distance  run_name  rider.mediroutes_rider_id  \\\n",
              "0    1.000000           0.012314  0.181818                   0.184127   \n",
              "1    1.000000           0.006394  0.181818                   0.198413   \n",
              "2    1.000000           0.003826  0.181818                   0.182540   \n",
              "3    0.333333           0.023389  0.136364                   0.220635   \n",
              "4    0.333333           0.018819  0.136364                   0.092063   \n",
              "\n",
              "   pickup.event_location.zip  pickup.event_location.longitude  \\\n",
              "0                   0.508772                        -0.996364   \n",
              "1                   0.350877                        -0.996461   \n",
              "2                   0.824561                        -0.996339   \n",
              "3                   0.771930                        -0.996058   \n",
              "4                   0.719298                        -0.995385   \n",
              "\n",
              "   pickup.event_location.latitude  dropoff.event_location.zip  \\\n",
              "0                        0.992340                    0.857143   \n",
              "1                        0.989864                    0.825397   \n",
              "2                        0.990125                    0.825397   \n",
              "3                        0.990114                    0.682540   \n",
              "4                        0.991005                    0.746032   \n",
              "\n",
              "   dropoff.event_location.longitude  dropoff.event_location.latitude  \\\n",
              "0                         -0.990424                         0.848616   \n",
              "1                         -0.990674                         0.847189   \n",
              "2                         -0.990674                         0.847189   \n",
              "3                         -0.989395                         0.845235   \n",
              "4                         -0.989807                         0.845745   \n",
              "\n",
              "   pickup_hour  pickup_minute  dropoff_hour  dropoff_minute  id  \n",
              "0     0.095238       0.517241      0.000000        0.818182  11  \n",
              "1     0.142857       0.517241      0.105263        0.000000  11  \n",
              "2     0.142857       0.517241      0.105263        0.000000  11  \n",
              "3     0.238095       0.206897      0.210526        0.000000  11  \n",
              "4     0.285714       0.517241      0.263158        0.545455  11  "
            ],
            "text/html": [
              "\n",
              "  <div id=\"df-30218ab9-7569-4920-9bdb-e97e6c85b4dd\">\n",
              "    <div class=\"colab-df-container\">\n",
              "      <div>\n",
              "<style scoped>\n",
              "    .dataframe tbody tr th:only-of-type {\n",
              "        vertical-align: middle;\n",
              "    }\n",
              "\n",
              "    .dataframe tbody tr th {\n",
              "        vertical-align: top;\n",
              "    }\n",
              "\n",
              "    .dataframe thead th {\n",
              "        text-align: right;\n",
              "    }\n",
              "</style>\n",
              "<table border=\"1\" class=\"dataframe\">\n",
              "  <thead>\n",
              "    <tr style=\"text-align: right;\">\n",
              "      <th></th>\n",
              "      <th>space_type</th>\n",
              "      <th>billable_distance</th>\n",
              "      <th>run_name</th>\n",
              "      <th>rider.mediroutes_rider_id</th>\n",
              "      <th>pickup.event_location.zip</th>\n",
              "      <th>pickup.event_location.longitude</th>\n",
              "      <th>pickup.event_location.latitude</th>\n",
              "      <th>dropoff.event_location.zip</th>\n",
              "      <th>dropoff.event_location.longitude</th>\n",
              "      <th>dropoff.event_location.latitude</th>\n",
              "      <th>pickup_hour</th>\n",
              "      <th>pickup_minute</th>\n",
              "      <th>dropoff_hour</th>\n",
              "      <th>dropoff_minute</th>\n",
              "      <th>id</th>\n",
              "    </tr>\n",
              "  </thead>\n",
              "  <tbody>\n",
              "    <tr>\n",
              "      <th>0</th>\n",
              "      <td>1.000000</td>\n",
              "      <td>0.012314</td>\n",
              "      <td>0.181818</td>\n",
              "      <td>0.184127</td>\n",
              "      <td>0.508772</td>\n",
              "      <td>-0.996364</td>\n",
              "      <td>0.992340</td>\n",
              "      <td>0.857143</td>\n",
              "      <td>-0.990424</td>\n",
              "      <td>0.848616</td>\n",
              "      <td>0.095238</td>\n",
              "      <td>0.517241</td>\n",
              "      <td>0.000000</td>\n",
              "      <td>0.818182</td>\n",
              "      <td>11</td>\n",
              "    </tr>\n",
              "    <tr>\n",
              "      <th>1</th>\n",
              "      <td>1.000000</td>\n",
              "      <td>0.006394</td>\n",
              "      <td>0.181818</td>\n",
              "      <td>0.198413</td>\n",
              "      <td>0.350877</td>\n",
              "      <td>-0.996461</td>\n",
              "      <td>0.989864</td>\n",
              "      <td>0.825397</td>\n",
              "      <td>-0.990674</td>\n",
              "      <td>0.847189</td>\n",
              "      <td>0.142857</td>\n",
              "      <td>0.517241</td>\n",
              "      <td>0.105263</td>\n",
              "      <td>0.000000</td>\n",
              "      <td>11</td>\n",
              "    </tr>\n",
              "    <tr>\n",
              "      <th>2</th>\n",
              "      <td>1.000000</td>\n",
              "      <td>0.003826</td>\n",
              "      <td>0.181818</td>\n",
              "      <td>0.182540</td>\n",
              "      <td>0.824561</td>\n",
              "      <td>-0.996339</td>\n",
              "      <td>0.990125</td>\n",
              "      <td>0.825397</td>\n",
              "      <td>-0.990674</td>\n",
              "      <td>0.847189</td>\n",
              "      <td>0.142857</td>\n",
              "      <td>0.517241</td>\n",
              "      <td>0.105263</td>\n",
              "      <td>0.000000</td>\n",
              "      <td>11</td>\n",
              "    </tr>\n",
              "    <tr>\n",
              "      <th>3</th>\n",
              "      <td>0.333333</td>\n",
              "      <td>0.023389</td>\n",
              "      <td>0.136364</td>\n",
              "      <td>0.220635</td>\n",
              "      <td>0.771930</td>\n",
              "      <td>-0.996058</td>\n",
              "      <td>0.990114</td>\n",
              "      <td>0.682540</td>\n",
              "      <td>-0.989395</td>\n",
              "      <td>0.845235</td>\n",
              "      <td>0.238095</td>\n",
              "      <td>0.206897</td>\n",
              "      <td>0.210526</td>\n",
              "      <td>0.000000</td>\n",
              "      <td>11</td>\n",
              "    </tr>\n",
              "    <tr>\n",
              "      <th>4</th>\n",
              "      <td>0.333333</td>\n",
              "      <td>0.018819</td>\n",
              "      <td>0.136364</td>\n",
              "      <td>0.092063</td>\n",
              "      <td>0.719298</td>\n",
              "      <td>-0.995385</td>\n",
              "      <td>0.991005</td>\n",
              "      <td>0.746032</td>\n",
              "      <td>-0.989807</td>\n",
              "      <td>0.845745</td>\n",
              "      <td>0.285714</td>\n",
              "      <td>0.517241</td>\n",
              "      <td>0.263158</td>\n",
              "      <td>0.545455</td>\n",
              "      <td>11</td>\n",
              "    </tr>\n",
              "  </tbody>\n",
              "</table>\n",
              "</div>\n",
              "      <button class=\"colab-df-convert\" onclick=\"convertToInteractive('df-30218ab9-7569-4920-9bdb-e97e6c85b4dd')\"\n",
              "              title=\"Convert this dataframe to an interactive table.\"\n",
              "              style=\"display:none;\">\n",
              "        \n",
              "  <svg xmlns=\"http://www.w3.org/2000/svg\" height=\"24px\"viewBox=\"0 0 24 24\"\n",
              "       width=\"24px\">\n",
              "    <path d=\"M0 0h24v24H0V0z\" fill=\"none\"/>\n",
              "    <path d=\"M18.56 5.44l.94 2.06.94-2.06 2.06-.94-2.06-.94-.94-2.06-.94 2.06-2.06.94zm-11 1L8.5 8.5l.94-2.06 2.06-.94-2.06-.94L8.5 2.5l-.94 2.06-2.06.94zm10 10l.94 2.06.94-2.06 2.06-.94-2.06-.94-.94-2.06-.94 2.06-2.06.94z\"/><path d=\"M17.41 7.96l-1.37-1.37c-.4-.4-.92-.59-1.43-.59-.52 0-1.04.2-1.43.59L10.3 9.45l-7.72 7.72c-.78.78-.78 2.05 0 2.83L4 21.41c.39.39.9.59 1.41.59.51 0 1.02-.2 1.41-.59l7.78-7.78 2.81-2.81c.8-.78.8-2.07 0-2.86zM5.41 20L4 18.59l7.72-7.72 1.47 1.35L5.41 20z\"/>\n",
              "  </svg>\n",
              "      </button>\n",
              "      \n",
              "  <style>\n",
              "    .colab-df-container {\n",
              "      display:flex;\n",
              "      flex-wrap:wrap;\n",
              "      gap: 12px;\n",
              "    }\n",
              "\n",
              "    .colab-df-convert {\n",
              "      background-color: #E8F0FE;\n",
              "      border: none;\n",
              "      border-radius: 50%;\n",
              "      cursor: pointer;\n",
              "      display: none;\n",
              "      fill: #1967D2;\n",
              "      height: 32px;\n",
              "      padding: 0 0 0 0;\n",
              "      width: 32px;\n",
              "    }\n",
              "\n",
              "    .colab-df-convert:hover {\n",
              "      background-color: #E2EBFA;\n",
              "      box-shadow: 0px 1px 2px rgba(60, 64, 67, 0.3), 0px 1px 3px 1px rgba(60, 64, 67, 0.15);\n",
              "      fill: #174EA6;\n",
              "    }\n",
              "\n",
              "    [theme=dark] .colab-df-convert {\n",
              "      background-color: #3B4455;\n",
              "      fill: #D2E3FC;\n",
              "    }\n",
              "\n",
              "    [theme=dark] .colab-df-convert:hover {\n",
              "      background-color: #434B5C;\n",
              "      box-shadow: 0px 1px 3px 1px rgba(0, 0, 0, 0.15);\n",
              "      filter: drop-shadow(0px 1px 2px rgba(0, 0, 0, 0.3));\n",
              "      fill: #FFFFFF;\n",
              "    }\n",
              "  </style>\n",
              "\n",
              "      <script>\n",
              "        const buttonEl =\n",
              "          document.querySelector('#df-30218ab9-7569-4920-9bdb-e97e6c85b4dd button.colab-df-convert');\n",
              "        buttonEl.style.display =\n",
              "          google.colab.kernel.accessAllowed ? 'block' : 'none';\n",
              "\n",
              "        async function convertToInteractive(key) {\n",
              "          const element = document.querySelector('#df-30218ab9-7569-4920-9bdb-e97e6c85b4dd');\n",
              "          const dataTable =\n",
              "            await google.colab.kernel.invokeFunction('convertToInteractive',\n",
              "                                                     [key], {});\n",
              "          if (!dataTable) return;\n",
              "\n",
              "          const docLinkHtml = 'Like what you see? Visit the ' +\n",
              "            '<a target=\"_blank\" href=https://colab.research.google.com/notebooks/data_table.ipynb>data table notebook</a>'\n",
              "            + ' to learn more about interactive tables.';\n",
              "          element.innerHTML = '';\n",
              "          dataTable['output_type'] = 'display_data';\n",
              "          await google.colab.output.renderOutput(dataTable, element);\n",
              "          const docLink = document.createElement('div');\n",
              "          docLink.innerHTML = docLinkHtml;\n",
              "          element.appendChild(docLink);\n",
              "        }\n",
              "      </script>\n",
              "    </div>\n",
              "  </div>\n",
              "  "
            ]
          },
          "metadata": {},
          "execution_count": 1328
        }
      ]
    },
    {
      "cell_type": "code",
      "source": [
        "rides.shape"
      ],
      "metadata": {
        "colab": {
          "base_uri": "https://localhost:8080/"
        },
        "id": "FBGOjDCcPTjV",
        "outputId": "4da984d4-8ff9-47e8-ab51-39cfc67eef2d"
      },
      "execution_count": 1329,
      "outputs": [
        {
          "output_type": "execute_result",
          "data": {
            "text/plain": [
              "(16315, 15)"
            ]
          },
          "metadata": {},
          "execution_count": 1329
        }
      ]
    },
    {
      "cell_type": "code",
      "source": [
        "rides = rides.astype(str)"
      ],
      "metadata": {
        "id": "Wut5nx5c7b8b"
      },
      "execution_count": 1330,
      "outputs": []
    },
    {
      "cell_type": "code",
      "source": [
        "rides.values[2].astype('float32')"
      ],
      "metadata": {
        "colab": {
          "base_uri": "https://localhost:8080/"
        },
        "id": "V_8YkxPM8VXo",
        "outputId": "c5b853d6-d6dc-4823-dc0e-071173cb2e91"
      },
      "execution_count": 1331,
      "outputs": [
        {
          "output_type": "execute_result",
          "data": {
            "text/plain": [
              "array([ 1.      ,  0.003826,  0.181818,  0.18254 ,  0.824561, -0.996339,\n",
              "        0.990125,  0.825397, -0.990674,  0.847189,  0.142857,  0.517241,\n",
              "        0.105263,  0.      , 11.      ], dtype=float32)"
            ]
          },
          "metadata": {},
          "execution_count": 1331
        }
      ]
    },
    {
      "cell_type": "markdown",
      "source": [
        "Put rides into buckets by date"
      ],
      "metadata": {
        "id": "sEJD-HUyvTh2"
      }
    },
    {
      "cell_type": "code",
      "source": [
        "# Group the rows by the 'id' column\n",
        "grouped = rides.groupby('id')\n",
        "\n",
        "# Create a list to store the grouped arrays\n",
        "day_buckets = []\n",
        "\n",
        "# Loop through each group\n",
        "for name, group in grouped:\n",
        "    # Convert the group to a numpy array\n",
        "    group_array = group.values.astype(np.float32)\n",
        "    \n",
        "    # Append the group array to the list of grouped arrays\n",
        "    day_buckets.append(group_array)\n",
        "\n",
        "# Set the display format of the numpy arrays\n",
        "np.set_printoptions(precision=6, suppress=True)\n",
        "\n",
        "# Sort the list of grouped arrays by the first column of each array\n",
        "day_buckets.sort(key=lambda x: x[0][14])\n"
      ],
      "metadata": {
        "id": "_WIOpiJqvQKv"
      },
      "execution_count": 1332,
      "outputs": []
    },
    {
      "cell_type": "code",
      "source": [
        "# Do this or when you shuffle below it will shuffle both for some fucking reason, and copy doesn't work.\n",
        "day_buckets_y = [x.astype(str) for x in day_buckets]"
      ],
      "metadata": {
        "id": "EN2LBJsqw4v9"
      },
      "execution_count": 1333,
      "outputs": []
    },
    {
      "cell_type": "code",
      "source": [
        "day_buckets_y[0][0]"
      ],
      "metadata": {
        "colab": {
          "base_uri": "https://localhost:8080/"
        },
        "id": "-NS5xNNpQgzX",
        "outputId": "614a5947-925f-48fa-a3c2-4d248e85cf34"
      },
      "execution_count": 1334,
      "outputs": [
        {
          "output_type": "execute_result",
          "data": {
            "text/plain": [
              "array(['1.0', '0.0123136155', '0.18181819', '0.18412699', '0.50877196',\n",
              "       '-0.99636376', '0.99233985', '0.85714287', '-0.9904242',\n",
              "       '0.8486156', '0.0952381', '0.51724136', '0.0', '0.8181818', '11.0'],\n",
              "      dtype='<U32')"
            ]
          },
          "metadata": {},
          "execution_count": 1334
        }
      ]
    },
    {
      "cell_type": "code",
      "source": [
        "def shuffle_np_array(np_array_list):\n",
        "    for i in range(len(np_array_list)):\n",
        "        np.random.shuffle(np_array_list[i])\n",
        "    return np_array_list\n",
        "\n",
        "day_buckets_X = shuffle_np_array(day_buckets)[:-1] # create a shuffled version for X below"
      ],
      "metadata": {
        "id": "mfLy4pFVLyOO"
      },
      "execution_count": 1335,
      "outputs": []
    },
    {
      "cell_type": "markdown",
      "source": [
        "Below each 'word' is represented by a vector in the sentence we are trying to predict the order of."
      ],
      "metadata": {
        "id": "wtecLPLw5zO3"
      }
    },
    {
      "cell_type": "code",
      "source": [
        "from tensorflow import keras\n",
        "from tensorflow.keras.preprocessing.sequence import pad_sequences\n",
        "\n",
        "# Define the number of features in each ride vector\n",
        "num_features = 15\n",
        "\n",
        "# Define the maximum length of the sequences\n",
        "max_length = 15\n",
        "\n",
        "X = []\n",
        "y = []\n",
        "# Convert the input data into a 3D array of shape (num_samples, max_length, num_features)\n",
        "for i in day_buckets_X:\n",
        "  X.append(pad_sequences(i, maxlen=max_length, dtype='float32', padding='post'))\n",
        "for i in day_buckets_y:\n",
        "  y.append(pad_sequences(i, maxlen=max_length, dtype='float32', padding='post'))"
      ],
      "metadata": {
        "id": "_L-tLje0TK7i"
      },
      "execution_count": 1336,
      "outputs": []
    },
    {
      "cell_type": "code",
      "source": [
        "X[0][0]"
      ],
      "metadata": {
        "colab": {
          "base_uri": "https://localhost:8080/"
        },
        "id": "rwfjAkPmlNbP",
        "outputId": "2540b917-a512-4dba-f938-cc7a02c764f7"
      },
      "execution_count": 1337,
      "outputs": [
        {
          "output_type": "execute_result",
          "data": {
            "text/plain": [
              "array([ 0.333333,  0.017141,  0.227273,  0.12381 ,  0.877193, -0.995685,\n",
              "        0.992237,  0.825397, -0.990674,  0.847189,  0.52381 ,  0.086207,\n",
              "        0.473684,  0.909091, 11.      ], dtype=float32)"
            ]
          },
          "metadata": {},
          "execution_count": 1337
        }
      ]
    },
    {
      "cell_type": "code",
      "source": [
        "y[0]"
      ],
      "metadata": {
        "colab": {
          "base_uri": "https://localhost:8080/"
        },
        "id": "KE0LLdNltjFP",
        "outputId": "d4a6be72-1388-491f-d685-e4db4354aee4"
      },
      "execution_count": 1338,
      "outputs": [
        {
          "output_type": "execute_result",
          "data": {
            "text/plain": [
              "array([[ 1.      ,  0.012314,  0.181818,  0.184127,  0.508772, -0.996364,\n",
              "         0.99234 ,  0.857143, -0.990424,  0.848616,  0.095238,  0.517241,\n",
              "         0.      ,  0.818182, 11.      ],\n",
              "       [ 1.      ,  0.006394,  0.181818,  0.198413,  0.350877, -0.996461,\n",
              "         0.989864,  0.825397, -0.990674,  0.847189,  0.142857,  0.517241,\n",
              "         0.105263,  0.      , 11.      ],\n",
              "       [ 1.      ,  0.003826,  0.181818,  0.18254 ,  0.824561, -0.996339,\n",
              "         0.990125,  0.825397, -0.990674,  0.847189,  0.142857,  0.517241,\n",
              "         0.105263,  0.      , 11.      ],\n",
              "       [ 0.333333,  0.023389,  0.136364,  0.220635,  0.77193 , -0.996058,\n",
              "         0.990114,  0.68254 , -0.989395,  0.845235,  0.238095,  0.206897,\n",
              "         0.210526,  0.      , 11.      ],\n",
              "       [ 0.333333,  0.018819,  0.136364,  0.092063,  0.719298, -0.995385,\n",
              "         0.991005,  0.746032, -0.989807,  0.845745,  0.285714,  0.517241,\n",
              "         0.263158,  0.545455, 11.      ],\n",
              "       [ 1.      ,  0.007237,  0.363636,  0.077778,  0.105263, -0.997322,\n",
              "         0.993113,  0.111111, -0.991856,  0.848719,  0.380952,  0.      ,\n",
              "         0.315789,  0.818182, 11.      ],\n",
              "       [ 0.333333,  0.017141,  0.227273,  0.12381 ,  0.877193, -0.995685,\n",
              "         0.992237,  0.825397, -0.990674,  0.847189,  0.52381 ,  0.086207,\n",
              "         0.473684,  0.909091, 11.      ],\n",
              "       [ 1.      ,  0.014415,  0.227273,  0.133333,  0.614035, -0.995456,\n",
              "         0.991803,  0.825397, -0.990674,  0.847189,  0.52381 ,  0.206897,\n",
              "         0.473684,  1.      , 11.      ],\n",
              "       [ 1.      ,  0.      ,  0.363636,  0.128571,  0.719298, -0.995456,\n",
              "         0.990852,  0.730159, -0.989923,  0.847515,  0.52381 ,  0.517241,\n",
              "         0.526316,  0.272727, 11.      ],\n",
              "       [ 1.      ,  0.005842,  0.863636,  0.185714,  0.701754, -0.995342,\n",
              "         0.990551,  0.809524, -0.989697,  0.847978,  0.52381 ,  0.258621,\n",
              "         0.526316,  0.      , 11.      ]], dtype=float32)"
            ]
          },
          "metadata": {},
          "execution_count": 1338
        }
      ]
    },
    {
      "cell_type": "code",
      "source": [
        "input = []\n",
        "target = []\n",
        "for array in X:\n",
        "    new_array = np.delete(array, -1, axis=1)\n",
        "    input.append(new_array)\n",
        "\n",
        "count = 0\n",
        "for array in y:\n",
        "    new_array = np.delete(array, -1, axis=1)\n",
        "    target.append(new_array)\n"
      ],
      "metadata": {
        "id": "1FphjSRRPfcS"
      },
      "execution_count": 1339,
      "outputs": []
    },
    {
      "cell_type": "code",
      "source": [
        "input[0]"
      ],
      "metadata": {
        "colab": {
          "base_uri": "https://localhost:8080/"
        },
        "id": "dy0JdKOdJRe5",
        "outputId": "72b7bae1-2373-4f15-e872-8263822c4a3e"
      },
      "execution_count": 1340,
      "outputs": [
        {
          "output_type": "execute_result",
          "data": {
            "text/plain": [
              "array([[ 0.333333,  0.017141,  0.227273,  0.12381 ,  0.877193, -0.995685,\n",
              "         0.992237,  0.825397, -0.990674,  0.847189,  0.52381 ,  0.086207,\n",
              "         0.473684,  0.909091],\n",
              "       [ 1.      ,  0.003826,  0.181818,  0.18254 ,  0.824561, -0.996339,\n",
              "         0.990125,  0.825397, -0.990674,  0.847189,  0.142857,  0.517241,\n",
              "         0.105263,  0.      ],\n",
              "       [ 1.      ,  0.014415,  0.227273,  0.133333,  0.614035, -0.995456,\n",
              "         0.991803,  0.825397, -0.990674,  0.847189,  0.52381 ,  0.206897,\n",
              "         0.473684,  1.      ],\n",
              "       [ 0.333333,  0.023389,  0.136364,  0.220635,  0.77193 , -0.996058,\n",
              "         0.990114,  0.68254 , -0.989395,  0.845235,  0.238095,  0.206897,\n",
              "         0.210526,  0.      ],\n",
              "       [ 1.      ,  0.012314,  0.181818,  0.184127,  0.508772, -0.996364,\n",
              "         0.99234 ,  0.857143, -0.990424,  0.848616,  0.095238,  0.517241,\n",
              "         0.      ,  0.818182],\n",
              "       [ 1.      ,  0.005842,  0.863636,  0.185714,  0.701754, -0.995342,\n",
              "         0.990551,  0.809524, -0.989697,  0.847978,  0.52381 ,  0.258621,\n",
              "         0.526316,  0.      ],\n",
              "       [ 1.      ,  0.007237,  0.363636,  0.077778,  0.105263, -0.997322,\n",
              "         0.993113,  0.111111, -0.991856,  0.848719,  0.380952,  0.      ,\n",
              "         0.315789,  0.818182],\n",
              "       [ 1.      ,  0.      ,  0.363636,  0.128571,  0.719298, -0.995456,\n",
              "         0.990852,  0.730159, -0.989923,  0.847515,  0.52381 ,  0.517241,\n",
              "         0.526316,  0.272727],\n",
              "       [ 1.      ,  0.006394,  0.181818,  0.198413,  0.350877, -0.996461,\n",
              "         0.989864,  0.825397, -0.990674,  0.847189,  0.142857,  0.517241,\n",
              "         0.105263,  0.      ],\n",
              "       [ 0.333333,  0.018819,  0.136364,  0.092063,  0.719298, -0.995385,\n",
              "         0.991005,  0.746032, -0.989807,  0.845745,  0.285714,  0.517241,\n",
              "         0.263158,  0.545455]], dtype=float32)"
            ]
          },
          "metadata": {},
          "execution_count": 1340
        }
      ]
    },
    {
      "cell_type": "code",
      "source": [
        "input[0].shape"
      ],
      "metadata": {
        "colab": {
          "base_uri": "https://localhost:8080/"
        },
        "id": "lBIomjW5g6dN",
        "outputId": "140ef28e-8a4b-4ce5-c8ad-c90707530e89"
      },
      "execution_count": 1341,
      "outputs": [
        {
          "output_type": "execute_result",
          "data": {
            "text/plain": [
              "(10, 14)"
            ]
          },
          "metadata": {},
          "execution_count": 1341
        }
      ]
    },
    {
      "cell_type": "code",
      "source": [
        "target[0].shape"
      ],
      "metadata": {
        "colab": {
          "base_uri": "https://localhost:8080/"
        },
        "id": "mXQrAiSSg7KA",
        "outputId": "62e39f3c-6e4a-48f9-eabb-122a5ab7589d"
      },
      "execution_count": 1342,
      "outputs": [
        {
          "output_type": "execute_result",
          "data": {
            "text/plain": [
              "(10, 14)"
            ]
          },
          "metadata": {},
          "execution_count": 1342
        }
      ]
    },
    {
      "cell_type": "code",
      "source": [
        "len(input[0])"
      ],
      "metadata": {
        "colab": {
          "base_uri": "https://localhost:8080/"
        },
        "id": "iew_7KHx77yh",
        "outputId": "5fda3a4d-d8e0-432e-b3d6-a2a1e4f87721"
      },
      "execution_count": 1343,
      "outputs": [
        {
          "output_type": "execute_result",
          "data": {
            "text/plain": [
              "10"
            ]
          },
          "metadata": {},
          "execution_count": 1343
        }
      ]
    },
    {
      "cell_type": "code",
      "source": [
        "len(target[0])"
      ],
      "metadata": {
        "colab": {
          "base_uri": "https://localhost:8080/"
        },
        "id": "RC65NsBT8CYy",
        "outputId": "2a0c9c8b-e933-4448-94d5-78bff936af1f"
      },
      "execution_count": 1344,
      "outputs": [
        {
          "output_type": "execute_result",
          "data": {
            "text/plain": [
              "10"
            ]
          },
          "metadata": {},
          "execution_count": 1344
        }
      ]
    },
    {
      "cell_type": "code",
      "source": [
        "# Define the input and output shape\n",
        "input_shape = (10, 14)\n",
        "output_shape = (10, 14)\n",
        "\n",
        "# input = np.random.rand(*input_shape)\n",
        "# target = np.random.rand(*output_shape)\n"
      ],
      "metadata": {
        "id": "5yZgnSDKBmRV"
      },
      "execution_count": 1345,
      "outputs": []
    },
    {
      "cell_type": "code",
      "source": [
        "input = input[0]\n",
        "target = target[0]"
      ],
      "metadata": {
        "id": "DizO8PIIB5Ht"
      },
      "execution_count": 1346,
      "outputs": []
    },
    {
      "cell_type": "code",
      "source": [
        "# input = input.reshape(1, *input.shape)\n",
        "# target = target.reshape(1, *target.shape)\n",
        "\n",
        "# # Define the encoder\n",
        "# encoder_inputs = keras.layers.Input(shape=input_shape)\n",
        "# encoder = keras.layers.LSTM(64, return_state=True)\n",
        "# encoder_outputs, state_h, state_c = encoder(encoder_inputs)\n",
        "# encoder_states = [state_h, state_c]\n",
        "\n",
        "# # Define the decoder\n",
        "# decoder_inputs = keras.layers.Input(shape=(None, 14))\n",
        "# decoder_lstm = keras.layers.LSTM(64, return_sequences=True, return_state=True)\n",
        "# decoder_outputs, _, _ = decoder_lstm(decoder_inputs, initial_state=encoder_states)\n",
        "# decoder_dense = keras.layers.Dense(14, activation='linear')\n",
        "# decoder_outputs = decoder_dense(decoder_outputs)\n",
        "\n",
        "# # Define the model\n",
        "# model = keras.models.Model([encoder_inputs, decoder_inputs], decoder_outputs)\n",
        "# model.compile(optimizer='adam', loss='mean_squared_error')\n",
        "\n",
        "\n",
        "# # Train the model\n",
        "# history = model.fit([input, target], target, epochs=200, batch_size=16)\n",
        "\n",
        "input = input.reshape(1, *input.shape)\n",
        "target = target.reshape(1, *target.shape)\n",
        "\n",
        "# Define the encoder\n",
        "encoder_inputs = keras.layers.Input(shape=input_shape)\n",
        "encoder = keras.layers.LSTM(64, return_state=True)\n",
        "encoder_outputs, state_h, state_c = encoder(encoder_inputs)\n",
        "encoder_states = [state_h, state_c]\n",
        "\n",
        "# Define the decoder\n",
        "decoder_inputs = keras.layers.Input(shape=(None, 14))\n",
        "decoder_lstm = keras.layers.LSTM(64, return_sequences=True, return_state=True)\n",
        "decoder_outputs, _, _ = decoder_lstm(decoder_inputs, initial_state=encoder_states)\n",
        "\n",
        "# Add the attention mechanism\n",
        "attention = keras.layers.Attention()([decoder_outputs, encoder_outputs])\n",
        "decoder_outputs = keras.layers.Concatenate()([decoder_outputs, attention])\n",
        "\n",
        "decoder_dense = keras.layers.Dense(14, activation='linear')\n",
        "decoder_outputs = decoder_dense(decoder_outputs)\n",
        "\n",
        "# Define the model\n",
        "model = keras.models.Model([encoder_inputs, decoder_inputs], decoder_outputs)\n",
        "model.compile(optimizer=tf.keras.optimizers.Adam(learning_rate=0.0001),\n",
        "              loss='mean_squared_error')\n",
        "\n",
        "# Train the model\n",
        "history = model.fit([input, target], target, epochs=25, batch_size=16)\n"
      ],
      "metadata": {
        "colab": {
          "base_uri": "https://localhost:8080/"
        },
        "id": "kNsS9FF-hnRs",
        "outputId": "14fbd359-60e0-46be-e369-d5c5b8608d0a"
      },
      "execution_count": 1347,
      "outputs": [
        {
          "output_type": "stream",
          "name": "stdout",
          "text": [
            "Epoch 1/25\n",
            "1/1 [==============================] - 2s 2s/step - loss: 0.5736\n",
            "Epoch 2/25\n",
            "1/1 [==============================] - 0s 10ms/step - loss: 0.5645\n",
            "Epoch 3/25\n",
            "1/1 [==============================] - 0s 11ms/step - loss: 0.5556\n",
            "Epoch 4/25\n",
            "1/1 [==============================] - 0s 9ms/step - loss: 0.5468\n",
            "Epoch 5/25\n",
            "1/1 [==============================] - 0s 13ms/step - loss: 0.5381\n",
            "Epoch 6/25\n",
            "1/1 [==============================] - 0s 12ms/step - loss: 0.5295\n",
            "Epoch 7/25\n",
            "1/1 [==============================] - 0s 9ms/step - loss: 0.5210\n",
            "Epoch 8/25\n",
            "1/1 [==============================] - 0s 10ms/step - loss: 0.5127\n",
            "Epoch 9/25\n",
            "1/1 [==============================] - 0s 9ms/step - loss: 0.5044\n",
            "Epoch 10/25\n",
            "1/1 [==============================] - 0s 11ms/step - loss: 0.4963\n",
            "Epoch 11/25\n",
            "1/1 [==============================] - 0s 11ms/step - loss: 0.4883\n",
            "Epoch 12/25\n",
            "1/1 [==============================] - 0s 12ms/step - loss: 0.4803\n",
            "Epoch 13/25\n",
            "1/1 [==============================] - 0s 11ms/step - loss: 0.4725\n",
            "Epoch 14/25\n",
            "1/1 [==============================] - 0s 19ms/step - loss: 0.4648\n",
            "Epoch 15/25\n",
            "1/1 [==============================] - 0s 9ms/step - loss: 0.4572\n",
            "Epoch 16/25\n",
            "1/1 [==============================] - 0s 11ms/step - loss: 0.4497\n",
            "Epoch 17/25\n",
            "1/1 [==============================] - 0s 12ms/step - loss: 0.4423\n",
            "Epoch 18/25\n",
            "1/1 [==============================] - 0s 18ms/step - loss: 0.4350\n",
            "Epoch 19/25\n",
            "1/1 [==============================] - 0s 12ms/step - loss: 0.4278\n",
            "Epoch 20/25\n",
            "1/1 [==============================] - 0s 11ms/step - loss: 0.4207\n",
            "Epoch 21/25\n",
            "1/1 [==============================] - 0s 11ms/step - loss: 0.4137\n",
            "Epoch 22/25\n",
            "1/1 [==============================] - 0s 10ms/step - loss: 0.4067\n",
            "Epoch 23/25\n",
            "1/1 [==============================] - 0s 11ms/step - loss: 0.3999\n",
            "Epoch 24/25\n",
            "1/1 [==============================] - 0s 9ms/step - loss: 0.3931\n",
            "Epoch 25/25\n",
            "1/1 [==============================] - 0s 11ms/step - loss: 0.3864\n"
          ]
        }
      ]
    },
    {
      "cell_type": "code",
      "source": [
        "# Plot history (also known as a loss curve)\n",
        "import matplotlib.pyplot as plt\n",
        "pd.DataFrame(history.history).plot()\n",
        "plt.ylabel(\"loss\")\n",
        "plt.xlabel(\"epochs\");"
      ],
      "metadata": {
        "colab": {
          "base_uri": "https://localhost:8080/",
          "height": 279
        },
        "id": "zGKbJXiRHv6w",
        "outputId": "abef1566-1d48-44d8-dab7-7c00764241c0"
      },
      "execution_count": 1348,
      "outputs": [
        {
          "output_type": "display_data",
          "data": {
            "text/plain": [
              "<Figure size 432x288 with 1 Axes>"
            ],
            "image/png": "[encoded data removed]"
          },
          "metadata": {
            "needs_background": "light"
          }
        }
      ]
    },
    {
      "cell_type": "code",
      "source": [
        "pred = model.predict([input, target])"
      ],
      "metadata": {
        "colab": {
          "base_uri": "https://localhost:8080/"
        },
        "id": "NVYCQcnRIKff",
        "outputId": "ace7453d-c3b1-473f-edf4-f327601bdbab"
      },
      "execution_count": 1349,
      "outputs": [
        {
          "output_type": "stream",
          "name": "stdout",
          "text": [
            "1/1 [==============================] - 1s 597ms/step\n"
          ]
        }
      ]
    },
    {
      "cell_type": "code",
      "source": [
        "input[0][0]"
      ],
      "metadata": {
        "colab": {
          "base_uri": "https://localhost:8080/"
        },
        "id": "dwujtM8gIa4T",
        "outputId": "97240b4b-2736-465e-9d80-fe86bceb6d5b"
      },
      "execution_count": 1352,
      "outputs": [
        {
          "output_type": "execute_result",
          "data": {
            "text/plain": [
              "array([ 0.333333,  0.017141,  0.227273,  0.12381 ,  0.877193, -0.995685,\n",
              "        0.992237,  0.825397, -0.990674,  0.847189,  0.52381 ,  0.086207,\n",
              "        0.473684,  0.909091], dtype=float32)"
            ]
          },
          "metadata": {},
          "execution_count": 1352
        }
      ]
    },
    {
      "cell_type": "code",
      "source": [
        "numbers = [x[-1] for x in pred[0]]"
      ],
      "metadata": {
        "id": "qppv593UYXQt"
      },
      "execution_count": 1353,
      "outputs": []
    },
    {
      "cell_type": "code",
      "source": [
        "\n",
        "result = [0] * len(numbers)\n",
        "for i, num in enumerate(sorted(numbers)):\n",
        "    result[numbers.index(num)] = i\n",
        "\n",
        "print(result)\n"
      ],
      "metadata": {
        "colab": {
          "base_uri": "https://localhost:8080/"
        },
        "id": "CYF7vP25ViMW",
        "outputId": "64ade809-6994-4a47-e670-eeac4ca65a39"
      },
      "execution_count": 1354,
      "outputs": [
        {
          "output_type": "stream",
          "name": "stdout",
          "text": [
            "[0, 1, 2, 3, 4, 5, 6, 7, 8, 9]\n"
          ]
        }
      ]
    },
    {
      "cell_type": "code",
      "source": [
        "\n",
        "dict_result = dict(zip(result, numbers))"
      ],
      "metadata": {
        "id": "5jQfKk8uXUA2"
      },
      "execution_count": 1355,
      "outputs": []
    },
    {
      "cell_type": "code",
      "source": [
        "print('nth : ', 'value')\n",
        "dict_result"
      ],
      "metadata": {
        "colab": {
          "base_uri": "https://localhost:8080/"
        },
        "id": "eSpt7PA6ZAgT",
        "outputId": "61d29f47-4e90-480d-eded-b2b6ba0571bf"
      },
      "execution_count": 1356,
      "outputs": [
        {
          "output_type": "stream",
          "name": "stdout",
          "text": [
            "nth :  value\n"
          ]
        },
        {
          "output_type": "execute_result",
          "data": {
            "text/plain": [
              "{0: 0.11695391,\n",
              " 1: 0.122236036,\n",
              " 2: 0.12622987,\n",
              " 3: 0.14348635,\n",
              " 4: 0.1447901,\n",
              " 5: 0.16562283,\n",
              " 6: 0.18662673,\n",
              " 7: 0.20484978,\n",
              " 8: 0.22117615,\n",
              " 9: 0.23972438}"
            ]
          },
          "metadata": {},
          "execution_count": 1356
        }
      ]
    },
    {
      "cell_type": "code",
      "source": [
        "import matplotlib.pyplot as plt\n",
        "\n",
        "\n",
        "plt.scatter(result, numbers)\n",
        "plt.xlabel(\"List 1\")\n",
        "plt.ylabel(\"List 2\")\n",
        "plt.title(\"Scatter Plot of List 1 and List 2\")\n",
        "plt.show()\n"
      ],
      "metadata": {
        "colab": {
          "base_uri": "https://localhost:8080/",
          "height": 295
        },
        "id": "Xa2BynqBdknv",
        "outputId": "b8679c10-4c9c-49c8-a457-417287033cbe"
      },
      "execution_count": 1359,
      "outputs": [
        {
          "output_type": "display_data",
          "data": {
            "text/plain": [
              "<Figure size 432x288 with 1 Axes>"
            ],
            "image/png": "[encoded data removed]"
          },
          "metadata": {
            "needs_background": "light"
          }
        }
      ]
    },
    {
      "cell_type": "code",
      "source": [],
      "metadata": {
        "id": "enBQyDnEeSrj"
      },
      "execution_count": null,
      "outputs": []
    }
  ]
}