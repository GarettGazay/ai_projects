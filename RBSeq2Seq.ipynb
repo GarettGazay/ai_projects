{
  "nbformat": 4,
  "nbformat_minor": 0,
  "metadata": {
    "colab": {
      "provenance": [],
      "authorship_tag": "ABX9TyMOlp4lLPCOIDT97pI/JVRC",
      "include_colab_link": true
    },
    "kernelspec": {
      "name": "python3",
      "display_name": "Python 3"
    },
    "language_info": {
      "name": "python"
    },
    "accelerator": "GPU",
    "gpuClass": "standard"
  },
  "cells": [
    {
      "cell_type": "markdown",
      "metadata": {
        "id": "view-in-github",
        "colab_type": "text"
      },
      "source": [
        "<a href=\"https://colab.research.google.com/github/GarettGazay/ai_projects/blob/master/RBSeq2Seq.ipynb\" target=\"_parent\"><img src=\"https://colab.research.google.com/assets/colab-badge.svg\" alt=\"Open In Colab\"/></a>"
      ]
    },
    {
      "cell_type": "code",
      "execution_count": 143,
      "metadata": {
        "id": "CofSU91rN0tQ"
      },
      "outputs": [],
      "source": [
        "import tensorflow as tf\n",
        "from tensorflow import keras\n",
        "from keras.models import Sequential\n",
        "from keras.layers import LSTM, Dense\n",
        "from sklearn.model_selection import train_test_split\n",
        "import numpy as np\n",
        "import pandas as pd\n",
        "import time"
      ]
    },
    {
      "cell_type": "code",
      "source": [
        "rides = pd.read_csv('/content/ordering_dataset.csv')"
      ],
      "metadata": {
        "id": "dHTOk2lyN8H6"
      },
      "execution_count": 144,
      "outputs": []
    },
    {
      "cell_type": "code",
      "source": [
        "rides = rides.drop(['Unnamed: 0','order','rider.first_name','rider.last_name','pickup.event_location.address1','dropoff.event_location.address1'], axis=1)"
      ],
      "metadata": {
        "id": "3E_WYqzmOmuR"
      },
      "execution_count": 145,
      "outputs": []
    },
    {
      "cell_type": "code",
      "source": [
        "rides.head()"
      ],
      "metadata": {
        "colab": {
          "base_uri": "https://localhost:8080/",
          "height": 270
        },
        "id": "r84oLFbQE_vl",
        "outputId": "2d10f1d0-5e09-4d28-a6ed-c942ac38390a"
      },
      "execution_count": 146,
      "outputs": [
        {
          "output_type": "execute_result",
          "data": {
            "text/plain": [
              "   space_type  billable_distance  run_name  rider.mediroutes_rider_id  \\\n",
              "0    1.000000           0.012314  0.181818                   0.184127   \n",
              "1    1.000000           0.006394  0.181818                   0.198413   \n",
              "2    1.000000           0.003826  0.181818                   0.182540   \n",
              "3    0.333333           0.023389  0.136364                   0.220635   \n",
              "4    0.333333           0.018819  0.136364                   0.092063   \n",
              "\n",
              "   pickup.event_location.zip  pickup.event_location.longitude  \\\n",
              "0                   0.508772                        -0.996364   \n",
              "1                   0.350877                        -0.996461   \n",
              "2                   0.824561                        -0.996339   \n",
              "3                   0.771930                        -0.996058   \n",
              "4                   0.719298                        -0.995385   \n",
              "\n",
              "   pickup.event_location.latitude  dropoff.event_location.zip  \\\n",
              "0                        0.992340                    0.857143   \n",
              "1                        0.989864                    0.825397   \n",
              "2                        0.990125                    0.825397   \n",
              "3                        0.990114                    0.682540   \n",
              "4                        0.991005                    0.746032   \n",
              "\n",
              "   dropoff.event_location.longitude  dropoff.event_location.latitude  \\\n",
              "0                         -0.990424                         0.848616   \n",
              "1                         -0.990674                         0.847189   \n",
              "2                         -0.990674                         0.847189   \n",
              "3                         -0.989395                         0.845235   \n",
              "4                         -0.989807                         0.845745   \n",
              "\n",
              "   pickup_month  pickup_day  pickup_hour  pickup_minute  dropoff_hour  \\\n",
              "0           1.0         1.0     0.095238       0.517241      0.000000   \n",
              "1           1.0         1.0     0.142857       0.517241      0.105263   \n",
              "2           1.0         1.0     0.142857       0.517241      0.105263   \n",
              "3           1.0         1.0     0.238095       0.206897      0.210526   \n",
              "4           1.0         1.0     0.285714       0.517241      0.263158   \n",
              "\n",
              "   dropoff_minute  \n",
              "0        0.818182  \n",
              "1        0.000000  \n",
              "2        0.000000  \n",
              "3        0.000000  \n",
              "4        0.545455  "
            ],
            "text/html": [
              "\n",
              "  <div id=\"df-5b0e2f47-2752-476b-91a7-0a868dafe835\">\n",
              "    <div class=\"colab-df-container\">\n",
              "      <div>\n",
              "<style scoped>\n",
              "    .dataframe tbody tr th:only-of-type {\n",
              "        vertical-align: middle;\n",
              "    }\n",
              "\n",
              "    .dataframe tbody tr th {\n",
              "        vertical-align: top;\n",
              "    }\n",
              "\n",
              "    .dataframe thead th {\n",
              "        text-align: right;\n",
              "    }\n",
              "</style>\n",
              "<table border=\"1\" class=\"dataframe\">\n",
              "  <thead>\n",
              "    <tr style=\"text-align: right;\">\n",
              "      <th></th>\n",
              "      <th>space_type</th>\n",
              "      <th>billable_distance</th>\n",
              "      <th>run_name</th>\n",
              "      <th>rider.mediroutes_rider_id</th>\n",
              "      <th>pickup.event_location.zip</th>\n",
              "      <th>pickup.event_location.longitude</th>\n",
              "      <th>pickup.event_location.latitude</th>\n",
              "      <th>dropoff.event_location.zip</th>\n",
              "      <th>dropoff.event_location.longitude</th>\n",
              "      <th>dropoff.event_location.latitude</th>\n",
              "      <th>pickup_month</th>\n",
              "      <th>pickup_day</th>\n",
              "      <th>pickup_hour</th>\n",
              "      <th>pickup_minute</th>\n",
              "      <th>dropoff_hour</th>\n",
              "      <th>dropoff_minute</th>\n",
              "    </tr>\n",
              "  </thead>\n",
              "  <tbody>\n",
              "    <tr>\n",
              "      <th>0</th>\n",
              "      <td>1.000000</td>\n",
              "      <td>0.012314</td>\n",
              "      <td>0.181818</td>\n",
              "      <td>0.184127</td>\n",
              "      <td>0.508772</td>\n",
              "      <td>-0.996364</td>\n",
              "      <td>0.992340</td>\n",
              "      <td>0.857143</td>\n",
              "      <td>-0.990424</td>\n",
              "      <td>0.848616</td>\n",
              "      <td>1.0</td>\n",
              "      <td>1.0</td>\n",
              "      <td>0.095238</td>\n",
              "      <td>0.517241</td>\n",
              "      <td>0.000000</td>\n",
              "      <td>0.818182</td>\n",
              "    </tr>\n",
              "    <tr>\n",
              "      <th>1</th>\n",
              "      <td>1.000000</td>\n",
              "      <td>0.006394</td>\n",
              "      <td>0.181818</td>\n",
              "      <td>0.198413</td>\n",
              "      <td>0.350877</td>\n",
              "      <td>-0.996461</td>\n",
              "      <td>0.989864</td>\n",
              "      <td>0.825397</td>\n",
              "      <td>-0.990674</td>\n",
              "      <td>0.847189</td>\n",
              "      <td>1.0</td>\n",
              "      <td>1.0</td>\n",
              "      <td>0.142857</td>\n",
              "      <td>0.517241</td>\n",
              "      <td>0.105263</td>\n",
              "      <td>0.000000</td>\n",
              "    </tr>\n",
              "    <tr>\n",
              "      <th>2</th>\n",
              "      <td>1.000000</td>\n",
              "      <td>0.003826</td>\n",
              "      <td>0.181818</td>\n",
              "      <td>0.182540</td>\n",
              "      <td>0.824561</td>\n",
              "      <td>-0.996339</td>\n",
              "      <td>0.990125</td>\n",
              "      <td>0.825397</td>\n",
              "      <td>-0.990674</td>\n",
              "      <td>0.847189</td>\n",
              "      <td>1.0</td>\n",
              "      <td>1.0</td>\n",
              "      <td>0.142857</td>\n",
              "      <td>0.517241</td>\n",
              "      <td>0.105263</td>\n",
              "      <td>0.000000</td>\n",
              "    </tr>\n",
              "    <tr>\n",
              "      <th>3</th>\n",
              "      <td>0.333333</td>\n",
              "      <td>0.023389</td>\n",
              "      <td>0.136364</td>\n",
              "      <td>0.220635</td>\n",
              "      <td>0.771930</td>\n",
              "      <td>-0.996058</td>\n",
              "      <td>0.990114</td>\n",
              "      <td>0.682540</td>\n",
              "      <td>-0.989395</td>\n",
              "      <td>0.845235</td>\n",
              "      <td>1.0</td>\n",
              "      <td>1.0</td>\n",
              "      <td>0.238095</td>\n",
              "      <td>0.206897</td>\n",
              "      <td>0.210526</td>\n",
              "      <td>0.000000</td>\n",
              "    </tr>\n",
              "    <tr>\n",
              "      <th>4</th>\n",
              "      <td>0.333333</td>\n",
              "      <td>0.018819</td>\n",
              "      <td>0.136364</td>\n",
              "      <td>0.092063</td>\n",
              "      <td>0.719298</td>\n",
              "      <td>-0.995385</td>\n",
              "      <td>0.991005</td>\n",
              "      <td>0.746032</td>\n",
              "      <td>-0.989807</td>\n",
              "      <td>0.845745</td>\n",
              "      <td>1.0</td>\n",
              "      <td>1.0</td>\n",
              "      <td>0.285714</td>\n",
              "      <td>0.517241</td>\n",
              "      <td>0.263158</td>\n",
              "      <td>0.545455</td>\n",
              "    </tr>\n",
              "  </tbody>\n",
              "</table>\n",
              "</div>\n",
              "      <button class=\"colab-df-convert\" onclick=\"convertToInteractive('df-5b0e2f47-2752-476b-91a7-0a868dafe835')\"\n",
              "              title=\"Convert this dataframe to an interactive table.\"\n",
              "              style=\"display:none;\">\n",
              "        \n",
              "  <svg xmlns=\"http://www.w3.org/2000/svg\" height=\"24px\"viewBox=\"0 0 24 24\"\n",
              "       width=\"24px\">\n",
              "    <path d=\"M0 0h24v24H0V0z\" fill=\"none\"/>\n",
              "    <path d=\"M18.56 5.44l.94 2.06.94-2.06 2.06-.94-2.06-.94-.94-2.06-.94 2.06-2.06.94zm-11 1L8.5 8.5l.94-2.06 2.06-.94-2.06-.94L8.5 2.5l-.94 2.06-2.06.94zm10 10l.94 2.06.94-2.06 2.06-.94-2.06-.94-.94-2.06-.94 2.06-2.06.94z\"/><path d=\"M17.41 7.96l-1.37-1.37c-.4-.4-.92-.59-1.43-.59-.52 0-1.04.2-1.43.59L10.3 9.45l-7.72 7.72c-.78.78-.78 2.05 0 2.83L4 21.41c.39.39.9.59 1.41.59.51 0 1.02-.2 1.41-.59l7.78-7.78 2.81-2.81c.8-.78.8-2.07 0-2.86zM5.41 20L4 18.59l7.72-7.72 1.47 1.35L5.41 20z\"/>\n",
              "  </svg>\n",
              "      </button>\n",
              "      \n",
              "  <style>\n",
              "    .colab-df-container {\n",
              "      display:flex;\n",
              "      flex-wrap:wrap;\n",
              "      gap: 12px;\n",
              "    }\n",
              "\n",
              "    .colab-df-convert {\n",
              "      background-color: #E8F0FE;\n",
              "      border: none;\n",
              "      border-radius: 50%;\n",
              "      cursor: pointer;\n",
              "      display: none;\n",
              "      fill: #1967D2;\n",
              "      height: 32px;\n",
              "      padding: 0 0 0 0;\n",
              "      width: 32px;\n",
              "    }\n",
              "\n",
              "    .colab-df-convert:hover {\n",
              "      background-color: #E2EBFA;\n",
              "      box-shadow: 0px 1px 2px rgba(60, 64, 67, 0.3), 0px 1px 3px 1px rgba(60, 64, 67, 0.15);\n",
              "      fill: #174EA6;\n",
              "    }\n",
              "\n",
              "    [theme=dark] .colab-df-convert {\n",
              "      background-color: #3B4455;\n",
              "      fill: #D2E3FC;\n",
              "    }\n",
              "\n",
              "    [theme=dark] .colab-df-convert:hover {\n",
              "      background-color: #434B5C;\n",
              "      box-shadow: 0px 1px 3px 1px rgba(0, 0, 0, 0.15);\n",
              "      filter: drop-shadow(0px 1px 2px rgba(0, 0, 0, 0.3));\n",
              "      fill: #FFFFFF;\n",
              "    }\n",
              "  </style>\n",
              "\n",
              "      <script>\n",
              "        const buttonEl =\n",
              "          document.querySelector('#df-5b0e2f47-2752-476b-91a7-0a868dafe835 button.colab-df-convert');\n",
              "        buttonEl.style.display =\n",
              "          google.colab.kernel.accessAllowed ? 'block' : 'none';\n",
              "\n",
              "        async function convertToInteractive(key) {\n",
              "          const element = document.querySelector('#df-5b0e2f47-2752-476b-91a7-0a868dafe835');\n",
              "          const dataTable =\n",
              "            await google.colab.kernel.invokeFunction('convertToInteractive',\n",
              "                                                     [key], {});\n",
              "          if (!dataTable) return;\n",
              "\n",
              "          const docLinkHtml = 'Like what you see? Visit the ' +\n",
              "            '<a target=\"_blank\" href=https://colab.research.google.com/notebooks/data_table.ipynb>data table notebook</a>'\n",
              "            + ' to learn more about interactive tables.';\n",
              "          element.innerHTML = '';\n",
              "          dataTable['output_type'] = 'display_data';\n",
              "          await google.colab.output.renderOutput(dataTable, element);\n",
              "          const docLink = document.createElement('div');\n",
              "          docLink.innerHTML = docLinkHtml;\n",
              "          element.appendChild(docLink);\n",
              "        }\n",
              "      </script>\n",
              "    </div>\n",
              "  </div>\n",
              "  "
            ]
          },
          "metadata": {},
          "execution_count": 146
        }
      ]
    },
    {
      "cell_type": "code",
      "source": [
        "rides = rides.astype('float32')"
      ],
      "metadata": {
        "id": "5rDhFO1OfzGU"
      },
      "execution_count": 147,
      "outputs": []
    },
    {
      "cell_type": "code",
      "source": [
        "rides.dtypes"
      ],
      "metadata": {
        "colab": {
          "base_uri": "https://localhost:8080/"
        },
        "id": "Lr3bpD9Wf77V",
        "outputId": "06ab780d-1354-42a7-a539-55a856c449ab"
      },
      "execution_count": 148,
      "outputs": [
        {
          "output_type": "execute_result",
          "data": {
            "text/plain": [
              "space_type                          float32\n",
              "billable_distance                   float32\n",
              "run_name                            float32\n",
              "rider.mediroutes_rider_id           float32\n",
              "pickup.event_location.zip           float32\n",
              "pickup.event_location.longitude     float32\n",
              "pickup.event_location.latitude      float32\n",
              "dropoff.event_location.zip          float32\n",
              "dropoff.event_location.longitude    float32\n",
              "dropoff.event_location.latitude     float32\n",
              "pickup_month                        float32\n",
              "pickup_day                          float32\n",
              "pickup_hour                         float32\n",
              "pickup_minute                       float32\n",
              "dropoff_hour                        float32\n",
              "dropoff_minute                      float32\n",
              "dtype: object"
            ]
          },
          "metadata": {},
          "execution_count": 148
        }
      ]
    },
    {
      "cell_type": "code",
      "source": [
        "rides.head()"
      ],
      "metadata": {
        "colab": {
          "base_uri": "https://localhost:8080/",
          "height": 270
        },
        "id": "l8sXH1M0gB9B",
        "outputId": "12e4efee-4b68-41ad-e104-0ba97d7c6e76"
      },
      "execution_count": 149,
      "outputs": [
        {
          "output_type": "execute_result",
          "data": {
            "text/plain": [
              "   space_type  billable_distance  run_name  rider.mediroutes_rider_id  \\\n",
              "0    1.000000           0.012314  0.181818                   0.184127   \n",
              "1    1.000000           0.006394  0.181818                   0.198413   \n",
              "2    1.000000           0.003826  0.181818                   0.182540   \n",
              "3    0.333333           0.023389  0.136364                   0.220635   \n",
              "4    0.333333           0.018819  0.136364                   0.092063   \n",
              "\n",
              "   pickup.event_location.zip  pickup.event_location.longitude  \\\n",
              "0                   0.508772                        -0.996364   \n",
              "1                   0.350877                        -0.996461   \n",
              "2                   0.824561                        -0.996339   \n",
              "3                   0.771930                        -0.996058   \n",
              "4                   0.719298                        -0.995385   \n",
              "\n",
              "   pickup.event_location.latitude  dropoff.event_location.zip  \\\n",
              "0                        0.992340                    0.857143   \n",
              "1                        0.989864                    0.825397   \n",
              "2                        0.990125                    0.825397   \n",
              "3                        0.990114                    0.682540   \n",
              "4                        0.991005                    0.746032   \n",
              "\n",
              "   dropoff.event_location.longitude  dropoff.event_location.latitude  \\\n",
              "0                         -0.990424                         0.848616   \n",
              "1                         -0.990674                         0.847189   \n",
              "2                         -0.990674                         0.847189   \n",
              "3                         -0.989395                         0.845235   \n",
              "4                         -0.989807                         0.845745   \n",
              "\n",
              "   pickup_month  pickup_day  pickup_hour  pickup_minute  dropoff_hour  \\\n",
              "0           1.0         1.0     0.095238       0.517241      0.000000   \n",
              "1           1.0         1.0     0.142857       0.517241      0.105263   \n",
              "2           1.0         1.0     0.142857       0.517241      0.105263   \n",
              "3           1.0         1.0     0.238095       0.206897      0.210526   \n",
              "4           1.0         1.0     0.285714       0.517241      0.263158   \n",
              "\n",
              "   dropoff_minute  \n",
              "0        0.818182  \n",
              "1        0.000000  \n",
              "2        0.000000  \n",
              "3        0.000000  \n",
              "4        0.545455  "
            ],
            "text/html": [
              "\n",
              "  <div id=\"df-c572dbf4-cd4c-47b2-b219-dcb92a741405\">\n",
              "    <div class=\"colab-df-container\">\n",
              "      <div>\n",
              "<style scoped>\n",
              "    .dataframe tbody tr th:only-of-type {\n",
              "        vertical-align: middle;\n",
              "    }\n",
              "\n",
              "    .dataframe tbody tr th {\n",
              "        vertical-align: top;\n",
              "    }\n",
              "\n",
              "    .dataframe thead th {\n",
              "        text-align: right;\n",
              "    }\n",
              "</style>\n",
              "<table border=\"1\" class=\"dataframe\">\n",
              "  <thead>\n",
              "    <tr style=\"text-align: right;\">\n",
              "      <th></th>\n",
              "      <th>space_type</th>\n",
              "      <th>billable_distance</th>\n",
              "      <th>run_name</th>\n",
              "      <th>rider.mediroutes_rider_id</th>\n",
              "      <th>pickup.event_location.zip</th>\n",
              "      <th>pickup.event_location.longitude</th>\n",
              "      <th>pickup.event_location.latitude</th>\n",
              "      <th>dropoff.event_location.zip</th>\n",
              "      <th>dropoff.event_location.longitude</th>\n",
              "      <th>dropoff.event_location.latitude</th>\n",
              "      <th>pickup_month</th>\n",
              "      <th>pickup_day</th>\n",
              "      <th>pickup_hour</th>\n",
              "      <th>pickup_minute</th>\n",
              "      <th>dropoff_hour</th>\n",
              "      <th>dropoff_minute</th>\n",
              "    </tr>\n",
              "  </thead>\n",
              "  <tbody>\n",
              "    <tr>\n",
              "      <th>0</th>\n",
              "      <td>1.000000</td>\n",
              "      <td>0.012314</td>\n",
              "      <td>0.181818</td>\n",
              "      <td>0.184127</td>\n",
              "      <td>0.508772</td>\n",
              "      <td>-0.996364</td>\n",
              "      <td>0.992340</td>\n",
              "      <td>0.857143</td>\n",
              "      <td>-0.990424</td>\n",
              "      <td>0.848616</td>\n",
              "      <td>1.0</td>\n",
              "      <td>1.0</td>\n",
              "      <td>0.095238</td>\n",
              "      <td>0.517241</td>\n",
              "      <td>0.000000</td>\n",
              "      <td>0.818182</td>\n",
              "    </tr>\n",
              "    <tr>\n",
              "      <th>1</th>\n",
              "      <td>1.000000</td>\n",
              "      <td>0.006394</td>\n",
              "      <td>0.181818</td>\n",
              "      <td>0.198413</td>\n",
              "      <td>0.350877</td>\n",
              "      <td>-0.996461</td>\n",
              "      <td>0.989864</td>\n",
              "      <td>0.825397</td>\n",
              "      <td>-0.990674</td>\n",
              "      <td>0.847189</td>\n",
              "      <td>1.0</td>\n",
              "      <td>1.0</td>\n",
              "      <td>0.142857</td>\n",
              "      <td>0.517241</td>\n",
              "      <td>0.105263</td>\n",
              "      <td>0.000000</td>\n",
              "    </tr>\n",
              "    <tr>\n",
              "      <th>2</th>\n",
              "      <td>1.000000</td>\n",
              "      <td>0.003826</td>\n",
              "      <td>0.181818</td>\n",
              "      <td>0.182540</td>\n",
              "      <td>0.824561</td>\n",
              "      <td>-0.996339</td>\n",
              "      <td>0.990125</td>\n",
              "      <td>0.825397</td>\n",
              "      <td>-0.990674</td>\n",
              "      <td>0.847189</td>\n",
              "      <td>1.0</td>\n",
              "      <td>1.0</td>\n",
              "      <td>0.142857</td>\n",
              "      <td>0.517241</td>\n",
              "      <td>0.105263</td>\n",
              "      <td>0.000000</td>\n",
              "    </tr>\n",
              "    <tr>\n",
              "      <th>3</th>\n",
              "      <td>0.333333</td>\n",
              "      <td>0.023389</td>\n",
              "      <td>0.136364</td>\n",
              "      <td>0.220635</td>\n",
              "      <td>0.771930</td>\n",
              "      <td>-0.996058</td>\n",
              "      <td>0.990114</td>\n",
              "      <td>0.682540</td>\n",
              "      <td>-0.989395</td>\n",
              "      <td>0.845235</td>\n",
              "      <td>1.0</td>\n",
              "      <td>1.0</td>\n",
              "      <td>0.238095</td>\n",
              "      <td>0.206897</td>\n",
              "      <td>0.210526</td>\n",
              "      <td>0.000000</td>\n",
              "    </tr>\n",
              "    <tr>\n",
              "      <th>4</th>\n",
              "      <td>0.333333</td>\n",
              "      <td>0.018819</td>\n",
              "      <td>0.136364</td>\n",
              "      <td>0.092063</td>\n",
              "      <td>0.719298</td>\n",
              "      <td>-0.995385</td>\n",
              "      <td>0.991005</td>\n",
              "      <td>0.746032</td>\n",
              "      <td>-0.989807</td>\n",
              "      <td>0.845745</td>\n",
              "      <td>1.0</td>\n",
              "      <td>1.0</td>\n",
              "      <td>0.285714</td>\n",
              "      <td>0.517241</td>\n",
              "      <td>0.263158</td>\n",
              "      <td>0.545455</td>\n",
              "    </tr>\n",
              "  </tbody>\n",
              "</table>\n",
              "</div>\n",
              "      <button class=\"colab-df-convert\" onclick=\"convertToInteractive('df-c572dbf4-cd4c-47b2-b219-dcb92a741405')\"\n",
              "              title=\"Convert this dataframe to an interactive table.\"\n",
              "              style=\"display:none;\">\n",
              "        \n",
              "  <svg xmlns=\"http://www.w3.org/2000/svg\" height=\"24px\"viewBox=\"0 0 24 24\"\n",
              "       width=\"24px\">\n",
              "    <path d=\"M0 0h24v24H0V0z\" fill=\"none\"/>\n",
              "    <path d=\"M18.56 5.44l.94 2.06.94-2.06 2.06-.94-2.06-.94-.94-2.06-.94 2.06-2.06.94zm-11 1L8.5 8.5l.94-2.06 2.06-.94-2.06-.94L8.5 2.5l-.94 2.06-2.06.94zm10 10l.94 2.06.94-2.06 2.06-.94-2.06-.94-.94-2.06-.94 2.06-2.06.94z\"/><path d=\"M17.41 7.96l-1.37-1.37c-.4-.4-.92-.59-1.43-.59-.52 0-1.04.2-1.43.59L10.3 9.45l-7.72 7.72c-.78.78-.78 2.05 0 2.83L4 21.41c.39.39.9.59 1.41.59.51 0 1.02-.2 1.41-.59l7.78-7.78 2.81-2.81c.8-.78.8-2.07 0-2.86zM5.41 20L4 18.59l7.72-7.72 1.47 1.35L5.41 20z\"/>\n",
              "  </svg>\n",
              "      </button>\n",
              "      \n",
              "  <style>\n",
              "    .colab-df-container {\n",
              "      display:flex;\n",
              "      flex-wrap:wrap;\n",
              "      gap: 12px;\n",
              "    }\n",
              "\n",
              "    .colab-df-convert {\n",
              "      background-color: #E8F0FE;\n",
              "      border: none;\n",
              "      border-radius: 50%;\n",
              "      cursor: pointer;\n",
              "      display: none;\n",
              "      fill: #1967D2;\n",
              "      height: 32px;\n",
              "      padding: 0 0 0 0;\n",
              "      width: 32px;\n",
              "    }\n",
              "\n",
              "    .colab-df-convert:hover {\n",
              "      background-color: #E2EBFA;\n",
              "      box-shadow: 0px 1px 2px rgba(60, 64, 67, 0.3), 0px 1px 3px 1px rgba(60, 64, 67, 0.15);\n",
              "      fill: #174EA6;\n",
              "    }\n",
              "\n",
              "    [theme=dark] .colab-df-convert {\n",
              "      background-color: #3B4455;\n",
              "      fill: #D2E3FC;\n",
              "    }\n",
              "\n",
              "    [theme=dark] .colab-df-convert:hover {\n",
              "      background-color: #434B5C;\n",
              "      box-shadow: 0px 1px 3px 1px rgba(0, 0, 0, 0.15);\n",
              "      filter: drop-shadow(0px 1px 2px rgba(0, 0, 0, 0.3));\n",
              "      fill: #FFFFFF;\n",
              "    }\n",
              "  </style>\n",
              "\n",
              "      <script>\n",
              "        const buttonEl =\n",
              "          document.querySelector('#df-c572dbf4-cd4c-47b2-b219-dcb92a741405 button.colab-df-convert');\n",
              "        buttonEl.style.display =\n",
              "          google.colab.kernel.accessAllowed ? 'block' : 'none';\n",
              "\n",
              "        async function convertToInteractive(key) {\n",
              "          const element = document.querySelector('#df-c572dbf4-cd4c-47b2-b219-dcb92a741405');\n",
              "          const dataTable =\n",
              "            await google.colab.kernel.invokeFunction('convertToInteractive',\n",
              "                                                     [key], {});\n",
              "          if (!dataTable) return;\n",
              "\n",
              "          const docLinkHtml = 'Like what you see? Visit the ' +\n",
              "            '<a target=\"_blank\" href=https://colab.research.google.com/notebooks/data_table.ipynb>data table notebook</a>'\n",
              "            + ' to learn more about interactive tables.';\n",
              "          element.innerHTML = '';\n",
              "          dataTable['output_type'] = 'display_data';\n",
              "          await google.colab.output.renderOutput(dataTable, element);\n",
              "          const docLink = document.createElement('div');\n",
              "          docLink.innerHTML = docLinkHtml;\n",
              "          element.appendChild(docLink);\n",
              "        }\n",
              "      </script>\n",
              "    </div>\n",
              "  </div>\n",
              "  "
            ]
          },
          "metadata": {},
          "execution_count": 149
        }
      ]
    },
    {
      "cell_type": "code",
      "source": [
        "rides['pickup_day'] = rides['pickup_day'].astype(int)\n",
        "rides['pickup_month'] = rides['pickup_month'].astype(int)\n",
        "\n",
        "rides['pickup_day'] = rides['pickup_day'].astype(str)\n",
        "rides['pickup_month'] = rides['pickup_month'].astype(str)\n",
        "\n",
        "rides['id'] = rides['pickup_month'] + rides['pickup_day']\n",
        "\n",
        "rides = rides.drop(['pickup_month','pickup_day'], axis=1)"
      ],
      "metadata": {
        "id": "UbRWLKbMNyio"
      },
      "execution_count": 150,
      "outputs": []
    },
    {
      "cell_type": "code",
      "source": [
        "rides.head()"
      ],
      "metadata": {
        "colab": {
          "base_uri": "https://localhost:8080/",
          "height": 270
        },
        "id": "NH9k8ihZgMpm",
        "outputId": "0c00e23e-a086-4c18-8962-2fba31b60b17"
      },
      "execution_count": 151,
      "outputs": [
        {
          "output_type": "execute_result",
          "data": {
            "text/plain": [
              "   space_type  billable_distance  run_name  rider.mediroutes_rider_id  \\\n",
              "0    1.000000           0.012314  0.181818                   0.184127   \n",
              "1    1.000000           0.006394  0.181818                   0.198413   \n",
              "2    1.000000           0.003826  0.181818                   0.182540   \n",
              "3    0.333333           0.023389  0.136364                   0.220635   \n",
              "4    0.333333           0.018819  0.136364                   0.092063   \n",
              "\n",
              "   pickup.event_location.zip  pickup.event_location.longitude  \\\n",
              "0                   0.508772                        -0.996364   \n",
              "1                   0.350877                        -0.996461   \n",
              "2                   0.824561                        -0.996339   \n",
              "3                   0.771930                        -0.996058   \n",
              "4                   0.719298                        -0.995385   \n",
              "\n",
              "   pickup.event_location.latitude  dropoff.event_location.zip  \\\n",
              "0                        0.992340                    0.857143   \n",
              "1                        0.989864                    0.825397   \n",
              "2                        0.990125                    0.825397   \n",
              "3                        0.990114                    0.682540   \n",
              "4                        0.991005                    0.746032   \n",
              "\n",
              "   dropoff.event_location.longitude  dropoff.event_location.latitude  \\\n",
              "0                         -0.990424                         0.848616   \n",
              "1                         -0.990674                         0.847189   \n",
              "2                         -0.990674                         0.847189   \n",
              "3                         -0.989395                         0.845235   \n",
              "4                         -0.989807                         0.845745   \n",
              "\n",
              "   pickup_hour  pickup_minute  dropoff_hour  dropoff_minute  id  \n",
              "0     0.095238       0.517241      0.000000        0.818182  11  \n",
              "1     0.142857       0.517241      0.105263        0.000000  11  \n",
              "2     0.142857       0.517241      0.105263        0.000000  11  \n",
              "3     0.238095       0.206897      0.210526        0.000000  11  \n",
              "4     0.285714       0.517241      0.263158        0.545455  11  "
            ],
            "text/html": [
              "\n",
              "  <div id=\"df-07812271-6797-47d9-95a1-0f764ae6ef57\">\n",
              "    <div class=\"colab-df-container\">\n",
              "      <div>\n",
              "<style scoped>\n",
              "    .dataframe tbody tr th:only-of-type {\n",
              "        vertical-align: middle;\n",
              "    }\n",
              "\n",
              "    .dataframe tbody tr th {\n",
              "        vertical-align: top;\n",
              "    }\n",
              "\n",
              "    .dataframe thead th {\n",
              "        text-align: right;\n",
              "    }\n",
              "</style>\n",
              "<table border=\"1\" class=\"dataframe\">\n",
              "  <thead>\n",
              "    <tr style=\"text-align: right;\">\n",
              "      <th></th>\n",
              "      <th>space_type</th>\n",
              "      <th>billable_distance</th>\n",
              "      <th>run_name</th>\n",
              "      <th>rider.mediroutes_rider_id</th>\n",
              "      <th>pickup.event_location.zip</th>\n",
              "      <th>pickup.event_location.longitude</th>\n",
              "      <th>pickup.event_location.latitude</th>\n",
              "      <th>dropoff.event_location.zip</th>\n",
              "      <th>dropoff.event_location.longitude</th>\n",
              "      <th>dropoff.event_location.latitude</th>\n",
              "      <th>pickup_hour</th>\n",
              "      <th>pickup_minute</th>\n",
              "      <th>dropoff_hour</th>\n",
              "      <th>dropoff_minute</th>\n",
              "      <th>id</th>\n",
              "    </tr>\n",
              "  </thead>\n",
              "  <tbody>\n",
              "    <tr>\n",
              "      <th>0</th>\n",
              "      <td>1.000000</td>\n",
              "      <td>0.012314</td>\n",
              "      <td>0.181818</td>\n",
              "      <td>0.184127</td>\n",
              "      <td>0.508772</td>\n",
              "      <td>-0.996364</td>\n",
              "      <td>0.992340</td>\n",
              "      <td>0.857143</td>\n",
              "      <td>-0.990424</td>\n",
              "      <td>0.848616</td>\n",
              "      <td>0.095238</td>\n",
              "      <td>0.517241</td>\n",
              "      <td>0.000000</td>\n",
              "      <td>0.818182</td>\n",
              "      <td>11</td>\n",
              "    </tr>\n",
              "    <tr>\n",
              "      <th>1</th>\n",
              "      <td>1.000000</td>\n",
              "      <td>0.006394</td>\n",
              "      <td>0.181818</td>\n",
              "      <td>0.198413</td>\n",
              "      <td>0.350877</td>\n",
              "      <td>-0.996461</td>\n",
              "      <td>0.989864</td>\n",
              "      <td>0.825397</td>\n",
              "      <td>-0.990674</td>\n",
              "      <td>0.847189</td>\n",
              "      <td>0.142857</td>\n",
              "      <td>0.517241</td>\n",
              "      <td>0.105263</td>\n",
              "      <td>0.000000</td>\n",
              "      <td>11</td>\n",
              "    </tr>\n",
              "    <tr>\n",
              "      <th>2</th>\n",
              "      <td>1.000000</td>\n",
              "      <td>0.003826</td>\n",
              "      <td>0.181818</td>\n",
              "      <td>0.182540</td>\n",
              "      <td>0.824561</td>\n",
              "      <td>-0.996339</td>\n",
              "      <td>0.990125</td>\n",
              "      <td>0.825397</td>\n",
              "      <td>-0.990674</td>\n",
              "      <td>0.847189</td>\n",
              "      <td>0.142857</td>\n",
              "      <td>0.517241</td>\n",
              "      <td>0.105263</td>\n",
              "      <td>0.000000</td>\n",
              "      <td>11</td>\n",
              "    </tr>\n",
              "    <tr>\n",
              "      <th>3</th>\n",
              "      <td>0.333333</td>\n",
              "      <td>0.023389</td>\n",
              "      <td>0.136364</td>\n",
              "      <td>0.220635</td>\n",
              "      <td>0.771930</td>\n",
              "      <td>-0.996058</td>\n",
              "      <td>0.990114</td>\n",
              "      <td>0.682540</td>\n",
              "      <td>-0.989395</td>\n",
              "      <td>0.845235</td>\n",
              "      <td>0.238095</td>\n",
              "      <td>0.206897</td>\n",
              "      <td>0.210526</td>\n",
              "      <td>0.000000</td>\n",
              "      <td>11</td>\n",
              "    </tr>\n",
              "    <tr>\n",
              "      <th>4</th>\n",
              "      <td>0.333333</td>\n",
              "      <td>0.018819</td>\n",
              "      <td>0.136364</td>\n",
              "      <td>0.092063</td>\n",
              "      <td>0.719298</td>\n",
              "      <td>-0.995385</td>\n",
              "      <td>0.991005</td>\n",
              "      <td>0.746032</td>\n",
              "      <td>-0.989807</td>\n",
              "      <td>0.845745</td>\n",
              "      <td>0.285714</td>\n",
              "      <td>0.517241</td>\n",
              "      <td>0.263158</td>\n",
              "      <td>0.545455</td>\n",
              "      <td>11</td>\n",
              "    </tr>\n",
              "  </tbody>\n",
              "</table>\n",
              "</div>\n",
              "      <button class=\"colab-df-convert\" onclick=\"convertToInteractive('df-07812271-6797-47d9-95a1-0f764ae6ef57')\"\n",
              "              title=\"Convert this dataframe to an interactive table.\"\n",
              "              style=\"display:none;\">\n",
              "        \n",
              "  <svg xmlns=\"http://www.w3.org/2000/svg\" height=\"24px\"viewBox=\"0 0 24 24\"\n",
              "       width=\"24px\">\n",
              "    <path d=\"M0 0h24v24H0V0z\" fill=\"none\"/>\n",
              "    <path d=\"M18.56 5.44l.94 2.06.94-2.06 2.06-.94-2.06-.94-.94-2.06-.94 2.06-2.06.94zm-11 1L8.5 8.5l.94-2.06 2.06-.94-2.06-.94L8.5 2.5l-.94 2.06-2.06.94zm10 10l.94 2.06.94-2.06 2.06-.94-2.06-.94-.94-2.06-.94 2.06-2.06.94z\"/><path d=\"M17.41 7.96l-1.37-1.37c-.4-.4-.92-.59-1.43-.59-.52 0-1.04.2-1.43.59L10.3 9.45l-7.72 7.72c-.78.78-.78 2.05 0 2.83L4 21.41c.39.39.9.59 1.41.59.51 0 1.02-.2 1.41-.59l7.78-7.78 2.81-2.81c.8-.78.8-2.07 0-2.86zM5.41 20L4 18.59l7.72-7.72 1.47 1.35L5.41 20z\"/>\n",
              "  </svg>\n",
              "      </button>\n",
              "      \n",
              "  <style>\n",
              "    .colab-df-container {\n",
              "      display:flex;\n",
              "      flex-wrap:wrap;\n",
              "      gap: 12px;\n",
              "    }\n",
              "\n",
              "    .colab-df-convert {\n",
              "      background-color: #E8F0FE;\n",
              "      border: none;\n",
              "      border-radius: 50%;\n",
              "      cursor: pointer;\n",
              "      display: none;\n",
              "      fill: #1967D2;\n",
              "      height: 32px;\n",
              "      padding: 0 0 0 0;\n",
              "      width: 32px;\n",
              "    }\n",
              "\n",
              "    .colab-df-convert:hover {\n",
              "      background-color: #E2EBFA;\n",
              "      box-shadow: 0px 1px 2px rgba(60, 64, 67, 0.3), 0px 1px 3px 1px rgba(60, 64, 67, 0.15);\n",
              "      fill: #174EA6;\n",
              "    }\n",
              "\n",
              "    [theme=dark] .colab-df-convert {\n",
              "      background-color: #3B4455;\n",
              "      fill: #D2E3FC;\n",
              "    }\n",
              "\n",
              "    [theme=dark] .colab-df-convert:hover {\n",
              "      background-color: #434B5C;\n",
              "      box-shadow: 0px 1px 3px 1px rgba(0, 0, 0, 0.15);\n",
              "      filter: drop-shadow(0px 1px 2px rgba(0, 0, 0, 0.3));\n",
              "      fill: #FFFFFF;\n",
              "    }\n",
              "  </style>\n",
              "\n",
              "      <script>\n",
              "        const buttonEl =\n",
              "          document.querySelector('#df-07812271-6797-47d9-95a1-0f764ae6ef57 button.colab-df-convert');\n",
              "        buttonEl.style.display =\n",
              "          google.colab.kernel.accessAllowed ? 'block' : 'none';\n",
              "\n",
              "        async function convertToInteractive(key) {\n",
              "          const element = document.querySelector('#df-07812271-6797-47d9-95a1-0f764ae6ef57');\n",
              "          const dataTable =\n",
              "            await google.colab.kernel.invokeFunction('convertToInteractive',\n",
              "                                                     [key], {});\n",
              "          if (!dataTable) return;\n",
              "\n",
              "          const docLinkHtml = 'Like what you see? Visit the ' +\n",
              "            '<a target=\"_blank\" href=https://colab.research.google.com/notebooks/data_table.ipynb>data table notebook</a>'\n",
              "            + ' to learn more about interactive tables.';\n",
              "          element.innerHTML = '';\n",
              "          dataTable['output_type'] = 'display_data';\n",
              "          await google.colab.output.renderOutput(dataTable, element);\n",
              "          const docLink = document.createElement('div');\n",
              "          docLink.innerHTML = docLinkHtml;\n",
              "          element.appendChild(docLink);\n",
              "        }\n",
              "      </script>\n",
              "    </div>\n",
              "  </div>\n",
              "  "
            ]
          },
          "metadata": {},
          "execution_count": 151
        }
      ]
    },
    {
      "cell_type": "code",
      "source": [
        "rides = rides.astype(str)"
      ],
      "metadata": {
        "id": "Wut5nx5c7b8b"
      },
      "execution_count": 152,
      "outputs": []
    },
    {
      "cell_type": "code",
      "source": [
        "rides.values[0].astype('float32')"
      ],
      "metadata": {
        "colab": {
          "base_uri": "https://localhost:8080/"
        },
        "id": "V_8YkxPM8VXo",
        "outputId": "6fc3b4e9-a453-4904-b704-70ad8307a626"
      },
      "execution_count": 153,
      "outputs": [
        {
          "output_type": "execute_result",
          "data": {
            "text/plain": [
              "array([ 1.      ,  0.012314,  0.181818,  0.184127,  0.508772, -0.996364,\n",
              "        0.99234 ,  0.857143, -0.990424,  0.848616,  0.095238,  0.517241,\n",
              "        0.      ,  0.818182, 11.      ], dtype=float32)"
            ]
          },
          "metadata": {},
          "execution_count": 153
        }
      ]
    },
    {
      "cell_type": "markdown",
      "source": [
        "Put rides into buckets by date"
      ],
      "metadata": {
        "id": "sEJD-HUyvTh2"
      }
    },
    {
      "cell_type": "code",
      "source": [
        "# Group the rows by the 'id' column\n",
        "grouped = rides.groupby('id')\n",
        "\n",
        "# Create a list to store the grouped arrays\n",
        "day_buckets = []\n",
        "\n",
        "# Loop through each group\n",
        "for name, group in grouped:\n",
        "    # Convert the group to a numpy array\n",
        "    group_array = group.values.astype(np.float32)\n",
        "    \n",
        "    # Append the group array to the list of grouped arrays\n",
        "    day_buckets.append(group_array)\n",
        "\n",
        "# Set the display format of the numpy arrays\n",
        "np.set_printoptions(precision=6, suppress=True)\n",
        "\n",
        "# Sort the list of grouped arrays by the first column of each array\n",
        "day_buckets.sort(key=lambda x: x[0][14])\n"
      ],
      "metadata": {
        "id": "_WIOpiJqvQKv"
      },
      "execution_count": 154,
      "outputs": []
    },
    {
      "cell_type": "code",
      "source": [
        "# Do this or when you shuffle below it will shuffle both for some fucking reason, and copy doesn't work.\n",
        "day_buckets_y = [x.astype(str) for x in day_buckets]"
      ],
      "metadata": {
        "id": "EN2LBJsqw4v9"
      },
      "execution_count": 155,
      "outputs": []
    },
    {
      "cell_type": "code",
      "source": [
        "day_buckets_y[0][0]"
      ],
      "metadata": {
        "colab": {
          "base_uri": "https://localhost:8080/"
        },
        "id": "-NS5xNNpQgzX",
        "outputId": "dd66009a-f9f3-4be7-83a8-a7af7585407c"
      },
      "execution_count": 156,
      "outputs": [
        {
          "output_type": "execute_result",
          "data": {
            "text/plain": [
              "array(['1.0', '0.0123136155', '0.18181819', '0.18412699', '0.50877196',\n",
              "       '-0.99636376', '0.99233985', '0.85714287', '-0.9904242',\n",
              "       '0.8486156', '0.0952381', '0.51724136', '0.0', '0.8181818', '11.0'],\n",
              "      dtype='<U32')"
            ]
          },
          "metadata": {},
          "execution_count": 156
        }
      ]
    },
    {
      "cell_type": "code",
      "source": [
        "def shuffle_np_array(np_array_list):\n",
        "    for i in range(len(np_array_list)):\n",
        "        np.random.shuffle(np_array_list[i])\n",
        "    return np_array_list\n",
        "\n",
        "day_buckets_X = shuffle_np_array(day_buckets)[:-1] # create a shuffled version for X below"
      ],
      "metadata": {
        "id": "mfLy4pFVLyOO"
      },
      "execution_count": 157,
      "outputs": []
    },
    {
      "cell_type": "markdown",
      "source": [
        "Below each 'word' is represented by a vector in the sentence we are trying to predict the order of."
      ],
      "metadata": {
        "id": "wtecLPLw5zO3"
      }
    },
    {
      "cell_type": "code",
      "source": [
        "from tensorflow import keras\n",
        "from tensorflow.keras.preprocessing.sequence import pad_sequences\n",
        "\n",
        "# Define the number of features in each ride vector\n",
        "num_features = 15\n",
        "\n",
        "# Define the maximum length of the sequences\n",
        "max_length = 15\n",
        "\n",
        "X = []\n",
        "y = []\n",
        "# Convert the input data into a 3D array of shape (num_samples, max_length, num_features)\n",
        "for i in day_buckets_X:\n",
        "  X.append(pad_sequences(i, maxlen=max_length, dtype='float32', padding='post'))\n",
        "for i in day_buckets_y:\n",
        "  y.append(pad_sequences(i, maxlen=max_length, dtype='float32', padding='post'))"
      ],
      "metadata": {
        "id": "_L-tLje0TK7i"
      },
      "execution_count": 158,
      "outputs": []
    },
    {
      "cell_type": "code",
      "source": [
        "X[0]"
      ],
      "metadata": {
        "colab": {
          "base_uri": "https://localhost:8080/"
        },
        "id": "rwfjAkPmlNbP",
        "outputId": "e71e594d-5143-40dd-e558-332403711c76"
      },
      "execution_count": 159,
      "outputs": [
        {
          "output_type": "execute_result",
          "data": {
            "text/plain": [
              "array([[ 0.333333,  0.023389,  0.136364,  0.220635,  0.77193 , -0.996058,\n",
              "         0.990114,  0.68254 , -0.989395,  0.845235,  0.238095,  0.206897,\n",
              "         0.210526,  0.      , 11.      ],\n",
              "       [ 1.      ,  0.014415,  0.227273,  0.133333,  0.614035, -0.995456,\n",
              "         0.991803,  0.825397, -0.990674,  0.847189,  0.52381 ,  0.206897,\n",
              "         0.473684,  1.      , 11.      ],\n",
              "       [ 1.      ,  0.      ,  0.363636,  0.128571,  0.719298, -0.995456,\n",
              "         0.990852,  0.730159, -0.989923,  0.847515,  0.52381 ,  0.517241,\n",
              "         0.526316,  0.272727, 11.      ],\n",
              "       [ 1.      ,  0.006394,  0.181818,  0.198413,  0.350877, -0.996461,\n",
              "         0.989864,  0.825397, -0.990674,  0.847189,  0.142857,  0.517241,\n",
              "         0.105263,  0.      , 11.      ],\n",
              "       [ 1.      ,  0.012314,  0.181818,  0.184127,  0.508772, -0.996364,\n",
              "         0.99234 ,  0.857143, -0.990424,  0.848616,  0.095238,  0.517241,\n",
              "         0.      ,  0.818182, 11.      ],\n",
              "       [ 1.      ,  0.005842,  0.863636,  0.185714,  0.701754, -0.995342,\n",
              "         0.990551,  0.809524, -0.989697,  0.847978,  0.52381 ,  0.258621,\n",
              "         0.526316,  0.      , 11.      ],\n",
              "       [ 0.333333,  0.017141,  0.227273,  0.12381 ,  0.877193, -0.995685,\n",
              "         0.992237,  0.825397, -0.990674,  0.847189,  0.52381 ,  0.086207,\n",
              "         0.473684,  0.909091, 11.      ],\n",
              "       [ 1.      ,  0.007237,  0.363636,  0.077778,  0.105263, -0.997322,\n",
              "         0.993113,  0.111111, -0.991856,  0.848719,  0.380952,  0.      ,\n",
              "         0.315789,  0.818182, 11.      ],\n",
              "       [ 0.333333,  0.018819,  0.136364,  0.092063,  0.719298, -0.995385,\n",
              "         0.991005,  0.746032, -0.989807,  0.845745,  0.285714,  0.517241,\n",
              "         0.263158,  0.545455, 11.      ],\n",
              "       [ 1.      ,  0.003826,  0.181818,  0.18254 ,  0.824561, -0.996339,\n",
              "         0.990125,  0.825397, -0.990674,  0.847189,  0.142857,  0.517241,\n",
              "         0.105263,  0.      , 11.      ]], dtype=float32)"
            ]
          },
          "metadata": {},
          "execution_count": 159
        }
      ]
    },
    {
      "cell_type": "code",
      "source": [
        "y[0]"
      ],
      "metadata": {
        "colab": {
          "base_uri": "https://localhost:8080/"
        },
        "id": "KE0LLdNltjFP",
        "outputId": "59a20fb3-a56e-48fc-a7a7-2317113f7db7"
      },
      "execution_count": 160,
      "outputs": [
        {
          "output_type": "execute_result",
          "data": {
            "text/plain": [
              "array([[ 1.      ,  0.012314,  0.181818,  0.184127,  0.508772, -0.996364,\n",
              "         0.99234 ,  0.857143, -0.990424,  0.848616,  0.095238,  0.517241,\n",
              "         0.      ,  0.818182, 11.      ],\n",
              "       [ 1.      ,  0.006394,  0.181818,  0.198413,  0.350877, -0.996461,\n",
              "         0.989864,  0.825397, -0.990674,  0.847189,  0.142857,  0.517241,\n",
              "         0.105263,  0.      , 11.      ],\n",
              "       [ 1.      ,  0.003826,  0.181818,  0.18254 ,  0.824561, -0.996339,\n",
              "         0.990125,  0.825397, -0.990674,  0.847189,  0.142857,  0.517241,\n",
              "         0.105263,  0.      , 11.      ],\n",
              "       [ 0.333333,  0.023389,  0.136364,  0.220635,  0.77193 , -0.996058,\n",
              "         0.990114,  0.68254 , -0.989395,  0.845235,  0.238095,  0.206897,\n",
              "         0.210526,  0.      , 11.      ],\n",
              "       [ 0.333333,  0.018819,  0.136364,  0.092063,  0.719298, -0.995385,\n",
              "         0.991005,  0.746032, -0.989807,  0.845745,  0.285714,  0.517241,\n",
              "         0.263158,  0.545455, 11.      ],\n",
              "       [ 1.      ,  0.007237,  0.363636,  0.077778,  0.105263, -0.997322,\n",
              "         0.993113,  0.111111, -0.991856,  0.848719,  0.380952,  0.      ,\n",
              "         0.315789,  0.818182, 11.      ],\n",
              "       [ 0.333333,  0.017141,  0.227273,  0.12381 ,  0.877193, -0.995685,\n",
              "         0.992237,  0.825397, -0.990674,  0.847189,  0.52381 ,  0.086207,\n",
              "         0.473684,  0.909091, 11.      ],\n",
              "       [ 1.      ,  0.014415,  0.227273,  0.133333,  0.614035, -0.995456,\n",
              "         0.991803,  0.825397, -0.990674,  0.847189,  0.52381 ,  0.206897,\n",
              "         0.473684,  1.      , 11.      ],\n",
              "       [ 1.      ,  0.      ,  0.363636,  0.128571,  0.719298, -0.995456,\n",
              "         0.990852,  0.730159, -0.989923,  0.847515,  0.52381 ,  0.517241,\n",
              "         0.526316,  0.272727, 11.      ],\n",
              "       [ 1.      ,  0.005842,  0.863636,  0.185714,  0.701754, -0.995342,\n",
              "         0.990551,  0.809524, -0.989697,  0.847978,  0.52381 ,  0.258621,\n",
              "         0.526316,  0.      , 11.      ]], dtype=float32)"
            ]
          },
          "metadata": {},
          "execution_count": 160
        }
      ]
    },
    {
      "cell_type": "code",
      "source": [
        "input = []\n",
        "target = []\n",
        "for array in X:\n",
        "    new_array = np.delete(array, -1, axis=1)\n",
        "    input.append(new_array)\n",
        "\n",
        "for array in y:\n",
        "    new_array = np.delete(array, -1, axis=1)\n",
        "    target.append(new_array)\n"
      ],
      "metadata": {
        "id": "1FphjSRRPfcS"
      },
      "execution_count": 161,
      "outputs": []
    },
    {
      "cell_type": "code",
      "source": [
        "from tensorflow.keras.callbacks import EarlyStopping\n",
        "early_stopping = EarlyStopping(monitor='mae', patience=5)"
      ],
      "metadata": {
        "id": "PBeRDQ4vK_St"
      },
      "execution_count": 162,
      "outputs": []
    },
    {
      "cell_type": "code",
      "source": [
        "input[0].shape"
      ],
      "metadata": {
        "colab": {
          "base_uri": "https://localhost:8080/"
        },
        "id": "lBIomjW5g6dN",
        "outputId": "c16bb986-af04-46b8-d240-0884cfbfdce4"
      },
      "execution_count": 163,
      "outputs": [
        {
          "output_type": "execute_result",
          "data": {
            "text/plain": [
              "(10, 14)"
            ]
          },
          "metadata": {},
          "execution_count": 163
        }
      ]
    },
    {
      "cell_type": "code",
      "source": [
        "target[0].shape"
      ],
      "metadata": {
        "colab": {
          "base_uri": "https://localhost:8080/"
        },
        "id": "mXQrAiSSg7KA",
        "outputId": "9a9a58ec-acc9-4952-e396-9710a1401631"
      },
      "execution_count": 164,
      "outputs": [
        {
          "output_type": "execute_result",
          "data": {
            "text/plain": [
              "(10, 14)"
            ]
          },
          "metadata": {},
          "execution_count": 164
        }
      ]
    },
    {
      "cell_type": "code",
      "source": [
        "len(input[0])"
      ],
      "metadata": {
        "colab": {
          "base_uri": "https://localhost:8080/"
        },
        "id": "iew_7KHx77yh",
        "outputId": "a3162b53-b79e-4af1-ee4a-aca4e7e2e31e"
      },
      "execution_count": 165,
      "outputs": [
        {
          "output_type": "execute_result",
          "data": {
            "text/plain": [
              "10"
            ]
          },
          "metadata": {},
          "execution_count": 165
        }
      ]
    },
    {
      "cell_type": "code",
      "source": [
        "len(target[0])"
      ],
      "metadata": {
        "colab": {
          "base_uri": "https://localhost:8080/"
        },
        "id": "RC65NsBT8CYy",
        "outputId": "3c31f1b3-17ed-4a52-bd15-5be58fa088f2"
      },
      "execution_count": 166,
      "outputs": [
        {
          "output_type": "execute_result",
          "data": {
            "text/plain": [
              "10"
            ]
          },
          "metadata": {},
          "execution_count": 166
        }
      ]
    },
    {
      "cell_type": "code",
      "source": [
        "# Define the input and output shape\n",
        "input_shape = (10, 14)\n",
        "output_shape = (10, 14)\n",
        "\n",
        "# input = np.random.rand(*input_shape)\n",
        "# target = np.random.rand(*output_shape)\n"
      ],
      "metadata": {
        "id": "5yZgnSDKBmRV"
      },
      "execution_count": 167,
      "outputs": []
    },
    {
      "cell_type": "code",
      "source": [
        "input[0].shape"
      ],
      "metadata": {
        "colab": {
          "base_uri": "https://localhost:8080/"
        },
        "id": "-ZtLyV3bBqWt",
        "outputId": "14dd3027-035d-4be4-c36a-7d64e27a49b7"
      },
      "execution_count": 168,
      "outputs": [
        {
          "output_type": "execute_result",
          "data": {
            "text/plain": [
              "(10, 14)"
            ]
          },
          "metadata": {},
          "execution_count": 168
        }
      ]
    },
    {
      "cell_type": "code",
      "source": [
        "target[0].shape"
      ],
      "metadata": {
        "colab": {
          "base_uri": "https://localhost:8080/"
        },
        "id": "-329SHafBr1h",
        "outputId": "0c3778c8-2a98-4854-f987-b999a107207c"
      },
      "execution_count": 169,
      "outputs": [
        {
          "output_type": "execute_result",
          "data": {
            "text/plain": [
              "(10, 14)"
            ]
          },
          "metadata": {},
          "execution_count": 169
        }
      ]
    },
    {
      "cell_type": "code",
      "source": [],
      "metadata": {
        "id": "sg8ptTK4GN-O"
      },
      "execution_count": 169,
      "outputs": []
    },
    {
      "cell_type": "code",
      "source": [
        "input = input[0]\n",
        "target = target[0]"
      ],
      "metadata": {
        "id": "DizO8PIIB5Ht"
      },
      "execution_count": 170,
      "outputs": []
    },
    {
      "cell_type": "code",
      "source": [
        "input = input.reshape(1, *input.shape)\n",
        "target = target.reshape(1, *target.shape)\n",
        "\n",
        "# Define the encoder\n",
        "encoder_inputs = keras.layers.Input(shape=input_shape)\n",
        "encoder = keras.layers.LSTM(64, return_state=True)\n",
        "encoder_outputs, state_h, state_c = encoder(encoder_inputs)\n",
        "encoder_states = [state_h, state_c]\n",
        "\n",
        "# Define the decoder\n",
        "decoder_inputs = keras.layers.Input(shape=(None, 14))\n",
        "decoder_lstm = keras.layers.LSTM(64, return_sequences=True, return_state=True)\n",
        "decoder_outputs, _, _ = decoder_lstm(decoder_inputs, initial_state=encoder_states)\n",
        "decoder_dense = keras.layers.Dense(14, activation='linear')\n",
        "decoder_outputs = decoder_dense(decoder_outputs)\n",
        "\n",
        "# Define the model\n",
        "model = keras.models.Model([encoder_inputs, decoder_inputs], decoder_outputs)\n",
        "model.compile(optimizer='adam', loss='mean_squared_error')\n",
        "\n",
        "# Create validation data for the day\n",
        "\n",
        "\n",
        "# Train the model\n",
        "history = model.fit([input, target], target, epochs=100, batch_size=16, validation_data=(X_val, y_val), callbacks=[early_stopping])"
      ],
      "metadata": {
        "colab": {
          "base_uri": "https://localhost:8080/",
          "height": 416
        },
        "id": "kNsS9FF-hnRs",
        "outputId": "fc29f6e2-42e2-471e-b144-39c8a14e2bd1"
      },
      "execution_count": 171,
      "outputs": [
        {
          "output_type": "error",
          "ename": "ValueError",
          "evalue": "ignored",
          "traceback": [
            "\u001b[0;31m---------------------------------------------------------------------------\u001b[0m",
            "\u001b[0;31mValueError\u001b[0m                                Traceback (most recent call last)",
            "\u001b[0;32m<ipython-input-171-2ee2cddb635c>\u001b[0m in \u001b[0;36m<module>\u001b[0;34m\u001b[0m\n\u001b[1;32m     20\u001b[0m \u001b[0;34m\u001b[0m\u001b[0m\n\u001b[1;32m     21\u001b[0m \u001b[0;31m# Create validation data for the day\u001b[0m\u001b[0;34m\u001b[0m\u001b[0;34m\u001b[0m\u001b[0;34m\u001b[0m\u001b[0m\n\u001b[0;32m---> 22\u001b[0;31m \u001b[0mX_train\u001b[0m\u001b[0;34m,\u001b[0m \u001b[0mX_val\u001b[0m\u001b[0;34m,\u001b[0m \u001b[0my_train\u001b[0m\u001b[0;34m,\u001b[0m \u001b[0my_val\u001b[0m \u001b[0;34m=\u001b[0m \u001b[0mtrain_test_split\u001b[0m\u001b[0;34m(\u001b[0m\u001b[0minput\u001b[0m\u001b[0;34m,\u001b[0m \u001b[0mtarget\u001b[0m\u001b[0;34m,\u001b[0m \u001b[0mtest_size\u001b[0m\u001b[0;34m=\u001b[0m\u001b[0;36m0.1\u001b[0m\u001b[0;34m)\u001b[0m\u001b[0;34m\u001b[0m\u001b[0;34m\u001b[0m\u001b[0m\n\u001b[0m\u001b[1;32m     23\u001b[0m \u001b[0;34m\u001b[0m\u001b[0m\n\u001b[1;32m     24\u001b[0m \u001b[0;31m# Train the model\u001b[0m\u001b[0;34m\u001b[0m\u001b[0;34m\u001b[0m\u001b[0;34m\u001b[0m\u001b[0m\n",
            "\u001b[0;32m/usr/local/lib/python3.8/dist-packages/sklearn/model_selection/_split.py\u001b[0m in \u001b[0;36mtrain_test_split\u001b[0;34m(test_size, train_size, random_state, shuffle, stratify, *arrays)\u001b[0m\n\u001b[1;32m   2418\u001b[0m \u001b[0;34m\u001b[0m\u001b[0m\n\u001b[1;32m   2419\u001b[0m     \u001b[0mn_samples\u001b[0m \u001b[0;34m=\u001b[0m \u001b[0m_num_samples\u001b[0m\u001b[0;34m(\u001b[0m\u001b[0marrays\u001b[0m\u001b[0;34m[\u001b[0m\u001b[0;36m0\u001b[0m\u001b[0;34m]\u001b[0m\u001b[0;34m)\u001b[0m\u001b[0;34m\u001b[0m\u001b[0;34m\u001b[0m\u001b[0m\n\u001b[0;32m-> 2420\u001b[0;31m     n_train, n_test = _validate_shuffle_split(\n\u001b[0m\u001b[1;32m   2421\u001b[0m         \u001b[0mn_samples\u001b[0m\u001b[0;34m,\u001b[0m \u001b[0mtest_size\u001b[0m\u001b[0;34m,\u001b[0m \u001b[0mtrain_size\u001b[0m\u001b[0;34m,\u001b[0m \u001b[0mdefault_test_size\u001b[0m\u001b[0;34m=\u001b[0m\u001b[0;36m0.25\u001b[0m\u001b[0;34m\u001b[0m\u001b[0;34m\u001b[0m\u001b[0m\n\u001b[1;32m   2422\u001b[0m     )\n",
            "\u001b[0;32m/usr/local/lib/python3.8/dist-packages/sklearn/model_selection/_split.py\u001b[0m in \u001b[0;36m_validate_shuffle_split\u001b[0;34m(n_samples, test_size, train_size, default_test_size)\u001b[0m\n\u001b[1;32m   2096\u001b[0m \u001b[0;34m\u001b[0m\u001b[0m\n\u001b[1;32m   2097\u001b[0m     \u001b[0;32mif\u001b[0m \u001b[0mn_train\u001b[0m \u001b[0;34m==\u001b[0m \u001b[0;36m0\u001b[0m\u001b[0;34m:\u001b[0m\u001b[0;34m\u001b[0m\u001b[0;34m\u001b[0m\u001b[0m\n\u001b[0;32m-> 2098\u001b[0;31m         raise ValueError(\n\u001b[0m\u001b[1;32m   2099\u001b[0m             \u001b[0;34m\"With n_samples={}, test_size={} and train_size={}, the \"\u001b[0m\u001b[0;34m\u001b[0m\u001b[0;34m\u001b[0m\u001b[0m\n\u001b[1;32m   2100\u001b[0m             \u001b[0;34m\"resulting train set will be empty. Adjust any of the \"\u001b[0m\u001b[0;34m\u001b[0m\u001b[0;34m\u001b[0m\u001b[0m\n",
            "\u001b[0;31mValueError\u001b[0m: With n_samples=1, test_size=0.1 and train_size=None, the resulting train set will be empty. Adjust any of the aforementioned parameters."
          ]
        }
      ]
    },
    {
      "cell_type": "code",
      "source": [
        "# Plot history (also known as a loss curve)\n",
        "import matplotlib.pyplot as plt\n",
        "pd.DataFrame(history.history).plot()\n",
        "plt.ylabel(\"loss\")\n",
        "plt.xlabel(\"epochs\");"
      ],
      "metadata": {
        "id": "zGKbJXiRHv6w"
      },
      "execution_count": null,
      "outputs": []
    },
    {
      "cell_type": "code",
      "source": [
        "pred = model.predict([input, target])"
      ],
      "metadata": {
        "id": "NVYCQcnRIKff"
      },
      "execution_count": null,
      "outputs": []
    },
    {
      "cell_type": "code",
      "source": [
        "pred[0][1]"
      ],
      "metadata": {
        "id": "hhC60MFsJVWU"
      },
      "execution_count": null,
      "outputs": []
    },
    {
      "cell_type": "code",
      "source": [
        "target[0][1]"
      ],
      "metadata": {
        "id": "dwujtM8gIa4T"
      },
      "execution_count": null,
      "outputs": []
    },
    {
      "cell_type": "code",
      "source": [],
      "metadata": {
        "id": "i45hQKTpJTZm"
      },
      "execution_count": null,
      "outputs": []
    }
  ]
}