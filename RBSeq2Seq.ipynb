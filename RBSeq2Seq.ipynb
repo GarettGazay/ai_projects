{
  "nbformat": 4,
  "nbformat_minor": 0,
  "metadata": {
    "colab": {
      "provenance": [],
      "mount_file_id": "1HqAEWyiLxTsobrQGD26PLtO-UEO-80yu",
      "authorship_tag": "ABX9TyOMTfPHWmyeiGJ4kiZr1g3l",
      "include_colab_link": true
    },
    "kernelspec": {
      "name": "python3",
      "display_name": "Python 3"
    },
    "language_info": {
      "name": "python"
    },
    "gpuClass": "standard"
  },
  "cells": [
    {
      "cell_type": "markdown",
      "metadata": {
        "id": "view-in-github",
        "colab_type": "text"
      },
      "source": [
        "<a href=\"https://colab.research.google.com/github/GarettGazay/ai_projects/blob/master/RBSeq2Seq.ipynb\" target=\"_parent\"><img src=\"https://colab.research.google.com/assets/colab-badge.svg\" alt=\"Open In Colab\"/></a>"
      ]
    },
    {
      "cell_type": "markdown",
      "source": [
        "0. Understand the predictions better, what are are these vectors it returns? A: They are the model's attempt at becoming the target.\n",
        "\n",
        "1. Verify the input and target data are in fact the same data with the input shuffled and the target in the correct order.\n",
        "\n",
        "2. Use the padding function to pad each batch to the correct dims (125,12)\n",
        "\n",
        "3. Take 2 random days out of the data and convert it into a validation set, then try to implement early stopping.\n",
        "\n",
        "4. Mini-batch train so the model can learn more and perhaps become better at predictions.\n",
        "\n",
        "5. If training on more data does not improve the model, try looking at the data to see if there should be more, different, or less."
      ],
      "metadata": {
        "id": "WoQ1F3wDrdkm"
      }
    },
    {
      "cell_type": "code",
      "execution_count": 717,
      "metadata": {
        "id": "CofSU91rN0tQ"
      },
      "outputs": [],
      "source": [
        "import tensorflow as tf\n",
        "from tensorflow import keras\n",
        "from keras.models import Sequential\n",
        "from keras.layers import LSTM, Dense\n",
        "from sklearn.model_selection import train_test_split\n",
        "import numpy as np\n",
        "import pandas as pd\n",
        "import time"
      ]
    },
    {
      "cell_type": "code",
      "source": [
        "rides = pd.read_csv('/content/ordering_dataset.csv')"
      ],
      "metadata": {
        "id": "dHTOk2lyN8H6"
      },
      "execution_count": 718,
      "outputs": []
    },
    {
      "cell_type": "code",
      "source": [
        "rides = rides.drop(['Unnamed: 0',\n",
        "                    'order',\n",
        "                    'rider.first_name',\n",
        "                    'rider.last_name',\n",
        "                    'pickup.event_location.address1',\n",
        "                    'dropoff.event_location.address1',\n",
        "                    'run_name_id',\n",
        "                    'pickup_time',\n",
        "                    ], axis=1)"
      ],
      "metadata": {
        "id": "3E_WYqzmOmuR"
      },
      "execution_count": 719,
      "outputs": []
    },
    {
      "cell_type": "code",
      "source": [
        "rides.head()"
      ],
      "metadata": {
        "colab": {
          "base_uri": "https://localhost:8080/",
          "height": 270
        },
        "id": "r84oLFbQE_vl",
        "outputId": "68039710-a680-4bb1-87b9-e2236a574a1d"
      },
      "execution_count": 720,
      "outputs": [
        {
          "output_type": "execute_result",
          "data": {
            "text/plain": [
              "   space_type  billable_distance  run_name  rider.mediroutes_rider_id  \\\n",
              "0    0.857143           0.012314      0.10                   0.169343   \n",
              "1    0.857143           0.006394      0.10                   0.182482   \n",
              "2    0.857143           0.003826      0.10                   0.167883   \n",
              "3    0.285714           0.023389      0.05                   0.202920   \n",
              "4    0.285714           0.018819      0.05                   0.084672   \n",
              "\n",
              "   pickup.event_location.zip  pickup.event_location.longitude  \\\n",
              "0                   0.583333                        -0.990825   \n",
              "1                   0.458333                        -0.990922   \n",
              "2                   0.833333                        -0.990800   \n",
              "3                   0.791667                        -0.990521   \n",
              "4                   0.750000                        -0.989852   \n",
              "\n",
              "   pickup.event_location.latitude  dropoff.event_location.zip  \\\n",
              "0                        0.848788                    0.837838   \n",
              "1                        0.846670                    0.797297   \n",
              "2                        0.846893                    0.797297   \n",
              "3                        0.846884                    0.675676   \n",
              "4                        0.847646                    0.729730   \n",
              "\n",
              "   dropoff.event_location.longitude  dropoff.event_location.latitude  \\\n",
              "0                         -0.990424                         0.848616   \n",
              "1                         -0.990674                         0.847189   \n",
              "2                         -0.990674                         0.847189   \n",
              "3                         -0.989395                         0.845235   \n",
              "4                         -0.989807                         0.845745   \n",
              "\n",
              "   pickup_month  pickup_day  pickup_hour  pickup_minute  \n",
              "0           1.0         1.0     0.173913       0.517241  \n",
              "1           1.0         1.0     0.217391       0.517241  \n",
              "2           1.0         1.0     0.217391       0.517241  \n",
              "3           1.0         1.0     0.304348       0.206897  \n",
              "4           1.0         1.0     0.347826       0.517241  "
            ],
            "text/html": [
              "\n",
              "  <div id=\"df-a9cdbeca-716d-46e5-8cbb-055cb28112f9\">\n",
              "    <div class=\"colab-df-container\">\n",
              "      <div>\n",
              "<style scoped>\n",
              "    .dataframe tbody tr th:only-of-type {\n",
              "        vertical-align: middle;\n",
              "    }\n",
              "\n",
              "    .dataframe tbody tr th {\n",
              "        vertical-align: top;\n",
              "    }\n",
              "\n",
              "    .dataframe thead th {\n",
              "        text-align: right;\n",
              "    }\n",
              "</style>\n",
              "<table border=\"1\" class=\"dataframe\">\n",
              "  <thead>\n",
              "    <tr style=\"text-align: right;\">\n",
              "      <th></th>\n",
              "      <th>space_type</th>\n",
              "      <th>billable_distance</th>\n",
              "      <th>run_name</th>\n",
              "      <th>rider.mediroutes_rider_id</th>\n",
              "      <th>pickup.event_location.zip</th>\n",
              "      <th>pickup.event_location.longitude</th>\n",
              "      <th>pickup.event_location.latitude</th>\n",
              "      <th>dropoff.event_location.zip</th>\n",
              "      <th>dropoff.event_location.longitude</th>\n",
              "      <th>dropoff.event_location.latitude</th>\n",
              "      <th>pickup_month</th>\n",
              "      <th>pickup_day</th>\n",
              "      <th>pickup_hour</th>\n",
              "      <th>pickup_minute</th>\n",
              "    </tr>\n",
              "  </thead>\n",
              "  <tbody>\n",
              "    <tr>\n",
              "      <th>0</th>\n",
              "      <td>0.857143</td>\n",
              "      <td>0.012314</td>\n",
              "      <td>0.10</td>\n",
              "      <td>0.169343</td>\n",
              "      <td>0.583333</td>\n",
              "      <td>-0.990825</td>\n",
              "      <td>0.848788</td>\n",
              "      <td>0.837838</td>\n",
              "      <td>-0.990424</td>\n",
              "      <td>0.848616</td>\n",
              "      <td>1.0</td>\n",
              "      <td>1.0</td>\n",
              "      <td>0.173913</td>\n",
              "      <td>0.517241</td>\n",
              "    </tr>\n",
              "    <tr>\n",
              "      <th>1</th>\n",
              "      <td>0.857143</td>\n",
              "      <td>0.006394</td>\n",
              "      <td>0.10</td>\n",
              "      <td>0.182482</td>\n",
              "      <td>0.458333</td>\n",
              "      <td>-0.990922</td>\n",
              "      <td>0.846670</td>\n",
              "      <td>0.797297</td>\n",
              "      <td>-0.990674</td>\n",
              "      <td>0.847189</td>\n",
              "      <td>1.0</td>\n",
              "      <td>1.0</td>\n",
              "      <td>0.217391</td>\n",
              "      <td>0.517241</td>\n",
              "    </tr>\n",
              "    <tr>\n",
              "      <th>2</th>\n",
              "      <td>0.857143</td>\n",
              "      <td>0.003826</td>\n",
              "      <td>0.10</td>\n",
              "      <td>0.167883</td>\n",
              "      <td>0.833333</td>\n",
              "      <td>-0.990800</td>\n",
              "      <td>0.846893</td>\n",
              "      <td>0.797297</td>\n",
              "      <td>-0.990674</td>\n",
              "      <td>0.847189</td>\n",
              "      <td>1.0</td>\n",
              "      <td>1.0</td>\n",
              "      <td>0.217391</td>\n",
              "      <td>0.517241</td>\n",
              "    </tr>\n",
              "    <tr>\n",
              "      <th>3</th>\n",
              "      <td>0.285714</td>\n",
              "      <td>0.023389</td>\n",
              "      <td>0.05</td>\n",
              "      <td>0.202920</td>\n",
              "      <td>0.791667</td>\n",
              "      <td>-0.990521</td>\n",
              "      <td>0.846884</td>\n",
              "      <td>0.675676</td>\n",
              "      <td>-0.989395</td>\n",
              "      <td>0.845235</td>\n",
              "      <td>1.0</td>\n",
              "      <td>1.0</td>\n",
              "      <td>0.304348</td>\n",
              "      <td>0.206897</td>\n",
              "    </tr>\n",
              "    <tr>\n",
              "      <th>4</th>\n",
              "      <td>0.285714</td>\n",
              "      <td>0.018819</td>\n",
              "      <td>0.05</td>\n",
              "      <td>0.084672</td>\n",
              "      <td>0.750000</td>\n",
              "      <td>-0.989852</td>\n",
              "      <td>0.847646</td>\n",
              "      <td>0.729730</td>\n",
              "      <td>-0.989807</td>\n",
              "      <td>0.845745</td>\n",
              "      <td>1.0</td>\n",
              "      <td>1.0</td>\n",
              "      <td>0.347826</td>\n",
              "      <td>0.517241</td>\n",
              "    </tr>\n",
              "  </tbody>\n",
              "</table>\n",
              "</div>\n",
              "      <button class=\"colab-df-convert\" onclick=\"convertToInteractive('df-a9cdbeca-716d-46e5-8cbb-055cb28112f9')\"\n",
              "              title=\"Convert this dataframe to an interactive table.\"\n",
              "              style=\"display:none;\">\n",
              "        \n",
              "  <svg xmlns=\"http://www.w3.org/2000/svg\" height=\"24px\"viewBox=\"0 0 24 24\"\n",
              "       width=\"24px\">\n",
              "    <path d=\"M0 0h24v24H0V0z\" fill=\"none\"/>\n",
              "    <path d=\"M18.56 5.44l.94 2.06.94-2.06 2.06-.94-2.06-.94-.94-2.06-.94 2.06-2.06.94zm-11 1L8.5 8.5l.94-2.06 2.06-.94-2.06-.94L8.5 2.5l-.94 2.06-2.06.94zm10 10l.94 2.06.94-2.06 2.06-.94-2.06-.94-.94-2.06-.94 2.06-2.06.94z\"/><path d=\"M17.41 7.96l-1.37-1.37c-.4-.4-.92-.59-1.43-.59-.52 0-1.04.2-1.43.59L10.3 9.45l-7.72 7.72c-.78.78-.78 2.05 0 2.83L4 21.41c.39.39.9.59 1.41.59.51 0 1.02-.2 1.41-.59l7.78-7.78 2.81-2.81c.8-.78.8-2.07 0-2.86zM5.41 20L4 18.59l7.72-7.72 1.47 1.35L5.41 20z\"/>\n",
              "  </svg>\n",
              "      </button>\n",
              "      \n",
              "  <style>\n",
              "    .colab-df-container {\n",
              "      display:flex;\n",
              "      flex-wrap:wrap;\n",
              "      gap: 12px;\n",
              "    }\n",
              "\n",
              "    .colab-df-convert {\n",
              "      background-color: #E8F0FE;\n",
              "      border: none;\n",
              "      border-radius: 50%;\n",
              "      cursor: pointer;\n",
              "      display: none;\n",
              "      fill: #1967D2;\n",
              "      height: 32px;\n",
              "      padding: 0 0 0 0;\n",
              "      width: 32px;\n",
              "    }\n",
              "\n",
              "    .colab-df-convert:hover {\n",
              "      background-color: #E2EBFA;\n",
              "      box-shadow: 0px 1px 2px rgba(60, 64, 67, 0.3), 0px 1px 3px 1px rgba(60, 64, 67, 0.15);\n",
              "      fill: #174EA6;\n",
              "    }\n",
              "\n",
              "    [theme=dark] .colab-df-convert {\n",
              "      background-color: #3B4455;\n",
              "      fill: #D2E3FC;\n",
              "    }\n",
              "\n",
              "    [theme=dark] .colab-df-convert:hover {\n",
              "      background-color: #434B5C;\n",
              "      box-shadow: 0px 1px 3px 1px rgba(0, 0, 0, 0.15);\n",
              "      filter: drop-shadow(0px 1px 2px rgba(0, 0, 0, 0.3));\n",
              "      fill: #FFFFFF;\n",
              "    }\n",
              "  </style>\n",
              "\n",
              "      <script>\n",
              "        const buttonEl =\n",
              "          document.querySelector('#df-a9cdbeca-716d-46e5-8cbb-055cb28112f9 button.colab-df-convert');\n",
              "        buttonEl.style.display =\n",
              "          google.colab.kernel.accessAllowed ? 'block' : 'none';\n",
              "\n",
              "        async function convertToInteractive(key) {\n",
              "          const element = document.querySelector('#df-a9cdbeca-716d-46e5-8cbb-055cb28112f9');\n",
              "          const dataTable =\n",
              "            await google.colab.kernel.invokeFunction('convertToInteractive',\n",
              "                                                     [key], {});\n",
              "          if (!dataTable) return;\n",
              "\n",
              "          const docLinkHtml = 'Like what you see? Visit the ' +\n",
              "            '<a target=\"_blank\" href=https://colab.research.google.com/notebooks/data_table.ipynb>data table notebook</a>'\n",
              "            + ' to learn more about interactive tables.';\n",
              "          element.innerHTML = '';\n",
              "          dataTable['output_type'] = 'display_data';\n",
              "          await google.colab.output.renderOutput(dataTable, element);\n",
              "          const docLink = document.createElement('div');\n",
              "          docLink.innerHTML = docLinkHtml;\n",
              "          element.appendChild(docLink);\n",
              "        }\n",
              "      </script>\n",
              "    </div>\n",
              "  </div>\n",
              "  "
            ]
          },
          "metadata": {},
          "execution_count": 720
        }
      ]
    },
    {
      "cell_type": "code",
      "source": [
        "rides = rides.astype('float32')"
      ],
      "metadata": {
        "id": "5rDhFO1OfzGU"
      },
      "execution_count": 721,
      "outputs": []
    },
    {
      "cell_type": "code",
      "source": [
        "# Count the number of NaN values in each column\n",
        "nan_counts = rides.isna().sum()\n",
        "\n",
        "# Display the count of NaN values for each column\n",
        "print(nan_counts)"
      ],
      "metadata": {
        "colab": {
          "base_uri": "https://localhost:8080/"
        },
        "id": "xT45EYbtA8DC",
        "outputId": "e7274430-9058-47fe-8e59-13959264844a"
      },
      "execution_count": 722,
      "outputs": [
        {
          "output_type": "stream",
          "name": "stdout",
          "text": [
            "space_type                          0\n",
            "billable_distance                   1\n",
            "run_name                            0\n",
            "rider.mediroutes_rider_id           0\n",
            "pickup.event_location.zip           0\n",
            "pickup.event_location.longitude     1\n",
            "pickup.event_location.latitude      1\n",
            "dropoff.event_location.zip          0\n",
            "dropoff.event_location.longitude    1\n",
            "dropoff.event_location.latitude     1\n",
            "pickup_month                        1\n",
            "pickup_day                          1\n",
            "pickup_hour                         1\n",
            "pickup_minute                       1\n",
            "dtype: int64\n"
          ]
        }
      ]
    },
    {
      "cell_type": "code",
      "source": [
        "rides.fillna(0, inplace=True)"
      ],
      "metadata": {
        "id": "LIMduNzpAjSr"
      },
      "execution_count": 723,
      "outputs": []
    },
    {
      "cell_type": "code",
      "source": [
        "rides.dtypes"
      ],
      "metadata": {
        "colab": {
          "base_uri": "https://localhost:8080/"
        },
        "id": "Lr3bpD9Wf77V",
        "outputId": "5f200604-78d6-469b-a703-f62fbd116b7f"
      },
      "execution_count": 724,
      "outputs": [
        {
          "output_type": "execute_result",
          "data": {
            "text/plain": [
              "space_type                          float32\n",
              "billable_distance                   float32\n",
              "run_name                            float32\n",
              "rider.mediroutes_rider_id           float32\n",
              "pickup.event_location.zip           float32\n",
              "pickup.event_location.longitude     float32\n",
              "pickup.event_location.latitude      float32\n",
              "dropoff.event_location.zip          float32\n",
              "dropoff.event_location.longitude    float32\n",
              "dropoff.event_location.latitude     float32\n",
              "pickup_month                        float32\n",
              "pickup_day                          float32\n",
              "pickup_hour                         float32\n",
              "pickup_minute                       float32\n",
              "dtype: object"
            ]
          },
          "metadata": {},
          "execution_count": 724
        }
      ]
    },
    {
      "cell_type": "code",
      "source": [
        "rides.head()"
      ],
      "metadata": {
        "colab": {
          "base_uri": "https://localhost:8080/",
          "height": 270
        },
        "id": "l8sXH1M0gB9B",
        "outputId": "f5b90609-301f-4cc2-d69d-6ae5a3fbe127"
      },
      "execution_count": 725,
      "outputs": [
        {
          "output_type": "execute_result",
          "data": {
            "text/plain": [
              "   space_type  billable_distance  run_name  rider.mediroutes_rider_id  \\\n",
              "0    0.857143           0.012314      0.10                   0.169343   \n",
              "1    0.857143           0.006394      0.10                   0.182482   \n",
              "2    0.857143           0.003826      0.10                   0.167883   \n",
              "3    0.285714           0.023389      0.05                   0.202920   \n",
              "4    0.285714           0.018819      0.05                   0.084672   \n",
              "\n",
              "   pickup.event_location.zip  pickup.event_location.longitude  \\\n",
              "0                   0.583333                        -0.990825   \n",
              "1                   0.458333                        -0.990922   \n",
              "2                   0.833333                        -0.990800   \n",
              "3                   0.791667                        -0.990521   \n",
              "4                   0.750000                        -0.989852   \n",
              "\n",
              "   pickup.event_location.latitude  dropoff.event_location.zip  \\\n",
              "0                        0.848788                    0.837838   \n",
              "1                        0.846670                    0.797297   \n",
              "2                        0.846893                    0.797297   \n",
              "3                        0.846884                    0.675676   \n",
              "4                        0.847646                    0.729730   \n",
              "\n",
              "   dropoff.event_location.longitude  dropoff.event_location.latitude  \\\n",
              "0                         -0.990424                         0.848616   \n",
              "1                         -0.990674                         0.847189   \n",
              "2                         -0.990674                         0.847189   \n",
              "3                         -0.989395                         0.845235   \n",
              "4                         -0.989807                         0.845745   \n",
              "\n",
              "   pickup_month  pickup_day  pickup_hour  pickup_minute  \n",
              "0           1.0         1.0     0.173913       0.517241  \n",
              "1           1.0         1.0     0.217391       0.517241  \n",
              "2           1.0         1.0     0.217391       0.517241  \n",
              "3           1.0         1.0     0.304348       0.206897  \n",
              "4           1.0         1.0     0.347826       0.517241  "
            ],
            "text/html": [
              "\n",
              "  <div id=\"df-03721e6d-eaa5-47e6-9270-adfb7b152f62\">\n",
              "    <div class=\"colab-df-container\">\n",
              "      <div>\n",
              "<style scoped>\n",
              "    .dataframe tbody tr th:only-of-type {\n",
              "        vertical-align: middle;\n",
              "    }\n",
              "\n",
              "    .dataframe tbody tr th {\n",
              "        vertical-align: top;\n",
              "    }\n",
              "\n",
              "    .dataframe thead th {\n",
              "        text-align: right;\n",
              "    }\n",
              "</style>\n",
              "<table border=\"1\" class=\"dataframe\">\n",
              "  <thead>\n",
              "    <tr style=\"text-align: right;\">\n",
              "      <th></th>\n",
              "      <th>space_type</th>\n",
              "      <th>billable_distance</th>\n",
              "      <th>run_name</th>\n",
              "      <th>rider.mediroutes_rider_id</th>\n",
              "      <th>pickup.event_location.zip</th>\n",
              "      <th>pickup.event_location.longitude</th>\n",
              "      <th>pickup.event_location.latitude</th>\n",
              "      <th>dropoff.event_location.zip</th>\n",
              "      <th>dropoff.event_location.longitude</th>\n",
              "      <th>dropoff.event_location.latitude</th>\n",
              "      <th>pickup_month</th>\n",
              "      <th>pickup_day</th>\n",
              "      <th>pickup_hour</th>\n",
              "      <th>pickup_minute</th>\n",
              "    </tr>\n",
              "  </thead>\n",
              "  <tbody>\n",
              "    <tr>\n",
              "      <th>0</th>\n",
              "      <td>0.857143</td>\n",
              "      <td>0.012314</td>\n",
              "      <td>0.10</td>\n",
              "      <td>0.169343</td>\n",
              "      <td>0.583333</td>\n",
              "      <td>-0.990825</td>\n",
              "      <td>0.848788</td>\n",
              "      <td>0.837838</td>\n",
              "      <td>-0.990424</td>\n",
              "      <td>0.848616</td>\n",
              "      <td>1.0</td>\n",
              "      <td>1.0</td>\n",
              "      <td>0.173913</td>\n",
              "      <td>0.517241</td>\n",
              "    </tr>\n",
              "    <tr>\n",
              "      <th>1</th>\n",
              "      <td>0.857143</td>\n",
              "      <td>0.006394</td>\n",
              "      <td>0.10</td>\n",
              "      <td>0.182482</td>\n",
              "      <td>0.458333</td>\n",
              "      <td>-0.990922</td>\n",
              "      <td>0.846670</td>\n",
              "      <td>0.797297</td>\n",
              "      <td>-0.990674</td>\n",
              "      <td>0.847189</td>\n",
              "      <td>1.0</td>\n",
              "      <td>1.0</td>\n",
              "      <td>0.217391</td>\n",
              "      <td>0.517241</td>\n",
              "    </tr>\n",
              "    <tr>\n",
              "      <th>2</th>\n",
              "      <td>0.857143</td>\n",
              "      <td>0.003826</td>\n",
              "      <td>0.10</td>\n",
              "      <td>0.167883</td>\n",
              "      <td>0.833333</td>\n",
              "      <td>-0.990800</td>\n",
              "      <td>0.846893</td>\n",
              "      <td>0.797297</td>\n",
              "      <td>-0.990674</td>\n",
              "      <td>0.847189</td>\n",
              "      <td>1.0</td>\n",
              "      <td>1.0</td>\n",
              "      <td>0.217391</td>\n",
              "      <td>0.517241</td>\n",
              "    </tr>\n",
              "    <tr>\n",
              "      <th>3</th>\n",
              "      <td>0.285714</td>\n",
              "      <td>0.023389</td>\n",
              "      <td>0.05</td>\n",
              "      <td>0.202920</td>\n",
              "      <td>0.791667</td>\n",
              "      <td>-0.990521</td>\n",
              "      <td>0.846884</td>\n",
              "      <td>0.675676</td>\n",
              "      <td>-0.989395</td>\n",
              "      <td>0.845235</td>\n",
              "      <td>1.0</td>\n",
              "      <td>1.0</td>\n",
              "      <td>0.304348</td>\n",
              "      <td>0.206897</td>\n",
              "    </tr>\n",
              "    <tr>\n",
              "      <th>4</th>\n",
              "      <td>0.285714</td>\n",
              "      <td>0.018819</td>\n",
              "      <td>0.05</td>\n",
              "      <td>0.084672</td>\n",
              "      <td>0.750000</td>\n",
              "      <td>-0.989852</td>\n",
              "      <td>0.847646</td>\n",
              "      <td>0.729730</td>\n",
              "      <td>-0.989807</td>\n",
              "      <td>0.845745</td>\n",
              "      <td>1.0</td>\n",
              "      <td>1.0</td>\n",
              "      <td>0.347826</td>\n",
              "      <td>0.517241</td>\n",
              "    </tr>\n",
              "  </tbody>\n",
              "</table>\n",
              "</div>\n",
              "      <button class=\"colab-df-convert\" onclick=\"convertToInteractive('df-03721e6d-eaa5-47e6-9270-adfb7b152f62')\"\n",
              "              title=\"Convert this dataframe to an interactive table.\"\n",
              "              style=\"display:none;\">\n",
              "        \n",
              "  <svg xmlns=\"http://www.w3.org/2000/svg\" height=\"24px\"viewBox=\"0 0 24 24\"\n",
              "       width=\"24px\">\n",
              "    <path d=\"M0 0h24v24H0V0z\" fill=\"none\"/>\n",
              "    <path d=\"M18.56 5.44l.94 2.06.94-2.06 2.06-.94-2.06-.94-.94-2.06-.94 2.06-2.06.94zm-11 1L8.5 8.5l.94-2.06 2.06-.94-2.06-.94L8.5 2.5l-.94 2.06-2.06.94zm10 10l.94 2.06.94-2.06 2.06-.94-2.06-.94-.94-2.06-.94 2.06-2.06.94z\"/><path d=\"M17.41 7.96l-1.37-1.37c-.4-.4-.92-.59-1.43-.59-.52 0-1.04.2-1.43.59L10.3 9.45l-7.72 7.72c-.78.78-.78 2.05 0 2.83L4 21.41c.39.39.9.59 1.41.59.51 0 1.02-.2 1.41-.59l7.78-7.78 2.81-2.81c.8-.78.8-2.07 0-2.86zM5.41 20L4 18.59l7.72-7.72 1.47 1.35L5.41 20z\"/>\n",
              "  </svg>\n",
              "      </button>\n",
              "      \n",
              "  <style>\n",
              "    .colab-df-container {\n",
              "      display:flex;\n",
              "      flex-wrap:wrap;\n",
              "      gap: 12px;\n",
              "    }\n",
              "\n",
              "    .colab-df-convert {\n",
              "      background-color: #E8F0FE;\n",
              "      border: none;\n",
              "      border-radius: 50%;\n",
              "      cursor: pointer;\n",
              "      display: none;\n",
              "      fill: #1967D2;\n",
              "      height: 32px;\n",
              "      padding: 0 0 0 0;\n",
              "      width: 32px;\n",
              "    }\n",
              "\n",
              "    .colab-df-convert:hover {\n",
              "      background-color: #E2EBFA;\n",
              "      box-shadow: 0px 1px 2px rgba(60, 64, 67, 0.3), 0px 1px 3px 1px rgba(60, 64, 67, 0.15);\n",
              "      fill: #174EA6;\n",
              "    }\n",
              "\n",
              "    [theme=dark] .colab-df-convert {\n",
              "      background-color: #3B4455;\n",
              "      fill: #D2E3FC;\n",
              "    }\n",
              "\n",
              "    [theme=dark] .colab-df-convert:hover {\n",
              "      background-color: #434B5C;\n",
              "      box-shadow: 0px 1px 3px 1px rgba(0, 0, 0, 0.15);\n",
              "      filter: drop-shadow(0px 1px 2px rgba(0, 0, 0, 0.3));\n",
              "      fill: #FFFFFF;\n",
              "    }\n",
              "  </style>\n",
              "\n",
              "      <script>\n",
              "        const buttonEl =\n",
              "          document.querySelector('#df-03721e6d-eaa5-47e6-9270-adfb7b152f62 button.colab-df-convert');\n",
              "        buttonEl.style.display =\n",
              "          google.colab.kernel.accessAllowed ? 'block' : 'none';\n",
              "\n",
              "        async function convertToInteractive(key) {\n",
              "          const element = document.querySelector('#df-03721e6d-eaa5-47e6-9270-adfb7b152f62');\n",
              "          const dataTable =\n",
              "            await google.colab.kernel.invokeFunction('convertToInteractive',\n",
              "                                                     [key], {});\n",
              "          if (!dataTable) return;\n",
              "\n",
              "          const docLinkHtml = 'Like what you see? Visit the ' +\n",
              "            '<a target=\"_blank\" href=https://colab.research.google.com/notebooks/data_table.ipynb>data table notebook</a>'\n",
              "            + ' to learn more about interactive tables.';\n",
              "          element.innerHTML = '';\n",
              "          dataTable['output_type'] = 'display_data';\n",
              "          await google.colab.output.renderOutput(dataTable, element);\n",
              "          const docLink = document.createElement('div');\n",
              "          docLink.innerHTML = docLinkHtml;\n",
              "          element.appendChild(docLink);\n",
              "        }\n",
              "      </script>\n",
              "    </div>\n",
              "  </div>\n",
              "  "
            ]
          },
          "metadata": {},
          "execution_count": 725
        }
      ]
    },
    {
      "cell_type": "code",
      "source": [
        "counts = rides.groupby(['pickup_month', 'pickup_day']).size().reset_index(name='counts')\n",
        "counts['counts'].mean()"
      ],
      "metadata": {
        "colab": {
          "base_uri": "https://localhost:8080/"
        },
        "id": "66b6OpD899K4",
        "outputId": "43ddfb61-8212-409c-9dd5-bfe346233beb"
      },
      "execution_count": 726,
      "outputs": [
        {
          "output_type": "execute_result",
          "data": {
            "text/plain": [
              "99.41875"
            ]
          },
          "metadata": {},
          "execution_count": 726
        }
      ]
    },
    {
      "cell_type": "code",
      "source": [
        "import matplotlib.pyplot as plt\n",
        "\n",
        "plt.figure(figsize=(20, 7))\n",
        "\n",
        "import matplotlib.pyplot as plt\n",
        "import numpy as np\n",
        "\n",
        "# Calculate the mean and standard deviation of the counts column\n",
        "mean = counts['counts'].mean()\n",
        "std = counts['counts'].std()\n",
        "\n",
        "# Plot the histogram of the counts column\n",
        "counts['counts'].hist(bins=20)\n",
        "\n",
        "# Add vertical lines to indicate mean and standard deviation\n",
        "plt.axvline(mean, color='red', label='Mean')\n",
        "plt.axvline(mean + std, color='blue', label='+1 Standard Deviation')\n",
        "plt.axvline(mean - std, color='blue', label='-1 Standard Deviation')\n",
        "\n",
        "# Add title and labels\n",
        "plt.title('Distribution of Counts Column')\n",
        "plt.xlabel('Counts')\n",
        "plt.ylabel('Frequency')\n",
        "plt.legend()\n",
        "\n",
        "# Show plot\n",
        "plt.show()"
      ],
      "metadata": {
        "colab": {
          "base_uri": "https://localhost:8080/",
          "height": 458
        },
        "id": "of232X7n-F1M",
        "outputId": "e81cc6f5-dd5c-4a17-e05d-7a0a3441ada7"
      },
      "execution_count": 727,
      "outputs": [
        {
          "output_type": "display_data",
          "data": {
            "text/plain": [
              "<Figure size 1440x504 with 1 Axes>"
            ],
            "image/png": "[encoded data removed]"
          },
          "metadata": {
            "needs_background": "light"
          }
        }
      ]
    },
    {
      "cell_type": "code",
      "source": [
        "rides['pickup_day'] = rides['pickup_day'].fillna(0).astype(int)\n",
        "rides['pickup_month'] = rides['pickup_month'].fillna(0).astype(int)\n",
        "\n",
        "rides['pickup_day'] = rides['pickup_day'].astype(str)\n",
        "rides['pickup_month'] = rides['pickup_month'].astype(str)\n",
        "\n",
        "rides['id'] = rides['pickup_month'] + rides['pickup_day']\n",
        "\n",
        "rides = rides.drop(['pickup_month','pickup_day'], axis=1)"
      ],
      "metadata": {
        "id": "UbRWLKbMNyio"
      },
      "execution_count": 728,
      "outputs": []
    },
    {
      "cell_type": "code",
      "source": [
        "rides.head()"
      ],
      "metadata": {
        "colab": {
          "base_uri": "https://localhost:8080/",
          "height": 270
        },
        "id": "NH9k8ihZgMpm",
        "outputId": "8e927419-1d3c-471f-ace0-54d5c8aec566"
      },
      "execution_count": 729,
      "outputs": [
        {
          "output_type": "execute_result",
          "data": {
            "text/plain": [
              "   space_type  billable_distance  run_name  rider.mediroutes_rider_id  \\\n",
              "0    0.857143           0.012314      0.10                   0.169343   \n",
              "1    0.857143           0.006394      0.10                   0.182482   \n",
              "2    0.857143           0.003826      0.10                   0.167883   \n",
              "3    0.285714           0.023389      0.05                   0.202920   \n",
              "4    0.285714           0.018819      0.05                   0.084672   \n",
              "\n",
              "   pickup.event_location.zip  pickup.event_location.longitude  \\\n",
              "0                   0.583333                        -0.990825   \n",
              "1                   0.458333                        -0.990922   \n",
              "2                   0.833333                        -0.990800   \n",
              "3                   0.791667                        -0.990521   \n",
              "4                   0.750000                        -0.989852   \n",
              "\n",
              "   pickup.event_location.latitude  dropoff.event_location.zip  \\\n",
              "0                        0.848788                    0.837838   \n",
              "1                        0.846670                    0.797297   \n",
              "2                        0.846893                    0.797297   \n",
              "3                        0.846884                    0.675676   \n",
              "4                        0.847646                    0.729730   \n",
              "\n",
              "   dropoff.event_location.longitude  dropoff.event_location.latitude  \\\n",
              "0                         -0.990424                         0.848616   \n",
              "1                         -0.990674                         0.847189   \n",
              "2                         -0.990674                         0.847189   \n",
              "3                         -0.989395                         0.845235   \n",
              "4                         -0.989807                         0.845745   \n",
              "\n",
              "   pickup_hour  pickup_minute  id  \n",
              "0     0.173913       0.517241  11  \n",
              "1     0.217391       0.517241  11  \n",
              "2     0.217391       0.517241  11  \n",
              "3     0.304348       0.206897  11  \n",
              "4     0.347826       0.517241  11  "
            ],
            "text/html": [
              "\n",
              "  <div id=\"df-14f289af-f2f4-42b8-b43c-8fddaea7ff09\">\n",
              "    <div class=\"colab-df-container\">\n",
              "      <div>\n",
              "<style scoped>\n",
              "    .dataframe tbody tr th:only-of-type {\n",
              "        vertical-align: middle;\n",
              "    }\n",
              "\n",
              "    .dataframe tbody tr th {\n",
              "        vertical-align: top;\n",
              "    }\n",
              "\n",
              "    .dataframe thead th {\n",
              "        text-align: right;\n",
              "    }\n",
              "</style>\n",
              "<table border=\"1\" class=\"dataframe\">\n",
              "  <thead>\n",
              "    <tr style=\"text-align: right;\">\n",
              "      <th></th>\n",
              "      <th>space_type</th>\n",
              "      <th>billable_distance</th>\n",
              "      <th>run_name</th>\n",
              "      <th>rider.mediroutes_rider_id</th>\n",
              "      <th>pickup.event_location.zip</th>\n",
              "      <th>pickup.event_location.longitude</th>\n",
              "      <th>pickup.event_location.latitude</th>\n",
              "      <th>dropoff.event_location.zip</th>\n",
              "      <th>dropoff.event_location.longitude</th>\n",
              "      <th>dropoff.event_location.latitude</th>\n",
              "      <th>pickup_hour</th>\n",
              "      <th>pickup_minute</th>\n",
              "      <th>id</th>\n",
              "    </tr>\n",
              "  </thead>\n",
              "  <tbody>\n",
              "    <tr>\n",
              "      <th>0</th>\n",
              "      <td>0.857143</td>\n",
              "      <td>0.012314</td>\n",
              "      <td>0.10</td>\n",
              "      <td>0.169343</td>\n",
              "      <td>0.583333</td>\n",
              "      <td>-0.990825</td>\n",
              "      <td>0.848788</td>\n",
              "      <td>0.837838</td>\n",
              "      <td>-0.990424</td>\n",
              "      <td>0.848616</td>\n",
              "      <td>0.173913</td>\n",
              "      <td>0.517241</td>\n",
              "      <td>11</td>\n",
              "    </tr>\n",
              "    <tr>\n",
              "      <th>1</th>\n",
              "      <td>0.857143</td>\n",
              "      <td>0.006394</td>\n",
              "      <td>0.10</td>\n",
              "      <td>0.182482</td>\n",
              "      <td>0.458333</td>\n",
              "      <td>-0.990922</td>\n",
              "      <td>0.846670</td>\n",
              "      <td>0.797297</td>\n",
              "      <td>-0.990674</td>\n",
              "      <td>0.847189</td>\n",
              "      <td>0.217391</td>\n",
              "      <td>0.517241</td>\n",
              "      <td>11</td>\n",
              "    </tr>\n",
              "    <tr>\n",
              "      <th>2</th>\n",
              "      <td>0.857143</td>\n",
              "      <td>0.003826</td>\n",
              "      <td>0.10</td>\n",
              "      <td>0.167883</td>\n",
              "      <td>0.833333</td>\n",
              "      <td>-0.990800</td>\n",
              "      <td>0.846893</td>\n",
              "      <td>0.797297</td>\n",
              "      <td>-0.990674</td>\n",
              "      <td>0.847189</td>\n",
              "      <td>0.217391</td>\n",
              "      <td>0.517241</td>\n",
              "      <td>11</td>\n",
              "    </tr>\n",
              "    <tr>\n",
              "      <th>3</th>\n",
              "      <td>0.285714</td>\n",
              "      <td>0.023389</td>\n",
              "      <td>0.05</td>\n",
              "      <td>0.202920</td>\n",
              "      <td>0.791667</td>\n",
              "      <td>-0.990521</td>\n",
              "      <td>0.846884</td>\n",
              "      <td>0.675676</td>\n",
              "      <td>-0.989395</td>\n",
              "      <td>0.845235</td>\n",
              "      <td>0.304348</td>\n",
              "      <td>0.206897</td>\n",
              "      <td>11</td>\n",
              "    </tr>\n",
              "    <tr>\n",
              "      <th>4</th>\n",
              "      <td>0.285714</td>\n",
              "      <td>0.018819</td>\n",
              "      <td>0.05</td>\n",
              "      <td>0.084672</td>\n",
              "      <td>0.750000</td>\n",
              "      <td>-0.989852</td>\n",
              "      <td>0.847646</td>\n",
              "      <td>0.729730</td>\n",
              "      <td>-0.989807</td>\n",
              "      <td>0.845745</td>\n",
              "      <td>0.347826</td>\n",
              "      <td>0.517241</td>\n",
              "      <td>11</td>\n",
              "    </tr>\n",
              "  </tbody>\n",
              "</table>\n",
              "</div>\n",
              "      <button class=\"colab-df-convert\" onclick=\"convertToInteractive('df-14f289af-f2f4-42b8-b43c-8fddaea7ff09')\"\n",
              "              title=\"Convert this dataframe to an interactive table.\"\n",
              "              style=\"display:none;\">\n",
              "        \n",
              "  <svg xmlns=\"http://www.w3.org/2000/svg\" height=\"24px\"viewBox=\"0 0 24 24\"\n",
              "       width=\"24px\">\n",
              "    <path d=\"M0 0h24v24H0V0z\" fill=\"none\"/>\n",
              "    <path d=\"M18.56 5.44l.94 2.06.94-2.06 2.06-.94-2.06-.94-.94-2.06-.94 2.06-2.06.94zm-11 1L8.5 8.5l.94-2.06 2.06-.94-2.06-.94L8.5 2.5l-.94 2.06-2.06.94zm10 10l.94 2.06.94-2.06 2.06-.94-2.06-.94-.94-2.06-.94 2.06-2.06.94z\"/><path d=\"M17.41 7.96l-1.37-1.37c-.4-.4-.92-.59-1.43-.59-.52 0-1.04.2-1.43.59L10.3 9.45l-7.72 7.72c-.78.78-.78 2.05 0 2.83L4 21.41c.39.39.9.59 1.41.59.51 0 1.02-.2 1.41-.59l7.78-7.78 2.81-2.81c.8-.78.8-2.07 0-2.86zM5.41 20L4 18.59l7.72-7.72 1.47 1.35L5.41 20z\"/>\n",
              "  </svg>\n",
              "      </button>\n",
              "      \n",
              "  <style>\n",
              "    .colab-df-container {\n",
              "      display:flex;\n",
              "      flex-wrap:wrap;\n",
              "      gap: 12px;\n",
              "    }\n",
              "\n",
              "    .colab-df-convert {\n",
              "      background-color: #E8F0FE;\n",
              "      border: none;\n",
              "      border-radius: 50%;\n",
              "      cursor: pointer;\n",
              "      display: none;\n",
              "      fill: #1967D2;\n",
              "      height: 32px;\n",
              "      padding: 0 0 0 0;\n",
              "      width: 32px;\n",
              "    }\n",
              "\n",
              "    .colab-df-convert:hover {\n",
              "      background-color: #E2EBFA;\n",
              "      box-shadow: 0px 1px 2px rgba(60, 64, 67, 0.3), 0px 1px 3px 1px rgba(60, 64, 67, 0.15);\n",
              "      fill: #174EA6;\n",
              "    }\n",
              "\n",
              "    [theme=dark] .colab-df-convert {\n",
              "      background-color: #3B4455;\n",
              "      fill: #D2E3FC;\n",
              "    }\n",
              "\n",
              "    [theme=dark] .colab-df-convert:hover {\n",
              "      background-color: #434B5C;\n",
              "      box-shadow: 0px 1px 3px 1px rgba(0, 0, 0, 0.15);\n",
              "      filter: drop-shadow(0px 1px 2px rgba(0, 0, 0, 0.3));\n",
              "      fill: #FFFFFF;\n",
              "    }\n",
              "  </style>\n",
              "\n",
              "      <script>\n",
              "        const buttonEl =\n",
              "          document.querySelector('#df-14f289af-f2f4-42b8-b43c-8fddaea7ff09 button.colab-df-convert');\n",
              "        buttonEl.style.display =\n",
              "          google.colab.kernel.accessAllowed ? 'block' : 'none';\n",
              "\n",
              "        async function convertToInteractive(key) {\n",
              "          const element = document.querySelector('#df-14f289af-f2f4-42b8-b43c-8fddaea7ff09');\n",
              "          const dataTable =\n",
              "            await google.colab.kernel.invokeFunction('convertToInteractive',\n",
              "                                                     [key], {});\n",
              "          if (!dataTable) return;\n",
              "\n",
              "          const docLinkHtml = 'Like what you see? Visit the ' +\n",
              "            '<a target=\"_blank\" href=https://colab.research.google.com/notebooks/data_table.ipynb>data table notebook</a>'\n",
              "            + ' to learn more about interactive tables.';\n",
              "          element.innerHTML = '';\n",
              "          dataTable['output_type'] = 'display_data';\n",
              "          await google.colab.output.renderOutput(dataTable, element);\n",
              "          const docLink = document.createElement('div');\n",
              "          docLink.innerHTML = docLinkHtml;\n",
              "          element.appendChild(docLink);\n",
              "        }\n",
              "      </script>\n",
              "    </div>\n",
              "  </div>\n",
              "  "
            ]
          },
          "metadata": {},
          "execution_count": 729
        }
      ]
    },
    {
      "cell_type": "code",
      "source": [
        "rides.shape"
      ],
      "metadata": {
        "colab": {
          "base_uri": "https://localhost:8080/"
        },
        "id": "FBGOjDCcPTjV",
        "outputId": "43f0c046-db99-40c9-9624-393a09f7779d"
      },
      "execution_count": 730,
      "outputs": [
        {
          "output_type": "execute_result",
          "data": {
            "text/plain": [
              "(31814, 13)"
            ]
          },
          "metadata": {},
          "execution_count": 730
        }
      ]
    },
    {
      "cell_type": "code",
      "source": [
        "rides = rides.astype(str)"
      ],
      "metadata": {
        "id": "Wut5nx5c7b8b"
      },
      "execution_count": 731,
      "outputs": []
    },
    {
      "cell_type": "code",
      "source": [
        "rides.values[0].astype('float32')"
      ],
      "metadata": {
        "colab": {
          "base_uri": "https://localhost:8080/"
        },
        "id": "V_8YkxPM8VXo",
        "outputId": "b1c577eb-7b19-4cfb-ce31-cc212a5204ae"
      },
      "execution_count": 732,
      "outputs": [
        {
          "output_type": "execute_result",
          "data": {
            "text/plain": [
              "array([ 0.857143,  0.012314,  0.1     ,  0.169343,  0.583333, -0.990825,\n",
              "        0.848788,  0.837838, -0.990424,  0.848616,  0.173913,  0.517241,\n",
              "       11.      ], dtype=float32)"
            ]
          },
          "metadata": {},
          "execution_count": 732
        }
      ]
    },
    {
      "cell_type": "markdown",
      "source": [
        "Put rides into buckets by date"
      ],
      "metadata": {
        "id": "sEJD-HUyvTh2"
      }
    },
    {
      "cell_type": "code",
      "source": [
        "# Group the rows by the 'id' column\n",
        "grouped = rides.groupby('id')\n",
        "\n",
        "# Create a list to store the grouped arrays\n",
        "day_buckets = []\n",
        "\n",
        "# Loop through each group\n",
        "for name, group in grouped:\n",
        "    # Convert the group to a numpy array\n",
        "    group_array = group.values.astype(np.float32)\n",
        "    \n",
        "    # Append the group array to the list of grouped arrays\n",
        "    day_buckets.append(group_array)\n",
        "\n",
        "# Set the display format of the numpy arrays\n",
        "np.set_printoptions(precision=6, suppress=True)\n",
        "\n",
        "# Sort the list of grouped arrays by the first column of each array\n",
        "day_buckets.sort(key=lambda x: x[0][1])\n"
      ],
      "metadata": {
        "id": "_WIOpiJqvQKv"
      },
      "execution_count": 733,
      "outputs": []
    },
    {
      "cell_type": "code",
      "source": [
        "# Do this or when you shuffle below it will shuffle both for some fucking reason, and copy doesn't work.\n",
        "day_buckets_y = [x.astype(str) for x in day_buckets[1:]]"
      ],
      "metadata": {
        "id": "EN2LBJsqw4v9"
      },
      "execution_count": 734,
      "outputs": []
    },
    {
      "cell_type": "code",
      "source": [
        "day_buckets_y[0][0]"
      ],
      "metadata": {
        "colab": {
          "base_uri": "https://localhost:8080/"
        },
        "id": "-NS5xNNpQgzX",
        "outputId": "9095ac01-0a3b-47ba-846f-7dc3e539bcf6"
      },
      "execution_count": 735,
      "outputs": [
        {
          "output_type": "execute_result",
          "data": {
            "text/plain": [
              "array(['0.2857143', '0.0032280714', '0.2', '0.13868614', '0.6805556',\n",
              "       '-0.990954', '0.8473343', '0.7972973', '-0.99070346', '0.84737885',\n",
              "       '0.17391305', '0.25862068', '913.0'], dtype='<U32')"
            ]
          },
          "metadata": {},
          "execution_count": 735
        }
      ]
    },
    {
      "cell_type": "code",
      "source": [
        "def shuffle_np_array(np_array_list):\n",
        "    for i in range(len(np_array_list)):\n",
        "        np.random.shuffle(np_array_list[i])\n",
        "    return np_array_list\n",
        "\n",
        "day_buckets_X = shuffle_np_array(day_buckets)[1:] # create a shuffled version for X below"
      ],
      "metadata": {
        "id": "mfLy4pFVLyOO"
      },
      "execution_count": 736,
      "outputs": []
    },
    {
      "cell_type": "markdown",
      "source": [
        "Below each 'word' is represented by a vector in the sentence we are trying to predict the order of."
      ],
      "metadata": {
        "id": "wtecLPLw5zO3"
      }
    },
    {
      "cell_type": "code",
      "source": [
        "from tensorflow import keras\n",
        "from tensorflow.keras.preprocessing.sequence import pad_sequences\n",
        "\n",
        "# X = []\n",
        "# y = []\n",
        "# max_length = 12\n",
        "# # Convert the input data into a 3D array of shape (num_samples, max_length, num_features)\n",
        "# for i in day_buckets_X:\n",
        "#   X.append(pad_sequences(i, maxlen=max_length, dtype='float32', padding='post', truncating='post'))\n",
        "# for i in day_buckets_y:\n",
        "#   y.append(pad_sequences(i, maxlen=max_length, dtype='float32', padding='post', truncating='post'))\n",
        "\n",
        "# space_type 0\n",
        "# billable_distance 1\n",
        "# run_name 2\n",
        "# rider.mediroutes_rider_id 3\n",
        "# pickup.event_location.zip 4\n",
        "# pickup.event_location.longitude 5\n",
        "# pickup.event_location.latitude 6\n",
        "# dropoff.event_location.zip 7\n",
        "# dropoff.event_location.longitude 8\n",
        "# dropoff.event_location.latitude 9\n",
        "# pickup_hour\tpickup_minute 10\n",
        "# id 11\n"
      ],
      "metadata": {
        "id": "_L-tLje0TK7i"
      },
      "execution_count": 737,
      "outputs": []
    },
    {
      "cell_type": "code",
      "source": [
        "input = []\n",
        "target = []\n",
        "for array in day_buckets_X:\n",
        "    new_array = np.delete(array, -1, axis=1)\n",
        "    input.append(new_array.astype('float32'))\n",
        "\n",
        "count = 0\n",
        "for array in day_buckets_y:\n",
        "    new_array = np.delete(array, -1, axis=1)\n",
        "    target.append(new_array.astype('float32'))\n"
      ],
      "metadata": {
        "id": "1FphjSRRPfcS"
      },
      "execution_count": 738,
      "outputs": []
    },
    {
      "cell_type": "code",
      "source": [
        "def pad_array(arr):\n",
        "    padding = np.zeros((1, 12))\n",
        "    while arr.shape[0] < 125:\n",
        "        arr = np.concatenate((arr, padding), axis=0)\n",
        "    return arr\n",
        "input[0] = pad_array(input[0])\n",
        "target[0] = pad_array(target[0])"
      ],
      "metadata": {
        "id": "s_FITXLLdWdD"
      },
      "execution_count": 739,
      "outputs": []
    },
    {
      "cell_type": "code",
      "source": [
        "# The error message suggests that the model is expecting 2 inputs, but only 1 input tensor was provided for validation data. \n",
        "# To resolve this issue, make sure the input tensors for the validation data match the expected input shape and number of inputs \n",
        "# as defined in the model architecture. If the model requires multiple inputs, make sure to pass them in as a list or tuple in \n",
        "# the correct order.\n",
        "\n",
        "def create_validation_set():\n",
        "\n",
        "  X_val = input[-1].astype('float32')\n",
        "  X_val = pad_array(X_val)\n",
        "\n",
        "  y_val = target[-1].astype('float32')\n",
        "  y_val = pad_array(y_val)\n",
        "\n",
        "  return X_val, y_val\n",
        "\n",
        "X_val, y_val = create_validation_set()"
      ],
      "metadata": {
        "id": "EPbi5kLhJrOY"
      },
      "execution_count": 740,
      "outputs": []
    },
    {
      "cell_type": "code",
      "source": [
        "input[0]"
      ],
      "metadata": {
        "colab": {
          "base_uri": "https://localhost:8080/"
        },
        "id": "cGewxrMXfBOK",
        "outputId": "4a33ddc0-a393-476f-d105-07f1667c5cb7"
      },
      "execution_count": 741,
      "outputs": [
        {
          "output_type": "execute_result",
          "data": {
            "text/plain": [
              "array([[0.857143, 0.007597, 0.35    , ..., 0.847258, 0.695652, 0.775862],\n",
              "       [0.285714, 0.006086, 0.95    , ..., 0.850249, 0.565217, 0.517241],\n",
              "       [0.285714, 0.022562, 0.85    , ..., 0.845252, 0.608696, 0.517241],\n",
              "       ...,\n",
              "       [0.      , 0.      , 0.      , ..., 0.      , 0.      , 0.      ],\n",
              "       [0.      , 0.      , 0.      , ..., 0.      , 0.      , 0.      ],\n",
              "       [0.      , 0.      , 0.      , ..., 0.      , 0.      , 0.      ]])"
            ]
          },
          "metadata": {},
          "execution_count": 741
        }
      ]
    },
    {
      "cell_type": "code",
      "source": [
        "input_df = pd.DataFrame(input[0], columns=[\n",
        "'input_space_type',\n",
        "'input_billable_distance',\n",
        "'input_run_name',\n",
        "'input_rider.mediroutes_rider_id',\n",
        "'input_pickup.event_location.zip',\n",
        "'input_pickup.event_location.longitude',\n",
        "'input_pickup.event_location.latitude',\n",
        "'input_dropoff.event_location.zip',\n",
        "'input_dropoff.event_location.longitude',\n",
        "'input_dropoff.event_location.latitude',\n",
        "'input_pickup_hour',\n",
        "'input_pickup_minute'\n",
        "])\n",
        "\n",
        "target_df = pd.DataFrame(target[0], columns=[\n",
        "'target_space_type',\n",
        "'target_billable_distance',\n",
        "'target_run_name',\n",
        "'target_rider.mediroutes_rider_id',\n",
        "'target_pickup.event_location.zip',\n",
        "'target_pickup.event_location.longitude',\n",
        "'target_pickup.event_location.latitude',\n",
        "'target_dropoff.event_location.zip',\n",
        "'target_dropoff.event_location.longitude',\n",
        "'target_dropoff.event_location.latitude',\n",
        "'target_pickup_hour',\n",
        "'target_pickup_minute'\n",
        "])\n",
        "\n",
        "check = pd.concat([input_df, target_df], axis=1)"
      ],
      "metadata": {
        "id": "L7hK3tNj_REH"
      },
      "execution_count": 742,
      "outputs": []
    },
    {
      "cell_type": "code",
      "source": [
        "input[0][24]"
      ],
      "metadata": {
        "colab": {
          "base_uri": "https://localhost:8080/"
        },
        "id": "VN6TDd5TEjbv",
        "outputId": "4ac07c5b-51fa-4868-a737-4e047f718bdf"
      },
      "execution_count": 743,
      "outputs": [
        {
          "output_type": "execute_result",
          "data": {
            "text/plain": [
              "array([ 0.857143,  0.003495,  0.95    ,  0.080292,  0.111111, -0.991856,\n",
              "        0.84872 ,  0.148649, -0.991863,  0.849132,  0.565217,  0.      ])"
            ]
          },
          "metadata": {},
          "execution_count": 743
        }
      ]
    },
    {
      "cell_type": "code",
      "source": [
        "target[0][0]"
      ],
      "metadata": {
        "colab": {
          "base_uri": "https://localhost:8080/"
        },
        "id": "oHOPBdaEFrkt",
        "outputId": "df77344c-f9db-4f03-ebce-cb24a2db5c00"
      },
      "execution_count": 744,
      "outputs": [
        {
          "output_type": "execute_result",
          "data": {
            "text/plain": [
              "array([ 0.285714,  0.003228,  0.2     ,  0.138686,  0.680556, -0.990954,\n",
              "        0.847334,  0.797297, -0.990703,  0.847379,  0.173913,  0.258621])"
            ]
          },
          "metadata": {},
          "execution_count": 744
        }
      ]
    },
    {
      "cell_type": "code",
      "source": [
        "check.to_csv('/content/check.csv')"
      ],
      "metadata": {
        "id": "Wbfb-GLG_wk0"
      },
      "execution_count": 745,
      "outputs": []
    },
    {
      "cell_type": "code",
      "source": [
        "input[0].shape"
      ],
      "metadata": {
        "colab": {
          "base_uri": "https://localhost:8080/"
        },
        "id": "lBIomjW5g6dN",
        "outputId": "36f264a5-4627-470e-fad7-b7a4a86d33e5"
      },
      "execution_count": 746,
      "outputs": [
        {
          "output_type": "execute_result",
          "data": {
            "text/plain": [
              "(125, 12)"
            ]
          },
          "metadata": {},
          "execution_count": 746
        }
      ]
    },
    {
      "cell_type": "code",
      "source": [
        "target[0].shape"
      ],
      "metadata": {
        "colab": {
          "base_uri": "https://localhost:8080/"
        },
        "id": "mXQrAiSSg7KA",
        "outputId": "687715c9-e206-43f4-fd3b-4a0972b2f2b8"
      },
      "execution_count": 747,
      "outputs": [
        {
          "output_type": "execute_result",
          "data": {
            "text/plain": [
              "(125, 12)"
            ]
          },
          "metadata": {},
          "execution_count": 747
        }
      ]
    },
    {
      "cell_type": "code",
      "source": [
        "# Define the input and output shape\n",
        "input_shape = (125, 12)\n",
        "output_shape = (125, 12)"
      ],
      "metadata": {
        "id": "5yZgnSDKBmRV"
      },
      "execution_count": 748,
      "outputs": []
    },
    {
      "cell_type": "markdown",
      "source": [
        "Set the day to train on"
      ],
      "metadata": {
        "id": "TlORCtFIjCak"
      }
    },
    {
      "cell_type": "code",
      "source": [
        "input = input[0]\n",
        "target = target[0]\n",
        "X_val = X_val\n",
        "y_val = y_val"
      ],
      "metadata": {
        "id": "DizO8PIIB5Ht"
      },
      "execution_count": 749,
      "outputs": []
    },
    {
      "cell_type": "code",
      "source": [
        "y_val"
      ],
      "metadata": {
        "colab": {
          "base_uri": "https://localhost:8080/"
        },
        "id": "O6A6JQOIHvDp",
        "outputId": "b2958dbd-a48e-4902-8588-071149d68b6c"
      },
      "execution_count": 750,
      "outputs": [
        {
          "output_type": "execute_result",
          "data": {
            "text/plain": [
              "array([[0.285714, 0.045571, 0.05    , ..., 0.849885, 0.173913, 0.258621],\n",
              "       [0.857143, 0.004869, 0.25    , ..., 0.847379, 0.173913, 0.517241],\n",
              "       [0.857143, 0.012092, 0.3     , ..., 0.848719, 0.173913, 0.775862],\n",
              "       ...,\n",
              "       [0.      , 0.      , 0.      , ..., 0.      , 0.      , 0.      ],\n",
              "       [0.      , 0.      , 0.      , ..., 0.      , 0.      , 0.      ],\n",
              "       [0.      , 0.      , 0.      , ..., 0.      , 0.      , 0.      ]])"
            ]
          },
          "metadata": {},
          "execution_count": 750
        }
      ]
    },
    {
      "cell_type": "code",
      "source": [
        "# model = keras.models.load_model('/content/drive/MyDrive/Colab_Models/RBSeq2Seq')"
      ],
      "metadata": {
        "id": "_fYOnuaIh8fq"
      },
      "execution_count": 751,
      "outputs": []
    },
    {
      "cell_type": "code",
      "source": [
        "from tensorflow.keras.callbacks import EarlyStopping\n",
        "early_stopping = EarlyStopping(monitor='mae', patience=5)"
      ],
      "metadata": {
        "id": "Y72bHydAQQ38"
      },
      "execution_count": 752,
      "outputs": []
    },
    {
      "cell_type": "code",
      "source": [
        "input = input.reshape(1, *input.shape)\n",
        "target = target.reshape(1, *target.shape)\n",
        "X_val = X_val.reshape(1, *X_val.shape)\n",
        "y_val = y_val.reshape(1, *y_val.shape)\n",
        "\n",
        "print(input.shape)\n",
        "print(target.shape)\n",
        "print(X_val.shape)\n",
        "print(y_val.shape)\n",
        "\n",
        "# Define the encoder\n",
        "encoder_inputs = keras.layers.Input(shape=input_shape)\n",
        "encoder = keras.layers.LSTM(64, return_state=True)\n",
        "encoder_outputs, state_h, state_c = encoder(encoder_inputs)\n",
        "encoder_states = [state_h, state_c]\n",
        "\n",
        "# Define the decoder\n",
        "decoder_inputs = keras.layers.Input(shape=(None, 12))\n",
        "decoder_lstm = keras.layers.LSTM(64, return_sequences=True, return_state=True)\n",
        "decoder_outputs, _, _ = decoder_lstm(decoder_inputs, initial_state=encoder_states)\n",
        "\n",
        "# Add the attention mechanism\n",
        "attention = keras.layers.Attention()([decoder_outputs, encoder_outputs])\n",
        "decoder_outputs = keras.layers.Concatenate()([decoder_outputs, attention])\n",
        "\n",
        "decoder_dense = keras.layers.Dense(12, activation='linear')\n",
        "decoder_outputs = decoder_dense(decoder_outputs)\n",
        "\n",
        "# Define the model\n",
        "model = keras.models.Model([encoder_inputs, decoder_inputs], decoder_outputs)\n",
        "model.compile(optimizer=tf.keras.optimizers.Adam(learning_rate=0.0001),\n",
        "              loss='mean_squared_error')\n"
      ],
      "metadata": {
        "colab": {
          "base_uri": "https://localhost:8080/"
        },
        "id": "kNsS9FF-hnRs",
        "outputId": "f46ae0ab-a770-401a-a162-41ff3f7f70d2"
      },
      "execution_count": 753,
      "outputs": [
        {
          "output_type": "stream",
          "name": "stdout",
          "text": [
            "(1, 125, 12)\n",
            "(1, 125, 12)\n",
            "(1, 125, 12)\n",
            "(1, 125, 12)\n"
          ]
        }
      ]
    },
    {
      "cell_type": "code",
      "source": [
        "#  validation_data=([X_val, y_val], y_val), the first element of the tuple, [X_val, y_val], are the inputs to the model during validation. The second element of the tuple, y_val, is the expected target output during validation.\n",
        "\n",
        "# Train the model\n",
        "history = model.fit([input, target], target, epochs=300, batch_size=16, validation_data=([X_val, y_val], y_val), callbacks=[early_stopping], verbose=2)"
      ],
      "metadata": {
        "colab": {
          "base_uri": "https://localhost:8080/"
        },
        "id": "6zvUJp5yNsdV",
        "outputId": "922632ec-50a8-4d58-9b4a-d60db3be1deb"
      },
      "execution_count": 754,
      "outputs": [
        {
          "output_type": "stream",
          "name": "stdout",
          "text": [
            "Epoch 1/100\n"
          ]
        },
        {
          "output_type": "stream",
          "name": "stderr",
          "text": [
            "WARNING:tensorflow:Early stopping conditioned on metric `mae` which is not available. Available metrics are: loss,val_loss\n"
          ]
        },
        {
          "output_type": "stream",
          "name": "stdout",
          "text": [
            "1/1 - 5s - loss: 0.3683 - val_loss: 0.3962 - 5s/epoch - 5s/step\n",
            "Epoch 2/100\n"
          ]
        },
        {
          "output_type": "stream",
          "name": "stderr",
          "text": [
            "WARNING:tensorflow:Early stopping conditioned on metric `mae` which is not available. Available metrics are: loss,val_loss\n"
          ]
        },
        {
          "output_type": "stream",
          "name": "stdout",
          "text": [
            "1/1 - 0s - loss: 0.3635 - val_loss: 0.3909 - 118ms/epoch - 118ms/step\n",
            "Epoch 3/100\n"
          ]
        },
        {
          "output_type": "stream",
          "name": "stderr",
          "text": [
            "WARNING:tensorflow:Early stopping conditioned on metric `mae` which is not available. Available metrics are: loss,val_loss\n"
          ]
        },
        {
          "output_type": "stream",
          "name": "stdout",
          "text": [
            "1/1 - 0s - loss: 0.3587 - val_loss: 0.3856 - 119ms/epoch - 119ms/step\n",
            "Epoch 4/100\n"
          ]
        },
        {
          "output_type": "stream",
          "name": "stderr",
          "text": [
            "WARNING:tensorflow:Early stopping conditioned on metric `mae` which is not available. Available metrics are: loss,val_loss\n"
          ]
        },
        {
          "output_type": "stream",
          "name": "stdout",
          "text": [
            "1/1 - 0s - loss: 0.3540 - val_loss: 0.3805 - 121ms/epoch - 121ms/step\n",
            "Epoch 5/100\n"
          ]
        },
        {
          "output_type": "stream",
          "name": "stderr",
          "text": [
            "WARNING:tensorflow:Early stopping conditioned on metric `mae` which is not available. Available metrics are: loss,val_loss\n"
          ]
        },
        {
          "output_type": "stream",
          "name": "stdout",
          "text": [
            "1/1 - 0s - loss: 0.3494 - val_loss: 0.3754 - 131ms/epoch - 131ms/step\n",
            "Epoch 6/100\n"
          ]
        },
        {
          "output_type": "stream",
          "name": "stderr",
          "text": [
            "WARNING:tensorflow:Early stopping conditioned on metric `mae` which is not available. Available metrics are: loss,val_loss\n"
          ]
        },
        {
          "output_type": "stream",
          "name": "stdout",
          "text": [
            "1/1 - 0s - loss: 0.3448 - val_loss: 0.3703 - 114ms/epoch - 114ms/step\n",
            "Epoch 7/100\n"
          ]
        },
        {
          "output_type": "stream",
          "name": "stderr",
          "text": [
            "WARNING:tensorflow:Early stopping conditioned on metric `mae` which is not available. Available metrics are: loss,val_loss\n"
          ]
        },
        {
          "output_type": "stream",
          "name": "stdout",
          "text": [
            "1/1 - 0s - loss: 0.3403 - val_loss: 0.3653 - 116ms/epoch - 116ms/step\n",
            "Epoch 8/100\n"
          ]
        },
        {
          "output_type": "stream",
          "name": "stderr",
          "text": [
            "WARNING:tensorflow:Early stopping conditioned on metric `mae` which is not available. Available metrics are: loss,val_loss\n"
          ]
        },
        {
          "output_type": "stream",
          "name": "stdout",
          "text": [
            "1/1 - 0s - loss: 0.3359 - val_loss: 0.3604 - 126ms/epoch - 126ms/step\n",
            "Epoch 9/100\n"
          ]
        },
        {
          "output_type": "stream",
          "name": "stderr",
          "text": [
            "WARNING:tensorflow:Early stopping conditioned on metric `mae` which is not available. Available metrics are: loss,val_loss\n"
          ]
        },
        {
          "output_type": "stream",
          "name": "stdout",
          "text": [
            "1/1 - 0s - loss: 0.3315 - val_loss: 0.3555 - 113ms/epoch - 113ms/step\n",
            "Epoch 10/100\n"
          ]
        },
        {
          "output_type": "stream",
          "name": "stderr",
          "text": [
            "WARNING:tensorflow:Early stopping conditioned on metric `mae` which is not available. Available metrics are: loss,val_loss\n"
          ]
        },
        {
          "output_type": "stream",
          "name": "stdout",
          "text": [
            "1/1 - 0s - loss: 0.3272 - val_loss: 0.3507 - 124ms/epoch - 124ms/step\n",
            "Epoch 11/100\n"
          ]
        },
        {
          "output_type": "stream",
          "name": "stderr",
          "text": [
            "WARNING:tensorflow:Early stopping conditioned on metric `mae` which is not available. Available metrics are: loss,val_loss\n"
          ]
        },
        {
          "output_type": "stream",
          "name": "stdout",
          "text": [
            "1/1 - 0s - loss: 0.3229 - val_loss: 0.3460 - 119ms/epoch - 119ms/step\n",
            "Epoch 12/100\n"
          ]
        },
        {
          "output_type": "stream",
          "name": "stderr",
          "text": [
            "WARNING:tensorflow:Early stopping conditioned on metric `mae` which is not available. Available metrics are: loss,val_loss\n"
          ]
        },
        {
          "output_type": "stream",
          "name": "stdout",
          "text": [
            "1/1 - 0s - loss: 0.3186 - val_loss: 0.3413 - 120ms/epoch - 120ms/step\n",
            "Epoch 13/100\n"
          ]
        },
        {
          "output_type": "stream",
          "name": "stderr",
          "text": [
            "WARNING:tensorflow:Early stopping conditioned on metric `mae` which is not available. Available metrics are: loss,val_loss\n"
          ]
        },
        {
          "output_type": "stream",
          "name": "stdout",
          "text": [
            "1/1 - 0s - loss: 0.3145 - val_loss: 0.3366 - 127ms/epoch - 127ms/step\n",
            "Epoch 14/100\n"
          ]
        },
        {
          "output_type": "stream",
          "name": "stderr",
          "text": [
            "WARNING:tensorflow:Early stopping conditioned on metric `mae` which is not available. Available metrics are: loss,val_loss\n"
          ]
        },
        {
          "output_type": "stream",
          "name": "stdout",
          "text": [
            "1/1 - 0s - loss: 0.3103 - val_loss: 0.3320 - 115ms/epoch - 115ms/step\n",
            "Epoch 15/100\n"
          ]
        },
        {
          "output_type": "stream",
          "name": "stderr",
          "text": [
            "WARNING:tensorflow:Early stopping conditioned on metric `mae` which is not available. Available metrics are: loss,val_loss\n"
          ]
        },
        {
          "output_type": "stream",
          "name": "stdout",
          "text": [
            "1/1 - 0s - loss: 0.3062 - val_loss: 0.3275 - 124ms/epoch - 124ms/step\n",
            "Epoch 16/100\n"
          ]
        },
        {
          "output_type": "stream",
          "name": "stderr",
          "text": [
            "WARNING:tensorflow:Early stopping conditioned on metric `mae` which is not available. Available metrics are: loss,val_loss\n"
          ]
        },
        {
          "output_type": "stream",
          "name": "stdout",
          "text": [
            "1/1 - 0s - loss: 0.3022 - val_loss: 0.3230 - 117ms/epoch - 117ms/step\n",
            "Epoch 17/100\n"
          ]
        },
        {
          "output_type": "stream",
          "name": "stderr",
          "text": [
            "WARNING:tensorflow:Early stopping conditioned on metric `mae` which is not available. Available metrics are: loss,val_loss\n"
          ]
        },
        {
          "output_type": "stream",
          "name": "stdout",
          "text": [
            "1/1 - 0s - loss: 0.2982 - val_loss: 0.3185 - 115ms/epoch - 115ms/step\n",
            "Epoch 18/100\n"
          ]
        },
        {
          "output_type": "stream",
          "name": "stderr",
          "text": [
            "WARNING:tensorflow:Early stopping conditioned on metric `mae` which is not available. Available metrics are: loss,val_loss\n"
          ]
        },
        {
          "output_type": "stream",
          "name": "stdout",
          "text": [
            "1/1 - 0s - loss: 0.2943 - val_loss: 0.3141 - 124ms/epoch - 124ms/step\n",
            "Epoch 19/100\n"
          ]
        },
        {
          "output_type": "stream",
          "name": "stderr",
          "text": [
            "WARNING:tensorflow:Early stopping conditioned on metric `mae` which is not available. Available metrics are: loss,val_loss\n"
          ]
        },
        {
          "output_type": "stream",
          "name": "stdout",
          "text": [
            "1/1 - 0s - loss: 0.2904 - val_loss: 0.3097 - 111ms/epoch - 111ms/step\n",
            "Epoch 20/100\n"
          ]
        },
        {
          "output_type": "stream",
          "name": "stderr",
          "text": [
            "WARNING:tensorflow:Early stopping conditioned on metric `mae` which is not available. Available metrics are: loss,val_loss\n"
          ]
        },
        {
          "output_type": "stream",
          "name": "stdout",
          "text": [
            "1/1 - 0s - loss: 0.2865 - val_loss: 0.3054 - 117ms/epoch - 117ms/step\n",
            "Epoch 21/100\n"
          ]
        },
        {
          "output_type": "stream",
          "name": "stderr",
          "text": [
            "WARNING:tensorflow:Early stopping conditioned on metric `mae` which is not available. Available metrics are: loss,val_loss\n"
          ]
        },
        {
          "output_type": "stream",
          "name": "stdout",
          "text": [
            "1/1 - 0s - loss: 0.2827 - val_loss: 0.3010 - 109ms/epoch - 109ms/step\n",
            "Epoch 22/100\n"
          ]
        },
        {
          "output_type": "stream",
          "name": "stderr",
          "text": [
            "WARNING:tensorflow:Early stopping conditioned on metric `mae` which is not available. Available metrics are: loss,val_loss\n"
          ]
        },
        {
          "output_type": "stream",
          "name": "stdout",
          "text": [
            "1/1 - 0s - loss: 0.2789 - val_loss: 0.2968 - 122ms/epoch - 122ms/step\n",
            "Epoch 23/100\n"
          ]
        },
        {
          "output_type": "stream",
          "name": "stderr",
          "text": [
            "WARNING:tensorflow:Early stopping conditioned on metric `mae` which is not available. Available metrics are: loss,val_loss\n"
          ]
        },
        {
          "output_type": "stream",
          "name": "stdout",
          "text": [
            "1/1 - 0s - loss: 0.2751 - val_loss: 0.2925 - 111ms/epoch - 111ms/step\n",
            "Epoch 24/100\n"
          ]
        },
        {
          "output_type": "stream",
          "name": "stderr",
          "text": [
            "WARNING:tensorflow:Early stopping conditioned on metric `mae` which is not available. Available metrics are: loss,val_loss\n"
          ]
        },
        {
          "output_type": "stream",
          "name": "stdout",
          "text": [
            "1/1 - 0s - loss: 0.2714 - val_loss: 0.2883 - 119ms/epoch - 119ms/step\n",
            "Epoch 25/100\n"
          ]
        },
        {
          "output_type": "stream",
          "name": "stderr",
          "text": [
            "WARNING:tensorflow:Early stopping conditioned on metric `mae` which is not available. Available metrics are: loss,val_loss\n"
          ]
        },
        {
          "output_type": "stream",
          "name": "stdout",
          "text": [
            "1/1 - 0s - loss: 0.2677 - val_loss: 0.2841 - 115ms/epoch - 115ms/step\n",
            "Epoch 26/100\n"
          ]
        },
        {
          "output_type": "stream",
          "name": "stderr",
          "text": [
            "WARNING:tensorflow:Early stopping conditioned on metric `mae` which is not available. Available metrics are: loss,val_loss\n"
          ]
        },
        {
          "output_type": "stream",
          "name": "stdout",
          "text": [
            "1/1 - 0s - loss: 0.2641 - val_loss: 0.2800 - 112ms/epoch - 112ms/step\n",
            "Epoch 27/100\n"
          ]
        },
        {
          "output_type": "stream",
          "name": "stderr",
          "text": [
            "WARNING:tensorflow:Early stopping conditioned on metric `mae` which is not available. Available metrics are: loss,val_loss\n"
          ]
        },
        {
          "output_type": "stream",
          "name": "stdout",
          "text": [
            "1/1 - 0s - loss: 0.2605 - val_loss: 0.2758 - 119ms/epoch - 119ms/step\n",
            "Epoch 28/100\n"
          ]
        },
        {
          "output_type": "stream",
          "name": "stderr",
          "text": [
            "WARNING:tensorflow:Early stopping conditioned on metric `mae` which is not available. Available metrics are: loss,val_loss\n"
          ]
        },
        {
          "output_type": "stream",
          "name": "stdout",
          "text": [
            "1/1 - 0s - loss: 0.2569 - val_loss: 0.2717 - 120ms/epoch - 120ms/step\n",
            "Epoch 29/100\n"
          ]
        },
        {
          "output_type": "stream",
          "name": "stderr",
          "text": [
            "WARNING:tensorflow:Early stopping conditioned on metric `mae` which is not available. Available metrics are: loss,val_loss\n"
          ]
        },
        {
          "output_type": "stream",
          "name": "stdout",
          "text": [
            "1/1 - 0s - loss: 0.2533 - val_loss: 0.2676 - 116ms/epoch - 116ms/step\n",
            "Epoch 30/100\n"
          ]
        },
        {
          "output_type": "stream",
          "name": "stderr",
          "text": [
            "WARNING:tensorflow:Early stopping conditioned on metric `mae` which is not available. Available metrics are: loss,val_loss\n"
          ]
        },
        {
          "output_type": "stream",
          "name": "stdout",
          "text": [
            "1/1 - 0s - loss: 0.2497 - val_loss: 0.2635 - 119ms/epoch - 119ms/step\n",
            "Epoch 31/100\n"
          ]
        },
        {
          "output_type": "stream",
          "name": "stderr",
          "text": [
            "WARNING:tensorflow:Early stopping conditioned on metric `mae` which is not available. Available metrics are: loss,val_loss\n"
          ]
        },
        {
          "output_type": "stream",
          "name": "stdout",
          "text": [
            "1/1 - 0s - loss: 0.2462 - val_loss: 0.2594 - 134ms/epoch - 134ms/step\n",
            "Epoch 32/100\n"
          ]
        },
        {
          "output_type": "stream",
          "name": "stderr",
          "text": [
            "WARNING:tensorflow:Early stopping conditioned on metric `mae` which is not available. Available metrics are: loss,val_loss\n"
          ]
        },
        {
          "output_type": "stream",
          "name": "stdout",
          "text": [
            "1/1 - 0s - loss: 0.2426 - val_loss: 0.2553 - 115ms/epoch - 115ms/step\n",
            "Epoch 33/100\n"
          ]
        },
        {
          "output_type": "stream",
          "name": "stderr",
          "text": [
            "WARNING:tensorflow:Early stopping conditioned on metric `mae` which is not available. Available metrics are: loss,val_loss\n"
          ]
        },
        {
          "output_type": "stream",
          "name": "stdout",
          "text": [
            "1/1 - 0s - loss: 0.2391 - val_loss: 0.2513 - 115ms/epoch - 115ms/step\n",
            "Epoch 34/100\n"
          ]
        },
        {
          "output_type": "stream",
          "name": "stderr",
          "text": [
            "WARNING:tensorflow:Early stopping conditioned on metric `mae` which is not available. Available metrics are: loss,val_loss\n"
          ]
        },
        {
          "output_type": "stream",
          "name": "stdout",
          "text": [
            "1/1 - 0s - loss: 0.2356 - val_loss: 0.2472 - 114ms/epoch - 114ms/step\n",
            "Epoch 35/100\n"
          ]
        },
        {
          "output_type": "stream",
          "name": "stderr",
          "text": [
            "WARNING:tensorflow:Early stopping conditioned on metric `mae` which is not available. Available metrics are: loss,val_loss\n"
          ]
        },
        {
          "output_type": "stream",
          "name": "stdout",
          "text": [
            "1/1 - 0s - loss: 0.2321 - val_loss: 0.2431 - 131ms/epoch - 131ms/step\n",
            "Epoch 36/100\n"
          ]
        },
        {
          "output_type": "stream",
          "name": "stderr",
          "text": [
            "WARNING:tensorflow:Early stopping conditioned on metric `mae` which is not available. Available metrics are: loss,val_loss\n"
          ]
        },
        {
          "output_type": "stream",
          "name": "stdout",
          "text": [
            "1/1 - 0s - loss: 0.2286 - val_loss: 0.2390 - 110ms/epoch - 110ms/step\n",
            "Epoch 37/100\n"
          ]
        },
        {
          "output_type": "stream",
          "name": "stderr",
          "text": [
            "WARNING:tensorflow:Early stopping conditioned on metric `mae` which is not available. Available metrics are: loss,val_loss\n"
          ]
        },
        {
          "output_type": "stream",
          "name": "stdout",
          "text": [
            "1/1 - 0s - loss: 0.2252 - val_loss: 0.2349 - 123ms/epoch - 123ms/step\n",
            "Epoch 38/100\n"
          ]
        },
        {
          "output_type": "stream",
          "name": "stderr",
          "text": [
            "WARNING:tensorflow:Early stopping conditioned on metric `mae` which is not available. Available metrics are: loss,val_loss\n"
          ]
        },
        {
          "output_type": "stream",
          "name": "stdout",
          "text": [
            "1/1 - 0s - loss: 0.2217 - val_loss: 0.2308 - 118ms/epoch - 118ms/step\n",
            "Epoch 39/100\n"
          ]
        },
        {
          "output_type": "stream",
          "name": "stderr",
          "text": [
            "WARNING:tensorflow:Early stopping conditioned on metric `mae` which is not available. Available metrics are: loss,val_loss\n"
          ]
        },
        {
          "output_type": "stream",
          "name": "stdout",
          "text": [
            "1/1 - 0s - loss: 0.2182 - val_loss: 0.2267 - 119ms/epoch - 119ms/step\n",
            "Epoch 40/100\n"
          ]
        },
        {
          "output_type": "stream",
          "name": "stderr",
          "text": [
            "WARNING:tensorflow:Early stopping conditioned on metric `mae` which is not available. Available metrics are: loss,val_loss\n"
          ]
        },
        {
          "output_type": "stream",
          "name": "stdout",
          "text": [
            "1/1 - 0s - loss: 0.2147 - val_loss: 0.2225 - 118ms/epoch - 118ms/step\n",
            "Epoch 41/100\n"
          ]
        },
        {
          "output_type": "stream",
          "name": "stderr",
          "text": [
            "WARNING:tensorflow:Early stopping conditioned on metric `mae` which is not available. Available metrics are: loss,val_loss\n"
          ]
        },
        {
          "output_type": "stream",
          "name": "stdout",
          "text": [
            "1/1 - 0s - loss: 0.2111 - val_loss: 0.2183 - 117ms/epoch - 117ms/step\n",
            "Epoch 42/100\n"
          ]
        },
        {
          "output_type": "stream",
          "name": "stderr",
          "text": [
            "WARNING:tensorflow:Early stopping conditioned on metric `mae` which is not available. Available metrics are: loss,val_loss\n"
          ]
        },
        {
          "output_type": "stream",
          "name": "stdout",
          "text": [
            "1/1 - 0s - loss: 0.2076 - val_loss: 0.2141 - 113ms/epoch - 113ms/step\n",
            "Epoch 43/100\n"
          ]
        },
        {
          "output_type": "stream",
          "name": "stderr",
          "text": [
            "WARNING:tensorflow:Early stopping conditioned on metric `mae` which is not available. Available metrics are: loss,val_loss\n"
          ]
        },
        {
          "output_type": "stream",
          "name": "stdout",
          "text": [
            "1/1 - 0s - loss: 0.2041 - val_loss: 0.2099 - 123ms/epoch - 123ms/step\n",
            "Epoch 44/100\n"
          ]
        },
        {
          "output_type": "stream",
          "name": "stderr",
          "text": [
            "WARNING:tensorflow:Early stopping conditioned on metric `mae` which is not available. Available metrics are: loss,val_loss\n"
          ]
        },
        {
          "output_type": "stream",
          "name": "stdout",
          "text": [
            "1/1 - 0s - loss: 0.2005 - val_loss: 0.2056 - 118ms/epoch - 118ms/step\n",
            "Epoch 45/100\n"
          ]
        },
        {
          "output_type": "stream",
          "name": "stderr",
          "text": [
            "WARNING:tensorflow:Early stopping conditioned on metric `mae` which is not available. Available metrics are: loss,val_loss\n"
          ]
        },
        {
          "output_type": "stream",
          "name": "stdout",
          "text": [
            "1/1 - 0s - loss: 0.1969 - val_loss: 0.2013 - 132ms/epoch - 132ms/step\n",
            "Epoch 46/100\n"
          ]
        },
        {
          "output_type": "stream",
          "name": "stderr",
          "text": [
            "WARNING:tensorflow:Early stopping conditioned on metric `mae` which is not available. Available metrics are: loss,val_loss\n"
          ]
        },
        {
          "output_type": "stream",
          "name": "stdout",
          "text": [
            "1/1 - 0s - loss: 0.1933 - val_loss: 0.1970 - 115ms/epoch - 115ms/step\n",
            "Epoch 47/100\n"
          ]
        },
        {
          "output_type": "stream",
          "name": "stderr",
          "text": [
            "WARNING:tensorflow:Early stopping conditioned on metric `mae` which is not available. Available metrics are: loss,val_loss\n"
          ]
        },
        {
          "output_type": "stream",
          "name": "stdout",
          "text": [
            "1/1 - 0s - loss: 0.1896 - val_loss: 0.1926 - 115ms/epoch - 115ms/step\n",
            "Epoch 48/100\n"
          ]
        },
        {
          "output_type": "stream",
          "name": "stderr",
          "text": [
            "WARNING:tensorflow:Early stopping conditioned on metric `mae` which is not available. Available metrics are: loss,val_loss\n"
          ]
        },
        {
          "output_type": "stream",
          "name": "stdout",
          "text": [
            "1/1 - 0s - loss: 0.1859 - val_loss: 0.1881 - 131ms/epoch - 131ms/step\n",
            "Epoch 49/100\n"
          ]
        },
        {
          "output_type": "stream",
          "name": "stderr",
          "text": [
            "WARNING:tensorflow:Early stopping conditioned on metric `mae` which is not available. Available metrics are: loss,val_loss\n"
          ]
        },
        {
          "output_type": "stream",
          "name": "stdout",
          "text": [
            "1/1 - 0s - loss: 0.1821 - val_loss: 0.1837 - 117ms/epoch - 117ms/step\n",
            "Epoch 50/100\n"
          ]
        },
        {
          "output_type": "stream",
          "name": "stderr",
          "text": [
            "WARNING:tensorflow:Early stopping conditioned on metric `mae` which is not available. Available metrics are: loss,val_loss\n"
          ]
        },
        {
          "output_type": "stream",
          "name": "stdout",
          "text": [
            "1/1 - 0s - loss: 0.1783 - val_loss: 0.1792 - 116ms/epoch - 116ms/step\n",
            "Epoch 51/100\n"
          ]
        },
        {
          "output_type": "stream",
          "name": "stderr",
          "text": [
            "WARNING:tensorflow:Early stopping conditioned on metric `mae` which is not available. Available metrics are: loss,val_loss\n"
          ]
        },
        {
          "output_type": "stream",
          "name": "stdout",
          "text": [
            "1/1 - 0s - loss: 0.1745 - val_loss: 0.1746 - 126ms/epoch - 126ms/step\n",
            "Epoch 52/100\n"
          ]
        },
        {
          "output_type": "stream",
          "name": "stderr",
          "text": [
            "WARNING:tensorflow:Early stopping conditioned on metric `mae` which is not available. Available metrics are: loss,val_loss\n"
          ]
        },
        {
          "output_type": "stream",
          "name": "stdout",
          "text": [
            "1/1 - 0s - loss: 0.1706 - val_loss: 0.1700 - 118ms/epoch - 118ms/step\n",
            "Epoch 53/100\n"
          ]
        },
        {
          "output_type": "stream",
          "name": "stderr",
          "text": [
            "WARNING:tensorflow:Early stopping conditioned on metric `mae` which is not available. Available metrics are: loss,val_loss\n"
          ]
        },
        {
          "output_type": "stream",
          "name": "stdout",
          "text": [
            "1/1 - 0s - loss: 0.1666 - val_loss: 0.1654 - 117ms/epoch - 117ms/step\n",
            "Epoch 54/100\n"
          ]
        },
        {
          "output_type": "stream",
          "name": "stderr",
          "text": [
            "WARNING:tensorflow:Early stopping conditioned on metric `mae` which is not available. Available metrics are: loss,val_loss\n"
          ]
        },
        {
          "output_type": "stream",
          "name": "stdout",
          "text": [
            "1/1 - 0s - loss: 0.1626 - val_loss: 0.1608 - 117ms/epoch - 117ms/step\n",
            "Epoch 55/100\n"
          ]
        },
        {
          "output_type": "stream",
          "name": "stderr",
          "text": [
            "WARNING:tensorflow:Early stopping conditioned on metric `mae` which is not available. Available metrics are: loss,val_loss\n"
          ]
        },
        {
          "output_type": "stream",
          "name": "stdout",
          "text": [
            "1/1 - 0s - loss: 0.1586 - val_loss: 0.1562 - 113ms/epoch - 113ms/step\n",
            "Epoch 56/100\n"
          ]
        },
        {
          "output_type": "stream",
          "name": "stderr",
          "text": [
            "WARNING:tensorflow:Early stopping conditioned on metric `mae` which is not available. Available metrics are: loss,val_loss\n"
          ]
        },
        {
          "output_type": "stream",
          "name": "stdout",
          "text": [
            "1/1 - 0s - loss: 0.1545 - val_loss: 0.1517 - 111ms/epoch - 111ms/step\n",
            "Epoch 57/100\n"
          ]
        },
        {
          "output_type": "stream",
          "name": "stderr",
          "text": [
            "WARNING:tensorflow:Early stopping conditioned on metric `mae` which is not available. Available metrics are: loss,val_loss\n"
          ]
        },
        {
          "output_type": "stream",
          "name": "stdout",
          "text": [
            "1/1 - 0s - loss: 0.1504 - val_loss: 0.1471 - 114ms/epoch - 114ms/step\n",
            "Epoch 58/100\n"
          ]
        },
        {
          "output_type": "stream",
          "name": "stderr",
          "text": [
            "WARNING:tensorflow:Early stopping conditioned on metric `mae` which is not available. Available metrics are: loss,val_loss\n"
          ]
        },
        {
          "output_type": "stream",
          "name": "stdout",
          "text": [
            "1/1 - 0s - loss: 0.1463 - val_loss: 0.1427 - 114ms/epoch - 114ms/step\n",
            "Epoch 59/100\n"
          ]
        },
        {
          "output_type": "stream",
          "name": "stderr",
          "text": [
            "WARNING:tensorflow:Early stopping conditioned on metric `mae` which is not available. Available metrics are: loss,val_loss\n"
          ]
        },
        {
          "output_type": "stream",
          "name": "stdout",
          "text": [
            "1/1 - 0s - loss: 0.1421 - val_loss: 0.1383 - 112ms/epoch - 112ms/step\n",
            "Epoch 60/100\n"
          ]
        },
        {
          "output_type": "stream",
          "name": "stderr",
          "text": [
            "WARNING:tensorflow:Early stopping conditioned on metric `mae` which is not available. Available metrics are: loss,val_loss\n"
          ]
        },
        {
          "output_type": "stream",
          "name": "stdout",
          "text": [
            "1/1 - 0s - loss: 0.1380 - val_loss: 0.1341 - 133ms/epoch - 133ms/step\n",
            "Epoch 61/100\n"
          ]
        },
        {
          "output_type": "stream",
          "name": "stderr",
          "text": [
            "WARNING:tensorflow:Early stopping conditioned on metric `mae` which is not available. Available metrics are: loss,val_loss\n"
          ]
        },
        {
          "output_type": "stream",
          "name": "stdout",
          "text": [
            "1/1 - 0s - loss: 0.1340 - val_loss: 0.1301 - 119ms/epoch - 119ms/step\n",
            "Epoch 62/100\n"
          ]
        },
        {
          "output_type": "stream",
          "name": "stderr",
          "text": [
            "WARNING:tensorflow:Early stopping conditioned on metric `mae` which is not available. Available metrics are: loss,val_loss\n"
          ]
        },
        {
          "output_type": "stream",
          "name": "stdout",
          "text": [
            "1/1 - 0s - loss: 0.1301 - val_loss: 0.1262 - 116ms/epoch - 116ms/step\n",
            "Epoch 63/100\n"
          ]
        },
        {
          "output_type": "stream",
          "name": "stderr",
          "text": [
            "WARNING:tensorflow:Early stopping conditioned on metric `mae` which is not available. Available metrics are: loss,val_loss\n"
          ]
        },
        {
          "output_type": "stream",
          "name": "stdout",
          "text": [
            "1/1 - 0s - loss: 0.1263 - val_loss: 0.1227 - 110ms/epoch - 110ms/step\n",
            "Epoch 64/100\n"
          ]
        },
        {
          "output_type": "stream",
          "name": "stderr",
          "text": [
            "WARNING:tensorflow:Early stopping conditioned on metric `mae` which is not available. Available metrics are: loss,val_loss\n"
          ]
        },
        {
          "output_type": "stream",
          "name": "stdout",
          "text": [
            "1/1 - 0s - loss: 0.1227 - val_loss: 0.1194 - 116ms/epoch - 116ms/step\n",
            "Epoch 65/100\n"
          ]
        },
        {
          "output_type": "stream",
          "name": "stderr",
          "text": [
            "WARNING:tensorflow:Early stopping conditioned on metric `mae` which is not available. Available metrics are: loss,val_loss\n"
          ]
        },
        {
          "output_type": "stream",
          "name": "stdout",
          "text": [
            "1/1 - 0s - loss: 0.1193 - val_loss: 0.1164 - 118ms/epoch - 118ms/step\n",
            "Epoch 66/100\n"
          ]
        },
        {
          "output_type": "stream",
          "name": "stderr",
          "text": [
            "WARNING:tensorflow:Early stopping conditioned on metric `mae` which is not available. Available metrics are: loss,val_loss\n"
          ]
        },
        {
          "output_type": "stream",
          "name": "stdout",
          "text": [
            "1/1 - 0s - loss: 0.1162 - val_loss: 0.1138 - 116ms/epoch - 116ms/step\n",
            "Epoch 67/100\n"
          ]
        },
        {
          "output_type": "stream",
          "name": "stderr",
          "text": [
            "WARNING:tensorflow:Early stopping conditioned on metric `mae` which is not available. Available metrics are: loss,val_loss\n"
          ]
        },
        {
          "output_type": "stream",
          "name": "stdout",
          "text": [
            "1/1 - 0s - loss: 0.1135 - val_loss: 0.1114 - 118ms/epoch - 118ms/step\n",
            "Epoch 68/100\n"
          ]
        },
        {
          "output_type": "stream",
          "name": "stderr",
          "text": [
            "WARNING:tensorflow:Early stopping conditioned on metric `mae` which is not available. Available metrics are: loss,val_loss\n"
          ]
        },
        {
          "output_type": "stream",
          "name": "stdout",
          "text": [
            "1/1 - 0s - loss: 0.1110 - val_loss: 0.1093 - 131ms/epoch - 131ms/step\n",
            "Epoch 69/100\n"
          ]
        },
        {
          "output_type": "stream",
          "name": "stderr",
          "text": [
            "WARNING:tensorflow:Early stopping conditioned on metric `mae` which is not available. Available metrics are: loss,val_loss\n"
          ]
        },
        {
          "output_type": "stream",
          "name": "stdout",
          "text": [
            "1/1 - 0s - loss: 0.1088 - val_loss: 0.1074 - 110ms/epoch - 110ms/step\n",
            "Epoch 70/100\n"
          ]
        },
        {
          "output_type": "stream",
          "name": "stderr",
          "text": [
            "WARNING:tensorflow:Early stopping conditioned on metric `mae` which is not available. Available metrics are: loss,val_loss\n"
          ]
        },
        {
          "output_type": "stream",
          "name": "stdout",
          "text": [
            "1/1 - 0s - loss: 0.1068 - val_loss: 0.1055 - 126ms/epoch - 126ms/step\n",
            "Epoch 71/100\n"
          ]
        },
        {
          "output_type": "stream",
          "name": "stderr",
          "text": [
            "WARNING:tensorflow:Early stopping conditioned on metric `mae` which is not available. Available metrics are: loss,val_loss\n"
          ]
        },
        {
          "output_type": "stream",
          "name": "stdout",
          "text": [
            "1/1 - 0s - loss: 0.1050 - val_loss: 0.1037 - 115ms/epoch - 115ms/step\n",
            "Epoch 72/100\n"
          ]
        },
        {
          "output_type": "stream",
          "name": "stderr",
          "text": [
            "WARNING:tensorflow:Early stopping conditioned on metric `mae` which is not available. Available metrics are: loss,val_loss\n"
          ]
        },
        {
          "output_type": "stream",
          "name": "stdout",
          "text": [
            "1/1 - 0s - loss: 0.1032 - val_loss: 0.1018 - 118ms/epoch - 118ms/step\n",
            "Epoch 73/100\n"
          ]
        },
        {
          "output_type": "stream",
          "name": "stderr",
          "text": [
            "WARNING:tensorflow:Early stopping conditioned on metric `mae` which is not available. Available metrics are: loss,val_loss\n"
          ]
        },
        {
          "output_type": "stream",
          "name": "stdout",
          "text": [
            "1/1 - 0s - loss: 0.1015 - val_loss: 0.0998 - 113ms/epoch - 113ms/step\n",
            "Epoch 74/100\n"
          ]
        },
        {
          "output_type": "stream",
          "name": "stderr",
          "text": [
            "WARNING:tensorflow:Early stopping conditioned on metric `mae` which is not available. Available metrics are: loss,val_loss\n"
          ]
        },
        {
          "output_type": "stream",
          "name": "stdout",
          "text": [
            "1/1 - 0s - loss: 0.0997 - val_loss: 0.0977 - 115ms/epoch - 115ms/step\n",
            "Epoch 75/100\n"
          ]
        },
        {
          "output_type": "stream",
          "name": "stderr",
          "text": [
            "WARNING:tensorflow:Early stopping conditioned on metric `mae` which is not available. Available metrics are: loss,val_loss\n"
          ]
        },
        {
          "output_type": "stream",
          "name": "stdout",
          "text": [
            "1/1 - 0s - loss: 0.0979 - val_loss: 0.0956 - 127ms/epoch - 127ms/step\n",
            "Epoch 76/100\n"
          ]
        },
        {
          "output_type": "stream",
          "name": "stderr",
          "text": [
            "WARNING:tensorflow:Early stopping conditioned on metric `mae` which is not available. Available metrics are: loss,val_loss\n"
          ]
        },
        {
          "output_type": "stream",
          "name": "stdout",
          "text": [
            "1/1 - 0s - loss: 0.0960 - val_loss: 0.0934 - 125ms/epoch - 125ms/step\n",
            "Epoch 77/100\n"
          ]
        },
        {
          "output_type": "stream",
          "name": "stderr",
          "text": [
            "WARNING:tensorflow:Early stopping conditioned on metric `mae` which is not available. Available metrics are: loss,val_loss\n"
          ]
        },
        {
          "output_type": "stream",
          "name": "stdout",
          "text": [
            "1/1 - 0s - loss: 0.0941 - val_loss: 0.0912 - 114ms/epoch - 114ms/step\n",
            "Epoch 78/100\n"
          ]
        },
        {
          "output_type": "stream",
          "name": "stderr",
          "text": [
            "WARNING:tensorflow:Early stopping conditioned on metric `mae` which is not available. Available metrics are: loss,val_loss\n"
          ]
        },
        {
          "output_type": "stream",
          "name": "stdout",
          "text": [
            "1/1 - 0s - loss: 0.0923 - val_loss: 0.0891 - 127ms/epoch - 127ms/step\n",
            "Epoch 79/100\n"
          ]
        },
        {
          "output_type": "stream",
          "name": "stderr",
          "text": [
            "WARNING:tensorflow:Early stopping conditioned on metric `mae` which is not available. Available metrics are: loss,val_loss\n"
          ]
        },
        {
          "output_type": "stream",
          "name": "stdout",
          "text": [
            "1/1 - 0s - loss: 0.0906 - val_loss: 0.0871 - 124ms/epoch - 124ms/step\n",
            "Epoch 80/100\n"
          ]
        },
        {
          "output_type": "stream",
          "name": "stderr",
          "text": [
            "WARNING:tensorflow:Early stopping conditioned on metric `mae` which is not available. Available metrics are: loss,val_loss\n"
          ]
        },
        {
          "output_type": "stream",
          "name": "stdout",
          "text": [
            "1/1 - 0s - loss: 0.0890 - val_loss: 0.0852 - 124ms/epoch - 124ms/step\n",
            "Epoch 81/100\n"
          ]
        },
        {
          "output_type": "stream",
          "name": "stderr",
          "text": [
            "WARNING:tensorflow:Early stopping conditioned on metric `mae` which is not available. Available metrics are: loss,val_loss\n"
          ]
        },
        {
          "output_type": "stream",
          "name": "stdout",
          "text": [
            "1/1 - 0s - loss: 0.0876 - val_loss: 0.0835 - 118ms/epoch - 118ms/step\n",
            "Epoch 82/100\n"
          ]
        },
        {
          "output_type": "stream",
          "name": "stderr",
          "text": [
            "WARNING:tensorflow:Early stopping conditioned on metric `mae` which is not available. Available metrics are: loss,val_loss\n"
          ]
        },
        {
          "output_type": "stream",
          "name": "stdout",
          "text": [
            "1/1 - 0s - loss: 0.0862 - val_loss: 0.0819 - 109ms/epoch - 109ms/step\n",
            "Epoch 83/100\n"
          ]
        },
        {
          "output_type": "stream",
          "name": "stderr",
          "text": [
            "WARNING:tensorflow:Early stopping conditioned on metric `mae` which is not available. Available metrics are: loss,val_loss\n"
          ]
        },
        {
          "output_type": "stream",
          "name": "stdout",
          "text": [
            "1/1 - 0s - loss: 0.0850 - val_loss: 0.0805 - 119ms/epoch - 119ms/step\n",
            "Epoch 84/100\n"
          ]
        },
        {
          "output_type": "stream",
          "name": "stderr",
          "text": [
            "WARNING:tensorflow:Early stopping conditioned on metric `mae` which is not available. Available metrics are: loss,val_loss\n"
          ]
        },
        {
          "output_type": "stream",
          "name": "stdout",
          "text": [
            "1/1 - 0s - loss: 0.0839 - val_loss: 0.0792 - 121ms/epoch - 121ms/step\n",
            "Epoch 85/100\n"
          ]
        },
        {
          "output_type": "stream",
          "name": "stderr",
          "text": [
            "WARNING:tensorflow:Early stopping conditioned on metric `mae` which is not available. Available metrics are: loss,val_loss\n"
          ]
        },
        {
          "output_type": "stream",
          "name": "stdout",
          "text": [
            "1/1 - 0s - loss: 0.0829 - val_loss: 0.0780 - 127ms/epoch - 127ms/step\n",
            "Epoch 86/100\n"
          ]
        },
        {
          "output_type": "stream",
          "name": "stderr",
          "text": [
            "WARNING:tensorflow:Early stopping conditioned on metric `mae` which is not available. Available metrics are: loss,val_loss\n"
          ]
        },
        {
          "output_type": "stream",
          "name": "stdout",
          "text": [
            "1/1 - 0s - loss: 0.0820 - val_loss: 0.0770 - 119ms/epoch - 119ms/step\n",
            "Epoch 87/100\n"
          ]
        },
        {
          "output_type": "stream",
          "name": "stderr",
          "text": [
            "WARNING:tensorflow:Early stopping conditioned on metric `mae` which is not available. Available metrics are: loss,val_loss\n"
          ]
        },
        {
          "output_type": "stream",
          "name": "stdout",
          "text": [
            "1/1 - 0s - loss: 0.0811 - val_loss: 0.0760 - 120ms/epoch - 120ms/step\n",
            "Epoch 88/100\n"
          ]
        },
        {
          "output_type": "stream",
          "name": "stderr",
          "text": [
            "WARNING:tensorflow:Early stopping conditioned on metric `mae` which is not available. Available metrics are: loss,val_loss\n"
          ]
        },
        {
          "output_type": "stream",
          "name": "stdout",
          "text": [
            "1/1 - 0s - loss: 0.0803 - val_loss: 0.0751 - 115ms/epoch - 115ms/step\n",
            "Epoch 89/100\n"
          ]
        },
        {
          "output_type": "stream",
          "name": "stderr",
          "text": [
            "WARNING:tensorflow:Early stopping conditioned on metric `mae` which is not available. Available metrics are: loss,val_loss\n"
          ]
        },
        {
          "output_type": "stream",
          "name": "stdout",
          "text": [
            "1/1 - 0s - loss: 0.0795 - val_loss: 0.0743 - 116ms/epoch - 116ms/step\n",
            "Epoch 90/100\n"
          ]
        },
        {
          "output_type": "stream",
          "name": "stderr",
          "text": [
            "WARNING:tensorflow:Early stopping conditioned on metric `mae` which is not available. Available metrics are: loss,val_loss\n"
          ]
        },
        {
          "output_type": "stream",
          "name": "stdout",
          "text": [
            "1/1 - 0s - loss: 0.0787 - val_loss: 0.0736 - 117ms/epoch - 117ms/step\n",
            "Epoch 91/100\n"
          ]
        },
        {
          "output_type": "stream",
          "name": "stderr",
          "text": [
            "WARNING:tensorflow:Early stopping conditioned on metric `mae` which is not available. Available metrics are: loss,val_loss\n"
          ]
        },
        {
          "output_type": "stream",
          "name": "stdout",
          "text": [
            "1/1 - 0s - loss: 0.0779 - val_loss: 0.0729 - 116ms/epoch - 116ms/step\n",
            "Epoch 92/100\n"
          ]
        },
        {
          "output_type": "stream",
          "name": "stderr",
          "text": [
            "WARNING:tensorflow:Early stopping conditioned on metric `mae` which is not available. Available metrics are: loss,val_loss\n"
          ]
        },
        {
          "output_type": "stream",
          "name": "stdout",
          "text": [
            "1/1 - 0s - loss: 0.0772 - val_loss: 0.0723 - 117ms/epoch - 117ms/step\n",
            "Epoch 93/100\n"
          ]
        },
        {
          "output_type": "stream",
          "name": "stderr",
          "text": [
            "WARNING:tensorflow:Early stopping conditioned on metric `mae` which is not available. Available metrics are: loss,val_loss\n"
          ]
        },
        {
          "output_type": "stream",
          "name": "stdout",
          "text": [
            "1/1 - 0s - loss: 0.0765 - val_loss: 0.0718 - 131ms/epoch - 131ms/step\n",
            "Epoch 94/100\n"
          ]
        },
        {
          "output_type": "stream",
          "name": "stderr",
          "text": [
            "WARNING:tensorflow:Early stopping conditioned on metric `mae` which is not available. Available metrics are: loss,val_loss\n"
          ]
        },
        {
          "output_type": "stream",
          "name": "stdout",
          "text": [
            "1/1 - 0s - loss: 0.0758 - val_loss: 0.0714 - 114ms/epoch - 114ms/step\n",
            "Epoch 95/100\n"
          ]
        },
        {
          "output_type": "stream",
          "name": "stderr",
          "text": [
            "WARNING:tensorflow:Early stopping conditioned on metric `mae` which is not available. Available metrics are: loss,val_loss\n"
          ]
        },
        {
          "output_type": "stream",
          "name": "stdout",
          "text": [
            "1/1 - 0s - loss: 0.0753 - val_loss: 0.0710 - 119ms/epoch - 119ms/step\n",
            "Epoch 96/100\n"
          ]
        },
        {
          "output_type": "stream",
          "name": "stderr",
          "text": [
            "WARNING:tensorflow:Early stopping conditioned on metric `mae` which is not available. Available metrics are: loss,val_loss\n"
          ]
        },
        {
          "output_type": "stream",
          "name": "stdout",
          "text": [
            "1/1 - 0s - loss: 0.0747 - val_loss: 0.0707 - 115ms/epoch - 115ms/step\n",
            "Epoch 97/100\n"
          ]
        },
        {
          "output_type": "stream",
          "name": "stderr",
          "text": [
            "WARNING:tensorflow:Early stopping conditioned on metric `mae` which is not available. Available metrics are: loss,val_loss\n"
          ]
        },
        {
          "output_type": "stream",
          "name": "stdout",
          "text": [
            "1/1 - 0s - loss: 0.0742 - val_loss: 0.0703 - 127ms/epoch - 127ms/step\n",
            "Epoch 98/100\n"
          ]
        },
        {
          "output_type": "stream",
          "name": "stderr",
          "text": [
            "WARNING:tensorflow:Early stopping conditioned on metric `mae` which is not available. Available metrics are: loss,val_loss\n"
          ]
        },
        {
          "output_type": "stream",
          "name": "stdout",
          "text": [
            "1/1 - 0s - loss: 0.0738 - val_loss: 0.0700 - 116ms/epoch - 116ms/step\n",
            "Epoch 99/100\n"
          ]
        },
        {
          "output_type": "stream",
          "name": "stderr",
          "text": [
            "WARNING:tensorflow:Early stopping conditioned on metric `mae` which is not available. Available metrics are: loss,val_loss\n"
          ]
        },
        {
          "output_type": "stream",
          "name": "stdout",
          "text": [
            "1/1 - 0s - loss: 0.0733 - val_loss: 0.0697 - 116ms/epoch - 116ms/step\n",
            "Epoch 100/100\n"
          ]
        },
        {
          "output_type": "stream",
          "name": "stderr",
          "text": [
            "WARNING:tensorflow:Early stopping conditioned on metric `mae` which is not available. Available metrics are: loss,val_loss\n"
          ]
        },
        {
          "output_type": "stream",
          "name": "stdout",
          "text": [
            "1/1 - 0s - loss: 0.0729 - val_loss: 0.0694 - 125ms/epoch - 125ms/step\n"
          ]
        }
      ]
    },
    {
      "cell_type": "code",
      "source": [
        "# Plot history (also known as a loss curve)\n",
        "import matplotlib.pyplot as plt\n",
        "pd.DataFrame(history.history).plot()\n",
        "plt.ylabel(\"loss\")\n",
        "plt.xlabel(\"epochs\");"
      ],
      "metadata": {
        "id": "zGKbJXiRHv6w",
        "colab": {
          "base_uri": "https://localhost:8080/",
          "height": 279
        },
        "outputId": "1e3e8f19-6649-4adf-8247-f172ba3e201c"
      },
      "execution_count": 755,
      "outputs": [
        {
          "output_type": "display_data",
          "data": {
            "text/plain": [
              "<Figure size 432x288 with 1 Axes>"
            ],
            "image/png": "[encoded data removed]"
          },
          "metadata": {
            "needs_background": "light"
          }
        }
      ]
    },
    {
      "cell_type": "markdown",
      "source": [
        "predict the vehicle for a ride by including the vehicle information in the input and target data and leaving a placeholder (e.g. zero) in place of the vehicle information at the time of prediction"
      ],
      "metadata": {
        "id": "WJtjtRdq2L7q"
      }
    },
    {
      "cell_type": "code",
      "source": [
        "pred = model.predict([input, target])"
      ],
      "metadata": {
        "id": "NVYCQcnRIKff",
        "colab": {
          "base_uri": "https://localhost:8080/"
        },
        "outputId": "f7a56f23-e20a-4bda-cc9c-b903781cdd10"
      },
      "execution_count": 756,
      "outputs": [
        {
          "output_type": "stream",
          "name": "stdout",
          "text": [
            "1/1 [==============================] - 1s 860ms/step\n"
          ]
        }
      ]
    },
    {
      "cell_type": "code",
      "source": [
        "pred[0][0]"
      ],
      "metadata": {
        "id": "R7X9ecg3gMEa",
        "colab": {
          "base_uri": "https://localhost:8080/"
        },
        "outputId": "f41bf0bc-e62d-41c1-dc28-34baf6fe15da"
      },
      "execution_count": 757,
      "outputs": [
        {
          "output_type": "execute_result",
          "data": {
            "text/plain": [
              "array([ 0.385121,  0.20062 ,  0.097768, -0.028536,  0.080793, -0.450963,\n",
              "        0.283011,  0.231442, -0.393531,  0.317179,  0.171867,  0.092369],\n",
              "      dtype=float32)"
            ]
          },
          "metadata": {},
          "execution_count": 757
        }
      ]
    },
    {
      "cell_type": "code",
      "source": [
        "input[0][0]"
      ],
      "metadata": {
        "id": "dwujtM8gIa4T",
        "colab": {
          "base_uri": "https://localhost:8080/"
        },
        "outputId": "cd368dbd-8b50-4dd2-a1fd-a97803168afb"
      },
      "execution_count": 758,
      "outputs": [
        {
          "output_type": "execute_result",
          "data": {
            "text/plain": [
              "array([ 0.857143,  0.007597,  0.35    ,  0.051095,  0.666667, -0.989978,\n",
              "        0.848206,  0.702703, -0.989809,  0.847258,  0.695652,  0.775862])"
            ]
          },
          "metadata": {},
          "execution_count": 758
        }
      ]
    },
    {
      "cell_type": "markdown",
      "source": [
        "Look at a specific day"
      ],
      "metadata": {
        "id": "HwO2WrgPg-xn"
      }
    },
    {
      "cell_type": "code",
      "source": [
        "pred_report = pd.DataFrame(pred[0], columns=[\n",
        "'pred_space_type',\n",
        "'pred_billable_distance',\n",
        "'pred_run_name',\n",
        "'pred_rider.mediroutes_rider_id',\n",
        "'pred_pickup.event_location.zip',\n",
        "'pred_pickup.event_location.longitude',\n",
        "'pred_pickup.event_location.latitude',\n",
        "'pred_dropoff.event_location.zip',\n",
        "'pred_dropoff.event_location.longitude',\n",
        "'pred_dropoff.event_location.latitude',\n",
        "'pred_pickup_hour',\n",
        "'pred_pickup_minute'\n",
        "])"
      ],
      "metadata": {
        "id": "lFQwsRl7hqWI"
      },
      "execution_count": 759,
      "outputs": []
    },
    {
      "cell_type": "code",
      "source": [
        "pred_report.head()"
      ],
      "metadata": {
        "colab": {
          "base_uri": "https://localhost:8080/",
          "height": 270
        },
        "id": "QaNqnVdzk25r",
        "outputId": "8f1aa3b0-5721-4390-db66-79133441e8f0"
      },
      "execution_count": 760,
      "outputs": [
        {
          "output_type": "execute_result",
          "data": {
            "text/plain": [
              "   pred_space_type  pred_billable_distance  pred_run_name  \\\n",
              "0         0.385121                0.200620       0.097768   \n",
              "1         0.408647                0.110499       0.118090   \n",
              "2         0.418570                0.056199       0.158286   \n",
              "3         0.439595                0.013114       0.185103   \n",
              "4         0.449556               -0.003826       0.230327   \n",
              "\n",
              "   pred_rider.mediroutes_rider_id  pred_pickup.event_location.zip  \\\n",
              "0                       -0.028536                        0.080793   \n",
              "1                       -0.032597                        0.160766   \n",
              "2                       -0.018290                        0.252188   \n",
              "3                        0.017480                        0.315645   \n",
              "4                        0.025810                        0.396709   \n",
              "\n",
              "   pred_pickup.event_location.longitude  pred_pickup.event_location.latitude  \\\n",
              "0                             -0.450963                             0.283011   \n",
              "1                             -0.441736                             0.396322   \n",
              "2                             -0.444966                             0.478344   \n",
              "3                             -0.458012                             0.550783   \n",
              "4                             -0.492380                             0.597831   \n",
              "\n",
              "   pred_dropoff.event_location.zip  pred_dropoff.event_location.longitude  \\\n",
              "0                         0.231442                              -0.393531   \n",
              "1                         0.252114                              -0.462327   \n",
              "2                         0.249310                              -0.500038   \n",
              "3                         0.280956                              -0.513371   \n",
              "4                         0.299365                              -0.552316   \n",
              "\n",
              "   pred_dropoff.event_location.latitude  pred_pickup_hour  pred_pickup_minute  \n",
              "0                              0.317179          0.171867            0.092369  \n",
              "1                              0.377154          0.221748            0.099082  \n",
              "2                              0.426197          0.246697            0.106495  \n",
              "3                              0.458697          0.256616            0.129534  \n",
              "4                              0.522284          0.266864            0.130089  "
            ],
            "text/html": [
              "\n",
              "  <div id=\"df-5cfd3553-9cc6-4f27-a900-01d3f1d34df2\">\n",
              "    <div class=\"colab-df-container\">\n",
              "      <div>\n",
              "<style scoped>\n",
              "    .dataframe tbody tr th:only-of-type {\n",
              "        vertical-align: middle;\n",
              "    }\n",
              "\n",
              "    .dataframe tbody tr th {\n",
              "        vertical-align: top;\n",
              "    }\n",
              "\n",
              "    .dataframe thead th {\n",
              "        text-align: right;\n",
              "    }\n",
              "</style>\n",
              "<table border=\"1\" class=\"dataframe\">\n",
              "  <thead>\n",
              "    <tr style=\"text-align: right;\">\n",
              "      <th></th>\n",
              "      <th>pred_space_type</th>\n",
              "      <th>pred_billable_distance</th>\n",
              "      <th>pred_run_name</th>\n",
              "      <th>pred_rider.mediroutes_rider_id</th>\n",
              "      <th>pred_pickup.event_location.zip</th>\n",
              "      <th>pred_pickup.event_location.longitude</th>\n",
              "      <th>pred_pickup.event_location.latitude</th>\n",
              "      <th>pred_dropoff.event_location.zip</th>\n",
              "      <th>pred_dropoff.event_location.longitude</th>\n",
              "      <th>pred_dropoff.event_location.latitude</th>\n",
              "      <th>pred_pickup_hour</th>\n",
              "      <th>pred_pickup_minute</th>\n",
              "    </tr>\n",
              "  </thead>\n",
              "  <tbody>\n",
              "    <tr>\n",
              "      <th>0</th>\n",
              "      <td>0.385121</td>\n",
              "      <td>0.200620</td>\n",
              "      <td>0.097768</td>\n",
              "      <td>-0.028536</td>\n",
              "      <td>0.080793</td>\n",
              "      <td>-0.450963</td>\n",
              "      <td>0.283011</td>\n",
              "      <td>0.231442</td>\n",
              "      <td>-0.393531</td>\n",
              "      <td>0.317179</td>\n",
              "      <td>0.171867</td>\n",
              "      <td>0.092369</td>\n",
              "    </tr>\n",
              "    <tr>\n",
              "      <th>1</th>\n",
              "      <td>0.408647</td>\n",
              "      <td>0.110499</td>\n",
              "      <td>0.118090</td>\n",
              "      <td>-0.032597</td>\n",
              "      <td>0.160766</td>\n",
              "      <td>-0.441736</td>\n",
              "      <td>0.396322</td>\n",
              "      <td>0.252114</td>\n",
              "      <td>-0.462327</td>\n",
              "      <td>0.377154</td>\n",
              "      <td>0.221748</td>\n",
              "      <td>0.099082</td>\n",
              "    </tr>\n",
              "    <tr>\n",
              "      <th>2</th>\n",
              "      <td>0.418570</td>\n",
              "      <td>0.056199</td>\n",
              "      <td>0.158286</td>\n",
              "      <td>-0.018290</td>\n",
              "      <td>0.252188</td>\n",
              "      <td>-0.444966</td>\n",
              "      <td>0.478344</td>\n",
              "      <td>0.249310</td>\n",
              "      <td>-0.500038</td>\n",
              "      <td>0.426197</td>\n",
              "      <td>0.246697</td>\n",
              "      <td>0.106495</td>\n",
              "    </tr>\n",
              "    <tr>\n",
              "      <th>3</th>\n",
              "      <td>0.439595</td>\n",
              "      <td>0.013114</td>\n",
              "      <td>0.185103</td>\n",
              "      <td>0.017480</td>\n",
              "      <td>0.315645</td>\n",
              "      <td>-0.458012</td>\n",
              "      <td>0.550783</td>\n",
              "      <td>0.280956</td>\n",
              "      <td>-0.513371</td>\n",
              "      <td>0.458697</td>\n",
              "      <td>0.256616</td>\n",
              "      <td>0.129534</td>\n",
              "    </tr>\n",
              "    <tr>\n",
              "      <th>4</th>\n",
              "      <td>0.449556</td>\n",
              "      <td>-0.003826</td>\n",
              "      <td>0.230327</td>\n",
              "      <td>0.025810</td>\n",
              "      <td>0.396709</td>\n",
              "      <td>-0.492380</td>\n",
              "      <td>0.597831</td>\n",
              "      <td>0.299365</td>\n",
              "      <td>-0.552316</td>\n",
              "      <td>0.522284</td>\n",
              "      <td>0.266864</td>\n",
              "      <td>0.130089</td>\n",
              "    </tr>\n",
              "  </tbody>\n",
              "</table>\n",
              "</div>\n",
              "      <button class=\"colab-df-convert\" onclick=\"convertToInteractive('df-5cfd3553-9cc6-4f27-a900-01d3f1d34df2')\"\n",
              "              title=\"Convert this dataframe to an interactive table.\"\n",
              "              style=\"display:none;\">\n",
              "        \n",
              "  <svg xmlns=\"http://www.w3.org/2000/svg\" height=\"24px\"viewBox=\"0 0 24 24\"\n",
              "       width=\"24px\">\n",
              "    <path d=\"M0 0h24v24H0V0z\" fill=\"none\"/>\n",
              "    <path d=\"M18.56 5.44l.94 2.06.94-2.06 2.06-.94-2.06-.94-.94-2.06-.94 2.06-2.06.94zm-11 1L8.5 8.5l.94-2.06 2.06-.94-2.06-.94L8.5 2.5l-.94 2.06-2.06.94zm10 10l.94 2.06.94-2.06 2.06-.94-2.06-.94-.94-2.06-.94 2.06-2.06.94z\"/><path d=\"M17.41 7.96l-1.37-1.37c-.4-.4-.92-.59-1.43-.59-.52 0-1.04.2-1.43.59L10.3 9.45l-7.72 7.72c-.78.78-.78 2.05 0 2.83L4 21.41c.39.39.9.59 1.41.59.51 0 1.02-.2 1.41-.59l7.78-7.78 2.81-2.81c.8-.78.8-2.07 0-2.86zM5.41 20L4 18.59l7.72-7.72 1.47 1.35L5.41 20z\"/>\n",
              "  </svg>\n",
              "      </button>\n",
              "      \n",
              "  <style>\n",
              "    .colab-df-container {\n",
              "      display:flex;\n",
              "      flex-wrap:wrap;\n",
              "      gap: 12px;\n",
              "    }\n",
              "\n",
              "    .colab-df-convert {\n",
              "      background-color: #E8F0FE;\n",
              "      border: none;\n",
              "      border-radius: 50%;\n",
              "      cursor: pointer;\n",
              "      display: none;\n",
              "      fill: #1967D2;\n",
              "      height: 32px;\n",
              "      padding: 0 0 0 0;\n",
              "      width: 32px;\n",
              "    }\n",
              "\n",
              "    .colab-df-convert:hover {\n",
              "      background-color: #E2EBFA;\n",
              "      box-shadow: 0px 1px 2px rgba(60, 64, 67, 0.3), 0px 1px 3px 1px rgba(60, 64, 67, 0.15);\n",
              "      fill: #174EA6;\n",
              "    }\n",
              "\n",
              "    [theme=dark] .colab-df-convert {\n",
              "      background-color: #3B4455;\n",
              "      fill: #D2E3FC;\n",
              "    }\n",
              "\n",
              "    [theme=dark] .colab-df-convert:hover {\n",
              "      background-color: #434B5C;\n",
              "      box-shadow: 0px 1px 3px 1px rgba(0, 0, 0, 0.15);\n",
              "      filter: drop-shadow(0px 1px 2px rgba(0, 0, 0, 0.3));\n",
              "      fill: #FFFFFF;\n",
              "    }\n",
              "  </style>\n",
              "\n",
              "      <script>\n",
              "        const buttonEl =\n",
              "          document.querySelector('#df-5cfd3553-9cc6-4f27-a900-01d3f1d34df2 button.colab-df-convert');\n",
              "        buttonEl.style.display =\n",
              "          google.colab.kernel.accessAllowed ? 'block' : 'none';\n",
              "\n",
              "        async function convertToInteractive(key) {\n",
              "          const element = document.querySelector('#df-5cfd3553-9cc6-4f27-a900-01d3f1d34df2');\n",
              "          const dataTable =\n",
              "            await google.colab.kernel.invokeFunction('convertToInteractive',\n",
              "                                                     [key], {});\n",
              "          if (!dataTable) return;\n",
              "\n",
              "          const docLinkHtml = 'Like what you see? Visit the ' +\n",
              "            '<a target=\"_blank\" href=https://colab.research.google.com/notebooks/data_table.ipynb>data table notebook</a>'\n",
              "            + ' to learn more about interactive tables.';\n",
              "          element.innerHTML = '';\n",
              "          dataTable['output_type'] = 'display_data';\n",
              "          await google.colab.output.renderOutput(dataTable, element);\n",
              "          const docLink = document.createElement('div');\n",
              "          docLink.innerHTML = docLinkHtml;\n",
              "          element.appendChild(docLink);\n",
              "        }\n",
              "      </script>\n",
              "    </div>\n",
              "  </div>\n",
              "  "
            ]
          },
          "metadata": {},
          "execution_count": 760
        }
      ]
    },
    {
      "cell_type": "code",
      "source": [
        "target_report = pd.DataFrame(target[0], columns=[\n",
        "  'target_space_type',\n",
        "  'target_billable_distance',\n",
        "  'target_run_name',\n",
        "  'target_rider.mediroutes_rider_id',\n",
        "  'target_pickup.event_location.zip',\n",
        "  'target_pickup.event_location.longitude',\n",
        "  'target_pickup.event_location.latitude',\n",
        "  'target_dropoff.event_location.zip',\n",
        "  'target_dropoff.event_location.longitude',\n",
        "  'target_dropoff.event_location.latitude',\n",
        "  'target_pickup_hour',\n",
        "  'target_pickup_minute'\n",
        "])"
      ],
      "metadata": {
        "id": "ru5WoqWtlxw6"
      },
      "execution_count": 761,
      "outputs": []
    },
    {
      "cell_type": "code",
      "source": [
        "target_report.head()"
      ],
      "metadata": {
        "colab": {
          "base_uri": "https://localhost:8080/",
          "height": 270
        },
        "id": "BFj0B1EpmmU7",
        "outputId": "fc5466aa-9cb6-45e5-80ba-982445d9d3c5"
      },
      "execution_count": 762,
      "outputs": [
        {
          "output_type": "execute_result",
          "data": {
            "text/plain": [
              "   target_space_type  target_billable_distance  target_run_name  \\\n",
              "0           0.285714                  0.003228             0.20   \n",
              "1           0.857143                  0.012053             0.20   \n",
              "2           0.857143                  0.006394             0.20   \n",
              "3           0.285714                  0.011718             0.20   \n",
              "4           0.857143                  0.017380             0.25   \n",
              "\n",
              "   target_rider.mediroutes_rider_id  target_pickup.event_location.zip  \\\n",
              "0                          0.138686                          0.680556   \n",
              "1                          0.061314                          0.472222   \n",
              "2                          0.182482                          0.458333   \n",
              "3                          0.102190                          0.458333   \n",
              "4                          0.119708                          0.916667   \n",
              "\n",
              "   target_pickup.event_location.longitude  \\\n",
              "0                               -0.990954   \n",
              "1                               -0.991429   \n",
              "2                               -0.990922   \n",
              "3                               -0.990903   \n",
              "4                               -0.990598   \n",
              "\n",
              "   target_pickup.event_location.latitude  target_dropoff.event_location.zip  \\\n",
              "0                               0.847334                           0.797297   \n",
              "1                               0.847318                           0.121622   \n",
              "2                               0.846670                           0.797297   \n",
              "3                               0.846275                           0.662162   \n",
              "4                               0.849091                           0.797297   \n",
              "\n",
              "   target_dropoff.event_location.longitude  \\\n",
              "0                                -0.990703   \n",
              "1                                -0.991856   \n",
              "2                                -0.990674   \n",
              "3                                -0.990333   \n",
              "4                                -0.990656   \n",
              "\n",
              "   target_dropoff.event_location.latitude  target_pickup_hour  \\\n",
              "0                                0.847379            0.173913   \n",
              "1                                0.848719            0.173913   \n",
              "2                                0.847189            0.217391   \n",
              "3                                0.845598            0.217391   \n",
              "4                                0.847092            0.217391   \n",
              "\n",
              "   target_pickup_minute  \n",
              "0              0.258621  \n",
              "1              0.775862  \n",
              "2              0.517241  \n",
              "3              0.775862  \n",
              "4              0.000000  "
            ],
            "text/html": [
              "\n",
              "  <div id=\"df-deb3035e-78c7-496a-8c82-90343e45f9cb\">\n",
              "    <div class=\"colab-df-container\">\n",
              "      <div>\n",
              "<style scoped>\n",
              "    .dataframe tbody tr th:only-of-type {\n",
              "        vertical-align: middle;\n",
              "    }\n",
              "\n",
              "    .dataframe tbody tr th {\n",
              "        vertical-align: top;\n",
              "    }\n",
              "\n",
              "    .dataframe thead th {\n",
              "        text-align: right;\n",
              "    }\n",
              "</style>\n",
              "<table border=\"1\" class=\"dataframe\">\n",
              "  <thead>\n",
              "    <tr style=\"text-align: right;\">\n",
              "      <th></th>\n",
              "      <th>target_space_type</th>\n",
              "      <th>target_billable_distance</th>\n",
              "      <th>target_run_name</th>\n",
              "      <th>target_rider.mediroutes_rider_id</th>\n",
              "      <th>target_pickup.event_location.zip</th>\n",
              "      <th>target_pickup.event_location.longitude</th>\n",
              "      <th>target_pickup.event_location.latitude</th>\n",
              "      <th>target_dropoff.event_location.zip</th>\n",
              "      <th>target_dropoff.event_location.longitude</th>\n",
              "      <th>target_dropoff.event_location.latitude</th>\n",
              "      <th>target_pickup_hour</th>\n",
              "      <th>target_pickup_minute</th>\n",
              "    </tr>\n",
              "  </thead>\n",
              "  <tbody>\n",
              "    <tr>\n",
              "      <th>0</th>\n",
              "      <td>0.285714</td>\n",
              "      <td>0.003228</td>\n",
              "      <td>0.20</td>\n",
              "      <td>0.138686</td>\n",
              "      <td>0.680556</td>\n",
              "      <td>-0.990954</td>\n",
              "      <td>0.847334</td>\n",
              "      <td>0.797297</td>\n",
              "      <td>-0.990703</td>\n",
              "      <td>0.847379</td>\n",
              "      <td>0.173913</td>\n",
              "      <td>0.258621</td>\n",
              "    </tr>\n",
              "    <tr>\n",
              "      <th>1</th>\n",
              "      <td>0.857143</td>\n",
              "      <td>0.012053</td>\n",
              "      <td>0.20</td>\n",
              "      <td>0.061314</td>\n",
              "      <td>0.472222</td>\n",
              "      <td>-0.991429</td>\n",
              "      <td>0.847318</td>\n",
              "      <td>0.121622</td>\n",
              "      <td>-0.991856</td>\n",
              "      <td>0.848719</td>\n",
              "      <td>0.173913</td>\n",
              "      <td>0.775862</td>\n",
              "    </tr>\n",
              "    <tr>\n",
              "      <th>2</th>\n",
              "      <td>0.857143</td>\n",
              "      <td>0.006394</td>\n",
              "      <td>0.20</td>\n",
              "      <td>0.182482</td>\n",
              "      <td>0.458333</td>\n",
              "      <td>-0.990922</td>\n",
              "      <td>0.846670</td>\n",
              "      <td>0.797297</td>\n",
              "      <td>-0.990674</td>\n",
              "      <td>0.847189</td>\n",
              "      <td>0.217391</td>\n",
              "      <td>0.517241</td>\n",
              "    </tr>\n",
              "    <tr>\n",
              "      <th>3</th>\n",
              "      <td>0.285714</td>\n",
              "      <td>0.011718</td>\n",
              "      <td>0.20</td>\n",
              "      <td>0.102190</td>\n",
              "      <td>0.458333</td>\n",
              "      <td>-0.990903</td>\n",
              "      <td>0.846275</td>\n",
              "      <td>0.662162</td>\n",
              "      <td>-0.990333</td>\n",
              "      <td>0.845598</td>\n",
              "      <td>0.217391</td>\n",
              "      <td>0.775862</td>\n",
              "    </tr>\n",
              "    <tr>\n",
              "      <th>4</th>\n",
              "      <td>0.857143</td>\n",
              "      <td>0.017380</td>\n",
              "      <td>0.25</td>\n",
              "      <td>0.119708</td>\n",
              "      <td>0.916667</td>\n",
              "      <td>-0.990598</td>\n",
              "      <td>0.849091</td>\n",
              "      <td>0.797297</td>\n",
              "      <td>-0.990656</td>\n",
              "      <td>0.847092</td>\n",
              "      <td>0.217391</td>\n",
              "      <td>0.000000</td>\n",
              "    </tr>\n",
              "  </tbody>\n",
              "</table>\n",
              "</div>\n",
              "      <button class=\"colab-df-convert\" onclick=\"convertToInteractive('df-deb3035e-78c7-496a-8c82-90343e45f9cb')\"\n",
              "              title=\"Convert this dataframe to an interactive table.\"\n",
              "              style=\"display:none;\">\n",
              "        \n",
              "  <svg xmlns=\"http://www.w3.org/2000/svg\" height=\"24px\"viewBox=\"0 0 24 24\"\n",
              "       width=\"24px\">\n",
              "    <path d=\"M0 0h24v24H0V0z\" fill=\"none\"/>\n",
              "    <path d=\"M18.56 5.44l.94 2.06.94-2.06 2.06-.94-2.06-.94-.94-2.06-.94 2.06-2.06.94zm-11 1L8.5 8.5l.94-2.06 2.06-.94-2.06-.94L8.5 2.5l-.94 2.06-2.06.94zm10 10l.94 2.06.94-2.06 2.06-.94-2.06-.94-.94-2.06-.94 2.06-2.06.94z\"/><path d=\"M17.41 7.96l-1.37-1.37c-.4-.4-.92-.59-1.43-.59-.52 0-1.04.2-1.43.59L10.3 9.45l-7.72 7.72c-.78.78-.78 2.05 0 2.83L4 21.41c.39.39.9.59 1.41.59.51 0 1.02-.2 1.41-.59l7.78-7.78 2.81-2.81c.8-.78.8-2.07 0-2.86zM5.41 20L4 18.59l7.72-7.72 1.47 1.35L5.41 20z\"/>\n",
              "  </svg>\n",
              "      </button>\n",
              "      \n",
              "  <style>\n",
              "    .colab-df-container {\n",
              "      display:flex;\n",
              "      flex-wrap:wrap;\n",
              "      gap: 12px;\n",
              "    }\n",
              "\n",
              "    .colab-df-convert {\n",
              "      background-color: #E8F0FE;\n",
              "      border: none;\n",
              "      border-radius: 50%;\n",
              "      cursor: pointer;\n",
              "      display: none;\n",
              "      fill: #1967D2;\n",
              "      height: 32px;\n",
              "      padding: 0 0 0 0;\n",
              "      width: 32px;\n",
              "    }\n",
              "\n",
              "    .colab-df-convert:hover {\n",
              "      background-color: #E2EBFA;\n",
              "      box-shadow: 0px 1px 2px rgba(60, 64, 67, 0.3), 0px 1px 3px 1px rgba(60, 64, 67, 0.15);\n",
              "      fill: #174EA6;\n",
              "    }\n",
              "\n",
              "    [theme=dark] .colab-df-convert {\n",
              "      background-color: #3B4455;\n",
              "      fill: #D2E3FC;\n",
              "    }\n",
              "\n",
              "    [theme=dark] .colab-df-convert:hover {\n",
              "      background-color: #434B5C;\n",
              "      box-shadow: 0px 1px 3px 1px rgba(0, 0, 0, 0.15);\n",
              "      filter: drop-shadow(0px 1px 2px rgba(0, 0, 0, 0.3));\n",
              "      fill: #FFFFFF;\n",
              "    }\n",
              "  </style>\n",
              "\n",
              "      <script>\n",
              "        const buttonEl =\n",
              "          document.querySelector('#df-deb3035e-78c7-496a-8c82-90343e45f9cb button.colab-df-convert');\n",
              "        buttonEl.style.display =\n",
              "          google.colab.kernel.accessAllowed ? 'block' : 'none';\n",
              "\n",
              "        async function convertToInteractive(key) {\n",
              "          const element = document.querySelector('#df-deb3035e-78c7-496a-8c82-90343e45f9cb');\n",
              "          const dataTable =\n",
              "            await google.colab.kernel.invokeFunction('convertToInteractive',\n",
              "                                                     [key], {});\n",
              "          if (!dataTable) return;\n",
              "\n",
              "          const docLinkHtml = 'Like what you see? Visit the ' +\n",
              "            '<a target=\"_blank\" href=https://colab.research.google.com/notebooks/data_table.ipynb>data table notebook</a>'\n",
              "            + ' to learn more about interactive tables.';\n",
              "          element.innerHTML = '';\n",
              "          dataTable['output_type'] = 'display_data';\n",
              "          await google.colab.output.renderOutput(dataTable, element);\n",
              "          const docLink = document.createElement('div');\n",
              "          docLink.innerHTML = docLinkHtml;\n",
              "          element.appendChild(docLink);\n",
              "        }\n",
              "      </script>\n",
              "    </div>\n",
              "  </div>\n",
              "  "
            ]
          },
          "metadata": {},
          "execution_count": 762
        }
      ]
    },
    {
      "cell_type": "code",
      "source": [
        "f = pd.concat([pred_report, target_report], axis=1)"
      ],
      "metadata": {
        "id": "h8Ue2dgIo_44"
      },
      "execution_count": 763,
      "outputs": []
    },
    {
      "cell_type": "code",
      "source": [
        "f.head()"
      ],
      "metadata": {
        "colab": {
          "base_uri": "https://localhost:8080/",
          "height": 299
        },
        "id": "RHCZtYg-pD9H",
        "outputId": "64722ee9-002e-48fe-a407-1fd8ce29032e"
      },
      "execution_count": 764,
      "outputs": [
        {
          "output_type": "execute_result",
          "data": {
            "text/plain": [
              "   pred_space_type  pred_billable_distance  pred_run_name  \\\n",
              "0         0.385121                0.200620       0.097768   \n",
              "1         0.408647                0.110499       0.118090   \n",
              "2         0.418570                0.056199       0.158286   \n",
              "3         0.439595                0.013114       0.185103   \n",
              "4         0.449556               -0.003826       0.230327   \n",
              "\n",
              "   pred_rider.mediroutes_rider_id  pred_pickup.event_location.zip  \\\n",
              "0                       -0.028536                        0.080793   \n",
              "1                       -0.032597                        0.160766   \n",
              "2                       -0.018290                        0.252188   \n",
              "3                        0.017480                        0.315645   \n",
              "4                        0.025810                        0.396709   \n",
              "\n",
              "   pred_pickup.event_location.longitude  pred_pickup.event_location.latitude  \\\n",
              "0                             -0.450963                             0.283011   \n",
              "1                             -0.441736                             0.396322   \n",
              "2                             -0.444966                             0.478344   \n",
              "3                             -0.458012                             0.550783   \n",
              "4                             -0.492380                             0.597831   \n",
              "\n",
              "   pred_dropoff.event_location.zip  pred_dropoff.event_location.longitude  \\\n",
              "0                         0.231442                              -0.393531   \n",
              "1                         0.252114                              -0.462327   \n",
              "2                         0.249310                              -0.500038   \n",
              "3                         0.280956                              -0.513371   \n",
              "4                         0.299365                              -0.552316   \n",
              "\n",
              "   pred_dropoff.event_location.latitude  ...  target_run_name  \\\n",
              "0                              0.317179  ...             0.20   \n",
              "1                              0.377154  ...             0.20   \n",
              "2                              0.426197  ...             0.20   \n",
              "3                              0.458697  ...             0.20   \n",
              "4                              0.522284  ...             0.25   \n",
              "\n",
              "   target_rider.mediroutes_rider_id  target_pickup.event_location.zip  \\\n",
              "0                          0.138686                          0.680556   \n",
              "1                          0.061314                          0.472222   \n",
              "2                          0.182482                          0.458333   \n",
              "3                          0.102190                          0.458333   \n",
              "4                          0.119708                          0.916667   \n",
              "\n",
              "   target_pickup.event_location.longitude  \\\n",
              "0                               -0.990954   \n",
              "1                               -0.991429   \n",
              "2                               -0.990922   \n",
              "3                               -0.990903   \n",
              "4                               -0.990598   \n",
              "\n",
              "   target_pickup.event_location.latitude  target_dropoff.event_location.zip  \\\n",
              "0                               0.847334                           0.797297   \n",
              "1                               0.847318                           0.121622   \n",
              "2                               0.846670                           0.797297   \n",
              "3                               0.846275                           0.662162   \n",
              "4                               0.849091                           0.797297   \n",
              "\n",
              "   target_dropoff.event_location.longitude  \\\n",
              "0                                -0.990703   \n",
              "1                                -0.991856   \n",
              "2                                -0.990674   \n",
              "3                                -0.990333   \n",
              "4                                -0.990656   \n",
              "\n",
              "   target_dropoff.event_location.latitude  target_pickup_hour  \\\n",
              "0                                0.847379            0.173913   \n",
              "1                                0.848719            0.173913   \n",
              "2                                0.847189            0.217391   \n",
              "3                                0.845598            0.217391   \n",
              "4                                0.847092            0.217391   \n",
              "\n",
              "   target_pickup_minute  \n",
              "0              0.258621  \n",
              "1              0.775862  \n",
              "2              0.517241  \n",
              "3              0.775862  \n",
              "4              0.000000  \n",
              "\n",
              "[5 rows x 24 columns]"
            ],
            "text/html": [
              "\n",
              "  <div id=\"df-2b5f2c84-5b70-4f26-834d-bf4b4e3a8a21\">\n",
              "    <div class=\"colab-df-container\">\n",
              "      <div>\n",
              "<style scoped>\n",
              "    .dataframe tbody tr th:only-of-type {\n",
              "        vertical-align: middle;\n",
              "    }\n",
              "\n",
              "    .dataframe tbody tr th {\n",
              "        vertical-align: top;\n",
              "    }\n",
              "\n",
              "    .dataframe thead th {\n",
              "        text-align: right;\n",
              "    }\n",
              "</style>\n",
              "<table border=\"1\" class=\"dataframe\">\n",
              "  <thead>\n",
              "    <tr style=\"text-align: right;\">\n",
              "      <th></th>\n",
              "      <th>pred_space_type</th>\n",
              "      <th>pred_billable_distance</th>\n",
              "      <th>pred_run_name</th>\n",
              "      <th>pred_rider.mediroutes_rider_id</th>\n",
              "      <th>pred_pickup.event_location.zip</th>\n",
              "      <th>pred_pickup.event_location.longitude</th>\n",
              "      <th>pred_pickup.event_location.latitude</th>\n",
              "      <th>pred_dropoff.event_location.zip</th>\n",
              "      <th>pred_dropoff.event_location.longitude</th>\n",
              "      <th>pred_dropoff.event_location.latitude</th>\n",
              "      <th>...</th>\n",
              "      <th>target_run_name</th>\n",
              "      <th>target_rider.mediroutes_rider_id</th>\n",
              "      <th>target_pickup.event_location.zip</th>\n",
              "      <th>target_pickup.event_location.longitude</th>\n",
              "      <th>target_pickup.event_location.latitude</th>\n",
              "      <th>target_dropoff.event_location.zip</th>\n",
              "      <th>target_dropoff.event_location.longitude</th>\n",
              "      <th>target_dropoff.event_location.latitude</th>\n",
              "      <th>target_pickup_hour</th>\n",
              "      <th>target_pickup_minute</th>\n",
              "    </tr>\n",
              "  </thead>\n",
              "  <tbody>\n",
              "    <tr>\n",
              "      <th>0</th>\n",
              "      <td>0.385121</td>\n",
              "      <td>0.200620</td>\n",
              "      <td>0.097768</td>\n",
              "      <td>-0.028536</td>\n",
              "      <td>0.080793</td>\n",
              "      <td>-0.450963</td>\n",
              "      <td>0.283011</td>\n",
              "      <td>0.231442</td>\n",
              "      <td>-0.393531</td>\n",
              "      <td>0.317179</td>\n",
              "      <td>...</td>\n",
              "      <td>0.20</td>\n",
              "      <td>0.138686</td>\n",
              "      <td>0.680556</td>\n",
              "      <td>-0.990954</td>\n",
              "      <td>0.847334</td>\n",
              "      <td>0.797297</td>\n",
              "      <td>-0.990703</td>\n",
              "      <td>0.847379</td>\n",
              "      <td>0.173913</td>\n",
              "      <td>0.258621</td>\n",
              "    </tr>\n",
              "    <tr>\n",
              "      <th>1</th>\n",
              "      <td>0.408647</td>\n",
              "      <td>0.110499</td>\n",
              "      <td>0.118090</td>\n",
              "      <td>-0.032597</td>\n",
              "      <td>0.160766</td>\n",
              "      <td>-0.441736</td>\n",
              "      <td>0.396322</td>\n",
              "      <td>0.252114</td>\n",
              "      <td>-0.462327</td>\n",
              "      <td>0.377154</td>\n",
              "      <td>...</td>\n",
              "      <td>0.20</td>\n",
              "      <td>0.061314</td>\n",
              "      <td>0.472222</td>\n",
              "      <td>-0.991429</td>\n",
              "      <td>0.847318</td>\n",
              "      <td>0.121622</td>\n",
              "      <td>-0.991856</td>\n",
              "      <td>0.848719</td>\n",
              "      <td>0.173913</td>\n",
              "      <td>0.775862</td>\n",
              "    </tr>\n",
              "    <tr>\n",
              "      <th>2</th>\n",
              "      <td>0.418570</td>\n",
              "      <td>0.056199</td>\n",
              "      <td>0.158286</td>\n",
              "      <td>-0.018290</td>\n",
              "      <td>0.252188</td>\n",
              "      <td>-0.444966</td>\n",
              "      <td>0.478344</td>\n",
              "      <td>0.249310</td>\n",
              "      <td>-0.500038</td>\n",
              "      <td>0.426197</td>\n",
              "      <td>...</td>\n",
              "      <td>0.20</td>\n",
              "      <td>0.182482</td>\n",
              "      <td>0.458333</td>\n",
              "      <td>-0.990922</td>\n",
              "      <td>0.846670</td>\n",
              "      <td>0.797297</td>\n",
              "      <td>-0.990674</td>\n",
              "      <td>0.847189</td>\n",
              "      <td>0.217391</td>\n",
              "      <td>0.517241</td>\n",
              "    </tr>\n",
              "    <tr>\n",
              "      <th>3</th>\n",
              "      <td>0.439595</td>\n",
              "      <td>0.013114</td>\n",
              "      <td>0.185103</td>\n",
              "      <td>0.017480</td>\n",
              "      <td>0.315645</td>\n",
              "      <td>-0.458012</td>\n",
              "      <td>0.550783</td>\n",
              "      <td>0.280956</td>\n",
              "      <td>-0.513371</td>\n",
              "      <td>0.458697</td>\n",
              "      <td>...</td>\n",
              "      <td>0.20</td>\n",
              "      <td>0.102190</td>\n",
              "      <td>0.458333</td>\n",
              "      <td>-0.990903</td>\n",
              "      <td>0.846275</td>\n",
              "      <td>0.662162</td>\n",
              "      <td>-0.990333</td>\n",
              "      <td>0.845598</td>\n",
              "      <td>0.217391</td>\n",
              "      <td>0.775862</td>\n",
              "    </tr>\n",
              "    <tr>\n",
              "      <th>4</th>\n",
              "      <td>0.449556</td>\n",
              "      <td>-0.003826</td>\n",
              "      <td>0.230327</td>\n",
              "      <td>0.025810</td>\n",
              "      <td>0.396709</td>\n",
              "      <td>-0.492380</td>\n",
              "      <td>0.597831</td>\n",
              "      <td>0.299365</td>\n",
              "      <td>-0.552316</td>\n",
              "      <td>0.522284</td>\n",
              "      <td>...</td>\n",
              "      <td>0.25</td>\n",
              "      <td>0.119708</td>\n",
              "      <td>0.916667</td>\n",
              "      <td>-0.990598</td>\n",
              "      <td>0.849091</td>\n",
              "      <td>0.797297</td>\n",
              "      <td>-0.990656</td>\n",
              "      <td>0.847092</td>\n",
              "      <td>0.217391</td>\n",
              "      <td>0.000000</td>\n",
              "    </tr>\n",
              "  </tbody>\n",
              "</table>\n",
              "<p>5 rows × 24 columns</p>\n",
              "</div>\n",
              "      <button class=\"colab-df-convert\" onclick=\"convertToInteractive('df-2b5f2c84-5b70-4f26-834d-bf4b4e3a8a21')\"\n",
              "              title=\"Convert this dataframe to an interactive table.\"\n",
              "              style=\"display:none;\">\n",
              "        \n",
              "  <svg xmlns=\"http://www.w3.org/2000/svg\" height=\"24px\"viewBox=\"0 0 24 24\"\n",
              "       width=\"24px\">\n",
              "    <path d=\"M0 0h24v24H0V0z\" fill=\"none\"/>\n",
              "    <path d=\"M18.56 5.44l.94 2.06.94-2.06 2.06-.94-2.06-.94-.94-2.06-.94 2.06-2.06.94zm-11 1L8.5 8.5l.94-2.06 2.06-.94-2.06-.94L8.5 2.5l-.94 2.06-2.06.94zm10 10l.94 2.06.94-2.06 2.06-.94-2.06-.94-.94-2.06-.94 2.06-2.06.94z\"/><path d=\"M17.41 7.96l-1.37-1.37c-.4-.4-.92-.59-1.43-.59-.52 0-1.04.2-1.43.59L10.3 9.45l-7.72 7.72c-.78.78-.78 2.05 0 2.83L4 21.41c.39.39.9.59 1.41.59.51 0 1.02-.2 1.41-.59l7.78-7.78 2.81-2.81c.8-.78.8-2.07 0-2.86zM5.41 20L4 18.59l7.72-7.72 1.47 1.35L5.41 20z\"/>\n",
              "  </svg>\n",
              "      </button>\n",
              "      \n",
              "  <style>\n",
              "    .colab-df-container {\n",
              "      display:flex;\n",
              "      flex-wrap:wrap;\n",
              "      gap: 12px;\n",
              "    }\n",
              "\n",
              "    .colab-df-convert {\n",
              "      background-color: #E8F0FE;\n",
              "      border: none;\n",
              "      border-radius: 50%;\n",
              "      cursor: pointer;\n",
              "      display: none;\n",
              "      fill: #1967D2;\n",
              "      height: 32px;\n",
              "      padding: 0 0 0 0;\n",
              "      width: 32px;\n",
              "    }\n",
              "\n",
              "    .colab-df-convert:hover {\n",
              "      background-color: #E2EBFA;\n",
              "      box-shadow: 0px 1px 2px rgba(60, 64, 67, 0.3), 0px 1px 3px 1px rgba(60, 64, 67, 0.15);\n",
              "      fill: #174EA6;\n",
              "    }\n",
              "\n",
              "    [theme=dark] .colab-df-convert {\n",
              "      background-color: #3B4455;\n",
              "      fill: #D2E3FC;\n",
              "    }\n",
              "\n",
              "    [theme=dark] .colab-df-convert:hover {\n",
              "      background-color: #434B5C;\n",
              "      box-shadow: 0px 1px 3px 1px rgba(0, 0, 0, 0.15);\n",
              "      filter: drop-shadow(0px 1px 2px rgba(0, 0, 0, 0.3));\n",
              "      fill: #FFFFFF;\n",
              "    }\n",
              "  </style>\n",
              "\n",
              "      <script>\n",
              "        const buttonEl =\n",
              "          document.querySelector('#df-2b5f2c84-5b70-4f26-834d-bf4b4e3a8a21 button.colab-df-convert');\n",
              "        buttonEl.style.display =\n",
              "          google.colab.kernel.accessAllowed ? 'block' : 'none';\n",
              "\n",
              "        async function convertToInteractive(key) {\n",
              "          const element = document.querySelector('#df-2b5f2c84-5b70-4f26-834d-bf4b4e3a8a21');\n",
              "          const dataTable =\n",
              "            await google.colab.kernel.invokeFunction('convertToInteractive',\n",
              "                                                     [key], {});\n",
              "          if (!dataTable) return;\n",
              "\n",
              "          const docLinkHtml = 'Like what you see? Visit the ' +\n",
              "            '<a target=\"_blank\" href=https://colab.research.google.com/notebooks/data_table.ipynb>data table notebook</a>'\n",
              "            + ' to learn more about interactive tables.';\n",
              "          element.innerHTML = '';\n",
              "          dataTable['output_type'] = 'display_data';\n",
              "          await google.colab.output.renderOutput(dataTable, element);\n",
              "          const docLink = document.createElement('div');\n",
              "          docLink.innerHTML = docLinkHtml;\n",
              "          element.appendChild(docLink);\n",
              "        }\n",
              "      </script>\n",
              "    </div>\n",
              "  </div>\n",
              "  "
            ]
          },
          "metadata": {},
          "execution_count": 764
        }
      ]
    },
    {
      "cell_type": "code",
      "source": [
        "f.to_csv('/content/comparison.csv')"
      ],
      "metadata": {
        "id": "JyyfijskpFBq"
      },
      "execution_count": 765,
      "outputs": []
    },
    {
      "cell_type": "code",
      "source": [
        "pred_report.iloc[:,:2]"
      ],
      "metadata": {
        "colab": {
          "base_uri": "https://localhost:8080/",
          "height": 423
        },
        "id": "7rfeQ2XpG3Rp",
        "outputId": "07536996-dd8d-4f73-830b-c439b0d22c80"
      },
      "execution_count": 766,
      "outputs": [
        {
          "output_type": "execute_result",
          "data": {
            "text/plain": [
              "     pred_space_type  pred_billable_distance\n",
              "0           0.385121                0.200620\n",
              "1           0.408647                0.110499\n",
              "2           0.418570                0.056199\n",
              "3           0.439595                0.013114\n",
              "4           0.449556               -0.003826\n",
              "..               ...                     ...\n",
              "120         0.341264                0.281943\n",
              "121         0.341050                0.281981\n",
              "122         0.340878                0.282011\n",
              "123         0.340741                0.282035\n",
              "124         0.340631                0.282054\n",
              "\n",
              "[125 rows x 2 columns]"
            ],
            "text/html": [
              "\n",
              "  <div id=\"df-f74b1c64-46ce-49fe-ab78-891fd890792e\">\n",
              "    <div class=\"colab-df-container\">\n",
              "      <div>\n",
              "<style scoped>\n",
              "    .dataframe tbody tr th:only-of-type {\n",
              "        vertical-align: middle;\n",
              "    }\n",
              "\n",
              "    .dataframe tbody tr th {\n",
              "        vertical-align: top;\n",
              "    }\n",
              "\n",
              "    .dataframe thead th {\n",
              "        text-align: right;\n",
              "    }\n",
              "</style>\n",
              "<table border=\"1\" class=\"dataframe\">\n",
              "  <thead>\n",
              "    <tr style=\"text-align: right;\">\n",
              "      <th></th>\n",
              "      <th>pred_space_type</th>\n",
              "      <th>pred_billable_distance</th>\n",
              "    </tr>\n",
              "  </thead>\n",
              "  <tbody>\n",
              "    <tr>\n",
              "      <th>0</th>\n",
              "      <td>0.385121</td>\n",
              "      <td>0.200620</td>\n",
              "    </tr>\n",
              "    <tr>\n",
              "      <th>1</th>\n",
              "      <td>0.408647</td>\n",
              "      <td>0.110499</td>\n",
              "    </tr>\n",
              "    <tr>\n",
              "      <th>2</th>\n",
              "      <td>0.418570</td>\n",
              "      <td>0.056199</td>\n",
              "    </tr>\n",
              "    <tr>\n",
              "      <th>3</th>\n",
              "      <td>0.439595</td>\n",
              "      <td>0.013114</td>\n",
              "    </tr>\n",
              "    <tr>\n",
              "      <th>4</th>\n",
              "      <td>0.449556</td>\n",
              "      <td>-0.003826</td>\n",
              "    </tr>\n",
              "    <tr>\n",
              "      <th>...</th>\n",
              "      <td>...</td>\n",
              "      <td>...</td>\n",
              "    </tr>\n",
              "    <tr>\n",
              "      <th>120</th>\n",
              "      <td>0.341264</td>\n",
              "      <td>0.281943</td>\n",
              "    </tr>\n",
              "    <tr>\n",
              "      <th>121</th>\n",
              "      <td>0.341050</td>\n",
              "      <td>0.281981</td>\n",
              "    </tr>\n",
              "    <tr>\n",
              "      <th>122</th>\n",
              "      <td>0.340878</td>\n",
              "      <td>0.282011</td>\n",
              "    </tr>\n",
              "    <tr>\n",
              "      <th>123</th>\n",
              "      <td>0.340741</td>\n",
              "      <td>0.282035</td>\n",
              "    </tr>\n",
              "    <tr>\n",
              "      <th>124</th>\n",
              "      <td>0.340631</td>\n",
              "      <td>0.282054</td>\n",
              "    </tr>\n",
              "  </tbody>\n",
              "</table>\n",
              "<p>125 rows × 2 columns</p>\n",
              "</div>\n",
              "      <button class=\"colab-df-convert\" onclick=\"convertToInteractive('df-f74b1c64-46ce-49fe-ab78-891fd890792e')\"\n",
              "              title=\"Convert this dataframe to an interactive table.\"\n",
              "              style=\"display:none;\">\n",
              "        \n",
              "  <svg xmlns=\"http://www.w3.org/2000/svg\" height=\"24px\"viewBox=\"0 0 24 24\"\n",
              "       width=\"24px\">\n",
              "    <path d=\"M0 0h24v24H0V0z\" fill=\"none\"/>\n",
              "    <path d=\"M18.56 5.44l.94 2.06.94-2.06 2.06-.94-2.06-.94-.94-2.06-.94 2.06-2.06.94zm-11 1L8.5 8.5l.94-2.06 2.06-.94-2.06-.94L8.5 2.5l-.94 2.06-2.06.94zm10 10l.94 2.06.94-2.06 2.06-.94-2.06-.94-.94-2.06-.94 2.06-2.06.94z\"/><path d=\"M17.41 7.96l-1.37-1.37c-.4-.4-.92-.59-1.43-.59-.52 0-1.04.2-1.43.59L10.3 9.45l-7.72 7.72c-.78.78-.78 2.05 0 2.83L4 21.41c.39.39.9.59 1.41.59.51 0 1.02-.2 1.41-.59l7.78-7.78 2.81-2.81c.8-.78.8-2.07 0-2.86zM5.41 20L4 18.59l7.72-7.72 1.47 1.35L5.41 20z\"/>\n",
              "  </svg>\n",
              "      </button>\n",
              "      \n",
              "  <style>\n",
              "    .colab-df-container {\n",
              "      display:flex;\n",
              "      flex-wrap:wrap;\n",
              "      gap: 12px;\n",
              "    }\n",
              "\n",
              "    .colab-df-convert {\n",
              "      background-color: #E8F0FE;\n",
              "      border: none;\n",
              "      border-radius: 50%;\n",
              "      cursor: pointer;\n",
              "      display: none;\n",
              "      fill: #1967D2;\n",
              "      height: 32px;\n",
              "      padding: 0 0 0 0;\n",
              "      width: 32px;\n",
              "    }\n",
              "\n",
              "    .colab-df-convert:hover {\n",
              "      background-color: #E2EBFA;\n",
              "      box-shadow: 0px 1px 2px rgba(60, 64, 67, 0.3), 0px 1px 3px 1px rgba(60, 64, 67, 0.15);\n",
              "      fill: #174EA6;\n",
              "    }\n",
              "\n",
              "    [theme=dark] .colab-df-convert {\n",
              "      background-color: #3B4455;\n",
              "      fill: #D2E3FC;\n",
              "    }\n",
              "\n",
              "    [theme=dark] .colab-df-convert:hover {\n",
              "      background-color: #434B5C;\n",
              "      box-shadow: 0px 1px 3px 1px rgba(0, 0, 0, 0.15);\n",
              "      filter: drop-shadow(0px 1px 2px rgba(0, 0, 0, 0.3));\n",
              "      fill: #FFFFFF;\n",
              "    }\n",
              "  </style>\n",
              "\n",
              "      <script>\n",
              "        const buttonEl =\n",
              "          document.querySelector('#df-f74b1c64-46ce-49fe-ab78-891fd890792e button.colab-df-convert');\n",
              "        buttonEl.style.display =\n",
              "          google.colab.kernel.accessAllowed ? 'block' : 'none';\n",
              "\n",
              "        async function convertToInteractive(key) {\n",
              "          const element = document.querySelector('#df-f74b1c64-46ce-49fe-ab78-891fd890792e');\n",
              "          const dataTable =\n",
              "            await google.colab.kernel.invokeFunction('convertToInteractive',\n",
              "                                                     [key], {});\n",
              "          if (!dataTable) return;\n",
              "\n",
              "          const docLinkHtml = 'Like what you see? Visit the ' +\n",
              "            '<a target=\"_blank\" href=https://colab.research.google.com/notebooks/data_table.ipynb>data table notebook</a>'\n",
              "            + ' to learn more about interactive tables.';\n",
              "          element.innerHTML = '';\n",
              "          dataTable['output_type'] = 'display_data';\n",
              "          await google.colab.output.renderOutput(dataTable, element);\n",
              "          const docLink = document.createElement('div');\n",
              "          docLink.innerHTML = docLinkHtml;\n",
              "          element.appendChild(docLink);\n",
              "        }\n",
              "      </script>\n",
              "    </div>\n",
              "  </div>\n",
              "  "
            ]
          },
          "metadata": {},
          "execution_count": 766
        }
      ]
    },
    {
      "cell_type": "code",
      "source": [
        "target_report.iloc[:,:2]"
      ],
      "metadata": {
        "colab": {
          "base_uri": "https://localhost:8080/",
          "height": 423
        },
        "id": "SFZL3BI_pNXB",
        "outputId": "ab166ddd-4d11-4ce1-e21b-3a6335eeac17"
      },
      "execution_count": 767,
      "outputs": [
        {
          "output_type": "execute_result",
          "data": {
            "text/plain": [
              "     target_space_type  target_billable_distance\n",
              "0             0.285714                  0.003228\n",
              "1             0.857143                  0.012053\n",
              "2             0.857143                  0.006394\n",
              "3             0.285714                  0.011718\n",
              "4             0.857143                  0.017380\n",
              "..                 ...                       ...\n",
              "120           0.000000                  0.000000\n",
              "121           0.000000                  0.000000\n",
              "122           0.000000                  0.000000\n",
              "123           0.000000                  0.000000\n",
              "124           0.000000                  0.000000\n",
              "\n",
              "[125 rows x 2 columns]"
            ],
            "text/html": [
              "\n",
              "  <div id=\"df-2538a279-3c6a-49ed-a8bf-964d87454049\">\n",
              "    <div class=\"colab-df-container\">\n",
              "      <div>\n",
              "<style scoped>\n",
              "    .dataframe tbody tr th:only-of-type {\n",
              "        vertical-align: middle;\n",
              "    }\n",
              "\n",
              "    .dataframe tbody tr th {\n",
              "        vertical-align: top;\n",
              "    }\n",
              "\n",
              "    .dataframe thead th {\n",
              "        text-align: right;\n",
              "    }\n",
              "</style>\n",
              "<table border=\"1\" class=\"dataframe\">\n",
              "  <thead>\n",
              "    <tr style=\"text-align: right;\">\n",
              "      <th></th>\n",
              "      <th>target_space_type</th>\n",
              "      <th>target_billable_distance</th>\n",
              "    </tr>\n",
              "  </thead>\n",
              "  <tbody>\n",
              "    <tr>\n",
              "      <th>0</th>\n",
              "      <td>0.285714</td>\n",
              "      <td>0.003228</td>\n",
              "    </tr>\n",
              "    <tr>\n",
              "      <th>1</th>\n",
              "      <td>0.857143</td>\n",
              "      <td>0.012053</td>\n",
              "    </tr>\n",
              "    <tr>\n",
              "      <th>2</th>\n",
              "      <td>0.857143</td>\n",
              "      <td>0.006394</td>\n",
              "    </tr>\n",
              "    <tr>\n",
              "      <th>3</th>\n",
              "      <td>0.285714</td>\n",
              "      <td>0.011718</td>\n",
              "    </tr>\n",
              "    <tr>\n",
              "      <th>4</th>\n",
              "      <td>0.857143</td>\n",
              "      <td>0.017380</td>\n",
              "    </tr>\n",
              "    <tr>\n",
              "      <th>...</th>\n",
              "      <td>...</td>\n",
              "      <td>...</td>\n",
              "    </tr>\n",
              "    <tr>\n",
              "      <th>120</th>\n",
              "      <td>0.000000</td>\n",
              "      <td>0.000000</td>\n",
              "    </tr>\n",
              "    <tr>\n",
              "      <th>121</th>\n",
              "      <td>0.000000</td>\n",
              "      <td>0.000000</td>\n",
              "    </tr>\n",
              "    <tr>\n",
              "      <th>122</th>\n",
              "      <td>0.000000</td>\n",
              "      <td>0.000000</td>\n",
              "    </tr>\n",
              "    <tr>\n",
              "      <th>123</th>\n",
              "      <td>0.000000</td>\n",
              "      <td>0.000000</td>\n",
              "    </tr>\n",
              "    <tr>\n",
              "      <th>124</th>\n",
              "      <td>0.000000</td>\n",
              "      <td>0.000000</td>\n",
              "    </tr>\n",
              "  </tbody>\n",
              "</table>\n",
              "<p>125 rows × 2 columns</p>\n",
              "</div>\n",
              "      <button class=\"colab-df-convert\" onclick=\"convertToInteractive('df-2538a279-3c6a-49ed-a8bf-964d87454049')\"\n",
              "              title=\"Convert this dataframe to an interactive table.\"\n",
              "              style=\"display:none;\">\n",
              "        \n",
              "  <svg xmlns=\"http://www.w3.org/2000/svg\" height=\"24px\"viewBox=\"0 0 24 24\"\n",
              "       width=\"24px\">\n",
              "    <path d=\"M0 0h24v24H0V0z\" fill=\"none\"/>\n",
              "    <path d=\"M18.56 5.44l.94 2.06.94-2.06 2.06-.94-2.06-.94-.94-2.06-.94 2.06-2.06.94zm-11 1L8.5 8.5l.94-2.06 2.06-.94-2.06-.94L8.5 2.5l-.94 2.06-2.06.94zm10 10l.94 2.06.94-2.06 2.06-.94-2.06-.94-.94-2.06-.94 2.06-2.06.94z\"/><path d=\"M17.41 7.96l-1.37-1.37c-.4-.4-.92-.59-1.43-.59-.52 0-1.04.2-1.43.59L10.3 9.45l-7.72 7.72c-.78.78-.78 2.05 0 2.83L4 21.41c.39.39.9.59 1.41.59.51 0 1.02-.2 1.41-.59l7.78-7.78 2.81-2.81c.8-.78.8-2.07 0-2.86zM5.41 20L4 18.59l7.72-7.72 1.47 1.35L5.41 20z\"/>\n",
              "  </svg>\n",
              "      </button>\n",
              "      \n",
              "  <style>\n",
              "    .colab-df-container {\n",
              "      display:flex;\n",
              "      flex-wrap:wrap;\n",
              "      gap: 12px;\n",
              "    }\n",
              "\n",
              "    .colab-df-convert {\n",
              "      background-color: #E8F0FE;\n",
              "      border: none;\n",
              "      border-radius: 50%;\n",
              "      cursor: pointer;\n",
              "      display: none;\n",
              "      fill: #1967D2;\n",
              "      height: 32px;\n",
              "      padding: 0 0 0 0;\n",
              "      width: 32px;\n",
              "    }\n",
              "\n",
              "    .colab-df-convert:hover {\n",
              "      background-color: #E2EBFA;\n",
              "      box-shadow: 0px 1px 2px rgba(60, 64, 67, 0.3), 0px 1px 3px 1px rgba(60, 64, 67, 0.15);\n",
              "      fill: #174EA6;\n",
              "    }\n",
              "\n",
              "    [theme=dark] .colab-df-convert {\n",
              "      background-color: #3B4455;\n",
              "      fill: #D2E3FC;\n",
              "    }\n",
              "\n",
              "    [theme=dark] .colab-df-convert:hover {\n",
              "      background-color: #434B5C;\n",
              "      box-shadow: 0px 1px 3px 1px rgba(0, 0, 0, 0.15);\n",
              "      filter: drop-shadow(0px 1px 2px rgba(0, 0, 0, 0.3));\n",
              "      fill: #FFFFFF;\n",
              "    }\n",
              "  </style>\n",
              "\n",
              "      <script>\n",
              "        const buttonEl =\n",
              "          document.querySelector('#df-2538a279-3c6a-49ed-a8bf-964d87454049 button.colab-df-convert');\n",
              "        buttonEl.style.display =\n",
              "          google.colab.kernel.accessAllowed ? 'block' : 'none';\n",
              "\n",
              "        async function convertToInteractive(key) {\n",
              "          const element = document.querySelector('#df-2538a279-3c6a-49ed-a8bf-964d87454049');\n",
              "          const dataTable =\n",
              "            await google.colab.kernel.invokeFunction('convertToInteractive',\n",
              "                                                     [key], {});\n",
              "          if (!dataTable) return;\n",
              "\n",
              "          const docLinkHtml = 'Like what you see? Visit the ' +\n",
              "            '<a target=\"_blank\" href=https://colab.research.google.com/notebooks/data_table.ipynb>data table notebook</a>'\n",
              "            + ' to learn more about interactive tables.';\n",
              "          element.innerHTML = '';\n",
              "          dataTable['output_type'] = 'display_data';\n",
              "          await google.colab.output.renderOutput(dataTable, element);\n",
              "          const docLink = document.createElement('div');\n",
              "          docLink.innerHTML = docLinkHtml;\n",
              "          element.appendChild(docLink);\n",
              "        }\n",
              "      </script>\n",
              "    </div>\n",
              "  </div>\n",
              "  "
            ]
          },
          "metadata": {},
          "execution_count": 767
        }
      ]
    },
    {
      "cell_type": "code",
      "source": [],
      "metadata": {
        "id": "n6XubWh2HEwj"
      },
      "execution_count": 767,
      "outputs": []
    }
  ]
}