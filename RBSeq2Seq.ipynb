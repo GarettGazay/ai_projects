{
  "nbformat": 4,
  "nbformat_minor": 0,
  "metadata": {
    "colab": {
      "provenance": [],
      "mount_file_id": "1HqAEWyiLxTsobrQGD26PLtO-UEO-80yu",
      "authorship_tag": "ABX9TyOfa325034EFeOJJ9ByMRzK",
      "include_colab_link": true
    },
    "kernelspec": {
      "name": "python3",
      "display_name": "Python 3"
    },
    "language_info": {
      "name": "python"
    },
    "gpuClass": "standard"
  },
  "cells": [
    {
      "cell_type": "markdown",
      "metadata": {
        "id": "view-in-github",
        "colab_type": "text"
      },
      "source": [
        "<a href=\"https://colab.research.google.com/github/GarettGazay/ai_projects/blob/master/RBSeq2Seq.ipynb\" target=\"_parent\"><img src=\"https://colab.research.google.com/assets/colab-badge.svg\" alt=\"Open In Colab\"/></a>"
      ]
    },
    {
      "cell_type": "markdown",
      "source": [
        "0. Understand the predictions better, what are are these vectors it returns? A: They are the model's attempt at becoming the target.\n",
        "\n",
        "1. Verify the input and target data are in fact the same data with the input shuffled and the target in the correct order.\n",
        "\n",
        "2. Use the padding function to pad each batch to the correct dims (125,12)\n",
        "\n",
        "3. Take 2 random days out of the data and convert it into a validation set, then try to implement early stopping.\n",
        "\n",
        "4. Mini-batch train so the model can learn more and perhaps become better at predictions.\n",
        "\n",
        "5. If training on more data does not improve the model, try looking at the data to see if there should be more, different, or less.\n",
        "\n",
        "### Prediction\n",
        "\n",
        "- Correlate the predicted values with the input dataframe with headers, try to place the input data in order in a df with the predictions.\n",
        "\n",
        "- Find the most closely related (prediction, rides) values and arrange them according to the prediction order.\n",
        "\n",
        "- Walk through by creating a loop where we check for highest similarity between each ride in input_data and the predictions. Then order the rides in line with the predictions that way so it finds the most similar ride in inputs starting at the top of the predictions list."
      ],
      "metadata": {
        "id": "WoQ1F3wDrdkm"
      }
    },
    {
      "cell_type": "code",
      "execution_count": 3,
      "metadata": {
        "id": "CofSU91rN0tQ"
      },
      "outputs": [],
      "source": [
        "import tensorflow as tf\n",
        "from tensorflow import keras\n",
        "from keras.models import Sequential\n",
        "from keras.layers import LSTM, Dense\n",
        "from sklearn.model_selection import train_test_split\n",
        "import numpy as np\n",
        "import pandas as pd\n",
        "import time"
      ]
    },
    {
      "cell_type": "code",
      "source": [
        "rides = pd.read_csv('/content/ordering_dataset.csv')"
      ],
      "metadata": {
        "id": "dHTOk2lyN8H6"
      },
      "execution_count": 4,
      "outputs": []
    },
    {
      "cell_type": "code",
      "source": [
        "rides = rides.drop(['Unnamed: 0',\n",
        "                    'order',\n",
        "                    'rider.first_name',\n",
        "                    'rider.last_name',\n",
        "                    'pickup.event_location.address1',\n",
        "                    'dropoff.event_location.address1',\n",
        "                    'run_name_id',\n",
        "                    'pickup_time',\n",
        "                    ], axis=1)"
      ],
      "metadata": {
        "id": "3E_WYqzmOmuR"
      },
      "execution_count": 5,
      "outputs": []
    },
    {
      "cell_type": "code",
      "source": [
        "rides.head()"
      ],
      "metadata": {
        "colab": {
          "base_uri": "https://localhost:8080/",
          "height": 270
        },
        "id": "r84oLFbQE_vl",
        "outputId": "da1274bb-0ddd-4751-cf1d-28de7a8daae1"
      },
      "execution_count": 6,
      "outputs": [
        {
          "output_type": "execute_result",
          "data": {
            "text/plain": [
              "   space_type  billable_distance  run_name  rider.mediroutes_rider_id  \\\n",
              "0    0.857143           0.012314      0.10                   0.169343   \n",
              "1    0.857143           0.006394      0.10                   0.182482   \n",
              "2    0.857143           0.003826      0.10                   0.167883   \n",
              "3    0.285714           0.023389      0.05                   0.202920   \n",
              "4    0.285714           0.018819      0.05                   0.084672   \n",
              "\n",
              "   pickup.event_location.zip  pickup.event_location.longitude  \\\n",
              "0                   0.583333                        -0.990825   \n",
              "1                   0.458333                        -0.990922   \n",
              "2                   0.833333                        -0.990800   \n",
              "3                   0.791667                        -0.990521   \n",
              "4                   0.750000                        -0.989852   \n",
              "\n",
              "   pickup.event_location.latitude  dropoff.event_location.zip  \\\n",
              "0                        0.848788                    0.837838   \n",
              "1                        0.846670                    0.797297   \n",
              "2                        0.846893                    0.797297   \n",
              "3                        0.846884                    0.675676   \n",
              "4                        0.847646                    0.729730   \n",
              "\n",
              "   dropoff.event_location.longitude  dropoff.event_location.latitude  \\\n",
              "0                         -0.990424                         0.848616   \n",
              "1                         -0.990674                         0.847189   \n",
              "2                         -0.990674                         0.847189   \n",
              "3                         -0.989395                         0.845235   \n",
              "4                         -0.989807                         0.845745   \n",
              "\n",
              "   pickup_month  pickup_day  pickup_hour  pickup_minute  \n",
              "0           1.0         1.0     0.173913       0.517241  \n",
              "1           1.0         1.0     0.217391       0.517241  \n",
              "2           1.0         1.0     0.217391       0.517241  \n",
              "3           1.0         1.0     0.304348       0.206897  \n",
              "4           1.0         1.0     0.347826       0.517241  "
            ],
            "text/html": [
              "\n",
              "  <div id=\"df-8e2aba78-088d-41c1-82ba-5084231cf291\">\n",
              "    <div class=\"colab-df-container\">\n",
              "      <div>\n",
              "<style scoped>\n",
              "    .dataframe tbody tr th:only-of-type {\n",
              "        vertical-align: middle;\n",
              "    }\n",
              "\n",
              "    .dataframe tbody tr th {\n",
              "        vertical-align: top;\n",
              "    }\n",
              "\n",
              "    .dataframe thead th {\n",
              "        text-align: right;\n",
              "    }\n",
              "</style>\n",
              "<table border=\"1\" class=\"dataframe\">\n",
              "  <thead>\n",
              "    <tr style=\"text-align: right;\">\n",
              "      <th></th>\n",
              "      <th>space_type</th>\n",
              "      <th>billable_distance</th>\n",
              "      <th>run_name</th>\n",
              "      <th>rider.mediroutes_rider_id</th>\n",
              "      <th>pickup.event_location.zip</th>\n",
              "      <th>pickup.event_location.longitude</th>\n",
              "      <th>pickup.event_location.latitude</th>\n",
              "      <th>dropoff.event_location.zip</th>\n",
              "      <th>dropoff.event_location.longitude</th>\n",
              "      <th>dropoff.event_location.latitude</th>\n",
              "      <th>pickup_month</th>\n",
              "      <th>pickup_day</th>\n",
              "      <th>pickup_hour</th>\n",
              "      <th>pickup_minute</th>\n",
              "    </tr>\n",
              "  </thead>\n",
              "  <tbody>\n",
              "    <tr>\n",
              "      <th>0</th>\n",
              "      <td>0.857143</td>\n",
              "      <td>0.012314</td>\n",
              "      <td>0.10</td>\n",
              "      <td>0.169343</td>\n",
              "      <td>0.583333</td>\n",
              "      <td>-0.990825</td>\n",
              "      <td>0.848788</td>\n",
              "      <td>0.837838</td>\n",
              "      <td>-0.990424</td>\n",
              "      <td>0.848616</td>\n",
              "      <td>1.0</td>\n",
              "      <td>1.0</td>\n",
              "      <td>0.173913</td>\n",
              "      <td>0.517241</td>\n",
              "    </tr>\n",
              "    <tr>\n",
              "      <th>1</th>\n",
              "      <td>0.857143</td>\n",
              "      <td>0.006394</td>\n",
              "      <td>0.10</td>\n",
              "      <td>0.182482</td>\n",
              "      <td>0.458333</td>\n",
              "      <td>-0.990922</td>\n",
              "      <td>0.846670</td>\n",
              "      <td>0.797297</td>\n",
              "      <td>-0.990674</td>\n",
              "      <td>0.847189</td>\n",
              "      <td>1.0</td>\n",
              "      <td>1.0</td>\n",
              "      <td>0.217391</td>\n",
              "      <td>0.517241</td>\n",
              "    </tr>\n",
              "    <tr>\n",
              "      <th>2</th>\n",
              "      <td>0.857143</td>\n",
              "      <td>0.003826</td>\n",
              "      <td>0.10</td>\n",
              "      <td>0.167883</td>\n",
              "      <td>0.833333</td>\n",
              "      <td>-0.990800</td>\n",
              "      <td>0.846893</td>\n",
              "      <td>0.797297</td>\n",
              "      <td>-0.990674</td>\n",
              "      <td>0.847189</td>\n",
              "      <td>1.0</td>\n",
              "      <td>1.0</td>\n",
              "      <td>0.217391</td>\n",
              "      <td>0.517241</td>\n",
              "    </tr>\n",
              "    <tr>\n",
              "      <th>3</th>\n",
              "      <td>0.285714</td>\n",
              "      <td>0.023389</td>\n",
              "      <td>0.05</td>\n",
              "      <td>0.202920</td>\n",
              "      <td>0.791667</td>\n",
              "      <td>-0.990521</td>\n",
              "      <td>0.846884</td>\n",
              "      <td>0.675676</td>\n",
              "      <td>-0.989395</td>\n",
              "      <td>0.845235</td>\n",
              "      <td>1.0</td>\n",
              "      <td>1.0</td>\n",
              "      <td>0.304348</td>\n",
              "      <td>0.206897</td>\n",
              "    </tr>\n",
              "    <tr>\n",
              "      <th>4</th>\n",
              "      <td>0.285714</td>\n",
              "      <td>0.018819</td>\n",
              "      <td>0.05</td>\n",
              "      <td>0.084672</td>\n",
              "      <td>0.750000</td>\n",
              "      <td>-0.989852</td>\n",
              "      <td>0.847646</td>\n",
              "      <td>0.729730</td>\n",
              "      <td>-0.989807</td>\n",
              "      <td>0.845745</td>\n",
              "      <td>1.0</td>\n",
              "      <td>1.0</td>\n",
              "      <td>0.347826</td>\n",
              "      <td>0.517241</td>\n",
              "    </tr>\n",
              "  </tbody>\n",
              "</table>\n",
              "</div>\n",
              "      <button class=\"colab-df-convert\" onclick=\"convertToInteractive('df-8e2aba78-088d-41c1-82ba-5084231cf291')\"\n",
              "              title=\"Convert this dataframe to an interactive table.\"\n",
              "              style=\"display:none;\">\n",
              "        \n",
              "  <svg xmlns=\"http://www.w3.org/2000/svg\" height=\"24px\"viewBox=\"0 0 24 24\"\n",
              "       width=\"24px\">\n",
              "    <path d=\"M0 0h24v24H0V0z\" fill=\"none\"/>\n",
              "    <path d=\"M18.56 5.44l.94 2.06.94-2.06 2.06-.94-2.06-.94-.94-2.06-.94 2.06-2.06.94zm-11 1L8.5 8.5l.94-2.06 2.06-.94-2.06-.94L8.5 2.5l-.94 2.06-2.06.94zm10 10l.94 2.06.94-2.06 2.06-.94-2.06-.94-.94-2.06-.94 2.06-2.06.94z\"/><path d=\"M17.41 7.96l-1.37-1.37c-.4-.4-.92-.59-1.43-.59-.52 0-1.04.2-1.43.59L10.3 9.45l-7.72 7.72c-.78.78-.78 2.05 0 2.83L4 21.41c.39.39.9.59 1.41.59.51 0 1.02-.2 1.41-.59l7.78-7.78 2.81-2.81c.8-.78.8-2.07 0-2.86zM5.41 20L4 18.59l7.72-7.72 1.47 1.35L5.41 20z\"/>\n",
              "  </svg>\n",
              "      </button>\n",
              "      \n",
              "  <style>\n",
              "    .colab-df-container {\n",
              "      display:flex;\n",
              "      flex-wrap:wrap;\n",
              "      gap: 12px;\n",
              "    }\n",
              "\n",
              "    .colab-df-convert {\n",
              "      background-color: #E8F0FE;\n",
              "      border: none;\n",
              "      border-radius: 50%;\n",
              "      cursor: pointer;\n",
              "      display: none;\n",
              "      fill: #1967D2;\n",
              "      height: 32px;\n",
              "      padding: 0 0 0 0;\n",
              "      width: 32px;\n",
              "    }\n",
              "\n",
              "    .colab-df-convert:hover {\n",
              "      background-color: #E2EBFA;\n",
              "      box-shadow: 0px 1px 2px rgba(60, 64, 67, 0.3), 0px 1px 3px 1px rgba(60, 64, 67, 0.15);\n",
              "      fill: #174EA6;\n",
              "    }\n",
              "\n",
              "    [theme=dark] .colab-df-convert {\n",
              "      background-color: #3B4455;\n",
              "      fill: #D2E3FC;\n",
              "    }\n",
              "\n",
              "    [theme=dark] .colab-df-convert:hover {\n",
              "      background-color: #434B5C;\n",
              "      box-shadow: 0px 1px 3px 1px rgba(0, 0, 0, 0.15);\n",
              "      filter: drop-shadow(0px 1px 2px rgba(0, 0, 0, 0.3));\n",
              "      fill: #FFFFFF;\n",
              "    }\n",
              "  </style>\n",
              "\n",
              "      <script>\n",
              "        const buttonEl =\n",
              "          document.querySelector('#df-8e2aba78-088d-41c1-82ba-5084231cf291 button.colab-df-convert');\n",
              "        buttonEl.style.display =\n",
              "          google.colab.kernel.accessAllowed ? 'block' : 'none';\n",
              "\n",
              "        async function convertToInteractive(key) {\n",
              "          const element = document.querySelector('#df-8e2aba78-088d-41c1-82ba-5084231cf291');\n",
              "          const dataTable =\n",
              "            await google.colab.kernel.invokeFunction('convertToInteractive',\n",
              "                                                     [key], {});\n",
              "          if (!dataTable) return;\n",
              "\n",
              "          const docLinkHtml = 'Like what you see? Visit the ' +\n",
              "            '<a target=\"_blank\" href=https://colab.research.google.com/notebooks/data_table.ipynb>data table notebook</a>'\n",
              "            + ' to learn more about interactive tables.';\n",
              "          element.innerHTML = '';\n",
              "          dataTable['output_type'] = 'display_data';\n",
              "          await google.colab.output.renderOutput(dataTable, element);\n",
              "          const docLink = document.createElement('div');\n",
              "          docLink.innerHTML = docLinkHtml;\n",
              "          element.appendChild(docLink);\n",
              "        }\n",
              "      </script>\n",
              "    </div>\n",
              "  </div>\n",
              "  "
            ]
          },
          "metadata": {},
          "execution_count": 6
        }
      ]
    },
    {
      "cell_type": "code",
      "source": [
        "rides = rides.astype('float32')"
      ],
      "metadata": {
        "id": "5rDhFO1OfzGU"
      },
      "execution_count": 7,
      "outputs": []
    },
    {
      "cell_type": "code",
      "source": [
        "# Count the number of NaN values in each column\n",
        "nan_counts = rides.isna().sum()\n",
        "\n",
        "# Display the count of NaN values for each column\n",
        "print(nan_counts)"
      ],
      "metadata": {
        "colab": {
          "base_uri": "https://localhost:8080/"
        },
        "id": "xT45EYbtA8DC",
        "outputId": "8a2f1095-d944-49a3-8d91-c278229441d0"
      },
      "execution_count": 8,
      "outputs": [
        {
          "output_type": "stream",
          "name": "stdout",
          "text": [
            "space_type                          0\n",
            "billable_distance                   1\n",
            "run_name                            0\n",
            "rider.mediroutes_rider_id           0\n",
            "pickup.event_location.zip           0\n",
            "pickup.event_location.longitude     1\n",
            "pickup.event_location.latitude      1\n",
            "dropoff.event_location.zip          0\n",
            "dropoff.event_location.longitude    1\n",
            "dropoff.event_location.latitude     1\n",
            "pickup_month                        1\n",
            "pickup_day                          1\n",
            "pickup_hour                         1\n",
            "pickup_minute                       1\n",
            "dtype: int64\n"
          ]
        }
      ]
    },
    {
      "cell_type": "code",
      "source": [
        "rides.fillna(0, inplace=True)"
      ],
      "metadata": {
        "id": "LIMduNzpAjSr"
      },
      "execution_count": 9,
      "outputs": []
    },
    {
      "cell_type": "code",
      "source": [
        "rides.dtypes"
      ],
      "metadata": {
        "colab": {
          "base_uri": "https://localhost:8080/"
        },
        "id": "Lr3bpD9Wf77V",
        "outputId": "fae49f0f-9852-42bb-caab-7900b16b4d4a"
      },
      "execution_count": 10,
      "outputs": [
        {
          "output_type": "execute_result",
          "data": {
            "text/plain": [
              "space_type                          float32\n",
              "billable_distance                   float32\n",
              "run_name                            float32\n",
              "rider.mediroutes_rider_id           float32\n",
              "pickup.event_location.zip           float32\n",
              "pickup.event_location.longitude     float32\n",
              "pickup.event_location.latitude      float32\n",
              "dropoff.event_location.zip          float32\n",
              "dropoff.event_location.longitude    float32\n",
              "dropoff.event_location.latitude     float32\n",
              "pickup_month                        float32\n",
              "pickup_day                          float32\n",
              "pickup_hour                         float32\n",
              "pickup_minute                       float32\n",
              "dtype: object"
            ]
          },
          "metadata": {},
          "execution_count": 10
        }
      ]
    },
    {
      "cell_type": "code",
      "source": [
        "rides.head()"
      ],
      "metadata": {
        "colab": {
          "base_uri": "https://localhost:8080/",
          "height": 270
        },
        "id": "l8sXH1M0gB9B",
        "outputId": "5c0c31ba-f8fe-4f2c-b9e2-2704113aedb2"
      },
      "execution_count": 11,
      "outputs": [
        {
          "output_type": "execute_result",
          "data": {
            "text/plain": [
              "   space_type  billable_distance  run_name  rider.mediroutes_rider_id  \\\n",
              "0    0.857143           0.012314      0.10                   0.169343   \n",
              "1    0.857143           0.006394      0.10                   0.182482   \n",
              "2    0.857143           0.003826      0.10                   0.167883   \n",
              "3    0.285714           0.023389      0.05                   0.202920   \n",
              "4    0.285714           0.018819      0.05                   0.084672   \n",
              "\n",
              "   pickup.event_location.zip  pickup.event_location.longitude  \\\n",
              "0                   0.583333                        -0.990825   \n",
              "1                   0.458333                        -0.990922   \n",
              "2                   0.833333                        -0.990800   \n",
              "3                   0.791667                        -0.990521   \n",
              "4                   0.750000                        -0.989852   \n",
              "\n",
              "   pickup.event_location.latitude  dropoff.event_location.zip  \\\n",
              "0                        0.848788                    0.837838   \n",
              "1                        0.846670                    0.797297   \n",
              "2                        0.846893                    0.797297   \n",
              "3                        0.846884                    0.675676   \n",
              "4                        0.847646                    0.729730   \n",
              "\n",
              "   dropoff.event_location.longitude  dropoff.event_location.latitude  \\\n",
              "0                         -0.990424                         0.848616   \n",
              "1                         -0.990674                         0.847189   \n",
              "2                         -0.990674                         0.847189   \n",
              "3                         -0.989395                         0.845235   \n",
              "4                         -0.989807                         0.845745   \n",
              "\n",
              "   pickup_month  pickup_day  pickup_hour  pickup_minute  \n",
              "0           1.0         1.0     0.173913       0.517241  \n",
              "1           1.0         1.0     0.217391       0.517241  \n",
              "2           1.0         1.0     0.217391       0.517241  \n",
              "3           1.0         1.0     0.304348       0.206897  \n",
              "4           1.0         1.0     0.347826       0.517241  "
            ],
            "text/html": [
              "\n",
              "  <div id=\"df-e1999439-0290-4281-89bd-404f2efe8b2a\">\n",
              "    <div class=\"colab-df-container\">\n",
              "      <div>\n",
              "<style scoped>\n",
              "    .dataframe tbody tr th:only-of-type {\n",
              "        vertical-align: middle;\n",
              "    }\n",
              "\n",
              "    .dataframe tbody tr th {\n",
              "        vertical-align: top;\n",
              "    }\n",
              "\n",
              "    .dataframe thead th {\n",
              "        text-align: right;\n",
              "    }\n",
              "</style>\n",
              "<table border=\"1\" class=\"dataframe\">\n",
              "  <thead>\n",
              "    <tr style=\"text-align: right;\">\n",
              "      <th></th>\n",
              "      <th>space_type</th>\n",
              "      <th>billable_distance</th>\n",
              "      <th>run_name</th>\n",
              "      <th>rider.mediroutes_rider_id</th>\n",
              "      <th>pickup.event_location.zip</th>\n",
              "      <th>pickup.event_location.longitude</th>\n",
              "      <th>pickup.event_location.latitude</th>\n",
              "      <th>dropoff.event_location.zip</th>\n",
              "      <th>dropoff.event_location.longitude</th>\n",
              "      <th>dropoff.event_location.latitude</th>\n",
              "      <th>pickup_month</th>\n",
              "      <th>pickup_day</th>\n",
              "      <th>pickup_hour</th>\n",
              "      <th>pickup_minute</th>\n",
              "    </tr>\n",
              "  </thead>\n",
              "  <tbody>\n",
              "    <tr>\n",
              "      <th>0</th>\n",
              "      <td>0.857143</td>\n",
              "      <td>0.012314</td>\n",
              "      <td>0.10</td>\n",
              "      <td>0.169343</td>\n",
              "      <td>0.583333</td>\n",
              "      <td>-0.990825</td>\n",
              "      <td>0.848788</td>\n",
              "      <td>0.837838</td>\n",
              "      <td>-0.990424</td>\n",
              "      <td>0.848616</td>\n",
              "      <td>1.0</td>\n",
              "      <td>1.0</td>\n",
              "      <td>0.173913</td>\n",
              "      <td>0.517241</td>\n",
              "    </tr>\n",
              "    <tr>\n",
              "      <th>1</th>\n",
              "      <td>0.857143</td>\n",
              "      <td>0.006394</td>\n",
              "      <td>0.10</td>\n",
              "      <td>0.182482</td>\n",
              "      <td>0.458333</td>\n",
              "      <td>-0.990922</td>\n",
              "      <td>0.846670</td>\n",
              "      <td>0.797297</td>\n",
              "      <td>-0.990674</td>\n",
              "      <td>0.847189</td>\n",
              "      <td>1.0</td>\n",
              "      <td>1.0</td>\n",
              "      <td>0.217391</td>\n",
              "      <td>0.517241</td>\n",
              "    </tr>\n",
              "    <tr>\n",
              "      <th>2</th>\n",
              "      <td>0.857143</td>\n",
              "      <td>0.003826</td>\n",
              "      <td>0.10</td>\n",
              "      <td>0.167883</td>\n",
              "      <td>0.833333</td>\n",
              "      <td>-0.990800</td>\n",
              "      <td>0.846893</td>\n",
              "      <td>0.797297</td>\n",
              "      <td>-0.990674</td>\n",
              "      <td>0.847189</td>\n",
              "      <td>1.0</td>\n",
              "      <td>1.0</td>\n",
              "      <td>0.217391</td>\n",
              "      <td>0.517241</td>\n",
              "    </tr>\n",
              "    <tr>\n",
              "      <th>3</th>\n",
              "      <td>0.285714</td>\n",
              "      <td>0.023389</td>\n",
              "      <td>0.05</td>\n",
              "      <td>0.202920</td>\n",
              "      <td>0.791667</td>\n",
              "      <td>-0.990521</td>\n",
              "      <td>0.846884</td>\n",
              "      <td>0.675676</td>\n",
              "      <td>-0.989395</td>\n",
              "      <td>0.845235</td>\n",
              "      <td>1.0</td>\n",
              "      <td>1.0</td>\n",
              "      <td>0.304348</td>\n",
              "      <td>0.206897</td>\n",
              "    </tr>\n",
              "    <tr>\n",
              "      <th>4</th>\n",
              "      <td>0.285714</td>\n",
              "      <td>0.018819</td>\n",
              "      <td>0.05</td>\n",
              "      <td>0.084672</td>\n",
              "      <td>0.750000</td>\n",
              "      <td>-0.989852</td>\n",
              "      <td>0.847646</td>\n",
              "      <td>0.729730</td>\n",
              "      <td>-0.989807</td>\n",
              "      <td>0.845745</td>\n",
              "      <td>1.0</td>\n",
              "      <td>1.0</td>\n",
              "      <td>0.347826</td>\n",
              "      <td>0.517241</td>\n",
              "    </tr>\n",
              "  </tbody>\n",
              "</table>\n",
              "</div>\n",
              "      <button class=\"colab-df-convert\" onclick=\"convertToInteractive('df-e1999439-0290-4281-89bd-404f2efe8b2a')\"\n",
              "              title=\"Convert this dataframe to an interactive table.\"\n",
              "              style=\"display:none;\">\n",
              "        \n",
              "  <svg xmlns=\"http://www.w3.org/2000/svg\" height=\"24px\"viewBox=\"0 0 24 24\"\n",
              "       width=\"24px\">\n",
              "    <path d=\"M0 0h24v24H0V0z\" fill=\"none\"/>\n",
              "    <path d=\"M18.56 5.44l.94 2.06.94-2.06 2.06-.94-2.06-.94-.94-2.06-.94 2.06-2.06.94zm-11 1L8.5 8.5l.94-2.06 2.06-.94-2.06-.94L8.5 2.5l-.94 2.06-2.06.94zm10 10l.94 2.06.94-2.06 2.06-.94-2.06-.94-.94-2.06-.94 2.06-2.06.94z\"/><path d=\"M17.41 7.96l-1.37-1.37c-.4-.4-.92-.59-1.43-.59-.52 0-1.04.2-1.43.59L10.3 9.45l-7.72 7.72c-.78.78-.78 2.05 0 2.83L4 21.41c.39.39.9.59 1.41.59.51 0 1.02-.2 1.41-.59l7.78-7.78 2.81-2.81c.8-.78.8-2.07 0-2.86zM5.41 20L4 18.59l7.72-7.72 1.47 1.35L5.41 20z\"/>\n",
              "  </svg>\n",
              "      </button>\n",
              "      \n",
              "  <style>\n",
              "    .colab-df-container {\n",
              "      display:flex;\n",
              "      flex-wrap:wrap;\n",
              "      gap: 12px;\n",
              "    }\n",
              "\n",
              "    .colab-df-convert {\n",
              "      background-color: #E8F0FE;\n",
              "      border: none;\n",
              "      border-radius: 50%;\n",
              "      cursor: pointer;\n",
              "      display: none;\n",
              "      fill: #1967D2;\n",
              "      height: 32px;\n",
              "      padding: 0 0 0 0;\n",
              "      width: 32px;\n",
              "    }\n",
              "\n",
              "    .colab-df-convert:hover {\n",
              "      background-color: #E2EBFA;\n",
              "      box-shadow: 0px 1px 2px rgba(60, 64, 67, 0.3), 0px 1px 3px 1px rgba(60, 64, 67, 0.15);\n",
              "      fill: #174EA6;\n",
              "    }\n",
              "\n",
              "    [theme=dark] .colab-df-convert {\n",
              "      background-color: #3B4455;\n",
              "      fill: #D2E3FC;\n",
              "    }\n",
              "\n",
              "    [theme=dark] .colab-df-convert:hover {\n",
              "      background-color: #434B5C;\n",
              "      box-shadow: 0px 1px 3px 1px rgba(0, 0, 0, 0.15);\n",
              "      filter: drop-shadow(0px 1px 2px rgba(0, 0, 0, 0.3));\n",
              "      fill: #FFFFFF;\n",
              "    }\n",
              "  </style>\n",
              "\n",
              "      <script>\n",
              "        const buttonEl =\n",
              "          document.querySelector('#df-e1999439-0290-4281-89bd-404f2efe8b2a button.colab-df-convert');\n",
              "        buttonEl.style.display =\n",
              "          google.colab.kernel.accessAllowed ? 'block' : 'none';\n",
              "\n",
              "        async function convertToInteractive(key) {\n",
              "          const element = document.querySelector('#df-e1999439-0290-4281-89bd-404f2efe8b2a');\n",
              "          const dataTable =\n",
              "            await google.colab.kernel.invokeFunction('convertToInteractive',\n",
              "                                                     [key], {});\n",
              "          if (!dataTable) return;\n",
              "\n",
              "          const docLinkHtml = 'Like what you see? Visit the ' +\n",
              "            '<a target=\"_blank\" href=https://colab.research.google.com/notebooks/data_table.ipynb>data table notebook</a>'\n",
              "            + ' to learn more about interactive tables.';\n",
              "          element.innerHTML = '';\n",
              "          dataTable['output_type'] = 'display_data';\n",
              "          await google.colab.output.renderOutput(dataTable, element);\n",
              "          const docLink = document.createElement('div');\n",
              "          docLink.innerHTML = docLinkHtml;\n",
              "          element.appendChild(docLink);\n",
              "        }\n",
              "      </script>\n",
              "    </div>\n",
              "  </div>\n",
              "  "
            ]
          },
          "metadata": {},
          "execution_count": 11
        }
      ]
    },
    {
      "cell_type": "code",
      "source": [
        "counts = rides.groupby(['pickup_month', 'pickup_day']).size().reset_index(name='counts')\n",
        "counts['counts'].mean()"
      ],
      "metadata": {
        "colab": {
          "base_uri": "https://localhost:8080/"
        },
        "id": "66b6OpD899K4",
        "outputId": "4a039cc6-1a8f-46ce-a4da-5b304496f89a"
      },
      "execution_count": 12,
      "outputs": [
        {
          "output_type": "execute_result",
          "data": {
            "text/plain": [
              "99.41875"
            ]
          },
          "metadata": {},
          "execution_count": 12
        }
      ]
    },
    {
      "cell_type": "code",
      "source": [
        "import matplotlib.pyplot as plt\n",
        "\n",
        "plt.figure(figsize=(20, 7))\n",
        "\n",
        "import matplotlib.pyplot as plt\n",
        "import numpy as np\n",
        "\n",
        "# Calculate the mean and standard deviation of the counts column\n",
        "mean = counts['counts'].mean()\n",
        "std = counts['counts'].std()\n",
        "\n",
        "# Plot the histogram of the counts column\n",
        "counts['counts'].hist(bins=20)\n",
        "\n",
        "# Add vertical lines to indicate mean and standard deviation\n",
        "plt.axvline(mean, color='red', label='Mean')\n",
        "plt.axvline(mean + std, color='blue', label='+1 Standard Deviation')\n",
        "plt.axvline(mean - std, color='blue', label='-1 Standard Deviation')\n",
        "\n",
        "# Add title and labels\n",
        "plt.title('Distribution of Counts Column')\n",
        "plt.xlabel('Counts')\n",
        "plt.ylabel('Frequency')\n",
        "plt.legend()\n",
        "\n",
        "# Show plot\n",
        "plt.show()"
      ],
      "metadata": {
        "colab": {
          "base_uri": "https://localhost:8080/",
          "height": 458
        },
        "id": "of232X7n-F1M",
        "outputId": "66f033fa-c806-4658-de43-be6f9d9525da"
      },
      "execution_count": 13,
      "outputs": [
        {
          "output_type": "display_data",
          "data": {
            "text/plain": [
              "<Figure size 1440x504 with 1 Axes>"
            ],
            "image/png": "[encoded data removed]"
          },
          "metadata": {
            "needs_background": "light"
          }
        }
      ]
    },
    {
      "cell_type": "code",
      "source": [
        "rides['pickup_day'] = rides['pickup_day'].fillna(0).astype(int)\n",
        "rides['pickup_month'] = rides['pickup_month'].fillna(0).astype(int)\n",
        "\n",
        "rides['pickup_day'] = rides['pickup_day'].astype(str)\n",
        "rides['pickup_month'] = rides['pickup_month'].astype(str)\n",
        "\n",
        "rides['id'] = rides['pickup_month'] + rides['pickup_day']\n",
        "\n",
        "rides = rides.drop(['pickup_month','pickup_day'], axis=1)"
      ],
      "metadata": {
        "id": "UbRWLKbMNyio"
      },
      "execution_count": 14,
      "outputs": []
    },
    {
      "cell_type": "code",
      "source": [
        "rides.head()"
      ],
      "metadata": {
        "colab": {
          "base_uri": "https://localhost:8080/",
          "height": 270
        },
        "id": "NH9k8ihZgMpm",
        "outputId": "3b0c9c41-aa5d-44cb-af50-572681788b9b"
      },
      "execution_count": 15,
      "outputs": [
        {
          "output_type": "execute_result",
          "data": {
            "text/plain": [
              "   space_type  billable_distance  run_name  rider.mediroutes_rider_id  \\\n",
              "0    0.857143           0.012314      0.10                   0.169343   \n",
              "1    0.857143           0.006394      0.10                   0.182482   \n",
              "2    0.857143           0.003826      0.10                   0.167883   \n",
              "3    0.285714           0.023389      0.05                   0.202920   \n",
              "4    0.285714           0.018819      0.05                   0.084672   \n",
              "\n",
              "   pickup.event_location.zip  pickup.event_location.longitude  \\\n",
              "0                   0.583333                        -0.990825   \n",
              "1                   0.458333                        -0.990922   \n",
              "2                   0.833333                        -0.990800   \n",
              "3                   0.791667                        -0.990521   \n",
              "4                   0.750000                        -0.989852   \n",
              "\n",
              "   pickup.event_location.latitude  dropoff.event_location.zip  \\\n",
              "0                        0.848788                    0.837838   \n",
              "1                        0.846670                    0.797297   \n",
              "2                        0.846893                    0.797297   \n",
              "3                        0.846884                    0.675676   \n",
              "4                        0.847646                    0.729730   \n",
              "\n",
              "   dropoff.event_location.longitude  dropoff.event_location.latitude  \\\n",
              "0                         -0.990424                         0.848616   \n",
              "1                         -0.990674                         0.847189   \n",
              "2                         -0.990674                         0.847189   \n",
              "3                         -0.989395                         0.845235   \n",
              "4                         -0.989807                         0.845745   \n",
              "\n",
              "   pickup_hour  pickup_minute  id  \n",
              "0     0.173913       0.517241  11  \n",
              "1     0.217391       0.517241  11  \n",
              "2     0.217391       0.517241  11  \n",
              "3     0.304348       0.206897  11  \n",
              "4     0.347826       0.517241  11  "
            ],
            "text/html": [
              "\n",
              "  <div id=\"df-44789431-6d50-4b71-9b04-cf165c1498b1\">\n",
              "    <div class=\"colab-df-container\">\n",
              "      <div>\n",
              "<style scoped>\n",
              "    .dataframe tbody tr th:only-of-type {\n",
              "        vertical-align: middle;\n",
              "    }\n",
              "\n",
              "    .dataframe tbody tr th {\n",
              "        vertical-align: top;\n",
              "    }\n",
              "\n",
              "    .dataframe thead th {\n",
              "        text-align: right;\n",
              "    }\n",
              "</style>\n",
              "<table border=\"1\" class=\"dataframe\">\n",
              "  <thead>\n",
              "    <tr style=\"text-align: right;\">\n",
              "      <th></th>\n",
              "      <th>space_type</th>\n",
              "      <th>billable_distance</th>\n",
              "      <th>run_name</th>\n",
              "      <th>rider.mediroutes_rider_id</th>\n",
              "      <th>pickup.event_location.zip</th>\n",
              "      <th>pickup.event_location.longitude</th>\n",
              "      <th>pickup.event_location.latitude</th>\n",
              "      <th>dropoff.event_location.zip</th>\n",
              "      <th>dropoff.event_location.longitude</th>\n",
              "      <th>dropoff.event_location.latitude</th>\n",
              "      <th>pickup_hour</th>\n",
              "      <th>pickup_minute</th>\n",
              "      <th>id</th>\n",
              "    </tr>\n",
              "  </thead>\n",
              "  <tbody>\n",
              "    <tr>\n",
              "      <th>0</th>\n",
              "      <td>0.857143</td>\n",
              "      <td>0.012314</td>\n",
              "      <td>0.10</td>\n",
              "      <td>0.169343</td>\n",
              "      <td>0.583333</td>\n",
              "      <td>-0.990825</td>\n",
              "      <td>0.848788</td>\n",
              "      <td>0.837838</td>\n",
              "      <td>-0.990424</td>\n",
              "      <td>0.848616</td>\n",
              "      <td>0.173913</td>\n",
              "      <td>0.517241</td>\n",
              "      <td>11</td>\n",
              "    </tr>\n",
              "    <tr>\n",
              "      <th>1</th>\n",
              "      <td>0.857143</td>\n",
              "      <td>0.006394</td>\n",
              "      <td>0.10</td>\n",
              "      <td>0.182482</td>\n",
              "      <td>0.458333</td>\n",
              "      <td>-0.990922</td>\n",
              "      <td>0.846670</td>\n",
              "      <td>0.797297</td>\n",
              "      <td>-0.990674</td>\n",
              "      <td>0.847189</td>\n",
              "      <td>0.217391</td>\n",
              "      <td>0.517241</td>\n",
              "      <td>11</td>\n",
              "    </tr>\n",
              "    <tr>\n",
              "      <th>2</th>\n",
              "      <td>0.857143</td>\n",
              "      <td>0.003826</td>\n",
              "      <td>0.10</td>\n",
              "      <td>0.167883</td>\n",
              "      <td>0.833333</td>\n",
              "      <td>-0.990800</td>\n",
              "      <td>0.846893</td>\n",
              "      <td>0.797297</td>\n",
              "      <td>-0.990674</td>\n",
              "      <td>0.847189</td>\n",
              "      <td>0.217391</td>\n",
              "      <td>0.517241</td>\n",
              "      <td>11</td>\n",
              "    </tr>\n",
              "    <tr>\n",
              "      <th>3</th>\n",
              "      <td>0.285714</td>\n",
              "      <td>0.023389</td>\n",
              "      <td>0.05</td>\n",
              "      <td>0.202920</td>\n",
              "      <td>0.791667</td>\n",
              "      <td>-0.990521</td>\n",
              "      <td>0.846884</td>\n",
              "      <td>0.675676</td>\n",
              "      <td>-0.989395</td>\n",
              "      <td>0.845235</td>\n",
              "      <td>0.304348</td>\n",
              "      <td>0.206897</td>\n",
              "      <td>11</td>\n",
              "    </tr>\n",
              "    <tr>\n",
              "      <th>4</th>\n",
              "      <td>0.285714</td>\n",
              "      <td>0.018819</td>\n",
              "      <td>0.05</td>\n",
              "      <td>0.084672</td>\n",
              "      <td>0.750000</td>\n",
              "      <td>-0.989852</td>\n",
              "      <td>0.847646</td>\n",
              "      <td>0.729730</td>\n",
              "      <td>-0.989807</td>\n",
              "      <td>0.845745</td>\n",
              "      <td>0.347826</td>\n",
              "      <td>0.517241</td>\n",
              "      <td>11</td>\n",
              "    </tr>\n",
              "  </tbody>\n",
              "</table>\n",
              "</div>\n",
              "      <button class=\"colab-df-convert\" onclick=\"convertToInteractive('df-44789431-6d50-4b71-9b04-cf165c1498b1')\"\n",
              "              title=\"Convert this dataframe to an interactive table.\"\n",
              "              style=\"display:none;\">\n",
              "        \n",
              "  <svg xmlns=\"http://www.w3.org/2000/svg\" height=\"24px\"viewBox=\"0 0 24 24\"\n",
              "       width=\"24px\">\n",
              "    <path d=\"M0 0h24v24H0V0z\" fill=\"none\"/>\n",
              "    <path d=\"M18.56 5.44l.94 2.06.94-2.06 2.06-.94-2.06-.94-.94-2.06-.94 2.06-2.06.94zm-11 1L8.5 8.5l.94-2.06 2.06-.94-2.06-.94L8.5 2.5l-.94 2.06-2.06.94zm10 10l.94 2.06.94-2.06 2.06-.94-2.06-.94-.94-2.06-.94 2.06-2.06.94z\"/><path d=\"M17.41 7.96l-1.37-1.37c-.4-.4-.92-.59-1.43-.59-.52 0-1.04.2-1.43.59L10.3 9.45l-7.72 7.72c-.78.78-.78 2.05 0 2.83L4 21.41c.39.39.9.59 1.41.59.51 0 1.02-.2 1.41-.59l7.78-7.78 2.81-2.81c.8-.78.8-2.07 0-2.86zM5.41 20L4 18.59l7.72-7.72 1.47 1.35L5.41 20z\"/>\n",
              "  </svg>\n",
              "      </button>\n",
              "      \n",
              "  <style>\n",
              "    .colab-df-container {\n",
              "      display:flex;\n",
              "      flex-wrap:wrap;\n",
              "      gap: 12px;\n",
              "    }\n",
              "\n",
              "    .colab-df-convert {\n",
              "      background-color: #E8F0FE;\n",
              "      border: none;\n",
              "      border-radius: 50%;\n",
              "      cursor: pointer;\n",
              "      display: none;\n",
              "      fill: #1967D2;\n",
              "      height: 32px;\n",
              "      padding: 0 0 0 0;\n",
              "      width: 32px;\n",
              "    }\n",
              "\n",
              "    .colab-df-convert:hover {\n",
              "      background-color: #E2EBFA;\n",
              "      box-shadow: 0px 1px 2px rgba(60, 64, 67, 0.3), 0px 1px 3px 1px rgba(60, 64, 67, 0.15);\n",
              "      fill: #174EA6;\n",
              "    }\n",
              "\n",
              "    [theme=dark] .colab-df-convert {\n",
              "      background-color: #3B4455;\n",
              "      fill: #D2E3FC;\n",
              "    }\n",
              "\n",
              "    [theme=dark] .colab-df-convert:hover {\n",
              "      background-color: #434B5C;\n",
              "      box-shadow: 0px 1px 3px 1px rgba(0, 0, 0, 0.15);\n",
              "      filter: drop-shadow(0px 1px 2px rgba(0, 0, 0, 0.3));\n",
              "      fill: #FFFFFF;\n",
              "    }\n",
              "  </style>\n",
              "\n",
              "      <script>\n",
              "        const buttonEl =\n",
              "          document.querySelector('#df-44789431-6d50-4b71-9b04-cf165c1498b1 button.colab-df-convert');\n",
              "        buttonEl.style.display =\n",
              "          google.colab.kernel.accessAllowed ? 'block' : 'none';\n",
              "\n",
              "        async function convertToInteractive(key) {\n",
              "          const element = document.querySelector('#df-44789431-6d50-4b71-9b04-cf165c1498b1');\n",
              "          const dataTable =\n",
              "            await google.colab.kernel.invokeFunction('convertToInteractive',\n",
              "                                                     [key], {});\n",
              "          if (!dataTable) return;\n",
              "\n",
              "          const docLinkHtml = 'Like what you see? Visit the ' +\n",
              "            '<a target=\"_blank\" href=https://colab.research.google.com/notebooks/data_table.ipynb>data table notebook</a>'\n",
              "            + ' to learn more about interactive tables.';\n",
              "          element.innerHTML = '';\n",
              "          dataTable['output_type'] = 'display_data';\n",
              "          await google.colab.output.renderOutput(dataTable, element);\n",
              "          const docLink = document.createElement('div');\n",
              "          docLink.innerHTML = docLinkHtml;\n",
              "          element.appendChild(docLink);\n",
              "        }\n",
              "      </script>\n",
              "    </div>\n",
              "  </div>\n",
              "  "
            ]
          },
          "metadata": {},
          "execution_count": 15
        }
      ]
    },
    {
      "cell_type": "code",
      "source": [
        "rides.shape"
      ],
      "metadata": {
        "colab": {
          "base_uri": "https://localhost:8080/"
        },
        "id": "FBGOjDCcPTjV",
        "outputId": "9eb3a047-0c6b-420b-8493-f98be78f3fe2"
      },
      "execution_count": 16,
      "outputs": [
        {
          "output_type": "execute_result",
          "data": {
            "text/plain": [
              "(31814, 13)"
            ]
          },
          "metadata": {},
          "execution_count": 16
        }
      ]
    },
    {
      "cell_type": "code",
      "source": [
        "rides = rides.astype(str)"
      ],
      "metadata": {
        "id": "Wut5nx5c7b8b"
      },
      "execution_count": 17,
      "outputs": []
    },
    {
      "cell_type": "code",
      "source": [
        "rides.values[0].astype('float32')"
      ],
      "metadata": {
        "colab": {
          "base_uri": "https://localhost:8080/"
        },
        "id": "V_8YkxPM8VXo",
        "outputId": "0f642036-7539-4be7-fa4d-d5f968f2d004"
      },
      "execution_count": 18,
      "outputs": [
        {
          "output_type": "execute_result",
          "data": {
            "text/plain": [
              "array([ 0.85714287,  0.01231362,  0.1       ,  0.16934307,  0.5833333 ,\n",
              "       -0.9908254 ,  0.8487879 ,  0.8378378 , -0.9904242 ,  0.8486156 ,\n",
              "        0.17391305,  0.51724136, 11.        ], dtype=float32)"
            ]
          },
          "metadata": {},
          "execution_count": 18
        }
      ]
    },
    {
      "cell_type": "markdown",
      "source": [
        "Put rides into buckets by date"
      ],
      "metadata": {
        "id": "sEJD-HUyvTh2"
      }
    },
    {
      "cell_type": "code",
      "source": [
        "# Group the rows by the 'id' column\n",
        "grouped = rides.groupby('id')\n",
        "\n",
        "# Create a list to store the grouped arrays\n",
        "day_buckets = []\n",
        "\n",
        "# Loop through each group\n",
        "for name, group in grouped:\n",
        "    # Convert the group to a numpy array\n",
        "    group_array = group.values.astype(np.float32)\n",
        "    \n",
        "    # Append the group array to the list of grouped arrays\n",
        "    day_buckets.append(group_array)\n",
        "\n",
        "# Set the display format of the numpy arrays\n",
        "np.set_printoptions(precision=6, suppress=True)\n",
        "\n",
        "# Sort the list of grouped arrays by the first column of each array\n",
        "day_buckets.sort(key=lambda x: x[0][1])\n"
      ],
      "metadata": {
        "id": "_WIOpiJqvQKv"
      },
      "execution_count": 19,
      "outputs": []
    },
    {
      "cell_type": "code",
      "source": [
        "# Do this or when you shuffle below it will shuffle both for some fucking reason, and copy doesn't work.\n",
        "day_buckets_y = [x.astype(str) for x in day_buckets[1:]]"
      ],
      "metadata": {
        "id": "EN2LBJsqw4v9"
      },
      "execution_count": 20,
      "outputs": []
    },
    {
      "cell_type": "code",
      "source": [
        "day_buckets_y[0][0]"
      ],
      "metadata": {
        "colab": {
          "base_uri": "https://localhost:8080/"
        },
        "id": "-NS5xNNpQgzX",
        "outputId": "31848f3d-0003-4673-dce8-2c488006d2c6"
      },
      "execution_count": 21,
      "outputs": [
        {
          "output_type": "execute_result",
          "data": {
            "text/plain": [
              "array(['0.2857143', '0.0032280714', '0.2', '0.13868614', '0.6805556',\n",
              "       '-0.990954', '0.8473343', '0.7972973', '-0.99070346', '0.84737885',\n",
              "       '0.17391305', '0.25862068', '913.0'], dtype='<U32')"
            ]
          },
          "metadata": {},
          "execution_count": 21
        }
      ]
    },
    {
      "cell_type": "code",
      "source": [
        "def shuffle_np_array(np_array_list):\n",
        "    for i in range(len(np_array_list)):\n",
        "        np.random.shuffle(np_array_list[i])\n",
        "    return np_array_list\n",
        "\n",
        "day_buckets_X = shuffle_np_array(day_buckets)[1:] # create a shuffled version for X below"
      ],
      "metadata": {
        "id": "mfLy4pFVLyOO"
      },
      "execution_count": 22,
      "outputs": []
    },
    {
      "cell_type": "markdown",
      "source": [
        "Below each 'word' is represented by a vector in the sentence we are trying to predict the order of."
      ],
      "metadata": {
        "id": "wtecLPLw5zO3"
      }
    },
    {
      "cell_type": "code",
      "source": [
        "from tensorflow import keras\n",
        "from tensorflow.keras.preprocessing.sequence import pad_sequences\n",
        "\n",
        "# X = []\n",
        "# y = []\n",
        "# max_length = 12\n",
        "# # Convert the input data into a 3D array of shape (num_samples, max_length, num_features)\n",
        "# for i in day_buckets_X:\n",
        "#   X.append(pad_sequences(i, maxlen=max_length, dtype='float32', padding='post', truncating='post'))\n",
        "# for i in day_buckets_y:\n",
        "#   y.append(pad_sequences(i, maxlen=max_length, dtype='float32', padding='post', truncating='post'))\n",
        "\n",
        "# space_type 0\n",
        "# billable_distance 1\n",
        "# run_name 2\n",
        "# rider.mediroutes_rider_id 3\n",
        "# pickup.event_location.zip 4\n",
        "# pickup.event_location.longitude 5\n",
        "# pickup.event_location.latitude 6\n",
        "# dropoff.event_location.zip 7\n",
        "# dropoff.event_location.longitude 8\n",
        "# dropoff.event_location.latitude 9\n",
        "# pickup_hour\tpickup_minute 10\n",
        "# id 11\n"
      ],
      "metadata": {
        "id": "_L-tLje0TK7i"
      },
      "execution_count": 23,
      "outputs": []
    },
    {
      "cell_type": "code",
      "source": [
        "input = []\n",
        "target = []\n",
        "for array in day_buckets_X:\n",
        "    new_array = np.delete(array, -1, axis=1)\n",
        "    input.append(new_array.astype('float32'))\n",
        "\n",
        "count = 0\n",
        "for array in day_buckets_y:\n",
        "    new_array = np.delete(array, -1, axis=1)\n",
        "    target.append(new_array.astype('float32'))\n"
      ],
      "metadata": {
        "id": "1FphjSRRPfcS"
      },
      "execution_count": 24,
      "outputs": []
    },
    {
      "cell_type": "code",
      "source": [
        "def pad_array(arr):\n",
        "    padding = np.zeros((1, 12))\n",
        "    while arr.shape[0] < 125:\n",
        "        arr = np.concatenate((arr, padding), axis=0)\n",
        "    return arr\n",
        "input[0] = pad_array(input[0])\n",
        "target[0] = pad_array(target[0])"
      ],
      "metadata": {
        "id": "s_FITXLLdWdD"
      },
      "execution_count": 25,
      "outputs": []
    },
    {
      "cell_type": "code",
      "source": [
        "# The error message suggests that the model is expecting 2 inputs, but only 1 input tensor was provided for validation data. \n",
        "# To resolve this issue, make sure the input tensors for the validation data match the expected input shape and number of inputs \n",
        "# as defined in the model architecture. If the model requires multiple inputs, make sure to pass them in as a list or tuple in \n",
        "# the correct order.\n",
        "\n",
        "def create_validation_set():\n",
        "\n",
        "  X_val = input[-1].astype('float32')\n",
        "  X_val = pad_array(X_val)\n",
        "\n",
        "  y_val = target[-1].astype('float32')\n",
        "  y_val = pad_array(y_val)\n",
        "\n",
        "  return X_val, y_val\n",
        "\n",
        "X_val, y_val = create_validation_set()"
      ],
      "metadata": {
        "id": "EPbi5kLhJrOY"
      },
      "execution_count": 26,
      "outputs": []
    },
    {
      "cell_type": "code",
      "source": [
        "input[0]"
      ],
      "metadata": {
        "colab": {
          "base_uri": "https://localhost:8080/"
        },
        "id": "cGewxrMXfBOK",
        "outputId": "57778026-b752-4881-8e94-87f05b0cba62"
      },
      "execution_count": 27,
      "outputs": [
        {
          "output_type": "execute_result",
          "data": {
            "text/plain": [
              "array([[0.857143, 0.007688, 0.4     , ..., 0.846973, 0.217391, 0.517241],\n",
              "       [0.857143, 0.007597, 0.35    , ..., 0.847258, 0.695652, 0.775862],\n",
              "       [0.857143, 0.005848, 0.1     , ..., 0.847978, 0.565217, 0.258621],\n",
              "       ...,\n",
              "       [0.      , 0.      , 0.      , ..., 0.      , 0.      , 0.      ],\n",
              "       [0.      , 0.      , 0.      , ..., 0.      , 0.      , 0.      ],\n",
              "       [0.      , 0.      , 0.      , ..., 0.      , 0.      , 0.      ]])"
            ]
          },
          "metadata": {},
          "execution_count": 27
        }
      ]
    },
    {
      "cell_type": "code",
      "source": [
        "input_df = pd.DataFrame(input[0], columns=[\n",
        "'input_space_type',\n",
        "'input_billable_distance',\n",
        "'input_run_name',\n",
        "'input_rider.mediroutes_rider_id',\n",
        "'input_pickup.event_location.zip',\n",
        "'input_pickup.event_location.longitude',\n",
        "'input_pickup.event_location.latitude',\n",
        "'input_dropoff.event_location.zip',\n",
        "'input_dropoff.event_location.longitude',\n",
        "'input_dropoff.event_location.latitude',\n",
        "'input_pickup_hour',\n",
        "'input_pickup_minute'\n",
        "])\n",
        "\n",
        "target_df = pd.DataFrame(target[0], columns=[\n",
        "'target_space_type',\n",
        "'target_billable_distance',\n",
        "'target_run_name',\n",
        "'target_rider.mediroutes_rider_id',\n",
        "'target_pickup.event_location.zip',\n",
        "'target_pickup.event_location.longitude',\n",
        "'target_pickup.event_location.latitude',\n",
        "'target_dropoff.event_location.zip',\n",
        "'target_dropoff.event_location.longitude',\n",
        "'target_dropoff.event_location.latitude',\n",
        "'target_pickup_hour',\n",
        "'target_pickup_minute'\n",
        "])\n",
        "\n",
        "check = pd.concat([input_df, target_df], axis=1)"
      ],
      "metadata": {
        "id": "L7hK3tNj_REH"
      },
      "execution_count": 28,
      "outputs": []
    },
    {
      "cell_type": "code",
      "source": [
        "input[0][24]"
      ],
      "metadata": {
        "colab": {
          "base_uri": "https://localhost:8080/"
        },
        "id": "VN6TDd5TEjbv",
        "outputId": "40a1690c-24ea-45e9-e39d-6706d910f496"
      },
      "execution_count": 29,
      "outputs": [
        {
          "output_type": "execute_result",
          "data": {
            "text/plain": [
              "array([ 0.857143,  0.022823,  0.      ,  0.290511,  0.166667, -0.993161,\n",
              "        0.851034,  0.121622, -0.991972,  0.849073,  0.347826,  0.      ])"
            ]
          },
          "metadata": {},
          "execution_count": 29
        }
      ]
    },
    {
      "cell_type": "code",
      "source": [
        "target[0][0]"
      ],
      "metadata": {
        "colab": {
          "base_uri": "https://localhost:8080/"
        },
        "id": "oHOPBdaEFrkt",
        "outputId": "28a35558-4e81-414b-cc13-9d86af2791c2"
      },
      "execution_count": 30,
      "outputs": [
        {
          "output_type": "execute_result",
          "data": {
            "text/plain": [
              "array([ 0.285714,  0.003228,  0.2     ,  0.138686,  0.680556, -0.990954,\n",
              "        0.847334,  0.797297, -0.990703,  0.847379,  0.173913,  0.258621])"
            ]
          },
          "metadata": {},
          "execution_count": 30
        }
      ]
    },
    {
      "cell_type": "code",
      "source": [
        "check.to_csv('/content/check.csv')"
      ],
      "metadata": {
        "id": "Wbfb-GLG_wk0"
      },
      "execution_count": 31,
      "outputs": []
    },
    {
      "cell_type": "code",
      "source": [
        "input[0].shape"
      ],
      "metadata": {
        "colab": {
          "base_uri": "https://localhost:8080/"
        },
        "id": "lBIomjW5g6dN",
        "outputId": "3e678595-a59a-4427-a8c7-97210d4446b1"
      },
      "execution_count": 32,
      "outputs": [
        {
          "output_type": "execute_result",
          "data": {
            "text/plain": [
              "(125, 12)"
            ]
          },
          "metadata": {},
          "execution_count": 32
        }
      ]
    },
    {
      "cell_type": "code",
      "source": [
        "target[0].shape"
      ],
      "metadata": {
        "colab": {
          "base_uri": "https://localhost:8080/"
        },
        "id": "mXQrAiSSg7KA",
        "outputId": "35de2f28-3a77-4a41-fb5a-ffb6c6a12287"
      },
      "execution_count": 33,
      "outputs": [
        {
          "output_type": "execute_result",
          "data": {
            "text/plain": [
              "(125, 12)"
            ]
          },
          "metadata": {},
          "execution_count": 33
        }
      ]
    },
    {
      "cell_type": "code",
      "source": [
        "# Define the input and output shape\n",
        "input_shape = (125, 12)\n",
        "output_shape = (125, 12)"
      ],
      "metadata": {
        "id": "5yZgnSDKBmRV"
      },
      "execution_count": 34,
      "outputs": []
    },
    {
      "cell_type": "markdown",
      "source": [
        "Set the day to train on"
      ],
      "metadata": {
        "id": "TlORCtFIjCak"
      }
    },
    {
      "cell_type": "code",
      "source": [
        "input = input[0]\n",
        "target = target[0]\n",
        "X_val = X_val\n",
        "y_val = y_val"
      ],
      "metadata": {
        "id": "DizO8PIIB5Ht"
      },
      "execution_count": 35,
      "outputs": []
    },
    {
      "cell_type": "code",
      "source": [
        "y_val"
      ],
      "metadata": {
        "colab": {
          "base_uri": "https://localhost:8080/"
        },
        "id": "O6A6JQOIHvDp",
        "outputId": "506c21d7-6fd2-4800-9d89-38ef92c49d77"
      },
      "execution_count": 36,
      "outputs": [
        {
          "output_type": "execute_result",
          "data": {
            "text/plain": [
              "array([[0.285714, 0.045571, 0.05    , ..., 0.849885, 0.173913, 0.258621],\n",
              "       [0.857143, 0.004869, 0.25    , ..., 0.847379, 0.173913, 0.517241],\n",
              "       [0.857143, 0.012092, 0.3     , ..., 0.848719, 0.173913, 0.775862],\n",
              "       ...,\n",
              "       [0.      , 0.      , 0.      , ..., 0.      , 0.      , 0.      ],\n",
              "       [0.      , 0.      , 0.      , ..., 0.      , 0.      , 0.      ],\n",
              "       [0.      , 0.      , 0.      , ..., 0.      , 0.      , 0.      ]])"
            ]
          },
          "metadata": {},
          "execution_count": 36
        }
      ]
    },
    {
      "cell_type": "code",
      "source": [
        "# model = keras.models.load_model('/content/drive/MyDrive/Colab_Models/RBSeq2Seq')"
      ],
      "metadata": {
        "id": "_fYOnuaIh8fq"
      },
      "execution_count": 37,
      "outputs": []
    },
    {
      "cell_type": "code",
      "source": [
        "from tensorflow.keras.callbacks import EarlyStopping\n",
        "early_stopping = EarlyStopping(monitor='val_loss', patience=5)"
      ],
      "metadata": {
        "id": "Y72bHydAQQ38"
      },
      "execution_count": 38,
      "outputs": []
    },
    {
      "cell_type": "code",
      "source": [
        "input = input.reshape(1, *input.shape)\n",
        "target = target.reshape(1, *target.shape)\n",
        "X_val = X_val.reshape(1, *X_val.shape)\n",
        "y_val = y_val.reshape(1, *y_val.shape)\n",
        "\n",
        "print(input.shape)\n",
        "print(target.shape)\n",
        "print(X_val.shape)\n",
        "print(y_val.shape)\n",
        "\n",
        "# Define the encoder\n",
        "encoder_inputs = keras.layers.Input(shape=input_shape)\n",
        "encoder = keras.layers.LSTM(64, return_state=True)\n",
        "encoder_outputs, state_h, state_c = encoder(encoder_inputs)\n",
        "encoder_states = [state_h, state_c]\n",
        "\n",
        "# Define the decoder\n",
        "decoder_inputs = keras.layers.Input(shape=(None, 12))\n",
        "decoder_lstm = keras.layers.LSTM(64, return_sequences=True, return_state=True)\n",
        "decoder_outputs, _, _ = decoder_lstm(decoder_inputs, initial_state=encoder_states)\n",
        "\n",
        "# Add the attention mechanism\n",
        "attention = keras.layers.Attention()([decoder_outputs, encoder_outputs])\n",
        "decoder_outputs = keras.layers.Concatenate()([decoder_outputs, attention])\n",
        "\n",
        "decoder_dense = keras.layers.Dense(12, activation='linear')\n",
        "decoder_outputs = decoder_dense(decoder_outputs)\n",
        "\n",
        "# Define the model\n",
        "model = keras.models.Model([encoder_inputs, decoder_inputs], decoder_outputs)\n",
        "model.compile(optimizer=tf.keras.optimizers.Adam(learning_rate=0.001),\n",
        "              loss='mean_squared_error')\n"
      ],
      "metadata": {
        "colab": {
          "base_uri": "https://localhost:8080/"
        },
        "id": "kNsS9FF-hnRs",
        "outputId": "49956a1a-d7c2-47c5-d4f2-efac7f999039"
      },
      "execution_count": 39,
      "outputs": [
        {
          "output_type": "stream",
          "name": "stdout",
          "text": [
            "(1, 125, 12)\n",
            "(1, 125, 12)\n",
            "(1, 125, 12)\n",
            "(1, 125, 12)\n"
          ]
        }
      ]
    },
    {
      "cell_type": "code",
      "source": [
        "#  validation_data=([X_val, y_val], y_val), the first element of the tuple, [X_val, y_val], are the inputs to the model during validation. The second element of the tuple, y_val, is the expected target output during validation.\n",
        "\n",
        "# Train the model\n",
        "history = model.fit([input, target], target, epochs=300, batch_size=16, validation_data=([X_val, y_val], y_val), callbacks=[early_stopping], verbose=2)"
      ],
      "metadata": {
        "colab": {
          "base_uri": "https://localhost:8080/"
        },
        "id": "6zvUJp5yNsdV",
        "outputId": "add8cadc-56f3-4d5b-fe1d-83542c709d76"
      },
      "execution_count": 40,
      "outputs": [
        {
          "output_type": "stream",
          "name": "stdout",
          "text": [
            "Epoch 1/300\n",
            "1/1 - 5s - loss: 0.3481 - val_loss: 0.3414 - 5s/epoch - 5s/step\n",
            "Epoch 2/300\n",
            "1/1 - 0s - loss: 0.3100 - val_loss: 0.3009 - 97ms/epoch - 97ms/step\n",
            "Epoch 3/300\n",
            "1/1 - 0s - loss: 0.2738 - val_loss: 0.2622 - 107ms/epoch - 107ms/step\n",
            "Epoch 4/300\n",
            "1/1 - 0s - loss: 0.2393 - val_loss: 0.2254 - 98ms/epoch - 98ms/step\n",
            "Epoch 5/300\n",
            "1/1 - 0s - loss: 0.2066 - val_loss: 0.1905 - 97ms/epoch - 97ms/step\n",
            "Epoch 6/300\n",
            "1/1 - 0s - loss: 0.1759 - val_loss: 0.1578 - 103ms/epoch - 103ms/step\n",
            "Epoch 7/300\n",
            "1/1 - 0s - loss: 0.1472 - val_loss: 0.1278 - 104ms/epoch - 104ms/step\n",
            "Epoch 8/300\n",
            "1/1 - 0s - loss: 0.1212 - val_loss: 0.1015 - 125ms/epoch - 125ms/step\n",
            "Epoch 9/300\n",
            "1/1 - 0s - loss: 0.0983 - val_loss: 0.0805 - 113ms/epoch - 113ms/step\n",
            "Epoch 10/300\n",
            "1/1 - 0s - loss: 0.0800 - val_loss: 0.0678 - 100ms/epoch - 100ms/step\n",
            "Epoch 11/300\n",
            "1/1 - 0s - loss: 0.0683 - val_loss: 0.0648 - 96ms/epoch - 96ms/step\n",
            "Epoch 12/300\n",
            "1/1 - 0s - loss: 0.0647 - val_loss: 0.0658 - 122ms/epoch - 122ms/step\n",
            "Epoch 13/300\n",
            "1/1 - 0s - loss: 0.0652 - val_loss: 0.0666 - 98ms/epoch - 98ms/step\n",
            "Epoch 14/300\n",
            "1/1 - 0s - loss: 0.0658 - val_loss: 0.0659 - 97ms/epoch - 97ms/step\n",
            "Epoch 15/300\n",
            "1/1 - 0s - loss: 0.0653 - val_loss: 0.0640 - 112ms/epoch - 112ms/step\n",
            "Epoch 16/300\n",
            "1/1 - 0s - loss: 0.0635 - val_loss: 0.0613 - 109ms/epoch - 109ms/step\n",
            "Epoch 17/300\n",
            "1/1 - 0s - loss: 0.0610 - val_loss: 0.0584 - 102ms/epoch - 102ms/step\n",
            "Epoch 18/300\n",
            "1/1 - 0s - loss: 0.0580 - val_loss: 0.0554 - 114ms/epoch - 114ms/step\n",
            "Epoch 19/300\n",
            "1/1 - 0s - loss: 0.0550 - val_loss: 0.0528 - 113ms/epoch - 113ms/step\n",
            "Epoch 20/300\n",
            "1/1 - 0s - loss: 0.0523 - val_loss: 0.0505 - 96ms/epoch - 96ms/step\n",
            "Epoch 21/300\n",
            "1/1 - 0s - loss: 0.0500 - val_loss: 0.0487 - 107ms/epoch - 107ms/step\n",
            "Epoch 22/300\n",
            "1/1 - 0s - loss: 0.0483 - val_loss: 0.0473 - 102ms/epoch - 102ms/step\n",
            "Epoch 23/300\n",
            "1/1 - 0s - loss: 0.0469 - val_loss: 0.0462 - 106ms/epoch - 106ms/step\n",
            "Epoch 24/300\n",
            "1/1 - 0s - loss: 0.0459 - val_loss: 0.0452 - 94ms/epoch - 94ms/step\n",
            "Epoch 25/300\n",
            "1/1 - 0s - loss: 0.0451 - val_loss: 0.0444 - 100ms/epoch - 100ms/step\n",
            "Epoch 26/300\n",
            "1/1 - 0s - loss: 0.0444 - val_loss: 0.0436 - 99ms/epoch - 99ms/step\n",
            "Epoch 27/300\n",
            "1/1 - 0s - loss: 0.0437 - val_loss: 0.0427 - 113ms/epoch - 113ms/step\n",
            "Epoch 28/300\n",
            "1/1 - 0s - loss: 0.0430 - val_loss: 0.0419 - 100ms/epoch - 100ms/step\n",
            "Epoch 29/300\n",
            "1/1 - 0s - loss: 0.0423 - val_loss: 0.0411 - 104ms/epoch - 104ms/step\n",
            "Epoch 30/300\n",
            "1/1 - 0s - loss: 0.0416 - val_loss: 0.0403 - 109ms/epoch - 109ms/step\n",
            "Epoch 31/300\n",
            "1/1 - 0s - loss: 0.0409 - val_loss: 0.0396 - 103ms/epoch - 103ms/step\n",
            "Epoch 32/300\n",
            "1/1 - 0s - loss: 0.0403 - val_loss: 0.0389 - 103ms/epoch - 103ms/step\n",
            "Epoch 33/300\n",
            "1/1 - 0s - loss: 0.0397 - val_loss: 0.0384 - 99ms/epoch - 99ms/step\n",
            "Epoch 34/300\n",
            "1/1 - 0s - loss: 0.0392 - val_loss: 0.0378 - 103ms/epoch - 103ms/step\n",
            "Epoch 35/300\n",
            "1/1 - 0s - loss: 0.0386 - val_loss: 0.0374 - 104ms/epoch - 104ms/step\n",
            "Epoch 36/300\n",
            "1/1 - 0s - loss: 0.0381 - val_loss: 0.0369 - 102ms/epoch - 102ms/step\n",
            "Epoch 37/300\n",
            "1/1 - 0s - loss: 0.0377 - val_loss: 0.0366 - 107ms/epoch - 107ms/step\n",
            "Epoch 38/300\n",
            "1/1 - 0s - loss: 0.0373 - val_loss: 0.0362 - 97ms/epoch - 97ms/step\n",
            "Epoch 39/300\n",
            "1/1 - 0s - loss: 0.0369 - val_loss: 0.0359 - 96ms/epoch - 96ms/step\n",
            "Epoch 40/300\n",
            "1/1 - 0s - loss: 0.0365 - val_loss: 0.0356 - 97ms/epoch - 97ms/step\n",
            "Epoch 41/300\n",
            "1/1 - 0s - loss: 0.0361 - val_loss: 0.0353 - 97ms/epoch - 97ms/step\n",
            "Epoch 42/300\n",
            "1/1 - 0s - loss: 0.0358 - val_loss: 0.0349 - 121ms/epoch - 121ms/step\n",
            "Epoch 43/300\n",
            "1/1 - 0s - loss: 0.0354 - val_loss: 0.0346 - 98ms/epoch - 98ms/step\n",
            "Epoch 44/300\n",
            "1/1 - 0s - loss: 0.0350 - val_loss: 0.0342 - 105ms/epoch - 105ms/step\n",
            "Epoch 45/300\n",
            "1/1 - 0s - loss: 0.0346 - val_loss: 0.0339 - 104ms/epoch - 104ms/step\n",
            "Epoch 46/300\n",
            "1/1 - 0s - loss: 0.0343 - val_loss: 0.0336 - 104ms/epoch - 104ms/step\n",
            "Epoch 47/300\n",
            "1/1 - 0s - loss: 0.0339 - val_loss: 0.0333 - 105ms/epoch - 105ms/step\n",
            "Epoch 48/300\n",
            "1/1 - 0s - loss: 0.0337 - val_loss: 0.0330 - 104ms/epoch - 104ms/step\n",
            "Epoch 49/300\n",
            "1/1 - 0s - loss: 0.0334 - val_loss: 0.0328 - 132ms/epoch - 132ms/step\n",
            "Epoch 50/300\n",
            "1/1 - 0s - loss: 0.0332 - val_loss: 0.0326 - 106ms/epoch - 106ms/step\n",
            "Epoch 51/300\n",
            "1/1 - 0s - loss: 0.0330 - val_loss: 0.0324 - 117ms/epoch - 117ms/step\n",
            "Epoch 52/300\n",
            "1/1 - 0s - loss: 0.0328 - val_loss: 0.0322 - 105ms/epoch - 105ms/step\n",
            "Epoch 53/300\n",
            "1/1 - 0s - loss: 0.0325 - val_loss: 0.0319 - 119ms/epoch - 119ms/step\n",
            "Epoch 54/300\n",
            "1/1 - 0s - loss: 0.0323 - val_loss: 0.0317 - 109ms/epoch - 109ms/step\n",
            "Epoch 55/300\n",
            "1/1 - 0s - loss: 0.0320 - val_loss: 0.0315 - 108ms/epoch - 108ms/step\n",
            "Epoch 56/300\n",
            "1/1 - 0s - loss: 0.0318 - val_loss: 0.0313 - 113ms/epoch - 113ms/step\n",
            "Epoch 57/300\n",
            "1/1 - 0s - loss: 0.0315 - val_loss: 0.0311 - 94ms/epoch - 94ms/step\n",
            "Epoch 58/300\n",
            "1/1 - 0s - loss: 0.0313 - val_loss: 0.0309 - 98ms/epoch - 98ms/step\n",
            "Epoch 59/300\n",
            "1/1 - 0s - loss: 0.0311 - val_loss: 0.0307 - 97ms/epoch - 97ms/step\n",
            "Epoch 60/300\n",
            "1/1 - 0s - loss: 0.0309 - val_loss: 0.0305 - 101ms/epoch - 101ms/step\n",
            "Epoch 61/300\n",
            "1/1 - 0s - loss: 0.0307 - val_loss: 0.0303 - 99ms/epoch - 99ms/step\n",
            "Epoch 62/300\n",
            "1/1 - 0s - loss: 0.0305 - val_loss: 0.0301 - 95ms/epoch - 95ms/step\n",
            "Epoch 63/300\n",
            "1/1 - 0s - loss: 0.0303 - val_loss: 0.0300 - 101ms/epoch - 101ms/step\n",
            "Epoch 64/300\n",
            "1/1 - 0s - loss: 0.0301 - val_loss: 0.0298 - 98ms/epoch - 98ms/step\n",
            "Epoch 65/300\n",
            "1/1 - 0s - loss: 0.0300 - val_loss: 0.0296 - 109ms/epoch - 109ms/step\n",
            "Epoch 66/300\n",
            "1/1 - 0s - loss: 0.0298 - val_loss: 0.0294 - 100ms/epoch - 100ms/step\n",
            "Epoch 67/300\n",
            "1/1 - 0s - loss: 0.0296 - val_loss: 0.0292 - 96ms/epoch - 96ms/step\n",
            "Epoch 68/300\n",
            "1/1 - 0s - loss: 0.0294 - val_loss: 0.0291 - 102ms/epoch - 102ms/step\n",
            "Epoch 69/300\n",
            "1/1 - 0s - loss: 0.0292 - val_loss: 0.0289 - 99ms/epoch - 99ms/step\n",
            "Epoch 70/300\n",
            "1/1 - 0s - loss: 0.0290 - val_loss: 0.0288 - 101ms/epoch - 101ms/step\n",
            "Epoch 71/300\n",
            "1/1 - 0s - loss: 0.0288 - val_loss: 0.0286 - 106ms/epoch - 106ms/step\n",
            "Epoch 72/300\n",
            "1/1 - 0s - loss: 0.0287 - val_loss: 0.0285 - 104ms/epoch - 104ms/step\n",
            "Epoch 73/300\n",
            "1/1 - 0s - loss: 0.0285 - val_loss: 0.0283 - 96ms/epoch - 96ms/step\n",
            "Epoch 74/300\n",
            "1/1 - 0s - loss: 0.0283 - val_loss: 0.0282 - 107ms/epoch - 107ms/step\n",
            "Epoch 75/300\n",
            "1/1 - 0s - loss: 0.0281 - val_loss: 0.0280 - 104ms/epoch - 104ms/step\n",
            "Epoch 76/300\n",
            "1/1 - 0s - loss: 0.0280 - val_loss: 0.0278 - 99ms/epoch - 99ms/step\n",
            "Epoch 77/300\n",
            "1/1 - 0s - loss: 0.0278 - val_loss: 0.0277 - 101ms/epoch - 101ms/step\n",
            "Epoch 78/300\n",
            "1/1 - 0s - loss: 0.0276 - val_loss: 0.0275 - 100ms/epoch - 100ms/step\n",
            "Epoch 79/300\n",
            "1/1 - 0s - loss: 0.0274 - val_loss: 0.0273 - 97ms/epoch - 97ms/step\n",
            "Epoch 80/300\n",
            "1/1 - 0s - loss: 0.0273 - val_loss: 0.0272 - 104ms/epoch - 104ms/step\n",
            "Epoch 81/300\n",
            "1/1 - 0s - loss: 0.0271 - val_loss: 0.0270 - 97ms/epoch - 97ms/step\n",
            "Epoch 82/300\n",
            "1/1 - 0s - loss: 0.0269 - val_loss: 0.0269 - 107ms/epoch - 107ms/step\n",
            "Epoch 83/300\n",
            "1/1 - 0s - loss: 0.0268 - val_loss: 0.0267 - 100ms/epoch - 100ms/step\n",
            "Epoch 84/300\n",
            "1/1 - 0s - loss: 0.0266 - val_loss: 0.0266 - 109ms/epoch - 109ms/step\n",
            "Epoch 85/300\n",
            "1/1 - 0s - loss: 0.0264 - val_loss: 0.0265 - 98ms/epoch - 98ms/step\n",
            "Epoch 86/300\n",
            "1/1 - 0s - loss: 0.0263 - val_loss: 0.0263 - 107ms/epoch - 107ms/step\n",
            "Epoch 87/300\n",
            "1/1 - 0s - loss: 0.0261 - val_loss: 0.0262 - 96ms/epoch - 96ms/step\n",
            "Epoch 88/300\n",
            "1/1 - 0s - loss: 0.0259 - val_loss: 0.0260 - 99ms/epoch - 99ms/step\n",
            "Epoch 89/300\n",
            "1/1 - 0s - loss: 0.0257 - val_loss: 0.0258 - 112ms/epoch - 112ms/step\n",
            "Epoch 90/300\n",
            "1/1 - 0s - loss: 0.0256 - val_loss: 0.0257 - 100ms/epoch - 100ms/step\n",
            "Epoch 91/300\n",
            "1/1 - 0s - loss: 0.0254 - val_loss: 0.0255 - 109ms/epoch - 109ms/step\n",
            "Epoch 92/300\n",
            "1/1 - 0s - loss: 0.0252 - val_loss: 0.0254 - 106ms/epoch - 106ms/step\n",
            "Epoch 93/300\n",
            "1/1 - 0s - loss: 0.0250 - val_loss: 0.0252 - 99ms/epoch - 99ms/step\n",
            "Epoch 94/300\n",
            "1/1 - 0s - loss: 0.0248 - val_loss: 0.0250 - 116ms/epoch - 116ms/step\n",
            "Epoch 95/300\n",
            "1/1 - 0s - loss: 0.0247 - val_loss: 0.0248 - 98ms/epoch - 98ms/step\n",
            "Epoch 96/300\n",
            "1/1 - 0s - loss: 0.0245 - val_loss: 0.0246 - 100ms/epoch - 100ms/step\n",
            "Epoch 97/300\n",
            "1/1 - 0s - loss: 0.0243 - val_loss: 0.0244 - 107ms/epoch - 107ms/step\n",
            "Epoch 98/300\n",
            "1/1 - 0s - loss: 0.0241 - val_loss: 0.0243 - 102ms/epoch - 102ms/step\n",
            "Epoch 99/300\n",
            "1/1 - 0s - loss: 0.0238 - val_loss: 0.0241 - 103ms/epoch - 103ms/step\n",
            "Epoch 100/300\n",
            "1/1 - 0s - loss: 0.0236 - val_loss: 0.0239 - 115ms/epoch - 115ms/step\n",
            "Epoch 101/300\n",
            "1/1 - 0s - loss: 0.0234 - val_loss: 0.0238 - 97ms/epoch - 97ms/step\n",
            "Epoch 102/300\n",
            "1/1 - 0s - loss: 0.0232 - val_loss: 0.0236 - 103ms/epoch - 103ms/step\n",
            "Epoch 103/300\n",
            "1/1 - 0s - loss: 0.0230 - val_loss: 0.0234 - 113ms/epoch - 113ms/step\n",
            "Epoch 104/300\n",
            "1/1 - 0s - loss: 0.0228 - val_loss: 0.0233 - 98ms/epoch - 98ms/step\n",
            "Epoch 105/300\n",
            "1/1 - 0s - loss: 0.0226 - val_loss: 0.0231 - 108ms/epoch - 108ms/step\n",
            "Epoch 106/300\n",
            "1/1 - 0s - loss: 0.0224 - val_loss: 0.0230 - 101ms/epoch - 101ms/step\n",
            "Epoch 107/300\n",
            "1/1 - 0s - loss: 0.0223 - val_loss: 0.0228 - 99ms/epoch - 99ms/step\n",
            "Epoch 108/300\n",
            "1/1 - 0s - loss: 0.0221 - val_loss: 0.0227 - 102ms/epoch - 102ms/step\n",
            "Epoch 109/300\n",
            "1/1 - 0s - loss: 0.0220 - val_loss: 0.0225 - 103ms/epoch - 103ms/step\n",
            "Epoch 110/300\n",
            "1/1 - 0s - loss: 0.0219 - val_loss: 0.0224 - 127ms/epoch - 127ms/step\n",
            "Epoch 111/300\n",
            "1/1 - 0s - loss: 0.0217 - val_loss: 0.0223 - 108ms/epoch - 108ms/step\n",
            "Epoch 112/300\n",
            "1/1 - 0s - loss: 0.0216 - val_loss: 0.0222 - 104ms/epoch - 104ms/step\n",
            "Epoch 113/300\n",
            "1/1 - 0s - loss: 0.0215 - val_loss: 0.0220 - 91ms/epoch - 91ms/step\n",
            "Epoch 114/300\n",
            "1/1 - 0s - loss: 0.0213 - val_loss: 0.0219 - 99ms/epoch - 99ms/step\n",
            "Epoch 115/300\n",
            "1/1 - 0s - loss: 0.0212 - val_loss: 0.0218 - 94ms/epoch - 94ms/step\n",
            "Epoch 116/300\n",
            "1/1 - 0s - loss: 0.0210 - val_loss: 0.0217 - 99ms/epoch - 99ms/step\n",
            "Epoch 117/300\n",
            "1/1 - 0s - loss: 0.0209 - val_loss: 0.0216 - 111ms/epoch - 111ms/step\n",
            "Epoch 118/300\n",
            "1/1 - 0s - loss: 0.0207 - val_loss: 0.0215 - 98ms/epoch - 98ms/step\n",
            "Epoch 119/300\n",
            "1/1 - 0s - loss: 0.0206 - val_loss: 0.0214 - 106ms/epoch - 106ms/step\n",
            "Epoch 120/300\n",
            "1/1 - 0s - loss: 0.0205 - val_loss: 0.0213 - 104ms/epoch - 104ms/step\n",
            "Epoch 121/300\n",
            "1/1 - 0s - loss: 0.0203 - val_loss: 0.0212 - 104ms/epoch - 104ms/step\n",
            "Epoch 122/300\n",
            "1/1 - 0s - loss: 0.0202 - val_loss: 0.0211 - 110ms/epoch - 110ms/step\n",
            "Epoch 123/300\n",
            "1/1 - 0s - loss: 0.0201 - val_loss: 0.0210 - 98ms/epoch - 98ms/step\n",
            "Epoch 124/300\n",
            "1/1 - 0s - loss: 0.0200 - val_loss: 0.0209 - 97ms/epoch - 97ms/step\n",
            "Epoch 125/300\n",
            "1/1 - 0s - loss: 0.0198 - val_loss: 0.0208 - 104ms/epoch - 104ms/step\n",
            "Epoch 126/300\n",
            "1/1 - 0s - loss: 0.0197 - val_loss: 0.0207 - 100ms/epoch - 100ms/step\n",
            "Epoch 127/300\n",
            "1/1 - 0s - loss: 0.0196 - val_loss: 0.0206 - 100ms/epoch - 100ms/step\n",
            "Epoch 128/300\n",
            "1/1 - 0s - loss: 0.0195 - val_loss: 0.0205 - 111ms/epoch - 111ms/step\n",
            "Epoch 129/300\n",
            "1/1 - 0s - loss: 0.0193 - val_loss: 0.0205 - 99ms/epoch - 99ms/step\n",
            "Epoch 130/300\n",
            "1/1 - 0s - loss: 0.0192 - val_loss: 0.0204 - 93ms/epoch - 93ms/step\n",
            "Epoch 131/300\n",
            "1/1 - 0s - loss: 0.0191 - val_loss: 0.0203 - 109ms/epoch - 109ms/step\n",
            "Epoch 132/300\n",
            "1/1 - 0s - loss: 0.0190 - val_loss: 0.0202 - 95ms/epoch - 95ms/step\n",
            "Epoch 133/300\n",
            "1/1 - 0s - loss: 0.0188 - val_loss: 0.0201 - 104ms/epoch - 104ms/step\n",
            "Epoch 134/300\n",
            "1/1 - 0s - loss: 0.0187 - val_loss: 0.0200 - 109ms/epoch - 109ms/step\n",
            "Epoch 135/300\n",
            "1/1 - 0s - loss: 0.0186 - val_loss: 0.0199 - 100ms/epoch - 100ms/step\n",
            "Epoch 136/300\n",
            "1/1 - 0s - loss: 0.0185 - val_loss: 0.0198 - 101ms/epoch - 101ms/step\n",
            "Epoch 137/300\n",
            "1/1 - 0s - loss: 0.0184 - val_loss: 0.0198 - 104ms/epoch - 104ms/step\n",
            "Epoch 138/300\n",
            "1/1 - 0s - loss: 0.0183 - val_loss: 0.0197 - 121ms/epoch - 121ms/step\n",
            "Epoch 139/300\n",
            "1/1 - 0s - loss: 0.0181 - val_loss: 0.0196 - 98ms/epoch - 98ms/step\n",
            "Epoch 140/300\n",
            "1/1 - 0s - loss: 0.0180 - val_loss: 0.0195 - 96ms/epoch - 96ms/step\n",
            "Epoch 141/300\n",
            "1/1 - 0s - loss: 0.0179 - val_loss: 0.0194 - 108ms/epoch - 108ms/step\n",
            "Epoch 142/300\n",
            "1/1 - 0s - loss: 0.0178 - val_loss: 0.0193 - 99ms/epoch - 99ms/step\n",
            "Epoch 143/300\n",
            "1/1 - 0s - loss: 0.0177 - val_loss: 0.0192 - 137ms/epoch - 137ms/step\n",
            "Epoch 144/300\n",
            "1/1 - 0s - loss: 0.0175 - val_loss: 0.0191 - 101ms/epoch - 101ms/step\n",
            "Epoch 145/300\n",
            "1/1 - 0s - loss: 0.0174 - val_loss: 0.0190 - 103ms/epoch - 103ms/step\n",
            "Epoch 146/300\n",
            "1/1 - 0s - loss: 0.0173 - val_loss: 0.0190 - 105ms/epoch - 105ms/step\n",
            "Epoch 147/300\n",
            "1/1 - 0s - loss: 0.0172 - val_loss: 0.0189 - 101ms/epoch - 101ms/step\n",
            "Epoch 148/300\n",
            "1/1 - 0s - loss: 0.0171 - val_loss: 0.0188 - 97ms/epoch - 97ms/step\n",
            "Epoch 149/300\n",
            "1/1 - 0s - loss: 0.0170 - val_loss: 0.0187 - 97ms/epoch - 97ms/step\n",
            "Epoch 150/300\n",
            "1/1 - 0s - loss: 0.0168 - val_loss: 0.0186 - 111ms/epoch - 111ms/step\n",
            "Epoch 151/300\n",
            "1/1 - 0s - loss: 0.0167 - val_loss: 0.0185 - 99ms/epoch - 99ms/step\n",
            "Epoch 152/300\n",
            "1/1 - 0s - loss: 0.0166 - val_loss: 0.0184 - 97ms/epoch - 97ms/step\n",
            "Epoch 153/300\n",
            "1/1 - 0s - loss: 0.0165 - val_loss: 0.0184 - 97ms/epoch - 97ms/step\n",
            "Epoch 154/300\n",
            "1/1 - 0s - loss: 0.0164 - val_loss: 0.0183 - 104ms/epoch - 104ms/step\n",
            "Epoch 155/300\n",
            "1/1 - 0s - loss: 0.0163 - val_loss: 0.0182 - 99ms/epoch - 99ms/step\n",
            "Epoch 156/300\n",
            "1/1 - 0s - loss: 0.0162 - val_loss: 0.0181 - 118ms/epoch - 118ms/step\n",
            "Epoch 157/300\n",
            "1/1 - 0s - loss: 0.0160 - val_loss: 0.0180 - 98ms/epoch - 98ms/step\n",
            "Epoch 158/300\n",
            "1/1 - 0s - loss: 0.0159 - val_loss: 0.0179 - 99ms/epoch - 99ms/step\n",
            "Epoch 159/300\n",
            "1/1 - 0s - loss: 0.0158 - val_loss: 0.0178 - 98ms/epoch - 98ms/step\n",
            "Epoch 160/300\n",
            "1/1 - 0s - loss: 0.0157 - val_loss: 0.0178 - 105ms/epoch - 105ms/step\n",
            "Epoch 161/300\n",
            "1/1 - 0s - loss: 0.0156 - val_loss: 0.0177 - 100ms/epoch - 100ms/step\n",
            "Epoch 162/300\n",
            "1/1 - 0s - loss: 0.0155 - val_loss: 0.0176 - 106ms/epoch - 106ms/step\n",
            "Epoch 163/300\n",
            "1/1 - 0s - loss: 0.0154 - val_loss: 0.0175 - 97ms/epoch - 97ms/step\n",
            "Epoch 164/300\n",
            "1/1 - 0s - loss: 0.0152 - val_loss: 0.0174 - 103ms/epoch - 103ms/step\n",
            "Epoch 165/300\n",
            "1/1 - 0s - loss: 0.0151 - val_loss: 0.0173 - 112ms/epoch - 112ms/step\n",
            "Epoch 166/300\n",
            "1/1 - 0s - loss: 0.0150 - val_loss: 0.0172 - 102ms/epoch - 102ms/step\n",
            "Epoch 167/300\n",
            "1/1 - 0s - loss: 0.0149 - val_loss: 0.0172 - 101ms/epoch - 101ms/step\n",
            "Epoch 168/300\n",
            "1/1 - 0s - loss: 0.0148 - val_loss: 0.0171 - 103ms/epoch - 103ms/step\n",
            "Epoch 169/300\n",
            "1/1 - 0s - loss: 0.0147 - val_loss: 0.0170 - 112ms/epoch - 112ms/step\n",
            "Epoch 170/300\n",
            "1/1 - 0s - loss: 0.0146 - val_loss: 0.0169 - 100ms/epoch - 100ms/step\n",
            "Epoch 171/300\n",
            "1/1 - 0s - loss: 0.0144 - val_loss: 0.0168 - 109ms/epoch - 109ms/step\n",
            "Epoch 172/300\n",
            "1/1 - 0s - loss: 0.0143 - val_loss: 0.0167 - 111ms/epoch - 111ms/step\n",
            "Epoch 173/300\n",
            "1/1 - 0s - loss: 0.0142 - val_loss: 0.0166 - 108ms/epoch - 108ms/step\n",
            "Epoch 174/300\n",
            "1/1 - 0s - loss: 0.0141 - val_loss: 0.0165 - 96ms/epoch - 96ms/step\n",
            "Epoch 175/300\n",
            "1/1 - 0s - loss: 0.0140 - val_loss: 0.0165 - 104ms/epoch - 104ms/step\n",
            "Epoch 176/300\n",
            "1/1 - 0s - loss: 0.0139 - val_loss: 0.0164 - 116ms/epoch - 116ms/step\n",
            "Epoch 177/300\n",
            "1/1 - 0s - loss: 0.0138 - val_loss: 0.0163 - 95ms/epoch - 95ms/step\n",
            "Epoch 178/300\n",
            "1/1 - 0s - loss: 0.0137 - val_loss: 0.0162 - 108ms/epoch - 108ms/step\n",
            "Epoch 179/300\n",
            "1/1 - 0s - loss: 0.0135 - val_loss: 0.0161 - 97ms/epoch - 97ms/step\n",
            "Epoch 180/300\n",
            "1/1 - 0s - loss: 0.0134 - val_loss: 0.0160 - 102ms/epoch - 102ms/step\n",
            "Epoch 181/300\n",
            "1/1 - 0s - loss: 0.0133 - val_loss: 0.0159 - 101ms/epoch - 101ms/step\n",
            "Epoch 182/300\n",
            "1/1 - 0s - loss: 0.0132 - val_loss: 0.0159 - 113ms/epoch - 113ms/step\n",
            "Epoch 183/300\n",
            "1/1 - 0s - loss: 0.0131 - val_loss: 0.0157 - 102ms/epoch - 102ms/step\n",
            "Epoch 184/300\n",
            "1/1 - 0s - loss: 0.0130 - val_loss: 0.0157 - 107ms/epoch - 107ms/step\n",
            "Epoch 185/300\n",
            "1/1 - 0s - loss: 0.0129 - val_loss: 0.0156 - 104ms/epoch - 104ms/step\n",
            "Epoch 186/300\n",
            "1/1 - 0s - loss: 0.0129 - val_loss: 0.0157 - 106ms/epoch - 106ms/step\n",
            "Epoch 187/300\n",
            "1/1 - 0s - loss: 0.0128 - val_loss: 0.0155 - 99ms/epoch - 99ms/step\n",
            "Epoch 188/300\n",
            "1/1 - 0s - loss: 0.0127 - val_loss: 0.0153 - 105ms/epoch - 105ms/step\n",
            "Epoch 189/300\n",
            "1/1 - 0s - loss: 0.0125 - val_loss: 0.0154 - 103ms/epoch - 103ms/step\n",
            "Epoch 190/300\n",
            "1/1 - 0s - loss: 0.0124 - val_loss: 0.0153 - 108ms/epoch - 108ms/step\n",
            "Epoch 191/300\n",
            "1/1 - 0s - loss: 0.0124 - val_loss: 0.0151 - 105ms/epoch - 105ms/step\n",
            "Epoch 192/300\n",
            "1/1 - 0s - loss: 0.0122 - val_loss: 0.0151 - 100ms/epoch - 100ms/step\n",
            "Epoch 193/300\n",
            "1/1 - 0s - loss: 0.0121 - val_loss: 0.0150 - 108ms/epoch - 108ms/step\n",
            "Epoch 194/300\n",
            "1/1 - 0s - loss: 0.0121 - val_loss: 0.0149 - 100ms/epoch - 100ms/step\n",
            "Epoch 195/300\n",
            "1/1 - 0s - loss: 0.0119 - val_loss: 0.0148 - 96ms/epoch - 96ms/step\n",
            "Epoch 196/300\n",
            "1/1 - 0s - loss: 0.0118 - val_loss: 0.0147 - 106ms/epoch - 106ms/step\n",
            "Epoch 197/300\n",
            "1/1 - 0s - loss: 0.0118 - val_loss: 0.0146 - 117ms/epoch - 117ms/step\n",
            "Epoch 198/300\n",
            "1/1 - 0s - loss: 0.0116 - val_loss: 0.0146 - 98ms/epoch - 98ms/step\n",
            "Epoch 199/300\n",
            "1/1 - 0s - loss: 0.0115 - val_loss: 0.0145 - 94ms/epoch - 94ms/step\n",
            "Epoch 200/300\n",
            "1/1 - 0s - loss: 0.0115 - val_loss: 0.0144 - 100ms/epoch - 100ms/step\n",
            "Epoch 201/300\n",
            "1/1 - 0s - loss: 0.0113 - val_loss: 0.0143 - 97ms/epoch - 97ms/step\n",
            "Epoch 202/300\n",
            "1/1 - 0s - loss: 0.0113 - val_loss: 0.0142 - 115ms/epoch - 115ms/step\n",
            "Epoch 203/300\n",
            "1/1 - 0s - loss: 0.0112 - val_loss: 0.0141 - 103ms/epoch - 103ms/step\n",
            "Epoch 204/300\n",
            "1/1 - 0s - loss: 0.0111 - val_loss: 0.0141 - 98ms/epoch - 98ms/step\n",
            "Epoch 205/300\n",
            "1/1 - 0s - loss: 0.0110 - val_loss: 0.0140 - 101ms/epoch - 101ms/step\n",
            "Epoch 206/300\n",
            "1/1 - 0s - loss: 0.0109 - val_loss: 0.0139 - 104ms/epoch - 104ms/step\n",
            "Epoch 207/300\n",
            "1/1 - 0s - loss: 0.0108 - val_loss: 0.0138 - 105ms/epoch - 105ms/step\n",
            "Epoch 208/300\n",
            "1/1 - 0s - loss: 0.0107 - val_loss: 0.0137 - 108ms/epoch - 108ms/step\n",
            "Epoch 209/300\n",
            "1/1 - 0s - loss: 0.0106 - val_loss: 0.0137 - 103ms/epoch - 103ms/step\n",
            "Epoch 210/300\n",
            "1/1 - 0s - loss: 0.0105 - val_loss: 0.0136 - 103ms/epoch - 103ms/step\n",
            "Epoch 211/300\n",
            "1/1 - 0s - loss: 0.0105 - val_loss: 0.0135 - 100ms/epoch - 100ms/step\n",
            "Epoch 212/300\n",
            "1/1 - 0s - loss: 0.0104 - val_loss: 0.0134 - 99ms/epoch - 99ms/step\n",
            "Epoch 213/300\n",
            "1/1 - 0s - loss: 0.0103 - val_loss: 0.0133 - 104ms/epoch - 104ms/step\n",
            "Epoch 214/300\n",
            "1/1 - 0s - loss: 0.0102 - val_loss: 0.0133 - 99ms/epoch - 99ms/step\n",
            "Epoch 215/300\n",
            "1/1 - 0s - loss: 0.0101 - val_loss: 0.0132 - 98ms/epoch - 98ms/step\n",
            "Epoch 216/300\n",
            "1/1 - 0s - loss: 0.0100 - val_loss: 0.0131 - 112ms/epoch - 112ms/step\n",
            "Epoch 217/300\n",
            "1/1 - 0s - loss: 0.0100 - val_loss: 0.0131 - 100ms/epoch - 100ms/step\n",
            "Epoch 218/300\n",
            "1/1 - 0s - loss: 0.0099 - val_loss: 0.0130 - 103ms/epoch - 103ms/step\n",
            "Epoch 219/300\n",
            "1/1 - 0s - loss: 0.0098 - val_loss: 0.0129 - 104ms/epoch - 104ms/step\n",
            "Epoch 220/300\n",
            "1/1 - 0s - loss: 0.0097 - val_loss: 0.0128 - 98ms/epoch - 98ms/step\n",
            "Epoch 221/300\n",
            "1/1 - 0s - loss: 0.0097 - val_loss: 0.0127 - 101ms/epoch - 101ms/step\n",
            "Epoch 222/300\n",
            "1/1 - 0s - loss: 0.0096 - val_loss: 0.0127 - 108ms/epoch - 108ms/step\n",
            "Epoch 223/300\n",
            "1/1 - 0s - loss: 0.0095 - val_loss: 0.0126 - 102ms/epoch - 102ms/step\n",
            "Epoch 224/300\n",
            "1/1 - 0s - loss: 0.0094 - val_loss: 0.0125 - 100ms/epoch - 100ms/step\n",
            "Epoch 225/300\n",
            "1/1 - 0s - loss: 0.0093 - val_loss: 0.0125 - 98ms/epoch - 98ms/step\n",
            "Epoch 226/300\n",
            "1/1 - 0s - loss: 0.0093 - val_loss: 0.0124 - 116ms/epoch - 116ms/step\n",
            "Epoch 227/300\n",
            "1/1 - 0s - loss: 0.0092 - val_loss: 0.0123 - 99ms/epoch - 99ms/step\n",
            "Epoch 228/300\n",
            "1/1 - 0s - loss: 0.0091 - val_loss: 0.0123 - 106ms/epoch - 106ms/step\n",
            "Epoch 229/300\n",
            "1/1 - 0s - loss: 0.0090 - val_loss: 0.0122 - 97ms/epoch - 97ms/step\n",
            "Epoch 230/300\n",
            "1/1 - 0s - loss: 0.0090 - val_loss: 0.0121 - 99ms/epoch - 99ms/step\n",
            "Epoch 231/300\n",
            "1/1 - 0s - loss: 0.0089 - val_loss: 0.0120 - 101ms/epoch - 101ms/step\n",
            "Epoch 232/300\n",
            "1/1 - 0s - loss: 0.0088 - val_loss: 0.0120 - 101ms/epoch - 101ms/step\n",
            "Epoch 233/300\n",
            "1/1 - 0s - loss: 0.0088 - val_loss: 0.0119 - 88ms/epoch - 88ms/step\n",
            "Epoch 234/300\n",
            "1/1 - 0s - loss: 0.0087 - val_loss: 0.0118 - 102ms/epoch - 102ms/step\n",
            "Epoch 235/300\n",
            "1/1 - 0s - loss: 0.0086 - val_loss: 0.0118 - 94ms/epoch - 94ms/step\n",
            "Epoch 236/300\n",
            "1/1 - 0s - loss: 0.0086 - val_loss: 0.0117 - 101ms/epoch - 101ms/step\n",
            "Epoch 237/300\n",
            "1/1 - 0s - loss: 0.0085 - val_loss: 0.0116 - 102ms/epoch - 102ms/step\n",
            "Epoch 238/300\n",
            "1/1 - 0s - loss: 0.0084 - val_loss: 0.0115 - 135ms/epoch - 135ms/step\n",
            "Epoch 239/300\n",
            "1/1 - 0s - loss: 0.0084 - val_loss: 0.0115 - 102ms/epoch - 102ms/step\n",
            "Epoch 240/300\n",
            "1/1 - 0s - loss: 0.0083 - val_loss: 0.0114 - 100ms/epoch - 100ms/step\n",
            "Epoch 241/300\n",
            "1/1 - 0s - loss: 0.0082 - val_loss: 0.0113 - 102ms/epoch - 102ms/step\n",
            "Epoch 242/300\n",
            "1/1 - 0s - loss: 0.0082 - val_loss: 0.0113 - 103ms/epoch - 103ms/step\n",
            "Epoch 243/300\n",
            "1/1 - 0s - loss: 0.0081 - val_loss: 0.0112 - 98ms/epoch - 98ms/step\n",
            "Epoch 244/300\n",
            "1/1 - 0s - loss: 0.0080 - val_loss: 0.0111 - 104ms/epoch - 104ms/step\n",
            "Epoch 245/300\n",
            "1/1 - 0s - loss: 0.0080 - val_loss: 0.0111 - 105ms/epoch - 105ms/step\n",
            "Epoch 246/300\n",
            "1/1 - 0s - loss: 0.0079 - val_loss: 0.0110 - 96ms/epoch - 96ms/step\n",
            "Epoch 247/300\n",
            "1/1 - 0s - loss: 0.0078 - val_loss: 0.0109 - 102ms/epoch - 102ms/step\n",
            "Epoch 248/300\n",
            "1/1 - 0s - loss: 0.0078 - val_loss: 0.0109 - 102ms/epoch - 102ms/step\n",
            "Epoch 249/300\n",
            "1/1 - 0s - loss: 0.0077 - val_loss: 0.0108 - 99ms/epoch - 99ms/step\n",
            "Epoch 250/300\n",
            "1/1 - 0s - loss: 0.0077 - val_loss: 0.0107 - 98ms/epoch - 98ms/step\n",
            "Epoch 251/300\n",
            "1/1 - 0s - loss: 0.0076 - val_loss: 0.0107 - 106ms/epoch - 106ms/step\n",
            "Epoch 252/300\n",
            "1/1 - 0s - loss: 0.0076 - val_loss: 0.0106 - 104ms/epoch - 104ms/step\n",
            "Epoch 253/300\n",
            "1/1 - 0s - loss: 0.0075 - val_loss: 0.0107 - 99ms/epoch - 99ms/step\n",
            "Epoch 254/300\n",
            "1/1 - 0s - loss: 0.0075 - val_loss: 0.0106 - 109ms/epoch - 109ms/step\n",
            "Epoch 255/300\n",
            "1/1 - 0s - loss: 0.0076 - val_loss: 0.0108 - 113ms/epoch - 113ms/step\n",
            "Epoch 256/300\n",
            "1/1 - 0s - loss: 0.0075 - val_loss: 0.0105 - 106ms/epoch - 106ms/step\n",
            "Epoch 257/300\n",
            "1/1 - 0s - loss: 0.0074 - val_loss: 0.0103 - 99ms/epoch - 99ms/step\n",
            "Epoch 258/300\n",
            "1/1 - 0s - loss: 0.0072 - val_loss: 0.0104 - 106ms/epoch - 106ms/step\n",
            "Epoch 259/300\n",
            "1/1 - 0s - loss: 0.0072 - val_loss: 0.0103 - 117ms/epoch - 117ms/step\n",
            "Epoch 260/300\n",
            "1/1 - 0s - loss: 0.0073 - val_loss: 0.0103 - 105ms/epoch - 105ms/step\n",
            "Epoch 261/300\n",
            "1/1 - 0s - loss: 0.0071 - val_loss: 0.0101 - 100ms/epoch - 100ms/step\n",
            "Epoch 262/300\n",
            "1/1 - 0s - loss: 0.0070 - val_loss: 0.0100 - 110ms/epoch - 110ms/step\n",
            "Epoch 263/300\n",
            "1/1 - 0s - loss: 0.0070 - val_loss: 0.0101 - 100ms/epoch - 100ms/step\n",
            "Epoch 264/300\n",
            "1/1 - 0s - loss: 0.0069 - val_loss: 0.0099 - 120ms/epoch - 120ms/step\n",
            "Epoch 265/300\n",
            "1/1 - 0s - loss: 0.0068 - val_loss: 0.0098 - 106ms/epoch - 106ms/step\n",
            "Epoch 266/300\n",
            "1/1 - 0s - loss: 0.0068 - val_loss: 0.0099 - 105ms/epoch - 105ms/step\n",
            "Epoch 267/300\n",
            "1/1 - 0s - loss: 0.0068 - val_loss: 0.0097 - 98ms/epoch - 98ms/step\n",
            "Epoch 268/300\n",
            "1/1 - 0s - loss: 0.0067 - val_loss: 0.0096 - 100ms/epoch - 100ms/step\n",
            "Epoch 269/300\n",
            "1/1 - 0s - loss: 0.0066 - val_loss: 0.0097 - 108ms/epoch - 108ms/step\n",
            "Epoch 270/300\n",
            "1/1 - 0s - loss: 0.0066 - val_loss: 0.0095 - 105ms/epoch - 105ms/step\n",
            "Epoch 271/300\n",
            "1/1 - 0s - loss: 0.0065 - val_loss: 0.0095 - 102ms/epoch - 102ms/step\n",
            "Epoch 272/300\n",
            "1/1 - 0s - loss: 0.0065 - val_loss: 0.0095 - 102ms/epoch - 102ms/step\n",
            "Epoch 273/300\n",
            "1/1 - 0s - loss: 0.0064 - val_loss: 0.0094 - 113ms/epoch - 113ms/step\n",
            "Epoch 274/300\n",
            "1/1 - 0s - loss: 0.0064 - val_loss: 0.0093 - 101ms/epoch - 101ms/step\n",
            "Epoch 275/300\n",
            "1/1 - 0s - loss: 0.0063 - val_loss: 0.0093 - 99ms/epoch - 99ms/step\n",
            "Epoch 276/300\n",
            "1/1 - 0s - loss: 0.0063 - val_loss: 0.0092 - 109ms/epoch - 109ms/step\n",
            "Epoch 277/300\n",
            "1/1 - 0s - loss: 0.0062 - val_loss: 0.0092 - 100ms/epoch - 100ms/step\n",
            "Epoch 278/300\n",
            "1/1 - 0s - loss: 0.0062 - val_loss: 0.0091 - 103ms/epoch - 103ms/step\n",
            "Epoch 279/300\n",
            "1/1 - 0s - loss: 0.0061 - val_loss: 0.0090 - 102ms/epoch - 102ms/step\n",
            "Epoch 280/300\n",
            "1/1 - 0s - loss: 0.0061 - val_loss: 0.0090 - 97ms/epoch - 97ms/step\n",
            "Epoch 281/300\n",
            "1/1 - 0s - loss: 0.0060 - val_loss: 0.0089 - 97ms/epoch - 97ms/step\n",
            "Epoch 282/300\n",
            "1/1 - 0s - loss: 0.0060 - val_loss: 0.0088 - 104ms/epoch - 104ms/step\n",
            "Epoch 283/300\n",
            "1/1 - 0s - loss: 0.0059 - val_loss: 0.0088 - 110ms/epoch - 110ms/step\n",
            "Epoch 284/300\n",
            "1/1 - 0s - loss: 0.0059 - val_loss: 0.0088 - 107ms/epoch - 107ms/step\n",
            "Epoch 285/300\n",
            "1/1 - 0s - loss: 0.0058 - val_loss: 0.0087 - 101ms/epoch - 101ms/step\n",
            "Epoch 286/300\n",
            "1/1 - 0s - loss: 0.0058 - val_loss: 0.0087 - 103ms/epoch - 103ms/step\n",
            "Epoch 287/300\n",
            "1/1 - 0s - loss: 0.0057 - val_loss: 0.0086 - 101ms/epoch - 101ms/step\n",
            "Epoch 288/300\n",
            "1/1 - 0s - loss: 0.0057 - val_loss: 0.0085 - 101ms/epoch - 101ms/step\n",
            "Epoch 289/300\n",
            "1/1 - 0s - loss: 0.0057 - val_loss: 0.0085 - 98ms/epoch - 98ms/step\n",
            "Epoch 290/300\n",
            "1/1 - 0s - loss: 0.0056 - val_loss: 0.0084 - 111ms/epoch - 111ms/step\n",
            "Epoch 291/300\n",
            "1/1 - 0s - loss: 0.0056 - val_loss: 0.0084 - 99ms/epoch - 99ms/step\n",
            "Epoch 292/300\n",
            "1/1 - 0s - loss: 0.0055 - val_loss: 0.0084 - 106ms/epoch - 106ms/step\n",
            "Epoch 293/300\n",
            "1/1 - 0s - loss: 0.0055 - val_loss: 0.0083 - 111ms/epoch - 111ms/step\n",
            "Epoch 294/300\n",
            "1/1 - 0s - loss: 0.0054 - val_loss: 0.0082 - 98ms/epoch - 98ms/step\n",
            "Epoch 295/300\n",
            "1/1 - 0s - loss: 0.0054 - val_loss: 0.0082 - 98ms/epoch - 98ms/step\n",
            "Epoch 296/300\n",
            "1/1 - 0s - loss: 0.0053 - val_loss: 0.0081 - 102ms/epoch - 102ms/step\n",
            "Epoch 297/300\n",
            "1/1 - 0s - loss: 0.0053 - val_loss: 0.0081 - 101ms/epoch - 101ms/step\n",
            "Epoch 298/300\n",
            "1/1 - 0s - loss: 0.0053 - val_loss: 0.0080 - 101ms/epoch - 101ms/step\n",
            "Epoch 299/300\n",
            "1/1 - 0s - loss: 0.0052 - val_loss: 0.0080 - 110ms/epoch - 110ms/step\n",
            "Epoch 300/300\n",
            "1/1 - 0s - loss: 0.0052 - val_loss: 0.0080 - 100ms/epoch - 100ms/step\n"
          ]
        }
      ]
    },
    {
      "cell_type": "code",
      "source": [
        "# Plot history (also known as a loss curve)\n",
        "import matplotlib.pyplot as plt\n",
        "pd.DataFrame(history.history).plot()\n",
        "plt.ylabel(\"loss\")\n",
        "plt.xlabel(\"epochs\");"
      ],
      "metadata": {
        "id": "zGKbJXiRHv6w",
        "colab": {
          "base_uri": "https://localhost:8080/",
          "height": 279
        },
        "outputId": "fdddfa21-7d00-466f-d269-de3990637abd"
      },
      "execution_count": 41,
      "outputs": [
        {
          "output_type": "display_data",
          "data": {
            "text/plain": [
              "<Figure size 432x288 with 1 Axes>"
            ],
            "image/png": "[encoded data removed]"
          },
          "metadata": {
            "needs_background": "light"
          }
        }
      ]
    },
    {
      "cell_type": "markdown",
      "source": [
        "predict the vehicle for a ride by including the vehicle information in the input and target data and leaving a placeholder (e.g. zero) in place of the vehicle information at the time of prediction"
      ],
      "metadata": {
        "id": "WJtjtRdq2L7q"
      }
    },
    {
      "cell_type": "code",
      "source": [
        "pred = model.predict([input, target])"
      ],
      "metadata": {
        "id": "NVYCQcnRIKff",
        "colab": {
          "base_uri": "https://localhost:8080/"
        },
        "outputId": "2a4bfddf-5e9b-4dc5-b58f-833424beea0f"
      },
      "execution_count": 42,
      "outputs": [
        {
          "output_type": "stream",
          "name": "stdout",
          "text": [
            "1/1 [==============================] - 1s 863ms/step\n"
          ]
        }
      ]
    },
    {
      "cell_type": "code",
      "source": [
        "pred[0][0]"
      ],
      "metadata": {
        "colab": {
          "base_uri": "https://localhost:8080/"
        },
        "id": "zG3cY3iXePLb",
        "outputId": "cfa21d88-a9ff-47bf-d840-0efd3df37f79"
      },
      "execution_count": 43,
      "outputs": [
        {
          "output_type": "execute_result",
          "data": {
            "text/plain": [
              "array([ 0.339028,  0.025139,  0.140312,  0.125687,  0.704658, -1.007421,\n",
              "        0.826393,  0.728734, -0.988383,  0.842005,  0.188822,  0.348725],\n",
              "      dtype=float32)"
            ]
          },
          "metadata": {},
          "execution_count": 43
        }
      ]
    },
    {
      "cell_type": "code",
      "source": [
        "target"
      ],
      "metadata": {
        "colab": {
          "base_uri": "https://localhost:8080/"
        },
        "id": "-wdbd8neeaIc",
        "outputId": "126be234-8760-48d5-e11f-7bdb611f185c"
      },
      "execution_count": 44,
      "outputs": [
        {
          "output_type": "execute_result",
          "data": {
            "text/plain": [
              "array([[[0.285714, 0.003228, 0.2     , ..., 0.847379, 0.173913,\n",
              "         0.258621],\n",
              "        [0.857143, 0.012053, 0.2     , ..., 0.848719, 0.173913,\n",
              "         0.775862],\n",
              "        [0.857143, 0.006394, 0.2     , ..., 0.847189, 0.217391,\n",
              "         0.517241],\n",
              "        ...,\n",
              "        [0.      , 0.      , 0.      , ..., 0.      , 0.      ,\n",
              "         0.      ],\n",
              "        [0.      , 0.      , 0.      , ..., 0.      , 0.      ,\n",
              "         0.      ],\n",
              "        [0.      , 0.      , 0.      , ..., 0.      , 0.      ,\n",
              "         0.      ]]])"
            ]
          },
          "metadata": {},
          "execution_count": 44
        }
      ]
    },
    {
      "cell_type": "code",
      "source": [
        "import numpy as np\n",
        "from sklearn.metrics.pairwise import cosine_similarity\n",
        "\n",
        "def get_cos_similiar(compare_against, pred):\n",
        "  # Calculate cosine similarity between input data and predictions\n",
        "  cos_similarity = cosine_similarity(compare_against, pred)\n",
        "\n",
        "  # Get the cosine similarity value for each prediction-compare_against pair\n",
        "  cosine_similarity_values = [cos_similarity[i][i] for i in range(len(cos_similarity))]\n",
        "\n",
        "  return cosine_similarity_values"
      ],
      "metadata": {
        "id": "s7b8y1ndEF0I"
      },
      "execution_count": 45,
      "outputs": []
    },
    {
      "cell_type": "code",
      "source": [
        "# Check the correlated similarity between the predictions and the targets to get a feel for the quality of training\n",
        "get_cos_similiar(target[0], pred[0])"
      ],
      "metadata": {
        "colab": {
          "base_uri": "https://localhost:8080/"
        },
        "id": "nHmprQvEJACg",
        "outputId": "03a0630e-fdba-4a2b-b6f2-38eea9a7fe87"
      },
      "execution_count": 49,
      "outputs": [
        {
          "output_type": "execute_result",
          "data": {
            "text/plain": [
              "[0.9977362302451105,\n",
              " 0.986442680752554,\n",
              " 0.9942799342126325,\n",
              " 0.9821455180194796,\n",
              " 0.9892448113574778,\n",
              " 0.9985000392366655,\n",
              " 0.9980720989504803,\n",
              " 0.9971007695446596,\n",
              " 0.9828075462894341,\n",
              " 0.9801727973662266,\n",
              " 0.9963941120680445,\n",
              " 0.9957283864278708,\n",
              " 0.9918274590483073,\n",
              " 0.9917685535395839,\n",
              " 0.9926904985481444,\n",
              " 0.9957802899908006,\n",
              " 0.9835093878531176,\n",
              " 0.9932303055536885,\n",
              " 0.997925120099343,\n",
              " 0.9956678920482213,\n",
              " 0.9975978053563512,\n",
              " 0.9920342850206658,\n",
              " 0.9925991023045974,\n",
              " 0.992056721387539,\n",
              " 0.9939391858238326,\n",
              " 0.9958432864975029,\n",
              " 0.9952745772920876,\n",
              " 0.9988861473536512,\n",
              " 0.9945144616265952,\n",
              " 0.9959514585398289,\n",
              " 0.9905392433654793,\n",
              " 0.9966398799356558,\n",
              " 0.997071028384207,\n",
              " 0.9957666256777663,\n",
              " 0.9951621522100744,\n",
              " 0.9933879162477048,\n",
              " 0.9978348689980546,\n",
              " 0.9898005616433768,\n",
              " 0.99732086448838,\n",
              " 0.9960586348961212,\n",
              " 0.9917214781211213,\n",
              " 0.995961615251492,\n",
              " 0.9940004098157973,\n",
              " 0.9933510333169014,\n",
              " 0.9769294296453711,\n",
              " 0.9911977864980321,\n",
              " 0.9954497973057039,\n",
              " 0.997913817212632,\n",
              " 0.9934753962245378,\n",
              " 0.9973362629081962,\n",
              " 0.9958748727829333,\n",
              " 0.9921685532841081,\n",
              " 0.9937400391306876,\n",
              " 0.9957414901259403,\n",
              " 0.9916308850852937,\n",
              " 0.9910715748669959,\n",
              " 0.9938278531473123,\n",
              " 0.99788755774641,\n",
              " 0.9941436217555841,\n",
              " 0.9889004427183652,\n",
              " 0.9979734258235697,\n",
              " 0.9925732724341847,\n",
              " 0.9961721196499942,\n",
              " 0.9866251710672498,\n",
              " 0.997713978768215,\n",
              " 0.9927043898760332,\n",
              " 0.995629508433683,\n",
              " 0.9863289918312774,\n",
              " 0.9928611021059621,\n",
              " 0.9939340415396983,\n",
              " 0.99059728849675,\n",
              " 0.9885272670729925,\n",
              " 0.9987551726148031,\n",
              " 0.9904861040314852,\n",
              " 0.9973522120045775,\n",
              " 0.9902656135291336,\n",
              " 0.9960669893391609,\n",
              " 0.9956150921190249,\n",
              " 0.9957422107404199,\n",
              " 0.9891533143119405,\n",
              " 0.9918060491863312,\n",
              " 0.9951149434278848,\n",
              " 0.995653446371415,\n",
              " 0.9668492853095975,\n",
              " 0.9915672675932102,\n",
              " 0.9965865082035914,\n",
              " 0.9876856337759039,\n",
              " 0.9986083427386548,\n",
              " 0.0,\n",
              " 0.0,\n",
              " 0.0,\n",
              " 0.0,\n",
              " 0.0,\n",
              " 0.0,\n",
              " 0.0,\n",
              " 0.0,\n",
              " 0.0,\n",
              " 0.0,\n",
              " 0.0,\n",
              " 0.0,\n",
              " 0.0,\n",
              " 0.0,\n",
              " 0.0,\n",
              " 0.0,\n",
              " 0.0,\n",
              " 0.0,\n",
              " 0.0,\n",
              " 0.0,\n",
              " 0.0,\n",
              " 0.0,\n",
              " 0.0,\n",
              " 0.0,\n",
              " 0.0,\n",
              " 0.0,\n",
              " 0.0,\n",
              " 0.0,\n",
              " 0.0,\n",
              " 0.0,\n",
              " 0.0,\n",
              " 0.0,\n",
              " 0.0,\n",
              " 0.0,\n",
              " 0.0,\n",
              " 0.0,\n",
              " 0.0]"
            ]
          },
          "metadata": {},
          "execution_count": 49
        }
      ]
    },
    {
      "cell_type": "markdown",
      "source": [
        "Loop through predictions comparing the similarity between each ride in the input vector, whichever ride has the highest similarity, add to another list which is the predicted rides order."
      ],
      "metadata": {
        "id": "-FA4qAR8Pafl"
      }
    },
    {
      "cell_type": "code",
      "source": [
        "from time import sleep\n",
        "\n",
        "max_finder = pd.DataFrame(columns=[\"pred\", \"original_input\", \"cos_similarity\"])\n",
        "ordered_rides = pd.DataFrame(columns = [\n",
        "  'space_type',\n",
        "  'billable_distance',\n",
        "  'run_name',\n",
        "  'rider.mediroutes_rider_id',\n",
        "  'pickup.event_location.zip',\n",
        "  'pickup.event_location.longitude',\n",
        "  'pickup.event_location.latitude',\n",
        "  'dropoff.event_location.zip',\n",
        "  'dropoff.event_location.longitude',\n",
        "  'dropoff.event_location.latitude',\n",
        "  'pickup_hour',\n",
        "  'pickup_minute'\n",
        "])\n",
        "\n",
        "for i in pred[0]:\n",
        "  for j in input[0]:\n",
        "    cos_similarity = cosine_similarity(i.reshape(1, -1), j.reshape(1, -1))\n",
        "\n",
        "    # Add mapping to max finder\n",
        "    row = {\"pred\": i, \"original_input\": j, \"cos_similarity\": cos_similarity}\n",
        "    max_finder = max_finder.append(row, ignore_index=True)\n",
        "\n",
        "  # Find the winner\n",
        "  max_row_index = np.argmax(max_finder['cos_similarity'])\n",
        "  most_similar = max_finder.loc[max_row_index]\n",
        "\n",
        "  # Add most similar ride to ordered rides in order of predictions against the target\n",
        "  row = {'space_type' : most_similar[1][0],\n",
        "  'billable_distance' : most_similar[1][1],\n",
        "  'run_name' : most_similar[1][2],\n",
        "  'rider.mediroutes_rider_id' : most_similar[1][3],\n",
        "  'pickup.event_location.zip' : most_similar[1][4],\n",
        "  'pickup.event_location.longitude' : most_similar[1][5],\n",
        "  'pickup.event_location.latitude' : most_similar[1][6],\n",
        "  'dropoff.event_location.zip' : most_similar[1][7],\n",
        "  'dropoff.event_location.longitude' : most_similar[1][8],\n",
        "  'dropoff.event_location.latitude' : most_similar[1][9],\n",
        "  'pickup_hour' : most_similar[1][10],\n",
        "  'pickup_minute' : most_similar[1][11]}\n",
        "  \n",
        "  ordered_rides = ordered_rides.append(row, ignore_index=True)\n",
        "\n",
        "  # Reset max finder so it starts empty for the next iteration\n",
        "  max_finder = pd.DataFrame(columns=[\"pred\", \"original_input\", \"cos_similarity\"])"
      ],
      "metadata": {
        "id": "90K2lsxTPWyc"
      },
      "execution_count": 67,
      "outputs": []
    },
    {
      "cell_type": "code",
      "source": [
        "ordered_rides.head()"
      ],
      "metadata": {
        "colab": {
          "base_uri": "https://localhost:8080/",
          "height": 270
        },
        "id": "07H9W81ZGiPd",
        "outputId": "073bf394-21e6-47a6-cdb7-8dd74d9055b5"
      },
      "execution_count": 69,
      "outputs": [
        {
          "output_type": "execute_result",
          "data": {
            "text/plain": [
              "   space_type  billable_distance  run_name  rider.mediroutes_rider_id  \\\n",
              "0    0.285714           0.003228      0.20                   0.138686   \n",
              "1    0.857143           0.012053      0.20                   0.061314   \n",
              "2    0.857143           0.006394      0.20                   0.182482   \n",
              "3    0.857143           0.001585      0.10                   0.166423   \n",
              "4    0.857143           0.002593      0.25                   0.090511   \n",
              "\n",
              "   pickup.event_location.zip  pickup.event_location.longitude  \\\n",
              "0                   0.680556                        -0.990954   \n",
              "1                   0.472222                        -0.991429   \n",
              "2                   0.458333                        -0.990922   \n",
              "3                   0.680556                        -0.990951   \n",
              "4                   0.833333                        -0.990608   \n",
              "\n",
              "   pickup.event_location.latitude  dropoff.event_location.zip  \\\n",
              "0                        0.847334                    0.797297   \n",
              "1                        0.847318                    0.121622   \n",
              "2                        0.846670                    0.797297   \n",
              "3                        0.847336                    0.675676   \n",
              "4                        0.847115                    0.797297   \n",
              "\n",
              "   dropoff.event_location.longitude  dropoff.event_location.latitude  \\\n",
              "0                         -0.990703                         0.847379   \n",
              "1                         -0.991856                         0.848719   \n",
              "2                         -0.990674                         0.847189   \n",
              "3                         -0.991042                         0.847346   \n",
              "4                         -0.990657                         0.847092   \n",
              "\n",
              "   pickup_hour  pickup_minute  \n",
              "0     0.173913       0.258621  \n",
              "1     0.173913       0.775862  \n",
              "2     0.217391       0.517241  \n",
              "3     0.434783       0.517241  \n",
              "4     0.347826       0.258621  "
            ],
            "text/html": [
              "\n",
              "  <div id=\"df-f51b8b7f-acd1-44fc-9a46-26faa8e104bd\">\n",
              "    <div class=\"colab-df-container\">\n",
              "      <div>\n",
              "<style scoped>\n",
              "    .dataframe tbody tr th:only-of-type {\n",
              "        vertical-align: middle;\n",
              "    }\n",
              "\n",
              "    .dataframe tbody tr th {\n",
              "        vertical-align: top;\n",
              "    }\n",
              "\n",
              "    .dataframe thead th {\n",
              "        text-align: right;\n",
              "    }\n",
              "</style>\n",
              "<table border=\"1\" class=\"dataframe\">\n",
              "  <thead>\n",
              "    <tr style=\"text-align: right;\">\n",
              "      <th></th>\n",
              "      <th>space_type</th>\n",
              "      <th>billable_distance</th>\n",
              "      <th>run_name</th>\n",
              "      <th>rider.mediroutes_rider_id</th>\n",
              "      <th>pickup.event_location.zip</th>\n",
              "      <th>pickup.event_location.longitude</th>\n",
              "      <th>pickup.event_location.latitude</th>\n",
              "      <th>dropoff.event_location.zip</th>\n",
              "      <th>dropoff.event_location.longitude</th>\n",
              "      <th>dropoff.event_location.latitude</th>\n",
              "      <th>pickup_hour</th>\n",
              "      <th>pickup_minute</th>\n",
              "    </tr>\n",
              "  </thead>\n",
              "  <tbody>\n",
              "    <tr>\n",
              "      <th>0</th>\n",
              "      <td>0.285714</td>\n",
              "      <td>0.003228</td>\n",
              "      <td>0.20</td>\n",
              "      <td>0.138686</td>\n",
              "      <td>0.680556</td>\n",
              "      <td>-0.990954</td>\n",
              "      <td>0.847334</td>\n",
              "      <td>0.797297</td>\n",
              "      <td>-0.990703</td>\n",
              "      <td>0.847379</td>\n",
              "      <td>0.173913</td>\n",
              "      <td>0.258621</td>\n",
              "    </tr>\n",
              "    <tr>\n",
              "      <th>1</th>\n",
              "      <td>0.857143</td>\n",
              "      <td>0.012053</td>\n",
              "      <td>0.20</td>\n",
              "      <td>0.061314</td>\n",
              "      <td>0.472222</td>\n",
              "      <td>-0.991429</td>\n",
              "      <td>0.847318</td>\n",
              "      <td>0.121622</td>\n",
              "      <td>-0.991856</td>\n",
              "      <td>0.848719</td>\n",
              "      <td>0.173913</td>\n",
              "      <td>0.775862</td>\n",
              "    </tr>\n",
              "    <tr>\n",
              "      <th>2</th>\n",
              "      <td>0.857143</td>\n",
              "      <td>0.006394</td>\n",
              "      <td>0.20</td>\n",
              "      <td>0.182482</td>\n",
              "      <td>0.458333</td>\n",
              "      <td>-0.990922</td>\n",
              "      <td>0.846670</td>\n",
              "      <td>0.797297</td>\n",
              "      <td>-0.990674</td>\n",
              "      <td>0.847189</td>\n",
              "      <td>0.217391</td>\n",
              "      <td>0.517241</td>\n",
              "    </tr>\n",
              "    <tr>\n",
              "      <th>3</th>\n",
              "      <td>0.857143</td>\n",
              "      <td>0.001585</td>\n",
              "      <td>0.10</td>\n",
              "      <td>0.166423</td>\n",
              "      <td>0.680556</td>\n",
              "      <td>-0.990951</td>\n",
              "      <td>0.847336</td>\n",
              "      <td>0.675676</td>\n",
              "      <td>-0.991042</td>\n",
              "      <td>0.847346</td>\n",
              "      <td>0.434783</td>\n",
              "      <td>0.517241</td>\n",
              "    </tr>\n",
              "    <tr>\n",
              "      <th>4</th>\n",
              "      <td>0.857143</td>\n",
              "      <td>0.002593</td>\n",
              "      <td>0.25</td>\n",
              "      <td>0.090511</td>\n",
              "      <td>0.833333</td>\n",
              "      <td>-0.990608</td>\n",
              "      <td>0.847115</td>\n",
              "      <td>0.797297</td>\n",
              "      <td>-0.990657</td>\n",
              "      <td>0.847092</td>\n",
              "      <td>0.347826</td>\n",
              "      <td>0.258621</td>\n",
              "    </tr>\n",
              "  </tbody>\n",
              "</table>\n",
              "</div>\n",
              "      <button class=\"colab-df-convert\" onclick=\"convertToInteractive('df-f51b8b7f-acd1-44fc-9a46-26faa8e104bd')\"\n",
              "              title=\"Convert this dataframe to an interactive table.\"\n",
              "              style=\"display:none;\">\n",
              "        \n",
              "  <svg xmlns=\"http://www.w3.org/2000/svg\" height=\"24px\"viewBox=\"0 0 24 24\"\n",
              "       width=\"24px\">\n",
              "    <path d=\"M0 0h24v24H0V0z\" fill=\"none\"/>\n",
              "    <path d=\"M18.56 5.44l.94 2.06.94-2.06 2.06-.94-2.06-.94-.94-2.06-.94 2.06-2.06.94zm-11 1L8.5 8.5l.94-2.06 2.06-.94-2.06-.94L8.5 2.5l-.94 2.06-2.06.94zm10 10l.94 2.06.94-2.06 2.06-.94-2.06-.94-.94-2.06-.94 2.06-2.06.94z\"/><path d=\"M17.41 7.96l-1.37-1.37c-.4-.4-.92-.59-1.43-.59-.52 0-1.04.2-1.43.59L10.3 9.45l-7.72 7.72c-.78.78-.78 2.05 0 2.83L4 21.41c.39.39.9.59 1.41.59.51 0 1.02-.2 1.41-.59l7.78-7.78 2.81-2.81c.8-.78.8-2.07 0-2.86zM5.41 20L4 18.59l7.72-7.72 1.47 1.35L5.41 20z\"/>\n",
              "  </svg>\n",
              "      </button>\n",
              "      \n",
              "  <style>\n",
              "    .colab-df-container {\n",
              "      display:flex;\n",
              "      flex-wrap:wrap;\n",
              "      gap: 12px;\n",
              "    }\n",
              "\n",
              "    .colab-df-convert {\n",
              "      background-color: #E8F0FE;\n",
              "      border: none;\n",
              "      border-radius: 50%;\n",
              "      cursor: pointer;\n",
              "      display: none;\n",
              "      fill: #1967D2;\n",
              "      height: 32px;\n",
              "      padding: 0 0 0 0;\n",
              "      width: 32px;\n",
              "    }\n",
              "\n",
              "    .colab-df-convert:hover {\n",
              "      background-color: #E2EBFA;\n",
              "      box-shadow: 0px 1px 2px rgba(60, 64, 67, 0.3), 0px 1px 3px 1px rgba(60, 64, 67, 0.15);\n",
              "      fill: #174EA6;\n",
              "    }\n",
              "\n",
              "    [theme=dark] .colab-df-convert {\n",
              "      background-color: #3B4455;\n",
              "      fill: #D2E3FC;\n",
              "    }\n",
              "\n",
              "    [theme=dark] .colab-df-convert:hover {\n",
              "      background-color: #434B5C;\n",
              "      box-shadow: 0px 1px 3px 1px rgba(0, 0, 0, 0.15);\n",
              "      filter: drop-shadow(0px 1px 2px rgba(0, 0, 0, 0.3));\n",
              "      fill: #FFFFFF;\n",
              "    }\n",
              "  </style>\n",
              "\n",
              "      <script>\n",
              "        const buttonEl =\n",
              "          document.querySelector('#df-f51b8b7f-acd1-44fc-9a46-26faa8e104bd button.colab-df-convert');\n",
              "        buttonEl.style.display =\n",
              "          google.colab.kernel.accessAllowed ? 'block' : 'none';\n",
              "\n",
              "        async function convertToInteractive(key) {\n",
              "          const element = document.querySelector('#df-f51b8b7f-acd1-44fc-9a46-26faa8e104bd');\n",
              "          const dataTable =\n",
              "            await google.colab.kernel.invokeFunction('convertToInteractive',\n",
              "                                                     [key], {});\n",
              "          if (!dataTable) return;\n",
              "\n",
              "          const docLinkHtml = 'Like what you see? Visit the ' +\n",
              "            '<a target=\"_blank\" href=https://colab.research.google.com/notebooks/data_table.ipynb>data table notebook</a>'\n",
              "            + ' to learn more about interactive tables.';\n",
              "          element.innerHTML = '';\n",
              "          dataTable['output_type'] = 'display_data';\n",
              "          await google.colab.output.renderOutput(dataTable, element);\n",
              "          const docLink = document.createElement('div');\n",
              "          docLink.innerHTML = docLinkHtml;\n",
              "          element.appendChild(docLink);\n",
              "        }\n",
              "      </script>\n",
              "    </div>\n",
              "  </div>\n",
              "  "
            ]
          },
          "metadata": {},
          "execution_count": 69
        }
      ]
    },
    {
      "cell_type": "code",
      "source": [
        "target[0]"
      ],
      "metadata": {
        "colab": {
          "base_uri": "https://localhost:8080/"
        },
        "id": "Ek-heE6VYMsO",
        "outputId": "02874a45-2a86-4bf7-82ac-89df71e215f0"
      },
      "execution_count": 70,
      "outputs": [
        {
          "output_type": "execute_result",
          "data": {
            "text/plain": [
              "array([[0.285714, 0.003228, 0.2     , ..., 0.847379, 0.173913, 0.258621],\n",
              "       [0.857143, 0.012053, 0.2     , ..., 0.848719, 0.173913, 0.775862],\n",
              "       [0.857143, 0.006394, 0.2     , ..., 0.847189, 0.217391, 0.517241],\n",
              "       ...,\n",
              "       [0.      , 0.      , 0.      , ..., 0.      , 0.      , 0.      ],\n",
              "       [0.      , 0.      , 0.      , ..., 0.      , 0.      , 0.      ],\n",
              "       [0.      , 0.      , 0.      , ..., 0.      , 0.      , 0.      ]])"
            ]
          },
          "metadata": {},
          "execution_count": 70
        }
      ]
    },
    {
      "cell_type": "code",
      "source": [
        "target_df = pd.DataFrame(target)\n",
        "ordered_input = pd.DataFrame(ordered_input)"
      ],
      "metadata": {
        "id": "dBrK07TCAUBs"
      },
      "execution_count": null,
      "outputs": []
    },
    {
      "cell_type": "code",
      "source": [
        "ordered_input.to_csv('/content/ordered_input.csv')"
      ],
      "metadata": {
        "id": "W-aICu-G3leW"
      },
      "execution_count": null,
      "outputs": []
    },
    {
      "cell_type": "code",
      "source": [
        "target_df.to_csv('/content/target_df.csv')"
      ],
      "metadata": {
        "id": "_2xc8ichLQtK"
      },
      "execution_count": null,
      "outputs": []
    },
    {
      "cell_type": "code",
      "source": [],
      "metadata": {
        "id": "QOEV23ijWYCe"
      },
      "execution_count": null,
      "outputs": []
    },
    {
      "cell_type": "code",
      "source": [],
      "metadata": {
        "id": "66FpFQn5WX_3"
      },
      "execution_count": null,
      "outputs": []
    },
    {
      "cell_type": "code",
      "source": [],
      "metadata": {
        "id": "UwYPZaKKWX97"
      },
      "execution_count": null,
      "outputs": []
    },
    {
      "cell_type": "code",
      "source": [],
      "metadata": {
        "id": "zRzuOcq7WX7h"
      },
      "execution_count": null,
      "outputs": []
    },
    {
      "cell_type": "code",
      "source": [],
      "metadata": {
        "id": "AmNeLi4GWX4A"
      },
      "execution_count": null,
      "outputs": []
    },
    {
      "cell_type": "code",
      "source": [],
      "metadata": {
        "id": "n3nV4IjzWXyK"
      },
      "execution_count": null,
      "outputs": []
    },
    {
      "cell_type": "code",
      "source": [
        "from sklearn.metrics.pairwise import cosine_similarity\n",
        "\n",
        "# Calculate cosine similarity\n",
        "cos_similarity = cosine_similarity(target[0], pred[0])\n"
      ],
      "metadata": {
        "id": "IzFZjsQGW6Ga"
      },
      "execution_count": null,
      "outputs": []
    },
    {
      "cell_type": "code",
      "source": [
        "pred[0][1]"
      ],
      "metadata": {
        "id": "t1SKPcKW_VeM"
      },
      "execution_count": null,
      "outputs": []
    },
    {
      "cell_type": "code",
      "source": [
        "index = 7\n",
        "x = tf.reduce_sum(tf.constant(target[0][index]))\n",
        "y = tf.reduce_sum(tf.constant(pred[0][index]))\n",
        "x,y"
      ],
      "metadata": {
        "id": "L1Q52yTjDgET"
      },
      "execution_count": null,
      "outputs": []
    },
    {
      "cell_type": "code",
      "source": [
        "target[0][1]"
      ],
      "metadata": {
        "id": "a62SeqP5_dAD"
      },
      "execution_count": null,
      "outputs": []
    },
    {
      "cell_type": "code",
      "source": [
        "cos_similarity[0]"
      ],
      "metadata": {
        "id": "sxFZ_ZUUaG2P"
      },
      "execution_count": null,
      "outputs": []
    },
    {
      "cell_type": "code",
      "source": [
        "import pandas as pd\n",
        "\n",
        "# Create a DataFrame containing the input data\n",
        "input_df = pd.DataFrame({'input_ride': input[0]})\n",
        "\n",
        "# Create a DataFrame containing the predictions\n",
        "prediction_df = pd.DataFrame({'prediction': cos_similarity[0]})\n",
        "\n",
        "# Add a common identifier to both DataFrames\n",
        "input_df['id'] = range(1, len(input_df) + 1)\n",
        "prediction_df['id'] = range(1, len(prediction_df) + 1)\n",
        "\n",
        "# Join the DataFrames on the 'id' column\n",
        "joined_df = pd.merge(input_df, prediction_df, on='id')\n",
        "\n",
        "# Sort the joined DataFrame by the 'prediction' column\n",
        "joined_df.sort_values(by='prediction', inplace=True)\n",
        "\n",
        "# The 'input_ride' column now corresponds to the order of the predictions\n",
        "ordered_input = joined_df['input_ride'].tolist()\n"
      ],
      "metadata": {
        "id": "81hnsni5Bddd"
      },
      "execution_count": null,
      "outputs": []
    },
    {
      "cell_type": "code",
      "source": [
        "import numpy as np\n",
        "from scipy.spatial.distance import cosine\n",
        "\n",
        "# Calculate cosine similarity between each pair of predicted and target vectors\n",
        "cos_similarity = cosine_similarity(target[0], pred[0])\n",
        "\n",
        "# Assign each predicted vector to the target with which it has the highest similarity score\n",
        "assignment = np.argmax(cos_similarity, axis=1)\n",
        "\n",
        "# # Get the ordered predictions based on the assignments\n",
        "ordered_predictions = target[0][assignment]\n"
      ],
      "metadata": {
        "id": "xMbbAD61aY-N"
      },
      "execution_count": null,
      "outputs": []
    },
    {
      "cell_type": "code",
      "source": [
        "import pandas as pd\n",
        "\n",
        "# Create a DataFrame from the ordered_predictions numpy array\n",
        "prediction_df = pd.DataFrame(ordered_predictions)\n",
        "\n",
        "# Add a column header to the dataframe for each of the prediction values\n",
        "prediction_df.columns = [\n",
        "  'space_type',\n",
        "  'billable_distance',\n",
        "  'run_name',\n",
        "  'rider.mediroutes_rider_id',\n",
        "  'pickup.event_location.zip',\n",
        "  'pickup.event_location.longitude',\n",
        "  'pickup.event_location.latitude',\n",
        "  'dropoff.event_location.zip',\n",
        "  'dropoff.event_location.longitude',\n",
        "  'dropoff.event_location.latitude',\n",
        "  'pickup_hour',\n",
        "  'pickup_minute'\n",
        "]"
      ],
      "metadata": {
        "id": "UDuV0ghC9z4s"
      },
      "execution_count": null,
      "outputs": []
    },
    {
      "cell_type": "code",
      "source": [
        "prediction_df.head()"
      ],
      "metadata": {
        "id": "5JKNYZkwCgDF"
      },
      "execution_count": null,
      "outputs": []
    },
    {
      "cell_type": "code",
      "source": [
        "# take te"
      ],
      "metadata": {
        "id": "i7smQufOoXZX"
      },
      "execution_count": null,
      "outputs": []
    },
    {
      "cell_type": "code",
      "source": [
        "ordered_predictions[0]"
      ],
      "metadata": {
        "id": "TnuzEvikbxtf"
      },
      "execution_count": null,
      "outputs": []
    },
    {
      "cell_type": "code",
      "source": [
        "target[0][5]"
      ],
      "metadata": {
        "id": "EE5BPVA0cvcR"
      },
      "execution_count": null,
      "outputs": []
    },
    {
      "cell_type": "code",
      "source": [
        "import matplotlib.pyplot as plt\n",
        "\n",
        "plt.figure(figsize=(20, 12))\n",
        "\n",
        "# Plot the data as a scatter plot\n",
        "plt.scatter(ordered_predictions, target[0], color='red', label='Predictions')\n",
        "plt.scatter(ordered_predictions, target[0], color='blue', label='Targets')\n",
        "\n",
        "# Add labels and title to the plot\n",
        "plt.xlabel('Ordered Predictions')\n",
        "plt.ylabel('Targets')\n",
        "plt.title('Ordered Predictions vs Targets')\n",
        "\n",
        "# Add a legend to the plot\n",
        "plt.legend()\n",
        "\n",
        "# Show the plot\n",
        "plt.show()\n"
      ],
      "metadata": {
        "id": "G9hBvmz_c2PN"
      },
      "execution_count": null,
      "outputs": []
    },
    {
      "cell_type": "code",
      "source": [
        "import matplotlib.pyplot as plt\n",
        "import numpy as np\n",
        "\n",
        "plt.figure(figsize=(10, 8))\n",
        "\n",
        "# Reshape cosine similarities into 2D array\n",
        "cos_similarities = cos_similarity.reshape(len(ordered_predictions), len(target[0]))\n",
        "\n",
        "# Plot the heatmap\n",
        "plt.imshow(cos_similarities, cmap='hot', aspect='auto')\n",
        "\n",
        "# Add labels and title to the plot\n",
        "plt.xlabel('Predictions')\n",
        "plt.ylabel('Targets')\n",
        "plt.title('Cosine Similarities between Predictions and Targets')\n",
        "\n",
        "# Show the plot\n",
        "plt.show()\n"
      ],
      "metadata": {
        "id": "Qtvha6IGeSyS"
      },
      "execution_count": null,
      "outputs": []
    },
    {
      "cell_type": "code",
      "source": [
        "import numpy as np\n",
        "import matplotlib.pyplot as plt\n",
        "\n",
        "plt.figure(figsize=(25,10))\n",
        "# Plot a histogram of the cosine similarity values\n",
        "plt.hist(cos_similarity)\n",
        "\n",
        "# Add labels and title to the plot\n",
        "plt.xlabel('Cosine Similarity')\n",
        "plt.ylabel('Frequency')\n",
        "plt.title('Cosine Similarity Distribution between Target and Ordered Predictions')\n",
        "\n",
        "# Show the plot\n",
        "plt.show()\n"
      ],
      "metadata": {
        "id": "sxBdHdBbnCGE"
      },
      "execution_count": null,
      "outputs": []
    },
    {
      "cell_type": "code",
      "source": [
        "input[0].shape"
      ],
      "metadata": {
        "id": "WpOsEcv6qjvK"
      },
      "execution_count": null,
      "outputs": []
    },
    {
      "cell_type": "code",
      "source": [
        "ordered_predictions.shape"
      ],
      "metadata": {
        "id": "-lNFSOxrqlT0"
      },
      "execution_count": null,
      "outputs": []
    },
    {
      "cell_type": "code",
      "source": [
        "import pandas as pd\n",
        "\n",
        "# Create a DataFrame containing the input data\n",
        "input_df = pd.DataFrame({'input_data': day_buckets_X[0].tolist()})\n",
        "\n",
        "# Create a DataFrame containing the predictions\n",
        "prediction_df = pd.DataFrame({'prediction': ordered_predictions.tolist()})\n",
        "\n",
        "# Add a common identifier to both DataFrames\n",
        "input_df['id'] = range(1, len(input_df) + 1)\n",
        "prediction_df['id'] = range(1, len(prediction_df) + 1)\n",
        "\n",
        "# Join the DataFrames on the 'id' column\n",
        "joined_df = pd.merge(input_df, prediction_df, on='id')\n",
        "\n",
        "# Sort the joined DataFrame by the 'prediction' column\n",
        "joined_df.sort_values(by='prediction', inplace=True)\n",
        "\n",
        "# The 'input_data' column now corresponds to the order of the predictions\n",
        "ordered_input = joined_df['input_data'].tolist()\n",
        "\n"
      ],
      "metadata": {
        "id": "-HdcnAdGnuQV"
      },
      "execution_count": null,
      "outputs": []
    },
    {
      "cell_type": "code",
      "source": [
        "ordered_input"
      ],
      "metadata": {
        "id": "rsbn6SW3rRbS"
      },
      "execution_count": null,
      "outputs": []
    },
    {
      "cell_type": "code",
      "source": [
        "# [\n",
        "#   'space_type',\n",
        "#   'billable_distance',\n",
        "#   'run_name',\n",
        "#   'rider.mediroutes_rider_id',\n",
        "#   'pickup.event_location.zip',\n",
        "#   'pickup.event_location.longitude',\n",
        "#   'pickup.event_location.latitude',\n",
        "#   'dropoff.event_location.zip',\n",
        "#   'dropoff.event_location.longitude',\n",
        "#   'dropoff.event_location.latitude',\n",
        "#   'pickup_hour',\n",
        "#   'pickup_minute'\n",
        "# ]\n",
        "\n",
        "# Create a DataFrame containing the input data\n",
        "input_df = pd.DataFrame(day_buckets_X[0].tolist(), columns=[\n",
        "'space_type',\n",
        "'billable_distance',\n",
        "'run_name',\n",
        "'rider.mediroutes_rider_id',\n",
        "'pickup.event_location.zip',\n",
        "'pickup.event_location.longitude',\n",
        "'pickup.event_location.latitude',\n",
        "'dropoff.event_location.zip',\n",
        "'dropoff.event_location.longitude',\n",
        "'dropoff.event_location.latitude',\n",
        "'pickup_hour',\n",
        "'pickup_minute',''\n",
        "])\n",
        "\n",
        "# Create a DataFrame containing the predictions\n",
        "prediction_df = pd.DataFrame({'prediction': ordered_predictions.tolist()})\n",
        "\n",
        "# Add a common identifier to both DataFrames\n",
        "input_df['id'] = range(1, len(input_df) + 1)\n",
        "prediction_df['id'] = range(1, len(prediction_df) + 1)\n",
        "\n",
        "# Join the DataFrames on the 'id' column\n",
        "joined_df = pd.merge(input_df, prediction_df, on='id')\n",
        "\n",
        "# Sort the joined DataFrame by the 'prediction' column\n",
        "joined_df.sort_values(by='prediction', inplace=True)\n",
        "\n",
        "# The joined DataFrame now contains both the input data and the predictions, ordered by the predictions\n",
        "ordered_input_df = joined_df.drop(['prediction', 'id'], axis=1)\n",
        "\n"
      ],
      "metadata": {
        "id": "nt04vHLat6Dg"
      },
      "execution_count": null,
      "outputs": []
    },
    {
      "cell_type": "code",
      "source": [
        "ordered_input_df"
      ],
      "metadata": {
        "id": "g-as5vtGvELN"
      },
      "execution_count": null,
      "outputs": []
    },
    {
      "cell_type": "code",
      "source": [
        "rides = pd.read_csv('/content/ordering_dataset.csv')\n",
        "rides['id'] = rides['pickup_month'] + rides['pickup_day']"
      ],
      "metadata": {
        "id": "zkU-JWZwxEsT"
      },
      "execution_count": null,
      "outputs": []
    },
    {
      "cell_type": "code",
      "source": [
        "import pandas as pd\n",
        "\n",
        "# Get a list of unique values in the 'id' column\n",
        "unique_ids = rides['id'].unique()\n",
        "\n",
        "# Create a dictionary to store the individual DataFrames\n",
        "df_dict = {}\n",
        "\n",
        "# Loop through the unique values of the 'id' column\n",
        "for id_value in unique_ids:\n",
        "    # Filter the DataFrame to get the rows with the current 'id' value\n",
        "    filtered_df = rides[rides['id'] == id_value]\n",
        "    # Add the filtered DataFrame to the dictionary\n",
        "    df_dict[id_value] = filtered_df"
      ],
      "metadata": {
        "id": "u58yTEt-vRuP"
      },
      "execution_count": null,
      "outputs": []
    },
    {
      "cell_type": "code",
      "source": [
        "df_dict[11]"
      ],
      "metadata": {
        "id": "otGJLfetwxPe"
      },
      "execution_count": null,
      "outputs": []
    },
    {
      "cell_type": "code",
      "source": [],
      "metadata": {
        "id": "qekc2PkXxK-O"
      },
      "execution_count": null,
      "outputs": []
    }
  ]
}