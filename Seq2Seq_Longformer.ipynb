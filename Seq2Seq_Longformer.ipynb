{
  "nbformat": 4,
  "nbformat_minor": 0,
  "metadata": {
    "colab": {
      "provenance": [],
      "authorship_tag": "ABX9TyOQzlsba4pTFR/ByAe+FbfE",
      "include_colab_link": true
    },
    "kernelspec": {
      "name": "python3",
      "display_name": "Python 3"
    },
    "language_info": {
      "name": "python"
    }
  },
  "cells": [
    {
      "cell_type": "markdown",
      "metadata": {
        "id": "view-in-github",
        "colab_type": "text"
      },
      "source": [
        "<a href=\"https://colab.research.google.com/github/GarettGazay/ai_projects/blob/master/Seq2Seq_Longformer.ipynb\" target=\"_parent\"><img src=\"https://colab.research.google.com/assets/colab-badge.svg\" alt=\"Open In Colab\"/></a>"
      ]
    },
    {
      "cell_type": "code",
      "source": [
        "!pip install transformers"
      ],
      "metadata": {
        "colab": {
          "base_uri": "https://localhost:8080/"
        },
        "id": "-mq30NA6P_vg",
        "outputId": "35bc5bff-6f39-41d9-f471-cf446b65717c"
      },
      "execution_count": 2,
      "outputs": [
        {
          "output_type": "stream",
          "name": "stdout",
          "text": [
            "Looking in indexes: https://pypi.org/simple, https://us-python.pkg.dev/colab-wheels/public/simple/\n",
            "Requirement already satisfied: transformers in /usr/local/lib/python3.9/dist-packages (4.27.2)\n",
            "Requirement already satisfied: packaging>=20.0 in /usr/local/lib/python3.9/dist-packages (from transformers) (23.0)\n",
            "Requirement already satisfied: pyyaml>=5.1 in /usr/local/lib/python3.9/dist-packages (from transformers) (6.0)\n",
            "Requirement already satisfied: tokenizers!=0.11.3,<0.14,>=0.11.1 in /usr/local/lib/python3.9/dist-packages (from transformers) (0.13.2)\n",
            "Requirement already satisfied: huggingface-hub<1.0,>=0.11.0 in /usr/local/lib/python3.9/dist-packages (from transformers) (0.13.3)\n",
            "Requirement already satisfied: numpy>=1.17 in /usr/local/lib/python3.9/dist-packages (from transformers) (1.22.4)\n",
            "Requirement already satisfied: filelock in /usr/local/lib/python3.9/dist-packages (from transformers) (3.10.0)\n",
            "Requirement already satisfied: regex!=2019.12.17 in /usr/local/lib/python3.9/dist-packages (from transformers) (2022.10.31)\n",
            "Requirement already satisfied: requests in /usr/local/lib/python3.9/dist-packages (from transformers) (2.27.1)\n",
            "Requirement already satisfied: tqdm>=4.27 in /usr/local/lib/python3.9/dist-packages (from transformers) (4.65.0)\n",
            "Requirement already satisfied: typing-extensions>=3.7.4.3 in /usr/local/lib/python3.9/dist-packages (from huggingface-hub<1.0,>=0.11.0->transformers) (4.5.0)\n",
            "Requirement already satisfied: charset-normalizer~=2.0.0 in /usr/local/lib/python3.9/dist-packages (from requests->transformers) (2.0.12)\n",
            "Requirement already satisfied: idna<4,>=2.5 in /usr/local/lib/python3.9/dist-packages (from requests->transformers) (3.4)\n",
            "Requirement already satisfied: certifi>=2017.4.17 in /usr/local/lib/python3.9/dist-packages (from requests->transformers) (2022.12.7)\n",
            "Requirement already satisfied: urllib3<1.27,>=1.21.1 in /usr/local/lib/python3.9/dist-packages (from requests->transformers) (1.26.15)\n"
          ]
        }
      ]
    },
    {
      "cell_type": "code",
      "execution_count": 3,
      "metadata": {
        "id": "q69PnEOQI2UR"
      },
      "outputs": [],
      "source": [
        "import torch\n",
        "from transformers import LEDTokenizer, LEDForConditionalGeneration\n",
        "\n",
        "# define the model and tokenizer\n",
        "model_name = \"allenai/led-base-16384\"\n",
        "tokenizer = LEDTokenizer.from_pretrained(model_name)\n",
        "model = LEDForConditionalGeneration.from_pretrained(model_name)\n",
        "\n"
      ]
    },
    {
      "cell_type": "code",
      "source": [
        "# define the input and target sequences\n",
        "inputs = ['ride0', 'ride3', 'ride1', 'ride2']\n",
        "targets = ['ride0', 'ride1', 'ride2', 'ride3']\n"
      ],
      "metadata": {
        "id": "4bYrripkRcc1"
      },
      "execution_count": 4,
      "outputs": []
    },
    {
      "cell_type": "code",
      "source": [
        "# tokenize the input and target sequences\n",
        "input_ids = tokenizer.batch_encode_plus(inputs, padding=True, return_tensors=\"pt\")\n",
        "target_ids = tokenizer.batch_encode_plus(targets, padding=True, return_tensors=\"pt\")\n"
      ],
      "metadata": {
        "id": "rn27hqJ-Reiu"
      },
      "execution_count": 5,
      "outputs": []
    },
    {
      "cell_type": "code",
      "source": [
        "input_ids"
      ],
      "metadata": {
        "colab": {
          "base_uri": "https://localhost:8080/"
        },
        "id": "VA15ohKFU1sy",
        "outputId": "fc72428d-636b-4d36-d83c-091e4d9a8bbd"
      },
      "execution_count": 6,
      "outputs": [
        {
          "output_type": "execute_result",
          "data": {
            "text/plain": [
              "{'input_ids': tensor([[    0, 23167,   288,     2],\n",
              "        [    0, 23167,   246,     2],\n",
              "        [    0, 23167,   134,     2],\n",
              "        [    0, 23167,   176,     2]]), 'attention_mask': tensor([[1, 1, 1, 1],\n",
              "        [1, 1, 1, 1],\n",
              "        [1, 1, 1, 1],\n",
              "        [1, 1, 1, 1]])}"
            ]
          },
          "metadata": {},
          "execution_count": 6
        }
      ]
    },
    {
      "cell_type": "code",
      "source": [
        "target_ids"
      ],
      "metadata": {
        "colab": {
          "base_uri": "https://localhost:8080/"
        },
        "id": "iEh7P59eU3dZ",
        "outputId": "3afc79ac-d4e7-4e3f-97ef-de6f05d1265f"
      },
      "execution_count": 7,
      "outputs": [
        {
          "output_type": "execute_result",
          "data": {
            "text/plain": [
              "{'input_ids': tensor([[    0, 23167,   288,     2],\n",
              "        [    0, 23167,   134,     2],\n",
              "        [    0, 23167,   176,     2],\n",
              "        [    0, 23167,   246,     2]]), 'attention_mask': tensor([[1, 1, 1, 1],\n",
              "        [1, 1, 1, 1],\n",
              "        [1, 1, 1, 1],\n",
              "        [1, 1, 1, 1]])}"
            ]
          },
          "metadata": {},
          "execution_count": 7
        }
      ]
    },
    {
      "cell_type": "code",
      "source": [
        "# retrieve the input and target token IDs and attention masks\n",
        "encoder_input_ids = input_ids[\"input_ids\"]\n",
        "decoder_input_ids = target_ids[\"input_ids\"]\n",
        "decoder_attention_mask = target_ids[\"attention_mask\"]"
      ],
      "metadata": {
        "id": "3cO31D6XRgD9"
      },
      "execution_count": 8,
      "outputs": []
    },
    {
      "cell_type": "code",
      "source": [
        "# generate output sequence\n",
        "generated_ids = model.generate(\n",
        "    input_ids=encoder_input_ids,\n",
        "    attention_mask=input_ids[\"attention_mask\"],\n",
        "    decoder_start_token_id=tokenizer.pad_token_id,\n",
        "    decoder_input_ids=decoder_input_ids,\n",
        "    decoder_attention_mask=decoder_attention_mask,\n",
        "    use_cache=True,\n",
        "    max_length=128,\n",
        "    num_beams=1,\n",
        ")\n"
      ],
      "metadata": {
        "id": "jNWZkuXQSW7v"
      },
      "execution_count": 11,
      "outputs": []
    },
    {
      "cell_type": "code",
      "source": [
        "# decode output sequence\n",
        "generated_sequence = tokenizer.batch_decode(generated_ids.tolist(), skip_special_tokens=True)\n",
        "\n",
        "print(generated_sequence)"
      ],
      "metadata": {
        "colab": {
          "base_uri": "https://localhost:8080/"
        },
        "id": "oWtDYhUhSXSx",
        "outputId": "2274fa62-bbf8-43c3-e56d-ac9c0eee41b6"
      },
      "execution_count": 12,
      "outputs": [
        {
          "output_type": "stream",
          "name": "stdout",
          "text": [
            "['ride0', 'ride1', 'ride2', 'ride3']\n"
          ]
        }
      ]
    }
  ]
}