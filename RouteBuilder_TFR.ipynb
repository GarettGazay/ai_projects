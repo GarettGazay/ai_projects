{
  "nbformat": 4,
  "nbformat_minor": 0,
  "metadata": {
    "colab": {
      "provenance": [],
      "mount_file_id": "1sG4ACgAwtAlz_si0i6lAacr_Wy0poDIS",
      "authorship_tag": "ABX9TyMFg820qB5twKg1ikg823s+",
      "include_colab_link": true
    },
    "kernelspec": {
      "name": "python3",
      "display_name": "Python 3"
    },
    "language_info": {
      "name": "python"
    },
    "widgets": {
      "application/vnd.jupyter.widget-state+json": {
        "48ddc07deb2746ad908843732368a49b": {
          "model_module": "@jupyter-widgets/controls",
          "model_name": "HBoxModel",
          "model_module_version": "1.5.0",
          "state": {
            "_dom_classes": [],
            "_model_module": "@jupyter-widgets/controls",
            "_model_module_version": "1.5.0",
            "_model_name": "HBoxModel",
            "_view_count": null,
            "_view_module": "@jupyter-widgets/controls",
            "_view_module_version": "1.5.0",
            "_view_name": "HBoxView",
            "box_style": "",
            "children": [
              "IPY_MODEL_169202dc5b03496c8421f2bd43d2ab96",
              "IPY_MODEL_4fd19281413a4799bf1f2abe5dd157a8",
              "IPY_MODEL_ce1c5d1a3a864f39b7711b6f9ed0169b"
            ],
            "layout": "IPY_MODEL_2f747d53532e4e34864c50290c18f9fe"
          }
        },
        "169202dc5b03496c8421f2bd43d2ab96": {
          "model_module": "@jupyter-widgets/controls",
          "model_name": "HTMLModel",
          "model_module_version": "1.5.0",
          "state": {
            "_dom_classes": [],
            "_model_module": "@jupyter-widgets/controls",
            "_model_module_version": "1.5.0",
            "_model_name": "HTMLModel",
            "_view_count": null,
            "_view_module": "@jupyter-widgets/controls",
            "_view_module_version": "1.5.0",
            "_view_name": "HTMLView",
            "description": "",
            "description_tooltip": null,
            "layout": "IPY_MODEL_a24840465f044ccdbe4611a1f603c4dc",
            "placeholder": "​",
            "style": "IPY_MODEL_f63debbc406944b6aa23340b657f0040",
            "value": "Downloading (…)olve/main/vocab.json: 100%"
          }
        },
        "4fd19281413a4799bf1f2abe5dd157a8": {
          "model_module": "@jupyter-widgets/controls",
          "model_name": "FloatProgressModel",
          "model_module_version": "1.5.0",
          "state": {
            "_dom_classes": [],
            "_model_module": "@jupyter-widgets/controls",
            "_model_module_version": "1.5.0",
            "_model_name": "FloatProgressModel",
            "_view_count": null,
            "_view_module": "@jupyter-widgets/controls",
            "_view_module_version": "1.5.0",
            "_view_name": "ProgressView",
            "bar_style": "success",
            "description": "",
            "description_tooltip": null,
            "layout": "IPY_MODEL_638680d5988a49a592d0dc014519c423",
            "max": 898823,
            "min": 0,
            "orientation": "horizontal",
            "style": "IPY_MODEL_00d1d7750d534239b9aef19a2f1c6898",
            "value": 898823
          }
        },
        "ce1c5d1a3a864f39b7711b6f9ed0169b": {
          "model_module": "@jupyter-widgets/controls",
          "model_name": "HTMLModel",
          "model_module_version": "1.5.0",
          "state": {
            "_dom_classes": [],
            "_model_module": "@jupyter-widgets/controls",
            "_model_module_version": "1.5.0",
            "_model_name": "HTMLModel",
            "_view_count": null,
            "_view_module": "@jupyter-widgets/controls",
            "_view_module_version": "1.5.0",
            "_view_name": "HTMLView",
            "description": "",
            "description_tooltip": null,
            "layout": "IPY_MODEL_ab1d7d8b30024e849a322a588dcf0c89",
            "placeholder": "​",
            "style": "IPY_MODEL_1e4b71e20ffd4dffb4e83bfc02881ad0",
            "value": " 899k/899k [00:00&lt;00:00, 2.97MB/s]"
          }
        },
        "2f747d53532e4e34864c50290c18f9fe": {
          "model_module": "@jupyter-widgets/base",
          "model_name": "LayoutModel",
          "model_module_version": "1.2.0",
          "state": {
            "_model_module": "@jupyter-widgets/base",
            "_model_module_version": "1.2.0",
            "_model_name": "LayoutModel",
            "_view_count": null,
            "_view_module": "@jupyter-widgets/base",
            "_view_module_version": "1.2.0",
            "_view_name": "LayoutView",
            "align_content": null,
            "align_items": null,
            "align_self": null,
            "border": null,
            "bottom": null,
            "display": null,
            "flex": null,
            "flex_flow": null,
            "grid_area": null,
            "grid_auto_columns": null,
            "grid_auto_flow": null,
            "grid_auto_rows": null,
            "grid_column": null,
            "grid_gap": null,
            "grid_row": null,
            "grid_template_areas": null,
            "grid_template_columns": null,
            "grid_template_rows": null,
            "height": null,
            "justify_content": null,
            "justify_items": null,
            "left": null,
            "margin": null,
            "max_height": null,
            "max_width": null,
            "min_height": null,
            "min_width": null,
            "object_fit": null,
            "object_position": null,
            "order": null,
            "overflow": null,
            "overflow_x": null,
            "overflow_y": null,
            "padding": null,
            "right": null,
            "top": null,
            "visibility": null,
            "width": null
          }
        },
        "a24840465f044ccdbe4611a1f603c4dc": {
          "model_module": "@jupyter-widgets/base",
          "model_name": "LayoutModel",
          "model_module_version": "1.2.0",
          "state": {
            "_model_module": "@jupyter-widgets/base",
            "_model_module_version": "1.2.0",
            "_model_name": "LayoutModel",
            "_view_count": null,
            "_view_module": "@jupyter-widgets/base",
            "_view_module_version": "1.2.0",
            "_view_name": "LayoutView",
            "align_content": null,
            "align_items": null,
            "align_self": null,
            "border": null,
            "bottom": null,
            "display": null,
            "flex": null,
            "flex_flow": null,
            "grid_area": null,
            "grid_auto_columns": null,
            "grid_auto_flow": null,
            "grid_auto_rows": null,
            "grid_column": null,
            "grid_gap": null,
            "grid_row": null,
            "grid_template_areas": null,
            "grid_template_columns": null,
            "grid_template_rows": null,
            "height": null,
            "justify_content": null,
            "justify_items": null,
            "left": null,
            "margin": null,
            "max_height": null,
            "max_width": null,
            "min_height": null,
            "min_width": null,
            "object_fit": null,
            "object_position": null,
            "order": null,
            "overflow": null,
            "overflow_x": null,
            "overflow_y": null,
            "padding": null,
            "right": null,
            "top": null,
            "visibility": null,
            "width": null
          }
        },
        "f63debbc406944b6aa23340b657f0040": {
          "model_module": "@jupyter-widgets/controls",
          "model_name": "DescriptionStyleModel",
          "model_module_version": "1.5.0",
          "state": {
            "_model_module": "@jupyter-widgets/controls",
            "_model_module_version": "1.5.0",
            "_model_name": "DescriptionStyleModel",
            "_view_count": null,
            "_view_module": "@jupyter-widgets/base",
            "_view_module_version": "1.2.0",
            "_view_name": "StyleView",
            "description_width": ""
          }
        },
        "638680d5988a49a592d0dc014519c423": {
          "model_module": "@jupyter-widgets/base",
          "model_name": "LayoutModel",
          "model_module_version": "1.2.0",
          "state": {
            "_model_module": "@jupyter-widgets/base",
            "_model_module_version": "1.2.0",
            "_model_name": "LayoutModel",
            "_view_count": null,
            "_view_module": "@jupyter-widgets/base",
            "_view_module_version": "1.2.0",
            "_view_name": "LayoutView",
            "align_content": null,
            "align_items": null,
            "align_self": null,
            "border": null,
            "bottom": null,
            "display": null,
            "flex": null,
            "flex_flow": null,
            "grid_area": null,
            "grid_auto_columns": null,
            "grid_auto_flow": null,
            "grid_auto_rows": null,
            "grid_column": null,
            "grid_gap": null,
            "grid_row": null,
            "grid_template_areas": null,
            "grid_template_columns": null,
            "grid_template_rows": null,
            "height": null,
            "justify_content": null,
            "justify_items": null,
            "left": null,
            "margin": null,
            "max_height": null,
            "max_width": null,
            "min_height": null,
            "min_width": null,
            "object_fit": null,
            "object_position": null,
            "order": null,
            "overflow": null,
            "overflow_x": null,
            "overflow_y": null,
            "padding": null,
            "right": null,
            "top": null,
            "visibility": null,
            "width": null
          }
        },
        "00d1d7750d534239b9aef19a2f1c6898": {
          "model_module": "@jupyter-widgets/controls",
          "model_name": "ProgressStyleModel",
          "model_module_version": "1.5.0",
          "state": {
            "_model_module": "@jupyter-widgets/controls",
            "_model_module_version": "1.5.0",
            "_model_name": "ProgressStyleModel",
            "_view_count": null,
            "_view_module": "@jupyter-widgets/base",
            "_view_module_version": "1.2.0",
            "_view_name": "StyleView",
            "bar_color": null,
            "description_width": ""
          }
        },
        "ab1d7d8b30024e849a322a588dcf0c89": {
          "model_module": "@jupyter-widgets/base",
          "model_name": "LayoutModel",
          "model_module_version": "1.2.0",
          "state": {
            "_model_module": "@jupyter-widgets/base",
            "_model_module_version": "1.2.0",
            "_model_name": "LayoutModel",
            "_view_count": null,
            "_view_module": "@jupyter-widgets/base",
            "_view_module_version": "1.2.0",
            "_view_name": "LayoutView",
            "align_content": null,
            "align_items": null,
            "align_self": null,
            "border": null,
            "bottom": null,
            "display": null,
            "flex": null,
            "flex_flow": null,
            "grid_area": null,
            "grid_auto_columns": null,
            "grid_auto_flow": null,
            "grid_auto_rows": null,
            "grid_column": null,
            "grid_gap": null,
            "grid_row": null,
            "grid_template_areas": null,
            "grid_template_columns": null,
            "grid_template_rows": null,
            "height": null,
            "justify_content": null,
            "justify_items": null,
            "left": null,
            "margin": null,
            "max_height": null,
            "max_width": null,
            "min_height": null,
            "min_width": null,
            "object_fit": null,
            "object_position": null,
            "order": null,
            "overflow": null,
            "overflow_x": null,
            "overflow_y": null,
            "padding": null,
            "right": null,
            "top": null,
            "visibility": null,
            "width": null
          }
        },
        "1e4b71e20ffd4dffb4e83bfc02881ad0": {
          "model_module": "@jupyter-widgets/controls",
          "model_name": "DescriptionStyleModel",
          "model_module_version": "1.5.0",
          "state": {
            "_model_module": "@jupyter-widgets/controls",
            "_model_module_version": "1.5.0",
            "_model_name": "DescriptionStyleModel",
            "_view_count": null,
            "_view_module": "@jupyter-widgets/base",
            "_view_module_version": "1.2.0",
            "_view_name": "StyleView",
            "description_width": ""
          }
        },
        "2a84112a9ece4896929ad6006664a851": {
          "model_module": "@jupyter-widgets/controls",
          "model_name": "HBoxModel",
          "model_module_version": "1.5.0",
          "state": {
            "_dom_classes": [],
            "_model_module": "@jupyter-widgets/controls",
            "_model_module_version": "1.5.0",
            "_model_name": "HBoxModel",
            "_view_count": null,
            "_view_module": "@jupyter-widgets/controls",
            "_view_module_version": "1.5.0",
            "_view_name": "HBoxView",
            "box_style": "",
            "children": [
              "IPY_MODEL_a64355aeb27747faa96806dae3bb40dc",
              "IPY_MODEL_805c6e5d2dcb4b3e9c1266d40ae4ece5",
              "IPY_MODEL_06527509962144e5a1a0a9fb31b1f22b"
            ],
            "layout": "IPY_MODEL_3300edc0f3c84c92ab501d28241b89ac"
          }
        },
        "a64355aeb27747faa96806dae3bb40dc": {
          "model_module": "@jupyter-widgets/controls",
          "model_name": "HTMLModel",
          "model_module_version": "1.5.0",
          "state": {
            "_dom_classes": [],
            "_model_module": "@jupyter-widgets/controls",
            "_model_module_version": "1.5.0",
            "_model_name": "HTMLModel",
            "_view_count": null,
            "_view_module": "@jupyter-widgets/controls",
            "_view_module_version": "1.5.0",
            "_view_name": "HTMLView",
            "description": "",
            "description_tooltip": null,
            "layout": "IPY_MODEL_47c0bca085db45cabdf1112e399aa8ce",
            "placeholder": "​",
            "style": "IPY_MODEL_249229de75764f098d2384560d073567",
            "value": "Downloading (…)olve/main/merges.txt: 100%"
          }
        },
        "805c6e5d2dcb4b3e9c1266d40ae4ece5": {
          "model_module": "@jupyter-widgets/controls",
          "model_name": "FloatProgressModel",
          "model_module_version": "1.5.0",
          "state": {
            "_dom_classes": [],
            "_model_module": "@jupyter-widgets/controls",
            "_model_module_version": "1.5.0",
            "_model_name": "FloatProgressModel",
            "_view_count": null,
            "_view_module": "@jupyter-widgets/controls",
            "_view_module_version": "1.5.0",
            "_view_name": "ProgressView",
            "bar_style": "success",
            "description": "",
            "description_tooltip": null,
            "layout": "IPY_MODEL_3c334126b08647e8aaa2afc2c1eaa5d0",
            "max": 456318,
            "min": 0,
            "orientation": "horizontal",
            "style": "IPY_MODEL_81d2edc68070467aab86e1abecd8a47b",
            "value": 456318
          }
        },
        "06527509962144e5a1a0a9fb31b1f22b": {
          "model_module": "@jupyter-widgets/controls",
          "model_name": "HTMLModel",
          "model_module_version": "1.5.0",
          "state": {
            "_dom_classes": [],
            "_model_module": "@jupyter-widgets/controls",
            "_model_module_version": "1.5.0",
            "_model_name": "HTMLModel",
            "_view_count": null,
            "_view_module": "@jupyter-widgets/controls",
            "_view_module_version": "1.5.0",
            "_view_name": "HTMLView",
            "description": "",
            "description_tooltip": null,
            "layout": "IPY_MODEL_a592fb1b27204bea8b723212b402736f",
            "placeholder": "​",
            "style": "IPY_MODEL_cb432d5c76434ba9bdb29748674541ee",
            "value": " 456k/456k [00:00&lt;00:00, 1.89MB/s]"
          }
        },
        "3300edc0f3c84c92ab501d28241b89ac": {
          "model_module": "@jupyter-widgets/base",
          "model_name": "LayoutModel",
          "model_module_version": "1.2.0",
          "state": {
            "_model_module": "@jupyter-widgets/base",
            "_model_module_version": "1.2.0",
            "_model_name": "LayoutModel",
            "_view_count": null,
            "_view_module": "@jupyter-widgets/base",
            "_view_module_version": "1.2.0",
            "_view_name": "LayoutView",
            "align_content": null,
            "align_items": null,
            "align_self": null,
            "border": null,
            "bottom": null,
            "display": null,
            "flex": null,
            "flex_flow": null,
            "grid_area": null,
            "grid_auto_columns": null,
            "grid_auto_flow": null,
            "grid_auto_rows": null,
            "grid_column": null,
            "grid_gap": null,
            "grid_row": null,
            "grid_template_areas": null,
            "grid_template_columns": null,
            "grid_template_rows": null,
            "height": null,
            "justify_content": null,
            "justify_items": null,
            "left": null,
            "margin": null,
            "max_height": null,
            "max_width": null,
            "min_height": null,
            "min_width": null,
            "object_fit": null,
            "object_position": null,
            "order": null,
            "overflow": null,
            "overflow_x": null,
            "overflow_y": null,
            "padding": null,
            "right": null,
            "top": null,
            "visibility": null,
            "width": null
          }
        },
        "47c0bca085db45cabdf1112e399aa8ce": {
          "model_module": "@jupyter-widgets/base",
          "model_name": "LayoutModel",
          "model_module_version": "1.2.0",
          "state": {
            "_model_module": "@jupyter-widgets/base",
            "_model_module_version": "1.2.0",
            "_model_name": "LayoutModel",
            "_view_count": null,
            "_view_module": "@jupyter-widgets/base",
            "_view_module_version": "1.2.0",
            "_view_name": "LayoutView",
            "align_content": null,
            "align_items": null,
            "align_self": null,
            "border": null,
            "bottom": null,
            "display": null,
            "flex": null,
            "flex_flow": null,
            "grid_area": null,
            "grid_auto_columns": null,
            "grid_auto_flow": null,
            "grid_auto_rows": null,
            "grid_column": null,
            "grid_gap": null,
            "grid_row": null,
            "grid_template_areas": null,
            "grid_template_columns": null,
            "grid_template_rows": null,
            "height": null,
            "justify_content": null,
            "justify_items": null,
            "left": null,
            "margin": null,
            "max_height": null,
            "max_width": null,
            "min_height": null,
            "min_width": null,
            "object_fit": null,
            "object_position": null,
            "order": null,
            "overflow": null,
            "overflow_x": null,
            "overflow_y": null,
            "padding": null,
            "right": null,
            "top": null,
            "visibility": null,
            "width": null
          }
        },
        "249229de75764f098d2384560d073567": {
          "model_module": "@jupyter-widgets/controls",
          "model_name": "DescriptionStyleModel",
          "model_module_version": "1.5.0",
          "state": {
            "_model_module": "@jupyter-widgets/controls",
            "_model_module_version": "1.5.0",
            "_model_name": "DescriptionStyleModel",
            "_view_count": null,
            "_view_module": "@jupyter-widgets/base",
            "_view_module_version": "1.2.0",
            "_view_name": "StyleView",
            "description_width": ""
          }
        },
        "3c334126b08647e8aaa2afc2c1eaa5d0": {
          "model_module": "@jupyter-widgets/base",
          "model_name": "LayoutModel",
          "model_module_version": "1.2.0",
          "state": {
            "_model_module": "@jupyter-widgets/base",
            "_model_module_version": "1.2.0",
            "_model_name": "LayoutModel",
            "_view_count": null,
            "_view_module": "@jupyter-widgets/base",
            "_view_module_version": "1.2.0",
            "_view_name": "LayoutView",
            "align_content": null,
            "align_items": null,
            "align_self": null,
            "border": null,
            "bottom": null,
            "display": null,
            "flex": null,
            "flex_flow": null,
            "grid_area": null,
            "grid_auto_columns": null,
            "grid_auto_flow": null,
            "grid_auto_rows": null,
            "grid_column": null,
            "grid_gap": null,
            "grid_row": null,
            "grid_template_areas": null,
            "grid_template_columns": null,
            "grid_template_rows": null,
            "height": null,
            "justify_content": null,
            "justify_items": null,
            "left": null,
            "margin": null,
            "max_height": null,
            "max_width": null,
            "min_height": null,
            "min_width": null,
            "object_fit": null,
            "object_position": null,
            "order": null,
            "overflow": null,
            "overflow_x": null,
            "overflow_y": null,
            "padding": null,
            "right": null,
            "top": null,
            "visibility": null,
            "width": null
          }
        },
        "81d2edc68070467aab86e1abecd8a47b": {
          "model_module": "@jupyter-widgets/controls",
          "model_name": "ProgressStyleModel",
          "model_module_version": "1.5.0",
          "state": {
            "_model_module": "@jupyter-widgets/controls",
            "_model_module_version": "1.5.0",
            "_model_name": "ProgressStyleModel",
            "_view_count": null,
            "_view_module": "@jupyter-widgets/base",
            "_view_module_version": "1.2.0",
            "_view_name": "StyleView",
            "bar_color": null,
            "description_width": ""
          }
        },
        "a592fb1b27204bea8b723212b402736f": {
          "model_module": "@jupyter-widgets/base",
          "model_name": "LayoutModel",
          "model_module_version": "1.2.0",
          "state": {
            "_model_module": "@jupyter-widgets/base",
            "_model_module_version": "1.2.0",
            "_model_name": "LayoutModel",
            "_view_count": null,
            "_view_module": "@jupyter-widgets/base",
            "_view_module_version": "1.2.0",
            "_view_name": "LayoutView",
            "align_content": null,
            "align_items": null,
            "align_self": null,
            "border": null,
            "bottom": null,
            "display": null,
            "flex": null,
            "flex_flow": null,
            "grid_area": null,
            "grid_auto_columns": null,
            "grid_auto_flow": null,
            "grid_auto_rows": null,
            "grid_column": null,
            "grid_gap": null,
            "grid_row": null,
            "grid_template_areas": null,
            "grid_template_columns": null,
            "grid_template_rows": null,
            "height": null,
            "justify_content": null,
            "justify_items": null,
            "left": null,
            "margin": null,
            "max_height": null,
            "max_width": null,
            "min_height": null,
            "min_width": null,
            "object_fit": null,
            "object_position": null,
            "order": null,
            "overflow": null,
            "overflow_x": null,
            "overflow_y": null,
            "padding": null,
            "right": null,
            "top": null,
            "visibility": null,
            "width": null
          }
        },
        "cb432d5c76434ba9bdb29748674541ee": {
          "model_module": "@jupyter-widgets/controls",
          "model_name": "DescriptionStyleModel",
          "model_module_version": "1.5.0",
          "state": {
            "_model_module": "@jupyter-widgets/controls",
            "_model_module_version": "1.5.0",
            "_model_name": "DescriptionStyleModel",
            "_view_count": null,
            "_view_module": "@jupyter-widgets/base",
            "_view_module_version": "1.2.0",
            "_view_name": "StyleView",
            "description_width": ""
          }
        },
        "940663d803ce465390579ad06798a4f5": {
          "model_module": "@jupyter-widgets/controls",
          "model_name": "HBoxModel",
          "model_module_version": "1.5.0",
          "state": {
            "_dom_classes": [],
            "_model_module": "@jupyter-widgets/controls",
            "_model_module_version": "1.5.0",
            "_model_name": "HBoxModel",
            "_view_count": null,
            "_view_module": "@jupyter-widgets/controls",
            "_view_module_version": "1.5.0",
            "_view_name": "HBoxView",
            "box_style": "",
            "children": [
              "IPY_MODEL_7b1e2b00a0024c1b91193e7263756053",
              "IPY_MODEL_18dd0fc8caee454bb62b5ae7e0b3a7db",
              "IPY_MODEL_dec7f54e774a433190bba80840968241"
            ],
            "layout": "IPY_MODEL_e0d2a935de1843d9a8312ab8278778f4"
          }
        },
        "7b1e2b00a0024c1b91193e7263756053": {
          "model_module": "@jupyter-widgets/controls",
          "model_name": "HTMLModel",
          "model_module_version": "1.5.0",
          "state": {
            "_dom_classes": [],
            "_model_module": "@jupyter-widgets/controls",
            "_model_module_version": "1.5.0",
            "_model_name": "HTMLModel",
            "_view_count": null,
            "_view_module": "@jupyter-widgets/controls",
            "_view_module_version": "1.5.0",
            "_view_name": "HTMLView",
            "description": "",
            "description_tooltip": null,
            "layout": "IPY_MODEL_78c2189bf9b148d8a420ca1bc12f2ba8",
            "placeholder": "​",
            "style": "IPY_MODEL_fbd97d755c364c678a9e013cd8b39d57",
            "value": "Downloading (…)lve/main/config.json: 100%"
          }
        },
        "18dd0fc8caee454bb62b5ae7e0b3a7db": {
          "model_module": "@jupyter-widgets/controls",
          "model_name": "FloatProgressModel",
          "model_module_version": "1.5.0",
          "state": {
            "_dom_classes": [],
            "_model_module": "@jupyter-widgets/controls",
            "_model_module_version": "1.5.0",
            "_model_name": "FloatProgressModel",
            "_view_count": null,
            "_view_module": "@jupyter-widgets/controls",
            "_view_module_version": "1.5.0",
            "_view_name": "ProgressView",
            "bar_style": "success",
            "description": "",
            "description_tooltip": null,
            "layout": "IPY_MODEL_f60aaa0781bd44479c94e48b8e494456",
            "max": 1716,
            "min": 0,
            "orientation": "horizontal",
            "style": "IPY_MODEL_1291648528f04c98a79135fa2514936c",
            "value": 1716
          }
        },
        "dec7f54e774a433190bba80840968241": {
          "model_module": "@jupyter-widgets/controls",
          "model_name": "HTMLModel",
          "model_module_version": "1.5.0",
          "state": {
            "_dom_classes": [],
            "_model_module": "@jupyter-widgets/controls",
            "_model_module_version": "1.5.0",
            "_model_name": "HTMLModel",
            "_view_count": null,
            "_view_module": "@jupyter-widgets/controls",
            "_view_module_version": "1.5.0",
            "_view_name": "HTMLView",
            "description": "",
            "description_tooltip": null,
            "layout": "IPY_MODEL_73fb7f11808346a2b30946d6577045c2",
            "placeholder": "​",
            "style": "IPY_MODEL_24e852a0891d43a0824ef2403959f5dd",
            "value": " 1.72k/1.72k [00:00&lt;00:00, 91.2kB/s]"
          }
        },
        "e0d2a935de1843d9a8312ab8278778f4": {
          "model_module": "@jupyter-widgets/base",
          "model_name": "LayoutModel",
          "model_module_version": "1.2.0",
          "state": {
            "_model_module": "@jupyter-widgets/base",
            "_model_module_version": "1.2.0",
            "_model_name": "LayoutModel",
            "_view_count": null,
            "_view_module": "@jupyter-widgets/base",
            "_view_module_version": "1.2.0",
            "_view_name": "LayoutView",
            "align_content": null,
            "align_items": null,
            "align_self": null,
            "border": null,
            "bottom": null,
            "display": null,
            "flex": null,
            "flex_flow": null,
            "grid_area": null,
            "grid_auto_columns": null,
            "grid_auto_flow": null,
            "grid_auto_rows": null,
            "grid_column": null,
            "grid_gap": null,
            "grid_row": null,
            "grid_template_areas": null,
            "grid_template_columns": null,
            "grid_template_rows": null,
            "height": null,
            "justify_content": null,
            "justify_items": null,
            "left": null,
            "margin": null,
            "max_height": null,
            "max_width": null,
            "min_height": null,
            "min_width": null,
            "object_fit": null,
            "object_position": null,
            "order": null,
            "overflow": null,
            "overflow_x": null,
            "overflow_y": null,
            "padding": null,
            "right": null,
            "top": null,
            "visibility": null,
            "width": null
          }
        },
        "78c2189bf9b148d8a420ca1bc12f2ba8": {
          "model_module": "@jupyter-widgets/base",
          "model_name": "LayoutModel",
          "model_module_version": "1.2.0",
          "state": {
            "_model_module": "@jupyter-widgets/base",
            "_model_module_version": "1.2.0",
            "_model_name": "LayoutModel",
            "_view_count": null,
            "_view_module": "@jupyter-widgets/base",
            "_view_module_version": "1.2.0",
            "_view_name": "LayoutView",
            "align_content": null,
            "align_items": null,
            "align_self": null,
            "border": null,
            "bottom": null,
            "display": null,
            "flex": null,
            "flex_flow": null,
            "grid_area": null,
            "grid_auto_columns": null,
            "grid_auto_flow": null,
            "grid_auto_rows": null,
            "grid_column": null,
            "grid_gap": null,
            "grid_row": null,
            "grid_template_areas": null,
            "grid_template_columns": null,
            "grid_template_rows": null,
            "height": null,
            "justify_content": null,
            "justify_items": null,
            "left": null,
            "margin": null,
            "max_height": null,
            "max_width": null,
            "min_height": null,
            "min_width": null,
            "object_fit": null,
            "object_position": null,
            "order": null,
            "overflow": null,
            "overflow_x": null,
            "overflow_y": null,
            "padding": null,
            "right": null,
            "top": null,
            "visibility": null,
            "width": null
          }
        },
        "fbd97d755c364c678a9e013cd8b39d57": {
          "model_module": "@jupyter-widgets/controls",
          "model_name": "DescriptionStyleModel",
          "model_module_version": "1.5.0",
          "state": {
            "_model_module": "@jupyter-widgets/controls",
            "_model_module_version": "1.5.0",
            "_model_name": "DescriptionStyleModel",
            "_view_count": null,
            "_view_module": "@jupyter-widgets/base",
            "_view_module_version": "1.2.0",
            "_view_name": "StyleView",
            "description_width": ""
          }
        },
        "f60aaa0781bd44479c94e48b8e494456": {
          "model_module": "@jupyter-widgets/base",
          "model_name": "LayoutModel",
          "model_module_version": "1.2.0",
          "state": {
            "_model_module": "@jupyter-widgets/base",
            "_model_module_version": "1.2.0",
            "_model_name": "LayoutModel",
            "_view_count": null,
            "_view_module": "@jupyter-widgets/base",
            "_view_module_version": "1.2.0",
            "_view_name": "LayoutView",
            "align_content": null,
            "align_items": null,
            "align_self": null,
            "border": null,
            "bottom": null,
            "display": null,
            "flex": null,
            "flex_flow": null,
            "grid_area": null,
            "grid_auto_columns": null,
            "grid_auto_flow": null,
            "grid_auto_rows": null,
            "grid_column": null,
            "grid_gap": null,
            "grid_row": null,
            "grid_template_areas": null,
            "grid_template_columns": null,
            "grid_template_rows": null,
            "height": null,
            "justify_content": null,
            "justify_items": null,
            "left": null,
            "margin": null,
            "max_height": null,
            "max_width": null,
            "min_height": null,
            "min_width": null,
            "object_fit": null,
            "object_position": null,
            "order": null,
            "overflow": null,
            "overflow_x": null,
            "overflow_y": null,
            "padding": null,
            "right": null,
            "top": null,
            "visibility": null,
            "width": null
          }
        },
        "1291648528f04c98a79135fa2514936c": {
          "model_module": "@jupyter-widgets/controls",
          "model_name": "ProgressStyleModel",
          "model_module_version": "1.5.0",
          "state": {
            "_model_module": "@jupyter-widgets/controls",
            "_model_module_version": "1.5.0",
            "_model_name": "ProgressStyleModel",
            "_view_count": null,
            "_view_module": "@jupyter-widgets/base",
            "_view_module_version": "1.2.0",
            "_view_name": "StyleView",
            "bar_color": null,
            "description_width": ""
          }
        },
        "73fb7f11808346a2b30946d6577045c2": {
          "model_module": "@jupyter-widgets/base",
          "model_name": "LayoutModel",
          "model_module_version": "1.2.0",
          "state": {
            "_model_module": "@jupyter-widgets/base",
            "_model_module_version": "1.2.0",
            "_model_name": "LayoutModel",
            "_view_count": null,
            "_view_module": "@jupyter-widgets/base",
            "_view_module_version": "1.2.0",
            "_view_name": "LayoutView",
            "align_content": null,
            "align_items": null,
            "align_self": null,
            "border": null,
            "bottom": null,
            "display": null,
            "flex": null,
            "flex_flow": null,
            "grid_area": null,
            "grid_auto_columns": null,
            "grid_auto_flow": null,
            "grid_auto_rows": null,
            "grid_column": null,
            "grid_gap": null,
            "grid_row": null,
            "grid_template_areas": null,
            "grid_template_columns": null,
            "grid_template_rows": null,
            "height": null,
            "justify_content": null,
            "justify_items": null,
            "left": null,
            "margin": null,
            "max_height": null,
            "max_width": null,
            "min_height": null,
            "min_width": null,
            "object_fit": null,
            "object_position": null,
            "order": null,
            "overflow": null,
            "overflow_x": null,
            "overflow_y": null,
            "padding": null,
            "right": null,
            "top": null,
            "visibility": null,
            "width": null
          }
        },
        "24e852a0891d43a0824ef2403959f5dd": {
          "model_module": "@jupyter-widgets/controls",
          "model_name": "DescriptionStyleModel",
          "model_module_version": "1.5.0",
          "state": {
            "_model_module": "@jupyter-widgets/controls",
            "_model_module_version": "1.5.0",
            "_model_name": "DescriptionStyleModel",
            "_view_count": null,
            "_view_module": "@jupyter-widgets/base",
            "_view_module_version": "1.2.0",
            "_view_name": "StyleView",
            "description_width": ""
          }
        },
        "438f9ccc2f364e198c0a4bcabccb3262": {
          "model_module": "@jupyter-widgets/controls",
          "model_name": "HBoxModel",
          "model_module_version": "1.5.0",
          "state": {
            "_dom_classes": [],
            "_model_module": "@jupyter-widgets/controls",
            "_model_module_version": "1.5.0",
            "_model_name": "HBoxModel",
            "_view_count": null,
            "_view_module": "@jupyter-widgets/controls",
            "_view_module_version": "1.5.0",
            "_view_name": "HBoxView",
            "box_style": "",
            "children": [
              "IPY_MODEL_c84593bdae50471ea56ac7c58f157b0b",
              "IPY_MODEL_0105c39689df44ca8fd000496a2db1be",
              "IPY_MODEL_fa0f20348eef42cabfa0d54b47647af1"
            ],
            "layout": "IPY_MODEL_eb5a17c47fa5429ea8f53a26cd7bfbe0"
          }
        },
        "c84593bdae50471ea56ac7c58f157b0b": {
          "model_module": "@jupyter-widgets/controls",
          "model_name": "HTMLModel",
          "model_module_version": "1.5.0",
          "state": {
            "_dom_classes": [],
            "_model_module": "@jupyter-widgets/controls",
            "_model_module_version": "1.5.0",
            "_model_name": "HTMLModel",
            "_view_count": null,
            "_view_module": "@jupyter-widgets/controls",
            "_view_module_version": "1.5.0",
            "_view_name": "HTMLView",
            "description": "",
            "description_tooltip": null,
            "layout": "IPY_MODEL_45d319150055453cb693497457fbd50d",
            "placeholder": "​",
            "style": "IPY_MODEL_726ac822776448b980eeb58472fdfa9b",
            "value": "Map: 100%"
          }
        },
        "0105c39689df44ca8fd000496a2db1be": {
          "model_module": "@jupyter-widgets/controls",
          "model_name": "FloatProgressModel",
          "model_module_version": "1.5.0",
          "state": {
            "_dom_classes": [],
            "_model_module": "@jupyter-widgets/controls",
            "_model_module_version": "1.5.0",
            "_model_name": "FloatProgressModel",
            "_view_count": null,
            "_view_module": "@jupyter-widgets/controls",
            "_view_module_version": "1.5.0",
            "_view_name": "ProgressView",
            "bar_style": "",
            "description": "",
            "description_tooltip": null,
            "layout": "IPY_MODEL_e6a9ee468e5e4b1ba834f91e031bfa92",
            "max": 2279,
            "min": 0,
            "orientation": "horizontal",
            "style": "IPY_MODEL_91e4d0d861184badbad08d7fc1f5a8fc",
            "value": 2279
          }
        },
        "fa0f20348eef42cabfa0d54b47647af1": {
          "model_module": "@jupyter-widgets/controls",
          "model_name": "HTMLModel",
          "model_module_version": "1.5.0",
          "state": {
            "_dom_classes": [],
            "_model_module": "@jupyter-widgets/controls",
            "_model_module_version": "1.5.0",
            "_model_name": "HTMLModel",
            "_view_count": null,
            "_view_module": "@jupyter-widgets/controls",
            "_view_module_version": "1.5.0",
            "_view_name": "HTMLView",
            "description": "",
            "description_tooltip": null,
            "layout": "IPY_MODEL_0c35d456c57e424a9f765c7bb96501ab",
            "placeholder": "​",
            "style": "IPY_MODEL_f124d9384b1a43dfaa9f4c01a3dae68f",
            "value": " 2279/2279 [00:27&lt;00:00, 81.19 examples/s]"
          }
        },
        "eb5a17c47fa5429ea8f53a26cd7bfbe0": {
          "model_module": "@jupyter-widgets/base",
          "model_name": "LayoutModel",
          "model_module_version": "1.2.0",
          "state": {
            "_model_module": "@jupyter-widgets/base",
            "_model_module_version": "1.2.0",
            "_model_name": "LayoutModel",
            "_view_count": null,
            "_view_module": "@jupyter-widgets/base",
            "_view_module_version": "1.2.0",
            "_view_name": "LayoutView",
            "align_content": null,
            "align_items": null,
            "align_self": null,
            "border": null,
            "bottom": null,
            "display": null,
            "flex": null,
            "flex_flow": null,
            "grid_area": null,
            "grid_auto_columns": null,
            "grid_auto_flow": null,
            "grid_auto_rows": null,
            "grid_column": null,
            "grid_gap": null,
            "grid_row": null,
            "grid_template_areas": null,
            "grid_template_columns": null,
            "grid_template_rows": null,
            "height": null,
            "justify_content": null,
            "justify_items": null,
            "left": null,
            "margin": null,
            "max_height": null,
            "max_width": null,
            "min_height": null,
            "min_width": null,
            "object_fit": null,
            "object_position": null,
            "order": null,
            "overflow": null,
            "overflow_x": null,
            "overflow_y": null,
            "padding": null,
            "right": null,
            "top": null,
            "visibility": "hidden",
            "width": null
          }
        },
        "45d319150055453cb693497457fbd50d": {
          "model_module": "@jupyter-widgets/base",
          "model_name": "LayoutModel",
          "model_module_version": "1.2.0",
          "state": {
            "_model_module": "@jupyter-widgets/base",
            "_model_module_version": "1.2.0",
            "_model_name": "LayoutModel",
            "_view_count": null,
            "_view_module": "@jupyter-widgets/base",
            "_view_module_version": "1.2.0",
            "_view_name": "LayoutView",
            "align_content": null,
            "align_items": null,
            "align_self": null,
            "border": null,
            "bottom": null,
            "display": null,
            "flex": null,
            "flex_flow": null,
            "grid_area": null,
            "grid_auto_columns": null,
            "grid_auto_flow": null,
            "grid_auto_rows": null,
            "grid_column": null,
            "grid_gap": null,
            "grid_row": null,
            "grid_template_areas": null,
            "grid_template_columns": null,
            "grid_template_rows": null,
            "height": null,
            "justify_content": null,
            "justify_items": null,
            "left": null,
            "margin": null,
            "max_height": null,
            "max_width": null,
            "min_height": null,
            "min_width": null,
            "object_fit": null,
            "object_position": null,
            "order": null,
            "overflow": null,
            "overflow_x": null,
            "overflow_y": null,
            "padding": null,
            "right": null,
            "top": null,
            "visibility": null,
            "width": null
          }
        },
        "726ac822776448b980eeb58472fdfa9b": {
          "model_module": "@jupyter-widgets/controls",
          "model_name": "DescriptionStyleModel",
          "model_module_version": "1.5.0",
          "state": {
            "_model_module": "@jupyter-widgets/controls",
            "_model_module_version": "1.5.0",
            "_model_name": "DescriptionStyleModel",
            "_view_count": null,
            "_view_module": "@jupyter-widgets/base",
            "_view_module_version": "1.2.0",
            "_view_name": "StyleView",
            "description_width": ""
          }
        },
        "e6a9ee468e5e4b1ba834f91e031bfa92": {
          "model_module": "@jupyter-widgets/base",
          "model_name": "LayoutModel",
          "model_module_version": "1.2.0",
          "state": {
            "_model_module": "@jupyter-widgets/base",
            "_model_module_version": "1.2.0",
            "_model_name": "LayoutModel",
            "_view_count": null,
            "_view_module": "@jupyter-widgets/base",
            "_view_module_version": "1.2.0",
            "_view_name": "LayoutView",
            "align_content": null,
            "align_items": null,
            "align_self": null,
            "border": null,
            "bottom": null,
            "display": null,
            "flex": null,
            "flex_flow": null,
            "grid_area": null,
            "grid_auto_columns": null,
            "grid_auto_flow": null,
            "grid_auto_rows": null,
            "grid_column": null,
            "grid_gap": null,
            "grid_row": null,
            "grid_template_areas": null,
            "grid_template_columns": null,
            "grid_template_rows": null,
            "height": null,
            "justify_content": null,
            "justify_items": null,
            "left": null,
            "margin": null,
            "max_height": null,
            "max_width": null,
            "min_height": null,
            "min_width": null,
            "object_fit": null,
            "object_position": null,
            "order": null,
            "overflow": null,
            "overflow_x": null,
            "overflow_y": null,
            "padding": null,
            "right": null,
            "top": null,
            "visibility": null,
            "width": null
          }
        },
        "91e4d0d861184badbad08d7fc1f5a8fc": {
          "model_module": "@jupyter-widgets/controls",
          "model_name": "ProgressStyleModel",
          "model_module_version": "1.5.0",
          "state": {
            "_model_module": "@jupyter-widgets/controls",
            "_model_module_version": "1.5.0",
            "_model_name": "ProgressStyleModel",
            "_view_count": null,
            "_view_module": "@jupyter-widgets/base",
            "_view_module_version": "1.2.0",
            "_view_name": "StyleView",
            "bar_color": null,
            "description_width": ""
          }
        },
        "0c35d456c57e424a9f765c7bb96501ab": {
          "model_module": "@jupyter-widgets/base",
          "model_name": "LayoutModel",
          "model_module_version": "1.2.0",
          "state": {
            "_model_module": "@jupyter-widgets/base",
            "_model_module_version": "1.2.0",
            "_model_name": "LayoutModel",
            "_view_count": null,
            "_view_module": "@jupyter-widgets/base",
            "_view_module_version": "1.2.0",
            "_view_name": "LayoutView",
            "align_content": null,
            "align_items": null,
            "align_self": null,
            "border": null,
            "bottom": null,
            "display": null,
            "flex": null,
            "flex_flow": null,
            "grid_area": null,
            "grid_auto_columns": null,
            "grid_auto_flow": null,
            "grid_auto_rows": null,
            "grid_column": null,
            "grid_gap": null,
            "grid_row": null,
            "grid_template_areas": null,
            "grid_template_columns": null,
            "grid_template_rows": null,
            "height": null,
            "justify_content": null,
            "justify_items": null,
            "left": null,
            "margin": null,
            "max_height": null,
            "max_width": null,
            "min_height": null,
            "min_width": null,
            "object_fit": null,
            "object_position": null,
            "order": null,
            "overflow": null,
            "overflow_x": null,
            "overflow_y": null,
            "padding": null,
            "right": null,
            "top": null,
            "visibility": null,
            "width": null
          }
        },
        "f124d9384b1a43dfaa9f4c01a3dae68f": {
          "model_module": "@jupyter-widgets/controls",
          "model_name": "DescriptionStyleModel",
          "model_module_version": "1.5.0",
          "state": {
            "_model_module": "@jupyter-widgets/controls",
            "_model_module_version": "1.5.0",
            "_model_name": "DescriptionStyleModel",
            "_view_count": null,
            "_view_module": "@jupyter-widgets/base",
            "_view_module_version": "1.2.0",
            "_view_name": "StyleView",
            "description_width": ""
          }
        },
        "03c92738ad2d439ba3d9274b34c75584": {
          "model_module": "@jupyter-widgets/controls",
          "model_name": "HBoxModel",
          "model_module_version": "1.5.0",
          "state": {
            "_dom_classes": [],
            "_model_module": "@jupyter-widgets/controls",
            "_model_module_version": "1.5.0",
            "_model_name": "HBoxModel",
            "_view_count": null,
            "_view_module": "@jupyter-widgets/controls",
            "_view_module_version": "1.5.0",
            "_view_name": "HBoxView",
            "box_style": "",
            "children": [
              "IPY_MODEL_0dd10acd43124ad4a4abec792a248c08",
              "IPY_MODEL_0a8360ec36024af3a688926869fe8899",
              "IPY_MODEL_59074c023d104962a7890c43de6d4559"
            ],
            "layout": "IPY_MODEL_40df726c3bc2428dbaf821363a390f0d"
          }
        },
        "0dd10acd43124ad4a4abec792a248c08": {
          "model_module": "@jupyter-widgets/controls",
          "model_name": "HTMLModel",
          "model_module_version": "1.5.0",
          "state": {
            "_dom_classes": [],
            "_model_module": "@jupyter-widgets/controls",
            "_model_module_version": "1.5.0",
            "_model_name": "HTMLModel",
            "_view_count": null,
            "_view_module": "@jupyter-widgets/controls",
            "_view_module_version": "1.5.0",
            "_view_name": "HTMLView",
            "description": "",
            "description_tooltip": null,
            "layout": "IPY_MODEL_6f9d79ffd093454d962bc92d08e39780",
            "placeholder": "​",
            "style": "IPY_MODEL_c504c7ae706045ff918ce7dd152c36a3",
            "value": "Map: 100%"
          }
        },
        "0a8360ec36024af3a688926869fe8899": {
          "model_module": "@jupyter-widgets/controls",
          "model_name": "FloatProgressModel",
          "model_module_version": "1.5.0",
          "state": {
            "_dom_classes": [],
            "_model_module": "@jupyter-widgets/controls",
            "_model_module_version": "1.5.0",
            "_model_name": "FloatProgressModel",
            "_view_count": null,
            "_view_module": "@jupyter-widgets/controls",
            "_view_module_version": "1.5.0",
            "_view_name": "ProgressView",
            "bar_style": "",
            "description": "",
            "description_tooltip": null,
            "layout": "IPY_MODEL_ee8f63c9e32b45f483aa2afd9fe10e63",
            "max": 570,
            "min": 0,
            "orientation": "horizontal",
            "style": "IPY_MODEL_387393d562d84e91a8cc9159e0d2f3de",
            "value": 570
          }
        },
        "59074c023d104962a7890c43de6d4559": {
          "model_module": "@jupyter-widgets/controls",
          "model_name": "HTMLModel",
          "model_module_version": "1.5.0",
          "state": {
            "_dom_classes": [],
            "_model_module": "@jupyter-widgets/controls",
            "_model_module_version": "1.5.0",
            "_model_name": "HTMLModel",
            "_view_count": null,
            "_view_module": "@jupyter-widgets/controls",
            "_view_module_version": "1.5.0",
            "_view_name": "HTMLView",
            "description": "",
            "description_tooltip": null,
            "layout": "IPY_MODEL_ad500adee5b84276ae030e00912f2ac6",
            "placeholder": "​",
            "style": "IPY_MODEL_9906f4d00fd04cada0319a91f0289c71",
            "value": " 570/570 [00:07&lt;00:00, 76.67 examples/s]"
          }
        },
        "40df726c3bc2428dbaf821363a390f0d": {
          "model_module": "@jupyter-widgets/base",
          "model_name": "LayoutModel",
          "model_module_version": "1.2.0",
          "state": {
            "_model_module": "@jupyter-widgets/base",
            "_model_module_version": "1.2.0",
            "_model_name": "LayoutModel",
            "_view_count": null,
            "_view_module": "@jupyter-widgets/base",
            "_view_module_version": "1.2.0",
            "_view_name": "LayoutView",
            "align_content": null,
            "align_items": null,
            "align_self": null,
            "border": null,
            "bottom": null,
            "display": null,
            "flex": null,
            "flex_flow": null,
            "grid_area": null,
            "grid_auto_columns": null,
            "grid_auto_flow": null,
            "grid_auto_rows": null,
            "grid_column": null,
            "grid_gap": null,
            "grid_row": null,
            "grid_template_areas": null,
            "grid_template_columns": null,
            "grid_template_rows": null,
            "height": null,
            "justify_content": null,
            "justify_items": null,
            "left": null,
            "margin": null,
            "max_height": null,
            "max_width": null,
            "min_height": null,
            "min_width": null,
            "object_fit": null,
            "object_position": null,
            "order": null,
            "overflow": null,
            "overflow_x": null,
            "overflow_y": null,
            "padding": null,
            "right": null,
            "top": null,
            "visibility": "hidden",
            "width": null
          }
        },
        "6f9d79ffd093454d962bc92d08e39780": {
          "model_module": "@jupyter-widgets/base",
          "model_name": "LayoutModel",
          "model_module_version": "1.2.0",
          "state": {
            "_model_module": "@jupyter-widgets/base",
            "_model_module_version": "1.2.0",
            "_model_name": "LayoutModel",
            "_view_count": null,
            "_view_module": "@jupyter-widgets/base",
            "_view_module_version": "1.2.0",
            "_view_name": "LayoutView",
            "align_content": null,
            "align_items": null,
            "align_self": null,
            "border": null,
            "bottom": null,
            "display": null,
            "flex": null,
            "flex_flow": null,
            "grid_area": null,
            "grid_auto_columns": null,
            "grid_auto_flow": null,
            "grid_auto_rows": null,
            "grid_column": null,
            "grid_gap": null,
            "grid_row": null,
            "grid_template_areas": null,
            "grid_template_columns": null,
            "grid_template_rows": null,
            "height": null,
            "justify_content": null,
            "justify_items": null,
            "left": null,
            "margin": null,
            "max_height": null,
            "max_width": null,
            "min_height": null,
            "min_width": null,
            "object_fit": null,
            "object_position": null,
            "order": null,
            "overflow": null,
            "overflow_x": null,
            "overflow_y": null,
            "padding": null,
            "right": null,
            "top": null,
            "visibility": null,
            "width": null
          }
        },
        "c504c7ae706045ff918ce7dd152c36a3": {
          "model_module": "@jupyter-widgets/controls",
          "model_name": "DescriptionStyleModel",
          "model_module_version": "1.5.0",
          "state": {
            "_model_module": "@jupyter-widgets/controls",
            "_model_module_version": "1.5.0",
            "_model_name": "DescriptionStyleModel",
            "_view_count": null,
            "_view_module": "@jupyter-widgets/base",
            "_view_module_version": "1.2.0",
            "_view_name": "StyleView",
            "description_width": ""
          }
        },
        "ee8f63c9e32b45f483aa2afd9fe10e63": {
          "model_module": "@jupyter-widgets/base",
          "model_name": "LayoutModel",
          "model_module_version": "1.2.0",
          "state": {
            "_model_module": "@jupyter-widgets/base",
            "_model_module_version": "1.2.0",
            "_model_name": "LayoutModel",
            "_view_count": null,
            "_view_module": "@jupyter-widgets/base",
            "_view_module_version": "1.2.0",
            "_view_name": "LayoutView",
            "align_content": null,
            "align_items": null,
            "align_self": null,
            "border": null,
            "bottom": null,
            "display": null,
            "flex": null,
            "flex_flow": null,
            "grid_area": null,
            "grid_auto_columns": null,
            "grid_auto_flow": null,
            "grid_auto_rows": null,
            "grid_column": null,
            "grid_gap": null,
            "grid_row": null,
            "grid_template_areas": null,
            "grid_template_columns": null,
            "grid_template_rows": null,
            "height": null,
            "justify_content": null,
            "justify_items": null,
            "left": null,
            "margin": null,
            "max_height": null,
            "max_width": null,
            "min_height": null,
            "min_width": null,
            "object_fit": null,
            "object_position": null,
            "order": null,
            "overflow": null,
            "overflow_x": null,
            "overflow_y": null,
            "padding": null,
            "right": null,
            "top": null,
            "visibility": null,
            "width": null
          }
        },
        "387393d562d84e91a8cc9159e0d2f3de": {
          "model_module": "@jupyter-widgets/controls",
          "model_name": "ProgressStyleModel",
          "model_module_version": "1.5.0",
          "state": {
            "_model_module": "@jupyter-widgets/controls",
            "_model_module_version": "1.5.0",
            "_model_name": "ProgressStyleModel",
            "_view_count": null,
            "_view_module": "@jupyter-widgets/base",
            "_view_module_version": "1.2.0",
            "_view_name": "StyleView",
            "bar_color": null,
            "description_width": ""
          }
        },
        "ad500adee5b84276ae030e00912f2ac6": {
          "model_module": "@jupyter-widgets/base",
          "model_name": "LayoutModel",
          "model_module_version": "1.2.0",
          "state": {
            "_model_module": "@jupyter-widgets/base",
            "_model_module_version": "1.2.0",
            "_model_name": "LayoutModel",
            "_view_count": null,
            "_view_module": "@jupyter-widgets/base",
            "_view_module_version": "1.2.0",
            "_view_name": "LayoutView",
            "align_content": null,
            "align_items": null,
            "align_self": null,
            "border": null,
            "bottom": null,
            "display": null,
            "flex": null,
            "flex_flow": null,
            "grid_area": null,
            "grid_auto_columns": null,
            "grid_auto_flow": null,
            "grid_auto_rows": null,
            "grid_column": null,
            "grid_gap": null,
            "grid_row": null,
            "grid_template_areas": null,
            "grid_template_columns": null,
            "grid_template_rows": null,
            "height": null,
            "justify_content": null,
            "justify_items": null,
            "left": null,
            "margin": null,
            "max_height": null,
            "max_width": null,
            "min_height": null,
            "min_width": null,
            "object_fit": null,
            "object_position": null,
            "order": null,
            "overflow": null,
            "overflow_x": null,
            "overflow_y": null,
            "padding": null,
            "right": null,
            "top": null,
            "visibility": null,
            "width": null
          }
        },
        "9906f4d00fd04cada0319a91f0289c71": {
          "model_module": "@jupyter-widgets/controls",
          "model_name": "DescriptionStyleModel",
          "model_module_version": "1.5.0",
          "state": {
            "_model_module": "@jupyter-widgets/controls",
            "_model_module_version": "1.5.0",
            "_model_name": "DescriptionStyleModel",
            "_view_count": null,
            "_view_module": "@jupyter-widgets/base",
            "_view_module_version": "1.2.0",
            "_view_name": "StyleView",
            "description_width": ""
          }
        }
      }
    },
    "gpuClass": "standard",
    "accelerator": "GPU"
  },
  "cells": [
    {
      "cell_type": "markdown",
      "metadata": {
        "id": "view-in-github",
        "colab_type": "text"
      },
      "source": [
        "<a href=\"https://colab.research.google.com/github/GarettGazay/ai_projects/blob/master/RouteBuilder_TFR.ipynb\" target=\"_parent\"><img src=\"https://colab.research.google.com/assets/colab-badge.svg\" alt=\"Open In Colab\"/></a>"
      ]
    },
    {
      "cell_type": "code",
      "execution_count": 1,
      "metadata": {
        "colab": {
          "base_uri": "https://localhost:8080/"
        },
        "id": "eV6tq74_w0KC",
        "outputId": "b1a6421d-bef3-4e52-a30b-e3aebef58431"
      },
      "outputs": [
        {
          "output_type": "stream",
          "name": "stdout",
          "text": [
            "Looking in indexes: https://pypi.org/simple, https://us-python.pkg.dev/colab-wheels/public/simple/\n",
            "Collecting transformers\n",
            "  Downloading transformers-4.27.2-py3-none-any.whl (6.8 MB)\n",
            "\u001b[2K     \u001b[90m━━━━━━━━━━━━━━━━━━━━━━━━━━━━━━━━━━━━━━━━\u001b[0m \u001b[32m6.8/6.8 MB\u001b[0m \u001b[31m51.1 MB/s\u001b[0m eta \u001b[36m0:00:00\u001b[0m\n",
            "\u001b[?25hRequirement already satisfied: packaging>=20.0 in /usr/local/lib/python3.9/dist-packages (from transformers) (23.0)\n",
            "Requirement already satisfied: regex!=2019.12.17 in /usr/local/lib/python3.9/dist-packages (from transformers) (2022.10.31)\n",
            "Requirement already satisfied: requests in /usr/local/lib/python3.9/dist-packages (from transformers) (2.27.1)\n",
            "Requirement already satisfied: tqdm>=4.27 in /usr/local/lib/python3.9/dist-packages (from transformers) (4.65.0)\n",
            "Collecting huggingface-hub<1.0,>=0.11.0\n",
            "  Downloading huggingface_hub-0.13.3-py3-none-any.whl (199 kB)\n",
            "\u001b[2K     \u001b[90m━━━━━━━━━━━━━━━━━━━━━━━━━━━━━━━━━━━━━━\u001b[0m \u001b[32m199.8/199.8 KB\u001b[0m \u001b[31m22.1 MB/s\u001b[0m eta \u001b[36m0:00:00\u001b[0m\n",
            "\u001b[?25hCollecting tokenizers!=0.11.3,<0.14,>=0.11.1\n",
            "  Downloading tokenizers-0.13.2-cp39-cp39-manylinux_2_17_x86_64.manylinux2014_x86_64.whl (7.6 MB)\n",
            "\u001b[2K     \u001b[90m━━━━━━━━━━━━━━━━━━━━━━━━━━━━━━━━━━━━━━━━\u001b[0m \u001b[32m7.6/7.6 MB\u001b[0m \u001b[31m90.3 MB/s\u001b[0m eta \u001b[36m0:00:00\u001b[0m\n",
            "\u001b[?25hRequirement already satisfied: filelock in /usr/local/lib/python3.9/dist-packages (from transformers) (3.10.0)\n",
            "Requirement already satisfied: numpy>=1.17 in /usr/local/lib/python3.9/dist-packages (from transformers) (1.22.4)\n",
            "Requirement already satisfied: pyyaml>=5.1 in /usr/local/lib/python3.9/dist-packages (from transformers) (6.0)\n",
            "Requirement already satisfied: typing-extensions>=3.7.4.3 in /usr/local/lib/python3.9/dist-packages (from huggingface-hub<1.0,>=0.11.0->transformers) (4.5.0)\n",
            "Requirement already satisfied: idna<4,>=2.5 in /usr/local/lib/python3.9/dist-packages (from requests->transformers) (3.4)\n",
            "Requirement already satisfied: charset-normalizer~=2.0.0 in /usr/local/lib/python3.9/dist-packages (from requests->transformers) (2.0.12)\n",
            "Requirement already satisfied: urllib3<1.27,>=1.21.1 in /usr/local/lib/python3.9/dist-packages (from requests->transformers) (1.26.15)\n",
            "Requirement already satisfied: certifi>=2017.4.17 in /usr/local/lib/python3.9/dist-packages (from requests->transformers) (2022.12.7)\n",
            "Installing collected packages: tokenizers, huggingface-hub, transformers\n",
            "Successfully installed huggingface-hub-0.13.3 tokenizers-0.13.2 transformers-4.27.2\n",
            "Looking in indexes: https://pypi.org/simple, https://us-python.pkg.dev/colab-wheels/public/simple/\n",
            "Collecting sentencepiece\n",
            "  Downloading sentencepiece-0.1.97-cp39-cp39-manylinux_2_17_x86_64.manylinux2014_x86_64.whl (1.3 MB)\n",
            "\u001b[2K     \u001b[90m━━━━━━━━━━━━━━━━━━━━━━━━━━━━━━━━━━━━━━━━\u001b[0m \u001b[32m1.3/1.3 MB\u001b[0m \u001b[31m19.7 MB/s\u001b[0m eta \u001b[36m0:00:00\u001b[0m\n",
            "\u001b[?25hInstalling collected packages: sentencepiece\n",
            "Successfully installed sentencepiece-0.1.97\n",
            "Looking in indexes: https://pypi.org/simple, https://us-python.pkg.dev/colab-wheels/public/simple/\n",
            "Collecting datasets\n",
            "  Downloading datasets-2.10.1-py3-none-any.whl (469 kB)\n",
            "\u001b[2K     \u001b[90m━━━━━━━━━━━━━━━━━━━━━━━━━━━━━━━━━━━━━━━\u001b[0m \u001b[32m469.0/469.0 KB\u001b[0m \u001b[31m3.6 MB/s\u001b[0m eta \u001b[36m0:00:00\u001b[0m\n",
            "\u001b[?25hRequirement already satisfied: pyyaml>=5.1 in /usr/local/lib/python3.9/dist-packages (from datasets) (6.0)\n",
            "Requirement already satisfied: pyarrow>=6.0.0 in /usr/local/lib/python3.9/dist-packages (from datasets) (9.0.0)\n",
            "Collecting responses<0.19\n",
            "  Downloading responses-0.18.0-py3-none-any.whl (38 kB)\n",
            "Requirement already satisfied: tqdm>=4.62.1 in /usr/local/lib/python3.9/dist-packages (from datasets) (4.65.0)\n",
            "Requirement already satisfied: numpy>=1.17 in /usr/local/lib/python3.9/dist-packages (from datasets) (1.22.4)\n",
            "Requirement already satisfied: fsspec[http]>=2021.11.1 in /usr/local/lib/python3.9/dist-packages (from datasets) (2023.3.0)\n",
            "Requirement already satisfied: packaging in /usr/local/lib/python3.9/dist-packages (from datasets) (23.0)\n",
            "Collecting aiohttp\n",
            "  Downloading aiohttp-3.8.4-cp39-cp39-manylinux_2_17_x86_64.manylinux2014_x86_64.whl (1.0 MB)\n",
            "\u001b[2K     \u001b[90m━━━━━━━━━━━━━━━━━━━━━━━━━━━━━━━━━━━━━━━━\u001b[0m \u001b[32m1.0/1.0 MB\u001b[0m \u001b[31m8.8 MB/s\u001b[0m eta \u001b[36m0:00:00\u001b[0m\n",
            "\u001b[?25hRequirement already satisfied: pandas in /usr/local/lib/python3.9/dist-packages (from datasets) (1.4.4)\n",
            "Collecting multiprocess\n",
            "  Downloading multiprocess-0.70.14-py39-none-any.whl (132 kB)\n",
            "\u001b[2K     \u001b[90m━━━━━━━━━━━━━━━━━━━━━━━━━━━━━━━━━━━━━━━\u001b[0m \u001b[32m132.9/132.9 KB\u001b[0m \u001b[31m6.7 MB/s\u001b[0m eta \u001b[36m0:00:00\u001b[0m\n",
            "\u001b[?25hRequirement already satisfied: requests>=2.19.0 in /usr/local/lib/python3.9/dist-packages (from datasets) (2.27.1)\n",
            "Collecting dill<0.3.7,>=0.3.0\n",
            "  Downloading dill-0.3.6-py3-none-any.whl (110 kB)\n",
            "\u001b[2K     \u001b[90m━━━━━━━━━━━━━━━━━━━━━━━━━━━━━━━━━━━━━━━\u001b[0m \u001b[32m110.5/110.5 KB\u001b[0m \u001b[31m4.8 MB/s\u001b[0m eta \u001b[36m0:00:00\u001b[0m\n",
            "\u001b[?25hCollecting xxhash\n",
            "  Downloading xxhash-3.2.0-cp39-cp39-manylinux_2_17_x86_64.manylinux2014_x86_64.whl (212 kB)\n",
            "\u001b[2K     \u001b[90m━━━━━━━━━━━━━━━━━━━━━━━━━━━━━━━━━━━━━━━\u001b[0m \u001b[32m212.2/212.2 KB\u001b[0m \u001b[31m7.3 MB/s\u001b[0m eta \u001b[36m0:00:00\u001b[0m\n",
            "\u001b[?25hRequirement already satisfied: huggingface-hub<1.0.0,>=0.2.0 in /usr/local/lib/python3.9/dist-packages (from datasets) (0.13.3)\n",
            "Collecting multidict<7.0,>=4.5\n",
            "  Downloading multidict-6.0.4-cp39-cp39-manylinux_2_17_x86_64.manylinux2014_x86_64.whl (114 kB)\n",
            "\u001b[2K     \u001b[90m━━━━━━━━━━━━━━━━━━━━━━━━━━━━━━━━━━━━━━━\u001b[0m \u001b[32m114.2/114.2 KB\u001b[0m \u001b[31m6.2 MB/s\u001b[0m eta \u001b[36m0:00:00\u001b[0m\n",
            "\u001b[?25hRequirement already satisfied: attrs>=17.3.0 in /usr/local/lib/python3.9/dist-packages (from aiohttp->datasets) (22.2.0)\n",
            "Collecting aiosignal>=1.1.2\n",
            "  Downloading aiosignal-1.3.1-py3-none-any.whl (7.6 kB)\n",
            "Requirement already satisfied: charset-normalizer<4.0,>=2.0 in /usr/local/lib/python3.9/dist-packages (from aiohttp->datasets) (2.0.12)\n",
            "Collecting async-timeout<5.0,>=4.0.0a3\n",
            "  Downloading async_timeout-4.0.2-py3-none-any.whl (5.8 kB)\n",
            "Collecting yarl<2.0,>=1.0\n",
            "  Downloading yarl-1.8.2-cp39-cp39-manylinux_2_17_x86_64.manylinux2014_x86_64.whl (264 kB)\n",
            "\u001b[2K     \u001b[90m━━━━━━━━━━━━━━━━━━━━━━━━━━━━━━━━━━━━━━━\u001b[0m \u001b[32m264.6/264.6 KB\u001b[0m \u001b[31m7.9 MB/s\u001b[0m eta \u001b[36m0:00:00\u001b[0m\n",
            "\u001b[?25hCollecting frozenlist>=1.1.1\n",
            "  Downloading frozenlist-1.3.3-cp39-cp39-manylinux_2_5_x86_64.manylinux1_x86_64.manylinux_2_17_x86_64.manylinux2014_x86_64.whl (158 kB)\n",
            "\u001b[2K     \u001b[90m━━━━━━━━━━━━━━━━━━━━━━━━━━━━━━━━━━━━━━━\u001b[0m \u001b[32m158.8/158.8 KB\u001b[0m \u001b[31m7.1 MB/s\u001b[0m eta \u001b[36m0:00:00\u001b[0m\n",
            "\u001b[?25hRequirement already satisfied: typing-extensions>=3.7.4.3 in /usr/local/lib/python3.9/dist-packages (from huggingface-hub<1.0.0,>=0.2.0->datasets) (4.5.0)\n",
            "Requirement already satisfied: filelock in /usr/local/lib/python3.9/dist-packages (from huggingface-hub<1.0.0,>=0.2.0->datasets) (3.10.0)\n",
            "Requirement already satisfied: certifi>=2017.4.17 in /usr/local/lib/python3.9/dist-packages (from requests>=2.19.0->datasets) (2022.12.7)\n",
            "Requirement already satisfied: idna<4,>=2.5 in /usr/local/lib/python3.9/dist-packages (from requests>=2.19.0->datasets) (3.4)\n",
            "Requirement already satisfied: urllib3<1.27,>=1.21.1 in /usr/local/lib/python3.9/dist-packages (from requests>=2.19.0->datasets) (1.26.15)\n",
            "Requirement already satisfied: python-dateutil>=2.8.1 in /usr/local/lib/python3.9/dist-packages (from pandas->datasets) (2.8.2)\n",
            "Requirement already satisfied: pytz>=2020.1 in /usr/local/lib/python3.9/dist-packages (from pandas->datasets) (2022.7.1)\n",
            "Requirement already satisfied: six>=1.5 in /usr/local/lib/python3.9/dist-packages (from python-dateutil>=2.8.1->pandas->datasets) (1.16.0)\n",
            "Installing collected packages: xxhash, multidict, frozenlist, dill, async-timeout, yarl, responses, multiprocess, aiosignal, aiohttp, datasets\n",
            "Successfully installed aiohttp-3.8.4 aiosignal-1.3.1 async-timeout-4.0.2 datasets-2.10.1 dill-0.3.6 frozenlist-1.3.3 multidict-6.0.4 multiprocess-0.70.14 responses-0.18.0 xxhash-3.2.0 yarl-1.8.2\n"
          ]
        }
      ],
      "source": [
        "!pip install transformers \n",
        "!pip install sentencepiece\n",
        "!pip install datasets"
      ]
    },
    {
      "cell_type": "code",
      "source": [
        "# !nvcc --version"
      ],
      "metadata": {
        "id": "spKvlYhNYNuZ"
      },
      "execution_count": 2,
      "outputs": []
    },
    {
      "cell_type": "code",
      "source": [
        "# import os\n",
        "# os.environ['CUDA_LAUNCH_BLOCKING'] = \"1\"\n",
        "# os.environ['TORCH_USE_CUDA_DSA'] = \"1\"\n",
        "\n",
        "# %env CUDA_LAUNCH_BLOCKING=1\n",
        "# %env TORCH_USE_CUDA_DSA=1"
      ],
      "metadata": {
        "id": "6vB-f3bwMI28"
      },
      "execution_count": 3,
      "outputs": []
    },
    {
      "cell_type": "code",
      "source": [
        "# import torch\n",
        "# print(torch.__version__)"
      ],
      "metadata": {
        "id": "MESFETElYPvy"
      },
      "execution_count": 4,
      "outputs": []
    },
    {
      "cell_type": "code",
      "source": [
        "# %load_ext google.colab.data_table\n",
        "# %debug\n"
      ],
      "metadata": {
        "id": "kEPzgiM29aDg"
      },
      "execution_count": 5,
      "outputs": []
    },
    {
      "cell_type": "code",
      "source": [
        "import pandas as pd"
      ],
      "metadata": {
        "id": "_AwQu7VDxNn3"
      },
      "execution_count": 6,
      "outputs": []
    },
    {
      "cell_type": "code",
      "source": [
        "df = pd.read_csv('ordering_dataset.csv')\n",
        "df = df[df['trip_cost'] != 0] # we only want the model to deal with value, zeros will confuse it.\n",
        "df = df.fillna(0)"
      ],
      "metadata": {
        "id": "0jewsTO0xt9O"
      },
      "execution_count": 7,
      "outputs": []
    },
    {
      "cell_type": "code",
      "source": [
        "df.head()"
      ],
      "metadata": {
        "colab": {
          "base_uri": "https://localhost:8080/",
          "height": 206
        },
        "id": "4-fgr99z0sS4",
        "outputId": "039f93d0-3b51-419e-9b0d-d046792dd24d"
      },
      "execution_count": 8,
      "outputs": [
        {
          "output_type": "execute_result",
          "data": {
            "text/plain": [
              "      pickup_timestamp  hour  minute space_type  asset  trip_cost status  \\\n",
              "0  2021-10-30 04:30:00     4      30        WCH  SC105     69.875   <DR>   \n",
              "2  2021-10-30 05:00:00     5       0        WCH  SC301    100.850   <PF>   \n",
              "3  2021-10-30 05:15:00     5      15        BWC  SC107    154.400   <PF>   \n",
              "4  2021-10-30 05:27:10     5      27        STR  SC204    201.075   <PF>   \n",
              "5  2021-10-30 05:30:00     5      30        WCH  SC105     58.850   <PF>   \n",
              "\n",
              "   rider_id  pickup_long  pickup_lat  dropoff_long  dropoff_lat  \\\n",
              "0    390520  -121.952339   37.385990   -121.902954    37.378399   \n",
              "2    411690  -121.994217   37.342159   -121.979036    37.322465   \n",
              "3    388852  -121.594933   37.023769   -121.812098    37.306048   \n",
              "4    390529  -121.894813   37.321892   -121.931571    37.311278   \n",
              "5    390198  -121.949264   37.302544   -121.933708    37.315559   \n",
              "\n",
              "   billable_distance  \n",
              "0           7.106001  \n",
              "2           2.596089  \n",
              "3          26.139221  \n",
              "4           2.742732  \n",
              "5           2.207732  "
            ],
            "text/html": [
              "\n",
              "  <div id=\"df-68c2919c-cf78-4365-8417-0c26aedf638e\">\n",
              "    <div class=\"colab-df-container\">\n",
              "      <div>\n",
              "<style scoped>\n",
              "    .dataframe tbody tr th:only-of-type {\n",
              "        vertical-align: middle;\n",
              "    }\n",
              "\n",
              "    .dataframe tbody tr th {\n",
              "        vertical-align: top;\n",
              "    }\n",
              "\n",
              "    .dataframe thead th {\n",
              "        text-align: right;\n",
              "    }\n",
              "</style>\n",
              "<table border=\"1\" class=\"dataframe\">\n",
              "  <thead>\n",
              "    <tr style=\"text-align: right;\">\n",
              "      <th></th>\n",
              "      <th>pickup_timestamp</th>\n",
              "      <th>hour</th>\n",
              "      <th>minute</th>\n",
              "      <th>space_type</th>\n",
              "      <th>asset</th>\n",
              "      <th>trip_cost</th>\n",
              "      <th>status</th>\n",
              "      <th>rider_id</th>\n",
              "      <th>pickup_long</th>\n",
              "      <th>pickup_lat</th>\n",
              "      <th>dropoff_long</th>\n",
              "      <th>dropoff_lat</th>\n",
              "      <th>billable_distance</th>\n",
              "    </tr>\n",
              "  </thead>\n",
              "  <tbody>\n",
              "    <tr>\n",
              "      <th>0</th>\n",
              "      <td>2021-10-30 04:30:00</td>\n",
              "      <td>4</td>\n",
              "      <td>30</td>\n",
              "      <td>WCH</td>\n",
              "      <td>SC105</td>\n",
              "      <td>69.875</td>\n",
              "      <td>&lt;DR&gt;</td>\n",
              "      <td>390520</td>\n",
              "      <td>-121.952339</td>\n",
              "      <td>37.385990</td>\n",
              "      <td>-121.902954</td>\n",
              "      <td>37.378399</td>\n",
              "      <td>7.106001</td>\n",
              "    </tr>\n",
              "    <tr>\n",
              "      <th>2</th>\n",
              "      <td>2021-10-30 05:00:00</td>\n",
              "      <td>5</td>\n",
              "      <td>0</td>\n",
              "      <td>WCH</td>\n",
              "      <td>SC301</td>\n",
              "      <td>100.850</td>\n",
              "      <td>&lt;PF&gt;</td>\n",
              "      <td>411690</td>\n",
              "      <td>-121.994217</td>\n",
              "      <td>37.342159</td>\n",
              "      <td>-121.979036</td>\n",
              "      <td>37.322465</td>\n",
              "      <td>2.596089</td>\n",
              "    </tr>\n",
              "    <tr>\n",
              "      <th>3</th>\n",
              "      <td>2021-10-30 05:15:00</td>\n",
              "      <td>5</td>\n",
              "      <td>15</td>\n",
              "      <td>BWC</td>\n",
              "      <td>SC107</td>\n",
              "      <td>154.400</td>\n",
              "      <td>&lt;PF&gt;</td>\n",
              "      <td>388852</td>\n",
              "      <td>-121.594933</td>\n",
              "      <td>37.023769</td>\n",
              "      <td>-121.812098</td>\n",
              "      <td>37.306048</td>\n",
              "      <td>26.139221</td>\n",
              "    </tr>\n",
              "    <tr>\n",
              "      <th>4</th>\n",
              "      <td>2021-10-30 05:27:10</td>\n",
              "      <td>5</td>\n",
              "      <td>27</td>\n",
              "      <td>STR</td>\n",
              "      <td>SC204</td>\n",
              "      <td>201.075</td>\n",
              "      <td>&lt;PF&gt;</td>\n",
              "      <td>390529</td>\n",
              "      <td>-121.894813</td>\n",
              "      <td>37.321892</td>\n",
              "      <td>-121.931571</td>\n",
              "      <td>37.311278</td>\n",
              "      <td>2.742732</td>\n",
              "    </tr>\n",
              "    <tr>\n",
              "      <th>5</th>\n",
              "      <td>2021-10-30 05:30:00</td>\n",
              "      <td>5</td>\n",
              "      <td>30</td>\n",
              "      <td>WCH</td>\n",
              "      <td>SC105</td>\n",
              "      <td>58.850</td>\n",
              "      <td>&lt;PF&gt;</td>\n",
              "      <td>390198</td>\n",
              "      <td>-121.949264</td>\n",
              "      <td>37.302544</td>\n",
              "      <td>-121.933708</td>\n",
              "      <td>37.315559</td>\n",
              "      <td>2.207732</td>\n",
              "    </tr>\n",
              "  </tbody>\n",
              "</table>\n",
              "</div>\n",
              "      <button class=\"colab-df-convert\" onclick=\"convertToInteractive('df-68c2919c-cf78-4365-8417-0c26aedf638e')\"\n",
              "              title=\"Convert this dataframe to an interactive table.\"\n",
              "              style=\"display:none;\">\n",
              "        \n",
              "  <svg xmlns=\"http://www.w3.org/2000/svg\" height=\"24px\"viewBox=\"0 0 24 24\"\n",
              "       width=\"24px\">\n",
              "    <path d=\"M0 0h24v24H0V0z\" fill=\"none\"/>\n",
              "    <path d=\"M18.56 5.44l.94 2.06.94-2.06 2.06-.94-2.06-.94-.94-2.06-.94 2.06-2.06.94zm-11 1L8.5 8.5l.94-2.06 2.06-.94-2.06-.94L8.5 2.5l-.94 2.06-2.06.94zm10 10l.94 2.06.94-2.06 2.06-.94-2.06-.94-.94-2.06-.94 2.06-2.06.94z\"/><path d=\"M17.41 7.96l-1.37-1.37c-.4-.4-.92-.59-1.43-.59-.52 0-1.04.2-1.43.59L10.3 9.45l-7.72 7.72c-.78.78-.78 2.05 0 2.83L4 21.41c.39.39.9.59 1.41.59.51 0 1.02-.2 1.41-.59l7.78-7.78 2.81-2.81c.8-.78.8-2.07 0-2.86zM5.41 20L4 18.59l7.72-7.72 1.47 1.35L5.41 20z\"/>\n",
              "  </svg>\n",
              "      </button>\n",
              "      \n",
              "  <style>\n",
              "    .colab-df-container {\n",
              "      display:flex;\n",
              "      flex-wrap:wrap;\n",
              "      gap: 12px;\n",
              "    }\n",
              "\n",
              "    .colab-df-convert {\n",
              "      background-color: #E8F0FE;\n",
              "      border: none;\n",
              "      border-radius: 50%;\n",
              "      cursor: pointer;\n",
              "      display: none;\n",
              "      fill: #1967D2;\n",
              "      height: 32px;\n",
              "      padding: 0 0 0 0;\n",
              "      width: 32px;\n",
              "    }\n",
              "\n",
              "    .colab-df-convert:hover {\n",
              "      background-color: #E2EBFA;\n",
              "      box-shadow: 0px 1px 2px rgba(60, 64, 67, 0.3), 0px 1px 3px 1px rgba(60, 64, 67, 0.15);\n",
              "      fill: #174EA6;\n",
              "    }\n",
              "\n",
              "    [theme=dark] .colab-df-convert {\n",
              "      background-color: #3B4455;\n",
              "      fill: #D2E3FC;\n",
              "    }\n",
              "\n",
              "    [theme=dark] .colab-df-convert:hover {\n",
              "      background-color: #434B5C;\n",
              "      box-shadow: 0px 1px 3px 1px rgba(0, 0, 0, 0.15);\n",
              "      filter: drop-shadow(0px 1px 2px rgba(0, 0, 0, 0.3));\n",
              "      fill: #FFFFFF;\n",
              "    }\n",
              "  </style>\n",
              "\n",
              "      <script>\n",
              "        const buttonEl =\n",
              "          document.querySelector('#df-68c2919c-cf78-4365-8417-0c26aedf638e button.colab-df-convert');\n",
              "        buttonEl.style.display =\n",
              "          google.colab.kernel.accessAllowed ? 'block' : 'none';\n",
              "\n",
              "        async function convertToInteractive(key) {\n",
              "          const element = document.querySelector('#df-68c2919c-cf78-4365-8417-0c26aedf638e');\n",
              "          const dataTable =\n",
              "            await google.colab.kernel.invokeFunction('convertToInteractive',\n",
              "                                                     [key], {});\n",
              "          if (!dataTable) return;\n",
              "\n",
              "          const docLinkHtml = 'Like what you see? Visit the ' +\n",
              "            '<a target=\"_blank\" href=https://colab.research.google.com/notebooks/data_table.ipynb>data table notebook</a>'\n",
              "            + ' to learn more about interactive tables.';\n",
              "          element.innerHTML = '';\n",
              "          dataTable['output_type'] = 'display_data';\n",
              "          await google.colab.output.renderOutput(dataTable, element);\n",
              "          const docLink = document.createElement('div');\n",
              "          docLink.innerHTML = docLinkHtml;\n",
              "          element.appendChild(docLink);\n",
              "        }\n",
              "      </script>\n",
              "    </div>\n",
              "  </div>\n",
              "  "
            ]
          },
          "metadata": {},
          "execution_count": 8
        }
      ]
    },
    {
      "cell_type": "code",
      "source": [
        "import pandas as pd\n",
        "import random\n",
        "import numpy as np\n",
        "\n",
        "def create_shuffled_target_lists(df):\n",
        "    # Group rows by pickup date\n",
        "    df['pickup_timestamp'] = pd.to_datetime(df['pickup_timestamp'])\n",
        "    groups = df.groupby(df['pickup_timestamp'].dt.date)\n",
        "\n",
        "    shuffled_rides = []\n",
        "    target_order = []\n",
        "\n",
        "    df['pickup_timestamp'] = pd.to_datetime(df['pickup_timestamp'])\n",
        "    df['pickup_timestamp'] = df['pickup_timestamp'].dt.strftime('%Y-%m-%d %H:%M')  \n",
        "    df['pickup_timestamp'] = df['pickup_timestamp'].astype(str)\n",
        "\n",
        "    for name, group in groups:\n",
        "        rides = group.iloc[1:, :].to_numpy()\n",
        "        np.random.shuffle(rides)\n",
        "        shuffled_rides.append(rides.tolist())\n",
        "        target_order.append(group.iloc[1:, :].to_numpy().tolist()) # EXCLUDES HEADERS, AND FIRST FEATURE WHICH IS PICKUP TIMESTAMP - DONT WANT THAT.\n",
        "\n",
        "    return shuffled_rides, target_order\n",
        "\n",
        "x= create_shuffled_target_lists(df)\n",
        "shuffled_rides = x[0]\n",
        "target_order = x[1]"
      ],
      "metadata": {
        "id": "UBnwr78DlusH"
      },
      "execution_count": 9,
      "outputs": []
    },
    {
      "cell_type": "code",
      "source": [
        "shuffled_rides[0][0]"
      ],
      "metadata": {
        "colab": {
          "base_uri": "https://localhost:8080/"
        },
        "id": "WGB5ELpozHse",
        "outputId": "beb4ccbf-3f5a-4d42-e413-35b222e69252"
      },
      "execution_count": 10,
      "outputs": [
        {
          "output_type": "execute_result",
          "data": {
            "text/plain": [
              "['2021-10-30 17:30',\n",
              " 17,\n",
              " 30,\n",
              " 'WCH',\n",
              " 'SC107',\n",
              " 25.175,\n",
              " '<PF>',\n",
              " 390537,\n",
              " -121.8120978,\n",
              " 37.3060479,\n",
              " -121.8320389,\n",
              " 37.29574585,\n",
              " 2.259927]"
            ]
          },
          "metadata": {},
          "execution_count": 10
        }
      ]
    },
    {
      "cell_type": "code",
      "source": [
        "target_order[6][0]"
      ],
      "metadata": {
        "colab": {
          "base_uri": "https://localhost:8080/"
        },
        "id": "bjWgpP__0Jcf",
        "outputId": "a2485b41-cf39-4339-ab19-b28a9372e44c"
      },
      "execution_count": 11,
      "outputs": [
        {
          "output_type": "execute_result",
          "data": {
            "text/plain": [
              "['2021-11-23 04:30',\n",
              " 4,\n",
              " 30,\n",
              " 'WCH',\n",
              " 'SC101',\n",
              " 69.65,\n",
              " '<PF>',\n",
              " 388477,\n",
              " -122.0266571,\n",
              " 37.32122421,\n",
              " -122.0791626,\n",
              " 37.3829422,\n",
              " 6.955629]"
            ]
          },
          "metadata": {},
          "execution_count": 11
        }
      ]
    },
    {
      "cell_type": "code",
      "source": [
        "def create_dataset(shuffled_rides, target_order):\n",
        "  dataset=[]\n",
        "  count = 0\n",
        "\n",
        "  for sr,to in zip(shuffled_rides, target_order):\n",
        "    str_inputs = []\n",
        "    str_targets = []\n",
        "\n",
        "    for i in sr:\n",
        "      # i_pickup_hour = str(i[0])\n",
        "      # i_pickup_minute =str(i[1])\n",
        "      i_pickup_date = str(i[0].split(' ')[0])\n",
        "      i_pickup_time = str(i[0].split(' ')[1])\n",
        "      i_space_type =str(i[3])\n",
        "      i_trip_cost =str(round(i[5],2))\n",
        "      i_status = str(i[6])\n",
        "      i_rider_id =str(i[7])\n",
        "      i_pickup_longitude =str(i[8])\n",
        "      i_pickup_latitude =str(i[9])\n",
        "      i_dropoff_longitude =str(i[10])\n",
        "      i_dropoff_latitude =str(i[11])\n",
        "      i_billable_distance = str(round(i[12],2))\n",
        "\n",
        "      if i_status == '<PF>': # performed\n",
        "        sequence = f'On {i_pickup_date} at {i_pickup_time}, {i_rider_id} with the condition of {i_space_type} will be picked up from ({i_pickup_longitude},{i_pickup_latitude}) and taken to their appointment located at ({i_dropoff_longitude},{i_dropoff_latitude}) the value of this ride is {i_trip_cost} and the distance from start to finish is {i_billable_distance} miles *'\n",
        "\n",
        "      else: # dry run\n",
        "        sequence = f'On {i_pickup_date} at {i_pickup_time}, {i_rider_id} with the condition of {i_space_type} was scheduled to be picked up for their appointment from ({i_pickup_longitude},{i_pickup_latitude}) and dropped off at ({i_dropoff_longitude},{i_dropoff_latitude}) the value of this ride was {i_trip_cost} and the distance from start to finish was {i_billable_distance} miles, but {i_rider_id} has canceled the ride *'\n",
        "\n",
        "      str_inputs.append(sequence)\n",
        "    \n",
        "    for j in to:\n",
        "      # j_pickup_hour = str(j[0])\n",
        "      # j_pickup_minute = str(j[1])\n",
        "      j_pickup_date = str(j[0].split(' ')[0])\n",
        "      j_pickup_time = str(j[0].split(' ')[1])\n",
        "      j_space_type = str(j[3])\n",
        "      j_asset_id = str(j[4])\n",
        "      j_trip_cost = str(round(j[5],2))\n",
        "      j_rider_id = str(j[7])\n",
        "      j_pickup_longitude = str(j[8])\n",
        "      j_pickup_latitude = str(j[9])\n",
        "      j_dropoff_longitude = str(j[10])\n",
        "      j_dropoff_latitude = str(j[11])\n",
        "      j_billable_distance = str(round(j[12],2))\n",
        "\n",
        "      sequence = f'On {j_pickup_date} at {j_pickup_time}, driver {j_asset_id} will pick up {j_rider_id} with the condition of {j_space_type} from ({j_pickup_longitude},{j_pickup_latitude}) and dropped off at ({j_dropoff_longitude},{j_dropoff_latitude}) the value of this ride is {j_trip_cost} and the distance from start to finish is {j_billable_distance} miles *'\n",
        "      str_targets.append(sequence)\n",
        "\n",
        "    dataset.append({\n",
        "        'id' : count,\n",
        "        'input' : str_inputs,\n",
        "        'target' : str_targets\n",
        "    })\n",
        "    count += 1\n",
        "\n",
        "  return dataset\n",
        "\n",
        "day = create_dataset(shuffled_rides, target_order)"
      ],
      "metadata": {
        "id": "RrJgs0SF5g6I"
      },
      "execution_count": 12,
      "outputs": []
    },
    {
      "cell_type": "code",
      "source": [
        "len(day[344]['input'])"
      ],
      "metadata": {
        "colab": {
          "base_uri": "https://localhost:8080/"
        },
        "id": "caaZb6WBHpSx",
        "outputId": "b41b7c3e-e22f-436b-c66a-210ec13a49c5"
      },
      "execution_count": 13,
      "outputs": [
        {
          "output_type": "execute_result",
          "data": {
            "text/plain": [
              "106"
            ]
          },
          "metadata": {},
          "execution_count": 13
        }
      ]
    },
    {
      "cell_type": "code",
      "source": [
        "len(day[344]['target'])"
      ],
      "metadata": {
        "colab": {
          "base_uri": "https://localhost:8080/"
        },
        "id": "CCJV4O6MHtQR",
        "outputId": "cacdff0a-2a8d-4e0d-e832-dabe78f66b70"
      },
      "execution_count": 14,
      "outputs": [
        {
          "output_type": "execute_result",
          "data": {
            "text/plain": [
              "106"
            ]
          },
          "metadata": {},
          "execution_count": 14
        }
      ]
    },
    {
      "cell_type": "code",
      "source": [
        "for i in day[0]['input'][:10]:\n",
        "  print(i + \"\\n\")"
      ],
      "metadata": {
        "colab": {
          "base_uri": "https://localhost:8080/"
        },
        "id": "pwzORr5m6VvI",
        "outputId": "39efb683-2006-4bfe-c832-eeff090d114f"
      },
      "execution_count": 15,
      "outputs": [
        {
          "output_type": "stream",
          "name": "stdout",
          "text": [
            "On 2021-10-30 at 17:30, 390537 with the condition of WCH will be picked up from (-121.8120978,37.3060479) and taken to their appointment located at (-121.8320389,37.29574585) the value of this ride is 25.18 and the distance from start to finish is 2.26 miles *\n",
            "\n",
            "On 2021-10-30 at 08:30, 388484 with the condition of STR will be picked up from (-121.9516678,37.38991928) and taken to their appointment located at (-122.0140457,37.37662125) the value of this ride is 207.38 and the distance from start to finish is 5.49 miles *\n",
            "\n",
            "On 2021-10-30 at 05:00, 411690 with the condition of WCH will be picked up from (-121.9942169,37.34215927) and taken to their appointment located at (-121.9790364,37.322465) the value of this ride is 100.85 and the distance from start to finish is 2.6 miles *\n",
            "\n",
            "On 2021-10-30 at 17:45, 388677 with the condition of BWC will be picked up from (-121.933667,37.315553) and taken to their appointment located at (-121.8692703,37.38211441) the value of this ride is 89.6 and the distance from start to finish is 9.89 miles *\n",
            "\n",
            "On 2021-10-30 at 16:45, 388479 with the condition of WCH will be picked up from (-122.0140457,37.37662125) and taken to their appointment located at (-122.0238342,37.3819046) the value of this ride is 22.48 and the distance from start to finish is 1.05 miles *\n",
            "\n",
            "On 2021-10-30 at 13:12, 388702 with the condition of WCH will be picked up from (-121.8411942,37.36575317) and taken to their appointment located at (-121.933667,37.315553) the value of this ride is 88.67 and the distance from start to finish is 8.32 miles *\n",
            "\n",
            "On 2021-10-30 at 17:00, 388690 with the condition of WCH will be picked up from (-121.8348389,37.31568909) and taken to their appointment located at (-121.8412247,37.32992172) the value of this ride is 26.75 and the distance from start to finish is 2.98 miles *\n",
            "\n",
            "On 2021-10-30 at 05:30, 390198 with the condition of WCH will be picked up from (-121.9492645,37.30254364) and taken to their appointment located at (-121.9337082,37.31555939) the value of this ride is 58.85 and the distance from start to finish is 2.21 miles *\n",
            "\n",
            "On 2021-10-30 at 13:00, 388488 with the condition of WCH will be picked up from (-122.0695877,37.41511917) and taken to their appointment located at (-122.079144,37.382993) the value of this ride is 40.75 and the distance from start to finish is 4.17 miles *\n",
            "\n",
            "On 2021-10-30 at 13:29, 388690 with the condition of WCH will be picked up from (-121.841225,37.329922) and taken to their appointment located at (-121.8348397,37.3156898) the value of this ride is 51.75 and the distance from start to finish is 2.98 miles *\n",
            "\n"
          ]
        }
      ]
    },
    {
      "cell_type": "code",
      "source": [
        "for i in day[50]['target'][:10]:\n",
        "  print(i + \"\\n\")"
      ],
      "metadata": {
        "colab": {
          "base_uri": "https://localhost:8080/"
        },
        "id": "8SovtlaESsRK",
        "outputId": "26a9819b-8682-4d6e-faf7-fd131f01aac4"
      },
      "execution_count": 16,
      "outputs": [
        {
          "output_type": "stream",
          "name": "stdout",
          "text": [
            "On 2022-01-12 at 04:46, driver SC103 will pick up 390524 with the condition of WCH from (-121.9228439,37.3158226) and dropped off at (-121.9373245,37.32392502) the value of this ride is 26.3 and the distance from start to finish is 2.81 miles *\n",
            "\n",
            "On 2022-01-12 at 05:00, driver SC103 will pick up 414417 with the condition of WCH from (-121.9373245,37.32392502) and dropped off at (-121.9373245,37.32392502) the value of this ride is 95.0 and the distance from start to finish is 0.03 miles *\n",
            "\n",
            "On 2022-01-12 at 05:00, driver SC101 will pick up 388477 with the condition of WCH from (-122.0266571,37.32122421) and dropped off at (-122.0791626,37.3829422) the value of this ride is 69.65 and the distance from start to finish is 6.96 miles *\n",
            "\n",
            "On 2022-01-12 at 05:00, driver SC105 will pick up 388472 with the condition of WCH from (-122.0035248,37.4017868) and dropped off at (-121.9337082,37.31555939) the value of this ride is 83.6 and the distance from start to finish is 13.16 miles *\n",
            "\n",
            "On 2022-01-12 at 05:15, driver SC105 will pick up 388559 with the condition of WCH from (-121.9148788,37.30213547) and dropped off at (-121.93367,37.31555176) the value of this ride is 100.4 and the distance from start to finish is 2.41 miles *\n",
            "\n",
            "On 2022-01-12 at 05:30, driver SC101 will pick up 388615 with the condition of WCH from (-122.0365448,37.32618332) and dropped off at (-121.9790344,37.32246399) the value of this ride is 106.47 and the distance from start to finish is 5.12 miles *\n",
            "\n",
            "On 2022-01-12 at 05:30, driver SC204 will pick up 390529 with the condition of STR from (-121.8948135,37.32189178) and dropped off at (-121.931572,37.3112793) the value of this ride is 201.07 and the distance from start to finish is 2.74 miles *\n",
            "\n",
            "On 2022-01-12 at 05:31, driver SC301 will pick up 388934 with the condition of WCH from (-121.8183441,37.3015213) and dropped off at (-121.8114014,37.30512238) the value of this ride is 97.92 and the distance from start to finish is 1.33 miles *\n",
            "\n",
            "On 2022-01-12 at 05:45, driver SC103 will pick up 390520 with the condition of WCH from (-121.9523392,37.38599014) and dropped off at (-121.9029541,37.3783989) the value of this ride is 69.88 and the distance from start to finish is 7.11 miles *\n",
            "\n",
            "On 2022-01-12 at 05:58, driver SC101 will pick up 388820 with the condition of BWC from (-121.9681625,37.32196426) and dropped off at (-121.9373322,37.32389832) the value of this ride is 157.6 and the distance from start to finish is 1.86 miles *\n",
            "\n"
          ]
        }
      ]
    },
    {
      "cell_type": "code",
      "source": [
        "len(day)"
      ],
      "metadata": {
        "colab": {
          "base_uri": "https://localhost:8080/"
        },
        "id": "5VfWU1QkGnFA",
        "outputId": "04b5851c-dff9-4444-f56e-d15645a72b3f"
      },
      "execution_count": 17,
      "outputs": [
        {
          "output_type": "execute_result",
          "data": {
            "text/plain": [
              "419"
            ]
          },
          "metadata": {},
          "execution_count": 17
        }
      ]
    },
    {
      "cell_type": "code",
      "source": [
        "# This plot shows where the cluster of number of rides per day is, from here we can drop outlies like those below 65\n",
        "import matplotlib.pyplot as plt\n",
        "input_lens = [len(x) for x in target_order]\n",
        "print('input lens: ', input_lens)\n",
        "plt.hist(input_lens, bins=50)"
      ],
      "metadata": {
        "colab": {
          "base_uri": "https://localhost:8080/",
          "height": 511
        },
        "id": "_xIWEyh-cDeh",
        "outputId": "4d8c4d9d-58ce-4002-d846-ec2dc599ddb6"
      },
      "execution_count": 18,
      "outputs": [
        {
          "output_type": "stream",
          "name": "stdout",
          "text": [
            "input lens:  [65, 66, 70, 62, 3, 105, 77, 95, 54, 76, 69, 97, 75, 101, 76, 108, 68, 105, 77, 111, 92, 108, 65, 100, 87, 108, 97, 100, 62, 109, 78, 105, 82, 86, 42, 102, 70, 96, 82, 95, 23, 36, 101, 73, 105, 74, 96, 52, 106, 78, 101, 76, 98, 58, 90, 73, 86, 88, 86, 54, 98, 80, 99, 84, 91, 60, 100, 88, 90, 74, 98, 67, 98, 87, 98, 88, 107, 65, 109, 83, 111, 88, 101, 72, 99, 80, 97, 90, 100, 57, 118, 97, 111, 87, 109, 72, 116, 90, 108, 89, 100, 69, 108, 93, 94, 100, 98, 69, 115, 85, 108, 87, 105, 73, 109, 86, 97, 81, 99, 70, 101, 93, 103, 87, 100, 64, 107, 89, 97, 93, 97, 66, 109, 90, 98, 88, 106, 64, 105, 93, 100, 92, 96, 68, 111, 84, 97, 95, 102, 65, 112, 102, 110, 79, 91, 72, 114, 91, 103, 93, 102, 65, 116, 94, 108, 80, 102, 64, 45, 49, 48, 47, 47, 53, 105, 90, 85, 78, 99, 64, 83, 75, 93, 84, 96, 67, 102, 84, 102, 88, 94, 74, 92, 88, 111, 95, 87, 68, 77, 82, 98, 91, 98, 69, 103, 91, 99, 99, 85, 69, 95, 88, 118, 78, 103, 65, 115, 82, 105, 90, 112, 70, 0, 105, 86, 101, 92, 97, 77, 104, 84, 116, 77, 97, 65, 111, 97, 110, 100, 97, 68, 110, 92, 99, 82, 95, 68, 102, 86, 105, 78, 96, 67, 1, 80, 82, 97, 76, 83, 62, 100, 90, 106, 94, 86, 57, 90, 77, 94, 84, 81, 66, 97, 83, 107, 78, 91, 61, 99, 80, 95, 92, 95, 59, 90, 91, 91, 75, 95, 59, 101, 75, 97, 83, 93, 60, 92, 80, 95, 70, 81, 60, 94, 79, 86, 100, 100, 62, 111, 88, 107, 92, 95, 71, 98, 99, 106, 96, 96, 80, 94, 86, 99, 63, 74, 77, 97, 101, 92, 93, 86, 73, 88, 88, 99, 94, 77, 75, 98, 86, 99, 94, 105, 72, 106, 86, 101, 101, 87, 71, 80, 86, 95, 83, 89, 78, 82, 93, 93, 90, 92, 77, 109, 106, 115, 102, 99, 74, 95, 101, 107, 92, 116, 78, 114, 96, 121, 100, 108, 77, 118, 80, 114, 99, 102, 81, 120, 84, 109, 91, 100, 79, 111, 90, 111, 89, 100, 82, 92, 98, 110, 107, 87, 80, 114, 99, 113, 108, 113, 84, 1, 118, 101, 106, 104, 103, 91, 110, 94]\n"
          ]
        },
        {
          "output_type": "execute_result",
          "data": {
            "text/plain": [
              "(array([ 3.,  1.,  0.,  0.,  0.,  0.,  0.,  0.,  0.,  1.,  0.,  0.,  0.,\n",
              "         0.,  1.,  0.,  0.,  1.,  1.,  3.,  1.,  2.,  2.,  3.,  5.,  5.,\n",
              "        12.,  6., 15.,  6., 14., 14., 11., 22., 14., 24., 15., 22., 32.,\n",
              "        21., 43., 27., 17., 18., 15., 21.,  4., 11.,  4.,  2.]),\n",
              " array([  0.  ,   2.42,   4.84,   7.26,   9.68,  12.1 ,  14.52,  16.94,\n",
              "         19.36,  21.78,  24.2 ,  26.62,  29.04,  31.46,  33.88,  36.3 ,\n",
              "         38.72,  41.14,  43.56,  45.98,  48.4 ,  50.82,  53.24,  55.66,\n",
              "         58.08,  60.5 ,  62.92,  65.34,  67.76,  70.18,  72.6 ,  75.02,\n",
              "         77.44,  79.86,  82.28,  84.7 ,  87.12,  89.54,  91.96,  94.38,\n",
              "         96.8 ,  99.22, 101.64, 104.06, 106.48, 108.9 , 111.32, 113.74,\n",
              "        116.16, 118.58, 121.  ]),\n",
              " <BarContainer object of 50 artists>)"
            ]
          },
          "metadata": {},
          "execution_count": 18
        },
        {
          "output_type": "display_data",
          "data": {
            "text/plain": [
              "<Figure size 432x288 with 1 Axes>"
            ],
            "image/png": "[encoded data removed]"
          },
          "metadata": {
            "needs_background": "light"
          }
        }
      ]
    },
    {
      "cell_type": "markdown",
      "source": [
        "CGPT: Yes, your strategy seems reasonable. Splitting your transportation rides into chunks of N with an average of N tokens per chunk is a good approach for fine-tuning BART-base. Adding a special token to identify the chunks as belonging together in chronological order is also a good idea as it will help the model learn the temporal relationship between the chunks.\n",
        "\n",
        "You should also make sure that you properly tokenize the chunks using the BART tokenizer and make sure that the maximum sequence length is set to N, which is the maximum input length that BART-base can handle. Additionally, you may want to consider using a data collator that will handle padding and truncation of your sequences during training.\n",
        "\n",
        "Overall, your approach seems viable and should work well for fine-tuning BART-base on your transportation ride data."
      ],
      "metadata": {
        "id": "B3Ddw3GUhl4m"
      }
    },
    {
      "cell_type": "code",
      "source": [
        "import math\n",
        "\n",
        "# Chunk input and target sequences\n",
        "largest_sequence = 7038 #  len of the largest token sequence in the dataset\n",
        "num_chunks = 7 # how many chunks we want to break the sequence up into\n",
        "global_chunk_size = math.ceil((largest_sequence / num_chunks)) # the chunk size we will provide to downstream logic\n",
        "\n",
        "print('Chunk Size: ',global_chunk_size)"
      ],
      "metadata": {
        "colab": {
          "base_uri": "https://localhost:8080/"
        },
        "id": "S6MkAxZB7FjK",
        "outputId": "db7d941d-491b-4ae0-86b8-93bf3153c6ba"
      },
      "execution_count": 19,
      "outputs": [
        {
          "output_type": "stream",
          "name": "stdout",
          "text": [
            "Chunk Size:  1006\n"
          ]
        }
      ]
    },
    {
      "cell_type": "code",
      "source": [
        "day[0]['target']"
      ],
      "metadata": {
        "colab": {
          "base_uri": "https://localhost:8080/"
        },
        "id": "NyNHOJwqa3z6",
        "outputId": "0e36cd0a-c5bb-4e86-ed28-6e3cc0ae5626"
      },
      "execution_count": 20,
      "outputs": [
        {
          "output_type": "execute_result",
          "data": {
            "text/plain": [
              "['On 2021-10-30 at 05:00, driver SC301 will pick up 411690 with the condition of WCH from (-121.9942169,37.34215927) and dropped off at (-121.9790364,37.322465) the value of this ride is 100.85 and the distance from start to finish is 2.6 miles *',\n",
              " 'On 2021-10-30 at 05:15, driver SC107 will pick up 388852 with the condition of BWC from (-121.5949326,37.02376938) and dropped off at (-121.8120978,37.3060479) the value of this ride is 154.4 and the distance from start to finish is 26.14 miles *',\n",
              " 'On 2021-10-30 at 05:27, driver SC204 will pick up 390529 with the condition of STR from (-121.8948135,37.32189178) and dropped off at (-121.9315708,37.3112781) the value of this ride is 201.07 and the distance from start to finish is 2.74 miles *',\n",
              " 'On 2021-10-30 at 05:30, driver SC105 will pick up 390198 with the condition of WCH from (-121.9492645,37.30254364) and dropped off at (-121.9337082,37.31555939) the value of this ride is 58.85 and the distance from start to finish is 2.21 miles *',\n",
              " 'On 2021-10-30 at 05:30, driver SC105 will pick up 390534 with the condition of WCH from (-121.9642258,37.29271698) and dropped off at (-121.9337045,37.3155593) the value of this ride is 103.33 and the distance from start to finish is 3.69 miles *',\n",
              " 'On 2021-10-30 at 05:43, driver SC301 will pick up 388496 with the condition of WCH from (-121.8491211,37.32672882) and dropped off at (-121.8120956,37.30604935) the value of this ride is 63.8 and the distance from start to finish is 4.44 miles *',\n",
              " 'On 2021-10-30 at 05:53, driver SC105 will pick up 388574 with the condition of BWC from (-121.9619141,37.27531433) and dropped off at (-121.8917009,37.2454899) the value of this ride is 77.2 and the distance from start to finish is 6.76 miles *',\n",
              " 'On 2021-10-30 at 06:00, driver SC301 will pick up 388896 with the condition of WCH from (-121.8397293,37.31420898) and dropped off at (-121.8113861,37.30517197) the value of this ride is 101.3 and the distance from start to finish is 2.78 miles *',\n",
              " 'On 2021-10-30 at 07:15, driver SC105 will pick up 417084 with the condition of BWC from (-121.9148788,37.30213547) and dropped off at (-121.7762604,37.22948456) the value of this ride is 104.0 and the distance from start to finish is 13.5 miles *',\n",
              " 'On 2021-10-30 at 08:15, driver SC105 will pick up 388526 with the condition of WCH from (-121.9255905,37.31228256) and dropped off at (-121.9315708,37.3112781) the value of this ride is 48.38 and the distance from start to finish is 1.5 miles *',\n",
              " 'On 2021-10-30 at 08:15, driver SC105 will pick up 388851 with the condition of BWC from (-121.8116608,37.26219559) and dropped off at (-121.826913,37.251936) the value of this ride is 50.0 and the distance from start to finish is 2.52 miles *',\n",
              " 'On 2021-10-30 at 08:16, driver SC102 will pick up 388994 with the condition of WCH from (-121.9678116,37.3220253) and dropped off at (-121.9790344,37.32246399) the value of this ride is 22.02 and the distance from start to finish is 0.91 miles *',\n",
              " 'On 2021-10-30 at 08:30, driver SC107 will pick up 388709 with the condition of WCH from (-121.9232407,37.30308914) and dropped off at (-121.950932,37.255799) the value of this ride is 82.38 and the distance from start to finish is 5.51 miles *',\n",
              " 'On 2021-10-30 at 08:30, driver SC101 will pick up 388505 with the condition of BWC from (-121.8325653,37.33570862) and dropped off at (-121.8270276,37.2519668) the value of this ride is 93.6 and the distance from start to finish is 10.86 miles *',\n",
              " 'On 2021-10-30 at 08:30, driver SC204 will pick up 390529 with the condition of STR from (-121.9315708,37.3112781) and dropped off at (-121.8948135,37.32189178) the value of this ride is 126.08 and the distance from start to finish is 2.74 miles *',\n",
              " 'On 2021-10-30 at 08:30, driver SC202 will pick up 388484 with the condition of STR from (-121.9516678,37.38991928) and dropped off at (-122.0140457,37.37662125) the value of this ride is 207.38 and the distance from start to finish is 5.49 miles *',\n",
              " 'On 2021-10-30 at 08:40, driver SC105 will pick up 390539 with the condition of WCH from (-121.888064,37.332132) and dropped off at (-121.8134232,37.35033035) the value of this ride is 84.4 and the distance from start to finish is 6.42 miles *',\n",
              " 'On 2021-10-30 at 08:45, driver SC101 will pick up 388896 with the condition of WCH from (-121.8113861,37.30517197) and dropped off at (-121.8397293,37.31420898) the value of this ride is 26.3 and the distance from start to finish is 2.78 miles *',\n",
              " 'On 2021-10-30 at 09:00, driver SC107 will pick up 390520 with the condition of WCH from (-121.9029541,37.3783989) and dropped off at (-121.9523392,37.38599014) the value of this ride is 35.98 and the distance from start to finish is 7.11 miles *',\n",
              " 'On 2021-10-30 at 09:00, driver SC102 will pick up 411690 with the condition of WCH from (-121.9790364,37.322465) and dropped off at (-121.9942169,37.34215927) the value of this ride is 25.85 and the distance from start to finish is 2.6 miles *',\n",
              " 'On 2021-10-30 at 09:10, driver SC301 will pick up 388482 with the condition of WCH from (-122.1578217,37.45035553) and dropped off at (-122.1483078,37.47801208) the value of this ride is 27.88 and the distance from start to finish is 3.51 miles *',\n",
              " 'On 2021-10-30 at 09:15, driver SC204 will pick up 390527 with the condition of STR from (-122.0218887,37.36326981) and dropped off at (-122.0140457,37.37662125) the value of this ride is 199.05 and the distance from start to finish is 1.78 miles *',\n",
              " 'On 2021-10-30 at 09:30, driver SC105 will pick up 415878 with the condition of WCH from (-121.9509048,37.33436203) and dropped off at (-121.8914642,37.24549484) the value of this ride is 79.1 and the distance from start to finish is 11.22 miles *',\n",
              " 'On 2021-10-30 at 09:30, driver SC101 will pick up 388852 with the condition of BWC from (-121.8120978,37.3060479) and dropped off at (-121.5949326,37.02376938) the value of this ride is 154.4 and the distance from start to finish is 26.14 miles *',\n",
              " 'On 2021-10-30 at 09:45, driver SC102 will pick up 388691 with the condition of WCH from (-121.9314804,37.31127167) and dropped off at (-121.9243088,37.39934158) the value of this ride is 42.5 and the distance from start to finish is 10.03 miles *',\n",
              " 'On 2021-10-30 at 09:45, driver SC202 will pick up 418112 with the condition of STR from (-121.8530579,37.32979965) and dropped off at (-121.846966,37.361518) the value of this ride is 204.45 and the distance from start to finish is 4.18 miles *',\n",
              " 'On 2021-10-30 at 09:45, driver SC101 will pick up 388496 with the condition of WCH from (-121.8120956,37.30604935) and dropped off at (-121.8491211,37.32672882) the value of this ride is 29.9 and the distance from start to finish is 4.44 miles *',\n",
              " 'On 2021-10-30 at 09:45, driver SC105 will pick up 390540 with the condition of WCH from (-121.8941803,37.29782867) and dropped off at (-121.931483,37.31127) the value of this ride is 77.88 and the distance from start to finish is 3.53 miles *',\n",
              " 'On 2021-10-30 at 10:00, driver SC301 will pick up 390198 with the condition of WCH from (-121.9337045,37.3155593) and dropped off at (-121.949268,37.302544) the value of this ride is 24.95 and the distance from start to finish is 2.21 miles *',\n",
              " 'On 2021-10-30 at 10:00, driver SC301 will pick up 390534 with the condition of WCH from (-121.9337045,37.3155593) and dropped off at (-121.9642258,37.29271698) the value of this ride is 28.32 and the distance from start to finish is 3.69 miles *',\n",
              " 'On 2021-10-30 at 10:25, driver SC102 will pick up 388498 with the condition of WCH from (-121.8635483,37.30686951) and dropped off at (-121.931572,37.3112793) the value of this ride is 67.85 and the distance from start to finish is 6.25 miles *',\n",
              " 'On 2021-10-30 at 10:30, driver SC204 will pick up 388622 with the condition of STR from (-121.8897095,37.44872284) and dropped off at (-121.8134232,37.35033035) the value of this ride is 216.6 and the distance from start to finish is 9.63 miles *',\n",
              " 'On 2021-10-30 at 10:30, driver SC105 will pick up 388574 with the condition of BWC from (-121.8917009,37.2454899) and dropped off at (-121.9619141,37.27531433) the value of this ride is 77.2 and the distance from start to finish is 6.76 miles *',\n",
              " 'On 2021-10-30 at 11:45, driver SC202 will pick up 418112 with the condition of STR from (-121.846966,37.361518) and dropped off at (-121.8530579,37.32979965) the value of this ride is 179.45 and the distance from start to finish is 4.18 miles *',\n",
              " 'On 2021-10-30 at 12:00, driver SC104 will pick up 417084 with the condition of BWC from (-121.7762604,37.22948456) and dropped off at (-121.9148788,37.30213547) the value of this ride is 104.0 and the distance from start to finish is 13.5 miles *',\n",
              " 'On 2021-10-30 at 12:00, driver SC102 will pick up 388494 with the condition of WCH from (-122.1583481,37.44995499) and dropped off at (-121.9947433,37.33644867) the value of this ride is 91.7 and the distance from start to finish is 16.83 miles *',\n",
              " 'On 2021-10-30 at 12:30, driver SC204 will pick up 388484 with the condition of STR from (-122.0140457,37.37662125) and dropped off at (-121.9516678,37.38991928) the value of this ride is 132.38 and the distance from start to finish is 5.49 miles *',\n",
              " 'On 2021-10-30 at 12:30, driver SC301 will pick up 388479 with the condition of WCH from (-122.0238342,37.3819046) and dropped off at (-122.0140457,37.37662125) the value of this ride is 56.38 and the distance from start to finish is 1.05 miles *',\n",
              " 'On 2021-10-30 at 12:45, driver SC101 will pick up 388505 with the condition of BWC from (-121.8270276,37.2519668) and dropped off at (-121.8325653,37.33570862) the value of this ride is 93.6 and the distance from start to finish is 10.86 miles *',\n",
              " 'On 2021-10-30 at 13:00, driver SC102 will pick up 388526 with the condition of WCH from (-121.9315708,37.3112781) and dropped off at (-121.9255905,37.31228256) the value of this ride is 48.38 and the distance from start to finish is 1.5 miles *',\n",
              " 'On 2021-10-30 at 13:00, driver SC301 will pick up 388488 with the condition of WCH from (-122.0695877,37.41511917) and dropped off at (-122.079144,37.382993) the value of this ride is 40.75 and the distance from start to finish is 4.17 miles *',\n",
              " 'On 2021-10-30 at 13:00, driver SC102 will pick up 388709 with the condition of WCH from (-121.950932,37.255799) and dropped off at (-121.9232407,37.30308914) the value of this ride is 57.38 and the distance from start to finish is 5.51 miles *',\n",
              " 'On 2021-10-30 at 13:05, driver SC104 will pick up 388677 with the condition of BWC from (-121.8692703,37.38211441) and dropped off at (-121.933667,37.315553) the value of this ride is 89.6 and the distance from start to finish is 9.89 miles *',\n",
              " 'On 2021-10-30 at 13:12, driver SC104 will pick up 388702 with the condition of WCH from (-121.8411942,37.36575317) and dropped off at (-121.933667,37.315553) the value of this ride is 88.67 and the distance from start to finish is 8.32 miles *',\n",
              " 'On 2021-10-30 at 13:15, driver SC107 will pick up 390537 with the condition of WCH from (-121.8320389,37.29574585) and dropped off at (-121.8120978,37.3060479) the value of this ride is 100.17 and the distance from start to finish is 2.26 miles *',\n",
              " 'On 2021-10-30 at 13:15, driver SC106 will pick up 390522 with the condition of WCH from (-121.8272247,37.31860733) and dropped off at (-121.8134232,37.35033035) the value of this ride is 61.55 and the distance from start to finish is 3.37 miles *',\n",
              " 'On 2021-10-30 at 13:15, driver SC107 will pick up 388492 with the condition of WCH from (-121.934817,37.32753) and dropped off at (-121.8113861,37.30517197) the value of this ride is 77.97 and the distance from start to finish is 10.74 miles *',\n",
              " 'On 2021-10-30 at 13:15, driver SC101 will pick up 388851 with the condition of BWC from (-121.826913,37.251936) and dropped off at (-121.8116608,37.26219559) the value of this ride is 60.0 and the distance from start to finish is 2.52 miles *',\n",
              " 'On 2021-10-30 at 13:15, driver SC204 will pick up 390527 with the condition of STR from (-122.0140457,37.37662125) and dropped off at (-122.0218887,37.36326981) the value of this ride is 124.05 and the distance from start to finish is 1.78 miles *',\n",
              " 'On 2021-10-30 at 13:29, driver SC107 will pick up 388690 with the condition of WCH from (-121.841225,37.329922) and dropped off at (-121.8348397,37.3156898) the value of this ride is 51.75 and the distance from start to finish is 2.98 miles *',\n",
              " 'On 2021-10-30 at 13:45, driver SC102 will pick up 388994 with the condition of WCH from (-121.9790344,37.32246399) and dropped off at (-121.9678116,37.3220253) the value of this ride is 22.02 and the distance from start to finish is 0.91 miles *',\n",
              " 'On 2021-10-30 at 13:45, driver SC107 will pick up 390539 with the condition of WCH from (-121.8134221,37.3503311) and dropped off at (-121.888064,37.332132) the value of this ride is 34.4 and the distance from start to finish is 6.42 miles *',\n",
              " 'On 2021-10-30 at 14:00, driver SC202 will pick up 388622 with the condition of STR from (-121.8134232,37.35033035) and dropped off at (-121.8897095,37.44872284) the value of this ride is 141.6 and the distance from start to finish is 9.63 miles *',\n",
              " 'On 2021-10-30 at 15:00, driver SC104 will pick up 390540 with the condition of WCH from (-121.931483,37.31127) and dropped off at (-121.8941803,37.29782867) the value of this ride is 27.88 and the distance from start to finish is 3.53 miles *',\n",
              " 'On 2021-10-30 at 15:00, driver SC107 will pick up 415878 with the condition of WCH from (-121.8914642,37.24549484) and dropped off at (-121.9509048,37.33436203) the value of this ride is 45.2 and the distance from start to finish is 11.22 miles *',\n",
              " 'On 2021-10-30 at 15:00, driver SC104 will pick up 388498 with the condition of WCH from (-121.931572,37.3112793) and dropped off at (-121.8635483,37.30686951) the value of this ride is 33.95 and the distance from start to finish is 6.25 miles *',\n",
              " 'On 2021-10-30 at 16:45, driver SC106 will pick up 388479 with the condition of WCH from (-122.0140457,37.37662125) and dropped off at (-122.0238342,37.3819046) the value of this ride is 22.48 and the distance from start to finish is 1.05 miles *',\n",
              " 'On 2021-10-30 at 17:00, driver SC107 will pick up 390522 with the condition of WCH from (-121.8134232,37.35033035) and dropped off at (-121.8272247,37.31860733) the value of this ride is 27.65 and the distance from start to finish is 3.37 miles *',\n",
              " 'On 2021-10-30 at 17:00, driver SC107 will pick up 388690 with the condition of WCH from (-121.8348389,37.31568909) and dropped off at (-121.8412247,37.32992172) the value of this ride is 26.75 and the distance from start to finish is 2.98 miles *',\n",
              " 'On 2021-10-30 at 17:15, driver SC106 will pick up 388488 with the condition of WCH from (-122.079144,37.382993) and dropped off at (-122.0695877,37.41511917) the value of this ride is 52.05 and the distance from start to finish is 4.17 miles *',\n",
              " 'On 2021-10-30 at 17:15, driver SC106 will pick up 388494 with the condition of WCH from (-121.9947433,37.33644867) and dropped off at (-122.1583481,37.44995499) the value of this ride is 57.8 and the distance from start to finish is 16.83 miles *',\n",
              " 'On 2021-10-30 at 17:30, driver SC107 will pick up 390537 with the condition of WCH from (-121.8120978,37.3060479) and dropped off at (-121.8320389,37.29574585) the value of this ride is 25.18 and the distance from start to finish is 2.26 miles *',\n",
              " 'On 2021-10-30 at 17:45, driver SC104 will pick up 388677 with the condition of BWC from (-121.933667,37.315553) and dropped off at (-121.8692703,37.38211441) the value of this ride is 89.6 and the distance from start to finish is 9.89 miles *',\n",
              " 'On 2021-10-30 at 17:45, driver SC104 will pick up 388702 with the condition of WCH from (-121.933667,37.315553) and dropped off at (-121.8411942,37.36575317) the value of this ride is 38.67 and the distance from start to finish is 8.32 miles *',\n",
              " 'On 2021-10-30 at 18:00, driver SC107 will pick up 388492 with the condition of WCH from (-121.811386,37.305172) and dropped off at (-121.934817,37.32753) the value of this ride is 55.38 and the distance from start to finish is 10.74 miles *']"
            ]
          },
          "metadata": {},
          "execution_count": 20
        }
      ]
    },
    {
      "cell_type": "code",
      "source": [
        "count = 0\n",
        "count_id = 0 # incrementes the id of each dict so they are in a sequential order from start to end and each dict has a unique id\n",
        "new_rides_dataset=[] # fill with generated chunks for each day of rides sequences\n",
        "chunk_tokens=[]\n",
        "for i in range(len(day)):\n",
        "  input = day[i]['input'] # input at each iteration\n",
        "  target = day[i]['target'] # target at each iteration\n",
        "\n",
        "  input_chunks_holder=[] # holds the input chunks for each iteration\n",
        "  target_chunks_holder=[] # holds the target chunks for each iteration\n",
        "\n",
        "  target_len = len(target)\n",
        "  if target_len > 50: # skip any days that don't offer sufficient training data so it doesn't waste resources and slow down training.\n",
        "    \n",
        "    chunk_size = len(target) // num_chunks # break the day up into chunks based on the target length\n",
        "\n",
        "    input_chunk1 = input[:chunk_size]\n",
        "    input_chunk2 = input[chunk_size:2*chunk_size]\n",
        "    input_chunk3 = input[2*chunk_size:3*chunk_size]\n",
        "    input_chunk4 = input[3*chunk_size:4*chunk_size]\n",
        "    input_chunk5 = input[4*chunk_size:5*chunk_size]\n",
        "    input_chunk6 = input[5*chunk_size:6*chunk_size]\n",
        "    input_chunk7 = input[6*chunk_size:]\n",
        "\n",
        "    target_chunk1 = target[:chunk_size]\n",
        "    target_chunk2 = target[chunk_size:2*chunk_size]\n",
        "    target_chunk3 = target[2*chunk_size:3*chunk_size]\n",
        "    target_chunk4 = target[3*chunk_size:4*chunk_size]\n",
        "    target_chunk5 = target[4*chunk_size:5*chunk_size]\n",
        "    target_chunk6 = target[5*chunk_size:6*chunk_size]\n",
        "    target_chunk7 = target[6*chunk_size:]\n",
        "\n",
        "    # Add chunk token Id's\n",
        "    chunk1_token = f'<START_{count}>' # also used for the df\n",
        "    chunk2_token = f'<CONT_{count}_1>'\n",
        "    chunk3_token = f'<CONT_{count}_2>'\n",
        "    chunk4_token = f'<CONT_{count}_3>'\n",
        "    chunk5_token = f'<CONT_{count}_4>'\n",
        "    chunk6_token = f'<CONT_{count}_5>'\n",
        "    chunk7_token = f'<END_{count}>'\n",
        "\n",
        "    chunk_tokens.append([chunk1_token, chunk2_token, chunk3_token, chunk4_token, chunk5_token, chunk6_token, chunk7_token]) # add for the vocab file\n",
        "\n",
        "    target_chunk1.append(chunk1_token)\n",
        "    target_chunk2.append(chunk2_token)\n",
        "    target_chunk3.append(chunk3_token)\n",
        "    target_chunk4.append(chunk4_token)\n",
        "    target_chunk5.append(chunk5_token)\n",
        "    target_chunk6.append(chunk6_token)\n",
        "    target_chunk7.append(chunk7_token)\n",
        "\n",
        "    # Shuffle the input chunk \n",
        "    np.random.shuffle(input_chunk1)\n",
        "    np.random.shuffle(input_chunk2)\n",
        "    np.random.shuffle(input_chunk3)\n",
        "    np.random.shuffle(input_chunk4)\n",
        "    np.random.shuffle(input_chunk5)\n",
        "    np.random.shuffle(input_chunk6)\n",
        "    np.random.shuffle(input_chunk7)\n",
        "\n",
        "    # Append chunk token for inputs after they've been shuffled\n",
        "    input_chunk1.append(chunk1_token)\n",
        "    input_chunk2.append(chunk2_token)\n",
        "    input_chunk3.append(chunk3_token)\n",
        "    input_chunk4.append(chunk4_token)\n",
        "    input_chunk5.append(chunk5_token)\n",
        "    input_chunk6.append(chunk6_token)\n",
        "    input_chunk7.append(chunk7_token)\n",
        "\n",
        "\n",
        "    # Add chunks with tags to the new rides_dataset as seperate sequences \n",
        "    # which will be understood as a single sequence by their chunk tags\n",
        "    new_rides_dataset.append({\n",
        "        'id' : count_id,\n",
        "        'input' : input_chunk1, # Start\n",
        "        'target' : target_chunk1 # Start\n",
        "        })\n",
        "    count_id += 1\n",
        "    \n",
        "    new_rides_dataset.append({\n",
        "        'id' : count_id,\n",
        "        'input' : input_chunk2,  # Cont 1\n",
        "        'target' : target_chunk2 # Cont 1\n",
        "        })\n",
        "    count_id += 1\n",
        "    new_rides_dataset.append({\n",
        "        'id' : count_id,\n",
        "        'input' : input_chunk3,  # Cont 2\n",
        "        'target' : target_chunk3 # Cont 2\n",
        "        })\n",
        "    count_id += 1\n",
        "    new_rides_dataset.append({\n",
        "        'id' : count_id,\n",
        "        'input' : input_chunk4,  # Cont 3\n",
        "        'target' : target_chunk4 # Cont 3\n",
        "        })\n",
        "    count_id += 1\n",
        "    new_rides_dataset.append({\n",
        "        'id' : count_id,\n",
        "        'input' : input_chunk5,  # Cont 4\n",
        "        'target' : target_chunk5 # Cont 4\n",
        "        })\n",
        "    count_id += 1\n",
        "    new_rides_dataset.append({\n",
        "      'id' : count_id,\n",
        "      'input' : input_chunk6,  # Cont 6\n",
        "      'target' : target_chunk6 # Cont 6\n",
        "      })\n",
        "    \n",
        "    count_id += 1\n",
        "    new_rides_dataset.append({\n",
        "        'id' : count_id,\n",
        "        'input' : input_chunk7, # End\n",
        "        'target' : target_chunk7 # End\n",
        "        })\n",
        "    count_id += 1\n",
        "\n",
        "    count +=1\n",
        "\n",
        "rides_dataset = new_rides_dataset\n",
        "print('Total Input and Target sequences [[start],[mid],[end]]:',count)"
      ],
      "metadata": {
        "colab": {
          "base_uri": "https://localhost:8080/"
        },
        "id": "YPhddWIijxaK",
        "outputId": "31b55377-08bf-459f-f6dd-3b610eacb9e6"
      },
      "execution_count": 21,
      "outputs": [
        {
          "output_type": "stream",
          "name": "stdout",
          "text": [
            "Total Input and Target sequences [[start],[mid],[end]]: 407\n"
          ]
        }
      ]
    },
    {
      "cell_type": "code",
      "source": [
        "# count = 0\n",
        "# count_id = 0 # incrementes the id of each dict so they are in a sequential order from start to end and each dict has a unique id\n",
        "# new_rides_dataset=[] # fill with generated chunks for each day of rides sequences\n",
        "# chunk_tokens=[]\n",
        "# for i in range(len(rides_dataset)):\n",
        "#   input = rides_dataset[i]['input']\n",
        "#   target = rides_dataset[i]['target']\n",
        "\n",
        "\n",
        "#   target_len = len(target)\n",
        "#   if target_len > 50: # skip any days that don't offer sufficient training data so it doesn't waste resources and slow down training.\n",
        "    \n",
        "#     chunk_size = len(target) // num_chunks # break the day up into chunks based on the target length\n",
        "#     input_chunk1 = input[:chunk_size]\n",
        "#     input_chunk2 = input[chunk_size:2*chunk_size]\n",
        "#     input_chunk3 = input[2*chunk_size:]\n",
        "\n",
        "#     target_chunk1 = target[:chunk_size]\n",
        "#     target_chunk2 = target[chunk_size:2*chunk_size]\n",
        "#     target_chunk3 = target[2*chunk_size:]\n",
        "\n",
        "#     # Add chunk token Id's\n",
        "#     chunk1_token = f'<START_{count}>' # also used for the df\n",
        "#     chunk2_token = f'<MID_{count}>'\n",
        "#     chunk3_token = f'<END_{count}>'\n",
        "\n",
        "#     chunk_tokens.append([chunk1_token, chunk2_token, chunk3_token]) # add for the vocab file\n",
        "\n",
        "#     target_chunk1.append(chunk1_token)\n",
        "#     target_chunk2.append(chunk2_token)\n",
        "#     target_chunk3.append(chunk3_token)\n",
        "\n",
        "#     # Shuffle the input chunk \n",
        "#     np.random.shuffle(input_chunk1)\n",
        "#     np.random.shuffle(input_chunk2)\n",
        "#     np.random.shuffle(input_chunk3)\n",
        "\n",
        "#     # Append chunk token for inputs after they've been shuffled\n",
        "#     input_chunk1.append(chunk1_token)\n",
        "#     input_chunk2.append(chunk2_token)\n",
        "#     input_chunk3.append(chunk3_token)\n",
        "\n",
        "\n",
        "#     # Add chunks with tags to the new rides_dataset as seperate sequences \n",
        "#     # which will be understood as a single sequence by their chunk tags\n",
        "#     new_rides_dataset.append({\n",
        "#         'id' : count_id,\n",
        "#         'input' : input_chunk1, # Start\n",
        "#         'target' : target_chunk1 # Start\n",
        "#         })\n",
        "#     count_id += 1\n",
        "    \n",
        "#     new_rides_dataset.append({\n",
        "#         'id' : count_id,\n",
        "#         'input' : input_chunk2,  # Mid\n",
        "#         'target' : target_chunk2 # Mid\n",
        "#         })\n",
        "#     count_id += 1\n",
        "#     new_rides_dataset.append({\n",
        "#         'id' : count_id,\n",
        "#         'input' : input_chunk3, # End\n",
        "#         'target' : target_chunk3 # End\n",
        "#         })\n",
        "#     count_id += 1\n",
        "\n",
        "#     count +=1\n",
        "#     # if count == 5:\n",
        "#     #   print(new_rides_dataset[0]['input'])\n",
        "#     #   print(new_rides_dataset[0]['target'])\n",
        "#     #   break\n",
        "# rides_dataset = new_rides_dataset\n",
        "# print('Total Input and Target sequences [[start],[mid],[end]]:',count)"
      ],
      "metadata": {
        "id": "NKfkCGXfKWTP"
      },
      "execution_count": 22,
      "outputs": []
    },
    {
      "cell_type": "code",
      "source": [
        "rides_dataset[6]"
      ],
      "metadata": {
        "colab": {
          "base_uri": "https://localhost:8080/"
        },
        "id": "w7SRivsecmT_",
        "outputId": "8116a38e-3621-447f-e8e3-4e2c97d7f268"
      },
      "execution_count": 23,
      "outputs": [
        {
          "output_type": "execute_result",
          "data": {
            "text/plain": [
              "{'id': 6,\n",
              " 'input': ['On 2021-10-30 at 09:45, 388691 with the condition of WCH will be picked up from (-121.9314804,37.31127167) and taken to their appointment located at (-121.9243088,37.39934158) the value of this ride is 42.5 and the distance from start to finish is 10.03 miles *',\n",
              "  'On 2021-10-30 at 09:45, 390540 with the condition of WCH will be picked up from (-121.8941803,37.29782867) and taken to their appointment located at (-121.931483,37.31127) the value of this ride is 77.88 and the distance from start to finish is 3.53 miles *',\n",
              "  'On 2021-10-30 at 08:30, 388505 with the condition of BWC will be picked up from (-121.8325653,37.33570862) and taken to their appointment located at (-121.8270276,37.2519668) the value of this ride is 93.6 and the distance from start to finish is 10.86 miles *',\n",
              "  'On 2021-10-30 at 09:15, 390527 with the condition of STR will be picked up from (-122.0218887,37.36326981) and taken to their appointment located at (-122.0140457,37.37662125) the value of this ride is 199.05 and the distance from start to finish is 1.78 miles *',\n",
              "  'On 2021-10-30 at 13:45, 390539 with the condition of WCH will be picked up from (-121.8134221,37.3503311) and taken to their appointment located at (-121.888064,37.332132) the value of this ride is 34.4 and the distance from start to finish is 6.42 miles *',\n",
              "  'On 2021-10-30 at 08:30, 388709 with the condition of WCH will be picked up from (-121.9232407,37.30308914) and taken to their appointment located at (-121.950932,37.255799) the value of this ride is 82.38 and the distance from start to finish is 5.51 miles *',\n",
              "  'On 2021-10-30 at 08:15, 388851 with the condition of BWC was scheduled to be picked up for their appointment from (-121.8116608,37.26219559) and dropped off at (-121.826913,37.251936) the value of this ride was 50.0 and the distance from start to finish was 2.52 miles, but 388851 has canceled the ride *',\n",
              "  'On 2021-10-30 at 14:00, 388622 with the condition of STR will be picked up from (-121.8134232,37.35033035) and taken to their appointment located at (-121.8897095,37.44872284) the value of this ride is 141.6 and the distance from start to finish is 9.63 miles *',\n",
              "  'On 2021-10-30 at 17:15, 388488 with the condition of WCH will be picked up from (-122.079144,37.382993) and taken to their appointment located at (-122.0695877,37.41511917) the value of this ride is 52.05 and the distance from start to finish is 4.17 miles *',\n",
              "  'On 2021-10-30 at 15:00, 415878 with the condition of WCH will be picked up from (-121.8914642,37.24549484) and taken to their appointment located at (-121.9509048,37.33436203) the value of this ride is 45.2 and the distance from start to finish is 11.22 miles *',\n",
              "  'On 2021-10-30 at 08:45, 388896 with the condition of WCH will be picked up from (-121.8113861,37.30517197) and taken to their appointment located at (-121.8397293,37.31420898) the value of this ride is 26.3 and the distance from start to finish is 2.78 miles *',\n",
              "  '<END_0>'],\n",
              " 'target': ['On 2021-10-30 at 15:00, driver SC107 will pick up 415878 with the condition of WCH from (-121.8914642,37.24549484) and dropped off at (-121.9509048,37.33436203) the value of this ride is 45.2 and the distance from start to finish is 11.22 miles *',\n",
              "  'On 2021-10-30 at 15:00, driver SC104 will pick up 388498 with the condition of WCH from (-121.931572,37.3112793) and dropped off at (-121.8635483,37.30686951) the value of this ride is 33.95 and the distance from start to finish is 6.25 miles *',\n",
              "  'On 2021-10-30 at 16:45, driver SC106 will pick up 388479 with the condition of WCH from (-122.0140457,37.37662125) and dropped off at (-122.0238342,37.3819046) the value of this ride is 22.48 and the distance from start to finish is 1.05 miles *',\n",
              "  'On 2021-10-30 at 17:00, driver SC107 will pick up 390522 with the condition of WCH from (-121.8134232,37.35033035) and dropped off at (-121.8272247,37.31860733) the value of this ride is 27.65 and the distance from start to finish is 3.37 miles *',\n",
              "  'On 2021-10-30 at 17:00, driver SC107 will pick up 388690 with the condition of WCH from (-121.8348389,37.31568909) and dropped off at (-121.8412247,37.32992172) the value of this ride is 26.75 and the distance from start to finish is 2.98 miles *',\n",
              "  'On 2021-10-30 at 17:15, driver SC106 will pick up 388488 with the condition of WCH from (-122.079144,37.382993) and dropped off at (-122.0695877,37.41511917) the value of this ride is 52.05 and the distance from start to finish is 4.17 miles *',\n",
              "  'On 2021-10-30 at 17:15, driver SC106 will pick up 388494 with the condition of WCH from (-121.9947433,37.33644867) and dropped off at (-122.1583481,37.44995499) the value of this ride is 57.8 and the distance from start to finish is 16.83 miles *',\n",
              "  'On 2021-10-30 at 17:30, driver SC107 will pick up 390537 with the condition of WCH from (-121.8120978,37.3060479) and dropped off at (-121.8320389,37.29574585) the value of this ride is 25.18 and the distance from start to finish is 2.26 miles *',\n",
              "  'On 2021-10-30 at 17:45, driver SC104 will pick up 388677 with the condition of BWC from (-121.933667,37.315553) and dropped off at (-121.8692703,37.38211441) the value of this ride is 89.6 and the distance from start to finish is 9.89 miles *',\n",
              "  'On 2021-10-30 at 17:45, driver SC104 will pick up 388702 with the condition of WCH from (-121.933667,37.315553) and dropped off at (-121.8411942,37.36575317) the value of this ride is 38.67 and the distance from start to finish is 8.32 miles *',\n",
              "  'On 2021-10-30 at 18:00, driver SC107 will pick up 388492 with the condition of WCH from (-121.811386,37.305172) and dropped off at (-121.934817,37.32753) the value of this ride is 55.38 and the distance from start to finish is 10.74 miles *',\n",
              "  '<END_0>']}"
            ]
          },
          "metadata": {},
          "execution_count": 23
        }
      ]
    },
    {
      "cell_type": "code",
      "source": [
        "# Add chunk tokens to a df which can be used to add them to the vocabulary\n",
        "chunk_tokens_df = pd.DataFrame(chunk_tokens)\n",
        "chunk_tokens_df.tail()"
      ],
      "metadata": {
        "colab": {
          "base_uri": "https://localhost:8080/",
          "height": 206
        },
        "id": "njgY_vUzSWVG",
        "outputId": "8be8a45a-e3e5-488e-b2b9-6b0659c4652e"
      },
      "execution_count": 24,
      "outputs": [
        {
          "output_type": "execute_result",
          "data": {
            "text/plain": [
              "               0             1             2             3             4  \\\n",
              "402  <START_402>  <CONT_402_1>  <CONT_402_2>  <CONT_402_3>  <CONT_402_4>   \n",
              "403  <START_403>  <CONT_403_1>  <CONT_403_2>  <CONT_403_3>  <CONT_403_4>   \n",
              "404  <START_404>  <CONT_404_1>  <CONT_404_2>  <CONT_404_3>  <CONT_404_4>   \n",
              "405  <START_405>  <CONT_405_1>  <CONT_405_2>  <CONT_405_3>  <CONT_405_4>   \n",
              "406  <START_406>  <CONT_406_1>  <CONT_406_2>  <CONT_406_3>  <CONT_406_4>   \n",
              "\n",
              "                5          6  \n",
              "402  <CONT_402_5>  <END_402>  \n",
              "403  <CONT_403_5>  <END_403>  \n",
              "404  <CONT_404_5>  <END_404>  \n",
              "405  <CONT_405_5>  <END_405>  \n",
              "406  <CONT_406_5>  <END_406>  "
            ],
            "text/html": [
              "\n",
              "  <div id=\"df-e3e0a543-039f-4286-adc6-ccc1b8e6ace9\">\n",
              "    <div class=\"colab-df-container\">\n",
              "      <div>\n",
              "<style scoped>\n",
              "    .dataframe tbody tr th:only-of-type {\n",
              "        vertical-align: middle;\n",
              "    }\n",
              "\n",
              "    .dataframe tbody tr th {\n",
              "        vertical-align: top;\n",
              "    }\n",
              "\n",
              "    .dataframe thead th {\n",
              "        text-align: right;\n",
              "    }\n",
              "</style>\n",
              "<table border=\"1\" class=\"dataframe\">\n",
              "  <thead>\n",
              "    <tr style=\"text-align: right;\">\n",
              "      <th></th>\n",
              "      <th>0</th>\n",
              "      <th>1</th>\n",
              "      <th>2</th>\n",
              "      <th>3</th>\n",
              "      <th>4</th>\n",
              "      <th>5</th>\n",
              "      <th>6</th>\n",
              "    </tr>\n",
              "  </thead>\n",
              "  <tbody>\n",
              "    <tr>\n",
              "      <th>402</th>\n",
              "      <td>&lt;START_402&gt;</td>\n",
              "      <td>&lt;CONT_402_1&gt;</td>\n",
              "      <td>&lt;CONT_402_2&gt;</td>\n",
              "      <td>&lt;CONT_402_3&gt;</td>\n",
              "      <td>&lt;CONT_402_4&gt;</td>\n",
              "      <td>&lt;CONT_402_5&gt;</td>\n",
              "      <td>&lt;END_402&gt;</td>\n",
              "    </tr>\n",
              "    <tr>\n",
              "      <th>403</th>\n",
              "      <td>&lt;START_403&gt;</td>\n",
              "      <td>&lt;CONT_403_1&gt;</td>\n",
              "      <td>&lt;CONT_403_2&gt;</td>\n",
              "      <td>&lt;CONT_403_3&gt;</td>\n",
              "      <td>&lt;CONT_403_4&gt;</td>\n",
              "      <td>&lt;CONT_403_5&gt;</td>\n",
              "      <td>&lt;END_403&gt;</td>\n",
              "    </tr>\n",
              "    <tr>\n",
              "      <th>404</th>\n",
              "      <td>&lt;START_404&gt;</td>\n",
              "      <td>&lt;CONT_404_1&gt;</td>\n",
              "      <td>&lt;CONT_404_2&gt;</td>\n",
              "      <td>&lt;CONT_404_3&gt;</td>\n",
              "      <td>&lt;CONT_404_4&gt;</td>\n",
              "      <td>&lt;CONT_404_5&gt;</td>\n",
              "      <td>&lt;END_404&gt;</td>\n",
              "    </tr>\n",
              "    <tr>\n",
              "      <th>405</th>\n",
              "      <td>&lt;START_405&gt;</td>\n",
              "      <td>&lt;CONT_405_1&gt;</td>\n",
              "      <td>&lt;CONT_405_2&gt;</td>\n",
              "      <td>&lt;CONT_405_3&gt;</td>\n",
              "      <td>&lt;CONT_405_4&gt;</td>\n",
              "      <td>&lt;CONT_405_5&gt;</td>\n",
              "      <td>&lt;END_405&gt;</td>\n",
              "    </tr>\n",
              "    <tr>\n",
              "      <th>406</th>\n",
              "      <td>&lt;START_406&gt;</td>\n",
              "      <td>&lt;CONT_406_1&gt;</td>\n",
              "      <td>&lt;CONT_406_2&gt;</td>\n",
              "      <td>&lt;CONT_406_3&gt;</td>\n",
              "      <td>&lt;CONT_406_4&gt;</td>\n",
              "      <td>&lt;CONT_406_5&gt;</td>\n",
              "      <td>&lt;END_406&gt;</td>\n",
              "    </tr>\n",
              "  </tbody>\n",
              "</table>\n",
              "</div>\n",
              "      <button class=\"colab-df-convert\" onclick=\"convertToInteractive('df-e3e0a543-039f-4286-adc6-ccc1b8e6ace9')\"\n",
              "              title=\"Convert this dataframe to an interactive table.\"\n",
              "              style=\"display:none;\">\n",
              "        \n",
              "  <svg xmlns=\"http://www.w3.org/2000/svg\" height=\"24px\"viewBox=\"0 0 24 24\"\n",
              "       width=\"24px\">\n",
              "    <path d=\"M0 0h24v24H0V0z\" fill=\"none\"/>\n",
              "    <path d=\"M18.56 5.44l.94 2.06.94-2.06 2.06-.94-2.06-.94-.94-2.06-.94 2.06-2.06.94zm-11 1L8.5 8.5l.94-2.06 2.06-.94-2.06-.94L8.5 2.5l-.94 2.06-2.06.94zm10 10l.94 2.06.94-2.06 2.06-.94-2.06-.94-.94-2.06-.94 2.06-2.06.94z\"/><path d=\"M17.41 7.96l-1.37-1.37c-.4-.4-.92-.59-1.43-.59-.52 0-1.04.2-1.43.59L10.3 9.45l-7.72 7.72c-.78.78-.78 2.05 0 2.83L4 21.41c.39.39.9.59 1.41.59.51 0 1.02-.2 1.41-.59l7.78-7.78 2.81-2.81c.8-.78.8-2.07 0-2.86zM5.41 20L4 18.59l7.72-7.72 1.47 1.35L5.41 20z\"/>\n",
              "  </svg>\n",
              "      </button>\n",
              "      \n",
              "  <style>\n",
              "    .colab-df-container {\n",
              "      display:flex;\n",
              "      flex-wrap:wrap;\n",
              "      gap: 12px;\n",
              "    }\n",
              "\n",
              "    .colab-df-convert {\n",
              "      background-color: #E8F0FE;\n",
              "      border: none;\n",
              "      border-radius: 50%;\n",
              "      cursor: pointer;\n",
              "      display: none;\n",
              "      fill: #1967D2;\n",
              "      height: 32px;\n",
              "      padding: 0 0 0 0;\n",
              "      width: 32px;\n",
              "    }\n",
              "\n",
              "    .colab-df-convert:hover {\n",
              "      background-color: #E2EBFA;\n",
              "      box-shadow: 0px 1px 2px rgba(60, 64, 67, 0.3), 0px 1px 3px 1px rgba(60, 64, 67, 0.15);\n",
              "      fill: #174EA6;\n",
              "    }\n",
              "\n",
              "    [theme=dark] .colab-df-convert {\n",
              "      background-color: #3B4455;\n",
              "      fill: #D2E3FC;\n",
              "    }\n",
              "\n",
              "    [theme=dark] .colab-df-convert:hover {\n",
              "      background-color: #434B5C;\n",
              "      box-shadow: 0px 1px 3px 1px rgba(0, 0, 0, 0.15);\n",
              "      filter: drop-shadow(0px 1px 2px rgba(0, 0, 0, 0.3));\n",
              "      fill: #FFFFFF;\n",
              "    }\n",
              "  </style>\n",
              "\n",
              "      <script>\n",
              "        const buttonEl =\n",
              "          document.querySelector('#df-e3e0a543-039f-4286-adc6-ccc1b8e6ace9 button.colab-df-convert');\n",
              "        buttonEl.style.display =\n",
              "          google.colab.kernel.accessAllowed ? 'block' : 'none';\n",
              "\n",
              "        async function convertToInteractive(key) {\n",
              "          const element = document.querySelector('#df-e3e0a543-039f-4286-adc6-ccc1b8e6ace9');\n",
              "          const dataTable =\n",
              "            await google.colab.kernel.invokeFunction('convertToInteractive',\n",
              "                                                     [key], {});\n",
              "          if (!dataTable) return;\n",
              "\n",
              "          const docLinkHtml = 'Like what you see? Visit the ' +\n",
              "            '<a target=\"_blank\" href=https://colab.research.google.com/notebooks/data_table.ipynb>data table notebook</a>'\n",
              "            + ' to learn more about interactive tables.';\n",
              "          element.innerHTML = '';\n",
              "          dataTable['output_type'] = 'display_data';\n",
              "          await google.colab.output.renderOutput(dataTable, element);\n",
              "          const docLink = document.createElement('div');\n",
              "          docLink.innerHTML = docLinkHtml;\n",
              "          element.appendChild(docLink);\n",
              "        }\n",
              "      </script>\n",
              "    </div>\n",
              "  </div>\n",
              "  "
            ]
          },
          "metadata": {},
          "execution_count": 24
        }
      ]
    },
    {
      "cell_type": "markdown",
      "source": [
        "Create dataset with train test split"
      ],
      "metadata": {
        "id": "7s4PAs0dk6aa"
      }
    },
    {
      "cell_type": "code",
      "source": [
        "rides_dataset[0]"
      ],
      "metadata": {
        "colab": {
          "base_uri": "https://localhost:8080/"
        },
        "id": "nr2hR6kkurVI",
        "outputId": "57b296f3-09db-46dd-e620-66dc57ff270b"
      },
      "execution_count": 25,
      "outputs": [
        {
          "output_type": "execute_result",
          "data": {
            "text/plain": [
              "{'id': 0,\n",
              " 'input': ['On 2021-10-30 at 05:00, 411690 with the condition of WCH will be picked up from (-121.9942169,37.34215927) and taken to their appointment located at (-121.9790364,37.322465) the value of this ride is 100.85 and the distance from start to finish is 2.6 miles *',\n",
              "  'On 2021-10-30 at 17:30, 390537 with the condition of WCH will be picked up from (-121.8120978,37.3060479) and taken to their appointment located at (-121.8320389,37.29574585) the value of this ride is 25.18 and the distance from start to finish is 2.26 miles *',\n",
              "  'On 2021-10-30 at 05:30, 390198 with the condition of WCH will be picked up from (-121.9492645,37.30254364) and taken to their appointment located at (-121.9337082,37.31555939) the value of this ride is 58.85 and the distance from start to finish is 2.21 miles *',\n",
              "  'On 2021-10-30 at 08:30, 388484 with the condition of STR will be picked up from (-121.9516678,37.38991928) and taken to their appointment located at (-122.0140457,37.37662125) the value of this ride is 207.38 and the distance from start to finish is 5.49 miles *',\n",
              "  'On 2021-10-30 at 17:00, 388690 with the condition of WCH will be picked up from (-121.8348389,37.31568909) and taken to their appointment located at (-121.8412247,37.32992172) the value of this ride is 26.75 and the distance from start to finish is 2.98 miles *',\n",
              "  'On 2021-10-30 at 16:45, 388479 with the condition of WCH will be picked up from (-122.0140457,37.37662125) and taken to their appointment located at (-122.0238342,37.3819046) the value of this ride is 22.48 and the distance from start to finish is 1.05 miles *',\n",
              "  'On 2021-10-30 at 13:00, 388488 with the condition of WCH will be picked up from (-122.0695877,37.41511917) and taken to their appointment located at (-122.079144,37.382993) the value of this ride is 40.75 and the distance from start to finish is 4.17 miles *',\n",
              "  'On 2021-10-30 at 13:12, 388702 with the condition of WCH will be picked up from (-121.8411942,37.36575317) and taken to their appointment located at (-121.933667,37.315553) the value of this ride is 88.67 and the distance from start to finish is 8.32 miles *',\n",
              "  'On 2021-10-30 at 17:45, 388677 with the condition of BWC will be picked up from (-121.933667,37.315553) and taken to their appointment located at (-121.8692703,37.38211441) the value of this ride is 89.6 and the distance from start to finish is 9.89 miles *',\n",
              "  '<START_0>'],\n",
              " 'target': ['On 2021-10-30 at 05:00, driver SC301 will pick up 411690 with the condition of WCH from (-121.9942169,37.34215927) and dropped off at (-121.9790364,37.322465) the value of this ride is 100.85 and the distance from start to finish is 2.6 miles *',\n",
              "  'On 2021-10-30 at 05:15, driver SC107 will pick up 388852 with the condition of BWC from (-121.5949326,37.02376938) and dropped off at (-121.8120978,37.3060479) the value of this ride is 154.4 and the distance from start to finish is 26.14 miles *',\n",
              "  'On 2021-10-30 at 05:27, driver SC204 will pick up 390529 with the condition of STR from (-121.8948135,37.32189178) and dropped off at (-121.9315708,37.3112781) the value of this ride is 201.07 and the distance from start to finish is 2.74 miles *',\n",
              "  'On 2021-10-30 at 05:30, driver SC105 will pick up 390198 with the condition of WCH from (-121.9492645,37.30254364) and dropped off at (-121.9337082,37.31555939) the value of this ride is 58.85 and the distance from start to finish is 2.21 miles *',\n",
              "  'On 2021-10-30 at 05:30, driver SC105 will pick up 390534 with the condition of WCH from (-121.9642258,37.29271698) and dropped off at (-121.9337045,37.3155593) the value of this ride is 103.33 and the distance from start to finish is 3.69 miles *',\n",
              "  'On 2021-10-30 at 05:43, driver SC301 will pick up 388496 with the condition of WCH from (-121.8491211,37.32672882) and dropped off at (-121.8120956,37.30604935) the value of this ride is 63.8 and the distance from start to finish is 4.44 miles *',\n",
              "  'On 2021-10-30 at 05:53, driver SC105 will pick up 388574 with the condition of BWC from (-121.9619141,37.27531433) and dropped off at (-121.8917009,37.2454899) the value of this ride is 77.2 and the distance from start to finish is 6.76 miles *',\n",
              "  'On 2021-10-30 at 06:00, driver SC301 will pick up 388896 with the condition of WCH from (-121.8397293,37.31420898) and dropped off at (-121.8113861,37.30517197) the value of this ride is 101.3 and the distance from start to finish is 2.78 miles *',\n",
              "  'On 2021-10-30 at 07:15, driver SC105 will pick up 417084 with the condition of BWC from (-121.9148788,37.30213547) and dropped off at (-121.7762604,37.22948456) the value of this ride is 104.0 and the distance from start to finish is 13.5 miles *',\n",
              "  '<START_0>']}"
            ]
          },
          "metadata": {},
          "execution_count": 25
        }
      ]
    },
    {
      "cell_type": "code",
      "source": [
        "x ='OnOnat 13:15, driver SC105 will pick up 388526 with the condition of WCH from ( -121.8113861, 37.30517197 ) and dropped off at ( -121.9314804, 37.31127167 ) the value of this ride isand the distance from start to finish is 2.78 miles * On On Onat 13:15 at 13:15 09:30, driver SC302 will pick 388739 with the value59 miles *, 37.31860733 )7 miles * ride is 5.51 miles *) the distance 08:30, driver SC104 will pick pick up 390529 with the distance 37.3015213 ) and the value 8.33 miles * 1.33 and dropped driver SC104 3 miles *from ( -121.8272247, 37.31860733.33181818306, 37.30213547 ) the 05:00, 37.3112793 ) theiles * On is 2 8.3 2 and the 8.3 2 miles * * Onat 09:00, driver SC106 will pick 388934 with the, driver SC202 will pick 388496 with the WCH from (-, 37.30517197 37.32392883 ) and) and, 37.30517197 37.30517197 ) the condition) the96 and the distance) the 8.3 8 and the 4.78 and the condition.51 and dropped 3.33at 10:00, driver SC103 will pick 388488 with the ( -121.9314804 37.35033798 ) and -121.8272247, 37.30517197 37.30604935 ) and up 390529 ) the of this value of STR from start.38 and the 12.337 and the driver SC104 8 miles * value of BWC from ( -121.93367, driver SC402 will pick 390540 with the STR from ( -121.8113861'\n",
        "\n",
        "x = x.split('*')\n",
        "x[1]"
      ],
      "metadata": {
        "colab": {
          "base_uri": "https://localhost:8080/",
          "height": 35
        },
        "id": "0YWLOmfTuU1V",
        "outputId": "af4f474c-b8c7-4ada-92bb-91b80fa1d2c1"
      },
      "execution_count": 13,
      "outputs": [
        {
          "output_type": "execute_result",
          "data": {
            "text/plain": [
              "' On On Onat 13:15 at 13:15 09:30, driver SC302 will pick 388739 with the value59 miles '"
            ],
            "application/vnd.google.colaboratory.intrinsic+json": {
              "type": "string"
            }
          },
          "metadata": {},
          "execution_count": 13
        }
      ]
    },
    {
      "cell_type": "code",
      "source": [
        "|from datasets import DatasetDict, load_dataset\n",
        "import pandas as pd\n",
        "\n",
        "# Convert list of dictionaries to new format\n",
        "data_format = [{'id': d['id'], 'translation': {'input': d['input'], 'target': d['target']}} for d in rides_dataset]\n",
        "\n",
        "# Convert new format list of dictionaries to pandas DataFrame\n",
        "full_dataset = pd.DataFrame.from_records(data_format, columns=['id', 'translation'])\n",
        "\n",
        "# Write DataFrame to CSV file\n",
        "full_dataset.to_csv(\"full_dataset.csv\", index=False)\n",
        "\n",
        "# Load the training and test datasets\n",
        "full_dataset = load_dataset('csv', data_files=\"full_dataset.csv\")\n",
        "train_dataset = full_dataset['train'].train_test_split(test_size=0.2, shuffle=False) # We want the tts in the chronological order specified above\n",
        "dataset_dict = DatasetDict({'train': train_dataset['train'], 'test': train_dataset['test']})\n"
      ],
      "metadata": {
        "colab": {
          "base_uri": "https://localhost:8080/",
          "height": 235
        },
        "id": "gNYDqSsIwV07",
        "outputId": "4286f11b-8a4a-43ae-d401-92788182dd0e"
      },
      "execution_count": 10,
      "outputs": [
        {
          "output_type": "error",
          "ename": "NameError",
          "evalue": "ignored",
          "traceback": [
            "\u001b[0;31m---------------------------------------------------------------------------\u001b[0m",
            "\u001b[0;31mNameError\u001b[0m                                 Traceback (most recent call last)",
            "\u001b[0;32m<ipython-input-10-8ffe771c0602>\u001b[0m in \u001b[0;36m<module>\u001b[0;34m\u001b[0m\n\u001b[1;32m      3\u001b[0m \u001b[0;34m\u001b[0m\u001b[0m\n\u001b[1;32m      4\u001b[0m \u001b[0;31m# Convert list of dictionaries to new format\u001b[0m\u001b[0;34m\u001b[0m\u001b[0;34m\u001b[0m\u001b[0m\n\u001b[0;32m----> 5\u001b[0;31m \u001b[0mdata_format\u001b[0m \u001b[0;34m=\u001b[0m \u001b[0;34m[\u001b[0m\u001b[0;34m{\u001b[0m\u001b[0;34m'id'\u001b[0m\u001b[0;34m:\u001b[0m \u001b[0md\u001b[0m\u001b[0;34m[\u001b[0m\u001b[0;34m'id'\u001b[0m\u001b[0;34m]\u001b[0m\u001b[0;34m,\u001b[0m \u001b[0;34m'translation'\u001b[0m\u001b[0;34m:\u001b[0m \u001b[0;34m{\u001b[0m\u001b[0;34m'input'\u001b[0m\u001b[0;34m:\u001b[0m \u001b[0md\u001b[0m\u001b[0;34m[\u001b[0m\u001b[0;34m'input'\u001b[0m\u001b[0;34m]\u001b[0m\u001b[0;34m,\u001b[0m \u001b[0;34m'target'\u001b[0m\u001b[0;34m:\u001b[0m \u001b[0md\u001b[0m\u001b[0;34m[\u001b[0m\u001b[0;34m'target'\u001b[0m\u001b[0;34m]\u001b[0m\u001b[0;34m}\u001b[0m\u001b[0;34m}\u001b[0m \u001b[0;32mfor\u001b[0m \u001b[0md\u001b[0m \u001b[0;32min\u001b[0m \u001b[0mrides_dataset\u001b[0m\u001b[0;34m]\u001b[0m\u001b[0;34m\u001b[0m\u001b[0;34m\u001b[0m\u001b[0m\n\u001b[0m\u001b[1;32m      6\u001b[0m \u001b[0;34m\u001b[0m\u001b[0m\n\u001b[1;32m      7\u001b[0m \u001b[0;31m# Convert new format list of dictionaries to pandas DataFrame\u001b[0m\u001b[0;34m\u001b[0m\u001b[0;34m\u001b[0m\u001b[0m\n",
            "\u001b[0;31mNameError\u001b[0m: name 'rides_dataset' is not defined"
          ]
        }
      ]
    },
    {
      "cell_type": "code",
      "source": [
        "import matplotlib.pyplot as plt\n",
        "input_lens = [len(x) for x in target_order]\n",
        "print('input lens: ', input_lens)\n",
        "plt.hist(input_lens, bins=50)"
      ],
      "metadata": {
        "colab": {
          "base_uri": "https://localhost:8080/",
          "height": 511
        },
        "id": "HUwh1GDlPZyi",
        "outputId": "6154e930-438d-4f2f-f316-0fd47132ab1d"
      },
      "execution_count": 27,
      "outputs": [
        {
          "output_type": "stream",
          "name": "stdout",
          "text": [
            "input lens:  [65, 66, 70, 62, 3, 105, 77, 95, 54, 76, 69, 97, 75, 101, 76, 108, 68, 105, 77, 111, 92, 108, 65, 100, 87, 108, 97, 100, 62, 109, 78, 105, 82, 86, 42, 102, 70, 96, 82, 95, 23, 36, 101, 73, 105, 74, 96, 52, 106, 78, 101, 76, 98, 58, 90, 73, 86, 88, 86, 54, 98, 80, 99, 84, 91, 60, 100, 88, 90, 74, 98, 67, 98, 87, 98, 88, 107, 65, 109, 83, 111, 88, 101, 72, 99, 80, 97, 90, 100, 57, 118, 97, 111, 87, 109, 72, 116, 90, 108, 89, 100, 69, 108, 93, 94, 100, 98, 69, 115, 85, 108, 87, 105, 73, 109, 86, 97, 81, 99, 70, 101, 93, 103, 87, 100, 64, 107, 89, 97, 93, 97, 66, 109, 90, 98, 88, 106, 64, 105, 93, 100, 92, 96, 68, 111, 84, 97, 95, 102, 65, 112, 102, 110, 79, 91, 72, 114, 91, 103, 93, 102, 65, 116, 94, 108, 80, 102, 64, 45, 49, 48, 47, 47, 53, 105, 90, 85, 78, 99, 64, 83, 75, 93, 84, 96, 67, 102, 84, 102, 88, 94, 74, 92, 88, 111, 95, 87, 68, 77, 82, 98, 91, 98, 69, 103, 91, 99, 99, 85, 69, 95, 88, 118, 78, 103, 65, 115, 82, 105, 90, 112, 70, 0, 105, 86, 101, 92, 97, 77, 104, 84, 116, 77, 97, 65, 111, 97, 110, 100, 97, 68, 110, 92, 99, 82, 95, 68, 102, 86, 105, 78, 96, 67, 1, 80, 82, 97, 76, 83, 62, 100, 90, 106, 94, 86, 57, 90, 77, 94, 84, 81, 66, 97, 83, 107, 78, 91, 61, 99, 80, 95, 92, 95, 59, 90, 91, 91, 75, 95, 59, 101, 75, 97, 83, 93, 60, 92, 80, 95, 70, 81, 60, 94, 79, 86, 100, 100, 62, 111, 88, 107, 92, 95, 71, 98, 99, 106, 96, 96, 80, 94, 86, 99, 63, 74, 77, 97, 101, 92, 93, 86, 73, 88, 88, 99, 94, 77, 75, 98, 86, 99, 94, 105, 72, 106, 86, 101, 101, 87, 71, 80, 86, 95, 83, 89, 78, 82, 93, 93, 90, 92, 77, 109, 106, 115, 102, 99, 74, 95, 101, 107, 92, 116, 78, 114, 96, 121, 100, 108, 77, 118, 80, 114, 99, 102, 81, 120, 84, 109, 91, 100, 79, 111, 90, 111, 89, 100, 82, 92, 98, 110, 107, 87, 80, 114, 99, 113, 108, 113, 84, 1, 118, 101, 106, 104, 103, 91, 110, 94]\n"
          ]
        },
        {
          "output_type": "execute_result",
          "data": {
            "text/plain": [
              "(array([ 3.,  1.,  0.,  0.,  0.,  0.,  0.,  0.,  0.,  1.,  0.,  0.,  0.,\n",
              "         0.,  1.,  0.,  0.,  1.,  1.,  3.,  1.,  2.,  2.,  3.,  5.,  5.,\n",
              "        12.,  6., 15.,  6., 14., 14., 11., 22., 14., 24., 15., 22., 32.,\n",
              "        21., 43., 27., 17., 18., 15., 21.,  4., 11.,  4.,  2.]),\n",
              " array([  0.  ,   2.42,   4.84,   7.26,   9.68,  12.1 ,  14.52,  16.94,\n",
              "         19.36,  21.78,  24.2 ,  26.62,  29.04,  31.46,  33.88,  36.3 ,\n",
              "         38.72,  41.14,  43.56,  45.98,  48.4 ,  50.82,  53.24,  55.66,\n",
              "         58.08,  60.5 ,  62.92,  65.34,  67.76,  70.18,  72.6 ,  75.02,\n",
              "         77.44,  79.86,  82.28,  84.7 ,  87.12,  89.54,  91.96,  94.38,\n",
              "         96.8 ,  99.22, 101.64, 104.06, 106.48, 108.9 , 111.32, 113.74,\n",
              "        116.16, 118.58, 121.  ]),\n",
              " <BarContainer object of 50 artists>)"
            ]
          },
          "metadata": {},
          "execution_count": 27
        },
        {
          "output_type": "display_data",
          "data": {
            "text/plain": [
              "<Figure size 432x288 with 1 Axes>"
            ],
            "image/png": "[encoded data removed]"
          },
          "metadata": {
            "needs_background": "light"
          }
        }
      ]
    },
    {
      "cell_type": "markdown",
      "source": [
        "If you want the model to predict the vehicle ID during the ordering prediction, you can remove the vehicle ID from the input sequence that you provide to the model and train the model to predict it as part of the output sequence.\n",
        "\n",
        "For example, during training, you can provide the model with a sequence of rides without the vehicle ID, and train it to output the correct order of rides along with the corresponding vehicle ID for each ride.\n",
        "\n",
        "During inference, you can provide the model with a sequence of rides without the vehicle ID, and let it predict the correct order of rides along with the corresponding vehicle ID for each ride."
      ],
      "metadata": {
        "id": "LsIxZ_dW_HVg"
      }
    },
    {
      "cell_type": "code",
      "source": [
        "# Get all the text columns and concatenate them with numerical columns\n",
        "text_columns = df.select_dtypes(include=['object', 'float', 'int']).astype(str).apply(lambda x: ' '.join(x.dropna()), axis=1)\n",
        "\n",
        "# Concatenate all the text columns into one long string\n",
        "text = ' '.join(text_columns)\n",
        "\n",
        "# Split the string into a list of unique words\n",
        "unique_words = list(set(text.split()))\n",
        "\n",
        "# Write the unique words to a text file, one word per line\n",
        "with open('custom_vocab.txt', 'w') as f:\n",
        "    f.write('\\n'.join(unique_words))\n",
        "\n"
      ],
      "metadata": {
        "id": "bgZ1D4lwfH3k"
      },
      "execution_count": 28,
      "outputs": []
    },
    {
      "cell_type": "code",
      "source": [
        "# Append chunk tokens to the custom vocab file\n",
        "text_columns = chunk_tokens_df.select_dtypes(include=['object']).astype(str).apply(lambda x: ' '.join(x.dropna()), axis=1)\n",
        "text = ' '.join(text_columns)\n",
        "unique_words = list(set(text.split()))\n",
        "\n",
        "with open('custom_vocab.txt', 'a') as f:\n",
        "    f.write('\\n'.join(unique_words))\n"
      ],
      "metadata": {
        "id": "8AfH2k8CULsn"
      },
      "execution_count": 29,
      "outputs": []
    },
    {
      "cell_type": "code",
      "source": [
        "# Open the text file\n",
        "with open('custom_vocab.txt', 'r') as f:\n",
        "    # Read the contents of the file into a list\n",
        "    custom_vocab = [line.split('\\n')[0] for line in f.readlines()]\n",
        "\n",
        "# Print the list\n",
        "print(custom_vocab)\n",
        "print(len(custom_vocab))"
      ],
      "metadata": {
        "colab": {
          "base_uri": "https://localhost:8080/"
        },
        "id": "JrFmZszdXIUE",
        "outputId": "e5cfff0f-2c07-4c06-9990-392b3a0dd04c"
      },
      "execution_count": 30,
      "outputs": [
        {
          "output_type": "stream",
          "name": "stdout",
          "text": [
            "['188.44', '5.506592', '50.6475', '495267', '338323', '37.38976288', '6.738149', '187.96', '12.596437', '17:40', '35.9075', '445496', '49.725', '388492', '110.93', '6', '37.38518', '-121.800626', '57', '37.4150797', '219.4575', '307.55', '-122.120429', '140.4975', '-121.8526853', '5.235674', '0.416319', '2.204625', '2.848366', '48.7775', '4.767781', '12.456007', '67.95', '2022-01-20', '14.988716', '37.342158', '37.328022', '37.41426086', '246.075', '30.485', '37.309678', '99.4975', '131.475', '14.430103', '249.2', 'BWC', '78.7175', '-122.16876', '137.145', '2021-11-13', '496558', '2022-05-31', '-121.5663071', '207.6', '37.477653', '294.36', '133.96', '58.41', '103.8875', '372.08', '171.6875', '109.1', '100.895', '22.852167', '-121.934751', '2.440746', '2021-12-17', '-121.961174', '1.118468', '37.30719376', '37.272817', '126.255', '228.75', '218.6475', '-121.8016739', '422023', '-121.966938', '37.250832', '183.25', '320.9', '81.6775', '86.75', '9.203129', '37.31605516', '443.92', '4.53166', '80.305', '119.075', '4.979047', '145.16', '2022-08-13', '16.995123', '37.357334', '37.24205', '207.56', '32.43247', '13.52228', '37.2990997', '37.343521', '73.645', '128.68', '248.4', '37.342514', '37.25832367', '481830', '-121.951908', '30.89', '6.834462', '492679', '-122.0588913', '188.68', '147.225', '153.57', '72.7675', '117.23', '-121.93733', '22.0475', '37.433063', '-121.891468', '73.125', '463143', '7.02', '83.32', '37.325603', '445536', '14.7375', '8.645759', '487678', '10.194216', '7.342122', '-121.951688', '37.371951', '497999', '388718', '306509', '473370', '35.9975', '27.47', '2022-03-14', '490864', '7.270664', '14.035532', '143.3325', '-122.0348358', '10.9125', '3.531874', '223.035', '11.212022', '37.308103', '23.69', '-121.9381777', '124.9725', '16', '9.554203', '-121.875793', '4.804442', '-122.040634', '30.457752', '10.279965', '0.283345', '37.35166931', '14.579232', '10.029552', '15.21738', '425974', '2.52401', '88.5625', '67.92', '-121.798111', '209.48', '-121.8778381', '137.0', '8.346879', '186.8', '78.425', '127.265', '218.45', '-121.586234', '11.435715', '187.72', '89.4175', '-121.9976654', '13.773314', '37.336341', '188.0', '9.782247', '-121.8885345', '-121.8183441', '225.825', '80.1475', '-121.9908066', '11.520222', '8.15239', '37.3497467', '-122.030681', '3.689702', '56.8', '452602', '37.3262825', '29.45', '-121.9285736', '147.7875', '8.228819', '440894', '6.930774', '388574', '2023-02-16', '10.507387', '411690', '124.545', '1.838637', '37.32870483', '-121.8457413', '-122.014276', '89.37', '2.326414', '193.36', '-121.950716', '37.3383255', '10.218449', '68.3', '55.305', '494161', '-121.857861', '11.497853', '8.242489', '-121.934107', '8.371113', '337.32', '71.3325', '29.675', '13.758401', '37.337028', '166.12', '13:16', '37.405597', '428245', '37.33644867', '9.795295', '37.369683', '49.5425', '406.8', '37.32618332', '420633', '0.707742', '496374', '6.412551', '5.074739', '5.394123', '498540', '96.505', '37.27691269', '40.065', '55.25', '441.52', '12.054601', '302.84', '-121.954257', '84.28', '26.5475', '65.2', '442.04', '66.2975', '32.477207', '69.55', '63.05', '2022-02-15', '-121.948015', '6.95128', '43.085', '-121.8347778', '-121.908009', '2.295345', '95.9', '29.607096', '37.369821', '14.989337', '48.95411', '4.5', '2023-02-02', '2022-09-29', '-121.9938736', '-121.8262482', '37.362844', '2022-10-03', '3.319365', '-121.931952', '72.97', '464088', '209.445', '16:45', '12.521872', '109.0625', '-121.836543', '138.8775', '65.825', '210.48', '2022-06-15', '74.41', '37.3060479', '422718', '115.0', '6.5475', '482622', '96.975', '54.575', '157.6', '2023-01-07', '6.25348', '-121.9232407', '37.3048172', '37.5275', '452077', '14.766886', '36.6275', '425077', '5.044291', '64.04', '54.56', '2.567506', '80.68', '10:27', '83.285', '23.9375', '75.6575', '-121.966011', '2.034369', '2022-11-25', '475912', '122.3625', '432485', '05:53', '465631', '-121.8540573', '418938', '445109', '96.19', '12.324898', '17.241808', '75.7825', '43', '9.337966', '484022', '11.70974', '9.610127', '434741', '137.68', '2.368667', '92.1625', '69.92', '37.350788', '2.027534', '46.9125', '58.445', '6.326801', '3.719528', '7.06934', '91.04', '37.22613144', '37.37239905', '48.195', '4.78518', '37.4375', '271.28', '10:55', '42.4325', '489467', '-121.908038', '12.227964', '486201', '-121.8351059', '-121.8884354', '14:25', '37.362549', '88.81', '206.4075', '2.207732', '37.43306961', '5.131905', '44.9075', '37.465453', '74.845', '388709', '-121.9947433', '37.405168', '481655', '183.45', '12:15', '2.996252', '141.69', '442462', '-121.9492645', '442183', '23.015', '902', '37.366508', '41.2625', '6.048427', '124.1625', '37.302984', '285.16', '2022-01-29', '50.085', '37.36939621', '45.605', '65.7575', '-121.8221436', '21.514978', '13:29', '51.12', '-121.843681', '212.91', '59.5025', '223.125', '21.44', '37.393067', '427104', '2022-01-08', '8.803587', '4.283112', '-122.2661591', '10.0', '174.28', '37.33645', '95.52', '08:41', '37.32611', '59.08', '5.488572', '61.4825', '2022-11-15', '13.602437', '452112', '4.664012', '37.02638245', '-121.888092', '86.2', '05:55', '52.49', '-121.820332', '89.395', '434758', '187.88', '37.379726', '2022-08-29', '2022-10-21', '31.044327', '443337', '9.646788', '-121.919191', '542.2', '5.24748', '198.24', '103.92', '-121.824792', '146.4', '31.4075', '9.966794', '86.4925', '390533', '2021-12-29', '7.389346', '-121.5689774', '-122.310811', '2022-11-19', '10.474454', '81.925', '260.4', '15.869199', '104.4', '97.2', '2022-05-11', '37.39787292', '37.35599038', '63.075', '2022-01-18', '290943', '388916', '13.370665', '29.135', '2022-07-25', '2022-06-25', '132.9825', '2022-02-04', '9.369656', '48.45', '130.68', '55.8125', '52.4675', '12.441094', '5.146818', '99.1175', '53', '32.239845', '12:55', '-121.947993', '-122.0791473', '32.1725', '59.4', '135.705', '-121.8216782', '28.64', '37.29084396', '127.3', '37.32392502', '42.2525', '475942', '201.66', '2022-11-09', '46.3925', '7.314782', '5.998096', '35.705', '-122.0417261', '37.44102859', '53.92', '68.0', '2022-12-03', '-122.1196594', '37.44995499', '-121.914963', '7.079282', '310230', '13.60368', '2022-02-22', '4.604982', '13.402977', '103.48', '464102', '480625', '37.2728157', '2.384201', '3.793471', '86.38', '444839', '-121.887019', '8.591699', '388994', '167.32', '130.48', '488463', '178.8', '0.6978', '37.237623', '37.239814', '121.6875', '7.132099', '455253', '64.5525', '9.626283', '3.246043', '210.165', '428231', '37.378166', '1.177498', '120.64', '37.251579', '2022-04-04', '339875', '68.6375', '37.12401', '103.6825', '435703', '471488', '37.32230759', '30.4175', '13.199167', '37.661596', '6.137905', '25.85', '04:15', '-121.8692703', '479025', '30.8', '463737', '13:52', '37.3990318', '471049', '106.9925', '86.68', '39.0575', '2022-05-10', '-122.2024912', '-121.9528474', '8.760091', '72.04', '147.68', '187.1', '54.9975', '3.541194', '11.535756', '12.115496', '76.155', '496787', '80.4175', '34.8275', '-121.857227', '47.27', '37.42575836', '178.88', '463154', '24.635', '2022-08-27', '215.4975', '17.536339', '199.9725', '178.52', '10.185517', '61.725', '-121.8844757', '490991', '154.02', '100.22', '10.460163', '36.515', '4.62673', '137.5475', '15.490162', '-122.0218887', '99.2725', '2021-12-02', '2022-08-17', '-121.556192', '10.58133', '37.37662125', '37.3130065', '37.36269', '99.36', '9.793431', '182.795', '2022-04-21', '-121.944455', '4.449018', '6.223032', '5.167944', '8.48793', '6.632516', '35.8', '54.9', '89.2825', '37.243765', '30.35', '6.072661', '-121.849642', '-121.93265', '424859', '5.267364', '2023-01-27', '37.321712', '73.375', '446849', '409.44', '297.6', '-121.9148636', '487.32', '80.485', '37.38518143', '80.525', '76.72', '209.84', '174.2', '2022-08-12', '121.6', '-121.951594', '6.546767', '468051', '7.999533', '-122.0140431', '7.462047', '-121.8475571', '37.362043', '37.25531', '37.55', '2.778151', '-121.8496933', '410.28', '17:55', '201.4', '-121.9893341', '37.342631', '24.885', '39.5575', '58.625', '07:30', '8.581136', '37.327774', '496597', '33.6575', '12.574067', '5.489193', '104.12', '484883', '-121.847442', '2022-01-04', '2022-05-24', '13.197303', '4.183071', '9.769819', '37.35359192', '85.28', '15.606359', '37.3112793', '2022-02-24', '2023-03-06', '-121.878943', '43.73832', '104.245', '32.9825', '37.34762955', '433660', '454343', '46.325', '8.958308', '29.99', '-121.865361', '3.252878', '37.35855865', '37.343688', '227.96', '440454', '451.32', '24.0275', '2022-01-19', '54.965', '485910', '22.1375', '37.432013', '459762', '37.329692', '91.3525', '-121.9326648', '87.88', '170.88', '5.230081', '103.6', '37.145', '2023-01-12', '55.16', '05:43', '8.010717', '213.24', '3.667333', '101.95', '26.435', '49.97', '37.342565', '37.435506', '102.04', '37.308869', '-121.8060837', '410.4', '472512', '475987', '3.156566', '04:45', '37.48782791', '100.85', '-122.1766698', '405.72', '2022-12-23', '41.87', '18.91081', '3.784772', '76.75', '85.39', '37.30608749', '16.764595', '15.12', '3.890405', '220.16', '189.56', '40.7', '06:15', '37.32768631', '196.71', '13:25', '2023-02-03', '8.282878', '65.565', '<PF>', '37.31435596', '84.715', '480688', '4.384395', '25.181688', '1.644148', '61.2125', '69.11', '37.262284', '192.55', '2023-03-04', '-121.882137', '4.765296', '479443', '58.0', '19.922403', '29.225', '0.791627', '0.520088', '-121.775502', '9.431793', '-121.849266', '37.330982', '291.52', '32.825', '-121.95575', '236.68', '37.36120987', '2023-02-23', '5.530825', '14.72774', '138.81', '-121.776262', '35.552376', '100.1075', '-121.6590805', '-122.033006', '489252', '2022-04-22', '473557', '-121.8586731', '-122.0035248', '446806', '10.163147', '450440', '-122.176531', '3.36721', '22.5425', '150.825', '185.3', '13.526629', '-121.789448', '32.2625', '388615', '463376', '89.08', '159.48', '2.399736', '37.28892517', '137.3', '481805', '-121.975004', '-121.9822311', '85.6375', '4.630458', '37.250773', '37.232184', '-121.9093323', '28.73', '31.7675', '2.916716', '495968', '-121.994215', '7.788267', '-121.9492874', '2022-01-21', '8.355578', '10.50863', '37.3242569', '-121.9503326', '449937', '2022-04-16', '-121.8029099', '165.36', '2021-11-26', '-122.175263', '69.4', '192.95', '5.490436', '388885', '37.32898331', '52.72', '37.40818787', '133.475', '450443', '460612', '42.9725', '134.28', '398.4', '62.09', '37.3155593', '3.630672', '422607', '37.3331604', '-118.418475', '-122.0225754', '37.366524', '-122.1483078', '92.3425', '298.4', '451855', '108.92', '60.975', '240.76', '2022-12-31', '492158', '184.08', '13.31847', '8.920405', '-121.9333191', '-121.966965', '30.9125', '305.2', '2022-03-26', '1.141459', '101.52', '37.389341', '37.32165527', '1.477621', '93.8', '93.175', '37.28503036', '37.36037445', '5.043049', '142.0275', '1.320414', '37.3645134', '26.8625', '297.34787', '1.746674', '-121.938565', '37.30255127', '170.4', '419526', '482149', '-122.079557', '4.217868', '0.94697', '498657', '6.844404', '37.30517197', '10.816208', '101.3', '462594', '-121.8914642', '2023-01-14', '2022-06-11', '471177', '-121.8614044', '98.1275', '8.390375', '486913', '101.0', '14.79', '37.310112', '117.32', '61.4925', '12:30', '37.456635', '0.828288', '2022-09-08', '-121.7675247', '102.88', '151.56', '37.35350418', '9.710789', '3.956892', '8.3', '5.22946', '96.6175', '201.96', '494080', '15.116718', '183.16', '7.757198', '495521', '-121.8917007', '10.25511', '37.241727', '205.125', '72.5425', '83.015', '61.325', '37.30441284', '319.04', '2022-01-02', '27', '207.44', '86.6275', '4.731742', '37.252972', '49.125', '37.368021', '37.40526199', '37.243691', '471380', '37.367072', '-121.9442732', '2022-12-24', '52.265', '12.119845', '2.362453', '1.539136', '453.55', '4.340899', '63.8325', '-121.879163', '2022-10-11', '158.0', '37.434279', '87.72', '37.22620773', '-121.5635605', '2022-06-10', '37.45401001', '2022-10-07', '80.5975', '37.33878708', '37.3277', '37.367641', '56.4425', '440576', '53.28', '489253', '37.253341', '37.3766219', '-121.913528', '07:12', '221.3475', '-122.069591', '2022-10-26', '37.43611023', '70.76', '178.4', '103.91', '214.0125', '5.217033', '12.79279', '95.065', '-122.120489', '55.34', '37.24311066', '485954', '37.23754501', '18:45', '413.32', '201.075', '492812', '29.3375', '296.7', '49.875', '37.35033035', '230.36', '37.29253769', '101.3225', '155.2', '54.8025', '470507', '13.594359', '123.24', '482152', '70.92', '38.6525', '13.209109', '2021-11-06', '-121.8004227', '87.46', '481753', '112.46', '244.3875', '40.975', '432462', '112.985', '5.900541', '-121.8455811', '37.25159836', '198.8925', '12.600786', '431693', '5.702323', '-121.93752', '2022-08-22', '2022-04-18', '9.589622', '430492', '-121.8948135', '-122.3974075', '-122.082857', '170.04', '9.20375', '452394', '37.326281', '9.493309', '71.17', '36.875', '7.613661', '82.51', '441.6', '57.825', '71.795', '58.49', '26.3225', '-121.8952789', '37.37646866', '75.7375', '2023-02-04', '73.24', '8.377326', '37.36481476', '8.716595', '96.3925', '39.7775', '112.2', '475959', '-122.055809', '220.88', '37.296471', '2.399114', '37.3341293', '-121.932781', '45.675', '146.56', '465632', '2021-12-06', '-122.082316', '98.2175', '447897', '37.30659866', '37.31423', '2.200897', '29.855', '302.25', '10.171846', '104.76', '81.475', '494474', '426358', '2022-05-12', '497212', '1.76283', '2.830346', '9.078233', '18.780323', '101.16', '15.124796', '6.310024', '-121.853689', '37.25264359', '3.374667', '81.9925', '219.0', '57.9', '56.7', '436975', '29', '473734', '-121.888443', '75.88', '2022-09-05', '2022-02-18', '57.7475', '156.5375', '401.72', '454045', '183.4', '35.4125', '2022-10-31', '2022-12-22', '47.475', '66.1175', '-121.9719696', '390537', '0.761801', '8.775625', '-121.9029541', '196.5975', '132.1725', '432.96', '445297', '426356', '2.774422', '9.666672', '436144', '70.6', '16.409792', '8.84584', '37.24161148', '215.43', '415.48', '8.66', '424.5', '1.956698', '496010', '13.838558', '2023-01-02', '37.35280228', '35.345', '11.45125', '37.293376', '37.31449127', '492682', '5.893706', '259.44', '10.396783', '4.837375', '2022-02-14', '70.88', '9.66', '60.7', '433433', '202.2', '64.8125', '2022-10-29', '463789', '97.92', '134.1975', '37.4388237', '388632', '2022-08-25', '493988', '-121.8381042', '3.28084', '18.170757', '430781', '-121.878308', '-121.881758', '2023-01-31', '493407', '5.370511', '182.375', '36.38', '37.34334946', '486871', '82.825', '-121.9790364', '84.9', '25.76', '-121.8864975', '461812', '1.336569', '26.075', '60.155', '37.426546', '58.85', '102.49', '29.6', '91.24', '73.6', '61.9425', '47.63', '37.251994', '37.333161', '11.381035', '41.0825', '38.54', '12.347267', '245.0', '10.217828', '13.199788', '443962', '230.4825', '110.08', '16:20', '65.05', '13.131437', '37.302134', '8.033087', '13.59498', '1.623643', '-122.0697098', '39.5525', '185.0', '1.0125', '192.84', '71.8', '37.31436254', '11.619641', '37.360373', '21.78403', '77.47', '-121.9106827', '37.440221', '67.2875', '217.05', '86.615', '-121.9149704', 'SC108', '-122.0237579', '86.8', '25.245', '9.369035', '22.925', '45.065', '434730', '303.4', '-122.0304489', '98.2825', '2022-12-02', '532.88', '13.497425', '37.41140366', '37.29731777', '-121.8525314', '56.4', '2022-02-10', '-121.962738', '94.3', '37.2443161', '52.13', '37.30070877', '7.624846', '1.425426', '447366', '81.9475', '46.19', '7.106001', '12.890967', '-121.8927307', '3.615138', '138.2', '498259', '-121.9208069', '2022-05-09', '5.697352', '4.063146', '278.24', '-122.0673904', '22.655', '-121.876299', '37.49874496', '480965', '-122.138941', '-121.949148', '4', '37.485722', '9.167089', '47.1', '7.189886', '12.59768', '478044', '47.7425', '67.32', '72.735', '2022-12-30', '199.005', '09:25', '25.805', '49.605', '14.630185', '93.2', '9.417502', '47.7875', '-121.9623947', '37.394384', '10.455192', '201.44', '110.04', '66.8825', '7.378162', '37.245493', '-121.93492', '09:15', '13.112175', '29.27', '446.36', '3.687217', '2022-03-12', '388479', '10.406103', '456214', '-121.950908', '-121.959938', '0.914658', '111.05', '37.31555939', '37.326675', '71.6', '-122.187556', '10.3682', '135.84', '390520', '486892', '2023-02-07', '470847', '53.1425', '2.035612', '451757', '490398', '7.08301', '69.28', '162.84', '0.295151', '-121.810791', '76.24', '-121.940303', '82.42', '66.095', '13.170584', '486507', '10.521057', 'SC203', '129.8325', '140.7', '-121.8762054', '-122.0051041', '25.729738', '37.240128', '76.12', '445278', '279.32', '446.48', '429322', '99.97', '7.171866', '-121.9437561', '32.7375', '04:50', '2022-06-29', '37.3138504', '08:43', '293.4', '100.65', '108.5', '37.247862', '2022-10-01', '262.44', '37.31735611', '251.4', '78.8375', '2022-11-10', '471470', '496025', '2.268626', '167.92', '10:30', '37.435923', '37.31797791', '302.4', '19.175', '37.291981', '2022-10-20', '8.862617', '70.945', '37.366923', '37.37195206', '179.45', '315.0', '12:00', '51.59', '-121.8480225', '91.35', '58.1525', '28.91', '37.40881', '199.8', '69.005', '56.925', '-122.140205', '83.96', '-121.852581', '-122.175055', '8.643895', '35.93', '133.4', '104.4725', '143.4', '33.0725', '493196', '274.24', '37.252894', '57.9275', '10.139535', '2022-05-07', '37.331201', '-121.7964249', '12.447929', '36.2', '37.12731934', '-121.8647079', '482417', '31.475', '77.84', '-121.846207', '115.24', '69.65', '144.9975', '2022-03-03', '-121.9284439', '10.324704', '-121.920808', '262.76', '424.55', '4.63605', '25.25', '37.37659', 'SC401', '74.815', '434557', '476292', '388769', '477404', '46.35', '4.867201', '103.8', '5.230703', '2022-03-07', '-121.8141861', '-122.0533066', '1.306744', '37.322437', '447648', '2021-11-21', '131.4075', '37.324765', '37.262029', '17:20', '479121', '5.353734', '42.3425', '10.937376', '37.42548752', '111.04', '7.777703', '5.692381', '9.597699', '-121.841237', '113.72', '37.33657074', '469320', '46.425', '245.04', '14:50', '37.018049', '15.184448', '388526', '77.3', '37.362683', '479120', '95.675', '78.7525', '434712', '37.12400818', '10.935512', '148.035', '193.44', '-121.9759248', '8.817879', '7.103515', '25.895', '196.35', '487684', '10.009047', '2022-10-24', '2.090293', '-121.8460922', '12.787819', '498275', '244.32', '422285', '37.32761383', '37.427782', '21.9575', '294773', '79.675', '96.36', '102.76', '0.026719', '200.3775', '-121.8525696', '179.52', '37.3503311', '3.635643', '435427', '2023-02-24', '34.175', '8.122564', '176.8', '423304', '95.8', '487145', '73.385', '12.616942', '6.145982', '-121.9157067', '-121.9029694', '2.5425', '328.04', '2022-11-07', '-121.951125', '37.34285736', '4.575156', '-121.8763', '126.9525', '2022-06-02', '433.04', '57.8375', '-122.177099', '37.26219559', '9.142234', '4.066874', '227.625', '37.35144806', '8.845219', '27.345303', '118.085', '8.945881', '37.286009', '100.49', '260.2', '419437', '37.262743', '12.23542', '106.8', '9.166468', '486112', '13.584417', '80.9', '216.3525', '37.282723', '227.6', '5.348763', '9.255324', '92.2525', '11.139321', '434985', '295.16', '39.1475', '8.765683', '37.33570862', '109.85', '74.2', '8.044893', '-121.793996', '388698', '38.5625', '202.7175', '33.073723', '6.24913', '484060', '123.8925', '104.32', '3.447367', '15.396335', '432.12', '82.68', '68.4', '94.9075', '16.620438', '37.30635834', '-121.9335022', '77.605', '2022-09-06', '390529', '9.141613', '37.57516098', '59.075', '484466', '-121.8274765', '2022-05-27', '392866', '212.7525', '116.15', '6.811471', '419029', '14.815353', '80.72', '117.365', '203.73', '3.209382', '37.782429', '2023-03-03', '25.1075', '83.995', '-121.9533833', '5.283519', '-121.9594498', '37.42654419', '2023-01-30', '89.6', '34.8725', '37.29402161', '453309', '126.3675', '83.0725', '23.78', '4.199848', '514.6', '13.189225', '424300', '2023-01-03', '87.6275', '37.36443', '5.226974', '65.4425', '72.43', '310.08', '96.6', '5.562515', '-121.798338', '136.8', '10.853491', '14.676788', '5.512805', '-121.9492035', '37.259679', '13.43156', '83.16', '148.6', '102.4675', '40.85', '-121.79698', '471719', '409.12', '-122.0239868', '37.25080109', '113.0', '32.8475', '0.676673', '99.68', '65.9375', '37.4068222', '-121.938572', '221.7', '149.44', '26.298292', '37.3272', '152.84', '1.281889', '4.545', '76.7725', '37.27125931', '65.7125', '37.320755', '9.304412', '102.245', '104.3375', '92.0725', '-121.8885421', '1.176877', '-121.9148712', '1.290588', '483825', '-121.8442688', '96.04', '13.737274', '-122.049488', '116.6675', '232.25', '2023-02-18', '-122.1583481', '33.275', '8.453755', '242.84', '3.98796', '46.2', '305827', '452813', '480968', '423283', '13:28', '491018', '-121.940121', '200.4', '0.853764', '3.584069', '37.302545', '68.56', '15', '37.23058701', '441437', '-122.095334', '475647', '<DR>', '37.31402', '-121.8285217', '-121.93228', '7.629817', '2023-02-14', '13.346432', '-122.108079', '463626', '158.16', '2', '60.1125', '37.302845', '417084', '15.930093', '476534', '37.35954285', '18.812014', '2022-02-23', '2022-10-15', '448.2', '-122.169397', '3.666711', '419.68', '146.36', '14.237478', '7.767761', '2022-07-09', '28.727234', '37.25196838', '2022-04-07', '471184', '100.4225', '64.24', '0.257869', '43.535', '24.725', '-121.972022', '478592', '37.311219', '57.7925', '-122.096559', '37.33177948', '35.3', '95.56', '439.56', '37.32392883', '-122.23983', '82.105', '-121.91413', '14.970075', '481832', '1.059438', '448411', '75.895', '-121.966122', '462.16', '37.2526901', '99.0475', '-121.847262', '472336', '08:51', '-121.936863', '2023-02-13', '-122.19284', '2022-06-22', '5.767567', '47.925', '50.895', '-121.9755173', '50.425', '75.005', '1.559642', '-122.002699', '426.52', '44.075', '10.712439', '3.056525', '449537', '20.63698', '37.25193787', '5.592341', '8.982542', '31.16', '390524', '-121.9385681', '-121.659084', '42.225', '37.2933197', '452535', '199.5675', '112.44', '2022-08-18', '-121.9106293', '35.6375', '65.6225', '37.3783992', '415.92', '56.915', '25.729116', '2022-11-05', '35.0525', '135.7925', '78.36', '09:40', '298141', '104.36', '86.0975', '1.616186', '13.453308', '-122.2829619', '79.52', '37.364767', '67.9625', '3.844424', '-121.8805285', '37.435965', '149.36', '1.633585', '427780', '325.45', '61.775', '79.1575', '37.290755', '-121.9681625', '199.76', '37.23414993', '-121.9181747', '-121.847763', '207.195', '1.89891', '111.9425', '83.6575', '2022-04-05', '37.335594', '2022-10-27', '0.65244', '37.33278495', '113.6', '-121.9378561', '89.56', '2023-01-11', '6.943202', '139.56', '445143', '37.457545', '0.869298', '101.2', '115.2', '2.745218', '14.343733', '97.9925', '169.28', '6.101244', '17:10', '2022-07-04', '12.899666', '37.40781403', '41.4425', '37.31361008', '37.336334', '43.13', '133.68', '216.69', '498000', '13.500532', '-121.994741', '433453', '-121.9148788', '37.34808731', '9.503872', '104.0', '37.3', '237.72', '37.31562805', '0.600866', '37.320418', '37.34201431', '9.528106', '438.44', '-122.16861', '13.058116', '37.30210114', '37.352511', '248.8', '-121.9453278', '-121.8031964', '129.45', '2021-12-11', '178.36', '37.23058716', '2023-01-04', '423899', '-122.016716', '37.29575', '433.52', '127.52', '107.3975', '37.29918671', '37.34086227', '2021-12-26', '37.382395', '8.889336', '481951', '484588', '42.86', '47.5', '104.855', '10.210993', '-121.7826157', '10:35', '61.3925', '59.9975', '406.6', '06:14', '2022-05-04', '42.5', '85.68', '37.29421234', '35.3225', '108.4325', '142.275', '3.245422', '218.4', '11.121302', '196.4175', '6.984212', '446024', '173.825', '-121.876646', '-121.813016', '409.6', '9.861161', '7.425', '450383', '-121.9157104', '10.977143', '-121.977497', '-121.7720413', '14.668088', '10:53', '439288', '33.95', '104.08', '242.88', '53.3225', '0.874269', '280.28', '85.9075', '127.7175', '14.271654', '37.31127', '284031', '2021-12-09', '16.550222', '-121.938575', '291.027', '37.2531345', '25.085', '33.5', '10.720517', '2023-02-28', '-122.0141068', '450718', '30.0125', '240.0', '467638', '-121.8805084', '12.595194', '486981', '-121.966869', '37.33110276', '37.40326309', '-121.79773', '37.2883606', '1.796384', '-121.8630371', '-121.9666537', '225.8025', '18:30', '-121.8653641', '37.30213547', '14.198332', '451.16', '4.208547', '9.9', '97.925', '37.364695', '6.04532', '-121.781462', '472283', '429922', '303097', '248.48', '259.08', '11.917278', '37.02376938', '37.15', '37.40516663', '210.12', '-121.8468704', '-121.857872', '2022-06-27', '486146', '7.402395', '290.85', '469321', '2023-02-10', '413.0', '390536', '168.4', '2.036233', '110.4', '131.7675', '-122.176238', '52.94', '150.8025', '468671', '17:45', '37.256957', '73.84', '36.983382', '-122.1419808', '37.39339066', '37.30714035', '4.32785', '37.308551', '37.4191246', '465983', '3.492727', '-121.948457', '30', '58.385', '43.6975', '05:00', '2022-01-06', '4.185', '-121.933667', '51.66', '-121.949219', '41.9825', '94.56', '14.788634', '-122.0694199', '42.6575', '-121.9777298', '37.482689', '122.1325', '-121.966127', '37.45004272', '75.6475', '489974', '3.640614', '204.81', '138.0675', '78.73', '294136', '128.955', '227.76', '-121.8529867', '37.351109', '199.995', '12.780363', '2022-03-23', '37.3021431', '15:20', '37.378453', '11.643875', '-122.0273514', '113.24', '2022-09-20', '14.834616', '6.697139', '2021-12-10', '490868', '125.715', '1.73114', '2022-11-04', '250.6', '7.604962', '3.163401', '21.5975', '-121.856096', '468045', '152.0', '05:31', '37.305525', '-121.9483795', '89.35', '34.7375', '37.12130737', '491728', '-121.916831', '77.465', '37.32672882', '11.636418', '479080', '121.7775', '3.895376', '37.33909225', '340552', '37.3120588', '170.76', '51.3675', '58.8725', '-121.8883286', '66.95', '454060', '13:10', '475662', '37.42672729', '99.64', '138.9', '424845', '4.677682', 'SC402', '2022-03-01', '311.48', '2022-09-15', '75.9725', '251.655', '244.04', '60.15', '33.995', '-121.9255905', '189.6', '2021-11-23', '1.134624', '57.625', '2.213946', '47.725', '415881', '2022-07-22', '4.688867', '-121.800425', '2.562535', '215.35', '252.8925', '09:35', '-121.828355', '85.94', '203.0', '-122.0461502', '454054', '308.4', '94.705', '107.56', '30.5525', '13.373772', '472950', '201.165', '33.725', '179.32', '78.055', '37.38211441', '12.3975', '254.0', '12.88786', '1.653469', '3.334899', '-122.1333084', '388867', '459180', '93.9625', '5.398473', '295.64', '-122.050784', '361.85', '86.88', '65.6675', '82.115', '2022-05-20', '212.55', '421842', '65.9825', '2022-03-19', '7.529776', '6.369055', '2.3625', '-121.8767471', '14.835237', '-122.1418915', '139.9575', '179.2', '2021-12-27', '78.75', '7.558981', '284.64', '254.48', '111.365', '71.0675', '6.487737', '-121.8114014', '168.44', '37.036621', '5.957707', '-121.948869', '129.55', '-121.9854584', '436173', '-122.082233', '445104', '26.239883', '-121.850529', '37.2519668', '471515', '422.8', '9.591486', '2.20711', '-121.8165332', '-121.8932114', '-122.0951004', '471377', '190.7', '54.3375', '443818', '34.85', '130.4175', '105.04', '2.962076', '95.31', '434721', '199.545', '14.627699', '-121.84687', '2.933493', '201.56', '-121.947181', '-121.8514328', '2022-06-30', '37.825', '12:25', '47.8775', '433.44', '53.6825', '7.184294', '53.3025', '37.24178696', '37.31606674', '79.6', '321.48', '-121.8120956', '5.512184', '194.48', '54.4575', '2023-01-23', '2.091535', '7.859103', '202.52', '37.3158226', '-121.9790497', '5.51032', '12.414996', '1.084914', '63.45', '-121.946351', '36.97683334', '76.075', '14.504668', '37.32777405', '50.025', '427973', '441665', '2022-12-14', '430199', '96.08', '41.96', '29.9', '37.26993', '106.15', '3.51199', '481864', '88.54', '37.24335861', '496217', '44.79', '2022-08-31', '498531', '14.28346', '300230', '6.210605', '2022-10-17', '486100', '2022-04-11', '-121.8348389', '232.6', '-122.079787', '37.35317993', '-121.928447', '-122.081266', '8.289092', '291.76', '81.12', '444913', '-121.8273468', '97.3625', '-122.163385', '14:45', '101.255', '13.498046', '37.244402', '-122.178883', '26.7725', '477685', '5.213926', '-122.0222222', '3.446746', '210.08', '443.28', '388690', '143.85', '37.31555176', '72.6425', '25.2', '81.79', '-121.8272247', '1.906367', '-121.89272', '37.245643', '14.584825', '37.31129777', '48.7325', '68.085', '12:35', '2.042447', '2022-04-27', '142.68', '14.385364', '36.5825', '36.425', '174.96', '163.44', '3.007437', '227.4675', '246.12', '164.92', '-121.937325', '37.326345', '7.49', '9.858675', '37.3112767', '37.33240509', '93.85', '5.185343', '-121.962473', '9.979221', '481803', '17.244915', '34.660084', '37.330322', '1.667139', '65.06', '-121.87755', '422720', '64.8575', '4.965377', '260.08', '-121.8491516', '4.027728', '63.475', '14.550028', '-122.0934067', '-122.1582184', '150.4', '5.328879', '11.949589', '155.92', '9.442978', '25.4225', '154.48', '125.175', '2.259927', '37.235', '88.0', '6.759897', '175.0', '37.32243729', '37.262767', '66.4', '37.252048', '7.660264', '284.48', '445291', '114.0125', '15:30', '16:40', '2021-12-22', '37.31568909', '419443', '133.5', '112.325', '37.329043', '8.717216', '-121.999939', '5.967649', '37.34728241', '2023-02-08', '2.517796', '62.255', '-121.787519', '103.6925', '434756', '126.14', '66.825', '25.2425', '482046', '37.29465866', '489972', '127.6', '12.471541', '417096', '196.92', '122.63', '2.016971', '37.326649', '467.32', '127.805', '218.9175', '27.9875', '2.832831', '101.12', '-122.20301', '-121.811386', '200.0', '56.55', '37.31681061', '50.05', '5.953979', '229.32', '79.2925', '2.74149', '37.25334167', '45.0', '-122.1101379', '-121.826375', '37.26893997', '12.394491', '430467', '484888', '-121.9195938', '2.205868', '-121.8993912', '409.76', '208.16', '11.339403', '37.251763', '9.443599', '4.10105', '87.73', '-121.9509048', '2022-01-27', '23.170933', '218.4225', '11.492882', '37.323912', '75.6925', '9.37', '228.345', '12.65236', '32.6225', '476006', '83.275', '9.372142', '4.679546', '53.385', '62.45', '-121.7421799', '11.216993', '183.96', '18.95', '88.48', '50.0375', '107.6', '340125', '5.558165', '-121.8834915', '2022-12-08', '34.75', '50.85', '29.2925', '94.9', '3.608924', '106.07', '6.961221', '5.228217', '2021-12-31', '13.967803', '6.086331', '87.55', '37.4017868', '16:15', '-121.9337045', '36.475', '8.618418', '47.281376', '37.250221', '426509', '37.235674', '1.496262', '75.725', '37.31916809', '135.56', '-122.312779', '37.24571609', '6.845646', 'SC204', '37.317361', '37.30181503', '5.149303', '75.22', '-122.0803223', '-121.919593', '429915', '1.862249', '2022-07-18', '-121.8779449', '218.805', '1.623022', '8.835898', '47.9925', '408.8', '1.04701', '26.146057', '481143', '149.0025', '28.2575', '129.245', '9.640574', '-121.7651423', '13:50', '4.917532', '-121.9790344', '37.3440656', '442.8', '84.04', '436248', '-121.8551115', '2021-12-08', '66.5225', '-121.8783188', '-121.9384537', '34.9', '37.251457', '56.825', '-121.9241562', '37.329922', '37.2401061', '37.29946136', '5.173537', '472333', '328.88', '37.230265', '59.8725', '142.185', '2023-01-20', '21.0125', '37.322655', '134.445', '1.614944', '94.625', '64.2', '98.35', '470471', '2022-03-16', '37.299742', '37.35015106', '37.04709625', '77.75', '2023-01-10', '2.056117', '61.6625', '45.74', '-121.890558', '17:30', '9.537426', '218.3325', '5', '-121.8610992', '79.135', '14.536358', '116.0825', '0.451115', '478096', '37.23849487', '31.7225', '37.2799183', '15:50', '56.2625', '142.995', '254.66', '206.25', '388498', '14.661253', '447498', '37.3784523', '15.109262', '23.645', '12.487697', '-121.9127045', '-121.9323654', '2371.185', '498034', '24.815', '493323', '2022-02-19', '49.025', '37.34238434', '82.88', '47.97', '2022-11-02', '22.701797', '181.2', '-121.8071213', '08:45', '450299', '-121.914344', '98.48', '471511', '172.04', '69.56', '12.423696', '9.150934', '-121.9513702', '118.12', '424181', '494993', '13.69005', '49.7675', '86.2675', '424843', '82.3625', '2022-01-07', '37.29072189', '102.3775', '204.8325', '70.8', '5.294704', '464486', '42.0725', '495595', '37.45754623', '493632', '3.749354', '37.32129288', '4.915046', '10.614884', '212.25', '52.76', '13.050038', '39.4625', '31.8125', '90.7', '438676', '5.191556', '254.12', '243.08', '25.872032', '-122.0472107', '467562', '82.015', '-121.9044571', '5.004524', '37.32540512', '08:16', '13.575718', '7.62236', '37.26333618', '110.345', '37.342815', '37.342148', '0.628206', '18.790264', '193.28', '-121.834602', '30.7775', '65.92', '73.12', '128.8375', '37.37372', '128.38', '96.25', '27.875', '20.197048', '28.773214', '-121.8388824', '197.3625', '37.38031769', '388689', '-121.8938522', '-121.8054962', '144.4575', '-121.748092', '440925', '224.3', '291.85', '37.25110344', '-122.050802', '20.0', '21.9125', '-121.9993973', '259.76', '55.91', '37.31490707', '37.35326004', '37.34034348', '196.05', '37.371524', '37.436611', '98.195', '-121.9372733', '10.430958', '171.92', '49.385', '123.7775', '37.365158', '429475', '-121.8134221', '-121.824018', '29.1575', '498302', '60.6725', '0.651818', '124.745', '8.072855', '14.788013', '2022-01-03', '2021-12-03', '10.860326', '84.625', '13.0', '13.568261', '15.125418', '7.120914', '66.41', '47.9', 'SPNWC', '431337', '116.9825', '37.955', '485738', '-121.9337082', '37.353181', '4.681411', '05:14', '213.0675', '430018', '388702', '-121.8114', '54.75', '213.6525', '388505', '437652', '38.9', '479118', '159.88', '37.240995', '146.8875', '-122.0236567', '441944', '139.125', '182.1', '2023-03-07', '173.12', '488480', '49.7', '25.645231', '37.38199615', '8.586107', '6.548631', '3.404493', '49.4975', '8.07', '37.485725', '-122.178922', '52.1075', '248.76', '80.16', '2.540165', '254.35', '75.175', '2022-04-13', '37.31735992', '45.9375', '216.6', '11:50', '37.31860733', '45.9', '8.164196', '11.8', '59.3', '1.05136', '68.925', '27.381964', '-121.850267', '-121.800566', '199.64', '10:50', '-121.931243', '82.6325', '75.95', '388896', '64.79', '-121.937331', '7.115322', '488876', '3113.49', '-121.784935', '1.894561', '22', '83.9375', '2.594225', '0.354803', '9.930133', '37.376552', '12.328626', '497730', '9', '456455', '-121.850262', '77.2', '-122.0371246', '-121.969598', '-121.8271332', '2.382337', '7.043242', '75.14', '-121.965172', '5.424571', '71.12', '3.548651', '4.206683', '93.8275', '11.7', '2022-09-22', '206.2725', '37.323217', '224.96', '201.3675', '24.95', '50.91', '15.052717', '5.467445', '65.2625', '102.1075', '0.351075', '37.367029', 'SC201', '79.145', '142.95', '437.16', '37.30985641', '3.332414', '3.618866', '37.45663452', '388552', '510.417', '27.7175', '76.57', '37.29832077', '117.76', '9.326782', '-121.9525375', '-121.834776', '37.368307', '82.6', '204.4', '-121.8917009', '79.085', '491978', '151.0', '469924', '-122.444407', '-121.85442', '159.52', '-122.0557938', '4.867822', '-121.8169327', '37.3633586', '84.2425', '109.8725', '10.815587', '2022-09-21', '37.32629', '285.92', '31.5425', '2.265519', '37.315712', '252.6', '20:00', '37.32265472', '12.480862', '8.164817', '35.75', '152.625', '126.8', '-121.8777618', '7.630438', '-121.877706', '37.301917', '102.4', '131.43', '85.075', '492130', '2022-02-28', '221.64', '479440', '13:12', '423499', '42.3875', '6.566029', '496596', '37.37517929', '37.364299', '466035', '428209', '1.557778', '-121.8753815', '2.558185', '9.704575', '24.39317', '37.256263', '37.282763', '7.331559', '-121.937294', '8.318918', '325.9', '88.865', '32.009937', 'STR', '473373', '171.48', '94.525', '390538', '62.55', '2022-01-31', '185.56', '6.535582', '93.9175', '37.38991928', '2022-08-06', '427287', '220.28', '25.7825', '128.4', '495385', '471277', '6.549252', '57.6', '131.2725', '453310', '-121.949513', '-122.202997', '198.3075', '-121.9401321', '34.04', '-122.086596', '222.63', '17.2648', '41.825', '99.005', '7.594399', '404.72', '139.0125', '463942', '224.7225', '458562', '39.125', '8.507193', '3.512611', '5.169808', '37.36335754', '05:58', '-122.0804749', '105.1475', '-122.20298', '266558', '05:30', '60.4475', '2022-02-05', '1.051981', '88.6', '37.253205', '391099', '37.255366', '489524', '-121.8491523', '452812', '24.2975', '289.05', '-121.936818', '34.2649', '2022-04-06', '9.551097', '436969', '35.1875', '108.32', '76.625', '3.37156', '85.84', '37.313512', '48.35', '-121.8788986', '8.494144', '2022-12-29', '67.76', '2022-08-20', '275891', '37.294478', '11.103282', '2.975747', '37.32752991', '11.69172', '427981', '37.305122', '114.48', '-122.438235', '23.071512', '96.4625', '2022-10-12', '9.712653', '07:50', '-121.9648438', '-121.8451485', '2023-03-08', '37.25579834', '18.126019', '5.158624', '177.8925', '146.795', '7.881472', '37.39995956', '120.0', '04:30', '37.31482315', '2021-10-30', '42.0275', '2022-08-10', '37.325318', '-122.1255493', '51.87', '-121.964842', '43.8275', '1.85355', '2.8639', '479814', '41.015', '37.3507843', '-121.8757935', '80.665', '34.715', '390527', '429941', '88.0225', '61.0', '37.38366699', '38.45', '3.767995', '9.85619', '120.585', '6.731314', '104.28', '78.9775', '154.4', '150.175', '88.9', '120.8', '478017', '2023-02-09', '464659', '1.344647', '77.805', '39.485', '245.52', '11.784926', '37.31283951', '37.32075', '538.64', '2023-01-17', '-122.084668', '5.210197', '26.2125', '26.3', '-121.8401642', '-121.9505386', '-121.918818', '104.8525', '69.36', '7.758441', '37.40116119', '10.768984', '497192', '388739', '37.362705', '29.584724', '28', '1.692615', '10.285557', '299.04', '-121.962736', '134.48', '-121.8272171', '-121.8323669', '-121.9348076', '97.97', '17.056019', '37.37473679', '2022-08-03', '346.15', '52.52', '84.6475', '33.32', '420112', '483866', '265163', '12.134758', '13.41354', '19:30', '-121.9597321', '-121.860458', '37.38196182', '37.250796', '60.7925', '494016', '39.2825', '37.32246399', '143.6475', 'SC205', '435946', '454827', '37.35292435', '37.364736', '-121.8130951', '12.500746', '10.754693', '468479', '37.23026657', '4.172508', '15.152758', '80.4', '12.879782', '-122.0751572', '116.2625', '28.055', '24.5', '81.2', '37.316285', '495578', '37.27708435', '-121.913952', '37.250782', '-121.847641', '-121.8650818', '73.5325', '37.343994', '-121.827095', '96.9125', '46.6175', '202.65', '2021-12-30', '21.4625', '37.3207582', '91.0825', '-121.79774', '25.3325', '427107', '222.225', '226.4325', '3.085108', '495654', '161.65', '37.48573303', '69.0875', '4.559', '12.891588', '-121.916852', '94.75', '388494', '60.0', '37.30178833', '282.85', '390535', '-121.557032', '-121.817141', '422452', '0.71147', '-121.874813', '134.56', '66.12', '-121.9008713', '2.983824', '81.48', '419439', '2022-11-08', '108.385', '6.819549', '13.593116', '37.34736633', '8.264858', '459170', '52.08', '2023-03-09', '481097', '2022-03-22', '-121.8023911', '253.6', '24.185', '57.44', '133.725', '3.397658', '2023-03-11', '37.323662', '6.732557', '496750', '37.35818863', '37.30810165', '37.27862549', '43.22', '71.675', '6.303189', '110.705', '2022-12-20', '37.356946', '02:45', '437.96', '37.30309', '81.7', '38.09', '71.5975', '138.515', '28.8875', '2022-03-31', '234.56', '135.68', '2021-12-24', '6.111807', '52.2', '-121.846095', '2022-07-15', '37.320332', '37.30266571', '37.30886841', '0.587817', '37.34174728', '-122.076815', '74.6', '37.201643', '4.327229', '-121.9573822', '9.490202', '154.0425', '144.4', '37.35324097', '5.412143', '-121.875796', '25.7375', '225.0', '-121.94716', '465978', '-121.8684006', '-121.9436441', '46.095', '93.32', '65.6', '-122.0222244', '473264', '12:20', '3.43494', '4.914425', '31.9475', '-121.801024', '6.925182', '37.31605559', '7.891414', '37.362537', '82.195', '-121.8886337', '4.740441', '-121.9348145', '113.63', '2.615351', '7.833627', '5.517776', '-121.899353', '14:00', '11.652574', '424839', '37.325', '36.834338', '206.7675', '428211', '88.45', '12.369636', '02:15', '2022-02-16', '37.73', '11.259246', '488174', '-121.938465', '15.975', '418840', '37.30308914', '37.31269117', '37.34177017', '314.92', 'SC107', '8.172895', '2022-03-09', '122.04', '247.0125', '6.070175', '27.4925', '479431', '-121.937461', '442683', '35', '-122.059964', '88.675', '-122.0306778', '2022-09-03', '37.357082', '2022-08-24', '-121.8130188', '170.68', '37.485736', '97.52', '8.726537', '207.85', '2022-05-21', '-121.940099', '-121.8479538', '37.448482', '-121.9525452', '-121.8766251', '2022-01-10', '46.3025', '456983', '80.44', '171.64', '2022-10-18', '0.347346', '9.856811', '-122.0556107', '37.332314', '4.50432', '37.27342606', '210.28', '25.49', '7.899492', '109.1975', '2.596089', '2022-07-19', '77.965', '-121.804943', '37.31607056', '249.72', '498033', '491016', '40.2', '90.76', '505.45', '5.412764', '37.485471', '-121.82902', '199.55', '8.280393', '476008', '37.2454899', '174.86', '1.804462', '35.375', '13.278081', '224.0025', '5.701081', '91.375', '37.22894287', '8.896171', '123.3075', '2022-12-27', '61.28', '37.262116', '7.448376', '6.514456', '60.075', '480556', '37.395482', '15.885976', '9.631875', '62.0', '37.282785', '12.573446', '37.38319', '6.236081', '472531', '37.29574966', '37.40050888', '5.479251', '15.319285', '10.817451', '388567', '37.31855011', '228.57', '10.824908', '54.2925', '461982', '296.48', '44.1425', '170.92', '401.90103', '1.614322', '10.069942', '68.525', '89.8', '5.070389', '12.290101', '37.35160828', '175.825', '2022-05-18', '4.150138', '41.15', '78.515', '195.52', '48.1275', '-121.9035263', '403.4', '84.365', '126.165', '2022-04-20', '36.1325', '6.40323', '2022-03-24', '300.56', '37.31994247', '425405', '72.655', '390539', '-121.8348397', '492697', '39.395', '-121.8153305', '37.327402', '5.318316', '1.786442', '125.4', '37.24393082', '8.965144', '12:05', '-121.838105', '86.6375', '233.4', '-121.9526901', '124.72', '23.785467', '350.56', '13:30', '32.5775', '480718', '90.9025', '37.3593483', '9.673507', '12.346646', '5.267985', '-121.8674927', '378.32', '441.72', '37.247178', '2.581797', '37.3401237', '209.08', '100.9', '7.225926', '107.0375', '37.2831545', '2022-11-30', '2022-05-23', '261.92', '84.085', '37.261959', '2022-08-05', '142.05', '2022-10-28', '54.0875', '388691', '77.04', '254.4', '37.1675', '243.52', '254641', '8.02998', '2.439503', '96.3', '64.43', '47.5175', '265.48', '0.497097', '13.225886', '-121.924667', '248.15', '177.04', '388496', '2022-08-04', '58.7375', '428208', '490818', '11:20', '58.085', '182.28', '8.686769', '65.33', '37.3458252', '2022-11-03', '15.81079', '6.532475', '214.44', '37.269029', '180.16', '204.225', '11.009455', '37.29574585', '37.27531433', '37.305172', '34.183884', '-121.8775787', '134.3325', '497807', '-121.84928', '97.28', '43.9625', '-121.8113861', '463.56', '-121.8672638', '07:40', '469247', '37.35974121', '265593', '71.99', '323365', '-121.951941', '25.6025', '104.6075', '286.04', '-121.6596527', '2022-07-14', '55.375', '1.702557', '9.436764', '0.596516', '126.66', '430004', '478007', '456595', '41.7575', '93.36', '464269', '-121.7894211', '44.885', '37.54439163', '-121.8397293', '-121.952693', '54.245', '-122.059639', '2023-01-26', '90.035', '253.7925', '545.72', '37.30013657', '45.25', '192.32', '-121.850283', '2.551971', '64.4', '84.36', '123.12', '1.863492', '216.6675', '34.3325', '2022-12-19', '468284', '5.07536', '9.291985', '37.2518', '472343', '99.2', '15.175749', '65.1', '132.68', '2022-09-30', '110.28', '-121.8564682', '57.8', '494299', '101.165', '13:35', '388852', '232.68', '5.714751', '-121.848923', '476751', '37.350337', '-121.9619133', '2022-09-01', '496579', '272.08', '-121.9451904', '13.164991', '08:30', '137.1675', '2.159265', '5.069146', '41.105', '23.1725', '191.84', '66.0725', '-121.900259', '11:40', '217.185', '79.64', '-121.8240204', '37.3626883', '132.195', '0.595895', '10.883316', '29.7', '464606', '83.51', '-121.928093', '473140', '-122.019371', '5.808578', '240308', '-121.885512', '455403', '37.38517761', '28.55', '494777', '16:10', '141.76', '420.45', '19:00', '121.4175', '58.835', '2.566263', '72.8', '217.0275', '5.212683', '97.8775', '8.721566', '80.0', '92.44', '53.8', '247.68', '299.32', '2022-03-18', '498209', '-121.937128', '37.282473', '62.4', '35.66', '472180', '29.7225', '37.33658981', '477862', '93.805', '05:45', '8.24746', '148.6875', '-121.8765259', '7.961629', '-122.0220032', '495655', '44.34167', '14.814732', '222.7875', '73.7975', '37.364828', '78.4825', '92.995', '71.92', '37.320807', '14.4649', '37.252995', '407.04', '15.631835', '124.005', '-118.7873535', '1477.88', '92.735', '1.609973', '137.91', '8.046136', '13:15', '9.31684', '129.81', '37.247209', '72.79', '38.0225', '169.36', '37.308179', '36.785', '2022-11-01', '99.5425', '32.83574', '9.550475', '-121.8270264', '131.5', '-121.8002777', '479097', '16:35', '1.334705', '6.649293', '48.15', '9.490824', '87.145', '428.32', '-121.9667816', '6.165', '37.259313', '30.755', '0.201324', '-121.8560181', '37.25194168', '23.910986', '37.3985672', '13.399248', '37.377221', '78.38', '93.5225', 'SC101', '19.563871', '0.0', '437387', '36.2225', '200.2', '19.191671', '390523', '37.40148163', '16.83481', '4.419813', '83.88', '83.5', '39.0125', '48.0125', '117.5675', '298.6', '37.757303', '-121.93367', '294.3', '84.8275', '-121.994908', '37.32077789', '34.6025', '12.889103', '212.1675', '15.76543', '414417', '-122.0330505', '-121.5676498', '-121.5949326', '37.325106', '-121.90464', '50.15', '171.8', '7.62671', '-121.875006', '93.28', '37.3646965', '-121.972023', '77.03', '425970', '85.76', '187.32', '-121.914535', '2022-10-19', '62.6325', '92.0275', '102.45', '84.7375', '-121.9667892', '143.8275', '12', '41.375', '14.821567', '112.3225', '202.88', '-122.26309', '84.3325', '99.4', '12.764207', '2022-10-22', '183.725', '14.394064', '481662', '37.298845', '26.165', '44.43', '8.527698', '388824', '74.05', '426890', '449096', '121.85', '7.615525', '197.92', '9.646166', '37.35009003', '-121.9642258', '21.14', '9.223634', '2.271112', '75.45', '9.52562', '-121.9516907', '74.14', '428680', '87.5', '84.05', '467904', '07:45', '180.48', '37.4257575', '37.3056317', '212.46', '37.301782', '14.280353', '29.125', '37.33200455', '132.4', '421.64', '36.55', '37.26489639', '-121.8325653', '117.3175', '19', '37.28437042', '3.538088', '14.868791', '485015', '408.16', '108.25', '103.32', '37.4852386', '37.2768364', '2022-04-26', '31.1825', '37.26993561', '10.578845', '1.592574', '12.885374', '52.85', '-121.920559', '-121.8368073', '6.695896', '2.140002', '437894', '52.875', '421570', '180.52', '78.4375', '388980', '-121.877709', '8.469289', '19.491793', '13.4325', '9.810208', '-121.8411942', '-122.0505018', '77.975', '-121.913537', '215.36', '143.9175', '12.882268', '-122.020642', '427064', '289726', '75.85', '50.22', '264.8', '96.155', '34.4', '84.15', '436.6', '-121.9509724', '2023-02-15', '-121.8203354', '-121.8646851', '388873', '468449', '21.115437', '153.32', '40.9475', '-122.0713806', '491458', '6.601448', '77.9425', '2021-12-14', '135.0', '72.26', '43.45', '45.245', '31.3625', '429888', '10.868404', '-121.8007', '499482', '63.6', '11.216371', '-121.84795', '251.08', '37.376467', '37.36489868', '4.176236', '8.309', '8.052349', '10.818072', '9.641195', '337024', '-121.825063', '10.312898', '102.0', '37.332648', '2022-12-09', '15.218002', '12.6', '388723', '49.745', '121.5975', '26.139221', '446758', '426354', '10:39', '13.690671', '37.36441422', '208.92', '401.4', '2.358104', '440694', '423302', '10.290528', '110.57', '-121.9228439', '8.830306', '279.8', '37.3829422', '88.55', '2022-08-15', '89.44', '28.652046', '81.6325', '177.825', '19.230196', '388525', '9.424958', '-122.1736502', '6.807743', '1.319792', '2.154915', '437377', '111.32', '64.89', '-122.087077', '37.399386', '2.815433', '2023-03-01', '176.24', '102.2', '11.29715', '80.8', '17.258585', '2022-09-23', '43.35', '158.725', '25.985', '2022-05-25', '37.32979965', '88.36', '37.35953522', '4.43659', '13.197924', '11.454357', '444003', '485022', '442181', '-121.892739', '-121.945155', '-121.8886681', '22.130135', '4.07371', '30.1475', '54.47', '-121.8171997', '1.896425', '388938', '427699', '5.448183', '12.449793', '37.33812714', '37.485391', '-121.9377899', '-121.8134232', '70.135', '111.2225', '67.1525', '5.955843', '2023-03-02', '56.135', '7.406123', '18.101786', '499196', '2.700479', '175.88', '64.6325', '485930', '15:05', '2.322686', '51.705', '37.26900482', '-121.6506729', '233.25', '2022-03-25', '2022-04-25', '463427', '-122.081095', '3.929551', '-121.819404', '37.44872284', '37.226209', '2022-10-25', '226.95', '433228', '37.3185997', '-122.1578217', '-121.8212509', '5.290354', '3.731955', '483182', '37.314241', '37.25702286', '6.977377', '30.665', '101.6', '428865', '10.590651', '20.744476', '136.68', '37.250768', '44.615', '6.240431', '218.04', '485397', '61.505', '254.64', '37.45068359', '251.52', '32.105', '2.272976', '246.04', '-121.810851', '39.175', '168.56', '37.3275528', '14:35', '49.56', '47.764805', '9.467211', '22.937918', '4.511776', '88.27', '6.218062', '37.42830276', '100.805', '12:45', '8.793024', '5.299054', '106.475', '202.72', '37.47801208', '2022-07-31', '37.263757', '61.55', '487905', '85.6', '2022-06-09', '204.855', '37.22948456', '440924', '14.239342', '178.96', '427070', '472286', '-122.1013718', '38.72', '4.382531', '-122.0238342', '08:50', '37.24018478', '388993', '329.5', '2.661954', '05:20', '9.759256', '-121.9653033', '208.32', '2021-11-24', '1.71747', '-121.8152924', '388541', '13.996386', '64.6', '2022-06-06', '186.88', '86.785', '2022-01-26', '15:40', '-122.018348', '443600', '14:15', '-121.81915', '37.226153', '437208', '163.64', '2022-07-20', '50.49', '3.228023', '96.2', '9.90155', '2022-07-07', '101.59', '11.833393', '-121.828927', '55.5725', '108.79', '39.17', '10.379384', '121.35', '22.52', '2022-12-07', '32.375', '313232', '4.060661', '86.03', '80.755', '-121.847424', '9.010504', '27.7625', '146.6', '-121.970319', '189.44', '58.6025', '-121.9719723', '-121.77358', '7.461425', '39.6225', '37.674878', '105.795', '150.52', '-121.853813', '164.04', '37.95', '37.27534866', '494730', '2022-05-14', '107.9', '2022-01-24', '309.52', '199.14', '4.852288', '37.326179', '156.0', '1.115361', '187.55', '486102', '45.335', '37.32587', '46.2975', '-122.105277', '85.12', '425.64', '61.24', '1.284374', '2022-03-05', '-121.809449', '218.85', '-121.8912888', '190.76', '485895', '2022-02-11', '-122.0183334', '156.24', '60.345', '445.2', '8.167924', '19:15', '135.7725', '31.43', '216.285', '2022-09-02', '29.21501', '121.9575', '36.9425', '43.4', '-121.852313', '2023-02-21', '08:55', '299.16', '-121.944313', '124.28', '429233', '73.9375', '55.92', '-122.504692', '392.2', '87.7525', '152.08', '59.625', '53.8625', '-121.9421005', '36.335', '32.3975', '51.855', '3.495834', '151.2', '12.096233', '78.19', '2023-03-05', '57.195', '135.16', '-121.8855133', '37.359541', '130.125', '98.8', '43.8', '2.223887', '471741', '-121.923356', '104.56', '199.05', '37.23456192', '101.2175', '-121.909329', '4.097943', '419281', '37.34162521', '459184', '37.318903', '-121.933504', '12.938191', '8.520242', '-121.8036041', '461788', '94.48', '-121.814151', '188.2', '437895', '-121.846966', '99.35', '3.432454', '70.235', '-122.0142746', '84.08', '11.817237', '100.5', '8.159846', '388677', '1.712499', '390540', '24.05', '2022-07-30', '61.4', '-121.7835388', '160.28', '2022-09-28', '6.09068', '2022-07-16', '418428', '52.05', '37.390236', '76.8625', '300605', '483859', '82.3975', '13:20', '296.5', '49.115', '483247', '482393', '16:30', '37.425486', 'SPNSTR', '135.4', '70.325', '27.472063', '11.555019', '-122.0330048', '452395', '2.015107', '85.08', '37.352643', '251.6', '15.75', '7.8525', '6.907784', '1.568962', '6.592748', '6.82017', '37.38599014', '0.920251', '193.32', '88.84', '37.41765594', '49.6775', '3.513854', '88.63', '30.5975', '2022-05-30', '66.725', '150.8', '172.1375', '401.2', '77.15', '103.72', '24.76475', '79.1', '494772', '9.106816', '4.115341', '67.4', '478040', '-121.94529', '137.1225', '76.8', '469055', '228.55', '388535', '132.375', '8.868831', '89.125', '2.002679', '37.25297165', '303.6', '-121.8279037', '54.3675', '11:00', '9.405', '-121.8062439', '37.320746', '103.3025', '30.305', '390522', '37.82152939', '-121.9759216', 'SC302', '37.332112', '14.308314', '146.4125', '133.0', '33.22161', '207.1275', '96.0', '167.95', '37.27633286', '-122.0077133', '10.83982', '-121.94428', '81.62', '309.96', '-121.9104614', '-121.948879', '56.16', '2.315229', '477505', '9.894715', '409.32', '73.35', '495189', '2.757645', '8', '106.1825', '483420', '470730', '295.12', '298777', '37.784355', '37.24677277', '2022-06-17', '3.97864', '37.362046', '417094', '3.991689', '3.008058', '298.75', '132.56', '-121.940134', '37.332157', '2022-11-21', '31.025', '101.96', '319.2', '201.0', '38.85', '52.9425', '2022-01-01', '249.8', '429211', '3.88357', '68.175', '51.14', '388684', '493199', '11.18841', '85.93', '208.725', '37.485734', '37.34097672', '5.299675', '412.56', '434762', '-121.8635483', '-121.888064', '63.35', '129.855', '82.0375', '4.118448', '06:45', '99.7025', '329.41', '0.748131', '44.525', '2111.185', '76.435', '37.433049', '3.4076', '104.75', '153.955', '37.313432', '81.5375', '172.68', '5.072253', '5.518398', '37.36653519', '2022-12-15', '44.3', '493895', '9.482124', '76.95', '76.4225', '-121.8436737', '414.72', '2022-08-09', '311.92', '496776', '20.63', '135.88', '488559', '487499', '53.505', '37.33538818', '70.7875', '-122.0695877', '0', '9.382705', '284573', '9.201886', '37.361581', '37.27820969', '26.975', '249.68', '300.52', '10.459541', '2022-08-16', '215.5875', '42.05', '37.34396', '206.16', '-121.886627', '45.2225', '319713', '13.539057', '7.618632', '31.0025', '94.32', '-121.9318183', '482964', '165.08', '8.245596', '43.755', '15.96054', '37.36326981', '149.005', '52.7625', '2021-12-15', '-121.7954025', 'BSTR', '37.47160721', '37.30254364', '37.32041931', '3.809005', '-121.566304', '-121.950553', '50.475', '37.328628', '37.321665', '102.64', '470323', '75.4', '-121.9139557', '21.03093', '64.48', '214.6', '42.325', '1.437232', '-121.7762604', '494985', '207.1725', '-122.0694275', '75.86', '37.434301', '478719', '7.450862', '58.5', '442182', '37.47474348', '46.82', '24.651037', '2022-08-01', '-121.848078', '50.915', '2022-06-28', '10.598107', '2022-05-16', '77.875', '37.01804733', '-121.915159', '36.99973679', '5.051748', '45.2', '204.08', '2022-02-17', '98.5325', '256.52', '-121.932293', '486130', '35.975', '431.08', '487083', '37.2830162', '44.925', '137.7525', '419035', '-122.0027008', '42.725', '8.658186', '55.0', '8.113244', '4.379424', '37.250938', '127.13', '91.88', '37.387683', '-122.0738525', '17.37478', '37.3276858', '496209', '37.241191', '37.253472', '78.4', '2022-09-24', '37.243932', '-121.9373322', '3.449231', '-121.6558914', '217.275', '428872', '206.475', '63.515', '119.005', '47.99', '490589', '5.50597', '11:28', '-121.799353', '34.625', '88.72', '469798', '4.439076', '37.425078', '430773', '-121.947091', '-121.8330154', '37.28326797', '32.131104', '25.4', '113.56', '103.325', '2022-12-12', '276.52', '32.86867', '2022-07-21', '451307', '440195', '40.925', '56.92', '-121.9401245', '75.355', '2.566884', '139.73', '-121.864686', '37.34503174', '-121.952439', '11', '11:10', '66.3425', '37.28745651', '440928', '6.014252', '85.0', '10.01029', '364.05', '431512', '-121.8027039', '37.435529', '131.48', '37.31351089', '503.48', '10.004076', '55', '80.2025', '7', '442132', '291.72', '18.910189', '37.4176445', '212.775', '60.84', '29.405', '2022-11-11', '37.35033798', '-121.8880463', '17.0', '26.122444', '37.33907318', '390534', '483870', '37.435386', '85.345', '49.61', '37.33976364', '8.658808', '480037', '23.195', '49.7025', '492688', '91.295', '-121.8831024', '2022-11-28', '85.4', '172.76', '69.2225', '101.075', '37.32369995', '13.221536', '2.777529', '27.9425', '471517', '478887', '2022-07-01', '220.05', '129.225', '37.29319382', '-121.9333878', '52', '473380', '89.17', '486768', '24.7025', '207.9825', '74.7025', '12.595815', '124.05', '30.9575', '4.739819', '37.39950943', '48.0575', '8.399696', '7.787645', '14.282838', '22.79', '449331', '-121.959937', '2021-12-16', '497017', '76.5575', '83.915', '5.246237', '73.955', '-121.777882', '-121.9619141', '37.381212', '24.545', '70.91', '12.753022', '264.92', '2022-07-28', '2022-10-08', '35.57', '2022-06-01', '9.45', '462140', '-121.947186', '465129', '3.509504', '8.187808', '83.4', '37.3239305', '12.36218', '13.210352', '37.48493195', '-121.937476', '2023-01-21', '3.838831', '37.31567383', '151.4325', '80.95', '463092', '2022-09-13', '2022-09-04', '27.965', '103.1425', '30.007257', '37.30686951', '6.039728', '63.5075', '101.44', '-121.951668', '145.04', '37.249709', '324.72', '7.4925', '89.305', '38.445', '37.44773865', '84.815', '37.323917', '16.061203', '213.8775', '3.282704', '26.134872', '25.543327', '116.825', '37.32605362', '47.54', '10.628554', '37.43211', '171.12', '22.97', '455573', '8.484202', '282067', '-121.88009', '6.961843', '388851', '37.35297012', '37.255408', '37.276755', '37.34127426', '197.5425', '38.36', '-121.972334', '125.3775', '31.79', '-121.8392334', '262.2', '130.575', '37.326267', '37.34490967', '47.72', '461811', '244.15', '04:00', '43.85', '209.175', '-121.931383', '12.855549', '2022-05-02', '8.876909', '-121.931483', '17.775', '37.341276', '50.8', '11:30', '201.16', '11.755722', '2022-02-07', '13.245148', '31', '1.390007', '37.325858', '5.774402', '7.627331', '10.593757', '27.425', '4.840482', '15.087514', 'SC104', '311147', '5.069768', '3.194469', '177.625', '13.603058', '-121.9367196', '79.1225', '8.603506', '104.225', '37.32157135', '-121.930807', '60.4', '481674', '66.05', '-121.945328', '25.96151', '430171', '37.305632', '496524', '498538', '54.475', '2022-09-26', '18.780945', '9.288257', '-122.1633835', '388566', '40.565', '151.92', '221.8', '37.41714096', '-122.1942291', '468046', '-122.1031265', '12.346024', '37.26135254', '360.4', '68.04', '194.3875', '69.3125', '2022-07-05', '2.742732', '93.125', '37.261354', '-121.803481', '16.998852', '128.6825', '9.114894', '10.825529', '-121.874955', '-121.91397', '59.145', '476007', '456200', '95.04', '37.35316086', '37.364821', '28.4825', '-121.386295', '10.94856', '75.3425', '37.35116959', '9.632496', '37.309264', '37.35708237', '9.891608', '100.175', '63.8', '-121.852529', '142.9275', '65.5625', '106.24', '488899', '9.855', '422014', '391.85', '388890', '2.906774', '37.308163', '277.72', '38.4275', '92.05', '37.38121033', '234.36', '6.477795', '3.523796', '37.323925', '-122.0043716', '205.04', '3.927687', '15:15', '461153', '470234', '60.2', '2022-01-15', '2.153673', '232.2375', '37.33082581', '21.125', '31.9925', '28.325', '419523', '-121.9942169', '88.6525', '1.33222', '37.31890488', '461815', '-121.9850693', '440198', '64.08', '317.32', '1.856657', '-121.8371124', '470600', '6.763625', '-121.912104', '31.925', '171.075', '72.3', '248.95', '2022-12-06', '252.825', '-121.947069', '14.808518', '132.1275', '87.7625', '37.3220253', '124.025', '105.7775', '37.262977', '20.246138', '-121.867157', '-121.8635635', '486078', '37.013079', '74.775', '-122.0045624', '291.7', '14.182176', '491508', '456964', '59.705', '3.195091', '418.6', '157.375', '494547', '2023-02-25', '497025', '76.21', '7.407987', '7.106622', '8.322646', '96.56', '37.266979', '428913', '59.6', '54.65', '-121.80031', '104.47', '-122.0555496', '-121.8921814', '315.08', 'SC105', '76.8725', '37.40086746', '90.565', '37.28451157', '37.31203', '489740', '435398', '5.417114', '163.1775', '37.23557281', '466097', '-121.857753', '24.005', '73.025', '8.661293', '247.28', '0.467271', '143.04', '37.67458344', '-121.979049', '2.931008', '43.675', '72.0475', '-122.263092', '91.6675', '2022-11-22', '37.36262512', '9.196294', '388888', '26.75', '124.7', '37.3156898', '37.31606569', '264.12', '34.6475', '37.38299179', '-121.8244553', '26.705', '55.12', '9.937589', '32.15', '94.04', '2021-11-29', '3.111827', '195.04', '110.8825', '37.48745346', '37.38459015', '100.0', '2.405949', '10.547776', '-122.202977', '58.8', '2023-01-13', '2023-01-19', '110.66', '-121.882115', '431157', '10:00', '487627', '2023-02-22', '39.35', '48.525', '37.36575317', '154.36', '37.356531', '7.757819', '-121.8116608', '97.04', '5.845239', '37.341391', '2022-07-08', '152.52', '26.2325', '328.52', '0.67046', '27.518665', '57.0375', '37.24549484', '7.790131', '52.9', '10.384355', '12:10', '11.587951', '09:55', '1.322899', '28.3025', '37.25078964', '-122.201687', '37.2925394', '388811', '5.00763', '1.393736', '14:30', '162.1', '471030', '100.6475', '-122.078474', '1.2328', '11.680536', '56.632393', '160.12', '340269', '184.64', '37.3233552', '41.24', '2.160508', '114.3275', '37.250783', '85.56', '51.75', '388658', '159.6', '318.15', '5.519019', '81.34', '44.93', '53.325', '-121.933506', '-121.850319', '198.6675', '37.2409935', '37.240988', '-121.9121017', '467388', '37.3136082', '11.085262', '7.256373', '83.6225', '8.290956', '37.251942', '22.88', '37.31436157', '37.254171', '0.299501', '50.4225', '2.518417', '-121.8259354', '37.3663063', '221.85', '93.2875', '-121.8703613', '494620', '169.56', '14.719662', '10.34583', '-121.9347763', '407.6', '4.851045', '52.1975', '3.137925', '2022-03-11', '356.9672', '388497', '-121.9314804', '38.675', '135.52', '388585', '17:00', '486503', '2.579933', '448098', '2022-08-30', '-122.079559', '388482', '436651', '4.913803', '7.255751', '37.009876', '48.215', '371.89252', '59.48', '11.371093', '85.2', '-121.823066', '3.754325', '484059', '484833', '2021-12-04', '415878', '493371', '37.37996674', '4.061282', '-121.958921', '2022-03-29', '432.32', '422022', '2022-06-21', '-121.947953', '-121.981845', '23.9825', '57.395', '320.6', '106.4', '37.26902771', '7.750363', '434.4', '477206', '4.278762', '13.319092', '11.0573', '187.775', '2021-11-25', '203.48', '1.44096', '62.225', '401.88', '-121.9041138', '2022-12-10', '260.28', '161.92', '-121.858215', '473364', '-122.109422', '2022-09-16', '1.803219', '-122.059423', '486533', '58.79', '107.6975', '68.12', '-121.9991', '170.28', '-121.8491211', '63.56', '105.5725', '462487', '324.35', '75.9', '482719', '17:02', '135.92', '-122.069427', '107.195', '143.805', '205.16', '463414', '21.953045', '468436', '82.9825', '71.4125', '10.326568', '25.949081', '9.492066', '48.2825', '37.326343', '115.45', '200.715', '0.395813', '15.705', '8.044271', '8.944017', '23.5325', '96.12', '2022-10-10', '216.7125', '23.1275', '2.923551', '-121.914882', '465130', '110.9075', '8.482338', '427982', '37.34256', '2.485485', '488420', '49.3125', '1.253927', '36.2675', '47.9625', '6.367191', '6.935124', '408.24', '-121.9840317', '69.8975', '171.6', '-121.937107', 'SC110', '101.9975', '9.035359', '14', '9.44857', '37.299656', '-121.8191528', '-122.078496', '110.48', '2022-03-02', '37.3184166', '37.31183243', '420.9', '434.64', '71.64', '-122.120499', '-121.8353577', '76.975', '155.25', '460028', '12.195031', '10.865918', '-121.9533844', '452763', '248.6', '37.31126', '25.6475', '8.570573', '477852', '2022-02-12', '37.25695801', '423059', '449.16', '268.52', '-121.8650841', '83.6', '152.6', '148.395', '109.08', '4.101671', '-121.934817', '37.312841', '-121.8558655', '105.0125', 'SC202', '04:46', '2022-01-22', '56.24', '2022-09-14', '37.31607004', '5.369268', '-122.077854', '108.8', '-121.7937088', '-121.8352737', '42.815', '25.357536', '30.44', '2.475', '37.775', '125.49', '212.145', '428679', '9.610748', '5.421464', '37.24755096', '55.8', '-121.6603699', '150.0', '6.562301', '-121.902973', '-121.847445', '128.36', '-121.923243', '13', '59.6925', '9.592107', '-121.9717026', '3.867414', '485527', '11.975687', '75.49', '-121.8412247', '494776', '2022-03-04', '36.4925', '492157', '80.53', '15.8', '-121.8525162', '6.60269', '493966', '13.163749', '32.195', '37.353525', '141.7125', '125.88', '437.48', '11.109496', '12.352238', '2022-08-08', '2034.45', '91.05', '72.9125', '74.4', '340106', '1.683295', '98.9375', '248.35', '135.44', '255.08', '-121.922638', '11:55', '-121.9441648', '-121.9990997', '24.59', '37.35876083', '-121.9324036', '114.62', '06:30', '3.975533', '2022-02-09', '37.250137', '97.54', '7.700653', '499716', '178.955', '63.51', '85.92', '6.465367', '2022-02-08', '-121.8833237', '3.559836', '202.3125', '148.825', '37.4031778', '39.305', '168.625', '1.779607', '2022-05-13', '79.36', '94.6', '-122.141983', '71.3375', '204.36', '-121.9317022', '187.68', '329.32', '37.38335037', '99.4625', '15.365888', '100.8', '92.84', '79.865', '30.3275', '12:50', '-121.8922043', '474331', '-121.9372923', '12.913336', '484604', '91.4425', '2.740247', '10.388084', '-121.94998', '2023-03-14', '41.6', '7.797587', '469330', '42.5675', '2022-10-04', '4.20544', '37.32992172', '-121.937552', '12.382685', '122.5425', '128.73', '1.048875', '463305', '-122.0183487', '63.17', '503.84', '472947', '-121.82827', '73.69', '11.16', '37.32009125', '2.982582', '388477', '210.04', '21.875', '2022-04-08', '37.2500267', '98.645', '5.976348', '43.89', '109.6', '216.6225', '-121.8973236', '456608', '207.375', '-121.949268', '2.575584', '27.8525', '29.61', '37.319403', '145.12', '105.0', '442184', '218.1975', '-122.050202', '80.52', '463419', '9.291363', '191.88', '477457', '-121.8861237', '86.335', '204.66', '124.7225', '2022-09-07', '15.119204', '193.625', '261287', '37.30105591', '-121.896665', '97.9', '72.76', '-121.846871', '117.815', '488476', '37.27834702', '178.7925', '-121.7827072', '5.778131', '-121.931572', '7.629195', '438099', '55.205', '73.1725', '78.64', '1.389386', '484020', '37.324924', '100.4', '35.2653', '0.467893', '237.84', '1.204217', '37.3655383', '37.43682861', '31.07', '5.241266', '5.591098', '37.35078812', '5.345035', '12.342296', '19.673855', '184.36', '-121.8773575', '209.1975', '2022-06-13', '54.975', '495807', '472352', '43.175', '440584', '40', '37.35115051', '81.8575', '474510', '-121.8538132', '4.616788', '5.698595', '77.6', '8.376705', '37.35889435', '-121.846153', '11.410861', '33.815', '82.2625', '-121.9833908', '221.8875', '428644', '37.36916', '14.397171', '111.5825', '-121.844866', '37.346058', '1.473892', '-121.8489075', '-122.2229141', '-121.8530579', '13.828616', '78.505', '3.547408', '22.9925', '37.34723663', '93.6', '37.309221', '2022-09-10', '92.5225', '27.976618', '318.95', '24.86', '37.470531', '37.32389832', '18:00', '58.1975', '496206', '147.63', '458741', '-121.8151855', '485596', '37.31988907', '2.104584', '-121.8124847', '260.0', '37.3370285', '52.3775', '1.140216', '52.11', '37.31228256', '66.0', '56.447224', '18.782808', '2022-11-29', '30.372623', '449.24', '15.9', '130.525', '449493', '9.59335', '2022-04-23', '37.29197693', '380.36', '54.7425', '477372', '-122.1133575', '479079', '284.56', '13:31', '5.611603', '68.9175', '-122.030014', '2.162372', '11.1387', '85.0525', '88.2', '86.165', '87.91', '470322', '153.28', '-121.8577499', '92.9275', '90.08764', '329607', '53.625', '16:00', '5.223868', '37.33412933', '31.6775', '-121.8204651', '334436', '10.738537', '37.3783989', '-121.850615', '37.315553', '211.24', '-121.7875214', '2022-06-07', '7.954794', '264.4', '63.72', '422032', '94.93', '15:00', '257.1', '178.04', '4.887706', '37.37946701', '37.29793', '24.2525', '2022-11-12', '-121.964325', '37.30619812', '09:10', '37.34502411', '18:40', '2022-07-02', '162.55', '9.28515', '205.575', '97.0475', '-121.9233551', '63.755', '5.330743', '376.68', '10.89', '-121.950547', '30.53', '143.28', '302.6', '45.925', '323767', '57.225', '463624', '155.8', '6.417522', '463275', '-121.832998', '-121.879368', '115.9025', '485068', '-122.201818', '5.561272', '0.851279', '3.681624', '4.64475', '114.12', '-121.9029513', '482625', '37.39645386', '37.23981476', '201.95', '-122.06513', '-120.987519', '39.75', '3.988582', '-122.0140457', '124.995', '3.653041', '-121.8235703', '478332', '41.6675', '390530', '3.365968', '43.805', '37.236377', '6.955629', '2022-10-06', '-122.0206451', '37.36268997', '99.8', '-121.974103', '457679', '-121.9529345', '79.04', '242.55', '62.3225', '7.11905', '0.63442', '37.29489136', '2.830967', '37.252645', '37.36453629', '2022-04-02', '6.590263', '60.8825', '7.525427', '12.016697', '12.833801', '2.712907', '-121.9490057', '37.4587833', '51.3225', '388472', '103.19', '431168', '37.259293', '13:45', '26.286488', '-121.950932', '10.56331', '95.85', '2022-11-18', '70.675', '93.44', '168.12', '80.9125', '16.203497', '-121.8320389', '258.24', '-122.08132', '136.2', '-121.8183148', '2022-02-26', '422282', '6.666692', '388992', '37.326735', '4.591933', '37.46', '-122.0791626', '6.674769', '261210', 'SC206', '-122.023984', '9.368413', '-121.9516678', '1.224101', '73.195', '6.746848', '318.35', '388490', '31.6325', '37.30512238', '388941', '34.0625', '39.8', '-117.66539', '-122.059967', '5.075981', '4.383774', '23.8475', '85.44', '420254', '37.31731033', '37.255799', '14.359888', '-122.0365448', '38.63', '37.30427551', '484288', '72.1375', '391.7', '235.92', '3.401386', '37.312362', '486348', '3.753703', '17.096407', '495392', '14.275382', '37.382005', '37.313497', '-121.9348068', '7.334666', '480547', '75.085', '79.84', '85.52', '422.08', '-121.8494492', '192.88', '76.35', '3.595875', '37.40409851', '7.912541', '10.704362', '2022-07-23', '59.7275', '2021-12-21', '37.28230286', '8.625875', '-121.835358', '464603', '2022-02-02', '10:20', '34.58', '-121.8486252', '253.8', '-121.858136', '662.073', '412.52', '5.722207', '173.6', '2021-12-18', '37.28278351', '05:27', '2021-11-27', '243.28', '201.255', '496517', '2021-12-13', '7.344607', '179.36', '62.3', '89.5525', '7.224061', '4.374453', '-121.7965317', '19.950365', '14.343111', '37.240816', '26.0975', '37.276837', '74.635', '233.96', '2022-11-17', '37.235654', '12.51', '59.1225', '388555', '32.3075', '2022-07-27', '37.234458', '-121.829656', '196.9125', '11.919764', '37.41511917', '11.077184', '1.831802', '224.8125', '37.36439514', '32.22058', '27.1', '86.515', '13:40', '50.625', '37.13030243', '99.76', '1.414862', '-121.8871307', '156.3', '37.31349564', '09:20', '-121.936859', '39', '402.4', '290.05', '32.6', '-121.8600922', '235.08', '2023-01-16', '5.410279', '216.88', '33.4325', '41.4825', '185.52', '37.262961', '37.313063', '4.125283', '37.435919', '-121.8180008', '37.261962', '406.52', '477429', '26.93', '485540', '-121.8460846', '37.397918', '11.521465', '30.7325', '37.322211', '21.35', '115.36', '37.26993179', '-122.202993', '67.8725', '10.596864', '-121.9523392', '152.4675', '38.2925', '13:55', '11.067864', '79.505', '-122.176841', '51.95', '439.76', '9.935725', '63.89', '242.1', '37.23431778', '6.875472', '8.130642', '37.009815', '491013', '87.32', '7.279985', '3.084487', '37.326306', '69.3', '9.222391', '36.02', '2022-12-17', '459358', '213.0', '11.7675', '495645', '8.404045', '3.540573', '11.591058', '-121.9315708', '2022-03-10', '2021-11-30', '200.825', '19.878286', '2022-03-21', '85.0075', '10.172468', '13.773935', '2021-11-20', '-121.8505249', '20.675', '32.4425', '79.9', '37.25078201', '2023-03-10', '11.638282', '13.020212', '206.43', '37.42826', '471266', '91.4875', '27.245', '9.949396', '1.440338', '27.3125', '17.60966', '462990', '37.22615433', '37.32074356', '-121.8320541', '42.23', '6.977998', '41.33', '438.4', '-121.950707', '5.77316', '-121.848823', '102.68', '-121.7480927', '2.71912', '257.2', '37.251573', '-121.9797363', '9.489581', '77.72', 'SC106', '15.29878', '194.4', '198.8', '20.945', '388622', '7.209149', '36.431614', '263.32', '459761', '51', '29.63', '12.641797', '431892', '44.75', '5.231324', '388484', '141.6', '147.8325', '148.8', '441687', '160.4', '54.88', '100.3325', '22.579386', '193.65', '61.32', '6.9606', '2.096506', '100.32', '427.32', '226.72', '107.51', '76.76', '13.772692', '-121.813107', '-121.966616', '198.6', '12.544242', '37.32509995', '388887', '37.32335451', 'SC301', '37.24549103', '-121.968351', '401.56', '9.310626', '15.553542', '71.9125', '09:52', '2022-06-16', '37.35642242', '83.9725', '-121.8270276', '37.325271', '37.29271698', '05:25', '-121.848249', '1.723062', '4.820598', '37.3015213', '454372', '2022-04-19', '250.4', '-121.8448639', '2023-02-11', '5.81417', '278.04', '196.0', '13.342082', '37.269103', '8.786189', '37.365309', '459174', '88.7875', '4.500592', '12.191924', '12.472784', '37.26078415', '7.808772', '193.48', '104.88', '0.597138', '14.625', '52.04', '204.45', '31.34', '113.0525', '446861', '-121.8809738', '167.84', '263.0', '12.771663', '388706', '-119.714823', '37.30011749', '42.365', '37.31497192', '388817', '60.28', '6.526262', '438134', '29.945', '11.635176', '-121.899392', '497817', '37.3239', '08:58', '2022-02-25', '59.525', '-122.029689', '13.805625', '496136', '6.33053', '-121.793711', '-121.8115158', '6.249751', '5.27917', '493195', '37.311329', '47.3625', '37.3251018', '478009', '37.3819046', '62.7975', '47.0', '37.34137', '37.3991978', '37.31034851', '72.9925', '111.02', '46', '12.884753', '2022-11-24', '2022-07-29', '37.352802', '-121.806979', '-121.8879471', '141.3525', '4.478844', '77.075', '36.375', '9.878559', '470060', '37.361577', '158.25', '144.36', '25.625', '2023-02-06', '12.283887', '22.025', '-121.87736', '2022-03-28', '37.32433701', '-122.079144', '37.364304', '1.0', '463149', '-121.848904', '09:45', '35.075', '188.48', '37.34786987', '27.65', '11:25', '-121.999522', '7.865317', '75.5', '3.58469', '37.30988693', '37.35700607', '87.28', '-122.144026', '430.28', '452120', '1.733004', '121.9125', '49.1375', '-121.8092194', '92.3875', '7.537854', '2023-01-25', '2.11639', '71.045', '490835', '8.448784', '11.645739', '1.224723', '116.45', '2022-03-17', '477833', '73.15', '-121.940305', '2022-03-08', '2022-04-01', '37.364211', '-121.9615936', '67.6', '10.654652', '114.89', '176.0', '-121.860576', '6.846889', '0.904716', '15.032833', '-121.8791656', '-121.8949122', '45.4425', '37.28315353', '37.3787657', '-121.818003', '158.8', '488349', '204.32', '21.3275', '-121.9509354', '57.3975', '37.309243', '52.275', '-121.938367', '37.40153122', '37.322465', '12.308742', '10:25', '7.082389', '67.85', '37.230918', '-121.949935', '61.6875', '5.349385', '37.444168', '-121.853417', '2.147459', '2022-11-14', '-121.997483', '61.7525', '292.25', '-121.9367735', '99.72', '39.89', '2.089671', '33.56100082', '463273', '-122.177103', '7.195478', '242.04', '-121.8754089', '0.872405', '27.02', '1.634828', '3.431212', '203.4375', '127.5825', '37.33436203', '25.707369', '96.4475', '70.0325', '192.44', '80.48', '469261', '420273', '24.8375', '2022-10-05', '37.32329178', '-122.055806', '15.3168', '37.31300735', '37.35707474', '9.317461', '-121.957358', '487520', '71.36', '328.96', '0.301365', '2.742111', '93.535', '74.8475', '37.301761', '2022-09-17', '1.09672', '57.2375', '445.96', '98.0575', '73.9825', '-121.9009552', '388480', '37.34139252', '39.62', '71.4', '-121.8375702', '37.2638855', '37.326637', '2.957106', '3.123012', '7.84419', '37.326685', '4.412978', '96.9575', '2023-01-28', '12.295693', '149.32', '178.44', '163.6', '1.775879', '27.5825', '81.7675', '499438', '65.24', '257.28', '147.92', '41', '0.976174', '479119', '-122.144058', '27.518045', '323.6', '7.369462', '8.585486', '37.34605789', '15:25', '66.2075', '37.321892', '37.422703', '9.340452', '47.775', '-121.8801651', '-122.082307', '65.36', '62.5475', '4.534146', '87.68', '157.2375', '37.32685471', '154.1125', '388523', '136.65', '37.35994339', '83.95', '160.3', '13.741003', '455010', '10.401132', '211.2', '4.705644', '477855', '37.32122421', '60.725', '100.085', '34.2425', '10:10', '123.6675', '68.075', '8.238139', '-121.966881', '1.751024', '109.44', '15:45', '37.427723', '23.8925', '197.225', '88.44', '12.578417', '430040', '29.7425', '491050', '7.330316', '-121.8905563', '7.956037', '388627', '2022-08-11', '76.3325', '106.0', '81.24', '120.6', '4.626109', '-121.934208', '157.44', '25.369965', '418112', '41.4875', '12.15', '481822', '2022-09-19', '10.608049', '309.88', '494496', '12.099961', '-121.9378586', '-122.076942', '101.2325', '108.9725', '52.4', '484307', '320.04', '50.7825', '13.499289', '388501', '29.4725', '6.683469', '250.9', '19.344528', '14:40', '-121.9719772', '18:15', '7.339637', '431.44', '427972', '37.33231354', '37.08447647', '08:40', '101.92', '149.8125', '39.4175', '-121.8120978', '-121.8228836', '5.432648', '6.613254', '2022-11-16', '2022-04-12', '37.284182', '423196', '-121.8071289', '-121.9168549', '491044', '6.981727', '37.39934158', '211.65', '-121.9653015', '11.733974', '462587', '15.007357', '2022-07-13', '3.2535', '37.366948', '-121.8009033', '3.491485', '-121.5901566', '428398', '42.995', '10.089825', '215.92', '55.575', '102.08', '37.36276045', '14.134952', '115.6', '5.234431', '37.2932073', '2023-01-06', '80.7775', '71.35', '127.94', '89.89', '37.269006', '332.28', '75.1075', '37.30817795', '37.2843721', '177.72', '2022-12-16', '10.506765', '53.32', '4.95', '4.403036', '13.959725', '10:15', '37.229485', '212.5275', '2022-01-13', '462296', '-121.943689', '-121.8375854', '15.66', '1.862871', '37.32766724', '428908', '454136', '37.35697937', 'SC109', '37.367136', '6.762383', '2022-06-24', '48.855', '199.1625', '105.08', '2022-01-11', '1.83988', '37.32748413', '13:05', '2022-04-09', '76.1525', '4.505563', '198.825', '34.427693', '223.395', '7.076175', '7.478202', '421.4', '435.04', '37.389762', '99.9725', '21.17', '4.403658', '-122.406108', '116.625', '497812', '65.45', '42.5225', '68.48', '7.979649', '105.89', '201.92', '63.125', '37.448489', '140.16', '37.345023', '7.939881', '-121.8306656', '14.0625', '2023-02-01', '10:45', '44.8175', '209.4', '-122.177413', '479827', '2022-06-03', '465764', '9.66605', '16:05', '37.368295', '37.29782867', '40.155', '428232', '5.411522', '37.269935', '37.364645', '37.31127167', '2022-01-12', '26.885', '166.4', '230.8', '5.527718', '37.252506', '6.467231', '37.34215927', '2022-03-30', '2021-12-01', '163.0', '37.361518', '296.85', '37.32121658', '32', '37.32884979', '92.88', '52.175', '37.24469', '455712', '74.725', '12.976095', '4.356433', '2022-11-26', '2.812947', '69.875', '14.772479', '-121.8952866', '2022-12-28', '37.251362', '74.56', '106.925', '492362', '410.08', '-122.058888', '10.668943', '45', '436441', '150.375', '2022-08-23', '-121.918992', '-121.8501587', '481676', '26.12', '101.0725', '-121.8458328', '-121.8461533', '10.9846', '229.0425', '63.305', '129.68', '50', '43.67', '10.723624', '11.031824', '141.6675', '-122.083812', '240.68', '469432', '27.527987', '160.08', '57.375', '173.84', '424.4', '2022-02-03', '-121.584376', '279.68', '6.255', '62.84', '483417', '222.0', '37.243696', '74.28', '37.43690109', '-122.01453', '22.7', '2022-07-06', '-121.841225', '-122.0085754', '486353', '37.38275146', '06:00', '11.509659', '-121.571496', '26.21', '388708', '-122.1966019', '2022-05-06', '2022-04-15', '200.49', '0.946348', '16.033241', '470722', '205.08', '470232', '22.3625', '137.28', '120.335', '-122.0266571', '87.2', '7.099787', '90.835', '2022-05-05', '37.307193', '124.5675', '-122.033224', '56.7675', '37.34988785', '1.774636', '7.5825', '-121.971977', '32.42', '91.015', '346.92', '433426', '90.42', '140.42', '27.589502', '17:05', '37.4342947', '271.15', '35.21', '37.359942', '70.28', '228.04', '9.61137', '45.6', '37.4776535', '422833', '-121.8075562', '3.379638', '490730', '457293', '37.251936', '2.186605', '480714', '2021-12-23', '66.77', '12.311849', '67.715', '4.26882', '2.528981', '127.2', '12.430531', '39.3275', '-121.9511871', '0.635663', '484049', '-121.9530869', '70.64', '5.096487', '-121.9313812', '-121.7651443', '5.376725', '48.8', '37.2500263', '33.7025', '196.305', '124.5425', '14.845179', '440461', '37.38186264', '296803', '7.975299', '388934', '10.371928', '63.1925', '-121.945913', '6.597719', '25.175', '63.3', '37.301754', '2022-06-23', '203.32', '-121.8358765', '121.64', '37.367142', '-121.8438797', '-121.877841', '37.29660797', '237.55', '0.749995', '126.075', '-121.8551102', '-121.8605728', '37.392432', '51.255', '37.343337', '14.911045', '37.26337863', '7.667099', '6.414415', '222.855', '15.810169', '91.7', '107.2375', '10:05', '37.29909897', '460430', '37.29447937', '2022-08-02', '81.6875', '483401', '88.2925', '-121.869606', '37.3219597', '3.052175', '11.375442', '202.5825', '439970', '83.68', '37.326284', '268.4', '282.12', '13:43', '2021-11-22', '127.08', '37.247713', '09:05', '-121.979125', '-121.9526978', '74.825', '-121.865942', '106.7675', '-121.9114456', '5.393502', '9.851219', '78.2575', '8.189051', '482977', '190.16', '2022-05-17', '27.676495', '196.08', '37.299158', '78.0425', '121.305', '162.32', '37.448628', '2022-06-14', '16.832323', '2022-01-25', '465095', '149.7225', '37.393984', '4.959163', '420587', '413.12', '388487', '259.32', '499423', '84.58', '23.015589', '49.7925', '37.321224', '-121.8611908', '2022-02-21', '36.83', '472150', '33.3875', '7.114079', '37.465064', '96.885', '498536', '217.95', 'SC103', '37.22872925', '37.148164', '492904', '53.7275', '25.22', '58', '37.34225845', '486670', '-122.0791321', '211.4', '64.925', '4.74914', '132.42', '5.080952', '5.915454', '-121.94924', '128.3225', '6.136662', '2.455659', '5.212062', '-121.8006', '3.877356', '253.72', '222.8325', '-121.846825', '-121.655998', '54.8525', '14.720284', '469.04', '418982', '435925', '19.234545', '156.16', '2.284161', '-122.03131', '141.6225', '318.6', '32.32808', '430697', '428207', '37.36696243', '470254', '374.96', '43.305', '96.4', '-121.944458', '37.342859', '4.053204', '48.85', '72.68', '434955', '216.12', '10.711197', '82.375', '149.04', '37.327848', '37.321575', '100.2425', '151.68', '8.241867', '-121.8365326', '217.9275', '37.369009', '10', '8.416473', '57.15', '202.8975', '09:30', '473372', '59.025', '7.887686', '37.262125', '76.0', '130.16', '-122.177406', '37.29793167', '37.342306', '37.35576248', '1.17812', '37.32408905', '259.6', '50.0', '14.23375', '14.987473', '63.53', '37.37773895', '9.892851', '581.4', '8.888094', '80.9575', '37.31126022', '322.0125', '51.68', '-121.850628', '98.4', '239.56', '37.35652924', '479244', '-121.833423', '301900', '0.823938', '2.514068', '37.31739426', '186.65', '459.96', '41.5775', '215.7', '8.795509', '213.2475', '2023-02-27', '448052', '21.5075', '135.28', '2021-12-07', '37.347636', '120.245', '477478', '20.28', '-121.8167648', '-121.8269119', '4.642264', '37.452992', '106.16', '469461', '60.785', '2022-05-03', '406.72', '37.293321', '37.42844772', '-121.9510651', '495268', '37.390629', '26.666145', '27.582047', '141.285', '37.41512', '37.38162', '496466', '56.475', '10.475697', '12.912715', '89.7775', '8.309597', '50.015', '08:20', '33.395596', '10.524164', '340.16', '14.499697', '2023-02-20', '224.72', '204.2', '11:45', '37.328441', '2022-04-29', '37.25076675', '437198', '6.20812', '12.451036', '-122.065097', '08:15', '351.4', '388820', '2022-04-28', '37.382993', '08:00', '164.08', '101.56', '29.6075', '28.7525', '100.2', '32.51', '278.8', '58.475', '390531', '37.381414', '5.957086', '75.185', '-121.8949127', '09:07', '37.26894', '1.99833', '207.42', '37.30604935', '2022-08-19', '278.68', '37.314973', '-121.826913', '37.32196426', '11:15', '461827', '10.9575', '2.404085', '2022-01-17', '67.1625', '3.393929', '134.175', '104.45', '434321', '37.315672', '12.442958', '136.95', '143.1975', '37.27675629', '428210', '485041', '09:00', '2022-12-26', '26.257282', '76.93', '58.16', '77.3125', '2022-01-14', '15.17637', '71.48', '73.825', '390198', '422880', '-122.0629272', '26.57', '201.9525', '45.6225', '10:40', '85.325', '37.36913', '129.8', '3.365346', '5.965163', '491923', '470324', '176.655', '292.08', '447696', '5.220761', '18', '485071', '-121.9243088', '471381', '164.2', '-121.797944', '2022-07-11', '8.084661', '70.4', '37.30697632', '10.299849', '437651', '2021-12-20', '8.571194', '486749', '-121.8505243', '-121.8266602', '-121.8815079', '244.76', '-121.839728', '99.025', '33.2525', '452097', '436249', '1.050117', '473431', '78.44', '43.6475', '460910', '88.1125', '1.235907', '486145', '12.546106', '172.225', '137.55', '12.982308', '40.75', '37.326871', '32.0375', '37.34886169', '2.717878', '37.30901337', '2022-06-04', '9.616962', '108.7025', '-121.8572235', '388728', '23.166582', '26.3675', '5.921046', '37.24755', '37.377307', '9.488959', '100.355', '235.52', '-122.0132828', '480956', '388930', '75.43', '37.302544', '191.4', '84.85', '335901', '91.825', '37.329075', '2022-06-20', '30.025', '-121.997478', '5.431406', '12.070135', '37.332132', '0.195732', '37.82153', '-121.927333', '59.2325', '143.625', '212.44', '13:57', '41.3525', '449557', '14.559348', '2022-10-14', '-118.328164', '388559', '3.096293', '37.34460831', '2022-11-23', '2022-03-15', '37.36700439', '-121.9482117', '56.745', '219.2', '8.368006', '12.352859', '38.835', '46.6', '5.350006', '54.675', '38.7425', '13.003435', '6.211848', '81.125', '37.33200073', '0.521952', '1.57269', '2022-12-13', '41.3925', '37.2507782', '4.678304', '-121.8324966', '2.983203', '1.746053', '-122.080101', '430206', '89.4625', '152.4', '-122.161123', '26.255', '6.630652', '137.775', '171.4', '24.14', '52.715', '22.475', '8.295927', '15:10', '2.70545', '-121.907866', '37.314208', '200.175', '442452', '253.12', '2022-12-01', '438.0', '37.38459778', '-121.8442078', '37.3267445', '151.165', '127.84', '83.0', '84.4', '75.77', '12.994114', '19:45', '209.6475', '17', '0.647469', '2.957727', '37.32172775', '37.351149', '460376', '137.46', '495606', '388518', '12.33049', '37.32189178', '388476', '37.35015488', '265.92', '14:10', '4.370725', '12:40', '100.15', '456617', '38.27', '37.7525', '195.64', '485958', '36.3575', '0.577254', '246.08', '55.56', '469252', '196.6', '25.8275', '419519', '152.68', '164.48', '127.65', '81.9125', '176.92', '-121.848909', '4.509291', '108.995', '-121.9452896', '-121.8480759', '432281', '37.366371', '10.634768', '30.475', '440892', '14:20', '2022-02-01', '452997', '93.48', '37.425077', '9.722595', '37.441568', '2022-06-18', '51.775', '3.433076', '8.663157', '-121.951642', '37.3234355', '0.748752', '-121.8600986', '-121.8941803', '11:22', '47.225', '2.779393', '-121.7993393', '441743', '5.450668', '52.0', '-121.9333181', '205.4175', '1.393114', '3.954406', '181.12', '318075', '-121.83335', '461620', '348.7', '56.375', '5.343171', '37.28247452', '-121.931266', '490953', '4.779587', '2023-02-17', '57.95', '135.165', '08:05', '37.2436142', '131.25', '-121.9373245', '6.251616', '37.31420898', '109.2425', '56.0', '456462', '2023-01-18', '4.05', '124.4', '388489', '421.68', '204.56', '1.289967', '-121.9278389', '37.372734', '11.083398', '48.375', '23.375', '07:20', '15.255284', '-121.978359', '1.805083', '473586', '-121.9678116', '419262', '137.5275', '37.27776337', '487143', '10.729216', '3.219324', '37.32690048', '111.7', '12.28078', '12.703934', '-122.077713', '76.3675', '-121.911629', '18.678417', '443996', '406.88', '37.456586', '-121.932663', '14.19771', '-121.807209', '15.18', '-121.96689', '34.36', '1.632963', '105.305', '50.25', '-121.951895', '7.274393', '37.372727', '17:15', '218.625', '420031', '-121.8400116', '05:15', '473755', '37.42572021', '2022-07-12', '1717.64', '52.9125', '439484', '2022-10-13', '478881', '109.48', '70.63', '37.450682', '427983', '-121.8706665', '09:50', '37.317978', '2023-01-24', '37.3036499', '32.0825', '5.671876', '-122.017692', '12.546727', '-121.938406', '-121.948332', '2.57869', '15.536144', '5.123205', '60.325', '75.4775', '37.250825', 'SC102', '93.22', '6.923939', '497031', '175.175', '60.065', '51.0725', '37.36503', '282.56', '37.315713', '58.25', '4.532281', '37.32674408', '497473', '58.4', '50.175', '-122.0266876', '15.539872', '2022-01-05', '-121.827227', '206.0', '38.085', '-122.0167313', '16:25', '263.24', '5.082816', '471276', '63.0', '87.6', '73.1275', '38.95', '6.694653', '07:15', '9.409424', '37.236876', '318.44', '484015', '32.2175', '22.7675', '37.3691597', '111.875', '418.52', '0.388357', '19.485', '32.015', '99.96', '9.135', '82.0', '37.32753', '84.9625', '-121.9529343', '12.949997', '26.901644', '-122.014109', '37.32089233', '-122.026659', '93.6475', '-122.0791651', '67.625', '38.7875', '95.25', '7.977785', '497402', '37.442391', '4.848559', '37.30191803', '-121.96812', '43.9175', '51.1', '37.369817', '49.7225', '50.4', '8.330724', '24.9725', '14.443773', '77.08', '137.96', '80.85', '-121.9573808', '0.43496', '-121.8801072', '15.805819', '99.44', '7.00596', '3.347327', '165.6', '14.919122', '6.248509', '34.2652092', '37.29698181', '54.9125', '-121.832054', '40.9025', '5.416493', '60.08', '5.312724', '73.9025', '12.772906', '-122.0795593', '209.3325', '69.605', '93.67', '46.575', '182.68', '-121.950542', '6.281441', '13.655875', '215.16', '11.386627', '-121.9327316', '4.270063', '91.96', '27.873468', '84.88', '388488', '39.49', '99.8375', '481221', '3.840074', '87.84', '2022-09-12', '80.225', '16.425', '33.9725', '76.4', '418.96', '37.2532', '85.88', '95.0', '37.39896774', '37.26994324', '-121.833027', '20', '388579', '59.85', '4.623002', '321254', '28.19', '2023-01-09', '37.35625839', '388537', '-121.852258', '2022-08-26', '213.9', '70.2575', '428677', '-121.932653', '437.64', '168.48', '7.278742', '13:32', '7.040136', '37.2261299', '2022-06-08', '1.652847', '65.3075', '37.45035553', '-121.8745575', '85.795', '37.3112781', '105.91', '47.0475', '425160', '56.6', '134.6475', '58.76', '82.8475', '1.052603', '-122.105774', '12.598922', '1.537894', '10.25946', '18:10', '124.14', '-121.825076', '2022-05-26', '12.885996', '299.24', '81.0025', '419128', '432.0', '2022-04-14', '188.84', '427540', '-121.585754', '72.475', '6.768596', '70.68', '13.325927', '498481', '26.9975', '7.086738', '5.47863', '234.28', '292.68', '-121.7974472', '37.3819633', '-121.937832', '140.43', '37.3829433', '-122.077112', '-121.8182449', '471476', '16.546494', '391.5', '91.84', '2.406571', '37.26294327', '2022-05-28', '-122.006528', '-121.8462557', '-121.800274', '-121.848594', '-122.1422577', '2022-12-05', '37.42523575', '2021-12-28', '71.625', '37.263292', '188.6', '37.2951889', '15.881005', '5.466202', '67.2225', '2.387308', '-121.850567', '2022-09-27', '143.4225', '76.3225', '22.8124', '388483', '-121.81604', '37.361163', '11.528921', '71.135', '37.441428', '2022-01-28', '1.432261', '10.82615', '53.175', '13:00', '46.505', '37.30662537', '165.7', '81.15', '37.23045519', '40.325', '37.29776764', '25', '101.3675', '217.995', '1.307986', '101.04', '79.1525', '5.801121', '93.085', '471258', '478038', '-121.948511', '447896', '73.78', '46.1175', '12.619428', '87.5275', '2022-12-21', '37.011181', '62.46', '210.705', '113.8', '-121.895877', '170.3', '497684', '435.2', '52.805', '35.84', '223.6875', '80.5525', '69.1', '-121.8070526', '37.432484', '37.275313', '10.4', '10.997027', '2.350647', '37.42379761', '1.417969', '416.24', '31.8575', '2022-07-26', '-122.1719166', '13.007785', 'WCH', '-121.904452', '64.44', '388862', '2022-09-09', '42.1625', '6.847511', '100.985', '-121.936754', '490998', '14.635156', '51.2', '8.747042', '5.599797', '3.656148', '-121.8897095', '-122.027599', '435924', '9.460376', '37.33657455', '21.137806', '31.7', '-121.8731995', '312011', '40.835', '3.881706', '27.605', '-121.799721', '27.38', '482624', '8.586729', '37.297952', '493624', '66.88', '-121.8114471', '37.35641479', '07:00', '2023-01-05', '-121.797148', '-121.8092041', '282.32', '478323', '-121.879135', '37.362969', '42.9275', '-121.951068', '-121.934093', '2023-03-13', '37.318607', '271282', '155.4825', '76.92', '2.809841', '28.9775', '-122.2409439', '180.25', '72.1325', '37.38992', '181.24', '104.64', '8.660672', '2022-04-30', '138.2475', '2022-05-19', '-121.818306<CONT_256_5>', '<CONT_235_4>', '<CONT_48_4>', '<CONT_164_3>', '<CONT_61_5>', '<CONT_197_2>', '<CONT_39_4>', '<CONT_122_3>', '<CONT_127_1>', '<END_104>', '<CONT_383_3>', '<CONT_401_5>', '<CONT_12_2>', '<START_81>', '<CONT_149_1>', '<START_46>', '<CONT_227_5>', '<CONT_25_5>', '<CONT_306_4>', '<END_293>', '<CONT_204_1>', '<CONT_214_3>', '<END_74>', '<CONT_372_5>', '<END_286>', '<CONT_363_1>', '<END_187>', '<CONT_252_4>', '<END_117>', '<CONT_167_5>', '<START_250>', '<CONT_150_5>', '<CONT_335_4>', '<START_60>', '<CONT_225_1>', '<CONT_394_4>', '<CONT_181_5>', '<CONT_247_5>', '<CONT_77_4>', '<START_367>', '<CONT_179_2>', '<END_102>', '<END_219>', '<END_374>', '<END_211>', '<CONT_200_3>', '<CONT_119_2>', '<CONT_104_4>', '<CONT_346_4>', '<END_60>', '<END_105>', '<END_391>', '<END_55>', '<CONT_374_3>', '<CONT_73_5>', '<CONT_195_5>', '<CONT_6_2>', '<CONT_120_3>', '<END_126>', '<CONT_289_1>', '<CONT_286_5>', '<CONT_190_4>', '<CONT_192_1>', '<START_140>', '<CONT_295_1>', '<START_247>', '<CONT_93_5>', '<CONT_7_1>', '<CONT_394_2>', '<CONT_152_1>', '<CONT_180_5>', '<CONT_268_4>', '<CONT_19_2>', '<START_203>', '<CONT_293_1>', '<START_13>', '<CONT_118_1>', '<START_150>', '<CONT_44_5>', '<CONT_343_2>', '<END_284>', '<CONT_88_5>', '<CONT_348_1>', '<START_296>', '<START_183>', '<CONT_179_4>', '<END_322>', '<CONT_387_3>', '<CONT_239_5>', '<CONT_152_3>', '<START_275>', '<START_128>', '<END_239>', '<CONT_118_5>', '<CONT_305_4>', '<CONT_357_5>', '<CONT_104_1>', '<CONT_311_3>', '<CONT_56_3>', '<CONT_22_2>', '<CONT_185_4>', '<CONT_373_5>', '<START_374>', '<CONT_188_5>', '<CONT_246_5>', '<END_49>', '<CONT_37_5>', '<END_213>', '<CONT_241_4>', '<END_11>', '<CONT_103_2>', '<CONT_158_2>', '<CONT_111_3>', '<CONT_318_3>', '<CONT_362_2>', '<CONT_319_4>', '<CONT_115_2>', '<CONT_143_5>', '<START_1>', '<CONT_59_2>', '<CONT_102_2>', '<CONT_214_5>', '<CONT_384_5>', '<START_277>', '<CONT_39_2>', '<CONT_43_5>', '<START_274>', '<CONT_359_2>', '<CONT_3_5>', '<CONT_206_5>', '<CONT_276_5>', '<END_320>', '<CONT_28_3>', '<CONT_154_3>', '<END_82>', '<START_161>', '<CONT_235_3>', '<CONT_300_3>', '<CONT_13_4>', '<CONT_284_1>', '<START_133>', '<CONT_309_3>', '<CONT_70_1>', '<CONT_270_2>', '<CONT_327_2>', '<START_172>', '<END_343>', '<CONT_227_3>', '<CONT_268_2>', '<CONT_162_4>', '<CONT_290_1>', '<CONT_113_3>', '<END_6>', '<CONT_156_4>', '<CONT_341_2>', '<CONT_213_2>', '<CONT_329_1>', '<END_267>', '<START_179>', '<CONT_349_1>', '<CONT_154_2>', '<CONT_268_1>', '<CONT_277_4>', '<CONT_70_4>', '<END_189>', '<END_98>', '<START_79>', '<CONT_181_2>', '<CONT_64_2>', '<CONT_242_3>', '<CONT_178_3>', '<CONT_252_3>', '<CONT_243_2>', '<CONT_284_4>', '<END_333>', '<CONT_189_4>', '<END_401>', '<END_345>', '<CONT_218_5>', '<CONT_157_1>', '<CONT_294_5>', '<START_391>', '<CONT_205_4>', '<END_158>', '<CONT_71_4>', '<CONT_308_3>', '<END_352>', '<START_163>', '<CONT_89_3>', '<START_220>', '<CONT_34_4>', '<CONT_7_4>', '<CONT_114_3>', '<END_131>', '<CONT_197_3>', '<CONT_388_3>', '<CONT_310_5>', '<CONT_357_3>', '<START_72>', '<CONT_322_3>', '<CONT_29_1>', '<CONT_291_2>', '<CONT_130_5>', '<END_268>', '<CONT_7_2>', '<CONT_62_1>', '<CONT_332_2>', '<END_3>', '<CONT_186_4>', '<CONT_303_4>', '<CONT_371_3>', '<END_253>', '<CONT_129_2>', '<CONT_267_3>', '<CONT_285_1>', '<END_373>', '<CONT_11_5>', '<CONT_77_2>', '<CONT_327_5>', '<CONT_53_5>', '<END_12>', '<CONT_161_1>', '<CONT_240_1>', '<END_321>', '<CONT_272_5>', '<START_337>', '<END_92>', '<CONT_170_4>', '<START_231>', '<CONT_198_5>', '<END_76>', '<START_195>', '<START_221>', '<START_94>', '<CONT_7_5>', '<CONT_355_4>', '<CONT_338_4>', '<CONT_264_4>', '<CONT_359_3>', '<CONT_255_4>', '<CONT_275_5>', '<START_148>', '<CONT_247_3>', '<CONT_98_5>', '<END_393>', '<CONT_149_2>', '<START_252>', '<CONT_191_5>', '<END_59>', '<CONT_303_5>', '<CONT_119_3>', '<START_378>', '<CONT_339_2>', '<END_225>', '<CONT_398_4>', '<CONT_59_5>', '<CONT_194_5>', '<END_325>', '<CONT_138_5>', '<END_301>', '<CONT_103_5>', '<START_86>', '<CONT_20_5>', '<CONT_400_1>', '<END_101>', '<CONT_216_1>', '<CONT_212_1>', '<CONT_281_1>', '<CONT_223_3>', '<CONT_199_3>', '<START_360>', '<CONT_366_3>', '<END_100>', '<END_140>', '<START_363>', '<CONT_338_3>', '<CONT_384_3>', '<END_151>', '<CONT_226_3>', '<CONT_339_5>', '<CONT_145_4>', '<CONT_172_2>', '<CONT_405_5>', '<END_148>', '<CONT_280_5>', '<CONT_363_2>', '<CONT_34_1>', '<CONT_141_4>', '<CONT_260_3>', '<CONT_387_2>', '<CONT_46_3>', '<CONT_113_2>', '<CONT_386_4>', '<CONT_57_5>', '<CONT_61_2>', '<CONT_192_5>', '<CONT_134_2>', '<CONT_217_3>', '<CONT_168_3>', '<CONT_361_1>', '<CONT_90_5>', '<CONT_23_4>', '<CONT_13_3>', '<CONT_30_4>', '<START_205>', '<END_37>', '<START_192>', '<END_32>', '<CONT_185_1>', '<CONT_405_1>', '<CONT_119_1>', '<END_23>', '<END_236>', '<CONT_69_4>', '<CONT_398_3>', '<CONT_376_4>', '<CONT_382_5>', '<CONT_201_1>', '<CONT_240_4>', '<CONT_18_5>', '<CONT_304_3>', '<CONT_42_5>', '<CONT_324_5>', '<CONT_376_3>', '<CONT_116_2>', '<CONT_177_2>', '<CONT_307_5>', '<START_19>', '<CONT_205_3>', '<START_280>', '<END_96>', '<CONT_84_4>', '<CONT_352_2>', '<CONT_41_5>', '<CONT_191_4>', '<CONT_298_4>', '<CONT_299_2>', '<CONT_238_3>', '<CONT_260_5>', '<CONT_379_3>', '<CONT_79_3>', '<CONT_164_5>', '<CONT_388_1>', '<CONT_79_5>', '<CONT_142_4>', '<CONT_132_2>', '<END_173>', '<START_208>', '<CONT_239_2>', '<CONT_291_3>', '<CONT_311_2>', '<START_352>', '<END_30>', '<CONT_4_2>', '<CONT_292_1>', '<CONT_385_4>', '<END_209>', '<CONT_105_5>', '<CONT_272_4>', '<CONT_297_1>', '<CONT_348_2>', '<START_349>', '<CONT_372_3>', '<CONT_60_4>', '<CONT_307_3>', '<CONT_196_3>', '<CONT_131_2>', '<CONT_101_4>', '<END_162>', '<CONT_339_3>', '<CONT_258_1>', '<CONT_244_2>', '<START_80>', '<END_125>', '<CONT_290_5>', '<END_221>', '<CONT_395_3>', '<CONT_49_5>', '<CONT_400_5>', '<START_235>', '<END_34>', '<END_153>', '<CONT_75_1>', '<CONT_40_1>', '<CONT_275_3>', '<START_279>', '<CONT_251_4>', '<CONT_48_5>', '<CONT_371_4>', '<CONT_82_5>', '<CONT_310_3>', '<CONT_12_1>', '<START_188>', '<CONT_208_5>', '<CONT_339_4>', '<CONT_368_3>', '<CONT_79_1>', '<END_156>', '<CONT_237_1>', '<CONT_284_3>', '<CONT_375_4>', '<CONT_338_2>', '<CONT_177_4>', '<CONT_75_5>', '<CONT_349_2>', '<CONT_92_5>', '<CONT_125_4>', '<CONT_335_3>', '<START_66>', '<START_23>', '<CONT_89_1>', '<CONT_153_3>', '<CONT_323_1>', '<CONT_102_3>', '<CONT_203_3>', '<CONT_180_4>', '<CONT_181_4>', '<CONT_41_1>', '<CONT_262_3>', '<CONT_111_4>', '<START_316>', '<CONT_7_3>', '<END_336>', '<CONT_333_1>', '<CONT_219_1>', '<CONT_287_5>', '<CONT_388_5>', '<CONT_396_5>', '<CONT_158_4>', '<CONT_265_4>', '<CONT_51_3>', '<CONT_257_1>', '<CONT_243_5>', '<CONT_367_2>', '<CONT_192_2>', '<CONT_172_3>', '<CONT_357_2>', '<CONT_305_3>', '<START_403>', '<CONT_235_1>', '<CONT_330_3>', '<CONT_196_2>', '<END_170>', '<CONT_228_4>', '<CONT_83_3>', '<END_10>', '<CONT_146_5>', '<START_335>', '<CONT_160_3>', '<START_83>', '<CONT_370_1>', '<CONT_192_4>', '<END_114>', '<CONT_289_2>', '<CONT_289_3>', '<CONT_115_1>', '<START_370>', '<CONT_182_5>', '<CONT_21_4>', '<CONT_280_2>', '<CONT_91_3>', '<CONT_23_1>', '<CONT_160_5>', '<CONT_10_3>', '<CONT_103_1>', '<END_368>', '<END_193>', '<CONT_15_1>', '<CONT_6_1>', '<START_22>', '<END_19>', '<END_235>', '<CONT_162_2>', '<START_268>', '<START_311>', '<START_158>', '<CONT_134_4>', '<CONT_79_4>', '<CONT_23_5>', '<CONT_15_5>', '<CONT_262_1>', '<END_287>', '<CONT_398_1>', '<CONT_178_4>', '<CONT_367_4>', '<CONT_296_2>', '<CONT_82_1>', '<CONT_331_3>', '<CONT_285_2>', '<CONT_280_4>', '<START_194>', '<CONT_22_1>', '<CONT_108_4>', '<CONT_343_5>', '<CONT_31_4>', '<CONT_228_2>', '<END_29>', '<CONT_21_2>', '<START_346>', '<CONT_56_5>', '<END_202>', '<END_363>', '<CONT_38_4>', '<CONT_246_4>', '<CONT_4_4>', '<CONT_183_5>', '<END_405>', '<END_175>', '<CONT_139_4>', '<CONT_369_1>', '<START_257>', '<CONT_186_1>', '<CONT_71_1>', '<CONT_233_5>', '<CONT_300_5>', '<START_392>', '<CONT_40_4>', '<CONT_279_3>', '<CONT_57_4>', '<CONT_151_1>', '<CONT_157_5>', '<CONT_376_5>', '<CONT_170_2>', '<CONT_204_5>', '<CONT_221_1>', '<END_276>', '<START_304>', '<CONT_355_3>', '<CONT_17_2>', '<CONT_403_2>', '<CONT_70_5>', '<CONT_306_2>', '<CONT_187_4>', '<CONT_150_4>', '<START_225>', '<CONT_149_4>', '<CONT_258_4>', '<CONT_266_5>', '<CONT_324_2>', '<CONT_330_4>', '<CONT_251_2>', '<CONT_224_1>', '<CONT_374_2>', '<CONT_338_1>', '<END_399>', '<CONT_255_1>', '<END_265>', '<END_108>', '<START_319>', '<CONT_33_1>', '<CONT_146_2>', '<CONT_18_1>', '<CONT_255_2>', '<CONT_188_2>', '<START_216>', '<CONT_229_3>', '<CONT_261_4>', '<CONT_370_3>', '<CONT_215_3>', '<CONT_195_3>', '<CONT_199_2>', '<START_2>', '<CONT_209_3>', '<CONT_237_3>', '<CONT_157_3>', '<CONT_48_3>', '<END_261>', '<CONT_119_4>', '<CONT_138_4>', '<CONT_320_4>', '<CONT_138_3>', '<CONT_371_5>', '<CONT_303_2>', '<CONT_321_2>', '<CONT_55_4>', '<END_203>', '<START_109>', '<CONT_105_4>', '<CONT_274_5>', '<START_313>', '<CONT_15_2>', '<CONT_235_5>', '<CONT_240_5>', '<CONT_294_1>', '<CONT_172_5>', '<CONT_173_1>', '<CONT_223_4>', '<CONT_255_5>', '<CONT_169_5>', '<CONT_380_4>', '<CONT_294_3>', '<START_394>', '<CONT_326_2>', '<CONT_102_1>', '<CONT_229_5>', '<CONT_311_5>', '<CONT_8_4>', '<CONT_95_1>', '<CONT_347_3>', '<CONT_50_1>', '<CONT_406_4>', '<CONT_158_3>', '<CONT_342_5>', '<CONT_20_3>', '<CONT_94_3>', '<END_35>', '<CONT_165_5>', '<CONT_231_4>', '<CONT_258_2>', '<CONT_63_2>', '<END_20>', '<CONT_47_1>', '<START_336>', '<CONT_73_3>', '<CONT_151_5>', '<CONT_250_1>', '<START_102>', '<CONT_81_2>', '<CONT_334_1>', '<END_335>', '<END_85>', '<CONT_241_2>', '<CONT_70_3>', '<CONT_169_3>', '<START_97>', '<CONT_109_3>', '<CONT_301_1>', '<START_405>', '<END_190>', '<CONT_154_5>', '<CONT_308_1>', '<CONT_22_4>', '<CONT_248_5>', '<CONT_312_3>', '<CONT_392_4>', '<CONT_16_5>', '<START_332>', '<CONT_142_1>', '<CONT_65_2>', '<CONT_173_2>', '<END_216>', '<CONT_237_4>', '<CONT_240_2>', '<START_129>', '<CONT_359_4>', '<CONT_252_1>', '<CONT_406_2>', '<CONT_224_4>', '<CONT_282_5>', '<CONT_173_4>', '<CONT_168_2>', '<CONT_386_1>', '<CONT_267_4>', '<CONT_328_5>', '<CONT_140_4>', '<CONT_236_4>', '<CONT_303_3>', '<CONT_130_1>', '<END_25>', '<START_92>', '<CONT_347_5>', '<CONT_337_4>', '<CONT_358_4>', '<CONT_67_2>', '<CONT_266_1>', '<CONT_240_3>', '<CONT_394_5>', '<CONT_80_5>', '<CONT_33_2>', '<CONT_228_3>', '<START_302>', '<END_278>', '<CONT_26_3>', '<CONT_357_4>', '<CONT_0_2>', '<END_121>', '<CONT_197_5>', '<CONT_103_4>', '<START_95>', '<START_368>', '<START_400>', '<START_307>', '<CONT_328_3>', '<START_15>', '<CONT_259_3>', '<CONT_61_3>', '<START_182>', '<END_302>', '<START_116>', '<START_155>', '<CONT_137_1>', '<CONT_370_4>', '<START_57>', '<CONT_37_4>', '<CONT_127_4>', '<CONT_184_3>', '<START_226>', '<CONT_314_2>', '<START_52>', '<END_161>', '<CONT_147_5>', '<START_214>', '<CONT_114_1>', '<CONT_132_5>', '<CONT_269_2>', '<CONT_25_2>', '<START_151>', '<CONT_286_1>', '<CONT_219_2>', '<CONT_77_3>', '<CONT_259_2>', '<CONT_296_4>', '<END_53>', '<CONT_355_2>', '<CONT_300_1>', '<START_127>', '<CONT_173_5>', '<CONT_241_3>', '<END_371>', '<CONT_222_2>', '<CONT_307_1>', '<CONT_213_3>', '<CONT_159_4>', '<START_130>', '<CONT_350_2>', '<CONT_175_3>', '<CONT_97_2>', '<CONT_361_2>', '<CONT_216_2>', '<CONT_33_4>', '<CONT_74_1>', '<CONT_121_5>', '<CONT_295_3>', '<START_376>', '<START_6>', '<CONT_31_3>', '<END_154>', '<CONT_118_2>', '<CONT_257_4>', '<CONT_317_3>', '<END_73>', '<START_308>', '<CONT_271_1>', '<CONT_386_3>', '<CONT_10_2>', '<CONT_399_4>', '<CONT_6_5>', '<END_77>', '<CONT_131_4>', '<START_56>', '<CONT_199_1>', '<CONT_390_1>', '<CONT_30_5>', '<START_103>', '<CONT_112_4>', '<START_146>', '<CONT_365_3>', '<CONT_356_5>', '<CONT_27_1>', '<CONT_315_4>', '<END_163>', '<CONT_269_3>', '<CONT_31_5>', '<START_248>', '<END_88>', '<CONT_32_5>', '<CONT_156_3>', '<CONT_25_1>', '<CONT_313_5>', '<CONT_202_1>', '<CONT_287_4>', '<CONT_321_4>', '<CONT_153_2>', '<CONT_335_1>', '<END_4>', '<END_135>', '<CONT_98_1>', '<CONT_265_1>', '<CONT_330_5>', '<CONT_97_3>', '<END_351>', '<CONT_20_2>', '<CONT_64_3>', '<CONT_233_2>', '<CONT_8_2>', '<END_129>', '<START_143>', '<CONT_35_4>', '<CONT_275_4>', '<CONT_184_1>', '<CONT_108_1>', '<CONT_13_2>', '<CONT_212_4>', '<START_326>', '<CONT_152_4>', '<END_272>', '<CONT_123_2>', '<END_81>', '<CONT_225_2>', '<END_119>', '<CONT_310_4>', '<END_233>', '<END_250>', '<CONT_69_5>', '<CONT_312_5>', '<END_142>', '<CONT_263_1>', '<CONT_260_2>', '<CONT_233_4>', '<CONT_190_2>', '<CONT_185_3>', '<END_396>', '<CONT_270_5>', '<START_351>', '<CONT_66_3>', '<CONT_282_3>', '<CONT_256_2>', '<CONT_98_3>', '<START_96>', '<CONT_397_4>', '<CONT_228_1>', '<START_110>', '<CONT_256_3>', '<CONT_243_4>', '<END_69>', '<CONT_90_3>', '<START_249>', '<CONT_244_4>', '<END_245>', '<CONT_350_4>', '<CONT_30_1>', '<CONT_38_5>', '<CONT_97_5>', '<CONT_125_3>', '<CONT_394_3>', '<CONT_255_3>', '<START_193>', '<START_132>', '<CONT_16_4>', '<CONT_304_2>', '<CONT_227_4>', '<START_217>', '<CONT_302_2>', '<CONT_241_5>', '<CONT_23_3>', '<CONT_345_3>', '<CONT_99_5>', '<CONT_198_2>', '<START_253>', '<CONT_261_1>', '<CONT_313_3>', '<START_93>', '<CONT_111_5>', '<START_67>', '<END_194>', '<START_17>', '<END_83>', '<END_123>', '<START_289>', '<START_343>', '<START_406>', '<END_42>', '<CONT_323_3>', '<CONT_95_4>', '<END_398>', '<CONT_217_2>', '<END_339>', '<CONT_37_2>', '<CONT_165_4>', '<START_21>', '<END_124>', '<CONT_111_1>', '<END_115>', '<START_242>', '<CONT_26_1>', '<CONT_59_3>', '<END_52>', '<CONT_171_4>', '<END_188>', '<CONT_113_4>', '<CONT_263_4>', '<CONT_11_2>', '<CONT_84_5>', '<CONT_301_3>', '<START_310>', '<CONT_78_4>', '<CONT_221_4>', '<END_247>', '<END_22>', '<CONT_267_1>', '<END_51>', '<CONT_40_2>', '<START_266>', '<START_121>', '<CONT_122_1>', '<START_369>', '<CONT_178_2>', '<CONT_322_4>', '<CONT_199_4>', '<CONT_262_2>', '<CONT_206_1>', '<START_256>', '<CONT_296_1>', '<CONT_385_5>', '<START_84>', '<CONT_358_3>', '<CONT_49_1>', '<CONT_58_4>', '<START_101>', '<CONT_328_2>', '<CONT_117_3>', '<START_62>', '<START_269>', '<CONT_404_5>', '<CONT_279_1>', '<END_362>', '<START_187>', '<END_204>', '<START_240>', '<CONT_49_3>', '<CONT_298_3>', '<START_27>', '<CONT_249_4>', '<END_299>', '<START_213>', '<CONT_254_1>', '<END_356>', '<CONT_378_4>', '<CONT_72_5>', '<END_266>', '<START_259>', '<START_58>', '<CONT_166_1>', '<CONT_3_4>', '<CONT_89_4>', '<CONT_281_2>', '<START_152>', '<END_346>', '<CONT_219_3>', '<CONT_86_3>', '<CONT_189_1>', '<END_186>', '<CONT_112_5>', '<CONT_29_4>', '<END_46>', '<CONT_226_1>', '<START_287>', '<CONT_384_2>', '<CONT_41_4>', '<CONT_353_5>', '<CONT_50_4>', '<CONT_264_3>', '<CONT_345_5>', '<CONT_24_5>', '<CONT_158_5>', '<CONT_122_2>', '<CONT_75_4>', '<CONT_170_5>', '<CONT_92_4>', '<END_45>', '<CONT_276_2>', '<CONT_238_2>', '<CONT_95_3>', '<CONT_86_1>', '<CONT_137_4>', '<END_48>', '<CONT_65_4>', '<END_372>', '<CONT_108_3>', '<START_281>', '<CONT_364_5>', '<CONT_174_3>', '<CONT_18_4>', '<CONT_310_1>', '<END_317>', '<CONT_328_4>', '<CONT_48_1>', '<CONT_83_5>', '<CONT_185_2>', '<START_204>', '<END_400>', '<CONT_2_5>', '<CONT_21_5>', '<CONT_128_1>', '<CONT_152_2>', '<CONT_291_5>', '<START_393>', '<END_176>', '<CONT_211_5>', '<CONT_110_2>', '<CONT_349_4>', '<CONT_385_1>', '<CONT_208_1>', '<CONT_348_3>', '<CONT_100_5>', '<END_90>', '<START_112>', '<CONT_47_5>', '<CONT_104_2>', '<CONT_110_5>', '<CONT_44_4>', '<CONT_124_3>', '<END_234>', '<START_382>', '<CONT_208_2>', '<CONT_5_3>', '<END_397>', '<CONT_94_1>', '<END_128>', '<CONT_174_2>', '<CONT_314_1>', '<START_327>', '<CONT_389_4>', '<START_306>', '<START_303>', '<CONT_392_3>', '<END_57>', '<CONT_95_2>', '<CONT_14_5>', '<CONT_183_2>', '<CONT_31_1>', '<CONT_69_3>', '<CONT_159_3>', '<CONT_123_3>', '<CONT_213_4>', '<START_120>', '<CONT_149_5>', '<END_243>', '<CONT_8_1>', '<CONT_27_5>', '<CONT_65_3>', '<START_88>', '<CONT_106_4>', '<CONT_213_1>', '<CONT_305_5>', '<CONT_383_2>', '<END_127>', '<CONT_404_3>', '<CONT_354_1>', '<START_154>', '<CONT_155_2>', '<CONT_339_1>', '<CONT_381_4>', '<CONT_163_3>', '<CONT_307_2>', '<CONT_82_4>', '<END_332>', '<CONT_201_2>', '<CONT_274_1>', '<CONT_160_2>', '<CONT_275_2>', '<CONT_326_4>', '<CONT_180_3>', '<CONT_286_3>', '<CONT_358_1>', '<END_109>', '<END_220>', '<CONT_336_3>', '<END_264>', '<CONT_156_5>', '<START_77>', '<CONT_280_3>', '<CONT_373_1>', '<CONT_162_3>', '<CONT_66_2>', '<CONT_202_4>', '<CONT_372_4>', '<CONT_271_3>', '<END_226>', '<CONT_53_4>', '<END_54>', '<CONT_182_3>', '<START_300>', '<START_117>', '<CONT_55_5>', '<CONT_16_1>', '<CONT_392_1>', '<CONT_50_5>', '<CONT_100_1>', '<CONT_177_5>', '<CONT_198_1>', '<END_171>', '<END_244>', '<CONT_405_4>', '<CONT_109_4>', '<CONT_8_3>', '<CONT_224_2>', '<END_348>', '<CONT_193_3>', '<CONT_393_1>', '<CONT_35_1>', '<END_139>', '<CONT_365_2>', '<CONT_117_2>', '<CONT_216_5>', '<START_375>', '<CONT_85_1>', '<CONT_201_3>', '<CONT_114_4>', '<CONT_238_1>', '<END_262>', '<CONT_315_3>', '<CONT_114_5>', '<CONT_144_3>', '<CONT_266_3>', '<CONT_103_3>', '<CONT_187_1>', '<CONT_63_4>', '<CONT_210_1>', '<CONT_387_1>', '<START_388>', '<START_328>', '<END_38>', '<END_208>', '<END_181>', '<END_350>', '<CONT_167_2>', '<START_10>', '<CONT_283_1>', '<END_358>', '<CONT_333_2>', '<CONT_250_5>', '<START_14>', '<CONT_67_4>', '<CONT_304_5>', '<CONT_327_1>', '<END_70>', '<CONT_135_4>', '<CONT_269_1>', '<CONT_322_1>', '<CONT_325_5>', '<CONT_297_4>', '<CONT_14_1>', '<CONT_149_3>', '<CONT_39_1>', '<CONT_254_3>', '<CONT_270_3>', '<CONT_234_1>', '<CONT_84_3>', '<CONT_8_5>', '<CONT_165_1>', '<START_24>', '<CONT_202_5>', '<CONT_405_2>', '<START_73>', '<END_223>', '<CONT_200_5>', '<CONT_342_4>', '<CONT_29_5>', '<END_110>', '<START_100>', '<CONT_369_3>', '<CONT_135_2>', '<CONT_134_1>', '<START_35>', '<CONT_205_5>', '<CONT_229_2>', '<CONT_99_4>', '<CONT_180_1>', '<CONT_129_1>', '<CONT_373_3>', '<CONT_325_4>', '<START_136>', '<CONT_133_2>', '<CONT_15_4>', '<CONT_227_1>', '<CONT_399_1>', '<CONT_18_3>', '<START_207>', '<CONT_299_3>', '<CONT_401_1>', '<END_338>', '<CONT_253_3>', '<CONT_59_4>', '<END_132>', '<CONT_278_2>', '<CONT_24_4>', '<END_178>', '<END_195>', '<CONT_133_3>', '<CONT_4_1>', '<CONT_232_5>', '<CONT_244_5>', '<CONT_135_3>', '<CONT_28_4>', '<CONT_161_5>', '<END_355>', '<CONT_58_1>', '<END_27>', '<START_355>', '<START_164>', '<CONT_43_3>', '<CONT_168_4>', '<CONT_267_5>', '<START_305>', '<START_364>', '<END_347>', '<CONT_137_5>', '<CONT_200_1>', '<CONT_276_3>', '<START_7>', '<CONT_36_2>', '<CONT_293_4>', '<START_184>', '<CONT_5_4>', '<CONT_343_4>', '<CONT_139_1>', '<CONT_136_3>', '<CONT_58_2>', '<CONT_308_5>', '<START_356>', '<CONT_406_3>', '<CONT_159_2>', '<CONT_78_5>', '<CONT_196_1>', '<CONT_238_5>', '<START_26>', '<CONT_404_1>', '<CONT_93_1>', '<CONT_173_3>', '<START_267>', '<CONT_329_3>', '<CONT_301_2>', '<START_189>', '<CONT_143_2>', '<CONT_273_1>', '<CONT_57_3>', '<CONT_165_2>', '<START_142>', '<CONT_200_2>', '<CONT_124_2>', '<CONT_143_1>', '<END_2>', '<START_61>', '<CONT_166_5>', '<CONT_402_3>', '<CONT_379_5>', '<END_200>', '<CONT_80_3>', '<CONT_153_1>', '<CONT_162_1>', '<START_347>', '<CONT_246_1>', '<CONT_160_1>', '<CONT_121_2>', '<CONT_17_1>', '<END_218>', '<CONT_66_4>', '<CONT_199_5>', '<START_171>', '<CONT_321_3>', '<CONT_151_3>', '<CONT_342_2>', '<START_345>', '<CONT_348_4>', '<START_241>', '<CONT_120_4>', '<START_404>', '<CONT_398_2>', '<END_17>', '<CONT_304_4>', '<CONT_150_2>', '<START_341>', '<CONT_343_1>', '<CONT_193_5>', '<CONT_216_4>', '<CONT_334_4>', '<CONT_78_3>', '<CONT_176_4>', '<END_84>', '<CONT_121_4>', '<CONT_299_5>', '<CONT_104_3>', '<END_168>', '<END_318>', '<CONT_171_2>', '<START_379>', '<CONT_92_3>', '<CONT_282_2>', '<CONT_143_3>', '<CONT_128_4>', '<CONT_69_2>', '<CONT_327_4>', '<CONT_397_5>', '<CONT_19_1>', '<CONT_333_5>', '<CONT_72_3>', '<CONT_97_1>', '<START_262>', '<CONT_1_2>', '<CONT_207_1>', '<CONT_72_2>', '<START_396>', '<START_330>', '<CONT_122_4>', '<START_211>', '<CONT_356_2>', '<END_298>', '<CONT_346_1>', '<START_114>', '<END_307>', '<CONT_222_5>', '<CONT_107_4>', '<CONT_172_4>', '<END_152>', '<END_360>', '<CONT_82_2>', '<END_251>', '<CONT_301_5>', '<CONT_352_4>', '<START_381>', '<START_38>', '<CONT_270_1>', '<CONT_42_4>', '<START_283>', '<CONT_69_1>', '<CONT_91_1>', '<CONT_136_5>', '<CONT_349_5>', '<CONT_335_5>', '<END_79>', '<CONT_167_1>', '<END_183>', '<END_366>', '<CONT_402_2>', '<START_50>', '<CONT_87_2>', '<CONT_129_5>', '<CONT_299_4>', '<END_256>', '<START_202>', '<START_31>', '<CONT_346_5>', '<END_56>', '<CONT_230_5>', '<CONT_184_5>', '<END_240>', '<START_227>', '<CONT_94_5>', '<CONT_284_2>', '<CONT_129_4>', '<END_130>', '<CONT_74_2>', '<CONT_125_2>', '<END_58>', '<END_191>', '<CONT_72_4>', '<CONT_76_5>', '<CONT_334_5>', '<CONT_14_2>', '<END_274>', '<CONT_374_1>', '<CONT_40_3>', '<START_295>', '<CONT_400_4>', '<CONT_53_1>', '<START_348>', '<CONT_140_1>', '<CONT_353_4>', '<END_149>', '<CONT_93_3>', '<START_383>', '<CONT_17_4>', '<START_324>', '<CONT_52_4>', '<CONT_71_3>', '<CONT_261_5>', '<CONT_312_1>', '<CONT_14_3>', '<CONT_41_3>', '<CONT_156_1>', '<CONT_107_1>', '<START_177>', '<CONT_121_3>', '<CONT_265_2>', '<CONT_141_1>', '<CONT_185_5>', '<CONT_142_5>', '<CONT_116_4>', '<CONT_67_3>', '<CONT_117_4>', '<CONT_42_3>', '<CONT_405_3>', '<CONT_108_2>', '<CONT_374_4>', '<CONT_6_4>', '<CONT_1_4>', '<CONT_227_2>', '<START_149>', '<END_288>', '<START_49>', '<CONT_210_3>', '<START_153>', '<CONT_9_3>', '<CONT_360_1>', '<END_67>', '<CONT_139_5>', '<CONT_108_5>', '<END_269>', '<START_288>', '<CONT_395_4>', '<CONT_257_5>', '<CONT_36_1>', '<CONT_161_4>', '<CONT_184_2>', '<START_32>', '<END_403>', '<CONT_363_3>', '<CONT_163_2>', '<CONT_106_5>', '<CONT_101_3>', '<CONT_224_3>', '<CONT_36_5>', '<CONT_9_1>', '<CONT_175_1>', '<START_339>', '<CONT_290_3>', '<CONT_141_5>', '<CONT_145_5>', '<CONT_340_4>', '<END_259>', '<CONT_210_5>', '<CONT_205_1>', '<CONT_283_2>', '<CONT_174_5>', '<CONT_231_2>', '<CONT_293_2>', '<CONT_45_3>', '<START_209>', '<CONT_115_4>', '<CONT_304_1>', '<START_137>', '<START_29>', '<END_138>', '<CONT_147_4>', '<END_155>', '<CONT_295_4>', '<CONT_292_3>', '<CONT_76_3>', '<CONT_281_4>', '<CONT_46_5>', '<CONT_249_1>', '<START_45>', '<CONT_193_2>', '<CONT_234_3>', '<CONT_110_1>', '<CONT_288_4>', '<CONT_382_4>', '<CONT_54_2>', '<END_21>', '<CONT_245_1>', '<END_212>', '<CONT_154_4>', '<END_271>', '<CONT_262_4>', '<END_217>', '<END_370>', '<CONT_73_1>', '<END_344>', '<CONT_364_4>', '<CONT_253_1>', '<CONT_389_5>', '<CONT_313_1>', '<CONT_27_4>', '<END_5>', '<START_333>', '<CONT_247_1>', '<END_289>', '<CONT_88_4>', '<CONT_186_3>', '<CONT_60_3>', '<END_249>', '<CONT_278_5>', '<CONT_11_1>', '<CONT_51_2>', '<CONT_229_4>', '<END_141>', '<CONT_126_3>', '<CONT_218_1>', '<CONT_177_1>', '<START_301>', '<CONT_81_3>', '<CONT_121_1>', '<CONT_172_1>', '<END_255>', '<CONT_406_5>', '<CONT_194_4>', '<START_41>', '<END_147>', '<CONT_179_5>', '<CONT_274_2>', '<CONT_347_4>', '<CONT_375_2>', '<CONT_147_1>', '<CONT_307_4>', '<CONT_231_1>', '<CONT_112_3>', '<CONT_23_2>', '<CONT_105_1>', '<CONT_32_3>', '<CONT_356_3>', '<CONT_169_2>', '<START_111>', '<START_175>', '<CONT_345_1>', '<END_143>', '<CONT_45_5>', '<CONT_179_3>', '<CONT_268_3>', '<START_320>', '<CONT_61_1>', '<END_231>', '<END_93>', '<CONT_278_4>', '<CONT_150_3>', '<END_238>', '<CONT_319_1>', '<END_232>', '<CONT_89_2>', '<CONT_218_3>', '<START_113>', '<END_164>', '<CONT_0_5>', '<CONT_10_1>', '<CONT_245_4>', '<END_254>', '<CONT_360_3>', '<CONT_88_1>', '<CONT_106_2>', '<START_372>', '<CONT_22_5>', '<CONT_403_4>', '<START_11>', '<START_20>', '<START_108>', '<CONT_222_1>', '<START_145>', '<CONT_186_5>', '<END_242>', '<CONT_44_2>', '<END_0>', '<CONT_297_3>', '<CONT_350_1>', '<CONT_42_1>', '<CONT_81_1>', '<CONT_389_2>', '<CONT_132_1>', '<CONT_119_5>', '<START_342>', '<CONT_286_4>', '<CONT_362_5>', '<CONT_318_4>', '<START_365>', '<CONT_39_3>', '<CONT_308_4>', '<CONT_400_2>', '<CONT_124_1>', '<END_185>', '<CONT_62_5>', '<END_103>', '<CONT_126_4>', '<END_361>', '<CONT_244_3>', '<CONT_147_2>', '<CONT_297_2>', '<CONT_380_5>', '<CONT_118_3>', '<START_9>', '<CONT_335_2>', '<CONT_374_5>', '<CONT_401_4>', '<START_387>', '<START_87>', '<CONT_136_4>', '<CONT_182_2>', '<CONT_249_2>', '<CONT_143_4>', '<CONT_353_3>', '<CONT_68_1>', '<START_165>', '<CONT_145_3>', '<CONT_378_3>', '<CONT_197_1>', '<CONT_248_1>', '<START_115>', '<CONT_175_5>', '<CONT_246_2>', '<END_367>', '<CONT_375_3>', '<CONT_55_2>', '<CONT_219_5>', '<CONT_320_5>', '<END_260>', '<CONT_85_3>', '<START_144>', '<CONT_214_1>', '<CONT_70_2>', '<CONT_249_3>', '<CONT_368_1>', '<CONT_274_4>', '<END_107>', '<CONT_277_2>', '<CONT_253_4>', '<END_180>', '<START_78>', '<CONT_256_4>', '<CONT_338_5>', '<CONT_382_3>', '<START_299>', '<CONT_317_4>', '<END_8>', '<CONT_225_5>', '<CONT_320_3>', '<CONT_34_5>', '<CONT_184_4>', '<CONT_343_3>', '<CONT_26_4>', '<CONT_30_2>', '<CONT_383_1>', '<CONT_130_2>', '<CONT_63_5>', '<CONT_209_1>', '<START_185>', '<CONT_387_4>', '<START_282>', '<START_63>', '<START_298>', '<CONT_288_1>', '<CONT_396_4>', '<CONT_12_5>', '<CONT_387_5>', '<CONT_44_1>', '<CONT_230_1>', '<START_278>', '<CONT_291_1>', '<CONT_158_1>', '<CONT_171_3>', '<START_261>', '<CONT_340_2>', '<CONT_357_1>', '<CONT_41_2>', '<CONT_250_2>', '<CONT_6_3>', '<END_80>', '<END_306>', '<CONT_106_3>', '<CONT_182_1>', '<CONT_104_5>', '<CONT_317_5>', '<CONT_274_3>', '<CONT_248_2>', '<CONT_170_3>', '<CONT_221_3>', '<CONT_116_1>', '<CONT_5_5>', '<CONT_206_2>', '<CONT_162_5>', '<CONT_137_2>', '<CONT_258_3>', '<CONT_296_3>', '<END_304>', '<START_318>', '<CONT_211_3>', '<CONT_340_1>', '<CONT_191_1>', '<CONT_75_2>', '<CONT_250_3>', '<CONT_287_3>', '<CONT_59_1>', '<START_33>', '<CONT_58_5>', '<START_286>', '<CONT_68_3>', '<CONT_290_2>', '<CONT_17_3>', '<START_126>', '<CONT_155_5>', '<CONT_62_3>', '<CONT_190_1>', '<CONT_377_5>', '<CONT_96_2>', '<CONT_294_4>', '<CONT_331_2>', '<CONT_170_1>', '<CONT_74_5>', '<END_116>', '<CONT_279_2>', '<CONT_68_5>', '<CONT_80_1>', '<CONT_248_4>', '<START_59>', '<CONT_380_3>', '<CONT_140_2>', '<CONT_0_1>', '<CONT_134_5>', '<CONT_128_2>', '<CONT_74_3>', '<CONT_238_4>', '<CONT_66_1>', '<CONT_9_5>', '<CONT_322_5>', '<CONT_331_1>', '<CONT_282_4>', '<CONT_294_2>', '<CONT_234_4>', '<CONT_280_1>', '<END_14>', '<END_64>', '<CONT_365_4>', '<CONT_297_5>', '<CONT_96_3>', '<CONT_234_2>', '<CONT_153_4>', '<START_309>', '<START_91>', '<START_156>', '<START_285>', '<END_342>', '<END_380>', '<CONT_47_3>', '<CONT_347_1>', '<CONT_120_5>', '<START_314>', '<CONT_203_2>', '<END_384>', '<CONT_181_1>', '<START_245>', '<CONT_324_4>', '<CONT_336_1>', '<CONT_71_5>', '<END_252>', '<END_319>', '<CONT_275_1>', '<CONT_257_3>', '<START_16>', '<END_9>', '<END_184>', '<CONT_187_2>', '<CONT_11_4>', '<CONT_372_2>', '<CONT_64_4>', '<START_233>', '<END_389>', '<CONT_393_2>', '<CONT_404_2>', '<CONT_4_3>', '<CONT_168_5>', '<CONT_341_4>', '<START_402>', '<START_68>', '<CONT_306_1>', '<START_312>', '<CONT_180_2>', '<CONT_181_3>', '<CONT_191_2>', '<CONT_276_1>', '<CONT_371_2>', '<END_87>', '<END_353>', '<CONT_110_4>', '<CONT_390_3>', '<START_138>', '<CONT_277_1>', '<CONT_293_3>', '<START_380>', '<START_43>', '<CONT_293_5>', '<CONT_383_5>', '<CONT_135_5>', '<CONT_33_3>', '<END_179>', '<CONT_279_5>', '<END_337>', '<CONT_10_4>', '<START_223>', '<CONT_315_1>', '<CONT_321_1>', '<CONT_354_3>', '<END_294>', '<CONT_282_1>', '<CONT_296_5>', '<CONT_210_4>', '<START_135>', '<CONT_336_4>', '<CONT_401_3>', '<CONT_362_1>', '<CONT_313_4>', '<CONT_392_5>', '<END_72>', '<CONT_80_4>', '<CONT_344_1>', '<CONT_112_2>', '<END_241>', '<CONT_352_3>', '<CONT_232_1>', '<CONT_81_5>', '<CONT_38_2>', '<CONT_29_3>', '<CONT_204_3>', '<END_377>', '<CONT_239_1>', '<CONT_43_2>', '<CONT_242_4>', '<CONT_316_1>', '<CONT_234_5>', '<CONT_91_4>', '<END_295>', '<CONT_361_5>', '<END_385>', '<CONT_313_2>', '<START_36>', '<CONT_332_1>', '<END_257>', '<CONT_360_2>', '<END_61>', '<START_191>', '<START_134>', '<CONT_402_1>', '<CONT_317_1>', '<START_386>', '<CONT_371_1>', '<CONT_83_2>', '<START_107>', '<CONT_332_3>', '<CONT_245_2>', '<CONT_383_4>', '<CONT_215_4>', '<CONT_35_2>', '<CONT_207_3>', '<CONT_13_5>', '<END_144>', '<CONT_235_2>', '<CONT_148_3>', '<CONT_157_2>', '<CONT_366_1>', '<END_13>', '<CONT_35_5>', '<CONT_233_1>', '<END_197>', '<CONT_254_2>', '<CONT_15_3>', '<CONT_230_3>', '<CONT_94_4>', '<START_255>', '<CONT_83_1>', '<CONT_57_1>', '<CONT_153_5>', '<END_120>', '<END_95>', '<CONT_384_4>', '<CONT_148_2>', '<CONT_228_5>', '<CONT_320_1>', '<CONT_355_1>', '<START_173>', '<CONT_325_1>', '<CONT_51_1>', '<CONT_368_5>', '<CONT_81_4>', '<START_385>', '<CONT_341_5>', '<CONT_402_4>', '<START_157>', '<CONT_263_3>', '<CONT_115_5>', '<START_190>', '<END_15>', '<CONT_90_1>', '<CONT_127_5>', '<START_321>', '<END_381>', '<CONT_27_3>', '<CONT_166_4>', '<END_388>', '<CONT_399_3>', '<CONT_159_1>', '<END_169>', '<END_41>', '<END_310>', '<CONT_329_2>', '<CONT_130_3>', '<CONT_314_3>', '<CONT_46_4>', '<CONT_202_2>', '<START_273>', '<START_37>', '<END_275>', '<CONT_283_3>', '<CONT_209_2>', '<CONT_381_1>', '<START_210>', '<CONT_40_5>', '<CONT_247_2>', '<END_305>', '<START_201>', '<CONT_226_2>', '<CONT_315_5>', '<CONT_27_2>', '<CONT_220_5>', '<CONT_44_3>', '<CONT_0_4>', '<END_292>', '<CONT_222_3>', '<CONT_332_4>', '<START_167>', '<END_166>', '<END_227>', '<CONT_71_2>', '<CONT_259_1>', '<END_369>', '<CONT_187_3>', '<CONT_56_1>', '<CONT_77_1>', '<END_89>', '<START_71>', '<CONT_175_4>', '<START_159>', '<CONT_194_3>', '<END_78>', '<START_5>', '<START_166>', '<CONT_393_4>', '<CONT_336_5>', '<START_104>', '<CONT_366_5>', '<CONT_264_1>', '<CONT_78_1>', '<CONT_215_5>', '<CONT_232_3>', '<START_64>', '<CONT_267_2>', '<CONT_88_2>', '<CONT_166_3>', '<CONT_164_2>', '<CONT_381_3>', '<CONT_354_4>', '<CONT_161_2>', '<CONT_330_2>', '<CONT_393_5>', '<CONT_26_2>', '<CONT_34_3>', '<CONT_323_4>', '<CONT_208_4>', '<CONT_309_1>', '<END_392>', '<CONT_326_5>', '<CONT_138_1>', '<CONT_351_2>', '<END_75>', '<CONT_132_4>', '<CONT_189_3>', '<END_94>', '<CONT_87_5>', '<CONT_196_4>', '<CONT_52_2>', '<CONT_195_1>', '<CONT_391_2>', '<START_263>', '<CONT_219_4>', '<CONT_380_2>', '<END_222>', '<START_160>', '<CONT_301_4>', '<END_316>', '<START_82>', '<CONT_326_1>', '<START_317>', '<CONT_196_5>', '<CONT_77_5>', '<END_383>', '<CONT_340_3>', '<CONT_360_5>', '<CONT_100_2>', '<START_232>', '<CONT_381_5>', '<CONT_261_2>', '<CONT_358_2>', '<CONT_329_5>', '<CONT_342_3>', '<CONT_1_3>', '<CONT_380_1>', '<CONT_218_2>', '<CONT_120_1>', '<CONT_292_5>', '<END_308>', '<CONT_221_2>', '<START_264>', '<END_133>', '<CONT_312_4>', '<CONT_361_4>', '<START_3>', '<END_146>', '<CONT_236_1>', '<CONT_251_5>', '<CONT_254_4>', '<CONT_47_4>', '<CONT_73_2>', '<START_98>', '<CONT_58_3>', '<CONT_287_2>', '<CONT_12_4>', '<END_43>', '<CONT_328_1>', '<CONT_377_4>', '<START_69>', '<CONT_369_4>', '<CONT_209_5>', '<CONT_298_1>', '<CONT_176_2>', '<CONT_356_4>', '<CONT_183_3>', '<CONT_362_3>', '<START_244>', '<CONT_147_3>', '<CONT_139_2>', '<END_206>', '<CONT_133_1>', '<CONT_83_4>', '<CONT_303_1>', '<CONT_298_5>', '<CONT_78_2>', '<CONT_305_2>', '<CONT_38_1>', '<CONT_116_3>', '<CONT_49_2>', '<CONT_133_4>', '<START_90>', '<CONT_323_2>', '<CONT_236_5>', '<START_270>', '<CONT_397_3>', '<CONT_68_2>', '<CONT_161_3>', '<CONT_279_4>', '<START_39>', '<START_169>', '<CONT_368_2>', '<CONT_288_3>', '<CONT_370_2>', '<CONT_190_5>', '<CONT_141_2>', '<CONT_220_4>', '<CONT_253_2>', '<END_354>', '<CONT_232_2>', '<START_354>', '<CONT_361_3>', '<CONT_105_2>', '<CONT_325_2>', '<CONT_146_1>', '<CONT_151_2>', '<CONT_144_2>', '<CONT_46_2>', '<CONT_123_1>', '<CONT_396_2>', '<END_111>', '<CONT_256_1>', '<CONT_160_4>', '<CONT_283_4>', '<CONT_390_4>', '<CONT_176_5>', '<CONT_292_2>', '<CONT_207_2>', '<START_141>', '<CONT_52_5>', '<CONT_209_4>', '<CONT_237_5>', '<CONT_391_4>', '<CONT_148_1>', '<CONT_52_1>', '<END_157>', '<CONT_210_2>', '<END_406>', '<CONT_223_1>', '<CONT_376_2>', '<CONT_146_4>', '<CONT_63_3>', '<END_229>', '<CONT_82_3>', '<CONT_66_5>', '<CONT_54_4>', '<CONT_165_3>', '<START_131>', '<CONT_400_3>', '<CONT_93_2>', '<CONT_115_3>', '<CONT_24_1>', '<START_75>', '<START_258>', '<CONT_126_1>', '<END_28>', '<END_47>', '<CONT_207_5>', '<CONT_347_2>', '<CONT_90_4>', '<CONT_5_2>', '<CONT_217_1>', '<START_293>', '<CONT_171_5>', '<CONT_32_1>', '<CONT_16_2>', '<CONT_392_2>', '<CONT_54_5>', '<CONT_123_4>', '<CONT_271_5>', '<CONT_50_2>', '<START_350>', '<CONT_137_3>', '<CONT_353_1>', '<START_198>', '<START_398>', '<CONT_73_4>', '<CONT_316_3>', '<CONT_372_1>', '<START_239>', '<CONT_35_3>', '<CONT_285_4>', '<CONT_273_2>', '<CONT_12_3>', '<START_238>', '<CONT_150_1>', '<CONT_298_2>', '<END_160>', '<CONT_111_2>', '<CONT_230_2>', '<CONT_381_2>', '<CONT_24_3>', '<CONT_272_2>', '<START_358>', '<START_65>', '<END_334>', '<CONT_134_3>', '<CONT_288_2>', '<START_399>', '<CONT_133_5>', '<CONT_106_1>', '<CONT_117_5>', '<CONT_345_4>', '<CONT_260_4>', '<CONT_142_2>', '<END_172>', '<CONT_389_3>', '<CONT_378_2>', '<CONT_289_4>', '<CONT_60_2>', '<CONT_376_1>', '<CONT_148_4>', '<CONT_208_3>', '<END_18>', '<CONT_316_2>', '<CONT_114_2>', '<CONT_370_5>', '<CONT_50_3>', '<START_48>', '<END_66>', '<END_365>', '<CONT_151_4>', '<CONT_206_3>', '<CONT_20_1>', '<END_341>', '<END_207>', '<CONT_264_5>', '<END_134>', '<CONT_351_3>', '<CONT_178_1>', '<START_51>', '<END_33>', '<CONT_13_1>', '<CONT_197_4>', '<CONT_223_2>', '<START_200>', '<CONT_123_5>', '<CONT_384_1>', '<CONT_364_2>', '<CONT_131_3>', '<END_237>', '<CONT_100_3>', '<CONT_76_1>', '<START_196>', '<CONT_164_1>', '<CONT_10_5>', '<START_243>', '<CONT_379_1>', '<CONT_33_5>', '<START_297>', '<START_174>', '<START_357>', '<START_236>', '<CONT_365_1>', '<CONT_86_5>', '<CONT_80_2>', '<START_186>', '<CONT_340_5>', '<CONT_55_3>', '<CONT_32_4>', '<CONT_120_2>', '<CONT_124_4>', '<CONT_14_4>', '<START_139>', '<CONT_331_4>', '<START_260>', '<START_168>', '<CONT_318_2>', '<CONT_62_4>', '<CONT_146_3>', '<CONT_394_1>', '<CONT_56_2>', '<CONT_251_3>', '<CONT_127_2>', '<START_361>', '<CONT_152_5>', '<CONT_34_2>', '<END_285>', '<CONT_101_2>', '<CONT_84_1>', '<CONT_252_5>', '<CONT_341_1>', '<START_384>', '<CONT_65_1>', '<CONT_156_2>', '<CONT_226_4>', '<CONT_300_4>', '<CONT_306_5>', '<END_112>', '<CONT_217_4>', '<CONT_317_2>', '<CONT_369_2>', '<END_36>', '<CONT_273_5>', '<CONT_45_4>', '<CONT_403_3>', '<CONT_52_3>', '<CONT_154_1>', '<START_276>', '<CONT_179_1>', '<CONT_295_2>', '<END_192>', '<CONT_266_4>', '<CONT_4_5>', '<CONT_193_1>', '<CONT_198_3>', '<CONT_19_4>', '<CONT_194_2>', '<CONT_265_3>', '<END_349>', '<CONT_159_5>', '<START_292>', '<CONT_315_2>', '<CONT_355_5>', '<START_4>', '<CONT_92_1>', '<CONT_362_4>', '<CONT_144_4>', '<CONT_0_3>', '<CONT_332_5>', '<CONT_377_2>', '<CONT_261_3>', '<CONT_67_5>', '<CONT_176_1>', '<START_234>', '<CONT_204_4>', '<END_270>', '<CONT_302_5>', '<START_377>', '<CONT_86_2>', '<START_366>', '<CONT_233_3>', '<CONT_53_2>', '<CONT_113_1>', '<CONT_231_3>', '<END_404>', '<CONT_322_2>', '<CONT_281_3>', '<END_382>', '<CONT_273_4>', '<CONT_95_5>', '<END_174>', '<CONT_100_4>', '<CONT_396_1>', '<CONT_382_2>', '<CONT_107_3>', '<START_219>', '<START_206>', '<END_375>', '<CONT_85_4>', '<END_26>', '<CONT_300_2>', '<CONT_19_5>', '<CONT_203_4>', '<END_198>', '<CONT_375_5>', '<CONT_354_2>', '<CONT_214_2>', '<CONT_84_2>', '<CONT_138_2>', '<CONT_217_5>', '<CONT_391_3>', '<END_309>', '<CONT_351_1>', '<CONT_390_2>', '<CONT_390_5>', '<CONT_11_3>', '<CONT_221_5>', '<CONT_236_3>', '<CONT_382_1>', '<CONT_364_1>', '<END_291>', '<CONT_225_4>', '<START_178>', '<CONT_310_2>', '<CONT_242_2>', '<END_282>', '<END_86>', '<CONT_189_5>', '<END_228>', '<CONT_24_2>', '<START_228>', '<CONT_192_3>', '<CONT_231_5>', '<CONT_29_2>', '<END_378>', '<CONT_9_4>', '<CONT_89_5>', '<CONT_102_5>', '<CONT_125_1>', '<CONT_163_4>', '<START_230>', '<CONT_3_2>', '<CONT_288_5>', '<END_311>', '<CONT_318_1>', '<CONT_55_1>', '<CONT_30_3>', '<CONT_139_3>', '<START_397>', '<CONT_136_1>', '<CONT_96_4>', '<CONT_122_5>', '<CONT_155_1>', '<END_248>', '<CONT_182_4>', '<CONT_278_1>', '<CONT_76_4>', '<CONT_237_2>', '<CONT_259_4>', '<END_376>', '<START_254>', '<CONT_144_1>', '<START_197>', '<START_237>', '<CONT_99_2>', '<CONT_118_4>', '<START_401>', '<CONT_277_5>', '<CONT_272_1>', '<CONT_85_2>', '<CONT_284_5>', '<CONT_319_3>', '<START_181>', '<CONT_211_1>', '<CONT_378_1>', '<START_373>', '<CONT_379_4>', '<CONT_101_5>', '<CONT_169_1>', '<CONT_116_5>', '<END_31>', '<CONT_285_5>', '<CONT_314_5>', '<START_124>', '<CONT_299_1>', '<END_312>', '<CONT_2_3>', '<CONT_157_4>', '<CONT_63_1>', '<CONT_109_2>', '<END_44>', '<CONT_28_5>', '<END_201>', '<START_28>', '<CONT_309_5>', '<CONT_183_1>', '<CONT_2_2>', '<START_344>', '<CONT_337_2>', '<CONT_87_3>', '<CONT_251_1>', '<CONT_345_2>', '<END_63>', '<CONT_334_3>', '<START_251>', '<END_199>', '<CONT_385_2>', '<CONT_60_5>', '<END_205>', '<END_167>', '<CONT_124_5>', '<CONT_220_2>', '<CONT_318_5>', '<CONT_203_5>', '<START_118>', '<CONT_109_5>', '<CONT_236_2>', '<CONT_386_2>', '<START_329>', '<START_85>', '<CONT_266_2>', '<START_338>', '<CONT_247_4>', '<CONT_177_3>', '<CONT_365_5>', '<CONT_326_3>', '<CONT_54_3>', '<CONT_127_3>', '<CONT_49_4>', '<CONT_366_2>', '<CONT_352_1>', '<CONT_64_5>', '<CONT_243_3>', '<END_215>', '<CONT_223_5>', '<CONT_94_2>', '<CONT_43_1>', '<CONT_272_3>', '<CONT_45_2>', '<END_390>', '<START_395>', '<CONT_47_2>', '<CONT_2_1>', '<CONT_167_3>', '<START_42>', '<CONT_145_2>', '<CONT_205_2>', '<START_70>', '<CONT_241_1>', '<CONT_242_1>', '<CONT_96_5>', '<CONT_260_1>', '<END_313>', '<START_25>', '<CONT_229_1>', '<CONT_319_5>', '<START_323>', '<CONT_249_5>', '<END_122>', '<CONT_331_5>', '<CONT_283_5>', '<CONT_264_2>', '<CONT_175_2>', '<CONT_191_3>', '<CONT_324_3>', '<CONT_401_2>', '<CONT_344_3>', '<CONT_348_5>', '<END_150>', '<CONT_86_4>', '<CONT_213_5>', '<CONT_351_4>', '<CONT_218_4>', '<START_271>', '<CONT_396_3>', '<END_303>', '<CONT_344_4>', '<CONT_56_4>', '<CONT_291_4>', '<CONT_344_5>', '<CONT_190_3>', '<CONT_334_2>', '<CONT_395_5>', '<END_99>', '<CONT_60_1>', '<CONT_198_4>', '<CONT_253_5>', '<START_170>', '<CONT_333_4>', '<START_290>', '<END_359>', '<CONT_117_1>', '<CONT_245_3>', '<CONT_316_5>', '<CONT_110_3>', '<END_62>', '<CONT_232_4>', '<CONT_389_1>', '<CONT_28_1>', '<CONT_239_4>', '<START_291>', '<START_47>', '<CONT_316_4>', '<END_395>', '<CONT_268_5>', '<START_18>', '<CONT_337_1>', '<END_327>', '<CONT_373_2>', '<START_40>', '<END_40>', '<CONT_91_5>', '<CONT_113_5>', '<END_24>', '<CONT_21_1>', '<CONT_246_3>', '<CONT_349_3>', '<CONT_2_4>', '<CONT_262_5>', '<START_246>', '<CONT_337_5>', '<END_7>', '<END_258>', '<CONT_3_1>', '<START_147>', '<END_113>', '<CONT_323_5>', '<CONT_53_3>', '<END_214>', '<CONT_169_4>', '<CONT_174_1>', '<CONT_224_5>', '<CONT_212_3>', '<CONT_242_5>', '<END_379>', '<CONT_101_1>', '<CONT_203_1>', '<CONT_220_1>', '<CONT_38_3>', '<CONT_97_4>', '<CONT_346_3>', '<CONT_367_1>', '<CONT_230_4>', '<END_224>', '<END_290>', '<END_165>', '<CONT_287_1>', '<CONT_195_4>', '<START_122>', '<CONT_273_3>', '<CONT_211_4>', '<CONT_359_1>', '<CONT_244_1>', '<END_394>', '<CONT_87_1>', '<CONT_87_4>', '<CONT_385_3>', '<CONT_188_1>', '<CONT_1_1>', '<START_119>', '<CONT_79_2>', '<CONT_43_4>', '<CONT_140_5>', '<END_324>', '<CONT_309_2>', '<END_280>', '<CONT_314_4>', '<END_1>', '<CONT_76_2>', '<END_314>', '<CONT_3_3>', '<START_362>', '<CONT_102_4>', '<END_387>', '<CONT_90_2>', '<CONT_125_5>', '<START_89>', '<START_199>', '<END_279>', '<CONT_99_1>', '<CONT_225_3>', '<CONT_129_3>', '<CONT_336_2>', '<END_402>', '<CONT_321_5>', '<CONT_136_2>', '<CONT_212_2>', '<CONT_403_5>', '<CONT_398_5>', '<CONT_201_5>', '<CONT_189_2>', '<CONT_368_4>', '<CONT_25_4>', '<CONT_373_4>', '<START_218>', '<CONT_366_4>', '<CONT_65_5>', '<START_212>', '<END_16>', '<START_123>', '<CONT_28_2>', '<END_326>', '<CONT_393_3>', '<CONT_320_2>', '<END_68>', '<CONT_140_3>', '<END_97>', '<CONT_358_5>', '<CONT_388_2>', '<CONT_215_2>', '<START_162>', '<CONT_141_3>', '<START_222>', '<END_386>', '<CONT_67_1>', '<CONT_364_3>', '<CONT_250_4>', '<CONT_207_4>', '<CONT_145_1>', '<CONT_22_3>', '<START_99>', '<CONT_25_3>', '<CONT_245_5>', '<START_389>', '<CONT_337_3>', '<CONT_131_5>', '<START_8>', '<CONT_206_4>', '<END_230>', '<START_54>', '<CONT_356_1>', '<CONT_311_4>', '<CONT_166_2>', '<CONT_258_5>', '<CONT_17_5>', '<CONT_359_5>', '<CONT_37_1>', '<CONT_148_5>', '<CONT_216_3>', '<END_136>', '<CONT_16_3>', '<CONT_295_5>', '<CONT_214_4>', '<START_229>', '<CONT_163_5>', '<START_371>', '<END_357>', '<END_106>', '<END_210>', '<CONT_202_3>', '<CONT_46_1>', '<CONT_369_5>', '<START_34>', '<CONT_379_2>', '<END_331>', '<CONT_243_1>', '<CONT_62_2>', '<CONT_377_3>', '<CONT_88_3>', '<CONT_135_1>', '<CONT_375_1>', '<CONT_21_3>', '<CONT_395_2>', '<CONT_305_1>', '<CONT_126_5>', '<CONT_324_1>', '<CONT_325_3>', '<CONT_367_3>', '<CONT_64_1>', '<CONT_98_2>', '<CONT_285_3>', '<CONT_354_5>', '<CONT_286_2>', '<END_340>', '<CONT_302_4>', '<START_224>', '<CONT_211_2>', '<CONT_98_4>', '<CONT_363_4>', '<CONT_352_5>', '<START_74>', '<END_296>', '<CONT_155_4>', '<CONT_178_5>', '<CONT_1_5>', '<CONT_9_2>', '<START_215>', '<END_300>', '<CONT_31_2>', '<CONT_188_3>', '<CONT_239_3>', '<END_281>', '<CONT_363_5>', '<CONT_200_4>', '<END_145>', '<CONT_403_1>', '<START_105>', '<CONT_109_1>', '<CONT_222_4>', '<CONT_57_2>', '<CONT_93_4>', '<CONT_215_1>', '<CONT_302_3>', '<CONT_167_4>', '<CONT_290_4>', '<CONT_107_2>', '<END_65>', '<END_196>', '<CONT_277_3>', '<CONT_388_4>', '<CONT_20_4>', '<CONT_302_1>', '<CONT_204_2>', '<START_176>', '<START_334>', '<CONT_45_1>', '<CONT_36_3>', '<CONT_226_5>', '<CONT_350_5>', '<CONT_386_5>', '<START_30>', '<CONT_319_2>', '<START_359>', '<START_53>', '<END_50>', '<CONT_351_5>', '<CONT_399_5>', '<CONT_269_4>', '<CONT_353_2>', '<CONT_391_5>', '<CONT_163_1>', '<CONT_131_1>', '<END_277>', '<CONT_130_4>', '<CONT_404_4>', '<CONT_367_5>', '<CONT_327_3>', '<CONT_39_5>', '<CONT_75_3>', '<CONT_105_3>', '<CONT_344_2>', '<CONT_276_4>', '<CONT_155_3>', '<CONT_187_5>', '<END_330>', '<CONT_188_4>', '<CONT_72_1>', '<CONT_37_3>', '<CONT_330_1>', '<CONT_360_4>', '<CONT_128_3>', '<CONT_278_3>', '<CONT_329_4>', '<CONT_269_5>', '<CONT_254_5>', '<END_315>', '<CONT_281_5>', '<END_118>', '<CONT_174_4>', '<START_106>', '<CONT_312_2>', '<CONT_391_1>', '<CONT_85_5>', '<CONT_96_1>', '<CONT_306_3>', '<CONT_265_5>', '<START_44>', '<CONT_68_4>', '<CONT_220_3>', '<START_55>', '<CONT_132_3>', '<CONT_51_4>', '<END_263>', '<CONT_342_1>', '<END_329>', '<END_137>', '<CONT_397_2>', '<CONT_252_2>', '<CONT_144_5>', '<START_12>', '<START_294>', '<END_283>', '<CONT_61_4>', '<CONT_395_1>', '<CONT_74_4>', '<CONT_112_1>', '<CONT_128_5>', '<START_353>', '<CONT_350_3>', '<CONT_406_1>', '<START_284>', '<CONT_378_5>', '<CONT_5_1>', '<CONT_126_2>', '<CONT_168_1>', '<START_272>', '<CONT_271_4>', '<CONT_399_2>', '<CONT_99_3>', '<END_159>', '<CONT_397_1>', '<START_331>', '<CONT_259_5>', '<CONT_183_4>', '<END_323>', '<CONT_186_2>', '<CONT_263_5>', '<START_265>', '<END_71>', '<CONT_48_2>', '<CONT_263_2>', '<END_297>', '<START_315>', '<CONT_107_5>', '<START_325>', '<CONT_402_5>', '<CONT_142_3>', '<CONT_164_4>', '<CONT_193_4>', '<START_76>', '<CONT_18_2>', '<CONT_309_4>', '<CONT_26_5>', '<CONT_91_2>', '<CONT_212_5>', '<CONT_333_3>', '<CONT_42_2>', '<CONT_36_4>', '<CONT_54_1>', '<CONT_311_1>', '<END_328>', '<END_91>', '<END_177>', '<CONT_308_2>', '<CONT_248_3>', '<CONT_194_1>', '<START_322>', '<CONT_341_3>', '<END_364>', '<START_340>', '<START_125>', '<CONT_92_2>', '<CONT_271_2>', '<CONT_171_1>', '<CONT_270_4>', '<CONT_377_1>', '<END_246>', '<CONT_289_5>', '<CONT_32_2>', '<CONT_292_4>', '<CONT_51_5>', '<CONT_19_3>', '<CONT_201_4>', '<START_390>', '<CONT_346_2>', '<CONT_176_3>', '<END_182>', '<CONT_257_2>', '<CONT_195_2>', '<START_0>', '<START_180>', '<END_273>', '<END_39>']\n",
            "10595\n"
          ]
        }
      ]
    },
    {
      "cell_type": "code",
      "source": [
        "from transformers import Seq2SeqTrainingArguments, Seq2SeqTrainer, BartForConditionalGeneration, BartTokenizer, BartConfig\n",
        "input_max_length=global_chunk_size\n",
        "target_max_length=global_chunk_size\n",
        "\n",
        "checkpoint='facebook/bart-base'\n",
        "tokenizer = BartTokenizer.from_pretrained(checkpoint)\n",
        "\n",
        "# Add the new words to the tokenizer's vocabulary\n",
        "tokenizer.add_tokens(custom_vocab)\n",
        "\n",
        "config = BartConfig.from_pretrained(checkpoint)\n",
        "config.vocab_size = config.vocab_size + len(custom_vocab)\n",
        "\n",
        "model = BartForConditionalGeneration(config=config)\n",
        "print('Default BART model vocab size: 50265')\n",
        "print('New model vocab size: ', config.vocab_size)\n",
        "print('Tokenizer vocab size: ', tokenizer.vocab_size)"
      ],
      "metadata": {
        "colab": {
          "base_uri": "https://localhost:8080/",
          "height": 165,
          "referenced_widgets": [
            "48ddc07deb2746ad908843732368a49b",
            "169202dc5b03496c8421f2bd43d2ab96",
            "4fd19281413a4799bf1f2abe5dd157a8",
            "ce1c5d1a3a864f39b7711b6f9ed0169b",
            "2f747d53532e4e34864c50290c18f9fe",
            "a24840465f044ccdbe4611a1f603c4dc",
            "f63debbc406944b6aa23340b657f0040",
            "638680d5988a49a592d0dc014519c423",
            "00d1d7750d534239b9aef19a2f1c6898",
            "ab1d7d8b30024e849a322a588dcf0c89",
            "1e4b71e20ffd4dffb4e83bfc02881ad0",
            "2a84112a9ece4896929ad6006664a851",
            "a64355aeb27747faa96806dae3bb40dc",
            "805c6e5d2dcb4b3e9c1266d40ae4ece5",
            "06527509962144e5a1a0a9fb31b1f22b",
            "3300edc0f3c84c92ab501d28241b89ac",
            "47c0bca085db45cabdf1112e399aa8ce",
            "249229de75764f098d2384560d073567",
            "3c334126b08647e8aaa2afc2c1eaa5d0",
            "81d2edc68070467aab86e1abecd8a47b",
            "a592fb1b27204bea8b723212b402736f",
            "cb432d5c76434ba9bdb29748674541ee",
            "940663d803ce465390579ad06798a4f5",
            "7b1e2b00a0024c1b91193e7263756053",
            "18dd0fc8caee454bb62b5ae7e0b3a7db",
            "dec7f54e774a433190bba80840968241",
            "e0d2a935de1843d9a8312ab8278778f4",
            "78c2189bf9b148d8a420ca1bc12f2ba8",
            "fbd97d755c364c678a9e013cd8b39d57",
            "f60aaa0781bd44479c94e48b8e494456",
            "1291648528f04c98a79135fa2514936c",
            "73fb7f11808346a2b30946d6577045c2",
            "24e852a0891d43a0824ef2403959f5dd"
          ]
        },
        "id": "MyB7yxejWp26",
        "outputId": "d3415863-fa0b-4f48-8670-f299720039ea"
      },
      "execution_count": 31,
      "outputs": [
        {
          "output_type": "display_data",
          "data": {
            "text/plain": [
              "Downloading (…)olve/main/vocab.json:   0%|          | 0.00/899k [00:00<?, ?B/s]"
            ],
            "application/vnd.jupyter.widget-view+json": {
              "version_major": 2,
              "version_minor": 0,
              "model_id": "48ddc07deb2746ad908843732368a49b"
            }
          },
          "metadata": {}
        },
        {
          "output_type": "display_data",
          "data": {
            "text/plain": [
              "Downloading (…)olve/main/merges.txt:   0%|          | 0.00/456k [00:00<?, ?B/s]"
            ],
            "application/vnd.jupyter.widget-view+json": {
              "version_major": 2,
              "version_minor": 0,
              "model_id": "2a84112a9ece4896929ad6006664a851"
            }
          },
          "metadata": {}
        },
        {
          "output_type": "display_data",
          "data": {
            "text/plain": [
              "Downloading (…)lve/main/config.json:   0%|          | 0.00/1.72k [00:00<?, ?B/s]"
            ],
            "application/vnd.jupyter.widget-view+json": {
              "version_major": 2,
              "version_minor": 0,
              "model_id": "940663d803ce465390579ad06798a4f5"
            }
          },
          "metadata": {}
        },
        {
          "output_type": "stream",
          "name": "stdout",
          "text": [
            "Default BART model vocab size: 50265\n",
            "New model vocab size:  60860\n",
            "Tokenizer vocab size:  50265\n"
          ]
        }
      ]
    },
    {
      "cell_type": "code",
      "source": [
        "for token in custom_vocab:\n",
        "    if token in tokenizer.get_vocab():\n",
        "        print(f\"Token '{token}' already in vocabulary\")\n",
        "        break\n",
        "    else:\n",
        "        print(f\"Token '{token}' not in vocabulary\")"
      ],
      "metadata": {
        "colab": {
          "base_uri": "https://localhost:8080/"
        },
        "id": "hFKRnRXua5d8",
        "outputId": "f277dea7-6e37-4b52-9a1d-5f5195171b24"
      },
      "execution_count": 32,
      "outputs": [
        {
          "output_type": "stream",
          "name": "stdout",
          "text": [
            "Token '188.44' already in vocabulary\n"
          ]
        }
      ]
    },
    {
      "cell_type": "code",
      "source": [
        "tokenizer.vocab_size\n",
        "# this is also the same for BARTConfig"
      ],
      "metadata": {
        "colab": {
          "base_uri": "https://localhost:8080/"
        },
        "id": "oDhHlECKgeGm",
        "outputId": "28c55cdf-aa44-4c0c-9695-f0bd027d44e5"
      },
      "execution_count": 33,
      "outputs": [
        {
          "output_type": "execute_result",
          "data": {
            "text/plain": [
              "50265"
            ]
          },
          "metadata": {},
          "execution_count": 33
        }
      ]
    },
    {
      "cell_type": "markdown",
      "source": [
        " the return_tensors='pt' argument is needed if you want the tokenizer function to return PyTorch tensors instead of tokenized text. This is useful if you plan to directly pass the output of the tokenizer to a BART model, as BART expects PyTorch tensors as input. If you don't use return_tensors='pt', the tokenizer function will return a dictionary of lists, where each list contains the tokenized text."
      ],
      "metadata": {
        "id": "dwXPF4dgOjwS"
      }
    },
    {
      "cell_type": "code",
      "source": [
        "def tokenizer_fn(batch):\n",
        "    # Get the inputs and targets from the batch\n",
        "    examples = batch['translation']\n",
        "    example_ids = batch['id']\n",
        "\n",
        "    # Create a list of dictionaries that contain both the input, target, and example id\n",
        "    example_dicts = [{'input': eval(x)['input'], 'target': eval(x)['target'], 'id': ex_id} for x, ex_id in zip(examples, example_ids)]\n",
        "    \n",
        "    # Sort the examples based on the 'id' key in each dictionary\n",
        "    examples = sorted(example_dicts, key=lambda x: x['id'])\n",
        "    \n",
        "    # Extract the inputs and targets from the sorted examples\n",
        "    inputs = [' '.join(ex['input']) for ex in examples]\n",
        "    targets = [' '.join(ex['target']) for ex in examples]\n",
        "\n",
        "    # Tokenize the inputs and targets\n",
        "    tokenized_inputs = tokenizer(inputs, max_length=global_chunk_size, truncation=True)\n",
        "    tokenized_targets = tokenizer(targets, max_length=global_chunk_size, truncation=True)\n",
        "    \n",
        "    # Add the labels to the tokenized_inputs\n",
        "    tokenized_inputs['labels'] = tokenized_targets['input_ids']\n",
        "    print(f'Batch chunk sizes: ', global_chunk_size)\n",
        "    return tokenized_inputs\n"
      ],
      "metadata": {
        "id": "tQaGaBfGSuU0"
      },
      "execution_count": 34,
      "outputs": []
    },
    {
      "cell_type": "code",
      "source": [
        "dataset_train_df = pd.DataFrame(dataset_dict['train'])\n",
        "dataset_test_df = pd.DataFrame(dataset_dict['test'])\n",
        "dataset_train_df.to_csv('dataset_train_df.csv')\n",
        "dataset_test_df.to_csv('dataset_test_df.csv')"
      ],
      "metadata": {
        "id": "rmhOIowMNaBR"
      },
      "execution_count": 35,
      "outputs": []
    },
    {
      "cell_type": "code",
      "source": [
        "# Apply the tokenizer function to the dataset using the 'map()' method\n",
        "tokenized_datasets = dataset_dict.map(\n",
        "    tokenizer_fn,\n",
        "    batched=True,\n",
        "    remove_columns=dataset_dict['train'].column_names\n",
        ")"
      ],
      "metadata": {
        "colab": {
          "base_uri": "https://localhost:8080/",
          "height": 86,
          "referenced_widgets": [
            "438f9ccc2f364e198c0a4bcabccb3262",
            "c84593bdae50471ea56ac7c58f157b0b",
            "0105c39689df44ca8fd000496a2db1be",
            "fa0f20348eef42cabfa0d54b47647af1",
            "eb5a17c47fa5429ea8f53a26cd7bfbe0",
            "45d319150055453cb693497457fbd50d",
            "726ac822776448b980eeb58472fdfa9b",
            "e6a9ee468e5e4b1ba834f91e031bfa92",
            "91e4d0d861184badbad08d7fc1f5a8fc",
            "0c35d456c57e424a9f765c7bb96501ab",
            "f124d9384b1a43dfaa9f4c01a3dae68f",
            "03c92738ad2d439ba3d9274b34c75584",
            "0dd10acd43124ad4a4abec792a248c08",
            "0a8360ec36024af3a688926869fe8899",
            "59074c023d104962a7890c43de6d4559",
            "40df726c3bc2428dbaf821363a390f0d",
            "6f9d79ffd093454d962bc92d08e39780",
            "c504c7ae706045ff918ce7dd152c36a3",
            "ee8f63c9e32b45f483aa2afd9fe10e63",
            "387393d562d84e91a8cc9159e0d2f3de",
            "ad500adee5b84276ae030e00912f2ac6",
            "9906f4d00fd04cada0319a91f0289c71"
          ]
        },
        "id": "v3ru0xxUsbKI",
        "outputId": "0da0e222-ddd3-4d8a-8efd-00402b09026c"
      },
      "execution_count": 36,
      "outputs": [
        {
          "output_type": "display_data",
          "data": {
            "text/plain": [
              "Map:   0%|          | 0/2279 [00:00<?, ? examples/s]"
            ],
            "application/vnd.jupyter.widget-view+json": {
              "version_major": 2,
              "version_minor": 0,
              "model_id": "438f9ccc2f364e198c0a4bcabccb3262"
            }
          },
          "metadata": {}
        },
        {
          "output_type": "stream",
          "name": "stdout",
          "text": [
            "Batch chunk sizes:  1006\n",
            "Batch chunk sizes:  1006\n",
            "Batch chunk sizes:  1006\n"
          ]
        },
        {
          "output_type": "display_data",
          "data": {
            "text/plain": [
              "Map:   0%|          | 0/570 [00:00<?, ? examples/s]"
            ],
            "application/vnd.jupyter.widget-view+json": {
              "version_major": 2,
              "version_minor": 0,
              "model_id": "03c92738ad2d439ba3d9274b34c75584"
            }
          },
          "metadata": {}
        },
        {
          "output_type": "stream",
          "name": "stdout",
          "text": [
            "Batch chunk sizes:  1006\n"
          ]
        }
      ]
    },
    {
      "cell_type": "code",
      "source": [
        "tokenized_datasets"
      ],
      "metadata": {
        "colab": {
          "base_uri": "https://localhost:8080/"
        },
        "id": "5uuAO0gPL7ZM",
        "outputId": "9958f90f-d727-4f05-caec-f76d6bf2333c"
      },
      "execution_count": 37,
      "outputs": [
        {
          "output_type": "execute_result",
          "data": {
            "text/plain": [
              "DatasetDict({\n",
              "    train: Dataset({\n",
              "        features: ['input_ids', 'attention_mask', 'labels'],\n",
              "        num_rows: 2279\n",
              "    })\n",
              "    test: Dataset({\n",
              "        features: ['input_ids', 'attention_mask', 'labels'],\n",
              "        num_rows: 570\n",
              "    })\n",
              "})"
            ]
          },
          "metadata": {},
          "execution_count": 37
        }
      ]
    },
    {
      "cell_type": "code",
      "source": [
        "def get_max_token_len(category):\n",
        "  # category is either 'input' or 'target'\n",
        "  data_string = [x for x in day]\n",
        "  data_string = [data_string[x][category] for x in range(0,len(data_string))]\n",
        "  data_string = [''.join(x) for x in data_string]\n",
        "  _tokenized_dataset = [tokenizer(x) for x in data_string] # gets the tokenized rides for that day's category\n",
        "  input_ids = [encoding[\"input_ids\"] for encoding in _tokenized_dataset] # gets the input ids so they can be maxxed\n",
        "  lens = [len(x) for x in input_ids]\n",
        "  print(lens)\n",
        "  plt.hist(lens, bins=50)\n",
        "  return max(lens), min(lens)"
      ],
      "metadata": {
        "id": "dKckBamYmigB"
      },
      "execution_count": 38,
      "outputs": []
    },
    {
      "cell_type": "code",
      "source": [
        "input_token_len = get_max_token_len('input')\n",
        "\n",
        "# The error \"Token indices sequence length is longer than the specified maximum sequence length for this model (1619 > 32). \n",
        "# Running this sequence through the model will result in indexing errors\n",
        "# occurs because the day sequence is longer than the model can handle, but we're just trying to get\n",
        "# the max tokens from day so we can use it for chunking above when we need to change chunking"
      ],
      "metadata": {
        "colab": {
          "base_uri": "https://localhost:8080/",
          "height": 320
        },
        "id": "NnVTTe8tm25r",
        "outputId": "609c2bc0-4b66-4d54-a30b-28ba91cc8fae"
      },
      "execution_count": 39,
      "outputs": [
        {
          "output_type": "stream",
          "name": "stderr",
          "text": [
            "Token indices sequence length is longer than the specified maximum sequence length for this model (3524 > 1024). Running this sequence through the model will result in indexing errors\n"
          ]
        },
        {
          "output_type": "stream",
          "name": "stdout",
          "text": [
            "[3524, 3575, 3765, 3334, 167, 5666, 4173, 5132, 2948, 4096, 3743, 5239, 4030, 5416, 4093, 5843, 3669, 5656, 4154, 6007, 4987, 5818, 3507, 5388, 4691, 5853, 5256, 5421, 3355, 5873, 4201, 5657, 4457, 4629, 2262, 5530, 3796, 5148, 4429, 5111, 1263, 1953, 5421, 3933, 5662, 3991, 5168, 2806, 5683, 4207, 5427, 4079, 5254, 3122, 4838, 3934, 4647, 4765, 4628, 2932, 5262, 4296, 5332, 4516, 4910, 3217, 5362, 4722, 4831, 3981, 5267, 3598, 5260, 4657, 5286, 4757, 5736, 3497, 5878, 4464, 5967, 4722, 5417, 3895, 5314, 4289, 5248, 4852, 5369, 3097, 6353, 5217, 5976, 4709, 5866, 3871, 6247, 4834, 5804, 4793, 5361, 3709, 5810, 5018, 5050, 5377, 5247, 3703, 6189, 4572, 5803, 4696, 5634, 3923, 5854, 4642, 5209, 4354, 5333, 3767, 5404, 5004, 5525, 4691, 5373, 3456, 5771, 4806, 5234, 4992, 5190, 3550, 5847, 4862, 5263, 4774, 5702, 3458, 5647, 5009, 5407, 4993, 5180, 3670, 5981, 4549, 5224, 5158, 5473, 3498, 6058, 5494, 5905, 4247, 4879, 3865, 6141, 4910, 5534, 4990, 5471, 3508, 6229, 5054, 5792, 4302, 5478, 3453, 2420, 2624, 2591, 2537, 2544, 2860, 5689, 4871, 4601, 4218, 5377, 3470, 4500, 4067, 5016, 4563, 5205, 3631, 5510, 4547, 5534, 4764, 5054, 4001, 4961, 4802, 6001, 5142, 4718, 3702, 4135, 4447, 5280, 4924, 5282, 3748, 5554, 4943, 5330, 5347, 4590, 3751, 5109, 4776, 6368, 4220, 5544, 3517, 6199, 4437, 5690, 4852, 6057, 3786, 2, 5687, 4672, 5443, 4983, 5249, 4187, 5604, 4560, 6270, 4162, 5236, 3529, 6000, 5215, 5940, 5387, 5239, 3683, 5930, 4979, 5341, 4448, 5120, 3694, 5527, 4660, 5691, 4219, 5182, 3627, 54, 4344, 4443, 5253, 4098, 4496, 3371, 5429, 4877, 5749, 5074, 4623, 3100, 4838, 4146, 5103, 4526, 4372, 3572, 5233, 4479, 5795, 4213, 4918, 3305, 5334, 4338, 5151, 4963, 5142, 3191, 4874, 4915, 4913, 4062, 5119, 3198, 5462, 4059, 5251, 4482, 5031, 3240, 4996, 4340, 5165, 3786, 4377, 3242, 5095, 4267, 4628, 5397, 5424, 3383, 6007, 4758, 5769, 5007, 5138, 3836, 5284, 5363, 5703, 5189, 5175, 4358, 5077, 4654, 5382, 3442, 4001, 4156, 5267, 5429, 4995, 5007, 4649, 3945, 4787, 4743, 5333, 5049, 4156, 4048, 5285, 4671, 5351, 5069, 5648, 3895, 5723, 4665, 5455, 5444, 4717, 3856, 4340, 4709, 5138, 4506, 4812, 4206, 4459, 5032, 5061, 4899, 4971, 4179, 5887, 5733, 6223, 5519, 5354, 3993, 5155, 5446, 5785, 4961, 6274, 4228, 6173, 5164, 6542, 5389, 5833, 4177, 6389, 4320, 6170, 5321, 5509, 4369, 6471, 4541, 5897, 4913, 5402, 4265, 6009, 4867, 5995, 4790, 5382, 4429, 4996, 5284, 5938, 5771, 4712, 4324, 6171, 5344, 6092, 5812, 6092, 4543, 64, 6367, 5429, 5703, 5596, 5546, 4908, 5928, 5094]\n"
          ]
        },
        {
          "output_type": "display_data",
          "data": {
            "text/plain": [
              "<Figure size 432x288 with 1 Axes>"
            ],
            "image/png": "[encoded data removed]"
          },
          "metadata": {
            "needs_background": "light"
          }
        }
      ]
    },
    {
      "cell_type": "code",
      "source": [
        "target_token_len = get_max_token_len('target')"
      ],
      "metadata": {
        "colab": {
          "base_uri": "https://localhost:8080/",
          "height": 302
        },
        "id": "HuCBB5rVpvrO",
        "outputId": "70c0d1cf-649c-4b99-f28f-4c2536b31739"
      },
      "execution_count": 40,
      "outputs": [
        {
          "output_type": "stream",
          "name": "stdout",
          "text": [
            "[3358, 3416, 3625, 3210, 161, 5438, 3983, 4924, 2804, 3935, 3569, 5000, 3880, 5214, 3923, 5582, 3524, 5419, 3982, 5731, 4749, 5584, 3359, 5170, 4481, 5583, 5008, 5167, 3204, 5628, 4027, 5429, 4239, 4439, 2178, 5263, 3611, 4947, 4238, 4912, 1181, 1872, 5210, 3769, 5425, 3816, 4958, 2684, 5462, 4015, 5216, 3918, 5058, 2997, 4640, 3770, 4430, 4544, 4438, 2797, 5048, 4127, 5107, 4330, 4692, 3097, 5153, 4537, 4642, 3824, 5062, 3455, 5055, 4483, 5063, 4554, 5522, 3358, 5633, 4280, 5736, 4537, 5206, 3724, 5107, 4120, 5009, 4645, 5160, 2956, 6090, 5005, 5718, 4508, 5630, 3718, 5988, 4645, 5588, 4615, 5161, 3562, 5567, 4814, 4844, 5168, 5051, 3565, 5923, 4402, 5578, 4504, 5415, 3777, 5618, 4461, 4997, 4192, 5108, 3618, 5193, 4800, 5310, 4499, 5155, 3310, 5503, 4610, 5004, 4806, 4996, 3418, 5620, 4655, 5058, 4553, 5472, 3312, 5410, 4814, 5162, 4755, 4943, 3516, 5714, 4345, 5003, 4914, 5260, 3359, 5771, 5272, 5676, 4080, 4688, 3721, 5877, 4701, 5310, 4804, 5267, 3360, 5988, 4848, 5576, 4133, 5256, 3307, 2330, 2526, 2495, 2434, 2432, 2754, 5452, 4682, 4413, 4053, 5143, 3333, 4307, 3908, 4830, 4359, 4986, 3479, 5279, 4361, 5294, 4570, 4866, 3844, 4768, 4572, 5770, 4934, 4508, 3539, 3981, 4274, 5084, 4733, 5077, 3592, 5330, 4734, 5123, 5140, 4411, 3586, 4919, 4573, 6123, 4055, 5338, 3378, 5960, 4255, 5453, 4663, 5806, 3637, 2, 5441, 4473, 5241, 4772, 5037, 4006, 5396, 4365, 6011, 3990, 5033, 3381, 5760, 5021, 5720, 5169, 5036, 3529, 5692, 4777, 5134, 4248, 4921, 3531, 5287, 4461, 5454, 4036, 4981, 3475, 52, 4148, 4261, 5032, 3937, 4303, 3220, 5184, 4670, 5510, 4859, 4442, 2959, 4658, 3992, 4870, 4340, 4192, 3431, 5030, 4313, 5545, 4039, 4727, 3174, 5118, 4151, 4925, 4770, 4916, 3073, 4658, 4724, 4713, 3903, 4920, 3071, 5233, 3891, 5030, 4298, 4827, 3120, 4767, 4171, 4939, 3628, 4197, 3122, 4871, 4100, 4456, 5170, 5188, 3232, 5758, 4564, 5546, 4769, 4921, 3685, 5079, 5138, 5491, 4961, 4974, 4153, 4862, 4455, 5130, 3271, 3835, 3993, 5028, 5227, 4775, 4812, 4459, 3790, 4557, 4558, 5126, 4852, 3993, 3889, 5080, 4454, 5126, 4854, 5429, 3733, 5484, 4448, 5226, 5224, 4516, 3687, 4153, 4465, 4921, 4304, 4607, 4050, 4259, 4819, 4830, 4665, 4769, 3998, 5660, 5494, 5966, 5279, 5129, 3836, 4929, 5235, 5544, 4768, 6015, 4045, 5909, 4972, 6273, 5171, 5608, 3996, 6117, 4151, 5924, 5114, 5296, 4198, 6222, 4355, 5652, 4722, 5193, 4098, 5760, 4669, 5755, 4612, 5173, 4256, 4776, 5079, 5700, 5530, 4520, 4155, 5916, 5137, 5866, 5587, 5848, 4357, 53, 6104, 5227, 5491, 5388, 5340, 4717, 5699, 4879]\n"
          ]
        },
        {
          "output_type": "display_data",
          "data": {
            "text/plain": [
              "<Figure size 432x288 with 1 Axes>"
            ],
            "image/png": "[encoded data removed]"
          },
          "metadata": {
            "needs_background": "light"
          }
        }
      ]
    },
    {
      "cell_type": "code",
      "source": [
        "# Get the highest number of day tokens for chunking  2543 / 3 = 849\n",
        "input_token_len, target_token_len"
      ],
      "metadata": {
        "colab": {
          "base_uri": "https://localhost:8080/"
        },
        "id": "y-rWoA6lnf7Q",
        "outputId": "18e52ea2-1adc-4dd8-cb7a-4cc799dd7af2"
      },
      "execution_count": 41,
      "outputs": [
        {
          "output_type": "execute_result",
          "data": {
            "text/plain": [
              "((6542, 2), (6273, 2))"
            ]
          },
          "metadata": {},
          "execution_count": 41
        }
      ]
    },
    {
      "cell_type": "code",
      "source": [
        "# input id tokens [505, 9175, 2128, 9175, 35524, 1820, 36604, 1820, 36722, 1820, 39638, 1820, 32518, 1820, ...]\n",
        "tokenizer.decode(tokenized_datasets['train'][0]['input_ids'])"
      ],
      "metadata": {
        "colab": {
          "base_uri": "https://localhost:8080/",
          "height": 191
        },
        "id": "0Vd7DTSXhRSK",
        "outputId": "3a0840b1-67d0-4be0-8928-a8e830a105bc"
      },
      "execution_count": 42,
      "outputs": [
        {
          "output_type": "execute_result",
          "data": {
            "text/plain": [
              "'<s>On 2021-10-30 at 05:00, 411690 with the condition of WCH will be picked up from ( -121.9942169, 37.34215927 ) and taken to their appointment located at ( -121.9790364, 37.322465 ) the value of this ride is 100.85 and the distance from start to finish is 2.6 miles * On 2021-10-30 at 17:30, 390537 with the condition of WCH will be picked up from ( -121.8120978, 37.3060479 ) and taken to their appointment located at ( -121.8320389, 37.29574585 ) the value of this ride is 25.18 and the distance from start to finish is 2.26 miles * On 2021-10-30 at 05:30, 390198 with the condition of WCH will be picked up from ( -121.9492645, 37.30254364 ) and taken to their appointment located at ( -121.9337082, 37.31555939 ) the value of this ride is 58.85 and the distance from start to finish is 2.21 miles * On 2021-10-30 at 08:30, 388484 with the condition of STR will be picked up from ( -121.9516678, 37.38991928 ) and taken to their appointment located at ( -122.0140457, 37.37662125 ) the value of this ride is 207.38 and the distance from start to finish is 5.49 miles * On 2021-10-30 at 17:00, 388690 with the condition of WCH will be picked up from ( -121.8348389, 37.31568909 ) and taken to their appointment located at ( -121.8412247, 37.32992172 ) the value of this ride is 26.75 and the distance from start to finish is 2.98 miles * On 2021-10-30 at 16:45, 388479 with the condition of WCH will be picked up from ( -122.0140457, 37.37662125 ) and taken to their appointment located at ( -122.0238342, 37.3819046 ) the value of this ride is 22.48 and the distance from start to finish is 1.0 5 miles * On 2021-10-30 at 13:00, 388488 with the condition of WCH will be picked up from ( -122.0695877, 37.41511917 ) and taken to their appointment located at ( -122.079144, 37.382993 ) the value of this ride is 40.75 and the distance from start to finish is 4.17 miles * On 2021-10-30 at 13:12, 388702 with the condition of WCH will be picked up from ( -121.8411942, 37.36575317 ) and taken to their appointment located at ( -121.933667, 37.315553 ) the value of this ride is 88.6 7 and the distance from start to finish is 8.3 2 miles * On 2021-10-30 at 17:45, 388677 with the condition of BWC will be picked up from ( -121.933667, 37.315553 ) and taken to their appointment located at ( -121.8692703, 37.38211441 ) the value of this ride is 89.6 and the distance from start to finish is 9.89 miles * <START_0> </s>'"
            ],
            "application/vnd.google.colaboratory.intrinsic+json": {
              "type": "string"
            }
          },
          "metadata": {},
          "execution_count": 42
        }
      ]
    },
    {
      "cell_type": "code",
      "source": [
        "# label tokens [305, 9175, 1808, 9175, 35524, 1820, 39055, 1820, 39119, 1820, 35073, 1820, 5033, 9175, 5647, ...]\n",
        "# tokenized_datasets['train'][0]['labels']\n",
        "tokenizer.decode(tokenized_datasets['train'][0]['labels'])"
      ],
      "metadata": {
        "colab": {
          "base_uri": "https://localhost:8080/",
          "height": 174
        },
        "id": "XvhPIIexNCPL",
        "outputId": "beaecf65-7009-43c6-9672-2eb011396a55"
      },
      "execution_count": 43,
      "outputs": [
        {
          "output_type": "execute_result",
          "data": {
            "text/plain": [
              "'<s>On 2021-10-30 at 05:00, driver SC301 will pick up 411690 with the condition of WCH from ( -121.9942169, 37.34215927 ) and dropped off at ( -121.9790364, 37.322465 ) the value of this ride is 100.85 and the distance from start to finish is 2.6 miles * On 2021-10-30 at 05:15, driver SC107 will pick up 388852 with the condition of BWC from ( -121.5949326, 37.02376938 ) and dropped off at ( -121.8120978, 37.3060479 ) the value of this ride is 154.4 and the distance from start to finish is 26.14 miles * On 2021-10-30 at 05:27, driver SC204 will pick up 390529 with the condition of STR from ( -121.8948135, 37.32189178 ) and dropped off at ( -121.9315708, 37.3112781 ) the value of this ride is 201.0 7 and the distance from start to finish is 2.74 miles * On 2021-10-30 at 05:30, driver SC105 will pick up 390198 with the condition of WCH from ( -121.9492645, 37.30254364 ) and dropped off at ( -121.9337082, 37.31555939 ) the value of this ride is 58.85 and the distance from start to finish is 2.21 miles * On 2021-10-30 at 05:30, driver SC105 will pick up 390534 with the condition of WCH from ( -121.9642258, 37.29271698 ) and dropped off at ( -121.9337045, 37.3155593 ) the value of this ride is 103.33 and the distance from start to finish is 3.69 miles * On 2021-10-30 at 05:43, driver SC301 will pick up 388496 with the condition of WCH from ( -121.8491211, 37.32672882 ) and dropped off at ( -121.8120956, 37.30604935 ) the value of this ride is 63.8 and the distance from start to finish is 4.44 miles * On 2021-10-30 at 05:53, driver SC105 will pick up 388574 with the condition of BWC from ( -121.9619141, 37.27531433 ) and dropped off at ( -121.8917009, 37.2454899 ) the value of this ride is 77.2 and the distance from start to finish is 6.76 miles * On 2021-10-30 at 06:00, driver SC301 will pick up 388896 with the condition of WCH from ( -121.8397293, 37.31420898 ) and dropped off at ( -121.8113861, 37.30517197 ) the value of this ride is 101.3 and the distance from start to finish is 2.78 miles * On 2021-10-30 at 07:15, driver SC105 will pick up 417084 with the condition of BWC from ( -121.9148788, 37.30213547 ) and dropped off at ( -121.7762604, 37.22948456 ) the value of this ride is 104.0 and the distance from start to finish is 13.5 miles * <START_0> </s>'"
            ],
            "application/vnd.google.colaboratory.intrinsic+json": {
              "type": "string"
            }
          },
          "metadata": {},
          "execution_count": 43
        }
      ]
    },
    {
      "cell_type": "code",
      "source": [
        "# In general, it's not uncommon for input_ids and labels to have different lengths\n",
        "len(tokenized_datasets['train'][0]['input_ids']), len(tokenized_datasets['train'][0]['labels'])"
      ],
      "metadata": {
        "colab": {
          "base_uri": "https://localhost:8080/"
        },
        "id": "rrnn4RBqQSQ-",
        "outputId": "eb36b655-81a7-4518-cb14-bb2581d83f5f"
      },
      "execution_count": 44,
      "outputs": [
        {
          "output_type": "execute_result",
          "data": {
            "text/plain": [
              "(485, 465)"
            ]
          },
          "metadata": {},
          "execution_count": 44
        }
      ]
    },
    {
      "cell_type": "code",
      "source": [
        "input_ids_len = []\n",
        "for i in range(len(tokenized_datasets['train'])):\n",
        "  input_ids_len.append(len(tokenized_datasets['train'][i]['input_ids']))\n",
        "\n",
        "labels_len = []\n",
        "for i in range(len(tokenized_datasets['train'])):\n",
        "  labels_len.append(len(tokenized_datasets['train'][i]['labels']))\n",
        "\n",
        "print(f'Max Num Input Ids: {max(input_ids_len)} \\n Max Num labels: {max(labels_len)}')\n",
        "print(f'Min Num Input Ids: {min(input_ids_len)} \\n Min Num labels: {min(labels_len)}')"
      ],
      "metadata": {
        "colab": {
          "base_uri": "https://localhost:8080/"
        },
        "id": "-6-j0_PiUGOV",
        "outputId": "5e2c6ed5-289e-4dda-c706-18a5ad7e3f2c"
      },
      "execution_count": 45,
      "outputs": [
        {
          "output_type": "stream",
          "name": "stdout",
          "text": [
            "Max Num Input Ids: 1006 \n",
            " Max Num labels: 1006\n",
            "Min Num Input Ids: 375 \n",
            " Min Num labels: 359\n"
          ]
        }
      ]
    },
    {
      "cell_type": "code",
      "source": [
        "from transformers import DataCollatorForSeq2Seq\n",
        "data_collator = DataCollatorForSeq2Seq(tokenizer, model=model)"
      ],
      "metadata": {
        "id": "bSgW3uXOPwQ0"
      },
      "execution_count": 46,
      "outputs": []
    },
    {
      "cell_type": "code",
      "source": [
        "# check the labels and decoder input ids to make sure shifting has taken place\n",
        "batch = data_collator([tokenized_datasets['train'][i] for i in range(1,3)])\n",
        "batch.keys()"
      ],
      "metadata": {
        "colab": {
          "base_uri": "https://localhost:8080/"
        },
        "id": "gqnmUq0IxMze",
        "outputId": "fc1bea94-0101-44e1-ed9e-947f76466cc7"
      },
      "execution_count": 47,
      "outputs": [
        {
          "output_type": "execute_result",
          "data": {
            "text/plain": [
              "dict_keys(['input_ids', 'attention_mask', 'labels', 'decoder_input_ids'])"
            ]
          },
          "metadata": {},
          "execution_count": 47
        }
      ]
    },
    {
      "cell_type": "markdown",
      "source": [
        "The batch dictionary is training examples, and the labels key in the batch dictionary contains the labels for the corresponding input sequences. In the context of sequence-to-sequence modeling, the labels typically represent the \"target\" or \"output\" sequence that the model is being trained to generate given the corresponding input sequence."
      ],
      "metadata": {
        "id": "2YvdQmbfur2V"
      }
    },
    {
      "cell_type": "code",
      "source": [
        "batch['labels'][0][:10]"
      ],
      "metadata": {
        "colab": {
          "base_uri": "https://localhost:8080/"
        },
        "id": "wr4_QwtcsIo_",
        "outputId": "1d731e8d-2a2a-4fde-f34e-8e3a00569ae4"
      },
      "execution_count": 48,
      "outputs": [
        {
          "output_type": "execute_result",
          "data": {
            "text/plain": [
              "tensor([    0,  4148, 53346,   415, 57222,     6,  1393, 55264,  6677,  1339])"
            ]
          },
          "metadata": {},
          "execution_count": 48
        }
      ]
    },
    {
      "cell_type": "markdown",
      "source": [
        "Think of seq2seq RNNs, the decoder RNN must have some input. This allows the decoder to predict the next word, given the previous words from the encoder. THE DECODER IDS ARE A SHIFTED FORWARD ONE - VERSION OF THE TARGETS SO THE DECODER CAN TRAIN TO PREDICT THE NEXT TOKEN IN A SEQUENCE."
      ],
      "metadata": {
        "id": "fORwGkmOvJVL"
      }
    },
    {
      "cell_type": "code",
      "source": [
        "batch['decoder_input_ids'][0][:10]"
      ],
      "metadata": {
        "colab": {
          "base_uri": "https://localhost:8080/"
        },
        "id": "rmiMOcz-sS9S",
        "outputId": "6c482015-e572-4fe3-aa36-43e1ebb7d2fc"
      },
      "execution_count": 49,
      "outputs": [
        {
          "output_type": "execute_result",
          "data": {
            "text/plain": [
              "tensor([    2,     0,  4148, 53346,   415, 57222,     6,  1393, 55264,  6677])"
            ]
          },
          "metadata": {},
          "execution_count": 49
        }
      ]
    },
    {
      "cell_type": "code",
      "source": [
        "# the decoder input ids are shifted forward by adding the </s> at the front of the list\n",
        "tokenizer.convert_ids_to_tokens(batch['decoder_input_ids'][0]) "
      ],
      "metadata": {
        "colab": {
          "base_uri": "https://localhost:8080/"
        },
        "id": "xm3FE6TUvFxx",
        "outputId": "e2e74e4f-641e-41c4-fe10-a5f35cdcb3fd"
      },
      "execution_count": 50,
      "outputs": [
        {
          "output_type": "execute_result",
          "data": {
            "text/plain": [
              "['</s>',\n",
              " '<s>',\n",
              " 'On',\n",
              " '2021-10-30',\n",
              " 'at',\n",
              " '08:15',\n",
              " ',',\n",
              " 'Ġdriver',\n",
              " 'SC105',\n",
              " 'will',\n",
              " 'Ġpick',\n",
              " 'Ġup',\n",
              " '388526',\n",
              " 'with',\n",
              " 'Ġthe',\n",
              " 'Ġcondition',\n",
              " 'Ġof',\n",
              " 'WCH',\n",
              " 'from',\n",
              " 'Ġ(',\n",
              " '-121.9255905',\n",
              " ',',\n",
              " '37.31228256',\n",
              " ')',\n",
              " 'Ġand',\n",
              " 'Ġdropped',\n",
              " 'Ġoff',\n",
              " 'Ġat',\n",
              " 'Ġ(',\n",
              " '-121.9315708',\n",
              " ',',\n",
              " '37.3112781',\n",
              " ')',\n",
              " 'Ġthe',\n",
              " 'Ġvalue',\n",
              " 'Ġof',\n",
              " 'Ġthis',\n",
              " 'Ġride',\n",
              " 'Ġis',\n",
              " 'Ġ4',\n",
              " '8.3',\n",
              " '8',\n",
              " 'Ġand',\n",
              " 'Ġthe',\n",
              " 'Ġdistance',\n",
              " 'Ġfrom',\n",
              " 'Ġstart',\n",
              " 'Ġto',\n",
              " 'Ġfinish',\n",
              " 'Ġis',\n",
              " 'Ġ1',\n",
              " '.',\n",
              " '5',\n",
              " 'Ġmiles',\n",
              " 'Ġ*',\n",
              " 'ĠOn',\n",
              " '2021-10-30',\n",
              " 'at',\n",
              " '08:15',\n",
              " ',',\n",
              " 'Ġdriver',\n",
              " 'SC105',\n",
              " 'will',\n",
              " 'Ġpick',\n",
              " 'Ġup',\n",
              " '388851',\n",
              " 'with',\n",
              " 'Ġthe',\n",
              " 'Ġcondition',\n",
              " 'Ġof',\n",
              " 'BWC',\n",
              " 'from',\n",
              " 'Ġ(',\n",
              " '-121.8116608',\n",
              " ',',\n",
              " '37.26219559',\n",
              " ')',\n",
              " 'Ġand',\n",
              " 'Ġdropped',\n",
              " 'Ġoff',\n",
              " 'Ġat',\n",
              " 'Ġ(',\n",
              " '-121.826913',\n",
              " ',',\n",
              " '37.251936',\n",
              " ')',\n",
              " 'Ġthe',\n",
              " 'Ġvalue',\n",
              " 'Ġof',\n",
              " 'Ġthis',\n",
              " 'Ġride',\n",
              " 'Ġis',\n",
              " '50.0',\n",
              " 'and',\n",
              " 'Ġthe',\n",
              " 'Ġdistance',\n",
              " 'Ġfrom',\n",
              " 'Ġstart',\n",
              " 'Ġto',\n",
              " 'Ġfinish',\n",
              " 'Ġis',\n",
              " 'Ġ2',\n",
              " '.',\n",
              " '52',\n",
              " 'Ġmiles',\n",
              " 'Ġ*',\n",
              " 'ĠOn',\n",
              " '2021-10-30',\n",
              " 'at',\n",
              " '08:16',\n",
              " ',',\n",
              " 'Ġdriver',\n",
              " 'SC102',\n",
              " 'will',\n",
              " 'Ġpick',\n",
              " 'Ġup',\n",
              " '388994',\n",
              " 'with',\n",
              " 'Ġthe',\n",
              " 'Ġcondition',\n",
              " 'Ġof',\n",
              " 'WCH',\n",
              " 'from',\n",
              " 'Ġ(',\n",
              " '-121.9678116',\n",
              " ',',\n",
              " '37.3220253',\n",
              " ')',\n",
              " 'Ġand',\n",
              " 'Ġdropped',\n",
              " 'Ġoff',\n",
              " 'Ġat',\n",
              " 'Ġ(',\n",
              " '-121.9790344',\n",
              " ',',\n",
              " '37.32246399',\n",
              " ')',\n",
              " 'Ġthe',\n",
              " 'Ġvalue',\n",
              " 'Ġof',\n",
              " 'Ġthis',\n",
              " 'Ġride',\n",
              " 'Ġis',\n",
              " 'Ġ22',\n",
              " '.',\n",
              " '02',\n",
              " 'Ġand',\n",
              " 'Ġthe',\n",
              " 'Ġdistance',\n",
              " 'Ġfrom',\n",
              " 'Ġstart',\n",
              " 'Ġto',\n",
              " 'Ġfinish',\n",
              " 'Ġis',\n",
              " 'Ġ0',\n",
              " '.',\n",
              " '91',\n",
              " 'Ġmiles',\n",
              " 'Ġ*',\n",
              " 'ĠOn',\n",
              " '2021-10-30',\n",
              " 'at',\n",
              " '08:30',\n",
              " ',',\n",
              " 'Ġdriver',\n",
              " 'SC107',\n",
              " 'will',\n",
              " 'Ġpick',\n",
              " 'Ġup',\n",
              " '388709',\n",
              " 'with',\n",
              " 'Ġthe',\n",
              " 'Ġcondition',\n",
              " 'Ġof',\n",
              " 'WCH',\n",
              " 'from',\n",
              " 'Ġ(',\n",
              " '-121.9232407',\n",
              " ',',\n",
              " '37.30308914',\n",
              " ')',\n",
              " 'Ġand',\n",
              " 'Ġdropped',\n",
              " 'Ġoff',\n",
              " 'Ġat',\n",
              " 'Ġ(',\n",
              " '-121.950932',\n",
              " ',',\n",
              " '37.255799',\n",
              " ')',\n",
              " 'Ġthe',\n",
              " 'Ġvalue',\n",
              " 'Ġof',\n",
              " 'Ġthis',\n",
              " 'Ġride',\n",
              " 'Ġis',\n",
              " 'Ġ82',\n",
              " '.',\n",
              " '38',\n",
              " 'Ġand',\n",
              " 'Ġthe',\n",
              " 'Ġdistance',\n",
              " 'Ġfrom',\n",
              " 'Ġstart',\n",
              " 'Ġto',\n",
              " 'Ġfinish',\n",
              " 'Ġis',\n",
              " 'Ġ5',\n",
              " '.',\n",
              " '51',\n",
              " 'Ġmiles',\n",
              " 'Ġ*',\n",
              " 'ĠOn',\n",
              " '2021-10-30',\n",
              " 'at',\n",
              " '08:30',\n",
              " ',',\n",
              " 'Ġdriver',\n",
              " 'SC101',\n",
              " 'will',\n",
              " 'Ġpick',\n",
              " 'Ġup',\n",
              " '388505',\n",
              " 'with',\n",
              " 'Ġthe',\n",
              " 'Ġcondition',\n",
              " 'Ġof',\n",
              " 'BWC',\n",
              " 'from',\n",
              " 'Ġ(',\n",
              " '-121.8325653',\n",
              " ',',\n",
              " '37.33570862',\n",
              " ')',\n",
              " 'Ġand',\n",
              " 'Ġdropped',\n",
              " 'Ġoff',\n",
              " 'Ġat',\n",
              " 'Ġ(',\n",
              " '-121.8270276',\n",
              " ',',\n",
              " '37.2519668',\n",
              " ')',\n",
              " 'Ġthe',\n",
              " 'Ġvalue',\n",
              " 'Ġof',\n",
              " 'Ġthis',\n",
              " 'Ġride',\n",
              " 'Ġis',\n",
              " '93.6',\n",
              " 'and',\n",
              " 'Ġthe',\n",
              " 'Ġdistance',\n",
              " 'Ġfrom',\n",
              " 'Ġstart',\n",
              " 'Ġto',\n",
              " 'Ġfinish',\n",
              " 'Ġis',\n",
              " 'Ġ10',\n",
              " '.',\n",
              " '86',\n",
              " 'Ġmiles',\n",
              " 'Ġ*',\n",
              " 'ĠOn',\n",
              " '2021-10-30',\n",
              " 'at',\n",
              " '08:30',\n",
              " ',',\n",
              " 'Ġdriver',\n",
              " 'SC204',\n",
              " 'will',\n",
              " 'Ġpick',\n",
              " 'Ġup',\n",
              " '390529',\n",
              " 'with',\n",
              " 'Ġthe',\n",
              " 'Ġcondition',\n",
              " 'Ġof',\n",
              " 'ĠSTR',\n",
              " 'Ġfrom',\n",
              " 'Ġ(',\n",
              " '-121.9315708',\n",
              " ',',\n",
              " '37.3112781',\n",
              " ')',\n",
              " 'Ġand',\n",
              " 'Ġdropped',\n",
              " 'Ġoff',\n",
              " 'Ġat',\n",
              " 'Ġ(',\n",
              " '-121.8948135',\n",
              " ',',\n",
              " '37.32189178',\n",
              " ')',\n",
              " 'Ġthe',\n",
              " 'Ġvalue',\n",
              " 'Ġof',\n",
              " 'Ġthis',\n",
              " 'Ġride',\n",
              " 'Ġis',\n",
              " 'Ġ126',\n",
              " '.',\n",
              " '08',\n",
              " 'Ġand',\n",
              " 'Ġthe',\n",
              " 'Ġdistance',\n",
              " 'Ġfrom',\n",
              " 'Ġstart',\n",
              " 'Ġto',\n",
              " 'Ġfinish',\n",
              " 'Ġis',\n",
              " 'Ġ2',\n",
              " '.',\n",
              " '74',\n",
              " 'Ġmiles',\n",
              " 'Ġ*',\n",
              " 'ĠOn',\n",
              " '2021-10-30',\n",
              " 'at',\n",
              " '08:30',\n",
              " ',',\n",
              " 'Ġdriver',\n",
              " 'SC202',\n",
              " 'will',\n",
              " 'Ġpick',\n",
              " 'Ġup',\n",
              " '388484',\n",
              " 'with',\n",
              " 'Ġthe',\n",
              " 'Ġcondition',\n",
              " 'Ġof',\n",
              " 'ĠSTR',\n",
              " 'Ġfrom',\n",
              " 'Ġ(',\n",
              " '-121.9516678',\n",
              " ',',\n",
              " '37.38991928',\n",
              " ')',\n",
              " 'Ġand',\n",
              " 'Ġdropped',\n",
              " 'Ġoff',\n",
              " 'Ġat',\n",
              " 'Ġ(',\n",
              " '-122.0140457',\n",
              " ',',\n",
              " '37.37662125',\n",
              " ')',\n",
              " 'Ġthe',\n",
              " 'Ġvalue',\n",
              " 'Ġof',\n",
              " 'Ġthis',\n",
              " 'Ġride',\n",
              " 'Ġis',\n",
              " 'Ġ207',\n",
              " '.',\n",
              " '38',\n",
              " 'Ġand',\n",
              " 'Ġthe',\n",
              " 'Ġdistance',\n",
              " 'Ġfrom',\n",
              " 'Ġstart',\n",
              " 'Ġto',\n",
              " 'Ġfinish',\n",
              " 'Ġis',\n",
              " 'Ġ5',\n",
              " '.',\n",
              " '49',\n",
              " 'Ġmiles',\n",
              " 'Ġ*',\n",
              " 'ĠOn',\n",
              " '2021-10-30',\n",
              " 'at',\n",
              " '08:40',\n",
              " ',',\n",
              " 'Ġdriver',\n",
              " 'SC105',\n",
              " 'will',\n",
              " 'Ġpick',\n",
              " 'Ġup',\n",
              " '390539',\n",
              " 'with',\n",
              " 'Ġthe',\n",
              " 'Ġcondition',\n",
              " 'Ġof',\n",
              " 'WCH',\n",
              " 'from',\n",
              " 'Ġ(',\n",
              " '-121.888064',\n",
              " ',',\n",
              " '37.332132',\n",
              " ')',\n",
              " 'Ġand',\n",
              " 'Ġdropped',\n",
              " 'Ġoff',\n",
              " 'Ġat',\n",
              " 'Ġ(',\n",
              " '-121.8134232',\n",
              " ',',\n",
              " '37.35033035',\n",
              " ')',\n",
              " 'Ġthe',\n",
              " 'Ġvalue',\n",
              " 'Ġof',\n",
              " 'Ġthis',\n",
              " 'Ġride',\n",
              " 'Ġis',\n",
              " '84.4',\n",
              " 'and',\n",
              " 'Ġthe',\n",
              " 'Ġdistance',\n",
              " 'Ġfrom',\n",
              " 'Ġstart',\n",
              " 'Ġto',\n",
              " 'Ġfinish',\n",
              " 'Ġis',\n",
              " 'Ġ6',\n",
              " '.',\n",
              " '42',\n",
              " 'Ġmiles',\n",
              " 'Ġ*',\n",
              " 'ĠOn',\n",
              " '2021-10-30',\n",
              " 'at',\n",
              " '08:45',\n",
              " ',',\n",
              " 'Ġdriver',\n",
              " 'SC101',\n",
              " 'will',\n",
              " 'Ġpick',\n",
              " 'Ġup',\n",
              " '388896',\n",
              " 'with',\n",
              " 'Ġthe',\n",
              " 'Ġcondition',\n",
              " 'Ġof',\n",
              " 'WCH',\n",
              " 'from',\n",
              " 'Ġ(',\n",
              " '-121.8113861',\n",
              " ',',\n",
              " '37.30517197',\n",
              " ')',\n",
              " 'Ġand',\n",
              " 'Ġdropped',\n",
              " 'Ġoff',\n",
              " 'Ġat',\n",
              " 'Ġ(',\n",
              " '-121.8397293',\n",
              " ',',\n",
              " '37.31420898',\n",
              " ')',\n",
              " 'Ġthe',\n",
              " 'Ġvalue',\n",
              " 'Ġof',\n",
              " 'Ġthis',\n",
              " 'Ġride',\n",
              " 'Ġis',\n",
              " '26.3',\n",
              " 'and',\n",
              " 'Ġthe',\n",
              " 'Ġdistance',\n",
              " 'Ġfrom',\n",
              " 'Ġstart',\n",
              " 'Ġto',\n",
              " 'Ġfinish',\n",
              " 'Ġis',\n",
              " 'Ġ2',\n",
              " '.',\n",
              " '78',\n",
              " 'Ġmiles',\n",
              " 'Ġ*',\n",
              " '<CONT_0_1>']"
            ]
          },
          "metadata": {},
          "execution_count": 50
        }
      ]
    },
    {
      "cell_type": "code",
      "source": [
        "len(batch['decoder_input_ids'][0]), len(batch['labels'][0])\n"
      ],
      "metadata": {
        "colab": {
          "base_uri": "https://localhost:8080/"
        },
        "id": "onbyDtHkOqam",
        "outputId": "d0926323-725a-4a34-bd3d-4d1f5a44d6ba"
      },
      "execution_count": 51,
      "outputs": [
        {
          "output_type": "execute_result",
          "data": {
            "text/plain": [
              "(472, 472)"
            ]
          },
          "metadata": {},
          "execution_count": 51
        }
      ]
    },
    {
      "cell_type": "code",
      "source": [
        "# labels are in line with the target data, the decoder input ids are shifted forward\n",
        "# now the model can compare the target to the predicted next token\n",
        "tokenizer.convert_ids_to_tokens(batch['labels'][0])"
      ],
      "metadata": {
        "colab": {
          "base_uri": "https://localhost:8080/"
        },
        "id": "FqxilCwgwOvq",
        "outputId": "904e9a7d-4009-494c-c33f-218a4e815641"
      },
      "execution_count": 52,
      "outputs": [
        {
          "output_type": "execute_result",
          "data": {
            "text/plain": [
              "['<s>',\n",
              " 'On',\n",
              " '2021-10-30',\n",
              " 'at',\n",
              " '08:15',\n",
              " ',',\n",
              " 'Ġdriver',\n",
              " 'SC105',\n",
              " 'will',\n",
              " 'Ġpick',\n",
              " 'Ġup',\n",
              " '388526',\n",
              " 'with',\n",
              " 'Ġthe',\n",
              " 'Ġcondition',\n",
              " 'Ġof',\n",
              " 'WCH',\n",
              " 'from',\n",
              " 'Ġ(',\n",
              " '-121.9255905',\n",
              " ',',\n",
              " '37.31228256',\n",
              " ')',\n",
              " 'Ġand',\n",
              " 'Ġdropped',\n",
              " 'Ġoff',\n",
              " 'Ġat',\n",
              " 'Ġ(',\n",
              " '-121.9315708',\n",
              " ',',\n",
              " '37.3112781',\n",
              " ')',\n",
              " 'Ġthe',\n",
              " 'Ġvalue',\n",
              " 'Ġof',\n",
              " 'Ġthis',\n",
              " 'Ġride',\n",
              " 'Ġis',\n",
              " 'Ġ4',\n",
              " '8.3',\n",
              " '8',\n",
              " 'Ġand',\n",
              " 'Ġthe',\n",
              " 'Ġdistance',\n",
              " 'Ġfrom',\n",
              " 'Ġstart',\n",
              " 'Ġto',\n",
              " 'Ġfinish',\n",
              " 'Ġis',\n",
              " 'Ġ1',\n",
              " '.',\n",
              " '5',\n",
              " 'Ġmiles',\n",
              " 'Ġ*',\n",
              " 'ĠOn',\n",
              " '2021-10-30',\n",
              " 'at',\n",
              " '08:15',\n",
              " ',',\n",
              " 'Ġdriver',\n",
              " 'SC105',\n",
              " 'will',\n",
              " 'Ġpick',\n",
              " 'Ġup',\n",
              " '388851',\n",
              " 'with',\n",
              " 'Ġthe',\n",
              " 'Ġcondition',\n",
              " 'Ġof',\n",
              " 'BWC',\n",
              " 'from',\n",
              " 'Ġ(',\n",
              " '-121.8116608',\n",
              " ',',\n",
              " '37.26219559',\n",
              " ')',\n",
              " 'Ġand',\n",
              " 'Ġdropped',\n",
              " 'Ġoff',\n",
              " 'Ġat',\n",
              " 'Ġ(',\n",
              " '-121.826913',\n",
              " ',',\n",
              " '37.251936',\n",
              " ')',\n",
              " 'Ġthe',\n",
              " 'Ġvalue',\n",
              " 'Ġof',\n",
              " 'Ġthis',\n",
              " 'Ġride',\n",
              " 'Ġis',\n",
              " '50.0',\n",
              " 'and',\n",
              " 'Ġthe',\n",
              " 'Ġdistance',\n",
              " 'Ġfrom',\n",
              " 'Ġstart',\n",
              " 'Ġto',\n",
              " 'Ġfinish',\n",
              " 'Ġis',\n",
              " 'Ġ2',\n",
              " '.',\n",
              " '52',\n",
              " 'Ġmiles',\n",
              " 'Ġ*',\n",
              " 'ĠOn',\n",
              " '2021-10-30',\n",
              " 'at',\n",
              " '08:16',\n",
              " ',',\n",
              " 'Ġdriver',\n",
              " 'SC102',\n",
              " 'will',\n",
              " 'Ġpick',\n",
              " 'Ġup',\n",
              " '388994',\n",
              " 'with',\n",
              " 'Ġthe',\n",
              " 'Ġcondition',\n",
              " 'Ġof',\n",
              " 'WCH',\n",
              " 'from',\n",
              " 'Ġ(',\n",
              " '-121.9678116',\n",
              " ',',\n",
              " '37.3220253',\n",
              " ')',\n",
              " 'Ġand',\n",
              " 'Ġdropped',\n",
              " 'Ġoff',\n",
              " 'Ġat',\n",
              " 'Ġ(',\n",
              " '-121.9790344',\n",
              " ',',\n",
              " '37.32246399',\n",
              " ')',\n",
              " 'Ġthe',\n",
              " 'Ġvalue',\n",
              " 'Ġof',\n",
              " 'Ġthis',\n",
              " 'Ġride',\n",
              " 'Ġis',\n",
              " 'Ġ22',\n",
              " '.',\n",
              " '02',\n",
              " 'Ġand',\n",
              " 'Ġthe',\n",
              " 'Ġdistance',\n",
              " 'Ġfrom',\n",
              " 'Ġstart',\n",
              " 'Ġto',\n",
              " 'Ġfinish',\n",
              " 'Ġis',\n",
              " 'Ġ0',\n",
              " '.',\n",
              " '91',\n",
              " 'Ġmiles',\n",
              " 'Ġ*',\n",
              " 'ĠOn',\n",
              " '2021-10-30',\n",
              " 'at',\n",
              " '08:30',\n",
              " ',',\n",
              " 'Ġdriver',\n",
              " 'SC107',\n",
              " 'will',\n",
              " 'Ġpick',\n",
              " 'Ġup',\n",
              " '388709',\n",
              " 'with',\n",
              " 'Ġthe',\n",
              " 'Ġcondition',\n",
              " 'Ġof',\n",
              " 'WCH',\n",
              " 'from',\n",
              " 'Ġ(',\n",
              " '-121.9232407',\n",
              " ',',\n",
              " '37.30308914',\n",
              " ')',\n",
              " 'Ġand',\n",
              " 'Ġdropped',\n",
              " 'Ġoff',\n",
              " 'Ġat',\n",
              " 'Ġ(',\n",
              " '-121.950932',\n",
              " ',',\n",
              " '37.255799',\n",
              " ')',\n",
              " 'Ġthe',\n",
              " 'Ġvalue',\n",
              " 'Ġof',\n",
              " 'Ġthis',\n",
              " 'Ġride',\n",
              " 'Ġis',\n",
              " 'Ġ82',\n",
              " '.',\n",
              " '38',\n",
              " 'Ġand',\n",
              " 'Ġthe',\n",
              " 'Ġdistance',\n",
              " 'Ġfrom',\n",
              " 'Ġstart',\n",
              " 'Ġto',\n",
              " 'Ġfinish',\n",
              " 'Ġis',\n",
              " 'Ġ5',\n",
              " '.',\n",
              " '51',\n",
              " 'Ġmiles',\n",
              " 'Ġ*',\n",
              " 'ĠOn',\n",
              " '2021-10-30',\n",
              " 'at',\n",
              " '08:30',\n",
              " ',',\n",
              " 'Ġdriver',\n",
              " 'SC101',\n",
              " 'will',\n",
              " 'Ġpick',\n",
              " 'Ġup',\n",
              " '388505',\n",
              " 'with',\n",
              " 'Ġthe',\n",
              " 'Ġcondition',\n",
              " 'Ġof',\n",
              " 'BWC',\n",
              " 'from',\n",
              " 'Ġ(',\n",
              " '-121.8325653',\n",
              " ',',\n",
              " '37.33570862',\n",
              " ')',\n",
              " 'Ġand',\n",
              " 'Ġdropped',\n",
              " 'Ġoff',\n",
              " 'Ġat',\n",
              " 'Ġ(',\n",
              " '-121.8270276',\n",
              " ',',\n",
              " '37.2519668',\n",
              " ')',\n",
              " 'Ġthe',\n",
              " 'Ġvalue',\n",
              " 'Ġof',\n",
              " 'Ġthis',\n",
              " 'Ġride',\n",
              " 'Ġis',\n",
              " '93.6',\n",
              " 'and',\n",
              " 'Ġthe',\n",
              " 'Ġdistance',\n",
              " 'Ġfrom',\n",
              " 'Ġstart',\n",
              " 'Ġto',\n",
              " 'Ġfinish',\n",
              " 'Ġis',\n",
              " 'Ġ10',\n",
              " '.',\n",
              " '86',\n",
              " 'Ġmiles',\n",
              " 'Ġ*',\n",
              " 'ĠOn',\n",
              " '2021-10-30',\n",
              " 'at',\n",
              " '08:30',\n",
              " ',',\n",
              " 'Ġdriver',\n",
              " 'SC204',\n",
              " 'will',\n",
              " 'Ġpick',\n",
              " 'Ġup',\n",
              " '390529',\n",
              " 'with',\n",
              " 'Ġthe',\n",
              " 'Ġcondition',\n",
              " 'Ġof',\n",
              " 'ĠSTR',\n",
              " 'Ġfrom',\n",
              " 'Ġ(',\n",
              " '-121.9315708',\n",
              " ',',\n",
              " '37.3112781',\n",
              " ')',\n",
              " 'Ġand',\n",
              " 'Ġdropped',\n",
              " 'Ġoff',\n",
              " 'Ġat',\n",
              " 'Ġ(',\n",
              " '-121.8948135',\n",
              " ',',\n",
              " '37.32189178',\n",
              " ')',\n",
              " 'Ġthe',\n",
              " 'Ġvalue',\n",
              " 'Ġof',\n",
              " 'Ġthis',\n",
              " 'Ġride',\n",
              " 'Ġis',\n",
              " 'Ġ126',\n",
              " '.',\n",
              " '08',\n",
              " 'Ġand',\n",
              " 'Ġthe',\n",
              " 'Ġdistance',\n",
              " 'Ġfrom',\n",
              " 'Ġstart',\n",
              " 'Ġto',\n",
              " 'Ġfinish',\n",
              " 'Ġis',\n",
              " 'Ġ2',\n",
              " '.',\n",
              " '74',\n",
              " 'Ġmiles',\n",
              " 'Ġ*',\n",
              " 'ĠOn',\n",
              " '2021-10-30',\n",
              " 'at',\n",
              " '08:30',\n",
              " ',',\n",
              " 'Ġdriver',\n",
              " 'SC202',\n",
              " 'will',\n",
              " 'Ġpick',\n",
              " 'Ġup',\n",
              " '388484',\n",
              " 'with',\n",
              " 'Ġthe',\n",
              " 'Ġcondition',\n",
              " 'Ġof',\n",
              " 'ĠSTR',\n",
              " 'Ġfrom',\n",
              " 'Ġ(',\n",
              " '-121.9516678',\n",
              " ',',\n",
              " '37.38991928',\n",
              " ')',\n",
              " 'Ġand',\n",
              " 'Ġdropped',\n",
              " 'Ġoff',\n",
              " 'Ġat',\n",
              " 'Ġ(',\n",
              " '-122.0140457',\n",
              " ',',\n",
              " '37.37662125',\n",
              " ')',\n",
              " 'Ġthe',\n",
              " 'Ġvalue',\n",
              " 'Ġof',\n",
              " 'Ġthis',\n",
              " 'Ġride',\n",
              " 'Ġis',\n",
              " 'Ġ207',\n",
              " '.',\n",
              " '38',\n",
              " 'Ġand',\n",
              " 'Ġthe',\n",
              " 'Ġdistance',\n",
              " 'Ġfrom',\n",
              " 'Ġstart',\n",
              " 'Ġto',\n",
              " 'Ġfinish',\n",
              " 'Ġis',\n",
              " 'Ġ5',\n",
              " '.',\n",
              " '49',\n",
              " 'Ġmiles',\n",
              " 'Ġ*',\n",
              " 'ĠOn',\n",
              " '2021-10-30',\n",
              " 'at',\n",
              " '08:40',\n",
              " ',',\n",
              " 'Ġdriver',\n",
              " 'SC105',\n",
              " 'will',\n",
              " 'Ġpick',\n",
              " 'Ġup',\n",
              " '390539',\n",
              " 'with',\n",
              " 'Ġthe',\n",
              " 'Ġcondition',\n",
              " 'Ġof',\n",
              " 'WCH',\n",
              " 'from',\n",
              " 'Ġ(',\n",
              " '-121.888064',\n",
              " ',',\n",
              " '37.332132',\n",
              " ')',\n",
              " 'Ġand',\n",
              " 'Ġdropped',\n",
              " 'Ġoff',\n",
              " 'Ġat',\n",
              " 'Ġ(',\n",
              " '-121.8134232',\n",
              " ',',\n",
              " '37.35033035',\n",
              " ')',\n",
              " 'Ġthe',\n",
              " 'Ġvalue',\n",
              " 'Ġof',\n",
              " 'Ġthis',\n",
              " 'Ġride',\n",
              " 'Ġis',\n",
              " '84.4',\n",
              " 'and',\n",
              " 'Ġthe',\n",
              " 'Ġdistance',\n",
              " 'Ġfrom',\n",
              " 'Ġstart',\n",
              " 'Ġto',\n",
              " 'Ġfinish',\n",
              " 'Ġis',\n",
              " 'Ġ6',\n",
              " '.',\n",
              " '42',\n",
              " 'Ġmiles',\n",
              " 'Ġ*',\n",
              " 'ĠOn',\n",
              " '2021-10-30',\n",
              " 'at',\n",
              " '08:45',\n",
              " ',',\n",
              " 'Ġdriver',\n",
              " 'SC101',\n",
              " 'will',\n",
              " 'Ġpick',\n",
              " 'Ġup',\n",
              " '388896',\n",
              " 'with',\n",
              " 'Ġthe',\n",
              " 'Ġcondition',\n",
              " 'Ġof',\n",
              " 'WCH',\n",
              " 'from',\n",
              " 'Ġ(',\n",
              " '-121.8113861',\n",
              " ',',\n",
              " '37.30517197',\n",
              " ')',\n",
              " 'Ġand',\n",
              " 'Ġdropped',\n",
              " 'Ġoff',\n",
              " 'Ġat',\n",
              " 'Ġ(',\n",
              " '-121.8397293',\n",
              " ',',\n",
              " '37.31420898',\n",
              " ')',\n",
              " 'Ġthe',\n",
              " 'Ġvalue',\n",
              " 'Ġof',\n",
              " 'Ġthis',\n",
              " 'Ġride',\n",
              " 'Ġis',\n",
              " '26.3',\n",
              " 'and',\n",
              " 'Ġthe',\n",
              " 'Ġdistance',\n",
              " 'Ġfrom',\n",
              " 'Ġstart',\n",
              " 'Ġto',\n",
              " 'Ġfinish',\n",
              " 'Ġis',\n",
              " 'Ġ2',\n",
              " '.',\n",
              " '78',\n",
              " 'Ġmiles',\n",
              " 'Ġ*',\n",
              " '<CONT_0_1>',\n",
              " '</s>']"
            ]
          },
          "metadata": {},
          "execution_count": 52
        }
      ]
    },
    {
      "cell_type": "markdown",
      "source": [
        "Here, we are first getting the indices of the highest values in the logits tensor (which will give us the predicted labels), and then we are also getting the indices of the highest values in the labels tensor. We are then using these indices to calculate the accuracy and f1 score using the accuracy_score and f1_score functions from scikit-learn. Note that we are using the 'weighted' averaging method for the f1 score since we have a multiclass-multioutput problem."
      ],
      "metadata": {
        "id": "ggatN0sPFKGH"
      }
    },
    {
      "cell_type": "code",
      "source": [
        "from transformers import EvalPrediction\n",
        "from sklearn.metrics import accuracy_score, f1_score\n",
        "\n",
        "def compute_metrics(eval_pred):\n",
        "    logits, labels = eval_pred\n",
        "    predictions = np.argmax(logits, axis=-1)\n",
        "    labels = np.argmax(labels, axis=-1)\n",
        "    acc = accuracy_score(labels, predictions)\n",
        "    f1 = f1_score(labels, predictions, average='weighted')\n",
        "    return {'accuracy': acc, 'f1': f1}"
      ],
      "metadata": {
        "id": "qVgHbcN2Pshf"
      },
      "execution_count": 53,
      "outputs": []
    },
    {
      "cell_type": "code",
      "source": [
        "from transformers import Seq2SeqTrainingArguments\n",
        "\n",
        "training_args = Seq2SeqTrainingArguments(\n",
        "    'finetuned-model',\n",
        "    evaluation_strategy='no',\n",
        "    save_strategy='epoch',\n",
        "    warmup_steps=500, # *\n",
        "    learning_rate=2e-5,\n",
        "    per_device_train_batch_size=8, #32\n",
        "    per_device_eval_batch_size=16, #64\n",
        "    weight_decay=0.01,\n",
        "    save_total_limit=3,\n",
        "    num_train_epochs=3,\n",
        "    logging_dir='./logs', # *\n",
        "    logging_steps=100,# *\n",
        "    predict_with_generate=True,\n",
        "    # load_best_model_at_end=True, # *\n",
        "    fp16=True,\n",
        ")"
      ],
      "metadata": {
        "id": "U3bG-CIMycLF"
      },
      "execution_count": 54,
      "outputs": []
    },
    {
      "cell_type": "code",
      "source": [
        "from transformers import Seq2SeqTrainer\n",
        "\n",
        "# small_train = tokenized_datasets['train'].select(range(10))\n",
        "# small_test = tokenized_datasets['test'].select(range(5))\n",
        "\n",
        "trainer = Seq2SeqTrainer(\n",
        "    model,\n",
        "    training_args,\n",
        "    train_dataset=tokenized_datasets['train'],\n",
        "    eval_dataset=tokenized_datasets['test'],\n",
        "    data_collator=data_collator,\n",
        "    tokenizer=tokenizer,\n",
        "    compute_metrics=compute_metrics\n",
        ")"
      ],
      "metadata": {
        "id": "jjg_EG7Q52jp"
      },
      "execution_count": 55,
      "outputs": []
    },
    {
      "cell_type": "markdown",
      "source": [
        "{'eval_loss': 11.240900039672852,\n",
        " 'eval_accuracy': 0.0,\n",
        " 'eval_f1': 0.0,\n",
        " 'eval_runtime': 3965.0096,\n",
        " 'eval_samples_per_second': 0.144,\n",
        " 'eval_steps_per_second': 0.009}"
      ],
      "metadata": {
        "id": "_KU0ZYLFWKDa"
      }
    },
    {
      "cell_type": "code",
      "source": [
        "# check metrics before starting training\n",
        "# trainer.evaluate(max_length=target_max_length)"
      ],
      "metadata": {
        "id": "OOUOO-vnRBfo"
      },
      "execution_count": 56,
      "outputs": []
    },
    {
      "cell_type": "code",
      "source": [
        "trainer.train()"
      ],
      "metadata": {
        "id": "MtOJz_JFRLfp",
        "colab": {
          "base_uri": "https://localhost:8080/",
          "height": 398
        },
        "outputId": "86cde1ee-14e8-41cd-951a-d10470de1225"
      },
      "execution_count": 57,
      "outputs": [
        {
          "output_type": "stream",
          "name": "stderr",
          "text": [
            "/usr/local/lib/python3.9/dist-packages/transformers/optimization.py:391: FutureWarning: This implementation of AdamW is deprecated and will be removed in a future version. Use the PyTorch implementation torch.optim.AdamW instead, or set `no_deprecation_warning=True` to disable this warning\n",
            "  warnings.warn(\n"
          ]
        },
        {
          "output_type": "display_data",
          "data": {
            "text/plain": [
              "<IPython.core.display.HTML object>"
            ],
            "text/html": [
              "\n",
              "    <div>\n",
              "      \n",
              "      <progress value='855' max='855' style='width:300px; height:20px; vertical-align: middle;'></progress>\n",
              "      [855/855 03:33, Epoch 3/3]\n",
              "    </div>\n",
              "    <table border=\"1\" class=\"dataframe\">\n",
              "  <thead>\n",
              " <tr style=\"text-align: left;\">\n",
              "      <th>Step</th>\n",
              "      <th>Training Loss</th>\n",
              "    </tr>\n",
              "  </thead>\n",
              "  <tbody>\n",
              "    <tr>\n",
              "      <td>100</td>\n",
              "      <td>10.087100</td>\n",
              "    </tr>\n",
              "    <tr>\n",
              "      <td>200</td>\n",
              "      <td>7.408600</td>\n",
              "    </tr>\n",
              "    <tr>\n",
              "      <td>300</td>\n",
              "      <td>4.046900</td>\n",
              "    </tr>\n",
              "    <tr>\n",
              "      <td>400</td>\n",
              "      <td>2.310700</td>\n",
              "    </tr>\n",
              "    <tr>\n",
              "      <td>500</td>\n",
              "      <td>1.573100</td>\n",
              "    </tr>\n",
              "    <tr>\n",
              "      <td>600</td>\n",
              "      <td>1.373100</td>\n",
              "    </tr>\n",
              "    <tr>\n",
              "      <td>700</td>\n",
              "      <td>1.288400</td>\n",
              "    </tr>\n",
              "    <tr>\n",
              "      <td>800</td>\n",
              "      <td>1.254800</td>\n",
              "    </tr>\n",
              "  </tbody>\n",
              "</table><p>"
            ]
          },
          "metadata": {}
        },
        {
          "output_type": "execute_result",
          "data": {
            "text/plain": [
              "TrainOutput(global_step=855, training_loss=3.511924886424639, metrics={'train_runtime': 217.1572, 'train_samples_per_second': 31.484, 'train_steps_per_second': 3.937, 'total_flos': 3544017541908480.0, 'train_loss': 3.511924886424639, 'epoch': 3.0})"
            ]
          },
          "metadata": {},
          "execution_count": 57
        }
      ]
    },
    {
      "cell_type": "code",
      "source": [
        "trainer.save_model('oracle_model')"
      ],
      "metadata": {
        "id": "4sjBzxYbbiKz"
      },
      "execution_count": 59,
      "outputs": []
    },
    {
      "cell_type": "markdown",
      "source": [
        "Model evaluation"
      ],
      "metadata": {
        "id": "9TZlXMERpRVU"
      }
    },
    {
      "cell_type": "code",
      "source": [
        "from transformers import BartForConditionalGeneration, BartTokenizer\n",
        "\n",
        "model_path = '/content/drive/MyDrive/Colab_Models/OracleTRF/oracle_model'\n",
        "model = BartForConditionalGeneration.from_pretrained(model_path)\n",
        "tokenizer = BartTokenizer.from_pretrained(model_path)"
      ],
      "metadata": {
        "id": "fd48dDEBkiAr"
      },
      "execution_count": 2,
      "outputs": []
    },
    {
      "cell_type": "code",
      "source": [
        "test=['On 2021-10-30 at 05:00, 411690 with the condition of WCH will be picked up from (-121.9942169,37.34215927) and taken to their appointment located at (-121.9790364,37.322465) the value of this ride is 100.85 and the distance from start to finish is 2.6 miles *',\n",
        "  'On 2021-10-30 at 17:30, 390537 with the condition of WCH will be picked up from (-121.8120978,37.3060479) and taken to their appointment located at (-121.8320389,37.29574585) the value of this ride is 25.18 and the distance from start to finish is 2.26 miles *',\n",
        "  'On 2021-10-30 at 05:30, 390198 with the condition of WCH will be picked up from (-121.9492645,37.30254364) and taken to their appointment located at (-121.9337082,37.31555939) the value of this ride is 58.85 and the distance from start to finish is 2.21 miles *',\n",
        "  'On 2021-10-30 at 08:30, 388484 with the condition of STR will be picked up from (-121.9516678,37.38991928) and taken to their appointment located at (-122.0140457,37.37662125) the value of this ride is 207.38 and the distance from start to finish is 5.49 miles *',\n",
        "  'On 2021-10-30 at 17:00, 388690 with the condition of WCH will be picked up from (-121.8348389,37.31568909) and taken to their appointment located at (-121.8412247,37.32992172) the value of this ride is 26.75 and the distance from start to finish is 2.98 miles *',\n",
        "  'On 2021-10-30 at 16:45, 388479 with the condition of WCH will be picked up from (-122.0140457,37.37662125) and taken to their appointment located at (-122.0238342,37.3819046) the value of this ride is 22.48 and the distance from start to finish is 1.05 miles *',\n",
        "  'On 2021-10-30 at 13:00, 388488 with the condition of WCH will be picked up from (-122.0695877,37.41511917) and taken to their appointment located at (-122.079144,37.382993) the value of this ride is 40.75 and the distance from start to finish is 4.17 miles *',\n",
        "  'On 2021-10-30 at 13:12, 388702 with the condition of WCH will be picked up from (-121.8411942,37.36575317) and taken to their appointment located at (-121.933667,37.315553) the value of this ride is 88.67 and the distance from start to finish is 8.32 miles *',\n",
        "  'On 2021-10-30 at 17:45, 388677 with the condition of BWC will be picked up from (-121.933667,37.315553) and taken to their appointment located at (-121.8692703,37.38211441) the value of this ride is 89.6 and the distance from start to finish is 9.89 miles *',\n",
        "  '<START_0>'\n",
        "  ]\n",
        "\n",
        "test = ''.join(test)\n",
        "test"
      ],
      "metadata": {
        "colab": {
          "base_uri": "https://localhost:8080/",
          "height": 87
        },
        "id": "jnGJEfWBgFKm",
        "outputId": "7c062b75-67cc-46cf-d4cf-9de281ea3023"
      },
      "execution_count": 3,
      "outputs": [
        {
          "output_type": "execute_result",
          "data": {
            "text/plain": [
              "'On 2021-10-30 at 05:00, 411690 with the condition of WCH will be picked up from (-121.9942169,37.34215927) and taken to their appointment located at (-121.9790364,37.322465) the value of this ride is 100.85 and the distance from start to finish is 2.6 miles *On 2021-10-30 at 17:30, 390537 with the condition of WCH will be picked up from (-121.8120978,37.3060479) and taken to their appointment located at (-121.8320389,37.29574585) the value of this ride is 25.18 and the distance from start to finish is 2.26 miles *On 2021-10-30 at 05:30, 390198 with the condition of WCH will be picked up from (-121.9492645,37.30254364) and taken to their appointment located at (-121.9337082,37.31555939) the value of this ride is 58.85 and the distance from start to finish is 2.21 miles *On 2021-10-30 at 08:30, 388484 with the condition of STR will be picked up from (-121.9516678,37.38991928) and taken to their appointment located at (-122.0140457,37.37662125) the value of this ride is 207.38 and the distance from start to finish is 5.49 miles *On 2021-10-30 at 17:00, 388690 with the condition of WCH will be picked up from (-121.8348389,37.31568909) and taken to their appointment located at (-121.8412247,37.32992172) the value of this ride is 26.75 and the distance from start to finish is 2.98 miles *On 2021-10-30 at 16:45, 388479 with the condition of WCH will be picked up from (-122.0140457,37.37662125) and taken to their appointment located at (-122.0238342,37.3819046) the value of this ride is 22.48 and the distance from start to finish is 1.05 miles *On 2021-10-30 at 13:00, 388488 with the condition of WCH will be picked up from (-122.0695877,37.41511917) and taken to their appointment located at (-122.079144,37.382993) the value of this ride is 40.75 and the distance from start to finish is 4.17 miles *On 2021-10-30 at 13:12, 388702 with the condition of WCH will be picked up from (-121.8411942,37.36575317) and taken to their appointment located at (-121.933667,37.315553) the value of this ride is 88.67 and the distance from start to finish is 8.32 miles *On 2021-10-30 at 17:45, 388677 with the condition of BWC will be picked up from (-121.933667,37.315553) and taken to their appointment located at (-121.8692703,37.38211441) the value of this ride is 89.6 and the distance from start to finish is 9.89 miles *<START_0>'"
            ],
            "application/vnd.google.colaboratory.intrinsic+json": {
              "type": "string"
            }
          },
          "metadata": {},
          "execution_count": 3
        }
      ]
    },
    {
      "cell_type": "code",
      "source": [
        "input_text = test\n",
        "input_ids = tokenizer.encode(input_text, return_tensors='pt')\n",
        "input_ids"
      ],
      "metadata": {
        "colab": {
          "base_uri": "https://localhost:8080/"
        },
        "id": "GC7bsoTxeSSO",
        "outputId": "1d7dd06d-2340-441f-bee6-6cedc365bd61"
      },
      "execution_count": 4,
      "outputs": [
        {
          "output_type": "execute_result",
          "data": {
            "text/plain": [
              "tensor([[    0,  4148, 53346,   415, 52350,     6, 50470,  5632,     5,  1881,\n",
              "             9, 57905,  6677,    28,  2738,    62,    31,    36, 55204,     6,\n",
              "         56808,    43,     8,   551,     7,    49,  4916,  2034,    23,    36,\n",
              "         51482,     6, 56486,    43,     5,   923,     9,    42,  3068,    16,\n",
              "         51016,   463,     5,  4472,    31,   386,     7,  2073,    16,   132,\n",
              "             4,   401,  1788,  1009,  4148, 53346,   415, 52889,     6, 51419,\n",
              "          5632,     5,  1881,     9, 57905,  6677,    28,  2738,    62,    31,\n",
              "            36, 56677,     6, 50561,    43,     8,   551,     7,    49,  4916,\n",
              "          2034,    23,    36, 56020,     6, 53827,    43,     5,   923,     9,\n",
              "            42,  3068,    16,   564,     4,  1366,     8,     5,  4472,    31,\n",
              "           386,     7,  2073,    16,   132,     4,  2481,  1788,  1009,  4148,\n",
              "         53346,   415, 53288,     6, 57278,  5632,     5,  1881,     9, 57905,\n",
              "          6677,    28,  2738,    62,    31,    36, 50652,     6, 54798,    43,\n",
              "             8,   551,     7,    49,  4916,  2034,    23,    36, 53055,     6,\n",
              "         51621,    43,     5,   923,     9,    42,  3068,    16, 51491,   463,\n",
              "             5,  4472,    31,   386,     7,  2073,    16,   132,     4,  2146,\n",
              "          1788,  1009,  4148, 53346,   415, 53914,     6, 56282,  5632,     5,\n",
              "          1881,     9, 20857,    40,    28,  2738,    62,    31,    36, 56038,\n",
              "             6, 53250,    43,     8,   551,     7,    49,  4916,  2034,    23,\n",
              "            36, 55968,     6, 50884,    43,     5,   923,     9,    42,  3068,\n",
              "            16, 27354,     4,  3170,     8,     5,  4472,    31,   386,     7,\n",
              "          2073,    16,   195,     4,  3414,  1788,  1009,  4148, 53346,   415,\n",
              "         55423,     6, 52625,  5632,     5,  1881,     9, 57905,  6677,    28,\n",
              "          2738,    62,    31,    36, 52600,     6, 52703,    43,     8,   551,\n",
              "             7,    49,  4916,  2034,    23,    36, 55622,     6, 55712,    43,\n",
              "             5,   923,     9,    42,  3068,    16, 55294,   463,     5,  4472,\n",
              "            31,   386,     7,  2073,    16,   132,     4,  5208,  1788,  1009,\n",
              "          4148, 53346,   415, 50552,     6, 51614,  5632,     5,  1881,     9,\n",
              "         57905,  6677,    28,  2738,    62,    31,    36, 55968,     6, 50884,\n",
              "            43,     8,   551,     7,    49,  4916,  2034,    23,    36, 54399,\n",
              "             6, 56389,    43,     5,   923,     9,    42,  3068,    16,   820,\n",
              "             4,  3818,     8,     5,  4472,    31,   386,     7,  2073,    16,\n",
              "         56421,   245,  1788,  1009,  4148, 53346,   415, 57855,     6, 57730,\n",
              "          5632,     5,  1881,     9, 57905,  6677,    28,  2738,    62,    31,\n",
              "            36, 54763,     6, 56139,    43,     8,   551,     7,    49,  4916,\n",
              "          2034,    23,    36, 56419,     6, 57226,    43,     5,   923,     9,\n",
              "            42,  3068,    16, 57331,   463,     5,  4472,    31,   386,     7,\n",
              "          2073,    16,   204,     4,  1360,  1788,  1009,  4148, 53346,   415,\n",
              "         53219,     6, 53061,  5632,     5,  1881,     9, 57905,  6677,    28,\n",
              "          2738,    62,    31,    36, 54171,     6, 55328,    43,     8,   551,\n",
              "             7,    49,  4916,  2034,    23,    36, 52353,     6, 55906,    43,\n",
              "             5,   923,     9,    42,  3068,    16, 53292,   406,     8,     5,\n",
              "          4472,    31,   386,     7,  2073,    16, 51217,   176,  1788,  1009,\n",
              "          4148, 53346,   415, 52335,     6, 54569,  5632,     5,  1881,     9,\n",
              "         50308,  6677,    28,  2738,    62,    31,    36, 52353,     6, 55906,\n",
              "            43,     8,   551,     7,    49,  4916,  2034,    23,    36, 50831,\n",
              "             6, 52470,    43,     5,   923,     9,    42,  3068,    16, 51925,\n",
              "           463,     5,  4472,    31,   386,     7,  2073,    16,   361,     4,\n",
              "          5046,  1788,  1009, 60814,     2]])"
            ]
          },
          "metadata": {},
          "execution_count": 4
        }
      ]
    },
    {
      "cell_type": "code",
      "source": [
        "output_ids = model.generate(input_ids, max_length=1011) # should be global_chunk_size when not testing"
      ],
      "metadata": {
        "id": "Q5ruuyQheaQi"
      },
      "execution_count": 16,
      "outputs": []
    },
    {
      "cell_type": "code",
      "source": [
        "output_ids"
      ],
      "metadata": {
        "colab": {
          "base_uri": "https://localhost:8080/"
        },
        "id": "6pSkhNnaoGHP",
        "outputId": "7d1bffc4-462e-4bdf-afc6-a5332d83a2a7"
      },
      "execution_count": 17,
      "outputs": [
        {
          "output_type": "execute_result",
          "data": {
            "text/plain": [
              "tensor([[    2,     0,  4148,  4148,   415, 53999,     6,  1393, 55264,  6677,\n",
              "          1339,    62, 51781,  5632,     5,  1881,     9, 57905,  7761,    36,\n",
              "         53837,     6, 51190,    43,     8,  1882,   160,    23,    36, 55419,\n",
              "             6, 56800,    43,     5,   923,     9,    42,  3068,    16,   463,\n",
              "             5,  4472,    31,   386,     7,  2073,    16,   132,     4,  5479,\n",
              "          1788,  1009,   374,   374,   374,   415, 53999,   415, 53999, 57129,\n",
              "             6,  1393, 54657,  6677,  1339, 53403,  5632,     5,   923,  4156,\n",
              "          1788,  1009,     6, 53100,    43,   406,  1788,  1009,  3068,    16,\n",
              "           195,     4,  4708,  1788,  1009,    43,     5,  4472, 53914,     6,\n",
              "          1393, 55102,  6677,  1339,  1339,    62, 51899,  5632,     5,  4472,\n",
              "         56326,    43,     8,     5,   923,   290,     4,  3103,  1788,  1009,\n",
              "           112,     4,  3103,     8,  1882,  1393, 55102,   246,  1788,  1009,\n",
              "          7761,    36, 52631,     6, 53100,     4,  3103,  1366,  1366,  1366,\n",
              "         32230,     6, 52298,    43,     5, 52350,     6, 50961,    43,     5,\n",
              "          4755,  1009,   374,    16,   132, 51217,   176,     8,     5, 51217,\n",
              "           176,  1788,  1009,  1009,   374,   415, 57268,     6,  1393, 56267,\n",
              "          6677,  1339, 56962,  5632,     5,     6,  1393, 55585,  6677,  1339,\n",
              "         53808,  5632,     5, 57905,  7761, 15611,     6, 51190, 52063,    43,\n",
              "             8,    43,     8,     6, 51190, 51190,    43,     5,  1881,    43,\n",
              "             5,  5607,     8,     5,  4472,    43,     5, 51217,   398,     8,\n",
              "             5,   204,     4,  5479,     8,     5,  1881,     4,  4708,     8,\n",
              "          1882,   155,     4,  3103,   415, 55323,     6,  1393, 57063,  6677,\n",
              "          1339, 57730,  5632,     5,    36, 55419, 54937,    43,     8, 52631,\n",
              "             6, 51190, 57245,    43,     8,    62, 51899,    43,     5,     9,\n",
              "            42,   923,     9, 20857,    31,   386,     4,  3170,     8,     5,\n",
              "           316,     4,  3103,   406,     8,     5,  1393, 55102,   398,  1788,\n",
              "          1009,   923,     9, 50308,  7761,    36, 54054,     6,  1393, 52431,\n",
              "          6677,  1339, 54571,  5632,     5, 20857,    31,    36, 53837,     2]])"
            ]
          },
          "metadata": {},
          "execution_count": 17
        }
      ]
    },
    {
      "cell_type": "code",
      "source": [
        "# Decode the output text.\n",
        "output_text = tokenizer.decode(output_ids[0], skip_special_tokens=True)\n",
        "\n",
        "print(output_text)"
      ],
      "metadata": {
        "colab": {
          "base_uri": "https://localhost:8080/"
        },
        "id": "qI386FK6kMY9",
        "outputId": "81b75492-d75f-4e07-8b84-79bf40a1b7e6"
      },
      "execution_count": 18,
      "outputs": [
        {
          "output_type": "stream",
          "name": "stdout",
          "text": [
            "OnOnat 13:15, driver SC105 will pick up 388526 with the condition of WCH from ( -121.8113861, 37.30517197 ) and dropped off at ( -121.9314804, 37.31127167 ) the value of this ride isand the distance from start to finish is 2.78 miles * On On Onat 13:15 at 13:15 09:30, driver SC302 will pick 388739 with the value59 miles *, 37.31860733 )7 miles * ride is 5.51 miles *) the distance 08:30, driver SC104 will pick pick up 390529 with the distance 37.3015213 ) and the value 8.33 miles * 1.33 and dropped driver SC104 3 miles *from ( -121.8272247, 37.31860733.33181818306, 37.30213547 ) the 05:00, 37.3112793 ) theiles * On is 2 8.3 2 and the 8.3 2 miles * * Onat 09:00, driver SC106 will pick 388934 with the, driver SC202 will pick 388496 with the WCH from (-, 37.30517197 37.32392883 ) and) and, 37.30517197 37.30517197 ) the condition) the96 and the distance) the 8.3 8 and the 4.78 and the condition.51 and dropped 3.33at 10:00, driver SC103 will pick 388488 with the ( -121.9314804 37.35033798 ) and -121.8272247, 37.30517197 37.30604935 ) and up 390529 ) the of this value of STR from start.38 and the 12.337 and the driver SC104 8 miles * value of BWC from ( -121.93367, driver SC402 will pick 390540 with the STR from ( -121.8113861\n"
          ]
        }
      ]
    },
    {
      "cell_type": "code",
      "source": [],
      "metadata": {
        "id": "Z6aJ7FFqoEom"
      },
      "execution_count": null,
      "outputs": []
    }
  ]
}