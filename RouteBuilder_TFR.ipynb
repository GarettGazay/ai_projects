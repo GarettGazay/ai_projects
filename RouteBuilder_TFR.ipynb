{
  "nbformat": 4,
  "nbformat_minor": 0,
  "metadata": {
    "colab": {
      "provenance": [],
      "mount_file_id": "1sG4ACgAwtAlz_si0i6lAacr_Wy0poDIS",
      "authorship_tag": "ABX9TyO4gEpHyqz8NWY6HFOihUT3",
      "include_colab_link": true
    },
    "kernelspec": {
      "name": "python3",
      "display_name": "Python 3"
    },
    "language_info": {
      "name": "python"
    },
    "widgets": {
      "application/vnd.jupyter.widget-state+json": {
        "8f47b8dc2ded40569413505c4fe4b08e": {
          "model_module": "@jupyter-widgets/controls",
          "model_name": "HBoxModel",
          "model_module_version": "1.5.0",
          "state": {
            "_dom_classes": [],
            "_model_module": "@jupyter-widgets/controls",
            "_model_module_version": "1.5.0",
            "_model_name": "HBoxModel",
            "_view_count": null,
            "_view_module": "@jupyter-widgets/controls",
            "_view_module_version": "1.5.0",
            "_view_name": "HBoxView",
            "box_style": "",
            "children": [
              "IPY_MODEL_d8851e25e59e4c019e171abe258a44e3",
              "IPY_MODEL_f00c3b59444448f595d45d39abc11032",
              "IPY_MODEL_a14e84889b194b3295f1c8f5cbe94b7e"
            ],
            "layout": "IPY_MODEL_b76c83a77ae8403fba36024c4cc610fe"
          }
        },
        "d8851e25e59e4c019e171abe258a44e3": {
          "model_module": "@jupyter-widgets/controls",
          "model_name": "HTMLModel",
          "model_module_version": "1.5.0",
          "state": {
            "_dom_classes": [],
            "_model_module": "@jupyter-widgets/controls",
            "_model_module_version": "1.5.0",
            "_model_name": "HTMLModel",
            "_view_count": null,
            "_view_module": "@jupyter-widgets/controls",
            "_view_module_version": "1.5.0",
            "_view_name": "HTMLView",
            "description": "",
            "description_tooltip": null,
            "layout": "IPY_MODEL_652316da1d3145fbbc0658f191d319c5",
            "placeholder": "​",
            "style": "IPY_MODEL_56aab205447a43849d07ad867eef7d71",
            "value": "Downloading data files: 100%"
          }
        },
        "f00c3b59444448f595d45d39abc11032": {
          "model_module": "@jupyter-widgets/controls",
          "model_name": "FloatProgressModel",
          "model_module_version": "1.5.0",
          "state": {
            "_dom_classes": [],
            "_model_module": "@jupyter-widgets/controls",
            "_model_module_version": "1.5.0",
            "_model_name": "FloatProgressModel",
            "_view_count": null,
            "_view_module": "@jupyter-widgets/controls",
            "_view_module_version": "1.5.0",
            "_view_name": "ProgressView",
            "bar_style": "success",
            "description": "",
            "description_tooltip": null,
            "layout": "IPY_MODEL_eed182dd95c44476acef44d01eeadc5d",
            "max": 1,
            "min": 0,
            "orientation": "horizontal",
            "style": "IPY_MODEL_aa4f0e2fc3c74d1e95ba5a0f7a5033d1",
            "value": 1
          }
        },
        "a14e84889b194b3295f1c8f5cbe94b7e": {
          "model_module": "@jupyter-widgets/controls",
          "model_name": "HTMLModel",
          "model_module_version": "1.5.0",
          "state": {
            "_dom_classes": [],
            "_model_module": "@jupyter-widgets/controls",
            "_model_module_version": "1.5.0",
            "_model_name": "HTMLModel",
            "_view_count": null,
            "_view_module": "@jupyter-widgets/controls",
            "_view_module_version": "1.5.0",
            "_view_name": "HTMLView",
            "description": "",
            "description_tooltip": null,
            "layout": "IPY_MODEL_148e69364d944e73913c98644b123e09",
            "placeholder": "​",
            "style": "IPY_MODEL_06da707e92f243579e35e5fe674a105d",
            "value": " 1/1 [00:00&lt;00:00, 12.84it/s]"
          }
        },
        "b76c83a77ae8403fba36024c4cc610fe": {
          "model_module": "@jupyter-widgets/base",
          "model_name": "LayoutModel",
          "model_module_version": "1.2.0",
          "state": {
            "_model_module": "@jupyter-widgets/base",
            "_model_module_version": "1.2.0",
            "_model_name": "LayoutModel",
            "_view_count": null,
            "_view_module": "@jupyter-widgets/base",
            "_view_module_version": "1.2.0",
            "_view_name": "LayoutView",
            "align_content": null,
            "align_items": null,
            "align_self": null,
            "border": null,
            "bottom": null,
            "display": null,
            "flex": null,
            "flex_flow": null,
            "grid_area": null,
            "grid_auto_columns": null,
            "grid_auto_flow": null,
            "grid_auto_rows": null,
            "grid_column": null,
            "grid_gap": null,
            "grid_row": null,
            "grid_template_areas": null,
            "grid_template_columns": null,
            "grid_template_rows": null,
            "height": null,
            "justify_content": null,
            "justify_items": null,
            "left": null,
            "margin": null,
            "max_height": null,
            "max_width": null,
            "min_height": null,
            "min_width": null,
            "object_fit": null,
            "object_position": null,
            "order": null,
            "overflow": null,
            "overflow_x": null,
            "overflow_y": null,
            "padding": null,
            "right": null,
            "top": null,
            "visibility": null,
            "width": null
          }
        },
        "652316da1d3145fbbc0658f191d319c5": {
          "model_module": "@jupyter-widgets/base",
          "model_name": "LayoutModel",
          "model_module_version": "1.2.0",
          "state": {
            "_model_module": "@jupyter-widgets/base",
            "_model_module_version": "1.2.0",
            "_model_name": "LayoutModel",
            "_view_count": null,
            "_view_module": "@jupyter-widgets/base",
            "_view_module_version": "1.2.0",
            "_view_name": "LayoutView",
            "align_content": null,
            "align_items": null,
            "align_self": null,
            "border": null,
            "bottom": null,
            "display": null,
            "flex": null,
            "flex_flow": null,
            "grid_area": null,
            "grid_auto_columns": null,
            "grid_auto_flow": null,
            "grid_auto_rows": null,
            "grid_column": null,
            "grid_gap": null,
            "grid_row": null,
            "grid_template_areas": null,
            "grid_template_columns": null,
            "grid_template_rows": null,
            "height": null,
            "justify_content": null,
            "justify_items": null,
            "left": null,
            "margin": null,
            "max_height": null,
            "max_width": null,
            "min_height": null,
            "min_width": null,
            "object_fit": null,
            "object_position": null,
            "order": null,
            "overflow": null,
            "overflow_x": null,
            "overflow_y": null,
            "padding": null,
            "right": null,
            "top": null,
            "visibility": null,
            "width": null
          }
        },
        "56aab205447a43849d07ad867eef7d71": {
          "model_module": "@jupyter-widgets/controls",
          "model_name": "DescriptionStyleModel",
          "model_module_version": "1.5.0",
          "state": {
            "_model_module": "@jupyter-widgets/controls",
            "_model_module_version": "1.5.0",
            "_model_name": "DescriptionStyleModel",
            "_view_count": null,
            "_view_module": "@jupyter-widgets/base",
            "_view_module_version": "1.2.0",
            "_view_name": "StyleView",
            "description_width": ""
          }
        },
        "eed182dd95c44476acef44d01eeadc5d": {
          "model_module": "@jupyter-widgets/base",
          "model_name": "LayoutModel",
          "model_module_version": "1.2.0",
          "state": {
            "_model_module": "@jupyter-widgets/base",
            "_model_module_version": "1.2.0",
            "_model_name": "LayoutModel",
            "_view_count": null,
            "_view_module": "@jupyter-widgets/base",
            "_view_module_version": "1.2.0",
            "_view_name": "LayoutView",
            "align_content": null,
            "align_items": null,
            "align_self": null,
            "border": null,
            "bottom": null,
            "display": null,
            "flex": null,
            "flex_flow": null,
            "grid_area": null,
            "grid_auto_columns": null,
            "grid_auto_flow": null,
            "grid_auto_rows": null,
            "grid_column": null,
            "grid_gap": null,
            "grid_row": null,
            "grid_template_areas": null,
            "grid_template_columns": null,
            "grid_template_rows": null,
            "height": null,
            "justify_content": null,
            "justify_items": null,
            "left": null,
            "margin": null,
            "max_height": null,
            "max_width": null,
            "min_height": null,
            "min_width": null,
            "object_fit": null,
            "object_position": null,
            "order": null,
            "overflow": null,
            "overflow_x": null,
            "overflow_y": null,
            "padding": null,
            "right": null,
            "top": null,
            "visibility": null,
            "width": null
          }
        },
        "aa4f0e2fc3c74d1e95ba5a0f7a5033d1": {
          "model_module": "@jupyter-widgets/controls",
          "model_name": "ProgressStyleModel",
          "model_module_version": "1.5.0",
          "state": {
            "_model_module": "@jupyter-widgets/controls",
            "_model_module_version": "1.5.0",
            "_model_name": "ProgressStyleModel",
            "_view_count": null,
            "_view_module": "@jupyter-widgets/base",
            "_view_module_version": "1.2.0",
            "_view_name": "StyleView",
            "bar_color": null,
            "description_width": ""
          }
        },
        "148e69364d944e73913c98644b123e09": {
          "model_module": "@jupyter-widgets/base",
          "model_name": "LayoutModel",
          "model_module_version": "1.2.0",
          "state": {
            "_model_module": "@jupyter-widgets/base",
            "_model_module_version": "1.2.0",
            "_model_name": "LayoutModel",
            "_view_count": null,
            "_view_module": "@jupyter-widgets/base",
            "_view_module_version": "1.2.0",
            "_view_name": "LayoutView",
            "align_content": null,
            "align_items": null,
            "align_self": null,
            "border": null,
            "bottom": null,
            "display": null,
            "flex": null,
            "flex_flow": null,
            "grid_area": null,
            "grid_auto_columns": null,
            "grid_auto_flow": null,
            "grid_auto_rows": null,
            "grid_column": null,
            "grid_gap": null,
            "grid_row": null,
            "grid_template_areas": null,
            "grid_template_columns": null,
            "grid_template_rows": null,
            "height": null,
            "justify_content": null,
            "justify_items": null,
            "left": null,
            "margin": null,
            "max_height": null,
            "max_width": null,
            "min_height": null,
            "min_width": null,
            "object_fit": null,
            "object_position": null,
            "order": null,
            "overflow": null,
            "overflow_x": null,
            "overflow_y": null,
            "padding": null,
            "right": null,
            "top": null,
            "visibility": null,
            "width": null
          }
        },
        "06da707e92f243579e35e5fe674a105d": {
          "model_module": "@jupyter-widgets/controls",
          "model_name": "DescriptionStyleModel",
          "model_module_version": "1.5.0",
          "state": {
            "_model_module": "@jupyter-widgets/controls",
            "_model_module_version": "1.5.0",
            "_model_name": "DescriptionStyleModel",
            "_view_count": null,
            "_view_module": "@jupyter-widgets/base",
            "_view_module_version": "1.2.0",
            "_view_name": "StyleView",
            "description_width": ""
          }
        },
        "bcf0ee9087a7474cbd5ffeb4b031ce61": {
          "model_module": "@jupyter-widgets/controls",
          "model_name": "HBoxModel",
          "model_module_version": "1.5.0",
          "state": {
            "_dom_classes": [],
            "_model_module": "@jupyter-widgets/controls",
            "_model_module_version": "1.5.0",
            "_model_name": "HBoxModel",
            "_view_count": null,
            "_view_module": "@jupyter-widgets/controls",
            "_view_module_version": "1.5.0",
            "_view_name": "HBoxView",
            "box_style": "",
            "children": [
              "IPY_MODEL_5fabefb4dc784fbd98c5dec4946c74f3",
              "IPY_MODEL_e13848a2e67c42c79b892285aee00598",
              "IPY_MODEL_0909d5da40fb4574a01fbc72e822a1a5"
            ],
            "layout": "IPY_MODEL_7a6d664979854a1cbf49fd14c9792715"
          }
        },
        "5fabefb4dc784fbd98c5dec4946c74f3": {
          "model_module": "@jupyter-widgets/controls",
          "model_name": "HTMLModel",
          "model_module_version": "1.5.0",
          "state": {
            "_dom_classes": [],
            "_model_module": "@jupyter-widgets/controls",
            "_model_module_version": "1.5.0",
            "_model_name": "HTMLModel",
            "_view_count": null,
            "_view_module": "@jupyter-widgets/controls",
            "_view_module_version": "1.5.0",
            "_view_name": "HTMLView",
            "description": "",
            "description_tooltip": null,
            "layout": "IPY_MODEL_bc72600583564cc08b4ef9b6458ff419",
            "placeholder": "​",
            "style": "IPY_MODEL_033e639d46904fd5848ef58587bf823b",
            "value": "Extracting data files: 100%"
          }
        },
        "e13848a2e67c42c79b892285aee00598": {
          "model_module": "@jupyter-widgets/controls",
          "model_name": "FloatProgressModel",
          "model_module_version": "1.5.0",
          "state": {
            "_dom_classes": [],
            "_model_module": "@jupyter-widgets/controls",
            "_model_module_version": "1.5.0",
            "_model_name": "FloatProgressModel",
            "_view_count": null,
            "_view_module": "@jupyter-widgets/controls",
            "_view_module_version": "1.5.0",
            "_view_name": "ProgressView",
            "bar_style": "success",
            "description": "",
            "description_tooltip": null,
            "layout": "IPY_MODEL_b3b100c88cef4838955e08850f8f780e",
            "max": 1,
            "min": 0,
            "orientation": "horizontal",
            "style": "IPY_MODEL_208c8aa67d0e4c51be418628ab81046b",
            "value": 1
          }
        },
        "0909d5da40fb4574a01fbc72e822a1a5": {
          "model_module": "@jupyter-widgets/controls",
          "model_name": "HTMLModel",
          "model_module_version": "1.5.0",
          "state": {
            "_dom_classes": [],
            "_model_module": "@jupyter-widgets/controls",
            "_model_module_version": "1.5.0",
            "_model_name": "HTMLModel",
            "_view_count": null,
            "_view_module": "@jupyter-widgets/controls",
            "_view_module_version": "1.5.0",
            "_view_name": "HTMLView",
            "description": "",
            "description_tooltip": null,
            "layout": "IPY_MODEL_4dac53fa0512432297fc72aaf708c81c",
            "placeholder": "​",
            "style": "IPY_MODEL_465c8fedd4c5453a9676fc3238c434fe",
            "value": " 1/1 [00:00&lt;00:00, 21.60it/s]"
          }
        },
        "7a6d664979854a1cbf49fd14c9792715": {
          "model_module": "@jupyter-widgets/base",
          "model_name": "LayoutModel",
          "model_module_version": "1.2.0",
          "state": {
            "_model_module": "@jupyter-widgets/base",
            "_model_module_version": "1.2.0",
            "_model_name": "LayoutModel",
            "_view_count": null,
            "_view_module": "@jupyter-widgets/base",
            "_view_module_version": "1.2.0",
            "_view_name": "LayoutView",
            "align_content": null,
            "align_items": null,
            "align_self": null,
            "border": null,
            "bottom": null,
            "display": null,
            "flex": null,
            "flex_flow": null,
            "grid_area": null,
            "grid_auto_columns": null,
            "grid_auto_flow": null,
            "grid_auto_rows": null,
            "grid_column": null,
            "grid_gap": null,
            "grid_row": null,
            "grid_template_areas": null,
            "grid_template_columns": null,
            "grid_template_rows": null,
            "height": null,
            "justify_content": null,
            "justify_items": null,
            "left": null,
            "margin": null,
            "max_height": null,
            "max_width": null,
            "min_height": null,
            "min_width": null,
            "object_fit": null,
            "object_position": null,
            "order": null,
            "overflow": null,
            "overflow_x": null,
            "overflow_y": null,
            "padding": null,
            "right": null,
            "top": null,
            "visibility": null,
            "width": null
          }
        },
        "bc72600583564cc08b4ef9b6458ff419": {
          "model_module": "@jupyter-widgets/base",
          "model_name": "LayoutModel",
          "model_module_version": "1.2.0",
          "state": {
            "_model_module": "@jupyter-widgets/base",
            "_model_module_version": "1.2.0",
            "_model_name": "LayoutModel",
            "_view_count": null,
            "_view_module": "@jupyter-widgets/base",
            "_view_module_version": "1.2.0",
            "_view_name": "LayoutView",
            "align_content": null,
            "align_items": null,
            "align_self": null,
            "border": null,
            "bottom": null,
            "display": null,
            "flex": null,
            "flex_flow": null,
            "grid_area": null,
            "grid_auto_columns": null,
            "grid_auto_flow": null,
            "grid_auto_rows": null,
            "grid_column": null,
            "grid_gap": null,
            "grid_row": null,
            "grid_template_areas": null,
            "grid_template_columns": null,
            "grid_template_rows": null,
            "height": null,
            "justify_content": null,
            "justify_items": null,
            "left": null,
            "margin": null,
            "max_height": null,
            "max_width": null,
            "min_height": null,
            "min_width": null,
            "object_fit": null,
            "object_position": null,
            "order": null,
            "overflow": null,
            "overflow_x": null,
            "overflow_y": null,
            "padding": null,
            "right": null,
            "top": null,
            "visibility": null,
            "width": null
          }
        },
        "033e639d46904fd5848ef58587bf823b": {
          "model_module": "@jupyter-widgets/controls",
          "model_name": "DescriptionStyleModel",
          "model_module_version": "1.5.0",
          "state": {
            "_model_module": "@jupyter-widgets/controls",
            "_model_module_version": "1.5.0",
            "_model_name": "DescriptionStyleModel",
            "_view_count": null,
            "_view_module": "@jupyter-widgets/base",
            "_view_module_version": "1.2.0",
            "_view_name": "StyleView",
            "description_width": ""
          }
        },
        "b3b100c88cef4838955e08850f8f780e": {
          "model_module": "@jupyter-widgets/base",
          "model_name": "LayoutModel",
          "model_module_version": "1.2.0",
          "state": {
            "_model_module": "@jupyter-widgets/base",
            "_model_module_version": "1.2.0",
            "_model_name": "LayoutModel",
            "_view_count": null,
            "_view_module": "@jupyter-widgets/base",
            "_view_module_version": "1.2.0",
            "_view_name": "LayoutView",
            "align_content": null,
            "align_items": null,
            "align_self": null,
            "border": null,
            "bottom": null,
            "display": null,
            "flex": null,
            "flex_flow": null,
            "grid_area": null,
            "grid_auto_columns": null,
            "grid_auto_flow": null,
            "grid_auto_rows": null,
            "grid_column": null,
            "grid_gap": null,
            "grid_row": null,
            "grid_template_areas": null,
            "grid_template_columns": null,
            "grid_template_rows": null,
            "height": null,
            "justify_content": null,
            "justify_items": null,
            "left": null,
            "margin": null,
            "max_height": null,
            "max_width": null,
            "min_height": null,
            "min_width": null,
            "object_fit": null,
            "object_position": null,
            "order": null,
            "overflow": null,
            "overflow_x": null,
            "overflow_y": null,
            "padding": null,
            "right": null,
            "top": null,
            "visibility": null,
            "width": null
          }
        },
        "208c8aa67d0e4c51be418628ab81046b": {
          "model_module": "@jupyter-widgets/controls",
          "model_name": "ProgressStyleModel",
          "model_module_version": "1.5.0",
          "state": {
            "_model_module": "@jupyter-widgets/controls",
            "_model_module_version": "1.5.0",
            "_model_name": "ProgressStyleModel",
            "_view_count": null,
            "_view_module": "@jupyter-widgets/base",
            "_view_module_version": "1.2.0",
            "_view_name": "StyleView",
            "bar_color": null,
            "description_width": ""
          }
        },
        "4dac53fa0512432297fc72aaf708c81c": {
          "model_module": "@jupyter-widgets/base",
          "model_name": "LayoutModel",
          "model_module_version": "1.2.0",
          "state": {
            "_model_module": "@jupyter-widgets/base",
            "_model_module_version": "1.2.0",
            "_model_name": "LayoutModel",
            "_view_count": null,
            "_view_module": "@jupyter-widgets/base",
            "_view_module_version": "1.2.0",
            "_view_name": "LayoutView",
            "align_content": null,
            "align_items": null,
            "align_self": null,
            "border": null,
            "bottom": null,
            "display": null,
            "flex": null,
            "flex_flow": null,
            "grid_area": null,
            "grid_auto_columns": null,
            "grid_auto_flow": null,
            "grid_auto_rows": null,
            "grid_column": null,
            "grid_gap": null,
            "grid_row": null,
            "grid_template_areas": null,
            "grid_template_columns": null,
            "grid_template_rows": null,
            "height": null,
            "justify_content": null,
            "justify_items": null,
            "left": null,
            "margin": null,
            "max_height": null,
            "max_width": null,
            "min_height": null,
            "min_width": null,
            "object_fit": null,
            "object_position": null,
            "order": null,
            "overflow": null,
            "overflow_x": null,
            "overflow_y": null,
            "padding": null,
            "right": null,
            "top": null,
            "visibility": null,
            "width": null
          }
        },
        "465c8fedd4c5453a9676fc3238c434fe": {
          "model_module": "@jupyter-widgets/controls",
          "model_name": "DescriptionStyleModel",
          "model_module_version": "1.5.0",
          "state": {
            "_model_module": "@jupyter-widgets/controls",
            "_model_module_version": "1.5.0",
            "_model_name": "DescriptionStyleModel",
            "_view_count": null,
            "_view_module": "@jupyter-widgets/base",
            "_view_module_version": "1.2.0",
            "_view_name": "StyleView",
            "description_width": ""
          }
        },
        "ebd984aaa5f2452dba39fad17e8073a1": {
          "model_module": "@jupyter-widgets/controls",
          "model_name": "HBoxModel",
          "model_module_version": "1.5.0",
          "state": {
            "_dom_classes": [],
            "_model_module": "@jupyter-widgets/controls",
            "_model_module_version": "1.5.0",
            "_model_name": "HBoxModel",
            "_view_count": null,
            "_view_module": "@jupyter-widgets/controls",
            "_view_module_version": "1.5.0",
            "_view_name": "HBoxView",
            "box_style": "",
            "children": [
              "IPY_MODEL_f7e067056c0b45ad9506ad8ef43a8355",
              "IPY_MODEL_0a296155959f48f4aca44c2908e934ec",
              "IPY_MODEL_69e18abd1c8746dc90464ddf83da0080"
            ],
            "layout": "IPY_MODEL_f9d51695bfe345f58384beab9d8ce0c5"
          }
        },
        "f7e067056c0b45ad9506ad8ef43a8355": {
          "model_module": "@jupyter-widgets/controls",
          "model_name": "HTMLModel",
          "model_module_version": "1.5.0",
          "state": {
            "_dom_classes": [],
            "_model_module": "@jupyter-widgets/controls",
            "_model_module_version": "1.5.0",
            "_model_name": "HTMLModel",
            "_view_count": null,
            "_view_module": "@jupyter-widgets/controls",
            "_view_module_version": "1.5.0",
            "_view_name": "HTMLView",
            "description": "",
            "description_tooltip": null,
            "layout": "IPY_MODEL_97b499415f7e4681a12511655d91b24b",
            "placeholder": "​",
            "style": "IPY_MODEL_366c7fc97f4c41dc83c9f2ff53e21ef1",
            "value": "Generating train split: "
          }
        },
        "0a296155959f48f4aca44c2908e934ec": {
          "model_module": "@jupyter-widgets/controls",
          "model_name": "FloatProgressModel",
          "model_module_version": "1.5.0",
          "state": {
            "_dom_classes": [],
            "_model_module": "@jupyter-widgets/controls",
            "_model_module_version": "1.5.0",
            "_model_name": "FloatProgressModel",
            "_view_count": null,
            "_view_module": "@jupyter-widgets/controls",
            "_view_module_version": "1.5.0",
            "_view_name": "ProgressView",
            "bar_style": "info",
            "description": "",
            "description_tooltip": null,
            "layout": "IPY_MODEL_548970f9fa164aaabdc016883d190f3a",
            "max": 1,
            "min": 0,
            "orientation": "horizontal",
            "style": "IPY_MODEL_69b9ddb0903f44e5b86ac4c442b9cb94",
            "value": 1
          }
        },
        "69e18abd1c8746dc90464ddf83da0080": {
          "model_module": "@jupyter-widgets/controls",
          "model_name": "HTMLModel",
          "model_module_version": "1.5.0",
          "state": {
            "_dom_classes": [],
            "_model_module": "@jupyter-widgets/controls",
            "_model_module_version": "1.5.0",
            "_model_name": "HTMLModel",
            "_view_count": null,
            "_view_module": "@jupyter-widgets/controls",
            "_view_module_version": "1.5.0",
            "_view_name": "HTMLView",
            "description": "",
            "description_tooltip": null,
            "layout": "IPY_MODEL_9d36cb14d964459985f624f9a1efabe2",
            "placeholder": "​",
            "style": "IPY_MODEL_ecb8ab1f4a3b4bce9c8ff1dbeedca3aa",
            "value": " 2849/0 [00:00&lt;00:00, 7660.43 examples/s]"
          }
        },
        "f9d51695bfe345f58384beab9d8ce0c5": {
          "model_module": "@jupyter-widgets/base",
          "model_name": "LayoutModel",
          "model_module_version": "1.2.0",
          "state": {
            "_model_module": "@jupyter-widgets/base",
            "_model_module_version": "1.2.0",
            "_model_name": "LayoutModel",
            "_view_count": null,
            "_view_module": "@jupyter-widgets/base",
            "_view_module_version": "1.2.0",
            "_view_name": "LayoutView",
            "align_content": null,
            "align_items": null,
            "align_self": null,
            "border": null,
            "bottom": null,
            "display": null,
            "flex": null,
            "flex_flow": null,
            "grid_area": null,
            "grid_auto_columns": null,
            "grid_auto_flow": null,
            "grid_auto_rows": null,
            "grid_column": null,
            "grid_gap": null,
            "grid_row": null,
            "grid_template_areas": null,
            "grid_template_columns": null,
            "grid_template_rows": null,
            "height": null,
            "justify_content": null,
            "justify_items": null,
            "left": null,
            "margin": null,
            "max_height": null,
            "max_width": null,
            "min_height": null,
            "min_width": null,
            "object_fit": null,
            "object_position": null,
            "order": null,
            "overflow": null,
            "overflow_x": null,
            "overflow_y": null,
            "padding": null,
            "right": null,
            "top": null,
            "visibility": "hidden",
            "width": null
          }
        },
        "97b499415f7e4681a12511655d91b24b": {
          "model_module": "@jupyter-widgets/base",
          "model_name": "LayoutModel",
          "model_module_version": "1.2.0",
          "state": {
            "_model_module": "@jupyter-widgets/base",
            "_model_module_version": "1.2.0",
            "_model_name": "LayoutModel",
            "_view_count": null,
            "_view_module": "@jupyter-widgets/base",
            "_view_module_version": "1.2.0",
            "_view_name": "LayoutView",
            "align_content": null,
            "align_items": null,
            "align_self": null,
            "border": null,
            "bottom": null,
            "display": null,
            "flex": null,
            "flex_flow": null,
            "grid_area": null,
            "grid_auto_columns": null,
            "grid_auto_flow": null,
            "grid_auto_rows": null,
            "grid_column": null,
            "grid_gap": null,
            "grid_row": null,
            "grid_template_areas": null,
            "grid_template_columns": null,
            "grid_template_rows": null,
            "height": null,
            "justify_content": null,
            "justify_items": null,
            "left": null,
            "margin": null,
            "max_height": null,
            "max_width": null,
            "min_height": null,
            "min_width": null,
            "object_fit": null,
            "object_position": null,
            "order": null,
            "overflow": null,
            "overflow_x": null,
            "overflow_y": null,
            "padding": null,
            "right": null,
            "top": null,
            "visibility": null,
            "width": null
          }
        },
        "366c7fc97f4c41dc83c9f2ff53e21ef1": {
          "model_module": "@jupyter-widgets/controls",
          "model_name": "DescriptionStyleModel",
          "model_module_version": "1.5.0",
          "state": {
            "_model_module": "@jupyter-widgets/controls",
            "_model_module_version": "1.5.0",
            "_model_name": "DescriptionStyleModel",
            "_view_count": null,
            "_view_module": "@jupyter-widgets/base",
            "_view_module_version": "1.2.0",
            "_view_name": "StyleView",
            "description_width": ""
          }
        },
        "548970f9fa164aaabdc016883d190f3a": {
          "model_module": "@jupyter-widgets/base",
          "model_name": "LayoutModel",
          "model_module_version": "1.2.0",
          "state": {
            "_model_module": "@jupyter-widgets/base",
            "_model_module_version": "1.2.0",
            "_model_name": "LayoutModel",
            "_view_count": null,
            "_view_module": "@jupyter-widgets/base",
            "_view_module_version": "1.2.0",
            "_view_name": "LayoutView",
            "align_content": null,
            "align_items": null,
            "align_self": null,
            "border": null,
            "bottom": null,
            "display": null,
            "flex": null,
            "flex_flow": null,
            "grid_area": null,
            "grid_auto_columns": null,
            "grid_auto_flow": null,
            "grid_auto_rows": null,
            "grid_column": null,
            "grid_gap": null,
            "grid_row": null,
            "grid_template_areas": null,
            "grid_template_columns": null,
            "grid_template_rows": null,
            "height": null,
            "justify_content": null,
            "justify_items": null,
            "left": null,
            "margin": null,
            "max_height": null,
            "max_width": null,
            "min_height": null,
            "min_width": null,
            "object_fit": null,
            "object_position": null,
            "order": null,
            "overflow": null,
            "overflow_x": null,
            "overflow_y": null,
            "padding": null,
            "right": null,
            "top": null,
            "visibility": null,
            "width": "20px"
          }
        },
        "69b9ddb0903f44e5b86ac4c442b9cb94": {
          "model_module": "@jupyter-widgets/controls",
          "model_name": "ProgressStyleModel",
          "model_module_version": "1.5.0",
          "state": {
            "_model_module": "@jupyter-widgets/controls",
            "_model_module_version": "1.5.0",
            "_model_name": "ProgressStyleModel",
            "_view_count": null,
            "_view_module": "@jupyter-widgets/base",
            "_view_module_version": "1.2.0",
            "_view_name": "StyleView",
            "bar_color": null,
            "description_width": ""
          }
        },
        "9d36cb14d964459985f624f9a1efabe2": {
          "model_module": "@jupyter-widgets/base",
          "model_name": "LayoutModel",
          "model_module_version": "1.2.0",
          "state": {
            "_model_module": "@jupyter-widgets/base",
            "_model_module_version": "1.2.0",
            "_model_name": "LayoutModel",
            "_view_count": null,
            "_view_module": "@jupyter-widgets/base",
            "_view_module_version": "1.2.0",
            "_view_name": "LayoutView",
            "align_content": null,
            "align_items": null,
            "align_self": null,
            "border": null,
            "bottom": null,
            "display": null,
            "flex": null,
            "flex_flow": null,
            "grid_area": null,
            "grid_auto_columns": null,
            "grid_auto_flow": null,
            "grid_auto_rows": null,
            "grid_column": null,
            "grid_gap": null,
            "grid_row": null,
            "grid_template_areas": null,
            "grid_template_columns": null,
            "grid_template_rows": null,
            "height": null,
            "justify_content": null,
            "justify_items": null,
            "left": null,
            "margin": null,
            "max_height": null,
            "max_width": null,
            "min_height": null,
            "min_width": null,
            "object_fit": null,
            "object_position": null,
            "order": null,
            "overflow": null,
            "overflow_x": null,
            "overflow_y": null,
            "padding": null,
            "right": null,
            "top": null,
            "visibility": null,
            "width": null
          }
        },
        "ecb8ab1f4a3b4bce9c8ff1dbeedca3aa": {
          "model_module": "@jupyter-widgets/controls",
          "model_name": "DescriptionStyleModel",
          "model_module_version": "1.5.0",
          "state": {
            "_model_module": "@jupyter-widgets/controls",
            "_model_module_version": "1.5.0",
            "_model_name": "DescriptionStyleModel",
            "_view_count": null,
            "_view_module": "@jupyter-widgets/base",
            "_view_module_version": "1.2.0",
            "_view_name": "StyleView",
            "description_width": ""
          }
        },
        "5ae0dcb4def64707a79ec25b56a2aa8b": {
          "model_module": "@jupyter-widgets/controls",
          "model_name": "HBoxModel",
          "model_module_version": "1.5.0",
          "state": {
            "_dom_classes": [],
            "_model_module": "@jupyter-widgets/controls",
            "_model_module_version": "1.5.0",
            "_model_name": "HBoxModel",
            "_view_count": null,
            "_view_module": "@jupyter-widgets/controls",
            "_view_module_version": "1.5.0",
            "_view_name": "HBoxView",
            "box_style": "",
            "children": [
              "IPY_MODEL_349df2925da84b2f97ed5fd5590e774f",
              "IPY_MODEL_4d657715a49e47b5b32d12c49a2404f6",
              "IPY_MODEL_04a4ebaaa5e44c9884621e1550425ed7"
            ],
            "layout": "IPY_MODEL_b8071c9b610644b69a699056e45496dc"
          }
        },
        "349df2925da84b2f97ed5fd5590e774f": {
          "model_module": "@jupyter-widgets/controls",
          "model_name": "HTMLModel",
          "model_module_version": "1.5.0",
          "state": {
            "_dom_classes": [],
            "_model_module": "@jupyter-widgets/controls",
            "_model_module_version": "1.5.0",
            "_model_name": "HTMLModel",
            "_view_count": null,
            "_view_module": "@jupyter-widgets/controls",
            "_view_module_version": "1.5.0",
            "_view_name": "HTMLView",
            "description": "",
            "description_tooltip": null,
            "layout": "IPY_MODEL_125fe6795e134520b5c04b96092581da",
            "placeholder": "​",
            "style": "IPY_MODEL_a979b114c2014528b592cec4607e6a67",
            "value": "100%"
          }
        },
        "4d657715a49e47b5b32d12c49a2404f6": {
          "model_module": "@jupyter-widgets/controls",
          "model_name": "FloatProgressModel",
          "model_module_version": "1.5.0",
          "state": {
            "_dom_classes": [],
            "_model_module": "@jupyter-widgets/controls",
            "_model_module_version": "1.5.0",
            "_model_name": "FloatProgressModel",
            "_view_count": null,
            "_view_module": "@jupyter-widgets/controls",
            "_view_module_version": "1.5.0",
            "_view_name": "ProgressView",
            "bar_style": "success",
            "description": "",
            "description_tooltip": null,
            "layout": "IPY_MODEL_57ac9614df90470db539abf0b0863f1e",
            "max": 1,
            "min": 0,
            "orientation": "horizontal",
            "style": "IPY_MODEL_05cf528181904a729071ed35d01ee8b0",
            "value": 1
          }
        },
        "04a4ebaaa5e44c9884621e1550425ed7": {
          "model_module": "@jupyter-widgets/controls",
          "model_name": "HTMLModel",
          "model_module_version": "1.5.0",
          "state": {
            "_dom_classes": [],
            "_model_module": "@jupyter-widgets/controls",
            "_model_module_version": "1.5.0",
            "_model_name": "HTMLModel",
            "_view_count": null,
            "_view_module": "@jupyter-widgets/controls",
            "_view_module_version": "1.5.0",
            "_view_name": "HTMLView",
            "description": "",
            "description_tooltip": null,
            "layout": "IPY_MODEL_3f04457c3c8444b5a32a49aae3bc6078",
            "placeholder": "​",
            "style": "IPY_MODEL_6b3f1cc1a17e444d8203710244c9ca9c",
            "value": " 1/1 [00:00&lt;00:00, 16.36it/s]"
          }
        },
        "b8071c9b610644b69a699056e45496dc": {
          "model_module": "@jupyter-widgets/base",
          "model_name": "LayoutModel",
          "model_module_version": "1.2.0",
          "state": {
            "_model_module": "@jupyter-widgets/base",
            "_model_module_version": "1.2.0",
            "_model_name": "LayoutModel",
            "_view_count": null,
            "_view_module": "@jupyter-widgets/base",
            "_view_module_version": "1.2.0",
            "_view_name": "LayoutView",
            "align_content": null,
            "align_items": null,
            "align_self": null,
            "border": null,
            "bottom": null,
            "display": null,
            "flex": null,
            "flex_flow": null,
            "grid_area": null,
            "grid_auto_columns": null,
            "grid_auto_flow": null,
            "grid_auto_rows": null,
            "grid_column": null,
            "grid_gap": null,
            "grid_row": null,
            "grid_template_areas": null,
            "grid_template_columns": null,
            "grid_template_rows": null,
            "height": null,
            "justify_content": null,
            "justify_items": null,
            "left": null,
            "margin": null,
            "max_height": null,
            "max_width": null,
            "min_height": null,
            "min_width": null,
            "object_fit": null,
            "object_position": null,
            "order": null,
            "overflow": null,
            "overflow_x": null,
            "overflow_y": null,
            "padding": null,
            "right": null,
            "top": null,
            "visibility": null,
            "width": null
          }
        },
        "125fe6795e134520b5c04b96092581da": {
          "model_module": "@jupyter-widgets/base",
          "model_name": "LayoutModel",
          "model_module_version": "1.2.0",
          "state": {
            "_model_module": "@jupyter-widgets/base",
            "_model_module_version": "1.2.0",
            "_model_name": "LayoutModel",
            "_view_count": null,
            "_view_module": "@jupyter-widgets/base",
            "_view_module_version": "1.2.0",
            "_view_name": "LayoutView",
            "align_content": null,
            "align_items": null,
            "align_self": null,
            "border": null,
            "bottom": null,
            "display": null,
            "flex": null,
            "flex_flow": null,
            "grid_area": null,
            "grid_auto_columns": null,
            "grid_auto_flow": null,
            "grid_auto_rows": null,
            "grid_column": null,
            "grid_gap": null,
            "grid_row": null,
            "grid_template_areas": null,
            "grid_template_columns": null,
            "grid_template_rows": null,
            "height": null,
            "justify_content": null,
            "justify_items": null,
            "left": null,
            "margin": null,
            "max_height": null,
            "max_width": null,
            "min_height": null,
            "min_width": null,
            "object_fit": null,
            "object_position": null,
            "order": null,
            "overflow": null,
            "overflow_x": null,
            "overflow_y": null,
            "padding": null,
            "right": null,
            "top": null,
            "visibility": null,
            "width": null
          }
        },
        "a979b114c2014528b592cec4607e6a67": {
          "model_module": "@jupyter-widgets/controls",
          "model_name": "DescriptionStyleModel",
          "model_module_version": "1.5.0",
          "state": {
            "_model_module": "@jupyter-widgets/controls",
            "_model_module_version": "1.5.0",
            "_model_name": "DescriptionStyleModel",
            "_view_count": null,
            "_view_module": "@jupyter-widgets/base",
            "_view_module_version": "1.2.0",
            "_view_name": "StyleView",
            "description_width": ""
          }
        },
        "57ac9614df90470db539abf0b0863f1e": {
          "model_module": "@jupyter-widgets/base",
          "model_name": "LayoutModel",
          "model_module_version": "1.2.0",
          "state": {
            "_model_module": "@jupyter-widgets/base",
            "_model_module_version": "1.2.0",
            "_model_name": "LayoutModel",
            "_view_count": null,
            "_view_module": "@jupyter-widgets/base",
            "_view_module_version": "1.2.0",
            "_view_name": "LayoutView",
            "align_content": null,
            "align_items": null,
            "align_self": null,
            "border": null,
            "bottom": null,
            "display": null,
            "flex": null,
            "flex_flow": null,
            "grid_area": null,
            "grid_auto_columns": null,
            "grid_auto_flow": null,
            "grid_auto_rows": null,
            "grid_column": null,
            "grid_gap": null,
            "grid_row": null,
            "grid_template_areas": null,
            "grid_template_columns": null,
            "grid_template_rows": null,
            "height": null,
            "justify_content": null,
            "justify_items": null,
            "left": null,
            "margin": null,
            "max_height": null,
            "max_width": null,
            "min_height": null,
            "min_width": null,
            "object_fit": null,
            "object_position": null,
            "order": null,
            "overflow": null,
            "overflow_x": null,
            "overflow_y": null,
            "padding": null,
            "right": null,
            "top": null,
            "visibility": null,
            "width": null
          }
        },
        "05cf528181904a729071ed35d01ee8b0": {
          "model_module": "@jupyter-widgets/controls",
          "model_name": "ProgressStyleModel",
          "model_module_version": "1.5.0",
          "state": {
            "_model_module": "@jupyter-widgets/controls",
            "_model_module_version": "1.5.0",
            "_model_name": "ProgressStyleModel",
            "_view_count": null,
            "_view_module": "@jupyter-widgets/base",
            "_view_module_version": "1.2.0",
            "_view_name": "StyleView",
            "bar_color": null,
            "description_width": ""
          }
        },
        "3f04457c3c8444b5a32a49aae3bc6078": {
          "model_module": "@jupyter-widgets/base",
          "model_name": "LayoutModel",
          "model_module_version": "1.2.0",
          "state": {
            "_model_module": "@jupyter-widgets/base",
            "_model_module_version": "1.2.0",
            "_model_name": "LayoutModel",
            "_view_count": null,
            "_view_module": "@jupyter-widgets/base",
            "_view_module_version": "1.2.0",
            "_view_name": "LayoutView",
            "align_content": null,
            "align_items": null,
            "align_self": null,
            "border": null,
            "bottom": null,
            "display": null,
            "flex": null,
            "flex_flow": null,
            "grid_area": null,
            "grid_auto_columns": null,
            "grid_auto_flow": null,
            "grid_auto_rows": null,
            "grid_column": null,
            "grid_gap": null,
            "grid_row": null,
            "grid_template_areas": null,
            "grid_template_columns": null,
            "grid_template_rows": null,
            "height": null,
            "justify_content": null,
            "justify_items": null,
            "left": null,
            "margin": null,
            "max_height": null,
            "max_width": null,
            "min_height": null,
            "min_width": null,
            "object_fit": null,
            "object_position": null,
            "order": null,
            "overflow": null,
            "overflow_x": null,
            "overflow_y": null,
            "padding": null,
            "right": null,
            "top": null,
            "visibility": null,
            "width": null
          }
        },
        "6b3f1cc1a17e444d8203710244c9ca9c": {
          "model_module": "@jupyter-widgets/controls",
          "model_name": "DescriptionStyleModel",
          "model_module_version": "1.5.0",
          "state": {
            "_model_module": "@jupyter-widgets/controls",
            "_model_module_version": "1.5.0",
            "_model_name": "DescriptionStyleModel",
            "_view_count": null,
            "_view_module": "@jupyter-widgets/base",
            "_view_module_version": "1.2.0",
            "_view_name": "StyleView",
            "description_width": ""
          }
        },
        "207863f643a1465a948eeabc64f1aaa7": {
          "model_module": "@jupyter-widgets/controls",
          "model_name": "HBoxModel",
          "model_module_version": "1.5.0",
          "state": {
            "_dom_classes": [],
            "_model_module": "@jupyter-widgets/controls",
            "_model_module_version": "1.5.0",
            "_model_name": "HBoxModel",
            "_view_count": null,
            "_view_module": "@jupyter-widgets/controls",
            "_view_module_version": "1.5.0",
            "_view_name": "HBoxView",
            "box_style": "",
            "children": [
              "IPY_MODEL_3c7366a180ef420296ec7385b3b0c91a",
              "IPY_MODEL_fbe6e89192cc46d1bb22033eb6e9fa73",
              "IPY_MODEL_172d66f2e02843629386a71ba089cb8d"
            ],
            "layout": "IPY_MODEL_f7494df3f05246c0887a5af94e84b756"
          }
        },
        "3c7366a180ef420296ec7385b3b0c91a": {
          "model_module": "@jupyter-widgets/controls",
          "model_name": "HTMLModel",
          "model_module_version": "1.5.0",
          "state": {
            "_dom_classes": [],
            "_model_module": "@jupyter-widgets/controls",
            "_model_module_version": "1.5.0",
            "_model_name": "HTMLModel",
            "_view_count": null,
            "_view_module": "@jupyter-widgets/controls",
            "_view_module_version": "1.5.0",
            "_view_name": "HTMLView",
            "description": "",
            "description_tooltip": null,
            "layout": "IPY_MODEL_f0bd5d5b084b4f2fbd661c7c8871a541",
            "placeholder": "​",
            "style": "IPY_MODEL_60a44ac8403847199fbc7befb3d2923d",
            "value": "Map: 100%"
          }
        },
        "fbe6e89192cc46d1bb22033eb6e9fa73": {
          "model_module": "@jupyter-widgets/controls",
          "model_name": "FloatProgressModel",
          "model_module_version": "1.5.0",
          "state": {
            "_dom_classes": [],
            "_model_module": "@jupyter-widgets/controls",
            "_model_module_version": "1.5.0",
            "_model_name": "FloatProgressModel",
            "_view_count": null,
            "_view_module": "@jupyter-widgets/controls",
            "_view_module_version": "1.5.0",
            "_view_name": "ProgressView",
            "bar_style": "",
            "description": "",
            "description_tooltip": null,
            "layout": "IPY_MODEL_7601fbf930ad41cda4b736e2b4d1c1d7",
            "max": 2279,
            "min": 0,
            "orientation": "horizontal",
            "style": "IPY_MODEL_bb603cff475b44d293bc824df59189c3",
            "value": 2279
          }
        },
        "172d66f2e02843629386a71ba089cb8d": {
          "model_module": "@jupyter-widgets/controls",
          "model_name": "HTMLModel",
          "model_module_version": "1.5.0",
          "state": {
            "_dom_classes": [],
            "_model_module": "@jupyter-widgets/controls",
            "_model_module_version": "1.5.0",
            "_model_name": "HTMLModel",
            "_view_count": null,
            "_view_module": "@jupyter-widgets/controls",
            "_view_module_version": "1.5.0",
            "_view_name": "HTMLView",
            "description": "",
            "description_tooltip": null,
            "layout": "IPY_MODEL_1080e7957ed04ddb858cca12106a6dc3",
            "placeholder": "​",
            "style": "IPY_MODEL_14c0a248b721434186d6728f942be7a1",
            "value": " 2279/2279 [00:32&lt;00:00, 71.68 examples/s]"
          }
        },
        "f7494df3f05246c0887a5af94e84b756": {
          "model_module": "@jupyter-widgets/base",
          "model_name": "LayoutModel",
          "model_module_version": "1.2.0",
          "state": {
            "_model_module": "@jupyter-widgets/base",
            "_model_module_version": "1.2.0",
            "_model_name": "LayoutModel",
            "_view_count": null,
            "_view_module": "@jupyter-widgets/base",
            "_view_module_version": "1.2.0",
            "_view_name": "LayoutView",
            "align_content": null,
            "align_items": null,
            "align_self": null,
            "border": null,
            "bottom": null,
            "display": null,
            "flex": null,
            "flex_flow": null,
            "grid_area": null,
            "grid_auto_columns": null,
            "grid_auto_flow": null,
            "grid_auto_rows": null,
            "grid_column": null,
            "grid_gap": null,
            "grid_row": null,
            "grid_template_areas": null,
            "grid_template_columns": null,
            "grid_template_rows": null,
            "height": null,
            "justify_content": null,
            "justify_items": null,
            "left": null,
            "margin": null,
            "max_height": null,
            "max_width": null,
            "min_height": null,
            "min_width": null,
            "object_fit": null,
            "object_position": null,
            "order": null,
            "overflow": null,
            "overflow_x": null,
            "overflow_y": null,
            "padding": null,
            "right": null,
            "top": null,
            "visibility": "hidden",
            "width": null
          }
        },
        "f0bd5d5b084b4f2fbd661c7c8871a541": {
          "model_module": "@jupyter-widgets/base",
          "model_name": "LayoutModel",
          "model_module_version": "1.2.0",
          "state": {
            "_model_module": "@jupyter-widgets/base",
            "_model_module_version": "1.2.0",
            "_model_name": "LayoutModel",
            "_view_count": null,
            "_view_module": "@jupyter-widgets/base",
            "_view_module_version": "1.2.0",
            "_view_name": "LayoutView",
            "align_content": null,
            "align_items": null,
            "align_self": null,
            "border": null,
            "bottom": null,
            "display": null,
            "flex": null,
            "flex_flow": null,
            "grid_area": null,
            "grid_auto_columns": null,
            "grid_auto_flow": null,
            "grid_auto_rows": null,
            "grid_column": null,
            "grid_gap": null,
            "grid_row": null,
            "grid_template_areas": null,
            "grid_template_columns": null,
            "grid_template_rows": null,
            "height": null,
            "justify_content": null,
            "justify_items": null,
            "left": null,
            "margin": null,
            "max_height": null,
            "max_width": null,
            "min_height": null,
            "min_width": null,
            "object_fit": null,
            "object_position": null,
            "order": null,
            "overflow": null,
            "overflow_x": null,
            "overflow_y": null,
            "padding": null,
            "right": null,
            "top": null,
            "visibility": null,
            "width": null
          }
        },
        "60a44ac8403847199fbc7befb3d2923d": {
          "model_module": "@jupyter-widgets/controls",
          "model_name": "DescriptionStyleModel",
          "model_module_version": "1.5.0",
          "state": {
            "_model_module": "@jupyter-widgets/controls",
            "_model_module_version": "1.5.0",
            "_model_name": "DescriptionStyleModel",
            "_view_count": null,
            "_view_module": "@jupyter-widgets/base",
            "_view_module_version": "1.2.0",
            "_view_name": "StyleView",
            "description_width": ""
          }
        },
        "7601fbf930ad41cda4b736e2b4d1c1d7": {
          "model_module": "@jupyter-widgets/base",
          "model_name": "LayoutModel",
          "model_module_version": "1.2.0",
          "state": {
            "_model_module": "@jupyter-widgets/base",
            "_model_module_version": "1.2.0",
            "_model_name": "LayoutModel",
            "_view_count": null,
            "_view_module": "@jupyter-widgets/base",
            "_view_module_version": "1.2.0",
            "_view_name": "LayoutView",
            "align_content": null,
            "align_items": null,
            "align_self": null,
            "border": null,
            "bottom": null,
            "display": null,
            "flex": null,
            "flex_flow": null,
            "grid_area": null,
            "grid_auto_columns": null,
            "grid_auto_flow": null,
            "grid_auto_rows": null,
            "grid_column": null,
            "grid_gap": null,
            "grid_row": null,
            "grid_template_areas": null,
            "grid_template_columns": null,
            "grid_template_rows": null,
            "height": null,
            "justify_content": null,
            "justify_items": null,
            "left": null,
            "margin": null,
            "max_height": null,
            "max_width": null,
            "min_height": null,
            "min_width": null,
            "object_fit": null,
            "object_position": null,
            "order": null,
            "overflow": null,
            "overflow_x": null,
            "overflow_y": null,
            "padding": null,
            "right": null,
            "top": null,
            "visibility": null,
            "width": null
          }
        },
        "bb603cff475b44d293bc824df59189c3": {
          "model_module": "@jupyter-widgets/controls",
          "model_name": "ProgressStyleModel",
          "model_module_version": "1.5.0",
          "state": {
            "_model_module": "@jupyter-widgets/controls",
            "_model_module_version": "1.5.0",
            "_model_name": "ProgressStyleModel",
            "_view_count": null,
            "_view_module": "@jupyter-widgets/base",
            "_view_module_version": "1.2.0",
            "_view_name": "StyleView",
            "bar_color": null,
            "description_width": ""
          }
        },
        "1080e7957ed04ddb858cca12106a6dc3": {
          "model_module": "@jupyter-widgets/base",
          "model_name": "LayoutModel",
          "model_module_version": "1.2.0",
          "state": {
            "_model_module": "@jupyter-widgets/base",
            "_model_module_version": "1.2.0",
            "_model_name": "LayoutModel",
            "_view_count": null,
            "_view_module": "@jupyter-widgets/base",
            "_view_module_version": "1.2.0",
            "_view_name": "LayoutView",
            "align_content": null,
            "align_items": null,
            "align_self": null,
            "border": null,
            "bottom": null,
            "display": null,
            "flex": null,
            "flex_flow": null,
            "grid_area": null,
            "grid_auto_columns": null,
            "grid_auto_flow": null,
            "grid_auto_rows": null,
            "grid_column": null,
            "grid_gap": null,
            "grid_row": null,
            "grid_template_areas": null,
            "grid_template_columns": null,
            "grid_template_rows": null,
            "height": null,
            "justify_content": null,
            "justify_items": null,
            "left": null,
            "margin": null,
            "max_height": null,
            "max_width": null,
            "min_height": null,
            "min_width": null,
            "object_fit": null,
            "object_position": null,
            "order": null,
            "overflow": null,
            "overflow_x": null,
            "overflow_y": null,
            "padding": null,
            "right": null,
            "top": null,
            "visibility": null,
            "width": null
          }
        },
        "14c0a248b721434186d6728f942be7a1": {
          "model_module": "@jupyter-widgets/controls",
          "model_name": "DescriptionStyleModel",
          "model_module_version": "1.5.0",
          "state": {
            "_model_module": "@jupyter-widgets/controls",
            "_model_module_version": "1.5.0",
            "_model_name": "DescriptionStyleModel",
            "_view_count": null,
            "_view_module": "@jupyter-widgets/base",
            "_view_module_version": "1.2.0",
            "_view_name": "StyleView",
            "description_width": ""
          }
        },
        "fbfa0cc0980d4bbb98a68c9cb903ab0c": {
          "model_module": "@jupyter-widgets/controls",
          "model_name": "HBoxModel",
          "model_module_version": "1.5.0",
          "state": {
            "_dom_classes": [],
            "_model_module": "@jupyter-widgets/controls",
            "_model_module_version": "1.5.0",
            "_model_name": "HBoxModel",
            "_view_count": null,
            "_view_module": "@jupyter-widgets/controls",
            "_view_module_version": "1.5.0",
            "_view_name": "HBoxView",
            "box_style": "",
            "children": [
              "IPY_MODEL_7d26c2f15dd342f295ceb640e11ffb28",
              "IPY_MODEL_e7a6ac1e475448f499556dff40a4ceb7",
              "IPY_MODEL_732bf8ddec7e4f54905e202996cd6c57"
            ],
            "layout": "IPY_MODEL_b758261a2a34445fa71eb69d0cd813d6"
          }
        },
        "7d26c2f15dd342f295ceb640e11ffb28": {
          "model_module": "@jupyter-widgets/controls",
          "model_name": "HTMLModel",
          "model_module_version": "1.5.0",
          "state": {
            "_dom_classes": [],
            "_model_module": "@jupyter-widgets/controls",
            "_model_module_version": "1.5.0",
            "_model_name": "HTMLModel",
            "_view_count": null,
            "_view_module": "@jupyter-widgets/controls",
            "_view_module_version": "1.5.0",
            "_view_name": "HTMLView",
            "description": "",
            "description_tooltip": null,
            "layout": "IPY_MODEL_7ae9b4822a754ae698a81d9e64048482",
            "placeholder": "​",
            "style": "IPY_MODEL_61241d9637694dca828967d8032a5706",
            "value": "Map: 100%"
          }
        },
        "e7a6ac1e475448f499556dff40a4ceb7": {
          "model_module": "@jupyter-widgets/controls",
          "model_name": "FloatProgressModel",
          "model_module_version": "1.5.0",
          "state": {
            "_dom_classes": [],
            "_model_module": "@jupyter-widgets/controls",
            "_model_module_version": "1.5.0",
            "_model_name": "FloatProgressModel",
            "_view_count": null,
            "_view_module": "@jupyter-widgets/controls",
            "_view_module_version": "1.5.0",
            "_view_name": "ProgressView",
            "bar_style": "",
            "description": "",
            "description_tooltip": null,
            "layout": "IPY_MODEL_29bbe6e447dd41dcab71c063ebbae137",
            "max": 570,
            "min": 0,
            "orientation": "horizontal",
            "style": "IPY_MODEL_2c25a33d22a24fd78198c7439fb665d4",
            "value": 570
          }
        },
        "732bf8ddec7e4f54905e202996cd6c57": {
          "model_module": "@jupyter-widgets/controls",
          "model_name": "HTMLModel",
          "model_module_version": "1.5.0",
          "state": {
            "_dom_classes": [],
            "_model_module": "@jupyter-widgets/controls",
            "_model_module_version": "1.5.0",
            "_model_name": "HTMLModel",
            "_view_count": null,
            "_view_module": "@jupyter-widgets/controls",
            "_view_module_version": "1.5.0",
            "_view_name": "HTMLView",
            "description": "",
            "description_tooltip": null,
            "layout": "IPY_MODEL_fca65a02b38d4cc9a66b683f93a72fef",
            "placeholder": "​",
            "style": "IPY_MODEL_989d232f7fec424abe86e9f0a7df3d18",
            "value": " 570/570 [00:09&lt;00:00, 59.19 examples/s]"
          }
        },
        "b758261a2a34445fa71eb69d0cd813d6": {
          "model_module": "@jupyter-widgets/base",
          "model_name": "LayoutModel",
          "model_module_version": "1.2.0",
          "state": {
            "_model_module": "@jupyter-widgets/base",
            "_model_module_version": "1.2.0",
            "_model_name": "LayoutModel",
            "_view_count": null,
            "_view_module": "@jupyter-widgets/base",
            "_view_module_version": "1.2.0",
            "_view_name": "LayoutView",
            "align_content": null,
            "align_items": null,
            "align_self": null,
            "border": null,
            "bottom": null,
            "display": null,
            "flex": null,
            "flex_flow": null,
            "grid_area": null,
            "grid_auto_columns": null,
            "grid_auto_flow": null,
            "grid_auto_rows": null,
            "grid_column": null,
            "grid_gap": null,
            "grid_row": null,
            "grid_template_areas": null,
            "grid_template_columns": null,
            "grid_template_rows": null,
            "height": null,
            "justify_content": null,
            "justify_items": null,
            "left": null,
            "margin": null,
            "max_height": null,
            "max_width": null,
            "min_height": null,
            "min_width": null,
            "object_fit": null,
            "object_position": null,
            "order": null,
            "overflow": null,
            "overflow_x": null,
            "overflow_y": null,
            "padding": null,
            "right": null,
            "top": null,
            "visibility": "hidden",
            "width": null
          }
        },
        "7ae9b4822a754ae698a81d9e64048482": {
          "model_module": "@jupyter-widgets/base",
          "model_name": "LayoutModel",
          "model_module_version": "1.2.0",
          "state": {
            "_model_module": "@jupyter-widgets/base",
            "_model_module_version": "1.2.0",
            "_model_name": "LayoutModel",
            "_view_count": null,
            "_view_module": "@jupyter-widgets/base",
            "_view_module_version": "1.2.0",
            "_view_name": "LayoutView",
            "align_content": null,
            "align_items": null,
            "align_self": null,
            "border": null,
            "bottom": null,
            "display": null,
            "flex": null,
            "flex_flow": null,
            "grid_area": null,
            "grid_auto_columns": null,
            "grid_auto_flow": null,
            "grid_auto_rows": null,
            "grid_column": null,
            "grid_gap": null,
            "grid_row": null,
            "grid_template_areas": null,
            "grid_template_columns": null,
            "grid_template_rows": null,
            "height": null,
            "justify_content": null,
            "justify_items": null,
            "left": null,
            "margin": null,
            "max_height": null,
            "max_width": null,
            "min_height": null,
            "min_width": null,
            "object_fit": null,
            "object_position": null,
            "order": null,
            "overflow": null,
            "overflow_x": null,
            "overflow_y": null,
            "padding": null,
            "right": null,
            "top": null,
            "visibility": null,
            "width": null
          }
        },
        "61241d9637694dca828967d8032a5706": {
          "model_module": "@jupyter-widgets/controls",
          "model_name": "DescriptionStyleModel",
          "model_module_version": "1.5.0",
          "state": {
            "_model_module": "@jupyter-widgets/controls",
            "_model_module_version": "1.5.0",
            "_model_name": "DescriptionStyleModel",
            "_view_count": null,
            "_view_module": "@jupyter-widgets/base",
            "_view_module_version": "1.2.0",
            "_view_name": "StyleView",
            "description_width": ""
          }
        },
        "29bbe6e447dd41dcab71c063ebbae137": {
          "model_module": "@jupyter-widgets/base",
          "model_name": "LayoutModel",
          "model_module_version": "1.2.0",
          "state": {
            "_model_module": "@jupyter-widgets/base",
            "_model_module_version": "1.2.0",
            "_model_name": "LayoutModel",
            "_view_count": null,
            "_view_module": "@jupyter-widgets/base",
            "_view_module_version": "1.2.0",
            "_view_name": "LayoutView",
            "align_content": null,
            "align_items": null,
            "align_self": null,
            "border": null,
            "bottom": null,
            "display": null,
            "flex": null,
            "flex_flow": null,
            "grid_area": null,
            "grid_auto_columns": null,
            "grid_auto_flow": null,
            "grid_auto_rows": null,
            "grid_column": null,
            "grid_gap": null,
            "grid_row": null,
            "grid_template_areas": null,
            "grid_template_columns": null,
            "grid_template_rows": null,
            "height": null,
            "justify_content": null,
            "justify_items": null,
            "left": null,
            "margin": null,
            "max_height": null,
            "max_width": null,
            "min_height": null,
            "min_width": null,
            "object_fit": null,
            "object_position": null,
            "order": null,
            "overflow": null,
            "overflow_x": null,
            "overflow_y": null,
            "padding": null,
            "right": null,
            "top": null,
            "visibility": null,
            "width": null
          }
        },
        "2c25a33d22a24fd78198c7439fb665d4": {
          "model_module": "@jupyter-widgets/controls",
          "model_name": "ProgressStyleModel",
          "model_module_version": "1.5.0",
          "state": {
            "_model_module": "@jupyter-widgets/controls",
            "_model_module_version": "1.5.0",
            "_model_name": "ProgressStyleModel",
            "_view_count": null,
            "_view_module": "@jupyter-widgets/base",
            "_view_module_version": "1.2.0",
            "_view_name": "StyleView",
            "bar_color": null,
            "description_width": ""
          }
        },
        "fca65a02b38d4cc9a66b683f93a72fef": {
          "model_module": "@jupyter-widgets/base",
          "model_name": "LayoutModel",
          "model_module_version": "1.2.0",
          "state": {
            "_model_module": "@jupyter-widgets/base",
            "_model_module_version": "1.2.0",
            "_model_name": "LayoutModel",
            "_view_count": null,
            "_view_module": "@jupyter-widgets/base",
            "_view_module_version": "1.2.0",
            "_view_name": "LayoutView",
            "align_content": null,
            "align_items": null,
            "align_self": null,
            "border": null,
            "bottom": null,
            "display": null,
            "flex": null,
            "flex_flow": null,
            "grid_area": null,
            "grid_auto_columns": null,
            "grid_auto_flow": null,
            "grid_auto_rows": null,
            "grid_column": null,
            "grid_gap": null,
            "grid_row": null,
            "grid_template_areas": null,
            "grid_template_columns": null,
            "grid_template_rows": null,
            "height": null,
            "justify_content": null,
            "justify_items": null,
            "left": null,
            "margin": null,
            "max_height": null,
            "max_width": null,
            "min_height": null,
            "min_width": null,
            "object_fit": null,
            "object_position": null,
            "order": null,
            "overflow": null,
            "overflow_x": null,
            "overflow_y": null,
            "padding": null,
            "right": null,
            "top": null,
            "visibility": null,
            "width": null
          }
        },
        "989d232f7fec424abe86e9f0a7df3d18": {
          "model_module": "@jupyter-widgets/controls",
          "model_name": "DescriptionStyleModel",
          "model_module_version": "1.5.0",
          "state": {
            "_model_module": "@jupyter-widgets/controls",
            "_model_module_version": "1.5.0",
            "_model_name": "DescriptionStyleModel",
            "_view_count": null,
            "_view_module": "@jupyter-widgets/base",
            "_view_module_version": "1.2.0",
            "_view_name": "StyleView",
            "description_width": ""
          }
        }
      }
    },
    "gpuClass": "standard",
    "accelerator": "GPU"
  },
  "cells": [
    {
      "cell_type": "markdown",
      "metadata": {
        "id": "view-in-github",
        "colab_type": "text"
      },
      "source": [
        "<a href=\"https://colab.research.google.com/github/GarettGazay/ai_projects/blob/master/RouteBuilder_TFR.ipynb\" target=\"_parent\"><img src=\"https://colab.research.google.com/assets/colab-badge.svg\" alt=\"Open In Colab\"/></a>"
      ]
    },
    {
      "cell_type": "code",
      "execution_count": 1,
      "metadata": {
        "colab": {
          "base_uri": "https://localhost:8080/"
        },
        "id": "eV6tq74_w0KC",
        "outputId": "3ae7d158-680b-4813-99dd-44e748416947"
      },
      "outputs": [
        {
          "output_type": "stream",
          "name": "stdout",
          "text": [
            "Looking in indexes: https://pypi.org/simple, https://us-python.pkg.dev/colab-wheels/public/simple/\n",
            "Requirement already satisfied: transformers in /usr/local/lib/python3.9/dist-packages (4.27.2)\n",
            "Requirement already satisfied: requests in /usr/local/lib/python3.9/dist-packages (from transformers) (2.27.1)\n",
            "Requirement already satisfied: tokenizers!=0.11.3,<0.14,>=0.11.1 in /usr/local/lib/python3.9/dist-packages (from transformers) (0.13.2)\n",
            "Requirement already satisfied: numpy>=1.17 in /usr/local/lib/python3.9/dist-packages (from transformers) (1.22.4)\n",
            "Requirement already satisfied: pyyaml>=5.1 in /usr/local/lib/python3.9/dist-packages (from transformers) (6.0)\n",
            "Requirement already satisfied: filelock in /usr/local/lib/python3.9/dist-packages (from transformers) (3.10.0)\n",
            "Requirement already satisfied: packaging>=20.0 in /usr/local/lib/python3.9/dist-packages (from transformers) (23.0)\n",
            "Requirement already satisfied: huggingface-hub<1.0,>=0.11.0 in /usr/local/lib/python3.9/dist-packages (from transformers) (0.13.3)\n",
            "Requirement already satisfied: tqdm>=4.27 in /usr/local/lib/python3.9/dist-packages (from transformers) (4.65.0)\n",
            "Requirement already satisfied: regex!=2019.12.17 in /usr/local/lib/python3.9/dist-packages (from transformers) (2022.10.31)\n",
            "Requirement already satisfied: typing-extensions>=3.7.4.3 in /usr/local/lib/python3.9/dist-packages (from huggingface-hub<1.0,>=0.11.0->transformers) (4.5.0)\n",
            "Requirement already satisfied: urllib3<1.27,>=1.21.1 in /usr/local/lib/python3.9/dist-packages (from requests->transformers) (1.26.15)\n",
            "Requirement already satisfied: certifi>=2017.4.17 in /usr/local/lib/python3.9/dist-packages (from requests->transformers) (2022.12.7)\n",
            "Requirement already satisfied: idna<4,>=2.5 in /usr/local/lib/python3.9/dist-packages (from requests->transformers) (3.4)\n",
            "Requirement already satisfied: charset-normalizer~=2.0.0 in /usr/local/lib/python3.9/dist-packages (from requests->transformers) (2.0.12)\n",
            "Looking in indexes: https://pypi.org/simple, https://us-python.pkg.dev/colab-wheels/public/simple/\n",
            "Requirement already satisfied: sentencepiece in /usr/local/lib/python3.9/dist-packages (0.1.97)\n",
            "Looking in indexes: https://pypi.org/simple, https://us-python.pkg.dev/colab-wheels/public/simple/\n",
            "Requirement already satisfied: datasets in /usr/local/lib/python3.9/dist-packages (2.10.1)\n",
            "Requirement already satisfied: pandas in /usr/local/lib/python3.9/dist-packages (from datasets) (1.4.4)\n",
            "Requirement already satisfied: aiohttp in /usr/local/lib/python3.9/dist-packages (from datasets) (3.8.4)\n",
            "Requirement already satisfied: xxhash in /usr/local/lib/python3.9/dist-packages (from datasets) (3.2.0)\n",
            "Requirement already satisfied: tqdm>=4.62.1 in /usr/local/lib/python3.9/dist-packages (from datasets) (4.65.0)\n",
            "Requirement already satisfied: requests>=2.19.0 in /usr/local/lib/python3.9/dist-packages (from datasets) (2.27.1)\n",
            "Requirement already satisfied: multiprocess in /usr/local/lib/python3.9/dist-packages (from datasets) (0.70.14)\n",
            "Requirement already satisfied: huggingface-hub<1.0.0,>=0.2.0 in /usr/local/lib/python3.9/dist-packages (from datasets) (0.13.3)\n",
            "Requirement already satisfied: packaging in /usr/local/lib/python3.9/dist-packages (from datasets) (23.0)\n",
            "Requirement already satisfied: dill<0.3.7,>=0.3.0 in /usr/local/lib/python3.9/dist-packages (from datasets) (0.3.6)\n",
            "Requirement already satisfied: responses<0.19 in /usr/local/lib/python3.9/dist-packages (from datasets) (0.18.0)\n",
            "Requirement already satisfied: pyyaml>=5.1 in /usr/local/lib/python3.9/dist-packages (from datasets) (6.0)\n",
            "Requirement already satisfied: numpy>=1.17 in /usr/local/lib/python3.9/dist-packages (from datasets) (1.22.4)\n",
            "Requirement already satisfied: fsspec[http]>=2021.11.1 in /usr/local/lib/python3.9/dist-packages (from datasets) (2023.3.0)\n",
            "Requirement already satisfied: pyarrow>=6.0.0 in /usr/local/lib/python3.9/dist-packages (from datasets) (9.0.0)\n",
            "Requirement already satisfied: frozenlist>=1.1.1 in /usr/local/lib/python3.9/dist-packages (from aiohttp->datasets) (1.3.3)\n",
            "Requirement already satisfied: charset-normalizer<4.0,>=2.0 in /usr/local/lib/python3.9/dist-packages (from aiohttp->datasets) (2.0.12)\n",
            "Requirement already satisfied: multidict<7.0,>=4.5 in /usr/local/lib/python3.9/dist-packages (from aiohttp->datasets) (6.0.4)\n",
            "Requirement already satisfied: attrs>=17.3.0 in /usr/local/lib/python3.9/dist-packages (from aiohttp->datasets) (22.2.0)\n",
            "Requirement already satisfied: yarl<2.0,>=1.0 in /usr/local/lib/python3.9/dist-packages (from aiohttp->datasets) (1.8.2)\n",
            "Requirement already satisfied: async-timeout<5.0,>=4.0.0a3 in /usr/local/lib/python3.9/dist-packages (from aiohttp->datasets) (4.0.2)\n",
            "Requirement already satisfied: aiosignal>=1.1.2 in /usr/local/lib/python3.9/dist-packages (from aiohttp->datasets) (1.3.1)\n",
            "Requirement already satisfied: typing-extensions>=3.7.4.3 in /usr/local/lib/python3.9/dist-packages (from huggingface-hub<1.0.0,>=0.2.0->datasets) (4.5.0)\n",
            "Requirement already satisfied: filelock in /usr/local/lib/python3.9/dist-packages (from huggingface-hub<1.0.0,>=0.2.0->datasets) (3.10.0)\n",
            "Requirement already satisfied: urllib3<1.27,>=1.21.1 in /usr/local/lib/python3.9/dist-packages (from requests>=2.19.0->datasets) (1.26.15)\n",
            "Requirement already satisfied: idna<4,>=2.5 in /usr/local/lib/python3.9/dist-packages (from requests>=2.19.0->datasets) (3.4)\n",
            "Requirement already satisfied: certifi>=2017.4.17 in /usr/local/lib/python3.9/dist-packages (from requests>=2.19.0->datasets) (2022.12.7)\n",
            "Requirement already satisfied: pytz>=2020.1 in /usr/local/lib/python3.9/dist-packages (from pandas->datasets) (2022.7.1)\n",
            "Requirement already satisfied: python-dateutil>=2.8.1 in /usr/local/lib/python3.9/dist-packages (from pandas->datasets) (2.8.2)\n",
            "Requirement already satisfied: six>=1.5 in /usr/local/lib/python3.9/dist-packages (from python-dateutil>=2.8.1->pandas->datasets) (1.16.0)\n"
          ]
        }
      ],
      "source": [
        "!pip install transformers \n",
        "!pip install sentencepiece\n",
        "!pip install datasets"
      ]
    },
    {
      "cell_type": "code",
      "source": [
        "# !nvcc --version"
      ],
      "metadata": {
        "id": "spKvlYhNYNuZ"
      },
      "execution_count": 2,
      "outputs": []
    },
    {
      "cell_type": "code",
      "source": [
        "# import os\n",
        "# os.environ['CUDA_LAUNCH_BLOCKING'] = \"1\"\n",
        "# os.environ['TORCH_USE_CUDA_DSA'] = \"1\"\n",
        "\n",
        "# %env CUDA_LAUNCH_BLOCKING=1\n",
        "# %env TORCH_USE_CUDA_DSA=1"
      ],
      "metadata": {
        "id": "6vB-f3bwMI28"
      },
      "execution_count": 3,
      "outputs": []
    },
    {
      "cell_type": "code",
      "source": [
        "# import torch\n",
        "# print(torch.__version__)"
      ],
      "metadata": {
        "id": "MESFETElYPvy"
      },
      "execution_count": 4,
      "outputs": []
    },
    {
      "cell_type": "code",
      "source": [
        "# %load_ext google.colab.data_table\n",
        "# %debug\n"
      ],
      "metadata": {
        "id": "kEPzgiM29aDg"
      },
      "execution_count": 5,
      "outputs": []
    },
    {
      "cell_type": "code",
      "source": [
        "import pandas as pd"
      ],
      "metadata": {
        "id": "_AwQu7VDxNn3"
      },
      "execution_count": 6,
      "outputs": []
    },
    {
      "cell_type": "code",
      "source": [
        "df = pd.read_csv('ordering_dataset.csv')\n",
        "df = df[df['trip_cost'] != 0] # we only want the model to deal with value, zeros will confuse it.\n",
        "df = df.fillna(0)"
      ],
      "metadata": {
        "id": "0jewsTO0xt9O"
      },
      "execution_count": 7,
      "outputs": []
    },
    {
      "cell_type": "code",
      "source": [
        "df.head()"
      ],
      "metadata": {
        "colab": {
          "base_uri": "https://localhost:8080/",
          "height": 357
        },
        "id": "4-fgr99z0sS4",
        "outputId": "d6c4b6bd-a495-406d-98fe-26397831865e"
      },
      "execution_count": 8,
      "outputs": [
        {
          "output_type": "execute_result",
          "data": {
            "text/plain": [
              "      pickup_timestamp  hour  minute space_type  asset  trip_cost status  \\\n",
              "0  2021-10-30 04:30:00     4      30        WCH  SC105     69.875   <DR>   \n",
              "2  2021-10-30 05:00:00     5       0        WCH  SC301    100.850   <PF>   \n",
              "3  2021-10-30 05:15:00     5      15        BWC  SC107    154.400   <PF>   \n",
              "4  2021-10-30 05:27:10     5      27        STR  SC204    201.075   <PF>   \n",
              "5  2021-10-30 05:30:00     5      30        WCH  SC105     58.850   <PF>   \n",
              "\n",
              "   rider_id  pickup_long  pickup_lat  dropoff_long  dropoff_lat  \\\n",
              "0    390520  -121.952339   37.385990   -121.902954    37.378399   \n",
              "2    411690  -121.994217   37.342159   -121.979036    37.322465   \n",
              "3    388852  -121.594933   37.023769   -121.812098    37.306048   \n",
              "4    390529  -121.894813   37.321892   -121.931571    37.311278   \n",
              "5    390198  -121.949264   37.302544   -121.933708    37.315559   \n",
              "\n",
              "   billable_distance  \n",
              "0           7.106001  \n",
              "2           2.596089  \n",
              "3          26.139221  \n",
              "4           2.742732  \n",
              "5           2.207732  "
            ],
            "text/html": [
              "\n",
              "  <div id=\"df-05ecbe05-0786-447b-8318-0e5771f6219e\">\n",
              "    <div class=\"colab-df-container\">\n",
              "      <div>\n",
              "<style scoped>\n",
              "    .dataframe tbody tr th:only-of-type {\n",
              "        vertical-align: middle;\n",
              "    }\n",
              "\n",
              "    .dataframe tbody tr th {\n",
              "        vertical-align: top;\n",
              "    }\n",
              "\n",
              "    .dataframe thead th {\n",
              "        text-align: right;\n",
              "    }\n",
              "</style>\n",
              "<table border=\"1\" class=\"dataframe\">\n",
              "  <thead>\n",
              "    <tr style=\"text-align: right;\">\n",
              "      <th></th>\n",
              "      <th>pickup_timestamp</th>\n",
              "      <th>hour</th>\n",
              "      <th>minute</th>\n",
              "      <th>space_type</th>\n",
              "      <th>asset</th>\n",
              "      <th>trip_cost</th>\n",
              "      <th>status</th>\n",
              "      <th>rider_id</th>\n",
              "      <th>pickup_long</th>\n",
              "      <th>pickup_lat</th>\n",
              "      <th>dropoff_long</th>\n",
              "      <th>dropoff_lat</th>\n",
              "      <th>billable_distance</th>\n",
              "    </tr>\n",
              "  </thead>\n",
              "  <tbody>\n",
              "    <tr>\n",
              "      <th>0</th>\n",
              "      <td>2021-10-30 04:30:00</td>\n",
              "      <td>4</td>\n",
              "      <td>30</td>\n",
              "      <td>WCH</td>\n",
              "      <td>SC105</td>\n",
              "      <td>69.875</td>\n",
              "      <td>&lt;DR&gt;</td>\n",
              "      <td>390520</td>\n",
              "      <td>-121.952339</td>\n",
              "      <td>37.385990</td>\n",
              "      <td>-121.902954</td>\n",
              "      <td>37.378399</td>\n",
              "      <td>7.106001</td>\n",
              "    </tr>\n",
              "    <tr>\n",
              "      <th>2</th>\n",
              "      <td>2021-10-30 05:00:00</td>\n",
              "      <td>5</td>\n",
              "      <td>0</td>\n",
              "      <td>WCH</td>\n",
              "      <td>SC301</td>\n",
              "      <td>100.850</td>\n",
              "      <td>&lt;PF&gt;</td>\n",
              "      <td>411690</td>\n",
              "      <td>-121.994217</td>\n",
              "      <td>37.342159</td>\n",
              "      <td>-121.979036</td>\n",
              "      <td>37.322465</td>\n",
              "      <td>2.596089</td>\n",
              "    </tr>\n",
              "    <tr>\n",
              "      <th>3</th>\n",
              "      <td>2021-10-30 05:15:00</td>\n",
              "      <td>5</td>\n",
              "      <td>15</td>\n",
              "      <td>BWC</td>\n",
              "      <td>SC107</td>\n",
              "      <td>154.400</td>\n",
              "      <td>&lt;PF&gt;</td>\n",
              "      <td>388852</td>\n",
              "      <td>-121.594933</td>\n",
              "      <td>37.023769</td>\n",
              "      <td>-121.812098</td>\n",
              "      <td>37.306048</td>\n",
              "      <td>26.139221</td>\n",
              "    </tr>\n",
              "    <tr>\n",
              "      <th>4</th>\n",
              "      <td>2021-10-30 05:27:10</td>\n",
              "      <td>5</td>\n",
              "      <td>27</td>\n",
              "      <td>STR</td>\n",
              "      <td>SC204</td>\n",
              "      <td>201.075</td>\n",
              "      <td>&lt;PF&gt;</td>\n",
              "      <td>390529</td>\n",
              "      <td>-121.894813</td>\n",
              "      <td>37.321892</td>\n",
              "      <td>-121.931571</td>\n",
              "      <td>37.311278</td>\n",
              "      <td>2.742732</td>\n",
              "    </tr>\n",
              "    <tr>\n",
              "      <th>5</th>\n",
              "      <td>2021-10-30 05:30:00</td>\n",
              "      <td>5</td>\n",
              "      <td>30</td>\n",
              "      <td>WCH</td>\n",
              "      <td>SC105</td>\n",
              "      <td>58.850</td>\n",
              "      <td>&lt;PF&gt;</td>\n",
              "      <td>390198</td>\n",
              "      <td>-121.949264</td>\n",
              "      <td>37.302544</td>\n",
              "      <td>-121.933708</td>\n",
              "      <td>37.315559</td>\n",
              "      <td>2.207732</td>\n",
              "    </tr>\n",
              "  </tbody>\n",
              "</table>\n",
              "</div>\n",
              "      <button class=\"colab-df-convert\" onclick=\"convertToInteractive('df-05ecbe05-0786-447b-8318-0e5771f6219e')\"\n",
              "              title=\"Convert this dataframe to an interactive table.\"\n",
              "              style=\"display:none;\">\n",
              "        \n",
              "  <svg xmlns=\"http://www.w3.org/2000/svg\" height=\"24px\"viewBox=\"0 0 24 24\"\n",
              "       width=\"24px\">\n",
              "    <path d=\"M0 0h24v24H0V0z\" fill=\"none\"/>\n",
              "    <path d=\"M18.56 5.44l.94 2.06.94-2.06 2.06-.94-2.06-.94-.94-2.06-.94 2.06-2.06.94zm-11 1L8.5 8.5l.94-2.06 2.06-.94-2.06-.94L8.5 2.5l-.94 2.06-2.06.94zm10 10l.94 2.06.94-2.06 2.06-.94-2.06-.94-.94-2.06-.94 2.06-2.06.94z\"/><path d=\"M17.41 7.96l-1.37-1.37c-.4-.4-.92-.59-1.43-.59-.52 0-1.04.2-1.43.59L10.3 9.45l-7.72 7.72c-.78.78-.78 2.05 0 2.83L4 21.41c.39.39.9.59 1.41.59.51 0 1.02-.2 1.41-.59l7.78-7.78 2.81-2.81c.8-.78.8-2.07 0-2.86zM5.41 20L4 18.59l7.72-7.72 1.47 1.35L5.41 20z\"/>\n",
              "  </svg>\n",
              "      </button>\n",
              "      \n",
              "  <style>\n",
              "    .colab-df-container {\n",
              "      display:flex;\n",
              "      flex-wrap:wrap;\n",
              "      gap: 12px;\n",
              "    }\n",
              "\n",
              "    .colab-df-convert {\n",
              "      background-color: #E8F0FE;\n",
              "      border: none;\n",
              "      border-radius: 50%;\n",
              "      cursor: pointer;\n",
              "      display: none;\n",
              "      fill: #1967D2;\n",
              "      height: 32px;\n",
              "      padding: 0 0 0 0;\n",
              "      width: 32px;\n",
              "    }\n",
              "\n",
              "    .colab-df-convert:hover {\n",
              "      background-color: #E2EBFA;\n",
              "      box-shadow: 0px 1px 2px rgba(60, 64, 67, 0.3), 0px 1px 3px 1px rgba(60, 64, 67, 0.15);\n",
              "      fill: #174EA6;\n",
              "    }\n",
              "\n",
              "    [theme=dark] .colab-df-convert {\n",
              "      background-color: #3B4455;\n",
              "      fill: #D2E3FC;\n",
              "    }\n",
              "\n",
              "    [theme=dark] .colab-df-convert:hover {\n",
              "      background-color: #434B5C;\n",
              "      box-shadow: 0px 1px 3px 1px rgba(0, 0, 0, 0.15);\n",
              "      filter: drop-shadow(0px 1px 2px rgba(0, 0, 0, 0.3));\n",
              "      fill: #FFFFFF;\n",
              "    }\n",
              "  </style>\n",
              "\n",
              "      <script>\n",
              "        const buttonEl =\n",
              "          document.querySelector('#df-05ecbe05-0786-447b-8318-0e5771f6219e button.colab-df-convert');\n",
              "        buttonEl.style.display =\n",
              "          google.colab.kernel.accessAllowed ? 'block' : 'none';\n",
              "\n",
              "        async function convertToInteractive(key) {\n",
              "          const element = document.querySelector('#df-05ecbe05-0786-447b-8318-0e5771f6219e');\n",
              "          const dataTable =\n",
              "            await google.colab.kernel.invokeFunction('convertToInteractive',\n",
              "                                                     [key], {});\n",
              "          if (!dataTable) return;\n",
              "\n",
              "          const docLinkHtml = 'Like what you see? Visit the ' +\n",
              "            '<a target=\"_blank\" href=https://colab.research.google.com/notebooks/data_table.ipynb>data table notebook</a>'\n",
              "            + ' to learn more about interactive tables.';\n",
              "          element.innerHTML = '';\n",
              "          dataTable['output_type'] = 'display_data';\n",
              "          await google.colab.output.renderOutput(dataTable, element);\n",
              "          const docLink = document.createElement('div');\n",
              "          docLink.innerHTML = docLinkHtml;\n",
              "          element.appendChild(docLink);\n",
              "        }\n",
              "      </script>\n",
              "    </div>\n",
              "  </div>\n",
              "  "
            ]
          },
          "metadata": {},
          "execution_count": 8
        }
      ]
    },
    {
      "cell_type": "code",
      "source": [
        "import pandas as pd\n",
        "import random\n",
        "import numpy as np\n",
        "\n",
        "def create_shuffled_target_lists(df):\n",
        "    # Group rows by pickup date\n",
        "    df['pickup_timestamp'] = pd.to_datetime(df['pickup_timestamp'])\n",
        "    groups = df.groupby(df['pickup_timestamp'].dt.date)\n",
        "\n",
        "    shuffled_rides = []\n",
        "    target_order = []\n",
        "\n",
        "    df['pickup_timestamp'] = pd.to_datetime(df['pickup_timestamp'])\n",
        "    df['pickup_timestamp'] = df['pickup_timestamp'].dt.strftime('%Y-%m-%d %H:%M')  \n",
        "    df['pickup_timestamp'] = df['pickup_timestamp'].astype(str)\n",
        "\n",
        "    for name, group in groups:\n",
        "        rides = group.iloc[1:, :].to_numpy()\n",
        "        np.random.shuffle(rides)\n",
        "        shuffled_rides.append(rides.tolist())\n",
        "        target_order.append(group.iloc[1:, :].to_numpy().tolist()) # EXCLUDES HEADERS, AND FIRST FEATURE WHICH IS PICKUP TIMESTAMP - DONT WANT THAT.\n",
        "\n",
        "    return shuffled_rides, target_order\n",
        "\n",
        "x= create_shuffled_target_lists(df)\n",
        "shuffled_rides = x[0]\n",
        "target_order = x[1]"
      ],
      "metadata": {
        "id": "UBnwr78DlusH"
      },
      "execution_count": 9,
      "outputs": []
    },
    {
      "cell_type": "code",
      "source": [
        "shuffled_rides[0][0]"
      ],
      "metadata": {
        "colab": {
          "base_uri": "https://localhost:8080/"
        },
        "id": "WGB5ELpozHse",
        "outputId": "b9912a26-c8f4-4bad-be0a-429ee83a06b0"
      },
      "execution_count": 10,
      "outputs": [
        {
          "output_type": "execute_result",
          "data": {
            "text/plain": [
              "['2021-10-30 05:30',\n",
              " 5,\n",
              " 30,\n",
              " 'WCH',\n",
              " 'SC105',\n",
              " 58.85,\n",
              " '<PF>',\n",
              " 390198,\n",
              " -121.9492645,\n",
              " 37.30254364,\n",
              " -121.9337082,\n",
              " 37.31555939,\n",
              " 2.207732]"
            ]
          },
          "metadata": {},
          "execution_count": 10
        }
      ]
    },
    {
      "cell_type": "code",
      "source": [
        "target_order[6][0]"
      ],
      "metadata": {
        "colab": {
          "base_uri": "https://localhost:8080/"
        },
        "id": "bjWgpP__0Jcf",
        "outputId": "de12204e-d2a6-4ed8-9c06-1c3107ec7f4e"
      },
      "execution_count": 11,
      "outputs": [
        {
          "output_type": "execute_result",
          "data": {
            "text/plain": [
              "['2021-11-23 04:30',\n",
              " 4,\n",
              " 30,\n",
              " 'WCH',\n",
              " 'SC101',\n",
              " 69.65,\n",
              " '<PF>',\n",
              " 388477,\n",
              " -122.0266571,\n",
              " 37.32122421,\n",
              " -122.0791626,\n",
              " 37.3829422,\n",
              " 6.955629]"
            ]
          },
          "metadata": {},
          "execution_count": 11
        }
      ]
    },
    {
      "cell_type": "code",
      "source": [
        "def create_dataset(shuffled_rides, target_order):\n",
        "  dataset=[]\n",
        "  count = 0\n",
        "\n",
        "  for sr,to in zip(shuffled_rides, target_order):\n",
        "    str_inputs = []\n",
        "    str_targets = []\n",
        "\n",
        "    for i in sr:\n",
        "      # i_pickup_hour = str(i[0])\n",
        "      # i_pickup_minute =str(i[1])\n",
        "      i_pickup_date = str(i[0].split(' ')[0])\n",
        "      i_pickup_time = str(i[0].split(' ')[1])\n",
        "      i_space_type =str(i[3])\n",
        "      i_trip_cost =str(round(i[5],2))\n",
        "      i_status = str(i[6])\n",
        "      i_rider_id =str(i[7])\n",
        "      i_pickup_longitude =str(i[8])\n",
        "      i_pickup_latitude =str(i[9])\n",
        "      i_dropoff_longitude =str(i[10])\n",
        "      i_dropoff_latitude =str(i[11])\n",
        "      i_billable_distance = str(round(i[12],2))\n",
        "\n",
        "      if i_status == '<PF>': # performed\n",
        "        sequence = f'On {i_pickup_date} at {i_pickup_time}, {i_rider_id} with the condition of {i_space_type} will be picked up from ({i_pickup_longitude},{i_pickup_latitude}) and taken to their appointment located at ({i_dropoff_longitude},{i_dropoff_latitude}) the value of this ride is {i_trip_cost} and the distance from start to finish is {i_billable_distance} miles *'\n",
        "\n",
        "      else: # dry run\n",
        "        sequence = f'On {i_pickup_date} at {i_pickup_time}, {i_rider_id} with the condition of {i_space_type} was scheduled to be picked up for their appointment from ({i_pickup_longitude},{i_pickup_latitude}) and dropped off at ({i_dropoff_longitude},{i_dropoff_latitude}) the value of this ride was {i_trip_cost} and the distance from start to finish was {i_billable_distance} miles, but {i_rider_id} has canceled the ride *'\n",
        "\n",
        "      str_inputs.append(sequence)\n",
        "    \n",
        "    for j in to:\n",
        "      # j_pickup_hour = str(j[0])\n",
        "      # j_pickup_minute = str(j[1])\n",
        "      j_pickup_date = str(j[0].split(' ')[0])\n",
        "      j_pickup_time = str(j[0].split(' ')[1])\n",
        "      j_space_type = str(j[3])\n",
        "      j_asset_id = str(j[4])\n",
        "      j_trip_cost = str(round(j[5],2))\n",
        "      j_rider_id = str(j[7])\n",
        "      j_pickup_longitude = str(j[8])\n",
        "      j_pickup_latitude = str(j[9])\n",
        "      j_dropoff_longitude = str(j[10])\n",
        "      j_dropoff_latitude = str(j[11])\n",
        "      j_billable_distance = str(round(j[12],2))\n",
        "\n",
        "      sequence = f'On {j_pickup_date} at {j_pickup_time}, driver {j_asset_id} will pick up {j_rider_id} with the condition of {j_space_type} from ({j_pickup_longitude},{j_pickup_latitude}) and dropped off at ({j_dropoff_longitude},{j_dropoff_latitude}) the value of this ride is {j_trip_cost} and the distance from start to finish is {j_billable_distance} miles *'\n",
        "      str_targets.append(sequence)\n",
        "\n",
        "    dataset.append({\n",
        "        'id' : count,\n",
        "        'input' : str_inputs,\n",
        "        'target' : str_targets\n",
        "    })\n",
        "    count += 1\n",
        "\n",
        "  return dataset\n",
        "\n",
        "day = create_dataset(shuffled_rides, target_order)"
      ],
      "metadata": {
        "id": "RrJgs0SF5g6I"
      },
      "execution_count": 12,
      "outputs": []
    },
    {
      "cell_type": "code",
      "source": [
        "len(day[344]['input'])"
      ],
      "metadata": {
        "colab": {
          "base_uri": "https://localhost:8080/"
        },
        "id": "caaZb6WBHpSx",
        "outputId": "aec97dff-f870-46ef-ff5d-abcd12c7c636"
      },
      "execution_count": 13,
      "outputs": [
        {
          "output_type": "execute_result",
          "data": {
            "text/plain": [
              "106"
            ]
          },
          "metadata": {},
          "execution_count": 13
        }
      ]
    },
    {
      "cell_type": "code",
      "source": [
        "len(day[344]['target'])"
      ],
      "metadata": {
        "colab": {
          "base_uri": "https://localhost:8080/"
        },
        "id": "CCJV4O6MHtQR",
        "outputId": "b5cfca44-5970-4190-8242-36646cb3b33b"
      },
      "execution_count": 14,
      "outputs": [
        {
          "output_type": "execute_result",
          "data": {
            "text/plain": [
              "106"
            ]
          },
          "metadata": {},
          "execution_count": 14
        }
      ]
    },
    {
      "cell_type": "code",
      "source": [
        "for i in day[0]['input'][:10]:\n",
        "  print(i + \"\\n\")"
      ],
      "metadata": {
        "colab": {
          "base_uri": "https://localhost:8080/"
        },
        "id": "pwzORr5m6VvI",
        "outputId": "a9feb591-a8ac-48f9-c427-8ef5edeb1264"
      },
      "execution_count": 15,
      "outputs": [
        {
          "output_type": "stream",
          "name": "stdout",
          "text": [
            "On 2021-10-30 at 05:30, 390198 with the condition of WCH will be picked up from (-121.9492645,37.30254364) and taken to their appointment located at (-121.9337082,37.31555939) the value of this ride is 58.85 and the distance from start to finish is 2.21 miles *\n",
            "\n",
            "On 2021-10-30 at 12:30, 388484 with the condition of STR will be picked up from (-122.0140457,37.37662125) and taken to their appointment located at (-121.9516678,37.38991928) the value of this ride is 132.38 and the distance from start to finish is 5.49 miles *\n",
            "\n",
            "On 2021-10-30 at 05:53, 388574 with the condition of BWC will be picked up from (-121.9619141,37.27531433) and taken to their appointment located at (-121.8917009,37.2454899) the value of this ride is 77.2 and the distance from start to finish is 6.76 miles *\n",
            "\n",
            "On 2021-10-30 at 08:30, 388505 with the condition of BWC will be picked up from (-121.8325653,37.33570862) and taken to their appointment located at (-121.8270276,37.2519668) the value of this ride is 93.6 and the distance from start to finish is 10.86 miles *\n",
            "\n",
            "On 2021-10-30 at 08:30, 388484 with the condition of STR will be picked up from (-121.9516678,37.38991928) and taken to their appointment located at (-122.0140457,37.37662125) the value of this ride is 207.38 and the distance from start to finish is 5.49 miles *\n",
            "\n",
            "On 2021-10-30 at 13:00, 388709 with the condition of WCH will be picked up from (-121.950932,37.255799) and taken to their appointment located at (-121.9232407,37.30308914) the value of this ride is 57.38 and the distance from start to finish is 5.51 miles *\n",
            "\n",
            "On 2021-10-30 at 05:43, 388496 with the condition of WCH will be picked up from (-121.8491211,37.32672882) and taken to their appointment located at (-121.8120956,37.30604935) the value of this ride is 63.8 and the distance from start to finish is 4.44 miles *\n",
            "\n",
            "On 2021-10-30 at 08:16, 388994 with the condition of WCH will be picked up from (-121.9678116,37.3220253) and taken to their appointment located at (-121.9790344,37.32246399) the value of this ride is 22.02 and the distance from start to finish is 0.91 miles *\n",
            "\n",
            "On 2021-10-30 at 17:15, 388494 with the condition of WCH will be picked up from (-121.9947433,37.33644867) and taken to their appointment located at (-122.1583481,37.44995499) the value of this ride is 57.8 and the distance from start to finish is 16.83 miles *\n",
            "\n",
            "On 2021-10-30 at 17:30, 390537 with the condition of WCH will be picked up from (-121.8120978,37.3060479) and taken to their appointment located at (-121.8320389,37.29574585) the value of this ride is 25.18 and the distance from start to finish is 2.26 miles *\n",
            "\n"
          ]
        }
      ]
    },
    {
      "cell_type": "code",
      "source": [
        "for i in day[50]['target'][:10]:\n",
        "  print(i + \"\\n\")"
      ],
      "metadata": {
        "colab": {
          "base_uri": "https://localhost:8080/"
        },
        "id": "8SovtlaESsRK",
        "outputId": "dc1ddccb-47a9-406f-c93e-1b441d9fde3a"
      },
      "execution_count": 16,
      "outputs": [
        {
          "output_type": "stream",
          "name": "stdout",
          "text": [
            "On 2022-01-12 at 04:46, driver SC103 will pick up 390524 with the condition of WCH from (-121.9228439,37.3158226) and dropped off at (-121.9373245,37.32392502) the value of this ride is 26.3 and the distance from start to finish is 2.81 miles *\n",
            "\n",
            "On 2022-01-12 at 05:00, driver SC103 will pick up 414417 with the condition of WCH from (-121.9373245,37.32392502) and dropped off at (-121.9373245,37.32392502) the value of this ride is 95.0 and the distance from start to finish is 0.03 miles *\n",
            "\n",
            "On 2022-01-12 at 05:00, driver SC101 will pick up 388477 with the condition of WCH from (-122.0266571,37.32122421) and dropped off at (-122.0791626,37.3829422) the value of this ride is 69.65 and the distance from start to finish is 6.96 miles *\n",
            "\n",
            "On 2022-01-12 at 05:00, driver SC105 will pick up 388472 with the condition of WCH from (-122.0035248,37.4017868) and dropped off at (-121.9337082,37.31555939) the value of this ride is 83.6 and the distance from start to finish is 13.16 miles *\n",
            "\n",
            "On 2022-01-12 at 05:15, driver SC105 will pick up 388559 with the condition of WCH from (-121.9148788,37.30213547) and dropped off at (-121.93367,37.31555176) the value of this ride is 100.4 and the distance from start to finish is 2.41 miles *\n",
            "\n",
            "On 2022-01-12 at 05:30, driver SC101 will pick up 388615 with the condition of WCH from (-122.0365448,37.32618332) and dropped off at (-121.9790344,37.32246399) the value of this ride is 106.47 and the distance from start to finish is 5.12 miles *\n",
            "\n",
            "On 2022-01-12 at 05:30, driver SC204 will pick up 390529 with the condition of STR from (-121.8948135,37.32189178) and dropped off at (-121.931572,37.3112793) the value of this ride is 201.07 and the distance from start to finish is 2.74 miles *\n",
            "\n",
            "On 2022-01-12 at 05:31, driver SC301 will pick up 388934 with the condition of WCH from (-121.8183441,37.3015213) and dropped off at (-121.8114014,37.30512238) the value of this ride is 97.92 and the distance from start to finish is 1.33 miles *\n",
            "\n",
            "On 2022-01-12 at 05:45, driver SC103 will pick up 390520 with the condition of WCH from (-121.9523392,37.38599014) and dropped off at (-121.9029541,37.3783989) the value of this ride is 69.88 and the distance from start to finish is 7.11 miles *\n",
            "\n",
            "On 2022-01-12 at 05:58, driver SC101 will pick up 388820 with the condition of BWC from (-121.9681625,37.32196426) and dropped off at (-121.9373322,37.32389832) the value of this ride is 157.6 and the distance from start to finish is 1.86 miles *\n",
            "\n"
          ]
        }
      ]
    },
    {
      "cell_type": "code",
      "source": [
        "len(day)"
      ],
      "metadata": {
        "colab": {
          "base_uri": "https://localhost:8080/"
        },
        "id": "5VfWU1QkGnFA",
        "outputId": "4d5748bc-beaa-4d86-88e6-63eab73214fa"
      },
      "execution_count": 17,
      "outputs": [
        {
          "output_type": "execute_result",
          "data": {
            "text/plain": [
              "419"
            ]
          },
          "metadata": {},
          "execution_count": 17
        }
      ]
    },
    {
      "cell_type": "code",
      "source": [
        "# This plot shows where the cluster of number of rides per day is, from here we can drop outlies like those below 65\n",
        "import matplotlib.pyplot as plt\n",
        "input_lens = [len(x) for x in target_order]\n",
        "print('input lens: ', input_lens)\n",
        "plt.hist(input_lens, bins=50)"
      ],
      "metadata": {
        "colab": {
          "base_uri": "https://localhost:8080/",
          "height": 511
        },
        "id": "_xIWEyh-cDeh",
        "outputId": "12eacadf-d393-48f6-9ad4-6f1fd7ef37f3"
      },
      "execution_count": 18,
      "outputs": [
        {
          "output_type": "stream",
          "name": "stdout",
          "text": [
            "input lens:  [65, 66, 70, 62, 3, 105, 77, 95, 54, 76, 69, 97, 75, 101, 76, 108, 68, 105, 77, 111, 92, 108, 65, 100, 87, 108, 97, 100, 62, 109, 78, 105, 82, 86, 42, 102, 70, 96, 82, 95, 23, 36, 101, 73, 105, 74, 96, 52, 106, 78, 101, 76, 98, 58, 90, 73, 86, 88, 86, 54, 98, 80, 99, 84, 91, 60, 100, 88, 90, 74, 98, 67, 98, 87, 98, 88, 107, 65, 109, 83, 111, 88, 101, 72, 99, 80, 97, 90, 100, 57, 118, 97, 111, 87, 109, 72, 116, 90, 108, 89, 100, 69, 108, 93, 94, 100, 98, 69, 115, 85, 108, 87, 105, 73, 109, 86, 97, 81, 99, 70, 101, 93, 103, 87, 100, 64, 107, 89, 97, 93, 97, 66, 109, 90, 98, 88, 106, 64, 105, 93, 100, 92, 96, 68, 111, 84, 97, 95, 102, 65, 112, 102, 110, 79, 91, 72, 114, 91, 103, 93, 102, 65, 116, 94, 108, 80, 102, 64, 45, 49, 48, 47, 47, 53, 105, 90, 85, 78, 99, 64, 83, 75, 93, 84, 96, 67, 102, 84, 102, 88, 94, 74, 92, 88, 111, 95, 87, 68, 77, 82, 98, 91, 98, 69, 103, 91, 99, 99, 85, 69, 95, 88, 118, 78, 103, 65, 115, 82, 105, 90, 112, 70, 0, 105, 86, 101, 92, 97, 77, 104, 84, 116, 77, 97, 65, 111, 97, 110, 100, 97, 68, 110, 92, 99, 82, 95, 68, 102, 86, 105, 78, 96, 67, 1, 80, 82, 97, 76, 83, 62, 100, 90, 106, 94, 86, 57, 90, 77, 94, 84, 81, 66, 97, 83, 107, 78, 91, 61, 99, 80, 95, 92, 95, 59, 90, 91, 91, 75, 95, 59, 101, 75, 97, 83, 93, 60, 92, 80, 95, 70, 81, 60, 94, 79, 86, 100, 100, 62, 111, 88, 107, 92, 95, 71, 98, 99, 106, 96, 96, 80, 94, 86, 99, 63, 74, 77, 97, 101, 92, 93, 86, 73, 88, 88, 99, 94, 77, 75, 98, 86, 99, 94, 105, 72, 106, 86, 101, 101, 87, 71, 80, 86, 95, 83, 89, 78, 82, 93, 93, 90, 92, 77, 109, 106, 115, 102, 99, 74, 95, 101, 107, 92, 116, 78, 114, 96, 121, 100, 108, 77, 118, 80, 114, 99, 102, 81, 120, 84, 109, 91, 100, 79, 111, 90, 111, 89, 100, 82, 92, 98, 110, 107, 87, 80, 114, 99, 113, 108, 113, 84, 1, 118, 101, 106, 104, 103, 91, 110, 94]\n"
          ]
        },
        {
          "output_type": "execute_result",
          "data": {
            "text/plain": [
              "(array([ 3.,  1.,  0.,  0.,  0.,  0.,  0.,  0.,  0.,  1.,  0.,  0.,  0.,\n",
              "         0.,  1.,  0.,  0.,  1.,  1.,  3.,  1.,  2.,  2.,  3.,  5.,  5.,\n",
              "        12.,  6., 15.,  6., 14., 14., 11., 22., 14., 24., 15., 22., 32.,\n",
              "        21., 43., 27., 17., 18., 15., 21.,  4., 11.,  4.,  2.]),\n",
              " array([  0.  ,   2.42,   4.84,   7.26,   9.68,  12.1 ,  14.52,  16.94,\n",
              "         19.36,  21.78,  24.2 ,  26.62,  29.04,  31.46,  33.88,  36.3 ,\n",
              "         38.72,  41.14,  43.56,  45.98,  48.4 ,  50.82,  53.24,  55.66,\n",
              "         58.08,  60.5 ,  62.92,  65.34,  67.76,  70.18,  72.6 ,  75.02,\n",
              "         77.44,  79.86,  82.28,  84.7 ,  87.12,  89.54,  91.96,  94.38,\n",
              "         96.8 ,  99.22, 101.64, 104.06, 106.48, 108.9 , 111.32, 113.74,\n",
              "        116.16, 118.58, 121.  ]),\n",
              " <BarContainer object of 50 artists>)"
            ]
          },
          "metadata": {},
          "execution_count": 18
        },
        {
          "output_type": "display_data",
          "data": {
            "text/plain": [
              "<Figure size 432x288 with 1 Axes>"
            ],
            "image/png": "[encoded data removed]"
          },
          "metadata": {
            "needs_background": "light"
          }
        }
      ]
    },
    {
      "cell_type": "markdown",
      "source": [
        "CGPT: Yes, your strategy seems reasonable. Splitting your transportation rides into chunks of N with an average of N tokens per chunk is a good approach for fine-tuning BART-base. Adding a special token to identify the chunks as belonging together in chronological order is also a good idea as it will help the model learn the temporal relationship between the chunks.\n",
        "\n",
        "You should also make sure that you properly tokenize the chunks using the BART tokenizer and make sure that the maximum sequence length is set to N, which is the maximum input length that BART-base can handle. Additionally, you may want to consider using a data collator that will handle padding and truncation of your sequences during training.\n",
        "\n",
        "Overall, your approach seems viable and should work well for fine-tuning BART-base on your transportation ride data."
      ],
      "metadata": {
        "id": "B3Ddw3GUhl4m"
      }
    },
    {
      "cell_type": "code",
      "source": [
        "import math\n",
        "\n",
        "# Chunk input and target sequences\n",
        "largest_sequence = 7038 #  len of the largest token sequence in the dataset\n",
        "num_chunks = 7 # how many chunks we want to break the sequence up into\n",
        "global_chunk_size = math.ceil((largest_sequence / num_chunks)) # the chunk size we will provide to downstream logic\n",
        "\n",
        "print('Chunk Size: ',global_chunk_size)"
      ],
      "metadata": {
        "colab": {
          "base_uri": "https://localhost:8080/"
        },
        "id": "S6MkAxZB7FjK",
        "outputId": "b3a0ba30-ec3c-4a6c-f1ae-654ebdf369ba"
      },
      "execution_count": 19,
      "outputs": [
        {
          "output_type": "stream",
          "name": "stdout",
          "text": [
            "Chunk Size:  1006\n"
          ]
        }
      ]
    },
    {
      "cell_type": "code",
      "source": [
        "day[0]['target']"
      ],
      "metadata": {
        "colab": {
          "base_uri": "https://localhost:8080/"
        },
        "id": "NyNHOJwqa3z6",
        "outputId": "6f355c83-722c-4e45-e762-fe388a348a75"
      },
      "execution_count": 20,
      "outputs": [
        {
          "output_type": "execute_result",
          "data": {
            "text/plain": [
              "['On 2021-10-30 at 05:00, driver SC301 will pick up 411690 with the condition of WCH from (-121.9942169,37.34215927) and dropped off at (-121.9790364,37.322465) the value of this ride is 100.85 and the distance from start to finish is 2.6 miles *',\n",
              " 'On 2021-10-30 at 05:15, driver SC107 will pick up 388852 with the condition of BWC from (-121.5949326,37.02376938) and dropped off at (-121.8120978,37.3060479) the value of this ride is 154.4 and the distance from start to finish is 26.14 miles *',\n",
              " 'On 2021-10-30 at 05:27, driver SC204 will pick up 390529 with the condition of STR from (-121.8948135,37.32189178) and dropped off at (-121.9315708,37.3112781) the value of this ride is 201.07 and the distance from start to finish is 2.74 miles *',\n",
              " 'On 2021-10-30 at 05:30, driver SC105 will pick up 390198 with the condition of WCH from (-121.9492645,37.30254364) and dropped off at (-121.9337082,37.31555939) the value of this ride is 58.85 and the distance from start to finish is 2.21 miles *',\n",
              " 'On 2021-10-30 at 05:30, driver SC105 will pick up 390534 with the condition of WCH from (-121.9642258,37.29271698) and dropped off at (-121.9337045,37.3155593) the value of this ride is 103.33 and the distance from start to finish is 3.69 miles *',\n",
              " 'On 2021-10-30 at 05:43, driver SC301 will pick up 388496 with the condition of WCH from (-121.8491211,37.32672882) and dropped off at (-121.8120956,37.30604935) the value of this ride is 63.8 and the distance from start to finish is 4.44 miles *',\n",
              " 'On 2021-10-30 at 05:53, driver SC105 will pick up 388574 with the condition of BWC from (-121.9619141,37.27531433) and dropped off at (-121.8917009,37.2454899) the value of this ride is 77.2 and the distance from start to finish is 6.76 miles *',\n",
              " 'On 2021-10-30 at 06:00, driver SC301 will pick up 388896 with the condition of WCH from (-121.8397293,37.31420898) and dropped off at (-121.8113861,37.30517197) the value of this ride is 101.3 and the distance from start to finish is 2.78 miles *',\n",
              " 'On 2021-10-30 at 07:15, driver SC105 will pick up 417084 with the condition of BWC from (-121.9148788,37.30213547) and dropped off at (-121.7762604,37.22948456) the value of this ride is 104.0 and the distance from start to finish is 13.5 miles *',\n",
              " 'On 2021-10-30 at 08:15, driver SC105 will pick up 388526 with the condition of WCH from (-121.9255905,37.31228256) and dropped off at (-121.9315708,37.3112781) the value of this ride is 48.38 and the distance from start to finish is 1.5 miles *',\n",
              " 'On 2021-10-30 at 08:15, driver SC105 will pick up 388851 with the condition of BWC from (-121.8116608,37.26219559) and dropped off at (-121.826913,37.251936) the value of this ride is 50.0 and the distance from start to finish is 2.52 miles *',\n",
              " 'On 2021-10-30 at 08:16, driver SC102 will pick up 388994 with the condition of WCH from (-121.9678116,37.3220253) and dropped off at (-121.9790344,37.32246399) the value of this ride is 22.02 and the distance from start to finish is 0.91 miles *',\n",
              " 'On 2021-10-30 at 08:30, driver SC107 will pick up 388709 with the condition of WCH from (-121.9232407,37.30308914) and dropped off at (-121.950932,37.255799) the value of this ride is 82.38 and the distance from start to finish is 5.51 miles *',\n",
              " 'On 2021-10-30 at 08:30, driver SC101 will pick up 388505 with the condition of BWC from (-121.8325653,37.33570862) and dropped off at (-121.8270276,37.2519668) the value of this ride is 93.6 and the distance from start to finish is 10.86 miles *',\n",
              " 'On 2021-10-30 at 08:30, driver SC204 will pick up 390529 with the condition of STR from (-121.9315708,37.3112781) and dropped off at (-121.8948135,37.32189178) the value of this ride is 126.08 and the distance from start to finish is 2.74 miles *',\n",
              " 'On 2021-10-30 at 08:30, driver SC202 will pick up 388484 with the condition of STR from (-121.9516678,37.38991928) and dropped off at (-122.0140457,37.37662125) the value of this ride is 207.38 and the distance from start to finish is 5.49 miles *',\n",
              " 'On 2021-10-30 at 08:40, driver SC105 will pick up 390539 with the condition of WCH from (-121.888064,37.332132) and dropped off at (-121.8134232,37.35033035) the value of this ride is 84.4 and the distance from start to finish is 6.42 miles *',\n",
              " 'On 2021-10-30 at 08:45, driver SC101 will pick up 388896 with the condition of WCH from (-121.8113861,37.30517197) and dropped off at (-121.8397293,37.31420898) the value of this ride is 26.3 and the distance from start to finish is 2.78 miles *',\n",
              " 'On 2021-10-30 at 09:00, driver SC107 will pick up 390520 with the condition of WCH from (-121.9029541,37.3783989) and dropped off at (-121.9523392,37.38599014) the value of this ride is 35.98 and the distance from start to finish is 7.11 miles *',\n",
              " 'On 2021-10-30 at 09:00, driver SC102 will pick up 411690 with the condition of WCH from (-121.9790364,37.322465) and dropped off at (-121.9942169,37.34215927) the value of this ride is 25.85 and the distance from start to finish is 2.6 miles *',\n",
              " 'On 2021-10-30 at 09:10, driver SC301 will pick up 388482 with the condition of WCH from (-122.1578217,37.45035553) and dropped off at (-122.1483078,37.47801208) the value of this ride is 27.88 and the distance from start to finish is 3.51 miles *',\n",
              " 'On 2021-10-30 at 09:15, driver SC204 will pick up 390527 with the condition of STR from (-122.0218887,37.36326981) and dropped off at (-122.0140457,37.37662125) the value of this ride is 199.05 and the distance from start to finish is 1.78 miles *',\n",
              " 'On 2021-10-30 at 09:30, driver SC105 will pick up 415878 with the condition of WCH from (-121.9509048,37.33436203) and dropped off at (-121.8914642,37.24549484) the value of this ride is 79.1 and the distance from start to finish is 11.22 miles *',\n",
              " 'On 2021-10-30 at 09:30, driver SC101 will pick up 388852 with the condition of BWC from (-121.8120978,37.3060479) and dropped off at (-121.5949326,37.02376938) the value of this ride is 154.4 and the distance from start to finish is 26.14 miles *',\n",
              " 'On 2021-10-30 at 09:45, driver SC102 will pick up 388691 with the condition of WCH from (-121.9314804,37.31127167) and dropped off at (-121.9243088,37.39934158) the value of this ride is 42.5 and the distance from start to finish is 10.03 miles *',\n",
              " 'On 2021-10-30 at 09:45, driver SC202 will pick up 418112 with the condition of STR from (-121.8530579,37.32979965) and dropped off at (-121.846966,37.361518) the value of this ride is 204.45 and the distance from start to finish is 4.18 miles *',\n",
              " 'On 2021-10-30 at 09:45, driver SC101 will pick up 388496 with the condition of WCH from (-121.8120956,37.30604935) and dropped off at (-121.8491211,37.32672882) the value of this ride is 29.9 and the distance from start to finish is 4.44 miles *',\n",
              " 'On 2021-10-30 at 09:45, driver SC105 will pick up 390540 with the condition of WCH from (-121.8941803,37.29782867) and dropped off at (-121.931483,37.31127) the value of this ride is 77.88 and the distance from start to finish is 3.53 miles *',\n",
              " 'On 2021-10-30 at 10:00, driver SC301 will pick up 390198 with the condition of WCH from (-121.9337045,37.3155593) and dropped off at (-121.949268,37.302544) the value of this ride is 24.95 and the distance from start to finish is 2.21 miles *',\n",
              " 'On 2021-10-30 at 10:00, driver SC301 will pick up 390534 with the condition of WCH from (-121.9337045,37.3155593) and dropped off at (-121.9642258,37.29271698) the value of this ride is 28.32 and the distance from start to finish is 3.69 miles *',\n",
              " 'On 2021-10-30 at 10:25, driver SC102 will pick up 388498 with the condition of WCH from (-121.8635483,37.30686951) and dropped off at (-121.931572,37.3112793) the value of this ride is 67.85 and the distance from start to finish is 6.25 miles *',\n",
              " 'On 2021-10-30 at 10:30, driver SC204 will pick up 388622 with the condition of STR from (-121.8897095,37.44872284) and dropped off at (-121.8134232,37.35033035) the value of this ride is 216.6 and the distance from start to finish is 9.63 miles *',\n",
              " 'On 2021-10-30 at 10:30, driver SC105 will pick up 388574 with the condition of BWC from (-121.8917009,37.2454899) and dropped off at (-121.9619141,37.27531433) the value of this ride is 77.2 and the distance from start to finish is 6.76 miles *',\n",
              " 'On 2021-10-30 at 11:45, driver SC202 will pick up 418112 with the condition of STR from (-121.846966,37.361518) and dropped off at (-121.8530579,37.32979965) the value of this ride is 179.45 and the distance from start to finish is 4.18 miles *',\n",
              " 'On 2021-10-30 at 12:00, driver SC104 will pick up 417084 with the condition of BWC from (-121.7762604,37.22948456) and dropped off at (-121.9148788,37.30213547) the value of this ride is 104.0 and the distance from start to finish is 13.5 miles *',\n",
              " 'On 2021-10-30 at 12:00, driver SC102 will pick up 388494 with the condition of WCH from (-122.1583481,37.44995499) and dropped off at (-121.9947433,37.33644867) the value of this ride is 91.7 and the distance from start to finish is 16.83 miles *',\n",
              " 'On 2021-10-30 at 12:30, driver SC204 will pick up 388484 with the condition of STR from (-122.0140457,37.37662125) and dropped off at (-121.9516678,37.38991928) the value of this ride is 132.38 and the distance from start to finish is 5.49 miles *',\n",
              " 'On 2021-10-30 at 12:30, driver SC301 will pick up 388479 with the condition of WCH from (-122.0238342,37.3819046) and dropped off at (-122.0140457,37.37662125) the value of this ride is 56.38 and the distance from start to finish is 1.05 miles *',\n",
              " 'On 2021-10-30 at 12:45, driver SC101 will pick up 388505 with the condition of BWC from (-121.8270276,37.2519668) and dropped off at (-121.8325653,37.33570862) the value of this ride is 93.6 and the distance from start to finish is 10.86 miles *',\n",
              " 'On 2021-10-30 at 13:00, driver SC102 will pick up 388526 with the condition of WCH from (-121.9315708,37.3112781) and dropped off at (-121.9255905,37.31228256) the value of this ride is 48.38 and the distance from start to finish is 1.5 miles *',\n",
              " 'On 2021-10-30 at 13:00, driver SC301 will pick up 388488 with the condition of WCH from (-122.0695877,37.41511917) and dropped off at (-122.079144,37.382993) the value of this ride is 40.75 and the distance from start to finish is 4.17 miles *',\n",
              " 'On 2021-10-30 at 13:00, driver SC102 will pick up 388709 with the condition of WCH from (-121.950932,37.255799) and dropped off at (-121.9232407,37.30308914) the value of this ride is 57.38 and the distance from start to finish is 5.51 miles *',\n",
              " 'On 2021-10-30 at 13:05, driver SC104 will pick up 388677 with the condition of BWC from (-121.8692703,37.38211441) and dropped off at (-121.933667,37.315553) the value of this ride is 89.6 and the distance from start to finish is 9.89 miles *',\n",
              " 'On 2021-10-30 at 13:12, driver SC104 will pick up 388702 with the condition of WCH from (-121.8411942,37.36575317) and dropped off at (-121.933667,37.315553) the value of this ride is 88.67 and the distance from start to finish is 8.32 miles *',\n",
              " 'On 2021-10-30 at 13:15, driver SC107 will pick up 390537 with the condition of WCH from (-121.8320389,37.29574585) and dropped off at (-121.8120978,37.3060479) the value of this ride is 100.17 and the distance from start to finish is 2.26 miles *',\n",
              " 'On 2021-10-30 at 13:15, driver SC106 will pick up 390522 with the condition of WCH from (-121.8272247,37.31860733) and dropped off at (-121.8134232,37.35033035) the value of this ride is 61.55 and the distance from start to finish is 3.37 miles *',\n",
              " 'On 2021-10-30 at 13:15, driver SC107 will pick up 388492 with the condition of WCH from (-121.934817,37.32753) and dropped off at (-121.8113861,37.30517197) the value of this ride is 77.97 and the distance from start to finish is 10.74 miles *',\n",
              " 'On 2021-10-30 at 13:15, driver SC101 will pick up 388851 with the condition of BWC from (-121.826913,37.251936) and dropped off at (-121.8116608,37.26219559) the value of this ride is 60.0 and the distance from start to finish is 2.52 miles *',\n",
              " 'On 2021-10-30 at 13:15, driver SC204 will pick up 390527 with the condition of STR from (-122.0140457,37.37662125) and dropped off at (-122.0218887,37.36326981) the value of this ride is 124.05 and the distance from start to finish is 1.78 miles *',\n",
              " 'On 2021-10-30 at 13:29, driver SC107 will pick up 388690 with the condition of WCH from (-121.841225,37.329922) and dropped off at (-121.8348397,37.3156898) the value of this ride is 51.75 and the distance from start to finish is 2.98 miles *',\n",
              " 'On 2021-10-30 at 13:45, driver SC102 will pick up 388994 with the condition of WCH from (-121.9790344,37.32246399) and dropped off at (-121.9678116,37.3220253) the value of this ride is 22.02 and the distance from start to finish is 0.91 miles *',\n",
              " 'On 2021-10-30 at 13:45, driver SC107 will pick up 390539 with the condition of WCH from (-121.8134221,37.3503311) and dropped off at (-121.888064,37.332132) the value of this ride is 34.4 and the distance from start to finish is 6.42 miles *',\n",
              " 'On 2021-10-30 at 14:00, driver SC202 will pick up 388622 with the condition of STR from (-121.8134232,37.35033035) and dropped off at (-121.8897095,37.44872284) the value of this ride is 141.6 and the distance from start to finish is 9.63 miles *',\n",
              " 'On 2021-10-30 at 15:00, driver SC104 will pick up 390540 with the condition of WCH from (-121.931483,37.31127) and dropped off at (-121.8941803,37.29782867) the value of this ride is 27.88 and the distance from start to finish is 3.53 miles *',\n",
              " 'On 2021-10-30 at 15:00, driver SC107 will pick up 415878 with the condition of WCH from (-121.8914642,37.24549484) and dropped off at (-121.9509048,37.33436203) the value of this ride is 45.2 and the distance from start to finish is 11.22 miles *',\n",
              " 'On 2021-10-30 at 15:00, driver SC104 will pick up 388498 with the condition of WCH from (-121.931572,37.3112793) and dropped off at (-121.8635483,37.30686951) the value of this ride is 33.95 and the distance from start to finish is 6.25 miles *',\n",
              " 'On 2021-10-30 at 16:45, driver SC106 will pick up 388479 with the condition of WCH from (-122.0140457,37.37662125) and dropped off at (-122.0238342,37.3819046) the value of this ride is 22.48 and the distance from start to finish is 1.05 miles *',\n",
              " 'On 2021-10-30 at 17:00, driver SC107 will pick up 390522 with the condition of WCH from (-121.8134232,37.35033035) and dropped off at (-121.8272247,37.31860733) the value of this ride is 27.65 and the distance from start to finish is 3.37 miles *',\n",
              " 'On 2021-10-30 at 17:00, driver SC107 will pick up 388690 with the condition of WCH from (-121.8348389,37.31568909) and dropped off at (-121.8412247,37.32992172) the value of this ride is 26.75 and the distance from start to finish is 2.98 miles *',\n",
              " 'On 2021-10-30 at 17:15, driver SC106 will pick up 388488 with the condition of WCH from (-122.079144,37.382993) and dropped off at (-122.0695877,37.41511917) the value of this ride is 52.05 and the distance from start to finish is 4.17 miles *',\n",
              " 'On 2021-10-30 at 17:15, driver SC106 will pick up 388494 with the condition of WCH from (-121.9947433,37.33644867) and dropped off at (-122.1583481,37.44995499) the value of this ride is 57.8 and the distance from start to finish is 16.83 miles *',\n",
              " 'On 2021-10-30 at 17:30, driver SC107 will pick up 390537 with the condition of WCH from (-121.8120978,37.3060479) and dropped off at (-121.8320389,37.29574585) the value of this ride is 25.18 and the distance from start to finish is 2.26 miles *',\n",
              " 'On 2021-10-30 at 17:45, driver SC104 will pick up 388677 with the condition of BWC from (-121.933667,37.315553) and dropped off at (-121.8692703,37.38211441) the value of this ride is 89.6 and the distance from start to finish is 9.89 miles *',\n",
              " 'On 2021-10-30 at 17:45, driver SC104 will pick up 388702 with the condition of WCH from (-121.933667,37.315553) and dropped off at (-121.8411942,37.36575317) the value of this ride is 38.67 and the distance from start to finish is 8.32 miles *',\n",
              " 'On 2021-10-30 at 18:00, driver SC107 will pick up 388492 with the condition of WCH from (-121.811386,37.305172) and dropped off at (-121.934817,37.32753) the value of this ride is 55.38 and the distance from start to finish is 10.74 miles *']"
            ]
          },
          "metadata": {},
          "execution_count": 20
        }
      ]
    },
    {
      "cell_type": "code",
      "source": [
        "count = 0\n",
        "count_id = 0 # incrementes the id of each dict so they are in a sequential order from start to end and each dict has a unique id\n",
        "new_rides_dataset=[] # fill with generated chunks for each day of rides sequences\n",
        "chunk_tokens=[]\n",
        "for i in range(len(day)):\n",
        "  input = day[i]['input'] # input at each iteration\n",
        "  target = day[i]['target'] # target at each iteration\n",
        "\n",
        "  input_chunks_holder=[] # holds the input chunks for each iteration\n",
        "  target_chunks_holder=[] # holds the target chunks for each iteration\n",
        "\n",
        "  target_len = len(target)\n",
        "  if target_len > 50: # skip any days that don't offer sufficient training data so it doesn't waste resources and slow down training.\n",
        "    \n",
        "    chunk_size = len(target) // num_chunks # break the day up into chunks based on the target length\n",
        "\n",
        "    input_chunk1 = input[:chunk_size]\n",
        "    input_chunk2 = input[chunk_size:2*chunk_size]\n",
        "    input_chunk3 = input[2*chunk_size:3*chunk_size]\n",
        "    input_chunk4 = input[3*chunk_size:4*chunk_size]\n",
        "    input_chunk5 = input[4*chunk_size:5*chunk_size]\n",
        "    input_chunk6 = input[5*chunk_size:6*chunk_size]\n",
        "    input_chunk7 = input[6*chunk_size:]\n",
        "\n",
        "    target_chunk1 = target[:chunk_size]\n",
        "    target_chunk2 = target[chunk_size:2*chunk_size]\n",
        "    target_chunk3 = target[2*chunk_size:3*chunk_size]\n",
        "    target_chunk4 = target[3*chunk_size:4*chunk_size]\n",
        "    target_chunk5 = target[4*chunk_size:5*chunk_size]\n",
        "    target_chunk6 = target[5*chunk_size:6*chunk_size]\n",
        "    target_chunk7 = target[6*chunk_size:]\n",
        "\n",
        "    # Add chunk token Id's\n",
        "    chunk1_token = f'<START_{count}>' # also used for the df\n",
        "    chunk2_token = f'<CONT_{count}_1>'\n",
        "    chunk3_token = f'<CONT_{count}_2>'\n",
        "    chunk4_token = f'<CONT_{count}_3>'\n",
        "    chunk5_token = f'<CONT_{count}_4>'\n",
        "    chunk6_token = f'<CONT_{count}_5>'\n",
        "    chunk7_token = f'<END_{count}>'\n",
        "\n",
        "    chunk_tokens.append([chunk1_token, chunk2_token, chunk3_token, chunk4_token, chunk5_token, chunk6_token, chunk7_token]) # add for the vocab file\n",
        "\n",
        "    target_chunk1.append(chunk1_token)\n",
        "    target_chunk2.append(chunk2_token)\n",
        "    target_chunk3.append(chunk3_token)\n",
        "    target_chunk4.append(chunk4_token)\n",
        "    target_chunk5.append(chunk5_token)\n",
        "    target_chunk6.append(chunk6_token)\n",
        "    target_chunk7.append(chunk7_token)\n",
        "\n",
        "    # Shuffle the input chunk \n",
        "    np.random.shuffle(input_chunk1)\n",
        "    np.random.shuffle(input_chunk2)\n",
        "    np.random.shuffle(input_chunk3)\n",
        "    np.random.shuffle(input_chunk4)\n",
        "    np.random.shuffle(input_chunk5)\n",
        "    np.random.shuffle(input_chunk6)\n",
        "    np.random.shuffle(input_chunk7)\n",
        "\n",
        "    # Append chunk token for inputs after they've been shuffled\n",
        "    input_chunk1.append(chunk1_token)\n",
        "    input_chunk2.append(chunk2_token)\n",
        "    input_chunk3.append(chunk3_token)\n",
        "    input_chunk4.append(chunk4_token)\n",
        "    input_chunk5.append(chunk5_token)\n",
        "    input_chunk6.append(chunk6_token)\n",
        "    input_chunk7.append(chunk7_token)\n",
        "\n",
        "\n",
        "    # Add chunks with tags to the new rides_dataset as seperate sequences \n",
        "    # which will be understood as a single sequence by their chunk tags\n",
        "    new_rides_dataset.append({\n",
        "        'id' : count_id,\n",
        "        'input' : input_chunk1, # Start\n",
        "        'target' : target_chunk1 # Start\n",
        "        })\n",
        "    count_id += 1\n",
        "    \n",
        "    new_rides_dataset.append({\n",
        "        'id' : count_id,\n",
        "        'input' : input_chunk2,  # Cont 1\n",
        "        'target' : target_chunk2 # Cont 1\n",
        "        })\n",
        "    count_id += 1\n",
        "    new_rides_dataset.append({\n",
        "        'id' : count_id,\n",
        "        'input' : input_chunk3,  # Cont 2\n",
        "        'target' : target_chunk3 # Cont 2\n",
        "        })\n",
        "    count_id += 1\n",
        "    new_rides_dataset.append({\n",
        "        'id' : count_id,\n",
        "        'input' : input_chunk4,  # Cont 3\n",
        "        'target' : target_chunk4 # Cont 3\n",
        "        })\n",
        "    count_id += 1\n",
        "    new_rides_dataset.append({\n",
        "        'id' : count_id,\n",
        "        'input' : input_chunk5,  # Cont 4\n",
        "        'target' : target_chunk5 # Cont 4\n",
        "        })\n",
        "    count_id += 1\n",
        "    new_rides_dataset.append({\n",
        "      'id' : count_id,\n",
        "      'input' : input_chunk6,  # Cont 6\n",
        "      'target' : target_chunk6 # Cont 6\n",
        "      })\n",
        "    \n",
        "    count_id += 1\n",
        "    new_rides_dataset.append({\n",
        "        'id' : count_id,\n",
        "        'input' : input_chunk7, # End\n",
        "        'target' : target_chunk7 # End\n",
        "        })\n",
        "    count_id += 1\n",
        "\n",
        "    count +=1\n",
        "\n",
        "rides_dataset = new_rides_dataset\n",
        "print('Total Input and Target sequences [[start],[mid],[end]]:',count)"
      ],
      "metadata": {
        "colab": {
          "base_uri": "https://localhost:8080/"
        },
        "id": "YPhddWIijxaK",
        "outputId": "1c631db3-eaca-490d-888e-0a9f27944b8c"
      },
      "execution_count": 21,
      "outputs": [
        {
          "output_type": "stream",
          "name": "stdout",
          "text": [
            "Total Input and Target sequences [[start],[mid],[end]]: 407\n"
          ]
        }
      ]
    },
    {
      "cell_type": "code",
      "source": [
        "# count = 0\n",
        "# count_id = 0 # incrementes the id of each dict so they are in a sequential order from start to end and each dict has a unique id\n",
        "# new_rides_dataset=[] # fill with generated chunks for each day of rides sequences\n",
        "# chunk_tokens=[]\n",
        "# for i in range(len(rides_dataset)):\n",
        "#   input = rides_dataset[i]['input']\n",
        "#   target = rides_dataset[i]['target']\n",
        "\n",
        "\n",
        "#   target_len = len(target)\n",
        "#   if target_len > 50: # skip any days that don't offer sufficient training data so it doesn't waste resources and slow down training.\n",
        "    \n",
        "#     chunk_size = len(target) // num_chunks # break the day up into chunks based on the target length\n",
        "#     input_chunk1 = input[:chunk_size]\n",
        "#     input_chunk2 = input[chunk_size:2*chunk_size]\n",
        "#     input_chunk3 = input[2*chunk_size:]\n",
        "\n",
        "#     target_chunk1 = target[:chunk_size]\n",
        "#     target_chunk2 = target[chunk_size:2*chunk_size]\n",
        "#     target_chunk3 = target[2*chunk_size:]\n",
        "\n",
        "#     # Add chunk token Id's\n",
        "#     chunk1_token = f'<START_{count}>' # also used for the df\n",
        "#     chunk2_token = f'<MID_{count}>'\n",
        "#     chunk3_token = f'<END_{count}>'\n",
        "\n",
        "#     chunk_tokens.append([chunk1_token, chunk2_token, chunk3_token]) # add for the vocab file\n",
        "\n",
        "#     target_chunk1.append(chunk1_token)\n",
        "#     target_chunk2.append(chunk2_token)\n",
        "#     target_chunk3.append(chunk3_token)\n",
        "\n",
        "#     # Shuffle the input chunk \n",
        "#     np.random.shuffle(input_chunk1)\n",
        "#     np.random.shuffle(input_chunk2)\n",
        "#     np.random.shuffle(input_chunk3)\n",
        "\n",
        "#     # Append chunk token for inputs after they've been shuffled\n",
        "#     input_chunk1.append(chunk1_token)\n",
        "#     input_chunk2.append(chunk2_token)\n",
        "#     input_chunk3.append(chunk3_token)\n",
        "\n",
        "\n",
        "#     # Add chunks with tags to the new rides_dataset as seperate sequences \n",
        "#     # which will be understood as a single sequence by their chunk tags\n",
        "#     new_rides_dataset.append({\n",
        "#         'id' : count_id,\n",
        "#         'input' : input_chunk1, # Start\n",
        "#         'target' : target_chunk1 # Start\n",
        "#         })\n",
        "#     count_id += 1\n",
        "    \n",
        "#     new_rides_dataset.append({\n",
        "#         'id' : count_id,\n",
        "#         'input' : input_chunk2,  # Mid\n",
        "#         'target' : target_chunk2 # Mid\n",
        "#         })\n",
        "#     count_id += 1\n",
        "#     new_rides_dataset.append({\n",
        "#         'id' : count_id,\n",
        "#         'input' : input_chunk3, # End\n",
        "#         'target' : target_chunk3 # End\n",
        "#         })\n",
        "#     count_id += 1\n",
        "\n",
        "#     count +=1\n",
        "#     # if count == 5:\n",
        "#     #   print(new_rides_dataset[0]['input'])\n",
        "#     #   print(new_rides_dataset[0]['target'])\n",
        "#     #   break\n",
        "# rides_dataset = new_rides_dataset\n",
        "# print('Total Input and Target sequences [[start],[mid],[end]]:',count)"
      ],
      "metadata": {
        "id": "NKfkCGXfKWTP"
      },
      "execution_count": 22,
      "outputs": []
    },
    {
      "cell_type": "code",
      "source": [
        "rides_dataset[6]"
      ],
      "metadata": {
        "colab": {
          "base_uri": "https://localhost:8080/"
        },
        "id": "w7SRivsecmT_",
        "outputId": "69556830-0775-4b4d-c8c5-fe4ef7e7ca78"
      },
      "execution_count": 23,
      "outputs": [
        {
          "output_type": "execute_result",
          "data": {
            "text/plain": [
              "{'id': 6,\n",
              " 'input': ['On 2021-10-30 at 08:15, 388851 with the condition of BWC was scheduled to be picked up for their appointment from (-121.8116608,37.26219559) and dropped off at (-121.826913,37.251936) the value of this ride was 50.0 and the distance from start to finish was 2.52 miles, but 388851 has canceled the ride *',\n",
              "  'On 2021-10-30 at 08:30, 388709 with the condition of WCH will be picked up from (-121.9232407,37.30308914) and taken to their appointment located at (-121.950932,37.255799) the value of this ride is 82.38 and the distance from start to finish is 5.51 miles *',\n",
              "  'On 2021-10-30 at 12:30, 388479 with the condition of WCH will be picked up from (-122.0238342,37.3819046) and taken to their appointment located at (-122.0140457,37.37662125) the value of this ride is 56.38 and the distance from start to finish is 1.05 miles *',\n",
              "  'On 2021-10-30 at 11:45, 418112 with the condition of STR will be picked up from (-121.846966,37.361518) and taken to their appointment located at (-121.8530579,37.32979965) the value of this ride is 179.45 and the distance from start to finish is 4.18 miles *',\n",
              "  'On 2021-10-30 at 17:00, 388690 with the condition of WCH will be picked up from (-121.8348389,37.31568909) and taken to their appointment located at (-121.8412247,37.32992172) the value of this ride is 26.75 and the distance from start to finish is 2.98 miles *',\n",
              "  'On 2021-10-30 at 09:10, 388482 with the condition of WCH will be picked up from (-122.1578217,37.45035553) and taken to their appointment located at (-122.1483078,37.47801208) the value of this ride is 27.88 and the distance from start to finish is 3.51 miles *',\n",
              "  'On 2021-10-30 at 09:15, 390527 with the condition of STR will be picked up from (-122.0218887,37.36326981) and taken to their appointment located at (-122.0140457,37.37662125) the value of this ride is 199.05 and the distance from start to finish is 1.78 miles *',\n",
              "  'On 2021-10-30 at 17:15, 388488 with the condition of WCH will be picked up from (-122.079144,37.382993) and taken to their appointment located at (-122.0695877,37.41511917) the value of this ride is 52.05 and the distance from start to finish is 4.17 miles *',\n",
              "  'On 2021-10-30 at 05:15, 388852 with the condition of BWC will be picked up from (-121.5949326,37.02376938) and taken to their appointment located at (-121.8120978,37.3060479) the value of this ride is 154.4 and the distance from start to finish is 26.14 miles *',\n",
              "  'On 2021-10-30 at 13:45, 388994 with the condition of WCH will be picked up from (-121.9790344,37.32246399) and taken to their appointment located at (-121.9678116,37.3220253) the value of this ride is 22.02 and the distance from start to finish is 0.91 miles *',\n",
              "  'On 2021-10-30 at 05:30, 390534 with the condition of WCH will be picked up from (-121.9642258,37.29271698) and taken to their appointment located at (-121.9337045,37.3155593) the value of this ride is 103.33 and the distance from start to finish is 3.69 miles *',\n",
              "  '<END_0>'],\n",
              " 'target': ['On 2021-10-30 at 15:00, driver SC107 will pick up 415878 with the condition of WCH from (-121.8914642,37.24549484) and dropped off at (-121.9509048,37.33436203) the value of this ride is 45.2 and the distance from start to finish is 11.22 miles *',\n",
              "  'On 2021-10-30 at 15:00, driver SC104 will pick up 388498 with the condition of WCH from (-121.931572,37.3112793) and dropped off at (-121.8635483,37.30686951) the value of this ride is 33.95 and the distance from start to finish is 6.25 miles *',\n",
              "  'On 2021-10-30 at 16:45, driver SC106 will pick up 388479 with the condition of WCH from (-122.0140457,37.37662125) and dropped off at (-122.0238342,37.3819046) the value of this ride is 22.48 and the distance from start to finish is 1.05 miles *',\n",
              "  'On 2021-10-30 at 17:00, driver SC107 will pick up 390522 with the condition of WCH from (-121.8134232,37.35033035) and dropped off at (-121.8272247,37.31860733) the value of this ride is 27.65 and the distance from start to finish is 3.37 miles *',\n",
              "  'On 2021-10-30 at 17:00, driver SC107 will pick up 388690 with the condition of WCH from (-121.8348389,37.31568909) and dropped off at (-121.8412247,37.32992172) the value of this ride is 26.75 and the distance from start to finish is 2.98 miles *',\n",
              "  'On 2021-10-30 at 17:15, driver SC106 will pick up 388488 with the condition of WCH from (-122.079144,37.382993) and dropped off at (-122.0695877,37.41511917) the value of this ride is 52.05 and the distance from start to finish is 4.17 miles *',\n",
              "  'On 2021-10-30 at 17:15, driver SC106 will pick up 388494 with the condition of WCH from (-121.9947433,37.33644867) and dropped off at (-122.1583481,37.44995499) the value of this ride is 57.8 and the distance from start to finish is 16.83 miles *',\n",
              "  'On 2021-10-30 at 17:30, driver SC107 will pick up 390537 with the condition of WCH from (-121.8120978,37.3060479) and dropped off at (-121.8320389,37.29574585) the value of this ride is 25.18 and the distance from start to finish is 2.26 miles *',\n",
              "  'On 2021-10-30 at 17:45, driver SC104 will pick up 388677 with the condition of BWC from (-121.933667,37.315553) and dropped off at (-121.8692703,37.38211441) the value of this ride is 89.6 and the distance from start to finish is 9.89 miles *',\n",
              "  'On 2021-10-30 at 17:45, driver SC104 will pick up 388702 with the condition of WCH from (-121.933667,37.315553) and dropped off at (-121.8411942,37.36575317) the value of this ride is 38.67 and the distance from start to finish is 8.32 miles *',\n",
              "  'On 2021-10-30 at 18:00, driver SC107 will pick up 388492 with the condition of WCH from (-121.811386,37.305172) and dropped off at (-121.934817,37.32753) the value of this ride is 55.38 and the distance from start to finish is 10.74 miles *',\n",
              "  '<END_0>']}"
            ]
          },
          "metadata": {},
          "execution_count": 23
        }
      ]
    },
    {
      "cell_type": "code",
      "source": [
        "# Add chunk tokens to a df which can be used to add them to the vocabulary\n",
        "chunk_tokens_df = pd.DataFrame(chunk_tokens)\n",
        "chunk_tokens_df.tail()"
      ],
      "metadata": {
        "colab": {
          "base_uri": "https://localhost:8080/",
          "height": 206
        },
        "id": "njgY_vUzSWVG",
        "outputId": "4cbf5516-a13e-4624-bf7a-63a063473966"
      },
      "execution_count": 24,
      "outputs": [
        {
          "output_type": "execute_result",
          "data": {
            "text/plain": [
              "               0             1             2             3             4  \\\n",
              "402  <START_402>  <CONT_402_1>  <CONT_402_2>  <CONT_402_3>  <CONT_402_4>   \n",
              "403  <START_403>  <CONT_403_1>  <CONT_403_2>  <CONT_403_3>  <CONT_403_4>   \n",
              "404  <START_404>  <CONT_404_1>  <CONT_404_2>  <CONT_404_3>  <CONT_404_4>   \n",
              "405  <START_405>  <CONT_405_1>  <CONT_405_2>  <CONT_405_3>  <CONT_405_4>   \n",
              "406  <START_406>  <CONT_406_1>  <CONT_406_2>  <CONT_406_3>  <CONT_406_4>   \n",
              "\n",
              "                5          6  \n",
              "402  <CONT_402_5>  <END_402>  \n",
              "403  <CONT_403_5>  <END_403>  \n",
              "404  <CONT_404_5>  <END_404>  \n",
              "405  <CONT_405_5>  <END_405>  \n",
              "406  <CONT_406_5>  <END_406>  "
            ],
            "text/html": [
              "\n",
              "  <div id=\"df-876b35ed-3c46-4f71-b9b5-3a441f140fac\">\n",
              "    <div class=\"colab-df-container\">\n",
              "      <div>\n",
              "<style scoped>\n",
              "    .dataframe tbody tr th:only-of-type {\n",
              "        vertical-align: middle;\n",
              "    }\n",
              "\n",
              "    .dataframe tbody tr th {\n",
              "        vertical-align: top;\n",
              "    }\n",
              "\n",
              "    .dataframe thead th {\n",
              "        text-align: right;\n",
              "    }\n",
              "</style>\n",
              "<table border=\"1\" class=\"dataframe\">\n",
              "  <thead>\n",
              "    <tr style=\"text-align: right;\">\n",
              "      <th></th>\n",
              "      <th>0</th>\n",
              "      <th>1</th>\n",
              "      <th>2</th>\n",
              "      <th>3</th>\n",
              "      <th>4</th>\n",
              "      <th>5</th>\n",
              "      <th>6</th>\n",
              "    </tr>\n",
              "  </thead>\n",
              "  <tbody>\n",
              "    <tr>\n",
              "      <th>402</th>\n",
              "      <td>&lt;START_402&gt;</td>\n",
              "      <td>&lt;CONT_402_1&gt;</td>\n",
              "      <td>&lt;CONT_402_2&gt;</td>\n",
              "      <td>&lt;CONT_402_3&gt;</td>\n",
              "      <td>&lt;CONT_402_4&gt;</td>\n",
              "      <td>&lt;CONT_402_5&gt;</td>\n",
              "      <td>&lt;END_402&gt;</td>\n",
              "    </tr>\n",
              "    <tr>\n",
              "      <th>403</th>\n",
              "      <td>&lt;START_403&gt;</td>\n",
              "      <td>&lt;CONT_403_1&gt;</td>\n",
              "      <td>&lt;CONT_403_2&gt;</td>\n",
              "      <td>&lt;CONT_403_3&gt;</td>\n",
              "      <td>&lt;CONT_403_4&gt;</td>\n",
              "      <td>&lt;CONT_403_5&gt;</td>\n",
              "      <td>&lt;END_403&gt;</td>\n",
              "    </tr>\n",
              "    <tr>\n",
              "      <th>404</th>\n",
              "      <td>&lt;START_404&gt;</td>\n",
              "      <td>&lt;CONT_404_1&gt;</td>\n",
              "      <td>&lt;CONT_404_2&gt;</td>\n",
              "      <td>&lt;CONT_404_3&gt;</td>\n",
              "      <td>&lt;CONT_404_4&gt;</td>\n",
              "      <td>&lt;CONT_404_5&gt;</td>\n",
              "      <td>&lt;END_404&gt;</td>\n",
              "    </tr>\n",
              "    <tr>\n",
              "      <th>405</th>\n",
              "      <td>&lt;START_405&gt;</td>\n",
              "      <td>&lt;CONT_405_1&gt;</td>\n",
              "      <td>&lt;CONT_405_2&gt;</td>\n",
              "      <td>&lt;CONT_405_3&gt;</td>\n",
              "      <td>&lt;CONT_405_4&gt;</td>\n",
              "      <td>&lt;CONT_405_5&gt;</td>\n",
              "      <td>&lt;END_405&gt;</td>\n",
              "    </tr>\n",
              "    <tr>\n",
              "      <th>406</th>\n",
              "      <td>&lt;START_406&gt;</td>\n",
              "      <td>&lt;CONT_406_1&gt;</td>\n",
              "      <td>&lt;CONT_406_2&gt;</td>\n",
              "      <td>&lt;CONT_406_3&gt;</td>\n",
              "      <td>&lt;CONT_406_4&gt;</td>\n",
              "      <td>&lt;CONT_406_5&gt;</td>\n",
              "      <td>&lt;END_406&gt;</td>\n",
              "    </tr>\n",
              "  </tbody>\n",
              "</table>\n",
              "</div>\n",
              "      <button class=\"colab-df-convert\" onclick=\"convertToInteractive('df-876b35ed-3c46-4f71-b9b5-3a441f140fac')\"\n",
              "              title=\"Convert this dataframe to an interactive table.\"\n",
              "              style=\"display:none;\">\n",
              "        \n",
              "  <svg xmlns=\"http://www.w3.org/2000/svg\" height=\"24px\"viewBox=\"0 0 24 24\"\n",
              "       width=\"24px\">\n",
              "    <path d=\"M0 0h24v24H0V0z\" fill=\"none\"/>\n",
              "    <path d=\"M18.56 5.44l.94 2.06.94-2.06 2.06-.94-2.06-.94-.94-2.06-.94 2.06-2.06.94zm-11 1L8.5 8.5l.94-2.06 2.06-.94-2.06-.94L8.5 2.5l-.94 2.06-2.06.94zm10 10l.94 2.06.94-2.06 2.06-.94-2.06-.94-.94-2.06-.94 2.06-2.06.94z\"/><path d=\"M17.41 7.96l-1.37-1.37c-.4-.4-.92-.59-1.43-.59-.52 0-1.04.2-1.43.59L10.3 9.45l-7.72 7.72c-.78.78-.78 2.05 0 2.83L4 21.41c.39.39.9.59 1.41.59.51 0 1.02-.2 1.41-.59l7.78-7.78 2.81-2.81c.8-.78.8-2.07 0-2.86zM5.41 20L4 18.59l7.72-7.72 1.47 1.35L5.41 20z\"/>\n",
              "  </svg>\n",
              "      </button>\n",
              "      \n",
              "  <style>\n",
              "    .colab-df-container {\n",
              "      display:flex;\n",
              "      flex-wrap:wrap;\n",
              "      gap: 12px;\n",
              "    }\n",
              "\n",
              "    .colab-df-convert {\n",
              "      background-color: #E8F0FE;\n",
              "      border: none;\n",
              "      border-radius: 50%;\n",
              "      cursor: pointer;\n",
              "      display: none;\n",
              "      fill: #1967D2;\n",
              "      height: 32px;\n",
              "      padding: 0 0 0 0;\n",
              "      width: 32px;\n",
              "    }\n",
              "\n",
              "    .colab-df-convert:hover {\n",
              "      background-color: #E2EBFA;\n",
              "      box-shadow: 0px 1px 2px rgba(60, 64, 67, 0.3), 0px 1px 3px 1px rgba(60, 64, 67, 0.15);\n",
              "      fill: #174EA6;\n",
              "    }\n",
              "\n",
              "    [theme=dark] .colab-df-convert {\n",
              "      background-color: #3B4455;\n",
              "      fill: #D2E3FC;\n",
              "    }\n",
              "\n",
              "    [theme=dark] .colab-df-convert:hover {\n",
              "      background-color: #434B5C;\n",
              "      box-shadow: 0px 1px 3px 1px rgba(0, 0, 0, 0.15);\n",
              "      filter: drop-shadow(0px 1px 2px rgba(0, 0, 0, 0.3));\n",
              "      fill: #FFFFFF;\n",
              "    }\n",
              "  </style>\n",
              "\n",
              "      <script>\n",
              "        const buttonEl =\n",
              "          document.querySelector('#df-876b35ed-3c46-4f71-b9b5-3a441f140fac button.colab-df-convert');\n",
              "        buttonEl.style.display =\n",
              "          google.colab.kernel.accessAllowed ? 'block' : 'none';\n",
              "\n",
              "        async function convertToInteractive(key) {\n",
              "          const element = document.querySelector('#df-876b35ed-3c46-4f71-b9b5-3a441f140fac');\n",
              "          const dataTable =\n",
              "            await google.colab.kernel.invokeFunction('convertToInteractive',\n",
              "                                                     [key], {});\n",
              "          if (!dataTable) return;\n",
              "\n",
              "          const docLinkHtml = 'Like what you see? Visit the ' +\n",
              "            '<a target=\"_blank\" href=https://colab.research.google.com/notebooks/data_table.ipynb>data table notebook</a>'\n",
              "            + ' to learn more about interactive tables.';\n",
              "          element.innerHTML = '';\n",
              "          dataTable['output_type'] = 'display_data';\n",
              "          await google.colab.output.renderOutput(dataTable, element);\n",
              "          const docLink = document.createElement('div');\n",
              "          docLink.innerHTML = docLinkHtml;\n",
              "          element.appendChild(docLink);\n",
              "        }\n",
              "      </script>\n",
              "    </div>\n",
              "  </div>\n",
              "  "
            ]
          },
          "metadata": {},
          "execution_count": 24
        }
      ]
    },
    {
      "cell_type": "markdown",
      "source": [
        "Create dataset with train test split"
      ],
      "metadata": {
        "id": "7s4PAs0dk6aa"
      }
    },
    {
      "cell_type": "code",
      "source": [
        "rides_dataset[0]"
      ],
      "metadata": {
        "colab": {
          "base_uri": "https://localhost:8080/"
        },
        "id": "nr2hR6kkurVI",
        "outputId": "8f85dafb-636a-41ee-a248-6af67dd7780d"
      },
      "execution_count": 25,
      "outputs": [
        {
          "output_type": "execute_result",
          "data": {
            "text/plain": [
              "{'id': 0,\n",
              " 'input': ['On 2021-10-30 at 05:43, 388496 with the condition of WCH will be picked up from (-121.8491211,37.32672882) and taken to their appointment located at (-121.8120956,37.30604935) the value of this ride is 63.8 and the distance from start to finish is 4.44 miles *',\n",
              "  'On 2021-10-30 at 08:30, 388505 with the condition of BWC will be picked up from (-121.8325653,37.33570862) and taken to their appointment located at (-121.8270276,37.2519668) the value of this ride is 93.6 and the distance from start to finish is 10.86 miles *',\n",
              "  'On 2021-10-30 at 08:30, 388484 with the condition of STR will be picked up from (-121.9516678,37.38991928) and taken to their appointment located at (-122.0140457,37.37662125) the value of this ride is 207.38 and the distance from start to finish is 5.49 miles *',\n",
              "  'On 2021-10-30 at 17:15, 388494 with the condition of WCH will be picked up from (-121.9947433,37.33644867) and taken to their appointment located at (-122.1583481,37.44995499) the value of this ride is 57.8 and the distance from start to finish is 16.83 miles *',\n",
              "  'On 2021-10-30 at 05:53, 388574 with the condition of BWC will be picked up from (-121.9619141,37.27531433) and taken to their appointment located at (-121.8917009,37.2454899) the value of this ride is 77.2 and the distance from start to finish is 6.76 miles *',\n",
              "  'On 2021-10-30 at 08:16, 388994 with the condition of WCH will be picked up from (-121.9678116,37.3220253) and taken to their appointment located at (-121.9790344,37.32246399) the value of this ride is 22.02 and the distance from start to finish is 0.91 miles *',\n",
              "  'On 2021-10-30 at 13:00, 388709 with the condition of WCH will be picked up from (-121.950932,37.255799) and taken to their appointment located at (-121.9232407,37.30308914) the value of this ride is 57.38 and the distance from start to finish is 5.51 miles *',\n",
              "  'On 2021-10-30 at 05:30, 390198 with the condition of WCH will be picked up from (-121.9492645,37.30254364) and taken to their appointment located at (-121.9337082,37.31555939) the value of this ride is 58.85 and the distance from start to finish is 2.21 miles *',\n",
              "  'On 2021-10-30 at 12:30, 388484 with the condition of STR will be picked up from (-122.0140457,37.37662125) and taken to their appointment located at (-121.9516678,37.38991928) the value of this ride is 132.38 and the distance from start to finish is 5.49 miles *',\n",
              "  '<START_0>'],\n",
              " 'target': ['On 2021-10-30 at 05:00, driver SC301 will pick up 411690 with the condition of WCH from (-121.9942169,37.34215927) and dropped off at (-121.9790364,37.322465) the value of this ride is 100.85 and the distance from start to finish is 2.6 miles *',\n",
              "  'On 2021-10-30 at 05:15, driver SC107 will pick up 388852 with the condition of BWC from (-121.5949326,37.02376938) and dropped off at (-121.8120978,37.3060479) the value of this ride is 154.4 and the distance from start to finish is 26.14 miles *',\n",
              "  'On 2021-10-30 at 05:27, driver SC204 will pick up 390529 with the condition of STR from (-121.8948135,37.32189178) and dropped off at (-121.9315708,37.3112781) the value of this ride is 201.07 and the distance from start to finish is 2.74 miles *',\n",
              "  'On 2021-10-30 at 05:30, driver SC105 will pick up 390198 with the condition of WCH from (-121.9492645,37.30254364) and dropped off at (-121.9337082,37.31555939) the value of this ride is 58.85 and the distance from start to finish is 2.21 miles *',\n",
              "  'On 2021-10-30 at 05:30, driver SC105 will pick up 390534 with the condition of WCH from (-121.9642258,37.29271698) and dropped off at (-121.9337045,37.3155593) the value of this ride is 103.33 and the distance from start to finish is 3.69 miles *',\n",
              "  'On 2021-10-30 at 05:43, driver SC301 will pick up 388496 with the condition of WCH from (-121.8491211,37.32672882) and dropped off at (-121.8120956,37.30604935) the value of this ride is 63.8 and the distance from start to finish is 4.44 miles *',\n",
              "  'On 2021-10-30 at 05:53, driver SC105 will pick up 388574 with the condition of BWC from (-121.9619141,37.27531433) and dropped off at (-121.8917009,37.2454899) the value of this ride is 77.2 and the distance from start to finish is 6.76 miles *',\n",
              "  'On 2021-10-30 at 06:00, driver SC301 will pick up 388896 with the condition of WCH from (-121.8397293,37.31420898) and dropped off at (-121.8113861,37.30517197) the value of this ride is 101.3 and the distance from start to finish is 2.78 miles *',\n",
              "  'On 2021-10-30 at 07:15, driver SC105 will pick up 417084 with the condition of BWC from (-121.9148788,37.30213547) and dropped off at (-121.7762604,37.22948456) the value of this ride is 104.0 and the distance from start to finish is 13.5 miles *',\n",
              "  '<START_0>']}"
            ]
          },
          "metadata": {},
          "execution_count": 25
        }
      ]
    },
    {
      "cell_type": "code",
      "source": [
        "from datasets import DatasetDict, load_dataset\n",
        "import pandas as pd\n",
        "\n",
        "# Convert list of dictionaries to new format\n",
        "data_format = [{'id': d['id'], 'translation': {'input': d['input'], 'target': d['target']}} for d in rides_dataset]\n",
        "\n",
        "# Convert new format list of dictionaries to pandas DataFrame\n",
        "full_dataset = pd.DataFrame.from_records(data_format, columns=['id', 'translation'])\n",
        "\n",
        "# Write DataFrame to CSV file\n",
        "full_dataset.to_csv(\"full_dataset.csv\", index=False)\n",
        "\n",
        "# Load the training and test datasets\n",
        "full_dataset = load_dataset('csv', data_files=\"full_dataset.csv\")\n",
        "train_dataset = full_dataset['train'].train_test_split(test_size=0.2, shuffle=False) # We want the tts in the chronological order specified above\n",
        "dataset_dict = DatasetDict({'train': train_dataset['train'], 'test': train_dataset['test']})\n"
      ],
      "metadata": {
        "colab": {
          "base_uri": "https://localhost:8080/",
          "height": 168,
          "referenced_widgets": [
            "8f47b8dc2ded40569413505c4fe4b08e",
            "d8851e25e59e4c019e171abe258a44e3",
            "f00c3b59444448f595d45d39abc11032",
            "a14e84889b194b3295f1c8f5cbe94b7e",
            "b76c83a77ae8403fba36024c4cc610fe",
            "652316da1d3145fbbc0658f191d319c5",
            "56aab205447a43849d07ad867eef7d71",
            "eed182dd95c44476acef44d01eeadc5d",
            "aa4f0e2fc3c74d1e95ba5a0f7a5033d1",
            "148e69364d944e73913c98644b123e09",
            "06da707e92f243579e35e5fe674a105d",
            "bcf0ee9087a7474cbd5ffeb4b031ce61",
            "5fabefb4dc784fbd98c5dec4946c74f3",
            "e13848a2e67c42c79b892285aee00598",
            "0909d5da40fb4574a01fbc72e822a1a5",
            "7a6d664979854a1cbf49fd14c9792715",
            "bc72600583564cc08b4ef9b6458ff419",
            "033e639d46904fd5848ef58587bf823b",
            "b3b100c88cef4838955e08850f8f780e",
            "208c8aa67d0e4c51be418628ab81046b",
            "4dac53fa0512432297fc72aaf708c81c",
            "465c8fedd4c5453a9676fc3238c434fe",
            "ebd984aaa5f2452dba39fad17e8073a1",
            "f7e067056c0b45ad9506ad8ef43a8355",
            "0a296155959f48f4aca44c2908e934ec",
            "69e18abd1c8746dc90464ddf83da0080",
            "f9d51695bfe345f58384beab9d8ce0c5",
            "97b499415f7e4681a12511655d91b24b",
            "366c7fc97f4c41dc83c9f2ff53e21ef1",
            "548970f9fa164aaabdc016883d190f3a",
            "69b9ddb0903f44e5b86ac4c442b9cb94",
            "9d36cb14d964459985f624f9a1efabe2",
            "ecb8ab1f4a3b4bce9c8ff1dbeedca3aa",
            "5ae0dcb4def64707a79ec25b56a2aa8b",
            "349df2925da84b2f97ed5fd5590e774f",
            "4d657715a49e47b5b32d12c49a2404f6",
            "04a4ebaaa5e44c9884621e1550425ed7",
            "b8071c9b610644b69a699056e45496dc",
            "125fe6795e134520b5c04b96092581da",
            "a979b114c2014528b592cec4607e6a67",
            "57ac9614df90470db539abf0b0863f1e",
            "05cf528181904a729071ed35d01ee8b0",
            "3f04457c3c8444b5a32a49aae3bc6078",
            "6b3f1cc1a17e444d8203710244c9ca9c"
          ]
        },
        "id": "gNYDqSsIwV07",
        "outputId": "ad35cc01-10ce-489c-e321-1affa9febd3a"
      },
      "execution_count": 26,
      "outputs": [
        {
          "output_type": "stream",
          "name": "stdout",
          "text": [
            "Downloading and preparing dataset csv/default to /root/.cache/huggingface/datasets/csv/default-876f6c9276097145/0.0.0/6b34fb8fcf56f7c8ba51dc895bfa2bfbe43546f190a60fcf74bb5e8afdcc2317...\n"
          ]
        },
        {
          "output_type": "display_data",
          "data": {
            "text/plain": [
              "Downloading data files:   0%|          | 0/1 [00:00<?, ?it/s]"
            ],
            "application/vnd.jupyter.widget-view+json": {
              "version_major": 2,
              "version_minor": 0,
              "model_id": "8f47b8dc2ded40569413505c4fe4b08e"
            }
          },
          "metadata": {}
        },
        {
          "output_type": "display_data",
          "data": {
            "text/plain": [
              "Extracting data files:   0%|          | 0/1 [00:00<?, ?it/s]"
            ],
            "application/vnd.jupyter.widget-view+json": {
              "version_major": 2,
              "version_minor": 0,
              "model_id": "bcf0ee9087a7474cbd5ffeb4b031ce61"
            }
          },
          "metadata": {}
        },
        {
          "output_type": "display_data",
          "data": {
            "text/plain": [
              "Generating train split: 0 examples [00:00, ? examples/s]"
            ],
            "application/vnd.jupyter.widget-view+json": {
              "version_major": 2,
              "version_minor": 0,
              "model_id": "ebd984aaa5f2452dba39fad17e8073a1"
            }
          },
          "metadata": {}
        },
        {
          "output_type": "stream",
          "name": "stdout",
          "text": [
            "Dataset csv downloaded and prepared to /root/.cache/huggingface/datasets/csv/default-876f6c9276097145/0.0.0/6b34fb8fcf56f7c8ba51dc895bfa2bfbe43546f190a60fcf74bb5e8afdcc2317. Subsequent calls will reuse this data.\n"
          ]
        },
        {
          "output_type": "display_data",
          "data": {
            "text/plain": [
              "  0%|          | 0/1 [00:00<?, ?it/s]"
            ],
            "application/vnd.jupyter.widget-view+json": {
              "version_major": 2,
              "version_minor": 0,
              "model_id": "5ae0dcb4def64707a79ec25b56a2aa8b"
            }
          },
          "metadata": {}
        }
      ]
    },
    {
      "cell_type": "code",
      "source": [
        "import matplotlib.pyplot as plt\n",
        "input_lens = [len(x) for x in target_order]\n",
        "print('input lens: ', input_lens)\n",
        "plt.hist(input_lens, bins=50)"
      ],
      "metadata": {
        "colab": {
          "base_uri": "https://localhost:8080/",
          "height": 511
        },
        "id": "HUwh1GDlPZyi",
        "outputId": "4c140097-1c0c-48b5-f92f-0e91fe7198f9"
      },
      "execution_count": 27,
      "outputs": [
        {
          "output_type": "stream",
          "name": "stdout",
          "text": [
            "input lens:  [65, 66, 70, 62, 3, 105, 77, 95, 54, 76, 69, 97, 75, 101, 76, 108, 68, 105, 77, 111, 92, 108, 65, 100, 87, 108, 97, 100, 62, 109, 78, 105, 82, 86, 42, 102, 70, 96, 82, 95, 23, 36, 101, 73, 105, 74, 96, 52, 106, 78, 101, 76, 98, 58, 90, 73, 86, 88, 86, 54, 98, 80, 99, 84, 91, 60, 100, 88, 90, 74, 98, 67, 98, 87, 98, 88, 107, 65, 109, 83, 111, 88, 101, 72, 99, 80, 97, 90, 100, 57, 118, 97, 111, 87, 109, 72, 116, 90, 108, 89, 100, 69, 108, 93, 94, 100, 98, 69, 115, 85, 108, 87, 105, 73, 109, 86, 97, 81, 99, 70, 101, 93, 103, 87, 100, 64, 107, 89, 97, 93, 97, 66, 109, 90, 98, 88, 106, 64, 105, 93, 100, 92, 96, 68, 111, 84, 97, 95, 102, 65, 112, 102, 110, 79, 91, 72, 114, 91, 103, 93, 102, 65, 116, 94, 108, 80, 102, 64, 45, 49, 48, 47, 47, 53, 105, 90, 85, 78, 99, 64, 83, 75, 93, 84, 96, 67, 102, 84, 102, 88, 94, 74, 92, 88, 111, 95, 87, 68, 77, 82, 98, 91, 98, 69, 103, 91, 99, 99, 85, 69, 95, 88, 118, 78, 103, 65, 115, 82, 105, 90, 112, 70, 0, 105, 86, 101, 92, 97, 77, 104, 84, 116, 77, 97, 65, 111, 97, 110, 100, 97, 68, 110, 92, 99, 82, 95, 68, 102, 86, 105, 78, 96, 67, 1, 80, 82, 97, 76, 83, 62, 100, 90, 106, 94, 86, 57, 90, 77, 94, 84, 81, 66, 97, 83, 107, 78, 91, 61, 99, 80, 95, 92, 95, 59, 90, 91, 91, 75, 95, 59, 101, 75, 97, 83, 93, 60, 92, 80, 95, 70, 81, 60, 94, 79, 86, 100, 100, 62, 111, 88, 107, 92, 95, 71, 98, 99, 106, 96, 96, 80, 94, 86, 99, 63, 74, 77, 97, 101, 92, 93, 86, 73, 88, 88, 99, 94, 77, 75, 98, 86, 99, 94, 105, 72, 106, 86, 101, 101, 87, 71, 80, 86, 95, 83, 89, 78, 82, 93, 93, 90, 92, 77, 109, 106, 115, 102, 99, 74, 95, 101, 107, 92, 116, 78, 114, 96, 121, 100, 108, 77, 118, 80, 114, 99, 102, 81, 120, 84, 109, 91, 100, 79, 111, 90, 111, 89, 100, 82, 92, 98, 110, 107, 87, 80, 114, 99, 113, 108, 113, 84, 1, 118, 101, 106, 104, 103, 91, 110, 94]\n"
          ]
        },
        {
          "output_type": "execute_result",
          "data": {
            "text/plain": [
              "(array([ 3.,  1.,  0.,  0.,  0.,  0.,  0.,  0.,  0.,  1.,  0.,  0.,  0.,\n",
              "         0.,  1.,  0.,  0.,  1.,  1.,  3.,  1.,  2.,  2.,  3.,  5.,  5.,\n",
              "        12.,  6., 15.,  6., 14., 14., 11., 22., 14., 24., 15., 22., 32.,\n",
              "        21., 43., 27., 17., 18., 15., 21.,  4., 11.,  4.,  2.]),\n",
              " array([  0.  ,   2.42,   4.84,   7.26,   9.68,  12.1 ,  14.52,  16.94,\n",
              "         19.36,  21.78,  24.2 ,  26.62,  29.04,  31.46,  33.88,  36.3 ,\n",
              "         38.72,  41.14,  43.56,  45.98,  48.4 ,  50.82,  53.24,  55.66,\n",
              "         58.08,  60.5 ,  62.92,  65.34,  67.76,  70.18,  72.6 ,  75.02,\n",
              "         77.44,  79.86,  82.28,  84.7 ,  87.12,  89.54,  91.96,  94.38,\n",
              "         96.8 ,  99.22, 101.64, 104.06, 106.48, 108.9 , 111.32, 113.74,\n",
              "        116.16, 118.58, 121.  ]),\n",
              " <BarContainer object of 50 artists>)"
            ]
          },
          "metadata": {},
          "execution_count": 27
        },
        {
          "output_type": "display_data",
          "data": {
            "text/plain": [
              "<Figure size 432x288 with 1 Axes>"
            ],
            "image/png": "[encoded data removed]"
          },
          "metadata": {
            "needs_background": "light"
          }
        }
      ]
    },
    {
      "cell_type": "markdown",
      "source": [
        "If you want the model to predict the vehicle ID during the ordering prediction, you can remove the vehicle ID from the input sequence that you provide to the model and train the model to predict it as part of the output sequence.\n",
        "\n",
        "For example, during training, you can provide the model with a sequence of rides without the vehicle ID, and train it to output the correct order of rides along with the corresponding vehicle ID for each ride.\n",
        "\n",
        "During inference, you can provide the model with a sequence of rides without the vehicle ID, and let it predict the correct order of rides along with the corresponding vehicle ID for each ride."
      ],
      "metadata": {
        "id": "LsIxZ_dW_HVg"
      }
    },
    {
      "cell_type": "code",
      "source": [
        "# Get all the text columns and concatenate them with numerical columns\n",
        "text_columns = df.select_dtypes(include=['object', 'float', 'int']).astype(str).apply(lambda x: ' '.join(x.dropna()), axis=1)\n",
        "\n",
        "# Concatenate all the text columns into one long string\n",
        "text = ' '.join(text_columns)\n",
        "\n",
        "# Split the string into a list of unique words\n",
        "unique_words = list(set(text.split()))\n",
        "\n",
        "# Write the unique words to a text file, one word per line\n",
        "with open('custom_vocab.txt', 'w') as f:\n",
        "    f.write('\\n'.join(unique_words))\n",
        "\n"
      ],
      "metadata": {
        "id": "bgZ1D4lwfH3k"
      },
      "execution_count": 28,
      "outputs": []
    },
    {
      "cell_type": "code",
      "source": [
        "# Append chunk tokens to the custom vocab file\n",
        "text_columns = chunk_tokens_df.select_dtypes(include=['object']).astype(str).apply(lambda x: ' '.join(x.dropna()), axis=1)\n",
        "text = ' '.join(text_columns)\n",
        "unique_words = list(set(text.split()))\n",
        "\n",
        "with open('custom_vocab.txt', 'a') as f:\n",
        "    f.write('\\n'.join(unique_words))\n"
      ],
      "metadata": {
        "id": "8AfH2k8CULsn"
      },
      "execution_count": 29,
      "outputs": []
    },
    {
      "cell_type": "code",
      "source": [
        "# Open the text file\n",
        "with open('custom_vocab.txt', 'r') as f:\n",
        "    # Read the contents of the file into a list\n",
        "    custom_vocab = [line.split('\\n')[0] for line in f.readlines()]\n",
        "\n",
        "# Print the list\n",
        "print(custom_vocab)\n",
        "print(len(custom_vocab))"
      ],
      "metadata": {
        "colab": {
          "base_uri": "https://localhost:8080/"
        },
        "id": "JrFmZszdXIUE",
        "outputId": "02955451-f765-4b2a-8f80-c392ca7e381b"
      },
      "execution_count": 30,
      "outputs": [
        {
          "output_type": "stream",
          "name": "stdout",
          "text": [
            "['80.52', '25.4', '265.92', '13.170584', '34.36', '7.881472', '62.225', '-122.0266571', '12.447929', '428207', '118.085', '92.3875', '8.585486', '33.5', '37.25194168', '-122.0077133', '36.834338', '36.97683334', '46.505', '124.5425', '76.72', '494993', '16:05', '-121.9594498', '5.506592', '4.172508', '11.371093', '215.5875', '59.025', '422.08', '32.0375', '5.767567', '6.24913', '33.2525', '78.4375', '481951', '9.979221', '-121.947953', '432462', '-121.84687', '-121.8285217', '37.326345', '11.009455', '183.96', '42.225', '206.7675', '491978', '0.749995', '210.48', '52.05', '37.38459778', '37.29731777', '-121.9029513', 'SC401', '22.88', '57', '10.25946', '1.592574', '-121.952439', '22.9925', '9.782247', '23.195', '2022-11-22', '320.9', '470060', '60.075', '95.25', '164.04', '292.08', '37.30308914', '19.191671', '104.225', '29.855', '-121.869606', '321.48', '7.954794', '13.52228', '203.0', '15.396335', '37.32748413', '37.237623', '-121.9333181', '1.344647', '2.399736', '0.467271', '37.82152939', '-122.0266876', '25.25', '2.558185', '37.27125931', '204.8325', '-122.050202', '263.32', '422880', '47.925', '37.41140366', '318.95', '388658', '57.825', '-122.0694275', '-121.8401642', '103.3025', '100.985', '-121.848249', '37.35708237', '-122.077854', '144.9975', '477478', '440928', '-121.809449', '-121.9573822', '-121.8650818', '202.52', '209.3325', '497017', '8.868831', '2022-07-15', '483859', '9.759256', '5.47863', '7.558981', '-121.8348389', '1.284374', '419526', '2021-11-20', '443962', '7.461425', '37.3766219', '50.025', '480547', '12:10', '388706', '-121.8029099', '41.6675', '498302', '2022-05-30', '200.175', '37.312362', '2.742732', '37.32077789', '37.364828', '277.72', '8.046136', '37.4257575', '37.35625839', '422022', '101.2', '2022-10-07', '-121.8240204', '480968', '6.236081', '30.0125', '143.805', '52.0', '7.478202', '484604', '461153', '434712', '471177', '97.9', '2.809841', '-121.818003', '130.16', '248.15', '54.56', '37.36262512', '443600', '13:10', '168.4', '-121.9401245', '445291', '74.775', '-121.836543', '2021-12-10', '13.758401', '2022-03-05', '2.983824', '37.342158', '93.22', '88.2', '-121.919593', '471377', '74.635', '37.275313', '99.68', '-122.055806', '12.546106', '461815', '5.774402', '187.55', '7.790131', '140.7', '2.5425', '38.5625', '39.125', '3.608924', '-121.915159', '62.3225', '-122.033006', '0.791627', '431.08', '487627', '158.16', '53.8625', '153.57', '88.44', '8.527698', '37.24161148', '37.308551', '148.395', '31.16', '-122.109422', '32.009937', '8.717216', '-121.8884354', '2022-05-27', '2022-08-15', '-122.163385', '107.9', '43.9175', '434730', '174.28', '30.475', '463149', '450443', '28.7525', '-121.937461', '135.28', '128.955', '37.320755', '10.997027', '6.923939', '29.675', '87.32', '154.4', '134.56', '69.3125', '1.557778', '08:41', '37.26994324', '8.377326', '-121.9104614', 'SC203', '37.30659866', '39.175', '42.6575', '-121.9666537', '-121.940303', '37.32761383', '37.29489136', '485015', '-121.9041138', '2022-10-28', '6.930774', '-121.8672638', '-121.9347763', '1.432261', '2022-06-20', '1.83988', '33.725', '446758', '175.88', '2.779393', '207.9825', '37.40818787', '-121.823066', '31.79', '390523', '37.362046', '388862', '497817', '14.280353', '17:02', '4.740441', '117.3175', '37.3136082', '428.32', '5.146818', '6.601448', '41.7575', '423899', '27.527987', '388887', '408.24', '116.825', '11.067864', '51.255', '-121.962736', '2023-01-23', '58.385', '9.304412', '81.925', '14.720284', '86.515', '12.227964', '107.56', '10.218449', '3.495834', '0.597138', '135.84', '2021-11-25', '82.375', '-121.8183148', '0.416319', '271282', '109.08', '486146', '207.1275', '37.38517761', '479080', '-121.9850693', '-121.828927', '48.0575', '6.732557', '40.7', '9.310626', '417096', '456455', '12:25', '37.361518', '3.615138', '37.3383255', '424.55', '-121.966869', '148.6875', '105.0125', '-121.94428', '-121.813107', '212.5275', '37.26993179', '37.347636', '260.28', '392866', '275891', '13:15', '-122.0220032', '419281', '1.616186', '07:20', '466035', '21.137806', '-122.406108', '12.882268', '10.506765', '485954', '26.3675', '483866', '264.8', '2022-08-08', '503.48', '96.9125', '37.32129288', '60.975', '440454', '-121.841237', '3.954406', '37.28326797', '13:16', '37.252995', '2022-01-28', '37.23058701', '84.9625', '105.795', '-122.1196594', '6.768596', '2023-02-04', '103.91', '486981', '94.93', '-121.850615', '29.7', '93.85', '-121.839728', '25.645231', '5.343171', '95.31', '-121.81915', '29.63', '218.04', '496517', '26.75', '28', '-121.896665', '37.245643', '-121.881758', '-121.950547', '68.3', '93.2875', '-121.932293', '4.412978', '146.8875', '37.364736', '39.0125', '34.6025', '37.23981476', '-121.994908', '3.689702', '481676', '131.48', '37.33177948', '37.35116959', '234.36', '248.76', '315.0', '-121.8054962', '76.95', '9.417502', '-121.806979', '70.64', '37.3691597', '66.8825', '-121.918818', '-121.948457', '7.787645', '-122.0238342', '-122.0140457', '04:15', '-121.938406', '2.223887', '4.43659', '443996', '37.3626883', '503.84', '2022-07-18', '2022-02-19', '37.247178', '240.76', '14.035532', '37.31349564', '496025', '2022-12-14', '492682', '1.437232', '-121.9241562', '138.515', '9.930133', '42.05', '4.767781', '150.825', '46.35', '4.575156', '37.3633586', '307.55', '98.35', '161.65', '66.095', '3.548651', '103.48', '179.36', '422282', '29.7225', '58.6025', '-121.8879471', '5.801121', '2022-01-27', '66.2975', '14.536358', '37.31126', '-121.8809738', '1.746674', '37.32230759', '37.661596', '33.95', '68.175', '289726', '2021-12-30', '225.8025', '-122.0045624', '64.08', '27.3125', '10.578845', '37.3185997', '37.3015213', '420254', '32.83574', '37.31127', '486348', '2022-12-26', '38.4275', '0.520088', '134.175', '388585', '37.35280228', '73.15', '72.7675', '37.33200455', '37.305632', '495645', '184.64', '9.61137', '37.43682861', '149.0025', '12.394491', '449493', '390530', '388934', '99.36', '-121.9509724', '37.312841', '2.916716', '4.500592', '6.101244', '157.44', '5.51032', '-118.328164', '27.9875', '2022-05-02', '11.591058', '483870', '24.651037', '37.330322', '443818', '87.2', '2.957727', '388718', '8.238139', '433228', '103.92', '37.30714035', '-121.8766251', '-121.8886337', '127.805', '252.8925', '80.755', '408.16', '14.343733', '199.9725', '37.393984', '-121.846153', '438.44', '10.704362', '19.230196', '126.8', '121.305', '425405', '212.44', '204.4', '228.75', '423283', '-121.8560181', '61.775', '2023-03-03', '2022-02-01', '259.44', '37.3787657', '-121.9348068', '151.0', '37.377221', '10.163147', '27.7625', '477685', '17.0', '10:55', '-121.8272171', '37.2831545', '-122.086596', '37.44872284', '12.521872', '-122.438235', '30.53', '60.0', '88.6525', '1.084914', '29.584724', '81.15', '50.4225', '-121.8611908', '13:45', '80.5975', '10.9846', '208.92', '110.57', '44.885', '30.025', '152.0', '71.135', '52.7625', '60.08', '60.325', '69.56', '1.751024', '146.795', '6.249751', '58.49', '74.7025', '37.38319', '388574', '-121.8491523', '7.120914', '10.590651', '37.1675', '24.8375', '58.445', '7.330316', '130.575', '2023-03-09', '496524', '125.88', '37.232184', '38.09', '204.56', '105.5725', '116.2625', '163.1775', '149.005', '49.7025', '-121.8375854', '203.73', '445278', '13.278081', '18.780945', '12.949997', '205.08', '37.286009', '34.715', '-121.978359', '6.465367', '75.43', '1.0125', '5.235674', '-122.177099', '30.1475', '212.25', '479079', '253.72', '14:35', '100.4225', '-121.9044571', '8.371113', '42.86', '156.24', '96.3925', '213.9', '2022-01-10', '13:12', '53.92', '3.374667', '208.16', '198.3075', '7.49', '112.325', '30.007257', '2.091535', '193.32', '5.00763', '47.725', '227.625', '37.29319382', '37.2526901', '37.341391', '71.795', '37.368307', '5.561272', '-121.781462', '6.666692', '39.395', '5.312724', '108.25', '109.85', '7.956037', '34.8275', '315.08', '165.6', '-121.900259', '11:00', '278.8', '430.28', '83.275', '37.251573', '37.24549103', '459184', '433433', '2022-07-06', '2022-03-18', '7.114079', '37.235', '44.75', '2021-10-30', '42.9725', '-121.8306656', '6.977377', '-122.20301', '82.0', '418938', '80.72', '79.52', '11.680536', '-122.0557938', '292.25', '178.4', '430206', '60.15', '37.31361008', '-121.8788986', '-121.8320541', '37.24469', '-121.8610992', '100.85', '182.28', '11.635176', '2022-11-29', '67.1625', '189.44', '419523', '-121.9503326', '37.317361', '449096', '-121.966127', '12.295693', '69.28', '10.729216', '07:40', '37.250768', '163.0', '2022-07-29', '473370', '37.25579834', '37.30441284', '427104', '9.722595', '11.085262', '0.521952', '09:50', '171.8', '494985', '193.625', '2022-03-17', '9.443599', '37.3036499', '148.825', '-121.937552', '425077', '7.4925', '-121.571496', '33.995', '47.97', '26.139221', '37.32992172', '48.45', '2.962076', '12.471541', '37.450682', '10:35', '43.755', '05:00', '7.630438', '104.4', '52.805', '2022-04-08', '75.3425', '-121.933506', '88.865', '15.536144', '1.051981', '-122.080101', '222.63', '497684', '77.3125', '104.12', '6.763625', '13.967803', '111.875', '85.6375', '-121.7720413', '77.3', '-121.9719723', '93.8275', '12.328626', '490864', '37.32618332', '0.299501', '43.805', '75.88', '12:00', '1.774636', '13.43156', '388677', '-121.9513702', '142.9275', '15.490162', '2022-11-02', '37.25076675', '-121.8885345', '38.675', '121.85', '-122.0791473', '88.0', '61.0', '478332', '219.4575', '11.587951', '2022-12-19', '456214', '11.121302', '37.29660797', '29.3375', '88.36', '116.0825', '101.59', '94.705', '46.095', '2022-05-28', '201.3675', '463427', '433.52', '-121.8653641', '-118.418475', '29.7425', '14:15', '-122.1255493', '388820', '12.23542', '2023-01-28', '37.485734', '76.24', '10.475697', '9.537426', '18', '120.8', '2022-09-22', '37.35994339', '3.393929', '14.919122', '-121.9378586', '-121.937107', '-121.919191', '31.925', '15.255284', '37.3819046', '98.8', '37.45754623', '43.6475', '428679', '37.326649', '82.3625', '26.165', '418982', '-121.931572', '2022-11-15', '175.0', '37.240128', '9.966794', '-121.8855133', '26.12', '37.434279', '489972', '388992', '3.111827', '121.4175', '133.96', '-122.0027008', '30.8', '40', '1.805083', '4.78518', '434.64', '2022-07-08', '25.8275', '37.326179', '430199', '84.85', '-121.9511871', '235.08', '110.345', '156.0', '59.075', '68.48', '-121.951688', '390529', '5.072253', '51.775', '17.096407', '212.7525', '428913', '13:29', '2022-01-11', '0.748131', '441944', '8.15239', '2022-07-02', '463092', '12.195031', '2021-12-16', '46.19', '37.305122', '8.876909', '37.35576248', '205.4175', '434721', '32.7375', '37.3251018', '1.052603', '42.325', '-122.176531', '2021-12-07', '470232', '37.31482315', '37.38991928', '-121.9993973', '-121.7480927', '-121.7993393', '14.182176', '446024', '171.6875', '10:25', '37.3663063', '101.6', '37.55', '143.4', '84.365', '21.9575', '68.0', '87.7525', '7.757819', '22.0475', '6.847511', '190.7', '261210', '108.4325', '-121.9367196', '259.08', '19.485', '37.39339066', '15.12', '-121.775502', '68.525', '204.45', '-121.9228439', '37.247862', '407.6', '2022-06-01', '66.41', '2022-11-01', '37.376467', '23.015589', '85.84', '430773', '37.40148163', '99.2', '104.245', '10.171846', '15.152758', '37.25110344', '2022-04-11', '14.814732', '-122.079559', '54.88', '6.546767', '37.309678', '-121.940121', '37.34139252', '73.9825', 'BSTR', '-121.877841', '87.68', '171.6', '457293', '172.68', '65.45', '426.52', '08:05', '0.587817', '-121.96812', '124.9725', '2022-02-24', '9.369035', '-122.0132828', '-119.714823', '-121.966011', '37.38186264', '97.97', '46.2', '248.95', '2.812947', '3.98796', '71.5975', '5.562515', '2.830967', '103.1425', '88.48', '37.321892', '2.368667', '1.73114', '0.497097', '180.52', '37.3507843', '2022-07-09', '37.359541', '37.28437042', '388885', '72.3', '-121.848594', '2022-02-23', '-121.8455811', '37.38459015', '37.30697632', '299.24', '401.2', '2.358104', '2022-05-11', '74.825', '3.541194', '37.32335451', '-122.0695877', '97.925', '-121.950932', '87.5', '-121.8271332', '5.398473', '451757', '388579', '67.6', '17:10', '9.135', '1.609973', '-122.0183334', '87.88', '337024', '37.293376', '486670', '-121.875793', '5.697352', '37.236377', '37.27531433', '412.52', '37.356946', '62.4', '16:10', '5.370511', '230.36', '228.55', '12.308742', '0.761801', '-122.082233', '37.39995956', '360.4', '-121.9195938', '36.2675', '1.0', '97.8775', '37.392432', '190.76', '3.319365', '422833', '419437', '-122.0751572', '37.251763', '401.4', '12.855549', '-121.959938', '454343', '52.04', '27.425', '70.4', '143.04', '24.0275', '57.395', '121.64', '226.95', '-122.0738525', '30.457752', '401.90103', '7.462047', '2023-02-22', '433.44', '93.175', '52.49', '146.36', '-122.3974075', '74.845', '1477.88', '491508', '97.52', '461982', '37.261959', '132.1725', '25.7375', '-121.864686', '12.600786', '390524', '89.17', '-122.083812', '10.210993', '7.06934', '3.523796', '93.28', '111.04', '37.324924', '236.68', '496136', '376.68', '-121.947993', '10.614884', '-121.79774', '37.262029', 'SC204', '13.373772', '40.85', '486112', '37.389762', '98.1275', '37.30070877', '142.68', '8.786189', '04:30', '37.25702286', '390539', '11.917278', '81.6775', '-122.002699', '100.1075', '2.518417', '-121.8270276', '201.075', '9.291985', '47.27', '61.505', '278.68', '85.88', '37.32898331', '-122.033224', '15.3168', '37.323217', '1.319792', '78.73', '196.71', '37.46', '37.29698181', '37.27691269', '37.018049', '-122.014276', '-121.975004', '495267', '23.5325', '2.777529', '-121.9437561', '298141', '37.485391', '84.05', '25.1075', '12.352238', '212.91', '3.431212', '4.559', '2.485485', '13:31', '15.175749', '128.4', '106.15', '09:55', '95.04', '2022-10-11', '37.313432', '24.5', '247.0125', '75.085', '29.1575', '-121.9623947', '48.375', '306509', '-121.8647079', '234.28', '37.357082', '72.97', '61.3925', '442462', '6.549252', '168.48', '79.6', '99.97', '11.139321', '2022-09-10', '468284', '-121.7937088', '81.6875', '5.50597', '37.31436157', '37.955', '5.173537', '-122.081266', '79.505', '126.075', '7.224061', '-122.0951004', '37.362549', '434756', '414.72', '-120.987519', '2.271112', '388824', '37.309264', '26.3', '190.16', '9.610127', '37.22613144', '3.433076', '42.5', 'SC104', '10.139535', '2.562535', '9.44857', '440195', '22.7675', '37.362683', '37.27342606', '-121.793711', '41.825', '1.134624', '37.37773895', '41', '102.4675', '06:14', '67.625', '318.15', '186.88', '200.0', '496206', '26.901644', '1.539136', '79.64', '137.68', '20.63698', '72.79', '4.532281', '-121.8182449', '472947', '35.84', '59.3', '56.16', '26.57', '-121.8952789', '12:35', '37.35292435', '8.033087', '37.009876', '37.3112767', '99.2725', '1.224101', '221.64', '09:30', '185.0', '37.405168', '-121.948332', '2022-07-04', '-121.584376', '4', '37.32587', '37.36453629', '142.95', '93.44', '23.166582', '57.8', '91.0825', '3.449231', '37.28315353', '-121.930807', '127.6', '2.20711', '109.2425', '445496', '27.7175', '-121.876646', '97.3625', '37.48782791', '83.95', '10:50', '201.16', '498034', '388555', '37.30686951', '5.369268', '11.949589', '3.512611', '-121.933667', '473372', '505.45', '45.2225', '9.467211', '4.509291', '5.410279', '37.44102859', '-121.938572', '81.2', '474331', '25.3325', '-121.9106293', '489252', '430492', '3.890405', '498540', '340552', '37.254171', '-121.945155', '3.245422', '37.435386', '17.056019', '6.955629', '99.8', '5.778131', '37.356531', '4.739819', '88.5625', '85.0', '76.35', '-122.0218887', '45.925', '88.55', '37.26993561', '37.251994', '37.33812714', '2022-07-01', '76.3675', '11.259246', '5.518398', '203.32', '388552', '-121.9029694', '94.9', '26.239883', '79.36', '37.38599014', '491923', '-121.9790364', '102.88', '-121.954257', '37.011181', '249.8', '10.004076', '37.35166931', '266558', '15.631835', '443.28', '484059', '47.1', '17.244915', '427981', '-121.9335022', '37.31988907', '91.7', '-122.029689', '411690', '36.99973679', '45.675', '10.825529', '495268', '179.52', '484015', '265.48', '29.2925', '31.43', '169.28', '-121.9284439', 'SPNWC', '81.9925', '37.251362', '2.265519', '99.4625', '89.8', '-121.8834915', '106.925', '06:30', '0.6978', '-121.971977', '195.04', '25.4225', '37.26894', '-121.8203354', '2022-08-29', '25.985', '37.30181503', '46.2975', '-121.9326648', '27.47', '-121.8886681', '77.975', '08:30', '126.255', '95.675', '2022-08-26', '37.307193', '-121.8489075', '37.23754501', '-122.082316', '55.575', '23.375', '5.692381', '-121.9938736', '9.106816', '3.767995', '437198', '108.8', '237.84', '328.04', '37.436611', '4.534146', '50.625', '59.625', '2022-01-13', '22.3625', '58.25', '56.925', '4.07371', '20.744476', 'SC206', '-122.2409439', '-121.93752', '440198', '8.245596', '37.229485', '159.52', '2.154915', '115.45', '37.5275', '-121.914882', '13.737274', '-121.937128', '5.082816', '2022-08-12', '388567', '37.250782', '21.17', '174.96', '5.096487', '41.87', '2022-11-18', '37.25531', '2.778151', '37.32509995', '498033', '39.485', '-122.027599', '19:15', '197.225', '37.2990997', '2.475', '-122.2661591', '-121.8259354', '134.3325', '25.949081', '9.488959', '6.039728', '2.848366', '37.33644867', '51', '494772', '37.240988', '68.04', '25.6475', '55.12', '99.9725', '85.52', '6.303189', '148.6', '37.315553', '39.2825', '475912', '484307', '1.683295', '9.666672', '193.48', '4.439076', '-121.8530579', '37.432013', '7.255751', '135.7725', '9.490824', '99.4975', '477505', '124.05', '61.4825', '43.175', '445143', '-121.9492035', '2022-12-03', '110.08', '27.605', '415878', '163.44', '2.404085', '-122.0035248', '-121.8526853', '12.451036', '37.3239', '70.2575', '482624', '192.88', '2022-10-18', '43.85', '-121.8151855', '86.165', '37.456586', '388501', '4.867201', '12.311849', '479244', '82.0375', '211.2', '332.28', '1.425426', '471488', '-121.9333191', '27.9425', '78.38', '29.99', '471719', '73.9025', '149.7225', '12.976095', '4.125283', '37.26893997', '424.5', '14.282838', '11.212022', '3.956892', '484022', '447366', '22.130135', '74.4', '64.6325', '14.719662', '93.6475', '72.9925', '81.48', '581.4', '100.49', '28.325', '469055', '299.04', '65.2625', '470847', '12.703934', '1.863492', '2022-01-03', '37.32753', '-121.9436441', '-121.8885421', '37.49874496', '37.364821', '478007', '67.95', '4.097943', '120.335', '-121.850567', '104.76', '388615', '10.608049', '50.895', '37.367029', '10.816208', '70.91', '2.205868', '10:45', '-121.9755173', '50.475', '242.55', '4.545', '45.4425', '6.819549', '486892', '486102', '88.1125', '216.69', '86.03', '29.945', '51.68', '2022-11-08', '285.16', '11.652574', '37.38518143', '10.217828', '37.37239905', '5.213926', '-121.860458', '37.34086227', '5.283519', '37.35033798', '2022-02-16', '465983', '-121.8525314', '4.664012', '5.267364', '3.163401', '388930', '54.9', '12.982308', '-121.8124847', '17.775', '47.9625', '12.472784', '3.681624', '53.7275', '-121.867157', '90.76', '37.3991978', '9.631875', '-121.936859', '-122.077713', '-121.8462557', '429941', '-121.932781', '61.9425', '12.764207', '-121.834776', '11:30', '2022-02-04', '53.385', '2022-04-07', '5.393502', '226.4325', '-121.557032', '78.515', '432.32', '498538', '15.75', '388490', '-122.0804749', '37.29072189', '5.226974', '486871', '3.28084', '08:20', '109.8725', '449.24', '74.56', '10.474454', '12.574067', '2022-07-23', '135.0', '450299', '207.375', '428245', '0.651818', '483182', '309.88', '37.38199615', '80.9125', '102.08', '106.475', '51.1', '453.55', '8.726537', '25.707369', '348.7', '130.525', '83.88', '44.075', '86.0975', '141.3525', '423304', '10.9575', '37.32265472', '09:10', '2022-03-26', '26.21', '2.382337', '2022-09-09', '388709', '37.3156898', '37.33570862', '-122.079557', '187.96', '318.6', '428680', '37.35697937', '328.88', '463275', '79.1575', '80.7775', '87.7625', '37.30817795', '37.32074356', '26.2125', '188.48', '431.44', '428865', '183.25', '171.64', '218.805', '57.6', '-121.850319', '37.37646866', '113.56', '284.56', '56.2625', '248.35', '8.793024', '50.085', '390533', '-121.8525696', '-121.833027', '218.6475', '-122.0183487', '442452', '5.350006', '37.47160721', '284.64', '13.058116', '37.3112793', '467638', '5.267985', '-122.0085754', '37.31607004', '37.35855865', '494730', '2023-03-02', '84.28', '227.6', '442.8', '27.472063', '20:00', '58.0', '6.811471', '68.56', '157.375', '129.68', '436144', '37.31402', '126.3675', '-121.8235703', '3.840074', '-121.9597321', '2.983203', '12.772906', '26.5475', '-121.9523392', '7.979649', '2.362453', '9.861161', '39.4175', '2022-01-01', '8.02998', '2022-01-07', '158.725', '428210', '449331', '135.68', '-121.847641', '48.0125', '14.627699', '57.375', '4.053204', '-121.8221436', '388622', '02:45', '8.290956', '473380', '-121.977497', '2023-02-16', '70.0325', '2022-03-15', '4.118448', '2.700479', '183.725', '434741', '-121.9533844', '487520', '65.6225', '37.24393082', '127.94', '2022-11-03', '5.845239', '409.12', '201.165', '2022-11-11', '6.369055', '490835', '478096', '2022-01-12', '486130', '-122.201818', '484833', '37.39787292', '4.449018', '84.085', '2022-09-03', '2.056117', '101.255', '161.92', '103.6', '39.5575', '37.3503311', '2022-04-14', '263.24', '37.37662125', '2022-01-08', '37.009815', '37.369683', '113.6', '4.887706', '15:45', '8.48793', '101.3675', '-121.79773', '51.14', '4.382531', '14.499697', '-121.876299', '98.0575', '412.56', '319713', '371.89252', '2022-03-10', '2022-01-19', '8.404045', '37.323912', '-121.938367', '2022-09-01', '5.149303', '13.225886', '55.8', '107.0375', '-121.96689', '155.4825', '79.145', '276.52', '199.8', '21.03093', '496217', '220.16', '5.246237', '37.29271698', '37.28892517', '13.772692', '103.6925', '103.72', '129.8325', '1.896425', '459.96', '38.72', '-121.8130951', '196.5975', '170.4', '58', '9.894715', '427540', '37.40516663', '162.1', '37.3276858', '12.369636', '9.489581', '-121.9719696', '63.53', '2021-12-24', '48.195', '88.675', '-121.8540573', '2022-04-18', '432.96', '454827', '2022-12-28', '37.341276', '6.562301', '142.275', '36.475', '-121.7835388', '5.230081', '-121.848078', '6.759897', '2.774422', '204.81', '491728', '-121.965172', '-121.8274765', '460910', '131.43', '206.2725', '-122.0330505', '2.160508', '30.9575', '110.93', '429915', '2022-03-11', '10.384355', '13.568261', '124.72', '26.705', '33.0725', '154.0425', '485071', '36.38', '-121.8791656', '107.6', '51.59', '15:10', '421570', '2021-12-27', '37.42844772', '138.81', '1.856657', '6.281441', '215.7', '9.288257', '388535', '14.394064', '463624', '37.441568', '46.6', '-121.994215', '1.141459', '194.3875', '172.04', '10.56331', '37.34786987', '54.65', '-121.940305', '2022-09-20', '95.52', '37.40086746', '16.061203', '13.112175', '37.335594', '-122.176238', '78.4', '67.76', '7.406123', '49.125', '419029', '-122.0306778', '2022-03-04', '93.67', '9.340452', '1.862871', '32.477207', '42.3875', '81.0025', '2023-02-06', '494080', '75.895', '202.65', '12.994114', '440576', '56.135', '-121.9149704', '74.2', '37.38518', '-121.93265', '16:25', '-121.820332', '481864', '37.32075', '183.16', '286.04', '284031', '65.6675', '112.3225', '63.6', '3.881706', '60.7', '462594', '-121.8932114', '6.807743', '9.551097', '481143', '193.28', '178.04', '388559', '228.04', '15.76543', '37.3783992', '-121.777882', '212.46', '427982', '245.0', '468479', '76.76', '55.25', '13.593116', '-121.8650841', '37.35009003', '22.1375', '11:55', '-121.923356', '436969', '440584', '209.84', '1.496262', '14.308314', '11:22', '37.32433701', '37.37473679', '200.4', '116.45', '2022-04-13', '4.840482', '218.625', '37.28230286', '162.84', '202.2', '100.175', '30.485', '119.005', '37.2843721', '37.29421234', '11:15', '482046', '7.757198', '9.424958', '216.6225', '202.8975', '37.3048172', '7.594399', '422452', '481803', '257.1', '291.85', '76.5575', '5.318316', '111.7', '148.8', '14.504668', '141.6225', '88.7875', '2022-06-04', '37.250137', '244.76', '2021-11-24', '388941', '69.65', '434985', '2.566263', '72.26', '35.9975', '437208', '7.613661', '467904', '167.95', '340106', '37.485722', '3.653041', '66.725', '302.4', '8.845219', '-121.9667816', '59.7275', '1.048875', '486913', '7.040136', '133.4', '29.9', '35.4125', '1.115361', '75.725', '37.378453', '81.79', '43.4', '37.37946701', '12.780363', '218.85', '902', '2022-01-31', '72.735', '302.25', '2022-04-30', '32.22058', '37.31567383', '480965', '37.35953522', '37.3060479', '14.772479', '102.1075', '-121.7964249', '-121.8458328', '17.536339', '325.45', '111.02', '96.19', '33.6575', '-121.846825', '2.042447', '37.42548752', '37.313063', '461811', '-121.819404', '2022-04-19', '29.61', '61.28', '69.0875', '470254', '37.2768364', '213.8775', '83.015', '73.1725', '132.68', '2022-03-21', '160.08', '406.52', '429888', '328.52', '83.6', '175.825', '40.2', '418428', '388489', '37.45068359', '96.505', '473557', '104.6075', '37.323662', '37.35160828', '3.991689', '134.28', '487.32', '-121.818306', '84.3325', '37.31435596', '464606', '-122.0140431', '438.4', '13.828616', '456608', '3.988582', '-121.878943', '329.5', '271.15', '37.427782', '11.733974', '37.4388237', '37.32979965', '-121.947069', '482977', '150.8', '469252', '201.9525', '14.23375', '477372', '2022-10-15', '216.3525', '496750', '26.9975', '14.766886', '-121.8461533', '-121.9157067', '15.124796', '87.46', '452120', '123.8925', '156.16', '14.271654', '498259', '124.28', '452112', '7.02', '12.913336', '-121.8762054', '235.52', '329.41', '11.381035', '147.68', '473140', '-121.852529', '37.32089233', '499423', '197.3625', '40.565', '205.575', '2022-03-03', '485596', '20.945', '28.727234', '13.221536', '20.675', '8.399696', '254.48', '2022-02-02', '5.416493', '-121.748092', '-121.9148712', '2022-03-29', '12.619428', '70.88', '-121.8993912', '2022-06-28', '-121.9401321', '143.85', '9.45', '477862', '208.725', '109.44', '6.844404', '209.08', '24.7025', '424859', '7.604962', '-121.952693', '294.36', '37.32777405', '2022-11-07', '-121.9893341', '478009', '67.92', '124.005', '4.206683', '10.371928', '-121.827095', '37.33200073', '13.163749', '53.325', '37.314973', '459761', '6.674769', '133.5', '56.55', '199.995', '30.44', '-122.06513', '34.0625', '445297', '207.42', '301900', '3.446746', '94.48', '479440', '177.8925', '152.84', '2023-01-20', '160.28', '432485', '37.29793167', '8.803587', '05:25', '36.375', '7.115322', '401.56', '2023-02-03', '76.8625', '2023-01-14', '-121.957358', '10.388084', '27.4925', '37.32122421', '6.632516', '37.3593483', '5.467445', '-121.959937', '9.326782', '3.88357', '4.027728', '37.326343', '37.362705', '388541', '37.36696243', '-122.1101379', '260.4', '-122.202993', '-121.9181747', '0.467893', '296.85', '477429', '41.2625', '1.702557', '37.26993', '-122.1422577', '465764', '50.85', '437.96', '0.71147', '37.45035553', '2022-03-01', '7', '36.785', '37.262767', '37.27834702', '36.3575', '25.872032', '55', '436249', '2022-12-17', '37.36481476', '140.43', '220.05', '165.36', '6.592748', '127.84', '37.34490967', '52.4', '37.25080109', '31', '76.155', '37.3155593', '-121.8371124', '37.24018478', '2022-01-05', '220.88', '32.131104', '-121.8775787', '44.3', '2022-06-13', '37.343688', '38.7875', '5.512184', '487499', '73.645', '73.9375', '424839', '24.545', '26.257282', '476008', '37.33645', '22.475', '52.175', '1.473892', '18:00', '9.793431', '6.984212', '13:50', '37.31605516', '1.653469', '14:10', '37.326306', '37.351149', '-122.175263', '3.007437', '8.167924', '-121.875006', '49.875', '42.9275', '12.442958', '475987', '63.72', '-121.87736', '479827', '89.44', '37.95', '179.32', '442.04', '12.352859', '143.3325', '-121.918992', '37.42826', '11.29715', '13.050038', '497473', '10.634768', '37.298845', '127.52', '155.92', '2371.185', '37.369817', '447897', '37.243932', '63.515', '-122.105774', '11.031824', '58.85', '-121.9157104', '23.78', '10.279965', '75.5', '37.33082581', '253.8', '37.33278495', '7.767761', '8.130642', '1.614322', '37.30266571', '111.32', '91.88', '73.195', '2022-11-25', '37.34460831', '-121.8927307', '4.852288', '-122.096559', '-121.9642258', '58.41', '221.8', '-121.974103', '4.979047', '13.500532', '72.6425', '37.12130737', '93.6', '430697', '80.16', '132.9825', '498209', '37.444168', '43.675', '106.0', '484588', '78.7175', '-121.9840317', '478017', '-121.8779449', '05:27', '51.3675', '-121.961174', '13.007785', '2022-11-16', '465130', '-121.8815079', '10.326568', '83.9725', '15.125418', '101.04', '457679', '467388', '477855', '-121.8400116', '-121.932653', '104.75', '-122.078474', '38.445', '92.0275', '50.91', '265593', '0.257869', '37.331201', '147.63', '-121.8262482', '323365', '205.16', '2022-11-17', '7.00596', '12.884753', '24.725', '-122.019371', '2.740247', '32.8475', '15.96054', '2022-04-27', '86.6275', '174.2', '39.35', '206.16', '70.235', '3.052175', '37.02376938', '434758', '-121.999939', '-121.9337082', '426354', '60.725', '421.68', '44.93', '-121.804943', '66.5225', '334436', '48.7325', '28.64', '428232', '14.808518', '458741', '-121.793996', '-121.8460922', '37.250825', '427287', '5.070389', '49.97', '484060', '60.155', '-121.82902', '21.5975', '9.166468', '76.3325', '-122.069591', '37.25078964', '437894', '49.385', '246.12', '139.0125', '215.4975', '186.8', '38.54', '15:20', '2022-08-30', '37.34334946', '2.982582', '70.135', '-122.0694199', '25.357536', '49.605', '88.81', '37.33538818', '32.6225', '12:45', '2022-02-21', '-121.8438797', '33.32', '206.43', '112.985', '9.646788', '14.630185', '8.469289', '15.869199', '37.28247452', '176.8', '101.0725', '420633', '5.489193', '89.7775', '7.977785', '188.68', '4.915046', '-121.877706', '461788', '108.9725', '76.4', '122.63', '37.31555939', '15.553542', '454060', '15:15', '2021-12-22', '34.3325', '142.185', '2.284161', '43', '-121.5676498', '184.08', '2022-06-11', '47.8775', '302.84', '36.335', '13.526629', '7.84419', '6.25348', '-121.8635483', '76.075', '38.085', '-121.6603699', '-122.1133575', '-121.8635635', '-121.5901566', '495578', '201.44', '35.66', '431337', '72.9125', '87.55', '37.448489', '403.4', '52.4675', '481805', '85.93', 'SC301', '405.72', '84.15', '102.49', '48.215', '497192', '19.922403', '2021-12-08', '8.280393', '-121.9490057', '50.05', '7.407987', '1.050117', '87.84', '4.779587', '29.225', '2.089671', '99.7025', '1.906367', '202.88', '69.605', '37.441428', '37.22872925', '471276', '264.4', '218.4', '13.575718', '111.5825', '15.184448', '35.2653', '0.295151', '10:10', '37.31423', '2023-01-09', '7.627331', '78.8375', '11.083398', '32.015', '30.7775', '37.31860733', '12.283887', '49.745', '12.480862', '84.08', '488480', '10.818072', '37.32870483', '172.1375', '165.08', '24.2975', '-121.964325', '388505', '3.334899', '-121.8861237', '111.365', '429922', '3.282704', '14.28346', '37.38335037', '497025', '92.5225', '447498', '170.68', '196.35', '0.946348', '49.4975', '109.6', '2022-02-14', '32.2625', '89.89', '62.55', '486145', '2022-08-17', '36.425', '39.7775', '2.830346', '78.055', '69.005', '15.8', '4.642264', '496374', '-121.937832', '-122.0629272', '2022-10-22', '37.36326981', '37.332132', '119.075', '37.34174728', '27.582047', '2022-10-03', '483247', '1.334705', '41.3925', '152.08', '212.1675', '59.8725', '9.795295', '5.527718', '50.0', '1.775879', '98.645', '-121.8442688', '43.305', '-121.951908', '-121.843681', '15:30', '48.8', '-121.9378561', '-121.846207', '23.015', '124.1625', '43.9625', '-121.943689', '-121.93733', '37.324765', '-121.799721', '15:00', '455253', '487678', '2021-11-22', '37.30608749', '473734', '4.616788', '-121.937294', '8.309597', '388482', '5.490436', '3.929551', '187.775', '254.0', '472950', '70.6', '471380', '1.118468', '08:50', '34.7375', '37.234458', '0.195732', '463942', '216.6', '388689', '209.4', '12.771663', '-122.023984', '11.216371', '-122.0239868', '167.84', '-121.8952866', '44.79', '4.678304', '-121.8152924', '124.4', '37.361577', '121.6', '135.165', '21.3275', '17:30', '103.6825', '133.68', '103.325', '26.286488', '6.477795', '54.75', '37.321712', '388980', '-121.8279037', '14.845179', '2.52401', '37.262125', '60.345', '481662', '103.8', '-122.202997', '168.625', '37.448628', '37.2799183', '464659', '11.638282', '428208', '59.6925', '37.32766724', '421.4', '422023', '-121.9529343', '125.715', '124.7225', '37.36939621', '-121.9991', '76.92', '37.395482', 'SC201', '388851', '-121.8486252', '478040', '15:05', '80.4175', '2022-04-05', '13:32', '469924', '37.08447647', '487905', '454045', '6.111807', '-122.078496', '07:00', '324.72', '95.85', '462.16', '-121.9833908', '69.11', '486749', '35.0525', '100.6475', '429322', '-121.846095', '9.610748', '48.855', '82.6', '456200', '37.32540512', 'BWC', '2023-02-24', '2022-04-16', '37.37996674', '37.26078415', '-121.9777298', '487143', '2022-08-23', '-122.2829619', '4.10105', '59.48', '43.13', '64.5525', '113.8', '12.070135', '7.402395', '1.803219', '57.225', '37.35015488', '1.224723', '2022-07-12', '37.31855011', '2022-05-05', '497999', '37.25193787', '2022-01-29', '207.1725', '-121.8165332', '495968', '-121.8505243', '3.667333', '-122.120499', '11.386627', '-121.8805084', '12.65236', '1.320414', '102.04', '64.8125', '-121.9759216', '-121.8763', '11:10', '41.375', '202.7175', '-121.8551102', '340269', '430040', '53.175', '43.8', '4.837375', '11:20', '26.666145', '-121.8114471', '479121', '2.350647', '13:00', '-122.081095', '168.56', '2022-09-07', '-121.8783188', '498481', '111.2225', '84.36', '99.0475', '11.492882', '291.52', '493624', '185.3', '219.0', '5.417114', '56.6', '199.05', '460612', '9.141613', '-121.931952', '37.241727', '453310', '37.31034851', '471476', '218.4225', '-121.9008713', '14.275382', '129.45', '12.3975', '37.230265', '496558', '-121.928447', '-122.084668', '64.2', '-121.9372923', '-121.776262', '216.88', '12.578417', '13.959725', '116.15', '461827', '14:00', '495385', '146.6', '446849', '9.626283', '37.301761', '8.896171', '262.44', '-121.875796', '75.45', '37.30619812', '2023-01-18', '70.675', '388890', '442683', '75.22', '55.16', '38.9', '10.817451', '37.269103', '60.2', '180.25', '-121.850262', '37.36443', '22.5425', '48.7775', '54.245', '19.234545', '13:57', '-122.108079', '-121.847442', '94.625', '253.6', '445.96', '456983', '87.5275', '192.55', '437651', '481830', '37.32672882', '22.79', '430171', '227.76', '37.33976364', '314.92', '19:00', '-121.8134232', '37.43306961', '37.39896774', '16.409792', '12.598922', '40.065', '-121.879135', '37.325858', '-121.8605728', '464269', '-121.913528', '431168', '-121.9667892', '450718', '4.5', '131.2725', '-122.059423', '08:45', '-121.8070526', '101.92', '-121.879163', '37.350337', '34.2652092', '481655', '37.41511917', '-121.9168549', '2022-07-27', '42.5225', '282.12', '2.517796', '6.514456', '37.390236', '37.326267', '17', '135.4', '37.35974121', '37.333161', '37.34238434', '484883', '12:15', '488420', '6.414415', '37.35144806', '37.41765594', '37.45004272', '81.34', '-121.9482117', '-121.9148788', '0.828288', '9.597699', '15.539872', '7.887686', '-121.856096', '-121.8572235', '201.0', '37.240995', '37.3783989', '254.66', '5.530825', '2022-09-23', '261287', '85.92', '8.295927', '437.48', '52.52', '127.65', '164.2', '37.32752991', '15.705', '2021-12-09', '6.326801', '-121.9528474', '37.34723663', '37.284182', '2022-05-20', '1.204217', '11:25', '-121.800274', '2022-05-23', '340.16', '37.12731934', '30.5975', '472150', '14.237478', '37.422703', '13.497425', '16:40', '-121.8491516', '108.5', '224.7225', '37.40326309', '32.195', '98.4', '13.164991', '9.528106', '218.45', '-121.8706665', '111.9425', '3.123012', '104.28', '37.35015106', '-121.8457413', '4.278762', '51.95', '-121.5663071', '10:27', '488876', '-118.7873535', '463376', '196.92', '1.559642', '199.64', '83.16', '242.88', '16.998852', '7.369462', '-121.8692703', '486533', '-121.8949127', '2022-12-29', '198.8925', '37.29782867', '62.0', '498657', '498531', '282.85', '7.808772', '85.68', '37.329075', '22.579386', '95.9', '290943', '2022-08-05', '37.321575', '-121.885512', '73.955', '37.4776535', '1.306744', '192.84', '-122.076815', '52.13', '25.85', '30.35', '206.25', '82.195', '31.0025', '37.272817', '2023-02-07', '2.204625', '37.435506', '193.36', '137.91', '1.235907', '37.35316086', '55.375', '158.0', '65.825', '5.080952', '99.44', '37.322437', '108.79', '37.251942', '37.30512238', '64.44', '-121.5635605', '37.359942', '496579', '2022-02-09', '34.2425', '31.7', '68.9175', '26.975', '214.6', '50.7825', '37.226209', '-121.879368', '-122.16861', '445104', '86.335', '37.29574966', '65.9375', '10.58133', '454372', '488476', '338323', '-121.891468', '41.9825', '85.2', '37.39950943', '0.920251', '15.087514', '37.2454899', '56.825', '11.645739', '99.72', '490953', '37.249709', '73.375', '308.4', '447696', '183.45', '42.815', '246.08', '303.6', '75.4', '98.9375', '14.868791', '428677', '2.745218', '37.342859', '37.30178833', '19.175', '61.24', '188.84', '-121.8564682', '99.8375', '436651', '47.5175', '7.079282', '229.0425', '2022-09-13', '290.85', '1.393114', '-121.951642', '16.203497', 'SC108', '215.35', '-121.927333', '60.065', '10:15', '5.77316', '2023-01-21', '37.36700439', '73.1275', '282.56', '2022-01-04', '85.39', '34.183884', '37.35818863', '114.62', '-121.8004227', '318.35', '39.89', '297.34787', '448098', '145.04', '-121.9208069', '9.85619', '2023-02-15', '163.6', '100.2425', '494547', '201.255', '75.14', '388494', '137.5475', '81.62', '1.176877', '88.9', '77.84', '18.91081', '452813', '141.69', '2022-02-10', '-122.030014', '480037', '7.750363', '84.9', '135.16', '-121.908038', '494016', '27.1', '50.015', '422285', '388993', '75.77', '08:58', '21.875', '-121.8922043', '77.805', '37.255799', '10.312898', '11.509659', '5.069146', '-121.801024', '-122.01453', '14.7375', '37.364299', '-121.924667', '484466', '31.8575', '3.584069', '162.32', '207.44', '57.95', '24.815', '37.250832', '2022-07-19', '6.248509', '37.326675', '-121.852258', '52.76', '37.372727', '-122.1418915', '-121.950707', '42.2525', '0.851279', '75.005', '127.13', '96.04', '37.263292', '10.401132', '35.6375', '259.76', '83.68', '09:40', '66.77', '97.04', '486100', '37.34605789', '-122.1583481', '9.409424', '-121.981845', '79.675', '136.95', '37.27675629', '07:50', '47.475', '2.295345', '9.673507', '129.8', '495807', '1.614944', '-122.069427', '470507', '14.668088', '104.32', '-121.94716', '170.3', '37.23026657', '7.859103', '8.586729', '13:35', '1.05136', '94.3', '37.262116', '0.43496', '126.66', '43.45', '164.48', '233.25', '2022-01-20', '3.085108', '34.04', '469461', '0.67046', '72.76', '31.3625', '44.9075', '-121.969598', '454136', '26.298292', '464102', '145.12', '114.12', '180.16', '2022-12-24', '13.370665', '13.319092', '2023-01-12', '37.442391', '37.30309', '35.3225', '17:45', '188.6', '52.265', '4.679546', '432281', '78.425', '2022-06-10', '-121.911629', '6.412551', '207.85', '209.1975', '100.355', '37.31994247', '435946', '310230', '6.33053', '455573', '22.701797', '10.937376', '11:40', '9.436764', '37.38121033', '-121.8917007', '97.92', '-121.8191528', '-121.8674927', '106.24', '11.535756', '62.7975', '12.59768', '136.8', '2022-05-14', '11:50', '28.4825', '75.86', '70.8', '37.269935', '75.4775', '37.4852386', '2023-01-07', '13.773935', '23.170933', '491458', '8.795509', '-121.9526978', '100.805', '21.4625', '-122.263092', '61.4', '114.89', '-121.6558914', '37.30105591', '2021-12-26', '49.115', '429211', '65.9825', '82.6325', '233.4', '418.6', '228.57', '-121.8538132', '463143', '2022-10-08', '2022-11-19', '21.0125', '3.404493', '-121.8480225', '434321', '437.64', '33.56100082', '4.688867', '37.36489868', '132.56', '76.93', '-121.914344', '29.125', '48.15', '409.32', '204.36', '92.44', '-122.0697098', '43.89', '23.9825', '81.7', '-122.08132', '37.382395', '451.16', '17:55', '456462', '2022-10-13', '159.88', '-122.1736502', '38.2925', '-121.853417', '22.7', '-121.787519', '44.8175', '450440', '-121.858215', '-121.938575', '5.22946', '6.566029', '1.289967', '2.832831', '12.430531', '150.4', '85.345', '456964', '-121.8505249', '10.25511', '13.539057', '12.099961', '9.90155', '4.370725', '436248', '-121.659084', '473364', '2.615351', '9.878559', '37.329692', '30.4175', '64.6', '439288', '41.5775', '5.488572', '37.477653', '29.4725', '37.301917', '4.804442', '19.950365', '2021-11-27', '37.2519668', '37.4068222', '2022-06-03', '1.33222', '4.478844', '46.1175', '37.24311066', '14.989337', '149.36', '390535', '41.96', '-121.8917009', '289.05', '85.08', '-121.826913', '6.697139', '37.361163', '100.22', '-121.934107', '13.399248', '37.326735', '206.0', '37.41426086', '388566', '73.24', '37.393067', '46.3925', '2023-01-24', '75.355', '93.085', '72.8', '467.32', '81.5375', '112.2', '37.342148', '37.262961', '138.0675', '205.125', '440924', '6.223032', '06:00', '2022-05-17', '37.41512', '47.7875', '37.256957', '52.275', '-122.0206451', '78.0425', '68.925', '41.15', '8.817879', '80.95', '-121.9441648', '37.342514', '-121.8036041', '213.0675', '12.115496', '-121.934751', '5.349385', '143.9175', '37.12400818', '445536', '37.30013657', '-121.814151', '462587', '37.48573303', '496787', '2022-02-07', '29.405', '2022-06-17', '-121.951125', '5.701081', '2.159265', '19:45', '47.5', '37.45663452', '260.0', '9.589622', '2022-10-27', '37.250773', '3.635643', '4.681411', '37.3331604', '257.2', '96.975', '19', '92.84', '438134', '2023-02-14', '80.68', '-121.853689', '37.3239305', '9.66605', '2023-02-10', '198.24', '25.175', '37.31228256', 'SC101', '2022-02-12', '12.885374', '80.485', '173.825', '2021-12-20', '2.528981', '388526', '37.322655', '13:43', '-121.9719772', '97.0475', '52.9425', '5.24748', '9.640574', '9.493309', '1.76283', '-121.9442732', '6.165', '261.92', '-122.169397', '66.0', '23.071512', '3.194469', '2.016971', '71.625', '16.83481', '-121.9139557', '61.32', '14.79', '8.187808', '-121.948869', '13.59498', '299.32', '87.72', '8.07', '490868', '-122.0273514', '489974', '68.6375', '5.450668', '-121.8171997', '-122.2229141', '390537', '-121.7651443', '73.7975', '167.32', '13.0', '4.176236', '-121.8551115', '33.22161', '82.015', '153.955', '0.347346', '1.307986', '64.48', '-122.055809', '436173', '481674', '37.305172', '465632', '1.644148', '64.925', '34.625', '15', '122.1325', '37.32884979', '3.332414', '310.08', '388488', '87.145', '12.016697', '91.24', '1.633585', '37.32009125', '434.4', '417084', '79.2925', '-121.8397293', '5.592341', '265163', '2023-03-06', '2022-10-20', '37.345023', '55.92', 'SC107', '37.34137', '12.054601', '-122.0141068', '14.661253', '37.33110276', '73.5325', '485895', '1.04701', '58.835', '156.3', '191.88', '12.346024', '3.246043', '-122.175055', '151.56', '8.982542', '2023-03-07', '66.12', '2022-04-02', '103.8875', '3.347327', '5.957707', '104.855', '27', '1.414862', '75.1075', '37.2531345', '476292', '37.31562805', '28.8875', '16.550222', '63.475', '36.875', '7.132099', '481822', '482964', '3.432454', '94.56', '52', '-121.803481', 'STR', '455010', '2.272976', '79.9', '258.24', '33.275', '125.49', '1.634828', '37.25196838', '2022-07-05', '11.521465', '195.64', '443.92', '4.26882', '441665', '37.29084396', '70.28', '-121.8757935', '-121.852313', '49.7', '85.4', '-122.444407', '-121.9976654', '65.05', '388702', '37.365158', '210.165', '193.44', '10.868404', '13.603058', '106.16', '57.0375', '18.95', '471517', '04:46', '0.676673', '493371', '37.376552', '37.352643', '37.30662537', '5.043049', '14.676788', '168.44', '-122.087077', '37.31129777', '7.195478', '-121.566304', '51.3225', '27.345303', '150.52', '483401', '37.256263', '149.44', '3.531874', '37.262743', '149.8125', '493632', '93.535', '91.015', '469.04', '423196', '-122.065097', '9.382705', '662.073', '10:05', '425.64', 'SPNSTR', '-121.857753', '196.0', '222.8325', '303.4', '200.2', '0.748752', '13.210352', '8.920405', '37.24755', '388690', '144.4575', '207.195', '92.88', '56.632393', '151.92', '481753', '482625', '67.2225', '91.825', '3.731955', '427064', '2022-03-08', '14.987473', '37.40409851', '2023-01-19', '124.025', '1.723062', '8.355578', '31.7675', '13.60368', '220.28', '-121.979049', '-121.899392', '0.600866', '3.2535', '346.92', '388852', '48.85', '52.08', '7.225926', '2.405949', '217.275', '2022-12-09', '439.76', '141.7125', '204.32', '84.4', '12.891588', '8.453755', '-121.9822311', '391099', '2.931008', '-121.874955', '162.55', '7.618632', '37.310112', '484288', '53.625', '13:28', '37.362844', '2.661954', '76.8', '27.873468', '410.08', '52.72', '37.325106', '-121.7421799', '101.075', '413.0', '115.24', '37.4587833', '124.745', '59.705', '427.32', '17:20', '415881', '90.035', '-121.940134', '7.700653', '37.34225845', '448052', '319.04', '204.2', '117.5675', '4.914425', '69.875', '8.159846', '-121.798111', '50', '5.953979', '37.435965', '8.643895', '67.32', '6.935124', '532.88', '52.11', '0.976174', '479097', '-122.050802', '-121.9510651', '2023-02-08', '36.55', '486503', '-121.9681625', '8.645759', '139.9575', '-122.0225754', '298.75', '37.3234355', '2022-05-18', '2.996252', '-121.797148', '100.895', '2022-12-10', '492679', '85.795', '110.8825', '2111.185', '131.25', '123.24', '67.1525', '197.92', '12:55', '75.175', '34.85', '-121.994741', '198.8', '49.61', '81.12', '7.342122', '37.448482', '28.773214', '212.145', '-122.0304489', '57.7925', '115.9025', '37.67458344', '166.4', '172.225', '7.099787', '47.281376', '37.35707474', '5.599797', '48.95411', '5.431406', '2022-08-01', '2022-06-09', '449557', '4.340899', '60.785', '5.328879', '-122.504692', '9.31684', '13.453308', '4.066874', '202.72', '-121.800626', '2022-03-12', '41.4425', '8.661293', '137.0', '21.9125', '497812', '485068', '37.252506', '46.325', '-122.1483078', '53.8', '108.995', '177.825', '9.142234', '-121.799353', '15.66', '492812', '166.12', '09:05', '19.673855', '37.482689', '-121.972022', '388487', '7.788267', '211.4', '3.754325', '-121.828355', '107.51', '-121.877709', '71.3375', '02:15', '13.996386', '13.402977', '-121.8460846', '169.36', '37.253341', '10', '89.37', '9.317461', '37.775', '134.1975', '42.5675', '2023-02-02', '-121.857872', '0.874269', '2023-01-17', '37.32196426', '5.212683', '2022-07-16', '108.7025', '37.323925', '20.28', '463419', '75.9', '-122.0588913', '2022-02-28', '214.0125', '-121.8116608', '59.2325', '5.228217', '102.2', '08:16', '-122.120429', '2022-06-15', '3.559836', '11.755722', '78.9775', '-121.8007', '131.7675', '10.628554', '13.838558', '460028', '115.6', '10.069942', '2022-02-17', '26.146057', '157.2375', '499482', '-122.0791626', '471030', '71.0675', '80.9575', '6.367191', '83.4', '425974', '436.6', '2.923551', '14.430103', '7.08301', '75.6475', '2022-03-14', '137.1225', '12.28078', '-121.8801072', '165.7', '492362', '37.239814', '10.598107', '58.1525', '37.318607', '-121.9243088', '113.24', '-121.949148', '441.6', '4.384395', '453309', '132.1275', '100.9', '2022-09-24', '22.852167', '392.2', '-121.958921', '32.0825', '255.08', '04:45', '2022-03-22', '2.439503', '91.96', '56.7', '194.48', '482417', '198.6', '93.36', '88.54', '-121.88009', '-121.944458', '7.209149', '0.451115', '14.625', '-122.058888', '5.957086', '479443', '9.010504', '4.765296', '-121.8352737', '37.3184166', '37.240816', '10.815587', '-121.7954025', '37.30191803', '12.324898', '2022-11-09', '13.594359', '-121.934817', '-121.947091', '37.26219559', '-122.049488', '15.007357', '2022-10-17', '2022-11-14', '201.4', '202.3125', '-121.948511', '37.343994', '199.55', '37.31735992', '37.2883606', '2.322686', '-121.931266', '37.3645134', '57.625', '77.605', '240308', '11.339403', '2022-12-06', '78.505', '2023-01-25', '12.6', '388896', '37.33657074', '13.346432', '77.72', '-121.8778381', '199.14', '3.008058', '48.525', '2022-10-19', '12.347267', '24.005', '430781', '-121.8491211', '29.6', '-122.1333084', '427699', '37.25695801', '471515', '4.913803', '37.435529', '2021-12-21', '5.167944', '135.52', '17:15', '77.2', '2.162372', '110.48', '135.44', '-121.8844757', '37.3646965', '7.8525', '-121.94924', '3.209382', '2022-01-22', '-122.0222244', '37.336334', '10.547776', '27.38', '9.368413', '-121.9255905', '-121.8949122', '37.434301', '13.342082', '437.16', '490998', '08:15', '37.25297165', '32.5775', '5.27917', '74.725', '117.76', '282.32', '156.5375', '468051', '37.343521', '486078', '35.75', '17.37478', '-121.8269119', '309.52', '37.252972', '-122.0791651', '80.665', '3.4076', '152.4', '414417', '5.210197', '45.9375', '340125', '-121.8381042', '54.9125', '239.56', '104.64', '224.96', '93.9625', '37.394384', '284.48', '243.08', '96.12', '2022-05-06', '5.702323', '24.95', '37.24549484', '5.893706', '3.056525', '456617', '209.6475', '37.308179', '2022-01-17', '388888', '37.31605559', '100.8', '56.745', '63.56', '471511', '66.95', '39.0575', '83.995', '101.56', '37.35324097', '116.9825', '37.367072', '55.34', '78.75', '25.729738', '-122.177413', '37.35700607', '232.6', '81.6325', '5.051748', '27.245', '9.503872', '2023-01-02', '12.36218', '60.4', '2022-03-25', '76.7725', '2021-11-26', '98.2825', '2023-03-13', '2021-12-29', '468046', '54.47', '488559', '1.712499', '73.6', '168.12', '469330', '37.23557281', '437895', '3.687217', '14:40', '-121.8212509', '69.92', '2022-08-11', '4.677682', '2022-06-14', '54.9975', '37.33658981', '490730', '130.68', '22.655', '37.301754', '2021-12-01', '2.11639', '09:35', '37.36439514', '37.387683', '37.241191', '4.731742', '296.7', '2021-12-13', '2022-10-25', '37.282785', '56.0', '-121.9384537', '2022-09-28', '37.3819633', '204.08', '-121.8468704', '26.435', '94.525', '37.371524', '223.035', '2022-06-02', '137.96', 'SC110', '5.069768', '48.2825', '432.12', '-121.8270264', '137.3', '37.253472', '415.92', '83.6575', '291.72', '489740', '2022-07-30', '2022-12-22', '116.6675', '7.425', '82.88', '91.35', '37.350788', '467562', '37.40153122', '104.36', '-121.848923', '14.584825', '296.5', '2', '37.342631', '9.492066', '170.88', '2021-12-17', '5.185343', '2022-09-29', '0', '07:15', '4.183071', '4.283112', '-121.8006', '14.911045', '96.56', '2023-01-03', '106.1825', '62.6325', '10.3682', '473755', '36.2', '-121.8353577', '20.0', '114.0125', '57.2375', '471258', '71.64', '2022-08-10', '77.9425', '201.95', '2.207732', '0.904716', '251.08', '0.63442', '2022-04-22', '37.2932073', '2.027534', '94.6', '86.2', '-121.9990997', '37.299656', '2022-11-10', '197.5425', '-121.966122', '9.646166', '67.715', '10.460163', '2022-08-27', '483825', '37.22615433', '2022-05-16', '207.56', '37.32369995', '11.555019', '464088', '37.201643', '2022-08-20', '178.52', '11.784926', '-121.933504', '15.218002', '12:20', '263.0', '37.32768631', '13.690671', '37.32172775', '60.1125', '388811', '251.4', '89.56', '388867', '37.352802', '73.84', '37.368295', '-121.979125', '-121.8754089', '406.6', '68.4', '73.125', '2022-04-23', '99.005', '452535', '-121.882115', '37.2443161', '45.0', '37.22894287', '492697', '7.629817', '356.9672', '7.334666', '-121.951668', '127.5825', '37.261962', '37.362537', '11.919764', '11.497853', '50.0375', '1.894561', '248.8', '175.175', '6.649293', '-122.1582184', '47.0', '-121.8883286', '27.518665', '-121.8071213', '37.3985672', '3.895376', '446.36', '488349', '07:45', '65.7575', '187.1', '32.6', '129.245', '-121.913952', '9.201886', '2022-06-06', '132.4', '-121.9337045', '12.441094', '419439', '435924', '14:25', '13.020212', '-122.202977', '99.5425', '441687', '217.05', '-121.9526901', '171.92', '101.96', '143.8275', '470600', '1.059438', '2021-11-23', '-122.0417261', '2.70545', '39.62', '65.24', '37.35359192', '390527', '96.885', '438099', '37.235674', '37.31739426', '427107', '1.440338', '2.104584', '51.705', '319.2', '37.34215927', '64.43', '242.1', '-121.9317022', '431693', '-121.947181', '6.210605', '-121.949219', '-121.9372733', '6.467231', '141.76', '61.6625', '-121.8130188', '37.313512', '311.48', '65.5625', '37.3242569', '300.56', '176.0', '37.316285', '54.4575', '-121.798338', '9.550475', '14.970075', '2023-01-16', '10.853491', '40.155', '37.35889435', '3.547408', '-121.8411942', '65.565', '477457', '216.6675', '41.6', '12.544242', '66.0725', '237.55', '8.658186', '8.765683', '5.348763', '75.6925', '37.236876', '410.4', '2022-09-30', '390522', '37.31555176', '-121.810851', '459170', '499196', '37.24571609', '37.313497', '82.68', '15.21738', '2022-05-07', '-121.8167648', '279.68', '246.075', '06:15', '35.552376', '5.558165', '2022-10-06', '2022-03-19', '420031', '216.12', '5.394123', '37.33907318', '3.618866', '187.68', '159.48', '106.07', '129.81', '1.2328', '4.505563', '54.975', '23.645', '16:30', '2022-09-15', '372.08', '-121.9313812', '87.73', '37.332648', '69.2225', '462487', '-122.201687', '424843', '15.606359', '37.23058716', '37.34177017', '60.4475', '37.251936', '110.9075', '211.65', '3.219324', '37.328022', '56.447224', '14.579232', '37.43611023', '75.9725', '37.31126022', '139.56', '462296', '128.68', '42.365', '2.906774', '-121.8897095', '259.6', '2022-06-21', '10.524164', '423059', '6.738149', '37.309243', '52.9125', '37.291981', '12.546727', '120.6', '23.1725', '129.855', '61.7525', '2022-11-28', '484888', '294.3', '113.0525', '248.6', '157.6', '-121.8600922', '27.875', '-122.20298', '483417', '76.625', '24.14', '-121.934093', '2022-09-04', '-121.9615936', '202.5825', '2.153673', '-122.1578217', '-121.8180008', '7.450862', '56.4425', '90.9025', '-121.8921814', '11.70974', '12.342296', '2.551971', '37.33657455', '2022-09-27', '47.9925', '-121.8365326', '37.38211441', '37.364767', '426358', '-121.9232407', '-121.9509048', '45.2', '37.326284', '38.27', '8.368006', '65.92', '37.2532', '37.328628', '37.247713', '181.24', '115.2', '5.345035', '14.19771', '101.2325', '1.796384', '37.782429', '74.815', '15.805819', '16:35', '12.616942', '8.663157', '455403', '37.321224', '26.122444', '2022-10-26', '13.69005', '-121.8558655', '85.075', '173.12', '37.320807', '3.927687', '-122.19284', '37.35954285', '490818', '-121.8905563', '2022-04-09', '37.30254364', '3.630672', '171.12', '388916', '104.56', '75.7825', '42.995', '230.4825', '486201', '113.72', '11.109496', '6.417522', '76.57', '268.4', '542.2', '63.89', '3.753703', '135.7925', '250.9', '7.865317', '37.266979', '37.27708435', '254.4', '2022-11-24', '253.7925', '2022-10-05', '96.3', '37.35078812', '2022-04-01', '9.52562', '2022-12-01', '300.52', '-121.944313', '37.457545', '37.308163', '37.674878', '2022-01-06', '445.2', '18:30', '21.514978', '470722', '146.4', '-122.1966019', '33.815', '209.48', '2022-12-12', '7.086738', '154.48', '2022-05-13', '35.21', '485958', '71.17', '441.52', '37.343337', '141.285', '2021-12-11', '416.24', '-121.962738', '12.938191', '37.31351089', '-122.0461502', '12.456007', '05:20', '-122.082857', '-121.8075562', '2.757645', '475942', '5.915454', '6.95128', '2022-03-16', '37.32165527', '217.185', '37.2933197', '37.54439163', '15.810169', '97.54', '-121.8600986', '47.225', '226.72', '3.513854', '223.6875', '13.199788', '37.366923', '9.710789', '16:20', '21.14', '66.825', '55.5725', '199.5675', '475647', '49.7675', '35.57', '65.06', '2021-12-04', '37.31606569', '450383', '63.3', '84.625', '10.430958', '-121.9451904', '5.044291', '13.4325', '37.30635834', '3.595875', '256.52', '37.27820969', '29.607096', '40.925', '83.285', '218.3325', '37.29909897', '448411', '56.7675', '135.56', '485527', '09:07', '364.05', '10.290528', '14.239342', '0.577254', '206.475', '37.296471', '17:00', '12:30', '99.76', '-121.8529867', '37.30985641', '14.72774', '23.785467', '0.026719', '38.63', '2.957106', '13.805625', '9.891608', '205.04', '63.305', '251.52', '496597', '444913', '67.9625', '37.378166', '2023-01-10', '37.4176445', '08:43', '2023-02-21', '83.96', '104.08', '480718', '1.290588', '-122.059967', '2022-08-22', '-121.8183441', '37.35599038', '81.8575', '14.988716', '-121.9573808', '9.078233', '2022-06-08', '139.125', '24.59', '105.04', '4.270063', '1717.64', 'SC402', '65.33', '52.3775', '4.208547', '12.414996', '494474', '493966', '9.769819', '14.4649', '72.0475', '-122.187556', '229.32', '2022-06-30', '86.88', '92.1625', '460430', '150.375', '473586', '30.755', '388523', '195.52', '37.31497192', '312011', '2022-08-13', '3.397658', '351.4', '-121.9453278', '10.723624', '-121.813016', '430004', '71.4', '2.3625', '8.189051', '37.326871', '218.1975', '80.5525', '2021-11-29', '313232', '74.05', '-121.887019', '39.4625', '-121.968351', '24.86', '81.9125', '12.833801', '2.259927', '-121.950553', '491013', '37.3277', '101.165', '37.263757', '37.3021431', '37.29253769', '11.077184', '-121.9790497', '-121.966965', '420.9', '-121.972334', '468436', '-121.91397', '05:31', '442181', '131.4075', '25.729116', '-121.951941', '79.865', '2022-12-21', '37.351109', '32.2175', '2.387308', '-121.9854584', '418840', '5.722207', '37.323917', '-121.916831', '140.4975', '2023-03-08', '-121.8577499', '4.511776', '2023-01-30', '468045', '6.907784', '431512', '1.786442', '129.225', '-121.8448639', '10.712439', '30', '196.305', '-121.962473', '37.2261299', '8.113244', '0.94697', '37.23849487', '12.890967', '37.3220253', '2022-02-08', '2022-02-03', '1.804462', '38.6525', '4.917532', '37.326685', '419.68', '413.12', '133.725', '37.314208', '-121.8009033', '37.226153', '2.147459', '26.3225', '96.4625', '201.66', '3.793471', '-121.865361', '102.4', '224.72', '-121.888443', '-121.8351059', '2023-02-27', '37.35326004', '0.823938', '15.930093', '6.695896', '77.075', '12.595815', '-121.9035263', '493988', '323767', '34.9', '4.53166', '37.145', '15.81079', '278.04', '80.525', '75.49', '127.2', '09:15', '210.12', '79.04', '109.0625', '-121.944455', '150.175', '-121.9327316', '-121.80031', '152.4675', '388691', '213.2475', '84.815', '7.660264', '26.0975', '37.3655383', '6.961221', '479025', '-121.934208', '418112', '12.753022', '10.0', '2022-05-26', '37.35652924', '143.1975', 'WCH', '8.164817', '280.28', '11.0573', '95.0', '484020', '47.3625', '10:30', '15.119204', '2023-02-18', '9.591486', '-121.945913', '2022-12-23', '488899', '44.34167', '58.475', '2022-03-31', '222.225', '37.26135254', '470471', '-122.016716', '199.005', '77.465', '2022-04-25', '485022', '93.9175', '2.326414', '35.3', '131.475', '5.412143', '36.2225', '-121.940099', '196.08', '2.399114', '435925', '4.150138', '2.579933', '-122.0051041', '22.97', '10.768984', '5.698595', '10.593757', '1.336569', '25.2', '71.4125', '31.7225', '2.594225', '47.775', '320.04', '59.1225', '37.330982', '37.322465', '6.255', '8.862617', '17.241808', '78.19', '3.447367', '233.96', '5.519019', '390540', '37.29197693', '0.351075', '13:20', '-121.8684006', '142.0275', '147.92', '54.2925', '472352', '422014', '24.885', '-121.8134221', '-122.0934067', '7.62671', '37.302984', '155.2', '2.036233', '8.24746', '37.31607056', '126.165', '6.070175', '37.38162', '-122.138941', '-121.8323669', '109.1', '7.448376', '136.2', '9.641195', '154.36', '7.184294', '0.354803', '9.712653', '91.295', '05:14', '100.15', '80.225', '<PF>', '271.28', '1.281889', '217.9275', '99.4', '120.0', '45.6225', '28.73', '9.150934', '06:45', '3.97864', '-121.9529345', '177.625', '28.91', '295.64', '-121.8451485', '72.5425', '12:05', '472333', '09:25', '16:45', '7.106001', '-121.827227', '80.2025', '178.88', '133.0', '482152', '37.243691', '15.9', '391.85', '-121.902973', '32', '37.26294327', '54.575', '278.24', '36.83', '213.24', '18:15', '-121.8092194', '452812', '-121.9106827', '37.28451157', '-121.9114456', '4.379424', '300605', '424300', '86.38', '-121.8777618', '54.475', '491018', '-121.9505386', '221.7', '317.32', '105.08', '262.76', '2022-08-24', '37.33878708', '254641', '37.3112781', '114.3275', '72.655', '8.010717', '474510', '37.01804733', '2023-03-10', '-121.848823', '46.9125', '1.838637', '37.367641', '3.784772', '4.199848', '37.40116119', '6.137905', '-121.922638', '435.04', '56.24', '7.912541', '41.105', '37.325', '1.779607', '41.24', '252.6', '-121.9333878', '12.641797', '4.383774', '221.85', '388938', '481832', '15.18', '4.327229', '143.28', '45.6', '37.36913', '3.838831', '-121.904452', '451855', '69.4', '85.44', '37.38299179', '2.315229', '37.36037445', '5.294704', '-122.020642', '37.3267445', '178.8', '181.12', '33.3875', '329607', '5.353734', '122.04', '44.615', '8.346879', '-121.888092', '465631', '37.43211', '11.16', '37.452992', '-121.8266602', '-121.936818', '63.05', '428644', '37.34728241', '444839', '172.76', '-121.948879', '482149', '388484', '107.6975', '-121.8703613', '63.51', '10.4', '67.4', '-121.9373245', '15.885976', '-121.8169327', '470323', '55.8125', '471184', '31.34', '232.68', '442183', '37.42572021', '452394', '346.15', '217.95', '37.269006', '19.491793', '-121.386295', '120.64', '37.24755096', '2021-11-06', '380.36', '493195', '455712', '85.0075', '121.5975', '108.385', '-121.8646851', '37.315672', '187.72', '479814', '442184', '8.888094', '37.31449127', '30.665', '-121.8753815', '427070', '-121.6506729', '7.797587', '132.42', '73.78', '2022-07-28', '8.944017', '188.44', '-121.847445', '489253', '37.30988693', '125.4', '78.36', '-122.312779', '464486', '105.305', '32.86867', '2022-04-26', '05:43', '264.12', '37.456635', '37.360373', '16.764595', '104.45', '45.74', '428908', '37.425486', '2022-11-26', '422.8', '127.265', '21.115437', '-121.9648438', '2.015107', '177.04', '15.319285', '70.325', '-122.23983', '80.8', '37.4017868', '209.445', '-121.556192', '37.29946136', '494299', '37.269029', '-121.847262', '388537', '36.515', '485540', '25.22', '2022-11-30', '-122.017692', '23.9375', '-121.8114', '-121.850628', '3.156566', '57.9', '52.875', '53.1425', '77.03', '290.05', '66.2075', '225.0', '151.2', '130.4175', '-121.9323654', '472336', '37.30886841', '2021-12-03', '84.04', '2.035612', '-122.040634', '435427', '-121.9093323', '320.6', '37.37195206', '12', '37.465064', '50.15', '201.96', '224.0025', '470730', '23.69', '1.09672', '7.5825', '10.82615', '24.9725', '10.285557', '490589', '6.961843', '37.37659', '482393', '37.311329', '37.27862549', '37.282763', '37.35642242', '10.009047', '62.46', '41.33', '126.14', '155.8', '1.89891', '-121.77358', '94.9075', '84.8275', '101.9975', '9.856811', '08:51', '441743', '53.32', '8.507193', '297.6', '37.29918671', '13.584417', '2022-07-11', '2022-08-31', '143.6475', '10.94856', '09:52', '2022-12-02', '296803', '6.82017', '-121.9452896', '25.085', '110.04', '492904', '80.9', '496010', '<DR>', '-121.8330154', '37.42830276', '37.250796', '420.45', '52.2', '-121.8767471', '49.1375', '135.92', '101.3', '13.499289', '2022-08-03', '37.314241', '36.5825', '37.28278351', '111.05', '25.895', '57.3975', '71.35', '04:50', '2022-06-22', '37.34097672', '07:12', '-121.7974472', '125.175', '38.835', '38.95', '59.4', '3.509504', '2022-07-13', '6.310024', '214.44', '106.4', '6.731314', '37.470531', '2.74149', '10.654652', '212.775', '37.325271', '318075', '2022-05-19', '7.961629', '1.17812', '2021-11-30', '442132', '181.2', '37.2401061', '30.372623', '-121.9348145', '0.283345', '10:39', '37.353525', '3.36721', '37.32389832', '37.262977', '447896', '92.05', '37.40050888', '10.9125', '445109', '196.9125', '2022-01-18', '69.36', '-121.811386', '8.482338', '5.955843', '-121.8514328', '37.297952', '2.815433', '478881', '-121.846966', '204.855', '37.36268997', '-122.144026', '-121.882137', '39.1475', '2022-01-25', '7.103515', '29.45', '216.7125', '13.189225', '72.04', '132.195', '2022-06-29', '45.605', '-121.946351', '146.56', '2.540165', '37.13030243', '18:45', '82.9825', '17.258585', '210.705', '158.25', '295.16', '11.975687', '2022-12-16', '66.3425', '96.25', '-121.938565', '58.1975', '49.7225', '-121.948015', '75.7375', '-121.8436737', '324.35', '53.505', '198.6675', '37.36269', '-121.8479538', '69.8975', '5.448183', '-121.8031964', '79.135', '133.475', '22', '2022-11-12', '6.977998', '84.2425', '7.278742', '13.31847', '66.4', '68.085', '37.34886169', '-121.800566', '-121.951068', '129.55', '170.92', '421.64', '85.325', '3.58469', '4.101671', '12.51', '62.45', '46.425', '259.32', '-121.8831024', '15:25', '-122.0222222', '72.1325', '-121.9377899', '182.375', '401.88', '293.4', '497031', '64.4', '2023-03-14', '43.6975', '37.311219', '10.83982', '-121.938465', '52.1975', '37.12401', '429233', '50.22', '2023-01-05', '2022-06-24', '3.195091', '52.85', '37.31183243', '34.4', '82.3975', '7.891414', '31.6325', '86.615', '-121.949513', '5.376725', '54.965', '34.2649', '45.335', '218.9175', '72.43', '37.305525', '2.581797', '37.322211', '4.374453', '93.8', '54.7425', '35.975', '9.196294', '14.815353', '446.48', '2022-12-15', '37.332314', '37.3401237', '212.55', '217.995', '-122.03131', '2022-08-19', '494776', '-121.847424', '75.185', '13:25', '5.808578', '8.716595', '8.660672', '123.3075', '14.835237', '427973', '13.003435', '404.72', '5.591098', '68.12', '131.5', '431892', '28.55', '80.0', '-121.899353', '100.32', '102.68', '52.715', '-121.9314804', '4.061282', '27.976618', '37.44773865', '150.8025', '-121.8358765', '3.844424', '2.514068', '251.6', '-121.853813', '12.596437', '-122.120489', '32.32808', '447648', '37.036621', '24.76475', '46.82', '47.7425', '-121.9367735', '209.175', '10.89', '-121.908009', '78.64', '9.255324', '13.197924', '37.320746', '-122.1633835', '27.589502', '37.35297012', '494777', '37.36441422', '434557', '2022-09-02', '38.0225', '138.2475', '37.261354', '5.611603', '37.29575', '10.299849', '472286', '452395', '37.399386', '430018', '2022-12-05', '12.15', '439.56', '-121.8216782', '145.16', '199.545', '481097', '37.27776337', '3.228023', '37.24178696', '482622', '-121.966938', '176.655', '37.342306', '65.3075', '109.1975', '182.795', '470324', '58.085', '-121.9530869', '84.715', '106.7675', '1.253927', '7.833627', '05:30', '35.345', '-121.848904', '85.94', '11.18841', '08:40', '2022-04-15', '37.33231354', '249.72', '40.975', '2022-12-07', '2022-09-05', '10.455192', '146.4125', '-122.0803223', '62.255', '71.48', '2022-03-30', '40.835', '493323', '2022-04-06', '254.64', '2022-09-12', '82.105', '92.0725', '388483', '19.563871', '81.9475', '428231', '15.109262', '20.246138', '37.3233552', '192.44', '4.115341', '4.05', '-122.141983', '-121.8120956', '2022-12-13', '250.4', '10.459541', '8.945881', '419443', '0.301365', '4.50432', '37.364304', '-121.9029541', '12.290101', '128.73', '8.965144', '7.270664', '2021-12-14', '7.667099', '137.46', '89.125', '121.7775', '419035', '417094', '91.4425', '63.8', '76.1525', '18.170757', '0.869298', '6.240431', '37.34503174', '15.052717', '37.25334167', '425970', '2022-01-21', '6.218062', '2023-02-28', '-121.8368073', '472180', '388684', '2022-05-21', '14', '-121.886627', '-121.860576', '420587', '1.692615', '2022-01-24', '37.32674408', '37.31420898', '56.375', '37.32629', '99.025', '-121.825063', '440925', '59.145', '2022-07-20', '2022-11-21', '9.937589', '2023-02-25', '246.04', '37.31436254', '107.195', '82.51', '6.875472', '50.4', '248.48', '85.6', '-121.8880463', '30.3275', '89.2825', '37.329043', '77.15', '57.44', '178.44', '9.855', '8.282878', '481221', '478038', '388479', '232.25', '05:53', '37.357334', '128.8375', '250.6', '39.5525', '2022-07-22', '34.8725', '48.35', '-121.947186', '-121.8320389', '323.6', '37.243765', '102.0', '65.1', '-121.8871307', '19.878286', '159.6', '10.883316', '9.851219', '388525', '37.320418', '2023-02-01', '429475', '262.2', '538.64', '27.02', '-121.970319', '1.862249', '37.30517197', '37.342815', '102.45', '16.620438', '37.3458252', '388496', '37.013079', '154.02', '25.181688', '21.78403', '89.08', '497212', '15.29878', '5.517776', '58.16', '210.04', '105.89', '-121.931483', '178.36', '10.406103', '7.189886', '-121.8273468', '6.762383', '3.365346', '37.327848', '188.2', '24.2525', '37.369821', '171.48', '37.362043', '84.58', '8.618418', '420112', '86.8', '-122.1031265', '100.2', '93.2', '-121.9759248', '135.88', '89.4625', '-121.83335', '14.635156', '388994', '4.403036', '52.1075', '27.8525', '37.31269117', '1.417969', '12.346646', '57.8375', '37.42575836', '11:28', '-121.9315708', '465129', '-121.916852', '-121.7965317', '-122.2024912', '-121.8027039', '235.92', '5.07536', '51.87', '13.199167', '37.04709625', '45.9', '473373', '4.965377', '-121.93492', '37.3219597', '55.56', '-121.9516907', '5.241266', '437652', '170.04', '3113.49', '37.276837', '-122.1942291', '388708', '2023-02-23', '10.029552', '79.1225', '114.48', '471470', '207.6', '388627', '37.34502411', '12.79279', '41.4875', '110.66', '182.68', '2022-04-29', '14.788634', '-122.0236567', '7.529776', '6.5475', '37.435919', '37.4191246', '-121.9653033', '11.636418', '33.395596', '37.372734', '6.925182', '-122.006528', '37.15', '25.76', '37.319403', '480688', '0.595895', '63.075', '35.075', '415.48', '13.602437', '430467', '58.4', '37.41714096', '62.84', '37.37517929', '2022-06-07', '1.393736', '257.28', '122.3625', '232.2375', '489467', '22.937918', '83.5', '4.64475', '-121.865942', '44.43', '8.241867', '-121.8092041', '476534', '-121.966881', '2022-01-02', '101.44', '196.4175', '12.423696', '92.9275', '40.9475', '39.49', '35.93', '12.595194', '37.25832367', '92.995', '37.24677277', '8.044893', '45', '149.32', '2.8639', '44.525', '185.56', '90.565', '49.725', '0.872405', '-121.931383', '11.410861', '47.72', '63.45', '-121.7651423', '6.251616', '478592', '83.915', '10.194216', '37.247209', '37.30604935', '71.9125', '5.900541', '7.537854', '89.6', '480956', '3.43494', '294773', '2022-12-27', '469798', '53.6825', '2.933493', '37.35317993', '-121.94998', '13.655875', '9.632496', '419262', '4.591933', '88.84', '2022-09-19', '-121.964842', '94.32', '14:50', '440461', '452097', '4.820598', '37.302134', '150.0', '96.6', '477852', '37.35350418', 'SC109', '0.388357', '211.24', '91.375', '73.025', '152.52', '101.95', '9.28515', '-121.94529', '473264', '-121.8773575', '16.425', '14.443773', '-121.874813', '7.777703', '11.7675', '26.8625', '2022-05-25', '43.73832', '-121.890558', '179.45', '328.96', 'SC106', '171.075', '12.487697', '2022-04-28', '2.566884', '123.7775', '37.39934158', '27.676495', '-121.8765259', '37.3207582', '20', '-122.0167313', '58.8', '6.60269', '-121.9653015', '-121.850267', '-121.834602', '2.213946', '2022-03-07', '143.625', '-121.878308', '-121.9797363', '285.92', '-121.951594', '31.07', '110.28', '425160', '2023-03-05', '-122.0795593', '495521', '37.31490707', '7.256373', '44.925', '-121.8914642', '6.014252', '388873', '76.3225', '0.201324', '496776', '493895', '37.32690048', '37.485471', '-122.0673904', '325.9', '25.7825', '2.712907', '37.2830162', '-121.9121017', '91.84', '-121.928093', '118.12', '1.389386', '204.66', '12.119845', '463414', '545.72', '463789', '9.490202', '7.106622', '72.68', '279.8', '452997', '10.172468', '36.6275', '2022-02-11', '14.0625', '77.965', '8.84584', '-121.932663', '2.455659', '350.56', '120.585', '34.58', '3.975533', '37.315712', '31.1825', '37.42672729', '-121.8375702', '2022-05-09', '227.4675', '9.442978', '80.4', '140.16', '37.34396', '191.84', '79.1', '-121.844866', '2022-05-10', '17.60966', '-122.1719166', '143.4225', '37.32408905', '37.36276045', '213.6525', '8.581136', '37.259679', '428211', '37.32157135', '80.48', '-121.8114014', '80.53', '1.956698', '-121.8062439', '11.8', '2022-10-29', '05:45', '49.56', '247.68', '65.2', '7.339637', '19.344528', '6.136662', '58.625', '36.431614', '89.395', '-121.849642', '32.375', '37.3440656', '472512', '2022-07-26', '76.975', '80.305', '242.04', '2022-08-18', '-121.9385681', '494496', '16.995123', '76.21', '1.44096', '-122.0142746', '32.825', '60.7925', '-122.177406', '8.760091', '86.2675', '452077', '-121.9509354', '4.623002', '1.623022', '438.0', '0.647469', '-121.95575', '95.56', '3.666711', '73.825', '203.4375', '8.658808', '188.0', '21.953045', '37.26902771', '121.6875', '13.209109', '37.73', '499716', '31.044327', '2022-05-03', '37.440221', '08:55', '-122.0043716', '37.33909225', '35.8', '388498', '164.08', '-121.797944', '7.758441', '13:05', '243.52', '240.0', '37.251579', '13.498046', '2022-03-24', '-121.7675247', '2022-05-04', '32.239845', '37.308869', '31.6775', '37.47801208', '37.02638245', '2023-01-27', '-122.1013718', '487083', '37.365309', '85.28', '311.92', '225.825', '31.4075', '485930', '3.365968', '51.2', '99.35', '37.366371', '42.3425', '478719', '427983', '438676', '476751', '27.965', '42.4325', '104.4725', '37.825', '-121.9381777', '485738', '176.92', '22.025', '388632', '23.8925', '9.372142', '8.072855', '6.04532', '6.683469', '127.3', '-121.914963', '21.44', '428872', '37.2925394', '18.126019', '96.4475', '32.51', '472343', '432.0', '427780', '388518', '123.12', '478323', '128.36', '37.250221', '-121.858136', '433.04', '4.74914', '170.28', '-121.895877', '11.216993', '18:40', '5.230703', '96.6175', '10.596864', '98.195', '210.08', '59.5025', '37.82153', '46', '37.44995499', '21.35', '35.375', '-121.789448', '2023-03-04', '18.790264', '6.048427', '296.48', '39.75', '37.362969', '37.30719376', '9', '71.6', '2022-10-12', '498536', '244.32', '-121.825076', '25.2425', '221.3475', '-121.997478', '-121.8153305', '463737', '21.125', '18.101786', '1.568962', '0.65244', '10.34583', '2021-12-02', '12.899666', '-121.8480759', '63.35', '63.5075', '-121.857227', '7.344607', '-121.949935', '84.6475', '32.3075', '35.9075', '130.48', '96.9575', '53.3225', '6.597719', '86.6375', '9.291363', '-121.8071289', '0.395813', '137.1675', '2022-10-24', '77.875', '25.543327', '-121.8272247', '-121.951895', '12.33049', '16.546494', '37.4375', '-121.9373322', '86.75', '09:20', '5.212062', '39', '5.074739', '49.025', '37.29574585', '15.365888', '83.51', '268.52', '56.92', '495606', '476006', '7.629195', '4.848559', '-121.81604', '1.177498', '437377', '452763', '37.3990318', '0.628206', '489524', '8.747042', '2022-11-04', '-121.8501587', '37.3275528', '9.616962', '37.34256', '37.293321', '1.140216', '388497', '2022-07-31', '-122.030681', '7.082389', '18.812014', '81.7675', '406.88', '469261', '29.21501', '37.40781403', '82.2625', '472531', '120.245', '6.211848', '37.427723', '208.32', '-122.0791321', '7.314782', '137.5275', '4.705644', '2.140002', '37.26337863', '10.507387', '-122.105277', '37.29776764', '9.935725', '8.228819', '158.8', '37.2728157', '8.625875', '05:58', '42.0275', '37.353181', '124.5675', '2022-08-04', '37.23045519', '421842', '5.169808', '13.197303', '5.432648', '8.376705', '2022-08-06', '8.322646', '2022-05-12', '37.3262825', '-122.177103', '-121.586234', '102.245', '57.15', '82.42', '498275', '-121.8113861', '461812', '45.065', '1.99833', '37.34201431', '184.36', '37.377307', '140.42', '-121.9492874', '5.234431', '71.92', '70.63', '-121.824792', '251.655', '37.43690109', '-121.9009552', '178.7925', '339875', '104.0', '54.3675', '9.337966', '99.64', '449.16', '237.72', '9.035359', '2021-12-06', '37.31127167', '451.32', '234.56', '5.421464', '463305', '57.195', '127.7175', '37.250783', '74.8475', '459180', '6.532475', '-121.9348076', '449937', '77.75', '50.25', '433453', '37.302544', '9.858675', '34.660084', '498000', '78.44', '37.294478', '37.33240509', '9.114894', '-121.8141861', '248.4', '9.592107', '0.635663', '-122.082307', '298.4', '18.678417', '495655', '37.332157', '27.5825', '37.32189178', '-121.9619133', '83.32', '47.9', '3.379638', '245.52', '-122.0713806', '-121.810791', '87.91', '434955', '88.2925', '39.6225', '106.8', '-121.79698', '56.915', '458562', '-121.9318183', '80.1475', '37.308103', '10.379384', '35.1875', '200.825', '418.52', '391.5', '10.860326', '388698', '108.32', '37.369009', '215.43', '37.318903', '96.0', '13.41354', '24.05', '138.8775', '63.0', '6.548631', '2022-10-21', '112.44', '15:40', '38.36', '37.35033035', '31.8125', '37.328441', '1.390007', '-122.0330048', '82.115', '249.68', '37.320332', '37.390629', '7.043242', '22.52', '101.2175', '2023-02-09', '14.821567', '30.7325', '2.742111', '37.245493', '1.733004', '282067', '8.448784', '-121.824018', '443337', '476007', '85.76', '8.330724', '2023-02-13', '27.518045', '142.05', '169.56', '5.075981', '7.378162', '468671', '10.824908', '54.3375', '89.35', '-122.076942', '486353', '58.8725', '50.915', '193.65', '477833', '-121.850529', '58.76', '37.35115051', '37.38275146', '499438', '178.955', '11.833393', '-121.8023911', '14:30', '20.63', '186.65', '492158', 'SC103', '28.652046', '409.6', '43.35', '19:30', '446806', '8.164196', '34.175', '223.125', '-121.999522', '37.30213547', '252.825', '303097', '2022-08-02', '465095', '422718', '17:05', '88.6', '36.983382', '31.475', '39.3275', '-122.026659', '440694', '70.92', '47.0475', '10.754693', '5.290354', '2023-01-11', '26.134872', '2022-09-16', '37.38992', '23.910986', '61.725', '439484', '37.25159836', '93.125', '2022-09-26', '88.0225', '29.135', '5.921046', '-121.8614044', '2021-12-23', '9.369656', '31.9475', '-121.914535', '58.5', '440892', '200.715', '55.0', '99.1175', '2022-08-16', '63.125', '84.88', '63.1925', '141.6675', '-121.8475571', '488174', '2021-12-28', '2.096506', '37.3341293', '37.7525', '123.6675', '83.0', '183.4', '25.49', '-121.833423', '426509', '3.492727', '284573', '18.910189', '71.8', '461620', '47.99', '-121.8002777', '57.9275', '-121.8348397', '28.9775', '39.17', '227.96', '70.68', '59.9975', '69.3', '230.8', '406.8', '37.259313', '-121.784935', '-121.9233551', '73.12', '2022-08-25', '224.3', '50.8', '460376', '-122.079787', '96.155', '10.935512', '37.36575317', '37.332112', '51.12', '37.366524', '83.0725', '100.3325', '-122.161123', '2022-07-14', '96.4', '14.385364', '88.27', '2023-01-13', '2.57869', '7.615525', '10.521057', '2.002679', '182.1', '37.255366', '480556', '492688', '59.85', '2.717878', '5.671876', '37.28503036', '300230', '86.4925', '2022-09-21', '37.31300735', '187.32', '101.0', '37.31797791', '-121.829656', '12.912715', '117.32', '7.975299', '496596', '11.520222', '-121.848909', '428209', '480625', '74.6', '-122.0348358', '37.302545', '37.42523575', '177.72', '426890', '37.23431778', '8.172895', '68.075', '201.56', '5.131905', '37.381414', '37.3829433', '2.384201', '2022-11-23', '37.38196182', '173.6', '437387', '117.815', '163.64', '196.6', '37.32392502', '37.465453', '419128', '2023-01-31', '73.69', '7.331559', '422720', '5.512805', '37.31681061', '12.787819', '8.242489', '-121.8912888', '138.2', '89.4175', '37.326637', '90.7', '4.959163', '433426', 'SC205', '37.22620773', '57.7475', '28.2575', '514.6', '37.42379761', '10.50863', '4.403658', '128.6825', '2022-10-31', '37.33412933', '134.445', '254.35', '-122.079144', '37.32243729', '98.2175', '3.867414', '480714', '12:40', '37.435923', '2.406571', '54.8525', '-121.9525452', '8.494144', '91.3525', '61.2125', '-121.852581', '121.9125', '37.47474348', '37.35876083', '102.3775', '90.08764', '361.85', '13.741003', '-121.8833237', '10.865918', '260.2', '2.596089', '15.116718', '93.32', '29.6075', '-121.857861', '-121.9324036', '390536', '85.56', '37.33436203', '8.084661', '113.0', '50.175', '136.65', '222.7875', '490398', '4.217868', '-122.0556107', '55.305', '6.943202', '6.20812', '138.9', '54.8025', '426356', '302.6', '37.34762955', '37.30255127', '30.5525', '2023-03-01', '37.36916', '61.6875', '7.076175', '390198', '12.889103', '-121.8630371', '37.32121658', '24.635', '0.707742', '4.060661', '442182', '37.317978', '105.91', '-122.0533066', '3.540573', '469320', '401.72', '431157', '36.9425', '37.26333618', '87.6', '-121.909329', '11.817237', '91.6675', '463154', '37.337028', '37.30011749', '2022-06-23', '8.958308', '48.1275', '1.537894', '9.9', '189.56', '15.881005', '1.652847', '37.352511', '11:45', '305827', '463626', '42.1625', '402.4', '11.619641', '3.877356', '2022-09-06', '2022-12-31', '-121.950908', '18:10', '37.31568909', '2022-02-05', '435703', '398.4', '41.015', '178.96', '10:20', '5.424571', '51.66', '71.12', '37.325603', '47.63', '6.535582', '37.38976288', '410.28', '-121.846871', '45.25', '37.4342947', '2022-03-02', '1.831802', '80.44', '37.34988785', '291.027', '-121.9421005', '2022-01-14', '242.84', '05:15', '84.7375', '459174', '13.131437', '14.550028', '-121.7827072', '100.4', '126.9525', '2.034369', '37.290755', '134.48', '309.96', '60.84', '-121.8244553', '-121.9908066', '103.19', '4.630458', '-122.059639', '14.134952', '93.5225', '37.26900482', '2022-06-27', '216.285', '97.2', '5.191556', '436441', '37.27633286', '46.575', '26.075', '37.38366699', '2022-04-20', '18.780323', '451307', '2022-12-08', '37.34808731', '466097', '37.32605362', '92.3425', '37.3829422', '36.4925', '33.7025', '-121.937331', '-121.9516678', '55.205', '35.705', '7.899492', '2021-12-15', '388769', '37.366948', '-121.936754', '2023-03-11', '478887', '-122.26309', '88.45', '-121.8973236', '298777', '153.32', '291.7', '2023-01-06', '127.08', '388739', '496209', '487145', '471277', '10.711197', '51.855', '10.324704', '4.20544', '115.36', '477206', '96.08', '37.23414993', '33.4325', '170.76', '3.401386', '42.725', '6.09068', '-121.972023', '88.63', '5.299675', '463.56', '142.995', '247.28', '245.04', '189.6', '122.5425', '484049', '222.855', '37.32246399', '-121.8948135', '-122.0371246', '112.46', '37.30210114', '228.345', '3.491485', '37.262284', '-121.937476', '136.68', '2021-11-13', '77.04', '8.571194', '73.35', '-121.84928', '8.835898', '-122.050784', '2021-12-31', '86.68', '95.8', '61.55', '14.397171', '0.596516', '43.67', '486507', '3.137925', '388477', '128.3225', '09:45', '-121.8228836', '390534', '32.43247', '422607', '29', '-122.1419808', '37.252894', '160.4', '37.31283951', '3.096293', '37.22948456', '378.32', '37.382993', '73.385', '185.52', '428398', '37.57516098', '37.34162521', '-122.310811', '8.3', '-121.5949326', '65.4425', '85.9075', '39.8', '40.75', '67.85', '121.35', '487684', '294136', '2022-12-20', '37.299158', '22.925', '37.45401001', '2034.45', '37.2409935', '82.8475', '444003', '63.755', '12.449793', '87.28', '-122.0237579', '-121.9790344', '478044', '35', '101.52', '2022-10-14', '3.809005', '7.11905', '37.433049', '1.623643', '6.40323', '101.3225', '89.305', '12.096233', '4.419813', '25.6025', '60.8825', '-121.585754', '291.76', '9.554203', '2022-11-05', '5.965163', '23.8475', '-121.945328', '201.92', '-121.850283', '137.7525', '-121.9492645', '37.34285736', '37.32611', '36.02', '100.5', '37.26489639', '37.282723', '37.253205', '124.14', '24.39317', '37.243696', '37.31890488', '54.675', '7.274393', '196.05', '59.08', '496466', '76.12', '07:30', '-121.931243', '322.0125', '64.8575', '71.675', '8.122564', '454054', '486768', '117.23', '-121.832998', '-121.8864975', '125.3775', '78.4825', '76.8725', '41.0825', '37.48745346', '2.975747', '14.559348', '2022-01-26', '-122.0472107', '16:15', '37.29465866', '53', '-121.9533833', '97.9925', '14:20', '109.48', '-121.7875214', '-121.8392334', '495595', '70.76', '104.8525', '141.6', '-122.178883', '37.259293', '1.632963', '37.30901337', '388728', '424.4', '215.36', '37.364695', '224.8125', '-122.144058', '37.379726', '5.412764', '-121.892739', '12:50', '8.289092', '215.92', '-121.937325', '83.6225', '37.3497467', '37.425077', '96.2', '40.325', '86.785', '8.264858', '321254', '11.375442', '456595', '37.31735611', '37.32041931', '71.36', '37.433063', '2022-07-21', '-121.84795', '436975', '37.48493195', '5.81417', '39.305', '37.381212', '374.96', '78.2575', '1.322899', '8.830306', '56.475', '8.586107', '64.89', '424845', '62.09', '2.268626', '72.475', '-121.8731995', '9.431793', '75.95', '9.167089', '37.252048', '187.88', '427972', '76.75', '10.396783', '37.4150797', '-121.8941803', '-122.095334', '409.76', '15.032833', '32.105', '31.025', '67.8725', '2022-04-21', '149.04', '37.2507782', '37.32329178', '10:40', '37.432484', '179.2', '495654', '26.93', '7.62236', '50.425', '167.92', '139.73', '37.3272', '85.0525', '37.34034348', '491044', '32.9825', '-121.9947433', '-121.8805285', '151.68', '152.6', '388817', '3.538088', '77.08', '59.525', '12.879782', '37.405597', '-121.907866', '41.3525', '0.853764', '37.32685471', '56.8', '4.063146', '-121.9483795', '08:00', '439970', '132.375', '96.36', '16.033241', '49.7925', '491050', '91.05', '60.28', '66.88', '43.22', '-122.178922', '91.04', '8.686769', '3.51199', '37.36120987', '5.158624', '192.95', '37.327774', '13.245148', '-122.077112', '2022-06-16', '469247', '69.1', '-121.950542', '7.389346', '37.326281', '469432', '50.6475', '147.225', '79.085', '37.2951889', '5', '-121.835358', '2022-02-26', '11.454357', '12.885996', '47.54', '79.1525', '37.29832077', '419519', '1.71747', '2022-09-17', '160.3', '37.42654419', '69.55', '409.44', '137.145', '-121.997483', '37.29402161', '-121.949268', '115.0', '407.04', '37.382005', '223.395', '8', '130.125', '1.57269', '390538', '493407', '-121.8060837', '2023-02-17', '26.255', '305.2', '7.939881', '472283', '42.23', '152.68', '93.48', '152.625', '463273', '-122.176841', '475959', '9.223634', '191.4', '219.2', '318.44', '17.2648', '11.103282', '137.775', '483420', '471266', '492130', '94.75', '-121.923243', '37.784355', '2022-02-22', '25.96151', '121.9575', '33.073723', '25.805', '14.788013', '446861', '37.2500267', '9.460376', '13:52', '47.764805', '200.49', '2.186605', '6', '10.720517', '14.834616', '8.390375', '11.528921', '37.252645', '497807', '79.84', '-122.0555496', '5.330743', '27.65', '37.315713', '422032', '66.05', '37.23456192', '66.1175', '26.7725', '8.044271', '473431', '-121.920559', '151.4325', '37.364645', '477404', '2023-02-11', '90.42', '6.834462', '2.567506', '37.230918', '479118', '12.134758', '471381', '5.004524', '67.2875', '10.668943', '9.222391', '5.223868', '-121.91413', '4.63605', '-121.936863', '37.34127426', '-121.8324966', '37.38031769', '3.640614', '406.72', '10:53', '107.3975', '-121.950716', '5.466202', '46.6175', '37.2518', '93.805', '-121.655998', '56.4', '37.31731033', '-121.9678116', '6.072661', '8.889336', '3.749354', '8.416473', '494620', '46.3025', '37.366508', '12.573446', '63.8325', '3.37156', '0.0', '37.397918', '2022-05-31', '37.371951', '272.08', '8.66', '10.977143', '30.305', '494161', '49.6775', '388492', '6.630652', '7.999533', '9.405', '490991', '71.99', '434762', '37.244402', '13:40', '50.49', '28.19', '76.4225', '37.325318', '-121.6596527', '6.846889', '64.79', '206.4075', '1.477621', '6.487737', '164.92', '37.27534866', '105.0', '49.3125', '52.9', '459358', '100.65', '-121.920808', '2.200897', '58.79', '485397', '32.4425', '49.5425', '485910', '14.198332', '91.4875', '-121.841225', '37.255408', '37.250938', '98.48', '37.301782', '7.525427', '176.24', '13:30', '279.32', '-121.93367', '4.604982', '171.4', 'SC105', '243.28', '2022-12-30', '9.892851', '-122.16876', '37.25078201', '2022-03-09', '174.86', '497402', '9.810208', '75.85', '124.7', '5.998096', '51.75', '337.32', '37.36653519', '200.3775', '2022-09-08', '260.08', '8.603506', '8.318918', '37.367136', '5.714751', '9.20375', '58.7375', '37.148164', '137.28', '459762', '76.0', '-121.888064', '-121.966616', '37.29793', '203.48', '8.570573', '37.29447937', '2022-02-15', '418.96', 'SC202', '37.321665', '60.6725', '468449', '128.38', '-121.6590805', '37.3158226', '423302', '32.1725', '5.123205', '-121.5689774', '479119', '452602', '6.526262', '9.482124', '-121.8115158', '7.279985', '110.705', '134.6475', '37.282473', '4.626109', '55.91', '53.28', '-121.8347778', '408.8', '6.9606', '10.738537', '37.276755', '3.084487', '388723', '37.31606674', '38.85', '9.66', '8.309', '2022-10-10', '9.37', '104.47', '28.055', '5.411522', '31.9925', '2.090293', '2022-02-18', '37.37372', '94.04', '2022-01-15', '144.36', '37.30810165', '107.2375', '388472', '194.4', '37.4031778', '479120', '37.24335861', '21.5075', '98.5325', '462140', '311147', '5.976348', '6.845646', '15:50', '77.6', '22.8124', '113.63', '160.12', '510.417', '173.84', '-121.8388824', '37.251457', '37.36335754', '25.369965', '462990', '9.203129', '37.31203', '435.2', '25', '110.4', '6.746848', '221.8875', '2022-04-04', '65.7125', '244.3875', '11.69172', '-122.014109', '495189', '6.145982', '-121.9278389', '2022-04-12', '102.64', '04:00', '37.2638855', '5.299054', '471741', '-121.832054', '37.24205', '05:55', '85.12', '-122.0365448', '37.3120588', '77.47', '10.01029', '295.12', '1.667139', '10.185517', '244.15', '106.9925', '34.6475', '90.835', '104.3375', '6.086331', '102.76', '37.40881', '-122.140205', '61.4925', '36.1325', '9.59335', '4.356433', '34.427693', '37.235654', '38.7425', '199.1625', '16:00', '479431', '204.225', '14.359888', '2022-05-24', '116.625', '37.34736633', '103.32', '2023-01-04', '62.3', '2.71912', '83.9375', '6.613254', '469321', '335901', '-121.838105', '264.92', '43.535', '390531', '34.75', '240.68', '14.343111', '100.085', '155.25', '4.32785', '80.85', '244.04', '61.325', '37.30427551', '32.42', '37.36503', '37.361581', '213.0', '74.14', '2022-07-07', '2022-06-18', '-121.9717026', '2022-08-09', '78.7525', '92.735', '217.0275', '215.16', '-122.018348', '8.591699', '-121.8325653', '64.04', '105.1475', '2022-02-25', '180.48', '2023-02-20', '41.4825', '2022-09-14', '-117.66539', '-121.8494492', '45.245', '88.72', '-121.913537', '37.757303', '99.96', '28.3025', '54.0875', '3.719528', '95.065', '495392', '11.45125', '37.426546', '30.89', '441.72', '76.435', '104.88', '413.32', '2022-03-23', '147.8325', '391.7', '298.6', '2.440746', '37.342565', '329.32', '135.705', '4.95', '117.365', '388476', '9.704575', '70.945', '471049', '74.41', '4.867822', '424181', '37.299742', '82.825', '38.45', '441437', '3.252878', '254.12', '8.721566', '32.3975', '-121.8412247', '71.3325', '-121.7894211', '37.3', '27.381964', '15.17637', '8.484202', '2023-01-26', '-121.9525375', 'SC102', '43.8275', '37.3370285', '485041', '-121.8801651', '6.590263', '448.2', '24.185', '26.2325', '37.3056317', '435398', '87.6275', '40.9025', '8.775625', '81.125', '-121.85442', '09:00', '75.6575', '-121.82827', '192.32', '-121.800425', '12.191924', '16', '101.12', '449537', '274.24', '4.185', '64.24', '124.995', '100.0', '53.3025', '105.7775', '37.25264359', '-121.90464', '199.76', '37.2436142', '108.92', '37.40526199', '2022-03-28', '420273', '-121.847763', '37.329922', '37.389341', '37.364211', '2.575584', '15.975', '-121.912104', '33.9725', '37.309221', '6.981727', '210.28', '292.68', '-121.9942169', '5.967649', '-121.8586731', '37.2500263', '37.425078', '249.2', '97.28', '9.949396', '13.325927', '11.7', '101.16', '4.851045', '12.382685', '137.55', '37.485736', '37.31916809', '4.62673', '32.15', '-121.826375', '30.9125', '37.485725', '92.2525', '482719', '8.052349', '11.643875', '37.302845', '0.914658', '153.28', '3.656148', '497730', '12.500746', '-121.8496933', '37.32392883', '37.35641479', '59.6', '37.3784523', '-121.849266', '52.94', '37.368021', '470322', '2022-10-01', '-121.87755', '7.171866', '17:40', '12.88786', '26.885', '18.782808', '253.12', '6.694653', '5.479251', '25.245', '299.16', '-121.8204651', '465978', '2021-11-21', '-122.0505018', '-121.807209', '23.1275', '464603', '37.336341', '81.24', '63.17', '390520', '2022-07-25', '37.28745651', '71.045', '74.28', '25.625', '-121.9619141', '29.27', '44.1425', '1.85355', '16.832323', '-121.7826157', '11.1387', '475662', '151.165', '-121.8442078', '11', '13:55', '470234', '13.773314', '2022-10-04', '423499', '8.520242', '43.085', '11.435715', '1.746053', '222.0', '10:00', '124.545', '37.346058', '-121.9127045', '-121.9285736', '37.39645386', '51.0725', '37.367142', '65.36', '493199', '492157', '198.825', '154.1125', '7.624846', '-121.8745575', '-121.8016739', '81.475', '14:45', '20.197048', '65.6', '147.7875', '-122.059964', 'SC302', '493196', '37.3130065', '488463', '42.0725', '62.5475', '-121.8120978', '72.1375', '-121.89272', '148.035', '-122.1766698', '440894', '2022-06-25', '-121.93228', '5.231324', '5.220761', '-121.7762604', '2021-12-18', '-121.817141', '433660', '13', '-121.9148636', '-121.8938522', '388480', '10.089825', '491016', '144.4', '37.327402', '89.5525', '70.7875', '37.3138504', '-121.8525162', '5.217033', '31.5425<END_112>', '<CONT_115_3>', '<CONT_392_1>', '<CONT_14_3>', '<END_136>', '<CONT_207_2>', '<CONT_250_2>', '<CONT_92_5>', '<CONT_376_1>', '<CONT_119_4>', '<CONT_103_5>', '<START_289>', '<CONT_194_4>', '<CONT_11_1>', '<START_400>', '<START_28>', '<CONT_160_5>', '<CONT_82_4>', '<CONT_59_1>', '<CONT_54_3>', '<CONT_166_5>', '<START_137>', '<CONT_182_1>', '<START_331>', '<CONT_173_1>', '<END_306>', '<END_185>', '<END_291>', '<CONT_402_2>', '<CONT_338_5>', '<CONT_184_1>', '<CONT_121_3>', '<END_285>', '<CONT_387_5>', '<CONT_283_3>', '<CONT_358_2>', '<CONT_398_3>', '<START_361>', '<CONT_169_4>', '<START_62>', '<START_156>', '<CONT_40_2>', '<CONT_365_1>', '<CONT_387_2>', '<CONT_157_2>', '<CONT_293_4>', '<CONT_346_2>', '<CONT_225_1>', '<START_324>', '<CONT_208_1>', '<CONT_156_4>', '<START_50>', '<CONT_269_3>', '<CONT_54_5>', '<CONT_177_1>', '<CONT_122_5>', '<END_156>', '<CONT_399_4>', '<START_58>', '<START_135>', '<START_228>', '<CONT_206_1>', '<CONT_356_1>', '<CONT_198_4>', '<END_149>', '<CONT_138_2>', '<CONT_334_3>', '<CONT_23_4>', '<CONT_150_5>', '<CONT_5_2>', '<START_94>', '<CONT_132_2>', '<CONT_29_1>', '<END_279>', '<CONT_283_4>', '<CONT_112_3>', '<START_51>', '<CONT_24_4>', '<START_155>', '<CONT_164_3>', '<CONT_74_5>', '<CONT_256_4>', '<CONT_164_2>', '<START_208>', '<CONT_270_2>', '<CONT_56_3>', '<CONT_209_4>', '<END_304>', '<CONT_72_4>', '<CONT_98_1>', '<CONT_53_4>', '<CONT_111_3>', '<START_291>', '<START_312>', '<START_391>', '<START_87>', '<END_289>', '<CONT_159_2>', '<CONT_127_5>', '<CONT_62_1>', '<START_54>', '<CONT_321_5>', '<CONT_289_2>', '<CONT_16_2>', '<CONT_156_2>', '<CONT_247_5>', '<END_339>', '<CONT_379_2>', '<CONT_201_4>', '<CONT_268_3>', '<CONT_385_5>', '<CONT_246_1>', '<CONT_112_4>', '<CONT_275_4>', '<CONT_20_3>', '<CONT_56_2>', '<END_45>', '<CONT_329_4>', '<CONT_363_2>', '<END_403>', '<CONT_47_2>', '<CONT_320_2>', '<CONT_30_4>', '<CONT_60_2>', '<CONT_215_3>', '<CONT_388_5>', '<END_293>', '<CONT_303_1>', '<CONT_245_5>', '<CONT_185_4>', '<END_186>', '<END_95>', '<END_323>', '<CONT_263_3>', '<START_168>', '<START_328>', '<CONT_8_4>', '<CONT_32_4>', '<START_200>', '<CONT_377_2>', '<CONT_49_5>', '<START_320>', '<CONT_88_4>', '<START_96>', '<CONT_154_2>', '<CONT_191_4>', '<CONT_272_4>', '<CONT_65_4>', '<START_104>', '<CONT_378_3>', '<START_8>', '<CONT_131_3>', '<CONT_20_5>', '<CONT_195_5>', '<CONT_149_1>', '<START_122>', '<CONT_26_3>', '<END_368>', '<CONT_178_3>', '<CONT_178_2>', '<END_210>', '<END_146>', '<CONT_218_3>', '<CONT_318_4>', '<CONT_246_4>', '<CONT_138_4>', '<START_171>', '<CONT_357_2>', '<END_161>', '<CONT_185_2>', '<CONT_364_1>', '<CONT_293_3>', '<CONT_275_3>', '<END_275>', '<CONT_391_1>', '<CONT_98_5>', '<CONT_271_3>', '<CONT_101_4>', '<CONT_154_3>', '<END_168>', '<CONT_282_2>', '<CONT_373_5>', '<START_130>', '<CONT_33_1>', '<CONT_337_1>', '<CONT_79_4>', '<CONT_39_1>', '<START_43>', '<START_402>', '<CONT_294_2>', '<CONT_306_5>', '<CONT_268_2>', '<END_34>', '<CONT_136_1>', '<CONT_28_2>', '<CONT_300_2>', '<CONT_197_4>', '<CONT_111_4>', '<CONT_315_2>', '<END_40>', '<CONT_332_5>', '<CONT_344_4>', '<START_259>', '<START_375>', '<END_348>', '<CONT_231_2>', '<END_36>', '<CONT_239_5>', '<CONT_220_1>', '<END_99>', '<CONT_195_1>', '<END_360>', '<CONT_338_4>', '<CONT_393_4>', '<CONT_106_4>', '<END_241>', '<CONT_101_1>', '<CONT_120_1>', '<CONT_342_5>', '<START_387>', '<END_155>', '<CONT_222_5>', '<CONT_324_5>', '<START_86>', '<CONT_196_2>', '<CONT_214_2>', '<CONT_122_3>', '<CONT_269_4>', '<CONT_233_3>', '<CONT_48_2>', '<CONT_233_5>', '<CONT_355_5>', '<CONT_136_4>', '<END_44>', '<CONT_375_2>', '<CONT_128_5>', '<CONT_95_1>', '<CONT_195_4>', '<CONT_258_2>', '<CONT_258_5>', '<END_208>', '<CONT_4_2>', '<CONT_356_2>', '<CONT_126_3>', '<END_375>', '<CONT_135_4>', '<CONT_257_5>', '<CONT_55_2>', '<CONT_168_5>', '<CONT_313_1>', '<START_199>', '<CONT_194_5>', '<CONT_164_4>', '<CONT_272_3>', '<END_378>', '<START_284>', '<CONT_327_5>', '<CONT_331_3>', '<END_31>', '<CONT_297_5>', '<CONT_353_3>', '<CONT_126_5>', '<CONT_262_5>', '<CONT_361_3>', '<CONT_118_3>', '<CONT_104_3>', '<CONT_258_1>', '<START_73>', '<CONT_376_5>', '<CONT_341_1>', '<CONT_343_5>', '<CONT_330_2>', '<CONT_70_2>', '<CONT_315_4>', '<CONT_253_5>', '<CONT_368_4>', '<CONT_293_5>', '<END_39>', '<END_100>', '<CONT_171_4>', '<START_302>', '<END_287>', '<CONT_105_4>', '<CONT_52_3>', '<START_311>', '<CONT_281_2>', '<CONT_116_2>', '<CONT_233_2>', '<CONT_235_2>', '<END_48>', '<CONT_155_5>', '<CONT_179_1>', '<CONT_267_4>', '<CONT_183_5>', '<START_349>', '<CONT_220_4>', '<CONT_301_3>', '<CONT_75_5>', '<CONT_308_4>', '<CONT_358_5>', '<CONT_69_5>', '<CONT_329_5>', '<CONT_91_3>', '<CONT_81_2>', '<CONT_132_5>', '<CONT_279_3>', '<CONT_345_1>', '<CONT_365_2>', '<CONT_315_1>', '<END_312>', '<START_329>', '<CONT_321_1>', '<CONT_226_4>', '<CONT_257_2>', '<CONT_190_4>', '<END_67>', '<CONT_39_3>', '<START_147>', '<END_254>', '<START_160>', '<CONT_92_1>', '<START_377>', '<CONT_35_5>', '<START_334>', '<CONT_127_3>', '<CONT_54_2>', '<END_182>', '<CONT_327_1>', '<START_145>', '<CONT_179_3>', '<CONT_292_5>', '<CONT_326_1>', '<CONT_34_4>', '<END_195>', '<START_128>', '<CONT_102_1>', '<START_140>', '<START_352>', '<START_398>', '<CONT_317_1>', '<CONT_263_4>', '<CONT_255_1>', '<END_89>', '<CONT_159_3>', '<CONT_364_3>', '<CONT_113_1>', '<END_170>', '<CONT_276_1>', '<CONT_96_2>', '<END_393>', '<START_390>', '<CONT_400_5>', '<CONT_38_1>', '<CONT_93_4>', '<CONT_211_5>', '<CONT_330_3>', '<START_384>', '<CONT_319_4>', '<CONT_231_3>', '<CONT_140_3>', '<START_221>', '<CONT_397_3>', '<CONT_125_3>', '<END_97>', '<CONT_405_3>', '<START_405>', '<END_117>', '<END_106>', '<CONT_214_5>', '<CONT_222_3>', '<CONT_317_5>', '<CONT_327_4>', '<CONT_196_3>', '<CONT_296_1>', '<CONT_147_3>', '<CONT_280_5>', '<CONT_79_2>', '<CONT_140_2>', '<END_134>', '<CONT_173_2>', '<START_148>', '<START_351>', '<START_355>', '<CONT_46_1>', '<CONT_133_3>', '<END_258>', '<CONT_353_1>', '<CONT_249_1>', '<CONT_174_3>', '<CONT_388_3>', '<CONT_181_2>', '<START_39>', '<START_327>', '<CONT_118_2>', '<START_227>', '<END_308>', '<CONT_124_1>', '<CONT_406_4>', '<CONT_371_4>', '<CONT_247_3>', '<CONT_192_5>', '<END_274>', '<CONT_221_5>', '<START_230>', '<CONT_264_4>', '<END_150>', '<CONT_301_1>', '<END_17>', '<CONT_303_2>', '<START_303>', '<START_373>', '<START_74>', '<CONT_329_3>', '<END_72>', '<CONT_168_1>', '<CONT_182_2>', '<CONT_285_4>', '<CONT_216_2>', '<CONT_378_5>', '<CONT_28_3>', '<CONT_8_3>', '<CONT_323_2>', '<END_330>', '<CONT_340_3>', '<END_369>', '<CONT_325_2>', '<END_33>', '<CONT_388_4>', '<CONT_195_3>', '<END_252>', '<CONT_17_3>', '<START_280>', '<END_353>', '<CONT_68_4>', '<END_358>', '<START_399>', '<CONT_255_2>', '<END_277>', '<CONT_386_3>', '<END_148>', '<CONT_68_5>', '<CONT_208_5>', '<CONT_333_3>', '<CONT_241_1>', '<END_253>', '<CONT_380_2>', '<END_259>', '<CONT_292_1>', '<CONT_221_2>', '<END_299>', '<CONT_263_2>', '<CONT_202_3>', '<START_12>', '<CONT_394_5>', '<CONT_69_4>', '<CONT_189_1>', '<START_248>', '<CONT_5_3>', '<CONT_36_5>', '<CONT_70_1>', '<CONT_241_5>', '<START_57>', '<END_349>', '<CONT_14_1>', '<CONT_35_3>', '<START_105>', '<CONT_1_3>', '<START_172>', '<CONT_248_1>', '<START_357>', '<CONT_360_3>', '<CONT_210_3>', '<START_339>', '<CONT_280_1>', '<CONT_82_5>', '<CONT_337_3>', '<CONT_161_2>', '<CONT_259_3>', '<CONT_169_5>', '<CONT_193_4>', '<START_142>', '<CONT_229_1>', '<END_127>', '<CONT_401_3>', '<CONT_294_1>', '<END_379>', '<START_213>', '<CONT_287_1>', '<START_90>', '<END_406>', '<CONT_366_3>', '<START_85>', '<CONT_156_5>', '<CONT_25_2>', '<START_116>', '<CONT_114_4>', '<CONT_176_3>', '<CONT_142_1>', '<CONT_32_2>', '<CONT_208_4>', '<CONT_186_1>', '<START_272>', '<CONT_326_5>', '<CONT_17_5>', '<CONT_266_3>', '<START_66>', '<END_24>', '<CONT_321_3>', '<START_37>', '<CONT_319_2>', '<END_0>', '<END_239>', '<START_224>', '<CONT_360_1>', '<CONT_163_3>', '<END_177>', '<CONT_3_1>', '<CONT_16_1>', '<END_65>', '<CONT_245_2>', '<END_338>', '<CONT_99_4>', '<CONT_294_5>', '<CONT_143_4>', '<CONT_83_2>', '<CONT_331_2>', '<CONT_153_4>', '<CONT_313_5>', '<CONT_172_1>', '<CONT_74_1>', '<CONT_105_5>', '<CONT_93_2>', '<CONT_33_4>', '<CONT_317_2>', '<CONT_28_5>', '<CONT_344_3>', '<CONT_10_4>', '<START_237>', '<CONT_61_5>', '<CONT_374_5>', '<CONT_117_3>', '<START_144>', '<CONT_406_1>', '<CONT_64_3>', '<START_81>', '<CONT_117_2>', '<CONT_9_5>', '<CONT_201_1>', '<CONT_93_3>', '<END_29>', '<CONT_173_4>', '<START_342>', '<CONT_356_3>', '<END_173>', '<CONT_387_4>', '<END_43>', '<END_243>', '<CONT_331_5>', '<START_336>', '<CONT_341_4>', '<CONT_171_2>', '<CONT_109_2>', '<CONT_341_2>', '<CONT_383_1>', '<CONT_104_1>', '<CONT_200_4>', '<START_294>', '<CONT_358_4>', '<CONT_76_3>', '<END_47>', '<CONT_66_5>', '<END_83>', '<CONT_69_3>', '<CONT_133_4>', '<CONT_69_2>', '<CONT_355_3>', '<CONT_361_2>', '<START_196>', '<CONT_370_4>', '<CONT_58_1>', '<CONT_382_2>', '<CONT_167_2>', '<CONT_336_1>', '<CONT_251_4>', '<CONT_276_3>', '<CONT_318_1>', '<CONT_215_5>', '<CONT_67_1>', '<START_290>', '<CONT_67_3>', '<CONT_36_4>', '<CONT_325_5>', '<CONT_23_2>', '<CONT_23_5>', '<END_171>', '<CONT_169_3>', '<CONT_213_4>', '<CONT_362_2>', '<CONT_134_3>', '<CONT_131_5>', '<END_373>', '<START_244>', '<CONT_203_2>', '<CONT_137_1>', '<START_184>', '<CONT_241_3>', '<END_71>', '<CONT_399_1>', '<CONT_297_3>', '<CONT_390_2>', '<CONT_369_5>', '<CONT_212_5>', '<CONT_202_4>', '<CONT_38_4>', '<CONT_59_3>', '<CONT_302_4>', '<CONT_84_2>', '<CONT_139_1>', '<START_265>', '<CONT_175_1>', '<CONT_295_5>', '<CONT_196_4>', '<START_285>', '<CONT_339_2>', '<CONT_301_2>', '<CONT_13_3>', '<CONT_19_3>', '<START_143>', '<CONT_44_3>', '<CONT_266_2>', '<START_121>', '<CONT_142_5>', '<CONT_71_1>', '<CONT_75_4>', '<CONT_80_2>', '<CONT_27_2>', '<START_319>', '<CONT_40_5>', '<END_190>', '<CONT_16_3>', '<CONT_70_5>', '<CONT_362_3>', '<CONT_58_2>', '<END_160>', '<CONT_323_4>', '<CONT_86_5>', '<START_1>', '<CONT_295_3>', '<CONT_132_1>', '<CONT_10_1>', '<CONT_159_4>', '<END_228>', '<CONT_328_1>', '<CONT_219_1>', '<END_401>', '<CONT_56_5>', '<CONT_57_3>', '<CONT_63_1>', '<CONT_384_3>', '<CONT_149_4>', '<END_398>', '<CONT_395_4>', '<CONT_73_1>', '<CONT_325_1>', '<START_321>', '<START_367>', '<CONT_339_4>', '<CONT_357_1>', '<CONT_37_3>', '<CONT_268_5>', '<CONT_88_3>', '<CONT_335_3>', '<CONT_163_5>', '<CONT_205_2>', '<CONT_315_5>', '<END_42>', '<START_372>', '<CONT_294_3>', '<CONT_70_4>', '<CONT_207_4>', '<END_188>', '<END_107>', '<START_133>', '<CONT_194_1>', '<CONT_65_2>', '<START_353>', '<CONT_223_1>', '<CONT_239_2>', '<CONT_82_1>', '<CONT_318_2>', '<END_63>', '<CONT_361_4>', '<CONT_219_4>', '<END_56>', '<CONT_204_1>', '<START_307>', '<START_80>', '<CONT_260_5>', '<CONT_283_2>', '<CONT_48_5>', '<CONT_217_2>', '<CONT_199_2>', '<START_120>', '<CONT_177_4>', '<END_25>', '<CONT_367_5>', '<CONT_115_4>', '<END_120>', '<CONT_204_3>', '<END_268>', '<CONT_406_5>', '<CONT_333_4>', '<END_28>', '<CONT_294_4>', '<CONT_117_4>', '<CONT_390_4>', '<CONT_402_5>', '<CONT_350_3>', '<END_362>', '<CONT_124_2>', '<CONT_109_3>', '<END_11>', '<CONT_243_1>', '<CONT_21_2>', '<END_263>', '<START_9>', '<END_169>', '<START_193>', '<CONT_348_1>', '<CONT_17_4>', '<CONT_31_1>', '<CONT_118_1>', '<CONT_221_1>', '<CONT_14_2>', '<CONT_113_2>', '<END_131>', '<CONT_379_4>', '<CONT_127_4>', '<CONT_347_4>', '<CONT_314_3>', '<CONT_226_1>', '<START_225>', '<CONT_173_3>', '<START_127>', '<CONT_90_4>', '<END_240>', '<START_41>', '<CONT_167_3>', '<CONT_22_4>', '<CONT_200_5>', '<CONT_171_3>', '<CONT_222_1>', '<CONT_285_1>', '<CONT_229_4>', '<CONT_105_2>', '<END_266>', '<CONT_345_4>', '<CONT_42_4>', '<CONT_179_5>', '<CONT_352_4>', '<CONT_189_5>', '<CONT_230_1>', '<CONT_90_3>', '<CONT_214_4>', '<START_205>', '<CONT_382_4>', '<START_23>', '<CONT_152_4>', '<CONT_12_3>', '<CONT_89_3>', '<CONT_286_3>', '<START_309>', '<END_220>', '<CONT_72_5>', '<CONT_76_5>', '<END_327>', '<START_220>', '<CONT_45_3>', '<CONT_368_1>', '<CONT_38_5>', '<START_119>', '<CONT_335_2>', '<CONT_21_4>', '<CONT_164_1>', '<END_333>', '<CONT_334_5>', '<START_132>', '<CONT_237_2>', '<CONT_82_2>', '<START_393>', '<END_21>', '<CONT_240_4>', '<END_211>', '<CONT_385_2>', '<CONT_222_4>', '<START_245>', '<CONT_134_4>', '<START_242>', '<CONT_55_5>', '<CONT_270_5>', '<CONT_326_2>', '<CONT_19_5>', '<CONT_79_5>', '<START_183>', '<CONT_397_4>', '<CONT_140_4>', '<CONT_233_1>', '<CONT_108_4>', '<CONT_69_1>', '<CONT_396_3>', '<CONT_141_5>', '<CONT_89_4>', '<CONT_296_2>', '<CONT_81_3>', '<CONT_189_3>', '<START_5>', '<CONT_133_5>', '<CONT_41_2>', '<CONT_167_1>', '<CONT_43_1>', '<CONT_198_5>', '<START_198>', '<START_274>', '<START_273>', '<CONT_50_1>', '<CONT_98_4>', '<CONT_399_5>', '<CONT_176_5>', '<CONT_311_1>', '<END_364>', '<START_151>', '<CONT_318_3>', '<CONT_84_3>', '<CONT_322_2>', '<CONT_383_3>', '<CONT_109_4>', '<CONT_236_2>', '<CONT_356_5>', '<START_91>', '<START_163>', '<CONT_288_1>', '<START_395>', '<CONT_173_5>', '<CONT_85_2>', '<CONT_125_1>', '<START_47>', '<END_140>', '<CONT_340_1>', '<END_91>', '<START_202>', '<CONT_387_3>', '<CONT_86_2>', '<CONT_156_3>', '<START_217>', '<CONT_100_3>', '<CONT_383_5>', '<CONT_311_2>', '<CONT_66_3>', '<END_82>', '<START_313>', '<CONT_99_3>', '<CONT_81_1>', '<END_111>', '<CONT_250_5>', '<CONT_6_1>', '<CONT_325_4>', '<START_16>', '<CONT_187_2>', '<CONT_168_2>', '<END_114>', '<CONT_169_1>', '<CONT_260_4>', '<CONT_299_2>', '<CONT_360_4>', '<CONT_96_4>', '<START_338>', '<START_164>', '<END_154>', '<CONT_342_3>', '<END_224>', '<END_128>', '<CONT_370_5>', '<CONT_274_2>', '<CONT_346_3>', '<START_78>', '<END_219>', '<CONT_82_3>', '<CONT_196_5>', '<CONT_405_4>', '<START_191>', '<CONT_191_3>', '<CONT_239_1>', '<START_186>', '<CONT_52_2>', '<CONT_342_4>', '<CONT_351_5>', '<CONT_18_5>', '<CONT_170_1>', '<CONT_307_5>', '<CONT_277_4>', '<CONT_401_2>', '<CONT_400_1>', '<CONT_308_1>', '<CONT_242_4>', '<END_215>', '<CONT_197_3>', '<CONT_281_4>', '<CONT_54_1>', '<END_103>', '<END_357>', '<CONT_12_1>', '<CONT_347_1>', '<CONT_51_5>', '<CONT_165_5>', '<CONT_322_4>', '<END_235>', '<END_242>', '<CONT_299_4>', '<CONT_159_5>', '<START_386>', '<CONT_298_1>', '<START_79>', '<END_394>', '<START_268>', '<CONT_130_5>', '<CONT_116_3>', '<CONT_137_3>', '<START_286>', '<CONT_299_3>', '<CONT_314_4>', '<CONT_180_1>', '<CONT_237_4>', '<CONT_385_1>', '<CONT_220_2>', '<CONT_175_5>', '<CONT_146_3>', '<START_206>', '<CONT_103_3>', '<START_152>', '<CONT_26_5>', '<END_90>', '<CONT_170_3>', '<CONT_174_5>', '<CONT_129_1>', '<CONT_3_5>', '<CONT_392_3>', '<CONT_20_2>', '<START_277>', '<START_222>', '<CONT_265_1>', '<END_391>', '<CONT_188_2>', '<CONT_6_3>', '<END_257>', '<END_315>', '<CONT_350_5>', '<CONT_347_2>', '<CONT_102_5>', '<CONT_246_3>', '<CONT_56_1>', '<CONT_231_5>', '<CONT_366_1>', '<START_24>', '<CONT_275_5>', '<CONT_176_2>', '<CONT_324_4>', '<START_52>', '<CONT_26_2>', '<CONT_346_5>', '<CONT_384_5>', '<END_205>', '<CONT_354_2>', '<START_18>', '<CONT_114_2>', '<START_166>', '<CONT_57_1>', '<CONT_158_2>', '<CONT_59_4>', '<CONT_238_1>', '<CONT_309_2>', '<CONT_372_2>', '<END_203>', '<CONT_366_2>', '<CONT_178_1>', '<CONT_249_3>', '<CONT_322_1>', '<CONT_370_1>', '<CONT_77_3>', '<CONT_306_3>', '<END_105>', '<END_216>', '<CONT_334_1>', '<CONT_243_2>', '<START_159>', '<CONT_184_2>', '<START_111>', '<START_33>', '<CONT_149_3>', '<CONT_73_4>', '<CONT_13_4>', '<CONT_90_1>', '<CONT_209_5>', '<CONT_130_4>', '<CONT_207_5>', '<CONT_110_2>', '<CONT_79_3>', '<CONT_92_4>', '<START_187>', '<CONT_307_1>', '<CONT_289_4>', '<CONT_131_1>', '<CONT_257_3>', '<CONT_190_5>', '<CONT_21_1>', '<CONT_269_5>', '<CONT_283_5>', '<CONT_210_1>', '<CONT_25_5>', '<CONT_138_1>', '<CONT_217_3>', '<CONT_405_5>', '<CONT_187_4>', '<CONT_29_5>', '<END_19>', '<CONT_332_4>', '<CONT_105_1>', '<CONT_157_4>', '<START_84>', '<CONT_396_4>', '<CONT_146_4>', '<END_402>', '<CONT_119_2>', '<CONT_343_2>', '<CONT_284_3>', '<CONT_71_5>', '<CONT_162_5>', '<END_189>', '<CONT_393_3>', '<CONT_382_1>', '<CONT_109_1>', '<CONT_138_3>', '<CONT_332_3>', '<END_346>', '<CONT_187_1>', '<CONT_79_1>', '<CONT_143_1>', '<START_174>', '<CONT_288_5>', '<CONT_5_5>', '<CONT_398_5>', '<CONT_92_2>', '<CONT_154_1>', '<CONT_123_3>', '<CONT_343_1>', '<CONT_87_5>', '<CONT_257_1>', '<CONT_280_3>', '<CONT_96_5>', '<CONT_157_3>', '<CONT_235_5>', '<START_282>', '<CONT_403_5>', '<CONT_285_3>', '<CONT_101_3>', '<START_262>', '<END_162>', '<CONT_376_3>', '<CONT_75_3>', '<CONT_49_3>', '<CONT_324_2>', '<CONT_153_3>', '<CONT_191_2>', '<CONT_39_2>', '<END_61>', '<CONT_125_4>', '<END_13>', '<CONT_167_4>', '<START_192>', '<END_129>', '<CONT_295_4>', '<END_336>', '<CONT_326_4>', '<CONT_372_4>', '<CONT_273_3>', '<CONT_41_5>', '<CONT_214_3>', '<CONT_262_1>', '<CONT_386_1>', '<END_75>', '<START_406>', '<CONT_151_2>', '<CONT_290_5>', '<CONT_272_2>', '<START_207>', '<CONT_179_2>', '<CONT_39_5>', '<CONT_263_5>', '<CONT_404_1>', '<CONT_369_3>', '<CONT_15_5>', '<CONT_246_2>', '<CONT_276_4>', '<CONT_220_5>', '<CONT_26_1>', '<CONT_146_2>', '<END_247>', '<START_209>', '<CONT_382_3>', '<END_244>', '<CONT_175_3>', '<CONT_3_2>', '<CONT_269_1>', '<CONT_33_3>', '<CONT_224_5>', '<START_293>', '<CONT_65_1>', '<END_399>', '<CONT_371_5>', '<CONT_287_4>', '<CONT_86_3>', '<CONT_136_3>', '<START_292>', '<CONT_267_3>', '<CONT_381_5>', '<START_89>', '<END_342>', '<CONT_83_3>', '<CONT_51_2>', '<END_184>', '<START_56>', '<CONT_221_4>', '<CONT_291_5>', '<CONT_159_1>', '<END_286>', '<CONT_318_5>', '<START_366>', '<CONT_225_5>', '<CONT_192_4>', '<END_5>', '<CONT_259_4>', '<START_297>', '<CONT_205_4>', '<END_68>', '<CONT_398_4>', '<CONT_133_1>', '<CONT_342_1>', '<CONT_111_5>', '<CONT_43_2>', '<END_12>', '<CONT_91_4>', '<CONT_123_5>', '<CONT_296_5>', '<CONT_349_1>', '<END_92>', '<CONT_147_4>', '<CONT_185_3>', '<END_350>', '<CONT_238_5>', '<CONT_87_2>', '<CONT_353_4>', '<END_404>', '<CONT_67_5>', '<CONT_112_5>', '<CONT_221_3>', '<CONT_2_2>', '<CONT_37_1>', '<END_80>', '<CONT_385_3>', '<END_382>', '<END_217>', '<CONT_271_5>', '<CONT_384_4>', '<END_164>', '<CONT_304_4>', '<END_157>', '<CONT_264_3>', '<CONT_311_5>', '<CONT_400_2>', '<CONT_215_2>', '<CONT_61_4>', '<CONT_368_2>', '<CONT_329_1>', '<START_59>', '<CONT_243_5>', '<CONT_239_3>', '<CONT_208_3>', '<START_20>', '<CONT_75_1>', '<CONT_395_5>', '<CONT_284_2>', '<CONT_368_5>', '<CONT_126_2>', '<CONT_104_5>', '<END_272>', '<CONT_344_2>', '<CONT_192_1>', '<CONT_306_1>', '<CONT_100_1>', '<CONT_109_5>', '<CONT_135_3>', '<CONT_213_2>', '<CONT_2_3>', '<CONT_25_4>', '<CONT_273_1>', '<CONT_375_3>', '<CONT_72_1>', '<END_265>', '<CONT_181_5>', '<CONT_66_1>', '<CONT_8_5>', '<END_307>', '<CONT_401_1>', '<CONT_331_1>', '<CONT_169_2>', '<CONT_272_5>', '<CONT_398_2>', '<CONT_215_1>', '<CONT_392_4>', '<CONT_314_1>', '<CONT_49_1>', '<START_68>', '<CONT_2_4>', '<CONT_246_5>', '<END_58>', '<END_328>', '<CONT_101_2>', '<CONT_209_3>', '<CONT_241_2>', '<CONT_85_1>', '<CONT_139_3>', '<CONT_310_1>', '<CONT_261_4>', '<CONT_391_3>', '<CONT_144_3>', '<CONT_262_2>', '<CONT_225_2>', '<CONT_292_2>', '<CONT_363_1>', '<CONT_301_5>', '<CONT_59_5>', '<CONT_300_5>', '<END_213>', '<END_218>', '<CONT_117_5>', '<END_81>', '<CONT_233_4>', '<CONT_180_4>', '<CONT_35_2>', '<CONT_278_2>', '<START_64>', '<START_250>', '<CONT_166_2>', '<CONT_216_1>', '<END_366>', '<CONT_247_2>', '<END_264>', '<CONT_145_4>', '<CONT_302_2>', '<CONT_350_1>', '<START_95>', '<START_346>', '<END_10>', '<CONT_122_1>', '<END_130>', '<CONT_236_5>', '<CONT_282_1>', '<CONT_243_4>', '<CONT_267_1>', '<END_294>', '<CONT_4_4>', '<CONT_59_2>', '<END_84>', '<CONT_125_2>', '<CONT_398_1>', '<CONT_297_2>', '<START_266>', '<CONT_389_4>', '<END_183>', '<CONT_78_3>', '<CONT_145_5>', '<END_248>', '<END_261>', '<END_202>', '<CONT_372_5>', '<CONT_45_5>', '<END_280>', '<CONT_390_1>', '<CONT_177_3>', '<CONT_138_5>', '<CONT_14_5>', '<CONT_61_3>', '<CONT_120_3>', '<END_341>', '<START_126>', '<CONT_27_4>', '<CONT_330_5>', '<CONT_377_3>', '<CONT_350_2>', '<CONT_378_1>', '<CONT_36_2>', '<CONT_235_3>', '<CONT_317_4>', '<CONT_206_2>', '<CONT_148_2>', '<CONT_0_2>', '<CONT_156_1>', '<CONT_200_3>', '<CONT_333_1>', '<END_270>', '<CONT_187_5>', '<CONT_357_3>', '<CONT_245_3>', '<CONT_396_5>', '<CONT_333_5>', '<CONT_381_1>', '<CONT_384_1>', '<CONT_110_1>', '<CONT_194_2>', '<CONT_14_4>', '<CONT_262_3>', '<CONT_130_2>', '<END_14>', '<CONT_102_3>', '<CONT_399_3>', '<START_138>', '<END_262>', '<CONT_240_2>', '<END_207>', '<CONT_281_3>', '<END_395>', '<CONT_263_1>', '<END_227>', '<END_153>', '<END_222>', '<START_258>', '<CONT_90_2>', '<CONT_304_3>', '<CONT_15_3>', '<CONT_56_4>', '<END_108>', '<CONT_240_3>', '<CONT_389_5>', '<CONT_62_4>', '<CONT_183_4>', '<CONT_352_3>', '<END_392>', '<CONT_8_1>', '<CONT_160_4>', '<CONT_269_2>', '<CONT_158_5>', '<CONT_238_4>', '<START_108>', '<CONT_140_5>', '<CONT_89_2>', '<CONT_154_4>', '<END_292>', '<CONT_322_3>', '<START_369>', '<CONT_43_3>', '<CONT_181_3>', '<START_173>', '<CONT_278_3>', '<START_106>', '<START_204>', '<CONT_144_1>', '<START_169>', '<CONT_60_1>', '<CONT_122_4>', '<CONT_370_2>', '<START_34>', '<CONT_10_2>', '<CONT_57_2>', '<CONT_105_3>', '<END_204>', '<CONT_9_1>', '<CONT_274_4>', '<CONT_302_5>', '<CONT_114_5>', '<END_381>', '<CONT_115_1>', '<CONT_291_1>', '<START_236>', '<CONT_102_4>', '<START_397>', '<END_69>', '<CONT_339_3>', '<CONT_141_3>', '<START_14>', '<START_69>', '<CONT_363_5>', '<CONT_17_1>', '<CONT_41_3>', '<CONT_218_2>', '<END_387>', '<END_359>', '<CONT_116_4>', '<CONT_249_5>', '<CONT_340_2>', '<CONT_292_3>', '<CONT_108_5>', '<CONT_373_4>', '<END_344>', '<CONT_285_2>', '<END_137>', '<CONT_1_5>', '<CONT_247_4>', '<CONT_128_1>', '<CONT_352_1>', '<START_110>', '<CONT_50_5>', '<END_223>', '<CONT_320_3>', '<CONT_22_5>', '<CONT_32_1>', '<CONT_93_1>', '<CONT_341_5>', '<CONT_100_2>', '<CONT_124_3>', '<CONT_354_1>', '<END_87>', '<CONT_88_1>', '<START_60>', '<CONT_366_4>', '<CONT_52_5>', '<CONT_64_1>', '<CONT_379_1>', '<CONT_210_2>', '<START_203>', '<CONT_66_2>', '<CONT_202_5>', '<CONT_148_4>', '<END_77>', '<CONT_210_4>', '<CONT_349_5>', '<CONT_21_3>', '<CONT_277_5>', '<CONT_347_5>', '<CONT_341_3>', '<CONT_345_3>', '<CONT_28_4>', '<START_3>', '<START_7>', '<CONT_373_2>', '<CONT_0_1>', '<END_193>', '<CONT_248_2>', '<CONT_106_5>', '<CONT_367_2>', '<END_390>', '<CONT_131_4>', '<CONT_376_2>', '<CONT_35_1>', '<START_260>', '<END_396>', '<CONT_188_4>', '<CONT_18_3>', '<CONT_10_5>', '<CONT_187_3>', '<CONT_224_4>', '<START_251>', '<CONT_300_3>', '<CONT_197_2>', '<START_305>', '<CONT_101_5>', '<START_232>', '<CONT_254_5>', '<CONT_253_3>', '<CONT_251_5>', '<CONT_368_3>', '<CONT_364_2>', '<CONT_372_3>', '<END_178>', '<CONT_88_5>', '<CONT_121_2>', '<START_214>', '<START_385>', '<CONT_41_1>', '<END_233>', '<CONT_20_1>', '<CONT_178_5>', '<CONT_8_2>', '<CONT_241_4>', '<CONT_71_4>', '<START_71>', '<CONT_145_1>', '<CONT_350_4>', '<CONT_195_2>', '<CONT_49_2>', '<END_50>', '<CONT_308_3>', '<CONT_28_1>', '<START_117>', '<START_6>', '<END_16>', '<START_13>', '<CONT_312_2>', '<START_340>', '<CONT_100_5>', '<CONT_50_3>', '<CONT_302_3>', '<CONT_32_5>', '<CONT_266_5>', '<CONT_405_1>', '<END_46>', '<END_174>', '<CONT_44_4>', '<END_332>', '<CONT_95_2>', '<START_40>', '<END_281>', '<CONT_324_1>', '<CONT_354_5>', '<CONT_229_3>', '<END_365>', '<CONT_344_1>', '<CONT_63_2>', '<CONT_377_1>', '<CONT_151_4>', '<START_102>', '<END_151>', '<CONT_354_3>', '<START_170>', '<END_142>', '<CONT_286_4>', '<CONT_326_3>', '<START_239>', '<CONT_97_4>', '<CONT_193_3>', '<CONT_305_1>', '<CONT_46_3>', '<CONT_244_4>', '<START_82>', '<CONT_261_3>', '<CONT_261_2>', '<CONT_172_3>', '<START_256>', '<START_101>', '<CONT_83_5>', '<CONT_34_2>', '<CONT_244_3>', '<CONT_24_5>', '<CONT_282_3>', '<START_379>', '<START_189>', '<CONT_348_4>', '<END_139>', '<CONT_235_4>', '<CONT_298_3>', '<END_3>', '<CONT_192_3>', '<END_269>', '<CONT_180_2>', '<CONT_359_2>', '<CONT_401_5>', '<CONT_255_4>', '<CONT_276_5>', '<CONT_388_2>', '<CONT_100_4>', '<CONT_153_5>', '<START_124>', '<START_368>', '<CONT_204_4>', '<END_351>', '<CONT_73_5>', '<CONT_277_1>', '<CONT_218_1>', '<CONT_314_2>', '<CONT_118_5>', '<START_114>', '<START_99>', '<CONT_228_4>', '<CONT_345_2>', '<CONT_343_3>', '<CONT_236_4>', '<CONT_289_1>', '<CONT_83_1>', '<CONT_307_4>', '<CONT_38_2>', '<START_343>', '<CONT_373_3>', '<CONT_386_5>', '<CONT_203_4>', '<CONT_264_1>', '<END_295>', '<CONT_290_3>', '<CONT_309_4>', '<END_133>', '<END_334>', '<CONT_335_1>', '<CONT_135_5>', '<CONT_178_4>', '<CONT_40_3>', '<CONT_74_4>', '<CONT_196_1>', '<CONT_237_5>', '<START_370>', '<CONT_73_3>', '<CONT_355_2>', '<CONT_96_3>', '<END_237>', '<CONT_73_2>', '<CONT_119_5>', '<CONT_131_2>', '<CONT_99_2>', '<CONT_119_1>', '<CONT_285_5>', '<CONT_108_2>', '<CONT_6_4>', '<END_60>', '<START_88>', '<CONT_127_1>', '<END_66>', '<CONT_200_2>', '<CONT_57_5>', '<CONT_220_3>', '<END_93>', '<CONT_251_3>', '<CONT_230_5>', '<CONT_344_5>', '<END_363>', '<CONT_81_4>', '<CONT_238_2>', '<END_296>', '<CONT_265_3>', '<END_55>', '<CONT_381_4>', '<CONT_31_2>', '<CONT_36_1>', '<CONT_319_1>', '<CONT_336_5>', '<CONT_161_5>', '<CONT_126_4>', '<CONT_136_5>', '<CONT_33_5>', '<CONT_137_4>', '<CONT_232_5>', '<CONT_80_1>', '<START_240>', '<CONT_338_1>', '<CONT_0_4>', '<CONT_68_2>', '<CONT_40_1>', '<CONT_207_1>', '<CONT_211_1>', '<CONT_45_2>', '<START_350>', '<CONT_218_5>', '<END_121>', '<START_49>', '<CONT_123_2>', '<START_125>', '<CONT_171_5>', '<CONT_260_1>', '<END_38>', '<END_85>', '<END_297>', '<END_96>', '<END_309>', '<CONT_293_2>', '<CONT_186_4>', '<CONT_229_2>', '<CONT_308_2>', '<CONT_244_2>', '<CONT_252_5>', '<CONT_24_3>', '<CONT_210_5>', '<CONT_330_4>', '<START_269>', '<CONT_247_1>', '<CONT_64_2>', '<END_104>', '<CONT_78_5>', '<START_93>', '<CONT_121_5>', '<END_405>', '<CONT_205_5>', '<CONT_346_1>', '<CONT_279_5>', '<CONT_391_4>', '<CONT_227_5>', '<CONT_237_1>', '<CONT_7_2>', '<END_118>', '<CONT_25_1>', '<START_27>', '<CONT_303_3>', '<END_361>', '<CONT_163_4>', '<CONT_278_1>', '<START_162>', '<END_343>', '<CONT_199_1>', '<START_323>', '<CONT_380_4>', '<END_388>', '<CONT_84_1>', '<CONT_76_4>', '<CONT_296_4>', '<CONT_314_5>', '<START_380>', '<CONT_41_4>', '<CONT_305_2>', '<CONT_262_4>', '<END_175>', '<END_70>', '<CONT_62_5>', '<CONT_111_2>', '<CONT_13_5>', '<CONT_309_5>', '<CONT_316_3>', '<CONT_22_1>', '<CONT_35_4>', '<CONT_141_1>', '<CONT_197_1>', '<CONT_199_5>', '<CONT_313_4>', '<CONT_361_1>', '<CONT_185_1>', '<END_230>', '<END_322>', '<END_187>', '<CONT_223_2>', '<CONT_48_3>', '<CONT_336_2>', '<CONT_228_5>', '<CONT_348_2>', '<END_311>', '<CONT_17_2>', '<END_345>', '<START_181>', '<START_136>', '<CONT_204_5>', '<CONT_234_1>', '<CONT_397_2>', '<CONT_186_2>', '<CONT_227_4>', '<CONT_259_5>', '<END_32>', '<END_198>', '<CONT_253_4>', '<END_126>', '<CONT_394_1>', '<CONT_153_1>', '<END_372>', '<CONT_402_3>', '<CONT_250_3>', '<END_371>', '<CONT_87_3>', '<CONT_374_1>', '<START_234>', '<CONT_345_5>', '<CONT_94_2>', '<CONT_227_3>', '<START_48>', '<START_112>', '<CONT_139_2>', '<CONT_18_2>', '<CONT_99_5>', '<CONT_150_1>', '<CONT_83_4>', '<CONT_184_4>', '<START_185>', '<START_403>', '<CONT_242_5>', '<CONT_321_4>', '<CONT_307_3>', '<END_53>', '<CONT_217_4>', '<CONT_29_3>', '<CONT_57_4>', '<CONT_147_2>', '<CONT_22_3>', '<CONT_71_3>', '<CONT_157_5>', '<END_310>', '<CONT_313_3>', '<CONT_244_1>', '<CONT_288_2>', '<CONT_324_3>', '<START_364>', '<CONT_6_2>', '<START_42>', '<CONT_355_4>', '<CONT_402_1>', '<CONT_148_1>', '<CONT_273_4>', '<CONT_232_3>', '<CONT_158_3>', '<CONT_232_1>', '<CONT_107_4>', '<CONT_268_4>', '<CONT_315_3>', '<CONT_205_3>', '<CONT_286_2>', '<CONT_34_3>', '<START_38>', '<CONT_63_5>', '<CONT_271_1>', '<START_253>', '<CONT_369_2>', '<END_221>', '<CONT_199_3>', '<CONT_7_4>', '<START_347>', '<CONT_85_5>', '<CONT_143_2>', '<START_63>', '<CONT_367_3>', '<CONT_94_3>', '<CONT_291_3>', '<CONT_150_2>', '<END_386>', '<CONT_202_2>', '<CONT_129_3>', '<CONT_227_1>', '<CONT_89_1>', '<CONT_96_1>', '<CONT_337_5>', '<CONT_278_5>', '<CONT_183_3>', '<CONT_337_4>', '<CONT_165_4>', '<CONT_183_2>', '<CONT_172_5>', '<CONT_258_4>', '<END_231>', '<END_226>', '<CONT_307_2>', '<END_64>', '<CONT_141_4>', '<CONT_58_5>', '<CONT_123_4>', '<CONT_228_1>', '<CONT_303_5>', '<CONT_112_1>', '<CONT_245_1>', '<CONT_339_5>', '<START_314>', '<CONT_34_1>', '<CONT_124_5>', '<CONT_280_2>', '<CONT_226_5>', '<CONT_168_4>', '<CONT_228_3>', '<END_377>', '<START_216>', '<CONT_364_4>', '<END_152>', '<CONT_184_5>', '<CONT_51_4>', '<CONT_163_1>', '<CONT_213_5>', '<CONT_400_3>', '<CONT_287_3>', '<CONT_172_2>', '<START_21>', '<CONT_374_4>', '<START_249>', '<CONT_77_5>', '<CONT_0_5>', '<CONT_250_1>', '<END_35>', '<END_201>', '<CONT_388_1>', '<CONT_129_2>', '<START_150>', '<START_167>', '<START_233>', '<CONT_18_4>', '<END_165>', '<CONT_330_1>', '<START_396>', '<CONT_347_3>', '<CONT_65_5>', '<END_57>', '<CONT_270_4>', '<CONT_198_2>', '<CONT_356_4>', '<END_180>', '<CONT_264_2>', '<CONT_203_5>', '<CONT_127_2>', '<CONT_16_5>', '<CONT_93_5>', '<CONT_223_5>', '<CONT_375_4>', '<END_18>', '<CONT_260_3>', '<CONT_42_3>', '<CONT_32_3>', '<CONT_252_3>', '<CONT_190_2>', '<CONT_37_2>', '<CONT_72_3>', '<CONT_362_1>', '<CONT_72_2>', '<CONT_404_5>', '<CONT_317_3>', '<CONT_167_5>', '<CONT_279_1>', '<START_129>', '<START_190>', '<CONT_343_4>', '<CONT_146_1>', '<CONT_89_5>', '<CONT_362_5>', '<CONT_15_4>', '<CONT_74_2>', '<END_278>', '<CONT_299_1>', '<END_20>', '<CONT_177_2>', '<CONT_308_5>', '<CONT_7_3>', '<CONT_52_1>', '<CONT_61_1>', '<END_245>', '<END_138>', '<CONT_98_3>', '<CONT_85_3>', '<START_392>', '<CONT_248_3>', '<CONT_106_1>', '<START_254>', '<CONT_300_1>', '<CONT_68_3>', '<CONT_171_1>', '<CONT_349_3>', '<CONT_147_1>', '<CONT_19_4>', '<START_276>', '<END_400>', '<START_154>', '<START_67>', '<CONT_377_5>', '<CONT_275_2>', '<START_212>', '<START_35>', '<START_299>', '<END_321>', '<END_376>', '<END_236>', '<CONT_152_3>', '<CONT_160_3>', '<CONT_170_4>', '<CONT_276_2>', '<CONT_279_2>', '<CONT_53_3>', '<CONT_58_4>', '<CONT_334_4>', '<END_2>', '<CONT_5_1>', '<START_83>', '<CONT_44_1>', '<CONT_146_5>', '<CONT_394_4>', '<CONT_162_3>', '<CONT_97_5>', '<START_381>', '<CONT_228_2>', '<CONT_107_1>', '<CONT_46_5>', '<CONT_48_4>', '<CONT_323_5>', '<CONT_219_5>', '<CONT_47_3>', '<CONT_322_5>', '<CONT_1_2>', '<CONT_164_5>', '<CONT_295_1>', '<START_333>', '<START_146>', '<CONT_359_4>', '<CONT_252_1>', '<CONT_76_2>', '<CONT_135_2>', '<CONT_16_4>', '<CONT_130_1>', '<END_8>', '<END_88>', '<START_226>', '<END_300>', '<CONT_393_5>', '<START_194>', '<CONT_42_5>', '<START_188>', '<CONT_256_3>', '<CONT_287_2>', '<END_206>', '<START_360>', '<CONT_251_2>', '<CONT_377_4>', '<CONT_186_5>', '<CONT_274_1>', '<START_235>', '<CONT_312_4>', '<CONT_174_1>', '<CONT_212_3>', '<CONT_15_2>', '<CONT_363_4>', '<CONT_305_5>', '<CONT_43_4>', '<CONT_191_5>', '<CONT_253_1>', '<CONT_158_4>', '<CONT_152_2>', '<START_10>', '<CONT_359_3>', '<END_191>', '<CONT_254_1>', '<START_261>', '<CONT_383_2>', '<CONT_286_5>', '<CONT_144_2>', '<CONT_371_3>', '<END_301>', '<START_325>', '<CONT_183_1>', '<END_320>', '<START_401>', '<START_304>', '<CONT_67_4>', '<END_282>', '<CONT_45_1>', '<CONT_193_2>', '<CONT_376_4>', '<CONT_172_4>', '<CONT_309_3>', '<CONT_375_5>', '<CONT_404_2>', '<CONT_106_3>', '<CONT_48_1>', '<CONT_202_1>', '<CONT_23_3>', '<CONT_92_3>', '<CONT_103_1>', '<START_371>', '<CONT_80_4>', '<CONT_191_1>', '<START_178>', '<END_276>', '<CONT_298_4>', '<END_147>', '<START_383>', '<CONT_103_2>', '<CONT_143_3>', '<CONT_91_5>', '<CONT_311_4>', '<START_298>', '<START_45>', '<CONT_310_2>', '<CONT_278_4>', '<END_317>', '<END_51>', '<CONT_321_2>', '<CONT_224_2>', '<CONT_53_2>', '<CONT_136_2>', '<CONT_219_3>', '<CONT_336_3>', '<CONT_67_2>', '<CONT_170_5>', '<CONT_380_3>', '<END_385>', '<CONT_121_1>', '<START_279>', '<CONT_310_5>', '<CONT_30_5>', '<CONT_11_3>', '<CONT_306_2>', '<CONT_149_5>', '<CONT_115_5>', '<START_246>', '<CONT_249_4>', '<END_122>', '<CONT_103_4>', '<START_30>', '<START_243>', '<CONT_7_5>', '<CONT_149_2>', '<END_324>', '<CONT_300_4>', '<CONT_358_1>', '<START_92>', '<CONT_40_4>', '<CONT_76_1>', '<CONT_113_3>', '<START_179>', '<START_115>', '<END_329>', '<CONT_24_2>', '<CONT_13_2>', '<CONT_360_5>', '<CONT_384_2>', '<CONT_108_1>', '<START_161>', '<CONT_198_1>', '<CONT_339_1>', '<END_115>', '<CONT_371_2>', '<CONT_77_2>', '<START_141>', '<START_195>', '<CONT_353_5>', '<CONT_116_5>', '<CONT_213_3>', '<CONT_240_1>', '<CONT_372_1>', '<CONT_80_3>', '<CONT_288_4>', '<CONT_351_4>', '<CONT_358_3>', '<CONT_291_2>', '<END_102>', '<CONT_27_1>', '<CONT_161_1>', '<CONT_166_3>', '<CONT_298_5>', '<CONT_30_2>', '<START_345>', '<CONT_234_3>', '<CONT_238_3>', '<CONT_230_3>', '<CONT_338_3>', '<CONT_152_5>', '<CONT_162_2>', '<CONT_104_4>', '<END_7>', '<CONT_95_3>', '<CONT_226_2>', '<START_123>', '<CONT_206_3>', '<CONT_365_3>', '<END_316>', '<START_296>', '<CONT_245_4>', '<CONT_298_2>', '<CONT_349_4>', '<CONT_357_5>', '<CONT_312_3>', '<CONT_359_1>', '<CONT_216_3>', '<CONT_340_4>', '<CONT_55_1>', '<START_374>', '<CONT_54_4>', '<CONT_52_4>', '<CONT_402_4>', '<CONT_70_3>', '<CONT_94_1>', '<CONT_125_5>', '<CONT_390_5>', '<END_74>', '<CONT_44_2>', '<END_37>', '<CONT_12_2>', '<START_264>', '<START_197>', '<END_59>', '<CONT_190_3>', '<START_201>', '<CONT_403_3>', '<END_209>', '<CONT_148_5>', '<CONT_184_3>', '<END_380>', '<END_212>', '<CONT_55_3>', '<CONT_107_2>', '<END_283>', '<CONT_181_1>', '<CONT_316_1>', '<CONT_256_1>', '<START_211>', '<START_29>', '<CONT_335_4>', '<CONT_121_4>', '<CONT_139_5>', '<CONT_327_3>', '<CONT_148_3>', '<START_165>', '<CONT_256_2>', '<START_131>', '<START_316>', '<START_288>', '<CONT_252_2>', '<CONT_102_2>', '<CONT_189_4>', '<CONT_174_4>', '<END_313>', '<CONT_5_4>', '<END_347>', '<CONT_306_4>', '<CONT_60_4>', '<CONT_363_3>', '<CONT_397_1>', '<CONT_166_1>', '<START_177>', '<END_145>', '<CONT_242_3>', '<CONT_9_4>', '<CONT_46_4>', '<CONT_162_4>', '<END_303>', '<START_36>', '<END_196>', '<END_302>', '<CONT_63_4>', '<END_123>', '<CONT_400_4>', '<CONT_211_3>', '<CONT_292_4>', '<CONT_130_3>', '<CONT_155_3>', '<CONT_224_3>', '<CONT_94_5>', '<CONT_261_5>', '<CONT_297_4>', '<CONT_354_4>', '<CONT_401_4>', '<CONT_320_1>', '<CONT_255_3>', '<CONT_216_4>', '<CONT_393_1>', '<CONT_117_1>', '<START_153>', '<CONT_133_2>', '<CONT_395_2>', '<CONT_3_3>', '<CONT_58_3>', '<END_73>', '<END_163>', '<END_256>', '<START_332>', '<CONT_110_4>', '<CONT_181_4>', '<CONT_155_2>', '<CONT_62_2>', '<CONT_175_4>', '<START_308>', '<CONT_374_2>', '<CONT_380_1>', '<START_300>', '<CONT_141_2>', '<CONT_302_1>', '<CONT_244_5>', '<CONT_340_5>', '<CONT_53_5>', '<START_376>', '<CONT_4_5>', '<CONT_218_4>', '<CONT_243_3>', '<START_223>', '<CONT_114_1>', '<CONT_27_3>', '<CONT_271_2>', '<CONT_352_5>', '<CONT_110_5>', '<END_125>', '<CONT_296_3>', '<CONT_291_4>', '<CONT_11_5>', '<CONT_155_4>', '<CONT_144_4>', '<START_4>', '<END_52>', '<CONT_189_2>', '<CONT_328_3>', '<CONT_134_1>', '<CONT_265_4>', '<CONT_30_3>', '<CONT_357_4>', '<CONT_151_1>', '<CONT_65_3>', '<END_271>', '<END_30>', '<CONT_355_1>', '<CONT_162_1>', '<CONT_145_2>', '<END_135>', '<CONT_254_3>', '<CONT_249_2>', '<END_214>', '<CONT_147_5>', '<CONT_301_4>', '<CONT_174_2>', '<START_315>', '<START_389>', '<CONT_273_2>', '<END_78>', '<END_250>', '<CONT_381_2>', '<CONT_36_3>', '<CONT_50_2>', '<CONT_332_2>', '<CONT_140_1>', '<START_337>', '<START_363>', '<START_267>', '<START_97>', '<END_49>', '<CONT_392_5>', '<CONT_180_5>', '<CONT_97_3>', '<END_225>', '<CONT_78_4>', '<CONT_319_3>', '<CONT_66_4>', '<START_98>', '<CONT_128_3>', '<START_157>', '<END_200>', '<CONT_206_4>', '<START_2>', '<END_234>', '<CONT_382_5>', '<END_179>', '<CONT_205_1>', '<CONT_310_3>', '<CONT_84_4>', '<CONT_369_1>', '<START_404>', '<CONT_280_4>', '<END_172>', '<CONT_310_4>', '<CONT_311_3>', '<CONT_389_1>', '<CONT_375_1>', '<END_1>', '<CONT_9_3>', '<END_238>', '<START_247>', '<START_365>', '<CONT_152_1>', '<CONT_179_4>', '<CONT_230_4>', '<CONT_352_2>', '<CONT_385_4>', '<CONT_212_4>', '<CONT_108_3>', '<START_118>', '<CONT_248_5>', '<CONT_11_4>', '<CONT_277_3>', '<END_116>', '<CONT_42_1>', '<CONT_6_5>', '<START_72>', '<START_378>', '<START_318>', '<CONT_150_4>', '<CONT_323_3>', '<START_19>', '<START_219>', '<END_305>', '<CONT_274_3>', '<CONT_282_4>', '<END_192>', '<END_367>', '<CONT_312_1>', '<CONT_295_2>', '<CONT_0_3>', '<CONT_68_1>', '<CONT_399_2>', '<CONT_104_2>', '<CONT_30_1>', '<END_4>', '<CONT_26_4>', '<END_383>', '<START_341>', '<START_335>', '<CONT_34_5>', '<CONT_389_3>', '<CONT_19_1>', '<START_175>', '<END_352>', '<CONT_289_5>', '<END_132>', '<END_326>', '<CONT_393_2>', '<CONT_98_2>', '<CONT_87_1>', '<CONT_87_4>', '<CONT_284_1>', '<START_287>', '<START_326>', '<CONT_132_4>', '<START_215>', '<CONT_353_2>', '<CONT_214_1>', '<CONT_193_5>', '<END_319>', '<START_65>', '<CONT_351_2>', '<CONT_217_1>', '<CONT_128_2>', '<CONT_18_1>', '<CONT_186_3>', '<START_134>', '<CONT_182_5>', '<CONT_78_2>', '<CONT_288_3>', '<CONT_176_4>', '<CONT_390_3>', '<CONT_177_5>', '<START_75>', '<CONT_88_2>', '<END_98>', '<CONT_182_4>', '<CONT_387_1>', '<CONT_3_4>', '<CONT_266_1>', '<CONT_328_5>', '<CONT_209_2>', '<CONT_160_2>', '<CONT_348_3>', '<END_176>', '<CONT_190_1>', '<CONT_267_5>', '<START_283>', '<CONT_116_1>', '<START_26>', '<START_61>', '<START_103>', '<CONT_290_2>', '<END_290>', '<CONT_11_2>', '<CONT_19_2>', '<CONT_145_3>', '<CONT_230_2>', '<CONT_360_2>', '<CONT_225_3>', '<CONT_232_4>', '<CONT_203_1>', '<CONT_225_4>', '<CONT_299_5>', '<START_257>', '<CONT_364_5>', '<CONT_267_2>', '<CONT_404_3>', '<CONT_367_1>', '<START_17>', '<CONT_25_3>', '<CONT_333_2>', '<CONT_12_5>', '<CONT_235_1>', '<START_281>', '<CONT_55_4>', '<CONT_201_5>', '<CONT_151_3>', '<CONT_226_3>', '<CONT_113_5>', '<CONT_51_3>', '<START_182>', '<CONT_394_2>', '<CONT_224_1>', '<CONT_211_2>', '<CONT_188_3>', '<CONT_391_2>', '<START_44>', '<CONT_4_1>', '<CONT_91_1>', '<CONT_297_1>', '<CONT_15_1>', '<CONT_216_5>', '<CONT_234_5>', '<CONT_209_1>', '<CONT_45_4>', '<CONT_336_4>', '<END_298>', '<CONT_366_5>', '<CONT_259_2>', '<CONT_338_2>', '<CONT_120_2>', '<CONT_154_5>', '<END_374>', '<END_331>', '<END_267>', '<CONT_106_2>', '<CONT_236_1>', '<CONT_37_5>', '<START_46>', '<CONT_254_2>', '<CONT_91_2>', '<START_301>', '<CONT_391_5>', '<END_22>', '<CONT_403_1>', '<CONT_227_2>', '<START_229>', '<CONT_351_1>', '<CONT_10_3>', '<CONT_361_5>', '<CONT_323_1>', '<CONT_281_1>', '<CONT_348_5>', '<START_53>', '<CONT_240_5>', '<END_354>', '<CONT_97_1>', '<CONT_378_2>', '<START_32>', '<CONT_110_3>', '<CONT_29_2>', '<CONT_33_2>', '<CONT_74_3>', '<CONT_236_3>', '<END_110>', '<CONT_287_5>', '<CONT_111_1>', '<START_210>', '<CONT_256_5>', '<END_113>', '<CONT_47_4>', '<START_100>', '<END_124>', '<CONT_248_4>', '<CONT_304_1>', '<CONT_334_2>', '<CONT_61_2>', '<CONT_373_1>', '<CONT_95_4>', '<CONT_349_2>', '<CONT_118_4>', '<END_260>', '<CONT_120_5>', '<CONT_142_2>', '<END_54>', '<CONT_250_4>', '<CONT_94_4>', '<END_355>', '<CONT_64_5>', '<CONT_359_5>', '<CONT_13_1>', '<CONT_7_1>', '<CONT_143_5>', '<END_255>', '<CONT_229_5>', '<CONT_395_3>', '<CONT_112_2>', '<CONT_20_4>', '<CONT_85_4>', '<START_358>', '<CONT_50_4>', '<CONT_165_3>', '<START_180>', '<CONT_107_5>', '<CONT_265_2>', '<CONT_31_4>', '<CONT_270_3>', '<CONT_180_3>', '<CONT_274_5>', '<CONT_378_4>', '<CONT_305_3>', '<CONT_122_2>', '<END_26>', '<CONT_188_1>', '<END_6>', '<CONT_158_1>', '<CONT_251_1>', '<CONT_120_4>', '<CONT_198_3>', '<CONT_81_5>', '<CONT_351_3>', '<CONT_166_4>', '<CONT_97_2>', '<CONT_123_1>', '<START_139>', '<CONT_328_4>', '<CONT_234_2>', '<CONT_37_4>', '<CONT_284_5>', '<CONT_386_4>', '<CONT_157_1>', '<END_79>', '<CONT_128_4>', '<END_62>', '<END_288>', '<CONT_107_3>', '<CONT_155_1>', '<END_15>', '<CONT_261_1>', '<CONT_161_3>', '<CONT_211_4>', '<CONT_129_5>', '<CONT_365_4>', '<START_241>', '<CONT_328_2>', '<START_231>', '<CONT_327_2>', '<CONT_86_1>', '<CONT_193_1>', '<CONT_367_4>', '<CONT_203_3>', '<CONT_277_2>', '<CONT_406_2>', '<START_322>', '<CONT_270_1>', '<CONT_115_2>', '<CONT_290_1>', '<CONT_137_2>', '<CONT_39_4>', '<CONT_29_4>', '<CONT_272_1>', '<CONT_4_3>', '<END_27>', '<CONT_237_3>', '<CONT_71_2>', '<START_263>', '<END_41>', '<END_249>', '<CONT_252_4>', '<CONT_320_4>', '<CONT_47_5>', '<CONT_304_5>', '<CONT_286_1>', '<CONT_397_5>', '<START_158>', '<CONT_362_4>', '<CONT_271_4>', '<CONT_212_1>', '<START_149>', '<CONT_47_1>', '<CONT_232_2>', '<CONT_24_1>', '<CONT_22_2>', '<CONT_207_3>', '<START_238>', '<CONT_126_1>', '<CONT_217_5>', '<CONT_319_5>', '<CONT_231_1>', '<CONT_114_3>', '<CONT_161_4>', '<CONT_325_3>', '<CONT_279_4>', '<CONT_371_1>', '<START_31>', '<CONT_265_5>', '<CONT_405_2>', '<CONT_31_5>', '<END_76>', '<CONT_113_4>', '<CONT_379_3>', '<START_218>', '<END_86>', '<END_143>', '<CONT_142_3>', '<START_388>', '<CONT_305_4>', '<CONT_165_1>', '<CONT_63_3>', '<CONT_320_5>', '<END_119>', '<CONT_223_3>', '<CONT_379_5>', '<START_356>', '<CONT_329_2>', '<CONT_38_3>', '<CONT_9_2>', '<CONT_275_1>', '<START_270>', '<START_382>', '<CONT_134_2>', '<CONT_254_4>', '<CONT_12_4>', '<CONT_282_5>', '<CONT_404_4>', '<CONT_124_4>', '<CONT_396_1>', '<CONT_222_2>', '<START_255>', '<CONT_389_2>', '<CONT_21_5>', '<END_370>', '<START_344>', '<CONT_213_1>', '<CONT_75_2>', '<END_167>', '<CONT_46_2>', '<CONT_253_2>', '<CONT_374_3>', '<START_176>', '<CONT_215_4>', '<CONT_160_1>', '<CONT_332_1>', '<START_252>', '<CONT_151_5>', '<CONT_309_1>', '<CONT_163_2>', '<CONT_208_2>', '<CONT_386_2>', '<START_354>', '<END_101>', '<END_273>', '<CONT_281_5>', '<START_295>', '<CONT_200_1>', '<CONT_342_2>', '<CONT_165_2>', '<START_278>', '<CONT_23_1>', '<END_232>', '<CONT_365_5>', '<START_275>', '<CONT_2_5>', '<END_318>', '<END_325>', '<CONT_381_3>', '<CONT_44_5>', '<START_310>', '<CONT_1_4>', '<CONT_290_4>', '<END_389>', '<END_197>', '<CONT_219_2>', '<START_107>', '<CONT_129_4>', '<CONT_77_1>', '<START_362>', '<END_23>', '<CONT_231_4>', '<CONT_197_5>', '<CONT_234_4>', '<CONT_346_4>', '<CONT_316_5>', '<CONT_1_1>', '<CONT_403_2>', '<START_306>', '<CONT_62_3>', '<CONT_380_5>', '<CONT_394_3>', '<END_181>', '<CONT_153_2>', '<CONT_313_2>', '<CONT_194_3>', '<CONT_204_2>', '<CONT_139_4>', '<CONT_201_3>', '<CONT_304_2>', '<END_246>', '<CONT_255_5>', '<CONT_335_5>', '<END_335>', '<CONT_84_5>', '<CONT_175_2>', '<CONT_242_1>', '<CONT_99_1>', '<CONT_268_1>', '<CONT_60_3>', '<CONT_392_2>', '<CONT_242_2>', '<CONT_185_5>', '<CONT_259_1>', '<CONT_383_4>', '<CONT_49_4>', '<END_94>', '<CONT_312_5>', '<START_22>', '<CONT_95_5>', '<END_158>', '<START_15>', '<CONT_80_5>', '<CONT_188_5>', '<CONT_273_5>', '<START_348>', '<CONT_31_3>', '<END_199>', '<CONT_283_1>', '<CONT_264_5>', '<CONT_316_4>', '<CONT_135_1>', '<CONT_258_3>', '<CONT_395_1>', '<END_166>', '<END_284>', '<CONT_303_4>', '<START_55>', '<START_0>', '<CONT_142_4>', '<CONT_284_4>', '<START_317>', '<START_113>', '<END_384>', '<CONT_132_3>', '<CONT_223_4>', '<CONT_396_2>', '<START_394>', '<CONT_239_4>', '<START_11>', '<CONT_150_3>', '<START_359>', '<CONT_176_1>', '<CONT_134_5>', '<CONT_119_3>', '<CONT_78_1>', '<CONT_51_1>', '<START_330>', '<END_229>', '<CONT_206_5>', '<CONT_257_4>', '<CONT_403_4>', '<CONT_43_5>', '<CONT_27_5>', '<START_77>', '<CONT_199_4>', '<CONT_137_5>', '<END_356>', '<CONT_192_2>', '<CONT_42_2>', '<CONT_90_5>', '<END_251>', '<CONT_266_4>', '<CONT_337_2>', '<CONT_2_1>', '<END_159>', '<END_337>', '<CONT_293_1>', '<END_397>', '<CONT_182_3>', '<CONT_406_3>', '<START_70>', '<CONT_53_1>', '<CONT_86_4>', '<CONT_168_3>', '<CONT_201_2>', '<END_9>', '<CONT_370_3>', '<CONT_144_5>', '<CONT_212_2>', '<END_141>', '<END_194>', '<CONT_316_2>', '<CONT_260_2>', '<END_144>', '<CONT_60_5>', '<START_25>', '<CONT_64_4>', '<START_76>', '<CONT_77_4>', '<CONT_369_4>', '<START_109>', '<CONT_170_2>', '<CONT_331_4>', '<START_271>', '<END_109>', '<END_340>', '<END_314>', '<CONT_289_3>']\n",
            "10595\n"
          ]
        }
      ]
    },
    {
      "cell_type": "code",
      "source": [
        "from transformers import Seq2SeqTrainingArguments, Seq2SeqTrainer, BartForConditionalGeneration, BartTokenizer, BartConfig\n",
        "input_max_length=global_chunk_size\n",
        "target_max_length=global_chunk_size\n",
        "\n",
        "checkpoint='facebook/bart-base'\n",
        "tokenizer = BartTokenizer.from_pretrained(checkpoint)\n",
        "\n",
        "# Add the new words to the tokenizer's vocabulary\n",
        "tokenizer.add_tokens(custom_vocab)\n",
        "\n",
        "config = BartConfig.from_pretrained(checkpoint)\n",
        "config.vocab_size = config.vocab_size + len(custom_vocab)\n",
        "\n",
        "model = BartForConditionalGeneration(config=config)\n",
        "print('Default BART model vocab size: 50265')\n",
        "print('New model vocab size: ', config.vocab_size)\n",
        "print('Tokenizer vocab size: ', tokenizer.vocab_size)"
      ],
      "metadata": {
        "colab": {
          "base_uri": "https://localhost:8080/"
        },
        "id": "MyB7yxejWp26",
        "outputId": "efae733f-efcf-47c8-a8a0-c31c091658b5"
      },
      "execution_count": 31,
      "outputs": [
        {
          "output_type": "stream",
          "name": "stdout",
          "text": [
            "Default BART model vocab size: 50265\n",
            "New model vocab size:  60860\n",
            "Tokenizer vocab size:  50265\n"
          ]
        }
      ]
    },
    {
      "cell_type": "code",
      "source": [
        "for token in custom_vocab:\n",
        "    if token in tokenizer.get_vocab():\n",
        "        print(f\"Token '{token}' already in vocabulary\")\n",
        "        break\n",
        "    else:\n",
        "        print(f\"Token '{token}' not in vocabulary\")"
      ],
      "metadata": {
        "colab": {
          "base_uri": "https://localhost:8080/"
        },
        "id": "hFKRnRXua5d8",
        "outputId": "f1e71a4e-b22c-44ad-dd1e-8e39e70bc008"
      },
      "execution_count": 32,
      "outputs": [
        {
          "output_type": "stream",
          "name": "stdout",
          "text": [
            "Token '80.52' already in vocabulary\n"
          ]
        }
      ]
    },
    {
      "cell_type": "code",
      "source": [
        "tokenizer.vocab_size\n",
        "# this is also the same for BARTConfig"
      ],
      "metadata": {
        "colab": {
          "base_uri": "https://localhost:8080/"
        },
        "id": "oDhHlECKgeGm",
        "outputId": "e376826a-07ae-4bc1-965b-a1cad411709e"
      },
      "execution_count": 33,
      "outputs": [
        {
          "output_type": "execute_result",
          "data": {
            "text/plain": [
              "50265"
            ]
          },
          "metadata": {},
          "execution_count": 33
        }
      ]
    },
    {
      "cell_type": "markdown",
      "source": [
        " the return_tensors='pt' argument is needed if you want the tokenizer function to return PyTorch tensors instead of tokenized text. This is useful if you plan to directly pass the output of the tokenizer to a BART model, as BART expects PyTorch tensors as input. If you don't use return_tensors='pt', the tokenizer function will return a dictionary of lists, where each list contains the tokenized text."
      ],
      "metadata": {
        "id": "dwXPF4dgOjwS"
      }
    },
    {
      "cell_type": "code",
      "source": [
        "def tokenizer_fn(batch):\n",
        "    # Get the inputs and targets from the batch\n",
        "    examples = batch['translation']\n",
        "    example_ids = batch['id']\n",
        "\n",
        "    # Create a list of dictionaries that contain both the input, target, and example id\n",
        "    example_dicts = [{'input': eval(x)['input'], 'target': eval(x)['target'], 'id': ex_id} for x, ex_id in zip(examples, example_ids)]\n",
        "    \n",
        "    # Sort the examples based on the 'id' key in each dictionary\n",
        "    examples = sorted(example_dicts, key=lambda x: x['id'])\n",
        "    \n",
        "    # Extract the inputs and targets from the sorted examples\n",
        "    inputs = [' '.join(ex['input']) for ex in examples]\n",
        "    targets = [' '.join(ex['target']) for ex in examples]\n",
        "\n",
        "    # Tokenize the inputs and targets\n",
        "    tokenized_inputs = tokenizer(inputs, max_length=global_chunk_size, truncation=True)\n",
        "    tokenized_targets = tokenizer(targets, max_length=global_chunk_size, truncation=True)\n",
        "    \n",
        "    # Add the labels to the tokenized_inputs\n",
        "    tokenized_inputs['labels'] = tokenized_targets['input_ids']\n",
        "    print(f'Batch chunk sizes: ', global_chunk_size)\n",
        "    return tokenized_inputs\n"
      ],
      "metadata": {
        "id": "tQaGaBfGSuU0"
      },
      "execution_count": 34,
      "outputs": []
    },
    {
      "cell_type": "code",
      "source": [
        "dataset_train_df = pd.DataFrame(dataset_dict['train'])\n",
        "dataset_test_df = pd.DataFrame(dataset_dict['test'])\n",
        "dataset_train_df.to_csv('dataset_train_df.csv')\n",
        "dataset_test_df.to_csv('dataset_test_df.csv')"
      ],
      "metadata": {
        "id": "rmhOIowMNaBR"
      },
      "execution_count": 35,
      "outputs": []
    },
    {
      "cell_type": "code",
      "source": [
        "# Apply the tokenizer function to the dataset using the 'map()' method\n",
        "tokenized_datasets = dataset_dict.map(\n",
        "    tokenizer_fn,\n",
        "    batched=True,\n",
        "    remove_columns=dataset_dict['train'].column_names\n",
        ")"
      ],
      "metadata": {
        "colab": {
          "base_uri": "https://localhost:8080/",
          "height": 86,
          "referenced_widgets": [
            "207863f643a1465a948eeabc64f1aaa7",
            "3c7366a180ef420296ec7385b3b0c91a",
            "fbe6e89192cc46d1bb22033eb6e9fa73",
            "172d66f2e02843629386a71ba089cb8d",
            "f7494df3f05246c0887a5af94e84b756",
            "f0bd5d5b084b4f2fbd661c7c8871a541",
            "60a44ac8403847199fbc7befb3d2923d",
            "7601fbf930ad41cda4b736e2b4d1c1d7",
            "bb603cff475b44d293bc824df59189c3",
            "1080e7957ed04ddb858cca12106a6dc3",
            "14c0a248b721434186d6728f942be7a1",
            "fbfa0cc0980d4bbb98a68c9cb903ab0c",
            "7d26c2f15dd342f295ceb640e11ffb28",
            "e7a6ac1e475448f499556dff40a4ceb7",
            "732bf8ddec7e4f54905e202996cd6c57",
            "b758261a2a34445fa71eb69d0cd813d6",
            "7ae9b4822a754ae698a81d9e64048482",
            "61241d9637694dca828967d8032a5706",
            "29bbe6e447dd41dcab71c063ebbae137",
            "2c25a33d22a24fd78198c7439fb665d4",
            "fca65a02b38d4cc9a66b683f93a72fef",
            "989d232f7fec424abe86e9f0a7df3d18"
          ]
        },
        "id": "v3ru0xxUsbKI",
        "outputId": "9b0f9b93-cd0d-4ec2-c81f-26907e9a8aa5"
      },
      "execution_count": 36,
      "outputs": [
        {
          "output_type": "display_data",
          "data": {
            "text/plain": [
              "Map:   0%|          | 0/2279 [00:00<?, ? examples/s]"
            ],
            "application/vnd.jupyter.widget-view+json": {
              "version_major": 2,
              "version_minor": 0,
              "model_id": "207863f643a1465a948eeabc64f1aaa7"
            }
          },
          "metadata": {}
        },
        {
          "output_type": "stream",
          "name": "stdout",
          "text": [
            "Batch chunk sizes:  1006\n",
            "Batch chunk sizes:  1006\n",
            "Batch chunk sizes:  1006\n"
          ]
        },
        {
          "output_type": "display_data",
          "data": {
            "text/plain": [
              "Map:   0%|          | 0/570 [00:00<?, ? examples/s]"
            ],
            "application/vnd.jupyter.widget-view+json": {
              "version_major": 2,
              "version_minor": 0,
              "model_id": "fbfa0cc0980d4bbb98a68c9cb903ab0c"
            }
          },
          "metadata": {}
        },
        {
          "output_type": "stream",
          "name": "stdout",
          "text": [
            "Batch chunk sizes:  1006\n"
          ]
        }
      ]
    },
    {
      "cell_type": "code",
      "source": [
        "tokenized_datasets"
      ],
      "metadata": {
        "colab": {
          "base_uri": "https://localhost:8080/"
        },
        "id": "5uuAO0gPL7ZM",
        "outputId": "c8d8d0aa-2916-4214-aa38-927f9e267a13"
      },
      "execution_count": 37,
      "outputs": [
        {
          "output_type": "execute_result",
          "data": {
            "text/plain": [
              "DatasetDict({\n",
              "    train: Dataset({\n",
              "        features: ['input_ids', 'attention_mask', 'labels'],\n",
              "        num_rows: 2279\n",
              "    })\n",
              "    test: Dataset({\n",
              "        features: ['input_ids', 'attention_mask', 'labels'],\n",
              "        num_rows: 570\n",
              "    })\n",
              "})"
            ]
          },
          "metadata": {},
          "execution_count": 37
        }
      ]
    },
    {
      "cell_type": "code",
      "source": [
        "def get_max_token_len(category):\n",
        "  # category is either 'input' or 'target'\n",
        "  data_string = [x for x in day]\n",
        "  data_string = [data_string[x][category] for x in range(0,len(data_string))]\n",
        "  data_string = [''.join(x) for x in data_string]\n",
        "  _tokenized_dataset = [tokenizer(x) for x in data_string] # gets the tokenized rides for that day's category\n",
        "  input_ids = [encoding[\"input_ids\"] for encoding in _tokenized_dataset] # gets the input ids so they can be maxxed\n",
        "  lens = [len(x) for x in input_ids]\n",
        "  print(lens)\n",
        "  plt.hist(lens, bins=50)\n",
        "  return max(lens), min(lens)"
      ],
      "metadata": {
        "id": "dKckBamYmigB"
      },
      "execution_count": 38,
      "outputs": []
    },
    {
      "cell_type": "code",
      "source": [
        "input_token_len = get_max_token_len('input')\n",
        "\n",
        "# The error \"Token indices sequence length is longer than the specified maximum sequence length for this model (1619 > 32). \n",
        "# Running this sequence through the model will result in indexing errors\n",
        "# occurs because the day sequence is longer than the model can handle, but we're just trying to get\n",
        "# the max tokens from day so we can use it for chunking above when we need to change chunking"
      ],
      "metadata": {
        "colab": {
          "base_uri": "https://localhost:8080/",
          "height": 320
        },
        "id": "NnVTTe8tm25r",
        "outputId": "37a2460e-228c-48e6-c97b-b12735c69dea"
      },
      "execution_count": 39,
      "outputs": [
        {
          "output_type": "stream",
          "name": "stderr",
          "text": [
            "Token indices sequence length is longer than the specified maximum sequence length for this model (3524 > 1024). Running this sequence through the model will result in indexing errors\n"
          ]
        },
        {
          "output_type": "stream",
          "name": "stdout",
          "text": [
            "[3524, 3575, 3765, 3334, 167, 5658, 4165, 5124, 2948, 4096, 3743, 5239, 4022, 5416, 4093, 5835, 3661, 5656, 4146, 5999, 4987, 5810, 3507, 5380, 4683, 5853, 5248, 5413, 3355, 5865, 4201, 5649, 4449, 4629, 2254, 5526, 3788, 5144, 4429, 5103, 1263, 1953, 5413, 3929, 5654, 3991, 5160, 2806, 5675, 4203, 5419, 4079, 5246, 3122, 4830, 3930, 4643, 4765, 4620, 2932, 5254, 4288, 5328, 4516, 4902, 3217, 5354, 4714, 4823, 3981, 5259, 3598, 5252, 4649, 5282, 4757, 5728, 3497, 5870, 4460, 5959, 4722, 5409, 3895, 5306, 4289, 5240, 4852, 5361, 3097, 6345, 5209, 5976, 4701, 5858, 3871, 6239, 4834, 5796, 4793, 5353, 3709, 5802, 5010, 5046, 5377, 5239, 3703, 6185, 4564, 5795, 4696, 5626, 3923, 5846, 4638, 5201, 4354, 5325, 3767, 5396, 5000, 5517, 4691, 5365, 3456, 5763, 4802, 5226, 4992, 5182, 3550, 5839, 4854, 5255, 4774, 5694, 3458, 5639, 5005, 5399, 4993, 5172, 3670, 5973, 4549, 5216, 5158, 5465, 3498, 6054, 5486, 5897, 4247, 4871, 3865, 6133, 4906, 5526, 4990, 5463, 3508, 6221, 5054, 5784, 4302, 5470, 3453, 2420, 2624, 2591, 2537, 2544, 2860, 5681, 4867, 4597, 4218, 5369, 3470, 4500, 4063, 5016, 4563, 5205, 3631, 5502, 4547, 5526, 4764, 5046, 4001, 4953, 4798, 5993, 5142, 4710, 3702, 4135, 4439, 5272, 4924, 5274, 3748, 5546, 4939, 5322, 5347, 4582, 3751, 5101, 4772, 6360, 4220, 5536, 3517, 6191, 4433, 5682, 4852, 6049, 3786, 2, 5679, 4668, 5435, 4983, 5241, 4187, 5596, 4556, 6262, 4162, 5228, 3529, 5992, 5215, 5932, 5387, 5231, 3683, 5930, 4971, 5333, 4448, 5112, 3694, 5519, 4656, 5683, 4219, 5174, 3627, 54, 4340, 4435, 5245, 4098, 4488, 3371, 5421, 4877, 5741, 5074, 4623, 3100, 4838, 4146, 5103, 4526, 4372, 3572, 5225, 4479, 5787, 4213, 4910, 3305, 5326, 4338, 5143, 4963, 5134, 3191, 4866, 4915, 4905, 4062, 5111, 3198, 5454, 4059, 5243, 4482, 5023, 3240, 4988, 4340, 5157, 3786, 4369, 3242, 5087, 4267, 4620, 5397, 5424, 3375, 6003, 4758, 5761, 5007, 5130, 3836, 5276, 5363, 5695, 5189, 5167, 4358, 5069, 4654, 5382, 3442, 3997, 4156, 5259, 5429, 4987, 5007, 4641, 3945, 4779, 4743, 5325, 5049, 4148, 4048, 5277, 4671, 5343, 5069, 5640, 3895, 5715, 4665, 5447, 5444, 4709, 3856, 4332, 4709, 5130, 4506, 4804, 4206, 4451, 5032, 5053, 4899, 4963, 4179, 5879, 5733, 6215, 5515, 5346, 3993, 5147, 5446, 5777, 4961, 6266, 4228, 6165, 5164, 6534, 5389, 5825, 4177, 6381, 4320, 6162, 5321, 5501, 4369, 6463, 4541, 5893, 4905, 5394, 4265, 6001, 4867, 5987, 4790, 5374, 4429, 4988, 5284, 5930, 5771, 4704, 4324, 6163, 5344, 6084, 5812, 6084, 4543, 64, 6359, 5429, 5695, 5596, 5538, 4908, 5920, 5094]\n"
          ]
        },
        {
          "output_type": "display_data",
          "data": {
            "text/plain": [
              "<Figure size 432x288 with 1 Axes>"
            ],
            "image/png": "[encoded data removed]"
          },
          "metadata": {
            "needs_background": "light"
          }
        }
      ]
    },
    {
      "cell_type": "code",
      "source": [
        "target_token_len = get_max_token_len('target')"
      ],
      "metadata": {
        "colab": {
          "base_uri": "https://localhost:8080/",
          "height": 302
        },
        "id": "HuCBB5rVpvrO",
        "outputId": "6907f676-6ca7-4851-c623-d4179f41ce9a"
      },
      "execution_count": 40,
      "outputs": [
        {
          "output_type": "stream",
          "name": "stdout",
          "text": [
            "[3358, 3416, 3625, 3210, 161, 5430, 3975, 4916, 2804, 3935, 3569, 5000, 3872, 5214, 3923, 5574, 3516, 5419, 3974, 5723, 4749, 5576, 3359, 5162, 4473, 5583, 5000, 5159, 3204, 5620, 4027, 5421, 4231, 4439, 2170, 5259, 3603, 4943, 4238, 4904, 1181, 1872, 5202, 3765, 5417, 3816, 4950, 2684, 5454, 4011, 5208, 3918, 5050, 2997, 4632, 3766, 4426, 4544, 4430, 2797, 5040, 4119, 5103, 4330, 4684, 3097, 5145, 4529, 4634, 3824, 5054, 3455, 5047, 4475, 5059, 4554, 5514, 3358, 5625, 4276, 5728, 4537, 5198, 3724, 5099, 4120, 5001, 4645, 5152, 2956, 6082, 4997, 5718, 4500, 5622, 3718, 5980, 4645, 5580, 4615, 5153, 3562, 5559, 4806, 4840, 5168, 5043, 3565, 5919, 4394, 5570, 4504, 5407, 3777, 5610, 4457, 4989, 4192, 5100, 3618, 5185, 4796, 5302, 4499, 5147, 3310, 5495, 4606, 4996, 4806, 4988, 3418, 5612, 4647, 5050, 4553, 5464, 3312, 5402, 4810, 5154, 4755, 4935, 3516, 5706, 4345, 4995, 4914, 5252, 3359, 5767, 5264, 5668, 4080, 4680, 3721, 5869, 4697, 5302, 4804, 5259, 3360, 5980, 4848, 5568, 4133, 5248, 3307, 2330, 2526, 2495, 2434, 2432, 2754, 5444, 4678, 4409, 4053, 5135, 3333, 4307, 3904, 4830, 4359, 4986, 3479, 5271, 4361, 5286, 4570, 4858, 3844, 4760, 4568, 5762, 4934, 4500, 3539, 3981, 4266, 5076, 4733, 5069, 3592, 5322, 4730, 5115, 5140, 4403, 3586, 4911, 4569, 6115, 4055, 5330, 3378, 5952, 4251, 5445, 4663, 5798, 3637, 2, 5433, 4469, 5233, 4772, 5029, 4006, 5388, 4361, 6003, 3990, 5025, 3381, 5752, 5021, 5712, 5169, 5028, 3529, 5692, 4769, 5126, 4248, 4913, 3531, 5279, 4457, 5446, 4036, 4973, 3475, 52, 4144, 4253, 5024, 3937, 4295, 3220, 5176, 4670, 5502, 4859, 4442, 2959, 4658, 3992, 4870, 4340, 4192, 3431, 5022, 4313, 5537, 4039, 4719, 3174, 5110, 4151, 4917, 4770, 4908, 3073, 4650, 4724, 4705, 3903, 4912, 3071, 5225, 3891, 5022, 4298, 4819, 3120, 4759, 4171, 4931, 3628, 4189, 3122, 4863, 4100, 4448, 5170, 5188, 3224, 5754, 4564, 5538, 4769, 4913, 3685, 5071, 5138, 5483, 4961, 4966, 4153, 4854, 4455, 5130, 3271, 3831, 3993, 5020, 5227, 4767, 4812, 4451, 3790, 4549, 4558, 5118, 4852, 3985, 3889, 5072, 4454, 5118, 4854, 5421, 3733, 5476, 4448, 5218, 5224, 4508, 3687, 4145, 4465, 4913, 4304, 4599, 4050, 4251, 4819, 4822, 4665, 4761, 3998, 5652, 5494, 5958, 5275, 5121, 3836, 4921, 5235, 5536, 4768, 6007, 4045, 5901, 4972, 6265, 5171, 5600, 3996, 6109, 4151, 5916, 5114, 5288, 4198, 6214, 4355, 5648, 4714, 5185, 4098, 5752, 4669, 5747, 4612, 5165, 4256, 4768, 5079, 5692, 5530, 4512, 4155, 5908, 5137, 5858, 5587, 5840, 4357, 53, 6096, 5227, 5483, 5388, 5332, 4717, 5691, 4879]\n"
          ]
        },
        {
          "output_type": "display_data",
          "data": {
            "text/plain": [
              "<Figure size 432x288 with 1 Axes>"
            ],
            "image/png": "[encoded data removed]"
          },
          "metadata": {
            "needs_background": "light"
          }
        }
      ]
    },
    {
      "cell_type": "code",
      "source": [
        "# Get the highest number of day tokens for chunking  2543 / 3 = 849\n",
        "input_token_len, target_token_len"
      ],
      "metadata": {
        "colab": {
          "base_uri": "https://localhost:8080/"
        },
        "id": "y-rWoA6lnf7Q",
        "outputId": "ad654caf-a56f-4462-d026-28b4a02b41eb"
      },
      "execution_count": 41,
      "outputs": [
        {
          "output_type": "execute_result",
          "data": {
            "text/plain": [
              "((6534, 2), (6265, 2))"
            ]
          },
          "metadata": {},
          "execution_count": 41
        }
      ]
    },
    {
      "cell_type": "code",
      "source": [
        "# input id tokens [505, 9175, 2128, 9175, 35524, 1820, 36604, 1820, 36722, 1820, 39638, 1820, 32518, 1820, ...]\n",
        "tokenizer.decode(tokenized_datasets['train'][0]['input_ids'])"
      ],
      "metadata": {
        "colab": {
          "base_uri": "https://localhost:8080/",
          "height": 157
        },
        "id": "0Vd7DTSXhRSK",
        "outputId": "e8560430-eeaa-4c1b-b057-e25d6893ade5"
      },
      "execution_count": 42,
      "outputs": [
        {
          "output_type": "execute_result",
          "data": {
            "text/plain": [
              "'<s>On 2021-10-30 at 05:43, 388496 with the condition of WCH will be picked up from ( -121.8491211, 37.32672882 ) and taken to their appointment located at ( -121.8120956, 37.30604935 ) the value of this ride is 63.8 and the distance from start to finish is 4.44 miles * On 2021-10-30 at 08:30, 388505 with the condition of BWC will be picked up from ( -121.8325653, 37.33570862 ) and taken to their appointment located at ( -121.8270276, 37.2519668 ) the value of this ride is 93.6 and the distance from start to finish is 10.86 miles * On 2021-10-30 at 08:30, 388484 with the condition of STR will be picked up from ( -121.9516678, 37.38991928 ) and taken to their appointment located at ( -122.0140457, 37.37662125 ) the value of this ride is 207.38 and the distance from start to finish is 5.49 miles * On 2021-10-30 at 17:15, 388494 with the condition of WCH will be picked up from ( -121.9947433, 37.33644867 ) and taken to their appointment located at ( -122.1583481, 37.44995499 ) the value of this ride is 57.8 and the distance from start to finish is 16.83 miles * On 2021-10-30 at 05:53, 388574 with the condition of BWC will be picked up from ( -121.9619141, 37.27531433 ) and taken to their appointment located at ( -121.8917009, 37.2454899 ) the value of this ride is 77.2 and the distance from start to finish is 6.76 miles * On 2021-10-30 at 08:16, 388994 with the condition of WCH will be picked up from ( -121.9678116, 37.3220253 ) and taken to their appointment located at ( -121.9790344, 37.32246399 ) the value of this ride is 22.02 and the distance from start to finish is 0.91 miles * On 2021-10-30 at 13:00, 388709 with the condition of WCH will be picked up from ( -121.950932, 37.255799 ) and taken to their appointment located at ( -121.9232407, 37.30308914 ) the value of this ride is 57.38 and the distance from start to finish is 5.51 miles * On 2021-10-30 at 05:30, 390198 with the condition of WCH will be picked up from ( -121.9492645, 37.30254364 ) and taken to their appointment located at ( -121.9337082, 37.31555939 ) the value of this ride is 58.85 and the distance from start to finish is 2.21 miles * On 2021-10-30 at 12:30, 388484 with the condition of STR will be picked up from ( -122.0140457, 37.37662125 ) and taken to their appointment located at ( -121.9516678, 37.38991928 ) the value of this ride is 132.38 and the distance from start to finish is 5.49 miles * <START_0> </s>'"
            ],
            "application/vnd.google.colaboratory.intrinsic+json": {
              "type": "string"
            }
          },
          "metadata": {},
          "execution_count": 42
        }
      ]
    },
    {
      "cell_type": "code",
      "source": [
        "# label tokens [305, 9175, 1808, 9175, 35524, 1820, 39055, 1820, 39119, 1820, 35073, 1820, 5033, 9175, 5647, ...]\n",
        "# tokenized_datasets['train'][0]['labels']\n",
        "tokenizer.decode(tokenized_datasets['train'][0]['labels'])"
      ],
      "metadata": {
        "colab": {
          "base_uri": "https://localhost:8080/",
          "height": 157
        },
        "id": "XvhPIIexNCPL",
        "outputId": "8346dca1-6dab-4434-f6a4-7ad81d5bc75b"
      },
      "execution_count": 43,
      "outputs": [
        {
          "output_type": "execute_result",
          "data": {
            "text/plain": [
              "'<s>On 2021-10-30 at 05:00, driver SC301 will pick up 411690 with the condition of WCH from ( -121.9942169, 37.34215927 ) and dropped off at ( -121.9790364, 37.322465 ) the value of this ride is 100.85 and the distance from start to finish is 2.6 miles * On 2021-10-30 at 05:15, driver SC107 will pick up 388852 with the condition of BWC from ( -121.5949326, 37.02376938 ) and dropped off at ( -121.8120978, 37.3060479 ) the value of this ride is 154.4 and the distance from start to finish is 26.14 miles * On 2021-10-30 at 05:27, driver SC204 will pick up 390529 with the condition of STR from ( -121.8948135, 37.32189178 ) and dropped off at ( -121.9315708, 37.3112781 ) the value of this ride is 201.0 7 and the distance from start to finish is 2.74 miles * On 2021-10-30 at 05:30, driver SC105 will pick up 390198 with the condition of WCH from ( -121.9492645, 37.30254364 ) and dropped off at ( -121.9337082, 37.31555939 ) the value of this ride is 58.85 and the distance from start to finish is 2.21 miles * On 2021-10-30 at 05:30, driver SC105 will pick up 390534 with the condition of WCH from ( -121.9642258, 37.29271698 ) and dropped off at ( -121.9337045, 37.3155593 ) the value of this ride is 103.33 and the distance from start to finish is 3.69 miles * On 2021-10-30 at 05:43, driver SC301 will pick up 388496 with the condition of WCH from ( -121.8491211, 37.32672882 ) and dropped off at ( -121.8120956, 37.30604935 ) the value of this ride is 63.8 and the distance from start to finish is 4.44 miles * On 2021-10-30 at 05:53, driver SC105 will pick up 388574 with the condition of BWC from ( -121.9619141, 37.27531433 ) and dropped off at ( -121.8917009, 37.2454899 ) the value of this ride is 77.2 and the distance from start to finish is 6.76 miles * On 2021-10-30 at 06:00, driver SC301 will pick up 388896 with the condition of WCH from ( -121.8397293, 37.31420898 ) and dropped off at ( -121.8113861, 37.30517197 ) the value of this ride is 101.3 and the distance from start to finish is 2.78 miles * On 2021-10-30 at 07:15, driver SC105 will pick up 417084 with the condition of BWC from ( -121.9148788, 37.30213547 ) and dropped off at ( -121.7762604, 37.22948456 ) the value of this ride is 104.0 and the distance from start to finish is 13.5 miles * <START_0> </s>'"
            ],
            "application/vnd.google.colaboratory.intrinsic+json": {
              "type": "string"
            }
          },
          "metadata": {},
          "execution_count": 43
        }
      ]
    },
    {
      "cell_type": "code",
      "source": [
        "# In general, it's not uncommon for input_ids and labels to have different lengths\n",
        "len(tokenized_datasets['train'][0]['input_ids']), len(tokenized_datasets['train'][0]['labels'])"
      ],
      "metadata": {
        "colab": {
          "base_uri": "https://localhost:8080/"
        },
        "id": "rrnn4RBqQSQ-",
        "outputId": "284067cf-2761-40f9-8e43-c261896cc5df"
      },
      "execution_count": 44,
      "outputs": [
        {
          "output_type": "execute_result",
          "data": {
            "text/plain": [
              "(488, 465)"
            ]
          },
          "metadata": {},
          "execution_count": 44
        }
      ]
    },
    {
      "cell_type": "code",
      "source": [
        "input_ids_len = []\n",
        "for i in range(len(tokenized_datasets['train'])):\n",
        "  input_ids_len.append(len(tokenized_datasets['train'][i]['input_ids']))\n",
        "\n",
        "labels_len = []\n",
        "for i in range(len(tokenized_datasets['train'])):\n",
        "  labels_len.append(len(tokenized_datasets['train'][i]['labels']))\n",
        "\n",
        "print(f'Max Num Input Ids: {max(input_ids_len)} \\n Max Num labels: {max(labels_len)}')\n",
        "print(f'Min Num Input Ids: {min(input_ids_len)} \\n Min Num labels: {min(labels_len)}')"
      ],
      "metadata": {
        "colab": {
          "base_uri": "https://localhost:8080/"
        },
        "id": "-6-j0_PiUGOV",
        "outputId": "12cc13b6-e69f-4791-d327-d29b5dfdfc8c"
      },
      "execution_count": 45,
      "outputs": [
        {
          "output_type": "stream",
          "name": "stdout",
          "text": [
            "Max Num Input Ids: 1006 \n",
            " Max Num labels: 1006\n",
            "Min Num Input Ids: 375 \n",
            " Min Num labels: 359\n"
          ]
        }
      ]
    },
    {
      "cell_type": "code",
      "source": [
        "from transformers import DataCollatorForSeq2Seq\n",
        "data_collator = DataCollatorForSeq2Seq(tokenizer, model=model)"
      ],
      "metadata": {
        "id": "bSgW3uXOPwQ0"
      },
      "execution_count": 46,
      "outputs": []
    },
    {
      "cell_type": "code",
      "source": [
        "# check the labels and decoder input ids to make sure shifting has taken place\n",
        "batch = data_collator([tokenized_datasets['train'][i] for i in range(1,3)])\n",
        "batch.keys()"
      ],
      "metadata": {
        "colab": {
          "base_uri": "https://localhost:8080/"
        },
        "id": "gqnmUq0IxMze",
        "outputId": "de7a2488-f660-4d57-fe90-3c203184357d"
      },
      "execution_count": 47,
      "outputs": [
        {
          "output_type": "execute_result",
          "data": {
            "text/plain": [
              "dict_keys(['input_ids', 'attention_mask', 'labels', 'decoder_input_ids'])"
            ]
          },
          "metadata": {},
          "execution_count": 47
        }
      ]
    },
    {
      "cell_type": "markdown",
      "source": [
        "The batch dictionary is training examples, and the labels key in the batch dictionary contains the labels for the corresponding input sequences. In the context of sequence-to-sequence modeling, the labels typically represent the \"target\" or \"output\" sequence that the model is being trained to generate given the corresponding input sequence."
      ],
      "metadata": {
        "id": "2YvdQmbfur2V"
      }
    },
    {
      "cell_type": "code",
      "source": [
        "batch['labels'][0][:10]"
      ],
      "metadata": {
        "colab": {
          "base_uri": "https://localhost:8080/"
        },
        "id": "wr4_QwtcsIo_",
        "outputId": "3eaa557e-aa28-4270-e474-f1f8d2333707"
      },
      "execution_count": 48,
      "outputs": [
        {
          "output_type": "execute_result",
          "data": {
            "text/plain": [
              "tensor([    0,  4148, 50940,   415, 54305,     6,  1393, 57515,  6677,  1339])"
            ]
          },
          "metadata": {},
          "execution_count": 48
        }
      ]
    },
    {
      "cell_type": "markdown",
      "source": [
        "Think of seq2seq RNNs, the decoder RNN must have some input. This allows the decoder to predict the next word, given the previous words from the encoder. THE DECODER IDS ARE A SHIFTED FORWARD ONE - VERSION OF THE TARGETS SO THE DECODER CAN TRAIN TO PREDICT THE NEXT TOKEN IN A SEQUENCE."
      ],
      "metadata": {
        "id": "fORwGkmOvJVL"
      }
    },
    {
      "cell_type": "code",
      "source": [
        "batch['decoder_input_ids'][0][:10]"
      ],
      "metadata": {
        "colab": {
          "base_uri": "https://localhost:8080/"
        },
        "id": "rmiMOcz-sS9S",
        "outputId": "5f043535-fb77-4545-eb7e-f982e3193e71"
      },
      "execution_count": 49,
      "outputs": [
        {
          "output_type": "execute_result",
          "data": {
            "text/plain": [
              "tensor([    2,     0,  4148, 50940,   415, 54305,     6,  1393, 57515,  6677])"
            ]
          },
          "metadata": {},
          "execution_count": 49
        }
      ]
    },
    {
      "cell_type": "code",
      "source": [
        "# the decoder input ids are shifted forward by adding the </s> at the front of the list\n",
        "tokenizer.convert_ids_to_tokens(batch['decoder_input_ids'][0]) "
      ],
      "metadata": {
        "colab": {
          "base_uri": "https://localhost:8080/"
        },
        "id": "xm3FE6TUvFxx",
        "outputId": "8815d206-3264-4904-d971-b92428afb517"
      },
      "execution_count": 50,
      "outputs": [
        {
          "output_type": "execute_result",
          "data": {
            "text/plain": [
              "['</s>',\n",
              " '<s>',\n",
              " 'On',\n",
              " '2021-10-30',\n",
              " 'at',\n",
              " '08:15',\n",
              " ',',\n",
              " 'Ġdriver',\n",
              " 'SC105',\n",
              " 'will',\n",
              " 'Ġpick',\n",
              " 'Ġup',\n",
              " '388526',\n",
              " 'with',\n",
              " 'Ġthe',\n",
              " 'Ġcondition',\n",
              " 'Ġof',\n",
              " 'WCH',\n",
              " 'from',\n",
              " 'Ġ(',\n",
              " '-121.9255905',\n",
              " ',',\n",
              " '37.31228256',\n",
              " ')',\n",
              " 'Ġand',\n",
              " 'Ġdropped',\n",
              " 'Ġoff',\n",
              " 'Ġat',\n",
              " 'Ġ(',\n",
              " '-121.9315708',\n",
              " ',',\n",
              " '37.3112781',\n",
              " ')',\n",
              " 'Ġthe',\n",
              " 'Ġvalue',\n",
              " 'Ġof',\n",
              " 'Ġthis',\n",
              " 'Ġride',\n",
              " 'Ġis',\n",
              " 'Ġ4',\n",
              " '8.3',\n",
              " '8',\n",
              " 'Ġand',\n",
              " 'Ġthe',\n",
              " 'Ġdistance',\n",
              " 'Ġfrom',\n",
              " 'Ġstart',\n",
              " 'Ġto',\n",
              " 'Ġfinish',\n",
              " 'Ġis',\n",
              " 'Ġ1',\n",
              " '.',\n",
              " '5',\n",
              " 'Ġmiles',\n",
              " 'Ġ*',\n",
              " 'ĠOn',\n",
              " '2021-10-30',\n",
              " 'at',\n",
              " '08:15',\n",
              " ',',\n",
              " 'Ġdriver',\n",
              " 'SC105',\n",
              " 'will',\n",
              " 'Ġpick',\n",
              " 'Ġup',\n",
              " '388851',\n",
              " 'with',\n",
              " 'Ġthe',\n",
              " 'Ġcondition',\n",
              " 'Ġof',\n",
              " 'BWC',\n",
              " 'from',\n",
              " 'Ġ(',\n",
              " '-121.8116608',\n",
              " ',',\n",
              " '37.26219559',\n",
              " ')',\n",
              " 'Ġand',\n",
              " 'Ġdropped',\n",
              " 'Ġoff',\n",
              " 'Ġat',\n",
              " 'Ġ(',\n",
              " '-121.826913',\n",
              " ',',\n",
              " '37.251936',\n",
              " ')',\n",
              " 'Ġthe',\n",
              " 'Ġvalue',\n",
              " 'Ġof',\n",
              " 'Ġthis',\n",
              " 'Ġride',\n",
              " 'Ġis',\n",
              " '50.0',\n",
              " 'and',\n",
              " 'Ġthe',\n",
              " 'Ġdistance',\n",
              " 'Ġfrom',\n",
              " 'Ġstart',\n",
              " 'Ġto',\n",
              " 'Ġfinish',\n",
              " 'Ġis',\n",
              " 'Ġ2',\n",
              " '.',\n",
              " '52',\n",
              " 'Ġmiles',\n",
              " 'Ġ*',\n",
              " 'ĠOn',\n",
              " '2021-10-30',\n",
              " 'at',\n",
              " '08:16',\n",
              " ',',\n",
              " 'Ġdriver',\n",
              " 'SC102',\n",
              " 'will',\n",
              " 'Ġpick',\n",
              " 'Ġup',\n",
              " '388994',\n",
              " 'with',\n",
              " 'Ġthe',\n",
              " 'Ġcondition',\n",
              " 'Ġof',\n",
              " 'WCH',\n",
              " 'from',\n",
              " 'Ġ(',\n",
              " '-121.9678116',\n",
              " ',',\n",
              " '37.3220253',\n",
              " ')',\n",
              " 'Ġand',\n",
              " 'Ġdropped',\n",
              " 'Ġoff',\n",
              " 'Ġat',\n",
              " 'Ġ(',\n",
              " '-121.9790344',\n",
              " ',',\n",
              " '37.32246399',\n",
              " ')',\n",
              " 'Ġthe',\n",
              " 'Ġvalue',\n",
              " 'Ġof',\n",
              " 'Ġthis',\n",
              " 'Ġride',\n",
              " 'Ġis',\n",
              " 'Ġ22',\n",
              " '.',\n",
              " '02',\n",
              " 'Ġand',\n",
              " 'Ġthe',\n",
              " 'Ġdistance',\n",
              " 'Ġfrom',\n",
              " 'Ġstart',\n",
              " 'Ġto',\n",
              " 'Ġfinish',\n",
              " 'Ġis',\n",
              " 'Ġ0',\n",
              " '.',\n",
              " '91',\n",
              " 'Ġmiles',\n",
              " 'Ġ*',\n",
              " 'ĠOn',\n",
              " '2021-10-30',\n",
              " 'at',\n",
              " '08:30',\n",
              " ',',\n",
              " 'Ġdriver',\n",
              " 'SC107',\n",
              " 'will',\n",
              " 'Ġpick',\n",
              " 'Ġup',\n",
              " '388709',\n",
              " 'with',\n",
              " 'Ġthe',\n",
              " 'Ġcondition',\n",
              " 'Ġof',\n",
              " 'WCH',\n",
              " 'from',\n",
              " 'Ġ(',\n",
              " '-121.9232407',\n",
              " ',',\n",
              " '37.30308914',\n",
              " ')',\n",
              " 'Ġand',\n",
              " 'Ġdropped',\n",
              " 'Ġoff',\n",
              " 'Ġat',\n",
              " 'Ġ(',\n",
              " '-121.950932',\n",
              " ',',\n",
              " '37.255799',\n",
              " ')',\n",
              " 'Ġthe',\n",
              " 'Ġvalue',\n",
              " 'Ġof',\n",
              " 'Ġthis',\n",
              " 'Ġride',\n",
              " 'Ġis',\n",
              " 'Ġ82',\n",
              " '.',\n",
              " '38',\n",
              " 'Ġand',\n",
              " 'Ġthe',\n",
              " 'Ġdistance',\n",
              " 'Ġfrom',\n",
              " 'Ġstart',\n",
              " 'Ġto',\n",
              " 'Ġfinish',\n",
              " 'Ġis',\n",
              " 'Ġ5',\n",
              " '.',\n",
              " '51',\n",
              " 'Ġmiles',\n",
              " 'Ġ*',\n",
              " 'ĠOn',\n",
              " '2021-10-30',\n",
              " 'at',\n",
              " '08:30',\n",
              " ',',\n",
              " 'Ġdriver',\n",
              " 'SC101',\n",
              " 'will',\n",
              " 'Ġpick',\n",
              " 'Ġup',\n",
              " '388505',\n",
              " 'with',\n",
              " 'Ġthe',\n",
              " 'Ġcondition',\n",
              " 'Ġof',\n",
              " 'BWC',\n",
              " 'from',\n",
              " 'Ġ(',\n",
              " '-121.8325653',\n",
              " ',',\n",
              " '37.33570862',\n",
              " ')',\n",
              " 'Ġand',\n",
              " 'Ġdropped',\n",
              " 'Ġoff',\n",
              " 'Ġat',\n",
              " 'Ġ(',\n",
              " '-121.8270276',\n",
              " ',',\n",
              " '37.2519668',\n",
              " ')',\n",
              " 'Ġthe',\n",
              " 'Ġvalue',\n",
              " 'Ġof',\n",
              " 'Ġthis',\n",
              " 'Ġride',\n",
              " 'Ġis',\n",
              " '93.6',\n",
              " 'and',\n",
              " 'Ġthe',\n",
              " 'Ġdistance',\n",
              " 'Ġfrom',\n",
              " 'Ġstart',\n",
              " 'Ġto',\n",
              " 'Ġfinish',\n",
              " 'Ġis',\n",
              " 'Ġ10',\n",
              " '.',\n",
              " '86',\n",
              " 'Ġmiles',\n",
              " 'Ġ*',\n",
              " 'ĠOn',\n",
              " '2021-10-30',\n",
              " 'at',\n",
              " '08:30',\n",
              " ',',\n",
              " 'Ġdriver',\n",
              " 'SC204',\n",
              " 'will',\n",
              " 'Ġpick',\n",
              " 'Ġup',\n",
              " '390529',\n",
              " 'with',\n",
              " 'Ġthe',\n",
              " 'Ġcondition',\n",
              " 'Ġof',\n",
              " 'ĠSTR',\n",
              " 'Ġfrom',\n",
              " 'Ġ(',\n",
              " '-121.9315708',\n",
              " ',',\n",
              " '37.3112781',\n",
              " ')',\n",
              " 'Ġand',\n",
              " 'Ġdropped',\n",
              " 'Ġoff',\n",
              " 'Ġat',\n",
              " 'Ġ(',\n",
              " '-121.8948135',\n",
              " ',',\n",
              " '37.32189178',\n",
              " ')',\n",
              " 'Ġthe',\n",
              " 'Ġvalue',\n",
              " 'Ġof',\n",
              " 'Ġthis',\n",
              " 'Ġride',\n",
              " 'Ġis',\n",
              " 'Ġ126',\n",
              " '.',\n",
              " '08',\n",
              " 'Ġand',\n",
              " 'Ġthe',\n",
              " 'Ġdistance',\n",
              " 'Ġfrom',\n",
              " 'Ġstart',\n",
              " 'Ġto',\n",
              " 'Ġfinish',\n",
              " 'Ġis',\n",
              " 'Ġ2',\n",
              " '.',\n",
              " '74',\n",
              " 'Ġmiles',\n",
              " 'Ġ*',\n",
              " 'ĠOn',\n",
              " '2021-10-30',\n",
              " 'at',\n",
              " '08:30',\n",
              " ',',\n",
              " 'Ġdriver',\n",
              " 'SC202',\n",
              " 'will',\n",
              " 'Ġpick',\n",
              " 'Ġup',\n",
              " '388484',\n",
              " 'with',\n",
              " 'Ġthe',\n",
              " 'Ġcondition',\n",
              " 'Ġof',\n",
              " 'ĠSTR',\n",
              " 'Ġfrom',\n",
              " 'Ġ(',\n",
              " '-121.9516678',\n",
              " ',',\n",
              " '37.38991928',\n",
              " ')',\n",
              " 'Ġand',\n",
              " 'Ġdropped',\n",
              " 'Ġoff',\n",
              " 'Ġat',\n",
              " 'Ġ(',\n",
              " '-122.0140457',\n",
              " ',',\n",
              " '37.37662125',\n",
              " ')',\n",
              " 'Ġthe',\n",
              " 'Ġvalue',\n",
              " 'Ġof',\n",
              " 'Ġthis',\n",
              " 'Ġride',\n",
              " 'Ġis',\n",
              " 'Ġ207',\n",
              " '.',\n",
              " '38',\n",
              " 'Ġand',\n",
              " 'Ġthe',\n",
              " 'Ġdistance',\n",
              " 'Ġfrom',\n",
              " 'Ġstart',\n",
              " 'Ġto',\n",
              " 'Ġfinish',\n",
              " 'Ġis',\n",
              " 'Ġ5',\n",
              " '.',\n",
              " '49',\n",
              " 'Ġmiles',\n",
              " 'Ġ*',\n",
              " 'ĠOn',\n",
              " '2021-10-30',\n",
              " 'at',\n",
              " '08:40',\n",
              " ',',\n",
              " 'Ġdriver',\n",
              " 'SC105',\n",
              " 'will',\n",
              " 'Ġpick',\n",
              " 'Ġup',\n",
              " '390539',\n",
              " 'with',\n",
              " 'Ġthe',\n",
              " 'Ġcondition',\n",
              " 'Ġof',\n",
              " 'WCH',\n",
              " 'from',\n",
              " 'Ġ(',\n",
              " '-121.888064',\n",
              " ',',\n",
              " '37.332132',\n",
              " ')',\n",
              " 'Ġand',\n",
              " 'Ġdropped',\n",
              " 'Ġoff',\n",
              " 'Ġat',\n",
              " 'Ġ(',\n",
              " '-121.8134232',\n",
              " ',',\n",
              " '37.35033035',\n",
              " ')',\n",
              " 'Ġthe',\n",
              " 'Ġvalue',\n",
              " 'Ġof',\n",
              " 'Ġthis',\n",
              " 'Ġride',\n",
              " 'Ġis',\n",
              " '84.4',\n",
              " 'and',\n",
              " 'Ġthe',\n",
              " 'Ġdistance',\n",
              " 'Ġfrom',\n",
              " 'Ġstart',\n",
              " 'Ġto',\n",
              " 'Ġfinish',\n",
              " 'Ġis',\n",
              " 'Ġ6',\n",
              " '.',\n",
              " '42',\n",
              " 'Ġmiles',\n",
              " 'Ġ*',\n",
              " 'ĠOn',\n",
              " '2021-10-30',\n",
              " 'at',\n",
              " '08:45',\n",
              " ',',\n",
              " 'Ġdriver',\n",
              " 'SC101',\n",
              " 'will',\n",
              " 'Ġpick',\n",
              " 'Ġup',\n",
              " '388896',\n",
              " 'with',\n",
              " 'Ġthe',\n",
              " 'Ġcondition',\n",
              " 'Ġof',\n",
              " 'WCH',\n",
              " 'from',\n",
              " 'Ġ(',\n",
              " '-121.8113861',\n",
              " ',',\n",
              " '37.30517197',\n",
              " ')',\n",
              " 'Ġand',\n",
              " 'Ġdropped',\n",
              " 'Ġoff',\n",
              " 'Ġat',\n",
              " 'Ġ(',\n",
              " '-121.8397293',\n",
              " ',',\n",
              " '37.31420898',\n",
              " ')',\n",
              " 'Ġthe',\n",
              " 'Ġvalue',\n",
              " 'Ġof',\n",
              " 'Ġthis',\n",
              " 'Ġride',\n",
              " 'Ġis',\n",
              " '26.3',\n",
              " 'and',\n",
              " 'Ġthe',\n",
              " 'Ġdistance',\n",
              " 'Ġfrom',\n",
              " 'Ġstart',\n",
              " 'Ġto',\n",
              " 'Ġfinish',\n",
              " 'Ġis',\n",
              " 'Ġ2',\n",
              " '.',\n",
              " '78',\n",
              " 'Ġmiles',\n",
              " 'Ġ*',\n",
              " '<CONT_0_1>']"
            ]
          },
          "metadata": {},
          "execution_count": 50
        }
      ]
    },
    {
      "cell_type": "code",
      "source": [
        "len(batch['decoder_input_ids'][0]), len(batch['labels'][0])\n"
      ],
      "metadata": {
        "colab": {
          "base_uri": "https://localhost:8080/"
        },
        "id": "onbyDtHkOqam",
        "outputId": "98c77876-2433-4880-9d01-b7599f92185d"
      },
      "execution_count": 51,
      "outputs": [
        {
          "output_type": "execute_result",
          "data": {
            "text/plain": [
              "(472, 472)"
            ]
          },
          "metadata": {},
          "execution_count": 51
        }
      ]
    },
    {
      "cell_type": "code",
      "source": [
        "# labels are in line with the target data, the decoder input ids are shifted forward\n",
        "# now the model can compare the target to the predicted next token\n",
        "tokenizer.convert_ids_to_tokens(batch['labels'][0])"
      ],
      "metadata": {
        "colab": {
          "base_uri": "https://localhost:8080/"
        },
        "id": "FqxilCwgwOvq",
        "outputId": "7c88ffcb-cb17-4547-b628-de3a61f75303"
      },
      "execution_count": 52,
      "outputs": [
        {
          "output_type": "execute_result",
          "data": {
            "text/plain": [
              "['<s>',\n",
              " 'On',\n",
              " '2021-10-30',\n",
              " 'at',\n",
              " '08:15',\n",
              " ',',\n",
              " 'Ġdriver',\n",
              " 'SC105',\n",
              " 'will',\n",
              " 'Ġpick',\n",
              " 'Ġup',\n",
              " '388526',\n",
              " 'with',\n",
              " 'Ġthe',\n",
              " 'Ġcondition',\n",
              " 'Ġof',\n",
              " 'WCH',\n",
              " 'from',\n",
              " 'Ġ(',\n",
              " '-121.9255905',\n",
              " ',',\n",
              " '37.31228256',\n",
              " ')',\n",
              " 'Ġand',\n",
              " 'Ġdropped',\n",
              " 'Ġoff',\n",
              " 'Ġat',\n",
              " 'Ġ(',\n",
              " '-121.9315708',\n",
              " ',',\n",
              " '37.3112781',\n",
              " ')',\n",
              " 'Ġthe',\n",
              " 'Ġvalue',\n",
              " 'Ġof',\n",
              " 'Ġthis',\n",
              " 'Ġride',\n",
              " 'Ġis',\n",
              " 'Ġ4',\n",
              " '8.3',\n",
              " '8',\n",
              " 'Ġand',\n",
              " 'Ġthe',\n",
              " 'Ġdistance',\n",
              " 'Ġfrom',\n",
              " 'Ġstart',\n",
              " 'Ġto',\n",
              " 'Ġfinish',\n",
              " 'Ġis',\n",
              " 'Ġ1',\n",
              " '.',\n",
              " '5',\n",
              " 'Ġmiles',\n",
              " 'Ġ*',\n",
              " 'ĠOn',\n",
              " '2021-10-30',\n",
              " 'at',\n",
              " '08:15',\n",
              " ',',\n",
              " 'Ġdriver',\n",
              " 'SC105',\n",
              " 'will',\n",
              " 'Ġpick',\n",
              " 'Ġup',\n",
              " '388851',\n",
              " 'with',\n",
              " 'Ġthe',\n",
              " 'Ġcondition',\n",
              " 'Ġof',\n",
              " 'BWC',\n",
              " 'from',\n",
              " 'Ġ(',\n",
              " '-121.8116608',\n",
              " ',',\n",
              " '37.26219559',\n",
              " ')',\n",
              " 'Ġand',\n",
              " 'Ġdropped',\n",
              " 'Ġoff',\n",
              " 'Ġat',\n",
              " 'Ġ(',\n",
              " '-121.826913',\n",
              " ',',\n",
              " '37.251936',\n",
              " ')',\n",
              " 'Ġthe',\n",
              " 'Ġvalue',\n",
              " 'Ġof',\n",
              " 'Ġthis',\n",
              " 'Ġride',\n",
              " 'Ġis',\n",
              " '50.0',\n",
              " 'and',\n",
              " 'Ġthe',\n",
              " 'Ġdistance',\n",
              " 'Ġfrom',\n",
              " 'Ġstart',\n",
              " 'Ġto',\n",
              " 'Ġfinish',\n",
              " 'Ġis',\n",
              " 'Ġ2',\n",
              " '.',\n",
              " '52',\n",
              " 'Ġmiles',\n",
              " 'Ġ*',\n",
              " 'ĠOn',\n",
              " '2021-10-30',\n",
              " 'at',\n",
              " '08:16',\n",
              " ',',\n",
              " 'Ġdriver',\n",
              " 'SC102',\n",
              " 'will',\n",
              " 'Ġpick',\n",
              " 'Ġup',\n",
              " '388994',\n",
              " 'with',\n",
              " 'Ġthe',\n",
              " 'Ġcondition',\n",
              " 'Ġof',\n",
              " 'WCH',\n",
              " 'from',\n",
              " 'Ġ(',\n",
              " '-121.9678116',\n",
              " ',',\n",
              " '37.3220253',\n",
              " ')',\n",
              " 'Ġand',\n",
              " 'Ġdropped',\n",
              " 'Ġoff',\n",
              " 'Ġat',\n",
              " 'Ġ(',\n",
              " '-121.9790344',\n",
              " ',',\n",
              " '37.32246399',\n",
              " ')',\n",
              " 'Ġthe',\n",
              " 'Ġvalue',\n",
              " 'Ġof',\n",
              " 'Ġthis',\n",
              " 'Ġride',\n",
              " 'Ġis',\n",
              " 'Ġ22',\n",
              " '.',\n",
              " '02',\n",
              " 'Ġand',\n",
              " 'Ġthe',\n",
              " 'Ġdistance',\n",
              " 'Ġfrom',\n",
              " 'Ġstart',\n",
              " 'Ġto',\n",
              " 'Ġfinish',\n",
              " 'Ġis',\n",
              " 'Ġ0',\n",
              " '.',\n",
              " '91',\n",
              " 'Ġmiles',\n",
              " 'Ġ*',\n",
              " 'ĠOn',\n",
              " '2021-10-30',\n",
              " 'at',\n",
              " '08:30',\n",
              " ',',\n",
              " 'Ġdriver',\n",
              " 'SC107',\n",
              " 'will',\n",
              " 'Ġpick',\n",
              " 'Ġup',\n",
              " '388709',\n",
              " 'with',\n",
              " 'Ġthe',\n",
              " 'Ġcondition',\n",
              " 'Ġof',\n",
              " 'WCH',\n",
              " 'from',\n",
              " 'Ġ(',\n",
              " '-121.9232407',\n",
              " ',',\n",
              " '37.30308914',\n",
              " ')',\n",
              " 'Ġand',\n",
              " 'Ġdropped',\n",
              " 'Ġoff',\n",
              " 'Ġat',\n",
              " 'Ġ(',\n",
              " '-121.950932',\n",
              " ',',\n",
              " '37.255799',\n",
              " ')',\n",
              " 'Ġthe',\n",
              " 'Ġvalue',\n",
              " 'Ġof',\n",
              " 'Ġthis',\n",
              " 'Ġride',\n",
              " 'Ġis',\n",
              " 'Ġ82',\n",
              " '.',\n",
              " '38',\n",
              " 'Ġand',\n",
              " 'Ġthe',\n",
              " 'Ġdistance',\n",
              " 'Ġfrom',\n",
              " 'Ġstart',\n",
              " 'Ġto',\n",
              " 'Ġfinish',\n",
              " 'Ġis',\n",
              " 'Ġ5',\n",
              " '.',\n",
              " '51',\n",
              " 'Ġmiles',\n",
              " 'Ġ*',\n",
              " 'ĠOn',\n",
              " '2021-10-30',\n",
              " 'at',\n",
              " '08:30',\n",
              " ',',\n",
              " 'Ġdriver',\n",
              " 'SC101',\n",
              " 'will',\n",
              " 'Ġpick',\n",
              " 'Ġup',\n",
              " '388505',\n",
              " 'with',\n",
              " 'Ġthe',\n",
              " 'Ġcondition',\n",
              " 'Ġof',\n",
              " 'BWC',\n",
              " 'from',\n",
              " 'Ġ(',\n",
              " '-121.8325653',\n",
              " ',',\n",
              " '37.33570862',\n",
              " ')',\n",
              " 'Ġand',\n",
              " 'Ġdropped',\n",
              " 'Ġoff',\n",
              " 'Ġat',\n",
              " 'Ġ(',\n",
              " '-121.8270276',\n",
              " ',',\n",
              " '37.2519668',\n",
              " ')',\n",
              " 'Ġthe',\n",
              " 'Ġvalue',\n",
              " 'Ġof',\n",
              " 'Ġthis',\n",
              " 'Ġride',\n",
              " 'Ġis',\n",
              " '93.6',\n",
              " 'and',\n",
              " 'Ġthe',\n",
              " 'Ġdistance',\n",
              " 'Ġfrom',\n",
              " 'Ġstart',\n",
              " 'Ġto',\n",
              " 'Ġfinish',\n",
              " 'Ġis',\n",
              " 'Ġ10',\n",
              " '.',\n",
              " '86',\n",
              " 'Ġmiles',\n",
              " 'Ġ*',\n",
              " 'ĠOn',\n",
              " '2021-10-30',\n",
              " 'at',\n",
              " '08:30',\n",
              " ',',\n",
              " 'Ġdriver',\n",
              " 'SC204',\n",
              " 'will',\n",
              " 'Ġpick',\n",
              " 'Ġup',\n",
              " '390529',\n",
              " 'with',\n",
              " 'Ġthe',\n",
              " 'Ġcondition',\n",
              " 'Ġof',\n",
              " 'ĠSTR',\n",
              " 'Ġfrom',\n",
              " 'Ġ(',\n",
              " '-121.9315708',\n",
              " ',',\n",
              " '37.3112781',\n",
              " ')',\n",
              " 'Ġand',\n",
              " 'Ġdropped',\n",
              " 'Ġoff',\n",
              " 'Ġat',\n",
              " 'Ġ(',\n",
              " '-121.8948135',\n",
              " ',',\n",
              " '37.32189178',\n",
              " ')',\n",
              " 'Ġthe',\n",
              " 'Ġvalue',\n",
              " 'Ġof',\n",
              " 'Ġthis',\n",
              " 'Ġride',\n",
              " 'Ġis',\n",
              " 'Ġ126',\n",
              " '.',\n",
              " '08',\n",
              " 'Ġand',\n",
              " 'Ġthe',\n",
              " 'Ġdistance',\n",
              " 'Ġfrom',\n",
              " 'Ġstart',\n",
              " 'Ġto',\n",
              " 'Ġfinish',\n",
              " 'Ġis',\n",
              " 'Ġ2',\n",
              " '.',\n",
              " '74',\n",
              " 'Ġmiles',\n",
              " 'Ġ*',\n",
              " 'ĠOn',\n",
              " '2021-10-30',\n",
              " 'at',\n",
              " '08:30',\n",
              " ',',\n",
              " 'Ġdriver',\n",
              " 'SC202',\n",
              " 'will',\n",
              " 'Ġpick',\n",
              " 'Ġup',\n",
              " '388484',\n",
              " 'with',\n",
              " 'Ġthe',\n",
              " 'Ġcondition',\n",
              " 'Ġof',\n",
              " 'ĠSTR',\n",
              " 'Ġfrom',\n",
              " 'Ġ(',\n",
              " '-121.9516678',\n",
              " ',',\n",
              " '37.38991928',\n",
              " ')',\n",
              " 'Ġand',\n",
              " 'Ġdropped',\n",
              " 'Ġoff',\n",
              " 'Ġat',\n",
              " 'Ġ(',\n",
              " '-122.0140457',\n",
              " ',',\n",
              " '37.37662125',\n",
              " ')',\n",
              " 'Ġthe',\n",
              " 'Ġvalue',\n",
              " 'Ġof',\n",
              " 'Ġthis',\n",
              " 'Ġride',\n",
              " 'Ġis',\n",
              " 'Ġ207',\n",
              " '.',\n",
              " '38',\n",
              " 'Ġand',\n",
              " 'Ġthe',\n",
              " 'Ġdistance',\n",
              " 'Ġfrom',\n",
              " 'Ġstart',\n",
              " 'Ġto',\n",
              " 'Ġfinish',\n",
              " 'Ġis',\n",
              " 'Ġ5',\n",
              " '.',\n",
              " '49',\n",
              " 'Ġmiles',\n",
              " 'Ġ*',\n",
              " 'ĠOn',\n",
              " '2021-10-30',\n",
              " 'at',\n",
              " '08:40',\n",
              " ',',\n",
              " 'Ġdriver',\n",
              " 'SC105',\n",
              " 'will',\n",
              " 'Ġpick',\n",
              " 'Ġup',\n",
              " '390539',\n",
              " 'with',\n",
              " 'Ġthe',\n",
              " 'Ġcondition',\n",
              " 'Ġof',\n",
              " 'WCH',\n",
              " 'from',\n",
              " 'Ġ(',\n",
              " '-121.888064',\n",
              " ',',\n",
              " '37.332132',\n",
              " ')',\n",
              " 'Ġand',\n",
              " 'Ġdropped',\n",
              " 'Ġoff',\n",
              " 'Ġat',\n",
              " 'Ġ(',\n",
              " '-121.8134232',\n",
              " ',',\n",
              " '37.35033035',\n",
              " ')',\n",
              " 'Ġthe',\n",
              " 'Ġvalue',\n",
              " 'Ġof',\n",
              " 'Ġthis',\n",
              " 'Ġride',\n",
              " 'Ġis',\n",
              " '84.4',\n",
              " 'and',\n",
              " 'Ġthe',\n",
              " 'Ġdistance',\n",
              " 'Ġfrom',\n",
              " 'Ġstart',\n",
              " 'Ġto',\n",
              " 'Ġfinish',\n",
              " 'Ġis',\n",
              " 'Ġ6',\n",
              " '.',\n",
              " '42',\n",
              " 'Ġmiles',\n",
              " 'Ġ*',\n",
              " 'ĠOn',\n",
              " '2021-10-30',\n",
              " 'at',\n",
              " '08:45',\n",
              " ',',\n",
              " 'Ġdriver',\n",
              " 'SC101',\n",
              " 'will',\n",
              " 'Ġpick',\n",
              " 'Ġup',\n",
              " '388896',\n",
              " 'with',\n",
              " 'Ġthe',\n",
              " 'Ġcondition',\n",
              " 'Ġof',\n",
              " 'WCH',\n",
              " 'from',\n",
              " 'Ġ(',\n",
              " '-121.8113861',\n",
              " ',',\n",
              " '37.30517197',\n",
              " ')',\n",
              " 'Ġand',\n",
              " 'Ġdropped',\n",
              " 'Ġoff',\n",
              " 'Ġat',\n",
              " 'Ġ(',\n",
              " '-121.8397293',\n",
              " ',',\n",
              " '37.31420898',\n",
              " ')',\n",
              " 'Ġthe',\n",
              " 'Ġvalue',\n",
              " 'Ġof',\n",
              " 'Ġthis',\n",
              " 'Ġride',\n",
              " 'Ġis',\n",
              " '26.3',\n",
              " 'and',\n",
              " 'Ġthe',\n",
              " 'Ġdistance',\n",
              " 'Ġfrom',\n",
              " 'Ġstart',\n",
              " 'Ġto',\n",
              " 'Ġfinish',\n",
              " 'Ġis',\n",
              " 'Ġ2',\n",
              " '.',\n",
              " '78',\n",
              " 'Ġmiles',\n",
              " 'Ġ*',\n",
              " '<CONT_0_1>',\n",
              " '</s>']"
            ]
          },
          "metadata": {},
          "execution_count": 52
        }
      ]
    },
    {
      "cell_type": "code",
      "source": [
        "from sklearn.metrics import accuracy_score, f1_score\n",
        "\n",
        "def compute_metrics(pred):\n",
        "  labels = pred.label_ids\n",
        "  preds = pred.predictions.argmax(-1)\n",
        "  acc = accuracy_score(labels, preds)\n",
        "  f1 = f1_score(labels, preds, average='macro')\n",
        "  return {\n",
        "      'accuracy' :  acc,\n",
        "      'f1' : f1\n",
        "  }"
      ],
      "metadata": {
        "id": "qVgHbcN2Pshf"
      },
      "execution_count": 53,
      "outputs": []
    },
    {
      "cell_type": "code",
      "source": [
        "from transformers import Seq2SeqTrainingArguments\n",
        "\n",
        "training_args = Seq2SeqTrainingArguments(\n",
        "    'finetuned-model',\n",
        "    evaluation_strategy='no',\n",
        "    save_strategy='epoch',\n",
        "    learning_rate=2e-5,\n",
        "    per_device_train_batch_size=8, #32\n",
        "    per_device_eval_batch_size=16, #64\n",
        "    weight_decay=0.01,\n",
        "    save_total_limit=3,\n",
        "    num_train_epochs=3,\n",
        "    predict_with_generate=True,\n",
        "    fp16=True,\n",
        ")"
      ],
      "metadata": {
        "id": "U3bG-CIMycLF"
      },
      "execution_count": 54,
      "outputs": []
    },
    {
      "cell_type": "code",
      "source": [
        "from transformers import Seq2SeqTrainer\n",
        "\n",
        "trainer = Seq2SeqTrainer(\n",
        "    model,\n",
        "    training_args,\n",
        "    train_dataset=tokenized_datasets['train'],\n",
        "    eval_dataset=tokenized_datasets['test'],\n",
        "    data_collator=data_collator,\n",
        "    tokenizer=tokenizer,\n",
        "    # compute_metrics=compute_metrics\n",
        ")"
      ],
      "metadata": {
        "id": "jjg_EG7Q52jp"
      },
      "execution_count": 55,
      "outputs": []
    },
    {
      "cell_type": "code",
      "source": [
        "# check metrics before starting training\n",
        "trainer.evaluate(max_length=target_max_length)"
      ],
      "metadata": {
        "id": "OOUOO-vnRBfo",
        "colab": {
          "base_uri": "https://localhost:8080/",
          "height": 106
        },
        "outputId": "29dc87bc-6624-4d65-c09a-ea5605397a64"
      },
      "execution_count": 56,
      "outputs": [
        {
          "output_type": "display_data",
          "data": {
            "text/plain": [
              "<IPython.core.display.HTML object>"
            ],
            "text/html": [
              "\n",
              "    <div>\n",
              "      \n",
              "      <progress value='36' max='36' style='width:300px; height:20px; vertical-align: middle;'></progress>\n",
              "      [36/36 00:37]\n",
              "    </div>\n",
              "    "
            ]
          },
          "metadata": {}
        },
        {
          "output_type": "execute_result",
          "data": {
            "text/plain": [
              "{'eval_loss': 11.183876037597656,\n",
              " 'eval_runtime': 40.0715,\n",
              " 'eval_samples_per_second': 14.225,\n",
              " 'eval_steps_per_second': 0.898}"
            ]
          },
          "metadata": {},
          "execution_count": 56
        }
      ]
    },
    {
      "cell_type": "code",
      "source": [
        "# trainer.train()"
      ],
      "metadata": {
        "id": "MtOJz_JFRLfp"
      },
      "execution_count": 57,
      "outputs": []
    },
    {
      "cell_type": "code",
      "source": [],
      "metadata": {
        "id": "rN0hHPlObUx4"
      },
      "execution_count": 57,
      "outputs": []
    }
  ]
}