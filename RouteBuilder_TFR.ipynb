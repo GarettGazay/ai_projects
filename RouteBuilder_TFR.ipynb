{
  "nbformat": 4,
  "nbformat_minor": 0,
  "metadata": {
    "colab": {
      "provenance": [],
      "authorship_tag": "ABX9TyMY8AFIG+EOli9hhwaYx/pa",
      "include_colab_link": true
    },
    "kernelspec": {
      "name": "python3",
      "display_name": "Python 3"
    },
    "language_info": {
      "name": "python"
    },
    "widgets": {
      "application/vnd.jupyter.widget-state+json": {
        "00f2098dde984876b70c006adf50c63f": {
          "model_module": "@jupyter-widgets/controls",
          "model_name": "HBoxModel",
          "model_module_version": "1.5.0",
          "state": {
            "_dom_classes": [],
            "_model_module": "@jupyter-widgets/controls",
            "_model_module_version": "1.5.0",
            "_model_name": "HBoxModel",
            "_view_count": null,
            "_view_module": "@jupyter-widgets/controls",
            "_view_module_version": "1.5.0",
            "_view_name": "HBoxView",
            "box_style": "",
            "children": [
              "IPY_MODEL_dc251443d1514e9da9eded939413570c",
              "IPY_MODEL_f2856f8279864ca1a43d81ac6af72b50",
              "IPY_MODEL_23a3fb35f81c4f0aaeec509117b992cb"
            ],
            "layout": "IPY_MODEL_4d650f3992a4477d84f45e4dc810059c"
          }
        },
        "dc251443d1514e9da9eded939413570c": {
          "model_module": "@jupyter-widgets/controls",
          "model_name": "HTMLModel",
          "model_module_version": "1.5.0",
          "state": {
            "_dom_classes": [],
            "_model_module": "@jupyter-widgets/controls",
            "_model_module_version": "1.5.0",
            "_model_name": "HTMLModel",
            "_view_count": null,
            "_view_module": "@jupyter-widgets/controls",
            "_view_module_version": "1.5.0",
            "_view_name": "HTMLView",
            "description": "",
            "description_tooltip": null,
            "layout": "IPY_MODEL_751c0b6397d94823a5cf9586a8de4f86",
            "placeholder": "​",
            "style": "IPY_MODEL_536999466b70407ebc9f56824376873a",
            "value": "Downloading data files: 100%"
          }
        },
        "f2856f8279864ca1a43d81ac6af72b50": {
          "model_module": "@jupyter-widgets/controls",
          "model_name": "FloatProgressModel",
          "model_module_version": "1.5.0",
          "state": {
            "_dom_classes": [],
            "_model_module": "@jupyter-widgets/controls",
            "_model_module_version": "1.5.0",
            "_model_name": "FloatProgressModel",
            "_view_count": null,
            "_view_module": "@jupyter-widgets/controls",
            "_view_module_version": "1.5.0",
            "_view_name": "ProgressView",
            "bar_style": "success",
            "description": "",
            "description_tooltip": null,
            "layout": "IPY_MODEL_e611fcd0ee79476dbaa3126439f709e1",
            "max": 1,
            "min": 0,
            "orientation": "horizontal",
            "style": "IPY_MODEL_92ff173b9ecf4020b8266e3535bfc093",
            "value": 1
          }
        },
        "23a3fb35f81c4f0aaeec509117b992cb": {
          "model_module": "@jupyter-widgets/controls",
          "model_name": "HTMLModel",
          "model_module_version": "1.5.0",
          "state": {
            "_dom_classes": [],
            "_model_module": "@jupyter-widgets/controls",
            "_model_module_version": "1.5.0",
            "_model_name": "HTMLModel",
            "_view_count": null,
            "_view_module": "@jupyter-widgets/controls",
            "_view_module_version": "1.5.0",
            "_view_name": "HTMLView",
            "description": "",
            "description_tooltip": null,
            "layout": "IPY_MODEL_5956691d7385458ab6f154cefed2cce3",
            "placeholder": "​",
            "style": "IPY_MODEL_9b085cfc00cc4076a2bc724aad687200",
            "value": " 1/1 [00:00&lt;00:00, 30.33it/s]"
          }
        },
        "4d650f3992a4477d84f45e4dc810059c": {
          "model_module": "@jupyter-widgets/base",
          "model_name": "LayoutModel",
          "model_module_version": "1.2.0",
          "state": {
            "_model_module": "@jupyter-widgets/base",
            "_model_module_version": "1.2.0",
            "_model_name": "LayoutModel",
            "_view_count": null,
            "_view_module": "@jupyter-widgets/base",
            "_view_module_version": "1.2.0",
            "_view_name": "LayoutView",
            "align_content": null,
            "align_items": null,
            "align_self": null,
            "border": null,
            "bottom": null,
            "display": null,
            "flex": null,
            "flex_flow": null,
            "grid_area": null,
            "grid_auto_columns": null,
            "grid_auto_flow": null,
            "grid_auto_rows": null,
            "grid_column": null,
            "grid_gap": null,
            "grid_row": null,
            "grid_template_areas": null,
            "grid_template_columns": null,
            "grid_template_rows": null,
            "height": null,
            "justify_content": null,
            "justify_items": null,
            "left": null,
            "margin": null,
            "max_height": null,
            "max_width": null,
            "min_height": null,
            "min_width": null,
            "object_fit": null,
            "object_position": null,
            "order": null,
            "overflow": null,
            "overflow_x": null,
            "overflow_y": null,
            "padding": null,
            "right": null,
            "top": null,
            "visibility": null,
            "width": null
          }
        },
        "751c0b6397d94823a5cf9586a8de4f86": {
          "model_module": "@jupyter-widgets/base",
          "model_name": "LayoutModel",
          "model_module_version": "1.2.0",
          "state": {
            "_model_module": "@jupyter-widgets/base",
            "_model_module_version": "1.2.0",
            "_model_name": "LayoutModel",
            "_view_count": null,
            "_view_module": "@jupyter-widgets/base",
            "_view_module_version": "1.2.0",
            "_view_name": "LayoutView",
            "align_content": null,
            "align_items": null,
            "align_self": null,
            "border": null,
            "bottom": null,
            "display": null,
            "flex": null,
            "flex_flow": null,
            "grid_area": null,
            "grid_auto_columns": null,
            "grid_auto_flow": null,
            "grid_auto_rows": null,
            "grid_column": null,
            "grid_gap": null,
            "grid_row": null,
            "grid_template_areas": null,
            "grid_template_columns": null,
            "grid_template_rows": null,
            "height": null,
            "justify_content": null,
            "justify_items": null,
            "left": null,
            "margin": null,
            "max_height": null,
            "max_width": null,
            "min_height": null,
            "min_width": null,
            "object_fit": null,
            "object_position": null,
            "order": null,
            "overflow": null,
            "overflow_x": null,
            "overflow_y": null,
            "padding": null,
            "right": null,
            "top": null,
            "visibility": null,
            "width": null
          }
        },
        "536999466b70407ebc9f56824376873a": {
          "model_module": "@jupyter-widgets/controls",
          "model_name": "DescriptionStyleModel",
          "model_module_version": "1.5.0",
          "state": {
            "_model_module": "@jupyter-widgets/controls",
            "_model_module_version": "1.5.0",
            "_model_name": "DescriptionStyleModel",
            "_view_count": null,
            "_view_module": "@jupyter-widgets/base",
            "_view_module_version": "1.2.0",
            "_view_name": "StyleView",
            "description_width": ""
          }
        },
        "e611fcd0ee79476dbaa3126439f709e1": {
          "model_module": "@jupyter-widgets/base",
          "model_name": "LayoutModel",
          "model_module_version": "1.2.0",
          "state": {
            "_model_module": "@jupyter-widgets/base",
            "_model_module_version": "1.2.0",
            "_model_name": "LayoutModel",
            "_view_count": null,
            "_view_module": "@jupyter-widgets/base",
            "_view_module_version": "1.2.0",
            "_view_name": "LayoutView",
            "align_content": null,
            "align_items": null,
            "align_self": null,
            "border": null,
            "bottom": null,
            "display": null,
            "flex": null,
            "flex_flow": null,
            "grid_area": null,
            "grid_auto_columns": null,
            "grid_auto_flow": null,
            "grid_auto_rows": null,
            "grid_column": null,
            "grid_gap": null,
            "grid_row": null,
            "grid_template_areas": null,
            "grid_template_columns": null,
            "grid_template_rows": null,
            "height": null,
            "justify_content": null,
            "justify_items": null,
            "left": null,
            "margin": null,
            "max_height": null,
            "max_width": null,
            "min_height": null,
            "min_width": null,
            "object_fit": null,
            "object_position": null,
            "order": null,
            "overflow": null,
            "overflow_x": null,
            "overflow_y": null,
            "padding": null,
            "right": null,
            "top": null,
            "visibility": null,
            "width": null
          }
        },
        "92ff173b9ecf4020b8266e3535bfc093": {
          "model_module": "@jupyter-widgets/controls",
          "model_name": "ProgressStyleModel",
          "model_module_version": "1.5.0",
          "state": {
            "_model_module": "@jupyter-widgets/controls",
            "_model_module_version": "1.5.0",
            "_model_name": "ProgressStyleModel",
            "_view_count": null,
            "_view_module": "@jupyter-widgets/base",
            "_view_module_version": "1.2.0",
            "_view_name": "StyleView",
            "bar_color": null,
            "description_width": ""
          }
        },
        "5956691d7385458ab6f154cefed2cce3": {
          "model_module": "@jupyter-widgets/base",
          "model_name": "LayoutModel",
          "model_module_version": "1.2.0",
          "state": {
            "_model_module": "@jupyter-widgets/base",
            "_model_module_version": "1.2.0",
            "_model_name": "LayoutModel",
            "_view_count": null,
            "_view_module": "@jupyter-widgets/base",
            "_view_module_version": "1.2.0",
            "_view_name": "LayoutView",
            "align_content": null,
            "align_items": null,
            "align_self": null,
            "border": null,
            "bottom": null,
            "display": null,
            "flex": null,
            "flex_flow": null,
            "grid_area": null,
            "grid_auto_columns": null,
            "grid_auto_flow": null,
            "grid_auto_rows": null,
            "grid_column": null,
            "grid_gap": null,
            "grid_row": null,
            "grid_template_areas": null,
            "grid_template_columns": null,
            "grid_template_rows": null,
            "height": null,
            "justify_content": null,
            "justify_items": null,
            "left": null,
            "margin": null,
            "max_height": null,
            "max_width": null,
            "min_height": null,
            "min_width": null,
            "object_fit": null,
            "object_position": null,
            "order": null,
            "overflow": null,
            "overflow_x": null,
            "overflow_y": null,
            "padding": null,
            "right": null,
            "top": null,
            "visibility": null,
            "width": null
          }
        },
        "9b085cfc00cc4076a2bc724aad687200": {
          "model_module": "@jupyter-widgets/controls",
          "model_name": "DescriptionStyleModel",
          "model_module_version": "1.5.0",
          "state": {
            "_model_module": "@jupyter-widgets/controls",
            "_model_module_version": "1.5.0",
            "_model_name": "DescriptionStyleModel",
            "_view_count": null,
            "_view_module": "@jupyter-widgets/base",
            "_view_module_version": "1.2.0",
            "_view_name": "StyleView",
            "description_width": ""
          }
        },
        "8ea790a46ea54ac98d18d5cff15d5b63": {
          "model_module": "@jupyter-widgets/controls",
          "model_name": "HBoxModel",
          "model_module_version": "1.5.0",
          "state": {
            "_dom_classes": [],
            "_model_module": "@jupyter-widgets/controls",
            "_model_module_version": "1.5.0",
            "_model_name": "HBoxModel",
            "_view_count": null,
            "_view_module": "@jupyter-widgets/controls",
            "_view_module_version": "1.5.0",
            "_view_name": "HBoxView",
            "box_style": "",
            "children": [
              "IPY_MODEL_623c1ce1e7d74ca296b6c65da181f8b6",
              "IPY_MODEL_43f603eb2f4546d7aaec19b86d2dc3b3",
              "IPY_MODEL_4f0167b0cc154e41b8d3b865b5b9fc8a"
            ],
            "layout": "IPY_MODEL_55287751b5c24dec924344b7ac337a87"
          }
        },
        "623c1ce1e7d74ca296b6c65da181f8b6": {
          "model_module": "@jupyter-widgets/controls",
          "model_name": "HTMLModel",
          "model_module_version": "1.5.0",
          "state": {
            "_dom_classes": [],
            "_model_module": "@jupyter-widgets/controls",
            "_model_module_version": "1.5.0",
            "_model_name": "HTMLModel",
            "_view_count": null,
            "_view_module": "@jupyter-widgets/controls",
            "_view_module_version": "1.5.0",
            "_view_name": "HTMLView",
            "description": "",
            "description_tooltip": null,
            "layout": "IPY_MODEL_ca68622a48724d4ea2cd18ddf63f15a6",
            "placeholder": "​",
            "style": "IPY_MODEL_1b2789d4205548d0b601ce8397b76e5d",
            "value": "Extracting data files: 100%"
          }
        },
        "43f603eb2f4546d7aaec19b86d2dc3b3": {
          "model_module": "@jupyter-widgets/controls",
          "model_name": "FloatProgressModel",
          "model_module_version": "1.5.0",
          "state": {
            "_dom_classes": [],
            "_model_module": "@jupyter-widgets/controls",
            "_model_module_version": "1.5.0",
            "_model_name": "FloatProgressModel",
            "_view_count": null,
            "_view_module": "@jupyter-widgets/controls",
            "_view_module_version": "1.5.0",
            "_view_name": "ProgressView",
            "bar_style": "success",
            "description": "",
            "description_tooltip": null,
            "layout": "IPY_MODEL_45fe0e528fec41ab81cc58bbce44216a",
            "max": 1,
            "min": 0,
            "orientation": "horizontal",
            "style": "IPY_MODEL_c10a6c9bec0749e5bbf42f5734f4539c",
            "value": 1
          }
        },
        "4f0167b0cc154e41b8d3b865b5b9fc8a": {
          "model_module": "@jupyter-widgets/controls",
          "model_name": "HTMLModel",
          "model_module_version": "1.5.0",
          "state": {
            "_dom_classes": [],
            "_model_module": "@jupyter-widgets/controls",
            "_model_module_version": "1.5.0",
            "_model_name": "HTMLModel",
            "_view_count": null,
            "_view_module": "@jupyter-widgets/controls",
            "_view_module_version": "1.5.0",
            "_view_name": "HTMLView",
            "description": "",
            "description_tooltip": null,
            "layout": "IPY_MODEL_416ab3599bdc47b4996406df1490d94b",
            "placeholder": "​",
            "style": "IPY_MODEL_238b8b66fe1847f199ce1145c63b155a",
            "value": " 1/1 [00:00&lt;00:00, 32.57it/s]"
          }
        },
        "55287751b5c24dec924344b7ac337a87": {
          "model_module": "@jupyter-widgets/base",
          "model_name": "LayoutModel",
          "model_module_version": "1.2.0",
          "state": {
            "_model_module": "@jupyter-widgets/base",
            "_model_module_version": "1.2.0",
            "_model_name": "LayoutModel",
            "_view_count": null,
            "_view_module": "@jupyter-widgets/base",
            "_view_module_version": "1.2.0",
            "_view_name": "LayoutView",
            "align_content": null,
            "align_items": null,
            "align_self": null,
            "border": null,
            "bottom": null,
            "display": null,
            "flex": null,
            "flex_flow": null,
            "grid_area": null,
            "grid_auto_columns": null,
            "grid_auto_flow": null,
            "grid_auto_rows": null,
            "grid_column": null,
            "grid_gap": null,
            "grid_row": null,
            "grid_template_areas": null,
            "grid_template_columns": null,
            "grid_template_rows": null,
            "height": null,
            "justify_content": null,
            "justify_items": null,
            "left": null,
            "margin": null,
            "max_height": null,
            "max_width": null,
            "min_height": null,
            "min_width": null,
            "object_fit": null,
            "object_position": null,
            "order": null,
            "overflow": null,
            "overflow_x": null,
            "overflow_y": null,
            "padding": null,
            "right": null,
            "top": null,
            "visibility": null,
            "width": null
          }
        },
        "ca68622a48724d4ea2cd18ddf63f15a6": {
          "model_module": "@jupyter-widgets/base",
          "model_name": "LayoutModel",
          "model_module_version": "1.2.0",
          "state": {
            "_model_module": "@jupyter-widgets/base",
            "_model_module_version": "1.2.0",
            "_model_name": "LayoutModel",
            "_view_count": null,
            "_view_module": "@jupyter-widgets/base",
            "_view_module_version": "1.2.0",
            "_view_name": "LayoutView",
            "align_content": null,
            "align_items": null,
            "align_self": null,
            "border": null,
            "bottom": null,
            "display": null,
            "flex": null,
            "flex_flow": null,
            "grid_area": null,
            "grid_auto_columns": null,
            "grid_auto_flow": null,
            "grid_auto_rows": null,
            "grid_column": null,
            "grid_gap": null,
            "grid_row": null,
            "grid_template_areas": null,
            "grid_template_columns": null,
            "grid_template_rows": null,
            "height": null,
            "justify_content": null,
            "justify_items": null,
            "left": null,
            "margin": null,
            "max_height": null,
            "max_width": null,
            "min_height": null,
            "min_width": null,
            "object_fit": null,
            "object_position": null,
            "order": null,
            "overflow": null,
            "overflow_x": null,
            "overflow_y": null,
            "padding": null,
            "right": null,
            "top": null,
            "visibility": null,
            "width": null
          }
        },
        "1b2789d4205548d0b601ce8397b76e5d": {
          "model_module": "@jupyter-widgets/controls",
          "model_name": "DescriptionStyleModel",
          "model_module_version": "1.5.0",
          "state": {
            "_model_module": "@jupyter-widgets/controls",
            "_model_module_version": "1.5.0",
            "_model_name": "DescriptionStyleModel",
            "_view_count": null,
            "_view_module": "@jupyter-widgets/base",
            "_view_module_version": "1.2.0",
            "_view_name": "StyleView",
            "description_width": ""
          }
        },
        "45fe0e528fec41ab81cc58bbce44216a": {
          "model_module": "@jupyter-widgets/base",
          "model_name": "LayoutModel",
          "model_module_version": "1.2.0",
          "state": {
            "_model_module": "@jupyter-widgets/base",
            "_model_module_version": "1.2.0",
            "_model_name": "LayoutModel",
            "_view_count": null,
            "_view_module": "@jupyter-widgets/base",
            "_view_module_version": "1.2.0",
            "_view_name": "LayoutView",
            "align_content": null,
            "align_items": null,
            "align_self": null,
            "border": null,
            "bottom": null,
            "display": null,
            "flex": null,
            "flex_flow": null,
            "grid_area": null,
            "grid_auto_columns": null,
            "grid_auto_flow": null,
            "grid_auto_rows": null,
            "grid_column": null,
            "grid_gap": null,
            "grid_row": null,
            "grid_template_areas": null,
            "grid_template_columns": null,
            "grid_template_rows": null,
            "height": null,
            "justify_content": null,
            "justify_items": null,
            "left": null,
            "margin": null,
            "max_height": null,
            "max_width": null,
            "min_height": null,
            "min_width": null,
            "object_fit": null,
            "object_position": null,
            "order": null,
            "overflow": null,
            "overflow_x": null,
            "overflow_y": null,
            "padding": null,
            "right": null,
            "top": null,
            "visibility": null,
            "width": null
          }
        },
        "c10a6c9bec0749e5bbf42f5734f4539c": {
          "model_module": "@jupyter-widgets/controls",
          "model_name": "ProgressStyleModel",
          "model_module_version": "1.5.0",
          "state": {
            "_model_module": "@jupyter-widgets/controls",
            "_model_module_version": "1.5.0",
            "_model_name": "ProgressStyleModel",
            "_view_count": null,
            "_view_module": "@jupyter-widgets/base",
            "_view_module_version": "1.2.0",
            "_view_name": "StyleView",
            "bar_color": null,
            "description_width": ""
          }
        },
        "416ab3599bdc47b4996406df1490d94b": {
          "model_module": "@jupyter-widgets/base",
          "model_name": "LayoutModel",
          "model_module_version": "1.2.0",
          "state": {
            "_model_module": "@jupyter-widgets/base",
            "_model_module_version": "1.2.0",
            "_model_name": "LayoutModel",
            "_view_count": null,
            "_view_module": "@jupyter-widgets/base",
            "_view_module_version": "1.2.0",
            "_view_name": "LayoutView",
            "align_content": null,
            "align_items": null,
            "align_self": null,
            "border": null,
            "bottom": null,
            "display": null,
            "flex": null,
            "flex_flow": null,
            "grid_area": null,
            "grid_auto_columns": null,
            "grid_auto_flow": null,
            "grid_auto_rows": null,
            "grid_column": null,
            "grid_gap": null,
            "grid_row": null,
            "grid_template_areas": null,
            "grid_template_columns": null,
            "grid_template_rows": null,
            "height": null,
            "justify_content": null,
            "justify_items": null,
            "left": null,
            "margin": null,
            "max_height": null,
            "max_width": null,
            "min_height": null,
            "min_width": null,
            "object_fit": null,
            "object_position": null,
            "order": null,
            "overflow": null,
            "overflow_x": null,
            "overflow_y": null,
            "padding": null,
            "right": null,
            "top": null,
            "visibility": null,
            "width": null
          }
        },
        "238b8b66fe1847f199ce1145c63b155a": {
          "model_module": "@jupyter-widgets/controls",
          "model_name": "DescriptionStyleModel",
          "model_module_version": "1.5.0",
          "state": {
            "_model_module": "@jupyter-widgets/controls",
            "_model_module_version": "1.5.0",
            "_model_name": "DescriptionStyleModel",
            "_view_count": null,
            "_view_module": "@jupyter-widgets/base",
            "_view_module_version": "1.2.0",
            "_view_name": "StyleView",
            "description_width": ""
          }
        },
        "454ede998f7e4701a67d2f2ca68bed5d": {
          "model_module": "@jupyter-widgets/controls",
          "model_name": "HBoxModel",
          "model_module_version": "1.5.0",
          "state": {
            "_dom_classes": [],
            "_model_module": "@jupyter-widgets/controls",
            "_model_module_version": "1.5.0",
            "_model_name": "HBoxModel",
            "_view_count": null,
            "_view_module": "@jupyter-widgets/controls",
            "_view_module_version": "1.5.0",
            "_view_name": "HBoxView",
            "box_style": "",
            "children": [
              "IPY_MODEL_e03f39b6ec8b46c7aab130b88cfe50f3",
              "IPY_MODEL_aef0d14eba514a178731a13389a31462",
              "IPY_MODEL_f24693b793d545d4bcf65a193b8dde61"
            ],
            "layout": "IPY_MODEL_fb01c7d555714a078c4b8b8dff0aa5e9"
          }
        },
        "e03f39b6ec8b46c7aab130b88cfe50f3": {
          "model_module": "@jupyter-widgets/controls",
          "model_name": "HTMLModel",
          "model_module_version": "1.5.0",
          "state": {
            "_dom_classes": [],
            "_model_module": "@jupyter-widgets/controls",
            "_model_module_version": "1.5.0",
            "_model_name": "HTMLModel",
            "_view_count": null,
            "_view_module": "@jupyter-widgets/controls",
            "_view_module_version": "1.5.0",
            "_view_name": "HTMLView",
            "description": "",
            "description_tooltip": null,
            "layout": "IPY_MODEL_4ad86b8f0fa74004968386759c889534",
            "placeholder": "​",
            "style": "IPY_MODEL_d2b1980fb43b43148f8696a93c83eda0",
            "value": "Generating train split: "
          }
        },
        "aef0d14eba514a178731a13389a31462": {
          "model_module": "@jupyter-widgets/controls",
          "model_name": "FloatProgressModel",
          "model_module_version": "1.5.0",
          "state": {
            "_dom_classes": [],
            "_model_module": "@jupyter-widgets/controls",
            "_model_module_version": "1.5.0",
            "_model_name": "FloatProgressModel",
            "_view_count": null,
            "_view_module": "@jupyter-widgets/controls",
            "_view_module_version": "1.5.0",
            "_view_name": "ProgressView",
            "bar_style": "info",
            "description": "",
            "description_tooltip": null,
            "layout": "IPY_MODEL_52447aea1e534674bfa37307578edf92",
            "max": 1,
            "min": 0,
            "orientation": "horizontal",
            "style": "IPY_MODEL_4884cdfcc2e946daaf79c5ba5c861f6e",
            "value": 1
          }
        },
        "f24693b793d545d4bcf65a193b8dde61": {
          "model_module": "@jupyter-widgets/controls",
          "model_name": "HTMLModel",
          "model_module_version": "1.5.0",
          "state": {
            "_dom_classes": [],
            "_model_module": "@jupyter-widgets/controls",
            "_model_module_version": "1.5.0",
            "_model_name": "HTMLModel",
            "_view_count": null,
            "_view_module": "@jupyter-widgets/controls",
            "_view_module_version": "1.5.0",
            "_view_name": "HTMLView",
            "description": "",
            "description_tooltip": null,
            "layout": "IPY_MODEL_5b49b0b31cc94136b1173659be394f4c",
            "placeholder": "​",
            "style": "IPY_MODEL_fc31d342b3e44a4fbbcdf117b7533b7b",
            "value": " 350/0 [00:00&lt;00:00, 1549.43 examples/s]"
          }
        },
        "fb01c7d555714a078c4b8b8dff0aa5e9": {
          "model_module": "@jupyter-widgets/base",
          "model_name": "LayoutModel",
          "model_module_version": "1.2.0",
          "state": {
            "_model_module": "@jupyter-widgets/base",
            "_model_module_version": "1.2.0",
            "_model_name": "LayoutModel",
            "_view_count": null,
            "_view_module": "@jupyter-widgets/base",
            "_view_module_version": "1.2.0",
            "_view_name": "LayoutView",
            "align_content": null,
            "align_items": null,
            "align_self": null,
            "border": null,
            "bottom": null,
            "display": null,
            "flex": null,
            "flex_flow": null,
            "grid_area": null,
            "grid_auto_columns": null,
            "grid_auto_flow": null,
            "grid_auto_rows": null,
            "grid_column": null,
            "grid_gap": null,
            "grid_row": null,
            "grid_template_areas": null,
            "grid_template_columns": null,
            "grid_template_rows": null,
            "height": null,
            "justify_content": null,
            "justify_items": null,
            "left": null,
            "margin": null,
            "max_height": null,
            "max_width": null,
            "min_height": null,
            "min_width": null,
            "object_fit": null,
            "object_position": null,
            "order": null,
            "overflow": null,
            "overflow_x": null,
            "overflow_y": null,
            "padding": null,
            "right": null,
            "top": null,
            "visibility": "hidden",
            "width": null
          }
        },
        "4ad86b8f0fa74004968386759c889534": {
          "model_module": "@jupyter-widgets/base",
          "model_name": "LayoutModel",
          "model_module_version": "1.2.0",
          "state": {
            "_model_module": "@jupyter-widgets/base",
            "_model_module_version": "1.2.0",
            "_model_name": "LayoutModel",
            "_view_count": null,
            "_view_module": "@jupyter-widgets/base",
            "_view_module_version": "1.2.0",
            "_view_name": "LayoutView",
            "align_content": null,
            "align_items": null,
            "align_self": null,
            "border": null,
            "bottom": null,
            "display": null,
            "flex": null,
            "flex_flow": null,
            "grid_area": null,
            "grid_auto_columns": null,
            "grid_auto_flow": null,
            "grid_auto_rows": null,
            "grid_column": null,
            "grid_gap": null,
            "grid_row": null,
            "grid_template_areas": null,
            "grid_template_columns": null,
            "grid_template_rows": null,
            "height": null,
            "justify_content": null,
            "justify_items": null,
            "left": null,
            "margin": null,
            "max_height": null,
            "max_width": null,
            "min_height": null,
            "min_width": null,
            "object_fit": null,
            "object_position": null,
            "order": null,
            "overflow": null,
            "overflow_x": null,
            "overflow_y": null,
            "padding": null,
            "right": null,
            "top": null,
            "visibility": null,
            "width": null
          }
        },
        "d2b1980fb43b43148f8696a93c83eda0": {
          "model_module": "@jupyter-widgets/controls",
          "model_name": "DescriptionStyleModel",
          "model_module_version": "1.5.0",
          "state": {
            "_model_module": "@jupyter-widgets/controls",
            "_model_module_version": "1.5.0",
            "_model_name": "DescriptionStyleModel",
            "_view_count": null,
            "_view_module": "@jupyter-widgets/base",
            "_view_module_version": "1.2.0",
            "_view_name": "StyleView",
            "description_width": ""
          }
        },
        "52447aea1e534674bfa37307578edf92": {
          "model_module": "@jupyter-widgets/base",
          "model_name": "LayoutModel",
          "model_module_version": "1.2.0",
          "state": {
            "_model_module": "@jupyter-widgets/base",
            "_model_module_version": "1.2.0",
            "_model_name": "LayoutModel",
            "_view_count": null,
            "_view_module": "@jupyter-widgets/base",
            "_view_module_version": "1.2.0",
            "_view_name": "LayoutView",
            "align_content": null,
            "align_items": null,
            "align_self": null,
            "border": null,
            "bottom": null,
            "display": null,
            "flex": null,
            "flex_flow": null,
            "grid_area": null,
            "grid_auto_columns": null,
            "grid_auto_flow": null,
            "grid_auto_rows": null,
            "grid_column": null,
            "grid_gap": null,
            "grid_row": null,
            "grid_template_areas": null,
            "grid_template_columns": null,
            "grid_template_rows": null,
            "height": null,
            "justify_content": null,
            "justify_items": null,
            "left": null,
            "margin": null,
            "max_height": null,
            "max_width": null,
            "min_height": null,
            "min_width": null,
            "object_fit": null,
            "object_position": null,
            "order": null,
            "overflow": null,
            "overflow_x": null,
            "overflow_y": null,
            "padding": null,
            "right": null,
            "top": null,
            "visibility": null,
            "width": "20px"
          }
        },
        "4884cdfcc2e946daaf79c5ba5c861f6e": {
          "model_module": "@jupyter-widgets/controls",
          "model_name": "ProgressStyleModel",
          "model_module_version": "1.5.0",
          "state": {
            "_model_module": "@jupyter-widgets/controls",
            "_model_module_version": "1.5.0",
            "_model_name": "ProgressStyleModel",
            "_view_count": null,
            "_view_module": "@jupyter-widgets/base",
            "_view_module_version": "1.2.0",
            "_view_name": "StyleView",
            "bar_color": null,
            "description_width": ""
          }
        },
        "5b49b0b31cc94136b1173659be394f4c": {
          "model_module": "@jupyter-widgets/base",
          "model_name": "LayoutModel",
          "model_module_version": "1.2.0",
          "state": {
            "_model_module": "@jupyter-widgets/base",
            "_model_module_version": "1.2.0",
            "_model_name": "LayoutModel",
            "_view_count": null,
            "_view_module": "@jupyter-widgets/base",
            "_view_module_version": "1.2.0",
            "_view_name": "LayoutView",
            "align_content": null,
            "align_items": null,
            "align_self": null,
            "border": null,
            "bottom": null,
            "display": null,
            "flex": null,
            "flex_flow": null,
            "grid_area": null,
            "grid_auto_columns": null,
            "grid_auto_flow": null,
            "grid_auto_rows": null,
            "grid_column": null,
            "grid_gap": null,
            "grid_row": null,
            "grid_template_areas": null,
            "grid_template_columns": null,
            "grid_template_rows": null,
            "height": null,
            "justify_content": null,
            "justify_items": null,
            "left": null,
            "margin": null,
            "max_height": null,
            "max_width": null,
            "min_height": null,
            "min_width": null,
            "object_fit": null,
            "object_position": null,
            "order": null,
            "overflow": null,
            "overflow_x": null,
            "overflow_y": null,
            "padding": null,
            "right": null,
            "top": null,
            "visibility": null,
            "width": null
          }
        },
        "fc31d342b3e44a4fbbcdf117b7533b7b": {
          "model_module": "@jupyter-widgets/controls",
          "model_name": "DescriptionStyleModel",
          "model_module_version": "1.5.0",
          "state": {
            "_model_module": "@jupyter-widgets/controls",
            "_model_module_version": "1.5.0",
            "_model_name": "DescriptionStyleModel",
            "_view_count": null,
            "_view_module": "@jupyter-widgets/base",
            "_view_module_version": "1.2.0",
            "_view_name": "StyleView",
            "description_width": ""
          }
        },
        "f67258da4c60460e96f9a4e729ce8596": {
          "model_module": "@jupyter-widgets/controls",
          "model_name": "HBoxModel",
          "model_module_version": "1.5.0",
          "state": {
            "_dom_classes": [],
            "_model_module": "@jupyter-widgets/controls",
            "_model_module_version": "1.5.0",
            "_model_name": "HBoxModel",
            "_view_count": null,
            "_view_module": "@jupyter-widgets/controls",
            "_view_module_version": "1.5.0",
            "_view_name": "HBoxView",
            "box_style": "",
            "children": [
              "IPY_MODEL_571f57e825fb4b68ac352bcc36e275ad",
              "IPY_MODEL_3712d759f8c843b2aa2f7c9f7607ecd4",
              "IPY_MODEL_8bd43b8ca1d6450bac6f7d5f2fd16c91"
            ],
            "layout": "IPY_MODEL_14f5898fefac434086d801feec392b1a"
          }
        },
        "571f57e825fb4b68ac352bcc36e275ad": {
          "model_module": "@jupyter-widgets/controls",
          "model_name": "HTMLModel",
          "model_module_version": "1.5.0",
          "state": {
            "_dom_classes": [],
            "_model_module": "@jupyter-widgets/controls",
            "_model_module_version": "1.5.0",
            "_model_name": "HTMLModel",
            "_view_count": null,
            "_view_module": "@jupyter-widgets/controls",
            "_view_module_version": "1.5.0",
            "_view_name": "HTMLView",
            "description": "",
            "description_tooltip": null,
            "layout": "IPY_MODEL_67a9f3f40ae7441b9c6e8265e1c45b7f",
            "placeholder": "​",
            "style": "IPY_MODEL_704fba0016c94968807c9e8654f832c8",
            "value": "100%"
          }
        },
        "3712d759f8c843b2aa2f7c9f7607ecd4": {
          "model_module": "@jupyter-widgets/controls",
          "model_name": "FloatProgressModel",
          "model_module_version": "1.5.0",
          "state": {
            "_dom_classes": [],
            "_model_module": "@jupyter-widgets/controls",
            "_model_module_version": "1.5.0",
            "_model_name": "FloatProgressModel",
            "_view_count": null,
            "_view_module": "@jupyter-widgets/controls",
            "_view_module_version": "1.5.0",
            "_view_name": "ProgressView",
            "bar_style": "success",
            "description": "",
            "description_tooltip": null,
            "layout": "IPY_MODEL_a558d38f61d041338e46b70057c81491",
            "max": 1,
            "min": 0,
            "orientation": "horizontal",
            "style": "IPY_MODEL_49a064cdc58e465dbe2c1f0d5c6bcd9c",
            "value": 1
          }
        },
        "8bd43b8ca1d6450bac6f7d5f2fd16c91": {
          "model_module": "@jupyter-widgets/controls",
          "model_name": "HTMLModel",
          "model_module_version": "1.5.0",
          "state": {
            "_dom_classes": [],
            "_model_module": "@jupyter-widgets/controls",
            "_model_module_version": "1.5.0",
            "_model_name": "HTMLModel",
            "_view_count": null,
            "_view_module": "@jupyter-widgets/controls",
            "_view_module_version": "1.5.0",
            "_view_name": "HTMLView",
            "description": "",
            "description_tooltip": null,
            "layout": "IPY_MODEL_60d93032902140eaad00d5818350abc0",
            "placeholder": "​",
            "style": "IPY_MODEL_3dd7bc90a46741279828c0560b0225de",
            "value": " 1/1 [00:00&lt;00:00, 27.77it/s]"
          }
        },
        "14f5898fefac434086d801feec392b1a": {
          "model_module": "@jupyter-widgets/base",
          "model_name": "LayoutModel",
          "model_module_version": "1.2.0",
          "state": {
            "_model_module": "@jupyter-widgets/base",
            "_model_module_version": "1.2.0",
            "_model_name": "LayoutModel",
            "_view_count": null,
            "_view_module": "@jupyter-widgets/base",
            "_view_module_version": "1.2.0",
            "_view_name": "LayoutView",
            "align_content": null,
            "align_items": null,
            "align_self": null,
            "border": null,
            "bottom": null,
            "display": null,
            "flex": null,
            "flex_flow": null,
            "grid_area": null,
            "grid_auto_columns": null,
            "grid_auto_flow": null,
            "grid_auto_rows": null,
            "grid_column": null,
            "grid_gap": null,
            "grid_row": null,
            "grid_template_areas": null,
            "grid_template_columns": null,
            "grid_template_rows": null,
            "height": null,
            "justify_content": null,
            "justify_items": null,
            "left": null,
            "margin": null,
            "max_height": null,
            "max_width": null,
            "min_height": null,
            "min_width": null,
            "object_fit": null,
            "object_position": null,
            "order": null,
            "overflow": null,
            "overflow_x": null,
            "overflow_y": null,
            "padding": null,
            "right": null,
            "top": null,
            "visibility": null,
            "width": null
          }
        },
        "67a9f3f40ae7441b9c6e8265e1c45b7f": {
          "model_module": "@jupyter-widgets/base",
          "model_name": "LayoutModel",
          "model_module_version": "1.2.0",
          "state": {
            "_model_module": "@jupyter-widgets/base",
            "_model_module_version": "1.2.0",
            "_model_name": "LayoutModel",
            "_view_count": null,
            "_view_module": "@jupyter-widgets/base",
            "_view_module_version": "1.2.0",
            "_view_name": "LayoutView",
            "align_content": null,
            "align_items": null,
            "align_self": null,
            "border": null,
            "bottom": null,
            "display": null,
            "flex": null,
            "flex_flow": null,
            "grid_area": null,
            "grid_auto_columns": null,
            "grid_auto_flow": null,
            "grid_auto_rows": null,
            "grid_column": null,
            "grid_gap": null,
            "grid_row": null,
            "grid_template_areas": null,
            "grid_template_columns": null,
            "grid_template_rows": null,
            "height": null,
            "justify_content": null,
            "justify_items": null,
            "left": null,
            "margin": null,
            "max_height": null,
            "max_width": null,
            "min_height": null,
            "min_width": null,
            "object_fit": null,
            "object_position": null,
            "order": null,
            "overflow": null,
            "overflow_x": null,
            "overflow_y": null,
            "padding": null,
            "right": null,
            "top": null,
            "visibility": null,
            "width": null
          }
        },
        "704fba0016c94968807c9e8654f832c8": {
          "model_module": "@jupyter-widgets/controls",
          "model_name": "DescriptionStyleModel",
          "model_module_version": "1.5.0",
          "state": {
            "_model_module": "@jupyter-widgets/controls",
            "_model_module_version": "1.5.0",
            "_model_name": "DescriptionStyleModel",
            "_view_count": null,
            "_view_module": "@jupyter-widgets/base",
            "_view_module_version": "1.2.0",
            "_view_name": "StyleView",
            "description_width": ""
          }
        },
        "a558d38f61d041338e46b70057c81491": {
          "model_module": "@jupyter-widgets/base",
          "model_name": "LayoutModel",
          "model_module_version": "1.2.0",
          "state": {
            "_model_module": "@jupyter-widgets/base",
            "_model_module_version": "1.2.0",
            "_model_name": "LayoutModel",
            "_view_count": null,
            "_view_module": "@jupyter-widgets/base",
            "_view_module_version": "1.2.0",
            "_view_name": "LayoutView",
            "align_content": null,
            "align_items": null,
            "align_self": null,
            "border": null,
            "bottom": null,
            "display": null,
            "flex": null,
            "flex_flow": null,
            "grid_area": null,
            "grid_auto_columns": null,
            "grid_auto_flow": null,
            "grid_auto_rows": null,
            "grid_column": null,
            "grid_gap": null,
            "grid_row": null,
            "grid_template_areas": null,
            "grid_template_columns": null,
            "grid_template_rows": null,
            "height": null,
            "justify_content": null,
            "justify_items": null,
            "left": null,
            "margin": null,
            "max_height": null,
            "max_width": null,
            "min_height": null,
            "min_width": null,
            "object_fit": null,
            "object_position": null,
            "order": null,
            "overflow": null,
            "overflow_x": null,
            "overflow_y": null,
            "padding": null,
            "right": null,
            "top": null,
            "visibility": null,
            "width": null
          }
        },
        "49a064cdc58e465dbe2c1f0d5c6bcd9c": {
          "model_module": "@jupyter-widgets/controls",
          "model_name": "ProgressStyleModel",
          "model_module_version": "1.5.0",
          "state": {
            "_model_module": "@jupyter-widgets/controls",
            "_model_module_version": "1.5.0",
            "_model_name": "ProgressStyleModel",
            "_view_count": null,
            "_view_module": "@jupyter-widgets/base",
            "_view_module_version": "1.2.0",
            "_view_name": "StyleView",
            "bar_color": null,
            "description_width": ""
          }
        },
        "60d93032902140eaad00d5818350abc0": {
          "model_module": "@jupyter-widgets/base",
          "model_name": "LayoutModel",
          "model_module_version": "1.2.0",
          "state": {
            "_model_module": "@jupyter-widgets/base",
            "_model_module_version": "1.2.0",
            "_model_name": "LayoutModel",
            "_view_count": null,
            "_view_module": "@jupyter-widgets/base",
            "_view_module_version": "1.2.0",
            "_view_name": "LayoutView",
            "align_content": null,
            "align_items": null,
            "align_self": null,
            "border": null,
            "bottom": null,
            "display": null,
            "flex": null,
            "flex_flow": null,
            "grid_area": null,
            "grid_auto_columns": null,
            "grid_auto_flow": null,
            "grid_auto_rows": null,
            "grid_column": null,
            "grid_gap": null,
            "grid_row": null,
            "grid_template_areas": null,
            "grid_template_columns": null,
            "grid_template_rows": null,
            "height": null,
            "justify_content": null,
            "justify_items": null,
            "left": null,
            "margin": null,
            "max_height": null,
            "max_width": null,
            "min_height": null,
            "min_width": null,
            "object_fit": null,
            "object_position": null,
            "order": null,
            "overflow": null,
            "overflow_x": null,
            "overflow_y": null,
            "padding": null,
            "right": null,
            "top": null,
            "visibility": null,
            "width": null
          }
        },
        "3dd7bc90a46741279828c0560b0225de": {
          "model_module": "@jupyter-widgets/controls",
          "model_name": "DescriptionStyleModel",
          "model_module_version": "1.5.0",
          "state": {
            "_model_module": "@jupyter-widgets/controls",
            "_model_module_version": "1.5.0",
            "_model_name": "DescriptionStyleModel",
            "_view_count": null,
            "_view_module": "@jupyter-widgets/base",
            "_view_module_version": "1.2.0",
            "_view_name": "StyleView",
            "description_width": ""
          }
        },
        "260d0514b5794141b0b203cb437c3ba6": {
          "model_module": "@jupyter-widgets/controls",
          "model_name": "HBoxModel",
          "model_module_version": "1.5.0",
          "state": {
            "_dom_classes": [],
            "_model_module": "@jupyter-widgets/controls",
            "_model_module_version": "1.5.0",
            "_model_name": "HBoxModel",
            "_view_count": null,
            "_view_module": "@jupyter-widgets/controls",
            "_view_module_version": "1.5.0",
            "_view_name": "HBoxView",
            "box_style": "",
            "children": [
              "IPY_MODEL_f2bde836345f4748ab026e1fe359c18f",
              "IPY_MODEL_ccb4d510937f47ea9b65f1428464239d",
              "IPY_MODEL_4c3b306de9f8429293b4070caaec2215"
            ],
            "layout": "IPY_MODEL_f5a7f7bb123a4e56a960e5fff6a2e744"
          }
        },
        "f2bde836345f4748ab026e1fe359c18f": {
          "model_module": "@jupyter-widgets/controls",
          "model_name": "HTMLModel",
          "model_module_version": "1.5.0",
          "state": {
            "_dom_classes": [],
            "_model_module": "@jupyter-widgets/controls",
            "_model_module_version": "1.5.0",
            "_model_name": "HTMLModel",
            "_view_count": null,
            "_view_module": "@jupyter-widgets/controls",
            "_view_module_version": "1.5.0",
            "_view_name": "HTMLView",
            "description": "",
            "description_tooltip": null,
            "layout": "IPY_MODEL_4541c18d10fe46b49b65bf0504fdfa15",
            "placeholder": "​",
            "style": "IPY_MODEL_7a08abe802604e38a0eeb5e73075840a",
            "value": "Map: 100%"
          }
        },
        "ccb4d510937f47ea9b65f1428464239d": {
          "model_module": "@jupyter-widgets/controls",
          "model_name": "FloatProgressModel",
          "model_module_version": "1.5.0",
          "state": {
            "_dom_classes": [],
            "_model_module": "@jupyter-widgets/controls",
            "_model_module_version": "1.5.0",
            "_model_name": "FloatProgressModel",
            "_view_count": null,
            "_view_module": "@jupyter-widgets/controls",
            "_view_module_version": "1.5.0",
            "_view_name": "ProgressView",
            "bar_style": "",
            "description": "",
            "description_tooltip": null,
            "layout": "IPY_MODEL_252580cae3c94ae4bf0579446563adac",
            "max": 280,
            "min": 0,
            "orientation": "horizontal",
            "style": "IPY_MODEL_d63d06d76c374452a68be88ee8a6aab5",
            "value": 280
          }
        },
        "4c3b306de9f8429293b4070caaec2215": {
          "model_module": "@jupyter-widgets/controls",
          "model_name": "HTMLModel",
          "model_module_version": "1.5.0",
          "state": {
            "_dom_classes": [],
            "_model_module": "@jupyter-widgets/controls",
            "_model_module_version": "1.5.0",
            "_model_name": "HTMLModel",
            "_view_count": null,
            "_view_module": "@jupyter-widgets/controls",
            "_view_module_version": "1.5.0",
            "_view_name": "HTMLView",
            "description": "",
            "description_tooltip": null,
            "layout": "IPY_MODEL_f82a2319474d43c88df6765af0ff24f7",
            "placeholder": "​",
            "style": "IPY_MODEL_f9f24ad7ee7848748609d4fab95e724c",
            "value": " 280/280 [00:04&lt;00:00, 60.18 examples/s]"
          }
        },
        "f5a7f7bb123a4e56a960e5fff6a2e744": {
          "model_module": "@jupyter-widgets/base",
          "model_name": "LayoutModel",
          "model_module_version": "1.2.0",
          "state": {
            "_model_module": "@jupyter-widgets/base",
            "_model_module_version": "1.2.0",
            "_model_name": "LayoutModel",
            "_view_count": null,
            "_view_module": "@jupyter-widgets/base",
            "_view_module_version": "1.2.0",
            "_view_name": "LayoutView",
            "align_content": null,
            "align_items": null,
            "align_self": null,
            "border": null,
            "bottom": null,
            "display": null,
            "flex": null,
            "flex_flow": null,
            "grid_area": null,
            "grid_auto_columns": null,
            "grid_auto_flow": null,
            "grid_auto_rows": null,
            "grid_column": null,
            "grid_gap": null,
            "grid_row": null,
            "grid_template_areas": null,
            "grid_template_columns": null,
            "grid_template_rows": null,
            "height": null,
            "justify_content": null,
            "justify_items": null,
            "left": null,
            "margin": null,
            "max_height": null,
            "max_width": null,
            "min_height": null,
            "min_width": null,
            "object_fit": null,
            "object_position": null,
            "order": null,
            "overflow": null,
            "overflow_x": null,
            "overflow_y": null,
            "padding": null,
            "right": null,
            "top": null,
            "visibility": "hidden",
            "width": null
          }
        },
        "4541c18d10fe46b49b65bf0504fdfa15": {
          "model_module": "@jupyter-widgets/base",
          "model_name": "LayoutModel",
          "model_module_version": "1.2.0",
          "state": {
            "_model_module": "@jupyter-widgets/base",
            "_model_module_version": "1.2.0",
            "_model_name": "LayoutModel",
            "_view_count": null,
            "_view_module": "@jupyter-widgets/base",
            "_view_module_version": "1.2.0",
            "_view_name": "LayoutView",
            "align_content": null,
            "align_items": null,
            "align_self": null,
            "border": null,
            "bottom": null,
            "display": null,
            "flex": null,
            "flex_flow": null,
            "grid_area": null,
            "grid_auto_columns": null,
            "grid_auto_flow": null,
            "grid_auto_rows": null,
            "grid_column": null,
            "grid_gap": null,
            "grid_row": null,
            "grid_template_areas": null,
            "grid_template_columns": null,
            "grid_template_rows": null,
            "height": null,
            "justify_content": null,
            "justify_items": null,
            "left": null,
            "margin": null,
            "max_height": null,
            "max_width": null,
            "min_height": null,
            "min_width": null,
            "object_fit": null,
            "object_position": null,
            "order": null,
            "overflow": null,
            "overflow_x": null,
            "overflow_y": null,
            "padding": null,
            "right": null,
            "top": null,
            "visibility": null,
            "width": null
          }
        },
        "7a08abe802604e38a0eeb5e73075840a": {
          "model_module": "@jupyter-widgets/controls",
          "model_name": "DescriptionStyleModel",
          "model_module_version": "1.5.0",
          "state": {
            "_model_module": "@jupyter-widgets/controls",
            "_model_module_version": "1.5.0",
            "_model_name": "DescriptionStyleModel",
            "_view_count": null,
            "_view_module": "@jupyter-widgets/base",
            "_view_module_version": "1.2.0",
            "_view_name": "StyleView",
            "description_width": ""
          }
        },
        "252580cae3c94ae4bf0579446563adac": {
          "model_module": "@jupyter-widgets/base",
          "model_name": "LayoutModel",
          "model_module_version": "1.2.0",
          "state": {
            "_model_module": "@jupyter-widgets/base",
            "_model_module_version": "1.2.0",
            "_model_name": "LayoutModel",
            "_view_count": null,
            "_view_module": "@jupyter-widgets/base",
            "_view_module_version": "1.2.0",
            "_view_name": "LayoutView",
            "align_content": null,
            "align_items": null,
            "align_self": null,
            "border": null,
            "bottom": null,
            "display": null,
            "flex": null,
            "flex_flow": null,
            "grid_area": null,
            "grid_auto_columns": null,
            "grid_auto_flow": null,
            "grid_auto_rows": null,
            "grid_column": null,
            "grid_gap": null,
            "grid_row": null,
            "grid_template_areas": null,
            "grid_template_columns": null,
            "grid_template_rows": null,
            "height": null,
            "justify_content": null,
            "justify_items": null,
            "left": null,
            "margin": null,
            "max_height": null,
            "max_width": null,
            "min_height": null,
            "min_width": null,
            "object_fit": null,
            "object_position": null,
            "order": null,
            "overflow": null,
            "overflow_x": null,
            "overflow_y": null,
            "padding": null,
            "right": null,
            "top": null,
            "visibility": null,
            "width": null
          }
        },
        "d63d06d76c374452a68be88ee8a6aab5": {
          "model_module": "@jupyter-widgets/controls",
          "model_name": "ProgressStyleModel",
          "model_module_version": "1.5.0",
          "state": {
            "_model_module": "@jupyter-widgets/controls",
            "_model_module_version": "1.5.0",
            "_model_name": "ProgressStyleModel",
            "_view_count": null,
            "_view_module": "@jupyter-widgets/base",
            "_view_module_version": "1.2.0",
            "_view_name": "StyleView",
            "bar_color": null,
            "description_width": ""
          }
        },
        "f82a2319474d43c88df6765af0ff24f7": {
          "model_module": "@jupyter-widgets/base",
          "model_name": "LayoutModel",
          "model_module_version": "1.2.0",
          "state": {
            "_model_module": "@jupyter-widgets/base",
            "_model_module_version": "1.2.0",
            "_model_name": "LayoutModel",
            "_view_count": null,
            "_view_module": "@jupyter-widgets/base",
            "_view_module_version": "1.2.0",
            "_view_name": "LayoutView",
            "align_content": null,
            "align_items": null,
            "align_self": null,
            "border": null,
            "bottom": null,
            "display": null,
            "flex": null,
            "flex_flow": null,
            "grid_area": null,
            "grid_auto_columns": null,
            "grid_auto_flow": null,
            "grid_auto_rows": null,
            "grid_column": null,
            "grid_gap": null,
            "grid_row": null,
            "grid_template_areas": null,
            "grid_template_columns": null,
            "grid_template_rows": null,
            "height": null,
            "justify_content": null,
            "justify_items": null,
            "left": null,
            "margin": null,
            "max_height": null,
            "max_width": null,
            "min_height": null,
            "min_width": null,
            "object_fit": null,
            "object_position": null,
            "order": null,
            "overflow": null,
            "overflow_x": null,
            "overflow_y": null,
            "padding": null,
            "right": null,
            "top": null,
            "visibility": null,
            "width": null
          }
        },
        "f9f24ad7ee7848748609d4fab95e724c": {
          "model_module": "@jupyter-widgets/controls",
          "model_name": "DescriptionStyleModel",
          "model_module_version": "1.5.0",
          "state": {
            "_model_module": "@jupyter-widgets/controls",
            "_model_module_version": "1.5.0",
            "_model_name": "DescriptionStyleModel",
            "_view_count": null,
            "_view_module": "@jupyter-widgets/base",
            "_view_module_version": "1.2.0",
            "_view_name": "StyleView",
            "description_width": ""
          }
        },
        "5c07bba852364351ad0177413b3be03b": {
          "model_module": "@jupyter-widgets/controls",
          "model_name": "HBoxModel",
          "model_module_version": "1.5.0",
          "state": {
            "_dom_classes": [],
            "_model_module": "@jupyter-widgets/controls",
            "_model_module_version": "1.5.0",
            "_model_name": "HBoxModel",
            "_view_count": null,
            "_view_module": "@jupyter-widgets/controls",
            "_view_module_version": "1.5.0",
            "_view_name": "HBoxView",
            "box_style": "",
            "children": [
              "IPY_MODEL_04efdddcb9714b6aac1888d54bf14ef7",
              "IPY_MODEL_0c6e7ba34ca34e33b7dba0650efe630e",
              "IPY_MODEL_2a99fe3790904f4d8bac15c1acc03335"
            ],
            "layout": "IPY_MODEL_67783de9eb3e4bea8ddd745cfb59e27f"
          }
        },
        "04efdddcb9714b6aac1888d54bf14ef7": {
          "model_module": "@jupyter-widgets/controls",
          "model_name": "HTMLModel",
          "model_module_version": "1.5.0",
          "state": {
            "_dom_classes": [],
            "_model_module": "@jupyter-widgets/controls",
            "_model_module_version": "1.5.0",
            "_model_name": "HTMLModel",
            "_view_count": null,
            "_view_module": "@jupyter-widgets/controls",
            "_view_module_version": "1.5.0",
            "_view_name": "HTMLView",
            "description": "",
            "description_tooltip": null,
            "layout": "IPY_MODEL_e5d28f86be8c473990b77ea1fd681165",
            "placeholder": "​",
            "style": "IPY_MODEL_22d05047008744d799307ac94f0ead0d",
            "value": "Map: 100%"
          }
        },
        "0c6e7ba34ca34e33b7dba0650efe630e": {
          "model_module": "@jupyter-widgets/controls",
          "model_name": "FloatProgressModel",
          "model_module_version": "1.5.0",
          "state": {
            "_dom_classes": [],
            "_model_module": "@jupyter-widgets/controls",
            "_model_module_version": "1.5.0",
            "_model_name": "FloatProgressModel",
            "_view_count": null,
            "_view_module": "@jupyter-widgets/controls",
            "_view_module_version": "1.5.0",
            "_view_name": "ProgressView",
            "bar_style": "",
            "description": "",
            "description_tooltip": null,
            "layout": "IPY_MODEL_6031b7f4e05443058fdfd3a8455217e2",
            "max": 70,
            "min": 0,
            "orientation": "horizontal",
            "style": "IPY_MODEL_35b98d7ddeb54a9eb31166ae73d2589a",
            "value": 70
          }
        },
        "2a99fe3790904f4d8bac15c1acc03335": {
          "model_module": "@jupyter-widgets/controls",
          "model_name": "HTMLModel",
          "model_module_version": "1.5.0",
          "state": {
            "_dom_classes": [],
            "_model_module": "@jupyter-widgets/controls",
            "_model_module_version": "1.5.0",
            "_model_name": "HTMLModel",
            "_view_count": null,
            "_view_module": "@jupyter-widgets/controls",
            "_view_module_version": "1.5.0",
            "_view_name": "HTMLView",
            "description": "",
            "description_tooltip": null,
            "layout": "IPY_MODEL_a42905f8431f4d0e97306b6725104cef",
            "placeholder": "​",
            "style": "IPY_MODEL_cdcaed1468ea424aa1a8441341d1eead",
            "value": " 70/70 [00:02&lt;00:00, 32.64 examples/s]"
          }
        },
        "67783de9eb3e4bea8ddd745cfb59e27f": {
          "model_module": "@jupyter-widgets/base",
          "model_name": "LayoutModel",
          "model_module_version": "1.2.0",
          "state": {
            "_model_module": "@jupyter-widgets/base",
            "_model_module_version": "1.2.0",
            "_model_name": "LayoutModel",
            "_view_count": null,
            "_view_module": "@jupyter-widgets/base",
            "_view_module_version": "1.2.0",
            "_view_name": "LayoutView",
            "align_content": null,
            "align_items": null,
            "align_self": null,
            "border": null,
            "bottom": null,
            "display": null,
            "flex": null,
            "flex_flow": null,
            "grid_area": null,
            "grid_auto_columns": null,
            "grid_auto_flow": null,
            "grid_auto_rows": null,
            "grid_column": null,
            "grid_gap": null,
            "grid_row": null,
            "grid_template_areas": null,
            "grid_template_columns": null,
            "grid_template_rows": null,
            "height": null,
            "justify_content": null,
            "justify_items": null,
            "left": null,
            "margin": null,
            "max_height": null,
            "max_width": null,
            "min_height": null,
            "min_width": null,
            "object_fit": null,
            "object_position": null,
            "order": null,
            "overflow": null,
            "overflow_x": null,
            "overflow_y": null,
            "padding": null,
            "right": null,
            "top": null,
            "visibility": "hidden",
            "width": null
          }
        },
        "e5d28f86be8c473990b77ea1fd681165": {
          "model_module": "@jupyter-widgets/base",
          "model_name": "LayoutModel",
          "model_module_version": "1.2.0",
          "state": {
            "_model_module": "@jupyter-widgets/base",
            "_model_module_version": "1.2.0",
            "_model_name": "LayoutModel",
            "_view_count": null,
            "_view_module": "@jupyter-widgets/base",
            "_view_module_version": "1.2.0",
            "_view_name": "LayoutView",
            "align_content": null,
            "align_items": null,
            "align_self": null,
            "border": null,
            "bottom": null,
            "display": null,
            "flex": null,
            "flex_flow": null,
            "grid_area": null,
            "grid_auto_columns": null,
            "grid_auto_flow": null,
            "grid_auto_rows": null,
            "grid_column": null,
            "grid_gap": null,
            "grid_row": null,
            "grid_template_areas": null,
            "grid_template_columns": null,
            "grid_template_rows": null,
            "height": null,
            "justify_content": null,
            "justify_items": null,
            "left": null,
            "margin": null,
            "max_height": null,
            "max_width": null,
            "min_height": null,
            "min_width": null,
            "object_fit": null,
            "object_position": null,
            "order": null,
            "overflow": null,
            "overflow_x": null,
            "overflow_y": null,
            "padding": null,
            "right": null,
            "top": null,
            "visibility": null,
            "width": null
          }
        },
        "22d05047008744d799307ac94f0ead0d": {
          "model_module": "@jupyter-widgets/controls",
          "model_name": "DescriptionStyleModel",
          "model_module_version": "1.5.0",
          "state": {
            "_model_module": "@jupyter-widgets/controls",
            "_model_module_version": "1.5.0",
            "_model_name": "DescriptionStyleModel",
            "_view_count": null,
            "_view_module": "@jupyter-widgets/base",
            "_view_module_version": "1.2.0",
            "_view_name": "StyleView",
            "description_width": ""
          }
        },
        "6031b7f4e05443058fdfd3a8455217e2": {
          "model_module": "@jupyter-widgets/base",
          "model_name": "LayoutModel",
          "model_module_version": "1.2.0",
          "state": {
            "_model_module": "@jupyter-widgets/base",
            "_model_module_version": "1.2.0",
            "_model_name": "LayoutModel",
            "_view_count": null,
            "_view_module": "@jupyter-widgets/base",
            "_view_module_version": "1.2.0",
            "_view_name": "LayoutView",
            "align_content": null,
            "align_items": null,
            "align_self": null,
            "border": null,
            "bottom": null,
            "display": null,
            "flex": null,
            "flex_flow": null,
            "grid_area": null,
            "grid_auto_columns": null,
            "grid_auto_flow": null,
            "grid_auto_rows": null,
            "grid_column": null,
            "grid_gap": null,
            "grid_row": null,
            "grid_template_areas": null,
            "grid_template_columns": null,
            "grid_template_rows": null,
            "height": null,
            "justify_content": null,
            "justify_items": null,
            "left": null,
            "margin": null,
            "max_height": null,
            "max_width": null,
            "min_height": null,
            "min_width": null,
            "object_fit": null,
            "object_position": null,
            "order": null,
            "overflow": null,
            "overflow_x": null,
            "overflow_y": null,
            "padding": null,
            "right": null,
            "top": null,
            "visibility": null,
            "width": null
          }
        },
        "35b98d7ddeb54a9eb31166ae73d2589a": {
          "model_module": "@jupyter-widgets/controls",
          "model_name": "ProgressStyleModel",
          "model_module_version": "1.5.0",
          "state": {
            "_model_module": "@jupyter-widgets/controls",
            "_model_module_version": "1.5.0",
            "_model_name": "ProgressStyleModel",
            "_view_count": null,
            "_view_module": "@jupyter-widgets/base",
            "_view_module_version": "1.2.0",
            "_view_name": "StyleView",
            "bar_color": null,
            "description_width": ""
          }
        },
        "a42905f8431f4d0e97306b6725104cef": {
          "model_module": "@jupyter-widgets/base",
          "model_name": "LayoutModel",
          "model_module_version": "1.2.0",
          "state": {
            "_model_module": "@jupyter-widgets/base",
            "_model_module_version": "1.2.0",
            "_model_name": "LayoutModel",
            "_view_count": null,
            "_view_module": "@jupyter-widgets/base",
            "_view_module_version": "1.2.0",
            "_view_name": "LayoutView",
            "align_content": null,
            "align_items": null,
            "align_self": null,
            "border": null,
            "bottom": null,
            "display": null,
            "flex": null,
            "flex_flow": null,
            "grid_area": null,
            "grid_auto_columns": null,
            "grid_auto_flow": null,
            "grid_auto_rows": null,
            "grid_column": null,
            "grid_gap": null,
            "grid_row": null,
            "grid_template_areas": null,
            "grid_template_columns": null,
            "grid_template_rows": null,
            "height": null,
            "justify_content": null,
            "justify_items": null,
            "left": null,
            "margin": null,
            "max_height": null,
            "max_width": null,
            "min_height": null,
            "min_width": null,
            "object_fit": null,
            "object_position": null,
            "order": null,
            "overflow": null,
            "overflow_x": null,
            "overflow_y": null,
            "padding": null,
            "right": null,
            "top": null,
            "visibility": null,
            "width": null
          }
        },
        "cdcaed1468ea424aa1a8441341d1eead": {
          "model_module": "@jupyter-widgets/controls",
          "model_name": "DescriptionStyleModel",
          "model_module_version": "1.5.0",
          "state": {
            "_model_module": "@jupyter-widgets/controls",
            "_model_module_version": "1.5.0",
            "_model_name": "DescriptionStyleModel",
            "_view_count": null,
            "_view_module": "@jupyter-widgets/base",
            "_view_module_version": "1.2.0",
            "_view_name": "StyleView",
            "description_width": ""
          }
        }
      }
    }
  },
  "cells": [
    {
      "cell_type": "markdown",
      "metadata": {
        "id": "view-in-github",
        "colab_type": "text"
      },
      "source": [
        "<a href=\"https://colab.research.google.com/github/GarettGazay/ai_projects/blob/master/RouteBuilder_TFR.ipynb\" target=\"_parent\"><img src=\"https://colab.research.google.com/assets/colab-badge.svg\" alt=\"Open In Colab\"/></a>"
      ]
    },
    {
      "cell_type": "code",
      "execution_count": 284,
      "metadata": {
        "colab": {
          "base_uri": "https://localhost:8080/"
        },
        "id": "eV6tq74_w0KC",
        "outputId": "54dbb92d-655d-499a-8a9b-9b37ff2b3afd"
      },
      "outputs": [
        {
          "output_type": "stream",
          "name": "stdout",
          "text": [
            "Looking in indexes: https://pypi.org/simple, https://us-python.pkg.dev/colab-wheels/public/simple/\n",
            "Requirement already satisfied: transformers in /usr/local/lib/python3.9/dist-packages (4.26.1)\n",
            "Requirement already satisfied: requests in /usr/local/lib/python3.9/dist-packages (from transformers) (2.25.1)\n",
            "Requirement already satisfied: huggingface-hub<1.0,>=0.11.0 in /usr/local/lib/python3.9/dist-packages (from transformers) (0.13.2)\n",
            "Requirement already satisfied: filelock in /usr/local/lib/python3.9/dist-packages (from transformers) (3.9.0)\n",
            "Requirement already satisfied: packaging>=20.0 in /usr/local/lib/python3.9/dist-packages (from transformers) (23.0)\n",
            "Requirement already satisfied: numpy>=1.17 in /usr/local/lib/python3.9/dist-packages (from transformers) (1.22.4)\n",
            "Requirement already satisfied: tqdm>=4.27 in /usr/local/lib/python3.9/dist-packages (from transformers) (4.65.0)\n",
            "Requirement already satisfied: regex!=2019.12.17 in /usr/local/lib/python3.9/dist-packages (from transformers) (2022.6.2)\n",
            "Requirement already satisfied: tokenizers!=0.11.3,<0.14,>=0.11.1 in /usr/local/lib/python3.9/dist-packages (from transformers) (0.13.2)\n",
            "Requirement already satisfied: pyyaml>=5.1 in /usr/local/lib/python3.9/dist-packages (from transformers) (6.0)\n",
            "Requirement already satisfied: typing-extensions>=3.7.4.3 in /usr/local/lib/python3.9/dist-packages (from huggingface-hub<1.0,>=0.11.0->transformers) (4.5.0)\n",
            "Requirement already satisfied: certifi>=2017.4.17 in /usr/local/lib/python3.9/dist-packages (from requests->transformers) (2022.12.7)\n",
            "Requirement already satisfied: urllib3<1.27,>=1.21.1 in /usr/local/lib/python3.9/dist-packages (from requests->transformers) (1.26.14)\n",
            "Requirement already satisfied: chardet<5,>=3.0.2 in /usr/local/lib/python3.9/dist-packages (from requests->transformers) (4.0.0)\n",
            "Requirement already satisfied: idna<3,>=2.5 in /usr/local/lib/python3.9/dist-packages (from requests->transformers) (2.10)\n",
            "Looking in indexes: https://pypi.org/simple, https://us-python.pkg.dev/colab-wheels/public/simple/\n",
            "Requirement already satisfied: sentencepiece in /usr/local/lib/python3.9/dist-packages (0.1.97)\n",
            "Looking in indexes: https://pypi.org/simple, https://us-python.pkg.dev/colab-wheels/public/simple/\n",
            "Requirement already satisfied: datasets in /usr/local/lib/python3.9/dist-packages (2.10.1)\n",
            "Requirement already satisfied: fsspec[http]>=2021.11.1 in /usr/local/lib/python3.9/dist-packages (from datasets) (2023.3.0)\n",
            "Requirement already satisfied: numpy>=1.17 in /usr/local/lib/python3.9/dist-packages (from datasets) (1.22.4)\n",
            "Requirement already satisfied: pandas in /usr/local/lib/python3.9/dist-packages (from datasets) (1.4.4)\n",
            "Requirement already satisfied: pyarrow>=6.0.0 in /usr/local/lib/python3.9/dist-packages (from datasets) (9.0.0)\n",
            "Requirement already satisfied: aiohttp in /usr/local/lib/python3.9/dist-packages (from datasets) (3.8.4)\n",
            "Requirement already satisfied: tqdm>=4.62.1 in /usr/local/lib/python3.9/dist-packages (from datasets) (4.65.0)\n",
            "Requirement already satisfied: multiprocess in /usr/local/lib/python3.9/dist-packages (from datasets) (0.70.14)\n",
            "Requirement already satisfied: xxhash in /usr/local/lib/python3.9/dist-packages (from datasets) (3.2.0)\n",
            "Requirement already satisfied: huggingface-hub<1.0.0,>=0.2.0 in /usr/local/lib/python3.9/dist-packages (from datasets) (0.13.2)\n",
            "Requirement already satisfied: packaging in /usr/local/lib/python3.9/dist-packages (from datasets) (23.0)\n",
            "Requirement already satisfied: pyyaml>=5.1 in /usr/local/lib/python3.9/dist-packages (from datasets) (6.0)\n",
            "Requirement already satisfied: responses<0.19 in /usr/local/lib/python3.9/dist-packages (from datasets) (0.18.0)\n",
            "Requirement already satisfied: dill<0.3.7,>=0.3.0 in /usr/local/lib/python3.9/dist-packages (from datasets) (0.3.6)\n",
            "Requirement already satisfied: requests>=2.19.0 in /usr/local/lib/python3.9/dist-packages (from datasets) (2.25.1)\n",
            "Requirement already satisfied: frozenlist>=1.1.1 in /usr/local/lib/python3.9/dist-packages (from aiohttp->datasets) (1.3.3)\n",
            "Requirement already satisfied: multidict<7.0,>=4.5 in /usr/local/lib/python3.9/dist-packages (from aiohttp->datasets) (6.0.4)\n",
            "Requirement already satisfied: attrs>=17.3.0 in /usr/local/lib/python3.9/dist-packages (from aiohttp->datasets) (22.2.0)\n",
            "Requirement already satisfied: charset-normalizer<4.0,>=2.0 in /usr/local/lib/python3.9/dist-packages (from aiohttp->datasets) (3.1.0)\n",
            "Requirement already satisfied: yarl<2.0,>=1.0 in /usr/local/lib/python3.9/dist-packages (from aiohttp->datasets) (1.8.2)\n",
            "Requirement already satisfied: aiosignal>=1.1.2 in /usr/local/lib/python3.9/dist-packages (from aiohttp->datasets) (1.3.1)\n",
            "Requirement already satisfied: async-timeout<5.0,>=4.0.0a3 in /usr/local/lib/python3.9/dist-packages (from aiohttp->datasets) (4.0.2)\n",
            "Requirement already satisfied: typing-extensions>=3.7.4.3 in /usr/local/lib/python3.9/dist-packages (from huggingface-hub<1.0.0,>=0.2.0->datasets) (4.5.0)\n",
            "Requirement already satisfied: filelock in /usr/local/lib/python3.9/dist-packages (from huggingface-hub<1.0.0,>=0.2.0->datasets) (3.9.0)\n",
            "Requirement already satisfied: urllib3<1.27,>=1.21.1 in /usr/local/lib/python3.9/dist-packages (from requests>=2.19.0->datasets) (1.26.14)\n",
            "Requirement already satisfied: chardet<5,>=3.0.2 in /usr/local/lib/python3.9/dist-packages (from requests>=2.19.0->datasets) (4.0.0)\n",
            "Requirement already satisfied: certifi>=2017.4.17 in /usr/local/lib/python3.9/dist-packages (from requests>=2.19.0->datasets) (2022.12.7)\n",
            "Requirement already satisfied: idna<3,>=2.5 in /usr/local/lib/python3.9/dist-packages (from requests>=2.19.0->datasets) (2.10)\n",
            "Requirement already satisfied: pytz>=2020.1 in /usr/local/lib/python3.9/dist-packages (from pandas->datasets) (2022.7.1)\n",
            "Requirement already satisfied: python-dateutil>=2.8.1 in /usr/local/lib/python3.9/dist-packages (from pandas->datasets) (2.8.2)\n",
            "Requirement already satisfied: six>=1.5 in /usr/local/lib/python3.9/dist-packages (from python-dateutil>=2.8.1->pandas->datasets) (1.15.0)\n"
          ]
        }
      ],
      "source": [
        "!pip install transformers \n",
        "!pip install sentencepiece\n",
        "!pip install datasets"
      ]
    },
    {
      "cell_type": "code",
      "source": [
        "import pandas as pd"
      ],
      "metadata": {
        "id": "_AwQu7VDxNn3"
      },
      "execution_count": 293,
      "outputs": []
    },
    {
      "cell_type": "code",
      "source": [
        "df = pd.read_csv('ordering_dataset.csv')\n",
        "df = df.fillna(0)"
      ],
      "metadata": {
        "id": "0jewsTO0xt9O"
      },
      "execution_count": 294,
      "outputs": []
    },
    {
      "cell_type": "code",
      "source": [
        "import pandas as pd\n",
        "import random\n",
        "import numpy as np\n",
        "\n",
        "def create_shuffled_target_lists(df):\n",
        "    # Group rows by pickup date\n",
        "    df['pickup_timestamp'] = pd.to_datetime(df['pickup_timestamp'])\n",
        "    groups = df.groupby(df['pickup_timestamp'].dt.date)\n",
        "\n",
        "    shuffled_rides = []\n",
        "    target_order = []\n",
        "\n",
        "    for name, group in groups:\n",
        "        rides = group.iloc[1:, 1:].to_numpy()\n",
        "        np.random.shuffle(rides)\n",
        "        shuffled_rides.append(rides.tolist())\n",
        "        target_order.append(group.iloc[1:, 1:].to_numpy().tolist()) # EXCLUDES HEADERS, AND FIRST FEATURE WHICH IS PICKUP TIMESTAMP - DONT WANT THAT.\n",
        "\n",
        "    return shuffled_rides, target_order\n",
        "\n",
        "x= create_shuffled_target_lists(df)\n",
        "shuffled_rides = x[0]\n",
        "target_order = x[1]"
      ],
      "metadata": {
        "id": "UBnwr78DlusH"
      },
      "execution_count": 295,
      "outputs": []
    },
    {
      "cell_type": "code",
      "source": [
        "def create_dataset(shuffled_rides, target_order):\n",
        "  dataset=[]\n",
        "  count = 0\n",
        "  \n",
        "  for sr,to in zip(shuffled_rides, target_order):\n",
        "    str_inputs = []\n",
        "    str_targets = []\n",
        "\n",
        "    for i in sr:\n",
        "        i_pickup_hour, i_pickup_minute, i_weekday, i_space_type, i_asset_id, i_trip_cost, i_first_name, i_last_name, i_rider_id, i_pickup_address1, i_pickup_zip, i_dropoff_address1, i_dropoff_zip, i_pickup_longitude, i_pickup_latitude, i_dropoff_longitude, i_dropoff_latitude, i_billable_distance = str(i[0]), str(i[1]), str(i[2]), str(i[3]), str(i[4]), str(i[5]), str(i[6]), str(i[7]), str(i[8]), str(i[9]), str(i[10]), str(i[11]), str(i[12]), str(i[13]), str(i[14]), str(i[15]), str(i[16]), str(i[17])\n",
        "        str_inputs.append(i_pickup_hour + \"|\" + i_pickup_minute + \"|\" + i_weekday + \"|\" + i_space_type + \"|\" + i_trip_cost + \"|\" + i_first_name + \"|\" + i_last_name + \"|\" + i_rider_id + \"|\" + i_pickup_address1 + \"|\" + i_pickup_zip + \"|\" + i_dropoff_address1 + \"|\" + i_dropoff_zip + \"|\" + i_pickup_longitude + \"|\" + i_pickup_latitude + \"|\" + i_dropoff_longitude + \"|\" + i_dropoff_latitude + \"|\" + i_billable_distance)\n",
        "    \n",
        "    for j in to:\n",
        "        j_pickup_hour, j_pickup_minute, j_weekday, j_space_type, j_asset_id, j_trip_cost, j_first_name, j_last_name, j_rider_id, j_pickup_address1, j_pickup_zip, j_dropoff_address1, j_dropoff_zip, j_pickup_longitude, j_pickup_latitude, j_dropoff_longitude, j_dropoff_latitude, j_billable_distance = str(j[0]), str(j[1]), str(j[2]), str(j[3]), str(j[4]), str(j[5]), str(j[6]), str(j[7]), str(j[8]), str(j[9]), str(j[10]), str(j[11]), str(j[12]), str(j[13]), str(j[14]), str(j[15]), str(j[16]), str(j[17])\n",
        "        str_targets.append(j_pickup_hour + \"|\" + j_pickup_minute + \"|\" + j_weekday + \"|\" + j_space_type + \"|\" + j_asset_id + \"|\" + j_trip_cost + \"|\" + j_first_name + \"|\" + j_last_name + \"|\" + j_rider_id + \"|\" + j_pickup_address1 + \"|\" + j_pickup_zip + \"|\" + j_dropoff_address1 + \"|\" + j_dropoff_zip + \"|\" + j_pickup_longitude + \"|\" + j_pickup_latitude + \"|\" + j_dropoff_longitude + \"|\" + j_dropoff_latitude + \"|\" + j_billable_distance)\n",
        "    \n",
        "    dataset.append({\n",
        "        'id' : count,\n",
        "        'input' : str_inputs,\n",
        "        'target' : str_targets\n",
        "    })\n",
        "    count += 1\n",
        "\n",
        "  return dataset\n",
        "\n",
        "rides_dataset = create_dataset(shuffled_rides, target_order)"
      ],
      "metadata": {
        "id": "RrJgs0SF5g6I"
      },
      "execution_count": 296,
      "outputs": []
    },
    {
      "cell_type": "code",
      "source": [
        "for i in rides_dataset[1]['input'][:3]:\n",
        "  print(i + \"\\n\")"
      ],
      "metadata": {
        "colab": {
          "base_uri": "https://localhost:8080/"
        },
        "id": "pwzORr5m6VvI",
        "outputId": "0f46f48b-205d-425c-b380-cdfe6b909ddc"
      },
      "execution_count": 297,
      "outputs": [
        {
          "output_type": "stream",
          "name": "stdout",
          "text": [
            "12|15|Saturday|WCH|56.375|FIDELA|GUEVARA|388479|260*N*BAYVIEW*AVE|94086|155*N*WOLFE*RD|94086|-122.02383422851562|37.38190460205078|-122.014045715332|37.3766212463379|1.051981\n",
            "\n",
            "9|45|Saturday|WCH|29.9|JESUS|TORRES*SIERRA|388496|1620*E*CAPITOL*EXPY|95121|1103*AUDUBON*DR|95122|-121.81209564208984|37.30604934692383|-121.84912109375|37.32672882080078|4.43659\n",
            "\n",
            "13|30|Saturday|WCH|0.0|FESSAHAIE|KELETA|388482|1040*HAMILTON*COURT|94025|649*UNIVERSITY*AVE|94301|-122.14830780029295|37.47801208496094|-122.15782165527344|37.45035552978516|3.512611\n",
            "\n"
          ]
        }
      ]
    },
    {
      "cell_type": "code",
      "source": [
        "for i in rides_dataset[1]['target'][:3]:\n",
        "  print(i + \"\\n\")"
      ],
      "metadata": {
        "colab": {
          "base_uri": "https://localhost:8080/"
        },
        "id": "8SovtlaESsRK",
        "outputId": "02acbdb6-2a70-4306-9c67-543893d609e5"
      },
      "execution_count": 298,
      "outputs": [
        {
          "output_type": "stream",
          "name": "stdout",
          "text": [
            "5|0|Saturday|WCH|SC105|0.0|MARIA|GARCIA|388691|371*ELAN*VILLAGE*LN|95134|888*S*BASCOM*AVE|95128|-121.92430877685548|37.39934158325195|-121.93148040771484|37.31127166748047|10.029552\n",
            "\n",
            "5|0|Saturday|WCH|SC301|100.85|TRIA|XIONG|411690|3553*BROOKDALE*DR|95051|4360*STEVENS*CREEK*BLVD|95119|-121.99421691894533|37.34215927124024|-121.97903442382812|37.32246398925781|2.596089\n",
            "\n",
            "5|15|Saturday|BWC|SC302|154.4|AING|MOEUNG|388852|879*PADOVA*DR|95020|1620*E*CAPITOL*EXPY|95121|-121.59493255615234|37.02376937866211|-121.81209564208984|37.30604934692383|26.139221\n",
            "\n"
          ]
        }
      ]
    },
    {
      "cell_type": "code",
      "source": [
        "type(rides_dataset)"
      ],
      "metadata": {
        "colab": {
          "base_uri": "https://localhost:8080/"
        },
        "id": "JhnPymT47RL0",
        "outputId": "ff5f2bfd-229d-4522-80a9-d49ac4ce3bda"
      },
      "execution_count": 299,
      "outputs": [
        {
          "output_type": "execute_result",
          "data": {
            "text/plain": [
              "list"
            ]
          },
          "metadata": {},
          "execution_count": 299
        }
      ]
    },
    {
      "cell_type": "markdown",
      "source": [
        "Create dataset"
      ],
      "metadata": {
        "id": "7s4PAs0dk6aa"
      }
    },
    {
      "cell_type": "code",
      "source": [
        "from datasets import DatasetDict, load_dataset\n",
        "\n",
        "# Convert list of dictionaries to new format\n",
        "data_format = [{'id': d['id'], 'translation': {'input': d['input'], 'target': d['target']}} for d in rides_dataset]\n",
        "# test_data = [{'translation': {'input': d['input'], 'target': d['target']}} for d in test_data]\n",
        "\n",
        "# Convert new format list of dictionaries to pandas DataFrame\n",
        "full_dataset = pd.DataFrame.from_records(data_format, columns=['id', 'translation'])\n",
        "# test_data = pd.DataFrame.from_records(test_data, columns=['id', 'translation'])\n",
        "\n",
        "# Write DataFrame to CSV file\n",
        "full_dataset.to_csv(\"full_dataset.csv\", index=False)\n",
        "\n",
        "# Load the training and test datasets\n",
        "full_dataset = load_dataset('csv', data_files=\"full_dataset.csv\")\n",
        "train_dataset = full_dataset['train'].train_test_split(test_size=0.2)\n",
        "dataset_dict = DatasetDict({'train': train_dataset['train'], 'test': train_dataset['test']})\n"
      ],
      "metadata": {
        "colab": {
          "base_uri": "https://localhost:8080/",
          "height": 168,
          "referenced_widgets": [
            "00f2098dde984876b70c006adf50c63f",
            "dc251443d1514e9da9eded939413570c",
            "f2856f8279864ca1a43d81ac6af72b50",
            "23a3fb35f81c4f0aaeec509117b992cb",
            "4d650f3992a4477d84f45e4dc810059c",
            "751c0b6397d94823a5cf9586a8de4f86",
            "536999466b70407ebc9f56824376873a",
            "e611fcd0ee79476dbaa3126439f709e1",
            "92ff173b9ecf4020b8266e3535bfc093",
            "5956691d7385458ab6f154cefed2cce3",
            "9b085cfc00cc4076a2bc724aad687200",
            "8ea790a46ea54ac98d18d5cff15d5b63",
            "623c1ce1e7d74ca296b6c65da181f8b6",
            "43f603eb2f4546d7aaec19b86d2dc3b3",
            "4f0167b0cc154e41b8d3b865b5b9fc8a",
            "55287751b5c24dec924344b7ac337a87",
            "ca68622a48724d4ea2cd18ddf63f15a6",
            "1b2789d4205548d0b601ce8397b76e5d",
            "45fe0e528fec41ab81cc58bbce44216a",
            "c10a6c9bec0749e5bbf42f5734f4539c",
            "416ab3599bdc47b4996406df1490d94b",
            "238b8b66fe1847f199ce1145c63b155a",
            "454ede998f7e4701a67d2f2ca68bed5d",
            "e03f39b6ec8b46c7aab130b88cfe50f3",
            "aef0d14eba514a178731a13389a31462",
            "f24693b793d545d4bcf65a193b8dde61",
            "fb01c7d555714a078c4b8b8dff0aa5e9",
            "4ad86b8f0fa74004968386759c889534",
            "d2b1980fb43b43148f8696a93c83eda0",
            "52447aea1e534674bfa37307578edf92",
            "4884cdfcc2e946daaf79c5ba5c861f6e",
            "5b49b0b31cc94136b1173659be394f4c",
            "fc31d342b3e44a4fbbcdf117b7533b7b",
            "f67258da4c60460e96f9a4e729ce8596",
            "571f57e825fb4b68ac352bcc36e275ad",
            "3712d759f8c843b2aa2f7c9f7607ecd4",
            "8bd43b8ca1d6450bac6f7d5f2fd16c91",
            "14f5898fefac434086d801feec392b1a",
            "67a9f3f40ae7441b9c6e8265e1c45b7f",
            "704fba0016c94968807c9e8654f832c8",
            "a558d38f61d041338e46b70057c81491",
            "49a064cdc58e465dbe2c1f0d5c6bcd9c",
            "60d93032902140eaad00d5818350abc0",
            "3dd7bc90a46741279828c0560b0225de"
          ]
        },
        "id": "W9yNkeQfj6nW",
        "outputId": "3571e9f9-ac49-4720-ed32-49fec0816d6b"
      },
      "execution_count": 300,
      "outputs": [
        {
          "output_type": "stream",
          "name": "stdout",
          "text": [
            "Downloading and preparing dataset csv/default to /root/.cache/huggingface/datasets/csv/default-b4e2d63c22848041/0.0.0/6b34fb8fcf56f7c8ba51dc895bfa2bfbe43546f190a60fcf74bb5e8afdcc2317...\n"
          ]
        },
        {
          "output_type": "display_data",
          "data": {
            "text/plain": [
              "Downloading data files:   0%|          | 0/1 [00:00<?, ?it/s]"
            ],
            "application/vnd.jupyter.widget-view+json": {
              "version_major": 2,
              "version_minor": 0,
              "model_id": "00f2098dde984876b70c006adf50c63f"
            }
          },
          "metadata": {}
        },
        {
          "output_type": "display_data",
          "data": {
            "text/plain": [
              "Extracting data files:   0%|          | 0/1 [00:00<?, ?it/s]"
            ],
            "application/vnd.jupyter.widget-view+json": {
              "version_major": 2,
              "version_minor": 0,
              "model_id": "8ea790a46ea54ac98d18d5cff15d5b63"
            }
          },
          "metadata": {}
        },
        {
          "output_type": "display_data",
          "data": {
            "text/plain": [
              "Generating train split: 0 examples [00:00, ? examples/s]"
            ],
            "application/vnd.jupyter.widget-view+json": {
              "version_major": 2,
              "version_minor": 0,
              "model_id": "454ede998f7e4701a67d2f2ca68bed5d"
            }
          },
          "metadata": {}
        },
        {
          "output_type": "stream",
          "name": "stdout",
          "text": [
            "Dataset csv downloaded and prepared to /root/.cache/huggingface/datasets/csv/default-b4e2d63c22848041/0.0.0/6b34fb8fcf56f7c8ba51dc895bfa2bfbe43546f190a60fcf74bb5e8afdcc2317. Subsequent calls will reuse this data.\n"
          ]
        },
        {
          "output_type": "display_data",
          "data": {
            "text/plain": [
              "  0%|          | 0/1 [00:00<?, ?it/s]"
            ],
            "application/vnd.jupyter.widget-view+json": {
              "version_major": 2,
              "version_minor": 0,
              "model_id": "f67258da4c60460e96f9a4e729ce8596"
            }
          },
          "metadata": {}
        }
      ]
    },
    {
      "cell_type": "code",
      "source": [
        "dataset_dict"
      ],
      "metadata": {
        "colab": {
          "base_uri": "https://localhost:8080/"
        },
        "id": "4dtV-N7-EVRY",
        "outputId": "03ca5526-83b9-4323-b0c5-9c2ced51d299"
      },
      "execution_count": 301,
      "outputs": [
        {
          "output_type": "execute_result",
          "data": {
            "text/plain": [
              "DatasetDict({\n",
              "    train: Dataset({\n",
              "        features: ['id', 'translation'],\n",
              "        num_rows: 280\n",
              "    })\n",
              "    test: Dataset({\n",
              "        features: ['id', 'translation'],\n",
              "        num_rows: 70\n",
              "    })\n",
              "})"
            ]
          },
          "metadata": {},
          "execution_count": 301
        }
      ]
    },
    {
      "cell_type": "code",
      "source": [
        "import matplotlib.pyplot as plt\n",
        "input_lens = [len(x) for x in target_order]\n",
        "plt.hist(input_lens, bins=50)"
      ],
      "metadata": {
        "colab": {
          "base_uri": "https://localhost:8080/",
          "height": 473
        },
        "id": "HUwh1GDlPZyi",
        "outputId": "e7d0a32d-da9e-4094-a2ba-52d9c186e26a"
      },
      "execution_count": 302,
      "outputs": [
        {
          "output_type": "execute_result",
          "data": {
            "text/plain": [
              "(array([ 2.,  0.,  0.,  0.,  0.,  0.,  0.,  1.,  0.,  0.,  0.,  0.,  0.,\n",
              "         0.,  1.,  0.,  0.,  1.,  0.,  0.,  0.,  2.,  3.,  2.,  5.,  3.,\n",
              "        14.,  9., 10.,  6.,  9., 11., 10., 12., 19., 17., 16., 26., 15.,\n",
              "        30., 19., 18., 23., 13., 17., 12., 12.,  5.,  1.,  6.]),\n",
              " array([  1.  ,   3.38,   5.76,   8.14,  10.52,  12.9 ,  15.28,  17.66,\n",
              "         20.04,  22.42,  24.8 ,  27.18,  29.56,  31.94,  34.32,  36.7 ,\n",
              "         39.08,  41.46,  43.84,  46.22,  48.6 ,  50.98,  53.36,  55.74,\n",
              "         58.12,  60.5 ,  62.88,  65.26,  67.64,  70.02,  72.4 ,  74.78,\n",
              "         77.16,  79.54,  81.92,  84.3 ,  86.68,  89.06,  91.44,  93.82,\n",
              "         96.2 ,  98.58, 100.96, 103.34, 105.72, 108.1 , 110.48, 112.86,\n",
              "        115.24, 117.62, 120.  ]),\n",
              " <BarContainer object of 50 artists>)"
            ]
          },
          "metadata": {},
          "execution_count": 302
        },
        {
          "output_type": "display_data",
          "data": {
            "text/plain": [
              "<Figure size 432x288 with 1 Axes>"
            ],
            "image/png": "[encoded data removed]"
          },
          "metadata": {
            "needs_background": "light"
          }
        }
      ]
    },
    {
      "cell_type": "markdown",
      "source": [
        "If you want the model to predict the vehicle ID during the ordering prediction, you can remove the vehicle ID from the input sequence that you provide to the model and train the model to predict it as part of the output sequence.\n",
        "\n",
        "For example, during training, you can provide the model with a sequence of rides without the vehicle ID, and train it to output the correct order of rides along with the corresponding vehicle ID for each ride.\n",
        "\n",
        "During inference, you can provide the model with a sequence of rides without the vehicle ID, and let it predict the correct order of rides along with the corresponding vehicle ID for each ride."
      ],
      "metadata": {
        "id": "LsIxZ_dW_HVg"
      }
    },
    {
      "cell_type": "code",
      "source": [
        "input_max_length=120\n",
        "target_max_length=512"
      ],
      "metadata": {
        "id": "4E0m3sEvVpSJ"
      },
      "execution_count": 303,
      "outputs": []
    },
    {
      "cell_type": "code",
      "source": [
        "from transformers import AutoModelForSeq2SeqLM, AutoTokenizer, Seq2SeqTrainingArguments, Seq2SeqTrainer\n",
        "\n",
        "checkpoint='t5-base'\n",
        "tokenizer = AutoTokenizer.from_pretrained(checkpoint, model_max_length=input_max_length)"
      ],
      "metadata": {
        "id": "UbXCRDwXCdE8"
      },
      "execution_count": 304,
      "outputs": []
    },
    {
      "cell_type": "code",
      "source": [
        "# Get all the text columns and concatenate them with numerical columns\n",
        "text_columns = df.select_dtypes(include=['object', 'float', 'int']).astype(str).apply(lambda x: ' '.join(x.dropna()), axis=1)\n",
        "\n",
        "# Concatenate all the text columns into one long string\n",
        "text = ' '.join(text_columns)\n",
        "\n",
        "# Split the string into a list of unique words\n",
        "unique_words = list(set(text.split()))\n",
        "\n",
        "# Write the unique words to a text file, one word per line\n",
        "with open('custom_vocab.txt', 'w') as f:\n",
        "    f.write('\\n'.join(unique_words))\n",
        "\n"
      ],
      "metadata": {
        "id": "bgZ1D4lwfH3k"
      },
      "execution_count": 305,
      "outputs": []
    },
    {
      "cell_type": "code",
      "source": [
        "# Open the text file\n",
        "with open('custom_vocab.txt', 'r') as f:\n",
        "    # Read the contents of the file into a list\n",
        "    custom_vocab = [line.split('\\n')[0] for line in f.readlines()]\n",
        "\n",
        "# Print the list\n",
        "print(custom_vocab)\n"
      ],
      "metadata": {
        "colab": {
          "base_uri": "https://localhost:8080/"
        },
        "id": "ViSqWI3mdVSk",
        "outputId": "2a6f110e-bcd1-4811-e856-f99ae4fb3463"
      },
      "execution_count": 306,
      "outputs": [
        {
          "output_type": "stream",
          "name": "stdout",
          "text": [
            "['10.634768', '8.944017', '39.175', '37.342158', '5.702323', 'MALDONADO', '15.12', '129.245', '5.530825', '1601*PETERSEN*AVE', 'PATEL', '37.46849822998047', '481097', '2.406571', '8.520242', '11.591058', '2668*THORNHILL*DR', '1.894561', '2114*MCKEE*RD', '110.345', '12.833801', '188.0', '61.505', '3.927687', '102.08', '9.417502', '422032', '48.855', '-122.2661590576172', '4.183071', '48.95411', '482625', '79.52', '6780*MEADOW*VISTA*CT', '479079', '6.25348', '-121.852529', '47.72', '83.6575', '434321', 'KIRKER', '37.30254364013672', '75.725', '215.92', '60.2', '5.191556', '430004', '-121.832998', '204.81', '-121.869606018066', '176.0', '182.28', '57.44', '37.392432', '37.291981', 'SAPERKA', '37.315673828125', '-122.239831', '5.080952', '436173', '37.342306', '1208*E*ARQUES*AVE', 'DUNG', '37.32690048217773', '2.514068', '468671', '248.4', '340*DARDANELLI*LN', '1225*VIENNA*DR', '37.315713', '80.305', 'DUNAWAY', '-121.85381317138672', 'MARC', '690*N*5TH*ST', '73.15', '6.086331', '705*PINTO*DR', '-121.914963', '4.206683', '210.04', '176*S*BERNARDO*AVE', '-122.07916259765624', '696*W*EL*CAMINO*REAL', '-122.00857543945312', 'MARGARITA', '-121.8805285', '37.381212', 'MUNOZ-DE*ANDA', '199.995', '21.137806', '388916', '65.05', '80.72', '95054', '428913', '213.0', '37.326306', '480688', 'DECKER', '77.075', 'FAUR', '26.57', 'NHI', '55.8', '430040', '-121.84862518310548', '-121.77626037597656', '55.8125', '37.239814', '58.4', '76.975', '475662', '37.30686950683594', '37.293321', 'THE', '9.167089', '37.452154', '388890', 'ADASSA', '95.8', '1.616186', '469234', '318.15', 'MARKIE', '12.191924', '430206', '37.32122421264648', '37.24018478393555', '1.307986', '28.773214', '-121.930807', '-121.95233917236328', '6.136662', '4.32785', '56.4425', '41.15', '1640*HERMOCILLA*WAY', '284031', '-121.8526853', '10.729216', 'RUBIO', '35.552376', 'DARIANO', '2450*SENTER*RD', '6.535582', '37.262284', '6.977998', '-121.95308685302734', '40.7', '51.775', '37.35015487670898', '-121.931243', '61.55', 'TUYET', '37.2526901', '47.3625', '31.9475', '-121.846207', '431168', '37.3272', '95136', '2585*SAMARITAN*DR', 'MOON', '268.52', '114.89', '70.7875', '6.762383', 'WENCAI', '244*N*JACKSON*AVE', '37.252995', '54.7425', '37.296471', '37.9789535', '37.329043', '7.624846', '14.308314', '111.2225', '435398', '-122.01404571533205', 'HUE', '349*S*MONROE*ST', '37.450042724609375', '37.240995', '82.9825', '65.6', '168.4', '103.92', '4', '8.399696', '155.4825', '5.393502', '390534', '15899*LOS*GATOS*ALMADEN*RD', '71.0675', '116.15', '61.4825', '6.40323', '123.12', '37.4150797', '1150*TILTON*DR', '37.32753', '-121.8783187866211', '30.9575', '15000*LOS*GATOS*BLVD', '0.851279', '2.528981', '3475*MCKEE*RD', '478038', '105.61', '6.414415', 'ACUNA', '66.3425', '99.44', '52.175', 'TUYET*ANH', '58.7375', '831*GALE*DR', '37.256957', '170.04', '14.919122', '0.467893', '-121.86749267578124', '41.6675', '18.790264', '37.31855010986328', 'ZHANG', '37.371951', '185.56', '9.589622', '690*S*FAIR*OAKS*AVE', '7.604962', '-121.86715698242188', '85.075', 'THOMPSON', '12.295693', '37.36269', '133.4', 'JACKSON', '-121.93785858154295', '555*KNOWLES*DR', '-121.80712890625', '83.5', '37.25002670288086', '-122.310811', '37.2753143310547', '20.744476', '37.327613830566406', '121.64', '87.7525', '37.34396', '12.115496', '175.88', '64.8125', '10.290528', '13.959725', '200.49', '68.925', '37.775', '14.987473', '151.56', '10.83982', 'AMADOR', 'XIANHUA', '10.521057', 'YVONNE', '57.195', '152.625', '462487', '-121.87757873535156', 'AM', 'ENRIQUE', '25.6475', '50.25', '8.965144', 'PANSOY', '66.0725', '473734', '-121.828927', '94043', '50', 'PARSON', '12.885374', '26.075', '37.43882369995117', '95050', 'SALDANA', '-122.08132', '36.515', '8.264858', '11.435715', '149.36', '1820*DE*LA*VINA*ST', '-121.934093', '-121.839728', 'BENJAMIN', '26.5475', '37.3364486694336', '-121.95033264160156', '-122.177099', '168.625', '483859', 'HOANG', '388706', '95350', 'HOLDEN', '472180', '47.775', '37.3603744506836', '101.3225', '-121.878943', '1276*MORAGA*ST', '204.56', '3.509504', '2.742732', '79.2925', '0.749995', 'MERI', '294136', '-121.81824493408205', '31.9925', 'GUZMAN', '-121.84122467041', '265593', '78.515', '133.725', '216.6225', '-121.85787200927734', '1731*ROSS*CIR', 'LOIDA', 'ASHA', '37.76635', '-121.800274', '37.29731777', '94.93', '144.36', '37.405597', '37.359942', '99.2', '37.2531345', '149.8125', '95128', 'LA', '37.3136100769043', '61.725', '7.558981', 'JUAN*HERNANDEZ', '-121.876646', '-122.176841', 'ST*LEGER', '8.113244', '-121.79811096191406', 'JAMIE', '37.364821', '2885*JOSEPH*AVE', '429888', '200*JOSE*FIGUERES*AVE', '427070', '8.591699', '3107*APPERSON*RIDGE*DR', '483182', '834*COLLEEN*DR', '1777*NEWBURY*PARK*DR', '-121.86840057373048', '37.305632', '37.234317779541016', '93.6475', '89.56', '58.1975', '201.165', '105.325', '1.417969', '12.414996', '126.075', '158.725', '196.9125', '-121.979736328125', '124.995', '111.32', '388684', '64.04', '6347*GRAND*OAK*WAY', 'TANAKA', '454343', 'KWOK', '18.91081', '447696', 'COMPILLO', '3306*ONSLOW*WAY', '276*INTERNATIONAL*CIRCLE', '378.32', '37.38211441040039', '5.051748', '37.318903', '10.01029', '37.326343', '37.435919', '53.1425', '63.45', 'KELETA', '12.054601', '-121.937461', '13.453308', '2063*FOREST*AVE', '5.212062', '443337', 'SINH', '76.3325', '37.31126022338867', '49.6775', '37.262767', '3005*SILVER*CREEK*RD', '16412*LOS*GATOS*BLVD', '472286', '37.31203', '37.34139251708984', '-121.312342', '46.505', '5.394123', '-121.655998', 'KELLY', 'ALVARADO', '227*N*JACKSON*AVE', '37.387683', '306509', '154.36', '14.584825', '108.55', '37.37946701049805', '5.149303', '487499', '1858*BAY*RD', '54.475', 'HANZI', '104.56', '317.32', '109.48', '2500*EMBARCADERO*RD', '53.32', '95125', '127.7175', '77.965', '5.558165', '29.9', '8.282878', '-121.81301879882812', '1.779607', '23.8925', '2001*THE*ALAMEDA', '215.43', '428211', '37.047096252441406', '460028', '66.825', '2035*HALFORD*AVE', 'ALFREDO', 'FELIPE', '-121.876299', '1.0', '251.6', '478040', '31.8125', '-121.78270721435548', '14.719662', '61.7525', '-121.84608459472656', '44.615', '37.009815', '-122.05554962158205', '56.632393', 'EDEN', 'GONZALEZ', '468051', '95111', '1860*MILMONT*DR', '82.2625', 'ACQUISTAPACE', '13.225886', '37.24393081665039', '76.075', \"100*O'CONNOR*DR\", 'CONNIE', '1.712499', '90.035', '8.775625', '-121.949219', '211.65', '63.305', '80.755', '-122.178922', '94121', '24.635', 'LORI', '425.64', '128.36', '465129', '209.84', 'NEIL', '-121.933667', '-121.86726379394533', 'SAHAR', '40.9475', '-121.950707', '99.36', '206.0', '-121.80921936035156', '89.44', '37.48745346069336', '4.623002', '37.30309', '65.24', '5.998096', '322.0125', '39.7775', '71.9125', '24.545', '2245*WARFIELD*WAY', '222.7875', '41.3525', '-122.444407', '36.97683334350586', '388862', '-121.825063', '46.82', '2.089671', '-121.88843536376952', '129.81', '31.044327', '37.2511034398732', 'RENTZEL', '473264', '3553*BROOKDALE*DR', 'ASEMEH', '-121.97197723388672', 'AGUSTIN', 'ALANIS', '66.725', '441437', 'KELLY*AVE***BALBOA*BLVD', '104.76', '-121.8348397', '89.305', '3.056525', '73.35', '-122.17191657797584', '-121.95973205566406', '123.24', '7.00596', '84.85', '15.365888', 'CHANKO', '-121.8203353881836', 'JAUREGUI', '124.1625', '32.6', '38.675', 'MARROQUIN', '135.98', '32.51', '171.075', '484588', 'KENNELLY', '95.04', '291.72', '32.86867', 'BELINDA', '8.245596', '88.55', '424859', 'ANACLETO', '-121.947953', '-121.96422576904295', '482624', '208.32', '-122.312779', '440925', '75.7375', '215.7', '37.33240509033203', '1.322899', '-121.8325653076172', 'THERESA', '420254', '9.255324', '39022*PRESIDIO*WAY', '39.0575', '18.170757', '1023*REED*AVE', '125.88', '40', '37.3766212463379', '45.9', 'BSTR', 'FLORES', '-121.922638', '259.44', '37.35700607299805', 'PARDO', '-121.95097241125946', '-121.932653', '95129', '-121.83477783203124', '485068', 'PICKEN', '483247', '1.440338', '388824', '-121.88050842285156', '4.677682', '172.76', '-122.03712463378906', '2.815433', '37.41912460327149', '6.145982', '37.336570739746094', 'KATHARINE', '5.915454', '37.32752990722656', '105.0', 'MUI', '30.5975', '199.5675', '60.4', '36.1325', '-122.065097', 'MEI', '85.92', '37.37662124633789', 'PETRA', '118.12', 'CASTRO', '101.56', '84.085', '895*E*FREMONT*AVE', '91.4425', '6.487737', '485022', 'ALEJANDRO', '191.84', '57.825', '298777', '77.84', '438134', '2.777529', '37.4852386024243', '-121.81138610839844', '398.4', '89.8', '309*S*BUENA*VISTA*AVE', '-121.944455', '487083', '116.9825', '1.653469', '128.38', '2.265519', '5.489193', 'AMANDA', '86.03', '-121.847641', '85.9075', 'DRALYUK', '42.815', '132.1725', '94086', '8.346879', '427981', '67.95', 'DORIS', '8.377326', 'NGOC', '93.5225', '10', '37.42548751831055', '-121.858215', '127.08', '20.197048', '37.34886169433594', '110.28', '10.029552', '-121.938465', '10.868404', '37.96165', '476292', 'DAVIS', '68.6375', 'CARLET', '78.2575', '14.504668', '8.830306', '81.125', '100.085', '39.485', '-121.931266', '101.12', '21.0125', 'TERILYNE', '3555*JUDRO*WAY', '2.923551', 'BAHN', '15.125418', '-121.91413', '124.5675', 'DOLORES', '12.899666', '440576', '37.661596', '419128', 'MIKE', '328.52', 'ALCAZAR*MEDINA', '-122.04721069335938', '37.26893997192383', '143.8275', '92.88', 'CORONA', '12.772906', '5932*TANDERA*AVE', 'TERRENCE', '456200', '24.0275', '1547*LOS*ALTOS*DR', '261.92', 'DENNIS', '37.236377', '-122.16861', '426509', '31.77', '98.35', '37.367641', '-122.014109', '469321', '2.57869', '-121.93350219726562', 'PONCE', '58.6025', '100.355', 'ABDULA', 'VAN*(2)', '1642*E*CAPITOL*EXPY', '37.3173942565918', '314.92', '86.615', '2.268626', '1993*MCKEE*RD', 'SORIA', '5.512184', '140.43', 'TELLO', '10.824908', '37.25264358520508', '-121.95575', '468449', 'GABRIEL', '5.488572', '208.725', 'SIASI', '30.5525', '49.1375', '254.12', '37.33976364135742', 'SANCHEZ', '417096', '-121.949513', '3.123012', '37.362043', 'MENDEZ', '52.05', '2.916716', '37.399386', '-121.556192', '22590*VOSS*AVE', '192.84', 'TARMINA', '440584', '282067', 'ART*CENTER*-2', '486749', '785*W*EL*CAMINO*REAL', 'LEONARDO', '154.48', 'MCDONALD', '900*BLAKE*WILBUR*DR', '467638', '37.253205', '430492', '94304', '37.36630630493164', '231*DIXON*LANDING*RD', '15.539872', '183.16', '254.4', '200.175', '478881', '480718', '434741', '37.306976318359375', '6.845646', '65.45', '153.955', '3222*LANDESS*AVE', '74.7025', '37.29776763916016', 'MARY', '94087', '10.217828', 'ANH*TUYET', 'TORREZ', '-121.947069', '203.48', '463427', '2580*SAMARITAN*DR', '282.56', '-121.826913', '37.314241', '13.171827', '198.6', '224.8125', '102.2', '93.8', '388523', '459.96', 'DUNGAN', 'SCOMA', '-122.014276', '204.32', '51.3225', '9.66605', '47.9925', '74.8475', '15.76543', '37.2799183', '168.48', '78.44', '174.86', '58.625', '37.335594', '85.345', '487.32', '37.323662', '33.7025', '2.558185', '449537', '160.3', '204.225', '138.515', '123.3075', '85.2', '3.393929', '481662', '29.225', '83*S*EL*MONTE*AVE', 'ANTONIO', '37.4375', '240.0', '110.08', 'MASSON', '6.732557', '37.4410285949707', '9.166468', '103.6925', '21000*BIG*BASIN*WAY', '37.2454899', 'SAMIR', '1655*S*WINCHESTER*BLVD', '-121.8114013671875', '-122.088461', 'ALICIA', '51.12', '45.335', '388852', '12.521872', '628*E*SANTA*CLARA*ST', '37.2728157043457', '37.34225845336914', '2.362453', '51.95', '116*E*MIDDLEFIELD*RD', '428677', '5.953979', '-121.940099', '37.73', 'GUERRA', '45.25', '-122.0934066772461', '-121.79540252685548', '-121.938565', 'DALE', '-122.202993', '220.16', '5.167944', '295.64', '37.262943267822266', '9.90155', '37.3403434753418', 'DANIEL', '157.44', '9', '325.9', '37.269029', '106.4', 'TRINH', '456617', '867*WREN*DR', '206.475', '14601*S*BASCOM*AVE', '218.9175', '486348', '37.41764450073242', '28.2575', '5.213926', '46.2125', '31.43', '63.56', '142.0275', '-121.82852172851562', '37.250783', '473140', 'DUY', '1.04701', '37.326675', '-121.852258', '43.22', '37.29465866088867', 'DIGGS', '65.3075', '37.29575', 'GUEVARA*ANDRADE', '102.4', '8.309', '-121.787519', 'WILLIAMS', '29.6075', '193.32', '-121.877706', '2.742111', '4221*VERDIGRIS*CIR', '218.625', '2.983203', '172.1375', '210.705', '-121.99080657958984', '259.6', '14.430103', '37.27125930786133', '63.515', '388477', '-121.937325', '37.366371', '-121.96601104736328', '-122.06292724609376', '37.48493194580078', 'REYNOLDS*FERNANDEZ', '37.436611', '27.02', '7.977785', '429233', '1095*BUENA*VISTA*AVE', '16055*SANBORN*RD', '416*DONAHE*DR', '49.385', '47.5', '476008', '484307', '428679', '10.0', '84.9625', '388885', '472352', '440195', '75.22', '25.707369', '373*S*REDWOOD*AVE', '11.386627', 'WEBBER', '9.20375', '2468*NIGHTINGALE*DR', '28.727234', '95370', '27.527987', '4.208547', '418.6', '86.0975', '4.150138', '5.398473', '98.48', '37.297828674316406', '156.3', '2.567506', '4150*CLEMENT*ST', '24.14', '-121.96159362792967', '81.9475', 'BILL', '-121.804943', '115.2', '421.68', '53.175', '37.261354', '27.676495', '173.12', '115.0', '1880*SCOTT*BLVD', '-121.80270385742188', '4.867822', '55*OLD*TULLY*RD', '-121.87776184082033', '25.7825', '37.34728240966797', '113.0', '48.35', '451.32', '2121*ALEXIAN*DR', '-121.964842', '127.5825', '30.372623', '37.362549', '19.491793', '2.931008', '37.32189178466797', '6.981727', 'EVA', '8.586729', 'IMELDA', '73.645', '160.08', '-122.078474', '482977', '95116', '466035', '138.8775', '143.4', '37.23026657104492', '58.41', '36.425', '248.76', '12.119845', '73.385', '34.85', '2.712907', 'TRIA', '187.68', '-121.84426879882812', '1.052603', 'LIANG', '-122.06942749023438', '819*N*16TH*ST', '94025', '38.95', '-121.80712127685548', '50.625', '0.761801', '49.125', '388728', '-121.832054', '187.96', '37.398567', '-121.88809204101562', '32.83574', '26.165', '29.2925', '137.28', '294773', '4.403036', '471741', '37.25080108642578', '75.4775', '39.89', '434721', '83.6', '214.6', 'KHAN', '123.6675', '6.819549', '11.259246', '-122.049488', '12.283887', '8.982542', '5.072253', '2400*MOORPARK*AVE', '3.379638', '420112', '254641', '57.7475', '-121.97903442382812', '56.825', '136.8', '63.755', 'CORDRICHE', '-121.77625274658205', '121.4175', '-121.9938735961914', '452077', '-121.975004', 'DUONG', 'PHUONG', '52.275', '37.43211', '69.11', 'VIDYASAGAR', '31.7675', '183.725', '-121.919191', '8.66', '37.33909225463867', '21.9125', '81.2', 'MORITA', '37.43611023', '130.68', '63.3', '360*DARDANELLI*LN', '436248', 'REX', '91.295', '1085*TASMAN*DR', '37.249709', '388490', '2.090293', 'SALOMON', 'NORTH*2', 'ROSEMARIE', '-121.8306655883789', 'NEVZETA', '35.4125', 'BARRENECHEA', '8.643895', '-121.82445526123048', '417094', '27.976618', '8.371113', '-121.848904', '20.635736', '93*N*14TH*ST', 'HIDEO', '1.838637', '75.88', '5.343171', 'LIN', '453310', '37.31183242797852', '797*E*FREMONT*AVE', '780*E*SANTA*CLARA*ST', '-121.8564682006836', '95.9', 'RAUL', '440694', '104.245', '-122.161123', '26.139221', '55.56', '6.09068', '29.1575', '3.4076', '81.34', '2.975747', '95121', '460376', '-121.852313', '31.7225', '54.9975', '105*FORREST*AVE', '6.943202', '73.165', '29.4725', '244.15', 'NADINE', 'KUHLMANN', '37.3783992', '37.24549102783203', '-122.17653100904069', '10.720517', '37.30441284179688', '1554*GLENCREST*CT', 'VALICKOVA', 'THOMAS', '323767', '67.6', '9.492066', '450*BROADWAY', '37.364695', '37.2831545', 'CABANGBANG', '371*ELAN*VILLAGE*LN', '13.197303', '2010*MONTEREY*HWY', '26.901644', '14.282838', '133.68', '-122.14198303222656', '3081*FLORENCE*AVE', '483866', '37.31859970092773', '96.4', '430773', '-121.847763', '64.43', '101*LAUMER*AVE', '479443', '7.314782', '6620*VIA*DEL*ORO', '87.68', '45.605', '446572', '57.8', '160.4', '24.95', '2.455659', '22.97', '50.8', '38.54', '132.1275', '135.56', '37.269103', '95030', \"455*O'CONNOR*DR\", '95124', '-121.65589141845705', '434955', '1190*DELL*AVE', '154.4', '98.8', '486670', '252.825', '453.55', '52.3775', '0.67046', '25.729116', 'ANNIE', '3.397658', 'DEBRA', '-121.981845', '46.9125', '433228', '1990*FRUITDALE*AVE', '-121.951125', '87.88', '1.862249', '1919*FRUITDALE*AVE', '59.625', '2.056117', '-121.801024', '-121.965172', '74.775', '-121.95254516601562', '95.56', '37.326281', 'ARCHIE', '117.5675', '37.23058716', '4.532281', '53.7275', 'ROMERO', '37.353525', '422880', '250.9', '37.364645', '50.085', '138.305', '27.345303', '78.64', 'KOUNTZ', '62.7975', '15.885976', 'DUENAS', 'ELAINE', '37.243614196777344', '-121.90095520019533', 'PARKER', 'YUN', '46.6', '27.518045', '37.308868408203125', '37.369821', '-122.096559', '-121.874813', '346.15', '-121.950547', 'ALRIHANI', '-121.84615325927734', '187.1', '13*JASON*DR', '3621*LAFAYETTE*ST', '9.106816', '465978', '2.002679', 'ISABEL', '37.359541', '39.4175', '32.825', '108.7025', '14.808518', '-121.94013214111328', '37.55', '484833', '-121.881758', 'MALTI', '87.6275', '1620*E*CAPITOL*EXPY', '37.3991978', '1313*NEWELL*RD', 'CANSECO', '0.595895', '57.3975', '170.4', '58.835', '31.4075', 'MIRANDA', '2530*SOLACE*PL', '42.0275', '202.5825', '37.3766219', 'SUONG', 'RAHMAT', '7.406123', '460910', '100.2', '110.9075', '104.45', '422.8', '315.08', '482417', '7.171866', '-122.175055', '37.3503303527832', '-122.06958770751952', '3.630672', '242.88', '13.170584', '18525*SUTTER*BLVD', '37.24311065673828', '87.2225', '65.9825', '5.328879', '21.5075', '-122.023984', '9.641195', '83.6225', '201.95', 'CAYABYAB', '5.611603', '50.475', '25.76', '22.1375', '97.3625', '10.379384', 'JANE', '437651', '2034.45', '14.821567', '388769', '9.37', 'HILLIN', '-121.8270276', 'CLARISSA', '37.2515983581543', '481674', '37.448482', '37.252048', '41.24', '2905*WARBURTON*AVE', '37.40178680419922', '445291', '4.779587', '410*N*WINCHESTER*BLVD', '84.815', '37.426544189453125', 'MICHELLE', '37.40881', '148.825', 'MARRON', '91.3525', '168.12', '37.35697937011719', '-122.26309', '-121.8031964', '37.413815', '96.19', '196.305', '-121.96484375', 'AHUMADA-GASPAR', 'PALO*ALTO', '-122.17365018405006', '-121.877841', '49.025', '-121.934208', '41.4875', '87.91', 'FELLMETH', '206.4075', '38.4275', '12.430531', '14.772479', '388739', '2.594225', '69.605', 'AVALOS', '8.721566', '-122.22291405', 'SC202', '9.632496', '-121.923356', '36.83', '14.579232', '12.352859', '215.35', '464*TOYON*AVE', 'SU', '446806', '8.228819', 'BEGLEY', '0.853764', '37.36489868164063', '27.4925', '1560*N*1ST*ST', 'GUO', '85.56', '68.12', '1.235907', '0.676673', '94014', '87.28', '10.430958', '37.32408905029297', '388930', '37.674583435058594', '37.346058', '69.2225', '218.6475', '-121.969598', '427107', '-121.9232406616211', '37.31606568604244', '23.8475', '159.6', '10.937376', '131.4075', '435427', '390520', '37.326053619384766', '483870', '208.92', '260.0', '9.142234', '72.76', 'GRIMES', '464102', 'KARLA', '12.500746', '1.73114', '76.3675', '94019', '1260*COVINGTON*RD', '93.2', '1.805083', '11.16', '7.899492', 'NAVARRO', '62.55', 'PICARDAL', '8.84584', '-121.951594', 'REEFER', '93.22', '425970', '75*N*13TH*ST', '820*MALONE*RD', '124.05', '7.086738', '34.7375', '620*E*MAUDE*AVE', '37.691879', '99.72', '95035', '422282', '19.878286', '7.099787', 'TASSI', '-121.9525375366211', '21.125', 'RACHEL', '216.6', '148.6875', '40.565', '62.4', '12.573446', '393*BLOSSOM*HILL', '91.825', '6.249751', '37.325106', '5.561272', '47.475', '1234*SANDRA*DR', '-122.03483581542967', '751*S*BASCOM', '37.37773895263672', '388487', '28.91', '470323', '1.592574', '12.382685', '263.24', '178.8', '432462', '264.4', '-121.82722473144533', '104.32', '72.9125', '63.6', '-122.504692', '249.68', '7880*WREN*AVE', '475912', '3188*MOUNT*HOOD*WAY', '45', '452.4', '18.782808', '272.08', '96.3', 'BUI', '3.767995', '95133', '42.725', '37.441568', 'RALPH', '456608', '1851*E*WILLIAM*ST', '-121.84928', '37.35954284667969', '114.48', '37.251362', '12.67473', '478719', '37.325858', '2340*MONTPELIER*DR', '298*LAUREL*GROVE*LN', '-121.966965', '54.4575', '598*COLUMBIA*AVE', '142.185', '433.52', '77.875', 'FIDELA', '55', '37.3060479', '14.28346', '434712', 'CHAT', '95002', '428872', '320.9', '-121.7965316772461', '436651', '25.7375', '2615*CASTLETON*DR', '9.85619', 'KATHLEEN', '37.259293', '388497', '-121.87794494628906', '2.933493', '12.780363', '68.48', '388708', '428207', '37.229488372802734', 'ISAAC', '3.838831', '3.111827', '481805', '42.5', '-122.0183334350586', '169.28', '135.68', '4290*SAYOKO*CIR', '4.511776', '3.877356', '0.497097', '52.805', 'HIEN', 'SANCHEZ*HAM', 'ALTA', '85.4', 'RICHARDSON', 'TAVAKOL', '-121.80290985107422', '454372', '1300*CRANE*ST', 'KAUR', '10.82615', 'HOWARD', '2768*MILLBRAE*WAY', '37.251579', '93.32', '64.44', '-121.79932403564452', '3.245422', '37.36503', 'LANGZHI', '1305*TOURNEY*DR', '2371.185', '43', '479025', '27.7625', '268.4', 'EPP', '86.2675', '37.28892517089844', '94041', '63.125', '37.43429469523561', '4.027728', '487145', '37.32672882080078', '-121.852581', '72.97', '92.84', '7.961629', '725*RIDDER*PARK*DR', '143.9175', '1601*TENAKA*PL', '135.52', '13.805625', '37.240816', '55*N*13TH*ST', 'LI', '440892', '13.41354', '25.949081', '38.63', '429211', '437894', '456964', '37.378453', '1.614944', '-121.81834411621094', '13.197924', '836*ALTURAS*AVE', '-121.8801072', '227.4675', '-121.8952865600586', '-121.80608367919922', '98.2175', '484049', '37.23045519', '43.67', '5.845239', '124.4', '462594', '49.7025', '401.4', 'THACH', '37.250938', '13.003435', '469055', '197.225', '37.3299217224121', '2.399114', '473364', '84.4', '74.825', '37.29271697998047', '94609', '1.2328', '7.887686', '57.625', '-121.82288360595705', '-121.74217987060548', '-121.999522', '70.0325', '73.1725', '117.815', '37.341276', '120.0', '432.32', '76.4225', '1871*CAMDEN*AVE', '113.8', '37.449954986572266', '-122.20249115045', '122.5425', '10.460163', '12.070135', '7.278742', '5.246237', '150.175', '37.3460578918457', '470847', '9001*RIDERWOOD*DR', '486533', '-121.945913', '37.235654', '194.3875', '248.95', '6.763625', '259.76', 'TERESITA', '53.92', '37.364304', '188.6', 'DIEP', '815*LE*COMPTE*PL', '419.68', '473372', '209.08', '3.840074', '348.7', '2.272976', '47.1', '-121.940305', '202.3125', '37.7525', '5827*EL*ZUPARKO*DR', '27.3125', 'LANE', '2.384201', 'LUPE', 'ADOLFO', '480714', 'ORTENCIA', '198.8925', '28', 'ROSA', '77.3', 'GURMEJ', '8.167924', '202.88', '5.466202', '1239*C*ST', '125*CIRO*AVE', 'WARNER', '106.0', '8.603506', '70.91', '3.51199', 'ROI', '410.4', '285.92', '6.697139', '37.425078', '7.954794', '33.995', '83.68', '5.697352', '37.40409851074219', '32.6225', 'MOORE', '6', '83.96', '47.5175', '-121.91046142578124', '84.365', 'ANN', 'DAPHNE', '37.30604934692383', '32.195', '4.63605', '72.1375', '1.224723', '15.96054', '66.2075', '-121.8605728149414', '88.675', '-121.938572', '146.795', '37.23414993286133', '46.325', '33.5', '134.56', '9.369656', '3015*UNION*AVE', '1741*WELCH*AVE', '649*UNIVERSITY*AVE', '8.469289', '-121.83335', '3.365968', 'SERGO', '37.3532600402832', '109.8725', '25.645231', '37.33110276022091', '238*VIRGINIA*AVE', '12.59768', '-121.93733', '14.834616', 'SESHAN', 'SC109', '37.31568908691406', '72.0475', '3.195091', 'HUANG', '206.25', '422023', '-121.945328', '290943', '388873', '388632', '419437', '14910*UNION*AVE', '441743', '50.425', '149.7225', '251.4', '172.225', 'HA', '51.255', '418840', '6.768596', 'URIBE', '37.319942474365234', '-121.83972930908205', 'STEVIE', '116.6675', 'LAM', '260.08', '8', '825*POLLARD*RD', '37.305122', '425974', 'GOLD', '95070', '37.485736', '48.375', '442.04', '37.425758361816406', '223.395', '112.46', '2.717878', '83.0725', 'MARUYAMA', '320.04', '99.9725', '37.47801208496094', '298.75', 'YOHANNES', '4.852288', '5.00763', '37.305171966552734', '-121.93677354', '152.4675', '7.881472', '137.55', '44.3', '-121.93752', '451.16', '-121.97772979736328', '-121.88794708251952', '311.92', '2650*MUELLER*AVE', '480037', '31.34', '37.35934829711914', '37.245493', '105.795', '159.88', '481221', '77.975', '22.8124', 'XINGGUO', '1141*COLORADO*AVE', '20.869373', '9.467211', 'SIM', '-121.82713317871094', '37.2454948425293', '172.04', '1505*MERIDIAN*AVE', '-122.017692', '13.050038', '37.439754486083984', '261210', '481803', '113.72', '222.63', '-121.936859', 'TARPLEY', '37.37839889526367', 'RAMESH', '-121.92783886484727', 'GUILIAN', '-121.949268', 'ERNESTO', '76.57', '-121.899392', '10.069942', 'SC402', '-121.9681625366211', '403.4', '37.2262077331543', '5.185343', '361*HAMILTON*AVE', '71.36', '452763', '105.0125', '65.2', 'ALFONSO', '104.28', '85.6', '388658', '92.1625', '459184', '37.29253768920898', '777*STORY*RD', '-122.468396', '5.518398', '3.37156', '-121.979125', '9.203129', '-121.94364409', '751*S*BASCOM*AVE', '-122.120489', '-121.849266', '1.477621', '37.39934158325195', '25.49', 'BENNETT', '431157', '750*S*BASCOM*AVE', 'ZINA', '9.591486', '334436', '63.0', '37.41511917114258', '37.30481719970703', 'CRAWFORD', '8.747042', '-122.076815', '157.6', '-121.936818', '37.32979965209961', '2.540165', '37.250137', '1.632963', '95.675', '427699', '1.281889', '-122.1031265258789', '8.765683', '975*BOYNTON*AVE', '38.7875', '2497*ROSSOTTO*DR', 'TINA', '44.885', '11.643875', 'CLINT', '6078*CRIMSON*DR', '94.04', '486201', '37.35359191894531', '-122.17666978', '213*QUARRY*RD', '0.635663', '72.04', '91.04', '22', '33.9725', '5.722207', '2.581797', 'MIN', '478887', '99.025', '37.372727', '53*LOS*GATOS*SARATOGA*RD', '37.440221', '80.2025', '65.36', '434762', '3.43494', '3826*7*TREES*BLVD', '1331*CLAYTON*RD', '6140*CAMINO*VERDE*DR', '147.68', '74.14', '82.195', '50.6475', '-121.84969329833984', '751*N*13TH*ST', '418.52', '11.652574', '478007', '227.76', 'ARAYA', '91.4875', 'SHERRY', 'AING', '5.294704', '-122.07913208007812', '37.288360595703125', '437895', '50.4225', '72.8', 'ZHAO', '99.7025', 'STACEY', '455010', '37.365309', '284573', '2819*BEECHER*CT', 'DENISE', '48.7775', 'DJADOUN', '86.6275', '308.4', 'MORENO', '173.825', '2324*MONTPELIER*DR', 'NAM', '10.865918', 'RIVAS', '-122.0801010131836', '103.8875', '2626*MUELLER*AVE', '8.845219', '5.370511', '481830', '76.21', '6.935124', 'FABILLARAN', '37.36481475830078', 'CAROLINE', '37.308869', 'WILSON', '-122.0043716430664', '14.815353', 'DARON', '29.945', '685*IRIS*AVE', '42.5225', '1200*LICK*AVE', '37.29084396362305', '-122.020642', '406.6', '126.165', '12.600786', '62.3225', '37.381961822509766', 'ERIC', '37.305172', '430018', '265.48', 'MADDOX', '9.291985', '2679*BON*BON*DR', '15400*NATIONAL*AVE', '73.375', '442184', '984*TAJI*CT', '418938', '59.7275', '-121.8240203857422', '484604', '95110', '50.15', 'FROESE', '27.9875', '37.2782096862793', '69.3125', '332.28', '444839', '54.575', '142.05', '130.4175', 'ROBEL', '80.225', 'FE', 'CHAU', 'XIONG', 'DELIA', '45.245', 'HAWKINS', '432485', '483401', '190*N*WINCHESTER*BLVD', '-121.91395568847656', '1880*N*CAPITOL*AVE', '12.88786', '0.628206', '-121.9717025756836', 'JOE', 'KHIEU', '461811', '37.385990142822266', 'PALACIO*ROYALE*CIR', '58.5', '35.8', '1333*MERIDIAN*AVE', 'TAK', '-121.847424', '152.0', '-121.841225', '6.695896', '-121.87735748291016', 'BERRY', '423302', 'ELDON', '130.575', '1.83988', 'HALLOCK', '60.4475', 'STEPANISHVILI', '10.738537', '126.255', '500*PASTEUR*DR', '37.38319', '122*SARATOGA*AVE', '1.775879', '37.25078201293945', '-121.951068', '125.4', '4.53166', '37.484931', '-122.15782165527344', '7.342122', '30.1475', '167.95', '86.75', '37.3990318', 'VIEIRA', '-122.01410675048828', '-122.0077133178711', '7.660264', '450*BROADWAY*ST', '37.35078811645508', '27.425', 'GLADYES', '37.347636', 'ABOY', '139.0125', '445496', '48.0125', '15.087514', '8.686769', '485015', '37.272817', '92.735', '80.68', 'CHI', '3036*BRADSHAW*DR', 'RILEY', 'SALCEDO', '12.099961', '53.325', '34.6025', '92.3875', '57.0375', '52.72', '37.45035552978516', '121.6', '5.77316', '37.29447937011719', '4.979047', '22.7675', '94538', '127.805', '427972', '111.02', '37.47474347944119', '388627', 'PABLITO', '28.8875', '81.7', '187.72', 'HUNTER', '-121.6590805053711', '-121.860458', '-121.848923', '-121.850567', '37.332648', '12.976095', '2516*SAMARITAN*DR', '464269', '49.115', '2000*MONTEREY*HWY', '155.2', '-121.9384536743164', '454054', '14.72774', '142.275', '8.876909', '3.2535', '37.38518', '37.43682861328125', '37.371952056884766', '424300', 'MEDINA', '1082*KIELY*BLVD', '37.262961', '37.34490966796875', '207.44', '-122.06970977783205', '74.2', '9.554203', '468479', 'CHERYL', '1267*MERIDIAN*AVE', '428680', '37.37845230102539', '5.698595', '-121.853417', '-121.96678161621094', '1430*OLYMPIC*DR', '43.535', '471277', 'MORTEZA', 'VARGAS-HERNANDEZ', '37.425486', '18.910189', '15.29878', '3.731955', '1109*FOX*HOLLOW*CT', '2126*PROVENMILL*WAY', 'OLIVIA', '-121.77358', '-121.810851', '64.925', '42.1625', '8.159846', '51.87', '19.234545', 'ROSS', '94305', '479121', '2519*BAYLOR*ST', '660*S*FAIR*OAKS*AVE', 'STEVEN', '-121.84119415283205', '71.4125', '4.664012', '37.27534866333008', 'JAIMES', '71.675', '10.3682', '424839', '-122.02383422851562', '72.6425', '259.32', '-121.9444580078125', '23.195', '83.275', 'KOREEN', '42.995', '1.432261', '37.28278350830078', 'PINKHAM', '2.016971', '75.77', '-121.93671958', 'PLUMLEE', '197.92', '15.152758', '5.900541', '339875', '-121.817141', '6.33053', '429915', '-121.9377899169922', '446849', '37.342859', '17', '-120.987519', '88.6', '3.547408', '-121.93732452392578', '595*HELZER*RD', '37.302845', '69.1', '4.053204', 'MELENDEZ', '-121.94821166992188', '86.2', '12.328626', '329607', '83.32', 'CONRAD', '74.635', '138.81', '100.1075', '37.432484', '1.204217', '8.280393', '374.96', '191.4', '37.465453', '239.56', '3*CIRCLE*STAR*WAY', '8.803587', '37.41140365600586', '390537', '-121.79773', '92.5225', '2194*BRISTOLWOOD*LN', '13.0', '37.29731777431733', '37.251942', 'CHUNG*(JOE)', '463.56', 'LUZ', '37.308163', 'BORDEN', '117.32', '30.7325', '463737', '37.352511', '439.76', 'AMB', '279.32', '30.755', 'TRINH-QUOC', '8.143691', '-121.948457', 'NELSON', '320*GRANT*ST', '92.05', 'MIROSLAVA', '388574', '37.369009', '-121.846966', 'CASTILLO', '3.653041', '151.165', '440198', '207.85', '-121.848909', '4.705644', '87.2', '472512', '474510', '700*AGNEW*RD', '475959', '-121.937128', '63.35', '34.4', '97.9925', '120.335', '22.3625', '37.252972', '-121.8886681', '37.365753173828125', '4.681411', '-121.944458007813', 'BLACKSHER', '36.2225', '81.7675', '96.0', '10.935512', '167*EDMONDS*RD', '1.539136', '5.421464', '621*TULLY*RD', '70.8', '5875*CHARLOTTE*DR', '104.795', '121.35', '388476', '59.025', '-121.789448', '37.45878329797554', '47.99', '37.301055908203125', '6.977377', '1077*E*SAN*FERNANDO*ST', '3.447367', '20.63', '4.379424', '479431', '48.1275', '220*MERIDIAN*AVE', '37.2519416809082', '37.32129287719727', 'LINA', 'TOTING', '64.4', '27.7175', '12.346024', '184.36', '-122.10137176513672', '12.879782', '63.8325', '15195*NATIONAL*AVE', '64.5525', '32.375', '78.9775', '4.176236', '2639*BRAHMS*AVE', '83.9375', '193.48', '58.385', '-121.93266476336204', 'LEPISI', '37.35033798217773', '37.342148', '74.6', '214.0125', '52.0', '-122.1419808', '37.400508880615234', '1260*PIEDMONT*RD', '-121.93265', '-121.877709', '75.4', '196.6', '477372', '96.975', '9.59335', 'CHU', '171.9', '140.42', '-121.800425', '213.6525', '-121.89218139648438', '225.8025', '422607', '106.9925', '108.25', '95134', '162.55', '131.48', '82.115', 'HSU', '-121.944313', '388888', '30.007257', 'WEBB', '90.835', '-121.994908', '37.33570861816406', '78.73', '230.8', '472531', '37.784355', '19', '10.475697', '112.985', '8.164196', '228.57', '38.0225', '442.8', '218.85', 'LEO', '37.34285736083984', '82.6', 'MORILLO', 'LORRAINE', '11.528921', '5.349385', 'HOA', '94158', '37.29793', '3230*SIEBER*WAY', '146.36', '37.31555938720703', '26.705', 'XIAN*BIAO', '-122.050784', '7.225926', '282.85', '95.0', '80.53', '0.828288', '37.332112', '37.29574966430664', '-121.8455810546875', 'PHUNG', '9.858675', '32.42', '54.9', '-121.89272', '16.995123', '49.7', '60.08', '-121.9790364', '91.84', '69.65', '-121.59493255615234', '61.325', '31.925', '6.465367', '4.43659', 'RUPERTO', '431693', '37.35576248168945', '14', '228.36', '185*ECHO*AVE', '41', '350*HAWTHORNE*AVE', '2580*S*BASCOM*AVE', '460*PERSIAN*DR', '-121.84890747070312', 'CLAVER', '1905*W*EL*CAMINO*REAL', '1140*OWSLEY*AVE', '95123', '388622', 'MACKELL', '37.35889434814453', '-121.94716', 'JEFF', '-121.936754', '-122.19284', '2.205868', '0.748752', '154.02', '425405', '419262', '-121.83301544189452', '49.7225', '25.1075', 'GUERRERO*MORALES', '75.085', '454060', '104.4725', '-121.951642', '-121.87736', '92.9275', '122.04', '299.24', '4.278762', '37.3', '2.745218', '99.68', '2.485485', '-121.8917007446289', '37.41714096069336', '10.324704', '-121.888064', '37.25077819824219', 'SANDRA', '52.4', '15.18', '198.825', '5.230703', '12.195031', '422720', '3.541194', '7.079282', '37.309221', 'POLICARPIO', '87.84', '95.03', '167.92', '468045', '37.241191', '87.46', 'TAMONDONG', '42.0725', '27.518665', '2105*FOREST*AVE', '133.5', '-121.85256958007812', '82.3975', 'FNU*JIVAN', '12.324898', '-121.954257', '1147*LEIGH*AVE', '5.479251', '29.21501', '388505', '243.08', '388677', '93.6', '50*GLEN*EYRIE*AVE', '80.85', '246.075', '2.295345', 'BEVERLY', '6.60269', '8.07', '-121.931383', '-122.082316', '123.7775', 'CASTILLO*ALVAREZ', '16.546494', '351.4', '1579*DENALI*WAY', '614*TULLY*RD', '201.4', '37.2990997', '190.76', 'GWENDOLYN', '37.29072189331055', '66.05', '311.48', '891*WYMAN*WAY', '37.3267445', 'MORALES*VELASQUEZ', '37.427723', 'MOEUNG', '88.0', 'PARRISH', '64.6325', '37.4052619934082', '31.5425', '37.31797790527344', '93.67', '37.434301', '37.295745849609375', '3.895376', '12.882268', '222.8325', '427.32', 'TARABEN', '392.2', '127.65', '771*OPAL*DR', '419439', '73.12', '-121.9378560902118', 'ESTELA', '83.0', '-121.87620544433594', '-121.820332', '59.9975', '89.4175', '37.427782', '7.757819', '50.85', '62.84', '-121.82691192626952', '27.5825', '469252', '6.101244', '454136', '202.2', '282.12', '5.173537', '68.3', '-121.997478', '37.456635', '102.88', 'MAKINOMBOUMBA', '230.4825', '76.5575', '88.63', '6.039728', '37.317361', '70.675', '37.361577', '2179*CINDERELLA*LN', 'IBANEZ', 'GARR', '37.26337863', '37.29698181152344', '57.15', '-121.99909973144533', '5.123205', '63.17', '37.38031768798828', 'GLORIA', '-121.92080688476562', '2581*SAMARITAN*DR', '427064', '6.613254', 'ELIZABETH', '360*S*CLOVER*AVE', '35.3225', '2452*WATSON*CT', '-122.22463989257812', '4.270063', '37.301788330078125', '124.72', '-121.8491523', '102.3775', '2', '37.371524', '94.9075', '2.957727', '-121.9719696044922', '-121.907866', '37.31562805175781', '1055*PAINTBRUSH*DR', '224.96', '4155*MOORPARK*AVE', '388689', '-121.86470794677734', '178.52', '75.14', '461815', '985*REED*AVE', '37.299461364746094', '177.8925', '37.322465', '15.119204', '-121.838105', '-121.850319', 'ORTEGA', '473431', '159.48', 'GAUDIOSA', '69.4', '37.31011199951172', '445536', '-121.80624389648438', '37.362705', '888*S*BASCOM*AVE', '753*SARATOGA*AVE', '452812', '70.76', '37.348087310791016', '420.9', '56.2625', '52*KEYSTONE*AVE', '53', '6.630652', '37.33657455444336', '94.69', '1.99833', '3981*STEVENS*CREEK*BLVD', '5.591098', '37.342631', '46', '10.004076', '276.52', 'THIEU', '37.361163', 'SPNWC', '299.04', '93101', 'VASQUEZ*LOPEZ', '143.85', '415.48', '750*N*CAPITOL*AVE', '-121.914344', '415878', '96.155', '37.3851776123047', '-121.904452', '3.246043', 'SOCORRO', '196.4175', '485895', '24.005', 'MONICA', '84.04', 'BADE', '3.749354', '9.382705', '-121.95338439941406', '427540', 'BAU', '9.223634', '93.9175', 'LEON', '730*EMPEY*WAY', 'CAO', '296.85', '61.0', '37.37517929077149', '42.05', '-121.8153305053711', '41.7575', '-121.896665', 'MIGUEL', '7.209149', '141.6675', '50.49', '22.475', '18.812014', '-121.9442732', '5.432648', 'SCOTT', '93.48', '85.68', '37.41765594482422', '254.0', '37.24099349975586', '178.96', 'LIBORIO', '36.475', '35.21', '5.22946', '2.034369', '701*CURTNER*AVE', '16.764595', '-121.94920349121094', 'VICTORIA', '147*CRESCENT*AVE', '25.085', '422014', '37.145', '463149', 'TERESA', '481753', '1310*S*MARY*AVE', '78.055', '14.788013', '-121.87579345703124', '2705*GLEN*FERGUSON*CIRCLE', '-121.947181', '37.25076675415039', '37.35953521728516', '-121.9533833', '170.92', '6.248509', '70.92', 'PORTALES', '101.9975', '3.988582', '-121.850628', 'THANG', '37.35115051269531', '37.2925394', '26.3', '204.2', '4.559', '83.88', '-121.98339080810548', 'VADIM', '-121.959937', '-121.96689', '150.8025', '-122.406108', '73.24', '-121.84915161132812', '37.262125', '11.497853', '37.368307', '37.2734260559082', '11.18841', '-121.88804626464844', 'RAFAEL', '160.12', '37.325', '7.757198', '325.45', '121.9575', '10.139535', '101.015', '5.467445', '37.3216552734375', '3.096293', '-121.82721710205078', '5.417114', '73.7975', 'DOWREAUNG', '451757', '1291*S*BERNARDO*AVE', '-122.15821838378906', 'PILAR', '479244', 'VITA', 'MARIN', '113.24', 'BERNARDEZ', '3.085108', '388541', '9.894715', '93.44', '39.35', 'ROBERT', '75.49', '-122.13330841064452', '66.5225', '5.069146', '3.446746', 'MARCOTT', 'TU', '72.655', 'TORRES*SIERRA', '195.04', 'LUONG', 'THUAN*SUI', '78.505', '107.195', '4.172508', '452394', 'SANTOS', '4360*STEVENS*CREEK*BLVD', '388723', '12.134758', '37.323925', '483417', '171.4', '8.889336', '987*PREVOST*ST', '-121.81830596923828', '28.9775', 'ANTHONY', '1920*GLEN*UNA*AVE', '37.235', '471488', '2110*FOREST*AVE', '419281', '37.2401061', '-120.3198406', '5.043049', '15.052717', 'JUANILLO', '210.28', '2040*FOREST*AVE', '-121.96530151367188', '-121.962473', '10.94856', '471511', '71.135', '410.28', '-122.187556', '11.216993', '479827', '1320*WABASH*ST', '167.32', '184.08', '105.305', '212.55', '9.722595', '37.5275', '209*MCCREERY*AVE', '-121.8279037475586', '54.65', '171.6', '118.085', '12.36218', '1.134624', '30.53', '-122.390147', '-121.9529345', 'HONGYEN', '486768', '48.195', '1.537894', 'MIRELES', '34.625', '177.04', '133.96', '438.44', '6.310024', '61.4925', '8.322646', '37.34988784790039', '2.104584', '12.456007', '4.370725', '3131*OAKBRIDGE*DR', '37.32992172241211', '-122.0791473388672', '-121.93157196044922', '37.32392883300781', '470600', '477457', '9.592107', '210.165', 'SOUTH', '-121.8160400390625', '37.2583236694336', '5.893706', '484015', '266*N*JACKSON*AVE', '39.0125', '1.906367', '54.965', '228.55', '-121.84574127197266', '481864', '50.015', '462990', '0.94697', '15.319285', '3251*S*WHITE*RD', '5.976348', '10.185517', 'SARTE', '37.2857666015625', '409.44', '37.362537', '15.032833', 'ELEONOR', '38.6525', '48.45', '37.38459777832031', '37.326345', '801*WELCH*RD', '-121.972022', 'FARNSWORTH', '2030*FOREST*AVE', 'TRAN', '37.435506', 'RICHARD', '86.6375', '82.93', 'JIEQUN', '78.4375', '106.16', '33.073723', '37.263757', '37.30255126953125', '37.250782', '-121.875796', '37.33278495188674', '33.815', '13.539057', '60.0', 'RESENDEZ', '2.096506', '434.4', '135.84', '8.585486', '16.033241', '42.9275', '6.111807', '-121.8525161743164', '20.675', '196.35', '37.32041931152344', '3.618866', '37.308103', '11.520222', 'LAN', '5755*COTTLE*RD', '1355*CLAYTON*RD', '388526', '67.9625', '446024', '270*ESCUELA*AVE', 'COLLINS', '119.075', '-121.93331807295192', '302.6', '7.330316', '275*DI*SALVO*DR', '121.9125', '457293', '39.305', '9.782247', '-121.8320541381836', '1.796384', '185.52', '89.7775', '37.3239', '130*VALE*ST', '62.255', '54.75', '15891*LOS*GATOS*ALMADEN*RD', '443996', '456983', 'MADGE', '430781', '51.705', '472283', '3.954406', '-121.89491271972656', '484883', '5878*GARLIC*FARMS*WAY', '-122.077112', '217.995', '455403', \"231*O'CONNOR*DR\", '37.331201', '435924', 'ALLEN', '-121.89128875732422', '-121.81209564208984', '37.247862', '37.250832', 'SC106', '3.008058', '-121.952439', '5.424571', '475942', 'HAI', '88.2925', 'BREDEK', 'VADA', '1295*MCLAUGHLIN*AVE', '37.485471', '412.52', '166.12', '2449*S*KING*RD', 'RUTH', '37.314361572265625', '388498', '-121.9719723', '54.675', '122.1325', '57.225', '79.1225', 'SC203', '63.72', '-121.833027', '-121.87662506103516', '37.3819633', '-121.93729400634766', '423499', 'EDGAR', '3.88357', '51.68', '37.251936', '0.416319', 'SUSAN', 'CHRISTINA', '54.47', '-121.87936795582507', '-121.98545837402344', '209.175', '10.815587', '95127', '135.705', 'TO', '94089', 'VALDEZ', '55.12', '388934', '324.35', '-122.1583480834961', '12.938191', '-121.9326629638672', '110.93', 'CHRISTOPHER', '11.949589', '257.1', '7.106001', '50.915', '427104', '30.9125', '293.48', '88.0225', '433433', '458562', '37.333161', '8.242489', '168.56', '458741', '201.66', '23.071512', '482046', '1042*CRANBERRY*DR', '41.96', '428208', '37.34334945678711', '213.24', 'BEASLEY', '37.314208984375', '29.3375', '4.837375', '7.62671', 'BICKHART', '291.027', '60.8825', 'MARTIN', '415881', '37.361518', '100.175', '37.29793167114258', '471719', '449.24', '109.85', '12.290101', '7', 'JORGE', '2101*FOREST*AVE', '477852', '1.667139', '-122.006528', '37.26078414916992', '-121.9573808', '161.92', '228.345', '69.7925', '486871', '179.32', 'JAYENDRAKUMAR', 'BADILLO', '30.89', '4.097943', '85.52', '350.56', '812*SARATOGA*AVE', '14.630185', '473586', '53.8625', '390530', '260.28', '25.181688', '37.336341', '37.3645133972168', '82.825', 'LEOPOLDO', '-121.85143280029295', '3.595875', '66.8825', '471049', '124.5425', 'DANG', 'RUANO', '101.52', '-121.86119079589844', '10.768984', '480547', '0.872405', '37.251763', '-121.748092', 'PANG', '-121.835358', '1290*TULLY*RD', '-121.84122467041016', '37.318607', '0.600866', '13', 'CECILIA', '9.966794', 'XA', '37.326871', '103.6825', '16.998852', '251*BRANDON*ST', '70.325', '185.3', '159.69', '37.35641479492188', '2505*HOSPITAL*DR', '2.207732', '37.31490707397461', 'CAROL*ANN', '-121.846153', '5.562515', '37.42379760742188', '61.32', '477206', '130.48', '3240*ALPINE*RD', '-122.02188873291016', '440199', '143.6475', '7.331559', '37.30512237548828', '37.31605516', 'BOHNA', 'SC110', '-121.824018', '38.2925', '2.740247', 'SC204', '435703', '6.566029', '-121.934817', '82.3625', '430697', '2032*SOUTHWEST*EXPY', 'RUBEN', '388698', '1250*S*WINCHESTER*BLVD', '6.674769', 'JINYUAN', '210.12', '22.130135', '13.737274', '37.36268997192383', '37.25193786621094', 'LEONEL', '87.73', '0.301365', '37.422703', '28.595', '44.075', 'ZHU', '1029*E*CAPITOL*EXPY', '37.361581', '107.56', '-121.95106506347656', '-121.81915283203124', '388483', '124.745', '37.282763', '76.1525', '4582*SONATA*WAY', '1.496262', '101.255', '109.0625', '9.141613', '-121.849642', '388494', '-122.09510040283205', '134.1975', '37.352802', '388567', '89.5525', '178.44', '2.204625', '-121.7651423', 'GONZALES', '250*INTERNATIONAL*CIRCLE', '37.2457160949707', '0.946348', 'ROLANDO', '439288', 'JOANA', '8.581136', 'VALENTIN', '104.6075', '37.3160700378249', '54.2925', '-121.829656', '37.296607971191406', '0.577254', '50.0', '13.43156', '13.319092', '5353*ALMADEN*EXPY', '294.36', 'OWEN', '79.865', '2702*AUGUSTINE*DR', '65.92', '37.3160551622205', '78.425', '388482', '201.92', '37.35160827636719', '4008*MCLAUGHLIN*AVE', 'PENKE', '95130', '4906*EL*CAMINO*REAL', '37.276755', '30', '9.937589', '204.45', '37.32246398925781', '371.89252', '139.73', '88.54', '770*1ST*ST', '78.8375', '131.475', '77.04', '70.63', '391*BAY*ST', '1275*CRANE*ST', '84.28', '37.309243', '-121.885512', '-121.96239471435548', '449937', '476751', '37.364211', '37.321712', '-121.9315708', '8.920405', 'GOMEZ', '-122.108079', '12.641797', '375*OAKTREE*DR', '86.68', '37.28315353393555', '-121.8183148', '6.549252', '305*W*MAIN*AVE', '-121.89418029785156', '662.073', '37.38294219970703', '-121.92857360839844', '83.915', '-121.7480926513672', '461153', '15981*LOS*GATOS*ALMADEN*RD', '37.262977', '31.475', 'BRAVO', '37.401161193847656', '-121.85052490234376', '37.955', 'Thursday', 'SPNSTR', 'MOSES', '420587', '37.433049', '468046', 'GAMENG', '37.397918', '8.289092', '-121.850262', 'SC401', '1041*THE*ALAMEDA', '-122.0330047607422', '37.365158', 'NGO', '37.314971923828125', 'GYPSY', '2.213946', '10.817451', '201.075', '155.8', '650*TATUM*AVE', '221.7', 'JAIN', '7.389346', '152.84', '29.45', '9.795295', '450718', '-121.89273071289062', '37.35994338989258', '13.370665', '106.7675', 'CALEB', '388472', 'MAI', '14.359888', '-121.9029513', '37.542757', '24.5', '-121.846871', '1.786442', '2.551971', '-121.9513702392578', 'JOAN', '462296', '388820', 'KHAVARIAN', 'JESUS', '13.741003', '441665', '1.76283', '278.24', '431337', '-122.23983001708984', '440924', '53.3225', '-119.714823', 'VUONG', '2205*POST*ST', '152.6', '-121.813423156738', '4511*RENAISSANCE*DR', '213.2475', '24.2975', 'MONDRAGON*FLORES', 'HUI', '388488', '61.2125', '-121.93733215332033', '59.85', '71.48', '260.4', '37.31269117184052', '41.87', '18.678417', '-121.979049', '7.11905', '37.3343620300293', '4290*SAYOKO*CIRCLE', '-121.81693267822266', '38.5625', '37.241727', '-121.811386108398', '0.347346', '13.603058', 'EMILIA', '104.0', '88.6525', '430.28', 'GONZALO', '3071*ROSE*AVE', '37.457545', '57.8375', '-122.0417261', '8.3', '8.717216', '-121.856096', '10.870889', '37.356422424316406', '132.68', '1.609973', '37.3829433', '9.460376', '37.240988', '37.328441', 'TSUNGYAO', '37.368021', '-122.0051040649414', 'TICH', '486892', '64.6', '56.24', '37.316285', '135*N*JACKSON*AVE', '9.310626', '84.05', '35.9075', '129.225', '60.6725', 'ALMA', '25.6025', '147.8325', '89.6', '217.9275', '10.009047', 'VOLODARSKAYA', '219.4575', '135.92', '37.37371826171875', '20.28', '0.026719', '13.568261', '3801*MIRANDA*AVE', '81.925', '57.7925', '68.175', '3.753703', '0.869298', 'SALVADOR', '100.15', '-121.823066', '95117', '2500*GRANT*RD', '2.71912', '5.50597', '37.314208', '37.22894287109375', 'SON', '37.485734', '37.3120588', '37.009876', '460612', '37.367142', '136.68', '1124*PINE*AVE', '102.49', 'GELFER', '-121.87538146972656', '5.290354', '62.5475', '25.805', '96.9575', '10.506765', '388817', '470254', '459174', '1453*REVERE*AVE', '401.88', '5330*CAMDEN*AVE', '-122.07771301269533', '88.9', '-121.850267', '88.72', '24.7025', '87.55', '3030*ALUM*ROCK*AVE', '-122.079559', '158.25', '6.597719', '41.4425', '2660*GRANT*RD', 'ALEXANDER', '41.6', '19616*KIMBERLY*LN', '420*BROADWAY*ST', 'BENJIAMIN', 'ALICE', '25', 'BARRIENTOS', '99.64', '-122.00352478027344', '-121.89935302734376', 'LORETA', '32.9825', '36.875', 'PURITA', '7.891414', '116.0825', '128.4', '-121.85253143310548', '141.69', '481822', 'AZAR', '65.6225', 'MINH', '388484', 'BALEKIAN', '22.9925', 'GALINDO', '-121.843681', '141.285', '95122', '-121.92559051513672', '85.0', '-121.96273803710938', '36.6275', 'CHUNG', '37.48782791', '44.9075', '37.35599038094818', '940*STORY*RD', '223.035', '249.8', '37.377221', '984*TAJI*CT.', '61.3925', '28.055', '340552', '-121.938575', '437208', '4.867201', '10.299849', 'GAO', '45.925', '37.3633586', '469330', '400*W*RINCON*AVE', '144.9975', 'PHAM', '423196', 'LEI', 'CVITANICH', 'MICHAEL', '-121.9666537', '12.347267', '442452', '-122.084668', '3.513854', '185.0', 'JOLAINE', '0.0', 'KIEM', '471377', '-121.863037109375', '58.79', '37.264896392822266', '-122.2246437', '79.145', '37.30901336669922', '12.982308', '129.8325', '201.16', 'ROSALIND', '52.875', '94070', '4.419813', 'OLIVEIRA', 'JEFFREY', '969*STORY*RD', '-122.0222222', 'EDWARDS', '10.818072', '5.47863', '46.575', '61.9425', '469432', '1002*W*FREMONT*AVE', '87.145', 'NANCY', '229.0425', '8.658808', '45.675', '165.7', '875*BLAKE*WILBUR*DR', '275891', '67.4', '486100', '5.350006', '60.84', '84.15', '-122.0558090209961', '90.76', '-121.853813', 'JOHNNY', '137.5275', 'VEIKUNE', '10.455192', '555*MCLAUGHLIN*AVE', '81.55621', '9.851219', '186.8', '13.69005', '95119', '37.318607330322266', '103.32', '37.4008674621582', '442132', '137.96', 'STETSON', '463376', '-121.775502', '57', '-121.99766540527344', '37.40516662597656', '89.125', '37.357334', '13.373772', '-121.833423', '-121.81800079345705', '202.7175', '11.833393', 'LUO', '47.725', 'YUXIANG', '463624', '9.442978', '203.73', '10.590651', 'BOOKER', 'LIMA', '7.797587', '14.911045', '37.328983306884766', 'SURJIT', '79.1575', 'GIBBONS', '6.807743', 'KEVIN', '43.8275', '424181', '95120', '3.538088', '2.358104', '795*EL*CAMINO*REAL', '-121.8763', '-121.8635482788086', '5.223868', '443600', '388896', '26.8625', '-121.96530327', '479119', '72.1325', 'EDITH', 'JOSE', '200.4', '37.30985641479492', '95032', '57.375', '7.630438', 'JIAN', '370.315', 'RENTERIA', '37.35015106201172', '37.2621955871582', '8.330724', 'HOUSING*2', '56.6', '1.05136', '37.02376937866211', '-121.8696060180664', '11.784926', '-121.90464', 'CONCEPCION', '108.5', '254.48', '142.95', '193.44', '47.7425', '37.2613525390625', '471515', '200*S*MARKET*ST', '12.342296', '233*E*SAINT*JAMES*ST', '85.72', '9.666672', '-121.94998', '28.4825', 'DELUCA', '7.975299', '22.655', '21.953045', '147.7875', '175.175', '84.9', 'MY', '110.8825', 'PACHECO', '307.55', '37.30152130126953', '455253', '3507*PALMILLA*DR', '318075', '9.078233', 'SCHUSTER', '9.551097', '248.15', 'KENT', '-121.78942108154295', 'SHOKAT', '-121.857753', '721*RAYMUNDO*AVE', '390531', '15215*NATIONAL*AVE', '-121.88009', '37.45754623413086', '102.0', '11.636418', '6.846889', '126.66', '40.835', 'ORDONA', '183.45', '1075*SPACE*PARK*WAY', '8.044271', 'GORDON', '10.089825', '75.9725', '34.0625', '328.96', '37.36916', '-121.826375', '175*N*JACKSON*AVE', '7.043242', '8.817879', '37.321224', '199.05', '155.92', '222.855', '45.0', 'ZAMORA', '9.537426', '-122.055806', '1326*PEACH*CT', '-121.937107', '2589*SAMARITAN*CT', '16.832323', '3.608924', '252.8925', '37.31351089477539', '111.9425', '37.252506', '206.7675', '3884*WIVEN*PLACE*WAY', '212.25', 'ROMINE', '37.390236', '122.3625', '81.8575', '37.321964263916016', '3.58469', '2111.185', '296.5', '-121.93370819091795', 'ESTRELLITA', '-121.908038', '13.526629', '182.795', '37.39339065551758', '23.910986', 'BEATRICE', 'RIBEIRO', '-121.84795', '12.546727', '7.700653', '31.79', '200*SERRA*WAY', '165.36', '74.41', '401.2', '37.441428', '62.7', '2555*ALUM*ROCK*AVE', '388585', 'VERONICA', 'LAZARO', '221.8875', 'BILIAMI', '94010', '228.75', '-121.8754089', '-122.03654479980467', '484060', '-121.81144714355467', '2.983824', 'CERVANTES', '95126', '134.175', '-122.081095', 'SALLY', '426356', '150.4', '94301', '481832', '22500*CRISTO*REY*DR', '1.856657', '75.6575', '100.22', '333*BLOSSOM*HILL*RD', '11.381035', '7.833627', '64.8575', 'SEMAS', '422833', '4.26882', 'JAMILIG', '15.631835', '37.39856719970703', '340106', '-121.827227', '21.514978', '75.95', '300*PASTEUR*DR', '452813', '-121.891468', 'XIA', '3.540573', '-121.83758544921876', '-121.978359', '37.28745651245117', '9.317461', '-121.8831024169922', 'JOY', '57.9275', 'KULKARNI', '13.690671', '1.473892', '10.56331', '37.326179', '180*N*JACKSON*AVE', '5.096487', '37.321575', '178.04', '291.7', '170.68', '24.76475', 'FRAZIER', '154.1125', 'RODRIGUEZ', '37.362969', '37.320418', '30.0125', '-122.19660186767578', 'GARY', '37.15', '-121.799353', '11.067864', '-122.05963897705078', '11.635176', '5.450668', '680*WILLIS*AVE', '34.2649', '136.65', '146.4125', '-121.98223114013672', 'RIVERA', '485071', 'DONALD', '437*WEBSTER*ST', '212.91', 'VANNY', '4.118448', '221.64', '5338*MONTEREY*HWY', '1350*GRANT*RD', '-121.860576', '27.965', '218.45', '2.147459', '37.253341', '486353', '7.788267', '-122.169397', '420.45', '475647', '43.085', 'ESTELLE', '37.29832077026367', '7.865317', '447897', '-121.92809295654295', '7.450862', '-122.11798095703124', 'VAN', '103.72', '-121.91144561767578', '-121.933504', '71.855', '105.91', 'GREGORY', '37.311279296875', '37.33658981323242', '37.37659', '-121.828355', '37.31605559', 'Tuesday', '197.5425', '-122.06941986083984', '2.52401', 'LIENN*GOC*KIM', '84.8725', '142.9275', 'ESTHER', 'BARRETO', '6066*MONTEREY*HWY', '180.16', '37.326267', '424.5', '22.925', '-121.952693', 'LANH', '80.5975', 'SCHOENSTEIN', '0.976174', '24.8375', '6203*SAN*IGNACIO*AVE', '223.6875', '-121.819404', 'RAPOPORT', 'LIPOVETSKAIA', '5.921046', '67.715', 'MENDOZA', '-122.1057739854331', '20.246138', '76.8625', '37.321892', '95203', '60.325', '32.4425', '-121.90296936035156', '10.50863', '3.512611', '189.56', '9.431793', '96.6175', '158.8', '-121.83203887939452', '465*WILLOW*GLEN*WAY', '148.035', '3113.49', '-122.13834381103516', '35.2653', 'KUMUD', '138.2', '37.269006', '4.575156', '10.312898', '48.0575', '-122.05050179423333', '240.76', '49.61', '22.88', '95113', '500*E*CALAVERAS*BLVD', '12.472784', '255.08', '388525', '6.04532', '37.257022857666016', '-122.03067779541016', '37.3219597', '55*RANCHO*DR', '37.350788', '20.63698', 'SYLVIA', '37.314823150634766', '126.9525', 'BETH', '37.39995956420898', '98.2825', 'DUNIA', '13.346432', '0.914658', '64.89', 'SC206', '5.778131', '390539', '4.382531', '123*DI*SALVO*AVE', '468311', 'PATRICIA', '419443', '1090*QUAIL*CREEK*CIR', '-121.88970947265624', '28.73', '58.8725', '174.2', '9.201886', '65.2625', '13.60368', '0.295151', '388718', '177.825', 'DIANE', 'LOAN-KIM', '476534', '312011', '26.975', '37.38190460205078', 'JENKS', '37.36443', '37.33177947998047', '143.3325', '1.390007', 'ROSALINDA', '71.35', '303.6', '80.8', '452535', '73.025', '6.834462', '171.64', '37.435386', 'VANDANA', '37.3262825012207', '-122.187942', '37.315712', '13.828616', '485958', 'DINH', 'QUINLAN', '141.6225', '217.95', '-121.95284739251407', '5.231324', 'UMANZOR', '161.65', 'JOHN', '59.5025', '37.36469650268555', '4.07371', 'JAMES', 'PAMALEE', '271.15', 'PAUL', '5.330743', '8.189051', '9.759256', 'CLARO', '2.382337', '-121.95293426513672', '464603', '37.235674', '4.356433', '28.325', '2255*S*BASCOM*AVE', '36.4925', '82.375', '25*N*14TH*ST', '39.3275', '213.9', '2295*PLUMMER*AVE', '32.015', '76.95', '35.66', '-121.9029541015625', '192.95', '40500*PASEO*PADRE*PKWY', '178.955', '1103*AUDUBON*DR', '4.327229', '303097', '67.2875', '216.12', '-122.0236567', 'KHANG', '3803*S*BASCOM*AVE', '37.2843721', '37.251457', '87.5275', '88.2', 'ART', '2.830346', '93.175', '2.387308', 'SEWELL', '0.451115', '388501', '168.44', '2.091535', '69.875', '170.76', '25.4', 'YBARRA', '2490*HOSPITAL*DR', '23.1275', 'WU', '169.94', '42.2525', '37.330982', '37.35707473754883', '5.226974', '37.444168', '436969', '470*BLOSSOM*HILL*RD', '224.72', 'PAGE', '3.98796', '13.058116', '448411', 'SUSHIL', 'DEBBIE', '20.72', '37.329922', '7.407987', '-121.79744720458984', '-121.793711', '-121.844866', '424845', '6.070175', '9.610127', '94306', '37.325271', '62.46', '5.527718', '252*SORRENTO*WAY', '251.655', 'LUIS', '318.44', '-122.087077', '93.8275', '37.44872283935547', 'BOOTS', 'CHRISTINE', '129.45', '10.401132', '700*W*PARR*AVE', '87.72', '182.375', '95051', '-122.018348', '471476', '37.293376', '26.7725', '-122.03044891357422', '-122.140205', '260*INTERNATIONAL*CIR', '37.3028450012207', '480968', '2028*TRADAN*DR', 'LANGNER', 'OKAMOTO', '99.76', '38.45', '93.805', '57.2375', '12.471541', '186.88', '37.308551', '68.04', '37.3155593', '-121.937552', '781*SHARMON*PALMS*LN', '696*E*SANTA*CLARA*ST', '23.015589', '3.431212', '37.362046', '-121.966869', '-121.909329', '486102', 'HUDA', '134.28', '270*INTERNATIONAL*CIR', '37.266979', 'ELUMBA', '6.95128', '-122.07955932617188', '88.84', '37.34256', '72.78', '457679', '473755', '-121.947186', '443818', 'VUCETIC', '14500*FRUITVALE*AVE', '-121.66036987304688', '470232', 'LAWRENCE', 'NAVA', 'YESENIA', '1085*W*EL*CAMINO*REAL', '37.2500263', '-121.94428', '150.375', '6.467231', '172.68', '247.0125', '88.7875', 'HENDERSON', '37.33200454711914', '188.84', '12.096233', '465095', '2425*SAMARITAN*DR', '13.020212', '452112', '35.345', '47.27', '3.052175', '246*RANCH*DR', '187.88', '76.3225', '56', '200.0', '71.3375', 'KENWORTHY', '37.40153121948242', '37.40148162841797', '67.625', '-121.875006', '5.412764', '155*NORTH*WOLFE*ROAD', '242*RANCH*DR', '76.75', '-121.8324966430664', '26.239883', '183.4', '37.244402', 'MURGUIA', '292.25', '4.767781', 'JUANITA', '37.325603', '131.7675', '447366', '6.984212', '480956', 'DAO', '1.414862', '27700*MEDICAL*CENTER*RD', '477685', '8.309597', '171.6875', '-121.85601806640624', '36.2', '253.72', '37.311219', '758*RIELLY*CT', '-121.9509048461914', 'CYNTHIA', '37.31385040283203', '53.6825', '27.65', '440928', '15.175749', 'IRENE', '96.505', '4.688867', '115.36', '223.125', '115.6', '-122.109422', '54.88', '391099', '51.2', '100.32', '25.2425', '-122.08047485351562', '94.525', 'SOBERANIS', '19.344528', '234.28', '-121.950932', '299.16', 'CABALLERO', 'HELEN', 'MARYANN', '6.666692', '155*N*WOLFE*RD', '78.7525', '713*SANTA*PAULA*AVE', '126.8', '8.494144', 'LUCERO', '46.6175', '296.7', '408.24', '-121.923243', '14.443773', '4.505563', '2400*SAMARITAN*DR', '437387', '37.314491271972656', 'IRVIN', 'MANNA', '0.596516', '388980', '201.255', '1810*MARGARET*ST', '37.34215927124024', '441944', '1.284374', '-121.83810424804688', '10.388084', '6.759897', '149.04', 'JEW', '37.366923', '141.6', '70.6', '9.337966', '56.55', '260.2', '37.282785', '-121.797944', '66.095', '235.08', '12.885996', '471030', '40.925', '37.3626883', '2.404085', '37.32674407958984', '-121.96812', '139.625', '225.825', '33.395596', 'KEAN', 'HUYNH', '2.700479', '37.448489', '2.11639', 'MEDJEDOVIC', '46.19', '84.2425', '33.725', '128.8375', '436975', '-121.84420776367188', '184.64', '235.52', '4.626109', '37.377307', '-121.90352630615234', '37.343688', 'BWC', '485527', '-121.9284439086914', '-121.5676498413086', '388492', '280.28', '-121.87783813476562', '25.4225', 'MAHINDER', '99.35', '73.955', '9.878559', '26.255', '481143', '37.3155517578125', '5.512805', '5', 'JUAN', '-122.05561065673828', 'CARRICK', '37.37646865844727', 'FUJIKO', '449331', 'ORTIZ', '37.3261833190918', '111.875', '8.241867', '477855', '37.364828', '0.257869', '135.4', '212.7525', '8.835898', '12.619428', '41.9825', '3.809005', '127.84', '-121.84687042236328', '27.875', '37.309678', '6.236081', '29', '206.2725', '37.328704833984375', '245.0', '4.20544', '14.988716', '37.234883', '140.7', '37.12400817871094', '6.548631', '-121.84912109375', 'MANCHESTER', '107.6', '-121.977497', '112.325', 'XUAN', '-121.951688', '37.362844', '8.570573', '2706*MABURY*SQ', '391.5', '55.305', '309.96', '-121.848249', '-121.834602', '634*W*PARR*AVE', '37.38518142700195', 'BABAOGHLEE', '301*OLD*SAN*FRANCISCO*RD', 'COVELLO', '2728*OPHELIA*AVE', '248.8', 'KOLBASSOVA', '228.04', '13.996386', 'VIDHYABEN', '12.28078', 'TANORI', '37.3233552', '52.49', '3531*WEHNER*DR', '84.08', '-121.87916564941406', '11.103282', '319.2', '90.7', '-121.938367', '143.1975', '197.3625', '158.0', '77.3125', '94061', '94062', '-121.972334', '37.27776336669922', '-121.847442', '-121.918992', 'ARCELIA', 'OSTRANDER', '6.218062', '275*HOSPITAL*PKWY', 'BRIONES', '12.884753', '-121.937832', '61.6625', '11', '360*SHERIDAN*AVE', '479814', '5.51032', '-121.848594', '50.895', '1085*TASMAN*DR*SPC*176', 'VARGAS', '44.93', '79.04', '164.04', '1275*MEDLEY*DR', '7.08301', 'SC108', '26.75', '-121.584376', '-121.91210174560548', 'HAMBLY', '110.04', '13.209109', '37.364736', '54.975', '-117.66539001464844', 'WEISBROD', '12.33049', '449096', '37.344608306884766', '372.08', '37.433069614230455', '56.925', '71.92', '480625', '10228*BEARDON*DR', '54.0875', '2608*BRAHMS*AVE', '37.25196838378906', '6.477795', '92691', '244.3875', 'DHALIWAL', 'VALLEJO', '-121.914882', '450443', '-121.879163', '14.134952', '2.74149', '36.9425', '37.31841659545898', '9.856811', '-121.803481', '29.675', 'STEPHEN', '260*INTERNATIONAL*CIRCLE', '62.45', '-121.78752136230467', '76.4', '443.28', '3.432454', '20400*SARATOGA*LOS*GATOS*RD', '139.125', '401*OLD*SAN*FRANSICSO*RD', '-121.87755', 'ALBERTA', '68.9175', '5.217033', '-121.974103', '75.1075', '37.382395', '82.88', '204.4', '244.76', '88.36', '37.38459014892578', '5.957086', '76.0', '32.32808', 'MARCELLOUS', 'MARGARET', 'BEGUM', '13.221536', '64.2', '5.345035', '4070*SACRAMENTO*AVE', '131.25', 'VALEENA', '73.1275', '34.04', '3.687217', '199.8', '434756', '478096', '-121.93856811523438', '59.48', '-121.98506927490234', '2.20711', '66.1175', 'ALBERT', 'ROBERTO', 'RAMOS', '103.8', '37.351109', '1248*NELSON*AVE', '205.4175', '-121.81676483154295', '8.945881', '49.745', '75.6925', '94303', '0.6978', '1.746674', '430171', '83.015', '25.729738', '9.646788', 'FUJIMOTO', '24.59', 'ERLINDA', 'KIMBERLY', '725*RIDDER*PARK*DRIVE', '8.48793', 'ANITA', '2.223887', '102.4675', '-121.8007', '407.04', '110.48', '426358', '90.08764', '465764', '12.51', '-121.9452896118164', '2220*MOORPARK*AVE', '37.32329177856445', 'MONTOYA', '34.715', 'TIMOTHY', '55.375', '42.86', '421842', '7.461425', '418428', '13830*WESTBORO*DR', '160.28', '92.995', '390529', '17.241808', '47.63', '2810*ALUM*ROCK*AVE', '390533', '-121.91571044921876', '960*CLYDE*AVE', '49.725', '463273', '5202*SILVERCREST*RIDGE*CT', '-121.93138122558594', 'HERCULES', '-122.0132827758789', 'ELPIDIO', '-121.807209', '-122.201818', '422452', '27', '37.364767', '84.58', '467904', '88.45', '445278', '58.76', '-121.94532775878906', '10.524164', '37.301782', '433660', '51.1', '7.378162', '137.46', '80.445', '-122.11335754394533', 'JA', '3.548651', '87.6', '78.4825', '143*N*MAIN*ST', 'YUANJIE', '37.252645', '7.62236', '37.02638244628906', '3180*FLINTHAVEN*DR', '437377', '-122.163385', '337.32', '37.30427551269531', '-121.948511', '55.0', '34.9', '37.30266571044922', '37.32265472412109', '289726', '105*N*BASCOM*AVE', '445109', '147.63', '88.865', '2.809841', '79.9', 'MARIA*TERESA', '94022', '486507', '485930', '-121.825076', '-122.16338348388672', '388615', '8.390375', 'VILLAMARIA', 'PHAN', '81.9925', '68.085', '710*LAWRENCE*EXPY', '35.9975', '37.432013', '37.30619812011719', 'MAURICE*MOHAMED', '390535', '299.32', 'QUACH', '37.230918', '37.229485', 'ULTRERAS-BANUELOS', '1.956698', '146.6', '1174*CASTRO*ST', '100.8', '137.1675', '65.825', '879*PADOVA*DR', '140.4975', 'CERENA', '3779*HONOLULU*DR', '28*S*10TH*ST', '1642*QUEEN*CHARLOTTE*DR', '187.55', 'THOM', '5.431406', '18.780323', '5095*ALMADEN*EXPY', '427983', '179.2', 'LUHRING', '4.115341', 'BENAVIDES', '247.68', '37.250796', '483825', '2323*MCKEE*RD', '58.445', 'FLITMAN', '13.189225', '52.715', 'SC104', '9.793431', '7.979649', '2.962076', 'MAXIMILIANO', 'CARL', '109.44', '85.28', '409.6', '13.584417', '37.31127166748047', '6850*SANTA*TERESA*BLVD', '52.1975', 'TABURADA', 'WALSH', '0.651818', '77.08', '-121.8114', '472336', '390538', '3.282704', '14.23375', 'COSTELLO', '31.16', '37.35078430175781', '37.2519668', '20.0', '124.14', '178.36', '26.3225', '-121.950542', '-121.88863372802734', '8.033087', '-121.84367370605467', '428865', '-121.934814453125', '456214', '257.28', '215.4975', 'BRAD', '421.4', '71.795', 'VIZCAYA', '77.9425', '-121.95269012451172', '3425*S*BASCOM*AVE', '99.97', '275*DI*SALVO*AVE', '37.3136082', '701*E*EL*CAMINO', '9.979221', '2495*HOSPITAL*DR', '86.4925', '37.320091247558594', '57.9', '1260*W*VINE*ST', '22.701797', '31.8575', 'SWANSON', '57.95', '4722*MOORPARK*AVE', '29.584724', 'KAREN', '37.24755', '3.491485', 'AZIZIANKIA', '37.33907318115234', '469261', '37.3143625439633', '37.31129777', '4.820598', '54.9125', 'CHUN', '4.384395', '-121.818003', '199.55', '93.28', 'MARIA*ELENA', '97.0475', '13.342082', '302.84', '72.26', '9.196294', 'BERMILLO', '447498', '37.301917', '56.7675', '428232', '200.715', '104.47', '10150*TORRE*AVE', '15055*LOS*GATOS*BLVD', '4.917532', '69.56', '37.323917', '6.746848', '2.778151', '-122.2829619132396', '2118*CANOAS*GARDEN*AVE', '199.14', '14.4649', '-122.069427', 'STEINBERG', '94541', '11.975687', '6.961221', '95135', '27.582047', '310230', '37.315553', '43.4', '3.334899', '55.34', '12940*SARATOGA*AVE', '37.262743', '11.755722', '37.30635833740234', '-121.800626', '1321*ISENGARD*CT', '15.007357', '1611*OXFORD*ST', '105.5725', '83.51', '37.24755096435547', '37.29319381713867', '-121.913537', '246.12', '42.6575', '91040', '56.135', '37.322025299072266', '37.317359924316406', '5.146818', '74.625', '10.25511', '388690', '1650*CHABOT*WAY', '-121.90933227539062', '2365*QUIMBY*RD', '14.499697', 'DIONISIO', '59.08', '10.163147', '34.427693', '6.210605', '21.35', '2102*GALVESTON*AVE', '37.3021354675293', '37.40682220458984', '6.014252', '-121.89146423339844', '7.529776', '37.32392501831055', '176.655', '81.5375', '32', '80.48', '473380', '60.345', '3.881706', '58.49', '12.394491', '35*S*13TH*ST', 'MU', '9.424958', '37.36700439453125', '201.44', '37.38335037231445', '37.57516098022461', '155*N*JACKSON*AVE', '31.7', '37.33316040039063', '94115', '1356*RIDDER*PARK*DR', '429922', '-121.91487884521484', '323365', '127.6', '82.0375', '37.3655383', '37.317978', '54.56', '152.4', '-121.9441648', '9.443599', '224.0025', '-122.03131', '12.578417', '75.85', '-121.919593', '2690*S*WHITE*RD', 'HERNANDEZ', 'ALBERTON', '207.375', 'Wednesday', '37.382005', '30.485', '11.521465', '462140', '106.8', '129.855', '-121.81907653808594', '26.257282', '43.6475', '37.307193', '104.855', 'SINGH', '37.226209', '96.885', '37.376467', '171.92', '237.72', '209.1975', '6.048427', '59.6225', '2.615351', '471381', '96.9125', '146.8875', 'RAINS', '905*MAPLE*ST', '37.24431610107422', '60.28', '43.45', '-121.846825', '37.34201431274414', '12.352238', '26.0975', 'HOUSING', '71.045', '207.1275', '6.24913', '-121.88854210091424', '14651*S*BASCOM*AVE', '451*SHERMAN*AVE', '10.628554', '37.366508', '6.82017', 'MARTINEZ', '9.372142', '-121.79774', 'KY', 'GURMUKH', '-121.968351', '388555', '-121.78261566', '37.342514', '82.6325', '444003', '2294*BERKELEY*WAY', '37.37996673583984', '236.68', '2825*EL*CAMINO*REAL', '-121.94012451171876', '77.6', '37.31731033325195', '29.405', '37.327774', '15.81079', 'GOLLA', '10.614884', '-121.79370880126952', '250.4', '97.925', '14.397171', '76.625', '297.6', '101.3', 'ANNA', '172.185', '-121.927333', '50.0375', '440461', 'LUOI', '66.12', '108.32', '-122.027599', '216.7125', '481655', '33.0725', '37.013079', '476007', '443962', '8.586107', '-121.83888244628906', '79.64', '11.0573', '37.35144805908203', '80.1475', '-121.81166076660156', '510.417', '-122.03305053710938', '19857*MERRIBROOK*DR', '8.888094', '2.957106', '14.661253', 'CLARA', '21.44', 'SOLIMAN', '249.72', 'LEE', 'PHU', '16.550222', '48.2825', '37.4257575', 'LUJAN', 'HONG', '149.44', '388867', 'THUBA', '-122.02375793457033', '37.3130065', '4511*RENAISSANCE*DR*APT*115', '388851', '85.44', '-121.932664763362', '-122.11965942382812', '100.895', '111.365', '24.725', '1949*GRANT*RD', '1430*BAL*HARBOR*WAY', '37.27675628662109', '4.403658', '138.9', '37.31349563598633', 'JAY', 'ADAMS', '4.630458', '147.92', '258.24', 'REGINA', '54.3675', '97.8775', '249.2', '232.68', '72.79', '-122.175263', '209.3325', '3.194469', 'THONG', '108.4325', '-121.95166778564452', '200.2', '3392*GRANADA*AVE', '-121.8505243', '-122.176238', '471470', '14.676788', '17.2648', '-121.850529', 'DIANNE', '66.2975', '1655*WINCHESTER*BLVD', '37.376552', 'CHAVEZ-VUSTOS', '5.267364', '47.0', 'NAIR', '399*SILICON*VALLEY*BLVD', '12.598922', '-122.14830780029295', '201.0', 'RAZZAQUI', '138.165', 'RUDY', '7.615525', '37.250789642333984', '477478', '7.787645', 'DEL', '46.2', '196.08', '1.623022', '2.439503', 'LUCILLE', '1.050117', '50.025', 'ARVIG', '-122.058888', '44.1425', '431892', '65.565', '63.1925', '13.500532', '-122.02257537841795', '423304', '37.262029', '2.035612', 'EDUVIJES', '99.8', '37.38991928100586', '180.48', '5.490436', '442683', '0.71147', '452395', '100.6475', '10.172468', '96.4475', 'COVEY', 'FRANCISCO', '94063', '428245', '1701*AIRPORT*BLVD', '14.989337', '104.36', '-122.05996704101562', '17.37478', '35.075', '472150', '103.1425', '32.0375', '94.625', '8.786189', '65.7125', '-121.94375610351562', '8.793024', 'TORRES', 'ESPERANZA', '388480', '73.195', '2.153673', '56.915', '438099', '29.99', '9.810208', '24.185', '81.79', '2.517796', 'JANET', '477833', '27.8525', '1299*S*BASCOM*AVE', 'GADDIS', '37.38186264038086', 'Saturday', '37.34762954711914', '5.241266', '-122.397405', '1331*CAMDEN*AVE', '532*S*9TH*ST', '478017', '5.312724', '2.830967', '38.7425', '-122.120499', '449.16', '37.28437042236328', '37.403263092041016', '1.140216', '204.08', '2440*SAMARITAN*DR', '130.525', '37.24335861206055', '37.470531', '25.175', '8.527698', '432.12', '66.95', '37.314973', '9.640574', '426354', '-121.948015', '37.3051719665527', '38.09', '8.290956', '419526', '5878*EL*DORI*DR', '110.4', '37.39896774291992', '13.52228', 'KEMP', '-121.94928741455078', '5.410279', '71.625', '106.24', 'MASON', '12.949997', '6.223032', '660*THORNTON*WAY', '423059', '49.5425', '485397', '-121.91062927246094', 'SABREENA', '67.92', '68.0', '413.0', 'JOHNSON', '464659', '5.169808', '217.05', '-121.83757019042967', '-122.0140431', '58.085', '55.92', '301900', 'TANNER', '37.3277', 'THINH', '3.433076', '456455', '71.99', '1450*SOUTH*WHITE*ROAD', '434985', 'HIRBOD', '127.2', 'MARILYN', '2.315229', '8.318918', '146.56', '-122.1418914794922', '452997', '15.869199', '8.164817', '12.369636', '37.1273193359375', '419519', '-121.8392333984375', '8.484202', '83.95', '91.375', '23.67', '74.725', '-121.8917009', '-122.39740753173828', '205.575', '1869*LA*PORTE*AVE', '2.579933', '67.8725', '37.31228256225586', '-122.01671600341795', '5.448183', '63.53', '440633', '35.93', '-121.571496', '-121.776262', '409.32', 'MANOHAR', '-121.89070892333984', '64.48', 'SHIU*SHIEN', '479120', '460430', '0.195732', 'THAO', '542.2', '108.79', 'CARDOZA', '-121.836543', '37.343337', '459001', '6.818927', 'MADDAMS', '-121.93477630615234', '5.506592', '38.9', '196.0', '-121.9790496826172', '370*NOBLE*CT', '-121.8282699584961', '0.874269', '211*S*1ST*ST', '114.62', '37.226153', '433453', '388691', '428398', '-121.92430877685548', '84.88', 'ESCAMILLA*LOPEZ', '201.56', '37.1675', '-121.99939727783205', '1450*S*WHITE*RD', '39.2825', '-121.89732360839844', '7.956037', '37.247209', '8.172895', '-121.9720230102539', '1683*SILVERTREE*DR', '6.811471', '58.16', '32.2625', '37.393984', '9.222391', '94028', '76.8', '198.3075', 'NELY', '124.9725', '7.114079', '143.28', '37.232184', '472343', '96.36', '1066*S*WHITE*RD', '96.08', '431512', '2065*LOS*GATOS*ALMADEN*RD', '406.8', '7.525427', '23.9375', '124.28', 'LARUSSA', '179.52', '6.955629', 'SWAILS', '12.227964', '37.332314', '32.3975', '401.90103', '464606', '37.369683', 'ANTONIA*F', '-121.8833236694336', '-121.960583', '391.85', '4.731742', '79.085', '43.675', '448098', '37.26994323730469', '73.6', '3.975533', '1.320414', '15.21738', '77.465', '37.320892333984375', '-121.96117401123048', 'MARCUSON', '37.369817', 'BETANCOURT', '-122.079557', '477862', '4.851045', '171.8', '33.56100082397461', '428209', '815*POLLARD*RD', '11.919764', 'GIRON', '388479', '7.84419', 'FARAHANI', '14.550028', '1.051981', '388537', '190.7', '68.4', '-121.878308', '33.95', '92.0725', '37.26993179321289', 'LIU', '630*N*JACKSON*AVE', '9.769819', '-121.81653316569516', '162.1', '207.6', '70.4', '83.595', '486112', '37.284182', '435946', '215.36', '121*BERNAL*RD', '484888', '14.19771', '83.16', '72.68', '454827', '10.25946', '-121.88713073730467', '56.375', '-122.07711029052734', '217.275', '2015*LADDIE*WAY', '37.38299179077149', 'NOLASCO', '250.6', '227.625', '37.322211', '423283', '469320', '65.6675', '-121.7993392944336', '114.12', 'WONG', '-121.81915', '-121.902973', '555*E*WASHINGTON*AVE', '-121.8600986', '-121.96781158447266', '37.36915969848633', 'MIYATAKE', '210.08', '65.255', '-121.89481353759766', '47.0475', '85.6375', '66.77', '463419', '121.305', '310.08', '55.25', '16.061203', '23.1725', '-121.93170216', '1053*S*9TH*ST', '96.12', '315.0', '94110', 'LOPEZ', '11.8', '60.975', '37.253472', '108.995', '217.0275', '28.64', '0.597138', '2555*BRENFORD*DR', '98.645', '649*E*CALAVERAS*BLVD', '37.485391', '26.12', '93.595', '37.320743560791016', '96.2', '10.507387', '3.97864', 'PEANG', 'SC205', '111.05', '463789', 'TRANG', '244.04', '85.08', '37.337028', 'AN', '5.283519', '37.230587005615234', '294.3', 'OLIVO', 'MILLAN', '43.6975', '483420', '448.2', '-121.946351', '37.26333618164063', 'SC107', '388994', 'BARBARA', '8.072855', '23.375', '189.6', '-121.936863', '-121.8092041015625', '-121.970319', 'DIEN', '37.22948455810547', '409.76', '46.3025', '5.074739', '-121.895877', '62.225', '203.4375', '919*S*ALMADEN*AVE', '79.6', '500*TULLY*RD', '-121.80360412597656', '14251*WINCHESTER*BLVD', '-121.99474334716795', '436249', '311*LOS*ENCINOS*ST', '1.71747', '67.1525', '202.65', '33.32', '300.56', '37.36335754394531', '166.4', '4.765296', '56.4', '5.131905', '60.635', '427982', '213.8775', '106.475', '24.86', '33.6575', '-121.85015869140624', '468284', '37.27691268920898', 'EMORY', 'XIUQIN', '474331', '72.7675', '8.368006', '388941', '451307', '5.299054', '98.4', '72.475', 'IOANA', '43.9175', '26.122444', 'HOWELL', '19.563871', '298.4', '37.34137', 'TRINIDAD', '15.218002', '121.6875', '65.1', '156.24', '-122.026659', '478592', '8.295927', '8.862617', '-121.958921', 'GARCIA', '71.8', '65.4425', '158*E*SAINT*JOHN*ST', '2.757645', 'AMAYA*LOPEZ', '132.375', 'WALKER', '37.237623', '-121.87889862060548', '96.6', '11.109496', '37.230265', '15.3168', '-121.945327758789', '177.625', '37.361209869384766', '-122.07138061523438', '6.526262', '471258', '-121.8462557', '22.79', '52.9', '3.374667', '2714*BELFAST*DR', '93.085', '188*DUANE*ST', '37.234458', 'MCCRATE', '101.2', '1216*FLICKINGER*AVE', '2.326414', '-122.082307', '-121.8932113647461', '3580*PAYNE*AVE', '149.005', '86.88', '37.35116958618164', '178.7925', '176.8', '-122.059964', '2331*MONTPELIER*DR', 'KUMIKO', '15', '137.1225', '391.7', 'PARRA', '3.689702', '293.4', '37.2261299', '89.17', '37.252894', '25.543327', '37.25297164916992', 'AGUILAR', '39.125', '37.32343549788695', '224.7225', '86.515', '-121.920808', '-121.8844757080078', '90.565', 'MCNIFF', '37.2569580078125', '212.5275', '37.322655', 'JORDAN', '459*MAYELLEN*AVE', '75.5', '4.804442', 'JOSHI', '37.315672', '17.60966', '-121.913952', '153.32', '29.63', '164.2', 'ROGERS', '438676', '468436', '-121.813107', '470060', '5.519019', '442183', '3.929551', '83.285', '-121.8480224609375', '466097', 'WICKER', '131.2725', '-121.81342315673828', '6.649293', 'VO', '37.261959', '7.120914', '-121.8864974975586', '14.182176', '-121.913528', '2.399736', '9.114894', '10.711197', '421.64', '51.3675', '52.1075', '5.957707', '340125', '100.0', '135.0', 'DONNA', '419029', 'MARIA', '11.216371', '463143', '37.250221', '467388', '-121.847262', '10.712439', '701*E*EL*CAMINO*REAL', '112.3225', '51', '10.754693', '153.57', '37.2932073', '290*S*7TH*ST', '461827', '37.35876083374024', '37.25579833984375', 'EHLERS', 'YENNY', '37.31607055664063', '37.3458251953125', '23.170933', '-121.865361', '56.8', '7.224061', '2.271112', '96.56', '337024', '12.447929', '4.959163', '37.328022', '-121.882137', '60.725', '873*CORLISTA*DR', '45.74', '388579', 'WILLIS', '2.159265', '-121.9337045', '88.81', '46.425', '3351*QUESADA*DR', '278.8', '37.255366', '37.345023', 'OSCAR', '828*S*WINCHESTER*BLVD', '-121.924667', '309.88', '200.3775', '253.8', '-121.94837951660156', '37.33645', 'WANG', '37.255408', '35.3', '9.861161', '-121.95093536376952', '37.46', '262.76', '388938', '-121.8529867', 'RONALD', 'BRIAN', '-121.811386', '449493', '37.35280227661133', '440454', '104.3375', 'TE', 'YE', '1.702557', '188.2', '114.3275', '9.52562', '37.23754501342773', '480965', '108.92', '430199', '72.5425', '11.645739', '12.449793', 'ART*CENTER-1', '224.3', 'GERRY', '113.56', '128.955', '37.575162', '37.33878707885742', 'NOAH', '-121.93236541748048', '-122.059423', '6182*COTTLE*RD', '7.613661', '1.389386', '441.52', '210*SAN*ANTONIO*CIR', '11.917278', '13.076135', '-121.900259', 'SILVA', '50.4', '388566', 'LARRY', '37.356531', '424843', '66.41', '-122.03001403808594', 'THO', '196.05', '-122.00270080566406', '9.704575', '14.788634', 'CATHY', '37.3341293', 'VINCENT', '427977', '-121.971977', '450299', '37.34162521362305', '14966*TERRENO*DE*FLORES*LN', '0.707742', '142.995', '47.97', '2465*DOBERN*AVE', '103.325', '-121.88853454589844', '117.23', '7.082389', '37.263292', '1649*NAGLEE*AVE', '50.22', '37.35652923583984', '471177', '51.66', '163.6', '-122.138941', '24.9725', 'REGALADO', '-121.87674713134766', '199.9725', '94.3', '12.441094', '1.692615', '7.777703', 'BRYAN', 'NGA', '1000*WELCH*RD', '320.6', '1.306744', 'PALLAYA', 'JAVIER', 'BENNING', '27.381964', 'RENALDO', 'GUILLERMO', '68.56', '63.8', '234.36', '95.31', '3.156566', '37.4031778', '53*LOS*GATOSSARATOGA*ROAD', '89.2825', '37.31916809082031', '37.299656', '37.31423', '7.189886', 'ZAHRA', 'CELINA', '292.08', '-121.916852', '3.784772', '-121.82125091552734', '471184', 'RODOLFO', '137.91', '7019*REALM*DR', '555*UMBARGER*RD', '-121.8134221', '-122.002699', '22.025', '59.075', '0', '1159*LEIGH*AVE', '87.7625', '435925', '30.305', '37.294212341308594', '470507', '14.198332', '76.76', '37.235572814941406', '5402*MESA*RD', '434557', 'MIODRAG', '5504*MONTEREY*HWY', '83.995', '486145', '-122.02222442626952', 'YETTER', '2.160508', '62.3', '305*SAN*ANTONIO*CT', '39.8', '37.240128', '-122.201687', '463305', '-121.82666015625', '204.66', '3.36721', '37.4684978', '86*CANADA*RD', '8.404045', 'SIMONE', '390523', 'CARDENAS', '-121.951895', '31.6325', '478323', '402.4', '235.92', '37.27708435058594', '120.585', '88.5625', '254.35', '417084', '79.1', '120.6', '-121.994215', '58.99', '14.385364', '-121.928447', '80.4', '484022', 'TA*LOUNG', '486503', '53.505', '-121.8221435546875', 'FRICKE', '83.4', '37.342565', '266558', '708*RANSON*DR', '101.92', '472950', '12.346646', 'OMIAT', '455*E*CHARLESTON*RD', 'FRANCOISE', '121.5975', 'DE', 'ROSIE', '1496*ALMADEN*RD', '479440', '72.9925', '75.6475', '37.31606674194336', '478044', '37.456586', '148.395', '70.135', 'HILL', 'GILMORE', 'STEPHANIE', '39.62', '74.56', '37.247178', '3.228023', '174.28', '13.245148', '201.9525', 'TUU', '2.368667', '70.68', '555*CASTRO*ST', '134.3325', '48.215', 'THUAN', '25.8275', '-122.040634', 'LOAN*KIM', '37.34974670410156', '445143', '37.36439514160156', '8.130642', '15.109262', 'LUCILA', '-121.9372923', '434.64', '298141', '81.12', '37.477653', '56.16', '52.7625', '6.367191', 'COLEMAN', '216.69', '5.212683', '455573', '10.860326', '-121.90445709228516', '-121.948879', '31.025', '53.2018', '218.1975', '2701*EL*CAMINO*REAL', '-122.177413', '388992', '52.13', 'SC301', '2799*S*WHITE*RD', 'NORTH*1', '93.36', '97.9', 'CRISPINIANO', '218.4', '146.4', '37.3401237', 'VERNA', '3.719528', '100.5', '0.351075', 'PARVIN', '37.302134', '1.623643', '69.28', 'ZHENCHI', '10.853491', '99.4', 'KEITH', '-121.82709503173828', '37.243696', 'MARK', 'MI', '37.352643', '291.85', '97.97', '2100*FOREST*AVE', '2581*SAMARITAN*CT', '37.452992', '37.38162', '148.8', 'BOYD', '80.9', '388489', '-121.80755615234376', '37.148164', '58.8', '37.322437', '18.101786', '-122.093403', '263.0', 'SUZANNE', '999*HAMLIN*CT', 'FRANK', '26.885', '42.3875', '84.715', '50.175', '101.16', 'LITTLEJOHN', '37.320746', 'BRATCHER', '34.58', '-121.95738220214844', '37.30210113525391', 'RENAE', '42.4325', '9.31684', 'VANGASTEL', 'MARTHA', '12.423696', 'SUN', '26.146057', 'POLLITT', '393*BLOSSOM*HILL*RD', '37.330322', '-122.438235', '55.575', '34.2425', '422022', '-121.92284393310548', '135.44', 'BUTLER', '321.48', '2.832831', '85.12', '95014', '2536*AUSTIN*PL', '11.009455', '7.115322', '37.3207582', '37.39645385742188', '163.1775', '-121.950908', '1931*OLD*MIDDLEFIELD*WAY', '27.873468', '3.956892', '37.30181503295898', '216.285', '437198', '132.56', '137.775', '139.56', '38.72', '156.16', '10307*LOCHNER*DR', '68.525', '-121.97592163085938', '100.2425', '446861', '4.914425', '218.04', '5.81417', '37.31681060791016', 'SMITH', '137.7525', '60.065', '665*RICHMOND*AVE', '-121.781462', '41.33', '198.24', 'ZARAGOZA', '401*OLD*SAN*FRANCISCO*RD', 'PETERSON', 'SHAH', '163.0', '10.218449', '15899*LOS*GATOS*BLVD', '-121.85305786132812', 'CARMEN', '11.077184', 'FRANCISCA', '36.335', '-122.144058', '1.437232', '242.55', '196.5975', '-121.84795379638672', '12.855549', 'SC105', '37.32230758666992', '70.945', '25.625', '84.625', '1.559642', '37.27834701538086', '76.35', '251.52', '124.025', '37.255799', '-121.966127', '69.3', '104.4', '-118.328164', '-121.586234', '100.4', '328.04', '29.607096', '23.671757', '-121.809449', '37.31890487670898', '37.390629', 'NGUYET', '130.125', 'FIGUEROA', '12.891588', '218.3325', '390536', '293*S*7TH*ST', '10.704362', '126.3675', '439970', '45.2225', '35.1875', '37.37372', '46.35', '69.92', '461812', '42.5675', '37.360373', '67.32', '41.5775', 'BORIS', '48.15', 'JOSEPH', '5568*LEXINGTON*AVE', '37.30011749267578', '37.343994', 'JACK', '196.71', '22.7', '2220*MOORPARK*AVENUE', '54.04376', '16', '5877*MCGILVRA*CT', '452120', '1.336569', 'SILVIA', '53.8', 'SOU', '1159*SPRUANCE*ST', '70.28', '77.2', '461788', '11799*PAGE*MILL*RD', '21.9575', '226.95', '10.593757', '284.64', 'VILLA', '12.311849', '12.65236', '5.965163', '392866', '300605', '37.31283950805664', '2245*LANAI*AVE', '193.36', '48800*WARM*SPRINGS*BLVD', '9.528106', '37.3693962097168', '33.275', '425077', '12.016697', '-121.585754', '7.667099', '486078', '264.12', '37.31127', 'THAI', 'MARTA', '-122.030681', '37.48573303222656', '150.825', 'SEPULVEDA', '1191*COLEMAN*RD', 'JONES', '3310*PRADO*LN', '80.16', '75.175', '1667*MONTEMAR*WAY', '37.352970123291016', '9.626283', '459170', '437652', '156.5375', '-122.02064514160156', '-121.97551727294922', '-122.05579376220705', '467.32', '37.33538818359375', '37.38275146484375', '459358', '-121.8572235107422', '37.362683', 'TAHIRA', '2.70545', '37.29331970214844', '37.3787657', 'ASEM', '37.3440656', 'RAMIREZ', '3.844424', 'EMMA', '75.3425', 'BA*THI', '447896', '5.318316', '-121.994741', '1271*PELLIER*DR', '37.24161148071289', '37.39950942993164', 'MY*(2)', '7.402395', '60.155', '456462', '14850*LOS*GATOS*BLVD', '77.805', '3.365346', '79.675', '13.594359', 'OROZCO', '-121.80027770996094', '37.49874496459961', '15.9', '28.55', '143.625', '183.96', '237.84', '448052', 'SACRITE', '8.448784', 'RUBALCABA', '69.8975', '52.2', '14911*NATIONAL*AVE', 'BRADFORD', '-121.931483', '2991*SAMARIA*PL', '388518', '37.251573', '37.47160720825195', '78.4', '26.9975', '12.79279', '37.34127426147461', '1.803219', '71.64', '5.069768', '10.371928', '91.0825', '283872', '13.497425', '426890', '14981*NATIONAL*AVE', '7.256373', '-121.848823', 'CLARK', '37.276837', '53.625', '47.925', 'HUNG', '1.393736', '37.42844772338867', 'BREAUX', '189.44', '73.125', 'NGUYEN', '63.475', '58.1525', '1424*DUBERT*LN', '193.65', '37.342815', '43.73832', 'THIEN*HIEU', '252.6', '388709', '220.28', '17.056019', 'STR', 'LY', '420031', '32.009937', '32.0825', '242.04', '104.08', '1.862871', 'RANDY', '151.92', '2820*ALUM*ROCK*AVE', '227*OAKLAND*AVE', '37.243932', '37.3156898', '103.3025', '151.68', '37.32335451361684', '42.23', '20', '429*LLEWELLYN*AVE', '37.250768', '37.3836669921875', '58', 'GRAHAM', '10.598107', '157.2375', '1450*KOOSER*RD', '446758', '480556', '7.274393', '-122.080322265625', '85.88', 'JULIE', '103.6', '420273', '1515*MARBURG*WAY', '5140*EDENVIEW*DR', '24.2525', '463092', '37.32075500488281', '37.23981475830078', '484059', '270*S*MARY*AVE', 'KHALIDAH', '80.1125', '2.440746', '85.76', 'DELACRUZ', '9.66', '7.06934', 'HUA', '-122.01834869384766', '37.3503311', '433*UMBARGER*RD', '94539', '37.301761', '2447*SEQUESTER*CT', '445104', 'OLIVERA', '4.066874', '37.31607004', '423899', '37.34097671508789', '-121.84387969970705', 'DIAZ', '225.0', '30.4175', '128.73', '464088', '2.162372', '11.339403', '12.442958', 'TECLEMARIAM', 'LINDA', '790*LOS*PADRES*BLVD', '104.12', '437.16', '59.3', '459761', '37.38517761230469', '481676', '482149', '31', '-121.857227', '209.48', '52.7375', '150.0', '484466', '2.322686', 'CAROLEE', '1776*ALMADEN*RD', 'HO', '26.298292', '7.448376', '-121.85586547851562', '-121.9318183', '5.230081', 'BLAZENA', '25.895', '35.705', '9.712653', 'DELGADO*TERONES', '8.084661', 'VALENCIA', '25*RIO*ROBLES', '9.369035', '463942', '340*NORTHLAKE*DR', '37.26993', '101.6', '30.8', '329.32', '429322', '37.326284', '364.05', '37.825', '419035', '-122.04615020751952', '165.6', '5.774402', '479080', '101.075', '29.135', '4.101671', '81.6875', '12.544242', '7.103515', '777*LAWRENCE*EXPY', '151.2', '36.2675', '194.4', '37.3239305', '-121.8475570678711', '1990*FRUITDALE', 'TAKAHASHI', '175.825', '37.47422790527344', '-121.950553', '204.855', '3.252878', '14.627699', '15.805819', '65.7575', '147.225', '212.1675', '429941', '247*W*EL*CAMINO*REAL', '459762', 'THIEN', 'NGUY', '81.9125', '37.407814025878906', '-122.029689', '80.525', '320*DARDANELLI*LN', '243.28', '61.28', '7.912541', '12.787819', '485954', '35.975', '37.37473678588867', '37.405168', '249*GREENDALE*WAY', '-121.8650841', '152.68', '85.93', '-121.933506', '6.590263', '37.201643', 'MATTHEW', '1.33222', 'MORALES', '11.212022', '27.472063', '3.890405', 'KAWAI', '477404', '0.920251', '271.28', 'AVENIDAS', '2.779393', 'TANFORD', '37.24469', '37.329075', '128.6825', '151.0', 'DAVID', 'KIM*NUONG', '-121.864686', '100.49', '37.456634521484375', '-121.83535766601562', '115.24', '69.0875', '-122.086596', '3.209382', '37.332313537597656', '84.36', '108.8', 'ARLAN', '99.5425', '71.4', '-122.076942', '44.525', '0.748131', '37.313512', '-122.081266', '37.13030242919922', '41.375', 'DU*BOSE', '4.125283', '59.6', '28.3025', '32.3075', '-121.938406', '0.395813', '120*JOSE*FIGUERES*AVE', '-121.931952', 'SHERIDAN', 'LU', '37.35324096679688', '-121.87652587890624', '2.566884', '0.299501', '37.34177017211914', '-121.8273468017578', '271282', '37.379726', '23.645', 'ARENZANA', '41.825', 'FAZZINO', '37.47765350341797', '434758', '289.05', '2406*CLOVE*DR', '5.004524', '3.531874', 'JIMI', '37.356258392333984', '9.482124', '450440', '37.782429', '-121.937331', '66.4', '2501*ALVIN*AVE', '1.85355', '37.426546', '-122.01673126220705', 'THANHHONG', '8.416473', '671*IRIS*AVE', '10.396783', '37.247713', '-121.93677354072749', '290.85', '37.26902770996094', '2577*SAMARITAN*DR', '-121.80031', '-121.86468505859376', '475987', '92.825', '37.332132', '135.88', '10980*RIDGEVIEW*AVE', 'TANGRI', 'PEREZ*GONZALEZ', '76.12', '777*E*SANTA*CLARA*ST', '-121.857861', '95118', '7.758441', '37.321571350097656', '12.764207', '12.595194', '456595', '1281*S*BERNARDO*AVE', 'GUEVARA', '-121.79642486572266', 'MICHELE', '-121.91959381103516', '-121.9157067', '414417', '-121.814151', '124.005', 'GORDILLO', '24.05', '388496', '11.69172', '13.593116', 'TAUFA', '199.64', '452097', '15.17637', '37.36696243286133', '-121.966881', '37.82153', 'LLUVIA', '25.85', 'RODILLAS', '37.310112', '12.890967', '201.3675', '237.55', '9.550475', '65.06', '74.4', 'VERSANEZ', '55.5725', '471276', '28.7525', 'PEREZ', '130.16', '473373', '135.28', '37.036621', '484288', '56.7', '3.492727', '-121.77204132080078', '340269', '37.35818862915039', '11.371093', '278.04', '453309', '13.59498', '60.075', '-121.96432495117188', 'HERMAN', '37.3597412109375', '6.738149', '32.1725', 'AARON', '700*LAWRENCE*EXPY', '-122.01937103271484', '4.060661', '57.6', '53.3025', '37.24205', '388559', '80.485', '1125*MALLOW*TERRACE', '42.325', '35.6375', '37.327402', '144.4', '34.8725', 'HART-WARFIELD', '1.863492', '0.521952', '78.38', '-121.93367004394533', '455712', 'WILCOXEN', '2589*SAMARITAN*DR', '89.37', '107.51', 'YIPSHINGTON', 'DAN', 'BLACK', '14.835237', '12.451036', '43.175', '10.816208', 'PHON', '11.535756', '1174*LOS*ALTOS*AVE', '47.9', '37.269004821777344', '436441', '199.005', '180.25', '15.124796', '54.3375', 'RUIZ', '390522', '465130', 'MARCANO', '21.5975', 'MILLER', '-121.8120978', '81.6325', '3.867414', '41.105', '19.191671', 'SALAZAR', '264.8', '1642*MIDFIELD*AVE', '-121.8348388671875', '225*N*JACKSON*AVE', '7.750363', '2.906774', '-121.850283', 'PODLOZNY', 'LEONARD', '30.35', '433.04', '-121.96678924560548', '1040*HAMILTON*COURT', '6.072661', 'LITTAU', '470722', '465983', '203.32', '991*CLYDE*AVE', '3.449231', '37.29909896850586', 'TERENCE', '3.666711', '222.225', '4.374453', '18.780945', '2380*MONTPELIER*DR', '37.324256896972656', '478009', '37.325318', '49.7675', '1608*LONGVIEW*ST', '26.134872', '-121.9492645263672', '388993', '1151*ELDER*AVE', '100.85', 'CAMPOS', '12.753022', '476006', 'CAROL', 'JOEL', 'DOHERTY', 'STANLEY', '97.04', '95131', '-121.932293', '-121.91685485839844', '37.282473', '-121.799721', '59.6925', '-121.934751', 'ORTIZ*BECERRIL', '462*N*6TH*ST', '-121.8949122', '-121.9490057', '37.326735', '14.868791', '81.475', '2.027534', '232.2375', '212*N*17TH*ST', 'QUYNH', '37.36653518676758', '56.745', '-122.02200317382812', '10.723624', '463626', '38.36', '-121.870361328125', '15.396335', '-121.85442', '37.36913', '390540', '33.2525', 'JENNIFER', 'WCH', '97.2', '63.89', '254.66', '37.22613143920898', '37.29197692871094', '52.4675', '463154', '37.326649', '149.32', '89.35', '251*CURTNER*AVE', '10.326568', '37.32075', '-122.202977', '91.7', '71.5975', '93.535', '1107*LUCHESSI*DR', '132.4', '75.895', '477429', '1046*MILLER*AVE', '94024', '9.949396', '5.671876', '37.33702850341797', '202.72', '149.0025', 'BRITT', '37.324337005615234', '37.2690277099609', '-122.0266571044922', 'VU', '70.235', '678*E*SANTA*CLARA*ST', '233.25', '74.28', '-121.91486358642578', '37.243765', '58.85', '22.0475', '-122.11013793945312', '-121.84807586669922', '18', '264.92', '442182', '360.4', '4.283112', '2.259927', '710*LAWRENCE*EXP', '-121.80042266845705', '253.7925', '4.50432', '390198', '156.0', '469924', 'VIRAY', '3239*STEVENS*CREEK*BLVD', '217.185', '64.79', 'SC103', '-121.916831', '37.28503036499024', '463*SHAWNEE*LN', 'REUBEN', '37.256263', '107.6975', '4.678304', '97.92', '59.8725', '16.203497', '37.31300735473633', '13.164991', '54.245', '3.754325', '-121.813016', '56.447224', '125.49', '56*CANADA*RD', '52', '1.652847', '37.30013656616211', '37.454010009765625', '91.96', '43.85', '240308', '37.251994', '199.1625', '9.490824', '37.311329', '14.271654', '135.165', '95008', '102.68', '329.5', '12.889103', 'CHARLIE', '2065*FOREST*AVE', '390527', '2.562535', '467562', '78.0425', '63.5075', 'JENNY', '-122.0791651', '-121.848078', '44.34167', '75.86', '171.48', '545.72', '260*N*BAYVIEW*AVE', '1013*BORREGAS*AVE', '485596', '39.17', '37.357082', '45.2', '5.369268', '37.327848', '422718', '9.493309', '159.52', '16.620438', 'THANH', 'SABRINA', '479097', '470234', '182.1', '-121.93480682373048', '37.435965', '67.85', '8.625875', '-121.99421691894533', '101.95', '51.0725', '426315', '427097', '-121.777882', '427287', '163.64', '-121.93170215928444', '1.115361', '7.478202', '58.0', 'HOLTER', '9.61137', '29.855', '-121.93273162841795', '-121.89527893066406', '46.095', '451855', 'WESTPHAL', '418982', '67.1625', '37.32768630981445', '1825*4TH*ST', '95132', '2486*W*EL*CAMINO*REAL', 'KYUNG', '10.596864', '56.92', '69.55', '47.7875', '703*DELMAS*AVE', '-121.962736', '48.8', 'BAKER', 'HENRY', 'ANTON', '82.015', '13.499289', '100.4225', '39', '11.454357', '4.383774', '-121.95269775390624', '-121.84486389160156', '433*SYLVAN*AVE', '37.27531433105469', 'GRUPP', '120.8', '-121.83653259277344', '36.983382', 'GALINA', '441.6', '37.31126', 'THIET', '785*E*EL*CAMINO*REAL', '37.356946', '1.141459', '37.302544', '37.26993560791016', '51.75', '428210', '297.34787', '5.348763', '102.1075', 'KIM', '-121.8270263671875', '37.35317993164063', '-122.033006', '-121.81309509277344', '1.557778', '-122.06513', 'LAURA', 'JIMENEZ', '462587', '-122.050202', '1.319792', '99.005', '98.0575', '37.234561920166016', '37.54439163208008', '40.975', '35', '7.537854', 'MUHAMMAD', '204.36', 'THAN', 'CORTES', '-121.874955', '432281', '-121.90411376953124', '178.4', '388552', '485540', '101.0725', '31.3625', '25.22', 'SC102', 'DOAN', '8.010717', '39.5525', '56.0', '95037', '165.08', '122.63', 'SC201', '155.25', '13.325927', '26.21', '472333', '13.498046', '37.353181', '-121.59015655517578', '138.2475', '95148', '36.431614', '-122.02398681640624', '92.0275', '37.3030891418457', 'CAROLYN', '2360*MCKEE*RD', '313232', '-121.8451485', '77.75', '8.661293', '37.23990249633789', 'BARRAZA', '13.602437', '37.22615432739258', 'CATLI', 'ANGEL', '3.404493', '47.764805', '107.2375', '205.125', 'GOMES', '6.137905', '-121.834776', '37.324765', 'JORGE*(2)', '4.604982', '0.354803', '469247', '94040', '9.710789', '23.015', 'SINCERBOX', '37.313432', '-121.93338775634766', '444913', 'PEGGY', '-121.92335510253906', '995*POTRERO*AVE', '183.25', '14.536358', '37.312362', '460*N*SHORELINE*BLVD', '388702', '9.891608', '-121.800566', '428644', '193.28', '-121.8009033203125', '5504*MONTEREY*RD', '154.0425', 'MINA', '454045', 'NORENE', '286.04', '37.367136', '482719', '52.85', '5.07536', '1.733004', '95138', '164.92', '22.852167', '195.64', '11.410861', '199.76', '192.55', '37.313497', '4.478844', '5103*VERA*LN', 'JOGINDER', '101.44', '157.375', '37.36276045347866', '4.449018', '5.070389', 'CRESENCIA', '27.605', '12.913336', '78.36', '425160', '-122.079144', '14.970075', '-121.9619140625', 'CHARLES', '427973', '37.32629', 'Friday', 'CHAN', '411690', '27.9425', '1820*MAIN*ST', 'LIEU', '116.825', 'SAMUEL', '144*S*3RD*ST', '35.75', '418112', '59.705', '221.85', '52.9425', 'CARA', '37.28326797485352', '-122.014045715332', '57.395', '5.599797', '7.629195', '-121.95118713378906', '37.30070877075195', '187.775', '80.4175', '37.320777893066406', 'DUC', '37.389341', '2.405949', '6.240431', '5.416493', '37.32389831542969', '60.785', '65.9375', '99.4625', '305.2', 'SC302', '41.0825', '37.382993', '12.616942', '79.84', '37.290755', '-121.918818', '123.8925', '-121.98933410644533', '80.5525', '98.1275', '37.37239904615259', '447648', '37.27683639526367', '95112', '2097*JONATHAN*AVE', '108.385', '-121.94993497683596', 'MANUEL', '71.6', '459180', '2505*SAMARITAN*DR', '482964', '1.17812', '4.62673', 'WILLIAM', '5.044291', '1018*W*EL*CAMINO*REAL', 'APARTMENTS', '282.32', '32.2175', '-122.05330657958984', '206.16', '-121.88349151611328', '101.0', '73.305', '-121.9372733', '8.15239', '481951', '6.875472', '33.3875', '47.225', '13.131437', '162.84', '450383', '14980*KARL*AVE', '-121.86356353759766', '1.048875', '2542*MONTEREY*HWY', '36.02', '212.46', '37.433063', '40.75', '95020', '103.91', 'GENE', '2.566263', '-121.948332', '12', '-121.949148', '465631', '211*QUARRY*RD', 'Sunday', '5.701081', '133.28723', '1493*ENDERBY*WAY', '101.3675', '125.3775', '2.596089', '37.34723663330078', '5.692381', '202.8975', '465632', '-121.8141860961914', '8.660672', '2060*ABORN*RD', '207.56', '37.3112767', '3912*RIVERMARK*PLAZA', '2.575584', '296803', '79.505', '32.239845', '37.350337', '58.25', '77.15', '200.825', '41.875', '4691*SYMPHONY*LN', '-121.93266476', '37.35166931152344', '113.63', '37.312841', '73.9025', '-121.56897735595705', 'TAM', '233.96', '-122.062005', '-121.93148040771484', '75.7825', '2039*FOREST*AVE', '285*PALACIO*ROYALE*CIR', '975*BLAKE*WILBUR*DR', '-121.93331909179688', '7.106622', '93.85', '115.45', '179.45', '-121.82357025146484', '29.27', '431*MONTEREY*AVE', '5.267985', '100.805', '227*SENTER*RD', '5.411522', '390524', '11.680536', '449557', '-121.9759248', '434730', '9400*NO*NAME*UNO*RD', '429292', '428231', '37.308101654052734', '270*INTERNATIONAL*CIRCLE', '-122.2409439086914', '1646*PINKSTONE*CT', '55*E*JULIAN*ST', '37.465064', '94085', '125.175', '58.22', '193.625', '452602', '182.68', '420633', '90.42', '4.527311', '13.773935', '26.3675', '335901', 'GROSS', '-121.943689', '175.0', '-121.847445', '105.08', '-121.87066650390624', '6.412551', '470730', '-122.01453', '-121.951941', '84.12', '214.44', '125.715', '419523', 'LE', 'AYALA', 'RENEE', 'IVETA', '8.571194', '32.15', '37.389762', '22.5425', '103.48', '75.45', '65.33', '181.12', '137.68', '5.235674', '-121.94210052490234', '248.48', 'LUGUE', '37.42572021484375', '37.482689', '133.0', '-121.81529235839844', '144.4575', '-121.950716', '181.2', '158.16', '388811', '207.1725', '25.357536', '2.186605', '59.75', '300230', '-121.82624816894533', '113.6', '441.72', 'SC101', '37.34661102294922', '250*HOSPITAL*PKWY', '185.97', '75.005', 'MUNOZ', '37.32243728637695', '86.8', '5.517776', '227.6', '52.11', '472947', '-121.86927032470705', '-122.14225769042967', '1565*ORANGEWOOD*DR', '216.6675', '2390*LUCRETIA*AVE', '37.3112781', '13.163749', 'BANH', '81.62', '37.31582260131836', '3201*LOMA*VERDE*DR', '135.7725', '0.283345', 'WENDY', '37.3056317', 'NGOC*HANH', 'BARBANELL', 'FESSAHAIE', '3144*CADILLAC*DR', '3.656148', '309.52', '55.91', '477505', '10.194216', '11.638282', '14.394064', '-122.2029800415039', '85.0075', 'CAMPBELL', 'SAU', '364*MEADOWHAVEN*WAY', '65.5625', 'ABIGAIL', 'APARTMENTS(2)', '12.546106', '82.68', '3311*JENKINS*AVE', '37.3632698059082', '318.95', '-121.85405731201172', '421570', '37.351149', '37.298845', '37.757303', '1.09672', '422.08', '471266', '37.41426086425781', 'QUYEN', '35.375', '-121.76514434814452', 'CHRIS', '487143', '8.726537', '82.51', '471517', '37.31034851074219', '261287', '-121.87319946289062', '32.131104', '470471', '63.075', 'Monday', '-121.940121', '-121.86508178710938', '101.04', '6.417522', '305827', '37.31402']\n"
          ]
        }
      ]
    },
    {
      "cell_type": "code",
      "source": [
        "tokenizer.add_tokens(custom_vocab)"
      ],
      "metadata": {
        "colab": {
          "base_uri": "https://localhost:8080/"
        },
        "id": "hFKRnRXua5d8",
        "outputId": "c0db2982-c58e-44b6-997d-ee1751893035"
      },
      "execution_count": 307,
      "outputs": [
        {
          "output_type": "execute_result",
          "data": {
            "text/plain": [
              "7371"
            ]
          },
          "metadata": {},
          "execution_count": 307
        }
      ]
    },
    {
      "cell_type": "code",
      "source": [
        "def tokenizer_fn(batch):\n",
        "    inputs = [eval(x)['input'] for x in batch['translation']]\n",
        "    targets = [eval(x)['target'] for x in batch['translation']]\n",
        "    \n",
        "    # Join the list of strings into a single string or the tokenizer will not understand the data\n",
        "    inputs = [' '.join(inp) for inp in inputs]\n",
        "    targets = [' '.join(tgt) for tgt in targets]\n",
        "\n",
        "    # Tokenize the inputs and targets\n",
        "    tokenized_inputs = tokenizer(inputs, padding=True, truncation=True, return_tensors='pt')\n",
        "    tokenized_targets = tokenizer(targets, padding=True, truncation=True, return_tensors='pt')\n",
        "    \n",
        "    # Add the labels to the tokenized_inputs\n",
        "    tokenized_inputs['labels'] = tokenized_targets['input_ids']\n",
        "    \n",
        "    return tokenized_inputs\n"
      ],
      "metadata": {
        "id": "DMj0o1TqMx1l"
      },
      "execution_count": 308,
      "outputs": []
    },
    {
      "cell_type": "code",
      "source": [
        "# Apply the tokenizer function to the dataset using the 'map()' method\n",
        "tokenized_datasets = dataset_dict.map(\n",
        "    tokenizer_fn,\n",
        "    batched=True,\n",
        "    remove_columns=dataset_dict['train'].column_names\n",
        ")"
      ],
      "metadata": {
        "colab": {
          "base_uri": "https://localhost:8080/",
          "height": 17,
          "referenced_widgets": [
            "260d0514b5794141b0b203cb437c3ba6",
            "f2bde836345f4748ab026e1fe359c18f",
            "ccb4d510937f47ea9b65f1428464239d",
            "4c3b306de9f8429293b4070caaec2215",
            "f5a7f7bb123a4e56a960e5fff6a2e744",
            "4541c18d10fe46b49b65bf0504fdfa15",
            "7a08abe802604e38a0eeb5e73075840a",
            "252580cae3c94ae4bf0579446563adac",
            "d63d06d76c374452a68be88ee8a6aab5",
            "f82a2319474d43c88df6765af0ff24f7",
            "f9f24ad7ee7848748609d4fab95e724c",
            "5c07bba852364351ad0177413b3be03b",
            "04efdddcb9714b6aac1888d54bf14ef7",
            "0c6e7ba34ca34e33b7dba0650efe630e",
            "2a99fe3790904f4d8bac15c1acc03335",
            "67783de9eb3e4bea8ddd745cfb59e27f",
            "e5d28f86be8c473990b77ea1fd681165",
            "22d05047008744d799307ac94f0ead0d",
            "6031b7f4e05443058fdfd3a8455217e2",
            "35b98d7ddeb54a9eb31166ae73d2589a",
            "a42905f8431f4d0e97306b6725104cef",
            "cdcaed1468ea424aa1a8441341d1eead"
          ]
        },
        "id": "v3ru0xxUsbKI",
        "outputId": "22815bb4-4560-4db4-8eca-dd22b73e322b"
      },
      "execution_count": 309,
      "outputs": [
        {
          "output_type": "display_data",
          "data": {
            "text/plain": [
              "Map:   0%|          | 0/280 [00:00<?, ? examples/s]"
            ],
            "application/vnd.jupyter.widget-view+json": {
              "version_major": 2,
              "version_minor": 0,
              "model_id": "260d0514b5794141b0b203cb437c3ba6"
            }
          },
          "metadata": {}
        },
        {
          "output_type": "display_data",
          "data": {
            "text/plain": [
              "Map:   0%|          | 0/70 [00:00<?, ? examples/s]"
            ],
            "application/vnd.jupyter.widget-view+json": {
              "version_major": 2,
              "version_minor": 0,
              "model_id": "5c07bba852364351ad0177413b3be03b"
            }
          },
          "metadata": {}
        }
      ]
    },
    {
      "cell_type": "code",
      "source": [
        "dataset_dict['train']['translation'][0]"
      ],
      "metadata": {
        "colab": {
          "base_uri": "https://localhost:8080/",
          "height": 157
        },
        "id": "p3Mu4u6qI47u",
        "outputId": "261b314b-4e84-426d-95d3-1b6a85905a6e"
      },
      "execution_count": 310,
      "outputs": [
        {
          "output_type": "execute_result",
          "data": {
            "text/plain": [
              "\"{'input': ['15|0|Tuesday|WCH|27.875|STEVIE|ZARAGOZA|390540|888*S*BASCOM*AVE|95128|1124*PINE*AVE|95125|-121.93148040771484|37.31127166748047|-121.89418029785156|37.297828674316406|3.531874', '12|0|Tuesday|STR|225.825|NANCY|LE|388622|1109*FOX*HOLLOW*CT|95035|2660*GRANT*RD|94040|-121.88970947265624|37.44872283935547|-122.078474|37.366508|13.690671', '13|30|Tuesday|WCH|0.0|FESSAHAIE|KELETA|388482|1040*HAMILTON*COURT|94025|649*UNIVERSITY*AVE|94301|-122.14830780029295|37.47801208496094|-122.15782165527344|37.45035552978516|3.512611', '9|0|Tuesday|WCH|35.975|JENNY|CORONA|390520|725*RIDDER*PARK*DRIVE|95131|3621*LAFAYETTE*ST|95054|-121.9029541015625|37.37839889526367|-121.95233917236328|37.385990142822266|7.106001', '10|30|Tuesday|BWC|77.2|GUILLERMO|MARRON|388574|1450*KOOSER*RD|95118|781*SHARMON*PALMS*LN|95008|-121.8917007446289|37.24549102783203|-121.9619140625|37.27531433105469|6.762383', '14|30|Tuesday|WCH|22.925|JAMIE|BORDEN|418938|660*S*FAIR*OAKS*AVE|94086|1023*REED*AVE|94086|-122.0236567|37.36443|-122.0051040649414|37.36700439453125|1.307986', '8|0|Tuesday|WCH|66.825|MARK|QUINLAN|388541|2194*BRISTOLWOOD*LN|95132|2105*FOREST*AVE|95128|-121.86840057373048|37.41765594482422|-121.938406|37.3277|9.712653', '13|15|Tuesday|BWC|93.6|FRANCISCA|MARTINEZ|388505|393*BLOSSOM*HILL*RD|95123|1869*LA*PORTE*AVE|95122|-121.8270263671875|37.25196838378906|-121.8325653076172|37.33570861816406|10.860326', '13|0|Tuesday|WCH|32.375|GURMUKH|SINGH|388709|14651*S*BASCOM*AVE|95032|1147*LEIGH*AVE|95126|-121.95093536376952|37.25579833984375|-121.9232406616211|37.3030891418457|5.512184', '8|30|Tuesday|WCH|98.8|PHU|LUONG|428677|2501*ALVIN*AVE|95121|555*KNOWLES*DR|95032|-121.82722473144533|37.318607330322266|-121.966127|37.262125|12.780363', '13|15|Tuesday|BWC|60.0|DONNA|MORILLO|388851|393*BLOSSOM*HILL*RD|95123|5140*EDENVIEW*DR|95111|-121.82691192626952|37.25193786621094|-121.81166076660156|37.2621955871582|2.517796', '14|0|Tuesday|WCH|0.0|SOUTH|AVENIDAS|429292|270*ESCUELA*AVE|94040|270*ESCUELA*AVE|94040|-122.0934066772461|37.39856719970703|-122.093403|37.398567|0.0', '15|15|Tuesday|STR|143.625|MINH|NGUYEN|390530|125*CIRO*AVE|95128|984*TAJI*CT|95122|-121.938565|37.326281|-121.84486389160156|37.31890487670898|10.475697', '8|30|Tuesday|BWC|93.6|FRANCISCA|MARTINEZ|388505|1869*LA*PORTE*AVE|95122|393*BLOSSOM*HILL*RD|95123|-121.8325653076172|37.33570861816406|-121.8270263671875|37.25196838378906|10.860326', '17|0|Tuesday|WCH|50.25|DAO|TRAN|390522|1450*S*WHITE*RD|95127|2501*ALVIN*AVE|95121|-121.81301879882812|37.35033798217773|-121.82722473144533|37.318607330322266|3.374667', '15|0|Tuesday|WCH|45.2|BRIAN|MCNIFF|415878|1450*KOOSER*RD|95118|410*N*WINCHESTER*BLVD|95050|-121.89146423339844|37.2454948425293|-121.9509048461914|37.3343620300293|11.216371', '14|0|Tuesday|WCH|0.0|NORTH*1|AVENIDAS|424859|270*ESCUELA*AVE|94040|188*DUANE*ST|94062|-122.0934066772461|37.39856719970703|-122.239831|37.484931|13.170584', '17|15|Tuesday|WCH|25.175|SON|TRAN|390537|1620*E*CAPITOL*EXPY|95121|705*PINTO*DR|95111|-121.81209564208984|37.30604934692383|-121.83203887939452|37.295745849609375|2.259927', '18|0|Tuesday|BWC|89.6|CHARLIE|THACH|388677|2220*MOORPARK*AVE|95128|1216*FLICKINGER*AVE|95131|-121.93367004394533|37.3155517578125|-121.86927032470705|37.38211441040039|9.891608', '12|45|Tuesday|WCH|26.3|PAUL|PENKE|388489|888*S*BASCOM*AVE|95128|410*N*WINCHESTER*BLVD|95050|-121.93157196044922|37.311279296875|-121.9509048461914|37.3343620300293|2.779393', '14|30|Tuesday|WCH|54.75|ANNIE|GARCIA|429211|1776*ALMADEN*RD|95125|888*S*BASCOM*AVE|95128|-121.87794494628906|37.30011749267578|-121.931383|37.31126|5.432648', '11|0|Tuesday|WCH|42.725|JOHN|PETERSON|340106|2452*WATSON*CT|94303|1150*TILTON*DR|94087|-122.120489|37.448482|-122.0330047607422|37.35652923583984|10.089825', '5|30|Tuesday|WCH|58.85|LEONARDO|CATLI|390198|1250*S*WINCHESTER*BLVD|95128|2220*MOORPARK*AVENUE|95128|-121.9492645263672|37.30254364013672|-121.93370819091795|37.31555938720703|2.207732', '13|0|Tuesday|WCH|56.825|JAMIE|BORDEN|418938|1023*REED*AVE|94086|660*S*FAIR*OAKS*AVE|94086|-122.0051040649414|37.36700439453125|-122.0236567|37.36443|1.307986', '9|30|Tuesday|WCH|79.1|BRIAN|MCNIFF|415878|410*N*WINCHESTER*BLVD|95050|1450*KOOSER*RD|95118|-121.9509048461914|37.3343620300293|-121.89146423339844|37.2454948425293|11.216371', '5|0|Tuesday|WCH|69.65|CONNIE|GLORIA|388477|10150*TORRE*AVE|95014|247*W*EL*CAMINO*REAL|94040|-122.0266571044922|37.32122421264648|-122.07916259765624|37.38294219970703|6.955629', '9|45|Tuesday|WCH|28.325|ANACLETO|RUANO|390534|2220*MOORPARK*AVENUE|95128|831*GALE*DR|95008|-121.93370819091795|37.31555938720703|-121.96422576904295|37.29271697998047|3.689702', '5|30|Tuesday|WCH|63.8|JESUS|TORRES*SIERRA|388496|1103*AUDUBON*DR|95122|1620*E*CAPITOL*EXPY|95121|-121.84912109375|37.32672882080078|-121.8120978|37.3060479|4.43659', '16|0|Tuesday|WCH|35.075|BENJAMIN|SALAZAR|417096|751*S*BASCOM*AVE|95128|1851*E*WILLIAM*ST|95116|-121.933506|37.313497|-121.84862518310548|37.34988784790039|6.674769', '5|45|Tuesday|BWC|77.2|GUILLERMO|MARRON|388574|781*SHARMON*PALMS*LN|95008|1450*KOOSER*RD|95118|-121.9619140625|37.27531433105469|-121.8917007446289|37.24549102783203|6.762383', '15|30|Tuesday|WCH|0.0|CHRISTINE|BALEKIAN|388994|4360*STEVENS*CREEK*BLVD|95119|340*NORTHLAKE*DR|95117|-121.97903442382812|37.32246398925781|-121.96781158447266|37.322025299072266|0.914658', '12|15|Tuesday|WCH|48.375|AGUSTIN|CORTES|388526|888*S*BASCOM*AVE|95128|1919*FRUITDALE*AVE|95128|-121.93157196044922|37.311279296875|-121.92559051513672|37.31228256225586|1.496262', '12|30|Tuesday|WCH|56.375|FIDELA|GUEVARA|388479|260*N*BAYVIEW*AVE|94086|155*N*WOLFE*RD|94086|-122.02383422851562|37.38190460205078|-122.01404571533205|37.37662124633789|1.05136', '8|45|Tuesday|WCH|0.0|FESSAHAIE|KELETA|388482|649*UNIVERSITY*AVE|94301|1040*HAMILTON*COURT|94025|-122.15782165527344|37.45035552978516|-122.14830780029295|37.47801208496094|3.512611', '10|15|Tuesday|WCH|45.25|AARON|WILLIAMS|388498|2000*MONTEREY*HWY|95112|888*S*BASCOM*AVE|95128|-121.8635482788086|37.30686950683594|-121.931483|37.31127|6.24913', '5|15|Tuesday|BWC|154.4|AING|MOEUNG|388852|879*PADOVA*DR|95020|1620*E*CAPITOL*EXPY|95121|-121.59493255615234|37.02376937866211|-121.81209564208984|37.30604934692383|26.139221', '14|0|Tuesday|STR|150.825|NANCY|LE|388622|2660*GRANT*RD|94040|1109*FOX*HOLLOW*CT|95035|-122.078474|37.366508|-121.88970947265624|37.44872283935547|13.690671', '10|30|Tuesday|WCH|0.0|APARTMENTS|SHERIDAN|296803|360*SHERIDAN*AVE|94306|11799*PAGE*MILL*RD|94022|-122.1418914794922|37.42572021484375|-122.17191657797584|37.36276045347866|5.591098', '10|15|Tuesday|WCH|63.35|LUZ|NOLASCO|388488|1075*SPACE*PARK*WAY|94043|247*W*EL*CAMINO*REAL|94040|-122.06958770751952|37.41511917114258|-122.07916259765624|37.38294219970703|4.176236', '5|15|Tuesday|WCH|103.325|ANACLETO|RUANO|390534|831*GALE*DR|95008|2220*MOORPARK*AVENUE|95128|-121.96422576904295|37.29271697998047|-121.93370819091795|37.31555938720703|3.689702', '9|0|Tuesday|WCH|35.8|IVETA|VOLODARSKAYA|388497|460*N*SHORELINE*BLVD|94043|247*W*EL*CAMINO*REAL|94040|-122.0801010131836|37.401161193847656|-122.0791473388672|37.38299179077149|2.016971', '13|15|Tuesday|STR|218.625|MINH|NGUYEN|390530|984*TAJI*CT|95122|125*CIRO*AVE|95128|-121.84486389160156|37.31890487670898|-121.938565|37.326281|10.475697', '17|30|Tuesday|WCH|0.0|RANDY|HAWKINS|388690|1290*TULLY*RD|95122|1642*MIDFIELD*AVE|95122|-121.8348388671875|37.31568908691406|-121.84122467041016|37.32992172241211|2.983824', '8|30|Tuesday|WCH|82.375|GURMUKH|SINGH|388709|1147*LEIGH*AVE|95126|14651*S*BASCOM*AVE|95032|-121.9232406616211|37.3030891418457|-121.95093536376952|37.25579833984375|5.512184', '13|15|Tuesday|WCH|88.675|JINYUAN|PANG|388702|2626*MUELLER*AVE|95116|2220*MOORPARK*AVE|95128|-121.84119415283205|37.365753173828125|-121.93367004394533|37.3155517578125|8.318918', '8|15|Tuesday|BWC|60.0|DONNA|MORILLO|388851|5140*EDENVIEW*DR|95111|393*BLOSSOM*HILL*RD|95123|-121.81166076660156|37.2621955871582|-121.82691192626952|37.25193786621094|2.517796', '5|0|Tuesday|WCH|42.5|MARIA|GARCIA|388691|371*ELAN*VILLAGE*LN|95134|888*S*BASCOM*AVE|95128|-121.92430877685548|37.39934158325195|-121.93148040771484|37.31127166748047|10.029552', '13|30|Tuesday|WCH|31.025|RENEE|KOUNTZ|388483|275*DI*SALVO*DR|95128|251*CURTNER*AVE|95008|-121.93729400634766|37.32392883300781|-121.9444580078125|37.2728157043457|4.867822', '10|0|Tuesday|WCH|35.75|CONNIE|GLORIA|388477|247*W*EL*CAMINO*REAL|94040|10150*TORRE*AVE|95014|-122.07916259765624|37.38294219970703|-122.0266571044922|37.32122421264648|6.955629', '13|15|Tuesday|STR|124.05|SURJIT|KAUR|390527|155*NORTH*WOLFE*ROAD|94086|685*IRIS*AVE|94086|-122.01404571533205|37.37662124633789|-122.02188873291016|37.3632698059082|1.775879', '10|0|Tuesday|BWC|99.2|HELEN|HILL|289726|5827*EL*ZUPARKO*DR|95123|2324*MONTPELIER*DR|95116|-121.86470794677734|37.24755096435547|-121.84795|37.364695|12.347267', '9|45|Tuesday|WCH|77.875|STEVIE|ZARAGOZA|390540|1124*PINE*AVE|95125|888*S*BASCOM*AVE|95128|-121.89418029785156|37.297828674316406|-121.93148040771484|37.31127166748047|3.531874', '9|30|Tuesday|WCH|60.2|PAUL|PENKE|388489|410*N*WINCHESTER*BLVD|95050|888*S*BASCOM*AVE|95128|-121.9509048461914|37.3343620300293|-121.93157196044922|37.311279296875|2.779393', '16|45|Tuesday|WCH|22.475|FIDELA|GUEVARA|388479|155*N*WOLFE*RD|94086|260*N*BAYVIEW*AVE|94086|-122.01404571533205|37.37662124633789|-122.02383422851562|37.38190460205078|1.05136', '11|45|Tuesday|WCH|47.0|PATRICIA|ADAMS|427973|751*S*BASCOM*AVE|95128|4511*RENAISSANCE*DR*APT*115|95134|-121.933506|37.313497|-121.95973205566406|37.41140365600586|12.016697', '12|0|Tuesday|BWC|99.2|HELEN|HILL|289726|2324*MONTPELIER*DR|95116|5827*EL*ZUPARKO*DR|95123|-121.84795|37.364695|-121.86470794677734|37.24755096435547|12.347267', '13|15|Tuesday|WCH|38.95|DAO|TRAN|390522|2501*ALVIN*AVE|95121|1450*S*WHITE*RD|95127|-121.82722473144533|37.318607330322266|-121.81301879882812|37.35033798217773|3.374667', '9|30|Tuesday|BWC|154.4|AING|MOEUNG|388852|1620*E*CAPITOL*EXPY|95121|879*PADOVA*DR|95020|-121.81209564208984|37.30604934692383|-121.59493255615234|37.02376937866211|26.139221', '14|0|Tuesday|WCH|33.5|JOSEPH|WILLIAMS|390539|1450*SOUTH*WHITE*ROAD|95127|35*S*13TH*ST|95112|-121.81342315673828|37.3503303527832|-121.87783813476562|37.34127426147461|5.957086', '8|15|Tuesday|WCH|48.375|AGUSTIN|CORTES|388526|1919*FRUITDALE*AVE|95128|888*S*BASCOM*AVE|95128|-121.92559051513672|37.31228256225586|-121.93157196044922|37.311279296875|1.496262', '9|45|Tuesday|WCH|24.95|LEONARDO|CATLI|390198|2220*MOORPARK*AVENUE|95128|1250*S*WINCHESTER*BLVD|95128|-121.93370819091795|37.31555938720703|-121.9492645263672|37.30254364013672|2.207732', '12|45|Tuesday|WCH|63.8|ERNESTO|CAYABYAB|339875|2501*ALVIN*AVE|95121|2121*ALEXIAN*DR|95116|-121.82721710205078|37.31859970092773|-121.84807586669922|37.3603744506836|4.384395', '15|0|Tuesday|WCH|56.55|AARON|WILLIAMS|388498|888*S*BASCOM*AVE|95128|2000*MONTEREY*HWY|95112|-121.931483|37.31127|-121.8635482788086|37.30686950683594|6.24913', '9|30|Tuesday|STR|199.05|SURJIT|KAUR|390527|685*IRIS*AVE|94086|155*NORTH*WOLFE*ROAD|94086|-122.02188873291016|37.3632698059082|-122.0140431|37.3766219|1.775879', '10|20|Tuesday|WCH|48.8|PHU|LUONG|428677|555*KNOWLES*DR|95032|2501*ALVIN*AVE|95121|-121.966127|37.262125|-121.82722473144533|37.318607330322266|12.780363', '16|15|Tuesday|WCH|29.9|ERNESTO|CAYABYAB|339875|2121*ALEXIAN*DR|95116|2501*ALVIN*AVE|95121|-121.84807586669922|37.3603744506836|-121.82721710205078|37.31859970092773|4.384395', '18|0|Tuesday|WCH|38.675|JINYUAN|PANG|388702|2220*MOORPARK*AVE|95128|2626*MUELLER*AVE|95116|-121.93367004394533|37.3155517578125|-121.84119415283205|37.365753173828125|8.318918', '9|45|Tuesday|WCH|80.9|PATRICIA|ADAMS|427973|4511*RENAISSANCE*DR*APT*115|95134|751*S*BASCOM*AVE|95128|-121.95973205566406|37.41140365600586|-121.933506|37.313497|12.016697', '9|25|Tuesday|WCH|64.925|RENEE|KOUNTZ|388483|251*CURTNER*AVE|95008|275*DI*SALVO*DR|95128|-121.9444580078125|37.2728157043457|-121.93729400634766|37.32392883300781|4.867822', '5|0|Tuesday|WCH|100.85|TRIA|XIONG|411690|3553*BROOKDALE*DR|95051|4360*STEVENS*CREEK*BLVD|95119|-121.99421691894533|37.34215927124024|-121.97903442382812|37.32246398925781|2.57869', '14|15|Tuesday|WCH|29.45|LUZ|NOLASCO|388488|247*W*EL*CAMINO*REAL|94040|1075*SPACE*PARK*WAY|94043|-122.07916259765624|37.38294219970703|-122.06958770751952|37.41511917114258|4.176236', '8|0|Tuesday|WCH|0.0|NORTH*1|AVENIDAS|424859|188*DUANE*ST|94062|270*ESCUELA*AVE|94040|-122.239831|37.484931|-122.0934066772461|37.39856719970703|13.170584', '8|0|Tuesday|WCH|0.0|SOUTH|AVENIDAS|429292|270*ESCUELA*AVE|94040|270*ESCUELA*AVE|94040|-122.0934066772461|37.39856719970703|-122.093403|37.398567|0.0', '18|30|Tuesday|WCH|32.15|ANNIE|GARCIA|429211|888*S*BASCOM*AVE|95128|1776*ALMADEN*RD|95125|-121.931383|37.31126|-121.87794494628906|37.30011749267578|5.432648', '8|0|Tuesday|WCH|83.5|JOSEPH|WILLIAMS|390539|35*S*13TH*ST|95112|1450*SOUTH*WHITE*ROAD|95127|-121.87783813476562|37.34127426147461|-121.81342315673828|37.3503303527832|5.957086', '13|30|Tuesday|WCH|0.0|RANDY|HAWKINS|388690|1642*MIDFIELD*AVE|95122|1290*TULLY*RD|95122|-121.84122467041016|37.32992172241211|-121.8348388671875|37.31568908691406|2.983824', '10|30|Tuesday|WCH|22.025|CHRISTINE|BALEKIAN|388994|340*NORTHLAKE*DR|95117|4360*STEVENS*CREEK*BLVD|95119|-121.96781158447266|37.322025299072266|-121.97903442382812|37.32246398925781|0.914658', '13|0|Tuesday|BWC|89.6|CHARLIE|THACH|388677|1216*FLICKINGER*AVE|95131|2220*MOORPARK*AVE|95128|-121.86927032470705|37.38211441040039|-121.93367004394533|37.3155517578125|9.891608', '13|0|Tuesday|WCH|100.175|SON|TRAN|390537|705*PINTO*DR|95111|1620*E*CAPITOL*EXPY|95121|-121.83203887939452|37.295745849609375|-121.81209564208984|37.30604934692383|2.259927', '9|0|Tuesday|WCH|76.625|JOHN|PETERSON|340106|1150*TILTON*DR|94087|2452*WATSON*CT|94303|-122.0330047607422|37.35652923583984|-122.120489|37.448482|10.089825', '13|45|Tuesday|WCH|42.325|JOSE|GARCIA|422014|465*WILLOW*GLEN*WAY|95125|888*S*BASCOM*AVE|95128|-121.88050842285156|37.30441284179688|-121.93148040771484|37.31127166748047|4.852288', '9|45|Tuesday|WCH|29.9|JESUS|TORRES*SIERRA|388496|1620*E*CAPITOL*EXPY|95121|1103*AUDUBON*DR|95122|-121.8120978|37.3060479|-121.84912109375|37.32672882080078|4.43659', '12|0|Tuesday|WCH|85.075|BENJAMIN|SALAZAR|417096|1851*E*WILLIAM*ST|95116|751*S*BASCOM*AVE|95128|-121.84862518310548|37.34988784790039|-121.933506|37.313497|6.674769', '9|0|Tuesday|WCH|25.85|TRIA|XIONG|411690|4360*STEVENS*CREEK*BLVD|95119|3553*BROOKDALE*DR|95051|-121.97903442382812|37.32246398925781|-121.99421691894533|37.34215927124024|2.57869', '9|45|Tuesday|WCH|42.5|MARIA|GARCIA|388691|888*S*BASCOM*AVE|95128|371*ELAN*VILLAGE*LN|95134|-121.93148040771484|37.31127166748047|-121.92430877685548|37.39934158325195|10.029552', '12|45|Tuesday|WCH|74.6|APARTMENTS|SHERIDAN|296803|11799*PAGE*MILL*RD|94022|360*SHERIDAN*AVE|94306|-122.17191657797584|37.36276045347866|-122.1418914794922|37.42572021484375|5.591098'], 'target': ['5|0|Tuesday|WCH|SC103|100.85|TRIA|XIONG|411690|3553*BROOKDALE*DR|95051|4360*STEVENS*CREEK*BLVD|95119|-121.99421691894533|37.34215927124024|-121.97903442382812|37.32246398925781|2.57869', '5|0|Tuesday|WCH|SC105|69.65|CONNIE|GLORIA|388477|10150*TORRE*AVE|95014|247*W*EL*CAMINO*REAL|94040|-122.0266571044922|37.32122421264648|-122.07916259765624|37.38294219970703|6.955629', '5|0|Tuesday|WCH|SC101|42.5|MARIA|GARCIA|388691|371*ELAN*VILLAGE*LN|95134|888*S*BASCOM*AVE|95128|-121.92430877685548|37.39934158325195|-121.93148040771484|37.31127166748047|10.029552', '5|15|Tuesday|BWC|SC301|154.4|AING|MOEUNG|388852|879*PADOVA*DR|95020|1620*E*CAPITOL*EXPY|95121|-121.59493255615234|37.02376937866211|-121.81209564208984|37.30604934692383|26.139221', '5|15|Tuesday|WCH|SC103|103.325|ANACLETO|RUANO|390534|831*GALE*DR|95008|2220*MOORPARK*AVENUE|95128|-121.96422576904295|37.29271697998047|-121.93370819091795|37.31555938720703|3.689702', '5|30|Tuesday|WCH|SC101|58.85|LEONARDO|CATLI|390198|1250*S*WINCHESTER*BLVD|95128|2220*MOORPARK*AVENUE|95128|-121.9492645263672|37.30254364013672|-121.93370819091795|37.31555938720703|2.207732', '5|30|Tuesday|WCH|SC105|63.8|JESUS|TORRES*SIERRA|388496|1103*AUDUBON*DR|95122|1620*E*CAPITOL*EXPY|95121|-121.84912109375|37.32672882080078|-121.8120978|37.3060479|4.43659', '5|45|Tuesday|BWC|SC101|77.2|GUILLERMO|MARRON|388574|781*SHARMON*PALMS*LN|95008|1450*KOOSER*RD|95118|-121.9619140625|37.27531433105469|-121.8917007446289|37.24549102783203|6.762383', '8|0|Tuesday|WCH|SC101|0.0|NORTH*1|AVENIDAS|424859|188*DUANE*ST|94062|270*ESCUELA*AVE|94040|-122.239831|37.484931|-122.0934066772461|37.39856719970703|13.170584', '8|0|Tuesday|WCH|SC102|66.825|MARK|QUINLAN|388541|2194*BRISTOLWOOD*LN|95132|2105*FOREST*AVE|95128|-121.86840057373048|37.41765594482422|-121.938406|37.3277|9.712653', '8|0|Tuesday|WCH|SC301|0.0|SOUTH|AVENIDAS|429292|270*ESCUELA*AVE|94040|270*ESCUELA*AVE|94040|-122.0934066772461|37.39856719970703|-122.093403|37.398567|0.0', '8|0|Tuesday|WCH|SC105|83.5|JOSEPH|WILLIAMS|390539|35*S*13TH*ST|95112|1450*SOUTH*WHITE*ROAD|95127|-121.87783813476562|37.34127426147461|-121.81342315673828|37.3503303527832|5.957086', '8|15|Tuesday|BWC|SC302|60.0|DONNA|MORILLO|388851|5140*EDENVIEW*DR|95111|393*BLOSSOM*HILL*RD|95123|-121.81166076660156|37.2621955871582|-121.82691192626952|37.25193786621094|2.517796', '8|15|Tuesday|WCH|SC107|48.375|AGUSTIN|CORTES|388526|1919*FRUITDALE*AVE|95128|888*S*BASCOM*AVE|95128|-121.92559051513672|37.31228256225586|-121.93157196044922|37.311279296875|1.496262', '8|30|Tuesday|BWC|SC105|93.6|FRANCISCA|MARTINEZ|388505|1869*LA*PORTE*AVE|95122|393*BLOSSOM*HILL*RD|95123|-121.8325653076172|37.33570861816406|-121.8270263671875|37.25196838378906|10.860326', '8|30|Tuesday|WCH|SC106|98.8|PHU|LUONG|428677|2501*ALVIN*AVE|95121|555*KNOWLES*DR|95032|-121.82722473144533|37.318607330322266|-121.966127|37.262125|12.780363', '8|30|Tuesday|WCH|SC107|82.375|GURMUKH|SINGH|388709|1147*LEIGH*AVE|95126|14651*S*BASCOM*AVE|95032|-121.9232406616211|37.3030891418457|-121.95093536376952|37.25579833984375|5.512184', '8|45|Tuesday|WCH|SC401|0.0|FESSAHAIE|KELETA|388482|649*UNIVERSITY*AVE|94301|1040*HAMILTON*COURT|94025|-122.15782165527344|37.45035552978516|-122.14830780029295|37.47801208496094|3.512611', '9|0|Tuesday|WCH|SC102|76.625|JOHN|PETERSON|340106|1150*TILTON*DR|94087|2452*WATSON*CT|94303|-122.0330047607422|37.35652923583984|-122.120489|37.448482|10.089825', '9|0|Tuesday|WCH|SC202|25.85|TRIA|XIONG|411690|4360*STEVENS*CREEK*BLVD|95119|3553*BROOKDALE*DR|95051|-121.97903442382812|37.32246398925781|-121.99421691894533|37.34215927124024|2.57869', '9|0|Tuesday|WCH|SC107|35.975|JENNY|CORONA|390520|725*RIDDER*PARK*DRIVE|95131|3621*LAFAYETTE*ST|95054|-121.9029541015625|37.37839889526367|-121.95233917236328|37.385990142822266|7.106001', '9|0|Tuesday|WCH|SC401|35.8|IVETA|VOLODARSKAYA|388497|460*N*SHORELINE*BLVD|94043|247*W*EL*CAMINO*REAL|94040|-122.0801010131836|37.401161193847656|-122.0791473388672|37.38299179077149|2.016971', '9|25|Tuesday|WCH|SC105|64.925|RENEE|KOUNTZ|388483|251*CURTNER*AVE|95008|275*DI*SALVO*DR|95128|-121.9444580078125|37.2728157043457|-121.93729400634766|37.32392883300781|4.867822', '9|30|Tuesday|WCH|SC104|60.2|PAUL|PENKE|388489|410*N*WINCHESTER*BLVD|95050|888*S*BASCOM*AVE|95128|-121.9509048461914|37.3343620300293|-121.93157196044922|37.311279296875|2.779393', '9|30|Tuesday|STR|SC202|199.05|SURJIT|KAUR|390527|685*IRIS*AVE|94086|155*NORTH*WOLFE*ROAD|94086|-122.02188873291016|37.3632698059082|-122.0140431|37.3766219|1.775879', '9|30|Tuesday|BWC|SC302|154.4|AING|MOEUNG|388852|1620*E*CAPITOL*EXPY|95121|879*PADOVA*DR|95020|-121.81209564208984|37.30604934692383|-121.59493255615234|37.02376937866211|26.139221', '9|30|Tuesday|WCH|SC107|79.1|BRIAN|MCNIFF|415878|410*N*WINCHESTER*BLVD|95050|1450*KOOSER*RD|95118|-121.9509048461914|37.3343620300293|-121.89146423339844|37.2454948425293|11.216371', '9|45|Tuesday|WCH|SC301|29.9|JESUS|TORRES*SIERRA|388496|1620*E*CAPITOL*EXPY|95121|1103*AUDUBON*DR|95122|-121.8120978|37.3060479|-121.84912109375|37.32672882080078|4.43659', '9|45|Tuesday|WCH|SC201|80.9|PATRICIA|ADAMS|427973|4511*RENAISSANCE*DR*APT*115|95134|751*S*BASCOM*AVE|95128|-121.95973205566406|37.41140365600586|-121.933506|37.313497|12.016697', '9|45|Tuesday|WCH|SC106|77.875|STEVIE|ZARAGOZA|390540|1124*PINE*AVE|95125|888*S*BASCOM*AVE|95128|-121.89418029785156|37.297828674316406|-121.93148040771484|37.31127166748047|3.531874', '9|45|Tuesday|WCH|SC104|42.5|MARIA|GARCIA|388691|888*S*BASCOM*AVE|95128|371*ELAN*VILLAGE*LN|95134|-121.93148040771484|37.31127166748047|-121.92430877685548|37.39934158325195|10.029552', '9|45|Tuesday|WCH|SC105|28.325|ANACLETO|RUANO|390534|2220*MOORPARK*AVENUE|95128|831*GALE*DR|95008|-121.93370819091795|37.31555938720703|-121.96422576904295|37.29271697998047|3.689702', '9|45|Tuesday|WCH|SC105|24.95|LEONARDO|CATLI|390198|2220*MOORPARK*AVENUE|95128|1250*S*WINCHESTER*BLVD|95128|-121.93370819091795|37.31555938720703|-121.9492645263672|37.30254364013672|2.207732', '10|0|Tuesday|WCH|SC101|35.75|CONNIE|GLORIA|388477|247*W*EL*CAMINO*REAL|94040|10150*TORRE*AVE|95014|-122.07916259765624|37.38294219970703|-122.0266571044922|37.32122421264648|6.955629', '10|0|Tuesday|BWC|SC107|99.2|HELEN|HILL|289726|5827*EL*ZUPARKO*DR|95123|2324*MONTPELIER*DR|95116|-121.86470794677734|37.24755096435547|-121.84795|37.364695|12.347267', '10|15|Tuesday|WCH|SC301|45.25|AARON|WILLIAMS|388498|2000*MONTEREY*HWY|95112|888*S*BASCOM*AVE|95128|-121.8635482788086|37.30686950683594|-121.931483|37.31127|6.24913', '10|15|Tuesday|WCH|SC102|63.35|LUZ|NOLASCO|388488|1075*SPACE*PARK*WAY|94043|247*W*EL*CAMINO*REAL|94040|-122.06958770751952|37.41511917114258|-122.07916259765624|37.38294219970703|4.176236', '10|20|Tuesday|WCH|SC106|48.8|PHU|LUONG|428677|555*KNOWLES*DR|95032|2501*ALVIN*AVE|95121|-121.966127|37.262125|-121.82722473144533|37.318607330322266|12.780363', '10|30|Tuesday|WCH|SC401|0.0|APARTMENTS|SHERIDAN|296803|360*SHERIDAN*AVE|94306|11799*PAGE*MILL*RD|94022|-122.1418914794922|37.42572021484375|-122.17191657797584|37.36276045347866|5.591098', '10|30|Tuesday|WCH|SC104|22.025|CHRISTINE|BALEKIAN|388994|340*NORTHLAKE*DR|95117|4360*STEVENS*CREEK*BLVD|95119|-121.96781158447266|37.322025299072266|-121.97903442382812|37.32246398925781|0.914658', '10|30|Tuesday|BWC|SC105|77.2|GUILLERMO|MARRON|388574|1450*KOOSER*RD|95118|781*SHARMON*PALMS*LN|95008|-121.8917007446289|37.24549102783203|-121.9619140625|37.27531433105469|6.762383', '11|0|Tuesday|WCH|SC102|42.725|JOHN|PETERSON|340106|2452*WATSON*CT|94303|1150*TILTON*DR|94087|-122.120489|37.448482|-122.0330047607422|37.35652923583984|10.089825', '11|45|Tuesday|WCH|SC101|47.0|PATRICIA|ADAMS|427973|751*S*BASCOM*AVE|95128|4511*RENAISSANCE*DR*APT*115|95134|-121.933506|37.313497|-121.95973205566406|37.41140365600586|12.016697', '12|0|Tuesday|WCH|SC301|85.075|BENJAMIN|SALAZAR|417096|1851*E*WILLIAM*ST|95116|751*S*BASCOM*AVE|95128|-121.84862518310548|37.34988784790039|-121.933506|37.313497|6.674769', '12|0|Tuesday|BWC|SC107|99.2|HELEN|HILL|289726|2324*MONTPELIER*DR|95116|5827*EL*ZUPARKO*DR|95123|-121.84795|37.364695|-121.86470794677734|37.24755096435547|12.347267', '12|0|Tuesday|STR|SC202|225.825|NANCY|LE|388622|1109*FOX*HOLLOW*CT|95035|2660*GRANT*RD|94040|-121.88970947265624|37.44872283935547|-122.078474|37.366508|13.690671', '12|15|Tuesday|WCH|SC302|48.375|AGUSTIN|CORTES|388526|888*S*BASCOM*AVE|95128|1919*FRUITDALE*AVE|95128|-121.93157196044922|37.311279296875|-121.92559051513672|37.31228256225586|1.496262', '12|30|Tuesday|WCH|SC102|56.375|FIDELA|GUEVARA|388479|260*N*BAYVIEW*AVE|94086|155*N*WOLFE*RD|94086|-122.02383422851562|37.38190460205078|-122.01404571533205|37.37662124633789|1.05136', '12|45|Tuesday|WCH|SC105|26.3|PAUL|PENKE|388489|888*S*BASCOM*AVE|95128|410*N*WINCHESTER*BLVD|95050|-121.93157196044922|37.311279296875|-121.9509048461914|37.3343620300293|2.779393', '12|45|Tuesday|WCH|SC302|63.8|ERNESTO|CAYABYAB|339875|2501*ALVIN*AVE|95121|2121*ALEXIAN*DR|95116|-121.82721710205078|37.31859970092773|-121.84807586669922|37.3603744506836|4.384395', '12|45|Tuesday|WCH|SC401|74.6|APARTMENTS|SHERIDAN|296803|11799*PAGE*MILL*RD|94022|360*SHERIDAN*AVE|94306|-122.17191657797584|37.36276045347866|-122.1418914794922|37.42572021484375|5.591098', '13|0|Tuesday|WCH|SC102|56.825|JAMIE|BORDEN|418938|1023*REED*AVE|94086|660*S*FAIR*OAKS*AVE|94086|-122.0051040649414|37.36700439453125|-122.0236567|37.36443|1.307986', '13|0|Tuesday|WCH|SC301|100.175|SON|TRAN|390537|705*PINTO*DR|95111|1620*E*CAPITOL*EXPY|95121|-121.83203887939452|37.295745849609375|-121.81209564208984|37.30604934692383|2.259927', '13|0|Tuesday|BWC|SC104|89.6|CHARLIE|THACH|388677|1216*FLICKINGER*AVE|95131|2220*MOORPARK*AVE|95128|-121.86927032470705|37.38211441040039|-121.93367004394533|37.3155517578125|9.891608', '13|0|Tuesday|WCH|SC105|32.375|GURMUKH|SINGH|388709|14651*S*BASCOM*AVE|95032|1147*LEIGH*AVE|95126|-121.95093536376952|37.25579833984375|-121.9232406616211|37.3030891418457|5.512184', '13|15|Tuesday|BWC|SC106|93.6|FRANCISCA|MARTINEZ|388505|393*BLOSSOM*HILL*RD|95123|1869*LA*PORTE*AVE|95122|-121.8270263671875|37.25196838378906|-121.8325653076172|37.33570861816406|10.860326', '13|15|Tuesday|WCH|SC302|38.95|DAO|TRAN|390522|2501*ALVIN*AVE|95121|1450*S*WHITE*RD|95127|-121.82722473144533|37.318607330322266|-121.81301879882812|37.35033798217773|3.374667', '13|15|Tuesday|WCH|SC104|88.675|JINYUAN|PANG|388702|2626*MUELLER*AVE|95116|2220*MOORPARK*AVE|95128|-121.84119415283205|37.365753173828125|-121.93367004394533|37.3155517578125|8.318918', '13|15|Tuesday|STR|SC205|124.05|SURJIT|KAUR|390527|155*NORTH*WOLFE*ROAD|94086|685*IRIS*AVE|94086|-122.01404571533205|37.37662124633789|-122.02188873291016|37.3632698059082|1.775879', '13|15|Tuesday|BWC|SC106|60.0|DONNA|MORILLO|388851|393*BLOSSOM*HILL*RD|95123|5140*EDENVIEW*DR|95111|-121.82691192626952|37.25193786621094|-121.81166076660156|37.2621955871582|2.517796', '13|15|Tuesday|STR|SC204|218.625|MINH|NGUYEN|390530|984*TAJI*CT|95122|125*CIRO*AVE|95128|-121.84486389160156|37.31890487670898|-121.938565|37.326281|10.475697', '13|30|Tuesday|WCH|SC102|31.025|RENEE|KOUNTZ|388483|275*DI*SALVO*DR|95128|251*CURTNER*AVE|95008|-121.93729400634766|37.32392883300781|-121.9444580078125|37.2728157043457|4.867822', '13|30|Tuesday|WCH|SC401|0.0|FESSAHAIE|KELETA|388482|1040*HAMILTON*COURT|94025|649*UNIVERSITY*AVE|94301|-122.14830780029295|37.47801208496094|-122.15782165527344|37.45035552978516|3.512611', '13|30|Tuesday|WCH|SC301|0.0|RANDY|HAWKINS|388690|1642*MIDFIELD*AVE|95122|1290*TULLY*RD|95122|-121.84122467041016|37.32992172241211|-121.8348388671875|37.31568908691406|2.983824', '13|45|Tuesday|WCH|SC105|42.325|JOSE|GARCIA|422014|465*WILLOW*GLEN*WAY|95125|888*S*BASCOM*AVE|95128|-121.88050842285156|37.30441284179688|-121.93148040771484|37.31127166748047|4.852288', '14|0|Tuesday|WCH|SC302|33.5|JOSEPH|WILLIAMS|390539|1450*SOUTH*WHITE*ROAD|95127|35*S*13TH*ST|95112|-121.81342315673828|37.3503303527832|-121.87783813476562|37.34127426147461|5.957086', '14|0|Tuesday|WCH|SC108|0.0|NORTH*1|AVENIDAS|424859|270*ESCUELA*AVE|94040|188*DUANE*ST|94062|-122.0934066772461|37.39856719970703|-122.239831|37.484931|13.170584', '14|0|Tuesday|WCH|SC301|0.0|SOUTH|AVENIDAS|429292|270*ESCUELA*AVE|94040|270*ESCUELA*AVE|94040|-122.0934066772461|37.39856719970703|-122.093403|37.398567|0.0', '14|0|Tuesday|STR|SC202|150.825|NANCY|LE|388622|2660*GRANT*RD|94040|1109*FOX*HOLLOW*CT|95035|-122.078474|37.366508|-121.88970947265624|37.44872283935547|13.690671', '14|15|Tuesday|WCH|SC401|29.45|LUZ|NOLASCO|388488|247*W*EL*CAMINO*REAL|94040|1075*SPACE*PARK*WAY|94043|-122.07916259765624|37.38294219970703|-122.06958770751952|37.41511917114258|4.176236', '14|30|Tuesday|WCH|SC106|22.925|JAMIE|BORDEN|418938|660*S*FAIR*OAKS*AVE|94086|1023*REED*AVE|94086|-122.0236567|37.36443|-122.0051040649414|37.36700439453125|1.307986', '14|30|Tuesday|WCH|SC107|54.75|ANNIE|GARCIA|429211|1776*ALMADEN*RD|95125|888*S*BASCOM*AVE|95128|-121.87794494628906|37.30011749267578|-121.931383|37.31126|5.432648', '15|0|Tuesday|WCH|SC302|27.875|STEVIE|ZARAGOZA|390540|888*S*BASCOM*AVE|95128|1124*PINE*AVE|95125|-121.93148040771484|37.31127166748047|-121.89418029785156|37.297828674316406|3.531874', '15|0|Tuesday|WCH|SC104|45.2|BRIAN|MCNIFF|415878|1450*KOOSER*RD|95118|410*N*WINCHESTER*BLVD|95050|-121.89146423339844|37.2454948425293|-121.9509048461914|37.3343620300293|11.216371', '15|0|Tuesday|WCH|SC107|56.55|AARON|WILLIAMS|388498|888*S*BASCOM*AVE|95128|2000*MONTEREY*HWY|95112|-121.931483|37.31127|-121.8635482788086|37.30686950683594|6.24913', '15|15|Tuesday|STR|SC204|143.625|MINH|NGUYEN|390530|125*CIRO*AVE|95128|984*TAJI*CT|95122|-121.938565|37.326281|-121.84486389160156|37.31890487670898|10.475697', '15|30|Tuesday|WCH|SC104|0.0|CHRISTINE|BALEKIAN|388994|4360*STEVENS*CREEK*BLVD|95119|340*NORTHLAKE*DR|95117|-121.97903442382812|37.32246398925781|-121.96781158447266|37.322025299072266|0.914658', '16|0|Tuesday|WCH|SC108|35.075|BENJAMIN|SALAZAR|417096|751*S*BASCOM*AVE|95128|1851*E*WILLIAM*ST|95116|-121.933506|37.313497|-121.84862518310548|37.34988784790039|6.674769', '16|15|Tuesday|WCH|SC302|29.9|ERNESTO|CAYABYAB|339875|2121*ALEXIAN*DR|95116|2501*ALVIN*AVE|95121|-121.84807586669922|37.3603744506836|-121.82721710205078|37.31859970092773|4.384395', '16|45|Tuesday|WCH|SC106|22.475|FIDELA|GUEVARA|388479|155*N*WOLFE*RD|94086|260*N*BAYVIEW*AVE|94086|-122.01404571533205|37.37662124633789|-122.02383422851562|37.38190460205078|1.05136', '17|0|Tuesday|WCH|SC108|50.25|DAO|TRAN|390522|1450*S*WHITE*RD|95127|2501*ALVIN*AVE|95121|-121.81301879882812|37.35033798217773|-121.82722473144533|37.318607330322266|3.374667', '17|15|Tuesday|WCH|SC302|25.175|SON|TRAN|390537|1620*E*CAPITOL*EXPY|95121|705*PINTO*DR|95111|-121.81209564208984|37.30604934692383|-121.83203887939452|37.295745849609375|2.259927', '17|30|Tuesday|WCH|SC108|0.0|RANDY|HAWKINS|388690|1290*TULLY*RD|95122|1642*MIDFIELD*AVE|95122|-121.8348388671875|37.31568908691406|-121.84122467041016|37.32992172241211|2.983824', '18|0|Tuesday|WCH|SC104|38.675|JINYUAN|PANG|388702|2220*MOORPARK*AVE|95128|2626*MUELLER*AVE|95116|-121.93367004394533|37.3155517578125|-121.84119415283205|37.365753173828125|8.318918', '18|0|Tuesday|BWC|SC104|89.6|CHARLIE|THACH|388677|2220*MOORPARK*AVE|95128|1216*FLICKINGER*AVE|95131|-121.93367004394533|37.3155517578125|-121.86927032470705|37.38211441040039|9.891608', '18|30|Tuesday|WCH|SC108|32.15|ANNIE|GARCIA|429211|888*S*BASCOM*AVE|95128|1776*ALMADEN*RD|95125|-121.931383|37.31126|-121.87794494628906|37.30011749267578|5.432648']}\""
            ],
            "application/vnd.google.colaboratory.intrinsic+json": {
              "type": "string"
            }
          },
          "metadata": {},
          "execution_count": 310
        }
      ]
    },
    {
      "cell_type": "code",
      "source": [
        "tokenized_datasets"
      ],
      "metadata": {
        "colab": {
          "base_uri": "https://localhost:8080/"
        },
        "id": "5uuAO0gPL7ZM",
        "outputId": "7d0bb3ce-20d9-4d7c-da55-322fddc8573e"
      },
      "execution_count": 311,
      "outputs": [
        {
          "output_type": "execute_result",
          "data": {
            "text/plain": [
              "DatasetDict({\n",
              "    train: Dataset({\n",
              "        features: ['input_ids', 'attention_mask', 'labels'],\n",
              "        num_rows: 280\n",
              "    })\n",
              "    test: Dataset({\n",
              "        features: ['input_ids', 'attention_mask', 'labels'],\n",
              "        num_rows: 70\n",
              "    })\n",
              "})"
            ]
          },
          "metadata": {},
          "execution_count": 311
        }
      ]
    },
    {
      "cell_type": "code",
      "source": [
        "# input id tokens [505, 9175, 2128, 9175, 35524, 1820, 36604, 1820, 36722, 1820, 39638, 1820, 32518, 1820, ...]\n",
        "tokenizer.decode(tokenized_datasets['train'][1]['input_ids'])"
      ],
      "metadata": {
        "colab": {
          "base_uri": "https://localhost:8080/",
          "height": 104
        },
        "id": "0Vd7DTSXhRSK",
        "outputId": "73b6ce2e-661f-46cc-c7c7-0768d495ad8f"
      },
      "execution_count": 314,
      "outputs": [
        {
          "output_type": "execute_result",
          "data": {
            "text/plain": [
              "'12|15|Thursday |BWC |187.72 |CARMEN |VILLA |388698 |2885*JOSEPH*AVE |95008 |393*BLOSSOM*HILL*RD |95123 |-121.94012451171876 |37.26993179321289 |-121.8270263671875 |37.25196838378906 |9.431793 12|0|Thursday |WCH |55.0 |APARTMENTS |SHERIDAN |296803 |1350*GRANT*RD |94040 |360*SHERIDAN*AVE |94306 |-122.076815 |37.377221 |-122.1418914794922 |37.42572021484375 |8.661293 5|15|Thursday |WCH |105.305 |AN|TO|439288 |1430*BAL*HARBOR*WAY |95122 |1620*E*CAPITOL*EXPY |95121 |-121.83535766601562 |37.33702850341797 |-121.81138610839844 |37.305171966552734 |4.575156 5|15|Thursday |WCH |104.3375 |JUAN |MURGUIA |433433 |987*PREVOST*ST |95125 |</s>'"
            ],
            "application/vnd.google.colaboratory.intrinsic+json": {
              "type": "string"
            }
          },
          "metadata": {},
          "execution_count": 314
        }
      ]
    },
    {
      "cell_type": "code",
      "source": [
        "# label tokens [305, 9175, 1808, 9175, 35524, 1820, 39055, 1820, 39119, 1820, 35073, 1820, 5033, 9175, 5647, ...]\n",
        "tokenized_datasets['train'][0]['labels']\n",
        "tokenizer.decode(tokenized_datasets['train'][1]['labels'])"
      ],
      "metadata": {
        "colab": {
          "base_uri": "https://localhost:8080/",
          "height": 122
        },
        "id": "XvhPIIexNCPL",
        "outputId": "be15543b-540a-49fb-f295-5f3314c037bf"
      },
      "execution_count": 315,
      "outputs": [
        {
          "output_type": "execute_result",
          "data": {
            "text/plain": [
              "'5|15|Thursday |WCH |SC103 |105.305 |AN|TO|439288 |1430*BAL*HARBOR*WAY |95122 |1620*E*CAPITOL*EXPY |95121 |-121.83535766601562 |37.33702850341797 |-121.81138610839844 |37.305171966552734 |4.575156 5|15|Thursday |WCH |SC105 |104.3375 |JUAN |MURGUIA |433433 |987*PREVOST*ST |95125 |888*S*BASCOM*AVE |95128 |-121.89128875732422 |37.314491271972656 |-121.93148040771484 |37.31127166748047 |4.150138 5|30|Thursday |WCH |SC106 |103.3025 |ANACLETO |RUANO |390534 |831*GALE*DR |95008 |2220*MOORPARK*AVENUE |95128 |-121.96422576904295 |37.29271697998047 |-121.93370819091795 |37.31555938720703 |3.689702 5|45|Thursday |BWC |SC105 |177.04 |GUILLERMO |</s>'"
            ],
            "application/vnd.google.colaboratory.intrinsic+json": {
              "type": "string"
            }
          },
          "metadata": {},
          "execution_count": 315
        }
      ]
    },
    {
      "cell_type": "code",
      "source": [
        "len(tokenized_datasets['train'][1]['input_ids']), len(tokenized_datasets['train'][1]['labels'])"
      ],
      "metadata": {
        "colab": {
          "base_uri": "https://localhost:8080/"
        },
        "id": "rrnn4RBqQSQ-",
        "outputId": "1bb6ff80-bed6-40af-e391-39db82b6ec16"
      },
      "execution_count": 316,
      "outputs": [
        {
          "output_type": "execute_result",
          "data": {
            "text/plain": [
              "(120, 120)"
            ]
          },
          "metadata": {},
          "execution_count": 316
        }
      ]
    },
    {
      "cell_type": "markdown",
      "source": [
        "Make sure runtime is GPU after here."
      ],
      "metadata": {
        "id": "BLJnIxCWkUbI"
      }
    },
    {
      "cell_type": "code",
      "source": [
        "model = AutoModelForSeq2SeqLM.from_pretrained(checkpoint)"
      ],
      "metadata": {
        "id": "NBB6IFyfREXe"
      },
      "execution_count": 317,
      "outputs": []
    }
  ]
}